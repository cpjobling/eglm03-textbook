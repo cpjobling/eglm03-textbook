{
 "cells": [
  {
   "cell_type": "markdown",
   "metadata": {
    "slideshow": {
     "slide_type": "slide"
    }
   },
   "source": [
    "# EGLM03 Modern Control Systems\n",
    "\n",
    "## Introduction to the Module\n",
    "\n",
    "**Read before the first class**\n",
    "\n",
    "Dr Chris P. Jobling [c.p.jobling@swansea.ac.uk](mailto:c.p.jobling@swansea.ac.uk)"
   ]
  },
  {
   "cell_type": "markdown",
   "metadata": {
    "slideshow": {
     "slide_type": "slide"
    }
   },
   "source": [
    "### Intended Learning Outcomes\n",
    "\n",
    "After watching the screencast of this presentation you will have better understanding about what you will learn in this module and how we plan to support your learning and its assessment."
   ]
  },
  {
   "cell_type": "markdown",
   "metadata": {
    "slideshow": {
     "slide_type": "slide"
    }
   },
   "source": [
    "### About this Introduction!\n",
    "\n",
    "* Aims\n",
    "* Learning outcomes\n",
    "* Content\n",
    "* Assessment\n",
    "* Teaching Methods\n",
    "* Textbooks\n",
    "* Website"
   ]
  },
  {
   "cell_type": "markdown",
   "metadata": {
    "slideshow": {
     "slide_type": "slide"
    }
   },
   "source": [
    "### Aims\n",
    "\n",
    "This module introduces ideas in modern control systems and their applications."
   ]
  },
  {
   "cell_type": "markdown",
   "metadata": {
    "slideshow": {
     "slide_type": "slide"
    }
   },
   "source": [
    "## Module Learning Outcomes\n",
    "\n",
    "You should be able to:\n",
    "\n",
    "* Model a system in your domain and run simulations. \n",
    "* Analyze the linearized models for such systems and devise a control strategy based on conventional or state-space methods. \n",
    "* Implement such control systems as digital controllers."
   ]
  },
  {
   "cell_type": "markdown",
   "metadata": {
    "slideshow": {
     "slide_type": "slide"
    }
   },
   "source": [
    "### Transferable Skills\n",
    "\n",
    "You will have:\n",
    "\n",
    "* Performed system modelling and simulation using industrial standard computer-aided control systems design tools. \n",
    "* Employed your mathematical analysis and problem solving skills to solve control problems. \n",
    "* Made use of your research and communication skills.\n"
   ]
  },
  {
   "cell_type": "markdown",
   "metadata": {
    "slideshow": {
     "slide_type": "slide"
    }
   },
   "source": [
    "### Module Content\n",
    "\n",
    "Topics to be covered:\n",
    "    \n",
    "* Modeling\n",
    "* Simulation\n",
    "* Design\n",
    "* Digital systems and the z-transform\n",
    "* State space methods\n",
    "* Applications (coursework)\n"
   ]
  },
  {
   "cell_type": "markdown",
   "metadata": {
    "slideshow": {
     "slide_type": "slide"
    }
   },
   "source": [
    "### Assessment\n",
    "\n",
    "* Examination (as an individual): 70%\n",
    "* System Modelling (in pairs): 10%\n",
    "* Computer-aided control systems analysis and design (in groups): 15%\n",
    "* Peer learning (as a course cohort): 5% \n"
   ]
  },
  {
   "cell_type": "markdown",
   "metadata": {
    "slideshow": {
     "slide_type": "slide"
    }
   },
   "source": [
    "### Website\n",
    "\n",
    "* Blackboard \"Managed Learning Environment\" used.\n",
    "* Will have screen-casts, course notes, examples, supplementary materials and hand-outs, Matlab tutorials, past examination papers*, and links to interesting web sites … built up as course given.\n",
    "* Also provides course calendar, discussion boards, module email list, and a twitter back channel.\n",
    "* Coursework topics and module announcements will be posted there!\n"
   ]
  },
  {
   "cell_type": "markdown",
   "metadata": {
    "slideshow": {
     "slide_type": "slide"
    }
   },
   "source": [
    "### Recap\n",
    "\n",
    "Having watched the screencast of this presentation I hope that you now have a better understanding about what you will learn in this module and how we plan to support your learning and its assessment.\n",
    "\n",
    "Please note that there are some additional activities to perform before the first class and you’ll find these on Blackboard.\n",
    "\n",
    "We will go over some of the results of that pre-class activity during the first session.\n"
   ]
  }
 ],
 "metadata": {
  "celltoolbar": "Slideshow",
  "kernelspec": {
   "display_name": "Python 3",
   "language": "python",
   "name": "python3"
  },
  "language_info": {
   "codemirror_mode": {
    "name": "ipython",
    "version": 3
   },
   "file_extension": ".py",
   "mimetype": "text/x-python",
   "name": "python",
   "nbconvert_exporter": "python",
   "pygments_lexer": "ipython3",
   "version": "3.8.5"
  }
 },
 "nbformat": 4,
 "nbformat_minor": 2
}
