{
 "cells": [
  {
   "cell_type": "markdown",
   "metadata": {},
   "source": [
    "# Homework 9: Pole Placement and Observers\n",
    "\n",
    "## Problems\n",
    "\n",
    "### Pole Placement\n",
    "\n",
    "1. A system with input signal $u$ and output signal $y$ is described by the differential equation:\n",
    "  \n",
    "   $$\\frac{d^3y}{dt^3} + 20 \\frac{d^2y}{dt^2} + 109 \\frac{dy}{dt} + 90y = \\frac{du}{dt} + 8u.$$\n",
    "\n",
    "   Design a controller for this system so that the closed-loop system poles have the Butterworth configuration:\n",
    "   \n",
    "   $$s=-10,\\;s=-5+j8.667\\;s=-5-j8.667.$$\n",
    "   \n",
    "   [Ans: $\\mathbf{K} = [0\\; 91\\; 910]\\;$]\n",
    "\n",
    "\n",
    "2. A system with input signal $u$ and output signal $y$ has the transfer function:\n",
    "\n",
    "   $$\\frac{s+1}{s(s^2 + 2s + 2)}.$$\n",
    "\n",
    "   Design a controller for this system so that the closed-loop system transfer function is reduced to second\n",
    "   order, with the two poles at:\n",
    "    \n",
    "   $$s -2 + j2\\; -2 -j2.$$\n",
    " \n",
    "   [Ans: $\\mathbf{K} = [3\\; 10\\; 8]\\;$]\n",
    "\n",
    "### Observers\n",
    "\n",
    "3. A system with input signal $u$ and output signal $y$ is described by the differential equation:\n",
    "\n",
    "   $$\\frac{d^3y}{dt^3} + 20 \\frac{d^2y}{dt^2} + 109 \\frac{dy}{dt} + 90y = \\frac{du}{dt} + 8u.$$\n",
    "\n",
    "   If the output signal $y$ is the only measurable signal in the system, design an observer with three poles at      $s = -20$ which will generate estimates of the state variables of the system. (Use observer canonical form).\n",
    "\n",
    "   [Ans: $\\mathbf{L} = [40\\;1091\\;7910]^T\\;$]\n",
    "\n",
    "\n",
    "4. A system with input signal $u$ and output signal $y$ has the transfer function:\n",
    "\n",
    "   $$\\frac{1}{s(s+1)}.$$\n",
    "\n",
    "   If the output signal $y$ is the only measurable signal in the system, design an observer with two poles at $s=-10$ which will generate estimates of the state variables of the system. (Use observer canonical form). Show that the differences between the actual and the estimated states decay to zero with time.\n",
    "   \n",
    "   [Ans: $\\mathbf{L} = [19\\;100]^T\\;$]"
   ]
  }
 ],
 "metadata": {
  "kernelspec": {
   "display_name": "MATLAB",
   "language": "matlab",
   "name": "imatlab"
  },
  "language_info": {
   "codemirror_mode": "octave",
   "file_extension": ".m",
   "mimetype": "text/x-matlab",
   "name": "matlab",
   "nbconvert_exporter": "imatlab._exporter.MatlabExporter",
   "pygments_lexer": "matlab",
   "version": "9.9.0.1467703 (R2020b)"
  }
 },
 "nbformat": 4,
 "nbformat_minor": 2
}
