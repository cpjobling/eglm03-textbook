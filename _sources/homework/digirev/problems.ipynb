{
 "cells": [
  {
   "cell_type": "markdown",
   "metadata": {},
   "source": [
    "# Homework 6: Digital Systems Revision\n",
    "\n",
    "## Problems\n",
    "\n",
    "1. Given that $z = e^{sT} = e^{\\sigma T} \\angle \\pm \\omega T$, where $T$ is the sampling period of a digital system, show that\n",
    "\n",
    "    a. points with frequencies of $\\pm\\omega_s/2$ (where $\\omega_s$ is the sampling rate $2\\pi/T$) in the s-domain map\n",
    "onto the negative real axis in the z-domain.\n",
    "\n",
    "    b. the imaginary axis in the s-domain maps onto the unit circle $$\\left|z\\right| = 1$$ in the z-domain\n",
    "    \n",
    "    c. lines of constant $\\sigma$ in the s-domain map onto concentric circles centred at $z = 0$ in the\n",
    "z-domain\n",
    "\n",
    "    d. lines of constant frequency in the s-domain map onto radial lines centred at $z = 0$ in the\n",
    "z-domain.\n",
    "\n",
    "    Derive equations for curves of constant second-order damping ratio $\\zeta$ and natural frequency $\\omega_n$\n",
    "in the z-domain. Comment on the effect of high sampling rates on the poles of a discrete system.\n",
    "\n",
    "2. Determine the z-transform of the function $f(t) = e^{-at}$, where $a$ is real $> 0$.\n",
    "\n",
    "3. Given that $$G(s) = \\frac{s+4}{(s+1)(s+3)},$$ determine $G(z)$. [*Hint*: determine $g(t)$ first.]\n",
    "\n",
    "4. A discrete transfer function $G(z)$ is given by $$G(z) = \\frac{0.387z^2}{(z-1)(z^2 - 2.37z + 025)}.$$\n",
    "Determine the value of $g(nT)$ as $nT \\rightarrow \\infty$.\n",
    "\n",
    "5. Use long division to find the inverse z-transform of $$F(z)=\\frac{\\left(1-e^{-aT}\\right)z}{z^2 - \\left(1-e^{-aT}\\right)z + e^{-aT}}$$.\n",
    "\n",
    "6. The system type of a unity gain feedback digital control system $$\\frac{C(z)}{R(z)} = \\frac{G_o(z)}{1 + G_o(z)}$$ is given by the number of poles at $z = 1$. Thus a Type 0 system has no poles at $z = 1$, a Type\n",
    "1 system has one, and so on. Use the discrete version of the final value theorem\n",
    "$$\\lim_{n\\rightarrow \\infty} x(nT) = \\lim_{z \\rightarrow 1}\\left(1-z^{-1}\\right)X(z)$$ to derive formulae for the steady-state error of a digital control system to step, ramp and parabolic inputs.\n",
    "\n",
    "7. (not examinable) Apply Jury's test (MATLAB function `jury`) to determine if the following characteristic\n",
    "equations have any roots outside the unit circle:\n",
    "\n",
    "    a. $z^2 + 0.25 = 0$\n",
    "\n",
    "    b. $z^3 - 1.1z^2 + 0.01z + 0.405 = 0$\n",
    "    \n",
    "    c. $z^3 - 3.6z^2 + 4z - 1.6 = 0$."
   ]
  }
 ],
 "metadata": {
  "kernelspec": {
   "display_name": "MATLAB",
   "language": "matlab",
   "name": "imatlab"
  },
  "language_info": {
   "codemirror_mode": "octave",
   "file_extension": ".m",
   "mimetype": "text/x-matlab",
   "name": "matlab",
   "nbconvert_exporter": "imatlab._exporter.MatlabExporter",
   "pygments_lexer": "matlab",
   "version": "9.9.0.1467703 (R2020b)"
  }
 },
 "nbformat": 4,
 "nbformat_minor": 2
}
