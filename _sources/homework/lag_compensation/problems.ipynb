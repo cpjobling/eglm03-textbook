{
 "cells": [
  {
   "cell_type": "markdown",
   "metadata": {},
   "source": [
    "#### Swansea University\n",
    "#### College of Engineering\n",
    "\n",
    "## EGLM03 Modern Control Systems\n",
    "\n",
    "# Homework 3: Lag Compensation"
   ]
  },
  {
   "cell_type": "markdown",
   "metadata": {},
   "source": [
    "## Problems\n",
    "\n",
    "1. A satellite attitude control system has an open-loop transfer function\n",
    "\n",
    "    $$G_o(s)=\\frac{4(s+2)}{s}$$\n",
    "\n",
    "   determine the low frequency gain required to ensure that the steady-state error to a constant acceleration input of 1 rad/s<sup>2</sup> is 1/40 rad. Design a lag compensator to give the required low frequency gain."
   ]
  },
  {
   "cell_type": "markdown",
   "metadata": {},
   "source": [
    "2. A plant has a transfer function\n",
    "\n",
    "    $$G(s) = \\frac{K}{s(s+10)^2}$$\n",
    "\n",
    "   The velocity constant $K_v$ of a feedback control system for this plant is to be 20, while  the  damping ratio $\\zeta$ of the dominant second-order closed-loop poles is to be 0.707. Design a lag compensator to achieve this specification.\n",
    "   "
   ]
  },
  {
   "cell_type": "markdown",
   "metadata": {},
   "source": [
    "3. A numerical path-controlled turret lathe control system is illustrated in Figure 1. The gear ratio is $n = 0.1$, the motor inertia is $J = 10^{- 3}$ kg.m<sup>2</sup> and  the motor resistance is $R = 10^{-2}$ Nm/(rad/s). It is necessary to attain an accuracy of 0.5 thousandths of an inch in the position of the cutting tool relative to the workpiece and therefore a position accuracy of 1% is required for a ramp input. Design a cascade controller, to be inserted before the silicon-controlled-rectifiers (SCRs), in order to provide a step command with an overshoot of less than 2%. A suitable damping ratio for the system is 0.8. The gain of the SCRs is $K_r = 5$.\n",
    "\n",
    "![figure 1](fig01.png)\n",
    "<div style=\"text-align:center\">Figure 1</div>"
   ]
  }
 ],
 "metadata": {
  "kernelspec": {
   "display_name": "Matlab",
   "language": "matlab",
   "name": "matlab"
  },
  "language_info": {
   "codemirror_mode": "octave",
   "file_extension": ".m",
   "help_links": [
    {
     "text": "MetaKernel Magics",
     "url": "https://github.com/calysto/metakernel/blob/master/metakernel/magics/README.md"
    }
   ],
   "mimetype": "text/x-octave",
   "name": "matlab",
   "version": "0.15.2"
  }
 },
 "nbformat": 4,
 "nbformat_minor": 2
}
