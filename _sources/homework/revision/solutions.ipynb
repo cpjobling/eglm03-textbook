{
 "cells": [
  {
   "cell_type": "markdown",
   "metadata": {
    "slideshow": {
     "slide_type": "slide"
    }
   },
   "source": [
    "# Solutions 1: Revision"
   ]
  },
  {
   "cell_type": "markdown",
   "metadata": {
    "slideshow": {
     "slide_type": "subslide"
    }
   },
   "source": [
    "## Solutions\n",
    " "
   ]
  },
  {
   "cell_type": "markdown",
   "metadata": {
    "slideshow": {
     "slide_type": "subslide"
    }
   },
   "source": [
    "1.\tThe closed-loop characteristic equation is given  by  the  formula  $1 + GH (s) = 0$.  Hence: \n",
    "\n",
    "    1. $s + 2 = 0$; $s^2 + 3s + 3 = 0$; $s + 1 = 0$.\n",
    "    2. $s(s + 1)(s^2 + s + 1) + K(s + 2)(s + 1) = 0$."
   ]
  },
  {
   "cell_type": "markdown",
   "metadata": {
    "slideshow": {
     "slide_type": "subslide"
    }
   },
   "source": [
    "2.\tThe stability problem may be solved by Routh-Hurwitz. Char. eqn. is:\n",
    "\n",
    "    $$1+G(s)=(s+1)(s-5)+K(s+2) = 0$$\n",
    "    \n",
    "    $$s^2 + (K-4)s + (2K-5) = 0$$\n",
    "\n",
    "    Routh array is:\n",
    "    \n",
    "    $$\\begin{array}{*{20}{c}}\n",
    "    {{s^2}}&1&{2K - 5}\\\\\n",
    "    {{s^1}}&{K - 4}&0\\\\\n",
    "    {{s^0}}&{\\frac{{ - \\left| {\\begin{array}{*{20}{c}}\n",
    "    1&{2K - 5}\\\\\n",
    "    {K - 4}&0\n",
    "    \\end{array}} \\right|}}{{K - 4}} = 2K - 5}&0\n",
    "    \\end{array}$$\n",
    "    \n",
    "    First column of Routh array is $[1, K - 4, 2K - 5]$. There is one sign change (one untsable pole) if \n",
    "    $2K - 5 < 0$, ie. $0 < K < 5/2$. There are two sign changes (two unstable poles) if $K - 4 < 0$, i.e. $K < 4$.   \n",
    "   \n",
    "    Hence system is untsable for $0 < K < 4$, and stable for all $K > 4$."
   ]
  },
  {
   "cell_type": "markdown",
   "metadata": {
    "slideshow": {
     "slide_type": "subslide"
    }
   },
   "source": [
    " 3. See Figure l.  $\\alpha  = \\cos^{-1} \\zeta$. $\\omega_n$  is  given  by  the  radius of  the circle  with origin $0 + j0$ which passes through the point on the root-locus.  For  a  given  value of  $\\zeta$ use  trigonometry  to determine the corresponding value of $\\omega_n$ and  hence  the closed-loop pole locations.  For a given point $s_0$ on the  root-locus $K$ is given  by the formula:\n",
    "    \n",
    "    $$K = \\frac{1}{|G_o(s)|}=\\frac{\\displaystyle\\prod_{i=1}^{n}{\\left|s_o-p_i\\right|}}{\\displaystyle\\prod_{i=1}^{m}{\\left|s_o-z_i\\right|}}.$$\n",
    " \n",
    "    The  terms  $|s_0-p_i|$ and $|s_0-z_i|$ are the lengths of the lines drawn from the point $s_0$ on the root-locus to the pole $p_i$ and zero $z_i$ respectively.\n",
    "    \n",
    "| $\\zeta$ | $\\omega_n$ |  $K$  | closed-loop poles |\n",
    "|---------|------------|-------|-------------------|\n",
    "| $0.0$    |  $\\infty$  | $\\infty$   | $s = -2 \\pm j\\infty$  |\n",
    "| $0.1$    |  $20$  | $307$   | $s = -2 \\pm j19.9$  |\n",
    "| $0.5$    |  $4$  | $13$   | $s = -2 \\pm j3.46$  |\n",
    "| $1.0$    |  $2$  | $1$   | $s = -2,\\;-2$  |\n",
    "\n",
    "The  constraint  $2  < \\omega_n \\le 10$ implies  $1 < \\zeta \\le  0.2$ and  $1  < K \\le 97$. For a  peak overshoot\n",
    "$Mp \\le 0.2$ we require $\\zeta \\ge  0.48$ which implies that $\\omega_n  \\le  4.17$ rad.s<sup>-1</sup> for this system (because $\\sigma = \\zeta\\omega_n = 2$). The constraint on rise time can only be satisfied if $\\omega_n \\le 0.56$ rad.s<sup>-1</sup>. Hence  the two constraints cannot simultaneously be satisfied by adjusting the gain $K$, since any valid roots would have to lie on the. root-locus.\n",
    "\n",
    "![Figure 1](sfig1.png)\n",
    "<div style=\"text-align:center\">Figure 1</div>"
   ]
  },
  {
   "cell_type": "markdown",
   "metadata": {
    "slideshow": {
     "slide_type": "subslide"
    }
   },
   "source": [
    "4. The root-locus is shown in Figure 2. It verifies the stability result of Question 2.  For  ideal damping, the closed-loop poles must lie on line OA drawn at an angle of 135°  to the positive real axis. The co-ordinates  of  (and hence the gain required  to  locate  the dominant  poles  at) this point may be found by trigonometry. However it is easier  to equate  the  coefficients  of  the model  char.  eqn.  $s^2 + \\sqrt{2}\\omega_n s + \\omega_n^2 = 0$. If  this is done  you should  find $K = 9.16$ poles are: $s=-2.58 \\pm j 2.58$.\n",
    " \n",
    "![Figure 2](sfig2.png)\n",
    "<div style=\"text-align:center\">Figure 2</div>"
   ]
  },
  {
   "cell_type": "markdown",
   "metadata": {
    "slideshow": {
     "slide_type": "subslide"
    }
   },
   "source": [
    " \n",
    "5. $$E(s)=R(s)-C(s);\\; C(s)= 1\\;\\frac{G(s)}{1+G(s)H(s)}R(s)$$\n",
    "\n",
    "   hence\n",
    "\n",
    "   $$E(s)= \\frac{1+ G(H -1)}{l+GH}R(s)= \\frac{s(1 + sT) + (h- 1)}{s(1+sT)+h} R(s)$$\n",
    "\n",
    "   Final value, when $R(s) = 1/s$ is:\n",
    "   $$\\begin{eqnarray*}\n",
    "  {\\left. {e(t)} \\right|_{t \\to \\infty }} = {\\left. {sE(s)} \\right|_{s \\to 0}} \\\\ \n",
    "   &=& s{\\left\\{ {\\frac{{s(1 + sT) + (h - 1)}}{{s(1 + sT) + h}} \\cdot \\frac{1}{s}} \\right\\}_{s \\to 0}} \\\\ \n",
    "   &=& \\frac{{h - 1}}{h}\n",
    "\\end{eqnarray*}$$\n",
    "  \n",
    "  hence system is Type 0. When h = 1, system is Type 1.\n",
    "  "
   ]
  },
  {
   "cell_type": "markdown",
   "metadata": {
    "slideshow": {
     "slide_type": "subslide"
    }
   },
   "source": [
    "6. Use the relationships given in the handout for $T_r$, $T_s$, and $M_p$ to relate these paremeters to the s-plane.  Additional constraints  are: $b_0 = a_0$ to give zero step-error,  $b_1  = 2\\sigma - 0.0l\\omega_n^2$  to satisfy the ramp error requirement. A solution is:\n",
    "\n",
    "   1. $b_1  = 24.28$\n",
    "   2. $b_0   = 400$\n",
    "   3. $a_1    = 28.28$\n",
    "   4. $a_0 = 400$\n",
    "   \n",
    "   **Note**:  ignoring  the zero, the characteristic equation required is $s^2 + 10s + 400$ which gives\n",
    "$\\omega_n = 20$, $\\zeta = 0.5$ ($\\sigma = \\zeta\\omega_n = 10$).  The zero has the effect of increasing the overshoot and so additional damping is required - you  will need to iterate a few times to get a value of $a_1$ that\n",
    "yields a satisfactory solution, see Figure 3. (This solution has $\\zeta = 0.707$).\n",
    "\n",
    "![Figure 3](sfig3.png)\n",
    "<div style=\"text-align:center\">Figure 3</div>"
   ]
  }
 ],
 "metadata": {
  "celltoolbar": "Slideshow",
  "kernelspec": {
   "display_name": "MATLAB",
   "language": "matlab",
   "name": "imatlab"
  },
  "language_info": {
   "codemirror_mode": "octave",
   "file_extension": ".m",
   "mimetype": "text/x-matlab",
   "name": "matlab",
   "nbconvert_exporter": "imatlab._exporter.MatlabExporter",
   "pygments_lexer": "matlab",
   "version": "9.9.0.1467703 (R2020b)"
  }
 },
 "nbformat": 4,
 "nbformat_minor": 2
}
