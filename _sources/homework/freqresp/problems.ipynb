{
 "cells": [
  {
   "cell_type": "markdown",
   "metadata": {},
   "source": [
    "# Homework 5: Frequency Response Cascade Compensator Design\n",
    "\n",
    "## Problems\n",
    "\n",
    "1. The uncompensated loop-transfer function of a system is $$G(s)H(s)=\\frac{2}{s(s+2)}.$$ Assuming unity-gain feedback, design a cascade lead compensator to achieve a velocity constant\n",
    "$K_v$ of 20 and a phase margin of 45°.\n",
    "\n",
    "2. Design a lag compensator for the system of Question 1 to achieve the same design constraints. Compare the relative merits of the two approaches.\n",
    "\n",
    "3. The open-loop transfer function of a position control system is $$Go(s)=\\frac{25}{s\\left(1+\\frac{1}{4}s\\right)\\left(1+\\frac{1}{16}s\\right)}.$$ The system's gain and phase margin are to exceed 1.5 and 15° respectively. Determine whether these specification are satisfied and if not design a lead compensator to meet the specifications\n",
    "and also to maintain the open-loop gain at 25.\n",
    "\n",
    "4. Using frequency response methods, design a compensator to achieve a step-response with a rise\n",
    "time $t_r \\le 0.4$ s, a peak overshoot $\\%OS \\le 20\\%$ and a step error constant $K_p = 20$ for the system\n",
    "with plant transfer function $$\\frac{3}{(s+1)(s+3)}.$$ Estimate the closed-loop bandwidth of the compensated system and the resonant peak $M_{\\mathrm{max}}$·\n",
    "\n",
    "5. A type 2 servomechanism has transfer function $$G(s)H(s) = \\frac{0.25}{s^2(1+0.25s)},\\;H(s)=1.$$ Show the effect on stability of adding the cascade lead network: $$D(s)=\\frac{1}{16}\\left(\\frac{1+4s}{1+0.25s}\\right)$$ and a pre-amplifier with gain $K_p = 16$.\n",
    "6. Repeat the design of Question 4 using the w-transform method to determine the parameters of a suitable digital compensator. Assume that the sampling frequency $\\omega_s = 10\\omega_{\\mathrm{Bw}}$. Write down the\n",
    "difference equation of the resulting digital compensator."
   ]
  }
 ],
 "metadata": {
  "kernelspec": {
   "display_name": "MATLAB",
   "language": "matlab",
   "name": "imatlab"
  },
  "language_info": {
   "codemirror_mode": "octave",
   "file_extension": ".m",
   "mimetype": "text/x-matlab",
   "name": "matlab",
   "nbconvert_exporter": "imatlab._exporter.MatlabExporter",
   "pygments_lexer": "matlab",
   "version": "9.9.0.1467703 (R2020b)"
  }
 },
 "nbformat": 4,
 "nbformat_minor": 2
}
