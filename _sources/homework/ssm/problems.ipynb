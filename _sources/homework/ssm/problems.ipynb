{
 "cells": [
  {
   "cell_type": "markdown",
   "metadata": {},
   "source": [
    "# Homework 8: State Space Modelling\n",
    "\n",
    "## Problems\n",
    "\n",
    "1. For each of the systems which have the differential equatons shown below. determine the state space model in companion, controller canonical and observer canonical forms.\n",
    "    \n",
    "    a. $$2\\frac{dy}{dt}+ 8y = 10u$$\n",
    "    \n",
    "    b. $$2\\frac{d^2 y}{dt^2} + 6\\frac{dy}{dt}+ 8y = 10\\frac{d^2 u}{dt^2}+40\\frac{du}{dt} + 30u$$\n",
    "    \n",
    "    c. $$\\frac{d^2 y}{dt^2} + 5\\frac{dy}{dt}+ 4y = 10\\frac{du}{dt} + 200u$$\n",
    "    \n",
    "    d. $$\\frac{d^2 y}{dt^2} + \\frac{dy}{dt}+ 4y = 10u$$\n",
    "    \n",
    "    e; $$\\frac{d^3 y}{dt^3} + 7\\frac{d^2 y}{dt^2} + 14\\frac{dy}{dt}+ 8y = 10\\frac{du}{dt} + 30u$$\n",
    "    \n",
    "  "
   ]
  },
  {
   "cell_type": "markdown",
   "metadata": {},
   "source": [
    "  \n",
    "2. Calculate the eigenvalues and eigenvectors of the state matrices of each of the systems derived in the answers to Question 1 and hence or otherwise construct the normal canonical forms of each system.\n",
    "\n",
    "3.\tFind the similarity transform that converts the solution for Question 1(e) from observer canonical form to the normal form derived in Question 2.\n",
    "\n",
    "4.\tFind the similarity transform that converts the solution for Question 1(e) from controller canonical form to the normal form derived in Question 2."
   ]
  },
  {
   "cell_type": "markdown",
   "metadata": {},
   "source": [
    "5.\tFor each of the systems with transfer functions shown below, construct the state space model in block diagonal (Jordan) form.\n",
    "    \n",
    "    a. $$\\frac{d^3y}{dt^3} + 9\\frac{d^2y}{dt^2} + 24\\frac{dy}{dt} + 16y = 5\\frac{du}{dt}+ 10u$$\n",
    "        \n",
    "    b. $$\\frac{d^3 y}{dt^3} + 10\\frac{d^2 y}{dt^2} + 90\\frac{dy}{dt}+ 81y = 10\\frac{du}{dt} + 20u$$\n",
    "        "
   ]
  },
  {
   "cell_type": "markdown",
   "metadata": {},
   "source": [
    "6. Determine the system transform matrices that will convert a system in observer canonical form to one in controller canonical form. Demonstrate your result by applying the transform to the solutions to Question 1.\n",
    "\n",
    "7. For the controller canonical forms of the system shown in Question 1(c) calculate the system response for $u=1$, $t\\ge 0$, with initial conditions  $X_1(0)=x_2(0) = 1$. \n",
    "\n",
    "    Use\n",
    "\n",
    "    a.\tthe state-transition matrix\n",
    "\n",
    "    b.\ttransformation to normal form and \n",
    "    \n",
    "    c.\tinverse Laplace transform. \n",
    "\n",
    "8.\tFor each of the systems of Question 1, determine the controllability and observability using the controllability canonical form or observer canonical form as appropriate.\n",
    "\n",
    "9.\tUse Ackermann’s equations to confirm the results of Question 8."
   ]
  }
 ],
 "metadata": {
  "kernelspec": {
   "display_name": "MATLAB",
   "language": "matlab",
   "name": "imatlab"
  },
  "language_info": {
   "codemirror_mode": "octave",
   "file_extension": ".m",
   "mimetype": "text/x-matlab",
   "name": "matlab",
   "nbconvert_exporter": "imatlab._exporter.MatlabExporter",
   "pygments_lexer": "matlab",
   "version": "9.9.0.1467703 (R2020b)"
  }
 },
 "nbformat": 4,
 "nbformat_minor": 2
}
