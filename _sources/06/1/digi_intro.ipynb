{
 "cells": [
  {
   "cell_type": "markdown",
   "metadata": {
    "slideshow": {
     "slide_type": "slide"
    }
   },
   "source": [
    "# Introduction to Digital Systems\n",
    "\n",
    "* Digital systems are important in modern technology because they are used extensively to implement designs that previously used analogue (continuous) technology.\n",
    "* The concepts developed for continuous systems are all applicable to digital systems.\n",
    "* This introduction commences with *digital signals*, continues with *digital systems*, and ends with an overview of how analogue systems may be converted to digital systems."
   ]
  },
  {
   "cell_type": "markdown",
   "metadata": {
    "slideshow": {
     "slide_type": "slide"
    }
   },
   "source": [
    "## Analogue v Digital\n",
    "\n",
    "The real world we inhabit is analogue. We process analogue signals: e.g. vision and sound. Physical systems are analogue systems of force, velocity, current, voltage, temperature pressure, etc.\n",
    "\n",
    "Advances in electronics means that more and more of the storage, distribution and processing of signals is actually done using digital technology."
   ]
  },
  {
   "cell_type": "markdown",
   "metadata": {
    "slideshow": {
     "slide_type": "subslide"
    }
   },
   "source": [
    "There have to be methods of converting analogue to digital (e.g. recording of sound) and digital to analogue (e.g. signals delivered by loudspeakers)."
   ]
  },
  {
   "cell_type": "markdown",
   "metadata": {
    "slideshow": {
     "slide_type": "fragment"
    }
   },
   "source": [
    "We need to be able to model the signals, their conversion and the systems that process them."
   ]
  },
  {
   "cell_type": "markdown",
   "metadata": {
    "slideshow": {
     "slide_type": "notes"
    }
   },
   "source": [
    "## Samplers and Discrete-Time Physical Systems\n",
    "\n",
    "As hinted in the introduction, we need to convert analogue signals to digital signals before the digital signal can be stored, distributed and manipulated by a digital system. At the point of delivery, we need to convert the signal back into digital form. In this section we introduce the signal conversion devices and give an example of one\n",
    "commonly seen digital system."
   ]
  },
  {
   "cell_type": "markdown",
   "metadata": {
    "slideshow": {
     "slide_type": "notes"
    }
   },
   "source": [
    "### Analogue to Digital Converter\n",
    "\n",
    "We begin by describing the *digital to analogue converter* (D/A or DAC),\n",
    "since this device is usually also a component of the *analogue to\n",
    "digital compensator* (A/D or ADC). We assume that the DAC receives a\n",
    "digital signal, in the form of a binary number, every $T$ seconds\n",
    "(usually from a digital computer, micro-controller or a digital signal\n",
    "processor). The DAC converts the binary number to a constant voltage\n",
    "equal to the value of that number, and outputs this voltage until the\n",
    "next number arrives and the DAC input. The block diagram of the DAC and\n",
    "a typical response is shown in Figure 1."
   ]
  },
  {
   "cell_type": "markdown",
   "metadata": {
    "slideshow": {
     "slide_type": "subslide"
    }
   },
   "source": [
    "#### Digital to Analogue Converter (D/A or DAC)\n",
    "\n",
    "![image](pictures/DAC.png)\n",
    "**Figure 1**"
   ]
  },
  {
   "cell_type": "markdown",
   "metadata": {
    "slideshow": {
     "slide_type": "notes"
    }
   },
   "source": [
    "We next describe a comparator, which is also a component of the ADC. A\n",
    "comparator and its characteristics are illustrated in Figure 2. The input\n",
    "voltage $v_i(t)$ is compared with the reference voltage $v_r(t)$. If\n",
    "$v_i(t) > v_r(t)$ the comparator outputs logic \"1\"; for example logic 1\n",
    "is 5V for TTL logic. If $v_i(t) < v_r(t)$ the comparator outputs logic\n",
    "\"0\"; which is less than 1V for TTL logic. The signal ground is normally\n",
    "omitted from circuit diagrams, but all voltages are compared relative to\n",
    "signal ground."
   ]
  },
  {
   "cell_type": "markdown",
   "metadata": {
    "slideshow": {
     "slide_type": "subslide"
    }
   },
   "source": [
    "#### Comparator\n",
    "\n",
    "![Comparator](pictures/comparator.png)\n",
    "**Figure 2**"
   ]
  },
  {
   "cell_type": "markdown",
   "metadata": {
    "slideshow": {
     "slide_type": "notes"
    }
   },
   "source": [
    "Several circuits are used to implement an analogue to digital converter.\n",
    "Each circuit has different characteristics. We illustrate the up-counter\n",
    "ADC shown in Figure 3. The $n$-bit counter is reset to zero when the\n",
    "start-of-conversion (SOC) signal is received by the device. The count\n",
    "increases by 1 with the arrival of each clock pulse. The $n$-bit DAC\n",
    "converts the binary equivalent of the count to a voltage $v_R$."
   ]
  },
  {
   "cell_type": "markdown",
   "metadata": {
    "slideshow": {
     "slide_type": "subslide"
    }
   },
   "source": [
    "#### The Counter ADC\n",
    "\n",
    "![ADC](pictures/ADC.png)\n",
    "**Figure 3**"
   ]
  },
  {
   "cell_type": "markdown",
   "metadata": {
    "slideshow": {
     "slide_type": "notes"
    }
   },
   "source": [
    "The analogue voltage $v_x$ to be converted is compared to $V_R$. When\n",
    "$V_R$ becomes greater than $v_x$, the comparator outputs a logic 0,\n",
    "which halts the clock input through the AND gate. The end-of-conversion\n",
    "(EOC) pulse then signals that the digital equivalent to $v_x$ is ready.\n",
    "The counter output can then be read from the digital output as a binary\n",
    "number which is approximately equal to the analogue input."
   ]
  },
  {
   "cell_type": "markdown",
   "metadata": {
    "slideshow": {
     "slide_type": "slide"
    }
   },
   "source": [
    "## Digital Systems\n",
    "\n",
    "\n",
    "Once we have the ability to convert analogue signals into binary numbers\n",
    "and back, we have the ability to process the information using computers\n",
    "and other digital devices. A once familiar device will be the compact disk\n",
    "(CD) player."
   ]
  },
  {
   "cell_type": "markdown",
   "metadata": {
    "slideshow": {
     "slide_type": "subslide"
    }
   },
   "source": [
    "### Compact Disk (Analogue to Digital)\n",
    "\n",
    "Continuous time signal is filtered with an \"anti-aliasing\" band-pass filter with bandwidth of 5 to 20,000 Hz."
   ]
  },
  {
   "cell_type": "markdown",
   "metadata": {
    "slideshow": {
     "slide_type": "fragment"
    }
   },
   "source": [
    "Filtered audio signal sampled using ADC at 44,100 samples per second and with 14-16 bits precision."
   ]
  },
  {
   "cell_type": "markdown",
   "metadata": {
    "slideshow": {
     "slide_type": "fragment"
    }
   },
   "source": [
    "Each sample is stored, along with error correcting bits, as a stream of binary codes."
   ]
  },
  {
   "cell_type": "markdown",
   "metadata": {
    "slideshow": {
     "slide_type": "fragment"
    }
   },
   "source": [
    "The codes are recorded using microscopic pits etched into the surface of the CD."
   ]
  },
  {
   "cell_type": "markdown",
   "metadata": {
    "slideshow": {
     "slide_type": "subslide"
    }
   },
   "source": [
    "### Compact Disk (Digital to Analogue)\n",
    "\n",
    "For stereo music, two channels are sampled and stored."
   ]
  },
  {
   "cell_type": "markdown",
   "metadata": {
    "slideshow": {
     "slide_type": "fragment"
    }
   },
   "source": [
    "Data is stored on a continuous track that spirals outwards from the centre."
   ]
  },
  {
   "cell_type": "markdown",
   "metadata": {
    "slideshow": {
     "slide_type": "fragment"
    }
   },
   "source": [
    "Data is read at a constant rate (44,100 Hz) and is processed (e.g. error corrected and buffered for tilt control) before being converted, using DAC, to a signal that can be delivered to a loudspeaker."
   ]
  },
  {
   "cell_type": "markdown",
   "metadata": {
    "slideshow": {
     "slide_type": "fragment"
    }
   },
   "source": [
    "Velocity of disk needs to be controlled so that it decreases as the radius of the track increases. Position and the focus of the laser used to read the data is also controlled."
   ]
  },
  {
   "cell_type": "markdown",
   "metadata": {
    "slideshow": {
     "slide_type": "notes"
    }
   },
   "source": [
    "Audio CD holds approx. 540 MBytes of data which is enough to store 74 minutes of stereo music."
   ]
  },
  {
   "cell_type": "markdown",
   "metadata": {
    "slideshow": {
     "slide_type": "slide"
    }
   },
   "source": [
    "## Generation of Digital Signals\n",
    "\n",
    "Digital signals do not occur naturally. They are generated by sampling\n",
    "continuous signals, or by digitally processing other digital signals.\n",
    "Sampling is accomplished by a sampler known as an \"*Analogue to Digital\n",
    "Converter (ADC)*\"."
   ]
  },
  {
   "cell_type": "markdown",
   "metadata": {
    "slideshow": {
     "slide_type": "subslide"
    }
   },
   "source": [
    "### Sampling and Sequences\n",
    "\n",
    "Sampling - mathematical model of the ADC"
   ]
  },
  {
   "cell_type": "markdown",
   "metadata": {
    "slideshow": {
     "slide_type": "fragment"
    }
   },
   "source": [
    "Sampled signals are modelled as sequences"
   ]
  },
  {
   "cell_type": "markdown",
   "metadata": {
    "slideshow": {
     "slide_type": "fragment"
    }
   },
   "source": [
    "Sequences can be shifted backwards (*advanced*) and forwards (*delayed*)"
   ]
  },
  {
   "cell_type": "markdown",
   "metadata": {
    "slideshow": {
     "slide_type": "notes"
    }
   },
   "source": [
    "The advance and delay operators are analogies to the derivative and integral operators"
   ]
  },
  {
   "cell_type": "markdown",
   "metadata": {
    "slideshow": {
     "slide_type": "subslide"
    }
   },
   "source": [
    "#### Sampling – Mathematical model of the ADC\n",
    "\n",
    "![Sampler](pictures/sampler.png)\n",
    "**Figure 4**"
   ]
  },
  {
   "cell_type": "markdown",
   "metadata": {
    "slideshow": {
     "slide_type": "notes"
    }
   },
   "source": [
    "The analogue to digital converter is modelled as a switch as shown in\n",
    "Figure 4.\n",
    "\n",
    "Quantisation, introduced by converting an analogue signal to a binary number with a finite number of bits, will not be considered."
   ]
  },
  {
   "cell_type": "markdown",
   "metadata": {
    "slideshow": {
     "slide_type": "subslide"
    }
   },
   "source": [
    "#### Modelling Sampling: Sequences\n",
    "\n",
    "At each sampling instant the switch is closed for an infinitesimal time,\n",
    "during which the digital signal has the same value as the continuous\n",
    "signal. "
   ]
  },
  {
   "cell_type": "markdown",
   "metadata": {
    "slideshow": {
     "slide_type": "fragment"
    }
   },
   "source": [
    "The digital signal is therefore a \"*Sequence*\"\n",
    "\n",
    "$$\\ldots\\ v_{-2}\\ v_{-1}\\ v_{0}\\\n",
    "v_{1}\\ v_{2}\\ \\ldots$$ "
   ]
  },
  {
   "cell_type": "markdown",
   "metadata": {
    "slideshow": {
     "slide_type": "fragment"
    }
   },
   "source": [
    "which will be denoted by \n",
    "\n",
    "$$\\left\\{v_k\\right\\}$$"
   ]
  },
  {
   "cell_type": "markdown",
   "metadata": {
    "slideshow": {
     "slide_type": "notes"
    }
   },
   "source": [
    "At each sampling instant the switch is closed for an infinitesimal time,\n",
    "during which the digital signal has the same value as the continuous\n",
    "signal. The digital signal is therefore a \"*Sequence*\"\n",
    "\n",
    "$$\\ldots\\ v_{-2}\\ v_{-1}\\ v_{0}\\\n",
    "v_{1}\\ v_{2}\\ \\ldots$$\n",
    "\n",
    "which will be denoted by \n",
    "\n",
    "$$\\left\\{v_k\\right\\}$$"
   ]
  },
  {
   "cell_type": "markdown",
   "metadata": {
    "slideshow": {
     "slide_type": "subslide"
    }
   },
   "source": [
    "#### Modelling sampling: Regular Sampling\n",
    "\n",
    "Only regular sampling will be considered. A constant period $T$ s\n",
    "between sampling instants is equivalent to a sampling frequency\n",
    "$\\omega_s$ rad s$^{-1}$, where \n",
    "\n",
    "$$T = \\frac{2\\pi}{\\omega_s}.$$"
   ]
  },
  {
   "cell_type": "markdown",
   "metadata": {
    "slideshow": {
     "slide_type": "fragment"
    }
   },
   "source": [
    "Sampling is assumed to be synchronized to the time origin $t=0$ so that\n",
    "\n",
    "$$v_k = v(kT)\\ \\forall \\ k \\ge 0.$$"
   ]
  },
  {
   "cell_type": "markdown",
   "metadata": {
    "slideshow": {
     "slide_type": "notes"
    }
   },
   "source": [
    "#### Sampling: The Signals\n",
    "\n",
    "![Sampling](pictures/sampling.png)\n",
    "**Figure 5**"
   ]
  },
  {
   "cell_type": "markdown",
   "metadata": {
    "slideshow": {
     "slide_type": "subslide"
    }
   },
   "source": [
    "#### Sampling: Indexing the sequence\n",
    "\n",
    "The index $k$ denotes the current value. Digital signals will be taken\n",
    "as zero prior to the time origin, in the same way as continuous signals:\n",
    "\n",
    "$$v_k = v(kT) = 0\\ \\mathrm{for}\\ k<0.$$"
   ]
  },
  {
   "cell_type": "markdown",
   "metadata": {
    "slideshow": {
     "slide_type": "fragment"
    }
   },
   "source": [
    "Except in cases where it is necessary to distinguish between them, both\n",
    "the continuous signal $v(t)$ and the digital signal $\\left\\{v_k\\right\\}$\n",
    "will be denoted by $v$."
   ]
  },
  {
   "cell_type": "markdown",
   "metadata": {
    "slideshow": {
     "slide_type": "slide"
    }
   },
   "source": [
    "## Shifting Digital Signals\n",
    "\n",
    "Shifting digital signals is the mechanism by which dynamic behaviour is introduced into digital systems. "
   ]
  },
  {
   "cell_type": "markdown",
   "metadata": {
    "slideshow": {
     "slide_type": "fragment"
    }
   },
   "source": [
    "The shifting operators are comparable to differentiating and integrating continuous signals."
   ]
  },
  {
   "cell_type": "markdown",
   "metadata": {
    "slideshow": {
     "slide_type": "subslide"
    }
   },
   "source": [
    "### Forward Shifting a Digital Signal\n",
    "\n",
    "The first forward shift of a digital signal $v$ is generated by\n",
    "applying the \"*Advance Operator*\" $\\triangle$ to give the advanced\n",
    "digital signal $\\triangle v$, where \n",
    "\n",
    "$$\\triangle v = \\triangle\n",
    "      \\{v_k\\} = \\{\\triangle v_k\\} = \\{v_{k+1}\\}.$$"
   ]
  },
  {
   "cell_type": "markdown",
   "metadata": {
    "slideshow": {
     "slide_type": "fragment"
    }
   },
   "source": [
    "The signal $v$ is advanced by one value (a time advance of $T$).\n",
    "    $v_0$ vanishes because $\\triangle v$ is zero prior to $t=0$."
   ]
  },
  {
   "cell_type": "markdown",
   "metadata": {
    "slideshow": {
     "slide_type": "fragment"
    }
   },
   "source": [
    "Repeated operation gives the $r$-th forward shift\n",
    "\n",
    "$$\\triangle^r v = \\{v_{k+r}\\}.$$"
   ]
  },
  {
   "cell_type": "markdown",
   "metadata": {
    "slideshow": {
     "slide_type": "subslide"
    }
   },
   "source": [
    "### Advance and Derivative Operator\n",
    "\n",
    "The advance operator $\\triangle$ is equivalent to the derivative\n",
    "    operator $d/dt$."
   ]
  },
  {
   "cell_type": "markdown",
   "metadata": {
    "slideshow": {
     "slide_type": "fragment"
    }
   },
   "source": [
    "Neither the advance operator $\\triangle$ nor the derivative $d/dt$\n",
    "    is physically realistic."
   ]
  },
  {
   "cell_type": "markdown",
   "metadata": {
    "slideshow": {
     "slide_type": "fragment"
    }
   },
   "source": [
    "$\\triangle$ is not realistic because the current value of\n",
    "    $\\triangle v$, which is $\\triangle v_k$, is the *future* value of\n",
    "    $v_{k+1}$ of the signal $v$."
   ]
  },
  {
   "cell_type": "markdown",
   "metadata": {
    "slideshow": {
     "slide_type": "notes"
    }
   },
   "source": [
    "The Advance operator $\\triangle$ for digital signals is equivalent to\n",
    "the differential operator $d/dt$ for continuous signals. The first\n",
    "forward shift $\\triangle v$ $\\equiv$ first derivative $dv/dt$. The\n",
    "$r$-th forward shift $\\triangle^r$ $\\equiv$ $r$-th derivative\n",
    "$d^rv/dt^r$. Neither the $\\triangle$ operator nor the $d/dt$ operator\n",
    "are physically realistic."
   ]
  },
  {
   "cell_type": "markdown",
   "metadata": {
    "slideshow": {
     "slide_type": "subslide"
    }
   },
   "source": [
    "### Backward Shifting a Digital Signal\n",
    "\n",
    "The first backward shift of a digital signal $v$ is generated by\n",
    "applying the \"*Delay Operator*\" $\\nabla$ to give the delayed digital\n",
    "signal $\\nabla v$, where \n",
    "\n",
    "$$\\nabla v = \\nabla\n",
    "      \\{v_k\\} = \\{\\nabla v_k\\} = \\{v_{k-1}\\}.$$"
   ]
  },
  {
   "cell_type": "markdown",
   "metadata": {
    "slideshow": {
     "slide_type": "fragment"
    }
   },
   "source": [
    "The signal $v$ is delayed by one value (a time delay of $T$)."
   ]
  },
  {
   "cell_type": "markdown",
   "metadata": {
    "slideshow": {
     "slide_type": "fragment"
    }
   },
   "source": [
    "Repeated operation gives the $r$-th backward shift\n",
    "\n",
    "$$\\nabla^r v = \\{v_{k-r}\\}.$$"
   ]
  },
  {
   "cell_type": "markdown",
   "metadata": {
    "slideshow": {
     "slide_type": "subslide"
    }
   },
   "source": [
    "The delay operator $\\nabla$ is equivalent to the integral operator\n",
    "    $\\int$."
   ]
  },
  {
   "cell_type": "markdown",
   "metadata": {
    "slideshow": {
     "slide_type": "fragment"
    }
   },
   "source": [
    "The delay operator $\\nabla$ is not only physically realistic but can\n",
    "    be implemented easily by storage and retrieval in a digital\n",
    "    computer."
   ]
  },
  {
   "cell_type": "markdown",
   "metadata": {
    "slideshow": {
     "slide_type": "notes"
    }
   },
   "source": [
    "The delay operator $\\nabla$ for digital signals is equivalent to the\n",
    "integral operator $\\int dt$ for continuous signals. The first backward\n",
    "shift $\\nabla v$ $\\equiv$ first integral $\\int v dt$. The $r$-th\n",
    "backward shift $\\nabla^r$ $\\equiv$ $r$-th integral $\\int \\int \\cdots\n",
    "\\int v dt$. Both the $\\nabla$ operator and the $d/dt$ operator are\n",
    "physically realistic."
   ]
  },
  {
   "cell_type": "markdown",
   "metadata": {
    "slideshow": {
     "slide_type": "subslide"
    }
   },
   "source": [
    "### Mathematical and Computer Models\n",
    "\n",
    "*Advance operators* (like differential operators) are best suited to\n",
    "    mathematical models."
   ]
  },
  {
   "cell_type": "markdown",
   "metadata": {
    "slideshow": {
     "slide_type": "fragment"
    }
   },
   "source": [
    "*Delay operators* (like integral models) are best suited to computer\n",
    "    models."
   ]
  },
  {
   "cell_type": "markdown",
   "metadata": {
    "slideshow": {
     "slide_type": "subslide"
    }
   },
   "source": [
    "#### Block Diagram Model\n",
    "\n",
    "In a *Digital Operational Block Diagram* the fundamental dynamic\n",
    "operation is denoted by the *delay* operator\n",
    "\n",
    "![Block diagram](pictures/blockd.png)"
   ]
  },
  {
   "cell_type": "markdown",
   "metadata": {
    "slideshow": {
     "slide_type": "slide"
    }
   },
   "source": [
    "## Definition of the z Transformation\n",
    "\n",
    "The $z$ transformation has the same role in digital systems that the\n",
    "    Laplace transform has in continuous systems."
   ]
  },
  {
   "cell_type": "markdown",
   "metadata": {
    "slideshow": {
     "slide_type": "fragment"
    }
   },
   "source": [
    "The $z$ transformation of a digital signal $v$ is defined as \n",
    "\n",
    "$$V =\n",
    "     V(z) = \\mathcal{Z} v = \\mathcal{Z} \\{ v_{k} \\}=\\sum_{k=0}^{\\infty}\n",
    "     v_k z^{-k}.$$"
   ]
  },
  {
   "cell_type": "markdown",
   "metadata": {
    "slideshow": {
     "slide_type": "subslide"
    }
   },
   "source": [
    "Similarly, $v$ is the *inverse $z$ transform* of $V$, or\n",
    "\n",
    "$$\\mathcal{Z}^{-1} V.$$"
   ]
  },
  {
   "cell_type": "markdown",
   "metadata": {
    "slideshow": {
     "slide_type": "subslide"
    }
   },
   "source": [
    "### z Transform is a summed series"
   ]
  },
  {
   "cell_type": "markdown",
   "metadata": {
    "slideshow": {
     "slide_type": "fragment"
    }
   },
   "source": [
    "Obtaining $z$ transforms involves summing series. "
   ]
  },
  {
   "cell_type": "markdown",
   "metadata": {
    "slideshow": {
     "slide_type": "fragment"
    }
   },
   "source": [
    "Often this is a *binomial* series \n",
    "\n",
    "$$(1+x)^r = 1 + rx + \\frac{r(r-1)}{2!}x^2 +\n",
    "    \\cdots + \\frac{r(r-1)\\cdots(r-n+1)}{n!}x^n + \\cdots$$"
   ]
  },
  {
   "cell_type": "markdown",
   "metadata": {
    "slideshow": {
     "slide_type": "fragment"
    }
   },
   "source": [
    "The transform pairs for common functions are put into tables so that\n",
    "    it is not necessary to sum a series in most cases."
   ]
  },
  {
   "cell_type": "markdown",
   "metadata": {
    "slideshow": {
     "slide_type": "subslide"
    }
   },
   "source": [
    "### Example 1: What is the z Transform of the Unit Impulse $\\delta(t)$?"
   ]
  },
  {
   "cell_type": "markdown",
   "metadata": {
    "slideshow": {
     "slide_type": "notes"
    }
   },
   "source": [
    "If $v$ is the digital sequence $\\{\\delta_k\\}$, that is\n",
    "\n",
    "$$1\\ 0\\ 0\\ 0\\ 0\\ \\ldots$$\n",
    "\n",
    "$z$ transform is\n",
    "\n",
    "$$\\sum_{k=0}^{\\infty} 1\\times z^{-k} = 1 + 0\\times z^{-1} + 0\\times z^{-2}+\\cdots$$\n",
    "\n",
    "Thus $\\mathcal{Z}(\\delta(t)) = 1$."
   ]
  },
  {
   "cell_type": "markdown",
   "metadata": {
    "slideshow": {
     "slide_type": "subslide"
    }
   },
   "source": [
    "### Example 2: What is the z Transform of the Unit Step $\\epsilon(t)$?"
   ]
  },
  {
   "cell_type": "markdown",
   "metadata": {
    "slideshow": {
     "slide_type": "notes"
    }
   },
   "source": [
    "If $v$ is the digital sequence $\\{\\epsilon_k\\}$, that is\n",
    "\n",
    "$$1\\ 1\\ 1\\ 1\\ 1\\ \\ldots$$\n",
    "\n",
    "$z$ transform is\n",
    "\n",
    "$$\\sum_{k=0}^{\\infty} 1\\times z^{-k} = 1 + z^{-1} + z^{-2}+\\cdots$$\n",
    "\n",
    "This is summed as a binomial series as\n",
    "\n",
    "$$(1-z^{-1})^{-1} = \\frac{1}{1-z^{-1}} =\n",
    "    \\frac{z}{z-1}.$$"
   ]
  },
  {
   "cell_type": "markdown",
   "metadata": {
    "slideshow": {
     "slide_type": "subslide"
    }
   },
   "source": [
    "### Example 3: z Transform of a Power Series\n",
    "\n",
    "Another example which is commonly found is the digital signal $v$ given\n",
    "by $\\{v_k\\} = \\{\\alpha^k\\}$. What is the $z$-transform of this signal?"
   ]
  },
  {
   "cell_type": "markdown",
   "metadata": {
    "slideshow": {
     "slide_type": "notes"
    }
   },
   "source": [
    "$\\{v_k\\} = \\{\\alpha^k\\}$\n",
    "\n",
    "The $z$ transform is\n",
    "\n",
    "$$\\sum_{k=0}^{\\infty} \\alpha^{k} z^{-k} = 1 + \\alpha z^{-1} + \\alpha^2\n",
    "    z^{-2}+\\cdots$$\n",
    "\n",
    "$\\ldots$ which is summed as a binomial series as\n",
    "\n",
    "$$(1-\\alpha z^{-1})^{-1} = \\frac{1}{1-\\alpha\n",
    "      z^{-1}} = \\frac{z}{z-\\alpha}.$$"
   ]
  },
  {
   "cell_type": "markdown",
   "metadata": {
    "slideshow": {
     "slide_type": "subslide"
    }
   },
   "source": [
    "### Example 4: z Transform of a Continuous Signal\n",
    "\n",
    "If the digital signal $v$ is generated by sampling the continuous\n",
    "    signal $v(t)$, then the transform $V$ also has a correspondence with\n",
    "    $v(t)$."
   ]
  },
  {
   "cell_type": "markdown",
   "metadata": {
    "slideshow": {
     "slide_type": "fragment"
    }
   },
   "source": [
    "For example, if \n",
    "\n",
    "$$v(t) = e^{-at}$$ "
   ]
  },
  {
   "cell_type": "markdown",
   "metadata": {
    "slideshow": {
     "slide_type": "fragment"
    }
   },
   "source": [
    "then \n",
    "\n",
    "$$v_k = v(kT)\n",
    "    = e^{-akT} = (e^{-aT})^k.$$"
   ]
  },
  {
   "cell_type": "markdown",
   "metadata": {
    "slideshow": {
     "slide_type": "subslide"
    }
   },
   "source": [
    "$\\ldots$ So, from the previous result, with $\\alpha=e^{-aT}$, we\n",
    "    have the $z$ transform as\n",
    "\n",
    "$$\\frac{1}{1-e^{-aT}z^{-1}}=\\frac{z}{z-e^{-aT}}.$$"
   ]
  },
  {
   "cell_type": "markdown",
   "metadata": {
    "slideshow": {
     "slide_type": "slide"
    }
   },
   "source": [
    "## z Transforms of the Shift Operators "
   ]
  },
  {
   "cell_type": "markdown",
   "metadata": {
    "slideshow": {
     "slide_type": "subslide"
    }
   },
   "source": [
    "### z Transform of the Forward Shift\n",
    "\n",
    "This is similar to the derivative property of the Laplace transform."
   ]
  },
  {
   "cell_type": "markdown",
   "metadata": {
    "slideshow": {
     "slide_type": "fragment"
    }
   },
   "source": [
    "$$\\mathcal{Z}\\triangle v = z V(z) - zv_0$$ "
   ]
  },
  {
   "cell_type": "markdown",
   "metadata": {
    "slideshow": {
     "slide_type": "fragment"
    }
   },
   "source": [
    "It also introduces the\n",
    "    initial member $v_0$."
   ]
  },
  {
   "cell_type": "markdown",
   "metadata": {
    "slideshow": {
     "slide_type": "fragment"
    }
   },
   "source": [
    "We can also show that\n",
    "\n",
    "$$\\mathcal{Z}\\triangle^2 v = z^2 V(z) - z^2 v_0 - z v_1$$"
   ]
  },
  {
   "cell_type": "markdown",
   "metadata": {
    "slideshow": {
     "slide_type": "subslide"
    }
   },
   "source": [
    "and in general\n",
    "\n",
    "$$\\mathcal{Z}\\triangle^r v = z^r V(z) - \\sum_{i=0}^{r-1} v_i z^{r-i}.$$"
   ]
  },
  {
   "cell_type": "markdown",
   "metadata": {
    "slideshow": {
     "slide_type": "subslide"
    }
   },
   "source": [
    "### Example 5: Proof of z Transform of Forward Shift \n",
    "\n",
    "Prove that the $z$\n",
    "Transform of the Forward Shift:\n",
    "\n",
    "$$\\mathcal{Z}\\triangle v = z V(z) - zv_0$$"
   ]
  },
  {
   "cell_type": "markdown",
   "metadata": {
    "slideshow": {
     "slide_type": "notes"
    }
   },
   "source": [
    "To prove the relationship illustrated in we note that\n",
    "\n",
    "$$\\triangle v = v_1\\ v_2\\ v_3\\ \\ldots\\ v_{k+1}\\ldots$$\n",
    "\n",
    "so that\n",
    "\n",
    "$$\\begin{eqnarray*}\n",
    "  \\mathcal{Z}\\triangle v & = &  v_1 z^0 + v_2 z^{-1} + v_3 z^{-3} + \\cdots\n",
    "  + v_{k+1}z^{-k}+\\cdots \\\\\n",
    "& = & z(v_0 + v_1 z^{-1} + v_2 z^{-2} + \\cdots\n",
    "  + v_{k+1}z^{-{k+1}}+\\cdots)-zv_0\\\\\n",
    "&=& zV(z) - zv_0.\\end{eqnarray*}$$ \n",
    "\n",
    "Similar arguments may be used to prove\n",
    "the other relationships shown in the previous slide."
   ]
  },
  {
   "cell_type": "markdown",
   "metadata": {
    "slideshow": {
     "slide_type": "subslide"
    }
   },
   "source": [
    "### z Transform for the Backward Shift\n",
    "\n",
    "This is similar to the integral property of the Laplace transform."
   ]
  },
  {
   "cell_type": "markdown",
   "metadata": {
    "slideshow": {
     "slide_type": "fragment"
    }
   },
   "source": [
    "$$\\mathcal{Z}\\nabla v = z^{-1} V(z)$$\n",
    "    "
   ]
  },
  {
   "cell_type": "markdown",
   "metadata": {
    "slideshow": {
     "slide_type": "notes"
    }
   },
   "source": [
    "The proof is similar to the Forward shift case and is left as an exercise."
   ]
  },
  {
   "cell_type": "markdown",
   "metadata": {
    "slideshow": {
     "slide_type": "slide"
    }
   },
   "source": [
    "## The Inverse z Transformation\n",
    "\n",
    "\n",
    "The inverse $z$ transform of $V$ is $\\mathcal{Z}^{-1} V = v$, where $v$ is a digital signal, that is a sequence."
   ]
  },
  {
   "cell_type": "markdown",
   "metadata": {
    "slideshow": {
     "slide_type": "fragment"
    }
   },
   "source": [
    "This contrasts with the inverse Laplace transformation, which gives functions of time."
   ]
  },
  {
   "cell_type": "markdown",
   "metadata": {
    "slideshow": {
     "slide_type": "subslide"
    }
   },
   "source": [
    "As the definition of the transform involves $z^{-1}$, through\n",
    "\n",
    "$$V=\\sum_{k=0}^{\\infty} v_k z^{-k},$$\n",
    "\n",
    "it is often useful to commence the inversion if $V(z)$ by expressing it as a function of $z^{-1}$ rather than of $z$."
   ]
  },
  {
   "cell_type": "markdown",
   "metadata": {
    "slideshow": {
     "slide_type": "subslide"
    }
   },
   "source": [
    "### Methods of obtaining the inverse z Transform\n",
    "\n",
    "There are several methods for obtaining inverse $z$ transforms."
   ]
  },
  {
   "cell_type": "markdown",
   "metadata": {
    "slideshow": {
     "slide_type": "fragment"
    }
   },
   "source": [
    "They generally involve expressing $V$ as a series involving powers\n",
    "    of $z^{-1}$, from which the coefficients give the sequence $\\{v_k\\}$\n",
    "    that is $v$."
   ]
  },
  {
   "cell_type": "markdown",
   "metadata": {
    "slideshow": {
     "slide_type": "fragment"
    }
   },
   "source": [
    "Alternatively, a partial fraction expansion is used to obtain terms\n",
    "    from which the inverse transforms may be looked-up from tables."
   ]
  },
  {
   "cell_type": "markdown",
   "metadata": {
    "slideshow": {
     "slide_type": "subslide"
    }
   },
   "source": [
    "### Example 6 \n",
    "\n",
    "Use the direct and indirect methods to determine the inverse $z$\n",
    "transform of \n",
    "\n",
    "$$V=\\frac{4z^3 - 16z}{z^3 - z^2 -\n",
    "  0.25 z + 0.25}.$$"
   ]
  },
  {
   "cell_type": "markdown",
   "metadata": {
    "slideshow": {
     "slide_type": "notes"
    }
   },
   "source": [
    "#### Direct Method (polynomial division)\n",
    "\n",
    "This involves expressing $V$ as a function of $z^{-1}$, and dividing the\n",
    "numerator polynomial by the denominator polynomial.\n",
    "\n",
    "First express $V$ as a function of $z^{-1}$ by multiplying numerator and\n",
    "denominator by $z^{-3}$.\n",
    "\n",
    "$$V = \\frac{4-16z^{-2}}{1-z^{-1}-0.25 z^{-2} + 0.25 z^{-3}}$$ \n",
    "\n",
    "Then divide \n",
    "\n",
    "$$\\begin{array}{rrrrrrr}\n",
    "   & +4 & +4z^{-1} & -11z^{-2} & -11z^{-3} & +\\cdots  \\mathrm{etc}& \\\\ \\hline\n",
    "  1-z^{-1}-0.25\n",
    "z^{-2} + 0.25 z^{-3} &  |\\ +4 & . & -16z^{-2} &  & &\n",
    "\\\\\n",
    "   & +4 & -4z^{-1} & -z^{-2} & +z^{-3} &  &  \\\\ \\hline\n",
    "   &  &   +4z^{-1} & -15z^{-2} & -z^{-3} &  &  \\\\\n",
    "   &  &   +4z^{-1} & - 4z^{-2} & -z^{-3} & +z^{-4} &  \\\\\n",
    "   \\hline\n",
    "   &  &           & -11z^{-2} & .         &    -z^{-4} &  \\\\\n",
    "   &  &           & -11z^{-2} & +11z^{-3} & +2.75z^{-4} & -2.75z^{-5}\n",
    "   \\\\\\hline\n",
    "  &   &           &           & -11z^{-3} & -3.75z^{-4} &\n",
    "  +2.75z^{-5} \\\\\n",
    "    &   &           &           & \\cdots & \\cdots &\n",
    "  \\cdots \\\\\n",
    "\\end{array}$$\n",
    "\n",
    "So \n",
    "\n",
    "$$V = 4 + 4z^{-1} -11 z^{-2} -11z^{-3} + \\cdots\\\n",
    "\\mathrm{etc}$$ $$v = \\begin{array}{ccccccc}\n",
    "  4 & 4 & -11 & -11 & \\cdots & \\cdots & \\mathrm{etc}.\n",
    "\\end{array}$$"
   ]
  },
  {
   "cell_type": "markdown",
   "metadata": {
    "slideshow": {
     "slide_type": "notes"
    }
   },
   "source": [
    "#### Indirect Method (partial fraction expansion)\n",
    "\n",
    "This also involves expressing $V$ as a function of $z^{-1}$, but now the\n",
    "denominator is factorized and a partial fraction is obtained.\n",
    "\n",
    "So \n",
    "\n",
    "$$\\begin{aligned}\n",
    " V  &=  \\frac{4-16z^{-2}}{1-z^{-1}-0.25 z^{-2} +\n",
    "0.25 z^{-3}}\\\\ &= \\frac{16-64z^{-2}}{4-4z^{-1}-z^{-2} + z^{-3}}\\\\\n",
    "&= \\frac{16(1-2z^{-1})(1+2z^{-1})}{(2-z^{-1})(2+z^{-1})(1-z^{-1})}\\\\\n",
    "&= \\frac{\\frac{16\\times -3\\times 5}{4\\times -1}}{2-z^{-1}} +\n",
    "\\frac{\\frac{16\\times 5\\times -3}{4\\times 3}}{2+z^{-1}} +\n",
    "\\frac{\\frac{16\\times -1 \\times 3}{1\\times 3}}{1-z^{-1}}\n",
    "\\\\ &=\\frac{60}{2-z^{-1}} -\n",
    "\\frac{20}{2+z^{-1}} - \\frac{16}{1-z^{-1}}\n",
    "\\\\&=\\frac{30}{1-{1/2}z^{-1}} -\n",
    "\\frac{10}{1+{1/2}z^{-1}} - \\frac{16}{1-z^{-1}}\n",
    "\\\\\n",
    "&= 30\\frac{z}{z-{1/2}} - 10\\frac{z}{z+{1/2}} - 16\\frac{z}{z-1}.\\end{aligned}$$\n",
    "Inverse transforming each term from tables gives $$\\begin{aligned}\n",
    "v&=30\\{(1/2)^k\\}-10\\{(-1/2)^k\\} -16 \\{\\epsilon_k\\}\\\\\n",
    "&= \\begin{array}{ccccccc}\n",
    "  4 & 4 & -11 & -11 & \\cdots & \\cdots & -16\n",
    "\\end{array}.\\end{aligned}$$"
   ]
  },
  {
   "cell_type": "markdown",
   "metadata": {
    "slideshow": {
     "slide_type": "notes"
    }
   },
   "source": [
    "The direct method of polynomial division is useful for obtaining the\n",
    "first few members of a sequence, and the indirect method of partial\n",
    "fraction expansion is useful for obtaining a closed-form representation\n",
    "of the sequence (if one exists)."
   ]
  },
  {
   "cell_type": "markdown",
   "metadata": {
    "slideshow": {
     "slide_type": "notes"
    }
   },
   "source": [
    "Two further properties of the $z$ transform are useful\n",
    "for finding the initial and final values of a sequence."
   ]
  },
  {
   "cell_type": "markdown",
   "metadata": {
    "slideshow": {
     "slide_type": "slide"
    }
   },
   "source": [
    "## Initial and Final Values of a Sequence\n",
    "\n",
    "*Initial Value Property* \n",
    "\n",
    "$$v_0 = \\lim_{z\\rightarrow\n",
    "      \\infty}V(z).$$"
   ]
  },
  {
   "cell_type": "markdown",
   "metadata": {
    "slideshow": {
     "slide_type": "fragment"
    }
   },
   "source": [
    "*Final Value Property*\n",
    "\n",
    "$$\\lim_{k\\rightarrow \\infty}v_k = \\lim_{z\\rightarrow\n",
    "          1}\\frac{z-1}{z}V(z).$$"
   ]
  },
  {
   "cell_type": "markdown",
   "metadata": {
    "slideshow": {
     "slide_type": "subslide"
    }
   },
   "source": [
    "### Example 7\n",
    "\n",
    "Determine the initial and final values of the response of the system\n",
    "given in Example 6."
   ]
  },
  {
   "cell_type": "markdown",
   "metadata": {
    "slideshow": {
     "slide_type": "notes"
    }
   },
   "source": [
    "In the example, the initial value is \n",
    "\n",
    "$$\\lim_{k\\rightarrow 0} v_k = \\lim_{z\\rightarrow\n",
    "  \\infty}\\frac{4z^3-16z}{z^3-z^2-0.25z+0.25} = 4.$$\n",
    "  \n",
    "The final value is\n",
    "\n",
    "$$\\begin{aligned}\n",
    "  \\lim_{k\\rightarrow \\infty}v_k =& \\lim_{z\\rightarrow\n",
    "      1}\\frac{z-1}{z}\\ \\frac{4z^3-16z}{z^3-z^2-0.25z+0.25}\\\\\n",
    " =& \\lim_{z\\rightarrow\n",
    "      1}\\frac{z-1}{z}\\ \\frac{(4)(z)(z-2)(z+2)}{(z-1)(z-0.5)(z+0.5)}\\\\\n",
    "=& \\frac{4\\times -1 \\times 3}{0.5\\times 1.5} = -16.\\end{aligned}$$"
   ]
  }
 ],
 "metadata": {
  "celltoolbar": "Slideshow",
  "kernelspec": {
   "display_name": "MATLAB",
   "language": "matlab",
   "name": "imatlab"
  },
  "language_info": {
   "codemirror_mode": "octave",
   "file_extension": ".m",
   "mimetype": "text/x-matlab",
   "name": "matlab",
   "nbconvert_exporter": "imatlab._exporter.MatlabExporter",
   "pygments_lexer": "matlab",
   "version": "9.11.0.1769968 (R2021b)"
  }
 },
 "nbformat": 4,
 "nbformat_minor": 2
}
