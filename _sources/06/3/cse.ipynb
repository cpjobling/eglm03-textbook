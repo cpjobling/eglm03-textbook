{
 "cells": [
  {
   "cell_type": "markdown",
   "metadata": {
    "slideshow": {
     "slide_type": "slide"
    }
   },
   "source": [
    "# Continuous System Equivalence"
   ]
  },
  {
   "cell_type": "markdown",
   "metadata": {
    "slideshow": {
     "slide_type": "slide"
    }
   },
   "source": [
    "## Introduction\n",
    "\n",
    "In many cases, e.g. signal processing, control systems, etc., we want to\n",
    "design a digital system so that it behaves (dynamically and in\n",
    "steady-state) the same as a continuous system. A digital system that has\n",
    "the same input-behaviour as a (sampled) continuous system is called a\n",
    "*continuous equivalent*."
   ]
  },
  {
   "cell_type": "markdown",
   "metadata": {
    "slideshow": {
     "slide_type": "slide"
    }
   },
   "source": [
    "## Agenda\n",
    "\n",
    "In the pre-lecture presentation we will start by discussing the\n",
    "relationship of $s$ to $z$. We will then present four ways to convert a\n",
    "transfer function $H(s)$ into its digital equivalent $H(z)$. These are:\n",
    "\n",
    "-   The zero-order hold equivalent\n",
    "\n",
    "-   The Tustin bilinear transform equivalent\n",
    "\n",
    "-   Matched pole zero equivalent\n",
    "\n",
    "-   Modified matched pole-zero equivalent"
   ]
  },
  {
   "cell_type": "markdown",
   "metadata": {
    "slideshow": {
     "slide_type": "subslide"
    }
   },
   "source": [
    "## Examples\n",
    "\n",
    "Will be done in class"
   ]
  },
  {
   "cell_type": "markdown",
   "metadata": {
    "slideshow": {
     "slide_type": "notes"
    }
   },
   "source": [
    "Before we can describe what we might mean by a continuous equivalent system, it is necessary to establish the\n",
    "relationship between digital operations, such as the shift, and\n",
    "continuous operations."
   ]
  },
  {
   "cell_type": "markdown",
   "metadata": {
    "slideshow": {
     "slide_type": "slide"
    }
   },
   "source": [
    "## Equivalence of s and z"
   ]
  },
  {
   "cell_type": "markdown",
   "metadata": {
    "slideshow": {
     "slide_type": "slide"
    }
   },
   "source": [
    "### Sampling a Delayed Signal\n",
    "\n",
    "Consider a simple operation of sampling with a delay\n",
    "\n",
    "![fig 1](pictures/cse1.png)"
   ]
  },
  {
   "cell_type": "markdown",
   "metadata": {
    "slideshow": {
     "slide_type": "fragment"
    }
   },
   "source": [
    "This can be represented in transform as\n",
    "\n",
    "![fig 2](pictures/cse2.png)"
   ]
  },
  {
   "cell_type": "markdown",
   "metadata": {
    "slideshow": {
     "slide_type": "subslide"
    }
   },
   "source": [
    "### Delaying a Sampled Signal \n",
    "\n",
    "The same result could be obtained by delaying the continuous signal and then sampling.\n",
    "\n",
    "![fig 3](pictures/cse3.png)"
   ]
  },
  {
   "cell_type": "markdown",
   "metadata": {
    "slideshow": {
     "slide_type": "fragment"
    }
   },
   "source": [
    "Which can be represented in transform as\n",
    "\n",
    "![fig 4](pictures/cse4.png)"
   ]
  },
  {
   "cell_type": "markdown",
   "metadata": {
    "slideshow": {
     "slide_type": "subslide"
    }
   },
   "source": [
    "### Relationship of z to s\n",
    "\n",
    "From the preceding arguments "
   ]
  },
  {
   "cell_type": "markdown",
   "metadata": {
    "slideshow": {
     "slide_type": "fragment"
    }
   },
   "source": [
    "$$\\begin{equation}\n",
    "z^{-1} = e^{-sT}\n",
    "\\end{equation}$$ \n",
    "    "
   ]
  },
  {
   "cell_type": "markdown",
   "metadata": {
    "slideshow": {
     "slide_type": "fragment"
    }
   },
   "source": [
    "That is $$\\begin{equation}\n",
    "    z=e^{sT}\\end{equation}$$ \n",
    "    "
   ]
  },
  {
   "cell_type": "markdown",
   "metadata": {
    "slideshow": {
     "slide_type": "subslide"
    }
   },
   "source": [
    "or $$\\begin{equation}\n",
    "  s=\\frac{1}{T}\\ln z\\end{equation}$$"
   ]
  },
  {
   "cell_type": "markdown",
   "metadata": {
    "slideshow": {
     "slide_type": "notes"
    }
   },
   "source": [
    "This is the fundamental relationship of equivalence. Before using it, we\n",
    "must see how a continuous signal is reconstructed from a digital signal.\n",
    "This is accomplished by means of a \"*Digital-to-Analogue Converter*\""
   ]
  },
  {
   "cell_type": "markdown",
   "metadata": {
    "slideshow": {
     "slide_type": "slide"
    }
   },
   "source": [
    "## Digital-to-Analogue Converter"
   ]
  },
  {
   "cell_type": "markdown",
   "metadata": {
    "slideshow": {
     "slide_type": "subslide"
    }
   },
   "source": [
    "### Modelling a DAC with a Zero-Order Hold\n",
    "\n",
    "The simplest converter is a \"*Zero-Order Hold*\" (see Fig. 1). This acts the opposite way to a sampler.\n",
    "\n",
    "![Zero-Order Hold](pictures/zoh.png)\n",
    "**Figure 1: zero-order Hold**"
   ]
  },
  {
   "cell_type": "markdown",
   "metadata": {
    "slideshow": {
     "slide_type": "subslide"
    }
   },
   "source": [
    "### Operation of the Zero-order Hold\n",
    "\n",
    "During each sample period, the device holds\n",
    "the output $v(t)$ constant at the current value of the digital signal\n",
    "$v_k$."
   ]
  },
  {
   "cell_type": "markdown",
   "metadata": {
    "slideshow": {
     "slide_type": "fragment"
    }
   },
   "source": [
    " That is $$\\begin{equation}\n",
    "  v(t) = v_k\\ \\mathrm{for}\\ kT \\le t < (k+1)T\\end{equation}$$ "
   ]
  },
  {
   "cell_type": "markdown",
   "metadata": {
    "slideshow": {
     "slide_type": "fragment"
    }
   },
   "source": [
    "This generates a\n",
    "stepwise continuous signal $v(t)$ which at the sampling instants is\n",
    "equal to the continuous signal from which the digital signal ${v_k}$ was\n",
    "generated."
   ]
  },
  {
   "cell_type": "markdown",
   "metadata": {
    "slideshow": {
     "slide_type": "notes"
    }
   },
   "source": [
    "The signal may be considered as an infinite number of pulses of which\n",
    "the $k$-th is that shown in the next slide. "
   ]
  },
  {
   "cell_type": "markdown",
   "metadata": {
    "slideshow": {
     "slide_type": "subslide"
    }
   },
   "source": [
    "### Modelling the ZOH Mathematically"
   ]
  },
  {
   "cell_type": "markdown",
   "metadata": {
    "slideshow": {
     "slide_type": "subslide"
    }
   },
   "source": [
    "#### Step-wise continuous signal\n",
    "\n",
    "This represents the output of the zero-order hold $v(t) = v_k$ for $kT \\le t < (k+1)T$.\n",
    "\n",
    "![Pulse](pictures/pulse.png)"
   ]
  },
  {
   "cell_type": "markdown",
   "metadata": {
    "slideshow": {
     "slide_type": "notes"
    }
   },
   "source": [
    "To model such a signal we use the\n",
    "so-called \"*gating*\" property of the time-delayed unit-step function\n",
    "$\\epsilon(t)$ illustrated in the next slide."
   ]
  },
  {
   "cell_type": "markdown",
   "metadata": {
    "slideshow": {
     "slide_type": "subslide"
    }
   },
   "source": [
    "#### The Gating Function\n",
    "\n",
    "![Gating function](pictures/gate.png)"
   ]
  },
  {
   "cell_type": "markdown",
   "metadata": {
    "slideshow": {
     "slide_type": "notes"
    }
   },
   "source": [
    "The opening \"gate\" is given by $v_k \\epsilon (t-kT)$, a step of height\n",
    "$v_k$, which is activated at $t=kT$ seconds. The gate is \"closed\" by a\n",
    "negative going unit step, also of height $v_k$, which is activated at\n",
    "$t=\\{k+1\\}T$ seconds."
   ]
  },
  {
   "cell_type": "markdown",
   "metadata": {
    "slideshow": {
     "slide_type": "subslide"
    }
   },
   "source": [
    "The sum of these two signals is $$\\begin{eqnarray*}\n",
    "  p(t) &=& v_k \\epsilon(t - kT) - v_k \\epsilon(t - \\{k+1\\}T)\\\\\n",
    "       &=& v_k\\left[\\epsilon(t - kT) - \\epsilon(t - \\{k+1\\}T)\\right]\\end{eqnarray*}$$"
   ]
  },
  {
   "cell_type": "markdown",
   "metadata": {
    "slideshow": {
     "slide_type": "fragment"
    }
   },
   "source": [
    "So for the sequence: $$\\begin{equation}\n",
    "  v(t) = \\sum_{k=0}^{\\infty} v_k\\left[\\epsilon(t - kT) - \\epsilon(t - \\{k+1\\}T)\\right]\\end{equation}$$"
   ]
  },
  {
   "cell_type": "markdown",
   "metadata": {
    "slideshow": {
     "slide_type": "subslide"
    }
   },
   "source": [
    "In transform form this is $$\\begin{eqnarray*}\n",
    "  V(s) &=& \\sum_{k=0}^{\\infty} v_k\\left(\\frac{1}{s}e^{-kTs} -\n",
    "  \\frac{1}{s}e^{-\\left\\{k+1\\right\\}Ts}\\right)\\\\\n",
    "       &=& \\frac{1}{s}\\left(1-e^{-Ts}\\right) \\sum_{k=0}^{\\infty} v_k\n",
    "  e^{-kTs}\\\\\n",
    "       &=& \\frac{1}{s}\\left(1-z^{-1}\\right) \\sum_{k=0}^{\\infty} v_k\n",
    "  z^{-k}\\\\\n",
    "       &=& \\frac{1}{s}\\,\\frac{z-1}{z}\\,V(z)\\end{eqnarray*}$$"
   ]
  },
  {
   "cell_type": "markdown",
   "metadata": {
    "slideshow": {
     "slide_type": "subslide"
    }
   },
   "source": [
    "So the zero-order hold is represented by the mixed transfer function\n",
    "$$\\begin{equation}\n",
    "  G_{\\mathrm{zoh}}=\\frac{1}{s}\\,\\frac{z-1}{z}\\end{equation}$$ as shown in\n",
    "Fig. 2."
   ]
  },
  {
   "cell_type": "markdown",
   "metadata": {
    "slideshow": {
     "slide_type": "fragment"
    }
   },
   "source": [
    "![Transfer Function of the Zero-Order Hold](pictures/zohtf.png)\n",
    "**Figure 2: Transfer Function of the Zero-Order Hold**"
   ]
  },
  {
   "cell_type": "markdown",
   "metadata": {
    "slideshow": {
     "slide_type": "notes"
    }
   },
   "source": [
    "We can now design a 'hold-equivalent' digital system."
   ]
  },
  {
   "cell_type": "markdown",
   "metadata": {
    "slideshow": {
     "slide_type": "subslide"
    }
   },
   "source": [
    "#### Hold-Equivalent Digital System\n",
    "\n",
    "![Hold-Equivalent Digital System](pictures/holdequiv.png)"
   ]
  },
  {
   "cell_type": "markdown",
   "metadata": {
    "slideshow": {
     "slide_type": "subslide"
    }
   },
   "source": [
    "From the diagram in the previous slide. \n",
    "\n",
    "$$\\begin{eqnarray*}\n",
    "  Y(z) &=& H(z) U(z)\\\\\n",
    "  Y(z) &=& \\mathcal{Z} Y(s)\\\\\n",
    "       &=& \\mathcal{Z} \\frac{1}{s} H(s) \\frac{z-1}{z} U(z)\\end{eqnarray*}$$"
   ]
  },
  {
   "cell_type": "markdown",
   "metadata": {
    "slideshow": {
     "slide_type": "fragment"
    }
   },
   "source": [
    "so $$\\begin{equation}\n",
    "  H(z) = \\frac{z-1}{z} \\mathcal{Z} \\frac{H(s)}{s}\\end{equation}$$"
   ]
  },
  {
   "cell_type": "markdown",
   "metadata": {
    "slideshow": {
     "slide_type": "subslide"
    }
   },
   "source": [
    "#### Example 1\n",
    "\n",
    "If\n",
    "\n",
    "$$H(s) = \\frac{a}{s+a}$$ \n",
    "\n",
    "then find the Zero-Order Hold Equivalent $H(z)$"
   ]
  },
  {
   "cell_type": "markdown",
   "metadata": {
    "slideshow": {
     "slide_type": "notes"
    }
   },
   "source": [
    "##### Solution\n",
    "\n",
    "$$\\begin{eqnarray*}\n",
    "  H(z) &=& \\frac{z-1}{z}\\mathcal{Z} \\frac{a}{s(s+a)}\\\\\n",
    "       &=& \\frac{z-1}{z} \\frac{z(1-e^{-aT})}{(z-1)(z-e^{-aT})}\\\\\n",
    "       &=& \\frac{1-e^{-aT}}{z-e^{-aT}}.\\end{eqnarray*}$$\n",
    "\n",
    "**Malab note**: the zero-order-hold equivalent is the default system\n",
    "used for continuous system equivalence in *MATLAB*. To convert a\n",
    "continous system in any *lti* format<sup>1</sup> use:\n",
    "\n",
    "    lti_d = c2d(lti, Ts); % You must provide a sampling time or use -1 if undefined"
   ]
  },
  {
   "cell_type": "markdown",
   "metadata": {
    "slideshow": {
     "slide_type": "slide"
    }
   },
   "source": [
    "## Other Continuous System Equivalences "
   ]
  },
  {
   "cell_type": "markdown",
   "metadata": {
    "slideshow": {
     "slide_type": "subslide"
    }
   },
   "source": [
    "### Approximation based on numerical integration\n",
    "\n",
    "An alternative approach is to use the relationship \n",
    "\n",
    "$$s  = \\frac{1}{T}\n",
    "\\ln z.$$ \n",
    "\n",
    "This cannot be substituted into a transfer function directly as\n",
    "the result is not rational, but an approximation may be used."
   ]
  },
  {
   "cell_type": "markdown",
   "metadata": {
    "slideshow": {
     "slide_type": "subslide"
    }
   },
   "source": [
    "#### Approximation by Numerical Integration\n",
    "\n",
    "We wish to find a transfer function $T(z)$ that is equivalent to $T(s)=s$."
   ]
  },
  {
   "cell_type": "markdown",
   "metadata": {
    "slideshow": {
     "slide_type": "fragment"
    }
   },
   "source": [
    "Let us instead seek a transfer function $D(z)$ that is equivalent to $D(s) = 1/s$."
   ]
  },
  {
   "cell_type": "markdown",
   "metadata": {
    "slideshow": {
     "slide_type": "fragment"
    }
   },
   "source": [
    "![s-to-z](pictures/s-to-z.png)"
   ]
  },
  {
   "cell_type": "markdown",
   "metadata": {
    "slideshow": {
     "slide_type": "subslide"
    }
   },
   "source": [
    "Thus, the transfer function we are seeking will in fact be an approximation of the integral $y(t)=\\int u(t) dt$. We can illustrate this as shown in the next slide. "
   ]
  },
  {
   "cell_type": "markdown",
   "metadata": {
    "slideshow": {
     "slide_type": "subslide"
    }
   },
   "source": [
    "#### Model of Integration\n",
    "\n",
    "![integral1](pictures/integral1.png)"
   ]
  },
  {
   "cell_type": "markdown",
   "metadata": {
    "slideshow": {
     "slide_type": "notes"
    }
   },
   "source": [
    "If we sample the curve $u(t)$ and consider the situation at the $n$-th sampling instant, we will have \n",
    "\n",
    "$$y(nT) = \\int_{0}^{nT} u(t) dt$$\n",
    "\n",
    "We can rewrite this as $$y(nT)= \\int_{0}^{nT-T} u(t) dt + \\int_{nT-T}^{nT} u(t) dt$$\n",
    "\n",
    "where the second integral term is the shaded area shown in the next slide,"
   ]
  },
  {
   "cell_type": "markdown",
   "metadata": {
    "slideshow": {
     "slide_type": "subslide"
    }
   },
   "source": [
    "#### Sampled Model of Integration\n",
    "\n",
    "![integral2](pictures/integral2.png)"
   ]
  },
  {
   "cell_type": "markdown",
   "metadata": {
    "slideshow": {
     "slide_type": "notes"
    }
   },
   "source": [
    "Now if we assume that the first integral term was approximated by the digital integrator in the previous sampling\n",
    "instant, then $y(nT-T) = \\int_{0}^{nT-T} u(t) dt$ is known, and consequently we have \n",
    "\n",
    "$$y(nT) = y(nT-T) + \\int_{nT-T}^{nT} u(t) dt$$\n",
    "\n",
    "and we only need to determine the area of the shaded region to approximate $y(nT)$.\n",
    "\n",
    "The most obvious approximations are illustrated in the next three slides. "
   ]
  },
  {
   "cell_type": "markdown",
   "metadata": {
    "slideshow": {
     "slide_type": "subslide"
    }
   },
   "source": [
    "#### Forward Rectangular Approximation\n",
    "\n",
    "![backward rectangular approxation](pictures/backward-rect.png)"
   ]
  },
  {
   "cell_type": "markdown",
   "metadata": {
    "slideshow": {
     "slide_type": "subslide"
    }
   },
   "source": [
    "#### Backward Rectangular Approximation\n",
    "\n",
    "![Forward rectangular approximation](pictures/forward-rect.png)"
   ]
  },
  {
   "cell_type": "markdown",
   "metadata": {
    "slideshow": {
     "slide_type": "subslide"
    }
   },
   "source": [
    "#### Trapezoidal Approximation\n",
    "\n",
    "![Trapezoidal approximation](pictures/trapezoidal.png)"
   ]
  },
  {
   "cell_type": "markdown",
   "metadata": {
    "slideshow": {
     "slide_type": "notes"
    }
   },
   "source": [
    "It is clear that if we are to disallow any further subdivision of the shaded area, the *trapezoidal approximation* will provide the most accurate result."
   ]
  },
  {
   "cell_type": "markdown",
   "metadata": {
    "slideshow": {
     "slide_type": "subslide"
    }
   },
   "source": [
    "#### z-transform of trapezoidal approximation\n",
    "\n",
    "Completing the analysis, we can show that"
   ]
  },
  {
   "cell_type": "markdown",
   "metadata": {
    "slideshow": {
     "slide_type": "fragment"
    }
   },
   "source": [
    "$$y(nT)\\approx y(nT-T) + \\frac{T}{2}\\{u(nT-T)+u(T)\\}$$"
   ]
  },
  {
   "cell_type": "markdown",
   "metadata": {
    "slideshow": {
     "slide_type": "notes"
    }
   },
   "source": [
    "which on taking z-transforms gives "
   ]
  },
  {
   "cell_type": "markdown",
   "metadata": {
    "slideshow": {
     "slide_type": "fragment"
    }
   },
   "source": [
    "$$Y(z)=z^{-1}Y(z)+\\frac{T}{2}\\{z^{-1}U(z)+U(z)\\}$$"
   ]
  },
  {
   "cell_type": "markdown",
   "metadata": {
    "slideshow": {
     "slide_type": "notes"
    }
   },
   "source": [
    "thus"
   ]
  },
  {
   "cell_type": "markdown",
   "metadata": {
    "slideshow": {
     "slide_type": "subslide"
    }
   },
   "source": [
    "\n",
    "$$\\frac{Y(z)}{U(z)}=D(z)=\\frac{T}{2}\\left\\{ {\\frac{1 + {z^{ - 1}}}{1 - {z^{ - 1}}}} \\right\\}.$$\n"
   ]
  },
  {
   "cell_type": "markdown",
   "metadata": {
    "slideshow": {
     "slide_type": "subslide"
    }
   },
   "source": [
    "#### Approximation of s by numerical integration\n",
    "\n",
    "By comparison with continuous integration $Y(s)/U(s)=1/s$, this result, obtained by *numerical integration* allows us to say that \n",
    "\n",
    "$$s \\approx \\frac{2}{T}\\left\\{\\frac{1-z^{-1}}{1+z^{-1}}\\right\\}.$$ "
   ]
  },
  {
   "cell_type": "markdown",
   "metadata": {
    "slideshow": {
     "slide_type": "notes"
    }
   },
   "source": [
    "These results are summarised in the next few slides."
   ]
  },
  {
   "cell_type": "markdown",
   "metadata": {
    "slideshow": {
     "slide_type": "subslide"
    }
   },
   "source": [
    "### Summary of Numerical Integration Methods"
   ]
  },
  {
   "cell_type": "markdown",
   "metadata": {
    "slideshow": {
     "slide_type": "subslide"
    }
   },
   "source": [
    "#### Trapezoidal approximation\n",
    "\n",
    "$$\\begin{eqnarray*}\n",
    "     s &=& \\frac{2}{T}\\, \\frac{z-1}{z+1} \\\\\n",
    "     z &=& \\frac{1 + 1/2 sT}{1 - 1/2 sT}\n",
    "  \\end{eqnarray*}$$"
   ]
  },
  {
   "cell_type": "markdown",
   "metadata": {
    "slideshow": {
     "slide_type": "subslide"
    }
   },
   "source": [
    "compare expansion\n",
    "\n",
    "$$z=(1+ (1/2) sT)(1- (1/2) sT)^{-1} = 1 + sT + (1/2) s^2T^2 + (1/4) s^3T^3 + \\cdots$$ \n",
    "\n",
    "with\n",
    "\n",
    "$$z = e^{sT} = 1 + sT + (1/2) s^2T^2 + (1/6) s^3T^3 + \\cdots$$"
   ]
  },
  {
   "cell_type": "markdown",
   "metadata": {
    "slideshow": {
     "slide_type": "notes"
    }
   },
   "source": [
    "This approximation is known as \"*Tustin's Bilinear Transformation*\"."
   ]
  },
  {
   "cell_type": "markdown",
   "metadata": {
    "slideshow": {
     "slide_type": "subslide"
    }
   },
   "source": [
    "#### Forward rectangular approximation\n",
    "\n",
    "$$\\begin{aligned}\n",
    "     s &=& \\frac{z-1}{T} \\\\\n",
    "     z &=& 1 + sT\n",
    "  \\end{aligned}$$ \n",
    "  "
   ]
  },
  {
   "cell_type": "markdown",
   "metadata": {
    "slideshow": {
     "slide_type": "fragment"
    }
   },
   "source": [
    "compare with\n",
    "\n",
    "$$z = e^{sT} = 1 + sT + (1/2) s^2T^2 + (1/6) s^3T^3 + \\cdots$$"
   ]
  },
  {
   "cell_type": "markdown",
   "metadata": {
    "slideshow": {
     "slide_type": "subslide"
    }
   },
   "source": [
    "#### Backward rectangular approximation\n",
    "\n",
    "$$\\begin{aligned}\n",
    "     s &=& \\frac{z-1}{Tz} \\\\\n",
    "     z &=& \\frac{1}{1 + sT}\n",
    "  \\end{aligned}$$ \n",
    "  "
   ]
  },
  {
   "cell_type": "markdown",
   "metadata": {
    "slideshow": {
     "slide_type": "fragment"
    }
   },
   "source": [
    "compare expansion\n",
    "\n",
    "$$z=(1-sT)^{-1} = 1 + sT + s^2T^2 + s^3T^3 + \\cdots$$ \n",
    "\n",
    "with\n",
    "\n",
    "$$z = e^{sT} = 1 + sT + (1/2) s^2T^2 + (1/6) s^3T^3 + \\cdots$$"
   ]
  },
  {
   "cell_type": "markdown",
   "metadata": {
    "slideshow": {
     "slide_type": "slide"
    }
   },
   "source": [
    "### Example 2 \n",
    "\n",
    "If\n",
    "\n",
    "$$H(s) = \\frac{a}{s+a},$$ \n",
    "\n",
    "determine the equivalent $H(z)$ using Tustin's bilinear transformation."
   ]
  },
  {
   "cell_type": "markdown",
   "metadata": {
    "slideshow": {
     "slide_type": "notes"
    }
   },
   "source": [
    "#### Solution\n",
    "\n",
    "Tustin's bilinear transformation gives a digital system with transfer\n",
    "function \n",
    "\n",
    "$$\\begin{eqnarray*}\n",
    "   H(z)&=& \\frac{a}{\\frac{2}{T}\\,\\frac{z-1}{z+1}+a} \\\\\n",
    "       &=& \\frac{\\left(\\frac{(aT)/2}{1+(aT)/2}\\right)(z+1)}{z-\\left(\\frac{1-(aT)/2}{1+(aT)/2}\\right)}.\n",
    " \\end{eqnarray*}$$\n",
    "\n",
    "**Malab note**: the bilinear transform equivalent is obtained by passing\n",
    "the argument `'tustin'` to the *c2d* method:\n",
    "\n",
    "    lti_d = c2d(lti, Ts, 'tustin');"
   ]
  },
  {
   "cell_type": "markdown",
   "metadata": {
    "slideshow": {
     "slide_type": "slide"
    }
   },
   "source": [
    "### Matched pole-zero approximations "
   ]
  },
  {
   "cell_type": "markdown",
   "metadata": {
    "slideshow": {
     "slide_type": "notes"
    }
   },
   "source": [
    "Another way to obtain a digital approximation of a continuous transfer function is to use the relationship $z = e^{sT}$ to map poles and zeros of the continuous transfer function into poles and zeros in the z-transfer function.\n",
    "\n",
    "Since continuous transfer functions often have more poles than zeros, that is $n-m$ zeros at infinity, zeros at infinity are replaced in the z-transfer function by zeros at $z = -1$ which is equivalent to half the sampling frequency $\\omega_s/2$ (i.e. the highest frequency possible in the z-domain). Thus if $n-m =1$ we add $(1+z^{-1})$, if $n-m=2$, $(1+z^{-1})^2$, etc."
   ]
  },
  {
   "cell_type": "markdown",
   "metadata": {
    "slideshow": {
     "slide_type": "subslide"
    }
   },
   "source": [
    "####  Matched-Pole Zero method\n",
    "\n",
    "Idea is that all poles and zeros of continuous transfer function $D(s)$ can become poles and zeros of digital transfer function $D(z)$ if the mapping $z=e^{sT}$ is used."
   ]
  },
  {
   "cell_type": "markdown",
   "metadata": {
    "slideshow": {
     "slide_type": "subslide"
    }
   },
   "source": [
    "Method:\n",
    "\n",
    "1.  Map finite poles and zeros of $D(s)$ to poles and zeros of $D(z)$\n",
    "    according to $z=e^{sT}$."
   ]
  },
  {
   "cell_type": "markdown",
   "metadata": {
    "slideshow": {
     "slide_type": "fragment"
    }
   },
   "source": [
    "2.  Add zeros at $z=-1$ for each infinite zero in $D(s)$."
   ]
  },
  {
   "cell_type": "markdown",
   "metadata": {
    "slideshow": {
     "slide_type": "fragment"
    }
   },
   "source": [
    "3.  Match DC or low-frequency gain."
   ]
  },
  {
   "cell_type": "markdown",
   "metadata": {
    "slideshow": {
     "slide_type": "slide"
    }
   },
   "source": [
    "#### Example 3\n",
    "\n",
    "Use the Matched-Pole-Zero (MPZ) approximation to give the z-transfer function equivalent to \n",
    "\n",
    "$$D(s)=\\frac{s+a}{s+b}.$$"
   ]
  },
  {
   "cell_type": "markdown",
   "metadata": {
    "slideshow": {
     "slide_type": "notes"
    }
   },
   "source": [
    "##### Solution \n",
    "\n",
    "Order of numerator and denominator are equal so there are no infinite\n",
    "zeros and by matching poles and zeros\n",
    "\n",
    "$$D(z)=k\\left(\\frac{1-e^{-aT}z^{-1}}{1 - e^{-bT}z^{-1}}\\right).$$\n",
    "\n",
    "For $D(s)$ the DC gain is $D(s)|_{s=0} = a/b$. \n",
    "\n",
    "The DC gain for $D(z)$ is \n",
    "\n",
    "$$\\left.D(z)\\right|_{z=1}$$ \n",
    "\n",
    "(from final value theorem) that is\n",
    "\n",
    "$$k\\left(\\frac{1-e^{-aT}}{1-e^{-bT}}\\right) = \\frac{a}{b}.$$\n",
    "\n",
    "We choose $k$ so that the DC gains match, i.e. \n",
    "\n",
    "$$k=\\frac{a}{b}\\left(\\frac{1-e^{-bT}}{1-e^{-aT}}\\right).$$"
   ]
  },
  {
   "cell_type": "markdown",
   "metadata": {
    "slideshow": {
     "slide_type": "subslide"
    }
   },
   "source": [
    "#### Example 4\n",
    "\n",
    "Use the Matched-Pole-Zero (MPZ) approximation to give the z-transfer\n",
    "function equivalent to \n",
    "\n",
    "$$D(s)=\\frac{s+a}{s(s+b)}.$$"
   ]
  },
  {
   "cell_type": "markdown",
   "metadata": {
    "slideshow": {
     "slide_type": "notes"
    }
   },
   "source": [
    "##### Solution \n",
    "\n",
    "Here, the order of the denominator is one greater than the numerator so there is $n-m = 2 - 1 = 1$ infinite zero. Placing this zero at $z = -1$ makes the MPZ transfer function\n",
    "\n",
    "$$D(z)=k\\left(\\frac{(1+z^{-1})(1-e^{-aT}z^{-1})}{(1-z^{-1})(1 - e^{-bT}z^{-1})}\\right).$$\n",
    "\n",
    "As $D(s)$ is type 1, we can't use the value of $D(0)$ to compute the DC\n",
    "gain. Instead, let us compute the gain at $s = -1$: \n",
    "\n",
    "$$\\begin{eqnarray*}\n",
    "  D( - 1) &=& \\left. \\frac{s + a}{s(s + b)} \\right|_{s =  - 1} \\\\\n",
    "   &=& \\frac{-1 + a}{( - 1)(-1 + b)} = \\frac{a - 1}{(1 - b)} \\\\\\end{eqnarray*}$$\n",
    "\n",
    "The equivalent value $s=-1$ in the $z$-plane is $z=e^{-T}$.\n",
    "\n",
    "$$\\begin{eqnarray*}\n",
    "  k\\left.\\frac{(1 + z^{-1})(1 - e^{-aT}z^{-1})}{(1 - e^{-bT}z^{-1})} \\right|_{z = e^{-T}} &=& \\frac{(1 + {e^T})(1 - e^{-aT}e^T)}{(1 - e^{-bT}e^T)} \\hfill \\\\\n",
    "   &=& k\\frac{\\left( 1 + {e^T} \\right)\\left( 1 - e^{- (1 - a)T} \\right)}{\\left( 1 - e^{-(1-b)T} \\right)} \\hfill \\\\\n",
    "\\end{eqnarray*}$$\n",
    "\n",
    "Again, we choose $k$ so that the equivalent gains match, i.e.\n",
    "\n",
    "$$k =  \\left( \\frac{1 - b}{a - 1} \\right)\\frac{\\left( 1 - e^{-(1-b)T} \\right)}{\\left( 1 + {e^T} \\right)\\left( 1 - e^{ - (1 - a)T}\\right)}.$$"
   ]
  },
  {
   "cell_type": "markdown",
   "metadata": {
    "slideshow": {
     "slide_type": "notes"
    }
   },
   "source": [
    "We would implement $D(z)$ as a *difference equation* defined in terms of the sampled inputs and outputs as shown\n",
    "for Example 3."
   ]
  },
  {
   "cell_type": "markdown",
   "metadata": {
    "slideshow": {
     "slide_type": "subslide"
    }
   },
   "source": [
    "#### Implementation of an MPZ Approximation\n",
    "\n",
    "If\n",
    "\n",
    "$$\\frac{Y(z)}{U(z)}=D(z)=k\\frac{1-\\alpha z^{-1}}{1-\\beta z^{-1}}$$"
   ]
  },
  {
   "cell_type": "markdown",
   "metadata": {
    "slideshow": {
     "slide_type": "fragment"
    }
   },
   "source": [
    "then the digital implementation will be\n",
    "\n",
    "$$y(n)=\\beta y(n-1)+k(u(n)-\\alpha u(n-1))$$"
   ]
  },
  {
   "cell_type": "markdown",
   "metadata": {
    "slideshow": {
     "slide_type": "subslide"
    }
   },
   "source": [
    "$y(n)$ is the current calculated value, $y(n-1)$ is previous calculated value, $u(n)$ is current sample, and $u(n-1)$ is previous sample."
   ]
  },
  {
   "cell_type": "markdown",
   "metadata": {
    "slideshow": {
     "slide_type": "fragment"
    }
   },
   "source": [
    "Implementation only works if computation rate $<<$ significant dynamics of the sampled system and a small fraction of sampling time $T$."
   ]
  },
  {
   "cell_type": "markdown",
   "metadata": {
    "slideshow": {
     "slide_type": "notes"
    }
   },
   "source": [
    "In the implementation, you should notice that it is actually physically impossible to sample $u(t)$, compute $y(n)$ and output $y(n)$ all at the same instant of time. Hence the equation is actually impossible to implement. However, if the computation is sufficiently fast, the delay between sampling $u(t)$ and outputting $y(t)$ will be small and can often be neglected. A rule of thumb has computation delay $< t_r/20$ of the dominant pole. It should certainly be a small fraction of the sampling period $T$."
   ]
  },
  {
   "cell_type": "markdown",
   "metadata": {
    "slideshow": {
     "slide_type": "subslide"
    }
   },
   "source": [
    "#### Modified MPZ\n",
    "\n",
    "Used if constraint on computation time cannot be met<sup>2</sup>."
   ]
  },
  {
   "cell_type": "markdown",
   "metadata": {
    "slideshow": {
     "slide_type": "fragment"
    }
   },
   "source": [
    "Allow a zero at infinity in $D(z)$ so that order of numerator is one less than denominator."
   ]
  },
  {
   "cell_type": "markdown",
   "metadata": {
    "slideshow": {
     "slide_type": "fragment"
    }
   },
   "source": [
    "This ensures that only past values of $u$ and $y$ appear in the implementation equation and a whole sample period is available for computation"
   ]
  },
  {
   "cell_type": "markdown",
   "metadata": {
    "slideshow": {
     "slide_type": "subslide"
    }
   },
   "source": [
    "####  Example 5\n",
    "\n",
    "Re-implement Example 3 using the Modified MPZ method."
   ]
  },
  {
   "cell_type": "markdown",
   "metadata": {
    "slideshow": {
     "slide_type": "notes"
    }
   },
   "source": [
    "##### Solution\n",
    "\n",
    "If we allow an infinite zero \n",
    "\n",
    "$$D(s)=\\frac{s+a}{s(s+b)}$$\n",
    "\n",
    "becomes\n",
    "\n",
    "$$D(z)=k\\frac{(1-e^{-aT}z^{-1})}{(1-z^{-1})(1-e^{-bT}z^{-1})}$$\n",
    "\n",
    "and\n",
    "\n",
    "$$k = \\left( \\frac{1 - b}{a - 1} \\right)\\frac{\\left( 1 - e^{ - (1 - b)T} \\right)}{\\left( 1 - e^{ - (1 - a)T} \\right)}.$$\n",
    "\n",
    "The implementation is now\n",
    "\n",
    "$$y(n) = (1 - e^{-bT})y(n-1)-e^{-bT}y(n-2)+k(u(n-1)-e^{-aT}u(n-2))$$\n",
    "\n",
    "and now the computation for $y(n)$ is performed only on past values of $u(n)$ and $y(n)$ and a whole sample period is available for computation.\n",
    "\n",
    "**Matlab note**: the matched-pole zero equivalent of an LTI system is\n",
    "obtained by passing `'matched'` as the third argument to *c2d*:\n",
    "\n",
    "    lti_d = c2d(lti, Ts, 'matched')\n",
    "\n",
    "There isn't a built-in method that returns the *modified*-matched-pole\n",
    "zero equivalent.\n",
    "\n",
    "## Footnotes\n",
    "\n",
    "1: The LTI functions are `tf`, `ss`, and `zpk`. For more information,\n",
    "    type `help lti` inside *MATLAB*.\n",
    "\n",
    "2: Which these days is unlikely"
   ]
  },
  {
   "cell_type": "markdown",
   "metadata": {
    "slideshow": {
     "slide_type": "slide"
    }
   },
   "source": [
    "## End of Pre-Class Presentation\n",
    "\n",
    "In class we will do the examples and conclude with a MATLAB demo."
   ]
  },
  {
   "cell_type": "markdown",
   "metadata": {
    "slideshow": {
     "slide_type": "slide"
    }
   },
   "source": [
    "## MATLAB example\n",
    "\n",
    "Available as a MATLAB Live Script file [cse.mlx](matlab/cse.mlx)."
   ]
  },
  {
   "cell_type": "markdown",
   "metadata": {
    "slideshow": {
     "slide_type": "subslide"
    }
   },
   "source": [
    "Let \n",
    "\n",
    "$$G(s) = \\frac{a}{s + a}$$"
   ]
  },
  {
   "cell_type": "markdown",
   "metadata": {
    "slideshow": {
     "slide_type": "subslide"
    }
   },
   "source": [
    "Set up MATLAB"
   ]
  },
  {
   "cell_type": "code",
   "execution_count": 1,
   "metadata": {
    "slideshow": {
     "slide_type": "slide"
    }
   },
   "outputs": [
    {
     "name": "stdout",
     "output_type": "stream",
     "text": [
      "ans =\n",
      "    '/Users/eechris/code/src/github.com/cpjobling/eglm03-textbook/06/3/matlab'\n"
     ]
    }
   ],
   "source": [
    "clear all\n",
    "cd matlab\n",
    "pwd\n",
    "format compact\n",
    "imatlab_export_fig('print-svg')  % Static svg figures.\n"
   ]
  },
  {
   "cell_type": "markdown",
   "metadata": {
    "slideshow": {
     "slide_type": "subslide"
    }
   },
   "source": [
    "Let $a = 1$"
   ]
  },
  {
   "cell_type": "code",
   "execution_count": 2,
   "metadata": {
    "slideshow": {
     "slide_type": "fragment"
    }
   },
   "outputs": [],
   "source": [
    "a = 1;"
   ]
  },
  {
   "cell_type": "markdown",
   "metadata": {
    "slideshow": {
     "slide_type": "fragment"
    }
   },
   "source": [
    "Then"
   ]
  },
  {
   "cell_type": "code",
   "execution_count": 3,
   "metadata": {
    "slideshow": {
     "slide_type": "fragment"
    }
   },
   "outputs": [
    {
     "name": "stdout",
     "output_type": "stream",
     "text": [
      "\n",
      "Gs =\n",
      " \n",
      "    1\n",
      "  -----\n",
      "  s + 1\n",
      " \n",
      "Continuous-time transfer function.\n",
      "\n"
     ]
    }
   ],
   "source": [
    "Gs = tf([a],[1, a])"
   ]
  },
  {
   "cell_type": "markdown",
   "metadata": {
    "slideshow": {
     "slide_type": "subslide"
    }
   },
   "source": [
    "Sample period"
   ]
  },
  {
   "cell_type": "code",
   "execution_count": 4,
   "metadata": {
    "slideshow": {
     "slide_type": "fragment"
    }
   },
   "outputs": [],
   "source": [
    "Ts = 1/5; % seconds"
   ]
  },
  {
   "cell_type": "markdown",
   "metadata": {
    "slideshow": {
     "slide_type": "subslide"
    }
   },
   "source": [
    "### Hold equivalent"
   ]
  },
  {
   "cell_type": "code",
   "execution_count": 5,
   "metadata": {
    "slideshow": {
     "slide_type": "fragment"
    }
   },
   "outputs": [
    {
     "name": "stdout",
     "output_type": "stream",
     "text": [
      "\n",
      "Gz_zoh =\n",
      " \n",
      "    0.1813\n",
      "  ----------\n",
      "  z - 0.8187\n",
      " \n",
      "Sample time: 0.2 seconds\n",
      "Discrete-time transfer function.\n",
      "\n"
     ]
    }
   ],
   "source": [
    "Gz_zoh = c2d(Gs, Ts, 'zoh')"
   ]
  },
  {
   "cell_type": "markdown",
   "metadata": {
    "slideshow": {
     "slide_type": "subslide"
    }
   },
   "source": [
    "This is also default"
   ]
  },
  {
   "cell_type": "code",
   "execution_count": 6,
   "metadata": {
    "slideshow": {
     "slide_type": "fragment"
    }
   },
   "outputs": [
    {
     "name": "stdout",
     "output_type": "stream",
     "text": [
      "\n",
      "Gz_zoh =\n",
      " \n",
      "    0.1813\n",
      "  ----------\n",
      "  z - 0.8187\n",
      " \n",
      "Sample time: 0.2 seconds\n",
      "Discrete-time transfer function.\n",
      "\n"
     ]
    }
   ],
   "source": [
    "Gz_zoh = c2d(Gs, Ts)"
   ]
  },
  {
   "cell_type": "markdown",
   "metadata": {
    "slideshow": {
     "slide_type": "subslide"
    }
   },
   "source": [
    "Plot Result"
   ]
  },
  {
   "cell_type": "code",
   "execution_count": 7,
   "metadata": {
    "slideshow": {
     "slide_type": "fragment"
    }
   },
   "outputs": [
    {
     "data": {
      "image/svg+xml": [
       "<?xml version=\"1.0\"?>\n",
       "<!DOCTYPE svg PUBLIC '-//W3C//DTD SVG 1.0//EN'\n",
       "          'http://www.w3.org/TR/2001/REC-SVG-20010904/DTD/svg10.dtd'>\n",
       "<svg xmlns:xlink=\"http://www.w3.org/1999/xlink\" style=\"fill-opacity:1; color-rendering:auto; color-interpolation:auto; text-rendering:auto; stroke:black; stroke-linecap:square; stroke-miterlimit:10; shape-rendering:auto; stroke-opacity:1; fill:black; stroke-dasharray:none; font-weight:normal; stroke-width:1; font-family:'Dialog'; font-style:normal; stroke-linejoin:miter; font-size:12px; stroke-dashoffset:0; image-rendering:auto;\" width=\"560\" height=\"420\" xmlns=\"http://www.w3.org/2000/svg\"\n",
       "><!--Generated by the Batik Graphics2D SVG Generator--><defs id=\"genericDefs\"\n",
       "  /><g\n",
       "  ><defs id=\"defs1\"\n",
       "    ><clipPath clipPathUnits=\"userSpaceOnUse\" id=\"clipPath1\"\n",
       "      ><path d=\"M0 0 L560 0 L560 420 L0 420 L0 0 Z\"\n",
       "      /></clipPath\n",
       "    ></defs\n",
       "    ><g style=\"fill:white; stroke:white;\"\n",
       "    ><rect x=\"0\" y=\"0\" width=\"560\" style=\"clip-path:url(#clipPath1); stroke:none;\" height=\"420\"\n",
       "    /></g\n",
       "    ><g\n",
       "    ><image x=\"0\" y=\"0\" width=\"560\" xlink:href=\"data:image/png;base64,iVBORw0KGgoAAAANSUhEUgAAAjAAAAGkCAIAAACgjIjwAAAnmElEQVR42u3dDXRT\n",
       "9fnA8frC8Q2mCKjT4Z8dHYqKZygbOobUbRzPNlGn8w31gC+jTGgMBAjNoMmhVGDt\n",
       "RKI4sNjSdu0WcApCq+hogVN5qSeFTqRSipXqqkgLFWzTpG34P/Qn15iXKm+5N+n3\n",
       "c3I8l7SksU+53/yS25uEIwAAGEAC3wIAAEECAIAgAQAIEgAABAkAQJAAACBIAACC\n",
       "BAAAQQIAECQAAAgSAIAgAQBAkAAABAkAAIIEACBIAAAQJAAAQQIAgCABAAgSAAAE\n",
       "CQBAkAAAIEgAAIIEAABBAgAQJAAACBIAgCABAECQAAAECQAAggQAIEhA99XU1LRz\n",
       "584DBw7wrQAIEqCP9vb28ePHn3XWWQkJCWecccZ9993X0tLS2to6ffr05cuXn8AN\n",
       "rlq1KiFA375909LS+D4DBAn4Dvn5+ZKNe++99/XXX//DH/4g2+np6YcOHZKNRx99\n",
       "9ISDNHz48Hnz5lmt1j59+sgf33vvPb7VAEECuiL5kWBMmjSpoaHhiy+++Otf/1pU\n",
       "VDRw4EC5slevXg8++KB8zvPPP//jH//4wgsvvP/++w8ePJiVlXXNNdeMHTtWrrn6\n",
       "6qv/9a9/hQbJYrGoPz755JPyR7nN0Nv59NNPb7/99nPPPVe+0COPPCIrs0i3LNfL\n",
       "H88777xbb71169at6hr5zOTk5IsvvlgWYQUFBaG3FvoVGTcIEmBc1dXVvXv3lmac\n",
       "eeaZN99889y5c71eb25urlwzYsSIdevWvfrqq7I9fvz4+fPn9+jR4+GHH5bPkWuG\n",
       "Dh0qVZB0yZV1dXVBQRo5cmRmZqbNZpNa9OvXT2IQejszZsyQa3JycubMmXPBBRfI\n",
       "Wi3sLZeUlMiVo0aNevnll6+88kq5taamJvWZN95448yZMyVC/fv3D7210K/IuEGQ\n",
       "AEPbt29fRkbGr3/9a9lryx78T3/6U+BTdg899JBsP/XUU7Jn79Onj+z9VQykVfLR\n",
       "wsJC2ZaABQXpnHPOkXKoG3zggQfC3o7T6ZRrLrnkElnQyBKnvb097C1PnjxZNmpq\n",
       "auTKF198Ubbfeust9ZnqVS4J51lnnRV6a6FfkVmDIAHGJbv7X/3qV7LmkO29e/fK\n",
       "XvuKK64IDNI999wj22azOeUY9Szfu+++q+VnyZIlQUFST9nJ7dx0003yxx07doTe\n",
       "Tltb29q1aydNmiTrHvmQrGxUZoJueeLEibLxySefyJWvvPKKbMuH1Gdu3rxZrhw9\n",
       "evQZZ5whG0G3FvYrMnEQJMCgZDcte+3f//73r776quzEZc/+m9/85quvvpIrBw8e\n",
       "vH79+oULF8r2tGnTZOHyi1/8YsyYMSoGkoGysrLExETZrqysDBskkZqaKn8sLi4O\n",
       "vZ3HHnvsBz/4gbTqzTfflA+ZTKawtyzLILVukyuHDBly/vnnf/bZZ6FBCr210K/I\n",
       "uEGQAOPyeDyyElKHfYthw4apJ8fuuOMO9Uefzzd27NgzzzxTdvo33nhjbW2tioF8\n",
       "SP579tln2+32wBt844035PqpU6eqP+bl5ckfn3vuudDbkXj85Cc/UV9XNqqrqyPd\n",
       "styaevavb9++Ek65JjBId911l9xm6K2FfkXGDYIEGJ0siXbt2hX0i7HSKq/Xq7Zb\n",
       "WloaGhrUthaDxsZGdTDb9xd4O8Lv99d3ko2ub1nuyaeffqo+LZKgWwv7FQGCBMSP\n",
       "efPmybJjy5YtMXTLAEECAIAgAQAIEgAABAkAQJAAACBI36m8vLywsJB5AwBB0o06\n",
       "Q/PEiROXLVvGvAGAIOnG4/GoU7AQJAAgSPorLy8PG6Sbb755/DFss812pO2bb14t\n",
       "l4QEh/x34MBNcklIyFEbndull1++S12+vV3bq1eDugRtJyQc+f4X7S9+z4t2B07s\n",
       "Iv9HYa80zkWN4wQuBMnQQZJ/aQa5h8a5J9yZmLszDsfXl3Hjvr4kJn59GTDg60vQ\n",
       "Lj70GnXR/qJ2U9qNy5WMKabvjKG+LQSJIHFnDH1nArsSWJRI5ZBHyoHN0BKiLoyJ\n",
       "O0OQCBL/hLgz4UujZSa0MWpFoj5Noz6ZMXFnCFJ3YfwJwfhycr7Vm+8sDcDujiAR\n",
       "JJyUoOqo12a0Ask2wO6OIBEknPr2qJfxtfCohU4C5zYBuzuCRJBwWvOjvbSjtUc7\n",
       "rCDwQpDA7o4gESScGrW131r9BB4GHf0j0wB2dwSJIHW7BZC2BpLLd/5KDcDujiAx\n",
       "IZwapaXfWgOFHuTGM29gd0eQmBBOe4TUkW+yzWFvAEFiQogS9YKQWgmpCAUiSABB\n",
       "YkI47dQR2OoFoUCB584hSABBYkI4XYshyUzQYogzIAAEiQkheoshtdwJ2x6CBBAk\n",
       "JoRoLIlUh3Jygk9lrdc5rQF2dwSJIHWvDnFqOIAgMSHoRq2HIj01B4AgMSFEaUmk\n",
       "ncY08AKAIDEhRClFnMsHYHdHkAiSnilSp1TQnp0jSAC7O4JEkKKqtPTr5+JkAwC7\n",
       "O4JEkHRLUUICb+kNsLsjSARJJ7W1X6dINgCwuyNIBEmfFKnXio4c4ZdYAXZ3BIkg\n",
       "6ZSioDeAIEgAuzuCRJCiTf1eURCCBLC7I0gEKaoLI/X+eKEIEsDurrsEye/3FxQU\n",
       "WK1Wh8NRVVWlXd/a2rp06VK5Pj09fe/evQTp9KVIPUcnNVIXAASpmwapoqLCbrd7\n",
       "PB63252SkqJdv3r16pdeeqmjo2PDhg3z5s0jSKdDaenR5+jCPlMHgCB1uyC5XK7i\n",
       "4mK1bbFYGhsb1bbUqLy8XDba2tpkHl6vlyCdWoEHLxAkgCARpCPZ2dllZWXHdpGO\n",
       "uro6bYW0cOHChoaGt99+W+YhG0ET0vDzesILo29+nggSYLwOxcpeLn72H/n5+SUl\n",
       "JWrbZrPV19erbVkYrVmzZtGiRUVFRVOnTvX7/ayQTuHCKOgMQAQJYIVEkI5IjZxO\n",
       "p2xIikwmk8/n83q9sk7atm3bO++8I9e73W5ZKsXchAxI/bpr2MMWCBJAkAjSEclP\n",
       "RkaG1Wo1m83qubuampqkpCSPxzN//vyZM2daLBa5hiCdJPU0nVwIEkCQCFL3mpCh\n",
       "qKfp+I0igN0dQSJIugl8mo4gAezuCBJB0q1GgW+mR5AAdncEiSDpQL1oFIggAezu\n",
       "CBJBiracnDDHdhMkgN0dQSJIURX0/hEECWB3R5AIkg66OEEqQQLY3REkghQl6h3H\n",
       "OW83wO6OIDEhnddG/H4rwO6OIDEh/Wuk/RcAuzuCxIR0q5F6fYggAezuCBIT0r9G\n",
       "BAlgd0eQmJAhakSQAHZ3BIkJGaJGANjdESQmpANJEeshgN0dQWJChlgeAWB3R5CY\n",
       "kJ5ycqgRwO6OIDEhAxgwIPwFALs7gsSEokS9owTtAdjdESQmpKfa2qM1kiYRJIDd\n",
       "HUFiQnpKTAx+fyMA7O4IEhPSoUbaO5EDYHdHkJiQPiRFHFYHsLsjSExIZ7xoBLC7\n",
       "I0hMSH/agQwA2N0RJCakJw5kAECQosfv9xcUFFitVofDUVVVpV3f0dGRl5c3ffp0\n",
       "u93+wQcfdMMgORzhz53KM3gAQSJIp0VFRYUkx+PxuN3ulJQU7frt27fPnj3b5/Nt\n",
       "2rRp1qxZ3S1IsjCKdCADQQIIEkE6LVwuV3Fxsdq2WCyNjY1qe+fOnXPnzm1ra5NQ\n",
       "paWlhU5IE5c/gl28dESQgG7SoVjZy8VPkLKzs8vKytS2w+Goq6tT283NzampqVOn\n",
       "Tp0wYUJJSUm3WiEFvnQk20EXggSwQiJIp0V+fr7WG5vNVl9fr7ZXrVqVm5vr9/sb\n",
       "GhrMZvOhQ4e6SZD4rSMABEkfUiOn0ykbkiKTyeTz+bxer6yTXC5XXl6eXN/S0jJl\n",
       "yhTtqby4DxILIAAESR+Sn4yMDKvVKssg9dxdTU1NUlLSgQMHZs+eLWumadOmrV69\n",
       "OuYmdGK0J+s4URAAgsSEdBN4nDdBAkCQmJBuAp+sI0gACBIT0kfQSRkIEgCCxIR0\n",
       "EHpSBoIEgCAxIT3GmRAmUQBAkJhQVIU9gypBAkCQmFBU5eSE/zVYggSAIDGh6A4y\n",
       "4eibHhEkAASJCelJ1kaRwkOQABAkJhQlvDc5AILEhIwxwoSjQQq8AABBYkLRlpMT\n",
       "5lBvACBITEif5REAECQmpKdx445eCBIAgsSE9FRb+/WTdQQJAEFiQnpKTDz6AhIA\n",
       "ECQmpKfSUt6eHABBYkLGWB6FnrYOAAgSE2J5BIDdHUHqfkFieQSAIDEh/eXkBL8F\n",
       "HwAQJCZkiOURh30DIEhMyBDLI4IEgCAxoWiT9oS+6RFBAkCQmJD+yyOCBIAgGY7f\n",
       "7y8oKLBarQ6Ho6qqSrt+7dq1jgCNjY0xGqSwyyOCBIAgGU5FRYXdbvd4PG63OyUl\n",
       "RbterjnYqby8fO7cuR0dHbEYpC4OriNIAAiSsbhcruLiYrVtsViCVkItLS2zZs1q\n",
       "aGgInZAmFpdHBAnAd3YoJvZycRWk7OzssrIyte1wOOrq6gI/WlhYuGbNmlh8yNBF\n",
       "dRITj14IEgBWSMaSn59fUlKitm02W319vfahw4cPm0ym5ubmGA2SCg8AEKTYIDVy\n",
       "Op2yISmS/Ph8Pq/Xq9ZJsnJ68cUXY3RC6tUjggSAIMUMyU9GRobVajWbzeq5u5qa\n",
       "mqSkpCOdLy+tXLkyRiekTs1AkAAQJCakJy1FBAkAQWJCOi+PgjYAgCAxoWirrf3m\n",
       "CDqCBIAgMSHdjBt39IgGggSAIDEhvWcTMByCBIAgMSF9BJ0riCABIEhMSB+cfwEA\n",
       "QWJChlseAQBBYkL6CH2fcgAgSEwo2jgvAwCCxIQMIfBobwAgSExIv5Ek8A8HAEFi\n",
       "QnqLdDgDT+IBIEhMKKoivTMsQQJAkJiQ/ssjggSAIDGhqOricAaCBIAgMaEoDiPy\n",
       "NAgSAILEhKIk9Pk6+aN2IUgACBITipJIhzMAAEFiQlFdHvHrRwAIEhPS37hxBAkA\n",
       "QWJCRhhDAqf3BkCQmJDe1OEMBAkAQWJCOlNvNkGQABAkJqSn2tqv3xyWIAEgSHHC\n",
       "7/cXFBRYrVaHw1FVVRX4oY0bN9rt9vT09MrKSqNNSDs7A0ECQJDiREVFhVTH4/G4\n",
       "3e6UlBTt+r1790qlDhw4UF1dnZqaarQJab9+RJAAEKQ44XK5iouL1bbFYmlsbFTb\n",
       "K1euLCoqkhp9+OGH+/fvN+AKKWgDAAhSbMvOzi4rK1PbDoejrq5ObS9dunTGjBmS\n",
       "q8WLF8+fP7+joyNoQhpdaqSdTZUgAThNHdJxL9dNg5Sfn19SUqK2bTZbfX29FqoV\n",
       "K1ao7ZkzZ2qhMsJDBn4ZFgArpDgMktTI6XTKhqTIZDL5fD6v1yv5KS0tlbWRXN/c\n",
       "3GyxWBoaGgwyoS7e/QgACFIMk/xkZGRYrVaz2ayeu6upqUlKSmpra1u0aJHdbpcP\n",
       "vfXWW8aZkPr1IwAgSPEWpJibEM/XASBIBMkQE+L5OgAEiSDpPyGerwNAkAiSISYU\n",
       "+nwdCyYABIkJRVvY4+sIEgCCFEsKCwvvvvvuV155xel0fvnllzE6obDP1xEkAAQp\n",
       "Zvztb3+75ppr7rzzTrvdbrFYhg4dGqMTCnt8HUECQJBixk033eR2uzMzMyVI8ser\n",
       "rrrqf//7X8xNKNLvwxIkAAQpZgwfPry0tFQF6fDhw3379tXOoBpDE1LvfkSQABCk\n",
       "GA7SG2+80a9fv6FDh95yyy2DBw9+7LHHYnFCkX4fliABIEixZPv27bNmzTKZTCtW\n",
       "rPD7/TE3oS7OX0eQABAkJhQ9Xfw+LEECQJBiwKBBgy4J5+SP/I7yhBISjoaHgxoA\n",
       "EKRYDdKePXt27dplNptHjBhRVla2Y8eOqVOnDhkyJOjd9gw+oZwcTqgKgCDFeJCU\n",
       "66+/XlKk/XHgwIFB77Zn8AklJhIkAAQpLoJ0yy23rF69Wm03Njb27t17//79MTQh\n",
       "qRFBAkCQ4iFIeXl5PXv2HDt2bHJy8v/93/+NGTMmhiakjq8jSAAIUjwESWzatCkl\n",
       "JWXy5Mkul+vkX0CK5oSkRryGBIAgxUmQFi9ePO3bPB5PrExIpYggASBI8RCkrKws\n",
       "W6epU6f+9Kc/HT58uNfrjYkJab8PS5AAEKR4CFIgWRtdeeWVzc3NMTEh9XwdABCk\n",
       "OAxSW1vbZZddVl1dHRMTGjDgSG0t/xwAEKR4CdKkSZOGHyM1uu666yRLxp9QF+ev\n",
       "AwCCFJNBWrZs2YoVK9Z0Ki0tXbduXUwEiefrABCk+AlSU1PTRx99NGzYsFWrVn3U\n",
       "affu3b17946Jc9nxfB0AghQ/QXrhhRckP2effXavXr16HzNixIjAd6CQ7YKCAqvV\n",
       "6nA4qqqqAv/6vHnzHJ2ys7OjPyGOrANAkOInSMq9995bWVkZ6aMVFRV2u93j8bjd\n",
       "7pSUlMDV1ezZs1s7+Xy+KE8o6AUk4gSAIMVDkLrmcrmKi4vVtsVi0d7dfMeOHQsX\n",
       "LiwrK5Nitbe3R3lCQS8gESQABCm2g3T77bcXFRU98cQTg7/t0KFD2udkZ2dLddS2\n",
       "w+HQTgReUlKSnp4u/33ppZcWLFgQOiHNafn+JnT1RwCIQodO616u2wVp8+bNX3zx\n",
       "RWVl5cZvCzzKLj8/X6qjtm02W319fdCNdHR0PPPMM0HHQZzWCYUe8E2QALBCiu0g\n",
       "3XbbbYPDCVwhSY2cTqdsSIpMJpPP5/N6vbJOcrlcKlT79++X64PONnRaJxR6wDdB\n",
       "AkCQYjtIW7ZsUUui9evX5+XlLVmy5M033wxaIUlpMjIyrFar2WxWz93V1NQkJSV9\n",
       "/vnns2bNSktLkw+Vl5dHc0KhB3wTJAAEKbaDpEhgBg0adMEFF/Tr169nz565ubkG\n",
       "n1BofggSAIIUD0G6++67k5OT1XNua9eu7dWrl5HffiLsGYMIEgCCFA9Buvbaa3fv\n",
       "3q398frrrw/6BVhDTSjsGYMIEgCCFA9Bevzxx9PS0tR2eXl5//79jfx+SGHbQ5AA\n",
       "EKR4CNKjjz6akJBw5ZVXDh48+Mwzz7zkkktu7rR9+3ZjrpAAgCDFZ5Dcbvd/wmlq\n",
       "ajLahDjDNwCCFM9BiqEJcYZvAAQpnoNUUlIycuTIIQECfzHWUBPitSIABCmegzR0\n",
       "6NDp06evW7eu5BhjvkEfbxELgCDFeZBkSbRt2zbjT4gXkAAQpDgP0rJly375y1+q\n",
       "t5lQjLlC6uIFJJ7KA0CQ4iFI8t3s3bv3sGHDbj3m8OHDBpxQF9UhSAAIUjwEadCg\n",
       "Qf/973+NPyH1AlJiYpgLQQJAkOIhSE888UReXp7BJ8QLSAAIUvwHadKkSQkJCUOH\n",
       "Dh1+jAGfsuM3kAAQpPgP0ubNm9cEWLRoUUtLi6EmxAHfAAhStwiSIquirKysYcOG\n",
       "yWrpZE4adPqCRJMAEKT4XyE9+eSTPXv27NOnT2pqanV1tdEmpF5AIkgACFLcBmnR\n",
       "okU33HBD79695Rtqs9nuvPNOY05IHURHkAAQpLgNUr9+/a677rr33ntPtletWjV6\n",
       "9GgDTkhbGxEkAAQpboO0Y8cOs9ncp0+fG2+88Y9//KMxg+RwHL0QJAAEKZ6DpHi9\n",
       "XpfLNWrUqB49evzud7+T7Y6ODuNMKDHx6w2CBIAgxXmQNLW1tampqf379zfUUXba\n",
       "WRgIEgCC1F2CpJz88ugUTijw4DqCBIAgda8gGWpC2gtIBAkAQSJIek4o8BR2BAkA\n",
       "QerWQfL7/QUFBVar1eFwVFVVBX3U5/OlpaXt3r37NE2I03gDIEgE6WsVFRV2u93j\n",
       "8bjd7pSUlKCPSqtMJtOuXbtOx4Q4OwMAgkSQvqHeSVZtWyyWxsZG7UPbt29fsmTJ\n",
       "4sWLwwZJQ5AAxGWHTn4vR5COT3Z2dllZmdp2OBx1dXVqu6mpac6cOc3NzZGCdPJf\n",
       "mvdAAsAKiSB9Iz8/v6SkRG3bbLb6+nq1LWuj3Nzcd99999lnn33ttdeC3kLplEyI\n",
       "F5AAECSC9A2pkdPplA1Jkclk8vl8Xq9X1knbtm1b3yktLW358uWHDh06tRMqLf3m\n",
       "HA0AQJAI0tETC2VkZFitVrPZrJ67q6mpSUpK0j5Blkqh71hx8hMKfQGJ15MAEKRu\n",
       "HSS9JhT6AhJBAkCQCJIOExow4EhtLUECQJAIkt4TCj2igSABIEgEKdoTCvsbSAQJ\n",
       "AEEiSNGeUNjfQCJIAAgSQYr2hEJfQCJIAAgSQdJhQmF/JZYgASBIBCmqE4p0CjuC\n",
       "BIAgEaSoTijwTfkIEgCCRJB0mxDnVAVAkAiSISbEOVUBECSCpP+EOKcqAIJEkAwx\n",
       "Id6UDwBBIkiGmBAvIAEgSATJEBMK+yuxAECQCFK0J9TFEQ08lQeAIBGkKE2o6xeQ\n",
       "CBIAgkSQojShSL8SS5AAECSCFNUJBR7RkJAQfCFIAAgSQYrShDiiAQBBIkj6T0hS\n",
       "JEECAIJEkHSeUE4OJw0CQJAIkgEmNG4cQQJAkAiSASY0YABP2QEgSATJABOS5RGn\n",
       "VQVAkAhSRH6/v6CgwGq1OhyOqqoq7Xqfz7d06dLp06enpaXt2bPn5Cc0bhxBAkCQ\n",
       "CFJkFRUVdrvd4/G43e6UlBTt+g0bNjidzvb29qKioszMzJOckDpHA0ECQJAIUkQu\n",
       "l6u4uFhtWyyWxsZGLVRqYVReXv7cc8+d5ITUr8QSJAAEiSBFlJ2dXVZWprYdDkdd\n",
       "XV3gR5csWfL0009v3bo1dEKa7/NV1K/EEiQAMdSh49rLEaRTID8/v6SkRG3bbLb6\n",
       "+nq1vX//fq/XKxv79u175plnWltbT+YhgzrgmyABYIVEkCKSGjmdTtmQFJlMJp/P\n",
       "Jx2SdVJWVtbq1avl+i+//DI5Obm5ufmEJ6Sd5JsgASBIBCkiyU9GRobVajWbzeq5\n",
       "u5qamqSkJOnTzE7Tpk1bt27dyUyIty0HQJAIkiEmxNuWAyBIBMkQE+Ik3wAIEkEy\n",
       "xIQ4hR0AgkSQDDEhXkACQJAIkv4T6vptywGAIBGkKE0o8IgGDvsGQJAIkm4TCjyi\n",
       "gSABIEgESbcJBR7RQJAAECSCpM+Egn4lliABIEgEiSABAEHqxhMKOkcDQQJAkAiS\n",
       "PhMKOkcDQQJAkAiSPhMKOkcDQQJAkAiSDhMKPck3QQJAkAgSQQIAgtRdJ8Qp7AAQ\n",
       "JIJkiAkNGMBPMgCCRJAMMCHedQIAQSJI+k+otJRXjAAQJIJkgAmFHtEAAASJIOkw\n",
       "oaBzNAAAQSJI+kwo6BwNCk/iASBIBIkgAQBB6pYTCnuIHUECQJAIUlQnFOmIBoIE\n",
       "gCARpIj8fn9BQYHVanU4HFVVVdr1Pp8vNzdXrk9LS6uurj6uCTkcRy8ECQBBIkjH\n",
       "oaKiwm63ezwet9udkpKiXb9+/frMzMy2trYtW7bMnDnzuCYU6RA7ggSAIBGkiFwu\n",
       "V3Fxsdq2WCyNjY1q++23366srJSNpqam5OTk45pQpJMGESQABIkgRZSdnV1WVqa2\n",
       "HQ5HXV1d4EcPHTq0cOHC5cuXh05IE+a7k0CQAMR8h7rYyxGk0yI/P7+kpERt22y2\n",
       "+vp67UMSqlmzZm3cuPG4HjJ0cdIgggSAFRJBikhq5HQ6ZUNSZDKZfD6f1+uVddLm\n",
       "zZszMzObm5uPd0JdnDSIIAEgSAQpIslPRkaG1Wo1m83qubuampqkpKQFCxZMnjzZ\n",
       "1ik9Pf37T4iTBgEgSATJEBMKe44GACBIBIkgAQBB6pYTSkgIcwEAgkSQojqhnBze\n",
       "uRwAQSJIBpiQw0GQABAkgmSACY0bR5AAECSCZIAJcUQDAIJEkAwxIY5fAECQCJL+\n",
       "E+ripEEAQJAIUvQm1MVJgwCAIBGk6E0o0vvyAQBBIkhRnRBnsQNAkAiSISakDrHj\n",
       "sG8ABIkg6TwhdYgdQQJAkAiSnhPSDrEjSAAIEkHSc0LaIXYECQBBIkh6Tkg7ooEg\n",
       "ASBIBIkgAQBB6vYT0s5iR5AAECSCpOeEtLPYESQABIkg6TahwLPYESQABIkg6Tah\n",
       "wLPYESQABIkg6TYhThoEgCARJIIEAASJCR3DG8UCIEgEyRAT4o1iARAkgnSy/H5/\n",
       "QUGB1Wp1OBxVVVVBHy0vLy8sLOx6QrxRLACCRJBOgYqKCrvd7vF43G53SkqKdv3B\n",
       "gwezsrImTpy4bNmyrifEG8UCIEgE6RRwuVzFxcVq22KxNDY2qm1JVGVl5fLlyyMF\n",
       "SRP0RrEc9g0gPjqkIUhRkp2dXVZWprYdDkddXV3gR8vLy79zhRR0iB1BAsAKiSCd\n",
       "iPz8/JKSErVts9nq6+uPN0hBh9gRJAAEiSCdCKmR0+mUDUmRyWTy+Xxer1dbJ32f\n",
       "IAUdYkeQABAkgnQiJD8ZGRlWq9VsNqvn7mpqapKSko5rhUSQABAkgqTzhEIPsSNI\n",
       "AAgSQdJhQkGH2BEkAASJIOkzodCz2BEkAASJIOkwodCz2BEkAASJIOkwodCz2BEk\n",
       "AASJIBkiSABAkAhStCfEWewAECSCRJAAgCARpGMT4o1iARAkgkSQAIAgEaRjE+Kd\n",
       "ywEQJIJkiAmFPcSOw74BECSCFO0JhX3ncoIEgCARpGhPKOwhdgQJAEEiSFGdUOhp\n",
       "VQkSAIJEkHSYUKRD7AgSAIJEkKI6oUiH2BEkAASJIBEkACBI3W9CkU6rSpAAECSC\n",
       "FD2jR2eGPeabIAEgSAQpqhITcyKdVpUgASBIBCl6Bg7cxFnsABAkgkSQAIAgEaRO\n",
       "vXo1cFpVAASJIBng/z+BnxXuDHeGO9Mt7gxB0p/f7y8oKLBarQ6Ho6qqKnSFxM8K\n",
       "d4Y7w50hSAQpGioqKux2u8fjcbvdKSkpQR8dOHATPyvcGe4Md4YgEaRocLlcxcXF\n",
       "attisTQ2NgYFaXwEsngaDwBxhCDpLDs7u6ysTG07HI66urrAj6pTfYe9AAAI0qmU\n",
       "n59fUlKitm02W319PVMHAIKkA6mR0+mUDUmRyWTy+XxMHQAIkg68Xm9GRobVajWb\n",
       "zdpzdwAAggQAAEECABAkAAAIUrCuT9+gi/Ly8sLCQt3vhs/ny83Nle9MWlpadXW1\n",
       "7ndm6dKl06dPlzuzZ88eI4xJ7pLcmd27d+t7N+bNm+folJ2drfv3ZOPGjXa7PT09\n",
       "vbKyUt97snbtWkeAoF86jLKOjo68vDz56ZVvzgcffKDvd6a1tVX+Kcm/axnT3r17\n",
       "CZKxdH36hig7ePBgVlbWxIkTly1bpvt3Zv369ZmZmW1tbVu2bJk5c6a+d2bDhg1O\n",
       "p7O9vb2oqEjulRF+cuRxjMlk2rVrl473oampafbs2a2ddD9qVPZusps7cOCAPHxJ\n",
       "TU3V987Iv+iDneTh3dy5cyUJOt6Z7du3y5hkQJs2bZo1a5a+35nVq1e/9NJL8g2R\n",
       "f1PyaIYgGUvXp2+I/r8ieWi5fPlyIwTp7bffVo9zZa+XnJys++MGtTCS/ctzzz2n\n",
       "+zdHdjFLlixZvHixvkHasWPHwoULy8rK5Psjtdb3e7Jy5Up5uCA1+vDDD/fv32+E\n",
       "f90tLS0SgIYGnU9TuXPnTomiPLaTR72yqtb3zkiN5B+RbMj9GT9+vNfrJUgG0vXp\n",
       "G3QhPy5GCJJy6NAh2eVJI41wZ6QBTz/99NatW/W9G1LoOXPmNDc36x6kkpKS9PR0\n",
       "+a/sZRYsWKDvt2Xp0qUzZsyQR3jybZk/f76+ixKlsLBwzZo1ut8N+VGRJePUqVMn\n",
       "TJig/W6+jisk+RctkZZHnBIk3WtNkL7FgKdvME6QJNXyAHPjxo263xN5xK0eyu3b\n",
       "t++ZZ55pbW3Vt4u5ubnvvvvus88++9prrx0+fFj374/s/eXb8uWXX+r72G7FihVq\n",
       "e+bMmbo/tpO5mEwmiYHu01m1apX8wPj9ftn7m81meZCn452RhZFEetGiRbKclUbK\n",
       "vSJIBmLA0zcYJEibN2/OzMw0wr9nkZWVJY/sZEP2ucnJyfreq23btq3vlJaWJmtH\n",
       "HfcvshxRD6ck2PLTq+/TL6WlpbI2UgsCi8Wi+0NveTj14osvGuGnV8aUl5d3pPMp\n",
       "xClTpuj7uoD89L7zzjuy4Xa7Zalk2D1zNw2SAU/fYJAgLViwYPLkybZO6enp+t4Z\n",
       "ebgws9O0adPWrVtnkB8eWSrpe/zh559/LktY6aL8AKsXBvR96C2Pu+12u9yZt956\n",
       "ywgZWLlypRF+Tg4cODB79mz5dyQ/vepxlY48Hs/8+fPln5I8aKipqSFIRiSP6XR/\n",
       "TRjf6auvvjLCKxMG/LYY54mX1tZWZhRpJyPNNsidkSwZ9sk6ggQAIEgAABAkAABB\n",
       "AroRHc9K1draapCTLQEECfi+mpubE0JMmTJlxIgRJ3OzFRUVJ3kL39PWrVuvvfba\n",
       "oCt9Pt/AgQM/+eQT5guCBMQSfyen0zly5Ei13dDQ4Ha7T+Y277jjjugcfyxBkvaE\n",
       "Xj9v3rwJEyYwXBAkIPa88MILiYmJavs///nPgw8+uGrVqvvvv18WOj179hw7duyM\n",
       "GTN69+59+eWXv/nmm+rTMjIyrrjiissuu+wvf/lL4E1VV1fLlTU1NcOGDTv33HN/\n",
       "9KMfFRQURPors2fPltuUL/HQQw+1tLSolvTv3/+iiy6S+3DgwAG5G2PGjJFYnnPO\n",
       "OXJn5BpJpvz1Sy+9VD7n3nvvVUHas2dP4JeTpp5//vn6nt4CIEjAyQZJGiC7/vz8\n",
       "fNmnb9my5bPPPlPBaGxstNlsd955p3xOUVHR1Vdf/fHHH9fV1V133XUul0u7qX//\n",
       "+9/y16dNm3bPPfe0t7e//vrrgwcPDvtXZBUlcXr//ffr6+vlczIzM+VL9+nTZ9u2\n",
       "bRKeUaNGPf7443I3evTosWHDBmnMDTfc8PLLLy9fvvyHP/zhzp079+/fL/dZBSn0\n",
       "y8ntyN9isiBIQDwE6Y477lDXXHvtteqEPRKb22+/XTb+/Oc/Dx06dGqnW2+99bHH\n",
       "HtNuas6cOfJHuZHzzjvv4YcfloSoc+qE/hW5RrbV3/qy04QJE6ZMmaKu2bhxo+RK\n",
       "7ob6iuoWnn322fHjx0t+1DVr165VQQr9cvK1/vGPfzBZECQgHoKkFkMqSJs2bZKN\n",
       "1157TeXhqaee+u1vf/viMYFnmE5NTZUwyMbu3buff/752267rV+/frLiCf0r48aN\n",
       "095G6JNPPqmpqZHPmTFjhrqmvLz84osvDrwbKkhPPvmkLNTUNbIG0l5DCvpyP/vZ\n",
       "z1599VUmC4IExHmQ8vLyhgwZImuajo6O++67b+nSpdpNvfLKK7IAkng4HI4jnW/n\n",
       "0aNHj/fffz/0r/z9738fNGiQXNPc3Cz9+Oc//7ls2bIBAwbs27dPPkeWUPfcc09o\n",
       "kORzrrrqKlkG+f3+hx56SAUp9MtJlnbu3MlkQZCAGCNLFi1Ib7zxxsiRI6UEo0eP\n",
       "jhSk9vb2xx9//KKLLrr00kvvuuuuwHPGf/TRR3379n3vvff69+8vdenTp8+YMWMk\n",
       "MKF/xev1PvDAAxdeeOEll1zyyCOPtHcaP368uubnP//5xx9/HHg3nn76afW2b2PH\n",
       "ju3Vq5d8joRTBcntdgd+uS+++OK8884zzonUAIIEnF4ejyfseyONGjXK5XJJhD77\n",
       "7LOgTwj9K7I8UsfXaVpbWw8ePNj1l5a/FXQ7gV9OFlIWi4UBgSAB3d2WLVtuvfVW\n",
       "vb66LLxkSWfYNwYFCBIQVbt379brS7e1te3du5cRgCABAECQAAAECQAAggQAIEgA\n",
       "ABAkAABBAgCAIAEACBIAAAQJAECQAAAgSAAAggQAAEECABAkAAAIEgCge/l/7g7L\n",
       "zwNz6FgAAAAASUVORK5CYII=\" style=\"clip-path:url(#clipPath1);\" height=\"420\" preserveAspectRatio=\"none\"\n",
       "    /></g\n",
       "  ></g\n",
       "></svg\n",
       ">\n"
      ]
     },
     "metadata": {},
     "output_type": "display_data"
    }
   ],
   "source": [
    "step(Gs,'-',Gz_zoh,'--')"
   ]
  },
  {
   "cell_type": "markdown",
   "metadata": {
    "slideshow": {
     "slide_type": "subslide"
    }
   },
   "source": [
    "### Approximation by numerical-integration\n",
    "\n",
    "Also known as the *bilinear transform* or *Tustin equivalent*"
   ]
  },
  {
   "cell_type": "code",
   "execution_count": 8,
   "metadata": {
    "slideshow": {
     "slide_type": "subslide"
    }
   },
   "outputs": [
    {
     "name": "stdout",
     "output_type": "stream",
     "text": [
      "\n",
      "Gz_tustin =\n",
      " \n",
      "  0.09091 z + 0.09091\n",
      "  -------------------\n",
      "      z - 0.8182\n",
      " \n",
      "Sample time: 0.2 seconds\n",
      "Discrete-time transfer function.\n",
      "\n"
     ]
    }
   ],
   "source": [
    "Gz_tustin = c2d(Gs, Ts, 'tustin')"
   ]
  },
  {
   "cell_type": "markdown",
   "metadata": {
    "slideshow": {
     "slide_type": "subslide"
    }
   },
   "source": [
    "Plot Result"
   ]
  },
  {
   "cell_type": "code",
   "execution_count": 9,
   "metadata": {
    "slideshow": {
     "slide_type": "fragment"
    }
   },
   "outputs": [
    {
     "data": {
      "image/svg+xml": [
       "<?xml version=\"1.0\"?>\n",
       "<!DOCTYPE svg PUBLIC '-//W3C//DTD SVG 1.0//EN'\n",
       "          'http://www.w3.org/TR/2001/REC-SVG-20010904/DTD/svg10.dtd'>\n",
       "<svg xmlns:xlink=\"http://www.w3.org/1999/xlink\" style=\"fill-opacity:1; color-rendering:auto; color-interpolation:auto; text-rendering:auto; stroke:black; stroke-linecap:square; stroke-miterlimit:10; shape-rendering:auto; stroke-opacity:1; fill:black; stroke-dasharray:none; font-weight:normal; stroke-width:1; font-family:'Dialog'; font-style:normal; stroke-linejoin:miter; font-size:12px; stroke-dashoffset:0; image-rendering:auto;\" width=\"560\" height=\"420\" xmlns=\"http://www.w3.org/2000/svg\"\n",
       "><!--Generated by the Batik Graphics2D SVG Generator--><defs id=\"genericDefs\"\n",
       "  /><g\n",
       "  ><defs id=\"defs1\"\n",
       "    ><clipPath clipPathUnits=\"userSpaceOnUse\" id=\"clipPath1\"\n",
       "      ><path d=\"M0 0 L560 0 L560 420 L0 420 L0 0 Z\"\n",
       "      /></clipPath\n",
       "    ></defs\n",
       "    ><g style=\"fill:white; stroke:white;\"\n",
       "    ><rect x=\"0\" y=\"0\" width=\"560\" style=\"clip-path:url(#clipPath1); stroke:none;\" height=\"420\"\n",
       "    /></g\n",
       "    ><g\n",
       "    ><image x=\"0\" y=\"0\" width=\"560\" xlink:href=\"data:image/png;base64,iVBORw0KGgoAAAANSUhEUgAAAjAAAAGkCAIAAACgjIjwAAAm5klEQVR42u3dC3ST\n",
       "5f3A8XrheIMpctHp8N8dHYqKZygbMobgNo5nm6jTeUM94GWUCY2BAKFZaXIoFVg7\n",
       "kQgOLLa0XbsFnILQKjpa4FQu9aTQiVRKsVJdFWmhgm2atA3/H33gNaaAcuvzJv1+\n",
       "To/nJS1p7K+83zzJmzcxhwAAMIEYfgQAAIIEAABBAgAQJAAACBIAgCABAECQAAAE\n",
       "CQAAggQAIEgAABAkAABBAgCAIAEACBIAAAQJAECQAAAgSAAAggQAAEECABAkAAAI\n",
       "EgCAIAEAQJAAAAQJAACCBAAgSAAAECQAAEECAIAgAQAIEgAABAkAQJCAzqu+vn77\n",
       "9u379u3jRwEQJECPlpaWsWPHnnfeeTExMeecc84DDzzQ2NjY1NQ0derUpUuXnsIV\n",
       "rlixIiZEz549k5OT+TkDBAn4Djk5OZKN+++//4033vjDH/4g2ykpKQcOHJCNxx9/\n",
       "/JSDNGTIkNmzZ9vt9h49esgf33//fX7UAEECTkTyI8GYMGFCbW3tl19++de//jU/\n",
       "P79v375yYbdu3R5++GH5mhdffPHHP/7xpZde+uCDD+7fvz89Pf36668fPXq0XHLd\n",
       "ddf961//ah8km82m/vj000/LH+U621/PZ599duedd1544YXyjR577DFZmR3vmuVy\n",
       "+eNFF100ePDgzZs3q0vkK+Pj4y+//HJZhOXm5ra/tvbfkXGDIAHmVVFR0b17d2nG\n",
       "ueeee9ttt82aNcvv92dlZcklQ4cOXbNmzWuvvSbbY8eOnTNnTpcuXR599FH5Grlk\n",
       "4MCBUgVJl1xYXV0dFqRhw4alpaU5HA6pRa9evSQG7a9n2rRpcklmZubMmTMvueQS\n",
       "Wasd85oLCwvlwhEjRrzyyivXXHONXFt9fb36yltuuSUxMVEi1KdPn/bX1v47Mm4Q\n",
       "JMDU9uzZk5qa+utf/1r22rIH/9Of/hT6kN0jjzwi288884zs2Xv06CF7fxUDaZV8\n",
       "Ni8vT7YlYGFBuuCCC6Qc6gofeuihY16P2+2WS3r37i0LGlnitLS0HPOaJ06cKBuV\n",
       "lZVy4fz582X77bffVl+pnuWScJ533nntr639d2TWIEiAecnu/le/+pWsOWR79+7d\n",
       "ste++uqrQ4N03333ybbVak04Sj3K99577xn5WbRoUViQ1EN2cj233nqr/HHbtm3t\n",
       "r6e5uXn16tUTJkyQdY98SlY2KjNh1zx+/HjZ+PTTT+XCV199VbblU+orN27cKBeO\n",
       "HDnynHPOkY2wazvmd2TiIEiAScluWvbav//971977TXZicue/Te/+c3XX38tF/bv\n",
       "33/t2rXz5s2T7SlTpsjC5Re/+MWoUaNUDCQDxcXFw4cPl+2ysrJjBkkkJSXJHwsK\n",
       "CtpfzxNPPPGDH/xAWvXWW2/JpywWyzGvWZZBat0mFw4YMODiiy/+/PPP2wep/bW1\n",
       "/46MGwQJMC+fzycrIXXYtxg0aJB6cOyuu+5SfwwEAqNHjz733HNlp3/LLbdUVVWp\n",
       "GMin5L/nn3++0+kMvcI333xTLp88ebL6Y3Z2tvzxhRdeaH89Eo+f/OQn6vvKRkVF\n",
       "xfGuWa5NPfrXs2dPCadcEhqke+65R66z/bW1/46MGwQJMDtZEu3YsSPshbHSKr/f\n",
       "r7YbGxtra2vVthGDuro6dTDb9xd6PSIYDNa0kY0TX7Pcks8++0x92fGEXdsxvyNA\n",
       "kIDoMXv2bFl2bNq0KYKuGSBIAAAQJAAAQQIAgCABAAgSAAAE6TuVlJTk5eUxbwAg\n",
       "SNqoMzSPHz9+yZIlzBsACJI2Pp9PnYKFIAEAQdKvpKTkmEG67bbbxh7FNttsH2/7\n",
       "tttWykdMTGbfvhvUx7e3i666aof6+PZ2VbduteojbDsm5tB3fhhf3/7jeJ81vvXp\n",
       "fBj/X6Ef8h2PebmWDzWOU/ggSKYOkvxLM8ktNM8t4cZE3I1xuY58jBlz5CM2Nvwj\n",
       "bF8f+qnhw7/1YVxJ+w/GFNE3xlQ/FoJEkLgxJr0xancf2hUjDyeoiNxTDvuLjIkb\n",
       "Q5AIEv+EuDEnYmTmmA9MqboYXWFM3BiC1EmZf0Iwv8zMwyEJe1jMWMecQmkAgsSE\n",
       "gO9Y6EhpjEfS2j8BA7C7I0gECWf6H8bxD/0C2N0RJIKEMyns+DFZ36jH3OS/PMgG\n",
       "dncEiQnhrKuqOvJ8j/Gwm8pPURE/G7C7I0hMCGeZWu6EHkLN8z1gd0eQmBA6gix3\n",
       "jMPe5L88/gYQJCaEjhD2VFDogdcACBITQkdQTwipCMl/WQYBBIkJoaOplwSph+MA\n",
       "ECQmhA75HeX1QABBYkIwA3VkNoshgCAxIehhvGBIFkOZmfw8AILEhNAhQs8IZzw/\n",
       "BIAgMSFoCJJaD/HQHECQmBD0UA/NyZKIDgEEiQlBZ4rUkohz+QDs7ggSQeo4xtNC\n",
       "kiJ1dm3jYTqCBLC7I0gEqYOMGXP4v0VFRwrE2bUBdncEiSBpC5JaCcnyCAC7O4JE\n",
       "kDSQAqmXE5EigN0dQSJI2lKknis6dPQhOwDs7ggSQeroFBkHLKgPggSwuyNIBKmj\n",
       "qdcVAWB3R5AIkr7fpxiO4QbY3XX6IAWDwdzcXLvd7nK5ysvLjcubmpoWL14sl6ek\n",
       "pOzevZsgnSXGCRc4nhsgSJ09SKWlpU6n0+fzeb3ehIQE4/KVK1e+/PLLra2t69at\n",
       "mz17NkE6GyRC6tw/PFIHECSCdMjj8RQUFKhtm81WV1entqVGJSUlstHc3Czz8Pv9\n",
       "BOnMUgcvHPl9IkgAQSJIGRkZxcXFR3eRrurqamOFNG/evNra2nfeeUfmIRthEzLw\n",
       "+3pqC6PQd44gSIAJOxQpe7no2X/k5OQUFhaqbYfDUVNTo7ZlYbRq1aoFCxbk5+dP\n",
       "njw5GAyyQjqDCyOeMQJYIRGkcFIjt9stG5Iii8USCAT8fr+sk7Zs2fLuu+/K5V6v\n",
       "V5ZKETchEzLWQwAIEkE6BslPamqq3W63Wq3qsbvKysq4uDifzzdnzpzExESbzSaX\n",
       "EKTTZBy/AIAgEaTONSFTUQ/Tcc4FgN0dQSJI2qiz0qmH6QgSwO6OIBEkbTVSb6an\n",
       "ECSA3R1BIkgaqCeNQj8IEsDujiARpA5iHEGXmcmx3QC7O4LEhHQHKfQUDADY3REk\n",
       "gqQnSLzSCGB3R5CYkH68hQTA7o4gMSFTLI84JR3A7o4gMSH9NTp0iOURwO6OIDEh\n",
       "3TVSh3QTJIDdHUFiQvprRJAAdncEiQl1dIGM8ITViCAB7O4IEhPqOMZrjEJrBIDd\n",
       "HUFiQnqCJCliPQSwuyNITEh/kKgRwO6OIDEh/UGiRgC7O4LEhEwwe179CrC7I0hM\n",
       "SC/1jhKcOBVgd0eQmJBOVVWHayRNIkgAuzuCxIR0Gj78yPsbESSA3R1BYkI6a2S8\n",
       "EzkAdncEiQl1HMmP8cFLjgB2dwSJCekMksKTRgC7O4LEhPQHyTiQAQC7O4LEhHQG\n",
       "yTiQAQC7O4J01gWDwdzcXLvd7nK5ysvLjctbW1uzs7OnTp3qdDo//PDDThgk9ewR\n",
       "AIJEkDpIaWmpJMfn83m93oSEBOPyrVu3zpgxIxAIbNiwYfr06Z0tSLyXBACC1NE8\n",
       "Hk9BQYHattlsdXV1anv79u2zZs1qbm6WUCUnJ7efkCEqfwV56gigQ5Gyl4ueIGVk\n",
       "ZBQXF6ttl8tVXV2tthsaGpKSkiZPnjxu3LjCwsJOtULiqSMArJA0yMnJMXrjcDhq\n",
       "amrU9ooVK7KysoLBYG1trdVqPXDgQCcJksvFg3UACJIOUiO32y0bkiKLxRIIBPx+\n",
       "v6yTPB5Pdna2XN7Y2Dhp0iTjobyoDxKvOgJAkPSQ/KSmptrtdlkGqcfuKisr4+Li\n",
       "9u3bN2PGDFkzTZkyZeXKlRE3oVPDg3UACBIT0o/jvAEQJCZkCqEP1nEqVQAEiQnp\n",
       "EfZgHUECQJCYUIcaM+bwh6yN5ENtqw8AIEhMSMc4Y/hHB4AgMSHdOLIOAEFiQvpl\n",
       "ZvIyWAAEiQmZYZAxh9/0CAAIEhPSJjb28NqIo+kAECQmpD9InCUIAEFiQqYIEscy\n",
       "ACBITEizzEwO9QZAkJiQGeYXw+N1AAgSE9LNODsDABAkJqRNVdWRB+sIEgCCxIR0\n",
       "Gj788BNIBAkAQWJCOhUVfXNeBoIEgCAxIZ3LI+NQb4IEgCAxIf3LIwAgSEyoY+cU\n",
       "881bHMk2r4QFQJCYkB7Gkigzk7fdA0CQmJAJgsSbHgEgSExIf5BYHgEgSEzIFEGK\n",
       "jeVNjwAQJCakG8sjAAQpMgSDwdzcXLvd7nK5ysvLjctXr17tClFXVxehQWJ5BIAg\n",
       "RYbS0lKn0+nz+bxeb0JCgnG5XLK/TUlJyaxZs1pbWyMxSCyPABCkiOHxeAoKCtS2\n",
       "zWYLWwk1NjZOnz69tra2/YQMLI8ARGWHImIvF1VBysjIKC4uVtsul6u6ujr0s3l5\n",
       "eatWrYrEuwwKyyMArJAiRk5OTmFhodp2OBw1NTXGpw4ePGixWBoaGiI0SLz2CABB\n",
       "iiRSI7fbLRuSIslPIBDw+/1qnSQrp/nz50fohNSzR5y8DgBBihiSn9TUVLvdbrVa\n",
       "1WN3lZWVcXFxh9qeXlq+fHmETkgtjwgSAILEhHQyUkSQABAkJqR5eRS2AQAEiQl1\n",
       "tKqqb958jyABIEhMSJsxYw4f0UCQABAkJqR7NiHDIUgACBIT0iPsXEEECQBBYkId\n",
       "Jzb2myeNjA21TZAAECQm1EFC10OcShUAQWJCpggS5woCQJCYkP4gcV4GAASJCZki\n",
       "SKFHewMAQWJC2oIUE8M/HAAEiQnpDhKHMwAgSEzIFEHinWEBECQmpD9ILI8AECQm\n",
       "ZKImAQBBYkK6h8HhDAAIEhPSjsfrABAkJmQKHM4AgCAxIZZHANjdESQm1IbDGQAQ\n",
       "JIJkignFxLBCAkCQmJBu6vE6ggSAIDEhzdSbTRAkAASJCelUVXXkzWEJEgCCFCWC\n",
       "wWBubq7dbne5XOXl5aGfWr9+vdPpTElJKSsrM9uEjMMZCBIAghQlSktLpTo+n8/r\n",
       "9SYkJBiX7969Wyq1b9++ioqKpKQks03IePkRQQJAkKKEx+MpKChQ2zabra6uTm0v\n",
       "X748Pz9favTRRx/t3bvXhCuksA0AIEiRLSMjo7i4WG27XK7q6mq1vXjx4mnTpkmu\n",
       "Fi5cOGfOnNbW1rAJGbTUyHj5EUECcJY6pHEv10mDlJOTU1hYqLYdDkdNTY0RqmXL\n",
       "lqntxMREI1RmuMsQejZVggSAFVKUkBq53W7ZkBRZLJZAIOD3+yU/RUVFsjaSyxsa\n",
       "Gmw2W21trcYJxcYe+TjU7nRBBAkAQYoSkp/U1FS73W61WtVjd5WVlXFxcc3NzQsW\n",
       "LHA6nfKpt99+W++EQpdE6uVHAECQoi1IETGh0CDx7kcACBJBMkWQeIwOAEEiSPqD\n",
       "xON1AAgSQTJFkHi8DgBBIkj6g8Tb8QEgSBEfpLy8vHvvvffVV191u91fffVVhAaJ\n",
       "x+sAEKTIDtLf/va366+//u6773Y6nTabbeDAgRE6IR6vA0CQIjtIt956q9frTUtL\n",
       "kyDJH6+99tr//e9/ETchHq8DQJAiPkhDhgwpKipSQTp48GDPnj2NM6hG0ITUaRoA\n",
       "gCBFcJDefPPNXr16DRw48Pbbb+/fv/8TTzwRiRPi8ToABCnigyS2bt06ffp0i8Wy\n",
       "bNmyYDAYcRPi8ToABClKghTpE+L4OgAEKbKD1K9fv97HcvpHfms8dRAAEKTIC9Ku\n",
       "Xbt27NhhtVqHDh1aXFy8bdu2yZMnDxgwIOzd9kw+ocxMggSAIEV4kJSbbrpJUmT8\n",
       "sW/fvmHvtmfyCQ0fTpAAEKSoCNLtt9++cuVKtV1XV9e9e/e9e/dG0ISkRgQJAEGK\n",
       "hiBlZ2d37dp19OjR8fHx//d//zdq1KgImpA6vo4gASBI0RAksWHDhoSEhIkTJ3o8\n",
       "ntN/AqkjJyQ14jkkAAQpSoK0cOHCKd/m8/kiZUIqRQQJAEGKhiClp6c72kyePPmn\n",
       "P/3pkCFD/H5/REzIeD0sQQJAkKIhSKFkbXTNNdc0NDRExITU43UECQBBisIgNTc3\n",
       "X3nllRUVFRExodjYQ1VVBAkAQYqWIE2YMGHIUVKjG2+8UbJk/glx/joABCnagrRk\n",
       "yZJly5atalNUVLRmzZqICJLxeB0AEKSID1J9ff3HH388aNCgFStWfNxm586d3bt3\n",
       "j4hz2RmP1wEAQYr4IL300kuSn/PPP79bt27djxo6dGjoO1DIdm5urt1ud7lc5eXl\n",
       "oX999uzZrjYZGRkdPyGeNwJAkKInSMr9999fVlZ2vM+WlpY6nU6fz+f1ehMSEkJX\n",
       "VzNmzGhqEwgEOnhCPIEEgCBFYZBOzOPxFBQUqG2bzWa8u/m2bdvmzZtXXFwsxWpp\n",
       "aemACUmBjI/Y2MPnVDX+CAAEKbKDdOedd+bn5z/11FP9v+3AgQPG12RkZEh11LbL\n",
       "5TJOBF5YWJiSkiL/ffnll+fOndt+QoYzGKRvfr48XgdAd4fO+F6uUwdp48aNX375\n",
       "ZVlZ2fpvCz3KLicnR6qjth0OR01NTdiVtLa2Pvfcc2HHQZzVCfF4HQBWSNEWpDvu\n",
       "uKP/sYSukKRGbrdbNiRFFoslEAj4/X5ZJ3k8HhWqvXv3yuVhZxs6qxPigG8ABCna\n",
       "grRp0ya1JFq7dm12dvaiRYveeuutsBWSlCY1NdVut1utVvXYXWVlZVxc3BdffDF9\n",
       "+vTk5GT5VElJSUdOiAO+ARCkaAuSIoHp16/fJZdc0qtXr65du2ZlZZl8QjyBBIAg\n",
       "RWeQ7r333vj4ePWY2+rVq7t162bmt5/gCSQABClqg3TDDTfs3LnT+ONNN90U9gJY\n",
       "U02IJ5AAEKSoDdKTTz6ZnJystktKSvr06WPO90PirY8AEKQoD9Ljjz8eExNzzTXX\n",
       "9O/f/9xzz+3du/dtbbZu3WrCIPF4HQCCFLVB8nq9/zmW+vp6swWJx+sAEKRoDlKk\n",
       "TEidMYgDvgEQpKgNUmFh4bBhwwaECH1hrKmCxBNIAAhSNAdp4MCBU6dOXbNmTeFR\n",
       "5nyDPqkRTyABIEjRHCRZEm3ZssX8E5Ig8QQSAIIUzUFasmTJL3/5S/U2E4ppV0g8\n",
       "gQSAIEVzkOSn2b1790GDBg0+6uDBg+YMEgAQpGgOUr9+/f773/+af0I8gQSAIEV5\n",
       "kJ566qns7GyTT4hXIAEgSNEfpAkTJsTExAwcOHDIUSZ8yI5XIAEgSNEfpI0bN64K\n",
       "sWDBgsbGRlNNiDN8AyBInSJIiqyK0tPTBw0aJKul0zlpEEECQJAI0qmvkJ5++umu\n",
       "Xbv26NEjKSmpoqLCbBPiCSQABCnKg7RgwYKbb765e/fu8gN1OBx33323OSfEAd8A\n",
       "CFKUB6lXr1433njj+++/L9srVqwYOXKkCSdkPF7Ho3YACFLUBmnbtm1Wq7VHjx63\n",
       "3HLLH//4R3MGyeU6/EGQABCkaA6S4vf7PR7PiBEjunTp8rvf/U62W1tbzTOh4cOP\n",
       "bBAkAAQpyoNkqKqqSkpK6tOnj6mOsjOeQCJIAAhSZwmScvrLozM4odADvgkSAILU\n",
       "uYJkqgkZTyARJAAEiSDpnFDoK5AIEgCC1KmDFAwGc3Nz7Xa7y+UqLy8P+2wgEEhO\n",
       "Tt65c+dZmlDoK5AIEgCC1KmDVFpa6nQ6fT6f1+tNSEgI+6y0ymKx7Nix42xMKOyM\n",
       "QQQJAEHq1EFS7ySrtm02W11dnfGprVu3Llq0aOHChccMkoEgAYjKDp3+Xo4gnZyM\n",
       "jIzi4mK17XK5qqur1XZ9ff3MmTMbGhqOF6TT/9acwg4AKySC9I2cnJzCwkK17XA4\n",
       "ampq1LasjbKyst57773nn3/+9ddfD3sLpTMyIU5hB4AgEaRvSI3cbrdsSIosFksg\n",
       "EPD7/bJO2rJly9o2ycnJS5cuPXDgwOlPKDb2mw+pkdoAAIJEkA6T/KSmptrtdqvV\n",
       "qh67q6ysjIuLM75Alkrt37Hi1CZknCXoEO+BBIAgESSNEwoNEk8gASBIBMkUQYqN\n",
       "PVRVxa86AIJEkHRPiCMaABAkgqR/QjyBBIAgESRTTIgnkAAQJIJkignxBBIAgkSQ\n",
       "TDEhnkACQJAIkv4J8QQSAIJEkDRPSB32HfqmfABAkAiStiBxRAMAgkSQTBEknkAC\n",
       "QJAIkv4gFRV963wNAECQCJKeIHFEAwCCRJBMESSeQAJAkAiSKYLES2IBECSCZIog\n",
       "cUQDAIJEkEwRJJ5AAkCQCJIpgsRLYgEQJIKkf0Ic0QCAIBEkU0yIIxoAECSCpH9C\n",
       "kiIJEgAQJIKkeUK8JBYAQSJIppgQTyABIEgEyRQT4gkkAASJIJliQjExnFYVAEEi\n",
       "SMcXDAZzc3PtdrvL5SovLzcuDwQCixcvnjp1anJy8q5du05/QmPGECQABIkgHV9p\n",
       "aanT6fT5fF6vNyEhwbh83bp1bre7paUlPz8/LS3tNCekjmggSAAIEkE6Lo/HU1BQ\n",
       "oLZtNltdXZ0RKrUwKikpeeGFF05zQuqIBoIEgCARpOPKyMgoLi5W2y6Xq7q6OvSz\n",
       "ixYtevbZZzdv3tx+Qobv813UEQ0ECUAEdeik9nIE6QzIyckpLCxU2w6Ho6amRm3v\n",
       "3bvX7/fLxp49e5577rmmpqbTucugTvJNkACwQiJIxyU1crvdsiEpslgsgUBAOiTr\n",
       "pPT09JUrV8rlX331VXx8fENDwylPyHhJLEECQJAI0nFJflJTU+12u9VqVY/dVVZW\n",
       "xsXFSZ8S20yZMmXNmjWnMyGCBIAgESRTTMg4RwNBAkCQCJLOCRnnaCBIAAgSQdI5\n",
       "Id62HABBIkimmBAn+QZAkAiS/gm5XLxtOQCCRJBMMCHedQIAQSJIppgQ7zoBgCAR\n",
       "JFNMiCMaABAkgqR/QmFvW85h3wAIEkEiSABAkDrlhKQ98hEbe/hDbasPACBIBEnD\n",
       "hDiiAQBBIkimmBBHNAAgSARJ/4TCnkACAIJEkAgSABCkzjeh2NgjG9QIAEEiSKYI\n",
       "krEBAASJIOkMEkc0ACBIBEl/kIqKeNURAIJEkEwQJI5oAECQCJIpgsS7TgAgSATJ\n",
       "FEHiHA0ACBJBIkgAQJCY0NEgcYgdAIJEkPQHiSMaABAkgnTSgsFgbm6u3W53uVzl\n",
       "5eXG5YFAICsrSy5PTk6uqKg4qQm5XIc/AIAgEaSTUFpa6nQ6fT6f1+tNSEgwLl+7\n",
       "dm1aWlpzc/OmTZsSExNPakIcYgeAIBGkk+bxeAoKCtS2zWarq6tT2++8805ZWZls\n",
       "1NfXx8fHn9SEOGkQAIJEkE5aRkZGcXGx2na5XNXV1aGfPXDgwLx585YuXdp+QoZj\n",
       "/HQ4ogFA5HfoBHs5gnRW5OTkFBYWqm2Hw1FTU2N8SkI1ffr09evXn9RdBk4aBIAV\n",
       "EkE6FVIjt9stG5Iii8USCAT8fr+skzZu3JiWltbQ0HCyE+IQOwAEiSCdCslPamqq\n",
       "3W63Wq3qsbvKysq4uLi5c+dOnDjR0SYlJeX7TygmhiMaABAkgmSCCUmQOEcDAIJE\n",
       "kAgSABAkJnQ0SABAkAiS5gllZvIiJAAEiSCZYEIuF0ECQJAIkgkmNGYMQQJAkAiS\n",
       "CSYkNSJIAAgSQdI/oZgYggSAIBEk3RNSJw0iSAAIEkHSPCFOGgSAIBEkU0yI9+UD\n",
       "QJAIkikmxPvyASBIBMkUE4qN5aRBAAgSQTLBhDhpEACCRJD0T4j35QNAkAiSKSZk\n",
       "HGLHYd8ACBJB0jkh44gGggSAIBEkggQABKnTT8g4xI4gASBIBEnnhIxD7AgSAIJE\n",
       "kLRNKPQQO4IEgCARJG0TCj2LHUECQJAIkrYJhZ40iCABIEgEiSABAEHq3BMKPYsd\n",
       "QQJAkAiStglxFjsABIkgna5gMJibm2u3210uV3l5edhnS0pK8vLyTjwhzmIHgCAR\n",
       "pDOgtLTU6XT6fD6v15uQkGBcvn///vT09PHjxy9ZsuTEE+KNYgEQJIJ0Bng8noKC\n",
       "ArVts9nq6urUtiSqrKxs6dKlxwuSgTeKBRCVHTIQpA6SkZFRXFystl0uV3V1dehn\n",
       "S0pKvnOFxBvFAmCFRJDOgJycnMLCQrXtcDhqampONki8USwAgkSQzgCpkdvtlg1J\n",
       "kcViCQQCfr/fWCcdL0jdutVKh9RHTMwhY1t9AABBIkgnTfKTmppqt9utVqt67K6y\n",
       "sjIuLu6kVkgAQJAIkuYJcYgdAIJEkEwxIQ6xA0CQCJIpJsQhdgAIEkEyxYQ4xA4A\n",
       "QSJIppgQZ7EDQJAIEkECAIJEkNomxCF2AAgSQSJIAECQCNLRCXGIHQCCRJAIEgAQ\n",
       "JIJ0dEIc8w2AIBEkU0yIQ+wAECSCZIoJ8c7lAAgSQTLFhDjEDgBBIkj6J8RpVQEQ\n",
       "JIJkiglxiB0AgkSQTDEhDrEDQJAIEkECAIJEkI5OiGO+ARAkgqTfyJFpHPMNgCAR\n",
       "JP2GD8/kmG8ABIkg6de37wYOsQNAkAgSQQIAgkSQ2nTrVsshdgAIEkEywf9/DL8r\n",
       "3BhuDDemU9wYgqRfMBjMzc212+0ul6u8vLz9ConfFW4MN4YbQ5AIUkcoLS11Op0+\n",
       "n8/r9SYkJIR9tm/fDfyucGO4MdwYgkSQOoLH4ykoKFDbNputrq4uLEhjAaBzIEia\n",
       "ZWRkFBcXq22Xy1VdXX0IAECQOl5OTk5hYaHadjgcNTU1TB0ACJIGUiO32y0bkiKL\n",
       "xRIIBJg6ABAkDfx+f2pqqt1ut1qtxmN3AACCBAAAQQIAECQAAAhSuBOfvkGLkpKS\n",
       "vLw87TcjEAhkZWXJTyY5ObmiokL7jVm8ePHUqVPlxuzatcsMY5KbJDdm586dem/G\n",
       "7NmzXW0yMjK0/0zWr1/vdDpTUlLKysr03pLVq1e7QoS96LCDtba2Zmdny2+v/HA+\n",
       "/PBDvT+ZpqYm+ack/65lTLt37yZI5nLi0zd0sP3796enp48fP37JkiXafzJr165N\n",
       "S0trbm7etGlTYmKi3huzbt06t9vd0tKSn58vt8oMvzlyP8ZisezYsUPjbaivr58x\n",
       "Y0ZTG+1HjcreTXZz+/btk7svSUlJem+M/Ive30bu3s2aNUuSoPHGbN26VcYkA9qw\n",
       "YcP06dP1/mRWrlz58ssvyw9E/k3JvRmCZC4nPn1Dx/8rkruWS5cuNUOQ3nnnHXU/\n",
       "V/Z68fHx2u83qIWR7F9eeOEF7T8c2cUsWrRo4cKFeoO0bdu2efPmFRcXy89Haq33\n",
       "Z7J8+XK5uyA1+uijj/bu3WuGf92NjY0SgNpazaep3L59u0RR7tvJvV5ZVeu9MVIj\n",
       "+UckG3J7xo4d6/f7CZKJmPD0DfLrYoYgKQcOHJBdnjTSDDdGGvDss89u3rxZ782Q\n",
       "Qs+cObOhoUF7kAoLC1NSUuS/speZO3eu3h/L4sWLp02bJvfw5McyZ84cvYsSJS8v\n",
       "b9WqVdpvhvyqyJJx8uTJ48aNM16br3GFJP+iJdJyj1OCpL3WBOlbTHj6BvMESVIt\n",
       "dzDXr1+v/ZbIPW51V27Pnj3PPfdcU1OT3i5mZWW99957zz///Ouvv37w4EHtPx/Z\n",
       "+8uP5auvvtJ7327ZsmVqOzExUft9O5mLxWKRGGifzooVK+QXJhgMyt7farXKnTyN\n",
       "N0YWRhLpBQsWyHJWGim3iiCZiAlP32CSIG3cuDEtLc0M/55Fenq63LOTDdnnxsfH\n",
       "671VW7ZsWdsmOTlZ1o4a9y+yHFF3pyTY8tur9+GXoqIiWRupBYHNZtN+11vuTs2f\n",
       "P98Mv70ypuzs7ENtDyFOmjRJ7/MC8tv77rvvyobX65Wlkmn3zJ00SCY8fYNJgjR3\n",
       "7tyJEyc62qSkpOi9MXJ3IbHNlClT1qxZY5JfHlkq6T3+8IsvvpAlrHRRfoHVEwN6\n",
       "73rL/W6n0yk35u233zZDBpYvX26G35N9+/bNmDFD/h3Jb6+6X6WRz+ebM2eO/FOS\n",
       "Ow2VlZUEyYzkPp3254Txnb7++mszPDNhwh+LeR54aWpqYkbH28lIs01yYyRLpn2w\n",
       "jiABAAgSAAAECQBAkIBORONZqZqamkxysiWAIAHfV0NDQ0w7kyZNGjp06OlcbWlp\n",
       "6Wlew/e0efPmG264IezCQCDQt2/fTz/9lPmCIAGRJNjG7XYPGzZMbdfW1nq93tO5\n",
       "zrvuuqtjjj+WIEl72l8+e/bscePGMVwQJCDyvPTSS8OHD1fb//nPfx5++OEVK1Y8\n",
       "+OCDstDp2rXr6NGjp02b1r1796uuuuqtt95SX5aamnr11VdfeeWVf/nLX0KvqqKi\n",
       "Qi6srKwcNGjQhRde+KMf/Sg3N/d4f2XGjBlynfItHnnkkcbGRtWSPn36XHbZZXIb\n",
       "9u3bJzdj1KhREssLLrhAboxcIsmUv37FFVfI19x///0qSLt27Qr9dtLUiy++WO/p\n",
       "LQCCBJxukKQBsuvPycmRffqmTZs+//xzFYy6ujqHw3H33XfL1+Tn51933XWffPJJ\n",
       "dXX1jTfe6PF4jKv697//LX99ypQp9913X0tLyxtvvNG/f/9j/hVZRUmcPvjgg5qa\n",
       "GvmatLQ0+dY9evTYsmWLhGfEiBFPPvmk3IwuXbqsW7dOGnPzzTe/8sorS5cu/eEP\n",
       "f7h9+/a9e/fKbVZBav/t5HrkbzFZECQgGoJ01113qUtuuOEGdcIeic2dd94pG3/+\n",
       "858HDhw4uc3gwYOfeOIJ46pmzpwpf5Qrueiiix599FFJiDqnTvu/IpfItvpbX7UZ\n",
       "N27cpEmT1CXr16+XXMnNUN9RXcPzzz8/duxYyY+6ZPXq1SpI7b+dfK9//OMfTBYE\n",
       "CYiGIKnFkArShg0bZOP1119XeXjmmWd++9vfzj8q9AzTSUlJEgbZ2Llz54svvnjH\n",
       "HXf06tVLVjzt/8qYMWOMtxH69NNPKysr5WumTZumLikpKbn88stDb4YK0tNPPy0L\n",
       "NXWJrIGM55DCvt3Pfvaz1157jcmCIAFRHqTs7OwBAwbImqa1tfWBBx5YvHixcVWv\n",
       "vvqqLIAkHi6X61Db23l06dLlgw8+aP9X/v73v/fr108uaWhokH7885//XLJkSWxs\n",
       "7J49e+RrZAl13333tQ+SfM21114ry6BgMPjII4+oILX/dpKl7du3M1kQJCDCyJLF\n",
       "CNKbb745bNgwKcHIkSOPF6SWlpYnn3zysssuu+KKK+65557Qc8Z//PHHPXv2fP/9\n",
       "9/v06SN16dGjx6hRoyQw7f+K3+9/6KGHLr300t69ez/22GMtbcaOHasu+fnPf/7J\n",
       "J5+E3oxnn31Wve3b6NGju3XrJl8j4VRB8nq9od/uyy+/vOiii8xzIjWAIAFnl8/n\n",
       "O+Z7I40YMcLj8UiEPv/887AvaP9XZHmkjq8zNDU17d+//8TfWv5W2PWEfjtZSNls\n",
       "NgYEggR0dps2bRo8eLCu7y4LL1nSmfaNQQGCBHSonTt36vrWzc3Nu3fvZgQgSAAA\n",
       "ECQAAEECAIAgAQAIEgAABAkAQJAAACBIAACCBAAAQQIAECQAAAgSAIAgAQBAkAAA\n",
       "BAkAAIIEAOhc/h/OvA91th1RiAAAAABJRU5ErkJggg==\" style=\"clip-path:url(#clipPath1);\" height=\"420\" preserveAspectRatio=\"none\"\n",
       "    /></g\n",
       "  ></g\n",
       "></svg\n",
       ">\n"
      ]
     },
     "metadata": {},
     "output_type": "display_data"
    }
   ],
   "source": [
    "step(Gs,'-',Gz_tustin,'--')"
   ]
  },
  {
   "cell_type": "markdown",
   "metadata": {
    "slideshow": {
     "slide_type": "subslide"
    }
   },
   "source": [
    "#### Matched pole-zero mapping"
   ]
  },
  {
   "cell_type": "code",
   "execution_count": 10,
   "metadata": {
    "slideshow": {
     "slide_type": "fragment"
    }
   },
   "outputs": [
    {
     "name": "stdout",
     "output_type": "stream",
     "text": [
      "\n",
      "Gz_mpz =\n",
      " \n",
      "    0.1813\n",
      "  ----------\n",
      "  z - 0.8187\n",
      " \n",
      "Sample time: 0.2 seconds\n",
      "Discrete-time transfer function.\n",
      "\n"
     ]
    }
   ],
   "source": [
    "Gz_mpz = c2d(Gs, Ts, 'matched')"
   ]
  },
  {
   "cell_type": "markdown",
   "metadata": {
    "slideshow": {
     "slide_type": "subslide"
    }
   },
   "source": [
    "Plot result"
   ]
  },
  {
   "cell_type": "code",
   "execution_count": 11,
   "metadata": {
    "slideshow": {
     "slide_type": "fragment"
    }
   },
   "outputs": [
    {
     "data": {
      "image/svg+xml": [
       "<?xml version=\"1.0\"?>\n",
       "<!DOCTYPE svg PUBLIC '-//W3C//DTD SVG 1.0//EN'\n",
       "          'http://www.w3.org/TR/2001/REC-SVG-20010904/DTD/svg10.dtd'>\n",
       "<svg xmlns:xlink=\"http://www.w3.org/1999/xlink\" style=\"fill-opacity:1; color-rendering:auto; color-interpolation:auto; text-rendering:auto; stroke:black; stroke-linecap:square; stroke-miterlimit:10; shape-rendering:auto; stroke-opacity:1; fill:black; stroke-dasharray:none; font-weight:normal; stroke-width:1; font-family:'Dialog'; font-style:normal; stroke-linejoin:miter; font-size:12px; stroke-dashoffset:0; image-rendering:auto;\" width=\"560\" height=\"420\" xmlns=\"http://www.w3.org/2000/svg\"\n",
       "><!--Generated by the Batik Graphics2D SVG Generator--><defs id=\"genericDefs\"\n",
       "  /><g\n",
       "  ><defs id=\"defs1\"\n",
       "    ><clipPath clipPathUnits=\"userSpaceOnUse\" id=\"clipPath1\"\n",
       "      ><path d=\"M0 0 L560 0 L560 420 L0 420 L0 0 Z\"\n",
       "      /></clipPath\n",
       "    ></defs\n",
       "    ><g style=\"fill:white; stroke:white;\"\n",
       "    ><rect x=\"0\" y=\"0\" width=\"560\" style=\"clip-path:url(#clipPath1); stroke:none;\" height=\"420\"\n",
       "    /></g\n",
       "    ><g\n",
       "    ><image x=\"0\" y=\"0\" width=\"560\" xlink:href=\"data:image/png;base64,iVBORw0KGgoAAAANSUhEUgAAAjAAAAGkCAIAAACgjIjwAAAnmElEQVR42u3dDXRT\n",
       "9fnA8frC8Q2mCKjT4Z8dHYqKZygbOobUbRzPNlGn8w31gC+jTGgMBAjNoMmhVGDt\n",
       "RKI4sNjSdu0WcApCq+hogVN5qSeFTqRSipXqqkgLFWzTpG34P/Qn15iXKm+5N+n3\n",
       "c3I8l7SksU+53/yS25uEIwAAGEAC3wIAAEECAIAgAQAIEgAABAkAQJAAACBIAACC\n",
       "BAAAQQIAECQAAAgSAIAgAQBAkAAABAkAAIIEACBIAAAQJAAAQQIAgCABAAgSAAAE\n",
       "CQBAkAAAIEgAAIIEAABBAgAQJAAACBIAgCABAECQAAAECQAAggQAIEhA99XU1LRz\n",
       "584DBw7wrQAIEqCP9vb28ePHn3XWWQkJCWecccZ9993X0tLS2to6ffr05cuXn8AN\n",
       "rlq1KiFA375909LS+D4DBAn4Dvn5+ZKNe++99/XXX//DH/4g2+np6YcOHZKNRx99\n",
       "9ISDNHz48Hnz5lmt1j59+sgf33vvPb7VAEECuiL5kWBMmjSpoaHhiy+++Otf/1pU\n",
       "VDRw4EC5slevXg8++KB8zvPPP//jH//4wgsvvP/++w8ePJiVlXXNNdeMHTtWrrn6\n",
       "6qv/9a9/hQbJYrGoPz755JPyR7nN0Nv59NNPb7/99nPPPVe+0COPPCIrs0i3LNfL\n",
       "H88777xbb71169at6hr5zOTk5IsvvlgWYQUFBaG3FvoVGTcIEmBc1dXVvXv3lmac\n",
       "eeaZN99889y5c71eb25urlwzYsSIdevWvfrqq7I9fvz4+fPn9+jR4+GHH5bPkWuG\n",
       "Dh0qVZB0yZV1dXVBQRo5cmRmZqbNZpNa9OvXT2IQejszZsyQa3JycubMmXPBBRfI\n",
       "Wi3sLZeUlMiVo0aNevnll6+88kq5taamJvWZN95448yZMyVC/fv3D7210K/IuEGQ\n",
       "AEPbt29fRkbGr3/9a9lryx78T3/6U+BTdg899JBsP/XUU7Jn79Onj+z9VQykVfLR\n",
       "wsJC2ZaABQXpnHPOkXKoG3zggQfC3o7T6ZRrLrnkElnQyBKnvb097C1PnjxZNmpq\n",
       "auTKF198Ubbfeust9ZnqVS4J51lnnRV6a6FfkVmDIAHGJbv7X/3qV7LmkO29e/fK\n",
       "XvuKK64IDNI999wj22azOeUY9Szfu+++q+VnyZIlQUFST9nJ7dx0003yxx07doTe\n",
       "Tltb29q1aydNmiTrHvmQrGxUZoJueeLEibLxySefyJWvvPKKbMuH1Gdu3rxZrhw9\n",
       "evQZZ5whG0G3FvYrMnEQJMCgZDcte+3f//73r776quzEZc/+m9/85quvvpIrBw8e\n",
       "vH79+oULF8r2tGnTZOHyi1/8YsyYMSoGkoGysrLExETZrqysDBskkZqaKn8sLi4O\n",
       "vZ3HHnvsBz/4gbTqzTfflA+ZTKawtyzLILVukyuHDBly/vnnf/bZZ6FBCr210K/I\n",
       "uEGQAOPyeDyyElKHfYthw4apJ8fuuOMO9Uefzzd27NgzzzxTdvo33nhjbW2tioF8\n",
       "SP579tln2+32wBt844035PqpU6eqP+bl5ckfn3vuudDbkXj85Cc/UV9XNqqrqyPd\n",
       "styaevavb9++Ek65JjBId911l9xm6K2FfkXGDYIEGJ0siXbt2hX0i7HSKq/Xq7Zb\n",
       "WloaGhrUthaDxsZGdTDb9xd4O8Lv99d3ko2ub1nuyaeffqo+LZKgWwv7FQGCBMSP\n",
       "efPmybJjy5YtMXTLAEECAIAgAQAIEgAABAkAQJAAACBI36m8vLywsJB5AwBB0o06\n",
       "Q/PEiROXLVvGvAGAIOnG4/GoU7AQJAAgSPorLy8PG6Sbb755/DFss812pO2bb14t\n",
       "l4QEh/x34MBNcklIyFEbndull1++S12+vV3bq1eDugRtJyQc+f4X7S9+z4t2B07s\n",
       "Iv9HYa80zkWN4wQuBMnQQZJ/aQa5h8a5J9yZmLszDsfXl3Hjvr4kJn59GTDg60vQ\n",
       "Lj70GnXR/qJ2U9qNy5WMKabvjKG+LQSJIHFnDH1nArsSWJRI5ZBHyoHN0BKiLoyJ\n",
       "O0OQCBL/hLgz4UujZSa0MWpFoj5Noz6ZMXFnCFJ3YfwJwfhycr7Vm+8sDcDujiAR\n",
       "JJyUoOqo12a0Ask2wO6OIBEknPr2qJfxtfCohU4C5zYBuzuCRJBwWvOjvbSjtUc7\n",
       "rCDwQpDA7o4gESScGrW131r9BB4GHf0j0wB2dwSJIHW7BZC2BpLLd/5KDcDujiAx\n",
       "IZwapaXfWgOFHuTGM29gd0eQmBBOe4TUkW+yzWFvAEFiQogS9YKQWgmpCAUiSABB\n",
       "YkI47dQR2OoFoUCB584hSABBYkI4XYshyUzQYogzIAAEiQkheoshtdwJ2x6CBBAk\n",
       "JoRoLIlUh3Jygk9lrdc5rQF2dwSJIHWvDnFqOIAgMSHoRq2HIj01B4AgMSFEaUmk\n",
       "ncY08AKAIDEhRClFnMsHYHdHkAiSnilSp1TQnp0jSAC7O4JEkKKqtPTr5+JkAwC7\n",
       "O4JEkHRLUUICb+kNsLsjSARJJ7W1X6dINgCwuyNIBEmfFKnXio4c4ZdYAXZ3BIkg\n",
       "6ZSioDeAIEgAuzuCRJCiTf1eURCCBLC7I0gEKaoLI/X+eKEIEsDurrsEye/3FxQU\n",
       "WK1Wh8NRVVWlXd/a2rp06VK5Pj09fe/evQTp9KVIPUcnNVIXAASpmwapoqLCbrd7\n",
       "PB63252SkqJdv3r16pdeeqmjo2PDhg3z5s0jSKdDaenR5+jCPlMHgCB1uyC5XK7i\n",
       "4mK1bbFYGhsb1bbUqLy8XDba2tpkHl6vlyCdWoEHLxAkgCARpCPZ2dllZWXHdpGO\n",
       "uro6bYW0cOHChoaGt99+W+YhG0ET0vDzesILo29+nggSYLwOxcpeLn72H/n5+SUl\n",
       "JWrbZrPV19erbVkYrVmzZtGiRUVFRVOnTvX7/ayQTuHCKOgMQAQJYIVEkI5IjZxO\n",
       "p2xIikwmk8/n83q9sk7atm3bO++8I9e73W5ZKsXchAxI/bpr2MMWCBJAkAjSEclP\n",
       "RkaG1Wo1m83qubuampqkpCSPxzN//vyZM2daLBa5hiCdJPU0nVwIEkCQCFL3mpCh\n",
       "qKfp+I0igN0dQSJIugl8mo4gAezuCBJB0q1GgW+mR5AAdncEiSDpQL1oFIggAezu\n",
       "CBJBiracnDDHdhMkgN0dQSJIURX0/hEECWB3R5AIkg66OEEqQQLY3REkghQl6h3H\n",
       "OW83wO6OIDEhnddG/H4rwO6OIDEh/Wuk/RcAuzuCxIR0q5F6fYggAezuCBIT0r9G\n",
       "BAlgd0eQmJAhakSQAHZ3BIkJGaJGANjdESQmpANJEeshgN0dQWJChlgeAWB3R5CY\n",
       "kJ5ycqgRwO6OIDEhAxgwIPwFALs7gsSEokS9owTtAdjdESQmpKfa2qM1kiYRJIDd\n",
       "HUFiQnpKTAx+fyMA7O4IEhPSoUbaO5EDYHdHkJiQPiRFHFYHsLsjSExIZ7xoBLC7\n",
       "I0hMSH/agQwA2N0RJCakJw5kAECQosfv9xcUFFitVofDUVVVpV3f0dGRl5c3ffp0\n",
       "u93+wQcfdMMgORzhz53KM3gAQSJIp0VFRYUkx+PxuN3ulJQU7frt27fPnj3b5/Nt\n",
       "2rRp1qxZ3S1IsjCKdCADQQIIEkE6LVwuV3Fxsdq2WCyNjY1qe+fOnXPnzm1ra5NQ\n",
       "paWlhU5IE5c/gl28dESQgG7SoVjZy8VPkLKzs8vKytS2w+Goq6tT283NzampqVOn\n",
       "Tp0wYUJJSUm3WiEFvnQk20EXggSwQiJIp0V+fr7WG5vNVl9fr7ZXrVqVm5vr9/sb\n",
       "GhrMZvOhQ4e6SZD4rSMABEkfUiOn0ykbkiKTyeTz+bxer6yTXC5XXl6eXN/S0jJl\n",
       "yhTtqby4DxILIAAESR+Sn4yMDKvVKssg9dxdTU1NUlLSgQMHZs+eLWumadOmrV69\n",
       "OuYmdGK0J+s4URAAgsSEdBN4nDdBAkCQmJBuAp+sI0gACBIT0kfQSRkIEgCCxIR0\n",
       "EHpSBoIEgCAxIT3GmRAmUQBAkJhQVIU9gypBAkCQmFBU5eSE/zVYggSAIDGh6A4y\n",
       "4eibHhEkAASJCelJ1kaRwkOQABAkJhQlvDc5AILEhIwxwoSjQQq8AABBYkLRlpMT\n",
       "5lBvACBITEif5REAECQmpKdx445eCBIAgsSE9FRb+/WTdQQJAEFiQnpKTDz6AhIA\n",
       "ECQmpKfSUt6eHABBYkLGWB6FnrYOAAgSE2J5BIDdHUHqfkFieQSAIDEh/eXkBL8F\n",
       "HwAQJCZkiOURh30DIEhMyBDLI4IEgCAxoWiT9oS+6RFBAkCQmJD+yyOCBIAgGY7f\n",
       "7y8oKLBarQ6Ho6qqSrt+7dq1jgCNjY0xGqSwyyOCBIAgGU5FRYXdbvd4PG63OyUl\n",
       "RbterjnYqby8fO7cuR0dHbEYpC4OriNIAAiSsbhcruLiYrVtsViCVkItLS2zZs1q\n",
       "aGgInZAmFpdHBAnAd3YoJvZycRWk7OzssrIyte1wOOrq6gI/WlhYuGbNmlh8yNBF\n",
       "dRITj14IEgBWSMaSn59fUlKitm02W319vfahw4cPm0ym5ubmGA2SCg8AEKTYIDVy\n",
       "Op2yISmS/Ph8Pq/Xq9ZJsnJ68cUXY3RC6tUjggSAIMUMyU9GRobVajWbzeq5u5qa\n",
       "mqSkpCOdLy+tXLkyRiekTs1AkAAQJCakJy1FBAkAQWJCOi+PgjYAgCAxoWirrf3m\n",
       "CDqCBIAgMSHdjBt39IgGggSAIDEhvWcTMByCBIAgMSF9BJ0riCABIEhMSB+cfwEA\n",
       "QWJChlseAQBBYkL6CH2fcgAgSEwo2jgvAwCCxIQMIfBobwAgSExIv5Ek8A8HAEFi\n",
       "QnqLdDgDT+IBIEhMKKoivTMsQQJAkJiQ/ssjggSAIDGhqOricAaCBIAgMaEoDiPy\n",
       "NAgSAILEhKIk9Pk6+aN2IUgACBITipJIhzMAAEFiQlFdHvHrRwAIEhPS37hxBAkA\n",
       "QWJCRhhDAqf3BkCQmJDe1OEMBAkAQWJCOlNvNkGQABAkJqSn2tqv3xyWIAEgSHHC\n",
       "7/cXFBRYrVaHw1FVVRX4oY0bN9rt9vT09MrKSqNNSDs7A0ECQJDiREVFhVTH4/G4\n",
       "3e6UlBTt+r1790qlDhw4UF1dnZqaarQJab9+RJAAEKQ44XK5iouL1bbFYmlsbFTb\n",
       "K1euLCoqkhp9+OGH+/fvN+AKKWgDAAhSbMvOzi4rK1PbDoejrq5ObS9dunTGjBmS\n",
       "q8WLF8+fP7+joyNoQhpdaqSdTZUgAThNHdJxL9dNg5Sfn19SUqK2bTZbfX29FqoV\n",
       "K1ao7ZkzZ2qhMsJDBn4ZFgArpDgMktTI6XTKhqTIZDL5fD6v1yv5KS0tlbWRXN/c\n",
       "3GyxWBoaGgwyoS7e/QgACFIMk/xkZGRYrVaz2ayeu6upqUlKSmpra1u0aJHdbpcP\n",
       "vfXWW8aZkPr1IwAgSPEWpJibEM/XASBIBMkQE+L5OgAEiSDpPyGerwNAkAiSISYU\n",
       "+nwdCyYABIkJRVvY4+sIEgCCFEsKCwvvvvvuV155xel0fvnllzE6obDP1xEkAAQp\n",
       "Zvztb3+75ppr7rzzTrvdbrFYhg4dGqMTCnt8HUECQJBixk033eR2uzMzMyVI8ser\n",
       "rrrqf//7X8xNKNLvwxIkAAQpZgwfPry0tFQF6fDhw3379tXOoBpDE1LvfkSQABCk\n",
       "GA7SG2+80a9fv6FDh95yyy2DBw9+7LHHYnFCkX4fliABIEixZPv27bNmzTKZTCtW\n",
       "rPD7/TE3oS7OX0eQABAkJhQ9Xfw+LEECQJBiwKBBgy4J5+SP/I7yhBISjoaHgxoA\n",
       "EKRYDdKePXt27dplNptHjBhRVla2Y8eOqVOnDhkyJOjd9gw+oZwcTqgKgCDFeJCU\n",
       "66+/XlKk/XHgwIFB77Zn8AklJhIkAAQpLoJ0yy23rF69Wm03Njb27t17//79MTQh\n",
       "qRFBAkCQ4iFIeXl5PXv2HDt2bHJy8v/93/+NGTMmhiakjq8jSAAIUjwESWzatCkl\n",
       "JWXy5Mkul+vkX0CK5oSkRryGBIAgxUmQFi9ePO3bPB5PrExIpYggASBI8RCkrKws\n",
       "W6epU6f+9Kc/HT58uNfrjYkJab8PS5AAEKR4CFIgWRtdeeWVzc3NMTEh9XwdABCk\n",
       "OAxSW1vbZZddVl1dHRMTGjDgSG0t/xwAEKR4CdKkSZOGHyM1uu666yRLxp9QF+ev\n",
       "AwCCFJNBWrZs2YoVK9Z0Ki0tXbduXUwEiefrABCk+AlSU1PTRx99NGzYsFWrVn3U\n",
       "affu3b17946Jc9nxfB0AghQ/QXrhhRckP2effXavXr16HzNixIjAd6CQ7YKCAqvV\n",
       "6nA4qqqqAv/6vHnzHJ2ys7OjPyGOrANAkOInSMq9995bWVkZ6aMVFRV2u93j8bjd\n",
       "7pSUlMDV1ezZs1s7+Xy+KE8o6AUk4gSAIMVDkLrmcrmKi4vVtsVi0d7dfMeOHQsX\n",
       "LiwrK5Nitbe3R3lCQS8gESQABCm2g3T77bcXFRU98cQTg7/t0KFD2udkZ2dLddS2\n",
       "w+HQTgReUlKSnp4u/33ppZcWLFgQOiHNafn+JnT1RwCIQodO616u2wVp8+bNX3zx\n",
       "RWVl5cZvCzzKLj8/X6qjtm02W319fdCNdHR0PPPMM0HHQZzWCYUe8E2QALBCiu0g\n",
       "3XbbbYPDCVwhSY2cTqdsSIpMJpPP5/N6vbJOcrlcKlT79++X64PONnRaJxR6wDdB\n",
       "AkCQYjtIW7ZsUUui9evX5+XlLVmy5M033wxaIUlpMjIyrFar2WxWz93V1NQkJSV9\n",
       "/vnns2bNSktLkw+Vl5dHc0KhB3wTJAAEKbaDpEhgBg0adMEFF/Tr169nz565ubkG\n",
       "n1BofggSAIIUD0G6++67k5OT1XNua9eu7dWrl5HffiLsGYMIEgCCFA9Buvbaa3fv\n",
       "3q398frrrw/6BVhDTSjsGYMIEgCCFA9Bevzxx9PS0tR2eXl5//79jfx+SGHbQ5AA\n",
       "EKR4CNKjjz6akJBw5ZVXDh48+Mwzz7zkkktu7rR9+3ZjrpAAgCDFZ5Dcbvd/wmlq\n",
       "ajLahDjDNwCCFM9BiqEJcYZvAAQpnoNUUlIycuTIIQECfzHWUBPitSIABCmegzR0\n",
       "6NDp06evW7eu5BhjvkEfbxELgCDFeZBkSbRt2zbjT4gXkAAQpDgP0rJly375y1+q\n",
       "t5lQjLlC6uIFJJ7KA0CQ4iFI8t3s3bv3sGHDbj3m8OHDBpxQF9UhSAAIUjwEadCg\n",
       "Qf/973+NPyH1AlJiYpgLQQJAkOIhSE888UReXp7BJ8QLSAAIUvwHadKkSQkJCUOH\n",
       "Dh1+jAGfsuM3kAAQpPgP0ubNm9cEWLRoUUtLi6EmxAHfAAhStwiSIquirKysYcOG\n",
       "yWrpZE4adPqCRJMAEKT4XyE9+eSTPXv27NOnT2pqanV1tdEmpF5AIkgACFLcBmnR\n",
       "okU33HBD79695Rtqs9nuvPNOY05IHURHkAAQpLgNUr9+/a677rr33ntPtletWjV6\n",
       "9GgDTkhbGxEkAAQpboO0Y8cOs9ncp0+fG2+88Y9//KMxg+RwHL0QJAAEKZ6DpHi9\n",
       "XpfLNWrUqB49evzud7+T7Y6ODuNMKDHx6w2CBIAgxXmQNLW1tampqf379zfUUXba\n",
       "WRgIEgCC1F2CpJz88ugUTijw4DqCBIAgda8gGWpC2gtIBAkAQSJIek4o8BR2BAkA\n",
       "QerWQfL7/QUFBVar1eFwVFVVBX3U5/OlpaXt3r37NE2I03gDIEgE6WsVFRV2u93j\n",
       "8bjd7pSUlKCPSqtMJtOuXbtOx4Q4OwMAgkSQvqHeSVZtWyyWxsZG7UPbt29fsmTJ\n",
       "4sWLwwZJQ5AAxGWHTn4vR5COT3Z2dllZmdp2OBx1dXVqu6mpac6cOc3NzZGCdPJf\n",
       "mvdAAsAKiSB9Iz8/v6SkRG3bbLb6+nq1LWuj3Nzcd99999lnn33ttdeC3kLplEyI\n",
       "F5AAECSC9A2pkdPplA1Jkclk8vl8Xq9X1knbtm1b3yktLW358uWHDh06tRMqLf3m\n",
       "HA0AQJAI0tETC2VkZFitVrPZrJ67q6mpSUpK0j5Blkqh71hx8hMKfQGJ15MAEKRu\n",
       "HSS9JhT6AhJBAkCQCJIOExow4EhtLUECQJAIkt4TCj2igSABIEgEKdoTCvsbSAQJ\n",
       "AEEiSNGeUNjfQCJIAAgSQYr2hEJfQCJIAAgSQdJhQmF/JZYgASBIBCmqE4p0CjuC\n",
       "BIAgEaSoTijwTfkIEgCCRJB0mxDnVAVAkAiSISbEOVUBECSCpP+EOKcqAIJEkAwx\n",
       "Id6UDwBBIkiGmBAvIAEgSATJEBMK+yuxAECQCFK0J9TFEQ08lQeAIBGkKE2o6xeQ\n",
       "CBIAgkSQojShSL8SS5AAECSCFNUJBR7RkJAQfCFIAAgSQYrShDiiAQBBIkj6T0hS\n",
       "JEECAIJEkHSeUE4OJw0CQJAIkgEmNG4cQQJAkAiSASY0YABP2QEgSATJABOS5RGn\n",
       "VQVAkAhSRH6/v6CgwGq1OhyOqqoq7Xqfz7d06dLp06enpaXt2bPn5Cc0bhxBAkCQ\n",
       "CFJkFRUVdrvd4/G43e6UlBTt+g0bNjidzvb29qKioszMzJOckDpHA0ECQJAIUkQu\n",
       "l6u4uFhtWyyWxsZGLVRqYVReXv7cc8+d5ITUr8QSJAAEiSBFlJ2dXVZWprYdDkdd\n",
       "XV3gR5csWfL0009v3bo1dEKa7/NV1K/EEiQAMdSh49rLEaRTID8/v6SkRG3bbLb6\n",
       "+nq1vX//fq/XKxv79u175plnWltbT+YhgzrgmyABYIVEkCKSGjmdTtmQFJlMJp/P\n",
       "Jx2SdVJWVtbq1avl+i+//DI5Obm5ufmEJ6Sd5JsgASBIBCkiyU9GRobVajWbzeq5\n",
       "u5qamqSkJOnTzE7Tpk1bt27dyUyIty0HQJAIkiEmxNuWAyBIBMkQE+Ik3wAIEkEy\n",
       "xIQ4hR0AgkSQDDEhXkACQJAIkv4T6vptywGAIBGkKE0o8IgGDvsGQJAIkm4TCjyi\n",
       "gSABIEgESbcJBR7RQJAAECSCpM+Egn4lliABIEgEiSABAEHqxhMKOkcDQQJAkAiS\n",
       "PhMKOkcDQQJAkAiSPhMKOkcDQQJAkAiSDhMKPck3QQJAkAgSQQIAgtRdJ8Qp7AAQ\n",
       "JIJkiAkNGMBPMgCCRJAMMCHedQIAQSJI+k+otJRXjAAQJIJkgAmFHtEAAASJIOkw\n",
       "oaBzNAAAQSJI+kwo6BwNCk/iASBIBIkgAQBB6pYTCnuIHUECQJAIUlQnFOmIBoIE\n",
       "gCARpIj8fn9BQYHVanU4HFVVVdr1Pp8vNzdXrk9LS6uurj6uCTkcRy8ECQBBIkjH\n",
       "oaKiwm63ezwet9udkpKiXb9+/frMzMy2trYtW7bMnDnzuCYU6RA7ggSAIBGkiFwu\n",
       "V3Fxsdq2WCyNjY1q++23366srJSNpqam5OTk45pQpJMGESQABIkgRZSdnV1WVqa2\n",
       "HQ5HXV1d4EcPHTq0cOHC5cuXh05IE+a7k0CQAMR8h7rYyxGk0yI/P7+kpERt22y2\n",
       "+vp67UMSqlmzZm3cuPG4HjJ0cdIgggSAFRJBikhq5HQ6ZUNSZDKZfD6f1+uVddLm\n",
       "zZszMzObm5uPd0JdnDSIIAEgSAQpIslPRkaG1Wo1m83qubuampqkpKQFCxZMnjzZ\n",
       "1ik9Pf37T4iTBgEgSATJEBMKe44GACBIBIkgAQBB6pYTSkgIcwEAgkSQojqhnBze\n",
       "uRwAQSJIBpiQw0GQABAkgmSACY0bR5AAECSCZIAJcUQDAIJEkAwxIY5fAECQCJL+\n",
       "E+ripEEAQJAIUvQm1MVJgwCAIBGk6E0o0vvyAQBBIkhRnRBnsQNAkAiSISakDrHj\n",
       "sG8ABIkg6TwhdYgdQQJAkAiSnhPSDrEjSAAIEkHSc0LaIXYECQBBIkh6Tkg7ooEg\n",
       "ASBIBIkgAQBB6vYT0s5iR5AAECSCpOeEtLPYESQABIkg6TahwLPYESQABIkg6Tah\n",
       "wLPYESQABIkg6TYhThoEgCARJIIEAASJCR3DG8UCIEgEyRAT4o1iARAkgnSy/H5/\n",
       "QUGB1Wp1OBxVVVVBHy0vLy8sLOx6QrxRLACCRJBOgYqKCrvd7vF43G53SkqKdv3B\n",
       "gwezsrImTpy4bNmyrifEG8UCIEgE6RRwuVzFxcVq22KxNDY2qm1JVGVl5fLlyyMF\n",
       "SRP0RrEc9g0gPjqkIUhRkp2dXVZWprYdDkddXV3gR8vLy79zhRR0iB1BAsAKiSCd\n",
       "iPz8/JKSErVts9nq6+uPN0hBh9gRJAAEiSCdCKmR0+mUDUmRyWTy+Xxer1dbJ32f\n",
       "IAUdYkeQABAkgnQiJD8ZGRlWq9VsNqvn7mpqapKSko5rhUSQABAkgqTzhEIPsSNI\n",
       "AAgSQdJhQkGH2BEkAASJIOkzodCz2BEkAASJIOkwodCz2BEkAASJIOkwodCz2BEk\n",
       "AASJIBkiSABAkAhStCfEWewAECSCRJAAgCARpGMT4o1iARAkgkSQAIAgEaRjE+Kd\n",
       "ywEQJIJkiAmFPcSOw74BECSCFO0JhX3ncoIEgCARpGhPKOwhdgQJAEEiSFGdUOhp\n",
       "VQkSAIJEkHSYUKRD7AgSAIJEkKI6oUiH2BEkAASJIBEkACBI3W9CkU6rSpAAECSC\n",
       "FD2jR2eGPeabIAEgSAQpqhITcyKdVpUgASBIBCl6Bg7cxFnsABAkgkSQAIAgEaRO\n",
       "vXo1cFpVAASJIBng/z+BnxXuDHeGO9Mt7gxB0p/f7y8oKLBarQ6Ho6qqKnSFxM8K\n",
       "d4Y7w50hSAQpGioqKux2u8fjcbvdKSkpQR8dOHATPyvcGe4Md4YgEaRocLlcxcXF\n",
       "attisTQ2NgYFaXwEsngaDwBxhCDpLDs7u6ysTG07HI66urrAj6pTfYe9AAAI0qmU\n",
       "n59fUlKitm02W319PVMHAIKkA6mR0+mUDUmRyWTy+XxMHQAIkg68Xm9GRobVajWb\n",
       "zdpzdwAAggQAAEECABAkAAAIUrCuT9+gi/Ly8sLCQt3vhs/ny83Nle9MWlpadXW1\n",
       "7ndm6dKl06dPlzuzZ88eI4xJ7pLcmd27d+t7N+bNm+folJ2drfv3ZOPGjXa7PT09\n",
       "vbKyUt97snbtWkeAoF86jLKOjo68vDz56ZVvzgcffKDvd6a1tVX+Kcm/axnT3r17\n",
       "CZKxdH36hig7ePBgVlbWxIkTly1bpvt3Zv369ZmZmW1tbVu2bJk5c6a+d2bDhg1O\n",
       "p7O9vb2oqEjulRF+cuRxjMlk2rVrl473oampafbs2a2ddD9qVPZusps7cOCAPHxJ\n",
       "TU3V987Iv+iDneTh3dy5cyUJOt6Z7du3y5hkQJs2bZo1a5a+35nVq1e/9NJL8g2R\n",
       "f1PyaIYgGUvXp2+I/r8ieWi5fPlyIwTp7bffVo9zZa+XnJys++MGtTCS/ctzzz2n\n",
       "+zdHdjFLlixZvHixvkHasWPHwoULy8rK5Psjtdb3e7Jy5Up5uCA1+vDDD/fv32+E\n",
       "f90tLS0SgIYGnU9TuXPnTomiPLaTR72yqtb3zkiN5B+RbMj9GT9+vNfrJUgG0vXp\n",
       "G3QhPy5GCJJy6NAh2eVJI41wZ6QBTz/99NatW/W9G1LoOXPmNDc36x6kkpKS9PR0\n",
       "+a/sZRYsWKDvt2Xp0qUzZsyQR3jybZk/f76+ixKlsLBwzZo1ut8N+VGRJePUqVMn\n",
       "TJig/W6+jisk+RctkZZHnBIk3WtNkL7FgKdvME6QJNXyAHPjxo263xN5xK0eyu3b\n",
       "t++ZZ55pbW3Vt4u5ubnvvvvus88++9prrx0+fFj374/s/eXb8uWXX+r72G7FihVq\n",
       "e+bMmbo/tpO5mEwmiYHu01m1apX8wPj9ftn7m81meZCn452RhZFEetGiRbKclUbK\n",
       "vSJIBmLA0zcYJEibN2/OzMw0wr9nkZWVJY/sZEP2ucnJyfreq23btq3vlJaWJmtH\n",
       "HfcvshxRD6ck2PLTq+/TL6WlpbI2UgsCi8Wi+0NveTj14osvGuGnV8aUl5d3pPMp\n",
       "xClTpuj7uoD89L7zzjuy4Xa7Zalk2D1zNw2SAU/fYJAgLViwYPLkybZO6enp+t4Z\n",
       "ebgws9O0adPWrVtnkB8eWSrpe/zh559/LktY6aL8AKsXBvR96C2Pu+12u9yZt956\n",
       "ywgZWLlypRF+Tg4cODB79mz5dyQ/vepxlY48Hs/8+fPln5I8aKipqSFIRiSP6XR/\n",
       "TRjf6auvvjLCKxMG/LYY54mX1tZWZhRpJyPNNsidkSwZ9sk6ggQAIEgAABAkAABB\n",
       "AroRHc9K1draapCTLQEECfi+mpubE0JMmTJlxIgRJ3OzFRUVJ3kL39PWrVuvvfba\n",
       "oCt9Pt/AgQM/+eQT5guCBMQSfyen0zly5Ei13dDQ4Ha7T+Y277jjjugcfyxBkvaE\n",
       "Xj9v3rwJEyYwXBAkIPa88MILiYmJavs///nPgw8+uGrVqvvvv18WOj179hw7duyM\n",
       "GTN69+59+eWXv/nmm+rTMjIyrrjiissuu+wvf/lL4E1VV1fLlTU1NcOGDTv33HN/\n",
       "9KMfFRQURPors2fPltuUL/HQQw+1tLSolvTv3/+iiy6S+3DgwAG5G2PGjJFYnnPO\n",
       "OXJn5BpJpvz1Sy+9VD7n3nvvVUHas2dP4JeTpp5//vn6nt4CIEjAyQZJGiC7/vz8\n",
       "fNmnb9my5bPPPlPBaGxstNlsd955p3xOUVHR1Vdf/fHHH9fV1V133XUul0u7qX//\n",
       "+9/y16dNm3bPPfe0t7e//vrrgwcPDvtXZBUlcXr//ffr6+vlczIzM+VL9+nTZ9u2\n",
       "bRKeUaNGPf7443I3evTosWHDBmnMDTfc8PLLLy9fvvyHP/zhzp079+/fL/dZBSn0\n",
       "y8ntyN9isiBIQDwE6Y477lDXXHvtteqEPRKb22+/XTb+/Oc/Dx06dGqnW2+99bHH\n",
       "HtNuas6cOfJHuZHzzjvv4YcfloSoc+qE/hW5RrbV3/qy04QJE6ZMmaKu2bhxo+RK\n",
       "7ob6iuoWnn322fHjx0t+1DVr165VQQr9cvK1/vGPfzBZECQgHoKkFkMqSJs2bZKN\n",
       "1157TeXhqaee+u1vf/viMYFnmE5NTZUwyMbu3buff/752267rV+/frLiCf0r48aN\n",
       "095G6JNPPqmpqZHPmTFjhrqmvLz84osvDrwbKkhPPvmkLNTUNbIG0l5DCvpyP/vZ\n",
       "z1599VUmC4IExHmQ8vLyhgwZImuajo6O++67b+nSpdpNvfLKK7IAkng4HI4jnW/n\n",
       "0aNHj/fffz/0r/z9738fNGiQXNPc3Cz9+Oc//7ls2bIBAwbs27dPPkeWUPfcc09o\n",
       "kORzrrrqKlkG+f3+hx56SAUp9MtJlnbu3MlkQZCAGCNLFi1Ib7zxxsiRI6UEo0eP\n",
       "jhSk9vb2xx9//KKLLrr00kvvuuuuwHPGf/TRR3379n3vvff69+8vdenTp8+YMWMk\n",
       "MKF/xev1PvDAAxdeeOEll1zyyCOPtHcaP368uubnP//5xx9/HHg3nn76afW2b2PH\n",
       "ju3Vq5d8joRTBcntdgd+uS+++OK8884zzonUAIIEnF4ejyfseyONGjXK5XJJhD77\n",
       "7LOgTwj9K7I8UsfXaVpbWw8ePNj1l5a/FXQ7gV9OFlIWi4UBgSAB3d2WLVtuvfVW\n",
       "vb66LLxkSWfYNwYFCBIQVbt379brS7e1te3du5cRgCABAECQAAAECQAAggQAIEgA\n",
       "ABAkAABBAgCAIAEACBIAAAQJAECQAAAgSAAAggQAAEECABAkAAAIEgCge/l/7g7L\n",
       "zwNz6FgAAAAASUVORK5CYII=\" style=\"clip-path:url(#clipPath1);\" height=\"420\" preserveAspectRatio=\"none\"\n",
       "    /></g\n",
       "  ></g\n",
       "></svg\n",
       ">\n"
      ]
     },
     "metadata": {},
     "output_type": "display_data"
    }
   ],
   "source": [
    "step(Gs,'-',Gz_mpz,'--')"
   ]
  },
  {
   "cell_type": "markdown",
   "metadata": {
    "slideshow": {
     "slide_type": "subslide"
    }
   },
   "source": [
    "#### Other supported equivalents?"
   ]
  },
  {
   "cell_type": "code",
   "execution_count": 12,
   "metadata": {
    "slideshow": {
     "slide_type": "fragment"
    }
   },
   "outputs": [
    {
     "name": "stdout",
     "output_type": "stream",
     "text": [
      " C2D  Converts continuous-time dynamic system to discrete time.\n",
      " \n",
      "    SYSD = C2D(SYSC,TS,METHOD) computes a discrete-time model SYSD with\n",
      "    sample time TS that approximates the continuous-time model SYSC.\n",
      "    The string METHOD selects the discretization method among the following:\n",
      "       'zoh'           Zero-order hold on the inputs\n",
      "       'foh'           Linear interpolation of inputs\n",
      "       'impulse'       Impulse-invariant discretization\n",
      "       'tustin'        Bilinear (Tustin) approximation.\n",
      "       'matched'       Matched pole-zero method (for SISO systems only).\n",
      "       'least-squares' Least-squares minimization of the error between\n",
      "                       frequency responses of the continuous and discrete\n",
      "                       systems (for SISO systems only).\n",
      "       'damped'        Damped Tustin approximation based on TRBDF2 formula\n",
      "                       (sparse models only).\n",
      "    The default is 'zoh' when METHOD is omitted. The sample time TS should\n",
      "    be specified in the time units of SYSC (see \"TimeUnit\" property).\n",
      " \n",
      "    C2D(SYSC,TS,OPTIONS) gives access to additional discretization options. \n",
      "    Use C2DOPTIONS to create and configure the option set OPTIONS. For \n",
      "    example, you can specify a prewarping frequency for the Tustin method by:\n",
      "       opt = c2dOptions('Method','tustin','PrewarpFrequency',.5);\n",
      "       sysd = c2d(sysc,.1,opt);\n",
      " \n",
      "    For state-space models,\n",
      "       [SYSD,G] = C2D(SYSC,Ts,METHOD)\n",
      "    also returns the matrix G mapping the states xc(t) of SYSC to the states \n",
      "    xd[k] of SYSD:\n",
      "       xd[k] = G * [xc(k*Ts) ; u[k]]\n",
      "    Given an initial condition x0 for SYSC and an initial input value u0=u(0), \n",
      "    the equivalent initial condition for SYSD is (assuming u(t)=0 for t<0):\n",
      "       xd[0] = G * [x0;u0] .\n",
      " \n",
      "    See also C2DOPTIONS, D2C, D2D, DYNAMICSYSTEM.\n",
      "\n",
      "    Documentation for c2d\n",
      "       doc c2d\n",
      "\n",
      "    Other functions named c2d\n",
      "\n",
      "       DynamicSystem/c2d     ltipack.tfdata/c2d    ltipack.zpkdata/c2d\n",
      "       ltipack.ssdata/c2d\n",
      "\n"
     ]
    }
   ],
   "source": [
    "help c2d"
   ]
  }
 ],
 "metadata": {
  "celltoolbar": "Slideshow",
  "kernelspec": {
   "display_name": "MATLAB",
   "language": "matlab",
   "name": "imatlab"
  },
  "language_info": {
   "codemirror_mode": "octave",
   "file_extension": ".m",
   "mimetype": "text/x-matlab",
   "name": "matlab",
   "nbconvert_exporter": "imatlab._exporter.MatlabExporter",
   "pygments_lexer": "matlab",
   "version": "9.11.0.1769968 (R2021b)"
  }
 },
 "nbformat": 4,
 "nbformat_minor": 2
}
