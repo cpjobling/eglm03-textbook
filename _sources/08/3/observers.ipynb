{
 "cells": [
  {
   "cell_type": "markdown",
   "metadata": {
    "slideshow": {
     "slide_type": "slide"
    }
   },
   "source": [
    "# State Observers"
   ]
  },
  {
   "cell_type": "markdown",
   "metadata": {
    "slideshow": {
     "slide_type": "fragment"
    }
   },
   "source": [
    "-   In many practical cases it is not possible to measure all the states\n",
    "    of a system."
   ]
  },
  {
   "cell_type": "markdown",
   "metadata": {
    "slideshow": {
     "slide_type": "fragment"
    }
   },
   "source": [
    "-   That is we cannot form $u=r-\\mathbf{Kx}$  for the purposes of\n",
    "    feedback control because we do not have access to $\\mathbf{x}$."
   ]
  },
  {
   "cell_type": "markdown",
   "metadata": {
    "slideshow": {
     "slide_type": "fragment"
    }
   },
   "source": [
    "-   If we know $\\mathbf{A}$, $\\mathbf{B}$, $\\mathbf{C}$, and\n",
    "    $\\mathbf{D}$ then it may be possible to reconstruct the states from\n",
    "    one or more of the system outputs by means of an **observer**."
   ]
  },
  {
   "cell_type": "markdown",
   "metadata": {
    "slideshow": {
     "slide_type": "subslide"
    }
   },
   "source": [
    "-   It is necessary that the system states be observable from the\n",
    "    output(s)."
   ]
  },
  {
   "cell_type": "markdown",
   "metadata": {
    "slideshow": {
     "slide_type": "subslide"
    }
   },
   "source": [
    "### State Observer\n",
    "\n",
    "The main idea is to construct a model of the system and subject it to the same input:\n",
    "\n",
    "![State Observer](pictures/observer1.png)"
   ]
  },
  {
   "cell_type": "markdown",
   "metadata": {
    "slideshow": {
     "slide_type": "subslide"
    }
   },
   "source": [
    "Severe differences occur between $\\mathbf{x}$ and $\\hat{\\mathbf{x}}$ due\n",
    "to disturbances and parameter errors. Solution:- Employ feedback !\n",
    "\n",
    "**NB** To simplify treatment, we take $\\mathbf{D}=0$."
   ]
  },
  {
   "cell_type": "markdown",
   "metadata": {
    "slideshow": {
     "slide_type": "subslide"
    }
   },
   "source": [
    "### State Observer with Feedback\n",
    "\n",
    "![State Observer with Feedback](pictures/observer2.png)"
   ]
  },
  {
   "cell_type": "markdown",
   "metadata": {
    "slideshow": {
     "slide_type": "subslide"
    }
   },
   "source": [
    "### Observer state equations\n",
    "\n",
    "For the **observer** we have the state equations:\n",
    "\n",
    "$$\\frac{d{\\bf{\\hat x}}}{dt} = {\\bf{A\\hat x}} + {\\bf{B}}u + {\\bf{L}}\\underbrace {(y - {\\bf{C\\hat x}})}_{\\rm{feedback}}$$"
   ]
  },
  {
   "cell_type": "markdown",
   "metadata": {
    "slideshow": {
     "slide_type": "subslide"
    }
   },
   "source": [
    "### Observed State Errors\n",
    "\n",
    "Let the error in the estimated states $\\hat{\\mathbf{x}}$ be:\n",
    "\n",
    "$$\\mathbf{e}=\\mathbf{x}-\\hat{\\mathbf{x}}$$ "
   ]
  },
  {
   "cell_type": "markdown",
   "metadata": {
    "slideshow": {
     "slide_type": "fragment"
    }
   },
   "source": [
    "then\n",
    "\n",
    "$$\\frac{d\\mathbf{e}}{dt}=\\frac{d\\mathbf{x}}{dt}-\\frac{d\\hat{\\mathbf{x}}}{dt}$$"
   ]
  },
  {
   "cell_type": "markdown",
   "metadata": {
    "slideshow": {
     "slide_type": "subslide"
    }
   },
   "source": [
    "Given,\n",
    "\n",
    "$$\\frac{d\\mathbf{x}}{dt}=\\mathbf{A}\\mathbf{x}+\\mathbf{B}u\\ \\mathrm{and}\\ y=\\mathbf{C}\\mathbf{x}$$"
   ]
  },
  {
   "cell_type": "markdown",
   "metadata": {
    "slideshow": {
     "slide_type": "fragment"
    }
   },
   "source": [
    "then \n",
    "\n",
    "$$\\begin{eqnarray*}\n",
    "\t\\frac{d\\mathbf{e}}{dt} & = & \\left(\\mathbf{A}\\mathbf{x}+\\mathbf{B}u\\right)-\\left\\{\\mathbf{A}\\hat{\\mathbf{x}}+\\mathbf{B}u+\\mathbf{L}(y-\\mathbf{C}\\hat{\\mathbf{x}})\\right\\} \\\\\n",
    "\t& = & \\mathbf{A}(\\mathbf{x}-\\hat{\\mathbf{x}})-\\mathbf{L}(\\mathbf{C}\\mathbf{x}-\\mathbf{C}\\hat{\\mathbf{x}}) = \\mathbf{Ae}-\\mathbf{LCe}\\\\\n",
    "\t& = & (\\mathbf{A}-\\mathbf{LC})\\mathbf{e}\\end{eqnarray*}$$"
   ]
  },
  {
   "cell_type": "markdown",
   "metadata": {
    "slideshow": {
     "slide_type": "subslide"
    }
   },
   "source": [
    "### Properties of the Observed Error State Equations"
   ]
  },
  {
   "cell_type": "markdown",
   "metadata": {
    "slideshow": {
     "slide_type": "fragment"
    }
   },
   "source": [
    "-   These are the state equations for the observer error."
   ]
  },
  {
   "cell_type": "markdown",
   "metadata": {
    "slideshow": {
     "slide_type": "fragment"
    }
   },
   "source": [
    "-   The errors decay to zero with time if the eigen values of\n",
    "    $(\\mathbf{A}-\\mathbf{LC})$ lie in the left half plane (LHP)."
   ]
  },
  {
   "cell_type": "markdown",
   "metadata": {
    "slideshow": {
     "slide_type": "fragment"
    }
   },
   "source": [
    "-   In fact we can design the matrix $\\mathbf{L}$ to place the eigen\n",
    "    values anywhere we wish"
   ]
  },
  {
   "cell_type": "markdown",
   "metadata": {
    "slideshow": {
     "slide_type": "subslide"
    }
   },
   "source": [
    "-   If we place them well into the LHP then $\\mathbf{e}$ will decay\n",
    "    quickly to zero making the observer states accurately track the\n",
    "    system states $\\mathbf{x}$ after a short time."
   ]
  },
  {
   "cell_type": "markdown",
   "metadata": {
    "slideshow": {
     "slide_type": "fragment"
    }
   },
   "source": [
    "-   $\\hat{\\mathbf{x}}$ can then be used for feedback control."
   ]
  },
  {
   "cell_type": "markdown",
   "metadata": {
    "slideshow": {
     "slide_type": "slide"
    }
   },
   "source": [
    "## Design of the L Matrix\n",
    "\n",
    "This is particularly easy when we use the observer canonical form.\n",
    "\n",
    "Given the TF:\n",
    "\n",
    "$$\\frac{Y(s)}{U(s)}=\\frac{c_1s^{n-1}+\\cdots+c_n}{s^n + a_1s^{n-1}+\\cdots+a_n}$$"
   ]
  },
  {
   "cell_type": "markdown",
   "metadata": {
    "slideshow": {
     "slide_type": "subslide"
    }
   },
   "source": [
    "the matrices of the state space model are: \n",
    "\n",
    "$$\\begin{eqnarray*}\n",
    "\t {\\bf{A}} & = & \\left[ {\\begin{array}{*{20}c}\n",
    "\t   { - a_1 } & 1 &  \\cdots  & 0  \\\\\n",
    "\t   { - a_2 } & 0 &  \\ddots  & {0}  \\\\\n",
    "\t    \\vdots  &  \\vdots  & {} &  \\vdots   \\\\\n",
    "\t   { - a_n } & 0 &  \\cdots  & 0  \\\\\n",
    "\t\\end{array}} \\right];\\quad {\\bf{B}} = \\left[ {\\begin{array}{*{20}c}\n",
    "\t   {c_1 }  \\\\\n",
    "\t   {c_2 }  \\\\\n",
    "\t    \\vdots   \\\\\n",
    "\t   {c_n }  \\\\\n",
    "\t\\end{array}} \\right] \\\\ \n",
    "\t {\\bf{C}} & = & \\left[ {\\begin{array}{*{20}c}\n",
    "\t   1 & 0 &  \\cdots  & 0  \\\\\n",
    "\t\\end{array}} \\right];\\quad {\\bf{D}} = 0 \\\\ \t\\end{eqnarray*}$$"
   ]
  },
  {
   "cell_type": "markdown",
   "metadata": {
    "slideshow": {
     "slide_type": "subslide"
    }
   },
   "source": [
    "and the feedback vector is: \n",
    "\n",
    "$$L = \\left[ {\\begin{array}{*{20}c}\n",
    "   {l_1 } & {l_2 } &  \\cdots  & {l_n }  \\\\\n",
    "\\end{array}} \\right]^T$$ \n",
    "\n",
    "The state matrix of the observer is:\n",
    "\n",
    "$${\\bf{A}} - {\\bf{LC}} = \\left[ {\\begin{array}{*{20}c}\n",
    "   {( - a_1  - l_1 )} & 1 &  \\cdots  & 0  \\\\\n",
    "   {( - a_2  - l_2 )} & 0 &  \\ddots  & 0  \\\\\n",
    "    \\vdots  &  \\vdots  & {} &  \\vdots   \\\\\n",
    "   {( - a_n  - l_n )} & 0 &  \\cdots  & 0  \\\\\n",
    "\\end{array}} \\right]$$"
   ]
  },
  {
   "cell_type": "markdown",
   "metadata": {
    "slideshow": {
     "slide_type": "subslide"
    }
   },
   "source": [
    "The poles of the observer are the roots of the CE:\n",
    "\n",
    "$$s^n+(a_1+l_1)s^{n-1}+\\cdots+(a_n+l_n)=0$$\n",
    "\n",
    "If the desired observer poles are at $s=p_1,p_2,\\ldots,p_n$ then the\n",
    "desired CE equation is: \n",
    "\n",
    "$$\\begin{eqnarray*}\n",
    "\t\\alpha_e(s) & = & (s-p_1)(s-p_2)\\cdots(s-p_n) \\\\\n",
    "\t            & = & s^n + \\alpha_1s^{n-1} + \\cdots + \\alpha_n = 0\\end{eqnarray*}$$\n",
    "\n",
    "The $l$ coefficients may be found by matching the two equations above.\n",
    "Thus,\n",
    "\n",
    "$$l_1=\\alpha_1-a_1,\\ l_2=\\alpha_2-a_2,\\ \\cdots\\ l_n=\\alpha_n-a_n.$$"
   ]
  },
  {
   "cell_type": "markdown",
   "metadata": {
    "slideshow": {
     "slide_type": "subslide"
    }
   },
   "source": [
    "### In-Class Example 1 \n",
    "\n",
    "**Problem**: Design an observer with poles or eigen values\n",
    "$\\lambda_{1,2} = -20,\\ -20$ using the observer canonical form for the\n",
    "system with a TF: \n",
    "\n",
    "$$\\frac{Y(s)}{U(s)}=\\frac{7}{s^2+15s+44}.$$"
   ]
  },
  {
   "cell_type": "markdown",
   "metadata": {
    "slideshow": {
     "slide_type": "notes"
    }
   },
   "source": [
    "**SOLUTION**: The observer canonical form gives:\n",
    "\n",
    "$${\\bf{A}} = \\left[ {\\begin{array}{*{20}c}\n",
    "   { - 15} & 1  \\\\\n",
    "   { - 44} & 0  \\\\\n",
    "\\end{array}} \\right];\\;{\\bf{B}} = \\left[ {\\begin{array}{*{20}c}\n",
    "   0  \\\\\n",
    "   7  \\\\\n",
    "\\end{array}} \\right];\\;{\\bf{C}} = \\left[ {\\begin{array}{*{20}c}\n",
    "   1 & 0  \\\\\n",
    "\\end{array}} \\right];\\;{\\bf{D}} = 0$$ \n",
    "\n",
    "with $\\mathbf{L}=[l_1,\\ l_2]^T$ we\n",
    "have observer poles at the roots of: \n",
    "\n",
    "$$s^2+(15+l_1)s+(44+l_2)=0.$$\n",
    "\n",
    "The desired CE is: \n",
    "\n",
    "$$\\alpha_e(s)=(s + 20)(s + 20)=s^2+40s+400=0$$\n",
    "\n",
    "Comparing coefficients gives: \n",
    "\n",
    "$$\\begin{eqnarray*}\n",
    "    s^1:\\ 15 + l_1 & = & 40 \\to l_1=25 \\\\\n",
    "    s^0:\\ 44 + l_2 & = & 400 \\to l_2=356 \\\\ \\end{eqnarray*}$$\n",
    "\n",
    "So the observer states are given by:\n",
    "\n",
    "$$\\frac{d\\hat{\\mathbf{x}}}{dt}=\\mathbf{A}\\hat{\\mathbf{x}}+\\mathbf{B}u-\\mathbf{L}(\\mathbf{C}\\hat{\\mathbf{x}}-y)$$\n",
    "\n",
    "where $\\mathbf{L}=[25\\ 356]^T.$"
   ]
  },
  {
   "cell_type": "markdown",
   "metadata": {
    "slideshow": {
     "slide_type": "notes"
    }
   },
   "source": [
    "#### Block Diagram of the Observer\n",
    "\n",
    "![Block Diagram of the Observer](pictures/observer3.png)"
   ]
  },
  {
   "cell_type": "markdown",
   "metadata": {
    "slideshow": {
     "slide_type": "slide"
    }
   },
   "source": [
    "## Design of L Matrix for Other Forms of State Equation \n",
    "\n",
    "When the observer canonical form is not used, then the design of the\n",
    "observer is more difficult. Ackermann's formula can be adapted as\n",
    "follows: \n",
    "\n",
    "$${\\bf{L}}^T  = \\left[ {\\begin{array}{*{20}c}\n",
    "   0 &  \\ldots  & 0 & 1  \\\\\n",
    "\\end{array}} \\right]\\mathcal{O}^{ - 1} \\alpha _e ({\\bf{A}}^T )$$\n",
    "\n",
    "$\\mathcal{O}$ is the observability matrix:\n",
    "\n",
    "$$\\mathcal{O}=[\\mathbf{C}^T\\vdots\\mathbf{A}^T\\mathbf{C}^T\\vdots\\cdots\\vdots(\\mathbf{A}^T)^{n-1}\\mathbf{C}^T]$$"
   ]
  },
  {
   "cell_type": "markdown",
   "metadata": {
    "slideshow": {
     "slide_type": "subslide"
    }
   },
   "source": [
    "and if $\\alpha_e(s)=s^n + \\alpha_1s^{n-1}+\\cdots+\\alpha_n$ then\n",
    "\n",
    "$$\\alpha_e(\\mathbf{A}^T)=(\\mathbf{A}^T)^n + \\alpha_1(\\mathbf{A}^T)^{n-1}+\\cdots+\\mathbf{I}\\alpha_n.$$"
   ]
  },
  {
   "cell_type": "markdown",
   "metadata": {
    "slideshow": {
     "slide_type": "subslide"
    }
   },
   "source": [
    "Notice that if the system is unobservable, then the matrix inverse\n",
    "$\\mathcal{O}^{-1}$ does not exist and we cannot design an observer for\n",
    "this system.\n",
    "\n",
    "In MATLAB we could evaluate the $\\mathbf{L}$ matrix using:\n",
    "\n",
    "        L=acker(A',C',p)'\n",
    "\n",
    "where `p` is a vector of desired observer poles."
   ]
  },
  {
   "cell_type": "markdown",
   "metadata": {
    "slideshow": {
     "slide_type": "slide"
    }
   },
   "source": [
    "## Choice of Observer Poles \n",
    "\n",
    "-   Rule of thumb: observer poles can be faster than the open-loop system\n",
    "    poles (i.e. further from the origin) by a factor of 2 to 6. This\n",
    "    makes the effect of the observer dynamics short-term and the overall\n",
    "    response is dominated by the system poles."
   ]
  },
  {
   "cell_type": "markdown",
   "metadata": {
    "slideshow": {
     "slide_type": "subslide"
    }
   },
   "source": [
    "-   If noise/disturbance is present this has an effect on the choice:\n",
    "\n",
    "    **Process noise** $w$: $d\\mathbf{x}/dt=\\mathbf{Ax}+\\mathbf{B}u+\\mathbf{B}_1 w$\n",
    "\n",
    "    **Sensor noise** $v$: $y = \\mathbf{C}x+v$\n",
    "\n",
    "    **Observer**: $d\\hat{\\mathbf{x}}=\\mathbf{A}\\hat{\\mathbf{x}}+\\mathbf{B}u+\\mathbf{L}(y-\\mathbf{C}\\hat{\\mathbf{x}})$\n",
    "\n",
    "    **Error** $\\mathbf{e}=\\mathbf{x}-\\hat{\\mathbf{x}}$: $d\\mathbf{e}/dt=(\\mathbf{A}-\\mathbf{LC})\\mathbf{e}+\\mathbf{B}_1 w - \\mathbf{L}v.$"
   ]
  },
  {
   "cell_type": "markdown",
   "metadata": {
    "slideshow": {
     "slide_type": "subslide"
    }
   },
   "source": [
    "In the error equation, the sensor noise is multiplied by $\\mathbf{L}$\n",
    "and the process noise is not. Therefore,\n",
    "\n",
    "1.  if $\\mathbf{L}$ is very small, the effect of sensor noise $v$ is\n",
    "    removed but the observer is \"slow\" to respond, so that the error\n",
    "    will not reject the effect of $w$ very well.\n",
    "\n",
    "2.  if $\\mathbf{L}$ is large, the observer response is \"fast\" and the\n",
    "    error rejects the process noise $w$ well, but the sensor noise $v$\n",
    "    is amplified by $\\mathbf{L}$ resulting in large errors."
   ]
  },
  {
   "cell_type": "markdown",
   "metadata": {
    "slideshow": {
     "slide_type": "subslide"
    }
   },
   "source": [
    "Optimal control design methods can be used to achieve the \"best\"\n",
    "compromise."
   ]
  },
  {
   "cell_type": "markdown",
   "metadata": {
    "slideshow": {
     "slide_type": "notes"
    }
   },
   "source": [
    "## Footnote\n",
    "\n",
    "1. Or some states in $\\mathbf{x}$, either because the states are not *physical states* and hence cannot be measured, or because they *are* physical states but we do not have suitable sensors for the physical quantity that is represented by the state."
   ]
  }
 ],
 "metadata": {
  "celltoolbar": "Slideshow",
  "kernelspec": {
   "display_name": "MATLAB",
   "language": "matlab",
   "name": "imatlab"
  },
  "language_info": {
   "codemirror_mode": "octave",
   "file_extension": ".m",
   "mimetype": "text/x-matlab",
   "name": "matlab",
   "nbconvert_exporter": "imatlab._exporter.MatlabExporter",
   "pygments_lexer": "matlab",
   "version": "9.9.0.1467703 (R2020b)"
  }
 },
 "nbformat": 4,
 "nbformat_minor": 2
}
