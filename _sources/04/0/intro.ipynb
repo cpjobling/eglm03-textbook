{
 "cells": [
  {
   "cell_type": "markdown",
   "metadata": {},
   "source": [
    "# Introduction to PID Compensation\n",
    "\n",
    "PID compensators are very widely used in industry, particularly for process \n",
    "control applications. Given a system with feedback signal $e(t)$, the PID \n",
    "compensated control signal is\n",
    "\n",
    "$$\\begin{equation}\n",
    "u(t)=K_{\\mathrm{prop}}\\left(e(t)+\\frac{1}{T_I}\\,\\int_{0}^{t}e(\\tau)d\\tau+T_D\\,\\frac{de(t)}{dt}\\right)\n",
    "\\end{equation}$$                                                                                            \n",
    "\n",
    "where \n",
    "\n",
    "| Gain | Comment |\n",
    "|------|---------|\n",
    "| *K*<sub>prop</sub> | proportional gain     |\n",
    "| *T<sub>I</sub>*             | integral time (s)     |\n",
    "| 1/*T<sub>I</sub>*           | reset rate (repeat/s) |                       \n",
    "| *T<sub>D</sub>*             | derivative time (s)   |\n",
    "\n",
    "The Laplace transform of the PID equation is:\n",
    "\n",
    "$$\\begin{equation}\n",
    "U(s)=K_{\\mathrm{prop}}\\left(E(s)+\\frac{1}{T_I s}\\,E(s)+sT_D\\,E(s)\\right)\n",
    "\\end{equation}$$  \n",
    "                                                                             \n",
    "so that\n",
    "\n",
    "$$\\begin{equation}\n",
    "D_{\\mathrm{PID}}(s)=\\frac{U(s)}{E(s)}=K_{\\mathrm{prop}}\\left(1+\\frac{1}{T_I \n",
    "s}+sT_D\\right)\n",
    "\\end{equation}$$ \n",
    "\n",
    "Commercial compensators are provided with setting controls for each of \n",
    "the three parameters $K_{\\mathrm{prop}$, $T_I$and $T_D$. They can also be used \n",
    "with and without the integral and derivative terms. The common configurations \n",
    "for the PID compensator are:"
   ]
  },
  {
   "cell_type": "markdown",
   "metadata": {},
   "source": [
    "### Proportional only\n",
    "\n",
    "$$\\begin{equation}D_{\\mathrm{P}}(s)=K_{\\mathrm{prop}}\\end{equation}$$                                                            \n",
    "This type of compensation can be used when dynamic compensation is not \n",
    "needed to achieve the required steady-state acuracy and transient performance. \n",
    "In general, larger values of poportional gain reduce steady-state errors and \n",
    "rise times but tend to increase the size and number of overshoots and setting \n",
    "time."
   ]
  },
  {
   "cell_type": "markdown",
   "metadata": {},
   "source": [
    "### Proportional plus Derivative (P+D)\n",
    "\n",
    "$$\\begin{eqnarray}D_{\\mathrm{P+D}}(s) &=& K_{\\mathrm{prop}}\\left(1+sT_D\\right)\\\\\n",
    "&=& K_{\\mathrm{prop}}T_D\\,\\left(s+1/T_D\\right)\\end{eqnarray}$$\n",
    "\n",
    "This configuration adds a zero to the proportional only compensator. This zero is used to increase the system damping thereby improving stability and reducing settling time. The cascade zero may cause a small reduction in rise \n",
    "time and an increase in the size of the first overshoot. Note that derivative action is *never*used alone!"
   ]
  },
  {
   "cell_type": "markdown",
   "metadata": {},
   "source": [
    "### Proportional plus Integral (P+I)\n",
    "\n",
    "Integral action may be used alone and its effect is to increase the system type number by 1. That is it makes a type 0 system type 1 and eliminates steady-state step errors<sup>1</sup>. However, it is more common to the integral action added with proportional gain in the proportional plus integral confuguration:\n",
    "\n",
    "$$\\begin{eqnarray}D_{\\mathrm{P+I}}(s) &=& K_{\\mathrm{prop}}\\left(1+\\frac{1}{T_I s}\\right)\\\\\n",
    "&=& K_{\\mathrm{prop}}\\left(\\frac{s+1/T_I}{s}\\right)\\end{eqnarray}$$ \n",
    "\n",
    "This raises the system type number by 1 and also adds a zero which can \n",
    "offset the destabilising effect of the additional pole. A typical use of this \n",
    "zero would be to cancel the lowest-frequency system pole to allow a faster closed-loop \n",
    "response."
   ]
  },
  {
   "cell_type": "markdown",
   "metadata": {},
   "source": [
    "### Full Proportional-Integral-Derivative (PID)\n",
    "\n",
    "$$\\begin{equation}D_{\\mathrm{PID}}(s)=K_{\\mathrm{prop}}\\left(\\frac{T_D\\,s^2+s+1/T_I}{s}\\right)\\end{equation}$$\n",
    "\n",
    "The PID compensator raises the system type number by 1. It also introduces two zeros which can be used to improve the transient response. Root locus methods can be used to locate these zeros in order to satisfy the steady-state and transient response requirements of a design. We shall illustrate the [Zeigler-Nichols method](../1/zeigler) next. There is also an [analytical technique](../3/analpid) for achieving a specified steady-state error performance and defined dominant poles. In industrial practice, however, it is quite common to tune a PID compensator \"in the loop\" and this is discussed in a companion document ([Tuning a PID Compensator](../2/tuning)). The tuning rules are essentially summarised \n",
    "as:\n",
    "\n",
    "1. Choose $K_{\\mathrm{prop}}$ to achieve the required speed of response.\n",
    "2. Choose the reset rate $1/T_I$ to achieve desired steady-state performance (may need to re-tune $K_{\\mathrm{prop}}$)\n",
    "3. Add derivative action to reduce overshoots and improve settling time.\n",
    "\n",
    "The effect of the parameters may be summarised as\n",
    "\n",
    "1. Increasing reset rate and proportional gain increases the speed of response and reduces the steady-state error.\n",
    "2. Increasing reset rate reduces stability.\n",
    "3. Increasing derivative time increases stability."
   ]
  }
 ],
 "metadata": {
  "kernelspec": {
   "display_name": "MATLAB",
   "language": "matlab",
   "name": "imatlab"
  },
  "language_info": {
   "codemirror_mode": "octave",
   "file_extension": ".m",
   "mimetype": "text/x-matlab",
   "name": "matlab",
   "nbconvert_exporter": "imatlab._exporter.MatlabExporter",
   "pygments_lexer": "matlab",
   "version": "9.9.0.1467703 (R2020b)"
  }
 },
 "nbformat": 4,
 "nbformat_minor": 2
}
