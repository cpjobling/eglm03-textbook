{
 "cells": [
  {
   "cell_type": "markdown",
   "metadata": {},
   "source": [
    "# PID Autotuning in MATLAB\n",
    "\n",
    "This section is yet to be written. In the meantime, please review this detailed tutorial from the [Control Systems Tutorial in MATLAB and Simulink](http://ctms.engin.umich.edu/CTMS/index.php?example=Introduction&section=ControlPID).\n",
    "\n",
    "## MATLAB's PID Block\n",
    "\n",
    "MATLAB has introduced a PID block that can be used either from the command-line or within Simulink. The benefit of this block is that it can be used to autotune the PID compensator parameters in-loop.\n",
    "\n",
    "![PID block](pictures/pid-block.png)\n",
    "\n",
    "The continuous-time PID block is to be found in the **Continuous Systems** library in Simulink. The block diagram is as shown below.\n",
    "\n",
    "![PID internals](pictures/pid-bd.png)"
   ]
  },
  {
   "cell_type": "markdown",
   "metadata": {},
   "source": [
    "The transfer function of the PID is\n",
    "\n",
    "$$D_\\mathrm{PID} = P\\left(1 + I\\frac{1}{s} + D \\frac{N}{1 + N\\frac{1}{s}}\\right)$$\n",
    "\n",
    "which reduces to\n",
    "\n",
    "$$D_\\mathrm{PID} = P\\left(1 + I\\frac{1}{s} + D \\frac{sN}{s + N}\\right)$$\n",
    "\n",
    "By comparison with the standard PID\n",
    "\n",
    "$$D_\\mathrm{PID}(s) = K_{\\rm{prop}}\\left(1 + T_Ds + 1/\\left( T_I s\\right)\\right)$$\n",
    "\n"
   ]
  },
  {
   "cell_type": "markdown",
   "metadata": {},
   "source": [
    "where $$P = K_\\mathrm{prop}$$\n",
    "\n",
    "$$T_D = ND$$\n",
    "\n",
    "$$T_I = 1/I$$"
   ]
  },
  {
   "cell_type": "markdown",
   "metadata": {},
   "source": [
    "There is an extra pole at $s = -N$ which is there to limit the high-frequency gain of the Proportional+Derivative term."
   ]
  },
  {
   "cell_type": "markdown",
   "metadata": {},
   "source": [
    "In addition to the pole at the origin which is introduced by the integral term, The MATLAB PID has a proportional gain, two zeros, and an additional pole. Thus there are four parameters which can be adjusted to give a range of possible structures."
   ]
  },
  {
   "cell_type": "markdown",
   "metadata": {},
   "source": [
    "## Autotuning the PID"
   ]
  },
  {
   "cell_type": "markdown",
   "metadata": {},
   "source": [
    "Let us repeat the previous example ([See 4.2 Manual Tuning](../2/tuning)). \n",
    "\n",
    "Here we have:\n",
    "\n",
    "$$G(s) = \\frac{1}{5s^2 + 6s + 1}$$\n",
    "\n",
    "and we ended up with\n",
    "\n",
    "$$D_{\\mathrm{PID}}= K_{\\mathrm{prop}} \\left(1 + T_D s + \\frac{1}{T_s} \\right)$$"
   ]
  },
  {
   "cell_type": "markdown",
   "metadata": {},
   "source": [
    "with $K_{\\mathrm{prop}} = 19$, $T_D = 4/19$, $T_I = 2$."
   ]
  },
  {
   "cell_type": "markdown",
   "metadata": {},
   "source": [
    "Setting the PID with the equivalent values"
   ]
  },
  {
   "cell_type": "code",
   "execution_count": 1,
   "metadata": {},
   "outputs": [],
   "source": [
    "imatlab_export_fig('print-svg')  % Static svg figures."
   ]
  },
  {
   "cell_type": "code",
   "execution_count": 2,
   "metadata": {},
   "outputs": [
    {
     "name": "stdout",
     "output_type": "stream",
     "text": [
      "\n",
      "D =\n",
      " \n",
      "             1      1          \n",
      "  Kp * (1 + ---- * --- + Td * s)\n",
      "             Ti     s          \n",
      "\n",
      "  with Kp = 19, Ti = 2, Td = 0.211\n",
      " \n",
      "Continuous-time PID controller in standard form\n",
      "\n"
     ]
    }
   ],
   "source": [
    "P = 19; D = 4/19; I = 2;\n",
    "D = pidstd(P, I, D)"
   ]
  },
  {
   "cell_type": "markdown",
   "metadata": {},
   "source": [
    "In MATLAB we use"
   ]
  },
  {
   "cell_type": "code",
   "execution_count": 3,
   "metadata": {},
   "outputs": [
    {
     "name": "stdout",
     "output_type": "stream",
     "text": [
      "\n",
      "G =\n",
      " \n",
      "         1\n",
      "  ---------------\n",
      "  5 s^2 + 6 s + 1\n",
      " \n",
      "Continuous-time transfer function.\n",
      "\n"
     ]
    }
   ],
   "source": [
    "s = tf('s');\n",
    "G = 1/(5*s^2 + 6*s + 1)"
   ]
  },
  {
   "cell_type": "code",
   "execution_count": 4,
   "metadata": {},
   "outputs": [
    {
     "name": "stdout",
     "output_type": "stream",
     "text": [
      "\n",
      "Go =\n",
      " \n",
      "  4 s^2 + 19 s + 9.5\n",
      "  ------------------\n",
      "  5 s^3 + 6 s^2 + s\n",
      " \n",
      "Continuous-time transfer function.\n",
      "\n"
     ]
    }
   ],
   "source": [
    "Go = series(D,G)"
   ]
  },
  {
   "cell_type": "code",
   "execution_count": 5,
   "metadata": {},
   "outputs": [
    {
     "name": "stdout",
     "output_type": "stream",
     "text": [
      "\n",
      "Gc =\n",
      " \n",
      "      4 s^2 + 19 s + 9.5\n",
      "  ---------------------------\n",
      "  5 s^3 + 10 s^2 + 20 s + 9.5\n",
      " \n",
      "Continuous-time transfer function.\n",
      "\n"
     ]
    }
   ],
   "source": [
    "Gc = feedback(Go,1)"
   ]
  },
  {
   "cell_type": "code",
   "execution_count": 6,
   "metadata": {},
   "outputs": [
    {
     "data": {
      "image/svg+xml": [
       "<?xml version=\"1.0\"?>\n",
       "<!DOCTYPE svg PUBLIC '-//W3C//DTD SVG 1.0//EN'\n",
       "          'http://www.w3.org/TR/2001/REC-SVG-20010904/DTD/svg10.dtd'>\n",
       "<svg xmlns:xlink=\"http://www.w3.org/1999/xlink\" style=\"fill-opacity:1; color-rendering:auto; color-interpolation:auto; text-rendering:auto; stroke:black; stroke-linecap:square; stroke-miterlimit:10; shape-rendering:auto; stroke-opacity:1; fill:black; stroke-dasharray:none; font-weight:normal; stroke-width:1; font-family:'Dialog'; font-style:normal; stroke-linejoin:miter; font-size:12px; stroke-dashoffset:0; image-rendering:auto;\" width=\"560\" height=\"420\" xmlns=\"http://www.w3.org/2000/svg\"\n",
       "><!--Generated by the Batik Graphics2D SVG Generator--><defs id=\"genericDefs\"\n",
       "  /><g\n",
       "  ><defs id=\"defs1\"\n",
       "    ><clipPath clipPathUnits=\"userSpaceOnUse\" id=\"clipPath1\"\n",
       "      ><path d=\"M0 0 L560 0 L560 420 L0 420 L0 0 Z\"\n",
       "      /></clipPath\n",
       "    ></defs\n",
       "    ><g style=\"fill:white; stroke:white;\"\n",
       "    ><rect x=\"0\" y=\"0\" width=\"560\" style=\"clip-path:url(#clipPath1); stroke:none;\" height=\"420\"\n",
       "    /></g\n",
       "    ><g\n",
       "    ><image x=\"0\" y=\"0\" width=\"560\" xlink:href=\"data:image/png;base64,iVBORw0KGgoAAAANSUhEUgAAAjAAAAGkCAIAAACgjIjwAAAkiUlEQVR42u3dD1SV\n",
       "9f3AcbM8ZemKUGs1XTs1U0vPLDZzzsRtHs82LWerzPKY2cSlMBT1CkO4R8A/g2VS\n",
       "bBpK/Bk00JlY/j0TiIOCeEBZhglXTWw4lX9hcL0Xvf0+P55xd8dFExWe733u+3U8\n",
       "nesFL7f7ged9n+f5cm+PrwEAUEAPHgIAAEECAIAgAQAIEgAABAkAQJAAACBIAACC\n",
       "BAAAQQIAECQAAAgSAIAgAQBAkAAABAkAAIIEACBIAAAQJAAAQQIAgCABAAgSAAAE\n",
       "CQBAkAAAIEgAAIIEAABBAgAQJAAACBIAgCABAECQAAAECQAAggQAIEiA92poaCgv\n",
       "L6+rq+OhAAgSoI9Lly7NmTPn1ltv7dGjxy233PLcc881NzdfvHhxyZIlWVlZ13GD\n",
       "2dnZPVz069cvKiqKxxkgSMA3SEtLk2xMnTr1gw8++PWvfy2XY2JiGhsb5cIrr7xy\n",
       "3UEaM2bMqlWrTCaTr6+v/PXgwYM81ABBAq5G8iPBmD9/fk1Nzblz5/74xz9u3759\n",
       "8ODBcmXfvn1ffPFF+Zy33nrre9/73t133/3888/X19cnJiY++uijM2fOlGseeeSR\n",
       "v/3tb+5BCgkJ0f46e/Zs+avcpvvtfPHFF+PHj7/jjjvkC7388suyZ3alW5br5a+9\n",
       "e/cePXr0gQMHtGvkMwMDA++9917ZCUtPT3e/NfevyLhBkAB1VVRU+Pj4SDN69uz5\n",
       "5JNPrly50mazpaSkyDVjx47du3fv5s2b5fKcOXNWr17dq1evl156ST5HrvHz85Mq\n",
       "SLrkyqqqqnZBGjduXFxcXFhYmNSif//+EgP321m6dKlc895770VHR991112yr9bh\n",
       "Lefk5MiVEyZMePfddwcNGiS31tDQoH3miBEjwsPDJUIDBw50vzX3r8i4QZAApZ09\n",
       "ezY2NvZnP/uZbLVlC/7b3/7W9ZDdtGnT5PLrr78uW3ZfX1/Z+msxkFbJRzMyMuSy\n",
       "BKxdkG6//XYph3aDL7zwQoe3Ex8fL9cMGDBAdmhkF+fSpUsd3vKCBQvkgsVikSvf\n",
       "eecdubxr1y7tM7WzXBLOW2+91f3W3L8iswZBAtQlm/uf/vSnss8hl0+dOiVb7Qcf\n",
       "fNA1SFOmTJHLwcHBoW20o3z79u1z5mf9+vXtgqQdspPbeeKJJ+SvR44ccb+dlpaW\n",
       "3bt3z58/X/Z75EOyZ6Nlpt0tz5s3Ty6cPn1arty4caNclg9pn1lYWChXTp48+ZZb\n",
       "bpEL7W6tw6/IxEGQAEXJZlq22r/61a82b94sG3HZsv/85z//6quv5Mrhw4fn5eWt\n",
       "XbtWLi9evFh2XH784x9Pnz5di4FkoKCgwN/fXy6XlZV1GCQREREhf92xY4f77cyY\n",
       "MeNb3/qWtGrnzp3yoaCgoA5vWXaDtP02uXLkyJF33nnnmTNn3IPkfmvuX5FxgyAB\n",
       "6rJarbInpC37FqNGjdIOjk2cOFH7q91unzlzZs+ePWWjP2LEiJMnT2oxkA/Jf2+7\n",
       "7bbIyEjXG9y2bZtcv2jRIu2vqamp8tc333zT/XYkHt///ve1rysXKioqrnTLcmva\n",
       "0b9+/fpJOOUa1yA988wzcpvut+b+FRk3CBKgOtklOnbsWLtfjJVW2Ww27XJzc3NN\n",
       "TY122RmD2tpabTHbtXO9HeFwOKpbyYWr37Lcky+++EL7tCtpd2sdfkWAIAHGsWrV\n",
       "KtntKCoq8qBbBggSAAAECQBAkAAAIEgAAIIEAABBciouLs7IyHC/3m63R0VFVVZW\n",
       "MnIAIEhdS3sl5nnz5iUnJ7t/ND09PSgo6NixY4wcAAhS17JardpLrbgH6fDhw+vX\n",
       "r1+3bh1BAgCC1E2Ki4vbBamhoSE6OrqpqanDIM0BAK9BkHQOkuwbpaSk7Nu3b8WK\n",
       "FVu2bLlw4UK7ICn7/6L4dw93z6h3j4eOyRKkmx8km81WVVV16NChvFZRUVFZWVmN\n",
       "jY1893D3uHs8dEyWIHVrkCwWS0BAgOuuUkVFBd893D3uHg8dkyVITAgA2NwRJIIE\n",
       "gM0dQWJCAMDmjiARJAAgSEwIANjcESSCBAAEiQkBAJs7gkSQAIAgMSEAYHNHkAgS\n",
       "ABAkJgQAbO4IEkG6DidrreZdJ159v1z++CeUyn/fK67OtdTzEwuwuSNITKibSIce\n",
       "it4nf1yvlBppZZLr5RP4uQXY3BEkJtSFZAeox8K90hvZPbr6nhNZAtjcESQm1CUk\n",
       "M7L3I3+ukiKyBLC5I0hMqOtn3LpjdB0Zo0kAmzuCxIRu2r6R1Oi6Vys4d5WucdcK\n",
       "AJs7gkSQOs6Jf0Lpja+de6+4miYBbO4IEhPSuUaut8bPM8DmjiARpE67iTVybRKn\n",
       "lAA2dwSJIHWCZKMrdmhoEsDmjiARpE6QHaN2v/d605vEazoAbO4IEkH6ZlKjLg0G\n",
       "TQLY3BEkgvTNuu2QGuvuADZ3BIkgfUOQuucLsRYcYHNHkAjS1WrUnUfStN+Z5Ycc\n",
       "YHNHkAhS+12WV98v7+Yvqr2HBT/nAJs7gkSQ/kuvA2gsBAfY3BEkgvQ/eyp6VYFF\n",
       "dwCbO4JEkFymuHCvjl9de11wftoBNncEyduDpL0Bub73QZczWAAIEhNi96jjLnIy\n",
       "CWBzR5C8N0g6nj1yx8kkgM0dQfLeICn126mcTALY3BEkLw2Sgmdu+M0kgM0dQfLG\n",
       "ICn44j3aKnDdF1kAIEhMyKt3j1QuJQCCxIS6isorCLSXXuXnH2BzR5CMHyRJUbe9\n",
       "sPf1YRU4wObO24NUXFyckZHheo3dbk9JSTGZTFFRURUVFcYIkgq/DHt1vKQQQJC8\n",
       "N0j19fWJiYnz5s1LTk52vT4vLy8uLq6lpaWoqCg8PNwYQVLkl2G/cTeOA3cAQfLG\n",
       "IFmt1rKysqysrHZB2rNnj1wvFxoaGgIDAw0QJA96nR5WgQMEyRuDpCkuLm4XJE1j\n",
       "Y+PatWslV+4TcvKU/0fPOhTGgTtA9w55ylbOK4JUUFCwbNmy/Px8T3zK0I76yxna\n",
       "4eUbAPaQCNLXNputqqqqsLAwLi6uqanJQyfUjvrLGdxx4A4gSN4eJIvFEhAQsGbN\n",
       "mgULFoS1iomJ8fQgeeLvnLLiDiBI3hgk403IfQ/JQx9qDtwBbO4IknGC5InH65w4\n",
       "cAewuSNIxgmSR/z60ZVw4A5gc0eQDBIkA7xNOCvuADZ3BMkIQTLG7gUH7gA2dwTJ\n",
       "44Pk0cfrXHeSOHAHsLkjSB4cJAMcr3PFgTuAzR1B8tQgGWyvggN3AJs7guSpQTLG\n",
       "8TonDtwBbO4IkkcGyWDH65xN4sAdwOaOIHlYkIy6M8GBO4DNHUHysCAZ7HidN7QW\n",
       "YHNHkAw4IUMer3PiwB3A5o4gecyEPPr16yguwOaOIBlnQp74fhOd3UnyTyg1dnQB\n",
       "NncEyeMn5CV7D9qBO2N3F2BzR5A8e0KGP17nml7Pemt2gM0dQfKuCXnVfoMEybzr\n",
       "BFsNgCAxISXHY9wF3+60k0kcuAMIEhNSjhcuP5P/ZVaBAwSJCSnHO39pVBrMgTuA\n",
       "IDEhxWbjTcfrKDFAkAiSuhPy2l8X5eUbAILEhNSqkTf/rigv3wAQJCakCn5RlFXg\n",
       "AEFiQmoMxltPIDnxJn4AQWJC+uOAlUZqxMkkgCAxIT15+QkkV7yJH0CQmJCuU/H6\n",
       "43WuOJkEECQmpA+O17XDySSAIDEhfcjeADsE7lh2CBAkJtTd2Bu40o4jCxwAgsSE\n",
       "uncknEC68r4jBzMBgsSEum8/gG3ulWgnkzieCRAkJtQdWPB9LU3ikCZAkJhQl+PU\n",
       "/bU0SR4lmgQQJCbUxfPgBNI1N4lyK0VbHer6R3b3nX9cr+exYnNHkDxgQpxA6tRj\n",
       "xaK77mm/7Iw6A+OfUCoPuzxtkv/KH/mr/LnG5HQYKu0WtFtz3qx2y86b5SA2QWJC\n",
       "OuAEUmfRpJueH/kOlAa4hkdbSKLLno12Z5zpatdC7Xr5HH5qCJKHKS4uzsjIUHxC\n",
       "HIbqLBaC36yNvmzftW29B72FvJaiq+RK27siVwRJIfX19YmJifPmzUtOTlZ8QpxA\n",
       "oknduTvuWiBDLhK5xr0r71kgQ5D0Z7Vay8rKsrKyFA8SJ5BoUteRPW/tsJu2UebE\n",
       "jPMnzvU8lnuxDPZAESRVFBcXdxikBx54YE4bf39/5/Xdf1l7vqbvffDgy6FJzibx\n",
       "mDgvax3StrbOA3E8Ptd4+f9/Hlu/r9wXX7iuv+jx/JvOgPWYuMS5dkOR/xe5J0/O\n",
       "j5c/PUbPlP8SJKWDpM5TBk4g3fgeAGscNNq6OOfOEA9Id+51XWUxoesfZ8+u+4/7\n",
       "bTq72OGCe/aQCFJnJsEJJJp0w7QOyYaJ7weovLkjSEoHiRNIN3GL7G37mlqJtQ6x\n",
       "PwSCxIRuFL+BRJOuu0MclwNBYkI3EyeQbvrG2qjH7pxHJukQCBIT6poxcAKpa5pk\n",
       "mE02HQJBYkLdhBNIXboR9/S9T/n2oEMgSEyoO/ASyF398Hri4TvXpQqcXwRBYkLd\n",
       "9/yXLU5Xb9y139JQf1eJQ3MgSExI1xlwAqkbN/Qq3z3nSyqwwgUEiQnpINdSz68x\n",
       "dud2X6nzMVqHOEUEgkSQlJgQvxKrSwa0fRFF9oeYCAgSQVJiQpxA0nfftJuTQIdA\n",
       "kAiSuhPiV2J131vSzi116TMD15dU8J533wGbO4LkYRNiRYMiWdKOnTrfsfu6syE3\n",
       "pb3YtmuE2B8CmzuCpPqEOIGkIC0nzjcI0F7D/0qf6Xy7Ae0tBrQC8SKnYHNHkDxv\n",
       "QpxAUny3SdtzavfWou3efoYdILC5I0hGmBAnkAAQJIKkxIQ4gQSAIBEk/SfECSQA\n",
       "BIkgESQAbO4IEhNqw4oGAASJICkxIaO+pSkANncEycMmxIoGAASJIOk/IU4gASBI\n",
       "BEmJCXECCQBBIkgECQCbO4LEhJyPOyeQABAkgqT7hE7WWlliB4AgEST9J8SKBgAE\n",
       "iSApMSFOIAEgSARJiQnxIt8ACBJBUmJCrGgAQJAIkv4T4gQSAIJEkAgSADZ3BIkJ\n",
       "tWFFAwCCRJCUmBArGgAQJIKkxIRY0QCAIBEkJSbECSQABIkg6T8h864T8ocfDAAE\n",
       "iSDpPCFWNAAgSARJiQmxogEAQTJ+kBwOR3p6uslkMpvNR48edV5/+fLl1NTUJUuW\n",
       "REZGfvrpp/pOiBUNAAiS8YNUWloqybFarSUlJaGhoc7rDx8+vHz5crvdvn///mXL\n",
       "luk4IX4lFgBB8oogZWZm7tixQ7scEhJSW1urXS4vL1+5cmVLS4uEKioqSscJsaIB\n",
       "AEEyTpAyMjKeffbZjRs3xsfHf/nll64fSkpKKigo+M+m32yuqqrSLjc1NUVERCxa\n",
       "tGju3Lk5OTnuE3Lq6jvPigYAunSo27ZyXhSkP/3pT48++uikSZMiIyNlH8jPz8/1\n",
       "o2lpac7ehIWFVVf/Z9OfnZ2dkpLicDhqamqCg4MbGxv1esrAigYA7CEZJEhPPPFE\n",
       "SUlJXFycBEn++vDDD//rX/9yflRqJLtNckFSFBQUZLfbbTab7CdlZmampqbK9c3N\n",
       "zQsXLnQeyuv+CbGiAQBBMkiQxowZk5ubqwXpwoUL/fr1c62L5Cc2NtZkMslukHbs\n",
       "zmKxBAQE1NXVLV++XPaZFi9e/OGHH+o1IVY0ACBIxgnStm3b+vfv7+fn99RTTw0f\n",
       "PnzGjBkeNCFWNAAgSMYJ0teta7iXLVsWFBS0adMmh8PhQRNiRQMAgmSoIHnuhFjR\n",
       "AIAgGSFIQ4cOHdCRdiu/VZ4QKxoAECQjBOn48ePHjh0LDg4eO3ZsQUHBkSNHFi1a\n",
       "NHLkyMuXL3vEhFjRAIAgGSRImscee0xS5Pzr4MGDnb/9qviEWNEAgCAZKkhPPfWU\n",
       "c912bW2tj4/P+fPnPWJCrGgAQJAMFaTU1NQ+ffrMnDkzMDDwu9/97vTp0z1lQg9F\n",
       "7+OHAQBBMk6QxP79+0NDQxcsWJCZmXnjJ5C6bUKsaABAkAwVpHXr1i3+X1arVf0J\n",
       "saIBAEEyWpASExPDWi1atOgHP/jBmDFjbDYbQQIAgqQn2TcaNGhQU1OT+hNiRQMA\n",
       "gmTkILW0tNx///0VFRXqT4jXaABAkIwWpPnz549pIzUaNmyYZEn9CbGiAQBBMlqQ\n",
       "kpOTN23a9FGr3NzcvXv3qh8kTiABIEiGClJDQ8OJEydGjRqVnZ19olVlZaWPj4/6\n",
       "r2VHkAAQJEMF6e2335b83HbbbX379vVpM3bs2Bt/B4qunhArGgAQJEMFSTN16tSy\n",
       "sjLPmhArGgAQJAMGyRMnxIoGAATJUEEaP3789u3bX3vtteH/q7GxUeUJ5Vrq/RNK\n",
       "+TEAQJCME6TCwsJz586VlZXl/y/FV9mxogEAQTJakJ5++unhHVF8D4kVDQAIktGC\n",
       "VFRUpO0S5eXlpaamrl+/fufOnervIbGiAQBBMlqQNBaLZejQoXfddVf//v379OmT\n",
       "kpKi+IRY0QCAIBkzSM8++2xgYKD2Ct+7d+/u27ev4m8/wfvyASBIxgzSkCFDKisr\n",
       "nX997LHHjh49quyEWNEAgCAZNkizZs2KiorSLhcXFw8cOFDl90NiRQMAgmTYIL3y\n",
       "yis9evQYNGjQ8OHDe/bsOWDAgCdbHT58mCABAEHqPiUlJf/oSENDg4ITYokdAIJk\n",
       "2CB51oRYYgeAIBk2SDk5OePGjRvpQtlfjGVFAwCCZOQg+fn5LVmyZO/evTltlP3F\n",
       "WPOuE/KHHwAABMmYQZJdokOHDnnEhFjRAIAgGTlIycnJP/nJTzIzM3e0UXYPiRUN\n",
       "AAiSkYMkj6aPj8+oUaNGt7lw4YKaE2JFAwCCZOQgDR069J///Kf6E+JtkAAQJIMH\n",
       "6bXXXktNTVV/QiyxA0CQDB6k+fPn9+jRw8/Pb0wbNQ/ZsaIBAEEyeJAKCws/cpGQ\n",
       "kNDc3KzghFjRAIAgGTxIGtkrSkxMHDVqlOwt3ciLBnXdhFjRAIAgGX8Pafbs2X36\n",
       "9PH19Y2IiKioqHD9qMPhSE9PN5lMZrO53dtS5OfnR0ZGxsTElJWVdfWEZN+It0EC\n",
       "QJAMG6SEhITHH3/cx8dHHtCwsLBJkya5f05paalUx2q1lpSUhIaGOq8/deqUVKqu\n",
       "rk4CJhnr6gmxogEAQTJykPr37z9s2LCDBw/K5ezs7MmTJ7t/jvYLs9rlkJCQ2tpa\n",
       "7fLWrVu3b98uNfrss8/Onz/vPiGnm3JXWdEAQLUO3dytnLcH6ciRI8HBwb6+viNG\n",
       "jPjNb37TYZCSkpIKCgq0y2azuaqqSru8YcOGpUuXSq7WrVu3evXqy5cvd+lTBoIE\n",
       "gD0kIwdJY7PZpCsTJkzo1avXL3/5S7nsWpe0tLScnBztclhYWHV1tTNUmzZt0i6H\n",
       "h4c7Q9VFE+IEEgCCZPwgOZ08eTIiImLgwIGuq+ykRvHx8XJBUhQUFGS32yVgkp/c\n",
       "3FzZN5Lrm5qaQkJCampqunRCLLEDQJC8KEiadgffJD+xsbEmkyk4OFg7dmexWAIC\n",
       "AlpaWhISEiIjI+VDu3bt6tIJsaIBAEHyxiApOCGCBIAgESQlJsSKBgAEiSApMSFe\n",
       "NAgAQSJISkyIFQ0ACBJB0n9CvA0SAIJEkJSYECsaABAkgqTEhFjRAIAgESSCBAAE\n",
       "iQm1YYkdAIJEkJSYEEvsABAkgqT/hFjRAIAgESSCBAAEiQm1YUUDAIJEkJSYECsa\n",
       "ABAkgqTEhFjRAIAgESQlJsSLBgEgSARJ/wmxogEAQSJISkyIFQ0ACBJBUmJC/gml\n",
       "uZZ6vt0BECSCpPOEWGIHgCARJCUmxBI7AASJIOk/IVY0ACBIBEmJCZl3nZA/fK8D\n",
       "IEgESecJscQOAEEiSEpMiBUNAAgSQVJiQqxoAECQCJL+E8q11POiQQAIEkHSf0Is\n",
       "sQNAkAiSEhNiRQMAgkSQlJgQLxoEgCARJCUmxBI7AASJICkxIZbYASBIBEn/CbGi\n",
       "AQBBIkhKTIgXDQJAkAiSEhNiiR0AgkSQlJjQQ9H7+BYHQJAIkv4TYkUDAIJEkPSf\n",
       "EC8aBIAgESQlJsQSOwAEiSB1zOFwpKenm0wms9l89OjRdh+12+1RUVGVlZU3a0Ks\n",
       "aABAkAhSx0pLSyMjI61Wa0lJSWhoaLuPSquCgoKOHTt2sybEazQAIEgEqWOZmZk7\n",
       "duzQLoeEhNTW1jo/dPjw4fXr169bt67DIDl17oFjRQMAD+nQ9W3lCNL1S0pKKigo\n",
       "0C6bzeaqqirtckNDQ3R0dFNT05WCdJ0PHEECwB4SQepQWlpaTk6OdjksLKy6+j8n\n",
       "eGTfKCUlZd++fStWrNiyZcuFCxdufEKsaABAkAjSFUmN4uPj5YKkKCgoyG6322w2\n",
       "2U86dOhQXquoqKisrKzGxsYbnxAvGgSAIBGkK5L8xMbGmkym4OBg7didxWIJCAhw\n",
       "foLsKlVUVNyUCbHEDgBBIkhKTIgldgAIEkFSYkKsaABAkAiS/hNiRQMAgkSQCBIA\n",
       "ECQm1IYVDQAIEkFSYkKsaABAkAiSEhNiRQMAgkSQVNlD4jsbAEEiSDpPiBUNAAgS\n",
       "QVJiQqxoAECQCBJBAgCCxITasMQOAEEiSEpMiCV2AAgSQdJ/QqxoAECQCJISE+Jt\n",
       "kAAQJIKkxIRY0QCAIBEkJSbEigYABIkgKTEhVjQAIEgESf8JsaIBAEEiSAQJAAgS\n",
       "E2rDigYABIkgKTEhVjQAIEgESYkJsaIBAEEiSPpPKNdS759Qyjc0AIJEkHSeECsa\n",
       "ABAkgqTEhFjRAIAgESQlJsTblgMgSARJiQmxogEAQSJI+k/oZK2VPSQABIkg6T8h\n",
       "VjQAIEgESYkJsaIBAEEiSEpMiNdoAECQCJISE2JFAwCCRJAIEgAQJCbUihUNAAgS\n",
       "QVJiQqxoAECQCBJBAgCCxITasMQOAEEiSEpMiBUNAAgSQeoch8ORnp5uMpnMZvPR\n",
       "o0ed19vt9pSUFLk+KiqqoqKiUxNiRQMAgkSQOq20tDQyMtJqtZaUlISGhjqvz8vL\n",
       "i4uLa2lpKSoqCg8P79SEOIEEgCARpE7LzMzcsWOHdjkkJKS2tla7vGfPnrKyMrnQ\n",
       "0NAQGBjoPiEnggTAkB26ylaOIHWJpKSkgoIC7bLZbK6qqnL9aGNj49q1a7Oysjr1\n",
       "lIEVDQDYQyJInZaWlpaTk6NdDgsLq67+756NhGrZsmX5+fmdnRArGgAQJILUaVKj\n",
       "+Ph4uSApCgoKstvtNptN9pMKCwvj4uKampo6OyFWNAAgSATpekh+YmNjTSZTcHCw\n",
       "duzOYrEEBASsWbNmwYIFYa1iYmKufUKcQAJAkAiSEhPiBBIAgkSQlJgQJ5AAECSC\n",
       "pP+Eci31/gmlfAcDIEgESecJsaIBAEEiSEpMiBUNAAgSQVJiQqxoAECQCJISE2JF\n",
       "AwCCRJD0nxAnkAAQJIJEkACAIDGhNqxoAECQCJISE2JFAwCCRJCUmBArGgAQJIKk\n",
       "/4Q4gQSAIBEkJSZk3nVC/vC9C4AgESSdJ8TuEQCCRJCUmBAnkAAQJIKk/4R4kW8A\n",
       "BIkgKTEhVjQAIEgESYkJ8SuxAAgSQVJiQvxKLACCRJCUmBArGgAQJIKk/4Q4gQSA\n",
       "IBEkJSbECSQABIkgKTEhTiABIEgESYkJcQIJAEEiSPpPiBNIAAgSQVJiQrymKgCC\n",
       "RJCUmBArGgAQJIKkxIQ4gQSAIBEk/SfECSQABIkgESQAIEgEqW1C/gmluZZ6vl8B\n",
       "ECSCpPOEOIEEgCARJP0nxPE6AASJICkxIRZ8AyBIBEmJCfESdgAIEkFSYkKcQAJA\n",
       "kAiS/vznreQEEgCCRJD0Nzhwg7InkBT/7uHuGfXu8dAxWYLUVRwOR3p6uslkMpvN\n",
       "R48ebffRvsHblD2BxA8ed4/7xt0jSIZSWloaGRlptVpLSkpCQ0Pb//8rfAKJHzzu\n",
       "HveNu0eQDCUzM3PHjh3a5ZCQkNraWtePDg7cMAcAvANB0llSUlJBQYF22Ww2V1VV\n",
       "fQ0AIEjdLy0tLScnR7scFhZWXc3vwAIAQdKD1Cg+Pl4uSIqCgoLsdjtTBwCCpAOb\n",
       "zRYbG2symYKDg53H7gAABAkAAIIEACBIAAAQpPau/vINiiguLs7IyFDwjtnt9pSU\n",
       "FHn0oqKiKioqVLtvGzZsWLJkidy348ePqzlZuZNy9yorKxW8b6tWrTK3SkpKUvDu\n",
       "5efnR0ZGxsTElJWVKXXHdu/ebXbR7vcddXf58uXU1FT5uZBH79NPPyVIarn6yzfo\n",
       "rr6+PjExcd68ecnJyQo+enl5eXFxcS0tLUVFReHh4Urdt48//jg+Pv7SpUvbt2+X\n",
       "O6nmt588GQoKCjp27Jhqd6yhoWH58uUXWym4HvXUqVPyNKiurk6eBkVERCh132Rj\n",
       "Ut9KnkeuXLlSAqDU3Tt8+LBMVma6f//+ZcuWESS1XP3lG1T45pYngFlZWWoGac+e\n",
       "PdrzU9l+BQYGqvZUQ9sxku3Cm2++qeCjJ5uG9evXr1u3TsEgHTlyZO3atQUFBfIw\n",
       "StRVu3tbt26V5xlSo88+++z8+fMKDre5uVk29zU1NardsfLycsmkPImUp+Cyd06Q\n",
       "1OIRL98gm1Q1g6RpbGyUjZdUU8H7Jlv8N95448CBAwrugkRHRzc1NakZpJycnJiY\n",
       "GPnvn//85zVr1qh29zZs2LB06VJ5NimP3urVq1XbCxEZGRkfffSRgj8R8i0n+5SL\n",
       "Fi2aO3eu84UCCJIqPOLlG1QOkuRcngnm5+erdsfkibPNZpMLZ8+e/f3vf3/x4kXV\n",
       "SpmSkrJv374VK1Zs2bLlwoULas5XtvXy6H355ZeqPY/ctGmTdjk8PFy155EyzaCg\n",
       "INn0KzjQ7Oxs+cZzOByy9xYcHCzPJgmSWs8E1X/5BmWDVFhYGBcXp+YPXmJi4ocf\n",
       "figXZGMaGBio2p08dOhQXquoqCjZuVRtuyA7H9oTNem6/FxoaVdHbm6u7Btpz/dD\n",
       "QkJUOzImz9LeeecdNbd4MtnU1NSvWw8qLly4ULWTFN4eJI94+QZlg7RmzZoFCxaE\n",
       "tYqJiVHqvskzjPBWixcv3rtX3fcWkV0l1RYoin//+9+y4yuxlB8N+fZT7e61tLQk\n",
       "JCRERkbK3du1a5eCG/2tW7eq+f1WV1e3fPly+YGVnwvtGRtBUo48z1LwzC1u3Fdf\n",
       "faXgCQYPevQcDoeyd+/ixYsM97q3eBJ1le8hvxgLACBIAAAQJAAAQQK8go6vSnXx\n",
       "4kVlXzkJIEhAx5qamnq4Wbhw4dixY2/kZktLS2/wFq7RgQMHhgwZ0u5Ku90+ePDg\n",
       "06dPM18QJMCTOFrFx8ePGzdOu1xTU1NSUnIjtzlx4sTuWQQsQZL2uF+/atWquXPn\n",
       "MlwQJMDzvP322/7+/trlf/zjHy+++GJ2dvbzzz8vOzp9+vSZOXPm0qVLfXx8Hnjg\n",
       "gZ07d2qfFhsb++CDD95///1/+MMfXG+qoqJCrrRYLKNGjbrjjju+853vpKenX+mf\n",
       "LF++XG5TvsS0adOam5u1lgwcOPCee+6R+1BXVyd3Y/r06RLL22+/Xe6MXCPJlH9+\n",
       "3333yedMnTpVC9Lx48ddv5w09c4771TttSoAggR0LkjSANn0p6WlyTa9qKjozJkz\n",
       "WjBqa2vDwsImTZokn7N9+/ZHHnnk888/r6qqGjZsWGZmpvOm/v73v8s/X7x48ZQp\n",
       "Uy5duvTBBx8MHz68w38ie1ESp08++aS6ulo+Jy4uTr60r6/voUOHJDwTJkyYNWuW\n",
       "3I1evXp9/PHH0pjHH3/83XffzcrK+va3v11eXn7+/Hm5z1qQ3L+c3I78KyYLggQY\n",
       "IUgTJ07UrhkyZIj2sjoSm/Hjx8uF3/3ud35+fotajR49esaMGc6bio6Olr/KjfTu\n",
       "3full16ShGivc+P+T+Qauaz9qy9bzZ07d+HChdo1+fn5kiu5G9pX1G5hxYoVc+bM\n",
       "kfxo1+zevVsLkvuXk6/117/+lcmCIAFGCJK2M6QFaf/+/XJhy5YtWh5ef/31X/zi\n",
       "F++0cX2Z54iICAmDXKisrHzrrbeefvrp/v37yx6P+z959dVXnW/tc/r0aYvFIp+z\n",
       "dOlS7Zri4uJ7773X9W5oQZo9e7bsqGnXyD6Q8xxSuy/3wx/+cPPmzUwWBAkweJBS\n",
       "U1NHjhwp+zSXL19+7rnnNmzY4LypjRs3yg6QxMNsNn/d+lYdvXr1+uSTT9z/yV/+\n",
       "8pehQ4fKNU1NTdKP999/Pzk5+aGHHjp79qx8juxCTZkyxT1I8jkPP/yw7AY5HI5p\n",
       "06ZpQXL/cpKl8vJyJguCBHgY2WVxBmnbtm3jxo2TEkyePPlKQbp06dKsWbPuueee\n",
       "++6775lnnnF9zfgTJ07069fv4MGDAwcOlLr4+vpOnz5dAuP+T2w22wsvvHD33XcP\n",
       "GDDg5ZdfvtRqzpw52jU/+tGPPv/8c9e78cYbb2jvtDZz5sy+ffvK50g4tSCVlJS4\n",
       "frlz58717t1b8dcuAwgScNNYrdYO39ZowoQJmZmZEqEzZ860+wT3fyK7R9r6OqeL\n",
       "Fy/W19df/UvLv2p3O65fTnakQkJCGBAIEuDtioqKRo8erddXlx0v2aVT8L20AYIE\n",
       "6KCyslKvL93S0nLq1ClGAIIEAABBAgAQJAAACBIAgCABAECQAAAECQAAggQAIEgA\n",
       "ABAkAABBAgCAIAEACBIAAAQJAECQAAAgSAAA7/J/m4ns6Vv0PYoAAAAASUVORK5C\n",
       "YII=\" style=\"clip-path:url(#clipPath1);\" height=\"420\" preserveAspectRatio=\"none\"\n",
       "    /></g\n",
       "  ></g\n",
       "></svg\n",
       ">\n"
      ]
     },
     "metadata": {},
     "output_type": "display_data"
    }
   ],
   "source": [
    "step(Gc)"
   ]
  },
  {
   "cell_type": "markdown",
   "metadata": {},
   "source": [
    "We can now use this design as a baseline for autotuning the PID"
   ]
  },
  {
   "cell_type": "code",
   "execution_count": 7,
   "metadata": {},
   "outputs": [],
   "source": [
    "pidTuner(G,D)"
   ]
  },
  {
   "cell_type": "markdown",
   "metadata": {},
   "source": [
    "Results are:\n",
    "\n"
   ]
  },
  {
   "cell_type": "markdown",
   "metadata": {},
   "source": [
    "![Retuned PID](pictures/retuned.png)"
   ]
  }
 ],
 "metadata": {
  "kernelspec": {
   "display_name": "MATLAB",
   "language": "matlab",
   "name": "imatlab"
  },
  "language_info": {
   "codemirror_mode": "octave",
   "file_extension": ".m",
   "mimetype": "text/x-matlab",
   "name": "matlab",
   "nbconvert_exporter": "imatlab._exporter.MatlabExporter",
   "pygments_lexer": "matlab",
   "version": "9.9.0.1467703 (R2020b)"
  }
 },
 "nbformat": 4,
 "nbformat_minor": 2
}
