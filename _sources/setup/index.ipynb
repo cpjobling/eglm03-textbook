{
 "cells": [
  {
   "cell_type": "markdown",
   "metadata": {},
   "source": [
    "his section will develop into a user guide explaining how you can have your own copy of this textbook and the Jupyter-MATLAB platform that provides the live-coding platform used in class.\n",
    "\n",
    "This is a fairly technical process so I would only advise you to undertake it if you are comfortable working in the command line of your operating system!\n",
    "\n",
    "## Contents\n",
    "\n",
    "* [About Jupyter Notebooks](jupyter)\n",
    "* [Installing Python](python)\n",
    "* [Setting up your MATLAB-Jupyter Computing Environment](setup)\n",
    "* [Setting up jupyter-book](jupyter-book)\n"
   ]
  }
 ],
 "metadata": {
  "kernelspec": {
   "display_name": "Python 3",
   "language": "python",
   "name": "python3"
  },
  "language_info": {
   "codemirror_mode": {
    "name": "ipython",
    "version": 3
   },
   "file_extension": ".py",
   "mimetype": "text/x-python",
   "name": "python",
   "nbconvert_exporter": "python",
   "pygments_lexer": "ipython3",
   "version": "3.7.5"
  }
 },
 "nbformat": 4,
 "nbformat_minor": 2
}
