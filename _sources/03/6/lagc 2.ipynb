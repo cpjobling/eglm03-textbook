{
 "cells": [
  {
   "cell_type": "markdown",
   "metadata": {
    "slideshow": {
     "slide_type": "slide"
    }
   },
   "source": [
    "# Lag Compensation"
   ]
  },
  {
   "cell_type": "markdown",
   "metadata": {
    "slideshow": {
     "slide_type": "skip"
    }
   },
   "source": [
    "**Lecturer**\n",
    "\n",
    "Set up MATLAB"
   ]
  },
  {
   "cell_type": "code",
   "execution_count": 1,
   "metadata": {
    "slideshow": {
     "slide_type": "skip"
    }
   },
   "outputs": [
    {
     "name": "stdout",
     "output_type": "stream",
     "text": [
      "ans =\n",
      "    '/Users/eechris/Documents/code/src/github.com/cpjobling/eglm03-textbook/03/6'\n"
     ]
    }
   ],
   "source": [
    "%cd matlab\n",
    "pwd\n",
    "clear all\n",
    "imatlab_export_fig('print-svg')  % Static svg figures.\n",
    "format compact"
   ]
  },
  {
   "cell_type": "markdown",
   "metadata": {
    "slideshow": {
     "slide_type": "slide"
    }
   },
   "source": [
    "## Introduction\n",
    "\n",
    "Lead compensation is used to improved the transient response of a closed-loop control system. \n",
    "\n",
    "In most cases it is also important to ensure that the steady-state accuracy of the closed-loop system is controlled. \n",
    "\n",
    "In order to reduce the steady-state errors in a system we can use integral action (see [PID compensation](../4/pid)) which has the affect of increasing the system type number by 1 or increase the system gain. "
   ]
  },
  {
   "cell_type": "markdown",
   "metadata": {
    "slideshow": {
     "slide_type": "slide"
    }
   },
   "source": [
    "Unfortunately gain compensation, because it acts at all frequencies, usually has the effect of reducing stability. \n",
    "\n",
    "What is needed is a form of compensation that acts in a frequency dependent way: adding gain at low frequencies while maintaining mid-to-high frequency gains at the values needed to guarantee stable transient behaviour. \n",
    "\n",
    "A dynamic compensator that has this effect is the \"**lag compensator**\"."
   ]
  },
  {
   "cell_type": "markdown",
   "metadata": {
    "slideshow": {
     "slide_type": "subslide"
    }
   },
   "source": [
    "The lag compensator has the transfer function:\n",
    "\n",
    "$$D_{\\mathrm{lag}}(s)=K_c\\left(\\frac{s-z_0}{s-p_0}\\right)$$\n",
    "\n",
    "where $$|z_0| > |p_0|.$$"
   ]
  },
  {
   "cell_type": "markdown",
   "metadata": {
    "slideshow": {
     "slide_type": "subslide"
    }
   },
   "source": [
    "Considering the frequency response of $D_{\\mathrm{lag}}(s)$\n",
    "\n",
    "$$D_{\\mathrm{lag}}(j\\omega)=K_c\\left(\\frac{j\\omega-z_0}{j\\omega-p_0}\\right)$$"
   ]
  },
  {
   "cell_type": "markdown",
   "metadata": {
    "slideshow": {
     "slide_type": "subslide"
    }
   },
   "source": [
    "The low and high-frequency gains are:"
   ]
  },
  {
   "cell_type": "markdown",
   "metadata": {
    "slideshow": {
     "slide_type": "fragment"
    }
   },
   "source": [
    "$$\\left.D_{\\mathrm{lag}}(j\\omega)\\right|_{\\omega\\to 0} = K_c\\left(\\frac{z_0}{p_0}\\right)$$"
   ]
  },
  {
   "cell_type": "markdown",
   "metadata": {
    "slideshow": {
     "slide_type": "fragment"
    }
   },
   "source": [
    "$$\\left.D_{\\mathrm{lag}}(j\\omega)\\right|_{\\omega\\to \\infty} = K_c$$"
   ]
  },
  {
   "cell_type": "markdown",
   "metadata": {
    "slideshow": {
     "slide_type": "notes"
    }
   },
   "source": [
    "Because the low frequency gain is higher than the high frequency gain (the compensator has a low-pass characteristic). If the high frequency gain is designed to match the gain needed for transient performance, the low frequency gain can be independently designed to achieve steady-state performance requirements."
   ]
  },
  {
   "cell_type": "markdown",
   "metadata": {
    "slideshow": {
     "slide_type": "slide"
    }
   },
   "source": [
    "## Properties of the Cascade Lag Compensator\n",
    "\n",
    "As $|z_0|>|p_0|$ (a ratio of $z_0/p_0\\le 10$ is usual), the angle contributed \n",
    "by the compensator to some arbitrary point $s_1$ at on the s-plane, is illustrated \n",
    "in Figure 1.\n",
    "\n",
    "\n",
    "![Figure 1 Angle contribution of a lag compensator](images/fig1.png)\n",
    "**Figure 1 Angle contribution of a lag compensator**"
   ]
  },
  {
   "cell_type": "markdown",
   "metadata": {
    "slideshow": {
     "slide_type": "subslide"
    }
   },
   "source": [
    "The net contribution is\n",
    "\n",
    "$$\\phi_c = -\\theta_p+\\theta_z < 0$$\n",
    "\n",
    "so that the lead compensator always makes a negative contribution to the \n",
    "angle criterion. "
   ]
  },
  {
   "cell_type": "markdown",
   "metadata": {
    "slideshow": {
     "slide_type": "fragment"
    }
   },
   "source": [
    "This has the effect of allowing the closed-loop poles to move to the right in the _s_-plane. "
   ]
  },
  {
   "cell_type": "markdown",
   "metadata": {
    "slideshow": {
     "slide_type": "fragment"
    }
   },
   "source": [
    "The design approach seeks to keep this negative contribution as small as possible so that the pole must be placed physically close to the zero. Typically $|\\phi_c| < 2^\\circ$."
   ]
  },
  {
   "cell_type": "markdown",
   "metadata": {
    "slideshow": {
     "slide_type": "subslide"
    }
   },
   "source": [
    "For convenience, the DC gain of the lag compensator is made unity:\n",
    "\n",
    "$$\\left.D_{\\mathrm{lag}}(s)\\right|_{s = 0} = K_c\\left(\\frac{z_0}{p_0}\\right) \n",
    "= 1$$\n",
    "\n",
    "Since $|z_0|>|p_0|$ then\n",
    "\n",
    "$$K_c = \\frac{p_0}{z_0} < 1.$$"
   ]
  },
  {
   "cell_type": "markdown",
   "metadata": {
    "slideshow": {
     "slide_type": "subslide"
    }
   },
   "source": [
    "Now, the uncompensated (or lead-compensated) closed-loop characteristic equation is\n",
    "\n",
    "$$1+K_0G(s)H(s) = 0$$\n",
    "\n",
    "so \n",
    "\n",
    "$$K_0 = -\\frac{1}{G(s)H(s)}.$$\n",
    "\n",
    "The gain $K_0$ is the root-locus gain required to place the required dominant closed-loop poles at  $s=s_1$. "
   ]
  },
  {
   "cell_type": "markdown",
   "metadata": {
    "slideshow": {
     "slide_type": "subslide"
    }
   },
   "source": [
    "The values of the zero and pole are chosen such that\n",
    "\n",
    "$$\\left.D_{\\mathrm{lag}}(s)\\right|_{s = s_1} = K_c\\left(\\frac{s - z_0}{s \n",
    "- p_0}\\right) \\cong K_c.$$"
   ]
  },
  {
   "cell_type": "markdown",
   "metadata": {
    "slideshow": {
     "slide_type": "fragment"
    }
   },
   "source": [
    "This equation requires that the pole and zero be close together and also that\n",
    "\n",
    "$$z_0 \\ll |s_1|.$$"
   ]
  },
  {
   "cell_type": "markdown",
   "metadata": {
    "slideshow": {
     "slide_type": "subslide"
    }
   },
   "source": [
    "For the lag compensated system, the new root-locus gain will be\n",
    "\n",
    "$$K=-\\frac{1}{D(s)G(s)H(s)}\\ \\cong - \\frac{1}{K_cG(s)H(s)} =\\frac{K_0}{K_c}.$$"
   ]
  },
  {
   "cell_type": "markdown",
   "metadata": {
    "slideshow": {
     "slide_type": "fragment"
    }
   },
   "source": [
    "The gain $K$ is chosen to satisfy the steady-state error requirements and the compensator gain $K_c$ is used to ensure that the effective gain at $s=s_1$ is unchanged."
   ]
  },
  {
   "cell_type": "markdown",
   "metadata": {
    "slideshow": {
     "slide_type": "slide"
    }
   },
   "source": [
    "## Design Procedure"
   ]
  },
  {
   "cell_type": "markdown",
   "metadata": {
    "slideshow": {
     "slide_type": "fragment"
    }
   },
   "source": [
    "1. Choose $K_0$ to ensure that the desired dominant closed-loop poles satisfy the transient response requirements. "
   ]
  },
  {
   "cell_type": "markdown",
   "metadata": {
    "slideshow": {
     "slide_type": "fragment"
    }
   },
   "source": [
    "2. Calculate the gain _K_ required to give the desired steady-state error. "
   ]
  },
  {
   "cell_type": "markdown",
   "metadata": {
    "slideshow": {
     "slide_type": "fragment"
    }
   },
   "source": [
    "3. Assuming that the lag compensator has unity DC gain choose $K_c = K_0/K$."
   ]
  },
  {
   "cell_type": "markdown",
   "metadata": {
    "slideshow": {
     "slide_type": "subslide"
    }
   },
   "source": [
    "4. Choose $|z_0|$ small with respect to $|s_1|$. "
   ]
  },
  {
   "cell_type": "markdown",
   "metadata": {
    "slideshow": {
     "slide_type": "notes"
    }
   },
   "source": [
    "A value of $z_0=|s_1|/10$ is often taken as a reasonable first approximation."
   ]
  },
  {
   "cell_type": "markdown",
   "metadata": {
    "slideshow": {
     "slide_type": "fragment"
    }
   },
   "source": [
    "The lag compensator pole is then  $p_0 = K_c z_0$."
   ]
  },
  {
   "cell_type": "markdown",
   "metadata": {
    "slideshow": {
     "slide_type": "slide"
    }
   },
   "source": [
    "## Example"
   ]
  },
  {
   "cell_type": "markdown",
   "metadata": {
    "slideshow": {
     "slide_type": "fragment"
    }
   },
   "source": [
    "The plant (type 1)\n",
    "\n",
    "$$G(s) = \\frac{1}{s(s + 4)}$$"
   ]
  },
  {
   "cell_type": "markdown",
   "metadata": {
    "slideshow": {
     "slide_type": "fragment"
    }
   },
   "source": [
    "The feedback is\n",
    "\n",
    "$$H(s) = 1$$"
   ]
  },
  {
   "cell_type": "markdown",
   "metadata": {
    "slideshow": {
     "slide_type": "subslide"
    }
   },
   "source": [
    "hence"
   ]
  },
  {
   "cell_type": "code",
   "execution_count": 2,
   "metadata": {
    "slideshow": {
     "slide_type": "fragment"
    }
   },
   "outputs": [],
   "source": [
    "s = tf('s');\n",
    "G = 1/(s*(s+4));\n",
    "H=1;"
   ]
  },
  {
   "cell_type": "markdown",
   "metadata": {
    "slideshow": {
     "slide_type": "subslide"
    }
   },
   "source": [
    "root-locus"
   ]
  },
  {
   "cell_type": "code",
   "execution_count": 3,
   "metadata": {
    "slideshow": {
     "slide_type": "fragment"
    }
   },
   "outputs": [
    {
     "data": {
      "image/svg+xml": [
       "<?xml version=\"1.0\"?>\n",
       "<!DOCTYPE svg PUBLIC '-//W3C//DTD SVG 1.0//EN'\n",
       "          'http://www.w3.org/TR/2001/REC-SVG-20010904/DTD/svg10.dtd'>\n",
       "<svg xmlns:xlink=\"http://www.w3.org/1999/xlink\" style=\"fill-opacity:1; color-rendering:auto; color-interpolation:auto; text-rendering:auto; stroke:black; stroke-linecap:square; stroke-miterlimit:10; shape-rendering:auto; stroke-opacity:1; fill:black; stroke-dasharray:none; font-weight:normal; stroke-width:1; font-family:'Dialog'; font-style:normal; stroke-linejoin:miter; font-size:12px; stroke-dashoffset:0; image-rendering:auto;\" width=\"560\" height=\"420\" xmlns=\"http://www.w3.org/2000/svg\"\n",
       "><!--Generated by the Batik Graphics2D SVG Generator--><defs id=\"genericDefs\"\n",
       "  /><g\n",
       "  ><defs id=\"defs1\"\n",
       "    ><clipPath clipPathUnits=\"userSpaceOnUse\" id=\"clipPath1\"\n",
       "      ><path d=\"M0 0 L560 0 L560 420 L0 420 L0 0 Z\"\n",
       "      /></clipPath\n",
       "    ></defs\n",
       "    ><g style=\"fill:white; stroke:white;\"\n",
       "    ><rect x=\"0\" y=\"0\" width=\"560\" style=\"clip-path:url(#clipPath1); stroke:none;\" height=\"420\"\n",
       "    /></g\n",
       "    ><g\n",
       "    ><image x=\"0\" y=\"0\" width=\"560\" xlink:href=\"data:image/png;base64,iVBORw0KGgoAAAANSUhEUgAAAjAAAAGkCAIAAACgjIjwAAAl7UlEQVR42u3dDVRU\n",
       "ZeL4cWtzUyTNBU0rtxdJxcSzGqu4Zmqbue2a2+5WlpqVaKTIm5QjLCiBGK4kwWmp\n",
       "DWVBkxo2SxNps0Rkp8CJF2flaCJuhYYIAgMIw8ww+H9+c//OmQYwX5gZZub7OR26\n",
       "XGbm3uEZ7teHC5d+FwEA6AP68SkAABAkAAAIEgCAIAEAQJAAAAQJAACCBAAgSAAA\n",
       "ECQAAEECAIAgAQAIEgAABAkAQJAAACBIAACCBAAAQQIAECQAAAgSAIAgAQBAkAAA\n",
       "BAkAAIIEACBIAAAQJAAAQQIAgCABAAgSAAAECQBAkAAAIEgAAIIEAABBAvqkPXv2\n",
       "9DPj6ekZFxd35Xdvb29fs2ZNdnZ218cMDw/n0wsQJODqgjR9+vSEhASZTObh4SHe\n",
       "/frrr6/w7s3NzeL2ixcvJkgAQQJ6IUimePj7+4t39+3bl5aW5uXlNXDgwGnTph0+\n",
       "fFj6aNeVY8aMEbe/5ZZbFixYcPkgdfuAW7duFSsHDBggVpaWlop3x44de+TIEfGh\n",
       "FStWjBs3TiycOXNm9uzZ4jZiK4sWLWpra2PUQJAApw3SzJkzExMTIyMjPT09hw0b\n",
       "9sknn4iVc+bMeffdd3/5y1+KNWq1Oi8vr+vKzMxMsXLGjBkHDhy4TJC6vW9BQYFY\n",
       "+fDDD7/11lu33nrr6NGjX3/9dbGmsLBQ3OXxxx+/4YYbxMLatWvFyn/+858bNmwY\n",
       "NGjQjh07GDUQJMBpg3TzzTeLSPTv318sP/3002FhYWKhsrJS3EDUQiz/+9//7nbl\n",
       "FX7Lrtv7rl69WiycOHFCrCwpKdm7d298fHzXIKWkpIiVw4cPF9OjnTt3dnR0MGog\n",
       "SIDTBkmKh6jL5MmTxbvPPvuseHv69Gmxctu2bWJZ3CwwMLDryisMUrf3ffnll8XC\n",
       "mTNnxMrS0tKPP/5YCpI02fLz85OCJHz22WerVq0SUyvxUTFPYtRAkAAnD5Kwbt06\n",
       "8W5ERIR4u3z5coVCMWnSJDc3t7Nnz2ZnZ3ddeeHCBbHSx8cnPz/f4jF/9atfrbxE\n",
       "Ko3FfT/44ANppZgt3XHHHbNnz05LS5OmaFu3bv35z38uBem5554bPHhweXn5p59+\n",
       "Kj4aHBzMqIEgAU5IOl30yiuvSO9u375dvLtlyxaxRvoOnqen54cffih9tNuVc+fO\n",
       "FWumTp1q8ZjmMjIyur3v6tWrb7rpJhGeadOmFRcX19bWjh49WtzGw8NDzNWkIIkU\n",
       "3XfffdLjiIWKigpGDQQJcC1arfbMmTOdnZ0/uVKj0Yj11/aA7e3t58+fN71rMBi+\n",
       "//57ixNF4i7VRhb3BQgSAAAECQBAkAAAIEgAAIIEAABBAgAQpL5Ip9NlZmbKZLK4\n",
       "uDiLX8hISEiIMUpPT2fIAYAgWVd+fn5iYqJery8qKoqKijKtV6vVsbGx7UYiWgw5\n",
       "ABAk69q/f79KpZIKFBQUZFpfXl6enJysUChKS0u5+iQAECQbaW5uFvkx/zOdeXl5\n",
       "8fHx4m1qampSUpLF7V8CbO6BB/bySYBdECTbEdOg6OjogoKCbj9qMBhCQkKampos\n",
       "gmTHHWbrrrn1mBg++Wzd5bbuWkEqLCxMTExsbW01rdFqtVVVVXK5XEyPxLt1dXXB\n",
       "wcEWFxbj1cnWCRJbZ+sEqZclJSWFhYVFGsXHx4s1lZWVAQEBNTU1YtoUFxcnk8mU\n",
       "SiWvD7ZOkNg6WydIfVHfHyE4HxEkgMMdQSJIIEjgcEeQGCGAILm2xMREDncEiSCB\n",
       "IIEZEkFihACCBA53BIkggSABBIkRAggSfoRzSASJIIEgAQSJEQIIEjjcESSCBIIE\n",
       "ECRGCCBIsMQ5JIJEkECQAILECAEECRzuCBJBAkECCBIjBBAkWOIcEkEiSCBIAEFi\n",
       "hACCBA53BIkggSABBIkRAggSLHEOiSARJBAkgCAxQgBBAoc7gkSQQJAAgsQIAQQJ\n",
       "ljiHRJAIEggSQJAYIYAggcMdQZLodLrMzEyZTBYXF1dRUUGQQJBAkAiSfeTn5ycm\n",
       "Jur1+qKioqioKIIEggR74RySqwdp//79KpVKLKjV6qCgIIIEggRmSATJnpqbm5OT\n",
       "k7Ozs7uOkAmvVxAkOGWHHOUo5xJBUigU0dHRBQUFjvhPBhAkgBmSkygsLExMTGxt\n",
       "bXXQEQJBgtPgHJKrBykpKSksLCzSKD4+niCBIIEZEkFihACCBA53BIkggSCBwx1B\n",
       "YoQAgoSLnEMiSAQJBAkgSIwQQJDA4Y4gESQQJIAgMUIAQUJXnEMiSAQJBAkgSIwQ\n",
       "QJDA4Y4gESQQJIAgMUIAQYIlziERJIIEggQQJEYIIEjgcEeQCBIIEkCQGCGAIMES\n",
       "55AIEkECQQIIEiMEECRwuCNIBAkECSBIjBBAkGCJc0gEiSCBIAEEiRECCBI43BEk\n",
       "ggSCBBAkRgggSLDEOSSCRJBAkACCxAgBBAkc7ggSQQJBAgiS3SiVyqysLIuVCQkJ\n",
       "MUbp6ekECQQJ9sI5JFcJUmNjY1paWmBgYEZGhvl6tVodGxvbbqTT6QgSCBKYIREk\n",
       "69JoNCqVKjs72yJI5eXlycnJCoWitLS0o6Oj6wiZ8HoFQYJTdshRjnJO+C07iyDl\n",
       "5eXFx8eLt6mpqUlJScyQQJDADIkg2SdIJgaDISQkpKmpiSCBIMEuOIfkukHSarVV\n",
       "VVVyuVxMj8S7dXV1wcHBYiVBAkECMySCZNMgVVZWBgQE1NTUREdHx8XFyWQy8VGH\n",
       "GyEQJIAgMUIAQQKHO4LECIEgwelwDokgESQQJIAgMUIAQQKHO4JEkECQAILECAEE\n",
       "CZY4h0SQCBIIEkCQGCGAIIHDHUEiSCBIAEFihACCBEucQyJIBAkECSBIjBBAkMDh\n",
       "jiARJBAkgCAxQgBBgiXOIREkggSCBBAkRgggSOBwR5AIEggSQJAYIYAgwRLnkAgS\n",
       "QQJBAggSIwQQJHC4I0gECQQJIEiMEECQYIlzSASJIIEgAQSJEQIIEjjcESSCBIIE\n",
       "EKQ+R6lUZmVlESQQJNgR55BcPUiNjY1paWmBgYEZGRkECQQJzJAIkt1oNBqVSpWd\n",
       "nd1TkEx4vYIgwSk75ChHub4epJaWltzc3NTU1HfeeaegoKC+vv7aHkepVDJDAkEC\n",
       "MySCdC2+++47f39/d3f3u+++e/bs2XPnzh07dqybm9vChQsrKysJEggSHA7nkBwy\n",
       "SHV1dd7e3mLw1Gq1+fr29vb09PRJkyapVCqCBIIEECSrMxgMHR0dl7nB5T9KkECQ\n",
       "AILECAEECRzuHD9IDQ0N/+niaidDBAkECX0T55AcKUgnT570NlpqRqPRECQQJIAg\n",
       "2dqXX34ZGBjICIEgAQTJztrb20+dOnXR+O07RggECSBI9jdp0iRGCAQJzoRzSASJ\n",
       "IIEgAQTpOrzxxhuMEAgSQJD6EOnHvs+dO3fo0KFe/4k7ggSCBIJEkK7Inj17Bg8e\n",
       "XF9fP3LkyCFDhsycOZMggSDBQXEOybGDNGXKlPfee2/Xrl2TJ0/W6/X33HNPVVUV\n",
       "QQJBAgiSrXl5eYkCBQYGrl+/Xrzr4+PzzTffECQQJIAg2drixYv9/PwGDRpUVla2\n",
       "YcOGESNG6HQ6ggSCBBAkW1Or1Zs2bcrJyRHL0dHRR44ccbURAkGC0+AckqMGydvb\n",
       "e3h3mpqaCBIIEkCQbOfUqVMnTpwIDQ2dMWOGQqEoLy9/5ZVXJk2aZDAYCBIIEkCQ\n",
       "bO3+++8XKTK9O2bMGH7KDgQJIEh24Ofnt3fvXmm5vr5+6NChdXV1BAkECY6Ic0iO\n",
       "HaTt27e7u7s///zzQUFBd91118KFC11thECQAILUV3z11VcRERFhYWFyubx3TyAR\n",
       "JBAkECSCxAiBIAEc7hwqSA0NDUlJSWvWrHn1kt69vipBAkGCzXAOybGD9OSTT06c\n",
       "OFEmk0VeQpBAkACCZAdjx449evSoK48QCBJAkPqEZcuWpaWlESQQJIAg2VlISEi/\n",
       "fv0mTJgw/ZKWlpZub9nZ2blz506ZTBYTE3P8+HHzDyUkJMQYpaenEyQQJNgL55Ac\n",
       "O0iFhYU5Rnv27JEW9Hp9t7csLS1dv369RqMpKSmJiIgwrVer1bGxse1GXa8UTpBA\n",
       "kMAMiSBdETEfWrJkibu7+0033eTn53eZq33L5fLc3FxpOTw8vL6+XlouLy9PTk5W\n",
       "KBSiWNJfQydIIEggSATpqq1atWrWrFnFxcWnTp2KjIy86667Ojs7u71lenq6qM6l\n",
       "L/gY0yXv8vLy4uPjxdvU1NSkpKSuI2TC6xUECU7ZIUc5yjnAxVXNTwiNHTtWlKnb\n",
       "W+7YsUNUR1oW6aqurra4gcFgCAkJsfjrFXQIBAk2wzkkxw7SQw899K9//UtaPn/+\n",
       "/NChQxsbG7u9pahRSkqKWBApCg4O1ul0Wq1WzJPkcrkUqrq6OrFerCRIIEhwzakS\n",
       "Qbouu3fvHjBgwKJFi1auXDlq1KilS5f2dEtRms2bN8tkstDQUOl7d5WVlQEBATU1\n",
       "NdHR0XFxceJDSqXS4UYIBAkgSH1FSUlJVFTU6tWrxVynpxNITjxCIEgAQeoT2tvb\n",
       "X3vttW+//VZMdLZs2XLhwgWCBIIEB8U5JMcO0qpVq3x8fKqrq9Vq9bx58x5++GGC\n",
       "BIIEECQ7GDduXFlZmbRsMBjuuOOO2tpaggSCBBAkW5s+ffru3bul5ebmZk9PT4IE\n",
       "ggQQJDvIzs52d3dfsmRJaGiol5fXn/70J1cbIRAkOA3OITl2kITi4uKoqKiQkJDM\n",
       "zMyeLmRHkECQAIJkdVlZWX/84x+3bduWkpJicZ0FggSCBBAkG3njjTfGjh07b968\n",
       "9evXh4eH+/r6EiQQJIAg2cHkyZNLSkoSExNFkMS7o0eP/uGHHwgSCBIcEeeQHDtI\n",
       "06dPP3jwoBSklpYWT09P09+VIEggSABBsp1PPvlk2LBhvr6+fn5+Pj4+zz33nKuN\n",
       "EAgSQJD6itLS0ujo6OXLl7/22mttbW0ECQQJIEh2sGfPnsGDB9fX148cOXLIkCEz\n",
       "Z84kSCBIcFCcQ3LsIE2ZMuW9997btWvX5MmT9Xr9PffcY/pTsAQJBAkgSLbj5eUl\n",
       "ChQYGCj9lJ2Pj88333xDkECQAIJka4sXL/bz8xs0aFBZWdmGDRtGjBih0+kIEggS\n",
       "QJBsx2AwiLdqtXrTpk05OTliOTo6+siRI+YfJUggSHAgnENyyCDV1dVNmDDhrbfe\n",
       "am1tNV+v1WozMjImTZpk+psUBAkECSBI1nXmzJnly5ffcsst3t7ejz322B/+8If7\n",
       "77/f3d19/vz5paWlrjNCIEgAQeoTGhoaCgoK3nnnnTfeeEMul9fU1LjaCIEgAQSJ\n",
       "EQIIEnoT55AIEkECQQIIEiMEECRwuHOaIHV0dIi3586dO3TokEajIUggSABBsgNn\n",
       "vZbdwcrGbpdBkOCUvq3/v39MS+eQ7PUlT5Cu1/Vfy66zs3Pnzp0ymSwmJub48eN9\n",
       "ZIRm/b1UelGKt3dv+JIvV4IE5ya+zKUm2fFLniBdr+u/ll1paam4r0ajKSkpiYiI\n",
       "6CMjJF6aokkx//6feGkyQyJIcIUZkvhi/6ey2o5f8gTpel3/tezkcnlubq60HB4e\n",
       "bv4HZ1/6sW6HzXrL4qXZL6Yf/7ngfzEHxf8u8p9r/ie+8G15nLE40BGk69LTteyu\n",
       "XHp6ukKhuPQv0xiL7/jZ8RyS9M8l0/fu4EIzpINMkVyO9CX/l3Xv2vFLniBdu9mz\n",
       "Z+/bt2/p0qU+P9bc3HxVj7Njx468vDxpOTIysrq6ui+MkGnaLn3vji9XggTn1he+\n",
       "5AnStSssLKytrVWpVAU/ptfrr+pxRI1SUlLEgkhRcHCwxXf8+sJP2UmnOkGQ4Nwz\n",
       "JLt/yROk63X48GHzd1NTUy9cuHBVj6DVajdv3iyTyUJDQ03fu3OgEQJBAghSn/DY\n",
       "Y48tWrSopaWlrq5u/vz5I0aMsPiDFE4/QiBIcBpcy86xg9TY2LhgwYL77rtv5MiR\n",
       "zzzzzPnz511thECQAILUJ3R2dr755ps333zzoEGDUlNTxbsECQQJIEh28MILL9x7\n",
       "771KpbKsrMzb2/u3v/2tVqslSCBIAEGytbfeequpqUlabmtrW7BggflvthIkECQ4\n",
       "EM4hOXaQJC0tLWlpaVOnTu3Xr59arSZIIEgAQbK1wsJCf39/d3d3Dw+PdevWVVRU\n",
       "uNoIgSABBMnO/v73v0+YMGHo0KHikxgZGTlv3jzXHCEQJIAg2dmwYcPGjx//9ddf\n",
       "XzT+VaTHH3+cIIEgwaFxDslRg1ReXh4aGurh4TFx4sQnn3ySIIEgAQTJnrRarVwu\n",
       "nzNnTv/+/X//+9+LZYPBQJBAkACCZDfffvvtunXrRo0axU/ZgSABBMn+end6RJBA\n",
       "kGBLnENyqiC54AiBIAEEqU/YtWvX999/T5BAkACCZGdr1651d3d/9NFHP/jgg/b2\n",
       "doIEggQQJLu5cOFCVlbW/PnzR44cGRQUVFZWRpBAkOCIOIfk8EESampqkpOTvb29\n",
       "77333lGjRs2dO/dq/24sQQJBAjMkgnRd9uzZ87vf/W7gwIFPPfXU559/3tnZqdfr\n",
       "Z8yYsXv3boIEggQQJNtZtmzZpk2bzp07Z77y4MGDP/zwA0ECQQIIku0sWrToP//5\n",
       "jyuPEAgSnAbnkBw7SFFRUQsXLuzo6CBIIEgAQbJzkAYMGHD77bfPmjXrEaOWlhaC\n",
       "BIIEECRby8/P/9eP6XQ6ggSCBBAkW9Pr9QqFItcoJydn+vTpp0+fJkggSHBEnENy\n",
       "7CCtWLFi+PDhbm5u48eP9/Dw8PX1bWtr6/aWnZ2dO3fulMlkMTExx48fN/9QQkJC\n",
       "jFF6ejpBAkECMySCdC28vLyOHTsWGxsrWnL27NkxY8b09AMOpaWl69ev12g0JSUl\n",
       "ERERpvVqtVrcvd2o67f7CBIIEggSQboiPj4+RUVFe/fuDQ0NFe9Onjy5oqKi21vK\n",
       "5fLc3FxpOTw8vL6+XlouLy9PTk5WKBSiWF1j9pIZXq8gSHDKDjnKUa6vB2njxo1D\n",
       "hgxRqVSenp7+/v5ubm4NDQ2mj2q12gtGYuojplCiOv//Cz4mpqqqSlrOy8uLj48X\n",
       "b1NTU5OSkpghgSDBXjiH5NhBumi8LkNTU9MXX3wRHBxsmgOZYrPZqLi4eMeOHeJd\n",
       "aX1kZGR1dbXF4xgMhpCQEPFQBAkECa45VSJI10XMh8S0Zs2aNa9eotFour2lqFFK\n",
       "SopYECkS6RIL0iRJLpdLoaqrqxPrxaSKIIEggSARpKv25JNPTpw4USaTRV7SU5BE\n",
       "acRUSdwyNDRUoVBUVlYGBARcNF4pPDo6Oi4uTnxIqVQ63AiBIAEEqU8YO3bs0aNH\n",
       "XXmEQJDgNDiH5NhBWrZsWVpaGkECQQIIkp2FhIT069dvwoQJ0y/hWnYgSABBsoPC\n",
       "wsKcH9Pr9QQJBAkgSIwQQJBwjTiH5KhBmj179r59+5YuXerzY83NzQQJBAkgSLZT\n",
       "WFhYW1urUqkKfoxv2YEgAQTJDlavXv1bM4888sj69et7upwdQQJBAgiStaxbt87L\n",
       "y+vtt9/etm3bgw8+OGfOHGkNQQJBgsPhHJJjB+mBBx4oKyuTltvb2z09Pdva2l54\n",
       "4YXCwkKCBIIEECTbEbOiTz/9VFpuaGgYPHhwa2vrokWLdu/eTZBAkACCZDsffPCB\n",
       "iJC/v39QUNBdd90l5kbZ2dm33XabWq0mSCBIAEGyKaVSGRERERIS8v777xsMhm++\n",
       "+eb06dOuM0IgSHAanENy7CDp9XqFQpFrlJOTM3369F6sEUECQQIzJIJ0pVasWDF8\n",
       "+HA3N7fx48d7eHj4+vq2tbURJBAkgCDZmpeX17Fjx2JjY9PT08+ePTtmzJiOjg6C\n",
       "BIIEECRb8/HxKSoq2rt3b2hoqHh38uTJvfhbsQQJBAm2xDkkxw7Sxo0bhwwZolKp\n",
       "PD09/f393dzcGhoaCBIIEkCQ7ODgwYNNTU1ffPFFcHBwbm6uq40QCBJAkPqEvLy8\n",
       "mTNnTjLD1b5BkACCZAe+vr5r1qw5cOBA3iVc7RsECQ6Kc0iOHSQxJTJdy841RwgE\n",
       "CSBIfUJGRsaDDz4ol8tzL2GGBIIEECT7fAaHDh06derUaZe0tLQQJBAkgCDZmre3\n",
       "93//+19XHiEQJDgNziE5dpCWLl26ffv2638cpVKZlZVFkECQwAyJIF2jVatW9evX\n",
       "z9fXd/olV/stu8bGxrS0tMDAwIyMDIIEggSCRJCuUWFhYc6PXe0PNWg0GpVKlZ2d\n",
       "TZBAkECQCNK1aGhoON+dzs7On7yvVqu9YKTT6aQ1SqWypyCZ8HoFQYJV2eUckgMd\n",
       "5fpukIYNG9avO42NjT9537y8vM1GxcXFPxkkvkhAkMAMiSBdTm1tbXV3rmSG1BVB\n",
       "AkECQSJIfQJBAkECQSJIjBBAkPB/+D0kgkSQQJAAgsQIAQQJHO4IEkECQQIIEiME\n",
       "ECRY4hwSQSJIIEgAQWKEAIIEDncEiSCBIAEEiRECCBIscQ6JIBEkECSAIDFCAEEC\n",
       "hzuCRJBAkACCxAgBBAmWOIdEkAgSCBJAkBghgCCBwx1BIkggSABBYoQAggRLnEMi\n",
       "SAQJBAkgSIwQQJDA4Y4gESQQJIAgMUIAQYIlziERJIIEggQQJEYIIEjgcEeQCBII\n",
       "EkCQGCGAIMES55BcK0hKpTIrK8tiZUJCQoxReno6QQJBAv/+JkjW1djYmJaWFhgY\n",
       "mJGRYb5erVbHxsa2G+l0OoIEggSCRJCsS6PRqFSq7OxsiyCVl5cnJycrFIrS0tKO\n",
       "jg6CBIIEgkSQep9Wq71gZJr6KJVKiyDl5eXFx8eLt6mpqUlJSV1HyITXKwgSrMou\n",
       "55Ac6Cjn2EESmdlsVFxc3FOQTAwGQ0hISFNTEzMkECQwQyJIVmcKkpg8VVVViQW5\n",
       "XC66JRbq6uqCg4PFeoIEggSCRJBsF6TKysqAgACxUFNTEx0dHRcXJ5PJxEcdboRA\n",
       "kACCxAgBBAm9id9DIkgECQQJIEiMEECQwOGOIBEkECSAIDFCAEGCJc4hESSCBIIE\n",
       "ECRGCCBI4HBHkAgSCBJAkBghgCDBEueQCBJBAkECCBIjBBAkcLgjSAQJBAkgSIwQ\n",
       "QJBgiXNIBIkggSABBIkRAggSONwRJIIEggQQJEYIIEiwxDkkgkSQQJAAgsQIAQQJ\n",
       "HO4IEkECQQIIEiMEECRY4hwSQSJIIEgAQWKEAIIEDncEiSCBIAEEiRECCBIscQ6J\n",
       "IBEkECSAIPUBOp0uMzNTJpPFxcVVVFQQJBAkECSCZB/5+flimqzX64uKiqKioggS\n",
       "CBIIEkGyj/3796tUKrGgVquDgoK6jpAJr1cQJFiVXc4hOdBRzjmDpNVqLxjpdDpp\n",
       "TXNzc3JycnZ2NjMkECQwQyJItpOXl7fZqLi4WLyrUCiio6MLCgoccYRAkACC5CQK\n",
       "CwvFNLm1tdVBRwgECSBITiIpKSksLCzSKD4+niCBIMFe+D0kVw+So48QCBJAkBgh\n",
       "gCCBwx1BYoRAkACCxAgBBAnWwDkkgkSQQJAAgsQIAQQJHO4IEkECQQIIEiMEECRY\n",
       "4hwSQSJIIEgAQWKEAIIEDncEiSCBIAEEiRECCBIscQ6JIBEkECSAIDFCAEEChzuC\n",
       "RJBAkACCxAgBBAmWOIdEkAgSCBJAkBghgCCBwx1BIkggSABBYoQAggRLnEMiSAQJ\n",
       "BAkgSIwQQJDA4Y4gESQQJIAgMUIAQYIlziERpL47QmzdNbcugsQnn60TJGcOkk6n\n",
       "y8zMlMlkcXFxFRUV5h9KSEiIMUpPT+f1wdYJEltn6wTJuvLz88V0WK/XFxUVRUVF\n",
       "mdar1erY2Nh2IxEtXh9snSCxdbZOkKxr//79KpVKKlBQUJBpfXl5eXJyskKhKC0t\n",
       "7ejo6DpCgI09EP4AnwTYBUGyIq1We8HINPVpbm4W+cnOzjbdJi8vLz4+XrxNTU1N\n",
       "Skq6CAAgSL1OZGazUXFxsXhXTIOio6MLCgq6vbHBYAgJCWlqamLUAYAgWVFhYWFi\n",
       "YmJra6tp8lRVVSUW5HK56JZYqKurCw4OFusZdQAgSFaUlJQUFhYWaRQfH19ZWRkQ\n",
       "ECDW19TUiGlTXFycTCZTKpUMOQAQJAAACBIAgCABAECQuqfT6eLi4k6ePGm+8jIX\n",
       "dLDxnlhvW1u3bl2zZo3Y4qlTp+z73C+zM9bb4jVcy8PGe2JVSqUyKyvLYqVdXvbd\n",
       "7on1dHZ27ty5U3zCxdM8fvy4XZ7+ZfbBiZ81QboiYpyCg4NPnDhhWnP5CzrYck+s\n",
       "59ChQykpKR0dHfv27TO/yKNdnntPO2M913YtD1vuifU0NjampaUFBgZmZGSYr7f9\n",
       "c+9pT6yqtLR0/fr1Go2mpKQkIiLCLk+/p31w7mdNkH7akSNH/vGPf7zzzjvmGbj8\n",
       "BR1suSdWfYFKcxHx79MtW7bY97n3tDPWc23X8rDlnliPOCqJLWZnZ1tkwPbPvac9\n",
       "sSq5XJ6bmysth4eH19fX2/7p97QPzv2sCVI3zC/oIA4BGzZsaG1ttciAbS7ocCV7\n",
       "Yr0tSmtEAleuXHn48GEbP/cr3Blrb9Fe1/K4kj2x9hZF+y0yYK/n3nVPrLrR9PR0\n",
       "cfyV1sfExEi/oXjRtpdx6WkfbL/FvnzxGpcIkvkFHcQRMDMz88svv9y4ceNHH33U\n",
       "0tJicWOrXtDhqvak17dYV1cn/V7wuXPnxHMUE3ZbPver3Zle3+JFu17L46r2xBpb\n",
       "vHwGbPncbRMk843u2LFD+u14ITIysrq62savfOEn98H2W+yDF69xuW/ZlZWV5RvF\n",
       "xcVJ/zi11wUdLPZE/HvZ2ltMS0vbu3evWBAvQek7RXa8mIXFzpgusWE9fedaHhZ7\n",
       "YjOmDNj9OiY2CJJFnFJSUsSCOCiLp2mXV77FPtjg5E3XLUrj3pcvXuO6P/YtJigV\n",
       "FRV94YIO0p7YYEPidRll9Oqrrx44cMC+z91iZ2ywxb5zLQ+LPbF9kOz+srdxkMQx\n",
       "V0yVxHMMDQ0Vc1O7PH2LfbD9szaNe1++eA2/h/QjFy5c6OzsdPrnKKbqfeS597Qz\n",
       "DD3PvdeJKWm35/Bt+fR72gfnftYECQDgYAgSAIAgAQBAkACUlZU1NjbyeQBBAmA3\n",
       "zc3NOTk5d95555EjR/hsgCABsJsTJ06sXbt23LhxBAkECXBFtrnM85V76qmnpCC1\n",
       "t7fb5prrAEGCaykuLu53Sf/+/R999NEr/FXEPXv2zJgxo+v6zz//XDzU22+/fbV3\n",
       "NFdaWvqTt+kVhw8fFlOfbj8UGxs7yUi6VpMpSDqdbsyYMadPn+bFA4IE9Kavv/56\n",
       "wIABnUbSFbX9/PyuJ0jPPPPMlClTfH19e7rj+fPnS0pKLv/gc+fO3b17t22CJOpy\n",
       "VTOki8a/kfPyyy/z4gFBAno/SKZ3Dxw4MHz4cGl58+bNd9xxx4gRI/76179qtdrn\n",
       "n3/+lltucXNze/rppzs6OroNUn19vbhBZWWlu7u7dPiOiYmZP3++wWAQK729vY8e\n",
       "PfrFF18sWLDg1KlTU6dOFZu+8847d+7caf4gFRUVYqMikF1vY75LpnnM7bffLjYn\n",
       "QtjW1ibVYtSoUbfeeqvYSkNDg9jPhQsXzpw58+abbxY7LNaIRxZ3v+2228Rt/vzn\n",
       "P0tBusz+mIIk/SEMqaniaVrpKrcAQYLrBunGG2/8h1FiYuK4cePWrFkj1u/bt8/L\n",
       "y+u7776rqqoaP358SEjIPffcc+7cudraWnEcF7HpNkjJycmPPvqoWFiyZMmqVasu\n",
       "Gn9ETTzO3/72NzHxWrdunWlq9eqrrz7xxBMibB9//LGPj4/5g+zatUt6ZIvbWOyS\n",
       "XC4XsygRJxG56upqcQOx/+LBPTw8ysrKRHjmzJnz4osv7tixo3///ocOHRIVmTBh\n",
       "wrvvvpudnT1y5Mhjx47V1dXNmjVLCtJl9qdbYiviMXn9gCABvRmkn/3sZy8aiUnG\n",
       "kCFDpPnBihUrfH19XzGaNm3a4sWLxVFeRGv58uUiYF999VW3QZo4caKYSYibLV26\n",
       "dOjQoRqNxtS83/zmN9KFwqQ7ircDBw589tlnRSFEKswfZMOGDc8995x0S/PbWOyS\n",
       "uI1YI5alezUZvfzyy6tXr5bWFBQUiFyJIM2ePVtaI26/cePGl156SeRHWvPZZ59J\n",
       "QbrM/nRL7Ml7773H6wcECejNIJl/y27Lli3SOaRly5Y99thjb10SHh5+++23b9q0\n",
       "KTc39+677+42SEql0t3d/cVLPD09pbaJmY1YLyYl0oHedMeTJ0+++eabDz300LBh\n",
       "w8SExvQ4YiIlwiAtm99GFMh8l3Jycl544QVp1iWcPn26srJS7PbatWtN+/OLX/xC\n",
       "BGnevHnmQfL394+MjJTWiFmO6RxST/vTrV//+tcffvghrx8QJMBaQcrLyxO9EQvb\n",
       "t2+fNGmSmHMYDIa//OUvYn4TFhZ20fhHncXtFQpF1yAFBASIDpneFXMXMTWpra29\n",
       "7bbb9u7dK2ZOTzzxhClIog0xMTEXjd/T69+//9GjR0133LZtm5gASf0wv41oifku\n",
       "bd269e233/b29hZrWltbRSHef//9jIwMsf/nzp0TtxEBE1vsGiRxm9GjR4s6dnZ2\n",
       "ikmhFKTL7E+3RLSOHTvG6wcECbBWkMRB9sYbb/zhhx86OjpEXW699VaRk/nz53/0\n",
       "0UeDBg269957RRKmTp368MMPf/LJJzNnzjTdUaPRDB48OD8/37RGpVLdcMMNjzzy\n",
       "yJIlS8S7okziIC4qIt2xpKRk1KhRIh4eHh4LFy40/8sa//vf/8TsSuyAxW10Op35\n",
       "Lkl/Re3pp58eMmTI8OHDFy1a1GH00ksvSWumTJny3XffiSA9/vjj0iOvXLny9ddf\n",
       "1+v10g9oiNuINEpBusz+dCViNnDgQPE4vH5AkAAbEZkx/cF4sVxXV3fR+Is4vfJH\n",
       "e8VB/+zZs93+Qfo5c+bI5fJub2O+SxIxPZJ+vs6kvb39J687J+5l8TiX2R8LYpoV\n",
       "Hh7OywMECXB+RUVF0nft+iAxLRs3btyV/OADQJAAZ3Dy5Mm+uWN6vf77779ngECQ\n",
       "AAAgSAAAggQAAEECABAkAAAIEgCAIAEAQJAAAAQJAACCBAAgSAAAECQAAEECAOCq\n",
       "/T+xX48SNAE7DwAAAABJRU5ErkJggg==\" style=\"clip-path:url(#clipPath1);\" height=\"420\" preserveAspectRatio=\"none\"\n",
       "    /></g\n",
       "  ></g\n",
       "></svg\n",
       ">\n"
      ]
     },
     "metadata": {},
     "output_type": "display_data"
    }
   ],
   "source": [
    "GH = series(G,H);\n",
    "rlocus(GH)"
   ]
  },
  {
   "cell_type": "markdown",
   "metadata": {
    "slideshow": {
     "slide_type": "subslide"
    }
   },
   "source": [
    "In common with previous examples, we chose closed-loop poles at $s=-2\\pm \n",
    "j2$ and determine $K_0$:"
   ]
  },
  {
   "cell_type": "code",
   "execution_count": 4,
   "metadata": {
    "slideshow": {
     "slide_type": "fragment"
    }
   },
   "outputs": [
    {
     "name": "stdout",
     "output_type": "stream",
     "text": [
      "K0 =\n",
      "     8\n"
     ]
    }
   ],
   "source": [
    "s1 = -2+2j;\n",
    "K0 = rlocfind(GH,s1)"
   ]
  },
  {
   "cell_type": "markdown",
   "metadata": {
    "slideshow": {
     "slide_type": "subslide"
    }
   },
   "source": [
    "As an aside, we calculate the step response for comparison later:"
   ]
  },
  {
   "cell_type": "code",
   "execution_count": 5,
   "metadata": {
    "slideshow": {
     "slide_type": "fragment"
    }
   },
   "outputs": [],
   "source": [
    "Gc1 = feedback(K0*G,H);\n",
    "[y1,t1]=step(Gc1,10);"
   ]
  },
  {
   "cell_type": "markdown",
   "metadata": {
    "slideshow": {
     "slide_type": "subslide"
    }
   },
   "source": [
    "The system is type 1 so that the static velocity error\n",
    "\n",
    "$$K_v = \\left.sG(s)H(s)\\right|_{s=0}=\\left.s\\frac{K_0}{s(s+4)}\\right|_{s=0} \n",
    "=\\frac{K_0}{4}=2.$$\n",
    "\n",
    "We would, for the purposes of illustration, like to increase the static \n",
    "velocity error to 10 which will make the steady-state velocity error equal to \n",
    "10%.\n",
    "\n",
    "Thus we need $K = 40$."
   ]
  },
  {
   "cell_type": "code",
   "execution_count": 6,
   "metadata": {
    "slideshow": {
     "slide_type": "subslide"
    }
   },
   "outputs": [
    {
     "name": "stdout",
     "output_type": "stream",
     "text": [
      "Kc =\n",
      "    0.2000\n"
     ]
    }
   ],
   "source": [
    "K=40;\n",
    "Kc = K0/K"
   ]
  },
  {
   "cell_type": "markdown",
   "metadata": {
    "slideshow": {
     "slide_type": "subslide"
    }
   },
   "source": [
    "Now "
   ]
  },
  {
   "cell_type": "code",
   "execution_count": 7,
   "metadata": {
    "slideshow": {
     "slide_type": "fragment"
    }
   },
   "outputs": [
    {
     "name": "stdout",
     "output_type": "stream",
     "text": [
      "ans =\n",
      "    2.8284\n"
     ]
    }
   ],
   "source": [
    "abs(s1)"
   ]
  },
  {
   "cell_type": "markdown",
   "metadata": {
    "slideshow": {
     "slide_type": "fragment"
    }
   },
   "source": [
    "so let the zero be"
   ]
  },
  {
   "cell_type": "code",
   "execution_count": 8,
   "metadata": {
    "slideshow": {
     "slide_type": "fragment"
    }
   },
   "outputs": [
    {
     "name": "stdout",
     "output_type": "stream",
     "text": [
      "z0 =\n",
      "   -0.3000\n"
     ]
    }
   ],
   "source": [
    "z0 = -3/10"
   ]
  },
  {
   "cell_type": "markdown",
   "metadata": {
    "slideshow": {
     "slide_type": "subslide"
    }
   },
   "source": [
    "and"
   ]
  },
  {
   "cell_type": "code",
   "execution_count": 9,
   "metadata": {
    "slideshow": {
     "slide_type": "fragment"
    }
   },
   "outputs": [
    {
     "name": "stdout",
     "output_type": "stream",
     "text": [
      "p0 =\n",
      "   -0.0600\n"
     ]
    }
   ],
   "source": [
    "p0 = Kc*z0"
   ]
  },
  {
   "cell_type": "markdown",
   "metadata": {
    "slideshow": {
     "slide_type": "subslide"
    }
   },
   "source": [
    "so"
   ]
  },
  {
   "cell_type": "code",
   "execution_count": 10,
   "metadata": {
    "slideshow": {
     "slide_type": "fragment"
    }
   },
   "outputs": [
    {
     "name": "stdout",
     "output_type": "stream",
     "text": [
      "\n",
      "Dlag =\n",
      " \n",
      "  0.2 (s+0.3)\n",
      "  -----------\n",
      "   (s+0.06)\n",
      " \n",
      "Continuous-time zero/pole/gain model.\n",
      "\n"
     ]
    }
   ],
   "source": [
    "Dlag = zpk([z0],[p0],Kc)"
   ]
  },
  {
   "cell_type": "markdown",
   "metadata": {
    "slideshow": {
     "slide_type": "subslide"
    }
   },
   "source": [
    "Let us see how we have done."
   ]
  },
  {
   "cell_type": "code",
   "execution_count": 11,
   "metadata": {
    "slideshow": {
     "slide_type": "subslide"
    }
   },
   "outputs": [
    {
     "name": "stdout",
     "output_type": "stream",
     "text": [
      "\n",
      "Go2 =\n",
      " \n",
      "    0.2 (s+0.3)\n",
      "  ----------------\n",
      "  s (s+0.06) (s+4)\n",
      " \n",
      "Continuous-time zero/pole/gain model.\n",
      "\n"
     ]
    }
   ],
   "source": [
    "Go2 = Dlag*GH"
   ]
  },
  {
   "cell_type": "code",
   "execution_count": 12,
   "metadata": {
    "slideshow": {
     "slide_type": "subslide"
    }
   },
   "outputs": [
    {
     "name": "stdout",
     "output_type": "stream",
     "text": [
      "poles =\n",
      "  -1.8576 + 1.8730i\n",
      "  -1.8576 - 1.8730i\n",
      "  -0.3449 + 0.0000i\n"
     ]
    }
   ],
   "source": [
    "[poles] = rlocus(Go2,K)"
   ]
  },
  {
   "cell_type": "code",
   "execution_count": 13,
   "metadata": {
    "slideshow": {
     "slide_type": "subslide"
    }
   },
   "outputs": [
    {
     "data": {
      "image/svg+xml": [
       "<?xml version=\"1.0\"?>\n",
       "<!DOCTYPE svg PUBLIC '-//W3C//DTD SVG 1.0//EN'\n",
       "          'http://www.w3.org/TR/2001/REC-SVG-20010904/DTD/svg10.dtd'>\n",
       "<svg xmlns:xlink=\"http://www.w3.org/1999/xlink\" style=\"fill-opacity:1; color-rendering:auto; color-interpolation:auto; text-rendering:auto; stroke:black; stroke-linecap:square; stroke-miterlimit:10; shape-rendering:auto; stroke-opacity:1; fill:black; stroke-dasharray:none; font-weight:normal; stroke-width:1; font-family:'Dialog'; font-style:normal; stroke-linejoin:miter; font-size:12px; stroke-dashoffset:0; image-rendering:auto;\" width=\"560\" height=\"420\" xmlns=\"http://www.w3.org/2000/svg\"\n",
       "><!--Generated by the Batik Graphics2D SVG Generator--><defs id=\"genericDefs\"\n",
       "  /><g\n",
       "  ><defs id=\"defs1\"\n",
       "    ><clipPath clipPathUnits=\"userSpaceOnUse\" id=\"clipPath1\"\n",
       "      ><path d=\"M0 0 L560 0 L560 420 L0 420 L0 0 Z\"\n",
       "      /></clipPath\n",
       "    ></defs\n",
       "    ><g style=\"fill:white; stroke:white;\"\n",
       "    ><rect x=\"0\" y=\"0\" width=\"560\" style=\"clip-path:url(#clipPath1); stroke:none;\" height=\"420\"\n",
       "    /></g\n",
       "    ><g\n",
       "    ><image x=\"0\" y=\"0\" width=\"560\" xlink:href=\"data:image/png;base64,iVBORw0KGgoAAAANSUhEUgAAAjAAAAGkCAIAAACgjIjwAAAp7klEQVR42u3dC1hU\n",
       "Zf7Acbr45AVviaaVKxqpmLirsWqZOVrmVka1a1lqyno3FEhShBWZRE1XC3VbrFDA\n",
       "TAs2S1OpNgV1KZQEZOXRVFxK84rcRLmD/5+cv/OMM4DA3Ge+n4fHZzgMM2fOO5yv\n",
       "75zh4HQdAAAr4MQmAAAQJAAACBIAgCABAECQAAAECQAAggQAIEgAABAkAABBAgCA\n",
       "IAEACBIAAAQJAECQAAAgSAAAggQAAEECABAkAAAIEgCAIAEAQJAAAAQJAACCBAAg\n",
       "SAAAECQAAEECAIAgAQAIEgAABAkAQJAAACBIAACCBAAAQQIabPv27U5OTgEBAfb9\n",
       "MEtLS+fPnx8XF3fba4aFhckGOXToUBO+qmPt2rVy5d27d/M0A0ECCNL/u3LlijzM\n",
       "CRMmmDNImZmZERERZ8+e5WkGggQ0JUglJSVTp05t3759s2bN+vbtm5SUVFVVJVe4\n",
       "9957XV1dx40b16tXr99++037RtavX+/m5ta8efPHHnssLS1NlkRGRsqSFi1ayJKD\n",
       "Bw/Kkk2bNsk3zpw508XFpVu3blFRUY8++qhc4eWXXy4vL5fry1cnTZrUtm1b+cbP\n",
       "P/9cueXVq1d3795dFr7yyiv5+fnK1ebMmSMrI7ezefNmuY6szPDhw+XeW7duPX78\n",
       "+OLiYv2H0LNnT3mYcoWxY8fq32xlZeXcuXM7dOggC59++mmd5NT1VZ0b0V8N5SH/\n",
       "+OOP+htw5cqV+g8EIEggSLcEad26dbJk/vz58fHxd95553PPPSd5kCVeXl7y//12\n",
       "7drJ5ezsbM319+/fL0tGjBjxwQcfyFcfeuihhIQEWTJy5MiPP/74d7/7XceOHQsK\n",
       "CpTXrwYOHLh06VK5Wbm8cOHCp556Si7s2LHj3XfflQuenp6SHImHhOT06dNffPGF\n",
       "LJw+ffqKFStkyeuvv65crV+/fvK9suvv2rWrrMCCBQtkYXR09JIlS1q1aiUZ0H8I\n",
       "GzdulCVDhw7ds2eP/s3GxMTIkhdffFG+UcKjE6Rav6p/I/qroXnJTn8DyrrpPxCA\n",
       "IIEg3RIkma98++23sp+Vnax86YknnpgxY4ZckELIV319fXWCJLMHWXL8+HG5nJqa\n",
       "KnXx9/eXJVlZWbJEKiWX5QaVvbPcnSyUGVKPHj3kwldffSULJUJKaaQWsnDLli1y\n",
       "WRLy2muvyQWZ68h+X0ogO27lasqhIKnLXXfddf3moZpOnTrJvESmGjKh0X8I2i/Z\n",
       "6d+szFpkyeXLl+WrQUFBOkGq9av6N6K/Gpog6W9AJUg6DwQgSCBItwRp1apVsmT0\n",
       "6NHh4eEtWrSQvbmPj48sOXbsmHx12rRpOkGaOXOmLFFexEtLS5PGzJo1S5acOXNG\n",
       "lmzYsEHpkPYRfplF9e3bVy5IvbSD9MMPP2hW6aOPPnrppZfkguQt6CaZXcmS5ORk\n",
       "udoLL7xwxx13KOvw3XffzZ49W2Zj8lWZoOg/BO0g6d/s2LFjZYlcR76qVqt1gqS0\n",
       "R+er+jdSUVGhsxqah6y/AZUg6T8QgCDB0YP0hz/84c2bRowYIUtOnDjx/fffy4Uh\n",
       "Q4ZoX0d5tU07SMrrUbKflUnJAw88MHz4cPmPv7IkKSmpf//+LVu2PH/+fEOCJLtm\n",
       "+RaVSiWXMzIy1qxZIxfmzZsnM6fHH39cZirK1XT242+88UabNm0yMzO/+eYb+apM\n",
       "QcaMGaPzEK5evSoXPDw89u7dq3+zyjROOipf7d69u06Qav2q/o3or4bmIetvQIIE\n",
       "ggTo+vrrr51uJXtSmVXIhW7durm4uLi5uSkvi8lu9/nnn3/11VflS7/++qv2jcyd\n",
       "O/fuu++Wvepjjz2m7MrffvvtZs2ayTXlFr744gtZ8o9//EPzopzcpnaQ1q9fr5Rm\n",
       "0KBB8q/cVGhoqPLi4aRJk2QPLrfcr18/qaB2kLy8vJT9uDTg4YcfVlZeLkiHZJam\n",
       "/xBGjRql3IX+zZaUlMiMRz6VhZ6ennK11NRUzaOr9av6N6K/GtoPWWcDBgYG6j8Q\n",
       "gCABumQ+8dtvv1VXVyufxsfHy//uV61adezYsd///vft2rUrKyvT+ZbS0lLlKIuG\n",
       "XEf7RuqnKU1ubm5xcbH2l+RTnVvWJ/dyrobm7nQegiYtmjXXv9m8vDz5rrruotav\n",
       "6tyI/mo0fAMCBAm4vaKioueee075v3/nzp2VNyYY1/Lly2W2ceDAATYgQJCA25Cp\n",
       "wMWLF9kObEAQJAAACBIAgCABAECQAAAEyWqkpKRs2bJFZ+Hy5cvVNaKiohhyACBI\n",
       "pqWcXNnHxycmJkZ7eUFBweLFi0trlJeXM+QAQJBMq6SkJCMjIy4uTidImZmZa9as\n",
       "SUpKSktLq6ysZMgBgCCZQ0pKik6QEhISli5dKv9GRESEh4frXH86YK1ah7RmI8C4\n",
       "CJKFg6RRVVXl5+dXWFioEyQLri337pj33sAVcF3tysbn3u3pae/QQSorKzt9+nRs\n",
       "bKxMj+TTnJwcX19fnbNy8ezk3gkSQ8+9EySTBykrK2vGjBkXLlwICQkJCwsLDAyU\n",
       "r/L84N4JEkPPvRMka2T9IwSHZboggd0dQWKEAIIEdncEiSCBIMHSVq1axe6OIBEk\n",
       "ECQwQyJIjBDQJKoYFRsBBIkRAggS2N0RJEYIIEh2imNIBIkggSABBIkRAggS2N0R\n",
       "JIIEggQQJEYIIEjQxTEkgkSQQJAAgsQIAQQJ7O4IEkECQQIIEiMEGMp7mzcbwc5w\n",
       "DIkgESTYapCi06PZDiBIjBBAkMDujiAxQgBBAkFihACCBBPhGBJBIkggSABBYoSA\n",
       "plInquWD7QCCxAgBBAns7ggSIwQQJHvEMSSCRJBAkACCxAgBBAns7ggSQQJBAggS\n",
       "IwQQJOjiGBJBIkiwSdHp0ZxfFQSJEQIIEtjdESRGCCBIIEiMEECQYDocQyJIBAkE\n",
       "CSBIjBBAkMDujiARJNi0xOxEVYyK7QCCxAgBBAlGxjEkgkSQQJAAgsQIAQQJ7O4I\n",
       "EkECQQIIEiMEECTo4hgSQSJIIEgAQWKEAIIEdncEiSDBpmXnZ7uudmU7gCAxQgBB\n",
       "gpFxDIkgESQQJIAgMUIAQQK7O4JEkECQAILECAEECbo4hkSQbkhJSdmyZQtBAkEC\n",
       "//8mSBaTn58fGRnp4+MTExNDkGBbnNRObAQQJPtRUlKSkZERFxdXV5A0eL6CIMEu\n",
       "O2QrezkHesmOGRIIEiyLY0gEiSCBIAEEiSABBAkEiSARJBAkgCAxQoARuK52zc7P\n",
       "ZjvYDY4hESSCBIIEECRGCCBIYHdHkAgSCBJAkBghgCBBF8eQCBJBAkECCBIjBBAk\n",
       "sLsjSAQJtk4Vo0rMTmQ7gCAxQgBBgjFxDIkgESQQJIAgMUIAQQK7O4JEkECQAILE\n",
       "CAEECbo4hkSQCBIIEkCQGCHAAN7bvKPTo9kOIEiMEECQwO6OIDFCAEGyOxxDIkgE\n",
       "CQQJIEiMEECQwO6OIBEkECSAIDFCgBGoE9XywXawGxxDIkgECQQJIEiMEECQwO6O\n",
       "IBEkECSAIDFCgNGaxEawGxxDIkgECQQJIEiMEECQwO6OIBEkECSAIDFCgHF4b/Nm\n",
       "I9gNjiERJIIEggQQJEYIIEhgd0eQCBIIEkCQGCGAIEEXx5AIEkECQQIIEiMEECSw\n",
       "uyNIBAkECSBIjBBAkKCLY0gEiSDBhqliVGwEECRGCCBIYHdHkG4qKiqKj4+PiIj4\n",
       "8MMP9+/fn5ubS5BAkACCZFa//PLLlClTnJ2dXV1dhw8fPmrUqF69erVs2XLcuHFZ\n",
       "WVkECQQJNodjSDYZpJycHHd3dxm8goIC7eWlpaVRUVH9+/fPyMggSCBIAEEyuaqq\n",
       "qsrKynquUP9XCRIIEkCQGCGAIIHdne0HKS8v7z96jDUZIkggSLAsjiHZUpBOnjzp\n",
       "XmOylpKSEoIEggQQJHP74YcffHx8GCGAIIEgWVhpaempU6eu17x816hvrK6u3rx5\n",
       "c2BgoFqtPnbsmPaXli9frq4RFRVFkGBbXFe7shFAkCysf//+jbp+WlpaaGhoSUlJ\n",
       "ampqUFCQZnlBQcHixYtLa5SXlxMkECRYCseQHCVIsbGx8fHxyuWAgADNOR0yMzPX\n",
       "rFmTlJQkxdJ/f8R0Lfy0gCDBLidGtrKXs94gvffee426flRUlFRHuaxWq0+fPq1c\n",
       "TkhIWLp0qfwbERERHh7ODAkECQ5bJoJkKGVac/HixX379tXzjrtNmzZJdZTLwcHB\n",
       "586d07lCVVWVn59fYWEhQQJBAkEiSI22ffv2Nm3a5ObmdunSpW3btsOGDavrmlKj\n",
       "tWvXygVJka+vb3l5eVlZmcyTYmNjlVDl5OTIcllIkECQYBEcQ7LtIA0cOPDTTz/d\n",
       "unXrgAEDKioqunfvrnktToeUZuXKlYGBgf7+/sprd1lZWTNmzLhw4UJISEhYWJh8\n",
       "KSUlxeZGCASJjQCCZBXc3NykQD4+PqGhofKph4fHzz//7FAjBILERgBBsgoTJkwY\n",
       "PHhwq1at0tPTlyxZ0rlzZ/23bhMkECSAIJlcQUHBihUrdu7cKZdDQkIOHz7saCME\n",
       "gsRGsBscQ7LVILm7u3eqjc7b5AgS7JuT2omNAIJkYadOnTp+/Li/v//QoUOTkpIy\n",
       "MzPffvvt/v37V1VVESQQJIAgmdsjjzwiKdJ82rNnz7reZUeQQJAAgmRCgwcP3rFj\n",
       "h3I5Nze3ffv2OTk5BAkECbaIY0i2HaRPPvnE2dl50qRJc+bM6dat27hx4xxthECQ\n",
       "2AggSNbixx9/DAoKeuutt2JjY417AIkggSCBIBEkRgggSGB3Z1NBysvLCw8Pnz9/\n",
       "/rybjPsXzQkSCBLMhmNIth2kMWPG9OvXLzAwMPgmggSCBBAkC+jVq9eRI0cceYTg\n",
       "4DhTAwiStZg6dWpkZCRBAkECCJKF+fn5OTk59e3bd8hNRUVFBAkECbaIY0i2HaTk\n",
       "5OSdNbZv365cqKioIEggSABBMjeZD02cONHZ2fnuu+8ePHgwZ/sGQQIIkmXMnj1b\n",
       "pVIdOnTo1KlTwcHB3bp1q66uJkggSABBMrdHHnnk2LFjmk979eolZSJIIEgwruzs\n",
       "62r1dVfX//9Qqa57e9/4kAvy4eR0Y6F8mpho0L1wDMm2g/Tkk0/+61//Ui5fvny5\n",
       "ffv2+fn5BAkECcYiHVJ6IxckS/WIjr4Rp4ZckxmSfQZp27ZtzZs3Hz9+/Jtvvtm1\n",
       "a9fJkyc72giBILERTJoi+bdpc6nGfiNBsvkgidTU1IULF86dOzc2Nta4B5AIEqyf\n",
       "KkbFRjA6iYryopyBPbOtLBEkQ5WWlr7zzjvZ2dkXLlx4//33r169SpBAkGCI6Ogb\n",
       "ITHwaJB22BreJI4h2XaQZs+e7eHhce7cuYKCgtGjR48YMYIggSDBkGmNSmX825TC\n",
       "Wf9RJYJkqN69e6enpyuXq6qqHnjggUuXLhEkECQ0ZWOqjF8j7SYRJDsP0pAhQ7Zt\n",
       "26ZcvnLliouLC0ECQYJV1chWmkSQDBUXF+fs7Dxx4kR/f383N7eXX37Z0UYIBImN\n",
       "YJRaqFTmuJf6m8QxJNsOkjh06NDChQv9/Pw2btxo3BPZESQQJEeQmGi+uYvy67TM\n",
       "kOw2SFu2bHnxxRc3bNiwdu3awsJCggSChIbLzr7xy0bmvDurfeGOIBnqvffe69Wr\n",
       "1+jRo0NDQwMCAjw9PQkSCBIasQFVxnmHtx00iSAZasCAAampqatWrZIgyacPPfTQ\n",
       "2bNnCRIIEhpCOdmP+anVtb9wxzEk2w7SkCFDEhMTlSAVFRW5uLjk5uYSJDgO723e\n",
       "bISm7+AstIdTfmHWzDMzgmRyX3/9dceOHT09PQcPHuzh4fHGG2842giBILERjDtN\n",
       "Md/s1somtwTJCNLS0kJCQqZNm/bOO+8UFxcTJBAkNHB6ZNmzJ1jb2+0IkqG2b9/e\n",
       "pk2b3NzcLl26tG3bdtiwYQQJBAm3FR1t+R7orwPHkGw7SAMHDvz000+3bt06YMCA\n",
       "ioqK7t27nz59miCBIKF+1nAIx9rebkeQDOXm5iYF8vHxUd5l5+Hh8fPPPxMkECTU\n",
       "Q1JkJcdvZIYk8ySCZCdBmjBhwuDBg1u1apWenr5kyZLOnTuXl5cTJBAk2EoGrOet\n",
       "DQSp6aqqquTfgoKCFStW7Ny5Uy6HhIQcPnxY+6sECQQJ+qzqhTLtleEYkk0GKScn\n",
       "p2/fvh988MG1a9e0l5eVlcXExPTv31/zNykIEggStFnbkRtmSPYwQ/rtt9+mTZvW\n",
       "unVrd3f3Z5999vnnn3/kkUecnZ29vLzS0tIcZ4Tg4NSJajZCo1jD++usc30IkqHy\n",
       "8vL279//4Ycfvvfee7GxsRcuXHC0EQJBYiM0bk5pfVNKK5mxESRrR5BAkOyMFZ7Y\n",
       "VLNKHEMiSAQJBMmBOFnfXs1KDiMRJIIEECSCxO7OXoJUWVkp/168eHHfvn0lJSUE\n",
       "CQQJ1r/3v2UQrWMMCZKhDD+XXXV19ebNmwMDA9Vq9bFjx6xkhBKz8mu9DBAkAxn4\n",
       "pobs3Bv/63Wau0f52VR/+z/XJT94f3a0sT+nyu1ogqQ0STmGZKkfeYJkKMPPZZeW\n",
       "lhYaGipTq9TU1KCgICsZIdU/05QnpfwrT3d2IiBIxpqLGDgdkZ9HaYkESfnZlCDJ\n",
       "wuiUc/Iz24Tb0fyMuz6Rr/0pQbLJIBl+LrvY2Nj4+HjlckBAgM7f97PUCMlTU57f\n",
       "yn++mCGBIFlPkORnU34qJUjyIR3SLJfLMk9q7O3Idyk/4yqvWz4lSDYZJMPPZRcV\n",
       "FZWUlHTzyarWnmBNv1Wtw2a6yzee605OfPBR/4cEyUntxEcjPgzZ3jUd0vlQfmaV\n",
       "wDT2Z1yzVt7bvJW70ETObPucWvdyBKkp6jqXXcNt2rQpISFBuRwcHHzu3Dlr+C+D\n",
       "Mm1XXgdghoTb/J8fjZlQGjinVH42pUPKT2iTZ0g6P+Ouq16UT/+y6GML/sgTpKYb\n",
       "Pnz4rl27Jk+e7HGrK1euNOp2pEZr166VC5IiX19fnQmWpUZIM21XXrtjPwKCZCVB\n",
       "Un42JUjKlEj97f/kgvLquvb7FBr7My5BsviPPEFquuTk5EuXLmVkZOy/VUVFRaNu\n",
       "p6ysbOXKlYGBgf7+/prX7qxhhqS53KhnOQgS6mfg6WiVn03llTpNipS3NjT5Z1wn\n",
       "k5b6kSdIhjp48KD2pxEREVevXnWoEQJBYhs0iirG6n4RyUpO2U6QDPXss8+OHz++\n",
       "qKgoJyfHy8urc+fOOn+QgiCBIEGb62qrO5mdJkicy862g5Sfnz927NiHH364S5cu\n",
       "r7322uXLlx1thECQ2AaN26mprW63ZiWNJEiGqq6uXr169T333NOqVauIiAj5lCCB\n",
       "IKEeVviSnZU0kiAZPNX19u7Ro0dKSkp6erq7u/tTTz1VVlZGkECQYENBspJVIkiG\n",
       "+uCDDwoLC5XLxcXFY8eO1TnVAkECQcItG8zgd34bV3R6NMeQ7CRIiqKiosjIyEGD\n",
       "Bjk5ORUUFBAkOBAr/AOo1i07P9uq3tdgJW+xI0hGkJycPGXKFGdn5w4dOixatOjE\n",
       "iROONkIgSGyDxrKqIFnPyhCkpvvnP//Zt2/f9u3by0YMDg4ePXq0Y44QCBLboAmT\n",
       "kuj0aGZIBMloOnbs2KdPn59++ul6zV9FeuGFFwgSCBIawnpetdNJI8eQbDVImZmZ\n",
       "/v7+HTp06Nev35gxYwgSCBIaThWjSsxOtPwe1pp+KYogGaqsrCw2NnbkyJHNmjV7\n",
       "7rnn5HJVVRVBAkFC/bTf2+bI60CQTDMHz85etGhR165deZcdCBIawnW1a3Z+tmVX\n",
       "wKo2CEEyMuNOjwgSCBKTJBMOnd69cwzJroLkgCMEgsQ2aBrLvrVB7toaDmIRJGPa\n",
       "unXrr7/+SpBAkNC0SZJFTtujTlRb1dEjgmQcCxYscHZ2fuaZZz7//PPS0lKCBIej\n",
       "UrENDNp+MSoz/06STIys8E9gECTjuHr16pYtW7y8vLp06TJnzpz09HSCBIKEBjL/\n",
       "C3f1zMk4hmTzQRIXLlxYs2aNu7t7jx49unbtOmrUKGP93ViCBIJk92SGZLZ33EmN\n",
       "rOrUrgTJmLZv3/6nP/2pRYsWr7zyyvfff19dXV1RUTF06NBt27YRJBAkNJBEwgzz\n",
       "JEsdsiJIZjJ16tQVK1ZcvHhRe2FiYuLZs2cJEggSGtUkk77RwMprRJCMYPz48f/5\n",
       "z38ceYRAkNgG1t+kBs7AOIZk20FauHDhuHHjKisrCRIIEsxWjsYNUYzKyudGBMlo\n",
       "QWrevPn999+vUqmerlFUVESQQJBgYJOM8taD7PxsSZEV/soRQTKJvXv3/utW5eXl\n",
       "BAkECQaGxPAmKWGznj+8RJBMrqKiIikpKb7Gzp07hwwZcubMGYIEB+LqyjYwUZOk\n",
       "KE14l7byjU3rGceQbDtIs2bN6tSpU8uWLfv06dOhQwdPT8/i4mKCBIIE42ZJCUz9\n",
       "Z5/TvqZlzyNOkCzDzc3t6NGjixcvjoqKOn/+fM+ePY37BgeCBIIEnTLJh3JkSD6U\n",
       "Nyw4qZ0aUiyCZOdB8vDwOHDgwI4dO/z9/eXTAQMGnDhxgiCBIAEEydyWLVvWtm3b\n",
       "jIwMFxeXKVOmtGzZMi8vjyCBIMEWcQzJtoN0vea8DIWFhbt37/b19Y2Pj3e0EQJB\n",
       "YhuAIFkFmQ+Fh4fPnz9/3k0lJSUECQQJIEjmNmbMmH79+gUGBgbfRJBAkACCZAG9\n",
       "evU6cuSII48QCBLbwG5wDMm2gzR16tTIyEiCBMfl5MQ2AEGyCn5+fk5OTn379h1y\n",
       "E+eyA0ECCJIFJCcn77xVRUUFQQJBAggSIwQQJDQRx5BsNUjDhw/ftWvX5MmTPW51\n",
       "5coVggSCBBAk80lOTr506VJGRsb+W/GSHQgSQJAsYO7cuU9pefrpp0NDQ414OjuC\n",
       "BIIEgkSQGmTRokVubm7r1q3bsGHDE088MXLkSGUJQQJBgs3hGJJtB+nRRx9NT09X\n",
       "LpeWlrq4uBQXF3t7eycnJxMkECSAIJmPzIq++eYb5XJeXl6bNm2uXbs2fvz4bdu2\n",
       "ESQQJIAgmc/nn38uEZoyZcqcOXO6desmc6O4uLj77ruvoKCAIMEhcOogECTrkZKS\n",
       "EhQU5Ofn99lnn1VVVf38889nzpxxnBECQWIb2A2OIdl2kCoqKpKSkuJr7Ny5c8iQ\n",
       "IUasEUECQQIzJILUULNmzerUqVPLli379OnToUMHT0/P4uLiWq9ZXV29efPmwMBA\n",
       "tVp97Ngx7S8tX75cXSMqKooggSCBIBGkpnBzczt69OjixYulJefPn+/Zs2dlZWWt\n",
       "10xLSwsNDS0pKUlNTQ0KCtIsLygokG8vrVFeXk6QQJBAkAhSU3h4eBw4cGDHjh3+\n",
       "/v7y6YABA+r6rdjY2FjNHzgPCAjIzc1VLmdmZq5ZsyYpKUmKpR8zggSCBLPhGJJt\n",
       "B2nZsmVt27bNyMhwcXGZMmVKy5Yt8/LyNF8tKyu7WkOmPjKFkuooy9Vq9enTp5XL\n",
       "CQkJS5culX8jIiLCw8P1R0iDnxYQJNjlxMhW9nI28C67xMTEwsLC3bt3+/r6auZA\n",
       "mtisrHHo0KFNmzbJp8ry4ODgc+fO6dxOVVWVn5+f3BQzJBAkOGaZCJJBpDHDhg3r\n",
       "r6Wus33LNdeuXSsXJEWSLrmgTJJiY2OVUOXk5MhymVQRJBAkECSC1Gienp7z58/f\n",
       "s2dPwk11ne1bSiNTpcDAQH9//6SkpKysrBkzZsjyCxcuhISEhIWFyZdSUlJsboTg\n",
       "6FQqtoHd4BiSbQdJpkSac9k55giBILENQJCsQkxMzBNPPKG8g07B30MCQQIIkmW2\n",
       "YPv27QcNGvTYTUVFRQQJBAkgSObm7u7+3//+15FHCASJbWA3OIZk20GaPHnyJ598\n",
       "QpBAkACCZGGzZ892cnLy9PQcchMv2YEgAQTJApKTk3feijc1gCABBMms8vLyLtem\n",
       "urqaIIEgwRZxDMlWg9SxY0en2uTn5xMkOBBvb7YBCJKFXbp06VxtmCGBIAEEiREC\n",
       "CBLY3REkggSCBBvHMSSCRJBAkACCxAgBBAns7ggSQQJBAggSIwQQJOjiGBJBIkgg\n",
       "SABBYoQAggR2dwSJIMEeqNVsAxAkRgggSDAmjiERJIIEggQQJEYIIEhgd0eQCBLs\n",
       "oUYECQSJEQIIEoyLY0gEiSCBIAEEiRECDOHtfT06ms0AgsQIAQQJ7O4IEiMEECS7\n",
       "wzEkgkSQQJAAgsQIAQQJ7O4IEkECQQIIEiMEECTo4hgSQSJIIEgAQWKEAEOoVNcT\n",
       "E9kMIEiMEECQwO6OIDFCAEGyOxxDIkgECQQJIEiMEECQwO6OIBEkECSAIDFCgDG4\n",
       "ul7PzmYz2A2OIREkggSCBBAkRgggSGB3R5AIEggSQJAYIYAgQRfHkAgSQQJBAggS\n",
       "IwQQJLC7I0gECTbPyYltAIJkb1JSUrZs2UKQQJBgQRxDcvQg5efnR0ZG+vj4xMTE\n",
       "ECQQJDBDIkgWU1JSkpGRERcXR5BAkECQCJK5lZWVXa1RXl6uLElJSakrSBo8X0GQ\n",
       "YJcdspW9nH0+3RMSElbWOHTo0G2DxPMVBAnmwTEkRwySPoIEggSmSgSJIAFNkp19\n",
       "4/eQAILECAEECezuCBIjBBAkO8QxJIJEkECQAILECAEECezuCBJBAkECCBIjBBgs\n",
       "MfG6SsVmsCccQyJIBAkECSBIjBBAkMDujiARJBAkgCAxQgBBgi6OIREkggSCBBAk\n",
       "RgggSGB3R5AIEmxbdPR1b282AwgSIwQQJBgZx5AIEkECQQIIEiMEECSwuyNIBAkE\n",
       "CSBIjBBAkKCLY0gEiSCBIAEEiRECmkytvvEBECRGCCBIYHdHkBghgCDZIY4hESSC\n",
       "BIIEECRGCCBIYHdHkAgSCBJAkBghwGDe3jfe+Q07wjEkgkSQQJAAgsQIAQQJ7O4I\n",
       "EkECQQIIEiMEECTo4hgSQSJIIEgAQWKEAEOCBBAkRgggSGB3R5AYIaCGSsU2sDMc\n",
       "QyJIBAkECSBIjBBAkMDujiARJBAkgCAxQgBBgi6OIREkggSCBBAkRgggSGB3R5AI\n",
       "EggSQJAYIcBgrq5sAzvDMSSCRJBAkACCxAgBBAns7ggSQQJBAggSIwQQJOjiGBJB\n",
       "st4R4t4d9iezQStgsiAx9Nw7QTKHlJSULVu26Cxcvny5ukZUVBTPD+6dIDH03DtB\n",
       "Mq38/PzIyEgfH5+YmBjt5QUFBYsXLy6tUV5ezvODeydIDD33TpBMq6SkJCMjIy4u\n",
       "TidImZmZa9asSUpKSktLq6ys1B8hwDpdbt2ajQDjIkgmVFZWdrWGZuqTkpKiE6SE\n",
       "hISlS5fKvxEREeHh4dcBAATJ6CQzK2scOnSoriBpVFVV+fn5FRYWMuoAQJBMThMk\n",
       "mTydPn1aLsTGxkq35EJOTo6vr68sZ9QBgCCZL0hZWVkzZsyQCxcuXAgJCQkLCwsM\n",
       "DJSvMuQAQJAAACBIAACCBAAAQapdeXl5WFjYyZMntRfWc0IHM6+J6e5r/fr18+fP\n",
       "l3s8deqUZR97PStjunvcuHFjYGCg3OOJEycs+PDrWROTaux5TMy8JqZTXV29efNm\n",
       "2eDyMI8dO2aRh1/POtjxoyZIDSLj5Ovre/z4cc2S+k/oYM41MZ19+/atXbu2srJy\n",
       "165d2id5tMhjr2tlTGfv3r1yRxUVFQcOHFi4cKEFH35da2I6TTuPiTnXxKTS0tJC\n",
       "Q0NLSkpSU1ODgoIs8vDrWgf7ftQE6fYOHz780Ucfffjhh9oZqP+EDuZcE5M+QZW5\n",
       "iPz/9P3337fsY69rZUzn3//+d0ZGhvIDOWfOHAs+/LrWxHSadh4Tc66JScXGxsbH\n",
       "xyuXAwICcnNzzf/w61oH+37UBKkW2id0kF3AkiVLrl27ppMB85zQoSFrYrp7VJZI\n",
       "At98882DBw+a+bE3cGVMfY9XrlyRn0bZIVpw6OtaE1Pfo6XOY9KQNTHpnUZFRcn+\n",
       "V1muVquV31C8bt7TuNS1Dua/R2s+eY1DBEn7hA6yB9y4ceMPP/ywbNmyL7/8sqio\n",
       "SOfKJj2hQ6PWxOj3mJOTo/xe8MWLF+UxyoTdnI+9sStj9HuUT+XnMyQkZP/+/bVe\n",
       "2WxDf9s1McU9XrfceUwatSamuNNNmzYpvx0vgoODz507Z+ZnvrjtOpj/Hq3w5DUO\n",
       "95Jdenr63hphYWHKf04tdUIHnTWR/y+b+h4jIyN37NghF+QpqLxSZMGTWeisjMwU\n",
       "TX2PycnJq1at0tyRBc/lobMmZmM95zExQ5B04rR27Vq5IDtleZgWeebrrIMZDt7o\n",
       "36My7tZ88hrHfdu3TFBOnDhhDSd0UNbEDHckz8uFNebNm7dnzx7LPnadlTHDPYaH\n",
       "h7/11lvBNZYuXWrBh6+zJuYPksWf9mYOkuxzZaokj9Hf31/mphZ5+DrrYP5HrRl3\n",
       "az55Db+HdIurV69WV1fb/WOUqbqVPPa6Voah57EbnUxJaz2Gb86HX9c62PejJkgA\n",
       "ABtDkAAABAkAAIIEID09PT8/n+0AggTAYq5cubJz584HH3zw8OHDbA0QJAAWc/z4\n",
       "8QULFvTu3ZsggSABjsg8p3luuFdeeUUJUmlpqXnOuQ4QJDiWQ4cOOd3UrFmzZ555\n",
       "poG/irh9+/ahQ4fqL//+++/lptatW9fYb9SWlpZ22+sYxcGDB2XqU+uXFi9e3L+G\n",
       "cq4mTZDKy8t79ux55swZnjwgSIAx/fTTT82bN6+uoZxRe/DgwYYE6bXXXhs4cKCn\n",
       "p2dd33j58uXU1NT6b3zUqFHbtm0zT5CkLo2aIV2v+Rs5M2fO5MkDggQYP0iaT/fs\n",
       "2dOpUyfl8sqVKx944IHOnTv/7W9/KysrmzRpUuvWrVu2bPnqq69WVlbWGqTc3Fy5\n",
       "QlZWlrOzs7L7VqvVXl5eVVVVstDd3f3IkSO7d+8eO3bsqVOnBg0aJHf94IMPbt68\n",
       "WftGTpw4IXcqgdS/jvYqaeYx999/v9ydhLC4uFipRdeuXdu1ayf3kpeXJ+s5bty4\n",
       "YcOG3XPPPbLCskRuWb79vvvuk+v8+c9/VoJUz/pogqT8IQylqfIwTXSWW4AgwXGD\n",
       "dOedd35UY9WqVb17954/f74s37Vrl5ub2y+//HL69Ok+ffr4+fl179794sWLly5d\n",
       "kv24xKbWIK1Zs+aZZ56RCxMnTpw9e/b1mreoye38/e9/l4nXokWLNFOrefPmvfTS\n",
       "SxK2r776ysPDQ/tGtm7dqtyyznV0Vik2NlZmURInidy5c+fkCrL+cuMdOnRIT0+X\n",
       "8IwcOfKvf/3rpk2bmjVrtm/fPqlI3759P/7447i4uC5duhw9ejQnJ0elUilBqmd9\n",
       "aiX3IrfJ8wcECTBmkO66666/1pBJRtu2bZX5waxZszw9Pd+u8dhjj02YMEH28hKt\n",
       "adOmScB+/PHHWoPUr18/mUnI1SZPnty+ffuSkhJN8x5//HHlRGHKN8q/LVq0eP31\n",
       "16UQkgrtG1myZMkbb7yhXFP7OjqrJNeRJXJZ+a7CGjNnzpw7d66yZP/+/ZIrCdLw\n",
       "4cOVJXL9ZcuWTZ8+XfKjLPnuu++UINWzPrWSNfn00095/oAgAcYMkvZLdu+//75y\n",
       "DGnq1KnPPvvsBzcFBATcf//9K1asiI+Pd3V1rTVIKSkpzs7Of73JxcVFaZvMbGS5\n",
       "TEqUHb3mG0+ePLl69eonn3yyY8eOMqHR3I5MpCQMymXt60iBtFdp586d3t7eyqxL\n",
       "nDlzJisrS1Z7wYIFmvW59957JUijR4/WDtKUKVOCg4OVJTLL0RxDqmt9avXHP/7x\n",
       "iy++4PkDggSYKkgJCQnSG7nwySef9O/fX+YcVVVVf/nLX2R+89Zbb12v+aPOcv2k\n",
       "pCT9IM2YMUM6pPlU5i4yNbl06dJ99923Y8cOmTm99NJLmiBJG9Rq9fWa1/SaNWt2\n",
       "5MgRzTdu2LBBJkBKP7SvIy3RXqX169evW7fO3d1dlly7dk0K8dlnn8XExMj6X7x4\n",
       "Ua4jAZN71A+SXOehhx6SOlZXV8ukUAlSPetTK4nW0aNHef6AIAGmCpLsZO+8886z\n",
       "Z89WVlZKXdq1ayc58fLy+vLLL1u1atWjRw9JwqBBg0aMGPH1118PGzZM840lJSVt\n",
       "2rTZu3evZklGRsYdd9zx9NNPT5w4UT6VMslOXCqifGNqamrXrl0lHh06dBg3bpz2\n",
       "X9b43//+J7MrWQGd65SXl2uvkvJX1F599dW2bdt26tRp/PjxlTWmT5+uLBk4cOAv\n",
       "v/wiQXrhhReUW37zzTfffffdiooK5Q0ach1JoxKketZHn8SsRYsWcjs8f0CQADOR\n",
       "zGj+YLxczsnJuV7zizhG+aO9stM/f/58rX+QfuTIkbGxsbVeR3uVFDI9Ut5fp1Fa\n",
       "Wnrb887Jd+ncTj3ro0OmWQEBATw9QJAA+3fgwAHlVTsrJNOy3r17N+SNDwBBAuzB\n",
       "yZMnrXPFKioqfv31VwYIBAkAAIIEACBIAAAQJAAAQQIAgCABAAgSAAAECQBAkAAA\n",
       "IEgAAIIEAABBAgAQJAAAGu3/AERh6+L1wkk+AAAAAElFTkSuQmCC\" style=\"clip-path:url(#clipPath1);\" height=\"420\" preserveAspectRatio=\"none\"\n",
       "    /></g\n",
       "  ></g\n",
       "></svg\n",
       ">\n"
      ]
     },
     "metadata": {},
     "output_type": "display_data"
    }
   ],
   "source": [
    "rlocus(Go2),hold on,plot(poles,'*'),...\n",
    "    title('Lag compensated design'),...\n",
    "    hold off"
   ]
  },
  {
   "cell_type": "markdown",
   "metadata": {
    "slideshow": {
     "slide_type": "subslide"
    }
   },
   "source": [
    "The closed-loop system:"
   ]
  },
  {
   "cell_type": "code",
   "execution_count": 14,
   "metadata": {
    "slideshow": {
     "slide_type": "subslide"
    }
   },
   "outputs": [
    {
     "name": "stdout",
     "output_type": "stream",
     "text": [
      "\n",
      "Gc2 =\n",
      " \n",
      "              8 (s+0.3)\n",
      "  ---------------------------------\n",
      "  (s+0.3449) (s^2 + 3.715s + 6.959)\n",
      " \n",
      "Continuous-time zero/pole/gain model.\n",
      "\n"
     ]
    }
   ],
   "source": [
    "Gc2 = feedback(K*Dlag*G,H)"
   ]
  },
  {
   "cell_type": "markdown",
   "metadata": {
    "slideshow": {
     "slide_type": "subslide"
    }
   },
   "source": [
    "has step response"
   ]
  },
  {
   "cell_type": "code",
   "execution_count": 15,
   "metadata": {
    "slideshow": {
     "slide_type": "subslide"
    }
   },
   "outputs": [],
   "source": [
    "[y2,t2]=step(Gc2,10);"
   ]
  },
  {
   "cell_type": "markdown",
   "metadata": {
    "slideshow": {
     "slide_type": "subslide"
    }
   },
   "source": [
    "Finally we compare the lag-compensated and gain compensated responses:"
   ]
  },
  {
   "cell_type": "code",
   "execution_count": 16,
   "metadata": {
    "slideshow": {
     "slide_type": "subslide"
    }
   },
   "outputs": [
    {
     "data": {
      "image/svg+xml": [
       "<?xml version=\"1.0\"?>\n",
       "<!DOCTYPE svg PUBLIC '-//W3C//DTD SVG 1.0//EN'\n",
       "          'http://www.w3.org/TR/2001/REC-SVG-20010904/DTD/svg10.dtd'>\n",
       "<svg xmlns:xlink=\"http://www.w3.org/1999/xlink\" style=\"fill-opacity:1; color-rendering:auto; color-interpolation:auto; text-rendering:auto; stroke:black; stroke-linecap:square; stroke-miterlimit:10; shape-rendering:auto; stroke-opacity:1; fill:black; stroke-dasharray:none; font-weight:normal; stroke-width:1; font-family:'Dialog'; font-style:normal; stroke-linejoin:miter; font-size:12px; stroke-dashoffset:0; image-rendering:auto;\" width=\"560\" height=\"420\" xmlns=\"http://www.w3.org/2000/svg\"\n",
       "><!--Generated by the Batik Graphics2D SVG Generator--><defs id=\"genericDefs\"\n",
       "  /><g\n",
       "  ><defs id=\"defs1\"\n",
       "    ><clipPath clipPathUnits=\"userSpaceOnUse\" id=\"clipPath1\"\n",
       "      ><path d=\"M0 0 L560 0 L560 420 L0 420 L0 0 Z\"\n",
       "      /></clipPath\n",
       "      ><font horiz-adv-x=\"50.0\" id=\"font1\"\n",
       "      ><font-face ascent=\"95.200005\" descent=\"21.3\" units-per-em=\"100\" style=\"font-style:normal; font-family:Helvetica Neue; font-weight:normal;\"\n",
       "        /><missing-glyph horiz-adv-x=\"50.0\" d=\"M40.9 66.6 L10.2 66.6 L10.2 4.7 L40.9 4.7 ZM46 71.2 L46 0.1 L5.1 0.1 L5.1 71.2 Z\"\n",
       "        /><glyph unicode=\"0\" horiz-adv-x=\"55.6\" d=\"M13.2 34.9 Q13.2 37.5 13.25 40.65 Q13.3 43.8 13.75 46.95 Q14.2 50.1 15.05 53.1 Q15.9 56.1 17.55 58.35 Q19.2 60.6 21.7 62 Q24.2 63.4 27.8 63.4 Q31.4 63.4 33.9 62 Q36.4 60.6 38.05 58.35 Q39.7 56.1 40.55 53.1 Q41.4 50.1 41.85 46.95 Q42.3 43.8 42.35 40.65 Q42.4 37.5 42.4 34.9 Q42.4 30.9 42.15 25.95 Q41.9 21 40.55 16.65 Q39.2 12.3 36.2 9.3 Q33.2 6.3 27.8 6.3 Q22.4 6.3 19.4 9.3 Q16.4 12.3 15.05 16.65 Q13.7 21 13.45 25.95 Q13.2 30.9 13.2 34.9 ZM4.2 34.8 Q4.2 30.9 4.4 26.7 Q4.6 22.5 5.4 18.5 Q6.2 14.5 7.7 10.95 Q9.2 7.4 11.8 4.7 Q14.4 2 18.35 0.45 Q22.3 -1.1 27.8 -1.1 Q33.4 -1.1 37.3 0.45 Q41.2 2 43.8 4.7 Q46.4 7.4 47.9 10.95 Q49.4 14.5 50.2 18.5 Q51 22.5 51.2 26.7 Q51.4 30.9 51.4 34.8 Q51.4 38.7 51.2 42.9 Q51 47.1 50.2 51.1 Q49.4 55.1 47.9 58.7 Q46.4 62.3 43.8 65 Q41.2 67.7 37.25 69.3 Q33.3 70.9 27.8 70.9 Q22.3 70.9 18.35 69.3 Q14.4 67.7 11.8 65 Q9.2 62.3 7.7 58.7 Q6.2 55.1 5.4 51.1 Q4.6 47.1 4.4 42.9 Q4.2 38.7 4.2 34.8 Z\"\n",
       "        /><glyph unicode=\"1\" horiz-adv-x=\"55.6\" d=\"M35.6 0 L35.6 70.9 L29.1 70.9 Q28.4 66.9 26.5 64.3 Q24.6 61.7 21.85 60.2 Q19.1 58.7 15.7 58.15 Q12.3 57.6 8.7 57.6 L8.7 50.8 L27.1 50.8 L27.1 0 Z\"\n",
       "        /><glyph unicode=\"2\" horiz-adv-x=\"55.6\" d=\"M4.4 45.8 L12.9 45.8 Q12.8 49 13.55 52.15 Q14.3 55.3 16 57.8 Q17.7 60.3 20.35 61.85 Q23 63.4 26.7 63.4 Q29.5 63.4 32 62.5 Q34.5 61.6 36.35 59.9 Q38.2 58.2 39.3 55.85 Q40.4 53.5 40.4 50.6 Q40.4 46.9 39.25 44.1 Q38.1 41.3 35.85 38.9 Q33.6 36.5 30.2 34.15 Q26.8 31.8 22.3 29 Q18.6 26.8 15.2 24.3 Q11.8 21.8 9.1 18.5 Q6.4 15.2 4.65 10.75 Q2.9 6.3 2.4 0 L48.7 0 L48.7 7.5 L12.3 7.5 Q12.9 10.8 14.85 13.35 Q16.8 15.9 19.55 18.1 Q22.3 20.3 25.6 22.25 Q28.9 24.2 32.2 26.2 Q35.5 28.3 38.6 30.6 Q41.7 32.9 44.1 35.75 Q46.5 38.6 47.95 42.2 Q49.4 45.8 49.4 50.5 Q49.4 55.5 47.65 59.3 Q45.9 63.1 42.9 65.65 Q39.9 68.2 35.85 69.55 Q31.8 70.9 27.2 70.9 Q21.6 70.9 17.2 69 Q12.8 67.1 9.85 63.75 Q6.9 60.4 5.5 55.8 Q4.1 51.2 4.4 45.8 Z\"\n",
       "        /><glyph unicode=\"3\" horiz-adv-x=\"55.6\" d=\"M21.8 40.5 L21.8 33.3 Q24.2 33.6 26.9 33.6 Q30.1 33.6 32.85 32.75 Q35.6 31.9 37.6 30.15 Q39.6 28.4 40.8 25.85 Q42 23.3 42 20 Q42 16.8 40.75 14.25 Q39.5 11.7 37.4 9.95 Q35.3 8.2 32.5 7.25 Q29.7 6.3 26.6 6.3 Q19.3 6.3 15.5 10.65 Q11.7 15 11.5 21.9 L3 21.9 Q2.9 16.4 4.55 12.1 Q6.2 7.8 9.3 4.85 Q12.4 1.9 16.8 0.4 Q21.2 -1.1 26.6 -1.1 Q31.6 -1.1 36.05 0.25 Q40.5 1.6 43.8 4.3 Q47.1 7 49.05 11.05 Q51 15.1 51 20.4 Q51 26.8 47.85 31.5 Q44.7 36.2 38.2 37.6 L38.2 37.8 Q42.4 39.7 45.2 43.4 Q48 47.1 48 51.9 Q48 56.8 46.35 60.4 Q44.7 64 41.8 66.3 Q38.9 68.6 34.95 69.75 Q31 70.9 26.4 70.9 Q21.1 70.9 17.05 69.2 Q13 67.5 10.3 64.5 Q7.6 61.5 6.15 57.3 Q4.7 53.1 4.5 48 L13 48 Q13 51.1 13.8 53.9 Q14.6 56.7 16.25 58.8 Q17.9 60.9 20.45 62.15 Q23 63.4 26.4 63.4 Q31.8 63.4 35.4 60.55 Q39 57.7 39 52 Q39 49.2 37.9 47 Q36.8 44.8 34.95 43.35 Q33.1 41.9 30.65 41.15 Q28.2 40.4 25.5 40.4 L23.7 40.4 Q23.2 40.4 22.7 40.4 Q22.3 40.4 21.8 40.5 Z\"\n",
       "        /><glyph unicode=\"4\" horiz-adv-x=\"55.6\" d=\"M33.9 24.1 L10.1 24.1 L33.7 58.8 L33.9 58.8 ZM41.9 24.1 L41.9 70.9 L35.1 70.9 L2.8 24.8 L2.8 16.6 L33.9 16.6 L33.9 0 L41.9 0 L41.9 16.6 L51.5 16.6 L51.5 24.1 Z\"\n",
       "        /><glyph unicode=\"5\" horiz-adv-x=\"55.6\" d=\"M47 62.2 L47 69.7 L12 69.7 L5.4 32.9 L12.7 32.5 Q15.2 35.5 18.45 37.35 Q21.7 39.2 25.9 39.2 Q29.5 39.2 32.45 38 Q35.4 36.8 37.5 34.65 Q39.6 32.5 40.75 29.55 Q41.9 26.6 41.9 23.1 Q41.9 18.9 40.7 15.75 Q39.5 12.6 37.45 10.5 Q35.4 8.4 32.65 7.35 Q29.9 6.3 26.9 6.3 Q23.7 6.3 21.05 7.25 Q18.4 8.2 16.45 9.95 Q14.5 11.7 13.35 14.05 Q12.2 16.4 12 19.1 L3.5 19.1 Q3.6 14.3 5.4 10.5 Q7.2 6.7 10.3 4.15 Q13.4 1.6 17.45 0.25 Q21.5 -1.1 26.1 -1.1 Q32.3 -1.1 36.95 0.85 Q41.6 2.8 44.7 6.1 Q47.8 9.4 49.35 13.65 Q50.9 17.9 50.9 22.4 Q50.9 28.5 49.1 33.05 Q47.3 37.6 44.2 40.65 Q41.1 43.7 36.9 45.2 Q32.7 46.7 28 46.7 Q24.4 46.7 20.75 45.45 Q17.1 44.2 14.8 41.6 L14.6 41.8 L18.4 62.2 Z\"\n",
       "        /><glyph unicode=\"6\" horiz-adv-x=\"55.6\" d=\"M41.4 52.8 L49.9 52.8 Q49.1 61.6 43.9 66.25 Q38.7 70.9 29.9 70.9 Q22.3 70.9 17.3 67.7 Q12.3 64.5 9.3 59.2 Q6.3 53.9 5.05 47.05 Q3.8 40.2 3.8 32.9 Q3.8 27.3 4.65 21.3 Q5.5 15.3 8.1 10.3 Q10.7 5.3 15.5 2.1 Q20.3 -1.1 28.2 -1.1 Q34.9 -1.1 39.45 1.15 Q44 3.4 46.75 6.85 Q49.5 10.3 50.7 14.5 Q51.9 18.7 51.9 22.6 Q51.9 27.5 50.4 31.7 Q48.9 35.9 46.15 39 Q43.4 42.1 39.35 43.85 Q35.3 45.6 30.2 45.6 Q24.4 45.6 19.95 43.4 Q15.5 41.2 12.5 36.3 L12.3 36.5 Q12.4 40.6 13.1 45.3 Q13.8 50 15.65 54.05 Q17.5 58.1 20.8 60.75 Q24.1 63.4 29.5 63.4 Q34.6 63.4 37.7 60.5 Q40.8 57.6 41.4 52.8 ZM28.6 38.1 Q32.2 38.1 34.9 36.8 Q37.6 35.5 39.4 33.35 Q41.2 31.2 42.05 28.25 Q42.9 25.3 42.9 22 Q42.9 18.9 41.95 16.05 Q41 13.2 39.2 11 Q37.4 8.8 34.75 7.55 Q32.1 6.3 28.6 6.3 Q25.1 6.3 22.35 7.55 Q19.6 8.8 17.75 10.9 Q15.9 13 14.9 15.9 Q13.9 18.8 13.9 22.1 Q13.9 25.4 14.85 28.35 Q15.8 31.3 17.7 33.45 Q19.6 35.6 22.3 36.85 Q25 38.1 28.6 38.1 Z\"\n",
       "        /><glyph unicode=\"7\" horiz-adv-x=\"55.6\" d=\"M50.9 62.4 L50.9 69.7 L5 69.7 L5 61.7 L42.2 61.7 Q36.6 55.8 31.75 48.8 Q26.9 41.8 23.2 33.95 Q19.5 26.1 17.15 17.55 Q14.8 9 14.2 0 L23.7 0 Q24.2 8.3 26.5 17.1 Q28.8 25.9 32.45 34.2 Q36.1 42.5 40.8 49.8 Q45.5 57.1 50.9 62.4 Z\"\n",
       "        /><glyph unicode=\"8\" horiz-adv-x=\"55.6\" d=\"M15.5 52.5 Q15.5 55.2 16.5 57.2 Q17.5 59.2 19.15 60.6 Q20.8 62 23.1 62.7 Q25.4 63.4 27.9 63.4 Q33.1 63.4 36.45 60.65 Q39.8 57.9 39.8 52.5 Q39.8 47.1 36.5 44.1 Q33.2 41.1 28.1 41.1 Q25.5 41.1 23.2 41.8 Q20.9 42.5 19.2 43.9 Q17.5 45.3 16.5 47.45 Q15.5 49.6 15.5 52.5 ZM6.5 52.8 Q6.5 48 9.2 43.95 Q11.9 39.9 16.4 38.1 Q10.4 36 7.2 31.35 Q4 26.7 4 20.4 Q4 15 5.85 10.95 Q7.7 6.9 10.95 4.2 Q14.2 1.5 18.6 0.2 Q23 -1.1 28.1 -1.1 Q33 -1.1 37.3 0.3 Q41.6 1.7 44.75 4.45 Q47.9 7.2 49.75 11.2 Q51.6 15.2 51.6 20.4 Q51.6 27 48.5 31.55 Q45.4 36.1 39 38.1 Q43.5 40.1 46.15 44.05 Q48.8 48 48.8 52.8 Q48.8 56.2 47.6 59.45 Q46.4 62.7 43.85 65.25 Q41.3 67.8 37.2 69.35 Q33.1 70.9 27.3 70.9 Q23.2 70.9 19.45 69.7 Q15.7 68.5 12.8 66.2 Q9.9 63.9 8.2 60.55 Q6.5 57.2 6.5 52.8 ZM13 20 Q13 23.1 14.15 25.6 Q15.3 28.1 17.35 29.9 Q19.4 31.7 22.15 32.65 Q24.9 33.6 28 33.6 Q31 33.6 33.65 32.55 Q36.3 31.5 38.3 29.7 Q40.3 27.9 41.45 25.45 Q42.6 23 42.6 20.1 Q42.6 17.1 41.55 14.6 Q40.5 12.1 38.55 10.25 Q36.6 8.4 33.95 7.35 Q31.3 6.3 28.1 6.3 Q21.5 6.3 17.25 9.95 Q13 13.6 13 20 Z\"\n",
       "        /><glyph unicode=\"9\" horiz-adv-x=\"55.6\" d=\"M13.4 17.1 L4.9 17.1 Q5.7 7.9 11.6 3.4 Q17.5 -1.1 26.4 -1.1 Q39.3 -1.1 45.15 8.75 Q51 18.6 51 37 Q51 47.1 49.05 53.65 Q47.1 60.2 43.8 64 Q40.5 67.8 36.1 69.35 Q31.7 70.9 26.7 70.9 Q21.6 70.9 17.3 69.2 Q13 67.5 9.9 64.45 Q6.8 61.4 5.1 57.15 Q3.4 52.9 3.4 47.8 Q3.4 42.6 4.85 38.2 Q6.3 33.8 9.15 30.7 Q12 27.6 16.2 25.85 Q20.4 24.1 25.8 24.1 Q31 24.1 35.4 26.75 Q39.8 29.4 42.2 33.9 L42.4 33.7 Q42 19.8 38.1 13.05 Q34.2 6.3 26.4 6.3 Q21.3 6.3 17.6 9.1 Q13.9 11.9 13.4 17.1 ZM40.9 47.2 Q40.9 44.1 39.9 41.25 Q38.9 38.4 37 36.25 Q35.1 34.1 32.4 32.85 Q29.7 31.6 26.4 31.6 Q23.3 31.6 20.75 32.85 Q18.2 34.1 16.35 36.2 Q14.5 38.3 13.45 41 Q12.4 43.7 12.4 46.6 Q12.4 49.9 13.15 52.9 Q13.9 55.9 15.55 58.25 Q17.2 60.6 19.85 62 Q22.5 63.4 26.3 63.4 Q29.9 63.4 32.6 62.1 Q35.3 60.8 37.15 58.55 Q39 56.3 39.95 53.4 Q40.9 50.5 40.9 47.2 Z\"\n",
       "        /><glyph unicode=\".\" horiz-adv-x=\"27.8\" d=\"M8.3 11.1 L8.3 0 L19.4 0 L19.4 11.1 Z\"\n",
       "        /><glyph unicode=\"g\" horiz-adv-x=\"57.4\" d=\"M51 4.4 L51 51.7 L43 51.7 L43 44.3 L42.9 44.3 Q40.6 48.6 36.5 50.75 Q32.4 52.9 27.5 52.9 Q20.8 52.9 16.2 50.35 Q11.6 47.8 8.8 43.85 Q6 39.9 4.8 35.05 Q3.6 30.2 3.6 25.6 Q3.6 20.3 5.05 15.55 Q6.5 10.8 9.4 7.25 Q12.3 3.7 16.6 1.6 Q20.9 -0.5 26.7 -0.5 Q31.7 -0.5 36.15 1.75 Q40.6 4 42.8 8.8 L43 8.8 L43 5.4 Q43 1.1 42.15 -2.5 Q41.3 -6.1 39.4 -8.65 Q37.5 -11.2 34.6 -12.65 Q31.7 -14.1 27.5 -14.1 Q25.4 -14.1 23.1 -13.65 Q20.8 -13.2 18.85 -12.2 Q16.9 -11.2 15.55 -9.6 Q14.2 -8 14.1 -5.7 L5.6 -5.7 Q5.8 -9.9 7.8 -12.8 Q9.8 -15.7 12.85 -17.5 Q15.9 -19.3 19.65 -20.1 Q23.4 -20.9 27 -20.9 Q39.4 -20.9 45.2 -14.6 Q51 -8.3 51 4.4 ZM27.2 6.9 Q23 6.9 20.2 8.65 Q17.4 10.4 15.7 13.25 Q14 16.1 13.3 19.6 Q12.6 23.1 12.6 26.6 Q12.6 30.3 13.45 33.7 Q14.3 37.1 16.15 39.7 Q18 42.3 20.9 43.85 Q23.8 45.4 27.9 45.4 Q31.9 45.4 34.7 43.8 Q37.5 42.2 39.25 39.55 Q41 36.9 41.8 33.6 Q42.6 30.3 42.6 26.9 Q42.6 23.3 41.75 19.7 Q40.9 16.1 39.1 13.25 Q37.3 10.4 34.35 8.65 Q31.4 6.9 27.2 6.9 Z\"\n",
       "        /><glyph unicode=\"d\" horiz-adv-x=\"59.3\" d=\"M12.6 25.4 Q12.6 29.2 13.4 32.8 Q14.2 36.4 16 39.2 Q17.8 42 20.8 43.7 Q23.8 45.4 28.1 45.4 Q32.5 45.4 35.6 43.75 Q38.7 42.1 40.65 39.4 Q42.6 36.7 43.5 33.15 Q44.4 29.6 44.4 25.8 Q44.4 22.2 43.55 18.7 Q42.7 15.2 40.8 12.45 Q38.9 9.7 35.9 8 Q32.9 6.3 28.6 6.3 Q24.5 6.3 21.45 7.9 Q18.4 9.5 16.45 12.2 Q14.5 14.9 13.55 18.35 Q12.6 21.8 12.6 25.4 ZM52.6 0 L52.6 71.4 L44.1 71.4 L44.1 44.8 L43.9 44.8 Q42.5 47.1 40.45 48.65 Q38.4 50.2 36.1 51.15 Q33.8 52.1 31.5 52.5 Q29.2 52.9 27.2 52.9 Q21.3 52.9 16.85 50.75 Q12.4 48.6 9.45 44.95 Q6.5 41.3 5.05 36.4 Q3.6 31.5 3.6 26 Q3.6 20.5 5.1 15.6 Q6.6 10.7 9.55 7 Q12.5 3.3 16.95 1.1 Q21.4 -1.1 27.4 -1.1 Q32.8 -1.1 37.3 0.8 Q41.8 2.7 43.9 7 L44.1 7 L44.1 0 Z\"\n",
       "        /><glyph unicode=\" \" horiz-adv-x=\"27.8\" d=\"\"\n",
       "        /><glyph unicode=\"t\" horiz-adv-x=\"31.5\" d=\"M18.2 51.7 L18.2 67.2 L9.7 67.2 L9.7 51.7 L0.9 51.7 L0.9 44.2 L9.7 44.2 L9.7 11.3 Q9.7 7.7 10.4 5.5 Q11.1 3.3 12.55 2.1 Q14 0.9 16.35 0.45 Q18.7 0 22 0 L28.5 0 L28.5 7.5 L24.6 7.5 Q22.6 7.5 21.35 7.65 Q20.1 7.8 19.4 8.3 Q18.7 8.8 18.45 9.7 Q18.2 10.6 18.2 12.1 L18.2 44.2 L28.5 44.2 L28.5 51.7 Z\"\n",
       "        /><glyph unicode=\"e\" horiz-adv-x=\"53.7\" d=\"M42.3 30.8 L12.6 30.8 Q12.8 33.8 13.9 36.45 Q15 39.1 16.9 41.1 Q18.8 43.1 21.45 44.25 Q24.1 45.4 27.4 45.4 Q30.6 45.4 33.25 44.25 Q35.9 43.1 37.85 41.15 Q39.8 39.2 40.95 36.5 Q42.1 33.8 42.3 30.8 ZM50.5 16.4 L42.1 16.4 Q41 11.3 37.55 8.8 Q34.1 6.3 28.7 6.3 Q24.5 6.3 21.4 7.7 Q18.3 9.1 16.3 11.45 Q14.3 13.8 13.4 16.85 Q12.5 19.9 12.6 23.3 L51.3 23.3 Q51.5 28 50.45 33.2 Q49.4 38.4 46.65 42.8 Q43.9 47.2 39.35 50.05 Q34.8 52.9 27.9 52.9 Q22.6 52.9 18.15 50.9 Q13.7 48.9 10.45 45.3 Q7.2 41.7 5.4 36.8 Q3.6 31.9 3.6 26 Q3.8 20.1 5.35 15.1 Q6.9 10.1 10 6.5 Q13.1 2.9 17.65 0.9 Q22.2 -1.1 28.4 -1.1 Q37.2 -1.1 43 3.3 Q48.8 7.7 50.5 16.4 Z\"\n",
       "        /><glyph unicode=\"i\" horiz-adv-x=\"22.2\" d=\"M15.4 61 L15.4 71.4 L6.9 71.4 L6.9 61 ZM6.9 51.7 L6.9 0 L15.4 0 L15.4 51.7 Z\"\n",
       "        /><glyph unicode=\"s\" horiz-adv-x=\"50.0\" d=\"M11.6 16.3 L3.1 16.3 Q3.3 11.5 5.1 8.15 Q6.9 4.8 9.9 2.75 Q12.9 0.7 16.8 -0.2 Q20.7 -1.1 25 -1.1 Q28.9 -1.1 32.85 -0.35 Q36.8 0.4 39.95 2.3 Q43.1 4.2 45.05 7.3 Q47 10.4 47 15.1 Q47 18.8 45.55 21.3 Q44.1 23.8 41.75 25.45 Q39.4 27.1 36.35 28.1 Q33.3 29.1 30.1 29.8 Q27.1 30.5 24.1 31.15 Q21.1 31.8 18.7 32.75 Q16.3 33.7 14.75 35.15 Q13.2 36.6 13.2 38.8 Q13.2 40.8 14.2 42.05 Q15.2 43.3 16.8 44.05 Q18.4 44.8 20.35 45.1 Q22.3 45.4 24.2 45.4 Q26.3 45.4 28.35 44.95 Q30.4 44.5 32.1 43.5 Q33.8 42.5 34.9 40.85 Q36 39.2 36.2 36.7 L44.7 36.7 Q44.4 41.4 42.7 44.55 Q41 47.7 38.15 49.55 Q35.3 51.4 31.6 52.15 Q27.9 52.9 23.5 52.9 Q20.1 52.9 16.65 52.05 Q13.2 51.2 10.45 49.45 Q7.7 47.7 5.95 44.9 Q4.2 42.1 4.2 38.2 Q4.2 33.2 6.7 30.4 Q9.2 27.6 12.95 26.05 Q16.7 24.5 21.1 23.65 Q25.5 22.8 29.25 21.75 Q33 20.7 35.5 19 Q38 17.3 38 14 Q38 11.6 36.8 10.05 Q35.6 8.5 33.75 7.7 Q31.9 6.9 29.7 6.6 Q27.5 6.3 25.5 6.3 Q22.9 6.3 20.45 6.8 Q18 7.3 16.05 8.45 Q14.1 9.6 12.9 11.55 Q11.7 13.5 11.6 16.3 Z\"\n",
       "        /><glyph unicode=\"n\" horiz-adv-x=\"55.6\" d=\"M6.4 51.7 L6.4 0 L14.9 0 L14.9 29.2 Q14.9 32.7 15.85 35.65 Q16.8 38.6 18.7 40.8 Q20.6 43 23.45 44.2 Q26.3 45.4 30.2 45.4 Q35.1 45.4 37.9 42.6 Q40.7 39.8 40.7 35 L40.7 0 L49.2 0 L49.2 34 Q49.2 38.2 48.35 41.65 Q47.5 45.1 45.4 47.6 Q43.3 50.1 39.9 51.5 Q36.5 52.9 31.4 52.9 Q19.9 52.9 14.6 43.5 L14.4 43.5 L14.4 51.7 Z\"\n",
       "        /><glyph unicode=\"a\" horiz-adv-x=\"53.7\" d=\"M52.2 0.2 Q50 -1.1 46.1 -1.1 Q42.8 -1.1 40.85 0.75 Q38.9 2.6 38.9 6.8 Q35.4 2.6 30.75 0.75 Q26.1 -1.1 20.7 -1.1 Q17.2 -1.1 14.05 -0.3 Q10.9 0.5 8.6 2.2 Q6.3 3.9 4.95 6.65 Q3.6 9.4 3.6 13.3 Q3.6 17.7 5.1 20.5 Q6.6 23.3 9.05 25.05 Q11.5 26.8 14.65 27.7 Q17.8 28.6 21.1 29.2 Q24.6 29.9 27.75 30.25 Q30.9 30.6 33.3 31.25 Q35.7 31.9 37.1 33.15 Q38.5 34.4 38.5 36.8 Q38.5 39.6 37.45 41.3 Q36.4 43 34.75 43.9 Q33.1 44.8 31.05 45.1 Q29 45.4 27 45.4 Q21.6 45.4 18 43.35 Q14.4 41.3 14.1 35.6 L5.6 35.6 Q5.8 40.4 7.6 43.7 Q9.4 47 12.4 49.05 Q15.4 51.1 19.25 52 Q23.1 52.9 27.5 52.9 Q31 52.9 34.45 52.4 Q37.9 51.9 40.7 50.35 Q43.5 48.8 45.2 46 Q46.9 43.2 46.9 38.7 L46.9 12.1 Q46.9 9.1 47.25 7.7 Q47.6 6.3 49.6 6.3 Q50.7 6.3 52.2 6.8 ZM38.4 26.7 Q36.8 25.5 34.2 24.95 Q31.6 24.4 28.75 24.05 Q25.9 23.7 23 23.25 Q20.1 22.8 17.8 21.8 Q15.5 20.8 14.05 18.95 Q12.6 17.1 12.6 13.9 Q12.6 11.8 13.45 10.35 Q14.3 8.9 15.65 8 Q17 7.1 18.8 6.7 Q20.6 6.3 22.6 6.3 Q26.8 6.3 29.8 7.45 Q32.8 8.6 34.7 10.35 Q36.6 12.1 37.5 14.15 Q38.4 16.2 38.4 18 Z\"\n",
       "        /><glyph unicode=\"r\" horiz-adv-x=\"33.3\" d=\"M6.1 51.7 L6.1 0 L14.6 0 L14.6 23 Q14.6 28 15.6 31.85 Q16.6 35.7 18.8 38.4 Q21 41.1 24.6 42.5 Q28.2 43.9 33.3 43.9 L33.3 52.9 Q26.4 53.1 21.9 50.1 Q17.4 47.1 14.3 40.8 L14.1 40.8 L14.1 51.7 Z\"\n",
       "        /><glyph unicode=\"T\" horiz-adv-x=\"57.4\" d=\"M24 63.4 L24 0 L33.5 0 L33.5 63.4 L57.3 63.4 L57.3 71.4 L0.2 71.4 L0.2 63.4 Z\"\n",
       "        /><glyph unicode=\"p\" horiz-adv-x=\"59.3\" d=\"M6.7 51.7 L6.7 -19.7 L15.2 -19.7 L15.2 6.9 L15.4 6.9 Q16.8 4.6 18.85 3.05 Q20.9 1.5 23.2 0.6 Q25.5 -0.3 27.85 -0.7 Q30.2 -1.1 32.1 -1.1 Q38 -1.1 42.45 1 Q46.9 3.1 49.85 6.75 Q52.8 10.4 54.25 15.3 Q55.7 20.2 55.7 25.7 Q55.7 31.2 54.2 36.1 Q52.7 41 49.75 44.75 Q46.8 48.5 42.35 50.7 Q37.9 52.9 31.9 52.9 Q26.5 52.9 22 50.95 Q17.5 49 15.4 44.7 L15.2 44.7 L15.2 51.7 ZM46.7 26.3 Q46.7 22.5 45.9 18.9 Q45.1 15.3 43.3 12.5 Q41.5 9.7 38.55 8 Q35.6 6.3 31.2 6.3 Q26.8 6.3 23.7 7.95 Q20.6 9.6 18.65 12.3 Q16.7 15 15.8 18.55 Q14.9 22.1 14.9 25.9 Q14.9 29.5 15.75 33 Q16.6 36.5 18.5 39.25 Q20.4 42 23.4 43.7 Q26.4 45.4 30.7 45.4 Q34.8 45.4 37.85 43.8 Q40.9 42.2 42.85 39.5 Q44.8 36.8 45.75 33.35 Q46.7 29.9 46.7 26.3 Z\"\n",
       "        /><glyph unicode=\"m\" horiz-adv-x=\"85.3\" d=\"M6.4 51.7 L6.4 0 L14.9 0 L14.9 32.2 Q14.9 33.7 15.65 35.95 Q16.4 38.2 18.05 40.3 Q19.7 42.4 22.35 43.9 Q25 45.4 28.7 45.4 Q31.6 45.4 33.45 44.55 Q35.3 43.7 36.4 42.15 Q37.5 40.6 37.95 38.5 Q38.4 36.4 38.4 33.9 L38.4 0 L46.9 0 L46.9 32.2 Q46.9 38.2 50.5 41.8 Q54.1 45.4 60.4 45.4 Q63.5 45.4 65.45 44.5 Q67.4 43.6 68.5 42.05 Q69.6 40.5 70 38.4 Q70.4 36.3 70.4 33.9 L70.4 0 L78.9 0 L78.9 37.9 Q78.9 41.9 77.65 44.75 Q76.4 47.6 74.15 49.4 Q71.9 51.2 68.75 52.05 Q65.6 52.9 61.7 52.9 Q56.6 52.9 52.35 50.6 Q48.1 48.3 45.5 44.1 Q43.9 48.9 40 50.9 Q36.1 52.9 31.3 52.9 Q20.4 52.9 14.6 44.1 L14.4 44.1 L14.4 51.7 Z\"\n",
       "        /><glyph unicode=\"o\" horiz-adv-x=\"57.4\" d=\"M12.6 25.8 Q12.6 30.5 13.85 34.15 Q15.1 37.8 17.3 40.3 Q19.5 42.8 22.45 44.1 Q25.4 45.4 28.7 45.4 Q32 45.4 34.95 44.1 Q37.9 42.8 40.1 40.3 Q42.3 37.8 43.55 34.15 Q44.8 30.5 44.8 25.8 Q44.8 21.1 43.55 17.45 Q42.3 13.8 40.1 11.35 Q37.9 8.9 34.95 7.6 Q32 6.3 28.7 6.3 Q25.4 6.3 22.45 7.6 Q19.5 8.9 17.3 11.35 Q15.1 13.8 13.85 17.45 Q12.6 21.1 12.6 25.8 ZM3.6 25.8 Q3.6 20.1 5.2 15.2 Q6.8 10.3 10 6.65 Q13.2 3 17.9 0.95 Q22.6 -1.1 28.7 -1.1 Q34.9 -1.1 39.55 0.95 Q44.2 3 47.4 6.65 Q50.6 10.3 52.2 15.2 Q53.8 20.1 53.8 25.8 Q53.8 31.5 52.2 36.45 Q50.6 41.4 47.4 45.05 Q44.2 48.7 39.55 50.8 Q34.9 52.9 28.7 52.9 Q22.6 52.9 17.9 50.8 Q13.2 48.7 10 45.05 Q6.8 41.4 5.2 36.45 Q3.6 31.5 3.6 25.8 Z\"\n",
       "        /><glyph unicode=\"c\" horiz-adv-x=\"53.7\" d=\"M41.5 35.1 L50.3 35.1 Q49.8 39.7 47.9 43.05 Q46 46.4 43.05 48.6 Q40.1 50.8 36.25 51.85 Q32.4 52.9 28 52.9 Q21.9 52.9 17.3 50.75 Q12.7 48.6 9.65 44.85 Q6.6 41.1 5.1 36.05 Q3.6 31 3.6 25.2 Q3.6 19.4 5.15 14.55 Q6.7 9.7 9.75 6.2 Q12.8 2.7 17.35 0.8 Q21.9 -1.1 27.8 -1.1 Q37.7 -1.1 43.45 4.1 Q49.2 9.3 50.6 18.9 L41.9 18.9 Q41.1 12.9 37.55 9.6 Q34 6.3 27.7 6.3 Q23.7 6.3 20.8 7.9 Q17.9 9.5 16.1 12.15 Q14.3 14.8 13.45 18.2 Q12.6 21.6 12.6 25.2 Q12.6 29.1 13.4 32.75 Q14.2 36.4 16.05 39.2 Q17.9 42 21 43.7 Q24.1 45.4 28.7 45.4 Q34.1 45.4 37.3 42.7 Q40.5 40 41.5 35.1 Z\"\n",
       "        /><glyph unicode=\"L\" horiz-adv-x=\"55.6\" d=\"M7.8 71.4 L7.8 0 L55.1 0 L55.1 8 L17.3 8 L17.3 71.4 Z\"\n",
       "      /></font\n",
       "      ><font horiz-adv-x=\"50.0\" id=\"font2\"\n",
       "      ><font-face ascent=\"97.5\" descent=\"21.699999\" units-per-em=\"100\" style=\"font-style:normal; font-family:Helvetica Neue; font-weight:bold;\"\n",
       "        /><missing-glyph horiz-adv-x=\"50.0\" d=\"M39.1 60.7 L11.1 60.7 L11.1 9.5 L39.1 9.5 ZM48.2 69.8 L48.2 0.3 L1.7 0.3 L1.7 69.8 Z\"\n",
       "        /><glyph unicode=\"r\" horiz-adv-x=\"38.9\" d=\"M5.4 51.7 L5.4 0 L19.6 0 L19.6 23.3 Q19.6 26.8 20.3 29.8 Q21 32.8 22.65 35.05 Q24.3 37.3 27 38.6 Q29.7 39.9 33.6 39.9 Q34.9 39.9 36.3 39.75 Q37.7 39.6 38.7 39.4 L38.7 52.6 Q37 53.1 35.6 53.1 Q32.9 53.1 30.4 52.3 Q27.9 51.5 25.7 50.05 Q23.5 48.6 21.8 46.55 Q20.1 44.5 19.1 42.1 L18.9 42.1 L18.9 51.7 Z\"\n",
       "        /><glyph unicode=\"d\" horiz-adv-x=\"61.1\" d=\"M42.1 26 Q42.1 22.8 41.5 19.8 Q40.9 16.8 39.5 14.45 Q38.1 12.1 35.75 10.7 Q33.4 9.3 29.9 9.3 Q26.6 9.3 24.25 10.75 Q21.9 12.2 20.35 14.55 Q18.8 16.9 18.1 19.9 Q17.4 22.9 17.4 25.9 Q17.4 29.1 18.05 32.05 Q18.7 35 20.15 37.3 Q21.6 39.6 24 41 Q26.4 42.4 29.9 42.4 Q33.4 42.4 35.7 41 Q38 39.6 39.45 37.35 Q40.9 35.1 41.5 32.15 Q42.1 29.2 42.1 26 ZM42.3 6.6 L42.3 0 L55.8 0 L55.8 71.4 L41.6 71.4 L41.6 45.4 L41.4 45.4 Q39 49.2 34.85 51.15 Q30.7 53.1 26.1 53.1 Q20.4 53.1 16.1 50.85 Q11.8 48.6 8.95 44.9 Q6.1 41.2 4.65 36.35 Q3.2 31.5 3.2 26.3 Q3.2 20.9 4.65 15.9 Q6.1 10.9 8.95 7.05 Q11.8 3.2 16.2 0.95 Q20.6 -1.3 26.4 -1.3 Q31.5 -1.3 35.55 0.55 Q39.6 2.4 42.1 6.6 Z\"\n",
       "        /><glyph unicode=\"t\" horiz-adv-x=\"35.2\" d=\"M23.4 51.7 L23.4 67.2 L9.2 67.2 L9.2 51.7 L0.6 51.7 L0.6 42.2 L9.2 42.2 L9.2 11.7 Q9.2 7.8 10.5 5.4 Q11.8 3 14.05 1.7 Q16.3 0.4 19.25 -0.05 Q22.2 -0.5 25.5 -0.5 Q27.6 -0.5 29.8 -0.4 Q32 -0.3 33.8 0 L33.8 11 Q32.8 10.8 31.7 10.7 Q30.6 10.6 29.4 10.6 Q25.8 10.6 24.6 11.8 Q23.4 13 23.4 16.6 L23.4 42.2 L33.8 42.2 L33.8 51.7 Z\"\n",
       "        /><glyph unicode=\"s\" horiz-adv-x=\"53.7\" d=\"M16.4 16.8 L2.9 16.8 Q3.1 11.6 5.25 8.15 Q7.4 4.7 10.75 2.6 Q14.1 0.5 18.4 -0.4 Q22.7 -1.3 27.2 -1.3 Q31.6 -1.3 35.85 -0.45 Q40.1 0.4 43.4 2.5 Q46.7 4.6 48.75 8.05 Q50.8 11.5 50.8 16.6 Q50.8 20.2 49.4 22.65 Q48 25.1 45.7 26.75 Q43.4 28.4 40.45 29.4 Q37.5 30.4 34.4 31.1 Q31.4 31.8 28.5 32.4 Q25.6 33 23.35 33.75 Q21.1 34.5 19.7 35.7 Q18.3 36.9 18.3 38.8 Q18.3 40.4 19.1 41.35 Q19.9 42.3 21.05 42.8 Q22.2 43.3 23.6 43.45 Q25 43.6 26.2 43.6 Q30 43.6 32.8 42.15 Q35.6 40.7 35.9 36.6 L49.4 36.6 Q49 41.4 46.95 44.55 Q44.9 47.7 41.8 49.6 Q38.7 51.5 34.75 52.3 Q30.8 53.1 26.6 53.1 Q22.4 53.1 18.4 52.35 Q14.4 51.6 11.2 49.75 Q8 47.9 6.05 44.7 Q4.1 41.5 4.1 36.5 Q4.1 33.1 5.5 30.75 Q6.9 28.4 9.2 26.85 Q11.5 25.3 14.45 24.35 Q17.4 23.4 20.5 22.7 Q28.1 21.1 32.35 19.5 Q36.6 17.9 36.6 14.7 Q36.6 12.8 35.7 11.55 Q34.8 10.3 33.45 9.55 Q32.1 8.8 30.45 8.45 Q28.8 8.1 27.3 8.1 Q25.2 8.1 23.25 8.6 Q21.3 9.1 19.8 10.15 Q18.3 11.2 17.35 12.85 Q16.4 14.5 16.4 16.8 Z\"\n",
       "        /><glyph unicode=\"n\" horiz-adv-x=\"59.3\" d=\"M5.4 51.7 L5.4 0 L19.6 0 L19.6 27.1 Q19.6 35 22.2 38.45 Q24.8 41.9 30.6 41.9 Q35.7 41.9 37.7 38.75 Q39.7 35.6 39.7 29.2 L39.7 0 L53.9 0 L53.9 31.8 Q53.9 36.6 53.05 40.55 Q52.2 44.5 50.1 47.25 Q48 50 44.35 51.55 Q40.7 53.1 35 53.1 Q30.5 53.1 26.2 51.05 Q21.9 49 19.2 44.5 L18.9 44.5 L18.9 51.7 Z\"\n",
       "        /><glyph unicode=\"e\" horiz-adv-x=\"57.4\" d=\"M40.2 31.4 L17.1 31.4 Q17.2 32.9 17.75 34.8 Q18.3 36.7 19.65 38.4 Q21 40.1 23.25 41.25 Q25.5 42.4 28.9 42.4 Q34.1 42.4 36.65 39.6 Q39.2 36.8 40.2 31.4 ZM17.1 22.4 L54.4 22.4 Q54.8 28.4 53.4 33.9 Q52 39.4 48.85 43.7 Q45.7 48 40.8 50.55 Q35.9 53.1 29.3 53.1 Q23.4 53.1 18.55 51 Q13.7 48.9 10.2 45.25 Q6.7 41.6 4.8 36.6 Q2.9 31.6 2.9 25.8 Q2.9 19.8 4.75 14.8 Q6.6 9.8 10 6.2 Q13.4 2.6 18.3 0.65 Q23.2 -1.3 29.3 -1.3 Q38.1 -1.3 44.3 2.7 Q50.5 6.7 53.5 16 L41 16 Q40.3 13.6 37.2 11.45 Q34.1 9.3 29.8 9.3 Q23.8 9.3 20.6 12.4 Q17.4 15.5 17.1 22.4 Z\"\n",
       "        /><glyph unicode=\"p\" horiz-adv-x=\"61.1\" d=\"M31.5 9.3 Q28.1 9.3 25.7 10.7 Q23.3 12.1 21.85 14.35 Q20.4 16.6 19.75 19.6 Q19.1 22.6 19.1 25.7 Q19.1 28.9 19.7 31.9 Q20.3 34.9 21.75 37.2 Q23.2 39.5 25.55 40.95 Q27.9 42.4 31.4 42.4 Q34.8 42.4 37.15 40.95 Q39.5 39.5 41 37.15 Q42.5 34.8 43.15 31.8 Q43.8 28.8 43.8 25.7 Q43.8 22.6 43.2 19.6 Q42.6 16.6 41.15 14.35 Q39.7 12.1 37.35 10.7 Q35 9.3 31.5 9.3 ZM5.4 51.7 L5.4 -18.1 L19.6 -18.1 L19.6 6.4 L19.8 6.4 Q22.4 2.6 26.45 0.65 Q30.5 -1.3 35.3 -1.3 Q41 -1.3 45.25 0.9 Q49.5 3.1 52.35 6.8 Q55.2 10.5 56.6 15.3 Q58 20.1 58 25.3 Q58 30.8 56.6 35.85 Q55.2 40.9 52.3 44.7 Q49.4 48.5 45 50.8 Q40.6 53.1 34.5 53.1 Q29.7 53.1 25.7 51.2 Q21.7 49.3 19.1 45.1 L18.9 45.1 L18.9 51.7 Z\"\n",
       "        /><glyph unicode=\"m\" horiz-adv-x=\"90.6\" d=\"M5.8 51.7 L5.8 0 L20 0 L20 30 Q20 33.8 21.1 36.15 Q22.2 38.5 23.75 39.75 Q25.3 41 26.95 41.45 Q28.6 41.9 29.6 41.9 Q33 41.9 34.75 40.75 Q36.5 39.6 37.25 37.7 Q38 35.8 38.1 33.55 Q38.2 31.3 38.2 29 L38.2 0 L52.4 0 L52.4 28.8 Q52.4 31.2 52.75 33.55 Q53.1 35.9 54.15 37.75 Q55.2 39.6 57.05 40.75 Q58.9 41.9 61.9 41.9 Q64.9 41.9 66.65 40.9 Q68.4 39.9 69.3 38.2 Q70.2 36.5 70.4 34.2 Q70.6 31.9 70.6 29.3 L70.6 0 L84.8 0 L84.8 34.6 Q84.8 39.6 83.4 43.15 Q82 46.7 79.5 48.9 Q77 51.1 73.5 52.1 Q70 53.1 65.9 53.1 Q60.5 53.1 56.55 50.5 Q52.6 47.9 50.3 44.5 Q48.2 49.3 44.15 51.2 Q40.1 53.1 35.2 53.1 Q30.1 53.1 26.15 50.9 Q22.2 48.7 19.4 44.7 L19.2 44.7 L19.2 51.7 Z\"\n",
       "        /><glyph unicode=\"o\" horiz-adv-x=\"61.1\" d=\"M18 25.8 Q18 28.9 18.6 31.9 Q19.2 34.9 20.65 37.2 Q22.1 39.5 24.5 40.95 Q26.9 42.4 30.5 42.4 Q34.1 42.4 36.55 40.95 Q39 39.5 40.45 37.2 Q41.9 34.9 42.5 31.9 Q43.1 28.9 43.1 25.8 Q43.1 22.7 42.5 19.75 Q41.9 16.8 40.45 14.45 Q39 12.1 36.55 10.7 Q34.1 9.3 30.5 9.3 Q26.9 9.3 24.5 10.7 Q22.1 12.1 20.65 14.45 Q19.2 16.8 18.6 19.75 Q18 22.7 18 25.8 ZM3.8 25.8 Q3.8 19.6 5.7 14.6 Q7.6 9.6 11.1 6.05 Q14.6 2.5 19.5 0.6 Q24.4 -1.3 30.5 -1.3 Q36.6 -1.3 41.55 0.6 Q46.5 2.5 50 6.05 Q53.5 9.6 55.4 14.6 Q57.3 19.6 57.3 25.8 Q57.3 32 55.4 37.05 Q53.5 42.1 50 45.65 Q46.5 49.2 41.55 51.15 Q36.6 53.1 30.5 53.1 Q24.4 53.1 19.5 51.15 Q14.6 49.2 11.1 45.65 Q7.6 42.1 5.7 37.05 Q3.8 32 3.8 25.8 Z\"\n",
       "        /><glyph unicode=\"c\" horiz-adv-x=\"57.4\" d=\"M40.6 33.5 L54.5 33.5 Q54.2 38.5 52.1 42.15 Q50 45.8 46.65 48.25 Q43.3 50.7 39.05 51.9 Q34.8 53.1 30.2 53.1 Q23.9 53.1 19 51 Q14.1 48.9 10.7 45.15 Q7.3 41.4 5.55 36.25 Q3.8 31.1 3.8 25.1 Q3.8 19.3 5.7 14.45 Q7.6 9.6 11 6.1 Q14.4 2.6 19.25 0.65 Q24.1 -1.3 29.9 -1.3 Q40.2 -1.3 46.8 4.1 Q53.4 9.5 54.8 19.8 L41.1 19.8 Q40.4 15 37.65 12.15 Q34.9 9.3 29.8 9.3 Q26.5 9.3 24.2 10.8 Q21.9 12.3 20.55 14.65 Q19.2 17 18.6 19.9 Q18 22.8 18 25.6 Q18 28.5 18.6 31.45 Q19.2 34.4 20.65 36.85 Q22.1 39.3 24.4 40.85 Q26.7 42.4 30.1 42.4 Q39.2 42.4 40.6 33.5 Z\"\n",
       "        /><glyph unicode=\" \" horiz-adv-x=\"27.8\" d=\"\"\n",
       "        /><glyph unicode=\"g\" horiz-adv-x=\"61.1\" d=\"M29.5 12.2 Q26.2 12.2 24 13.6 Q21.8 15 20.45 17.2 Q19.1 19.4 18.55 22.15 Q18 24.9 18 27.7 Q18 30.6 18.65 33.25 Q19.3 35.9 20.75 37.95 Q22.2 40 24.35 41.2 Q26.5 42.4 29.5 42.4 Q33 42.4 35.3 41.1 Q37.6 39.8 39 37.6 Q40.4 35.4 41 32.55 Q41.6 29.7 41.6 26.5 Q41.6 23.7 40.85 21.15 Q40.1 18.6 38.6 16.6 Q37.1 14.6 34.8 13.4 Q32.5 12.2 29.5 12.2 ZM55.1 3.3 L55.1 51.7 L41.6 51.7 L41.6 44.8 L41.4 44.8 Q38.8 49.3 34.95 51.2 Q31.1 53.1 26 53.1 Q20.6 53.1 16.45 51 Q12.3 48.9 9.5 45.35 Q6.7 41.8 5.25 37.15 Q3.8 32.5 3.8 27.5 Q3.8 22.2 5.05 17.45 Q6.3 12.7 9 9.15 Q11.7 5.6 15.9 3.55 Q20.1 1.5 25.9 1.5 Q30.6 1.5 34.85 3.45 Q39.1 5.4 41.4 9.5 L41.6 9.5 L41.6 2.7 Q41.7 -2.8 38.95 -6.4 Q36.2 -10 30.2 -10 Q26.4 -10 23.5 -8.45 Q20.6 -6.9 19.6 -2.9 L5.5 -2.9 Q5.8 -7.3 7.95 -10.45 Q10.1 -13.6 13.35 -15.6 Q16.6 -17.6 20.55 -18.55 Q24.5 -19.5 28.3 -19.5 Q37.2 -19.5 42.5 -17.1 Q47.8 -14.7 50.6 -11.25 Q53.4 -7.8 54.25 -3.8 Q55.1 0.2 55.1 3.3 Z\"\n",
       "        /><glyph unicode=\"a\" horiz-adv-x=\"57.4\" d=\"M4.8 35.8 Q5.1 40.8 7.3 44.1 Q9.5 47.4 12.9 49.4 Q16.3 51.4 20.55 52.25 Q24.8 53.1 29.1 53.1 Q33 53.1 37 52.55 Q41 52 44.3 50.4 Q47.6 48.8 49.7 45.95 Q51.8 43.1 51.8 38.4 L51.8 11.5 Q51.8 8 52.2 4.8 Q52.6 1.6 53.6 0 L39.2 0 Q38.8 1.2 38.55 2.45 Q38.3 3.7 38.2 5 Q34.8 1.5 30.2 0.1 Q25.6 -1.3 20.8 -1.3 Q17.1 -1.3 13.9 -0.4 Q10.7 0.5 8.3 2.4 Q5.9 4.3 4.55 7.2 Q3.2 10.1 3.2 14.1 Q3.2 18.5 4.75 21.35 Q6.3 24.2 8.75 25.9 Q11.2 27.6 14.35 28.45 Q17.5 29.3 20.7 29.8 Q23.9 30.3 27 30.6 Q30.1 30.9 32.5 31.5 Q34.9 32.1 36.3 33.25 Q37.7 34.4 37.6 36.6 Q37.6 38.9 36.85 40.25 Q36.1 41.6 34.85 42.35 Q33.6 43.1 31.95 43.35 Q30.3 43.6 28.4 43.6 Q24.2 43.6 21.8 41.8 Q19.4 40 19 35.8 ZM37.6 25.3 Q36.7 24.5 35.35 24.05 Q34 23.6 32.45 23.3 Q30.9 23 29.2 22.8 Q27.5 22.6 25.8 22.3 Q24.2 22 22.65 21.5 Q21.1 21 19.95 20.15 Q18.8 19.3 18.1 18 Q17.4 16.7 17.4 14.7 Q17.4 12.8 18.1 11.5 Q18.8 10.2 20 9.45 Q21.2 8.7 22.8 8.4 Q24.4 8.1 26.1 8.1 Q30.3 8.1 32.6 9.5 Q34.9 10.9 36 12.85 Q37.1 14.8 37.35 16.8 Q37.6 18.8 37.6 20 Z\"\n",
       "        /><glyph unicode=\"L\" horiz-adv-x=\"59.3\" d=\"M6.9 71.4 L6.9 0 L57.4 0 L57.4 13.2 L22.6 13.2 L22.6 71.4 Z\"\n",
       "      /></font\n",
       "    ></defs\n",
       "    ><g style=\"fill:white; stroke:white;\"\n",
       "    ><rect x=\"0\" y=\"0\" width=\"560\" style=\"clip-path:url(#clipPath1); stroke:none;\" height=\"420\"\n",
       "    /></g\n",
       "    ><g style=\"fill:white; text-rendering:optimizeSpeed; color-rendering:optimizeSpeed; image-rendering:optimizeSpeed; shape-rendering:crispEdges; stroke:white; color-interpolation:sRGB;\"\n",
       "    ><rect x=\"0\" width=\"560\" height=\"420\" y=\"0\" style=\"stroke:none;\"\n",
       "      /><path style=\"stroke:none;\" d=\"M73 374 L507 374 L507 31 L73 31 Z\"\n",
       "    /></g\n",
       "    ><g style=\"fill:rgb(38,38,38); text-rendering:geometricPrecision; image-rendering:optimizeQuality; color-rendering:optimizeQuality; stroke-linejoin:round; stroke:rgb(38,38,38); color-interpolation:linearRGB; stroke-width:0.5;\"\n",
       "    ><line y2=\"374\" style=\"fill:none;\" x1=\"73\" x2=\"507\" y1=\"374\"\n",
       "      /><line y2=\"31\" style=\"fill:none;\" x1=\"73\" x2=\"507\" y1=\"31\"\n",
       "      /><line y2=\"369.66\" style=\"fill:none;\" x1=\"73\" x2=\"73\" y1=\"374\"\n",
       "      /><line y2=\"369.66\" style=\"fill:none;\" x1=\"116.4\" x2=\"116.4\" y1=\"374\"\n",
       "      /><line y2=\"369.66\" style=\"fill:none;\" x1=\"159.8\" x2=\"159.8\" y1=\"374\"\n",
       "      /><line y2=\"369.66\" style=\"fill:none;\" x1=\"203.2\" x2=\"203.2\" y1=\"374\"\n",
       "      /><line y2=\"369.66\" style=\"fill:none;\" x1=\"246.6\" x2=\"246.6\" y1=\"374\"\n",
       "      /><line y2=\"369.66\" style=\"fill:none;\" x1=\"290\" x2=\"290\" y1=\"374\"\n",
       "      /><line y2=\"369.66\" style=\"fill:none;\" x1=\"333.4\" x2=\"333.4\" y1=\"374\"\n",
       "      /><line y2=\"369.66\" style=\"fill:none;\" x1=\"376.8\" x2=\"376.8\" y1=\"374\"\n",
       "      /><line y2=\"369.66\" style=\"fill:none;\" x1=\"420.2\" x2=\"420.2\" y1=\"374\"\n",
       "      /><line y2=\"369.66\" style=\"fill:none;\" x1=\"463.6\" x2=\"463.6\" y1=\"374\"\n",
       "      /><line y2=\"369.66\" style=\"fill:none;\" x1=\"507\" x2=\"507\" y1=\"374\"\n",
       "      /><line y2=\"35.34\" style=\"fill:none;\" x1=\"73\" x2=\"73\" y1=\"31\"\n",
       "      /><line y2=\"35.34\" style=\"fill:none;\" x1=\"116.4\" x2=\"116.4\" y1=\"31\"\n",
       "      /><line y2=\"35.34\" style=\"fill:none;\" x1=\"159.8\" x2=\"159.8\" y1=\"31\"\n",
       "      /><line y2=\"35.34\" style=\"fill:none;\" x1=\"203.2\" x2=\"203.2\" y1=\"31\"\n",
       "      /><line y2=\"35.34\" style=\"fill:none;\" x1=\"246.6\" x2=\"246.6\" y1=\"31\"\n",
       "      /><line y2=\"35.34\" style=\"fill:none;\" x1=\"290\" x2=\"290\" y1=\"31\"\n",
       "      /><line y2=\"35.34\" style=\"fill:none;\" x1=\"333.4\" x2=\"333.4\" y1=\"31\"\n",
       "      /><line y2=\"35.34\" style=\"fill:none;\" x1=\"376.8\" x2=\"376.8\" y1=\"31\"\n",
       "      /><line y2=\"35.34\" style=\"fill:none;\" x1=\"420.2\" x2=\"420.2\" y1=\"31\"\n",
       "      /><line y2=\"35.34\" style=\"fill:none;\" x1=\"463.6\" x2=\"463.6\" y1=\"31\"\n",
       "      /><line y2=\"35.34\" style=\"fill:none;\" x1=\"507\" x2=\"507\" y1=\"31\"\n",
       "    /></g\n",
       "    ><g transform=\"translate(73,378)\" style=\"font-size:10px; fill:rgb(38,38,38); text-rendering:geometricPrecision; image-rendering:optimizeQuality; color-rendering:optimizeQuality; font-family:'Helvetica Neue'; stroke:rgb(38,38,38); color-interpolation:linearRGB;\"\n",
       "    ><text x=\"-3\" xml:space=\"preserve\" y=\"10\" style=\"stroke:none;\"\n",
       "      >0</text\n",
       "    ></g\n",
       "    ><g transform=\"translate(116.4,378)\" style=\"font-size:10px; fill:rgb(38,38,38); text-rendering:geometricPrecision; image-rendering:optimizeQuality; color-rendering:optimizeQuality; font-family:'Helvetica Neue'; stroke:rgb(38,38,38); color-interpolation:linearRGB;\"\n",
       "    ><text x=\"-3\" xml:space=\"preserve\" y=\"10\" style=\"stroke:none;\"\n",
       "      >1</text\n",
       "    ></g\n",
       "    ><g transform=\"translate(159.8,378)\" style=\"font-size:10px; fill:rgb(38,38,38); text-rendering:geometricPrecision; image-rendering:optimizeQuality; color-rendering:optimizeQuality; font-family:'Helvetica Neue'; stroke:rgb(38,38,38); color-interpolation:linearRGB;\"\n",
       "    ><text x=\"-3\" xml:space=\"preserve\" y=\"10\" style=\"stroke:none;\"\n",
       "      >2</text\n",
       "    ></g\n",
       "    ><g transform=\"translate(203.2,378)\" style=\"font-size:10px; fill:rgb(38,38,38); text-rendering:geometricPrecision; image-rendering:optimizeQuality; color-rendering:optimizeQuality; font-family:'Helvetica Neue'; stroke:rgb(38,38,38); color-interpolation:linearRGB;\"\n",
       "    ><text x=\"-3\" xml:space=\"preserve\" y=\"10\" style=\"stroke:none;\"\n",
       "      >3</text\n",
       "    ></g\n",
       "    ><g transform=\"translate(246.6,378)\" style=\"font-size:10px; fill:rgb(38,38,38); text-rendering:geometricPrecision; image-rendering:optimizeQuality; color-rendering:optimizeQuality; font-family:'Helvetica Neue'; stroke:rgb(38,38,38); color-interpolation:linearRGB;\"\n",
       "    ><text x=\"-3\" xml:space=\"preserve\" y=\"10\" style=\"stroke:none;\"\n",
       "      >4</text\n",
       "    ></g\n",
       "    ><g transform=\"translate(290,378)\" style=\"font-size:10px; fill:rgb(38,38,38); text-rendering:geometricPrecision; image-rendering:optimizeQuality; color-rendering:optimizeQuality; font-family:'Helvetica Neue'; stroke:rgb(38,38,38); color-interpolation:linearRGB;\"\n",
       "    ><text x=\"-3\" xml:space=\"preserve\" y=\"10\" style=\"stroke:none;\"\n",
       "      >5</text\n",
       "    ></g\n",
       "    ><g transform=\"translate(333.4,378)\" style=\"font-size:10px; fill:rgb(38,38,38); text-rendering:geometricPrecision; image-rendering:optimizeQuality; color-rendering:optimizeQuality; font-family:'Helvetica Neue'; stroke:rgb(38,38,38); color-interpolation:linearRGB;\"\n",
       "    ><text x=\"-3\" xml:space=\"preserve\" y=\"10\" style=\"stroke:none;\"\n",
       "      >6</text\n",
       "    ></g\n",
       "    ><g transform=\"translate(376.8,378)\" style=\"font-size:10px; fill:rgb(38,38,38); text-rendering:geometricPrecision; image-rendering:optimizeQuality; color-rendering:optimizeQuality; font-family:'Helvetica Neue'; stroke:rgb(38,38,38); color-interpolation:linearRGB;\"\n",
       "    ><text x=\"-3\" xml:space=\"preserve\" y=\"10\" style=\"stroke:none;\"\n",
       "      >7</text\n",
       "    ></g\n",
       "    ><g transform=\"translate(420.2,378)\" style=\"font-size:10px; fill:rgb(38,38,38); text-rendering:geometricPrecision; image-rendering:optimizeQuality; color-rendering:optimizeQuality; font-family:'Helvetica Neue'; stroke:rgb(38,38,38); color-interpolation:linearRGB;\"\n",
       "    ><text x=\"-3\" xml:space=\"preserve\" y=\"10\" style=\"stroke:none;\"\n",
       "      >8</text\n",
       "    ></g\n",
       "    ><g transform=\"translate(463.6,378)\" style=\"font-size:10px; fill:rgb(38,38,38); text-rendering:geometricPrecision; image-rendering:optimizeQuality; color-rendering:optimizeQuality; font-family:'Helvetica Neue'; stroke:rgb(38,38,38); color-interpolation:linearRGB;\"\n",
       "    ><text x=\"-3\" xml:space=\"preserve\" y=\"10\" style=\"stroke:none;\"\n",
       "      >9</text\n",
       "    ></g\n",
       "    ><g transform=\"translate(507,378)\" style=\"font-size:10px; fill:rgb(38,38,38); text-rendering:geometricPrecision; image-rendering:optimizeQuality; color-rendering:optimizeQuality; font-family:'Helvetica Neue'; stroke:rgb(38,38,38); color-interpolation:linearRGB;\"\n",
       "    ><text x=\"-6\" xml:space=\"preserve\" y=\"10\" style=\"stroke:none;\"\n",
       "      >10</text\n",
       "    ></g\n",
       "    ><g style=\"fill:rgb(38,38,38); text-rendering:geometricPrecision; image-rendering:optimizeQuality; color-rendering:optimizeQuality; stroke-linejoin:round; stroke:rgb(38,38,38); color-interpolation:linearRGB; stroke-width:0.5;\"\n",
       "    ><line y2=\"31\" style=\"fill:none;\" x1=\"73\" x2=\"73\" y1=\"374\"\n",
       "      /><line y2=\"31\" style=\"fill:none;\" x1=\"507\" x2=\"507\" y1=\"374\"\n",
       "      /><line y2=\"374\" style=\"fill:none;\" x1=\"73\" x2=\"77.34\" y1=\"374\"\n",
       "      /><line y2=\"316.8333\" style=\"fill:none;\" x1=\"73\" x2=\"77.34\" y1=\"316.8333\"\n",
       "      /><line y2=\"259.6667\" style=\"fill:none;\" x1=\"73\" x2=\"77.34\" y1=\"259.6667\"\n",
       "      /><line y2=\"202.5\" style=\"fill:none;\" x1=\"73\" x2=\"77.34\" y1=\"202.5\"\n",
       "      /><line y2=\"145.3333\" style=\"fill:none;\" x1=\"73\" x2=\"77.34\" y1=\"145.3333\"\n",
       "      /><line y2=\"88.1667\" style=\"fill:none;\" x1=\"73\" x2=\"77.34\" y1=\"88.1667\"\n",
       "      /><line y2=\"31\" style=\"fill:none;\" x1=\"73\" x2=\"77.34\" y1=\"31\"\n",
       "      /><line y2=\"374\" style=\"fill:none;\" x1=\"507\" x2=\"502.66\" y1=\"374\"\n",
       "      /><line y2=\"316.8333\" style=\"fill:none;\" x1=\"507\" x2=\"502.66\" y1=\"316.8333\"\n",
       "      /><line y2=\"259.6667\" style=\"fill:none;\" x1=\"507\" x2=\"502.66\" y1=\"259.6667\"\n",
       "      /><line y2=\"202.5\" style=\"fill:none;\" x1=\"507\" x2=\"502.66\" y1=\"202.5\"\n",
       "      /><line y2=\"145.3333\" style=\"fill:none;\" x1=\"507\" x2=\"502.66\" y1=\"145.3333\"\n",
       "      /><line y2=\"88.1667\" style=\"fill:none;\" x1=\"507\" x2=\"502.66\" y1=\"88.1667\"\n",
       "      /><line y2=\"31\" style=\"fill:none;\" x1=\"507\" x2=\"502.66\" y1=\"31\"\n",
       "    /></g\n",
       "    ><g transform=\"translate(69,374)\" style=\"font-size:10px; fill:rgb(38,38,38); text-rendering:geometricPrecision; image-rendering:optimizeQuality; color-rendering:optimizeQuality; font-family:'Helvetica Neue'; stroke:rgb(38,38,38); color-interpolation:linearRGB;\"\n",
       "    ><text x=\"-6\" xml:space=\"preserve\" y=\"3.5\" style=\"stroke:none;\"\n",
       "      >0</text\n",
       "    ></g\n",
       "    ><g transform=\"translate(69,316.8333)\" style=\"font-size:10px; fill:rgb(38,38,38); text-rendering:geometricPrecision; image-rendering:optimizeQuality; color-rendering:optimizeQuality; font-family:'Helvetica Neue'; stroke:rgb(38,38,38); color-interpolation:linearRGB;\"\n",
       "    ><text x=\"-14\" xml:space=\"preserve\" y=\"3.5\" style=\"stroke:none;\"\n",
       "      >0.2</text\n",
       "    ></g\n",
       "    ><g transform=\"translate(69,259.6667)\" style=\"font-size:10px; fill:rgb(38,38,38); text-rendering:geometricPrecision; image-rendering:optimizeQuality; color-rendering:optimizeQuality; font-family:'Helvetica Neue'; stroke:rgb(38,38,38); color-interpolation:linearRGB;\"\n",
       "    ><text x=\"-14\" xml:space=\"preserve\" y=\"3.5\" style=\"stroke:none;\"\n",
       "      >0.4</text\n",
       "    ></g\n",
       "    ><g transform=\"translate(69,202.5)\" style=\"font-size:10px; fill:rgb(38,38,38); text-rendering:geometricPrecision; image-rendering:optimizeQuality; color-rendering:optimizeQuality; font-family:'Helvetica Neue'; stroke:rgb(38,38,38); color-interpolation:linearRGB;\"\n",
       "    ><text x=\"-14\" xml:space=\"preserve\" y=\"3.5\" style=\"stroke:none;\"\n",
       "      >0.6</text\n",
       "    ></g\n",
       "    ><g transform=\"translate(69,145.3333)\" style=\"font-size:10px; fill:rgb(38,38,38); text-rendering:geometricPrecision; image-rendering:optimizeQuality; color-rendering:optimizeQuality; font-family:'Helvetica Neue'; stroke:rgb(38,38,38); color-interpolation:linearRGB;\"\n",
       "    ><text x=\"-14\" xml:space=\"preserve\" y=\"3.5\" style=\"stroke:none;\"\n",
       "      >0.8</text\n",
       "    ></g\n",
       "    ><g transform=\"translate(69,88.1667)\" style=\"font-size:10px; fill:rgb(38,38,38); text-rendering:geometricPrecision; image-rendering:optimizeQuality; color-rendering:optimizeQuality; font-family:'Helvetica Neue'; stroke:rgb(38,38,38); color-interpolation:linearRGB;\"\n",
       "    ><text x=\"-6\" xml:space=\"preserve\" y=\"3.5\" style=\"stroke:none;\"\n",
       "      >1</text\n",
       "    ></g\n",
       "    ><g transform=\"translate(69,31)\" style=\"font-size:10px; fill:rgb(38,38,38); text-rendering:geometricPrecision; image-rendering:optimizeQuality; color-rendering:optimizeQuality; font-family:'Helvetica Neue'; stroke:rgb(38,38,38); color-interpolation:linearRGB;\"\n",
       "    ><text x=\"-14\" xml:space=\"preserve\" y=\"3.5\" style=\"stroke:none;\"\n",
       "      >1.2</text\n",
       "    ></g\n",
       "    ><g transform=\"translate(290.0003,28.25)\" style=\"font-size:11px; text-rendering:geometricPrecision; image-rendering:optimizeQuality; color-rendering:optimizeQuality; font-family:'Helvetica Neue'; color-interpolation:linearRGB; font-weight:bold;\"\n",
       "    ><text x=\"-73.5\" xml:space=\"preserve\" y=\"-3\" style=\"stroke:none;\"\n",
       "      >Lag compensated response</text\n",
       "    ></g\n",
       "    ><g style=\"stroke-linecap:butt; fill:rgb(0,114,189); text-rendering:geometricPrecision; image-rendering:optimizeQuality; color-rendering:optimizeQuality; stroke-linejoin:round; stroke:rgb(0,114,189); color-interpolation:linearRGB; stroke-width:0.5;\"\n",
       "    ><path d=\"M73 374 L75 371.7177 L77 365.4265 L79 355.8987 L81 343.8268 L83 329.826 L85 314.438 L87 298.1348 L89 281.3229 L91 264.3485 L93 247.502 L95 231.0228 L97 215.1044 L99 199.899 L101 185.5222 L103 172.0572 L105 159.5592 L107 148.059 L109 137.5668 L111 128.0755 L113 119.5637 L115 111.9983 L117 105.3372 L119 99.5314 L121 94.5269 L123 90.2663 L125 86.6904 L127 83.7394 L129 81.3537 L131 79.4752 L133 78.0475 L135 77.017 L137 76.3327 L139 75.947 L141 75.8155 L143 75.8975 L145 76.1558 L147 76.5567 L149 77.0699 L151 77.6687 L153 78.3294 L155 79.0312 L157 79.7565 L159 80.4899 L161 81.2188 L163 81.9327 L165 82.623 L167 83.2829 L169 83.9075 L171 84.4928 L173 85.0366 L175 85.5373 L177 85.9945 L179 86.4083 L181 86.7798 L183 87.1102 L185 87.4013 L187 87.6553 L189 87.8745 L191 88.0612 L193 88.2182 L195 88.348 L197 88.4531 L199 88.5361 L201 88.5993 L203 88.6453 L205 88.676 L207 88.6938 L209 88.7003 L211 88.6975 L213 88.6869 L215 88.6701 L217 88.6483 L219 88.6227 L221 88.5943 L223 88.5641 L225 88.5328 L227 88.5011 L229 88.4696 L231 88.4387 L233 88.4088 L235 88.3801 L237 88.353 L239 88.3275 L241 88.3039 L243 88.2821 L245 88.2622 L247 88.2441 L249 88.2279 L251 88.2135 L253 88.2008 L255 88.1897 L257 88.1801 L259 88.1719 L261 88.165 L263 88.1593 L265 88.1546 L267 88.151 L269 88.1482 L271 88.1461 L273 88.1448 L275 88.1439 L277 88.1436 L279 88.1437 L281 88.1441 L283 88.1448 L285 88.1458 L287 88.1469 L289 88.1481 L291 88.1494 L293 88.1507 L295 88.1521 L297 88.1534 L299 88.1548 L301 88.1561 L303 88.1573 L305 88.1585 L307 88.1596 L309 88.1606 L311 88.1616 L313 88.1625 L315 88.1633 L317 88.164 L319 88.1646 L321 88.1651 L323 88.1656 L325 88.1661 L327 88.1664 L329 88.1667 L331 88.167 L333 88.1672 L335 88.1673 L337 88.1674 L339 88.1675 L341 88.1676 L343 88.1677 L345 88.1677 L347 88.1677 L349 88.1676 L351 88.1676 L353 88.1676 L355 88.1675 L357 88.1675 L359 88.1674 L361 88.1674 L363 88.1673 L365 88.1672 L367 88.1672 L369 88.1671 L371 88.1671 L373 88.167 L375 88.167 L377 88.1669 L379 88.1669 L381 88.1669 L383 88.1668 L385 88.1668 L387 88.1667 L389 88.1667 L391 88.1667 L393 88.1667 L395 88.1667 L397 88.1667 L399 88.1667 L401 88.1666 L403 88.1666 L405 88.1666 L407 88.1666 L409 88.1666 L411 88.1666 L413 88.1666 L415 88.1666 L417 88.1666 L419 88.1666 L421 88.1666 L423 88.1666 L425 88.1666 L427 88.1666 L429 88.1666 L431 88.1666 L433 88.1666 L435 88.1666 L437 88.1666 L439 88.1666 L441 88.1667 L443 88.1667 L445 88.1667 L447 88.1667 L449 88.1667 L451 88.1667 L453 88.1667 L455 88.1667 L457 88.1667 L459 88.1667 L461 88.1667 L463 88.1667 L465 88.1667 L467 88.1667 L469 88.1667 L471 88.1667 L473 88.1667 L475 88.1667 L477 88.1667 L479 88.1667 L481 88.1667 L483 88.1667 L485 88.1667 L487 88.1667 L489 88.1667 L491 88.1667 L493 88.1667 L495 88.1667 L497 88.1667 L499 88.1667 L501 88.1667 L503 88.1667 L505 88.1667 L507 88.1667\" style=\"fill:none; fill-rule:evenodd;\"\n",
       "      /><path d=\"M73 374 L75.1485 371.3678 L77.297 364.1186 L79.4455 353.1518 L81.5941 339.2734 L83.7426 323.1991 L85.8911 305.5584 L88.0396 286.8993 L90.1881 267.6931 L92.3366 248.3406 L94.4851 229.1771 L96.6337 210.4788 L98.7822 192.4678 L100.9307 175.3181 L103.0792 159.161 L105.2277 144.0901 L107.3762 130.1662 L109.5247 117.4219 L111.6733 105.866 L113.8218 95.4868 L115.9703 86.2565 L118.1188 78.1339 L120.2673 71.067 L122.4158 64.9965 L124.5644 59.857 L126.7129 55.5798 L128.8614 52.0939 L131.0099 49.3281 L133.1584 47.2115 L135.3069 45.6752 L137.4554 44.6525 L139.604 44.08 L141.7525 43.8976 L143.901 44.0493 L146.0495 44.4831 L148.198 45.1513 L150.3465 46.0104 L152.4951 47.0212 L154.6436 48.1486 L156.7921 49.3614 L158.9406 50.6323 L161.0891 51.9376 L163.2376 53.2568 L165.3861 54.5727 L167.5347 55.8709 L169.6832 57.1396 L171.8317 58.3693 L173.9802 59.5526 L176.1287 60.6841 L178.2772 61.7598 L180.4258 62.7776 L182.5742 63.736 L184.7228 64.6349 L186.8713 65.4751 L189.0198 66.2581 L191.1683 66.9857 L193.3168 67.6605 L195.4653 68.2852 L197.6139 68.8629 L199.7624 69.3967 L201.9109 69.89 L204.0594 70.3458 L206.2079 70.7675 L208.3564 71.1583 L210.5049 71.521 L212.6535 71.8588 L214.802 72.1742 L216.9505 72.4698 L219.099 72.7481 L221.2475 73.0111 L223.396 73.2609 L225.5446 73.4993 L227.6931 73.7279 L229.8416 73.9481 L231.9901 74.1612 L234.1386 74.3684 L236.2871 74.5705 L238.4357 74.7685 L240.5842 74.963 L242.7327 75.1546 L244.8812 75.3437 L247.0297 75.5308 L249.1782 75.7162 L251.3267 75.9001 L253.4753 76.0827 L255.6238 76.264 L257.7723 76.4443 L259.9208 76.6233 L262.0693 76.8013 L264.2178 76.9781 L266.3663 77.1537 L268.5149 77.328 L270.6634 77.501 L272.8119 77.6725 L274.9604 77.8426 L277.1089 78.011 L279.2574 78.1777 L281.4059 78.3427 L283.5545 78.5058 L285.703 78.6669 L287.8515 78.8261 L290 78.9832 L292.1485 79.1382 L294.297 79.291 L296.4455 79.4416 L298.5941 79.5899 L300.7426 79.736 L302.8911 79.8798 L305.0396 80.0213 L307.1881 80.1606 L309.3366 80.2975 L311.4851 80.4322 L313.6337 80.5646 L315.7822 80.6946 L317.9307 80.8225 L320.0792 80.9482 L322.2277 81.0716 L324.3762 81.1929 L326.5247 81.3121 L328.6732 81.4291 L330.8218 81.5442 L332.9703 81.6571 L335.1188 81.7681 L337.2673 81.8771 L339.4158 81.9841 L341.5644 82.0893 L343.7129 82.1927 L345.8614 82.2942 L348.0099 82.394 L350.1584 82.492 L352.3069 82.5882 L354.4554 82.6829 L356.604 82.7758 L358.7525 82.8672 L360.901 82.957 L363.0495 83.0452 L365.198 83.1319 L367.3466 83.2172 L369.4951 83.3009 L371.6436 83.3833 L373.7921 83.4642 L375.9406 83.5438 L378.0891 83.622 L380.2376 83.6989 L382.3861 83.7744 L384.5347 83.8487 L386.6832 83.9218 L388.8317 83.9936 L390.9802 84.0642 L393.1287 84.1335 L395.2772 84.2018 L397.4258 84.2688 L399.5742 84.3348 L401.7228 84.3996 L403.8713 84.4633 L406.0198 84.526 L408.1683 84.5876 L410.3168 84.6482 L412.4653 84.7077 L414.6139 84.7662 L416.7624 84.8238 L418.9109 84.8803 L421.0594 84.9359 L423.2079 84.9906 L425.3564 85.0444 L427.5049 85.0972 L429.6535 85.1492 L431.802 85.2003 L433.9505 85.2505 L436.099 85.2999 L438.2476 85.3484 L440.396 85.3961 L442.5446 85.443 L444.6931 85.4891 L446.8416 85.5345 L448.9901 85.579 L451.1386 85.6228 L453.2871 85.6659 L455.4356 85.7082 L457.5842 85.7498 L459.7327 85.7908 L461.8812 85.831 L464.0297 85.8705 L466.1782 85.9094 L468.3267 85.9476 L470.4753 85.9852 L472.6238 86.0221 L474.7722 86.0584 L476.9208 86.0941 L479.0693 86.1292 L481.2178 86.1637 L483.3663 86.1976 L485.5149 86.231 L487.6634 86.2637 L489.8119 86.2959 L491.9604 86.3276 L494.1089 86.3587 L496.2574 86.3893 L498.4059 86.4194 L500.5545 86.449 L502.703 86.4781 L504.8515 86.5067 L507 86.5348\" style=\"fill:none; fill-rule:evenodd; stroke:rgb(217,83,25);\"\n",
       "    /></g\n",
       "    ><g style=\"fill:white; text-rendering:optimizeSpeed; color-rendering:optimizeSpeed; image-rendering:optimizeSpeed; shape-rendering:crispEdges; stroke:white; color-interpolation:sRGB;\"\n",
       "    ><path style=\"stroke:none;\" d=\"M499 65 L499 39 L385 39 L385 65 Z\"\n",
       "    /></g\n",
       "    ><g transform=\"translate(422,46.3585)\" style=\"font-size:9px; text-rendering:geometricPrecision; color-rendering:optimizeQuality; image-rendering:optimizeQuality; font-family:'Helvetica Neue'; color-interpolation:linearRGB;\"\n",
       "    ><text x=\"0\" xml:space=\"preserve\" y=\"3.5\" style=\"stroke:none;\"\n",
       "      >Transient design</text\n",
       "    ></g\n",
       "    ><g style=\"stroke-linecap:butt; fill:rgb(0,114,189); text-rendering:geometricPrecision; image-rendering:optimizeQuality; color-rendering:optimizeQuality; stroke-linejoin:round; stroke:rgb(0,114,189); color-interpolation:linearRGB; stroke-width:0.5;\"\n",
       "    ><line y2=\"46.3585\" style=\"fill:none;\" x1=\"389\" x2=\"419\" y1=\"46.3585\"\n",
       "    /></g\n",
       "    ><g transform=\"translate(422,57.6415)\" style=\"font-size:9px; text-rendering:geometricPrecision; color-rendering:optimizeQuality; image-rendering:optimizeQuality; font-family:'Helvetica Neue'; color-interpolation:linearRGB;\"\n",
       "    ><text x=\"0\" xml:space=\"preserve\" y=\"3.5\" style=\"stroke:none;\"\n",
       "      >Lag compensated</text\n",
       "    ></g\n",
       "    ><g style=\"stroke-linecap:butt; fill:rgb(217,83,25); text-rendering:geometricPrecision; image-rendering:optimizeQuality; color-rendering:optimizeQuality; stroke-linejoin:round; stroke:rgb(217,83,25); color-interpolation:linearRGB; stroke-width:0.5;\"\n",
       "    ><line y2=\"57.6415\" style=\"fill:none;\" x1=\"389\" x2=\"419\" y1=\"57.6415\"\n",
       "      /><path d=\"M385 65 L385 39 L499 39 L499 65 Z\" style=\"fill:none; fill-rule:evenodd; stroke:rgb(38,38,38); stroke-linejoin:miter;\"\n",
       "    /></g\n",
       "  ></g\n",
       "></svg\n",
       ">\n"
      ]
     },
     "metadata": {},
     "output_type": "display_data"
    }
   ],
   "source": [
    "plot(t1,y1,t2,y2),title('Lag compensated response'),...\n",
    "    legend('Transient design','Lag compensated')"
   ]
  },
  {
   "cell_type": "markdown",
   "metadata": {
    "slideshow": {
     "slide_type": "slide"
    }
   },
   "source": [
    "## Comments\n",
    "\n",
    "The lag compensator has a significantly longer settling time and a raised overshoot. These effects can be explained by examination of the closed-loop transfer function.\n",
    "\n",
    "The benefits of the lag compensated repsonse can only be really seen when we compare the ramp responses. To determine the ramp response, we need to add an integrator to the plant and find the error responses:"
   ]
  },
  {
   "cell_type": "code",
   "execution_count": 17,
   "metadata": {
    "slideshow": {
     "slide_type": "slide"
    }
   },
   "outputs": [],
   "source": [
    "Ge1 = 1/(1+K0*G*H);\n",
    "[y3,t3]=step(Ge1*1/s,10);\n"
   ]
  },
  {
   "cell_type": "code",
   "execution_count": 18,
   "metadata": {
    "slideshow": {
     "slide_type": "slide"
    }
   },
   "outputs": [],
   "source": [
    "Ge2 = 1/(1+K*Dlag*G*H);\n",
    "[y4,t4]=step(Ge2*1/s,10);"
   ]
  },
  {
   "cell_type": "code",
   "execution_count": 19,
   "metadata": {
    "slideshow": {
     "slide_type": "slide"
    }
   },
   "outputs": [
    {
     "data": {
      "image/svg+xml": [
       "<?xml version=\"1.0\"?>\n",
       "<!DOCTYPE svg PUBLIC '-//W3C//DTD SVG 1.0//EN'\n",
       "          'http://www.w3.org/TR/2001/REC-SVG-20010904/DTD/svg10.dtd'>\n",
       "<svg xmlns:xlink=\"http://www.w3.org/1999/xlink\" style=\"fill-opacity:1; color-rendering:auto; color-interpolation:auto; text-rendering:auto; stroke:black; stroke-linecap:square; stroke-miterlimit:10; shape-rendering:auto; stroke-opacity:1; fill:black; stroke-dasharray:none; font-weight:normal; stroke-width:1; font-family:'Dialog'; font-style:normal; stroke-linejoin:miter; font-size:12px; stroke-dashoffset:0; image-rendering:auto;\" width=\"560\" height=\"420\" xmlns=\"http://www.w3.org/2000/svg\"\n",
       "><!--Generated by the Batik Graphics2D SVG Generator--><defs id=\"genericDefs\"\n",
       "  /><g\n",
       "  ><defs id=\"defs1\"\n",
       "    ><clipPath clipPathUnits=\"userSpaceOnUse\" id=\"clipPath1\"\n",
       "      ><path d=\"M0 0 L560 0 L560 420 L0 420 L0 0 Z\"\n",
       "      /></clipPath\n",
       "      ><font horiz-adv-x=\"50.0\" id=\"font1\"\n",
       "      ><font-face ascent=\"95.200005\" descent=\"21.3\" units-per-em=\"100\" style=\"font-style:normal; font-family:Helvetica Neue; font-weight:normal;\"\n",
       "        /><missing-glyph horiz-adv-x=\"50.0\" d=\"M40.9 66.6 L10.2 66.6 L10.2 4.7 L40.9 4.7 ZM46 71.2 L46 0.1 L5.1 0.1 L5.1 71.2 Z\"\n",
       "        /><glyph unicode=\"0\" horiz-adv-x=\"55.6\" d=\"M13.2 34.9 Q13.2 37.5 13.25 40.65 Q13.3 43.8 13.75 46.95 Q14.2 50.1 15.05 53.1 Q15.9 56.1 17.55 58.35 Q19.2 60.6 21.7 62 Q24.2 63.4 27.8 63.4 Q31.4 63.4 33.9 62 Q36.4 60.6 38.05 58.35 Q39.7 56.1 40.55 53.1 Q41.4 50.1 41.85 46.95 Q42.3 43.8 42.35 40.65 Q42.4 37.5 42.4 34.9 Q42.4 30.9 42.15 25.95 Q41.9 21 40.55 16.65 Q39.2 12.3 36.2 9.3 Q33.2 6.3 27.8 6.3 Q22.4 6.3 19.4 9.3 Q16.4 12.3 15.05 16.65 Q13.7 21 13.45 25.95 Q13.2 30.9 13.2 34.9 ZM4.2 34.8 Q4.2 30.9 4.4 26.7 Q4.6 22.5 5.4 18.5 Q6.2 14.5 7.7 10.95 Q9.2 7.4 11.8 4.7 Q14.4 2 18.35 0.45 Q22.3 -1.1 27.8 -1.1 Q33.4 -1.1 37.3 0.45 Q41.2 2 43.8 4.7 Q46.4 7.4 47.9 10.95 Q49.4 14.5 50.2 18.5 Q51 22.5 51.2 26.7 Q51.4 30.9 51.4 34.8 Q51.4 38.7 51.2 42.9 Q51 47.1 50.2 51.1 Q49.4 55.1 47.9 58.7 Q46.4 62.3 43.8 65 Q41.2 67.7 37.25 69.3 Q33.3 70.9 27.8 70.9 Q22.3 70.9 18.35 69.3 Q14.4 67.7 11.8 65 Q9.2 62.3 7.7 58.7 Q6.2 55.1 5.4 51.1 Q4.6 47.1 4.4 42.9 Q4.2 38.7 4.2 34.8 Z\"\n",
       "        /><glyph unicode=\"1\" horiz-adv-x=\"55.6\" d=\"M35.6 0 L35.6 70.9 L29.1 70.9 Q28.4 66.9 26.5 64.3 Q24.6 61.7 21.85 60.2 Q19.1 58.7 15.7 58.15 Q12.3 57.6 8.7 57.6 L8.7 50.8 L27.1 50.8 L27.1 0 Z\"\n",
       "        /><glyph unicode=\"2\" horiz-adv-x=\"55.6\" d=\"M4.4 45.8 L12.9 45.8 Q12.8 49 13.55 52.15 Q14.3 55.3 16 57.8 Q17.7 60.3 20.35 61.85 Q23 63.4 26.7 63.4 Q29.5 63.4 32 62.5 Q34.5 61.6 36.35 59.9 Q38.2 58.2 39.3 55.85 Q40.4 53.5 40.4 50.6 Q40.4 46.9 39.25 44.1 Q38.1 41.3 35.85 38.9 Q33.6 36.5 30.2 34.15 Q26.8 31.8 22.3 29 Q18.6 26.8 15.2 24.3 Q11.8 21.8 9.1 18.5 Q6.4 15.2 4.65 10.75 Q2.9 6.3 2.4 0 L48.7 0 L48.7 7.5 L12.3 7.5 Q12.9 10.8 14.85 13.35 Q16.8 15.9 19.55 18.1 Q22.3 20.3 25.6 22.25 Q28.9 24.2 32.2 26.2 Q35.5 28.3 38.6 30.6 Q41.7 32.9 44.1 35.75 Q46.5 38.6 47.95 42.2 Q49.4 45.8 49.4 50.5 Q49.4 55.5 47.65 59.3 Q45.9 63.1 42.9 65.65 Q39.9 68.2 35.85 69.55 Q31.8 70.9 27.2 70.9 Q21.6 70.9 17.2 69 Q12.8 67.1 9.85 63.75 Q6.9 60.4 5.5 55.8 Q4.1 51.2 4.4 45.8 Z\"\n",
       "        /><glyph unicode=\"3\" horiz-adv-x=\"55.6\" d=\"M21.8 40.5 L21.8 33.3 Q24.2 33.6 26.9 33.6 Q30.1 33.6 32.85 32.75 Q35.6 31.9 37.6 30.15 Q39.6 28.4 40.8 25.85 Q42 23.3 42 20 Q42 16.8 40.75 14.25 Q39.5 11.7 37.4 9.95 Q35.3 8.2 32.5 7.25 Q29.7 6.3 26.6 6.3 Q19.3 6.3 15.5 10.65 Q11.7 15 11.5 21.9 L3 21.9 Q2.9 16.4 4.55 12.1 Q6.2 7.8 9.3 4.85 Q12.4 1.9 16.8 0.4 Q21.2 -1.1 26.6 -1.1 Q31.6 -1.1 36.05 0.25 Q40.5 1.6 43.8 4.3 Q47.1 7 49.05 11.05 Q51 15.1 51 20.4 Q51 26.8 47.85 31.5 Q44.7 36.2 38.2 37.6 L38.2 37.8 Q42.4 39.7 45.2 43.4 Q48 47.1 48 51.9 Q48 56.8 46.35 60.4 Q44.7 64 41.8 66.3 Q38.9 68.6 34.95 69.75 Q31 70.9 26.4 70.9 Q21.1 70.9 17.05 69.2 Q13 67.5 10.3 64.5 Q7.6 61.5 6.15 57.3 Q4.7 53.1 4.5 48 L13 48 Q13 51.1 13.8 53.9 Q14.6 56.7 16.25 58.8 Q17.9 60.9 20.45 62.15 Q23 63.4 26.4 63.4 Q31.8 63.4 35.4 60.55 Q39 57.7 39 52 Q39 49.2 37.9 47 Q36.8 44.8 34.95 43.35 Q33.1 41.9 30.65 41.15 Q28.2 40.4 25.5 40.4 L23.7 40.4 Q23.2 40.4 22.7 40.4 Q22.3 40.4 21.8 40.5 Z\"\n",
       "        /><glyph unicode=\"4\" horiz-adv-x=\"55.6\" d=\"M33.9 24.1 L10.1 24.1 L33.7 58.8 L33.9 58.8 ZM41.9 24.1 L41.9 70.9 L35.1 70.9 L2.8 24.8 L2.8 16.6 L33.9 16.6 L33.9 0 L41.9 0 L41.9 16.6 L51.5 16.6 L51.5 24.1 Z\"\n",
       "        /><glyph unicode=\"5\" horiz-adv-x=\"55.6\" d=\"M47 62.2 L47 69.7 L12 69.7 L5.4 32.9 L12.7 32.5 Q15.2 35.5 18.45 37.35 Q21.7 39.2 25.9 39.2 Q29.5 39.2 32.45 38 Q35.4 36.8 37.5 34.65 Q39.6 32.5 40.75 29.55 Q41.9 26.6 41.9 23.1 Q41.9 18.9 40.7 15.75 Q39.5 12.6 37.45 10.5 Q35.4 8.4 32.65 7.35 Q29.9 6.3 26.9 6.3 Q23.7 6.3 21.05 7.25 Q18.4 8.2 16.45 9.95 Q14.5 11.7 13.35 14.05 Q12.2 16.4 12 19.1 L3.5 19.1 Q3.6 14.3 5.4 10.5 Q7.2 6.7 10.3 4.15 Q13.4 1.6 17.45 0.25 Q21.5 -1.1 26.1 -1.1 Q32.3 -1.1 36.95 0.85 Q41.6 2.8 44.7 6.1 Q47.8 9.4 49.35 13.65 Q50.9 17.9 50.9 22.4 Q50.9 28.5 49.1 33.05 Q47.3 37.6 44.2 40.65 Q41.1 43.7 36.9 45.2 Q32.7 46.7 28 46.7 Q24.4 46.7 20.75 45.45 Q17.1 44.2 14.8 41.6 L14.6 41.8 L18.4 62.2 Z\"\n",
       "        /><glyph unicode=\"6\" horiz-adv-x=\"55.6\" d=\"M41.4 52.8 L49.9 52.8 Q49.1 61.6 43.9 66.25 Q38.7 70.9 29.9 70.9 Q22.3 70.9 17.3 67.7 Q12.3 64.5 9.3 59.2 Q6.3 53.9 5.05 47.05 Q3.8 40.2 3.8 32.9 Q3.8 27.3 4.65 21.3 Q5.5 15.3 8.1 10.3 Q10.7 5.3 15.5 2.1 Q20.3 -1.1 28.2 -1.1 Q34.9 -1.1 39.45 1.15 Q44 3.4 46.75 6.85 Q49.5 10.3 50.7 14.5 Q51.9 18.7 51.9 22.6 Q51.9 27.5 50.4 31.7 Q48.9 35.9 46.15 39 Q43.4 42.1 39.35 43.85 Q35.3 45.6 30.2 45.6 Q24.4 45.6 19.95 43.4 Q15.5 41.2 12.5 36.3 L12.3 36.5 Q12.4 40.6 13.1 45.3 Q13.8 50 15.65 54.05 Q17.5 58.1 20.8 60.75 Q24.1 63.4 29.5 63.4 Q34.6 63.4 37.7 60.5 Q40.8 57.6 41.4 52.8 ZM28.6 38.1 Q32.2 38.1 34.9 36.8 Q37.6 35.5 39.4 33.35 Q41.2 31.2 42.05 28.25 Q42.9 25.3 42.9 22 Q42.9 18.9 41.95 16.05 Q41 13.2 39.2 11 Q37.4 8.8 34.75 7.55 Q32.1 6.3 28.6 6.3 Q25.1 6.3 22.35 7.55 Q19.6 8.8 17.75 10.9 Q15.9 13 14.9 15.9 Q13.9 18.8 13.9 22.1 Q13.9 25.4 14.85 28.35 Q15.8 31.3 17.7 33.45 Q19.6 35.6 22.3 36.85 Q25 38.1 28.6 38.1 Z\"\n",
       "        /><glyph unicode=\"7\" horiz-adv-x=\"55.6\" d=\"M50.9 62.4 L50.9 69.7 L5 69.7 L5 61.7 L42.2 61.7 Q36.6 55.8 31.75 48.8 Q26.9 41.8 23.2 33.95 Q19.5 26.1 17.15 17.55 Q14.8 9 14.2 0 L23.7 0 Q24.2 8.3 26.5 17.1 Q28.8 25.9 32.45 34.2 Q36.1 42.5 40.8 49.8 Q45.5 57.1 50.9 62.4 Z\"\n",
       "        /><glyph unicode=\"8\" horiz-adv-x=\"55.6\" d=\"M15.5 52.5 Q15.5 55.2 16.5 57.2 Q17.5 59.2 19.15 60.6 Q20.8 62 23.1 62.7 Q25.4 63.4 27.9 63.4 Q33.1 63.4 36.45 60.65 Q39.8 57.9 39.8 52.5 Q39.8 47.1 36.5 44.1 Q33.2 41.1 28.1 41.1 Q25.5 41.1 23.2 41.8 Q20.9 42.5 19.2 43.9 Q17.5 45.3 16.5 47.45 Q15.5 49.6 15.5 52.5 ZM6.5 52.8 Q6.5 48 9.2 43.95 Q11.9 39.9 16.4 38.1 Q10.4 36 7.2 31.35 Q4 26.7 4 20.4 Q4 15 5.85 10.95 Q7.7 6.9 10.95 4.2 Q14.2 1.5 18.6 0.2 Q23 -1.1 28.1 -1.1 Q33 -1.1 37.3 0.3 Q41.6 1.7 44.75 4.45 Q47.9 7.2 49.75 11.2 Q51.6 15.2 51.6 20.4 Q51.6 27 48.5 31.55 Q45.4 36.1 39 38.1 Q43.5 40.1 46.15 44.05 Q48.8 48 48.8 52.8 Q48.8 56.2 47.6 59.45 Q46.4 62.7 43.85 65.25 Q41.3 67.8 37.2 69.35 Q33.1 70.9 27.3 70.9 Q23.2 70.9 19.45 69.7 Q15.7 68.5 12.8 66.2 Q9.9 63.9 8.2 60.55 Q6.5 57.2 6.5 52.8 ZM13 20 Q13 23.1 14.15 25.6 Q15.3 28.1 17.35 29.9 Q19.4 31.7 22.15 32.65 Q24.9 33.6 28 33.6 Q31 33.6 33.65 32.55 Q36.3 31.5 38.3 29.7 Q40.3 27.9 41.45 25.45 Q42.6 23 42.6 20.1 Q42.6 17.1 41.55 14.6 Q40.5 12.1 38.55 10.25 Q36.6 8.4 33.95 7.35 Q31.3 6.3 28.1 6.3 Q21.5 6.3 17.25 9.95 Q13 13.6 13 20 Z\"\n",
       "        /><glyph unicode=\"9\" horiz-adv-x=\"55.6\" d=\"M13.4 17.1 L4.9 17.1 Q5.7 7.9 11.6 3.4 Q17.5 -1.1 26.4 -1.1 Q39.3 -1.1 45.15 8.75 Q51 18.6 51 37 Q51 47.1 49.05 53.65 Q47.1 60.2 43.8 64 Q40.5 67.8 36.1 69.35 Q31.7 70.9 26.7 70.9 Q21.6 70.9 17.3 69.2 Q13 67.5 9.9 64.45 Q6.8 61.4 5.1 57.15 Q3.4 52.9 3.4 47.8 Q3.4 42.6 4.85 38.2 Q6.3 33.8 9.15 30.7 Q12 27.6 16.2 25.85 Q20.4 24.1 25.8 24.1 Q31 24.1 35.4 26.75 Q39.8 29.4 42.2 33.9 L42.4 33.7 Q42 19.8 38.1 13.05 Q34.2 6.3 26.4 6.3 Q21.3 6.3 17.6 9.1 Q13.9 11.9 13.4 17.1 ZM40.9 47.2 Q40.9 44.1 39.9 41.25 Q38.9 38.4 37 36.25 Q35.1 34.1 32.4 32.85 Q29.7 31.6 26.4 31.6 Q23.3 31.6 20.75 32.85 Q18.2 34.1 16.35 36.2 Q14.5 38.3 13.45 41 Q12.4 43.7 12.4 46.6 Q12.4 49.9 13.15 52.9 Q13.9 55.9 15.55 58.25 Q17.2 60.6 19.85 62 Q22.5 63.4 26.3 63.4 Q29.9 63.4 32.6 62.1 Q35.3 60.8 37.15 58.55 Q39 56.3 39.95 53.4 Q40.9 50.5 40.9 47.2 Z\"\n",
       "        /><glyph unicode=\".\" horiz-adv-x=\"27.8\" d=\"M8.3 11.1 L8.3 0 L19.4 0 L19.4 11.1 Z\"\n",
       "        /><glyph unicode=\"g\" horiz-adv-x=\"57.4\" d=\"M51 4.4 L51 51.7 L43 51.7 L43 44.3 L42.9 44.3 Q40.6 48.6 36.5 50.75 Q32.4 52.9 27.5 52.9 Q20.8 52.9 16.2 50.35 Q11.6 47.8 8.8 43.85 Q6 39.9 4.8 35.05 Q3.6 30.2 3.6 25.6 Q3.6 20.3 5.05 15.55 Q6.5 10.8 9.4 7.25 Q12.3 3.7 16.6 1.6 Q20.9 -0.5 26.7 -0.5 Q31.7 -0.5 36.15 1.75 Q40.6 4 42.8 8.8 L43 8.8 L43 5.4 Q43 1.1 42.15 -2.5 Q41.3 -6.1 39.4 -8.65 Q37.5 -11.2 34.6 -12.65 Q31.7 -14.1 27.5 -14.1 Q25.4 -14.1 23.1 -13.65 Q20.8 -13.2 18.85 -12.2 Q16.9 -11.2 15.55 -9.6 Q14.2 -8 14.1 -5.7 L5.6 -5.7 Q5.8 -9.9 7.8 -12.8 Q9.8 -15.7 12.85 -17.5 Q15.9 -19.3 19.65 -20.1 Q23.4 -20.9 27 -20.9 Q39.4 -20.9 45.2 -14.6 Q51 -8.3 51 4.4 ZM27.2 6.9 Q23 6.9 20.2 8.65 Q17.4 10.4 15.7 13.25 Q14 16.1 13.3 19.6 Q12.6 23.1 12.6 26.6 Q12.6 30.3 13.45 33.7 Q14.3 37.1 16.15 39.7 Q18 42.3 20.9 43.85 Q23.8 45.4 27.9 45.4 Q31.9 45.4 34.7 43.8 Q37.5 42.2 39.25 39.55 Q41 36.9 41.8 33.6 Q42.6 30.3 42.6 26.9 Q42.6 23.3 41.75 19.7 Q40.9 16.1 39.1 13.25 Q37.3 10.4 34.35 8.65 Q31.4 6.9 27.2 6.9 Z\"\n",
       "        /><glyph unicode=\"d\" horiz-adv-x=\"59.3\" d=\"M12.6 25.4 Q12.6 29.2 13.4 32.8 Q14.2 36.4 16 39.2 Q17.8 42 20.8 43.7 Q23.8 45.4 28.1 45.4 Q32.5 45.4 35.6 43.75 Q38.7 42.1 40.65 39.4 Q42.6 36.7 43.5 33.15 Q44.4 29.6 44.4 25.8 Q44.4 22.2 43.55 18.7 Q42.7 15.2 40.8 12.45 Q38.9 9.7 35.9 8 Q32.9 6.3 28.6 6.3 Q24.5 6.3 21.45 7.9 Q18.4 9.5 16.45 12.2 Q14.5 14.9 13.55 18.35 Q12.6 21.8 12.6 25.4 ZM52.6 0 L52.6 71.4 L44.1 71.4 L44.1 44.8 L43.9 44.8 Q42.5 47.1 40.45 48.65 Q38.4 50.2 36.1 51.15 Q33.8 52.1 31.5 52.5 Q29.2 52.9 27.2 52.9 Q21.3 52.9 16.85 50.75 Q12.4 48.6 9.45 44.95 Q6.5 41.3 5.05 36.4 Q3.6 31.5 3.6 26 Q3.6 20.5 5.1 15.6 Q6.6 10.7 9.55 7 Q12.5 3.3 16.95 1.1 Q21.4 -1.1 27.4 -1.1 Q32.8 -1.1 37.3 0.8 Q41.8 2.7 43.9 7 L44.1 7 L44.1 0 Z\"\n",
       "        /><glyph unicode=\" \" horiz-adv-x=\"27.8\" d=\"\"\n",
       "        /><glyph unicode=\"t\" horiz-adv-x=\"31.5\" d=\"M18.2 51.7 L18.2 67.2 L9.7 67.2 L9.7 51.7 L0.9 51.7 L0.9 44.2 L9.7 44.2 L9.7 11.3 Q9.7 7.7 10.4 5.5 Q11.1 3.3 12.55 2.1 Q14 0.9 16.35 0.45 Q18.7 0 22 0 L28.5 0 L28.5 7.5 L24.6 7.5 Q22.6 7.5 21.35 7.65 Q20.1 7.8 19.4 8.3 Q18.7 8.8 18.45 9.7 Q18.2 10.6 18.2 12.1 L18.2 44.2 L28.5 44.2 L28.5 51.7 Z\"\n",
       "        /><glyph unicode=\"e\" horiz-adv-x=\"53.7\" d=\"M42.3 30.8 L12.6 30.8 Q12.8 33.8 13.9 36.45 Q15 39.1 16.9 41.1 Q18.8 43.1 21.45 44.25 Q24.1 45.4 27.4 45.4 Q30.6 45.4 33.25 44.25 Q35.9 43.1 37.85 41.15 Q39.8 39.2 40.95 36.5 Q42.1 33.8 42.3 30.8 ZM50.5 16.4 L42.1 16.4 Q41 11.3 37.55 8.8 Q34.1 6.3 28.7 6.3 Q24.5 6.3 21.4 7.7 Q18.3 9.1 16.3 11.45 Q14.3 13.8 13.4 16.85 Q12.5 19.9 12.6 23.3 L51.3 23.3 Q51.5 28 50.45 33.2 Q49.4 38.4 46.65 42.8 Q43.9 47.2 39.35 50.05 Q34.8 52.9 27.9 52.9 Q22.6 52.9 18.15 50.9 Q13.7 48.9 10.45 45.3 Q7.2 41.7 5.4 36.8 Q3.6 31.9 3.6 26 Q3.8 20.1 5.35 15.1 Q6.9 10.1 10 6.5 Q13.1 2.9 17.65 0.9 Q22.2 -1.1 28.4 -1.1 Q37.2 -1.1 43 3.3 Q48.8 7.7 50.5 16.4 Z\"\n",
       "        /><glyph unicode=\"i\" horiz-adv-x=\"22.2\" d=\"M15.4 61 L15.4 71.4 L6.9 71.4 L6.9 61 ZM6.9 51.7 L6.9 0 L15.4 0 L15.4 51.7 Z\"\n",
       "        /><glyph unicode=\"s\" horiz-adv-x=\"50.0\" d=\"M11.6 16.3 L3.1 16.3 Q3.3 11.5 5.1 8.15 Q6.9 4.8 9.9 2.75 Q12.9 0.7 16.8 -0.2 Q20.7 -1.1 25 -1.1 Q28.9 -1.1 32.85 -0.35 Q36.8 0.4 39.95 2.3 Q43.1 4.2 45.05 7.3 Q47 10.4 47 15.1 Q47 18.8 45.55 21.3 Q44.1 23.8 41.75 25.45 Q39.4 27.1 36.35 28.1 Q33.3 29.1 30.1 29.8 Q27.1 30.5 24.1 31.15 Q21.1 31.8 18.7 32.75 Q16.3 33.7 14.75 35.15 Q13.2 36.6 13.2 38.8 Q13.2 40.8 14.2 42.05 Q15.2 43.3 16.8 44.05 Q18.4 44.8 20.35 45.1 Q22.3 45.4 24.2 45.4 Q26.3 45.4 28.35 44.95 Q30.4 44.5 32.1 43.5 Q33.8 42.5 34.9 40.85 Q36 39.2 36.2 36.7 L44.7 36.7 Q44.4 41.4 42.7 44.55 Q41 47.7 38.15 49.55 Q35.3 51.4 31.6 52.15 Q27.9 52.9 23.5 52.9 Q20.1 52.9 16.65 52.05 Q13.2 51.2 10.45 49.45 Q7.7 47.7 5.95 44.9 Q4.2 42.1 4.2 38.2 Q4.2 33.2 6.7 30.4 Q9.2 27.6 12.95 26.05 Q16.7 24.5 21.1 23.65 Q25.5 22.8 29.25 21.75 Q33 20.7 35.5 19 Q38 17.3 38 14 Q38 11.6 36.8 10.05 Q35.6 8.5 33.75 7.7 Q31.9 6.9 29.7 6.6 Q27.5 6.3 25.5 6.3 Q22.9 6.3 20.45 6.8 Q18 7.3 16.05 8.45 Q14.1 9.6 12.9 11.55 Q11.7 13.5 11.6 16.3 Z\"\n",
       "        /><glyph unicode=\"n\" horiz-adv-x=\"55.6\" d=\"M6.4 51.7 L6.4 0 L14.9 0 L14.9 29.2 Q14.9 32.7 15.85 35.65 Q16.8 38.6 18.7 40.8 Q20.6 43 23.45 44.2 Q26.3 45.4 30.2 45.4 Q35.1 45.4 37.9 42.6 Q40.7 39.8 40.7 35 L40.7 0 L49.2 0 L49.2 34 Q49.2 38.2 48.35 41.65 Q47.5 45.1 45.4 47.6 Q43.3 50.1 39.9 51.5 Q36.5 52.9 31.4 52.9 Q19.9 52.9 14.6 43.5 L14.4 43.5 L14.4 51.7 Z\"\n",
       "        /><glyph unicode=\"a\" horiz-adv-x=\"53.7\" d=\"M52.2 0.2 Q50 -1.1 46.1 -1.1 Q42.8 -1.1 40.85 0.75 Q38.9 2.6 38.9 6.8 Q35.4 2.6 30.75 0.75 Q26.1 -1.1 20.7 -1.1 Q17.2 -1.1 14.05 -0.3 Q10.9 0.5 8.6 2.2 Q6.3 3.9 4.95 6.65 Q3.6 9.4 3.6 13.3 Q3.6 17.7 5.1 20.5 Q6.6 23.3 9.05 25.05 Q11.5 26.8 14.65 27.7 Q17.8 28.6 21.1 29.2 Q24.6 29.9 27.75 30.25 Q30.9 30.6 33.3 31.25 Q35.7 31.9 37.1 33.15 Q38.5 34.4 38.5 36.8 Q38.5 39.6 37.45 41.3 Q36.4 43 34.75 43.9 Q33.1 44.8 31.05 45.1 Q29 45.4 27 45.4 Q21.6 45.4 18 43.35 Q14.4 41.3 14.1 35.6 L5.6 35.6 Q5.8 40.4 7.6 43.7 Q9.4 47 12.4 49.05 Q15.4 51.1 19.25 52 Q23.1 52.9 27.5 52.9 Q31 52.9 34.45 52.4 Q37.9 51.9 40.7 50.35 Q43.5 48.8 45.2 46 Q46.9 43.2 46.9 38.7 L46.9 12.1 Q46.9 9.1 47.25 7.7 Q47.6 6.3 49.6 6.3 Q50.7 6.3 52.2 6.8 ZM38.4 26.7 Q36.8 25.5 34.2 24.95 Q31.6 24.4 28.75 24.05 Q25.9 23.7 23 23.25 Q20.1 22.8 17.8 21.8 Q15.5 20.8 14.05 18.95 Q12.6 17.1 12.6 13.9 Q12.6 11.8 13.45 10.35 Q14.3 8.9 15.65 8 Q17 7.1 18.8 6.7 Q20.6 6.3 22.6 6.3 Q26.8 6.3 29.8 7.45 Q32.8 8.6 34.7 10.35 Q36.6 12.1 37.5 14.15 Q38.4 16.2 38.4 18 Z\"\n",
       "        /><glyph unicode=\"r\" horiz-adv-x=\"33.3\" d=\"M6.1 51.7 L6.1 0 L14.6 0 L14.6 23 Q14.6 28 15.6 31.85 Q16.6 35.7 18.8 38.4 Q21 41.1 24.6 42.5 Q28.2 43.9 33.3 43.9 L33.3 52.9 Q26.4 53.1 21.9 50.1 Q17.4 47.1 14.3 40.8 L14.1 40.8 L14.1 51.7 Z\"\n",
       "        /><glyph unicode=\"T\" horiz-adv-x=\"57.4\" d=\"M24 63.4 L24 0 L33.5 0 L33.5 63.4 L57.3 63.4 L57.3 71.4 L0.2 71.4 L0.2 63.4 Z\"\n",
       "        /><glyph unicode=\"p\" horiz-adv-x=\"59.3\" d=\"M6.7 51.7 L6.7 -19.7 L15.2 -19.7 L15.2 6.9 L15.4 6.9 Q16.8 4.6 18.85 3.05 Q20.9 1.5 23.2 0.6 Q25.5 -0.3 27.85 -0.7 Q30.2 -1.1 32.1 -1.1 Q38 -1.1 42.45 1 Q46.9 3.1 49.85 6.75 Q52.8 10.4 54.25 15.3 Q55.7 20.2 55.7 25.7 Q55.7 31.2 54.2 36.1 Q52.7 41 49.75 44.75 Q46.8 48.5 42.35 50.7 Q37.9 52.9 31.9 52.9 Q26.5 52.9 22 50.95 Q17.5 49 15.4 44.7 L15.2 44.7 L15.2 51.7 ZM46.7 26.3 Q46.7 22.5 45.9 18.9 Q45.1 15.3 43.3 12.5 Q41.5 9.7 38.55 8 Q35.6 6.3 31.2 6.3 Q26.8 6.3 23.7 7.95 Q20.6 9.6 18.65 12.3 Q16.7 15 15.8 18.55 Q14.9 22.1 14.9 25.9 Q14.9 29.5 15.75 33 Q16.6 36.5 18.5 39.25 Q20.4 42 23.4 43.7 Q26.4 45.4 30.7 45.4 Q34.8 45.4 37.85 43.8 Q40.9 42.2 42.85 39.5 Q44.8 36.8 45.75 33.35 Q46.7 29.9 46.7 26.3 Z\"\n",
       "        /><glyph unicode=\"m\" horiz-adv-x=\"85.3\" d=\"M6.4 51.7 L6.4 0 L14.9 0 L14.9 32.2 Q14.9 33.7 15.65 35.95 Q16.4 38.2 18.05 40.3 Q19.7 42.4 22.35 43.9 Q25 45.4 28.7 45.4 Q31.6 45.4 33.45 44.55 Q35.3 43.7 36.4 42.15 Q37.5 40.6 37.95 38.5 Q38.4 36.4 38.4 33.9 L38.4 0 L46.9 0 L46.9 32.2 Q46.9 38.2 50.5 41.8 Q54.1 45.4 60.4 45.4 Q63.5 45.4 65.45 44.5 Q67.4 43.6 68.5 42.05 Q69.6 40.5 70 38.4 Q70.4 36.3 70.4 33.9 L70.4 0 L78.9 0 L78.9 37.9 Q78.9 41.9 77.65 44.75 Q76.4 47.6 74.15 49.4 Q71.9 51.2 68.75 52.05 Q65.6 52.9 61.7 52.9 Q56.6 52.9 52.35 50.6 Q48.1 48.3 45.5 44.1 Q43.9 48.9 40 50.9 Q36.1 52.9 31.3 52.9 Q20.4 52.9 14.6 44.1 L14.4 44.1 L14.4 51.7 Z\"\n",
       "        /><glyph unicode=\"o\" horiz-adv-x=\"57.4\" d=\"M12.6 25.8 Q12.6 30.5 13.85 34.15 Q15.1 37.8 17.3 40.3 Q19.5 42.8 22.45 44.1 Q25.4 45.4 28.7 45.4 Q32 45.4 34.95 44.1 Q37.9 42.8 40.1 40.3 Q42.3 37.8 43.55 34.15 Q44.8 30.5 44.8 25.8 Q44.8 21.1 43.55 17.45 Q42.3 13.8 40.1 11.35 Q37.9 8.9 34.95 7.6 Q32 6.3 28.7 6.3 Q25.4 6.3 22.45 7.6 Q19.5 8.9 17.3 11.35 Q15.1 13.8 13.85 17.45 Q12.6 21.1 12.6 25.8 ZM3.6 25.8 Q3.6 20.1 5.2 15.2 Q6.8 10.3 10 6.65 Q13.2 3 17.9 0.95 Q22.6 -1.1 28.7 -1.1 Q34.9 -1.1 39.55 0.95 Q44.2 3 47.4 6.65 Q50.6 10.3 52.2 15.2 Q53.8 20.1 53.8 25.8 Q53.8 31.5 52.2 36.45 Q50.6 41.4 47.4 45.05 Q44.2 48.7 39.55 50.8 Q34.9 52.9 28.7 52.9 Q22.6 52.9 17.9 50.8 Q13.2 48.7 10 45.05 Q6.8 41.4 5.2 36.45 Q3.6 31.5 3.6 25.8 Z\"\n",
       "        /><glyph unicode=\"c\" horiz-adv-x=\"53.7\" d=\"M41.5 35.1 L50.3 35.1 Q49.8 39.7 47.9 43.05 Q46 46.4 43.05 48.6 Q40.1 50.8 36.25 51.85 Q32.4 52.9 28 52.9 Q21.9 52.9 17.3 50.75 Q12.7 48.6 9.65 44.85 Q6.6 41.1 5.1 36.05 Q3.6 31 3.6 25.2 Q3.6 19.4 5.15 14.55 Q6.7 9.7 9.75 6.2 Q12.8 2.7 17.35 0.8 Q21.9 -1.1 27.8 -1.1 Q37.7 -1.1 43.45 4.1 Q49.2 9.3 50.6 18.9 L41.9 18.9 Q41.1 12.9 37.55 9.6 Q34 6.3 27.7 6.3 Q23.7 6.3 20.8 7.9 Q17.9 9.5 16.1 12.15 Q14.3 14.8 13.45 18.2 Q12.6 21.6 12.6 25.2 Q12.6 29.1 13.4 32.75 Q14.2 36.4 16.05 39.2 Q17.9 42 21 43.7 Q24.1 45.4 28.7 45.4 Q34.1 45.4 37.3 42.7 Q40.5 40 41.5 35.1 Z\"\n",
       "        /><glyph unicode=\"L\" horiz-adv-x=\"55.6\" d=\"M7.8 71.4 L7.8 0 L55.1 0 L55.1 8 L17.3 8 L17.3 71.4 Z\"\n",
       "      /></font\n",
       "      ><font horiz-adv-x=\"50.0\" id=\"font2\"\n",
       "      ><font-face ascent=\"97.5\" descent=\"21.699999\" units-per-em=\"100\" style=\"font-style:normal; font-family:Helvetica Neue; font-weight:bold;\"\n",
       "        /><missing-glyph horiz-adv-x=\"50.0\" d=\"M39.1 60.7 L11.1 60.7 L11.1 9.5 L39.1 9.5 ZM48.2 69.8 L48.2 0.3 L1.7 0.3 L1.7 69.8 Z\"\n",
       "        /><glyph unicode=\"r\" horiz-adv-x=\"38.9\" d=\"M5.4 51.7 L5.4 0 L19.6 0 L19.6 23.3 Q19.6 26.8 20.3 29.8 Q21 32.8 22.65 35.05 Q24.3 37.3 27 38.6 Q29.7 39.9 33.6 39.9 Q34.9 39.9 36.3 39.75 Q37.7 39.6 38.7 39.4 L38.7 52.6 Q37 53.1 35.6 53.1 Q32.9 53.1 30.4 52.3 Q27.9 51.5 25.7 50.05 Q23.5 48.6 21.8 46.55 Q20.1 44.5 19.1 42.1 L18.9 42.1 L18.9 51.7 Z\"\n",
       "        /><glyph unicode=\":\" horiz-adv-x=\"27.8\" d=\"M21.8 35.4 L21.8 50.8 L6.1 50.8 L6.1 35.4 ZM6.1 15.4 L6.1 0 L21.8 0 L21.8 15.4 Z\"\n",
       "        /><glyph unicode=\"d\" horiz-adv-x=\"61.1\" d=\"M42.1 26 Q42.1 22.8 41.5 19.8 Q40.9 16.8 39.5 14.45 Q38.1 12.1 35.75 10.7 Q33.4 9.3 29.9 9.3 Q26.6 9.3 24.25 10.75 Q21.9 12.2 20.35 14.55 Q18.8 16.9 18.1 19.9 Q17.4 22.9 17.4 25.9 Q17.4 29.1 18.05 32.05 Q18.7 35 20.15 37.3 Q21.6 39.6 24 41 Q26.4 42.4 29.9 42.4 Q33.4 42.4 35.7 41 Q38 39.6 39.45 37.35 Q40.9 35.1 41.5 32.15 Q42.1 29.2 42.1 26 ZM42.3 6.6 L42.3 0 L55.8 0 L55.8 71.4 L41.6 71.4 L41.6 45.4 L41.4 45.4 Q39 49.2 34.85 51.15 Q30.7 53.1 26.1 53.1 Q20.4 53.1 16.1 50.85 Q11.8 48.6 8.95 44.9 Q6.1 41.2 4.65 36.35 Q3.2 31.5 3.2 26.3 Q3.2 20.9 4.65 15.9 Q6.1 10.9 8.95 7.05 Q11.8 3.2 16.2 0.95 Q20.6 -1.3 26.4 -1.3 Q31.5 -1.3 35.55 0.55 Q39.6 2.4 42.1 6.6 Z\"\n",
       "        /><glyph unicode=\"t\" horiz-adv-x=\"35.2\" d=\"M23.4 51.7 L23.4 67.2 L9.2 67.2 L9.2 51.7 L0.6 51.7 L0.6 42.2 L9.2 42.2 L9.2 11.7 Q9.2 7.8 10.5 5.4 Q11.8 3 14.05 1.7 Q16.3 0.4 19.25 -0.05 Q22.2 -0.5 25.5 -0.5 Q27.6 -0.5 29.8 -0.4 Q32 -0.3 33.8 0 L33.8 11 Q32.8 10.8 31.7 10.7 Q30.6 10.6 29.4 10.6 Q25.8 10.6 24.6 11.8 Q23.4 13 23.4 16.6 L23.4 42.2 L33.8 42.2 L33.8 51.7 Z\"\n",
       "        /><glyph unicode=\"s\" horiz-adv-x=\"53.7\" d=\"M16.4 16.8 L2.9 16.8 Q3.1 11.6 5.25 8.15 Q7.4 4.7 10.75 2.6 Q14.1 0.5 18.4 -0.4 Q22.7 -1.3 27.2 -1.3 Q31.6 -1.3 35.85 -0.45 Q40.1 0.4 43.4 2.5 Q46.7 4.6 48.75 8.05 Q50.8 11.5 50.8 16.6 Q50.8 20.2 49.4 22.65 Q48 25.1 45.7 26.75 Q43.4 28.4 40.45 29.4 Q37.5 30.4 34.4 31.1 Q31.4 31.8 28.5 32.4 Q25.6 33 23.35 33.75 Q21.1 34.5 19.7 35.7 Q18.3 36.9 18.3 38.8 Q18.3 40.4 19.1 41.35 Q19.9 42.3 21.05 42.8 Q22.2 43.3 23.6 43.45 Q25 43.6 26.2 43.6 Q30 43.6 32.8 42.15 Q35.6 40.7 35.9 36.6 L49.4 36.6 Q49 41.4 46.95 44.55 Q44.9 47.7 41.8 49.6 Q38.7 51.5 34.75 52.3 Q30.8 53.1 26.6 53.1 Q22.4 53.1 18.4 52.35 Q14.4 51.6 11.2 49.75 Q8 47.9 6.05 44.7 Q4.1 41.5 4.1 36.5 Q4.1 33.1 5.5 30.75 Q6.9 28.4 9.2 26.85 Q11.5 25.3 14.45 24.35 Q17.4 23.4 20.5 22.7 Q28.1 21.1 32.35 19.5 Q36.6 17.9 36.6 14.7 Q36.6 12.8 35.7 11.55 Q34.8 10.3 33.45 9.55 Q32.1 8.8 30.45 8.45 Q28.8 8.1 27.3 8.1 Q25.2 8.1 23.25 8.6 Q21.3 9.1 19.8 10.15 Q18.3 11.2 17.35 12.85 Q16.4 14.5 16.4 16.8 Z\"\n",
       "        /><glyph unicode=\"n\" horiz-adv-x=\"59.3\" d=\"M5.4 51.7 L5.4 0 L19.6 0 L19.6 27.1 Q19.6 35 22.2 38.45 Q24.8 41.9 30.6 41.9 Q35.7 41.9 37.7 38.75 Q39.7 35.6 39.7 29.2 L39.7 0 L53.9 0 L53.9 31.8 Q53.9 36.6 53.05 40.55 Q52.2 44.5 50.1 47.25 Q48 50 44.35 51.55 Q40.7 53.1 35 53.1 Q30.5 53.1 26.2 51.05 Q21.9 49 19.2 44.5 L18.9 44.5 L18.9 51.7 Z\"\n",
       "        /><glyph unicode=\"e\" horiz-adv-x=\"57.4\" d=\"M40.2 31.4 L17.1 31.4 Q17.2 32.9 17.75 34.8 Q18.3 36.7 19.65 38.4 Q21 40.1 23.25 41.25 Q25.5 42.4 28.9 42.4 Q34.1 42.4 36.65 39.6 Q39.2 36.8 40.2 31.4 ZM17.1 22.4 L54.4 22.4 Q54.8 28.4 53.4 33.9 Q52 39.4 48.85 43.7 Q45.7 48 40.8 50.55 Q35.9 53.1 29.3 53.1 Q23.4 53.1 18.55 51 Q13.7 48.9 10.2 45.25 Q6.7 41.6 4.8 36.6 Q2.9 31.6 2.9 25.8 Q2.9 19.8 4.75 14.8 Q6.6 9.8 10 6.2 Q13.4 2.6 18.3 0.65 Q23.2 -1.3 29.3 -1.3 Q38.1 -1.3 44.3 2.7 Q50.5 6.7 53.5 16 L41 16 Q40.3 13.6 37.2 11.45 Q34.1 9.3 29.8 9.3 Q23.8 9.3 20.6 12.4 Q17.4 15.5 17.1 22.4 Z\"\n",
       "        /><glyph unicode=\"p\" horiz-adv-x=\"61.1\" d=\"M31.5 9.3 Q28.1 9.3 25.7 10.7 Q23.3 12.1 21.85 14.35 Q20.4 16.6 19.75 19.6 Q19.1 22.6 19.1 25.7 Q19.1 28.9 19.7 31.9 Q20.3 34.9 21.75 37.2 Q23.2 39.5 25.55 40.95 Q27.9 42.4 31.4 42.4 Q34.8 42.4 37.15 40.95 Q39.5 39.5 41 37.15 Q42.5 34.8 43.15 31.8 Q43.8 28.8 43.8 25.7 Q43.8 22.6 43.2 19.6 Q42.6 16.6 41.15 14.35 Q39.7 12.1 37.35 10.7 Q35 9.3 31.5 9.3 ZM5.4 51.7 L5.4 -18.1 L19.6 -18.1 L19.6 6.4 L19.8 6.4 Q22.4 2.6 26.45 0.65 Q30.5 -1.3 35.3 -1.3 Q41 -1.3 45.25 0.9 Q49.5 3.1 52.35 6.8 Q55.2 10.5 56.6 15.3 Q58 20.1 58 25.3 Q58 30.8 56.6 35.85 Q55.2 40.9 52.3 44.7 Q49.4 48.5 45 50.8 Q40.6 53.1 34.5 53.1 Q29.7 53.1 25.7 51.2 Q21.7 49.3 19.1 45.1 L18.9 45.1 L18.9 51.7 Z\"\n",
       "        /><glyph unicode=\"m\" horiz-adv-x=\"90.6\" d=\"M5.8 51.7 L5.8 0 L20 0 L20 30 Q20 33.8 21.1 36.15 Q22.2 38.5 23.75 39.75 Q25.3 41 26.95 41.45 Q28.6 41.9 29.6 41.9 Q33 41.9 34.75 40.75 Q36.5 39.6 37.25 37.7 Q38 35.8 38.1 33.55 Q38.2 31.3 38.2 29 L38.2 0 L52.4 0 L52.4 28.8 Q52.4 31.2 52.75 33.55 Q53.1 35.9 54.15 37.75 Q55.2 39.6 57.05 40.75 Q58.9 41.9 61.9 41.9 Q64.9 41.9 66.65 40.9 Q68.4 39.9 69.3 38.2 Q70.2 36.5 70.4 34.2 Q70.6 31.9 70.6 29.3 L70.6 0 L84.8 0 L84.8 34.6 Q84.8 39.6 83.4 43.15 Q82 46.7 79.5 48.9 Q77 51.1 73.5 52.1 Q70 53.1 65.9 53.1 Q60.5 53.1 56.55 50.5 Q52.6 47.9 50.3 44.5 Q48.2 49.3 44.15 51.2 Q40.1 53.1 35.2 53.1 Q30.1 53.1 26.15 50.9 Q22.2 48.7 19.4 44.7 L19.2 44.7 L19.2 51.7 Z\"\n",
       "        /><glyph unicode=\"o\" horiz-adv-x=\"61.1\" d=\"M18 25.8 Q18 28.9 18.6 31.9 Q19.2 34.9 20.65 37.2 Q22.1 39.5 24.5 40.95 Q26.9 42.4 30.5 42.4 Q34.1 42.4 36.55 40.95 Q39 39.5 40.45 37.2 Q41.9 34.9 42.5 31.9 Q43.1 28.9 43.1 25.8 Q43.1 22.7 42.5 19.75 Q41.9 16.8 40.45 14.45 Q39 12.1 36.55 10.7 Q34.1 9.3 30.5 9.3 Q26.9 9.3 24.5 10.7 Q22.1 12.1 20.65 14.45 Q19.2 16.8 18.6 19.75 Q18 22.7 18 25.8 ZM3.8 25.8 Q3.8 19.6 5.7 14.6 Q7.6 9.6 11.1 6.05 Q14.6 2.5 19.5 0.6 Q24.4 -1.3 30.5 -1.3 Q36.6 -1.3 41.55 0.6 Q46.5 2.5 50 6.05 Q53.5 9.6 55.4 14.6 Q57.3 19.6 57.3 25.8 Q57.3 32 55.4 37.05 Q53.5 42.1 50 45.65 Q46.5 49.2 41.55 51.15 Q36.6 53.1 30.5 53.1 Q24.4 53.1 19.5 51.15 Q14.6 49.2 11.1 45.65 Q7.6 42.1 5.7 37.05 Q3.8 32 3.8 25.8 Z\"\n",
       "        /><glyph unicode=\"c\" horiz-adv-x=\"57.4\" d=\"M40.6 33.5 L54.5 33.5 Q54.2 38.5 52.1 42.15 Q50 45.8 46.65 48.25 Q43.3 50.7 39.05 51.9 Q34.8 53.1 30.2 53.1 Q23.9 53.1 19 51 Q14.1 48.9 10.7 45.15 Q7.3 41.4 5.55 36.25 Q3.8 31.1 3.8 25.1 Q3.8 19.3 5.7 14.45 Q7.6 9.6 11 6.1 Q14.4 2.6 19.25 0.65 Q24.1 -1.3 29.9 -1.3 Q40.2 -1.3 46.8 4.1 Q53.4 9.5 54.8 19.8 L41.1 19.8 Q40.4 15 37.65 12.15 Q34.9 9.3 29.8 9.3 Q26.5 9.3 24.2 10.8 Q21.9 12.3 20.55 14.65 Q19.2 17 18.6 19.9 Q18 22.8 18 25.6 Q18 28.5 18.6 31.45 Q19.2 34.4 20.65 36.85 Q22.1 39.3 24.4 40.85 Q26.7 42.4 30.1 42.4 Q39.2 42.4 40.6 33.5 Z\"\n",
       "        /><glyph unicode=\" \" horiz-adv-x=\"27.8\" d=\"\"\n",
       "        /><glyph unicode=\"g\" horiz-adv-x=\"61.1\" d=\"M29.5 12.2 Q26.2 12.2 24 13.6 Q21.8 15 20.45 17.2 Q19.1 19.4 18.55 22.15 Q18 24.9 18 27.7 Q18 30.6 18.65 33.25 Q19.3 35.9 20.75 37.95 Q22.2 40 24.35 41.2 Q26.5 42.4 29.5 42.4 Q33 42.4 35.3 41.1 Q37.6 39.8 39 37.6 Q40.4 35.4 41 32.55 Q41.6 29.7 41.6 26.5 Q41.6 23.7 40.85 21.15 Q40.1 18.6 38.6 16.6 Q37.1 14.6 34.8 13.4 Q32.5 12.2 29.5 12.2 ZM55.1 3.3 L55.1 51.7 L41.6 51.7 L41.6 44.8 L41.4 44.8 Q38.8 49.3 34.95 51.2 Q31.1 53.1 26 53.1 Q20.6 53.1 16.45 51 Q12.3 48.9 9.5 45.35 Q6.7 41.8 5.25 37.15 Q3.8 32.5 3.8 27.5 Q3.8 22.2 5.05 17.45 Q6.3 12.7 9 9.15 Q11.7 5.6 15.9 3.55 Q20.1 1.5 25.9 1.5 Q30.6 1.5 34.85 3.45 Q39.1 5.4 41.4 9.5 L41.6 9.5 L41.6 2.7 Q41.7 -2.8 38.95 -6.4 Q36.2 -10 30.2 -10 Q26.4 -10 23.5 -8.45 Q20.6 -6.9 19.6 -2.9 L5.5 -2.9 Q5.8 -7.3 7.95 -10.45 Q10.1 -13.6 13.35 -15.6 Q16.6 -17.6 20.55 -18.55 Q24.5 -19.5 28.3 -19.5 Q37.2 -19.5 42.5 -17.1 Q47.8 -14.7 50.6 -11.25 Q53.4 -7.8 54.25 -3.8 Q55.1 0.2 55.1 3.3 Z\"\n",
       "        /><glyph unicode=\"a\" horiz-adv-x=\"57.4\" d=\"M4.8 35.8 Q5.1 40.8 7.3 44.1 Q9.5 47.4 12.9 49.4 Q16.3 51.4 20.55 52.25 Q24.8 53.1 29.1 53.1 Q33 53.1 37 52.55 Q41 52 44.3 50.4 Q47.6 48.8 49.7 45.95 Q51.8 43.1 51.8 38.4 L51.8 11.5 Q51.8 8 52.2 4.8 Q52.6 1.6 53.6 0 L39.2 0 Q38.8 1.2 38.55 2.45 Q38.3 3.7 38.2 5 Q34.8 1.5 30.2 0.1 Q25.6 -1.3 20.8 -1.3 Q17.1 -1.3 13.9 -0.4 Q10.7 0.5 8.3 2.4 Q5.9 4.3 4.55 7.2 Q3.2 10.1 3.2 14.1 Q3.2 18.5 4.75 21.35 Q6.3 24.2 8.75 25.9 Q11.2 27.6 14.35 28.45 Q17.5 29.3 20.7 29.8 Q23.9 30.3 27 30.6 Q30.1 30.9 32.5 31.5 Q34.9 32.1 36.3 33.25 Q37.7 34.4 37.6 36.6 Q37.6 38.9 36.85 40.25 Q36.1 41.6 34.85 42.35 Q33.6 43.1 31.95 43.35 Q30.3 43.6 28.4 43.6 Q24.2 43.6 21.8 41.8 Q19.4 40 19 35.8 ZM37.6 25.3 Q36.7 24.5 35.35 24.05 Q34 23.6 32.45 23.3 Q30.9 23 29.2 22.8 Q27.5 22.6 25.8 22.3 Q24.2 22 22.65 21.5 Q21.1 21 19.95 20.15 Q18.8 19.3 18.1 18 Q17.4 16.7 17.4 14.7 Q17.4 12.8 18.1 11.5 Q18.8 10.2 20 9.45 Q21.2 8.7 22.8 8.4 Q24.4 8.1 26.1 8.1 Q30.3 8.1 32.6 9.5 Q34.9 10.9 36 12.85 Q37.1 14.8 37.35 16.8 Q37.6 18.8 37.6 20 Z\"\n",
       "        /><glyph unicode=\"L\" horiz-adv-x=\"59.3\" d=\"M6.9 71.4 L6.9 0 L57.4 0 L57.4 13.2 L22.6 13.2 L22.6 71.4 Z\"\n",
       "      /></font\n",
       "    ></defs\n",
       "    ><g style=\"fill:white; stroke:white;\"\n",
       "    ><rect x=\"0\" y=\"0\" width=\"560\" style=\"clip-path:url(#clipPath1); stroke:none;\" height=\"420\"\n",
       "    /></g\n",
       "    ><g style=\"fill:white; text-rendering:optimizeSpeed; color-rendering:optimizeSpeed; image-rendering:optimizeSpeed; shape-rendering:crispEdges; stroke:white; color-interpolation:sRGB;\"\n",
       "    ><rect x=\"0\" width=\"560\" height=\"420\" y=\"0\" style=\"stroke:none;\"\n",
       "      /><path style=\"stroke:none;\" d=\"M73 374 L507 374 L507 31 L73 31 Z\"\n",
       "    /></g\n",
       "    ><g style=\"fill:rgb(38,38,38); text-rendering:geometricPrecision; image-rendering:optimizeQuality; color-rendering:optimizeQuality; stroke-linejoin:round; stroke:rgb(38,38,38); color-interpolation:linearRGB; stroke-width:0.5;\"\n",
       "    ><line y2=\"374\" style=\"fill:none;\" x1=\"73\" x2=\"507\" y1=\"374\"\n",
       "      /><line y2=\"31\" style=\"fill:none;\" x1=\"73\" x2=\"507\" y1=\"31\"\n",
       "      /><line y2=\"369.66\" style=\"fill:none;\" x1=\"73\" x2=\"73\" y1=\"374\"\n",
       "      /><line y2=\"369.66\" style=\"fill:none;\" x1=\"116.4\" x2=\"116.4\" y1=\"374\"\n",
       "      /><line y2=\"369.66\" style=\"fill:none;\" x1=\"159.8\" x2=\"159.8\" y1=\"374\"\n",
       "      /><line y2=\"369.66\" style=\"fill:none;\" x1=\"203.2\" x2=\"203.2\" y1=\"374\"\n",
       "      /><line y2=\"369.66\" style=\"fill:none;\" x1=\"246.6\" x2=\"246.6\" y1=\"374\"\n",
       "      /><line y2=\"369.66\" style=\"fill:none;\" x1=\"290\" x2=\"290\" y1=\"374\"\n",
       "      /><line y2=\"369.66\" style=\"fill:none;\" x1=\"333.4\" x2=\"333.4\" y1=\"374\"\n",
       "      /><line y2=\"369.66\" style=\"fill:none;\" x1=\"376.8\" x2=\"376.8\" y1=\"374\"\n",
       "      /><line y2=\"369.66\" style=\"fill:none;\" x1=\"420.2\" x2=\"420.2\" y1=\"374\"\n",
       "      /><line y2=\"369.66\" style=\"fill:none;\" x1=\"463.6\" x2=\"463.6\" y1=\"374\"\n",
       "      /><line y2=\"369.66\" style=\"fill:none;\" x1=\"507\" x2=\"507\" y1=\"374\"\n",
       "      /><line y2=\"35.34\" style=\"fill:none;\" x1=\"73\" x2=\"73\" y1=\"31\"\n",
       "      /><line y2=\"35.34\" style=\"fill:none;\" x1=\"116.4\" x2=\"116.4\" y1=\"31\"\n",
       "      /><line y2=\"35.34\" style=\"fill:none;\" x1=\"159.8\" x2=\"159.8\" y1=\"31\"\n",
       "      /><line y2=\"35.34\" style=\"fill:none;\" x1=\"203.2\" x2=\"203.2\" y1=\"31\"\n",
       "      /><line y2=\"35.34\" style=\"fill:none;\" x1=\"246.6\" x2=\"246.6\" y1=\"31\"\n",
       "      /><line y2=\"35.34\" style=\"fill:none;\" x1=\"290\" x2=\"290\" y1=\"31\"\n",
       "      /><line y2=\"35.34\" style=\"fill:none;\" x1=\"333.4\" x2=\"333.4\" y1=\"31\"\n",
       "      /><line y2=\"35.34\" style=\"fill:none;\" x1=\"376.8\" x2=\"376.8\" y1=\"31\"\n",
       "      /><line y2=\"35.34\" style=\"fill:none;\" x1=\"420.2\" x2=\"420.2\" y1=\"31\"\n",
       "      /><line y2=\"35.34\" style=\"fill:none;\" x1=\"463.6\" x2=\"463.6\" y1=\"31\"\n",
       "      /><line y2=\"35.34\" style=\"fill:none;\" x1=\"507\" x2=\"507\" y1=\"31\"\n",
       "    /></g\n",
       "    ><g transform=\"translate(73,378)\" style=\"font-size:10px; fill:rgb(38,38,38); text-rendering:geometricPrecision; image-rendering:optimizeQuality; color-rendering:optimizeQuality; font-family:'Helvetica Neue'; stroke:rgb(38,38,38); color-interpolation:linearRGB;\"\n",
       "    ><text x=\"-3\" xml:space=\"preserve\" y=\"10\" style=\"stroke:none;\"\n",
       "      >0</text\n",
       "    ></g\n",
       "    ><g transform=\"translate(116.4,378)\" style=\"font-size:10px; fill:rgb(38,38,38); text-rendering:geometricPrecision; image-rendering:optimizeQuality; color-rendering:optimizeQuality; font-family:'Helvetica Neue'; stroke:rgb(38,38,38); color-interpolation:linearRGB;\"\n",
       "    ><text x=\"-3\" xml:space=\"preserve\" y=\"10\" style=\"stroke:none;\"\n",
       "      >1</text\n",
       "    ></g\n",
       "    ><g transform=\"translate(159.8,378)\" style=\"font-size:10px; fill:rgb(38,38,38); text-rendering:geometricPrecision; image-rendering:optimizeQuality; color-rendering:optimizeQuality; font-family:'Helvetica Neue'; stroke:rgb(38,38,38); color-interpolation:linearRGB;\"\n",
       "    ><text x=\"-3\" xml:space=\"preserve\" y=\"10\" style=\"stroke:none;\"\n",
       "      >2</text\n",
       "    ></g\n",
       "    ><g transform=\"translate(203.2,378)\" style=\"font-size:10px; fill:rgb(38,38,38); text-rendering:geometricPrecision; image-rendering:optimizeQuality; color-rendering:optimizeQuality; font-family:'Helvetica Neue'; stroke:rgb(38,38,38); color-interpolation:linearRGB;\"\n",
       "    ><text x=\"-3\" xml:space=\"preserve\" y=\"10\" style=\"stroke:none;\"\n",
       "      >3</text\n",
       "    ></g\n",
       "    ><g transform=\"translate(246.6,378)\" style=\"font-size:10px; fill:rgb(38,38,38); text-rendering:geometricPrecision; image-rendering:optimizeQuality; color-rendering:optimizeQuality; font-family:'Helvetica Neue'; stroke:rgb(38,38,38); color-interpolation:linearRGB;\"\n",
       "    ><text x=\"-3\" xml:space=\"preserve\" y=\"10\" style=\"stroke:none;\"\n",
       "      >4</text\n",
       "    ></g\n",
       "    ><g transform=\"translate(290,378)\" style=\"font-size:10px; fill:rgb(38,38,38); text-rendering:geometricPrecision; image-rendering:optimizeQuality; color-rendering:optimizeQuality; font-family:'Helvetica Neue'; stroke:rgb(38,38,38); color-interpolation:linearRGB;\"\n",
       "    ><text x=\"-3\" xml:space=\"preserve\" y=\"10\" style=\"stroke:none;\"\n",
       "      >5</text\n",
       "    ></g\n",
       "    ><g transform=\"translate(333.4,378)\" style=\"font-size:10px; fill:rgb(38,38,38); text-rendering:geometricPrecision; image-rendering:optimizeQuality; color-rendering:optimizeQuality; font-family:'Helvetica Neue'; stroke:rgb(38,38,38); color-interpolation:linearRGB;\"\n",
       "    ><text x=\"-3\" xml:space=\"preserve\" y=\"10\" style=\"stroke:none;\"\n",
       "      >6</text\n",
       "    ></g\n",
       "    ><g transform=\"translate(376.8,378)\" style=\"font-size:10px; fill:rgb(38,38,38); text-rendering:geometricPrecision; image-rendering:optimizeQuality; color-rendering:optimizeQuality; font-family:'Helvetica Neue'; stroke:rgb(38,38,38); color-interpolation:linearRGB;\"\n",
       "    ><text x=\"-3\" xml:space=\"preserve\" y=\"10\" style=\"stroke:none;\"\n",
       "      >7</text\n",
       "    ></g\n",
       "    ><g transform=\"translate(420.2,378)\" style=\"font-size:10px; fill:rgb(38,38,38); text-rendering:geometricPrecision; image-rendering:optimizeQuality; color-rendering:optimizeQuality; font-family:'Helvetica Neue'; stroke:rgb(38,38,38); color-interpolation:linearRGB;\"\n",
       "    ><text x=\"-3\" xml:space=\"preserve\" y=\"10\" style=\"stroke:none;\"\n",
       "      >8</text\n",
       "    ></g\n",
       "    ><g transform=\"translate(463.6,378)\" style=\"font-size:10px; fill:rgb(38,38,38); text-rendering:geometricPrecision; image-rendering:optimizeQuality; color-rendering:optimizeQuality; font-family:'Helvetica Neue'; stroke:rgb(38,38,38); color-interpolation:linearRGB;\"\n",
       "    ><text x=\"-3\" xml:space=\"preserve\" y=\"10\" style=\"stroke:none;\"\n",
       "      >9</text\n",
       "    ></g\n",
       "    ><g transform=\"translate(507,378)\" style=\"font-size:10px; fill:rgb(38,38,38); text-rendering:geometricPrecision; image-rendering:optimizeQuality; color-rendering:optimizeQuality; font-family:'Helvetica Neue'; stroke:rgb(38,38,38); color-interpolation:linearRGB;\"\n",
       "    ><text x=\"-6\" xml:space=\"preserve\" y=\"10\" style=\"stroke:none;\"\n",
       "      >10</text\n",
       "    ></g\n",
       "    ><g style=\"fill:rgb(38,38,38); text-rendering:geometricPrecision; image-rendering:optimizeQuality; color-rendering:optimizeQuality; stroke-linejoin:round; stroke:rgb(38,38,38); color-interpolation:linearRGB; stroke-width:0.5;\"\n",
       "    ><line y2=\"31\" style=\"fill:none;\" x1=\"73\" x2=\"73\" y1=\"374\"\n",
       "      /><line y2=\"31\" style=\"fill:none;\" x1=\"507\" x2=\"507\" y1=\"374\"\n",
       "      /><line y2=\"374\" style=\"fill:none;\" x1=\"73\" x2=\"77.34\" y1=\"374\"\n",
       "      /><line y2=\"316.8333\" style=\"fill:none;\" x1=\"73\" x2=\"77.34\" y1=\"316.8333\"\n",
       "      /><line y2=\"259.6667\" style=\"fill:none;\" x1=\"73\" x2=\"77.34\" y1=\"259.6667\"\n",
       "      /><line y2=\"202.5\" style=\"fill:none;\" x1=\"73\" x2=\"77.34\" y1=\"202.5\"\n",
       "      /><line y2=\"145.3333\" style=\"fill:none;\" x1=\"73\" x2=\"77.34\" y1=\"145.3333\"\n",
       "      /><line y2=\"88.1667\" style=\"fill:none;\" x1=\"73\" x2=\"77.34\" y1=\"88.1667\"\n",
       "      /><line y2=\"31\" style=\"fill:none;\" x1=\"73\" x2=\"77.34\" y1=\"31\"\n",
       "      /><line y2=\"374\" style=\"fill:none;\" x1=\"507\" x2=\"502.66\" y1=\"374\"\n",
       "      /><line y2=\"316.8333\" style=\"fill:none;\" x1=\"507\" x2=\"502.66\" y1=\"316.8333\"\n",
       "      /><line y2=\"259.6667\" style=\"fill:none;\" x1=\"507\" x2=\"502.66\" y1=\"259.6667\"\n",
       "      /><line y2=\"202.5\" style=\"fill:none;\" x1=\"507\" x2=\"502.66\" y1=\"202.5\"\n",
       "      /><line y2=\"145.3333\" style=\"fill:none;\" x1=\"507\" x2=\"502.66\" y1=\"145.3333\"\n",
       "      /><line y2=\"88.1667\" style=\"fill:none;\" x1=\"507\" x2=\"502.66\" y1=\"88.1667\"\n",
       "      /><line y2=\"31\" style=\"fill:none;\" x1=\"507\" x2=\"502.66\" y1=\"31\"\n",
       "    /></g\n",
       "    ><g transform=\"translate(69,374)\" style=\"font-size:10px; fill:rgb(38,38,38); text-rendering:geometricPrecision; image-rendering:optimizeQuality; color-rendering:optimizeQuality; font-family:'Helvetica Neue'; stroke:rgb(38,38,38); color-interpolation:linearRGB;\"\n",
       "    ><text x=\"-6\" xml:space=\"preserve\" y=\"3.5\" style=\"stroke:none;\"\n",
       "      >0</text\n",
       "    ></g\n",
       "    ><g transform=\"translate(69,316.8333)\" style=\"font-size:10px; fill:rgb(38,38,38); text-rendering:geometricPrecision; image-rendering:optimizeQuality; color-rendering:optimizeQuality; font-family:'Helvetica Neue'; stroke:rgb(38,38,38); color-interpolation:linearRGB;\"\n",
       "    ><text x=\"-14\" xml:space=\"preserve\" y=\"3.5\" style=\"stroke:none;\"\n",
       "      >0.1</text\n",
       "    ></g\n",
       "    ><g transform=\"translate(69,259.6667)\" style=\"font-size:10px; fill:rgb(38,38,38); text-rendering:geometricPrecision; image-rendering:optimizeQuality; color-rendering:optimizeQuality; font-family:'Helvetica Neue'; stroke:rgb(38,38,38); color-interpolation:linearRGB;\"\n",
       "    ><text x=\"-14\" xml:space=\"preserve\" y=\"3.5\" style=\"stroke:none;\"\n",
       "      >0.2</text\n",
       "    ></g\n",
       "    ><g transform=\"translate(69,202.5)\" style=\"font-size:10px; fill:rgb(38,38,38); text-rendering:geometricPrecision; image-rendering:optimizeQuality; color-rendering:optimizeQuality; font-family:'Helvetica Neue'; stroke:rgb(38,38,38); color-interpolation:linearRGB;\"\n",
       "    ><text x=\"-14\" xml:space=\"preserve\" y=\"3.5\" style=\"stroke:none;\"\n",
       "      >0.3</text\n",
       "    ></g\n",
       "    ><g transform=\"translate(69,145.3333)\" style=\"font-size:10px; fill:rgb(38,38,38); text-rendering:geometricPrecision; image-rendering:optimizeQuality; color-rendering:optimizeQuality; font-family:'Helvetica Neue'; stroke:rgb(38,38,38); color-interpolation:linearRGB;\"\n",
       "    ><text x=\"-14\" xml:space=\"preserve\" y=\"3.5\" style=\"stroke:none;\"\n",
       "      >0.4</text\n",
       "    ></g\n",
       "    ><g transform=\"translate(69,88.1667)\" style=\"font-size:10px; fill:rgb(38,38,38); text-rendering:geometricPrecision; image-rendering:optimizeQuality; color-rendering:optimizeQuality; font-family:'Helvetica Neue'; stroke:rgb(38,38,38); color-interpolation:linearRGB;\"\n",
       "    ><text x=\"-14\" xml:space=\"preserve\" y=\"3.5\" style=\"stroke:none;\"\n",
       "      >0.5</text\n",
       "    ></g\n",
       "    ><g transform=\"translate(69,31)\" style=\"font-size:10px; fill:rgb(38,38,38); text-rendering:geometricPrecision; image-rendering:optimizeQuality; color-rendering:optimizeQuality; font-family:'Helvetica Neue'; stroke:rgb(38,38,38); color-interpolation:linearRGB;\"\n",
       "    ><text x=\"-14\" xml:space=\"preserve\" y=\"3.5\" style=\"stroke:none;\"\n",
       "      >0.6</text\n",
       "    ></g\n",
       "    ><g transform=\"translate(290.0003,28.25)\" style=\"font-size:11px; text-rendering:geometricPrecision; image-rendering:optimizeQuality; color-rendering:optimizeQuality; font-family:'Helvetica Neue'; color-interpolation:linearRGB; font-weight:bold;\"\n",
       "    ><text x=\"-90\" xml:space=\"preserve\" y=\"-3\" style=\"stroke:none;\"\n",
       "      >Lag compensated: ramp response</text\n",
       "    ></g\n",
       "    ><g style=\"stroke-linecap:butt; fill:rgb(0,114,189); text-rendering:geometricPrecision; image-rendering:optimizeQuality; color-rendering:optimizeQuality; stroke-linejoin:round; stroke:rgb(0,114,189); color-interpolation:linearRGB; stroke-width:0.5;\"\n",
       "    ><path d=\"M73 374 L75 347.7271 L77 321.8556 L79 296.7187 L81 272.5822 L83 249.6516 L85 228.0792 L87 207.9706 L89 189.391 L91 172.3707 L93 156.9111 L95 142.9888 L97 130.5609 L99 119.5682 L101 109.9396 L103 101.5945 L105 94.4461 L107 88.4039 L109 83.3751 L111 79.2671 L113 75.9885 L115 73.4505 L117 71.5678 L119 70.2591 L121 69.4483 L123 69.0639 L125 69.0402 L127 69.3168 L129 69.8389 L131 70.5571 L133 71.4272 L135 72.4102 L137 73.4718 L139 74.5824 L141 75.7165 L143 76.8525 L145 77.9726 L147 79.0622 L149 80.1093 L151 81.105 L153 82.0425 L155 82.9171 L157 83.7257 L159 84.4671 L161 85.141 L163 85.7483 L165 86.2908 L167 86.7711 L169 87.1921 L171 87.5574 L173 87.8706 L175 88.1357 L177 88.3566 L179 88.5374 L181 88.682 L183 88.7943 L185 88.878 L187 88.9365 L189 88.9733 L191 88.9914 L193 88.9937 L195 88.9827 L197 88.961 L199 88.9306 L201 88.8935 L203 88.8514 L205 88.8057 L207 88.7579 L209 88.7089 L211 88.6598 L213 88.6113 L215 88.5641 L217 88.5187 L219 88.4754 L221 88.4347 L223 88.3967 L225 88.3615 L227 88.3292 L229 88.2998 L231 88.2733 L233 88.2497 L235 88.2287 L237 88.2103 L239 88.1943 L241 88.1805 L243 88.1689 L245 88.1592 L247 88.1513 L249 88.1449 L251 88.1399 L253 88.1362 L255 88.1336 L257 88.1319 L259 88.1311 L261 88.1309 L263 88.1313 L265 88.1323 L267 88.1335 L269 88.1351 L271 88.1369 L273 88.1389 L275 88.1409 L277 88.1431 L279 88.1452 L281 88.1473 L283 88.1493 L285 88.1513 L287 88.1532 L289 88.1549 L291 88.1566 L293 88.1581 L295 88.1595 L297 88.1608 L299 88.162 L301 88.163 L303 88.1639 L305 88.1647 L307 88.1654 L309 88.166 L311 88.1665 L313 88.167 L315 88.1673 L317 88.1676 L319 88.1678 L321 88.168 L323 88.1681 L325 88.1682 L327 88.1682 L329 88.1682 L331 88.1682 L333 88.1682 L335 88.1681 L337 88.168 L339 88.168 L341 88.1679 L343 88.1678 L345 88.1677 L347 88.1676 L349 88.1675 L351 88.1674 L353 88.1673 L355 88.1673 L357 88.1672 L359 88.1671 L361 88.167 L363 88.167 L365 88.1669 L367 88.1669 L369 88.1668 L371 88.1668 L373 88.1667 L375 88.1667 L377 88.1667 L379 88.1667 L381 88.1667 L383 88.1666 L385 88.1666 L387 88.1666 L389 88.1666 L391 88.1666 L393 88.1666 L395 88.1666 L397 88.1666 L399 88.1666 L401 88.1666 L403 88.1666 L405 88.1666 L407 88.1666 L409 88.1666 L411 88.1666 L413 88.1666 L415 88.1666 L417 88.1666 L419 88.1666 L421 88.1666 L423 88.1666 L425 88.1666 L427 88.1666 L429 88.1667 L431 88.1667 L433 88.1667 L435 88.1667 L437 88.1667 L439 88.1667 L441 88.1667 L443 88.1667 L445 88.1667 L447 88.1667 L449 88.1667 L451 88.1667 L453 88.1667 L455 88.1667 L457 88.1667 L459 88.1667 L461 88.1667 L463 88.1667 L465 88.1667 L467 88.1667 L469 88.1667 L471 88.1667 L473 88.1667 L475 88.1667 L477 88.1667 L479 88.1667 L481 88.1667 L483 88.1667 L485 88.1667 L487 88.1667 L489 88.1667 L491 88.1667 L493 88.1667 L495 88.1667 L497 88.1667 L499 88.1667 L501 88.1667 L503 88.1667 L505 88.1667 L507 88.1667\" style=\"fill:none; fill-rule:evenodd;\"\n",
       "      /><path d=\"M73 374 L75.1485 345.7879 L77.297 318.0728 L79.4455 291.2666 L81.5941 265.6965 L83.7426 241.6148 L85.8911 219.2071 L88.0396 198.6005 L90.1881 179.8721 L92.3366 163.0555 L94.4851 148.1481 L96.6337 135.1172 L98.7822 123.9052 L100.9307 114.435 L103.0792 106.6147 L105.2277 100.3409 L107.3762 95.5028 L109.5247 91.9852 L111.6733 89.6705 L113.8218 88.4415 L115.9703 88.183 L118.1188 88.7832 L120.2673 90.1348 L122.4158 92.1364 L124.5644 94.6923 L126.7129 97.7138 L128.8614 101.119 L131.0099 104.8331 L133.1584 108.7884 L135.3069 112.9239 L137.4554 117.1856 L139.604 121.5257 L141.7525 125.9028 L143.901 130.2809 L146.0495 134.6296 L148.198 138.9234 L150.3465 143.1412 L152.4951 147.2661 L154.6436 151.2849 L156.7921 155.1877 L158.9406 158.9672 L161.0891 162.6191 L163.2376 166.1409 L165.3861 169.532 L167.5347 172.7937 L169.6832 175.9282 L171.8317 178.939 L173.9802 181.8302 L176.1287 184.6069 L178.2772 187.2742 L180.4258 189.8378 L182.5742 192.3037 L184.7228 194.6776 L186.8713 196.9654 L189.0198 199.1728 L191.1683 201.3055 L193.3168 203.3688 L195.4653 205.3678 L197.6139 207.3073 L199.7624 209.1918 L201.9109 211.0255 L204.0594 212.8122 L206.2079 214.5555 L208.3564 216.2586 L210.5049 217.9244 L212.6535 219.5556 L214.802 221.1544 L216.9505 222.723 L219.099 224.2633 L221.2475 225.7767 L223.396 227.2648 L225.5446 228.7287 L227.6931 230.1696 L229.8416 231.5882 L231.9901 232.9854 L234.1386 234.3617 L236.2871 235.7178 L238.4357 237.0542 L240.5842 238.3711 L242.7327 239.6689 L244.8812 240.9478 L247.0297 242.2081 L249.1782 243.45 L251.3267 244.6736 L253.4753 245.8791 L255.6238 247.0665 L257.7723 248.2361 L259.9208 249.3878 L262.0693 250.5219 L264.2178 251.6384 L266.3663 252.7375 L268.5149 253.8193 L270.6634 254.8838 L272.8119 255.9313 L274.9604 256.9619 L277.1089 257.9757 L279.2574 258.973 L281.4059 259.9538 L283.5545 260.9184 L285.703 261.8669 L287.8515 262.7996 L290 263.7166 L292.1485 264.6182 L294.297 265.5045 L296.4455 266.3758 L298.5941 267.2323 L300.7426 268.0742 L302.8911 268.9018 L305.0396 269.7153 L307.1881 270.5148 L309.3366 271.3007 L311.4851 272.0732 L313.6337 272.8324 L315.7822 273.5786 L317.9307 274.3121 L320.0792 275.033 L322.2277 275.7415 L324.3762 276.438 L326.5247 277.1226 L328.6732 277.7954 L330.8218 278.4568 L332.9703 279.1069 L335.1188 279.7459 L337.2673 280.374 L339.4158 280.9914 L341.5644 281.5983 L343.7129 282.1949 L345.8614 282.7813 L348.0099 283.3578 L350.1584 283.9245 L352.3069 284.4816 L354.4554 285.0292 L356.604 285.5675 L358.7525 286.0967 L360.901 286.617 L363.0495 287.1284 L365.198 287.6312 L367.3466 288.1254 L369.4951 288.6113 L371.6436 289.089 L373.7921 289.5586 L375.9406 290.0202 L378.0891 290.4741 L380.2376 290.9202 L382.3861 291.3588 L384.5347 291.79 L386.6832 292.2139 L388.8317 292.6306 L390.9802 293.0403 L393.1287 293.443 L395.2772 293.839 L397.4258 294.2282 L399.5742 294.6108 L401.7228 294.987 L403.8713 295.3568 L406.0198 295.7204 L408.1683 296.0778 L410.3168 296.4292 L412.4653 296.7746 L414.6139 297.1141 L416.7624 297.448 L418.9109 297.7761 L421.0594 298.0988 L423.2079 298.4159 L425.3564 298.7277 L427.5049 299.0342 L429.6535 299.3355 L431.802 299.6318 L433.9505 299.923 L436.099 300.2093 L438.2476 300.4907 L440.396 300.7673 L442.5446 301.0393 L444.6931 301.3067 L446.8416 301.5696 L448.9901 301.828 L451.1386 302.082 L453.2871 302.3317 L455.4356 302.5772 L457.5842 302.8186 L459.7327 303.0558 L461.8812 303.2891 L464.0297 303.5184 L466.1782 303.7438 L468.3267 303.9654 L470.4753 304.1832 L472.6238 304.3974 L474.7722 304.6079 L476.9208 304.8149 L479.0693 305.0183 L481.2178 305.2184 L483.3663 305.415 L485.5149 305.6083 L487.6634 305.7983 L489.8119 305.9851 L491.9604 306.1688 L494.1089 306.3493 L496.2574 306.5268 L498.4059 306.7013 L500.5545 306.8728 L502.703 307.0414 L504.8515 307.2072 L507 307.3701\" style=\"fill:none; fill-rule:evenodd; stroke:rgb(217,83,25);\"\n",
       "    /></g\n",
       "    ><g style=\"fill:white; text-rendering:optimizeSpeed; color-rendering:optimizeSpeed; image-rendering:optimizeSpeed; shape-rendering:crispEdges; stroke:white; color-interpolation:sRGB;\"\n",
       "    ><path style=\"stroke:none;\" d=\"M499 65 L499 39 L385 39 L385 65 Z\"\n",
       "    /></g\n",
       "    ><g transform=\"translate(422,46.3585)\" style=\"font-size:9px; text-rendering:geometricPrecision; color-rendering:optimizeQuality; image-rendering:optimizeQuality; font-family:'Helvetica Neue'; color-interpolation:linearRGB;\"\n",
       "    ><text x=\"0\" xml:space=\"preserve\" y=\"3.5\" style=\"stroke:none;\"\n",
       "      >Transient design</text\n",
       "    ></g\n",
       "    ><g style=\"stroke-linecap:butt; fill:rgb(0,114,189); text-rendering:geometricPrecision; image-rendering:optimizeQuality; color-rendering:optimizeQuality; stroke-linejoin:round; stroke:rgb(0,114,189); color-interpolation:linearRGB; stroke-width:0.5;\"\n",
       "    ><line y2=\"46.3585\" style=\"fill:none;\" x1=\"389\" x2=\"419\" y1=\"46.3585\"\n",
       "    /></g\n",
       "    ><g transform=\"translate(422,57.6415)\" style=\"font-size:9px; text-rendering:geometricPrecision; color-rendering:optimizeQuality; image-rendering:optimizeQuality; font-family:'Helvetica Neue'; color-interpolation:linearRGB;\"\n",
       "    ><text x=\"0\" xml:space=\"preserve\" y=\"3.5\" style=\"stroke:none;\"\n",
       "      >Lag compensated</text\n",
       "    ></g\n",
       "    ><g style=\"stroke-linecap:butt; fill:rgb(217,83,25); text-rendering:geometricPrecision; image-rendering:optimizeQuality; color-rendering:optimizeQuality; stroke-linejoin:round; stroke:rgb(217,83,25); color-interpolation:linearRGB; stroke-width:0.5;\"\n",
       "    ><line y2=\"57.6415\" style=\"fill:none;\" x1=\"389\" x2=\"419\" y1=\"57.6415\"\n",
       "      /><path d=\"M385 65 L385 39 L499 39 L499 65 Z\" style=\"fill:none; fill-rule:evenodd; stroke:rgb(38,38,38); stroke-linejoin:miter;\"\n",
       "    /></g\n",
       "  ></g\n",
       "></svg\n",
       ">\n"
      ]
     },
     "metadata": {},
     "output_type": "display_data"
    }
   ],
   "source": [
    "plot(t3,y3,t4,y4),title('Lag compensated: ramp response'),...\n",
    "    legend('Transient design','Lag compensated')"
   ]
  },
  {
   "cell_type": "markdown",
   "metadata": {
    "slideshow": {
     "slide_type": "slide"
    }
   },
   "source": [
    "The error is certainly reduced, but the settling time is rather long. To improve the design, a strategy would be to reduce the size of the lag pole to reduce still further the dynamic effects of the compensator on the settling \n",
    "time. However, the zero will still have an effect on the overshoot."
   ]
  },
  {
   "cell_type": "markdown",
   "metadata": {
    "slideshow": {
     "slide_type": "notes"
    }
   },
   "source": [
    "## Resources\n",
    "\n",
    "An executable version of this document is available to download as a MATLAB Live Script file [cclag.mlx](matlab/cclag.mlx).\n",
    "\n",
    "You can simulate this design after defining the parameters:"
   ]
  },
  {
   "cell_type": "code",
   "execution_count": 20,
   "metadata": {
    "slideshow": {
     "slide_type": "notes"
    }
   },
   "outputs": [
    {
     "name": "stdout",
     "output_type": "stream",
     "text": [
      "K0 =\n",
      "     8\n",
      "Kc =\n",
      "    0.2000\n",
      "K =\n",
      "    40\n",
      "\n",
      "G =\n",
      " \n",
      "      1\n",
      "  ---------\n",
      "  s^2 + 4 s\n",
      " \n",
      "Continuous-time transfer function.\n",
      "\n",
      "\n",
      "Clag =\n",
      " \n",
      "  0.2 s + 0.06\n",
      "  ------------\n",
      "    s + 0.06\n",
      " \n",
      "Continuous-time transfer function.\n",
      "\n"
     ]
    }
   ],
   "source": [
    "%%file params.m\n",
    "% PARAMS - parameters for Lag Compensator Simulation\n",
    "K0 = 8\n",
    "Kc = 8/40\n",
    "K = 8/Kc\n",
    "\n",
    "G = tf(1,conv([1,0],[1,4]))\n",
    "Clag = Kc*tf([1, 0.3],[1, 0.06])\n",
    "\n",
    "H = 1;\n",
    "F = 1;"
   ]
  },
  {
   "cell_type": "markdown",
   "metadata": {
    "slideshow": {
     "slide_type": "notes"
    }
   },
   "source": [
    "using this Simulink model [lag_sim.slx](matlab/lag_sim.slx) [[params.m](matlab/params.c)]."
   ]
  }
 ],
 "metadata": {
  "celltoolbar": "Slideshow",
  "kernelspec": {
   "display_name": "MATLAB",
   "language": "matlab",
   "name": "imatlab"
  },
  "language_info": {
   "codemirror_mode": "octave",
   "file_extension": ".m",
   "mimetype": "text/x-matlab",
   "name": "matlab",
   "nbconvert_exporter": "imatlab._exporter.MatlabExporter",
   "pygments_lexer": "matlab",
   "version": "9.11.0.1769968 (R2021b)"
  }
 },
 "nbformat": 4,
 "nbformat_minor": 2
}
