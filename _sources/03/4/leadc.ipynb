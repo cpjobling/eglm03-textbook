{
 "cells": [
  {
   "cell_type": "markdown",
   "metadata": {
    "slideshow": {
     "slide_type": "skip"
    }
   },
   "source": [
    "**Lecturer**\n",
    "\n",
    "Set up MATLAB"
   ]
  },
  {
   "cell_type": "code",
   "execution_count": 2,
   "metadata": {
    "slideshow": {
     "slide_type": "skip"
    }
   },
   "outputs": [
    {
     "name": "stdout",
     "output_type": "stream",
     "text": [
      "Error using cd\n",
      "Cannot CD to /Users/eechris/code/src/github.com/cpjobling/eglm03-textbook/03/4/matlab/matlab (Name is nonexistent or not a directory).\n"
     ]
    }
   ],
   "source": [
    "cd matlab\n",
    "pwd\n",
    "clear all\n",
    "imatlab_export_fig('print-svg')  % Static svg figures.\n",
    "format compact"
   ]
  },
  {
   "cell_type": "markdown",
   "metadata": {
    "slideshow": {
     "slide_type": "slide"
    }
   },
   "source": [
    "# Cascade Lead compensation"
   ]
  },
  {
   "cell_type": "markdown",
   "metadata": {
    "slideshow": {
     "slide_type": "slide"
    }
   },
   "source": [
    "## Introduction\n",
    "\n",
    "The proportional plus derivative compensator has the unfortunate property that its high frequency gain is infinite. This means that high frequency effects, such as sensor noise and un-modelled high-frequency dynamics, e.g. resonance terms, will be amplified with potentially disastrous effects. Of course, a real physical derivative operator cannot be implemented and any implementation will actually have poles that will limit the high-frequency gain."
   ]
  },
  {
   "cell_type": "markdown",
   "metadata": {
    "slideshow": {
     "slide_type": "subslide"
    }
   },
   "source": [
    "Recognizing this, an alternative to the pure P+D\n",
    "\n",
    "$$D_{\\mathrm{P+D}}=K_D s + K_{\\mathrm{prop}}$$\n",
    "\n",
    "is the so-called \"lead compensator\"\n",
    "\n",
    "$$D_{\\rm{lead}}(s) = {K_c}\\left( \\frac{s - z_0}{s - p_0}\\right)$$\n",
    "\n",
    "where  \n",
    "\n",
    "$$|p_0| > |z_0|.$$"
   ]
  },
  {
   "cell_type": "markdown",
   "metadata": {
    "slideshow": {
     "slide_type": "subslide"
    }
   },
   "source": [
    "Considering the frequency response of $D_{\\mathrm{lead}}$  \n",
    "\n",
    "$$D_{\\mathrm{lead}}(j\\omega)\n",
    "=  K_c\\left(\\frac{j\\omega-z_0}{j\\omega-p_0}\\right)$$"
   ]
  },
  {
   "cell_type": "markdown",
   "metadata": {
    "slideshow": {
     "slide_type": "subslide"
    }
   },
   "source": [
    "The low and high-frequency gains are:"
   ]
  },
  {
   "cell_type": "markdown",
   "metadata": {
    "slideshow": {
     "slide_type": "fragment"
    }
   },
   "source": [
    "$$\\left.D_{\\mathrm{lead}}(j\\omega)\\right|_{\\omega\\to 0} = Kc \\left(\\frac{z_0}{p_0}\\right)$$"
   ]
  },
  {
   "cell_type": "markdown",
   "metadata": {
    "slideshow": {
     "slide_type": "fragment"
    }
   },
   "source": [
    "$$\\left.D_{\\mathrm{lead}}(j\\omega)\\right|_{\\omega\\to \\infty} = Kc$$"
   ]
  },
  {
   "cell_type": "markdown",
   "metadata": {
    "slideshow": {
     "slide_type": "subslide"
    }
   },
   "source": [
    "so that the ratio of high-to-low frequency gain is \n",
    "\n",
    "$$\\frac{D_{\\mathrm{lead}}(j\\infty)}{D_{\\mathrm{lead}}(j0)}=\\frac{p_0}{z_0}>0$$"
   ]
  },
  {
   "cell_type": "markdown",
   "metadata": {
    "slideshow": {
     "slide_type": "fragment"
    }
   },
   "source": [
    "The lead compensator is still a high-pass filter but the pole at $s=p_0$\n",
    "limits the high frequency gain. Typically, the ratio of $p_0$ to $z_0$ is kept\n",
    "to below 10."
   ]
  },
  {
   "cell_type": "markdown",
   "metadata": {
    "slideshow": {
     "slide_type": "slide"
    }
   },
   "source": [
    "## Properties of the Cascade Lead Compensator\n",
    "\n",
    "As  $|p_0| > |z_0|$, the angle contributed by the compensator to some arbitrary\n",
    "point $s_1$ at on the _s_-plane is illustrated in Figure 1."
   ]
  },
  {
   "cell_type": "markdown",
   "metadata": {
    "slideshow": {
     "slide_type": "subslide"
    }
   },
   "source": [
    "![Figure 1](images/fig1.png)\n",
    "\n",
    "**Figure 1 Angle contribution of a lead compensator**"
   ]
  },
  {
   "cell_type": "markdown",
   "metadata": {
    "slideshow": {
     "slide_type": "subslide"
    }
   },
   "source": [
    "The net contribution is\n",
    "\n",
    "$$\\phi_c = \\theta_z - \\theta_p > 0$$\n",
    "\n",
    "so that the lead compensator always makes a positive contribution to the\n",
    "angle criterion. "
   ]
  },
  {
   "cell_type": "markdown",
   "metadata": {
    "slideshow": {
     "slide_type": "fragment"
    }
   },
   "source": [
    "This has the effect of allowing the closed-loop poles to move\n",
    "to the left in the s-plane. "
   ]
  },
  {
   "cell_type": "markdown",
   "metadata": {
    "slideshow": {
     "slide_type": "subslide"
    }
   },
   "source": [
    "The problem is then how to choose the relative location of the pole and the zero. \n",
    "\n",
    "We reproduce the advice of D'Azzo and Houpis (1975)."
   ]
  },
  {
   "cell_type": "markdown",
   "metadata": {
    "slideshow": {
     "slide_type": "slide"
    }
   },
   "source": [
    "## Method 1\n",
    "\n",
    "Use the zero to cancel a low frequency real pole. This can simplify the root locus and reduce the complexity of the problem. The compensator pole is then placed such that $s_1$ becomes a point on the desired root-locus. "
   ]
  },
  {
   "cell_type": "markdown",
   "metadata": {
    "slideshow": {
     "slide_type": "subslide"
    }
   },
   "source": [
    "For a Type 1 system, the real pole (excluding the pole at zero) that is closest to the origin should be cancelled. "
   ]
  },
  {
   "cell_type": "markdown",
   "metadata": {
    "slideshow": {
     "slide_type": "fragment"
    }
   },
   "source": [
    "For a Type 0 system, the second closest pole to the origin should be cancelled."
   ]
  },
  {
   "cell_type": "markdown",
   "metadata": {
    "slideshow": {
     "slide_type": "subslide"
    }
   },
   "source": [
    "### Example 1\n",
    "\n",
    "The following Matlab code illustrates these principles for the system with\n",
    "\n",
    "Type 1 open-loop transfer function\n",
    "\n",
    "$$G_1(s) = \\frac{1}{s(s + 1)}$$"
   ]
  },
  {
   "cell_type": "markdown",
   "metadata": {
    "slideshow": {
     "slide_type": "subslide"
    }
   },
   "source": [
    "Define the plant"
   ]
  },
  {
   "cell_type": "code",
   "execution_count": null,
   "metadata": {
    "slideshow": {
     "slide_type": "fragment"
    }
   },
   "outputs": [],
   "source": [
    "G1 = tf(1,conv([1, 0],[1, 1])); H=1;"
   ]
  },
  {
   "cell_type": "markdown",
   "metadata": {
    "slideshow": {
     "slide_type": "subslide"
    }
   },
   "source": [
    "Plot root-locus"
   ]
  },
  {
   "cell_type": "code",
   "execution_count": null,
   "metadata": {
    "slideshow": {
     "slide_type": "subslide"
    }
   },
   "outputs": [],
   "source": [
    "rlocus(G1*H)"
   ]
  },
  {
   "cell_type": "markdown",
   "metadata": {
    "slideshow": {
     "slide_type": "subslide"
    }
   },
   "source": [
    "Clearly, we cannot achieve a closed-loop pole at $s_1 = -2 + j2$ without some dynamic compensation. \n",
    "\n",
    "However, if we use the zero of a cascade lead compensator to cancel the pole at $s = -1$ and place the pole at $s = -4$ we get:"
   ]
  },
  {
   "cell_type": "code",
   "execution_count": null,
   "metadata": {
    "slideshow": {
     "slide_type": "fragment"
    }
   },
   "outputs": [],
   "source": [
    "D1 = zpk([-1],[-4],1);\n",
    "Go1 = D1*G1*H;"
   ]
  },
  {
   "cell_type": "code",
   "execution_count": null,
   "metadata": {
    "slideshow": {
     "slide_type": "subslide"
    }
   },
   "outputs": [],
   "source": [
    "rlocus(Go1)"
   ]
  },
  {
   "cell_type": "markdown",
   "metadata": {
    "slideshow": {
     "slide_type": "subslide"
    }
   },
   "source": [
    "which will have a closed-loop pole at the desired location when the gain is"
   ]
  },
  {
   "cell_type": "code",
   "execution_count": null,
   "metadata": {
    "slideshow": {
     "slide_type": "fragment"
    }
   },
   "outputs": [],
   "source": [
    "Kc = rlocfind(Go1,-2+2j)"
   ]
  },
  {
   "cell_type": "markdown",
   "metadata": {
    "slideshow": {
     "slide_type": "subslide"
    }
   },
   "source": [
    "### Example 2\n",
    "\n",
    "For a Type 0 system\n",
    "\n",
    "$$G_2(s) = \\frac{1}{(s + 1)(s + 2)}$$\n",
    "\n",
    "the zero should be used to cancel the pole at $s=-2$. We leave it as an\n",
    "exercise to prove that the compensator\n",
    "\n",
    "$$D_2(s)=5\\left(\\frac{s+2}{s+3}\\right)$$\n",
    "\n",
    "gives the desired closed-loop poles."
   ]
  },
  {
   "cell_type": "markdown",
   "metadata": {
    "slideshow": {
     "slide_type": "notes"
    }
   },
   "source": [
    "*Note*\n",
    "\n",
    "You should be aware that the lead compensator zero will still appear in the closed-loop transfer function, and you should verify that the closed-loop step response is acceptible."
   ]
  },
  {
   "cell_type": "markdown",
   "metadata": {
    "slideshow": {
     "slide_type": "slide"
    }
   },
   "source": [
    "## Method 2\n",
    "\n",
    "The following graphical method maximizes the ratio between pole and zero for\n",
    "any given angle contribution. This minimizes the additional compensator gain\n",
    "needed to satisfy the gain criterion. "
   ]
  },
  {
   "cell_type": "markdown",
   "metadata": {
    "slideshow": {
     "slide_type": "subslide"
    }
   },
   "source": [
    "\n",
    "\n",
    "\n",
    "\n",
    "\n",
    "\n",
    "![Figure 2 Graphical construction for locating the pole and zero of a lead compensator](images/fig2.png)\n",
    "*Figure 2 Graphical construction for locating the pole and zero of a lead compensator.*"
   ]
  },
  {
   "cell_type": "markdown",
   "metadata": {
    "slideshow": {
     "slide_type": "subslide"
    }
   },
   "source": [
    "The steps in the location of the lead-compensator pole and zero are as follows (refer to Figure 2).\n",
    "\n",
    "* Locate the desired closed-loop pole $s_1$. Draw a line from the origin to\n",
    "$s_1$ and a horizontal line through $s_1$ to the left."
   ]
  },
  {
   "cell_type": "markdown",
   "metadata": {
    "slideshow": {
     "slide_type": "fragment"
    }
   },
   "source": [
    "* Bisect the angle between the two lines drawn in step 1."
   ]
  },
  {
   "cell_type": "markdown",
   "metadata": {
    "slideshow": {
     "slide_type": "subslide"
    }
   },
   "source": [
    "* Measure the angle $\\phi_c$ either side of the line drawn in step 2."
   ]
  },
  {
   "cell_type": "markdown",
   "metadata": {
    "slideshow": {
     "slide_type": "fragment"
    }
   },
   "source": [
    "* The intersections of these lines with the real axis locate the compensator\n",
    "pole $p_0$ and zero $z_0$."
   ]
  },
  {
   "cell_type": "markdown",
   "metadata": {
    "slideshow": {
     "slide_type": "subslide"
    }
   },
   "source": [
    "### Example 3\n",
    "\n",
    "We return to the satellite attitude control problem with\n",
    "\n",
    "$$G(s) = \\frac{1}{s^2}$$"
   ]
  },
  {
   "cell_type": "markdown",
   "metadata": {
    "slideshow": {
     "slide_type": "subslide"
    }
   },
   "source": [
    "Requiring a closed-loop pole $S_1 = -2 + j2$, the geometry of the problem is illustrated in Figure 3.\n",
    "\n",
    "![Figure 3 Lead compensator design for the satellite attitude control problem](images/fig3.png)\n",
    "*Figure 3 Lead compensator design for the satellite attitude control problem.*"
   ]
  },
  {
   "cell_type": "markdown",
   "metadata": {
    "slideshow": {
     "slide_type": "notes"
    }
   },
   "source": [
    "Note that the line drawn from the origin to the point s1 subtends an angle\n",
    "of $135^\\circ$ to the positive real axis."
   ]
  },
  {
   "cell_type": "markdown",
   "metadata": {
    "slideshow": {
     "slide_type": "subslide"
    }
   },
   "source": [
    "We can use MATLAB to help to work through the trigonometry. The angle contribution\n",
    "of the plant and feedback at $s_1$ is obtained as follows."
   ]
  },
  {
   "cell_type": "code",
   "execution_count": 4,
   "metadata": {
    "slideshow": {
     "slide_type": "fragment"
    }
   },
   "outputs": [],
   "source": [
    "G = tf(1,[1,0,0]);\n",
    "H = 1;\n",
    "GH = G*H;\n",
    "s1 = -2+2j;"
   ]
  },
  {
   "cell_type": "markdown",
   "metadata": {
    "slideshow": {
     "slide_type": "subslide"
    }
   },
   "source": [
    "The total contribution of the plant poles and zeros can be calculated\n",
    "directly using the Matlab equivalent of the angle criterion"
   ]
  },
  {
   "cell_type": "code",
   "execution_count": 5,
   "metadata": {
    "slideshow": {
     "slide_type": "fragment"
    }
   },
   "outputs": [],
   "source": [
    "[zeros,poles,gain]=zpkdata(GH,'v');"
   ]
  },
  {
   "cell_type": "markdown",
   "metadata": {
    "slideshow": {
     "slide_type": "fragment"
    }
   },
   "source": [
    "contribution in degrees"
   ]
  },
  {
   "cell_type": "code",
   "execution_count": 6,
   "metadata": {
    "slideshow": {
     "slide_type": "fragment"
    }
   },
   "outputs": [
    {
     "name": "stdout",
     "output_type": "stream",
     "text": [
      "contrib =\n",
      "  -270\n"
     ]
    }
   ],
   "source": [
    "contrib = (180/pi)*(sum(angle(s1 - zeros)) - sum(angle(s1 - poles)))"
   ]
  },
  {
   "cell_type": "markdown",
   "metadata": {
    "slideshow": {
     "slide_type": "subslide"
    }
   },
   "source": [
    "The root locus angle criterion gives lead contribution\n",
    "\n",
    "$$\\begin{array}{c}\\angle G({s_1})H({s_1}) + {\\phi _c} =  - {180^ \\circ\n",
    "}\\\\{\\phi _c} =  - {180^ \\circ } - \\angle G({s_1})H({s_1})\\end{array}$$"
   ]
  },
  {
   "cell_type": "code",
   "execution_count": 7,
   "metadata": {
    "slideshow": {
     "slide_type": "fragment"
    }
   },
   "outputs": [
    {
     "name": "stdout",
     "output_type": "stream",
     "text": [
      "phi_c =\n",
      "    90\n"
     ]
    }
   ],
   "source": [
    "phi_c = -180 - contrib"
   ]
  },
  {
   "cell_type": "code",
   "execution_count": 8,
   "metadata": {
    "slideshow": {
     "slide_type": "fragment"
    }
   },
   "outputs": [
    {
     "name": "stdout",
     "output_type": "stream",
     "text": [
      "half_phi_c =\n",
      "    45\n"
     ]
    }
   ],
   "source": [
    "half_phi_c = phi_c/2"
   ]
  },
  {
   "cell_type": "markdown",
   "metadata": {
    "slideshow": {
     "slide_type": "subslide"
    }
   },
   "source": [
    "Because the line BA and OD are parallel, the angle subtended by the line OAB is also $135^\\circ$. Thus"
   ]
  },
  {
   "cell_type": "code",
   "execution_count": 9,
   "metadata": {
    "slideshow": {
     "slide_type": "fragment"
    }
   },
   "outputs": [],
   "source": [
    "angle_OAB = 135;\n",
    "angle_BAD = angle_OAB/2 - half_phi_c;\n",
    "angle_BEO = angle_OAB/2 + half_phi_c;"
   ]
  },
  {
   "cell_type": "markdown",
   "metadata": {
    "slideshow": {
     "slide_type": "subslide"
    }
   },
   "source": [
    "and by parallel line theory"
   ]
  },
  {
   "cell_type": "code",
   "execution_count": 10,
   "metadata": {
    "slideshow": {
     "slide_type": "fragment"
    }
   },
   "outputs": [
    {
     "name": "stdout",
     "output_type": "stream",
     "text": [
      "theta_p =\n",
      "   22.5000\n"
     ]
    }
   ],
   "source": [
    "theta_p = angle_BAD"
   ]
  },
  {
   "cell_type": "code",
   "execution_count": 11,
   "metadata": {
    "slideshow": {
     "slide_type": "fragment"
    }
   },
   "outputs": [
    {
     "name": "stdout",
     "output_type": "stream",
     "text": [
      "theta_z =\n",
      "  112.5000\n"
     ]
    }
   ],
   "source": [
    "theta_z = angle_BEO"
   ]
  },
  {
   "cell_type": "markdown",
   "metadata": {
    "slideshow": {
     "slide_type": "subslide"
    }
   },
   "source": [
    "The pole and zero locations are given by"
   ]
  },
  {
   "cell_type": "code",
   "execution_count": 12,
   "metadata": {
    "slideshow": {
     "slide_type": "fragment"
    }
   },
   "outputs": [
    {
     "name": "stdout",
     "output_type": "stream",
     "text": [
      "p0 =\n",
      "   -6.8284\n"
     ]
    }
   ],
   "source": [
    "p0 = -2-2/tan(theta_p*pi/180)"
   ]
  },
  {
   "cell_type": "code",
   "execution_count": 13,
   "metadata": {
    "slideshow": {
     "slide_type": "fragment"
    }
   },
   "outputs": [
    {
     "name": "stdout",
     "output_type": "stream",
     "text": [
      "z0 =\n",
      "   -1.1716\n"
     ]
    }
   ],
   "source": [
    "z0 = -2-2/tan(theta_z*pi/180)"
   ]
  },
  {
   "cell_type": "markdown",
   "metadata": {
    "slideshow": {
     "slide_type": "subslide"
    }
   },
   "source": [
    "The compensator gain is obtained using the gain criterion. With MATLAB,\n",
    "this can be calculated directly from the gain formula:\n",
    "\n",
    "$${K_0} = \\left( \\frac{\\left| s_1 - p_0 \\right|}{\\left| s - z_0\n",
    "\\right|} \\right)\\left( \\frac{\\prod\\limits_{i = 1}^{n - 1} \\left| s_1\n",
    "- p_i \\right| }{\\prod\\limits_{j = 1}^{n - 1} \\left| s_1 - z_j \\right|}\n",
    " \\right)$$"
   ]
  },
  {
   "cell_type": "code",
   "execution_count": 14,
   "metadata": {
    "slideshow": {
     "slide_type": "fragment"
    }
   },
   "outputs": [
    {
     "name": "stdout",
     "output_type": "stream",
     "text": [
      "Ko =\n",
      "   19.3137\n"
     ]
    }
   ],
   "source": [
    "Ko = (abs(s1-p0)*prod(abs(s1-poles)))/(abs(s1-z0)*prod(abs(s1-zeros)))"
   ]
  },
  {
   "cell_type": "markdown",
   "metadata": {
    "slideshow": {
     "slide_type": "subslide"
    }
   },
   "source": [
    "Let us also check this result using the root locus."
   ]
  },
  {
   "cell_type": "code",
   "execution_count": 15,
   "metadata": {
    "slideshow": {
     "slide_type": "subslide"
    }
   },
   "outputs": [
    {
     "data": {
      "image/svg+xml": [
       "<?xml version=\"1.0\"?>\n",
       "<!DOCTYPE svg PUBLIC '-//W3C//DTD SVG 1.0//EN'\n",
       "          'http://www.w3.org/TR/2001/REC-SVG-20010904/DTD/svg10.dtd'>\n",
       "<svg xmlns:xlink=\"http://www.w3.org/1999/xlink\" style=\"fill-opacity:1; color-rendering:auto; color-interpolation:auto; text-rendering:auto; stroke:black; stroke-linecap:square; stroke-miterlimit:10; shape-rendering:auto; stroke-opacity:1; fill:black; stroke-dasharray:none; font-weight:normal; stroke-width:1; font-family:'Dialog'; font-style:normal; stroke-linejoin:miter; font-size:12px; stroke-dashoffset:0; image-rendering:auto;\" width=\"560\" height=\"420\" xmlns=\"http://www.w3.org/2000/svg\"\n",
       "><!--Generated by the Batik Graphics2D SVG Generator--><defs id=\"genericDefs\"\n",
       "  /><g\n",
       "  ><defs id=\"defs1\"\n",
       "    ><clipPath clipPathUnits=\"userSpaceOnUse\" id=\"clipPath1\"\n",
       "      ><path d=\"M0 0 L560 0 L560 420 L0 420 L0 0 Z\"\n",
       "      /></clipPath\n",
       "      ><clipPath clipPathUnits=\"userSpaceOnUse\" id=\"clipPath2\"\n",
       "      ><path d=\"M0 0 L1119.9999 0 L1119.9999 839.9999 L0 839.9999 L0 0 Z\"\n",
       "      /></clipPath\n",
       "    ></defs\n",
       "    ><g style=\"fill:white; stroke:white;\"\n",
       "    ><rect x=\"0\" y=\"0\" width=\"560\" style=\"clip-path:url(#clipPath1); stroke:none;\" height=\"420\"\n",
       "    /></g\n",
       "    ><g transform=\"scale(0.5,0.5)\"\n",
       "    ><image x=\"0\" y=\"0\" width=\"1120\" xlink:href=\"data:image/png;base64,iVBORw0KGgoAAAANSUhEUgAABGAAAANICAIAAAAHNA4rAABfhUlEQVR42uzdCXzU\n",
       "9Z3w8SRcoiwedRVEaWxXVIpa12Nl7bMbsViPWo+VVotHWo8QVBQFrBYlghQQrfDS\n",
       "ioBu0CqK9cBiwUVpAIECFYIHCBEcDlEq4TSAEBKeH/5lGpIQggZIZt7vJy9fmf8M\n",
       "hOe3fJnfp/+Z/6RsAwAA4CsplgAAAEAgAQAACCQAAACBBAAAIJAAAAAEEgAAgEAC\n",
       "AAAQSAAAAAIJAABAIAEAAAgkAAAAgQQAACCQAAAABBIAAIBAAgAAEEgAAAACCQAA\n",
       "QCABAAAIJAAAAIEEAAAgkAAAAAQSAACAQAIAABBIAAAAAgkAAEAgAQAACCQAAACB\n",
       "BAAAIJAAAAAEEgAAgEACAAAQSAAAAAIJAABAIAEAAAgkAAAAgQQAACCQAAAAEEgA\n",
       "AAACCQAAQCABAAAIJAAAAIEEAAAgkAAAAAQSAACAQAIAABBIAAAAAgkAAEAgAQAA\n",
       "CCQAAACBBAAAIJAAAAAEEgAAgEACAAAQSAAAAAIJAABAIAEAAAgkAAAAgQQAACCQ\n",
       "AAAABBIAAIBAAgAAEEgAAAACCQAAQCABAAAIJAAAAIEEAAAgkAAAAAQSAMkuOzu7\n",
       "8S60aNHi/PPPf/XVV/feTy8tLd2wQ/X/nJ999pn/wwEgkACoeddff33K7txxxx17\n",
       "6acvX748/lPy8vKq+ef89NNP/R8OAIEEwF4PpIZfqV+/frlGmjhx4t4OpP/7v/8T\n",
       "SAAIJABqSyDFw2Pr1q1Tp079yU9+Er/rzjvvFEgACCQAkjGQIlOmTInfdemll8aP\n",
       "L168+Pbbbz/nnHOaNWt20kkndezY8YUXXqj0N6/6kVlZWZdcckn8R2RkZFx77bWj\n",
       "Ro369oFU/T/hokWLunbtGn70kUceeeKJJ4Y/z5gxY+L3ht/k2q+UjbeJEydGB3/1\n",
       "q1/FD06aNCkzM7NNmzZHHHHEMcccc9ZZZz3wwAP/+Mc//AUDEEgAJEggzZw5M35X\n",
       "r169ooNPPfVUkyZNKr5P6aKLLlq1alXZX77bR6ampla897bbbvuWgVT9P+EzzzxT\n",
       "6SMvvvji4uLi8ICDDz44OvLII4/Ef9Xw4cOjg/Xq1Yv/xLS0tIq/T3p6eiwW83cM\n",
       "QCABUOcDacmSJb/4xS/id02YMCEcfOedd0IVREcOOOCAs846q0WLFvHHXHfddfFf\n",
       "Xp1HXnDBBeecc0784Omnn37++ec/8cQT3yaQqv8nnDNnTvyRjRo1OvPMM8vG0m9+\n",
       "85tqBlJpaemhhx4aHQk/buDAgTfddNNBBx1U8ScCIJAAqEuBlJ6e/m9f+e53v1v2\n",
       "TMjPfvazrVu3hgeHAIiOtGzZMn5u5Lbbbos/8m9/+1t0sJqPrPH3IFX/T9iuXbvo\n",
       "SLNmzRYuXBiObNq06Uc/+lF8KaoZSHPnzo3/5vHXB/br1+9fvnLiiSf6OwYgkACo\n",
       "k4FUqVNOOWXdunXhkRs3boy/kGzIkCHx3yF0RfwUSgiDPXpkzQZS9X9uOBJ/ZNn4\n",
       "mTlz5nXXXRe9xSj8/7o6gRT+MPE/WKNGjcIvf+aZZ6LiAkAgAVCHA+moo476/lcO\n",
       "O+ywso2UkZERHjlr1qz4kQ8++KDsb9K+ffvo+NVXX71Hj6zZQKr+z33vvffijwzf\n",
       "7+qHVvM9SL/85S8rfQNSnz59dvsBuAAIJABqaSDFw6OkpGTq1KmtW7eO3xVuvv32\n",
       "2/GbCxYsKPub/OxnP4u/GC/crP4jazaQqv9z33rrrfgjFy1atNtA+v3vfx8/+Ic/\n",
       "/KFcIBUXF//v//7vj370o4qfH3XuueeWlpb6awYgkACow4EUefLJJ+N3hUJYsWJF\n",
       "/Oa4cePKPvLEE0+Mjt91113hZvUfWbOBVP2fu2zZsvgjx44dG3/YwoULr98h/G7x\n",
       "F+ZlZ2fHH3PvvfeWC6S4devWvfbaa7fccsshhxwS//3nzp3rrxmAQAKgzgfS6tWr\n",
       "43d17949HDniiCPiF8KOnxgpezbmueeeiw5W85FlAyk3N7eaf85JkyZ9WMGSJUv2\n",
       "6E/4ne98Jzry05/+NP7IEELRwcMPP7ykpOS4446Lbp566qnRA7788ss2bdqUDaSh\n",
       "Q4c2+crpp58e/9OWPZeVl5fnrxmAQAKgzgdScOCBB0Z33XjjjeHmo48+WvZjhZ54\n",
       "4onf/va38atjn3DCCZs3b45+YTUfuWrVqvjDmjVrVsUnuu72YhL/9V//tUd/wt//\n",
       "/vdlL9MXfuEll1wSf43cTTfdFB7zk5/8JP6Y0EWdOnUK4RQ/UvEqdl27do3FYh9/\n",
       "/PF1110XHQm/YVFRkb9mAAIJgEQIpPjZknPPPXfbV+9N+vGPf1xpn4QImTJlSvwX\n",
       "Vv+Rxx577J5+UGwVgVT9n7t169ayn8JU1vHHHx9duO/FF1+seG/8Chbxl9h16NBh\n",
       "V3+qW2+91d8xAIEEQJ3RqVOn+G7+888/L3fvtddeG7+A9Zo1a6ICeeSRR8qeSGnQ\n",
       "oMFPf/rTxYsXl/u11XzkjBkzTj311N0GUtk/Z6XatWu3Rz83aqSBAwfGX2sXnfDJ\n",
       "ysr67LPPogeUlpb2798//PLo3rS0tIsuumjs2LEVL9LQs2fPZs2alf3zhJu9evVy\n",
       "hQYAgQRAUvj000//+te/vv/++1u2bPn2j9y4cWN42IoVK0Js7Ps/4bJlyyZMmPDB\n",
       "Bx9s2rSp4r1FRUVTp07Ny8tbu3ZtFb9J+JMXFBRM/MqCBQuij9YFQCABAAAIJAAA\n",
       "AIEEAAAgkAAAAAQSAACAQAIAABBIAAAAAgkAAEAgAQAACCQAAACBBAAAIJDYX1as\n",
       "WDFx4sSioqJyxwsLC5dXsH79eisGAAACKWENGzbspptu+uijj8od79Wr100VjB49\n",
       "2ooBAIBASkCbNm3685//HJVPuUDasmVLp06devToMWpn77//vnUDAACBlFBC59x/\n",
       "//0333xz/NRQuUBasmRJODhixAhrBQAAAinxA+m+HbKzsysG0rRp08LBt956y1oB\n",
       "AIBASiKPPfZYxUB68cUXw8HZs2dPnjz5pZdeCqX08ccfWysAABBIyRhIjzzySDjY\n",
       "uXPnsldoePLJJ4uLi60YAAAIpOQKpDvvvDMcHDBgwPTp0xcsWDB69OgolnZ7Fbub\n",
       "ANidVq2mZWTkWgegbrFtFkjJG0glJSXjx49/8803y54vmjlzZnROKdxbdSBZ0m/G\n",
       "0lk9S5c8q5eZuS0319Jh9Syd1RNI1J0zSJXq0aNHeOSnn35qePy7Y/UsHd9m9XJy\n",
       "tn9ZOqyepbN6Aom6EUilpaWbNm2q+HajPn36hEfOmzfP8Ph3x+pZOgSSv3hWz9JZ\n",
       "PQRSsgTSrFmzwpGhQ4eWfdiWLVtuvfXWcLywsNDw+HfH6lk6BJK/eFbP0lk9BFKy\n",
       "BFJIoHAkOzu7oKAgOlJaWvrCCy+Egzm7e0o3PP7dsXqWzuoJJH/xrJ6ls3oIpIQK\n",
       "pOD5558PBzt16jRkyJBRo0b17ds3ukLDwoULDY9/d6yepUMg+Ytn9Syd1UMgJayQ\n",
       "QBUDaevWrWPHjr399tujqzqGUhowYMCyZcsMj393rJ6lQyD5i2f1LJ3VQyBheABq\n",
       "jEAC7PEEEoYHAIEE2OMJJAwPAAIJsMcTSBgeAAQSYI+HQDI8AFQlN3dbZqZlALsU\n",
       "qyeQMDwACCSwS7F6AgnDA4BAAuzxBBKGBwCBBNjjCSQMDwACCbDHQyAZHosAIJAA\n",
       "ezwEEoYHQCAB9ngIJAwPgEAC7PEQSBgeAIEEdilWD4GE4QH45vLytmVkWAawS7F6\n",
       "AgnDA4BAAuzxBBKGBwCBBNjjCSQMDwACCbDHE0gYHgAEEmCPh0AyPBYBQCAB9ngI\n",
       "JAwPgEAC7PEQSBgeAIEEdilWD4GE4QEQSGCXYvUQSBgegG8uFtuWnm4ZAHs8gYTh\n",
       "AUAgAfZ4AgnDA4BAAuzxBBKGBwCBBNjjCSQMDwACCbDHQyAZHosAIJAAezwEEoYH\n",
       "QCCBXYrVQyBheAAEEtilWD0EEoYHQCAB9ngIJAwPgEAC7PEQSBgegBp5svRsCdjj\n",
       "CSQMDwACCbDHE0gYHgAEEmCPJ5AwPAAIJMAeTyBheAAQSGCXYvUQSIbH8AAIJLBL\n",
       "sXoIJAwPgEAC7PEQSBgegD2Vnr7905AA7PEEEoYHAIEE2OMJJAwPAAIJsMcTSBge\n",
       "AAQSYI8nkDA8AAgkwB5PIGF4AKhSRsa2vDzLAHYpVk8gYXgAEEhgl2L1BBKGBwCB\n",
       "BNjjCSQMDwACCbDHE0gYHgAEEmCPJ5AsgeEBQCAB9ngIJAwPgEAC7PEQSBgegD2R\n",
       "mbktN9cyAPZ4AgnDA4BAArsUqyeQMDwACCSwS7F6AgnDA4BAAuzxBBKGBwCBBNjj\n",
       "CSRLYHgAqFpOzvYvAHs8gYThAUAgAfZ4AgnDA4BAAuzxBBKGBwCBBNjjCSQMDwAC\n",
       "CexSrJ5AwvAAIJDALsXqIZAwPAACCbDHQyBheAD2QG7u9o9CArDHE0gYHgAEEmCP\n",
       "J5AwPAAIJMAeTyBheAAQSIA9nkDC8AAgkAB7PIGE4QGgSnl52zIyLAPYpVg9gYTh\n",
       "AUAggV2K1RNIGB4ABBJgjyeQMDwACCTAHk8gYXgAEEiAPZ5AsgSGBwCBBNjjIZAw\n",
       "PADVEottS0+3DIA9nkDC8ADwFYEE2OMJJAwPAAIJ7FKsnkDC8AAgkMAuxeoJJAwP\n",
       "AAIJsMcTSBgeAKp8vvSECdjjCSQMDwACCbDHE0gYHgAEEmCPJ5AwPABUJj19+6ch\n",
       "AdjjCSQMDwACCbDHE0gYHgAEEtilWD2BhOEBoJyMjG15eZYB7FKsnkDC8AAgkAB7\n",
       "PIGE4QFAIAH2eAIJwwOAQALs8QQShgcAgQTY4wkkDA8AVcvM3JabaxkAezyBhOEB\n",
       "QCAB9ngCidppxYoVEydOLCoqqnjXhg0bFixYMGXKlHnz5q1fv97wAAgksMW3egik\n",
       "BDds2LDwN/6jjz4qd3zq1KldunS5aYfOnTuPGzfO8ADUlJyc7V+ALb7VE0jUFps2\n",
       "bfrzn/8c9U+5QCooKMjKygrHQz5NmjTpj3/8Y3RzxowZhgdAIAECCYGUUN5///37\n",
       "77//5ptvjp8gKhdIgwcPDgdHjhwZP/LGG2+EI7169TI8AAIJEEgIpEQLpPt2yM7O\n",
       "LhdIxcXFnTt3DgdXrVoVP7hly5YoqAoLCw0PgEACBBICKTE99thj5QJpxYoV4Uj3\n",
       "7t3LPbJ///7h+Lx58wwPwLeXm7v9Og0AAkkgUdsDqaCgIBzp27dvuUcOGTIkHJ8+\n",
       "fbrhARBIgEBCICVLIM2fPz8c6d+/f7lHPvXUU+H4lClTqh6eSllnAIEE1IkQsp0T\n",
       "SAKpfCB9+OGHlQZSdEHw3QaSJQWojry8bRkZlgH26dbfIlg9gcQ3CaTwfTjSu3fv\n",
       "Sh9Z9ZW+DQ+AQAJbfKuHQEqoQFq5cmU4csstt5SWlpZ95L333huOL1iwwPAACCRA\n",
       "ICGQkiWQSkpKunTpEg4uXrw4fnDdunWdOnXKysoK3xgeAIEECCQEUrIEUjB06NBw\n",
       "8KGHHoqfRIqu0NCvXz/DA1AjYrFt6emWARBIAom6EEgrVqyIPha2e/fuw4cPv+ee\n",
       "e8L3WVlZVb++zvAACCRAICGQ6rbo043KBVKwcOHCnJyc+IUd77777jlz5hgeAIEE\n",
       "CCQEEoYHQCAB9ngIJAwPgEACuxSrZ/UEEoYHYK8/ZXrOBLsUqyeQMDwACCTAHk8g\n",
       "YXgA2El6+vYX2gHY4wkkDA8AAgmwxxNIGB4AdsjI2JaXZxkAezyBhOEBQCAB9ngC\n",
       "CcMDgEAC7PEEEoYHgPIyM7fl5loGsEuxegIJwwOAQAK7FKsnkDA8AMTl5Gz/ArDH\n",
       "E0gYHgAEEmCPJ5AwPAAIJMAeTyBheAAoJzd3+9uQAOzxBBKGB4Dt1/jOyLAMgD2e\n",
       "QMLwACCQAHs8gYThAUAggV2K1RNIGB4AyovFtqWnWwawS7F6AgnDA4BAAuzxBBKG\n",
       "BwCBBNjjCSQMDwCVPWt62gTs8QQShgcAgQTY4wkkDA8AO0lP3/5COwB7PIGE4QFA\n",
       "IAH2eAIJwwPADhkZ2z8NCbBLsXoCCcMDgEACuxSrJ5AwPAAIJMAeTyBheAAoJzNz\n",
       "W26uZQDs8QQShgcAgQTY4wkkDA8AcTk5278A7PEEEoYHAIEE2OMJJAwPAAIJsMcT\n",
       "SBgeACrKzLQGYJdi9QQShgeAr2RkWAOwS7F6AgnDA4BAAuzxBBKGB4Cy0tOtAWCP\n",
       "J5AwPAAIJMAeTyBheADY6YnTMydgjyeQMDwARNLTt8VilgGwxxNIGB4AvrpIQ16e\n",
       "ZQDs8QQShgcAgQR2KVZPIGF4AIjLzNyWm2sZwC7F6gkkDA8A27bl5Gz/ArDHE0gY\n",
       "HgAEEmCPJ5AwPADskJe3/W1IAPZ4AgnDA4BAAuzxBBKGB4AdYrHtH4UEYI8nkDA8\n",
       "AAgkwB5PIGF4ACj73OnJE+xSrJ5AwvAAEElP334eCbBLsXoCCcMDwPaLNOTlWQbA\n",
       "Hk8gYXgAEEiAPZ5AwvAAIJAAezyBhOEBoLycnO1fAPZ4AgnDA4BAAuzxBBKGB4Ad\n",
       "cnO3ZWZaBsAeTyBheADYtv0NSBkZlgHsUqyeQMLwACCQwC7F6gkkDA8AcbHY9s+K\n",
       "BbDHE0gYHgAEEmCPJ5AwPACUffr0/AnY4wkkDA8AEZ8VC9jjCSQMDwACCbDHE0gY\n",
       "HgB25rNiAXs8gYThAeBrPisW7FKsnkDC8ADwNR+FBHYpVk8gYXgA+JorfQP2eAIJ\n",
       "wwNAmWdQT6GAPZ5AwvAAEHEhO8AeTyBheAAQSIA9nkDC8ACwM1f6BuzxBBKGB4Cv\n",
       "udI3YI8nkDA8AHzNlb7BLsXqCSQMDwBfc6VvsEuxegIJwwNAmSdRz6KAPZ5AwvAA\n",
       "EHEhO8AeTyBheAAQSIA9nkDC8ACwM1f6BuzxBBKGB4CvuZAdYI8nkNiN0tLS/Pz8\n",
       "Bx988NJLLz3rrLOOPfbY5s2bn3TSSe3atbvtttteffXVVatWGR4AgQRgjyeQEtza\n",
       "tWsffvjh9PT0lCo1aNDgyiuvnDp1quEBqOtc6RvsUqyeQKISmzdvHjBgQNOmTaME\n",
       "OvTQQ0899dTLL7/8jjvuePTRR3Nzc3NycjIzM//7v/+7ZcuWaWlp0cPOP//8xYsX\n",
       "Gx6Auv086okU7FKsnkCirGXLlh133HEheJo3b96tW7f8/PyqH//555+HajrzzDPD\n",
       "LznooIPGjRtneADqLheyAwSSQGInM2fOPOKIIwYNGvTll1/u0S984403fvjDHz74\n",
       "4IOGB6DuyszclptrGQCBJJDYYcOGDUVFRd/s15aWln7xxReGB6DucqVvQCAJJAwP\n",
       "AF9zITvAHk8gYXgA+CcXsgPs8QRSkho/fny/ati/r5ozPAD7PpBiMcsA2OMJpORz\n",
       "++23p1TD8uXLDQ9A8nAhO7BLsXoCKUlt3br16aefrl+/fqig5557bsoubN682fAA\n",
       "JA9vQwK7FKsnkJJadnZ2CKR58+YZHgCCWMzbkAB7PIGUxF5++WWBBEBZXmUH2OMJ\n",
       "pOS1ePHifv36FRYW1qo/VfjzLK9g/fr1hgdgH/BpSIBAEkjULr169bqpgtGjRxse\n",
       "gH3A25AAgSSQ+NqSJUvmz5+/f/8MW7Zs6dSpU48ePUbt7P333zc8APuAtyEBAkkg\n",
       "8bWLL774iCOO2O+RFsZgxIgRhgdgf/E2JEAgCSRqSyBNmzYtjMFbb71leAD2F29D\n",
       "Alt8qyeQqC2B9OKLL4YxmD179uTJk1966aVQSh9//LHhAdiXvA0JbPGtnkCitgTS\n",
       "I488Esagc+fOZa/Q8OSTTxYXFxsegH3D25AAgSSQqC2BdOedd4YxGDBgwPTp0xcs\n",
       "WDB69OgolqpzFbtK+T8rwDfgbUjAvg8h2zmBVOusWrVq2bJl+/EPUFJSMn78+Dff\n",
       "fLPs+aKZM2dG55TCvf7XBYB9w9uQgNoTThZBIFFejx49wmx8+umnhgdg3/A2JEAg\n",
       "CSR26YsvvigtLQ3fhP+OGjWqa9eujz766KJFi2r8B4Xff9OmTRXfbtSnT58wG/Pm\n",
       "zTM8APuGtyEBAkkgUYn8/Py2bdumpaWtX78+3LzxxhtTdmjSpMm0adNq9sfNmjUr\n",
       "zMDQoUPLHtyyZcutt94ajhcWFhoegH3G25AAgSSQ2Mny5cubNm0a5VAIpDlz5kTf\n",
       "t2jR4thjjw3ftGnTpmZ/YkigMAPZ2dkFBQXRkdLS0hdeeCEczNnda+END0DN8jYk\n",
       "sMW3egKJnfTt2zdUUGih6dOnh5s9e/YMN0855ZTNmzcXFRW1bNky3Jw7d27N/tDn\n",
       "n38+jEGnTp2GDBkyatSo8GeIrtCwcOFCwwOwL3kbEtjiWz2BxE46dOgQEmjkyJHR\n",
       "zbPPPjvcHD58ePwva7g5ZsyYmv2hW7duHTt27O233x5d1TGU0oABA6pzbT3DA1Cz\n",
       "vA0JEEgCiZ1kZGSEBHrvvffC9xs3bmzUqFG4uXjx4ujerl27hpvPPfec4QFI3CcC\n",
       "b0MC7PEEEjtcdtllIYHGjRsXvn/11VfD9y1btozf2759+3BkwoQJhgcgUXkbEmCP\n",
       "J5D4p/vvvz8kUNu2bV988cVWrVqF77Ozs6O7XnvttbS0tPr1669YscLwACQqr7ID\n",
       "7PEEEv/0ySefHHTQQfHrejds2DB6ud21114bHbnqqqsMD0CCP7l6dgXs8QQScZMm\n",
       "TTrppJNSU1PbtGnz7LPPRgcvuOCCUEcXX3xxUVGR4QFIbLm5rmUH2OMJJHa2YcOG\n",
       "sjenT59encvKGR6ABBCLuVQD2KVYPYGE4QFgh1BH3okEdilWTyAlqUsuuaTNnvjk\n",
       "k08MD0DCcxIJsMcTSEmqdevWKXsiFosZHoCE5yQSYI8nkJLUxIkTx5TRrl27UEEH\n",
       "Hnhgdnb2yJEjx40bN2zYsHPOOSeqoyeeeGLjxo2GByAZZGRsv2ADgD2eQEpef//7\n",
       "31NTUw877LD58+eXu2vQoEEhkFq3bl1aWmp4AJKBz0QC7PEEUrK7+eabQwU98sgj\n",
       "ld572mmnhXsXLVpkeACShJNIgD2eQEpq0evr3n777UrvveGGG8K9L7/8suEBSBJO\n",
       "IgH2eAIpqXXo0CEkUPzzYcvJyMgI906YMMHwACSPzMztX4BditUTSMnowQcfDAl0\n",
       "xhlnFBUVlbtr7Nix9erVS01NXbduneEBSB7RSaRacwVTsMW3egikfWjBggUHHXRQ\n",
       "aKRTTjllxIgRCxcu/Pzzz2fNmnXnnXc2btw4HL/ssssMD0CycRIJsMcTSMlr5MiR\n",
       "qamplX4C0gknnFB7Th8ZHoB9xkkkwB5PICW12bNnX3zxxY0aNYqn0dFHHz1gwIAN\n",
       "GzYYHoDklJvrJBJgjyeQkltJScmSJUvefffd9evXGx6AJBedRMrLsxKAPZ5ASkql\n",
       "paWrVq1aWZkQToYHIAk5iQTY4wmkZDR+/PizzjqrYcOGKbsQqzUvQjc8APuSk0iA\n",
       "PZ5ASjrz5s2LrlZXBYEEkLRyc7dlZFgGsEuxegIpaXTr1i0k0DHHHPPkk0+uXLmy\n",
       "qDKlpaWGByA5xWLbA8lJJLBLsXoCKVlceOGFIZAeeughwwNApZxEAuzxBFISueKK\n",
       "K0Igvf3224YHgF1xEgmwxxNIyWLw4MEhkAYNGmR4ANiVUEfp6ZYBsMcTSElg2bJl\n",
       "LVu2POSQQ2bPnm14ANiVjIxtOTmWAbDHE0iJbsaMGXfeeWdKSkpaWlr79u27dOly\n",
       "VwWrV682PABoJMAeTyAlvl69eqXsjst8A7BtxxXtNBJgjyeQEtmYMWM67U5hYaHh\n",
       "AUAjgV2K1RNIGB4ANBLYpVg9gZSstm7dumbNGsMDgEYC7PEEUvJau3Ztjx49Tjzx\n",
       "xIYNG6akpBx66KH/+Z//OWrUKMMDgEYC7PEEUnKZNWvW4YcfXunlGdq3b19cXGx4\n",
       "ANBIgD2eQEoKX3zxxXHHHRdaqEmTJj179hw7duzMmTNHjRp12WWXRY109913Gx4A\n",
       "NBJgjyeQksLw4cNDBR1++OGLFy8ud9eQIUPCXQ0aNNi8ebPhAUAjAfZ4Ainxde7c\n",
       "OVTQ448/Xum9//Ef/xHunT17tuEBQCMB9ngCKfG1a9cuJNC0adMqvTcrKyvc+8IL\n",
       "LxgeAKpupPR0jYQtPlZPINV9N9xwQ0igESNGVHrvOeecE+6dPn264QFAI4FditUT\n",
       "SInv8ccfDwmUnp5e8eOPRo8eHe6qV6/exo0bDQ8A1RECKWRSXp6VAOzxBFLd9Pnn\n",
       "nzdv3jyE0NFHHz1s2LAPPvjgs88++9vf/nbbbbc1aNAgHL/xxhsNDwDVFz+VFL4B\n",
       "sMcTSHXPW2+91ahRo0o/B+nkk0/esGGD4QFgTxspOpXkFXeAPZ5AqpM+/vjjK6+8\n",
       "skmTJvE0OvroowcOHFh7LvBteADqYiZlZGzPJKeSAHs8gVRXLV++fO7cuevXrzc8\n",
       "ANQIp5IAezyBVCfl5+d/9tln0fcrV66cMmXK1q1bDQ8A3178FXcu3gDY4wmkOmDZ\n",
       "smVnnHFGSkrKE088ER0ZO3ZsuHn44YePHDnS8ABQI0IdZWRsy8yUSdjiY/UEUi32\n",
       "5ZdfpqenR+87Gj58eHRw0qRJqamp5Q4aHgC+vdzcr9+YFL4BW3ysnkCqdYYNGxad\n",
       "LHr66adLSkrixz/88MMrr7wyuqv2XMjO8AAkhlhs+6kk700C7PEEUq1z3XXXhQrq\n",
       "2bNnxbs2bdoUXdfu73//u+EBYG9kUvwSDq50BwIJgVQrtGvXLiTQxIkTK723Q4cO\n",
       "4d5Ro0YZHgD2niiTvO4OBBICaf+75pprQgLl7uIZ6cILLwz3/vWvfzU8AOxt8dfd\n",
       "uZADCCQE0n4zePDgkECnnnpqxc8+mjlzZuPGjcO9hYWFhgeAfSZ+IYdQSs4pgUBC\n",
       "IO1TS5cuPfTQQ0MFnXTSSbm5uR999NGqVavef//93r17R8fPP/98wwPA/iql6JxS\n",
       "+IouER6OhC/nl0AgIZD2or/85S/16tVLqcyRRx4Z//RYwwPA/hKLbY+iqJfCV4il\n",
       "lJSdqincq5qwS7F6AokaU1BQcNVVV0XXrIscdthhd9xxx+rVqw0PALW/mkIpRa/K\n",
       "K1dNLo6HXYrVE0h8Q1u2bBkzZkyvXr0yMzMLCwtnzZpV8V1JhgeAWp5M5aopSqbo\n",
       "7UyqCQSSQKK6+vXrd8QRR8RPH4Uj5557buPGjXv37m14AEiAaorevKSaQCAJJHbv\n",
       "jjvuiLroqKOOigfS5ZdfHn3fp08fwwNAclYTYI8nkJLO5MmTQwXVq1dv+PDh4Waz\n",
       "Zs2iQNq8efMDDzwQvm/atOm6desMDwBJWE3RpSBUE9jjCaQk0rt371BB3bt3j27G\n",
       "AynSqlWrcHPKlCmGBwDVVPECejk5qgns8QRSYjn//PNDAk2ePLnSQLr++uvDzeef\n",
       "f97wAEDZaoouBRECqdLLjqsmsMcTSHXVNddcExLoL3/5S6WBFOWTM0gAUP1q2tWH\n",
       "NakmW3ysnkCqAwYPHhwSKIRQxUDKz89v1KhRampq7bnet+EBIMGqyUfc2uJj9QRS\n",
       "7VJYWNiiRYsQRRdddNG0adMOO+yw8P2yZcuefPLJ5s2bh+9/+ctfGh4A2EvVFH3E\n",
       "bcVqctlxBBICab+ZOHFikyZNUipzwgkn1KqPizU8ACRJNcUvOx6vJhBICKR9Z/ny\n",
       "5VdfffWhhx4aT6Pvfve7Dz/88Jdffml4AGB/JVPFV+iFZIpffLzslfScd0IgCST2\n",
       "ik8//XTWrFmFhYWGBwDqRDtFV9LbVT6VvT6EfEIgCST2wBdffFFaWhq+Cf8dNWpU\n",
       "165dH3300UWLFhkeAKi7+VT12Sf5hD2eQKIS+fn5bdu2TUtLi95udOONN8ZfaNek\n",
       "SZNp06YZHgCQT2CPJ5CSwvLly5s2bRrlUAikOXPmRN+3aNHi2GOPDd+0adPG8ACA\n",
       "fCqXT65Rbpdi9QRSYurbt2+ooNBC06dPDzd79uwZbp5yyimbN28uKipq2bJluDl3\n",
       "7lzDAwBEqr5GedJ+Hq5ditUTSAmiQ4cOIYFGjhwZ3Tz77LPDzeHDh8f/soabY8aM\n",
       "MTwAwK7s6vNww1f8pXpep4c9nkCqGzIyMkICvffee+H7jRs3NmrUKNxcvHhxdG/X\n",
       "rl3Dzeeee87wAAB7Wk3hK/5SvUo/3MmL9LDHE0i1zmWXXRYSaNy4ceH7V199NXzf\n",
       "smXL+L3t27cPRyZMmGB4AICaqqZyL9KLn2tyokkgIZD2v/vvvz8kUNu2bV988cVW\n",
       "rVqF77Ozs6O7XnvttbS0tPr1669YscLwAAB7tZrKnWgqe5YJgYRA2nc++eSTgw46\n",
       "KH5d74YNG0Yvt7v22mujI1dddZXhAQD2cTKVPcsUvaOp7NuZEEgIpL1o0qRJJ510\n",
       "Umpqaps2bZ599tno4AUXXBDq6OKLLy4qKjI8AMB+T6aKb2eKegmBJJD4VkpKSjZt\n",
       "2lTx+IYNG8renD59+rJly8o9prS0tNzDDA8AsL9EvRQ/v7R/Ty7ZpVg9gVRX/f3v\n",
       "f2/RosVTTz21devWPfqFb7755umnn/7ggw8aHgCgVin3Fqbo/Uv7OJbsUqyeQKqr\n",
       "Fi9e3Lx585SUlFatWv3ud7+LX9F7V1atWjVkyJC2bduGX3LggQfu389EMjwAwG5j\n",
       "KXr/Utk3L3nbkkASSFRlzZo1N954Y2pqamie8N9jjz22Xbt2119/fZ8+fZ599tnn\n",
       "n3++X79+WVlZ55133nHHHVe/fv3oag1XXnnl0qVLDQ8AULd6KYql2vAyPOzxBFKt\n",
       "Nnfu3Ozs7LKXsKvUAQcccMMNN3zwwQeGBwCo66UUfxle+AaBJJCoxPr1619//fVu\n",
       "3br913/91/HHH3/ooYcefPDBxx133I9+9KObb7559OjR69atMzwAQELGkkvh2eMJ\n",
       "JAwPAIBSsscTSBgeAIBqlFJOzvab2OMJJAwPAKCUtgdSdK3wPTqhZJdijyeQMDwA\n",
       "QMLKy/vnCSW7FHs8gYThAQD45wmlamYS9ngCCcMDACQ+mWSPJ5AwPAAA/xQ/m+Sj\n",
       "Zu3xBFJS+OKLL0pLS8M34b+jRo3q2rXro48+umjRIsMDAFA2k5xKsscTSAkuPz+/\n",
       "bdu2aWlp69evDzdvvPHGlB2aNGkybdo0wwMAUFZ0KsnVwO3xBFICWr58edOmTaMc\n",
       "CoE0Z86c6PsWLVoce+yx4Zs2bdrspR+9YcOGBQsWTJkyZd68eVGbGR4AoA7xcjuB\n",
       "JJASUN++fUMFhRaaPn16uNmzZ89w85RTTtm8eXNRUVHLli3Dzblz59b4z506dWqX\n",
       "Ll1u2qFz587jxo0zPADwLcVWbcp54+P0B6ZmPj8vb+EaC7K3ZWTYpQgkgZRYOnTo\n",
       "EBJo5MiR0c2zzz473Bw+fHj8L2u4OWbMmJr9oQUFBVlZWeE3HzZs2KRJk/74xz9G\n",
       "N2fMmFEjwxOeFcLTQ6V3eaoAIIGFZ8DwFQIpfJ8789OMP8wON8M3VmYvrXbYb0Rv\n",
       "SSq3S7HfEEgCqQ7LyMgICfTee++F7zdu3NioUaNwc/HixdG9Xbt2DTefe+65mv2h\n",
       "gwcPDmMQr7LgjTfeCEd69epVI8MT/rWqtJHCv1bhuP+jA5B4QgVlPj+v4nNfOBKO\n",
       "W5+9Ib7fyM3953kk+w2BJJDqvMsuuywkUPTytldffTV837Jly/i97du3D0cmTJhQ\n",
       "gz+xuLi4c+fOYQxWrVoVP7hly5abb745HCwsLKyR4anYSNG/Vv4XHQASUsYfZu/q\n",
       "OS4cD/daor3aSPFAst8QSAKpzrv//vtDArVt2/bFF19s1apV+D47Ozu667XXXktL\n",
       "S6tfv/6KFStq8CeG3y3MQPfu3csd79+/fzg+b968mhqeso3kXysAEthuE6iKfKIG\n",
       "G8l+QyAJpETwySefHHTQQfHrejds2DB6ud21114bHbnqqqtq9icWFBSEGejbt2+5\n",
       "40OGDAnHo2tF1NTwRP9m5c781L9WACSwzOfnVf1Go+gFeBZqrzZSevo2+w2BJJAS\n",
       "xKRJk0466aTU1NQ2bdo8++yz0cELLrgg1NHFF19cVFRUsz9u/vz5YQb69+9f7vhT\n",
       "Tz0Vjk+ZMqWKyanCrh6//QkjJcWXL1++fPlKrq8dz4Nld/Blnx939bzp+Dc7HvYb\n",
       "KTkpZTPV+lR6fI/2cgik/WzDhg1lb06fPn3ZsmV74wd9+OGHlQbSsGHDqg6kb/C/\n",
       "LkRnuqPL+PhfdABIVM4g7V/RfiMEkv3GNyaQBFJS++ijj8IM9O7du9zxxx57bLdX\n",
       "+t6j4Sn7OuDtrwz2bxYACarsCaJKVfEBGNRIHYX/turRyn5DIAmkuuq+++7r2LHj\n",
       "wIEDw/cvv/xyx935/PPPa/Cnr1y5MszALbfcUlpaWvb4vffeG44vWLCgRoan4rsk\n",
       "/ZsFQAJzFbv9W0cZIzKiXYr9hkASSHVS69atU1JSLrzwwvB9r169UnYnFovV4E8v\n",
       "KSnp0qVLGIP4py0F69at69SpU1ZWVvjm2w/Prq4hE/2b5S8AAAkp8/l5lT737fYF\n",
       "eHzLOsrNzw2BZL8hkARSHfbEE0888MADL7zwQvh+8uTJD+zO2rVra/YPMHTo0DAG\n",
       "Dz30UPwkUnSFhn79+tXI8FRxDRkvMAAgUUXvuQ1PgjlvfBye78J/t19azSeW7jXR\n",
       "fiMvlpeSk2K/IZAEUhJ55513qj6r8w2sWLEi+ljY7t27Dx8+/J577gnfZ2VlVf36\n",
       "OsMDALsVT6MokyzIXt+b5tidCiSBlFgGDx78+OOPV3pXSUlJv379GjRoULMvsYss\n",
       "XLgwJycnfmHHu+++e86cOYYHAKhbdZQXy7MOAkkgJZToPUg///nPy50m+uSTT845\n",
       "55y98R4kwwMA1HU5eTnpg9LVkT2eQEpAzz77bFpaWqigf/u3f5s1a1Z08JVXXjns\n",
       "sMOiOsrMzPzyyy8NDwBAEFsTC2lU9qoM2OMJpESTl5d39NFHhxZq1KjR73//+xtv\n",
       "vDFKo+bNm7/++uuGBwAgSqMqThzZpdjjCaSEsnr16iuuuKLspb07duwYDhoeAIBt\n",
       "O15TF/5rl2KPJ5CSxdSpUxs3bhzV0Xe+853qXDLB8AAAiS1+1qiKNMIeTyAlms2b\n",
       "N//mN7+J3on0r//6r82aNQvfNGjQoE+fPsXFxYYHAJBG2OMJpGQxd+7ck08+OTpx\n",
       "9OMf//izzz4rLCy87LLLoiOnnXbaBx98YHgAgGTrImlkjyeQklR0me/69ev/7ne/\n",
       "KykpiR8fNmzYgQceGF25IVST4QEAEr6LMkdnRl0UbloTezyBlLyB1LJly6lTp1a8\n",
       "a/78+aeddprPQQIAEruLMkZkRF2Um59rTezxBFKymzZtWhVXq9uyZcs999xTWFho\n",
       "eACARO0in/dqjyeQqK758+f36NHjH//4h+EBAOp6FIUQ2nvvL7JLsXoCKZFt2LDh\n",
       "6aef/n//7/9Fl2rwEjsAoO52UfxkUfjv3nt/kV2K1RNIiWnWrFnZ2dkHH3xw/BNj\n",
       "U1NTly5dangAgLpSRNGZopBDKTkpXkQnkAQS38TatWv/8Ic/nHrqqSll/OAHP+jf\n",
       "v3/tqSPDAwDsKopy83PLnSkSRQJJIPFNTJo06ZprrmncuHHZNLrkkktmz55teACA\n",
       "2qzsaaLM0ZmiSCAJJL65FStWDBgwoFWrVvEoCo3085///N///d/D98OGDTM8AEDt\n",
       "UfYcUVREXjsnkBBINSYrK6tBgwZRF6Wlpf34xz/Ozc1dv359uOtXv/qVQAIA9nsO\n",
       "Re8jco5IICGQ9oXWrVuHCmrYsOGDDz746aeflr1LIAEA+6WIyp0git5HpIgEEgJp\n",
       "3wVScNRRR3Xr1u3dd98VSADAPmuhsmeHQgslxgkiuxSrJ5DqsAULFvTo0ePII4+M\n",
       "vwHp5JNPHjhw4PLlywUSAFBTIRQ/LxQ/NVTx7NBe+lQiuxSrJ5DYY8XFxa+++upF\n",
       "F11Ur169+PuRDjjggPDN0KFDDQ8AUP0WCqkTtVDm6Myy11GIzgt5pRz2eAKpLvnk\n",
       "k08eeOCB733ve/ETSk2bNr3hhhvefvttwwMAlFPpC+TC91ELhUzSQtjjCaREUFpa\n",
       "OmHChKuuuqpRo0bxUvr+97/fu3fvjRs3Gh4ASAbR6+Lip4PiZ4TiIZSoL5DDHk8g\n",
       "sUurVq0aPHjwySefHM+kWCxmeAAgqRIo/tK46IyQEMIeTyCxbebMmeEva9OmTZcs\n",
       "WWJ4AKDuJlAIHgmEQBJI1IxNmzYZHgCo0wkUHimBEEgCCcMDAHU+hMpeEUEC2aVY\n",
       "PQQShgeAZGyhsleHiw5aIrsUq4dAwvAAkIwt5FwQ9ngIJAwPAInfQvFPUNVCYI8n\n",
       "kGqpkpISwwMANdVC0VUTogtnV2whn6AK9ngCqbbr06fPGWecMWTIkLVr1xoeAKhm\n",
       "C4WvSlsoumpCdOFsCwX2eAKp7unVq1f0abCNGzfu2LHjX//619LSUsMDAFW3UPjS\n",
       "QmCPJ5AS0OLFi3Nyck444YSUHY499tjevXsvXbrU8ACghbQQ2OMJpCQ1Z86c3/zm\n",
       "N6GOokxKS0v7yU9+MmrUqC+//NLwAJCQOVT2U1a1EHYpVk8gUbkZM2Z07dq1RYsW\n",
       "USl95zvf6dKly7vvvmt4AKi7LVT2UnKhhaIcKvspq1YJuxSrJ5DYpdWrVw8ZMqRp\n",
       "06YpZZx77rn7PZMMDwDfrIXKXkrOKoFAEkhUy6ZNm/70pz9deumlDRs2jKLoiCOO\n",
       "6NatW1ZW1r/8y79EF3J47733DA8AtbCFKv24VasEAkkgscdKSkomTJjw61//+uCD\n",
       "D466KDU19dxzzx01atTmzZujx6xdu/a8884Ld918882GB4Ba2EI+bhUEkkCiBrzy\n",
       "yivxtxsFRx555F133bVw4cKKjxw9enR4wBVXXGF4ANg3oqvJRddO0EIgkBBI+0L0\n",
       "OUipqant27f/05/+tGXLll09cty4ceedd97jjz9ueADY210UnSaKriZnQUAgIZD2\n",
       "nV/84hennXba8OHDDQ8A+1dsTSwUUdRF3j4EAgmBtH/cdtttKSkpHTt2NDwA7C9R\n",
       "F0VpZDWwxbd6CKT96ZVXXgmB1LJly6KiIsMDwL5U9pSRtxVhi2/1EEi1woYNGy66\n",
       "6KLQSFddddW6desMDwD7Jo2iqy84ZQTY4wmk2uW999575plnvv/974dGOuSQQ375\n",
       "y1/edddd/Xe2du1awwNAjciL5UUXYHD1BcAeTyDVRtFV7KoWi8UMDwDfPo2iq3W7\n",
       "AANgjyeQaq8//elPv9idzz//3PAA8I3FX1AnjQB7PIGE4QFIajl5OSnh/3mvEWCP\n",
       "J5ASwODBg9u1a7dkyRLDA8Ceiq2JZYzICF+uUAfY4wmkuqSwsHDEiBFdu3a9dWfh\n",
       "b2rz5s1TUlJeeuklwwPAHolfv9tSYIuP1RNIdcmqVatOPPHEqi/SUFBQYHgAqKbY\n",
       "mlhIo8zRmZYCW3ysnkCqewYNGhQSqH79+h06dGjdunX4/swzz7zjjjuiD0cKx995\n",
       "5x3DA0A1RSeOXIwBsMcTSHXV5ZdfHkJowIAB4fulS5empaWFI9Fdubm54a4bbrjB\n",
       "8ACwW9GJI6+pA+zxBFLdlpGRESooPz8/unnccccdf/zx8XtPO+20cK8PigVgt3WU\n",
       "kpPis18BezyBVOdFL6UbM2ZMdPPSSy9t2LBhcXFx/C9ruHfSpEmGB4Cq68jL6gB7\n",
       "PIGUCLKzs0MCdevWLbrZs2fPcHPixInRzV//+tfh5siRIw0PAOoIsMcTSIkvLy8v\n",
       "JFC9evVuu+22pUuXvvHGG+HmD3/4w9mzZ4dMOvjgg8PNyZMnGx4A1BFgjyeQksLV\n",
       "V18dXc779ddf37p16/e+972y1/g+6qijNm/ebHgAUEdgl2L1BFJSKC0tfeaZZ665\n",
       "5pqpU6eGm++++268kZo1a1Z73oBkeADUEdjiWz0E0v7x8ccff/TRR6GdDA8A6giw\n",
       "xxNISSe00KpVq1ZWpqSkxPAAoI4AezyBlBTGjx9/1llnNWzYMGUXYrGY4QFAHQH2\n",
       "eAIp8c2bN69x48YpVRJIAKgjwB5PICWFbt26hQQ65phjnnzyyZUrVxZVpva8E8nw\n",
       "AOzP52B1BNjjCaSEd+GFF4ZAeuihhwwPAFXIGJGhjgB7PIGU+K644ooQSG+//bbh\n",
       "AWBXcvNzQyBZB7BLsXoCKfENHjw4BNKgQYMMDwC74vQR2KVYPYGULJYtW9ayZctD\n",
       "Djlk9uzZhgeAipw+AuzxBFISmTFjxp133pmSkpKWlta+ffsuXbrcVcHq1asND0DS\n",
       "Sh+U7vQRYI8nkJJFr169UnbHZb4BkpbTR4A9nkBKLmPGjOm0O4WFhYYHIDk5fQTY\n",
       "4wkkDA8A2+Xk5WSOzrQOgD2eQMLwALD9k2Fja2LWAbDHE0gJ7r777uvYsePAgQPD\n",
       "9y+//HLH3fn8888ND0CycfoI7FKsnkBKFq1bt05JSbnwwgu3uUgDALt6xnX6COxS\n",
       "rJ5AShJPPPHEAw888MILL4TvJ0+e/MDurF271vAAJJXM0ZlOHwH2eAIJwwPAttia\n",
       "WEqOJ1zAHk8gYXgA+Or0UU5ejnUA7PEEUjKaPHny76r04IMPvvLKKwsXLjQ8AMkg\n",
       "L5bn9BFgjyeQkld1LtIQufTSS5cuXWp4ABJbxoiM3Pxc6wDY4wmkJDV+/Pif/vSn\n",
       "UQI1b978ggsu+NnPfnbCCSdER9LT06+77rozzjgjutm2bdvS0lLDA5Co8mJ56YPS\n",
       "rQNgjyeQkteiRYuOPPLIevXqDR8+vLi4OH585syZrVq1Sk1Nfeyxx8LNqVOnHnLI\n",
       "IaGRomvfGR6AhOT0EdilWD2BlOz69u0bsue+++6reNeyZcsaNGgQ8im6+fTTT4dH\n",
       "3nXXXYYHICE5fQR2KVZPILHtwgsvDNkzadKkSu89/fTTw70FBQXh+8WLF4fvL7/8\n",
       "csMDkJAyRmSERrIOgD2eQEpqHTt2DNkzatSoSu/9wQ9+EO798MMPBRJAYsvNzw2B\n",
       "ZB0AezyBlOz+8Ic/hOw5++yzv/zyy3J3jR8/PjU1tWnTptGFGR5++OHwyK5duxoe\n",
       "gMTj9BFgjyeQ2G7RokVNmjQJ5XPmmWe+/PLLS5YsWbly5TvvvNOjR48DDjggHM/M\n",
       "zAwPGzhwYOPGjcPNt99+2/AAJBinjwCBJJD4p7Fjx9avX7/Szz5q06ZNUVFReEx6\n",
       "enq4+fOf/9zwACQe12YA7PEEEjvJz8/v2LFjw4YN42nUrFmz3/3udxs2bIgecP31\n",
       "1z/22GNbtmwxPAAJJi+W5/QRYI8nkKhESUnJ0qVL58yZs2bNGsMDkCRy83MzR2da\n",
       "B7BLsXoCid0bPHhwu3btlixZYngAElWoIx8OC3YpVk8g8U+FhYUjRozo2rXrrTsL\n",
       "f1ObN2+ekpLy0ksvGR6AhH1mzfHcCtjjCSR2WLVq1YknnphSpeiDYvdGmC2vYP36\n",
       "9YYHYJ/x+jpAIAkkdjJo0KCQQPXr1+/QoUPr1q2j633fcccdF110UXT8nXfe2Us/\n",
       "ulevXjdVMHr0aMMDsM/k5OWEL+sACCSBxNcuv/zyEEIDBgwI3y9dujQtLS0cie7K\n",
       "zc0Nd91www174+du2bKlU6dOPXr0GLWz999/3/AA7DM+HxYQSAKJnZ8aMzJCBeXn\n",
       "50c3jzvuuOOPPz5+72mnnRbuXbt2bY3/3CVLloRJGDFihOEB2J9Pq96ABAgkgURZ\n",
       "0UvpxowZE9289NJLGzZsWFxcHP/LGu6dNGlSjf/cadOmhd/8rbfeMjwA+4s3IAEC\n",
       "SSBRXnZ2dkigbt26RTd79uwZbk6cODG6+etf/zrcHDlyZI3/3BdffDFMwuzZsydP\n",
       "nvzSSy+FUvr4448ND8C+5ALfYItv9QQS5eXl5YUEqlev3m233bZ06dI33ngj3Pzh\n",
       "D38Y0iVk0sEHHxxuhoap8Z/7yCOPhEno3Llz2Ss0PPnkk/GTV4YHYG9LH5QeWxOz\n",
       "DmCLb/UEEju5+uqro8t5v/7661u3bv3e975X9hrfRx111ObNm2v8h955551hEgYM\n",
       "GDB9+vQFCxaMHj06iqXdXsWuUv6PCPBNnlO9AQnY5yFkOyeQ6oDS0tJnnnnmmmuu\n",
       "mTp1arj57rvvxhupWbNm3+YNSBs3bnx2Z6+88ko4XlJSMn78+DfffLPs+aKZM2dG\n",
       "55TCvf7XBYC9zRuQgFoVThZBINV2H3/88UcffRTa6dv8JqtXry73vw306NGjiseH\n",
       "e8NjPv30U8MDsLd5AxIgkAQSu8yYRx99NDs7+9e7sHLlym/2OxcXFxfsbOnSpdu+\n",
       "Ome1adOmim836tOnTxiPefPmGR6Avc0bkACBJJCoRGFhYXp6ekqVYrEafgadNWtW\n",
       "GIOhQ4eWPbhly5Zbb701HA9/JMMDsNefUL0BCRBIAomK7r///ugqdpdccsldd93V\n",
       "szJr1qyp8SoLY5CdnV1QUBAdKS0tfeGFF8LBnJwcwwOwt3kDEiCQBBKVu/TSS0Mg\n",
       "9evXbx//3Oeffz5MQqdOnYYMGTJq1Ki+fftGV2hYuHCh4QHY27wBCWzxrZ5AonLn\n",
       "nXfeXvqko6pt3bp17Nixt99+e3TxhlBKAwYMWLZsmeEB2Ae8AQls8a2eQKJyvXr1\n",
       "CoH029/+1vAAJNGzqTcgAfZ4AolK5efnN2rU6Jhjjpk/f77hAUgG3oAE2OMJJKoy\n",
       "atSo6Gp1Z5111q2VWbVqleEBSBjegAQIJIHELv3jH/9o1arVPr7Mt+EB2I+8AQkQ\n",
       "SAKJXRo4cGBIoNTU1HPPPffWW2+9ozLOIAEk1FOpNyABAkkgsSuXXXZZCKQHHnjA\n",
       "8AAkA29AAuzxBBJV+Z//+Z8QSH/7298MD0AyyMnLCV/WAexSrJ5AonIPP/xwCKSh\n",
       "Q4caHoBk4AoNYJdi9QQSVVm6dOlRRx11xBFHFBQUGB6AhOcKDYA9nkCiKjNmzMjK\n",
       "ykpJSWnUqNFVV111V2VWr15teAAEEoA9nkBKfL169UrZHZf5Bkic51GXsAMEkkCi\n",
       "CmPGjOm0O4WFhYYHIAHkxfIyRmRYB0AgCSQMDwCu8Q3Y4wkkDA8AO7jGN2CPJ5Co\n",
       "xOLFixfsieLiYsMDkABc4xvsUqyeQKISrVu3TtkTLtIAkBhcwg7sUqyeQEIgASCQ\n",
       "AIEkkNi1goKCWXti8+bNhgcgEZ5EXeMbEEgCCcMDwDbX+Abs8QQShgeAONf4Buzx\n",
       "BBKGB4CvucY3YI8nkDA8AHzNNb4BezyBhOEB4GsuYQd2KVZPIGF4ANjxDOoSdmCX\n",
       "YvUEEoYHAIEE2OMJJAwPAP/kGt+APZ5AwvAA8DXX+Abs8QQShgeAr7mEHWCPJ5Aw\n",
       "PAAIJMAeTyBheADYmWt8A/Z4AgnDA8COp0+XsAO7FKsnkDA8AAgksEuxegIJwwPA\n",
       "P8XWxNIHpVsHwB5PIGF4APAhSIA9nkDC8ACwgw9BAuzxBBKGBwCBBNjjCSQMDwA7\n",
       "y8nLCV/WAbDHE0gYHgB8SixgjyeQMDwACCSwS7F6AgnDA0A5GSMy8mJ51gHsUqye\n",
       "QMLwALAtfVB6bE3MOgD2eAIJwwOAQALs8QQShgeA+HNnjmdPwB5PIGF4ABBIgD2e\n",
       "QMLwABAXWxNLH5RuHQB7PIGE4QFgW14sL2NEhnUA7PEEEoYHgG25+bmZozOtA9il\n",
       "WD2BhOEBQCCBXYrVE0gYHgB2yMnLCV/WAbDHE0gYHgC2ZY7OzM3PtQ6APZ5AwvAA\n",
       "IJAAezyBhOEBYIeMERl5sTzrANjjCSQMDwDb0gelx9bErANgjyeQMDwAbEvJ8dQJ\n",
       "2OMJJAwPAAIJ7FKsnkDC8ABQVvqgdIsAdilWTyBheADYLmNEhkUA7PEEEoYHgO0y\n",
       "R2daBMAeTyBheAAQSIA9nkDC8ACwQ25+rkAC7PEEEoYHgO1y8nLCl3UA7PEEEoYH\n",
       "AIEE2OMJJAwPADtkjs7Mzc+1DmCXYvUEEoYHAIEEdilWTyBheAAQSIA9nkDC8ABQ\n",
       "TsaIjLxYnnUA7PEEEoYHgG3pg9Jja2LWAbDHE0gYHgAEEmCPJ5AwPAAIJMAeTyBh\n",
       "eAAo/6yZ43kTsMcTSBgeAAQS2KVYPYGE4QFAIIFditUTSBgeAMqLrYmlD0q3DoA9\n",
       "nkDC8AAgkAB7PIGE4QFgh7xYXsaIDOsA2OMJJAwPAAIJsMcTSBgeAHbIzc/NHJ1p\n",
       "HQB7PIGE4QFAIAH2eAIJwwOAQAK7FKsnkDA8AJSTk5cTvqwD2KVYPYGE4QFAIAH2\n",
       "eAIJwwPADpmjM3Pzc60DYI8nkDA8AAgkwB5PIGF4ABBIgD2eQMLwAFBOxoiMvFie\n",
       "dQDs8QQShgeAbemD0mNrYtYBsMcTSBgeAAQS2KVYPYGE4QFAIIFditUTSBgeAMo/\n",
       "ZeZ40gTs8QQShgcAgQTY4wkkDA8AAgmwxxNIGB4AyoutiaUPSrcOgD2eQKJ2WbFi\n",
       "xcSJE4uKiiretWHDhgULFkyZMmXevHnr1683PAACCRBICKQEN2zYsPA3/qOPPip3\n",
       "fOrUqV26dLlph86dO48bN87wAAgkQCAhkBLTpk2b/vznP0f9Uy6QCgoKsrKywvGQ\n",
       "T5MmTfrjH/8Y3ZwxY4bhAagRebG8jBEZ1gFs8a2eQGL/e//99++///6bb745foKo\n",
       "XCANHjw4HBw5cmT8yBtvvBGO9OrVy/AACCSwxbd6CKREC6T7dsjOzi4XSMXFxZ07\n",
       "dw4HV61aFT+4ZcuWKKgKCwsND4BAAgQSAikxPfbYY+UCacWKFeFI9+7dyz2yf//+\n",
       "4fi8efMMD4BAAgQSAilZAqmgoCAc6du3b7lHDhkyJByfPn264QH49nLzczNHZ1oH\n",
       "QCAJJGp7IM2fPz8c6d+/f7lHPvXUU+H4lClTqh6eSllnAIEE1IkQsp0TSAlr48aN\n",
       "z+7slVdeqU4gffjhh5UGUnRB8N0GkpUHEEhA4oWTRRBIdd7q1avLdX+PHj2qE0jh\n",
       "+3Ckd+/elT6y6it9Gx4AgQQIJARSbVRcXFyws6VLl1YnkFauXBmO3HLLLaWlpWUf\n",
       "ee+994bjCxYsMDwA315OXk74sg5gi2/1BBK1S8VAKikp6dKlSzi4ePHi+MF169Z1\n",
       "6tQpKysrfGN4AAQS2OJbPQRSsgRSMHTo0HDwoYceip9Eiq7Q0K9fP8MDIJAAgYRA\n",
       "Sq5AWrFiRfSxsN27dx8+fPg999wTvs/Kyqr69XWGB0AgAQIJgVS3RZ9uVC6QgoUL\n",
       "F+bk5MQv8HD33XfPmTPH8ADUlMzRmbn5udYBEEgCCcMDgEAC7PEEEoYHAIEE2OMJ\n",
       "JAwPAAIJsMcTSBgeACqXMSIjL5ZnHcAuxeoJJAwPAAIJ7FKsnkDC8AAgkAB7PIGE\n",
       "4QGgnPRB6bE1MesA2OMJJAwPAAIJsMcTSBgeAAQSYI8nkDA8AAgkwB5PIGF4ANjF\n",
       "82WOZ0zAHk8gYXgAEEhgl2L1BBKGBwCBBHYpVk8gYXgAEEiAPZ5AwvAAsGvpg9It\n",
       "AmCPJ5AwPAAIJMAeTyBheAAQSIA9nkDC8ABQTmxNTCAB9ngCCcMDwHZ5sbyMERnW\n",
       "AbDHE0gYHgAEEtilWD2BhOEBQCCBXYrVE0gYHgAEEmCPJ5AwPAAIJMAeTyBheACo\n",
       "Um5+buboTOsA2OMJJAwPAAIJsMcTSBgeAAQSYI8nkDA8wP9v726goqrzP46nlau1\n",
       "m6tuZVt7NHdLc7M8tbbbw7aa1a7tbg/2fDpZu+sJUFGUJLU1UURFc/GBjUJRKHcR\n",
       "QkVNCsFQ8hEVVFAeRCAEw5x4EkSBGf/fv9/TPdcZGe6Q2YLv1+l0mDt37oxf74/5\n",
       "frz3/i5AQAJAj0dAAoMHAEBAAuhSqB4BCQweAAABCaBLoXogIIHBAwAEJAD0eCAg\n",
       "gcEDAB4ITA2U/6gDAHo8AhIYPAAAAhIAejwCEhg8AAACEgB6PAISGDwAAAISAHo8\n",
       "AhIYPAAAAhIAejwCEhg8AAC3Xk94fXnmcuoA0KVQPQISGDwAAAISQJdC9QhIYPAA\n",
       "AAhIAOjxCEhg8AAACEgA6PEISGDwAAAISADo8QhIYPAAAAhIAOjxQEACgwcACEgA\n",
       "6PFAQAKDBwA8MDhqcGpRKnUAQI9HQAKDBwBAQALoUqgeAQkMHgAAAQmgS6F6BCQw\n",
       "eAAABCQA9HgEJDB4AAAEJAD0eAQkMHgAAG71XtC7qLKIOgCgxyMggcEDACAgAaDH\n",
       "IyCBwQMAICABoMcjIIHBAwAgIAGgxyMggcEDACAgAXQpVI+ABAYPAICABNClUD0Q\n",
       "kMDgAQBLX5aBfF0CoMcjIIHBAwAgIAGgxyMggcEDACAgAaDHIyCBwQMAICABoMcj\n",
       "IIHBAwAgIAGgxwMBicFDEQCAgASAHg8EJDB4AICABNClUD0QkMDgAQACEkCXQvVA\n",
       "QAKDBwBaoaiyqPeC3tQBAD0eAQkMHgAAAQkAPR4BCQweAAABCQA9HgEJDB4AAAEJ\n",
       "AD0eAQkMHgAAAQkAPR4ISAweAAABCQA9HghIYPAAAAEJoEuheiAggcEDAAQkgC6F\n",
       "6oGABAYPABCQANDjgYAEBg8AtFpqUergqMHUAQA9HgEJDB4AAAEJAD0eAQkMHgAA\n",
       "AQkAPR4BCQweAAABCQA9HgEJDB4AAAEJAD0eCEgMHgAAAQmgS6F6ICCBwQMABCSA\n",
       "LoXqgYAEBg8AEJAA0OOBgAQGDwAQkADQ44GABAYPALTa8szlrye8Th0A0OMRkMDg\n",
       "AQAQkADQ4xGQwOABABCQANDjEZDA4AEAEJAA0OMRkMDgAQAQkAC6FKoHAhKDBwBA\n",
       "QALoUqgeCEhg8AAAAQkAPR4ISGDwAAABCQA9HghIYPAAAAEJAD0eCEhg8ABAqwWm\n",
       "Bsp/1AEAPR4BCQweAAABCQA9HgEJDB4AAAEJAD0eAQkMHgAAAQmgS6F6BCQweEDp\n",
       "qB6lo3oEJHY8qkfpqB4ISG1NeXn55s2ba2trnZbbbLYyFzU1NQwefu9QPUoHAhI7\n",
       "HtWjdFQPBKR2KyIiQvb4w4cPOy2fNm3aGy4SEhIYPPzeoXqUDgQkdjyqR+moHghI\n",
       "7VB9ff26des0+TgFpIaGBm9v74CAgNjzZWVlMXj4vUP1KB0ISOx4VI/SUT0QkNoV\n",
       "yTnTp08fPXq0cWjIKSB9+eWXsjAqKorBw+8dqkfpQEBix6N6lA5Uj4DU/gPSO9/y\n",
       "8fFxDUjbt2+XhSkpKQwefu9QPUqHi1691xNeX565nNKB6lE6qkdAwv+isLAw14AU\n",
       "FxcnCzMyMtLS0uLj4yUpFRYWMnj4vUP1KB0ISOx4VI/SUT0QkC7HgBQaGioLR40a\n",
       "ZZ6hYenSpY2NjQwefu9QPUoHAhI7HtWjdFQPBKTLKyD5+/vLwpCQkJ07d+bl5SUk\n",
       "JGhYsjKLHQAAANof2mYCUpt36tSpFedbvXq1lYBkt9s3btyYnJxsPl6Unp6ux5Tk\n",
       "WWoLAAAAEJDamIqKCqfcHxAQYPEI0gXJy2XNY8eOUVsAAACAgNTGNDY25p+vpKTE\n",
       "SkByOBz19fWulxsFBQXJmocOHaK2AAAAAAGpfXINSHv37pUlH3zwgXm1hoYGX19f\n",
       "WW6z2SgaAAAAQEC6XAKSRCBZ4uPjk5+fr0scDsfKlStlYWBgIBUDAAAACEiXUUAS\n",
       "MTExstDb2zs8PDw2NjY4OFhnaCgoKKBiAAAAAAGp3ZII5BqQmpqaEhMT/fz8dHYH\n",
       "SUohISFHjx6lXAAAAAABCQAAAAAISAAAAABAQAIAAAAAAhIAAAAAEJAAAAAAgICE\n",
       "i8LhcJQ1r76+nhJZVFtbm5GRsWvXLqYNtM5ms7nudTU1NVTGU1VVVZs3by4uLqYU\n",
       "1iuWlZW1devWnJwcftF5qq6uLjc3V6snP1MQT5WXl8uAlW8NSmFlZ8vLy5Od7dCh\n",
       "Q3w7sLMRkHCJVFRUvNG8AwcOUCIr0Wju3LleXl5G3RYvXnzmzBkq06Jp06a57nUJ\n",
       "CQlUxtN/5ggNDZXSrV+/nmq0yG63yz7m7e1t7HLjx4+X9ovKWNzZkpOTR40aZVRv\n",
       "7NixKSkpVMYjERERrjfqgKtt27bJDmbsbLLjffrpp5SFnY2AhEvR3Ee4eP/992U4\n",
       "Scf/5ZdfUiL36uvr9Ya8M2fO3LBhQ0xMjDRb8lB+oDjuNTQ0SJMaEBAQe76srCyK\n",
       "4xFpT7V7ICBZkZqaKrXy9fVds2aN9Prz58/Xu8YdOXKE4rRoy5YtUi4fHx8Zqmlp\n",
       "aUuXLtV/G9q9ezfFsfiVsW7dOh2w9Kzu5efn694lbYnseB999JE+3LVrF8VhZyMg\n",
       "4QcQHx8vw2nt2rWUokVJSUlSq3nz5tntdl0i/b0smTBhgsPhoD5uSPyWQkVFRVGK\n",
       "76KsrGz06NHS7hOQLJo4caLUKicnx1gyZ84cWSK/9yiOe/Jb7s0333TqULUDmzt3\n",
       "LvVxT74apk+fLqPVOB5Cz+rewoULpUr//e9/jSWfffaZLJk2bRrFYWcjIOFS27lz\n",
       "p4ylsLAw+nsrgoKCpFzHjh0zL9y8efOmTZuMyIQL2r59u5SOk3O+i8bGRtkD/f39\n",
       "9agIAalFVVVVUqipU6eaF+ohuPDwcOrj3vHjx6VQkyZNMn872Gw2PSJHfVrsWd/5\n",
       "lo+PDz1ri7/c9EzOb775xljY0NCgTb/sdZSInY2AhEvaPcj33NixY7kU0orKykr5\n",
       "vTNlypSz545l5+TkZGdnV1dXUxkr4uLipHoZGRlpaWnx8fHSpBYWFlIWj6xatUpr\n",
       "uHv3bgKSFfKbTfa3/fv3mxdKNJLqff7559THvZKSEum3nI76ykKpXkBAAPWxLiws\n",
       "jJ7VvfLycinRxIkTnZbr8d5Dhw5RInY2AhIuneXLl9NmWVdUVCTl+ve///3xxx+b\n",
       "J2lYtmwZ82K1SOcVMF/tLZYuXdrY2EhxrMjLy5O9LjIyUn4mILVCQUHB1q1b9TSe\n",
       "oKAgZnn6Lt8aHH+jZ7248vPzpUTBwcFOy/WfM3bu3EmJ2NkISLh07b70W/7+/qdP\n",
       "n6YaVhw4cEAv75b/S7ufmJi4cuXKMWPGyMMlS5ZQH/dkT5NChYSEyFed9PoJCQka\n",
       "lpjFzopTp05NmjQpICBAJ1kmILXCvHnzjGSekZFBQTzlcDj0glUZuU6nGYOe9TvK\n",
       "zc2VEs2ZM8dpeWRkpCxn2kl2NgISLmZHteJ8q1evNq+gk9d98skn1Mpi9bQrFf/5\n",
       "z3+MNYuLizUylZWVUbfmSme32zdu3JicnGw+XpSenq7NFpdvtThstUvIzs7W1QhI\n",
       "rfiNd+TIkb1790og13mE4+LiKJr16kki0pOdxowZY+yHsFI6elYrcnJyLhiQdNJq\n",
       "AhIBiYCEi8b1lkfms8br6ur03++PHz9OrSxW7+DBg/qz0yVbixYtkoXbt2+nbi3u\n",
       "eE7kKddJL6ieU/WkrdejlPXf2rFjhyxZs2aN/NzU1ETdPNrxJCl5eXn5+vpyeqeV\n",
       "6tnt9sTERP2+kP61vLyccnm649GztkiKIyWaMWPGBUvHTN8EJAISLhr57s8/X0lJ\n",
       "ifGs3t1i1qxZFMp69XSiatfpm1asWCHLuZ+dm9I5HA5p5V37UZ0VkAtw3VdP57do\n",
       "TmpqKnVrrnT79u2Ljo52PaEuMDBQSpeXl0fd3H9fyHI912DcuHFpaWlMdurpVy09\n",
       "q0UnTpzQ45NO+9jUqVMZqgQkAhIuHb1SOSkpiVJYZ7fb/fz8pG4VFRXm5XptQ3p6\n",
       "OiVqjh4D+eCDD8wLGxoa9H4+TOHqnuxa4eebMWOG3h5EfuZ8Jze2bdumUzI4LZ88\n",
       "ebIsd21k4UQvOpI86fRLD/SsF/3rVc99LS4uNhZWV1d7e3t7eXkxWyw7GwEJl4ie\n",
       "2mS+eSKsWLZsmTb6xnlN+/bt03/34je4G3rvFB8fn/z8fF3icDhWrlypvRf18RTX\n",
       "IFlUWlrqetvE5ORkPRTM2YnuSSgaNWqUFIpfbvSsl4B8sUqV3n33XeMgkl57OXv2\n",
       "bIrDzkZAwqVQV1enTUNlZSXV8IhUbNKkSdrWx8TEhIeH63zfGzZsoDjuSbl0DkAp\n",
       "WmxsbHBwsM7QUFBQQHEISN+fjz76SPe0iIgI2fF0pgEuGrRCL3WTgBTqIjo6mvrQ\n",
       "s15c5eXlelvYiRMnLlmyZMqUKfKzfMNyfh07GwEJl4jez8fPz49StMKxY8cWLVqk\n",
       "JwOIyZMnM8GOFU1NTYmJiXqOoialkJCQo0ePUplWyMjIIJZb1NjYKDueMWD11MS9\n",
       "e/dSmRZJnmzuyrd//vOf1Mc6vZkPPWuLCgoK9PpA4+t13759lIWdjYAEtBl2u720\n",
       "tJR7TXrK4XDYbDYpHROI4RLveBUVFSUlJXojKQD/s2SQylB1mi0WICABAAAAAAEJ\n",
       "AAAAAAhIAAAAAEBAAgAAAAACEgAAAAAQkAAAAACAgAQAAH54J06ceOaZZ1JTUykF\n",
       "ABCQAAC43L355ptXXHFFdHQ0pQAAAhIAAJep9PT00NDQoUOHXnEOAQkACEgAAFy+\n",
       "fH19rzAhIAEAAQkAgMtXfX191TlRUVEEJAAgIAEAgP8XFxdHQAIAAhIAACAgAQAB\n",
       "CQBwOUlNTV2zZs3lXIGDBw/ec77q6mo3Aam0tDQ2NjY/P5+dBwABCQDQNixbtqzL\n",
       "hfTo0WPQoEFvvfVWRUXFRX9THx8feYvAwEArK69atUo/krzq+34vNzIzM6+66qrH\n",
       "Hnusne0A7733ntTnlVdesbLy/v37B57PfUCy2WzXXXfd3Xff3dTUxFgDQEACALSN\n",
       "/vgKt3r27PnVV19d3Df9xz/+IVt+++23raw8bNgw/SQ/+clPamtrv9f3ao709/fe\n",
       "e2+HDh0yMjLa2Q6wePFiqc9f/vKXi7I111Pspk+fLkvCw8MZawAISACANhOQfvrT\n",
       "n9acLz8/Pzg4uGPHjvLsyy+//EMFpJKSko7nXHfddfKSyMhIT98rNjZ29OjRn376\n",
       "6Xf5wDExMfLuw4cPb387wPcdkGRfkmR74403nj59muEGgIAEAGgzAemCzz788MPy\n",
       "7C233PJDBSQ9/vDoo49OmjRJfrj//vt/kCo98MAD8u7r1q0jIHkakMRrr70mC6Oi\n",
       "ohhuAAhIAIC2HZDmzp0rz15zzTXmhbt37x41atR999135513+vj4rFq1yulVNTU1\n",
       "CxYsGDp0aN++fW+99VZZc8qUKV9//bWnAclut/fu3Vsb7qysLD3R7uDBg8YKa9eu\n",
       "HXFObm6u+VX+/v6yMDg4WB5GRkbKz/Hx8cYKKSkpL774onx4+Wy//e1v/fz83M8i\n",
       "sH//fnnfHj16NDQ0eLSRFgslNm3apOv88pe/fOSRR2bPnu10VY/YtWvXuHHjfv/7\n",
       "38s6Tz31VFBQUGVlpfGslFr+gNnZ2Vu2bPH29h4wYMBtt932/PPPZ2Zmur6dVEyK\n",
       "f9ddd/3qV7969tln5d1dA5Kn9XENSCtWrDAv3Lhxoyy89957GW4ACEgAgLYdkMaP\n",
       "Hy/PPv7448aS+fPnX3311U7XKU2YMMFYQXp36a1dr2Xq16+fcQWRxYCkjbXEs5Mn\n",
       "T8rDu+++Wx7KRzJWkND185//XBYOGjSosbFRF4aEhMgS+ZDp6emu7/Xuu++6frau\n",
       "XbseOHCguY8xb948pyJY2UiLhXI4HFOnTu3QoYPTOr/4xS/KysqM1WbNmnXVVVc5\n",
       "rdOrVy9JTbrCH//4R1kiKatTp07mdeThjh07jO00NTWNGTPG9WNLUjIHpFbUp0Xy\n",
       "967bOXbsGCMOAAEJANBWA9L69es7d+4sz86ZM0eXbNq0SR5eeeWV0tkXFBQUFhbO\n",
       "nDlT+/LFixfrOhMnTpSHN954Y1RU1OHDh202m7yFtvhJSUkeBaQXXnhBVjMmWNPD\n",
       "WT/72c/OnDljrPP555/rhVIzZsyQh3v37tVYEhoa6vpe8kKJW/LQy8urqKiouro6\n",
       "JSWlT58+skTeq7mP8ec//1lfog+tbMRKoeLj4zU2jBgxQpKMrCZP9ejRQ5YMGzbM\n",
       "+CvQdWSJ5D0JGLGxsT179tTzHk+dOmUEJDFw4EB539LS0ujoaHlWljz11FPGn2LZ\n",
       "smW62siRI/fs2VNcXLxixQoppi7UgNS6+lhx/fXXy0Y+/PBDRhwAAhIAoA0EJD1C\n",
       "YnjooYe0wxYPP/xwXV2drqyHhpymzF64cKEsvP322/XhoEGD5OGSJUvM6/zud79r\n",
       "LrQ0R5KVJorPPvtMlxw9elSzkIQE85oSQvSQ0RdffNG3b1+nYGB+r0OHDukfSnKU\n",
       "sUJiYmL37t3vueee5j7JTTfdZE6JVjbSYqEcDkf//v3l4UsvvWReZ9GiRfpn0RPt\n",
       "+vXrp5dgyfrGOhKlfvSjH8ny2bNnGwFJok5VVZWxjnxaWSjZRh8aJys6TectfxbN\n",
       "rhqQWlcfK3Sv8PX1ZcQBICABANpGQLqgbt26paam6ppff/21LiwrK6s3kVZek8ye\n",
       "PXtkteLi4uzsbCNTnTlzRjpsnYNu/vz51gOSpCmdZNx8C50hQ4bIQqebEckKkujM\n",
       "p5+Z791kfi/JCXr4RdKCRDgrZ3xJMtEIsXLlSiNsuN+IlULJq3Sd3bt3m1/b0NAg\n",
       "gTApKUl+MNYxnymnvLy8jDpoQBo7dqx5hczMTJ0YXR/KX4pr8lHPP/+8EZBaUR+L\n",
       "9GCgvBcjDgABCQDQBgLSj3/84w0mn3zyyeLFi2+77TZ5qnPnzoWFhbLm5s2b3d8x\n",
       "afXq1bpNaaz/9a9/STfcv39/83U4HgUkPQgjH2yIibbvHTp0KCoqMq9cUlIiYUDf\n",
       "RT6n+Smn94qOju7SpYvxkfr06TNy5EgjBLqSrKVr7ty501jofiNWCpWWlqbn4Lm5\n",
       "g6psUNbp2LGjhCunpyIiIjQKGgFp4cKF5hV0Tgupnj5MSUlp7u30xEXjGiRP62NR\n",
       "QECAbO0Pf/gDIw4AAQkA0AYC0gWvQSorKzOfyiWpSZvm3s2IiYmR1T788EN9lcSY\n",
       "vn37/vWvf508ebKmHesBSdKI+4wxdepU8/rp6enGTAbjxo1zE5DOnjtFLTAw8L77\n",
       "7jNPfvC3v/3NfBqbobq6WlfYunWrebmbjVgpVEJCgjnAXFBiYqKsI9t3/WB6X6bu\n",
       "3bsbAen99993E5D0WqZOnTq5vktYWJjTLHYe1cciqb9s5MEHH2TEASAgAQDaakAS\n",
       "jz32mM4ioH2zHtAwz3btpLKyUg8ZyUvM83o//fTTHgWkkSNHygoDBgzY6EJaeZ2i\n",
       "wDgYcvLkST3YpVfsCIkWbgKSoba2VoKKdO36quaOk+hMFU5TV7vZiJVC7du3T9c3\n",
       "nw149txJbhJ15C9F0mlOTo6uU1JS4vTyoKAgWS4ZxmJAMjb11VdfOW1qwoQJzd0H\n",
       "yWJ9rHjllVdkC7IbMOIAEJAAAG04IPn5+ZkvUNHT2Mz3FDp77vqW22+/vU+fPqWl\n",
       "pcnJyZoNdGJuJUlGZ0KzGJDktfpGTqeNqaSkJO3XN2zYoEv+/ve/a2Sqqqp65pln\n",
       "5Ocbbrjh+PHjru+1fv16CVHPPfeceYM1NTV6idSCBQsu+Hl69eolz0om0YctbsRK\n",
       "oerq6q688kpZJywszLxObGysFtBms0m+0jnlnA6XnTlzRufmlj+axYAkL7n22mtl\n",
       "ycyZM502pWct6l9x6+pjhaasN954gxEHgIAEAGjDAUnvKfSb3/xGH77zzjvy8Oab\n",
       "bzYuyJFG/8knn9SjN2dNl99kZGToCrW1tXo4SOidW1sMSJGRkTqT24kTJ1yflbil\n",
       "08pJFpKHH3/8sW5c5xCXXKRTVw8bNkxPCTO/14EDB/RSnLVr1xobzMnJ0XMCU1JS\n",
       "Lvh5nn32WSONWNxIi4U6++1Rsu7duxtzMOTm5t511106c6Au0Qn6OnfubEwRIdt5\n",
       "9dVX9dQ7vT2ulYAkJk+eLEskJq1bt06XnD59WrKQeZrv1tXHCr1dldOHBAACEgCg\n",
       "jQWk8PBwebZLly7STJ89dzDhjjvu0B56wIAB0sdr6yzNuk7GLStIx689/Z/+9KfB\n",
       "gwd369ZNJ6HWAzt6UMh9QLr//vudpup24u/vr2+amZmp2zcfmtCDMMYBKPN7SWR6\n",
       "/PHH9VmJIsOHD5dPqH+E/v37622FXElbLys88sgj+tDKRlos1NlzU1lo0pN1Bg4c\n",
       "aNxdV6qdnZ2t65w8eVJvjytkg48++qjeKMm475P1gFRRUfHrX/9aX9u3b98hQ4bo\n",
       "cSE9SKUBqXX1aZHsPHo/XMlajDgABCQAQBsOSFu3btV22bivUV1dnaSRrl27Gpfv\n",
       "SydtNP1iy5YtejMi1bNnz8jISNmOXvE/cuRIWcfb29v1NkHqyJEj+sI1a9Y095mN\n",
       "C3g0hPTq1UsCiXkFnbpaOvvDhw87vZes6ePjo+ebKclyL774onFKnquSkhLJMPJH\n",
       "1pRocSMtFkqcOHFCPqpGFPXAAw84Tfwtbzp+/Hjjjq469YX5CI8GpKVLl5pfpRcd\n",
       "Of21StwaMWKE8ZHkM7/22mvz5883X4PUivq0SKfs0zn3AICABABon4qKinbt2nXB\n",
       "vtnhcBQWFu7YsaO8vNwcBiTYNDY2/i98+Pr6+vz8/G3btkmQMG7Z5Mbw4cNdrymy\n",
       "uBE3hVJ2uz03N3fPnj16c9jmHD16ND093XxxV+vI34584KysLDd/F57Wxz0JisZc\n",
       "iABAQAIAoM374osvmpvqDe5JvurWrVvnzp1tNhvVAEBAAgCgnXjiiSckI6Wnp1MK\n",
       "j8yaNct1Ij4AICABANC25eXlderUaejQoZTCOpvN1rVr1379+hmXbwEAAQkAgHZi\n",
       "27ZtcXFxxg1qYSUgScUkW1IKAAQkAAAAAAABCQAAAAAISAAAAABAQAIAAAAAAhIA\n",
       "AAAAEJAAAAAAgIAEAAAAAAQkAAAAACAgAQAAAAABCQAAAAAISAAAAABAQAIAAAAA\n",
       "AhIAAAAAEJAAAAAAgIAEAAAAAAQkAAAAACAgAQAAAAABCQAAAAAISAAAAABAQAIA\n",
       "AAAAAhIAAAAAEJAAAAAAgIAEAAAAAAQkAAAAACAgAQAAAAABCQAAAAAISAAAAABA\n",
       "QAIAAACANu//AAZhlng+wyEWAAAAAElFTkSuQmCC\" style=\"clip-path:url(#clipPath2);\" height=\"840\" preserveAspectRatio=\"none\"\n",
       "    /></g\n",
       "  ></g\n",
       "></svg\n",
       ">\n"
      ]
     },
     "metadata": {},
     "output_type": "display_data"
    }
   ],
   "source": [
    "D = zpk(z0,p0,1);\n",
    "Go=D*GH;\n",
    "rlocus(Go)"
   ]
  },
  {
   "cell_type": "code",
   "execution_count": 16,
   "metadata": {
    "slideshow": {
     "slide_type": "subslide"
    }
   },
   "outputs": [
    {
     "name": "stdout",
     "output_type": "stream",
     "text": [
      "Kc =\n",
      "   19.3137\n"
     ]
    }
   ],
   "source": [
    "Kc = rlocfind(Go,s1)"
   ]
  },
  {
   "cell_type": "markdown",
   "metadata": {
    "slideshow": {
     "slide_type": "subslide"
    }
   },
   "source": [
    "Finally, let us calculate the step response and compare it with the result\n",
    "achieved with velocity feedback\n",
    "\n",
    "$$G_1(s) = \\frac{8}{s^2 + 4s + 8}$$\n",
    "\n",
    "and proportional + derivative compensation\n",
    "\n",
    "$$G_2(s) = \\frac{4(s+2)}{s^2 + 4s + 8}$$"
   ]
  },
  {
   "cell_type": "code",
   "execution_count": 17,
   "metadata": {
    "slideshow": {
     "slide_type": "subslide"
    }
   },
   "outputs": [
    {
     "name": "stdout",
     "output_type": "stream",
     "text": [
      "\n",
      "G3 =\n",
      " \n",
      "      19.314 (s+1.172)\n",
      "  ------------------------\n",
      "  (s+2.828) (s^2 + 4s + 8)\n",
      " \n",
      "Continuous-time zero/pole/gain model.\n",
      "\n"
     ]
    }
   ],
   "source": [
    "G1 = tf(8,[1, 4, 8]);\n",
    "G2 = tf(4*[1, 2],[1, 4, 8]);\n",
    "G3 = feedback(Kc*D*G,H)"
   ]
  },
  {
   "cell_type": "code",
   "execution_count": 18,
   "metadata": {
    "slideshow": {
     "slide_type": "subslide"
    }
   },
   "outputs": [
    {
     "data": {
      "image/svg+xml": [
       "<?xml version=\"1.0\"?>\n",
       "<!DOCTYPE svg PUBLIC '-//W3C//DTD SVG 1.0//EN'\n",
       "          'http://www.w3.org/TR/2001/REC-SVG-20010904/DTD/svg10.dtd'>\n",
       "<svg xmlns:xlink=\"http://www.w3.org/1999/xlink\" style=\"fill-opacity:1; color-rendering:auto; color-interpolation:auto; text-rendering:auto; stroke:black; stroke-linecap:square; stroke-miterlimit:10; shape-rendering:auto; stroke-opacity:1; fill:black; stroke-dasharray:none; font-weight:normal; stroke-width:1; font-family:'Dialog'; font-style:normal; stroke-linejoin:miter; font-size:12px; stroke-dashoffset:0; image-rendering:auto;\" width=\"560\" height=\"420\" xmlns=\"http://www.w3.org/2000/svg\"\n",
       "><!--Generated by the Batik Graphics2D SVG Generator--><defs id=\"genericDefs\"\n",
       "  /><g\n",
       "  ><defs id=\"defs1\"\n",
       "    ><clipPath clipPathUnits=\"userSpaceOnUse\" id=\"clipPath1\"\n",
       "      ><path d=\"M0 0 L560 0 L560 420 L0 420 L0 0 Z\"\n",
       "      /></clipPath\n",
       "      ><font horiz-adv-x=\"50.0\" id=\"font1\"\n",
       "      ><font-face ascent=\"95.200005\" descent=\"21.3\" units-per-em=\"100\" style=\"font-style:normal; font-family:Helvetica Neue; font-weight:normal;\"\n",
       "        /><missing-glyph horiz-adv-x=\"50.0\" d=\"M40.9 66.6 L10.2 66.6 L10.2 4.7 L40.9 4.7 ZM46 71.2 L46 0.1 L5.1 0.1 L5.1 71.2 Z\"\n",
       "        /><glyph unicode=\"0\" horiz-adv-x=\"55.6\" d=\"M13.2 34.9 Q13.2 37.5 13.25 40.65 Q13.3 43.8 13.75 46.95 Q14.2 50.1 15.05 53.1 Q15.9 56.1 17.55 58.35 Q19.2 60.6 21.7 62 Q24.2 63.4 27.8 63.4 Q31.4 63.4 33.9 62 Q36.4 60.6 38.05 58.35 Q39.7 56.1 40.55 53.1 Q41.4 50.1 41.85 46.95 Q42.3 43.8 42.35 40.65 Q42.4 37.5 42.4 34.9 Q42.4 30.9 42.15 25.95 Q41.9 21 40.55 16.65 Q39.2 12.3 36.2 9.3 Q33.2 6.3 27.8 6.3 Q22.4 6.3 19.4 9.3 Q16.4 12.3 15.05 16.65 Q13.7 21 13.45 25.95 Q13.2 30.9 13.2 34.9 ZM4.2 34.8 Q4.2 30.9 4.4 26.7 Q4.6 22.5 5.4 18.5 Q6.2 14.5 7.7 10.95 Q9.2 7.4 11.8 4.7 Q14.4 2 18.35 0.45 Q22.3 -1.1 27.8 -1.1 Q33.4 -1.1 37.3 0.45 Q41.2 2 43.8 4.7 Q46.4 7.4 47.9 10.95 Q49.4 14.5 50.2 18.5 Q51 22.5 51.2 26.7 Q51.4 30.9 51.4 34.8 Q51.4 38.7 51.2 42.9 Q51 47.1 50.2 51.1 Q49.4 55.1 47.9 58.7 Q46.4 62.3 43.8 65 Q41.2 67.7 37.25 69.3 Q33.3 70.9 27.8 70.9 Q22.3 70.9 18.35 69.3 Q14.4 67.7 11.8 65 Q9.2 62.3 7.7 58.7 Q6.2 55.1 5.4 51.1 Q4.6 47.1 4.4 42.9 Q4.2 38.7 4.2 34.8 Z\"\n",
       "        /><glyph unicode=\"5\" horiz-adv-x=\"55.6\" d=\"M47 62.2 L47 69.7 L12 69.7 L5.4 32.9 L12.7 32.5 Q15.2 35.5 18.45 37.35 Q21.7 39.2 25.9 39.2 Q29.5 39.2 32.45 38 Q35.4 36.8 37.5 34.65 Q39.6 32.5 40.75 29.55 Q41.9 26.6 41.9 23.1 Q41.9 18.9 40.7 15.75 Q39.5 12.6 37.45 10.5 Q35.4 8.4 32.65 7.35 Q29.9 6.3 26.9 6.3 Q23.7 6.3 21.05 7.25 Q18.4 8.2 16.45 9.95 Q14.5 11.7 13.35 14.05 Q12.2 16.4 12 19.1 L3.5 19.1 Q3.6 14.3 5.4 10.5 Q7.2 6.7 10.3 4.15 Q13.4 1.6 17.45 0.25 Q21.5 -1.1 26.1 -1.1 Q32.3 -1.1 36.95 0.85 Q41.6 2.8 44.7 6.1 Q47.8 9.4 49.35 13.65 Q50.9 17.9 50.9 22.4 Q50.9 28.5 49.1 33.05 Q47.3 37.6 44.2 40.65 Q41.1 43.7 36.9 45.2 Q32.7 46.7 28 46.7 Q24.4 46.7 20.75 45.45 Q17.1 44.2 14.8 41.6 L14.6 41.8 L18.4 62.2 Z\"\n",
       "        /><glyph unicode=\".\" horiz-adv-x=\"27.8\" d=\"M8.3 11.1 L8.3 0 L19.4 0 L19.4 11.1 Z\"\n",
       "        /><glyph unicode=\"1\" horiz-adv-x=\"55.6\" d=\"M35.6 0 L35.6 70.9 L29.1 70.9 Q28.4 66.9 26.5 64.3 Q24.6 61.7 21.85 60.2 Q19.1 58.7 15.7 58.15 Q12.3 57.6 8.7 57.6 L8.7 50.8 L27.1 50.8 L27.1 0 Z\"\n",
       "        /><glyph unicode=\"2\" horiz-adv-x=\"55.6\" d=\"M4.4 45.8 L12.9 45.8 Q12.8 49 13.55 52.15 Q14.3 55.3 16 57.8 Q17.7 60.3 20.35 61.85 Q23 63.4 26.7 63.4 Q29.5 63.4 32 62.5 Q34.5 61.6 36.35 59.9 Q38.2 58.2 39.3 55.85 Q40.4 53.5 40.4 50.6 Q40.4 46.9 39.25 44.1 Q38.1 41.3 35.85 38.9 Q33.6 36.5 30.2 34.15 Q26.8 31.8 22.3 29 Q18.6 26.8 15.2 24.3 Q11.8 21.8 9.1 18.5 Q6.4 15.2 4.65 10.75 Q2.9 6.3 2.4 0 L48.7 0 L48.7 7.5 L12.3 7.5 Q12.9 10.8 14.85 13.35 Q16.8 15.9 19.55 18.1 Q22.3 20.3 25.6 22.25 Q28.9 24.2 32.2 26.2 Q35.5 28.3 38.6 30.6 Q41.7 32.9 44.1 35.75 Q46.5 38.6 47.95 42.2 Q49.4 45.8 49.4 50.5 Q49.4 55.5 47.65 59.3 Q45.9 63.1 42.9 65.65 Q39.9 68.2 35.85 69.55 Q31.8 70.9 27.2 70.9 Q21.6 70.9 17.2 69 Q12.8 67.1 9.85 63.75 Q6.9 60.4 5.5 55.8 Q4.1 51.2 4.4 45.8 Z\"\n",
       "        /><glyph unicode=\"3\" horiz-adv-x=\"55.6\" d=\"M21.8 40.5 L21.8 33.3 Q24.2 33.6 26.9 33.6 Q30.1 33.6 32.85 32.75 Q35.6 31.9 37.6 30.15 Q39.6 28.4 40.8 25.85 Q42 23.3 42 20 Q42 16.8 40.75 14.25 Q39.5 11.7 37.4 9.95 Q35.3 8.2 32.5 7.25 Q29.7 6.3 26.6 6.3 Q19.3 6.3 15.5 10.65 Q11.7 15 11.5 21.9 L3 21.9 Q2.9 16.4 4.55 12.1 Q6.2 7.8 9.3 4.85 Q12.4 1.9 16.8 0.4 Q21.2 -1.1 26.6 -1.1 Q31.6 -1.1 36.05 0.25 Q40.5 1.6 43.8 4.3 Q47.1 7 49.05 11.05 Q51 15.1 51 20.4 Q51 26.8 47.85 31.5 Q44.7 36.2 38.2 37.6 L38.2 37.8 Q42.4 39.7 45.2 43.4 Q48 47.1 48 51.9 Q48 56.8 46.35 60.4 Q44.7 64 41.8 66.3 Q38.9 68.6 34.95 69.75 Q31 70.9 26.4 70.9 Q21.1 70.9 17.05 69.2 Q13 67.5 10.3 64.5 Q7.6 61.5 6.15 57.3 Q4.7 53.1 4.5 48 L13 48 Q13 51.1 13.8 53.9 Q14.6 56.7 16.25 58.8 Q17.9 60.9 20.45 62.15 Q23 63.4 26.4 63.4 Q31.8 63.4 35.4 60.55 Q39 57.7 39 52 Q39 49.2 37.9 47 Q36.8 44.8 34.95 43.35 Q33.1 41.9 30.65 41.15 Q28.2 40.4 25.5 40.4 L23.7 40.4 Q23.2 40.4 22.7 40.4 Q22.3 40.4 21.8 40.5 Z\"\n",
       "        /><glyph unicode=\"4\" horiz-adv-x=\"55.6\" d=\"M33.9 24.1 L10.1 24.1 L33.7 58.8 L33.9 58.8 ZM41.9 24.1 L41.9 70.9 L35.1 70.9 L2.8 24.8 L2.8 16.6 L33.9 16.6 L33.9 0 L41.9 0 L41.9 16.6 L51.5 16.6 L51.5 24.1 Z\"\n",
       "        /><glyph unicode=\"6\" horiz-adv-x=\"55.6\" d=\"M41.4 52.8 L49.9 52.8 Q49.1 61.6 43.9 66.25 Q38.7 70.9 29.9 70.9 Q22.3 70.9 17.3 67.7 Q12.3 64.5 9.3 59.2 Q6.3 53.9 5.05 47.05 Q3.8 40.2 3.8 32.9 Q3.8 27.3 4.65 21.3 Q5.5 15.3 8.1 10.3 Q10.7 5.3 15.5 2.1 Q20.3 -1.1 28.2 -1.1 Q34.9 -1.1 39.45 1.15 Q44 3.4 46.75 6.85 Q49.5 10.3 50.7 14.5 Q51.9 18.7 51.9 22.6 Q51.9 27.5 50.4 31.7 Q48.9 35.9 46.15 39 Q43.4 42.1 39.35 43.85 Q35.3 45.6 30.2 45.6 Q24.4 45.6 19.95 43.4 Q15.5 41.2 12.5 36.3 L12.3 36.5 Q12.4 40.6 13.1 45.3 Q13.8 50 15.65 54.05 Q17.5 58.1 20.8 60.75 Q24.1 63.4 29.5 63.4 Q34.6 63.4 37.7 60.5 Q40.8 57.6 41.4 52.8 ZM28.6 38.1 Q32.2 38.1 34.9 36.8 Q37.6 35.5 39.4 33.35 Q41.2 31.2 42.05 28.25 Q42.9 25.3 42.9 22 Q42.9 18.9 41.95 16.05 Q41 13.2 39.2 11 Q37.4 8.8 34.75 7.55 Q32.1 6.3 28.6 6.3 Q25.1 6.3 22.35 7.55 Q19.6 8.8 17.75 10.9 Q15.9 13 14.9 15.9 Q13.9 18.8 13.9 22.1 Q13.9 25.4 14.85 28.35 Q15.8 31.3 17.7 33.45 Q19.6 35.6 22.3 36.85 Q25 38.1 28.6 38.1 Z\"\n",
       "        /><glyph unicode=\"8\" horiz-adv-x=\"55.6\" d=\"M15.5 52.5 Q15.5 55.2 16.5 57.2 Q17.5 59.2 19.15 60.6 Q20.8 62 23.1 62.7 Q25.4 63.4 27.9 63.4 Q33.1 63.4 36.45 60.65 Q39.8 57.9 39.8 52.5 Q39.8 47.1 36.5 44.1 Q33.2 41.1 28.1 41.1 Q25.5 41.1 23.2 41.8 Q20.9 42.5 19.2 43.9 Q17.5 45.3 16.5 47.45 Q15.5 49.6 15.5 52.5 ZM6.5 52.8 Q6.5 48 9.2 43.95 Q11.9 39.9 16.4 38.1 Q10.4 36 7.2 31.35 Q4 26.7 4 20.4 Q4 15 5.85 10.95 Q7.7 6.9 10.95 4.2 Q14.2 1.5 18.6 0.2 Q23 -1.1 28.1 -1.1 Q33 -1.1 37.3 0.3 Q41.6 1.7 44.75 4.45 Q47.9 7.2 49.75 11.2 Q51.6 15.2 51.6 20.4 Q51.6 27 48.5 31.55 Q45.4 36.1 39 38.1 Q43.5 40.1 46.15 44.05 Q48.8 48 48.8 52.8 Q48.8 56.2 47.6 59.45 Q46.4 62.7 43.85 65.25 Q41.3 67.8 37.2 69.35 Q33.1 70.9 27.3 70.9 Q23.2 70.9 19.45 69.7 Q15.7 68.5 12.8 66.2 Q9.9 63.9 8.2 60.55 Q6.5 57.2 6.5 52.8 ZM13 20 Q13 23.1 14.15 25.6 Q15.3 28.1 17.35 29.9 Q19.4 31.7 22.15 32.65 Q24.9 33.6 28 33.6 Q31 33.6 33.65 32.55 Q36.3 31.5 38.3 29.7 Q40.3 27.9 41.45 25.45 Q42.6 23 42.6 20.1 Q42.6 17.1 41.55 14.6 Q40.5 12.1 38.55 10.25 Q36.6 8.4 33.95 7.35 Q31.3 6.3 28.1 6.3 Q21.5 6.3 17.25 9.95 Q13 13.6 13 20 Z\"\n",
       "        /><glyph unicode=\"b\" horiz-adv-x=\"59.3\" d=\"M6.7 71.4 L6.7 0 L15.2 0 L15.2 6.9 L15.4 6.9 Q16.8 4.6 18.85 3.05 Q20.9 1.5 23.2 0.6 Q25.5 -0.3 27.85 -0.7 Q30.2 -1.1 32.1 -1.1 Q38 -1.1 42.45 1 Q46.9 3.1 49.85 6.75 Q52.8 10.4 54.25 15.3 Q55.7 20.2 55.7 25.7 Q55.7 31.2 54.2 36.1 Q52.7 41 49.75 44.75 Q46.8 48.5 42.35 50.7 Q37.9 52.9 31.9 52.9 Q26.5 52.9 22 50.95 Q17.5 49 15.4 44.7 L15.2 44.7 L15.2 71.4 ZM46.7 26.3 Q46.7 22.5 45.9 18.9 Q45.1 15.3 43.3 12.5 Q41.5 9.7 38.55 8 Q35.6 6.3 31.2 6.3 Q26.8 6.3 23.7 7.95 Q20.6 9.6 18.65 12.3 Q16.7 15 15.8 18.55 Q14.9 22.1 14.9 25.9 Q14.9 29.5 15.75 33 Q16.6 36.5 18.5 39.25 Q20.4 42 23.4 43.7 Q26.4 45.4 30.7 45.4 Q34.8 45.4 37.85 43.8 Q40.9 42.2 42.85 39.5 Q44.8 36.8 45.75 33.35 Q46.7 29.9 46.7 26.3 Z\"\n",
       "        /><glyph unicode=\"f\" horiz-adv-x=\"29.6\" d=\"M9.9 44.2 L9.9 0 L18.4 0 L18.4 44.2 L28.4 44.2 L28.4 51.7 L18.4 51.7 L18.4 58.9 Q18.4 62.3 20.1 63.5 Q21.8 64.7 24.9 64.7 Q26 64.7 27.3 64.55 Q28.6 64.4 29.7 64 L29.7 71.4 Q28.5 71.8 26.95 72 Q25.4 72.2 24.2 72.2 Q17.2 72.2 13.55 68.95 Q9.9 65.7 9.9 59.4 L9.9 51.7 L1.2 51.7 L1.2 44.2 Z\"\n",
       "        /><glyph unicode=\" \" horiz-adv-x=\"27.8\" d=\"\"\n",
       "        /><glyph unicode=\"y\" horiz-adv-x=\"50.0\" d=\"M26.7 -6.9 Q25.2 -10.7 23.75 -13.3 Q22.3 -15.9 20.55 -17.55 Q18.8 -19.2 16.65 -19.95 Q14.5 -20.7 11.7 -20.7 Q10.2 -20.7 8.7 -20.5 Q7.2 -20.3 5.8 -19.8 L5.8 -12 Q6.9 -12.5 8.35 -12.85 Q9.8 -13.2 10.8 -13.2 Q13.4 -13.2 15.15 -11.95 Q16.9 -10.7 17.8 -8.4 L21.3 0.3 L0.8 51.7 L10.4 51.7 L25.5 9.4 L25.7 9.4 L40.2 51.7 L49.2 51.7 Z\"\n",
       "        /><glyph unicode=\"t\" horiz-adv-x=\"31.5\" d=\"M18.2 51.7 L18.2 67.2 L9.7 67.2 L9.7 51.7 L0.9 51.7 L0.9 44.2 L9.7 44.2 L9.7 11.3 Q9.7 7.7 10.4 5.5 Q11.1 3.3 12.55 2.1 Q14 0.9 16.35 0.45 Q18.7 0 22 0 L28.5 0 L28.5 7.5 L24.6 7.5 Q22.6 7.5 21.35 7.65 Q20.1 7.8 19.4 8.3 Q18.7 8.8 18.45 9.7 Q18.2 10.6 18.2 12.1 L18.2 44.2 L28.5 44.2 L28.5 51.7 Z\"\n",
       "        /><glyph unicode=\"i\" horiz-adv-x=\"22.2\" d=\"M15.4 61 L15.4 71.4 L6.9 71.4 L6.9 61 ZM6.9 51.7 L6.9 0 L15.4 0 L15.4 51.7 Z\"\n",
       "        /><glyph unicode=\"c\" horiz-adv-x=\"53.7\" d=\"M41.5 35.1 L50.3 35.1 Q49.8 39.7 47.9 43.05 Q46 46.4 43.05 48.6 Q40.1 50.8 36.25 51.85 Q32.4 52.9 28 52.9 Q21.9 52.9 17.3 50.75 Q12.7 48.6 9.65 44.85 Q6.6 41.1 5.1 36.05 Q3.6 31 3.6 25.2 Q3.6 19.4 5.15 14.55 Q6.7 9.7 9.75 6.2 Q12.8 2.7 17.35 0.8 Q21.9 -1.1 27.8 -1.1 Q37.7 -1.1 43.45 4.1 Q49.2 9.3 50.6 18.9 L41.9 18.9 Q41.1 12.9 37.55 9.6 Q34 6.3 27.7 6.3 Q23.7 6.3 20.8 7.9 Q17.9 9.5 16.1 12.15 Q14.3 14.8 13.45 18.2 Q12.6 21.6 12.6 25.2 Q12.6 29.1 13.4 32.75 Q14.2 36.4 16.05 39.2 Q17.9 42 21 43.7 Q24.1 45.4 28.7 45.4 Q34.1 45.4 37.3 42.7 Q40.5 40 41.5 35.1 Z\"\n",
       "        /><glyph unicode=\"o\" horiz-adv-x=\"57.4\" d=\"M12.6 25.8 Q12.6 30.5 13.85 34.15 Q15.1 37.8 17.3 40.3 Q19.5 42.8 22.45 44.1 Q25.4 45.4 28.7 45.4 Q32 45.4 34.95 44.1 Q37.9 42.8 40.1 40.3 Q42.3 37.8 43.55 34.15 Q44.8 30.5 44.8 25.8 Q44.8 21.1 43.55 17.45 Q42.3 13.8 40.1 11.35 Q37.9 8.9 34.95 7.6 Q32 6.3 28.7 6.3 Q25.4 6.3 22.45 7.6 Q19.5 8.9 17.3 11.35 Q15.1 13.8 13.85 17.45 Q12.6 21.1 12.6 25.8 ZM3.6 25.8 Q3.6 20.1 5.2 15.2 Q6.8 10.3 10 6.65 Q13.2 3 17.9 0.95 Q22.6 -1.1 28.7 -1.1 Q34.9 -1.1 39.55 0.95 Q44.2 3 47.4 6.65 Q50.6 10.3 52.2 15.2 Q53.8 20.1 53.8 25.8 Q53.8 31.5 52.2 36.45 Q50.6 41.4 47.4 45.05 Q44.2 48.7 39.55 50.8 Q34.9 52.9 28.7 52.9 Q22.6 52.9 17.9 50.8 Q13.2 48.7 10 45.05 Q6.8 41.4 5.2 36.45 Q3.6 31.5 3.6 25.8 Z\"\n",
       "        /><glyph unicode=\"l\" horiz-adv-x=\"22.2\" d=\"M6.9 71.4 L6.9 0 L15.4 0 L15.4 71.4 Z\"\n",
       "        /><glyph unicode=\"e\" horiz-adv-x=\"53.7\" d=\"M42.3 30.8 L12.6 30.8 Q12.8 33.8 13.9 36.45 Q15 39.1 16.9 41.1 Q18.8 43.1 21.45 44.25 Q24.1 45.4 27.4 45.4 Q30.6 45.4 33.25 44.25 Q35.9 43.1 37.85 41.15 Q39.8 39.2 40.95 36.5 Q42.1 33.8 42.3 30.8 ZM50.5 16.4 L42.1 16.4 Q41 11.3 37.55 8.8 Q34.1 6.3 28.7 6.3 Q24.5 6.3 21.4 7.7 Q18.3 9.1 16.3 11.45 Q14.3 13.8 13.4 16.85 Q12.5 19.9 12.6 23.3 L51.3 23.3 Q51.5 28 50.45 33.2 Q49.4 38.4 46.65 42.8 Q43.9 47.2 39.35 50.05 Q34.8 52.9 27.9 52.9 Q22.6 52.9 18.15 50.9 Q13.7 48.9 10.45 45.3 Q7.2 41.7 5.4 36.8 Q3.6 31.9 3.6 26 Q3.8 20.1 5.35 15.1 Q6.9 10.1 10 6.5 Q13.1 2.9 17.65 0.9 Q22.2 -1.1 28.4 -1.1 Q37.2 -1.1 43 3.3 Q48.8 7.7 50.5 16.4 Z\"\n",
       "        /><glyph unicode=\"V\" horiz-adv-x=\"61.1\" d=\"M35.9 0 L61.3 71.4 L51.4 71.4 L30.8 9.5 L30.6 9.5 L10.2 71.4 L0 71.4 L25.1 0 Z\"\n",
       "        /><glyph unicode=\"D\" horiz-adv-x=\"70.4\" d=\"M17.3 8 L17.3 63.4 L33.3 63.4 Q39.9 63.4 44.4 61.55 Q48.9 59.7 51.75 56.15 Q54.6 52.6 55.85 47.55 Q57.1 42.5 57.1 36.1 Q57.1 29.5 55.75 24.85 Q54.4 20.2 52.3 17.1 Q50.2 14 47.55 12.2 Q44.9 10.4 42.2 9.45 Q39.5 8.5 37.1 8.25 Q34.7 8 33.1 8 ZM7.8 71.4 L7.8 0 L32.3 0 Q41.2 0 47.7 2.5 Q54.2 5 58.4 9.75 Q62.6 14.5 64.6 21.45 Q66.6 28.4 66.6 37.4 Q66.6 54.6 57.7 63 Q48.8 71.4 32.3 71.4 Z\"\n",
       "        /><glyph unicode=\"+\" horiz-adv-x=\"60.0\" d=\"M33.4 28.7 L33.4 50.6 L26.6 50.6 L26.6 28.7 L4.8 28.7 L4.8 21.9 L26.6 21.9 L26.6 0 L33.4 0 L33.4 21.9 L55.2 21.9 L55.2 28.7 Z\"\n",
       "        /><glyph unicode=\"P\" horiz-adv-x=\"64.8\" d=\"M17.3 37.2 L17.3 63.4 L35.9 63.4 Q44 63.4 47.75 60.05 Q51.5 56.7 51.5 50.3 Q51.5 43.9 47.75 40.5 Q44 37.1 35.9 37.2 ZM7.8 71.4 L7.8 0 L17.3 0 L17.3 29.2 L39.1 29.2 Q49.9 29.1 55.45 34.7 Q61 40.3 61 50.3 Q61 60.3 55.45 65.85 Q49.9 71.4 39.1 71.4 Z\"\n",
       "        /><glyph unicode=\"d\" horiz-adv-x=\"59.3\" d=\"M12.6 25.4 Q12.6 29.2 13.4 32.8 Q14.2 36.4 16 39.2 Q17.8 42 20.8 43.7 Q23.8 45.4 28.1 45.4 Q32.5 45.4 35.6 43.75 Q38.7 42.1 40.65 39.4 Q42.6 36.7 43.5 33.15 Q44.4 29.6 44.4 25.8 Q44.4 22.2 43.55 18.7 Q42.7 15.2 40.8 12.45 Q38.9 9.7 35.9 8 Q32.9 6.3 28.6 6.3 Q24.5 6.3 21.45 7.9 Q18.4 9.5 16.45 12.2 Q14.5 14.9 13.55 18.35 Q12.6 21.8 12.6 25.4 ZM52.6 0 L52.6 71.4 L44.1 71.4 L44.1 44.8 L43.9 44.8 Q42.5 47.1 40.45 48.65 Q38.4 50.2 36.1 51.15 Q33.8 52.1 31.5 52.5 Q29.2 52.9 27.2 52.9 Q21.3 52.9 16.85 50.75 Q12.4 48.6 9.45 44.95 Q6.5 41.3 5.05 36.4 Q3.6 31.5 3.6 26 Q3.6 20.5 5.1 15.6 Q6.6 10.7 9.55 7 Q12.5 3.3 16.95 1.1 Q21.4 -1.1 27.4 -1.1 Q32.8 -1.1 37.3 0.8 Q41.8 2.7 43.9 7 L44.1 7 L44.1 0 Z\"\n",
       "        /><glyph unicode=\"s\" horiz-adv-x=\"50.0\" d=\"M11.6 16.3 L3.1 16.3 Q3.3 11.5 5.1 8.15 Q6.9 4.8 9.9 2.75 Q12.9 0.7 16.8 -0.2 Q20.7 -1.1 25 -1.1 Q28.9 -1.1 32.85 -0.35 Q36.8 0.4 39.95 2.3 Q43.1 4.2 45.05 7.3 Q47 10.4 47 15.1 Q47 18.8 45.55 21.3 Q44.1 23.8 41.75 25.45 Q39.4 27.1 36.35 28.1 Q33.3 29.1 30.1 29.8 Q27.1 30.5 24.1 31.15 Q21.1 31.8 18.7 32.75 Q16.3 33.7 14.75 35.15 Q13.2 36.6 13.2 38.8 Q13.2 40.8 14.2 42.05 Q15.2 43.3 16.8 44.05 Q18.4 44.8 20.35 45.1 Q22.3 45.4 24.2 45.4 Q26.3 45.4 28.35 44.95 Q30.4 44.5 32.1 43.5 Q33.8 42.5 34.9 40.85 Q36 39.2 36.2 36.7 L44.7 36.7 Q44.4 41.4 42.7 44.55 Q41 47.7 38.15 49.55 Q35.3 51.4 31.6 52.15 Q27.9 52.9 23.5 52.9 Q20.1 52.9 16.65 52.05 Q13.2 51.2 10.45 49.45 Q7.7 47.7 5.95 44.9 Q4.2 42.1 4.2 38.2 Q4.2 33.2 6.7 30.4 Q9.2 27.6 12.95 26.05 Q16.7 24.5 21.1 23.65 Q25.5 22.8 29.25 21.75 Q33 20.7 35.5 19 Q38 17.3 38 14 Q38 11.6 36.8 10.05 Q35.6 8.5 33.75 7.7 Q31.9 6.9 29.7 6.6 Q27.5 6.3 25.5 6.3 Q22.9 6.3 20.45 6.8 Q18 7.3 16.05 8.45 Q14.1 9.6 12.9 11.55 Q11.7 13.5 11.6 16.3 Z\"\n",
       "        /><glyph unicode=\"a\" horiz-adv-x=\"53.7\" d=\"M52.2 0.2 Q50 -1.1 46.1 -1.1 Q42.8 -1.1 40.85 0.75 Q38.9 2.6 38.9 6.8 Q35.4 2.6 30.75 0.75 Q26.1 -1.1 20.7 -1.1 Q17.2 -1.1 14.05 -0.3 Q10.9 0.5 8.6 2.2 Q6.3 3.9 4.95 6.65 Q3.6 9.4 3.6 13.3 Q3.6 17.7 5.1 20.5 Q6.6 23.3 9.05 25.05 Q11.5 26.8 14.65 27.7 Q17.8 28.6 21.1 29.2 Q24.6 29.9 27.75 30.25 Q30.9 30.6 33.3 31.25 Q35.7 31.9 37.1 33.15 Q38.5 34.4 38.5 36.8 Q38.5 39.6 37.45 41.3 Q36.4 43 34.75 43.9 Q33.1 44.8 31.05 45.1 Q29 45.4 27 45.4 Q21.6 45.4 18 43.35 Q14.4 41.3 14.1 35.6 L5.6 35.6 Q5.8 40.4 7.6 43.7 Q9.4 47 12.4 49.05 Q15.4 51.1 19.25 52 Q23.1 52.9 27.5 52.9 Q31 52.9 34.45 52.4 Q37.9 51.9 40.7 50.35 Q43.5 48.8 45.2 46 Q46.9 43.2 46.9 38.7 L46.9 12.1 Q46.9 9.1 47.25 7.7 Q47.6 6.3 49.6 6.3 Q50.7 6.3 52.2 6.8 ZM38.4 26.7 Q36.8 25.5 34.2 24.95 Q31.6 24.4 28.75 24.05 Q25.9 23.7 23 23.25 Q20.1 22.8 17.8 21.8 Q15.5 20.8 14.05 18.95 Q12.6 17.1 12.6 13.9 Q12.6 11.8 13.45 10.35 Q14.3 8.9 15.65 8 Q17 7.1 18.8 6.7 Q20.6 6.3 22.6 6.3 Q26.8 6.3 29.8 7.45 Q32.8 8.6 34.7 10.35 Q36.6 12.1 37.5 14.15 Q38.4 16.2 38.4 18 Z\"\n",
       "      /></font\n",
       "      ><font horiz-adv-x=\"50.0\" id=\"font2\"\n",
       "      ><font-face ascent=\"97.5\" descent=\"21.699999\" units-per-em=\"100\" style=\"font-style:normal; font-family:Helvetica Neue; font-weight:bold;\"\n",
       "        /><missing-glyph horiz-adv-x=\"50.0\" d=\"M39.1 60.7 L11.1 60.7 L11.1 9.5 L39.1 9.5 ZM48.2 69.8 L48.2 0.3 L1.7 0.3 L1.7 69.8 Z\"\n",
       "        /><glyph unicode=\"l\" horiz-adv-x=\"25.8\" d=\"M5.8 71.4 L5.8 0 L20 0 L20 71.4 Z\"\n",
       "        /><glyph unicode=\"u\" horiz-adv-x=\"59.3\" d=\"M53.9 0 L53.9 51.7 L39.7 51.7 L39.7 24.6 Q39.7 16.7 37.1 13.25 Q34.5 9.8 28.7 9.8 Q23.6 9.8 21.6 12.95 Q19.6 16.1 19.6 22.5 L19.6 51.7 L5.4 51.7 L5.4 19.9 Q5.4 15.1 6.25 11.15 Q7.1 7.2 9.2 4.45 Q11.3 1.7 14.95 0.2 Q18.6 -1.3 24.3 -1.3 Q28.8 -1.3 33.1 0.7 Q37.4 2.7 40.1 7.2 L40.4 7.2 L40.4 0 Z\"\n",
       "        /><glyph unicode=\"f\" horiz-adv-x=\"33.3\" d=\"M8.5 42.2 L8.5 0 L22.7 0 L22.7 42.2 L32.5 42.2 L32.5 51.7 L22.7 51.7 L22.7 54.8 Q22.7 58 23.95 59.35 Q25.2 60.7 28.1 60.7 Q30.8 60.7 33.3 60.4 L33.3 71 Q31.5 71.1 29.6 71.25 Q27.7 71.4 25.8 71.4 Q17.1 71.4 12.8 67 Q8.5 62.6 8.5 55.7 L8.5 51.7 L0 51.7 L0 42.2 Z\"\n",
       "        /><glyph unicode=\"r\" horiz-adv-x=\"38.9\" d=\"M5.4 51.7 L5.4 0 L19.6 0 L19.6 23.3 Q19.6 26.8 20.3 29.8 Q21 32.8 22.65 35.05 Q24.3 37.3 27 38.6 Q29.7 39.9 33.6 39.9 Q34.9 39.9 36.3 39.75 Q37.7 39.6 38.7 39.4 L38.7 52.6 Q37 53.1 35.6 53.1 Q32.9 53.1 30.4 52.3 Q27.9 51.5 25.7 50.05 Q23.5 48.6 21.8 46.55 Q20.1 44.5 19.1 42.1 L18.9 42.1 L18.9 51.7 Z\"\n",
       "        /><glyph unicode=\"C\" horiz-adv-x=\"74.1\" d=\"M54.5 47.4 L69.7 47.4 Q69 53.6 66.3 58.4 Q63.6 63.2 59.45 66.45 Q55.3 69.7 50.05 71.4 Q44.8 73.1 38.9 73.1 Q30.7 73.1 24.15 70.2 Q17.6 67.3 13.1 62.2 Q8.6 57.1 6.2 50.25 Q3.8 43.4 3.8 35.4 Q3.8 27.6 6.2 20.85 Q8.6 14.1 13.1 9.1 Q17.6 4.1 24.15 1.25 Q30.7 -1.6 38.9 -1.6 Q45.5 -1.6 51 0.4 Q56.5 2.4 60.6 6.2 Q64.7 10 67.2 15.4 Q69.7 20.8 70.3 27.5 L55.1 27.5 Q54.2 20.3 50.15 15.9 Q46.1 11.5 38.9 11.5 Q33.6 11.5 29.9 13.55 Q26.2 15.6 23.9 19 Q21.6 22.4 20.55 26.65 Q19.5 30.9 19.5 35.4 Q19.5 40.1 20.55 44.5 Q21.6 48.9 23.9 52.35 Q26.2 55.8 29.9 57.85 Q33.6 59.9 38.9 59.9 Q41.8 59.9 44.45 58.95 Q47.1 58 49.2 56.3 Q51.3 54.6 52.7 52.35 Q54.1 50.1 54.5 47.4 Z\"\n",
       "        /><glyph unicode=\":\" horiz-adv-x=\"27.8\" d=\"M21.8 35.4 L21.8 50.8 L6.1 50.8 L6.1 35.4 ZM6.1 15.4 L6.1 0 L21.8 0 L21.8 15.4 Z\"\n",
       "        /><glyph unicode=\"i\" horiz-adv-x=\"25.8\" d=\"M20 59.7 L20 71.4 L5.8 71.4 L5.8 59.7 ZM5.8 51.7 L5.8 0 L20 0 L20 51.7 Z\"\n",
       "        /><glyph unicode=\"t\" horiz-adv-x=\"35.2\" d=\"M23.4 51.7 L23.4 67.2 L9.2 67.2 L9.2 51.7 L0.6 51.7 L0.6 42.2 L9.2 42.2 L9.2 11.7 Q9.2 7.8 10.5 5.4 Q11.8 3 14.05 1.7 Q16.3 0.4 19.25 -0.05 Q22.2 -0.5 25.5 -0.5 Q27.6 -0.5 29.8 -0.4 Q32 -0.3 33.8 0 L33.8 11 Q32.8 10.8 31.7 10.7 Q30.6 10.6 29.4 10.6 Q25.8 10.6 24.6 11.8 Q23.4 13 23.4 16.6 L23.4 42.2 L33.8 42.2 L33.8 51.7 Z\"\n",
       "        /><glyph unicode=\"s\" horiz-adv-x=\"53.7\" d=\"M16.4 16.8 L2.9 16.8 Q3.1 11.6 5.25 8.15 Q7.4 4.7 10.75 2.6 Q14.1 0.5 18.4 -0.4 Q22.7 -1.3 27.2 -1.3 Q31.6 -1.3 35.85 -0.45 Q40.1 0.4 43.4 2.5 Q46.7 4.6 48.75 8.05 Q50.8 11.5 50.8 16.6 Q50.8 20.2 49.4 22.65 Q48 25.1 45.7 26.75 Q43.4 28.4 40.45 29.4 Q37.5 30.4 34.4 31.1 Q31.4 31.8 28.5 32.4 Q25.6 33 23.35 33.75 Q21.1 34.5 19.7 35.7 Q18.3 36.9 18.3 38.8 Q18.3 40.4 19.1 41.35 Q19.9 42.3 21.05 42.8 Q22.2 43.3 23.6 43.45 Q25 43.6 26.2 43.6 Q30 43.6 32.8 42.15 Q35.6 40.7 35.9 36.6 L49.4 36.6 Q49 41.4 46.95 44.55 Q44.9 47.7 41.8 49.6 Q38.7 51.5 34.75 52.3 Q30.8 53.1 26.6 53.1 Q22.4 53.1 18.4 52.35 Q14.4 51.6 11.2 49.75 Q8 47.9 6.05 44.7 Q4.1 41.5 4.1 36.5 Q4.1 33.1 5.5 30.75 Q6.9 28.4 9.2 26.85 Q11.5 25.3 14.45 24.35 Q17.4 23.4 20.5 22.7 Q28.1 21.1 32.35 19.5 Q36.6 17.9 36.6 14.7 Q36.6 12.8 35.7 11.55 Q34.8 10.3 33.45 9.55 Q32.1 8.8 30.45 8.45 Q28.8 8.1 27.3 8.1 Q25.2 8.1 23.25 8.6 Q21.3 9.1 19.8 10.15 Q18.3 11.2 17.35 12.85 Q16.4 14.5 16.4 16.8 Z\"\n",
       "        /><glyph unicode=\"n\" horiz-adv-x=\"59.3\" d=\"M5.4 51.7 L5.4 0 L19.6 0 L19.6 27.1 Q19.6 35 22.2 38.45 Q24.8 41.9 30.6 41.9 Q35.7 41.9 37.7 38.75 Q39.7 35.6 39.7 29.2 L39.7 0 L53.9 0 L53.9 31.8 Q53.9 36.6 53.05 40.55 Q52.2 44.5 50.1 47.25 Q48 50 44.35 51.55 Q40.7 53.1 35 53.1 Q30.5 53.1 26.2 51.05 Q21.9 49 19.2 44.5 L18.9 44.5 L18.9 51.7 Z\"\n",
       "        /><glyph unicode=\"p\" horiz-adv-x=\"61.1\" d=\"M31.5 9.3 Q28.1 9.3 25.7 10.7 Q23.3 12.1 21.85 14.35 Q20.4 16.6 19.75 19.6 Q19.1 22.6 19.1 25.7 Q19.1 28.9 19.7 31.9 Q20.3 34.9 21.75 37.2 Q23.2 39.5 25.55 40.95 Q27.9 42.4 31.4 42.4 Q34.8 42.4 37.15 40.95 Q39.5 39.5 41 37.15 Q42.5 34.8 43.15 31.8 Q43.8 28.8 43.8 25.7 Q43.8 22.6 43.2 19.6 Q42.6 16.6 41.15 14.35 Q39.7 12.1 37.35 10.7 Q35 9.3 31.5 9.3 ZM5.4 51.7 L5.4 -18.1 L19.6 -18.1 L19.6 6.4 L19.8 6.4 Q22.4 2.6 26.45 0.65 Q30.5 -1.3 35.3 -1.3 Q41 -1.3 45.25 0.9 Q49.5 3.1 52.35 6.8 Q55.2 10.5 56.6 15.3 Q58 20.1 58 25.3 Q58 30.8 56.6 35.85 Q55.2 40.9 52.3 44.7 Q49.4 48.5 45 50.8 Q40.6 53.1 34.5 53.1 Q29.7 53.1 25.7 51.2 Q21.7 49.3 19.1 45.1 L18.9 45.1 L18.9 51.7 Z\"\n",
       "        /><glyph unicode=\"m\" horiz-adv-x=\"90.6\" d=\"M5.8 51.7 L5.8 0 L20 0 L20 30 Q20 33.8 21.1 36.15 Q22.2 38.5 23.75 39.75 Q25.3 41 26.95 41.45 Q28.6 41.9 29.6 41.9 Q33 41.9 34.75 40.75 Q36.5 39.6 37.25 37.7 Q38 35.8 38.1 33.55 Q38.2 31.3 38.2 29 L38.2 0 L52.4 0 L52.4 28.8 Q52.4 31.2 52.75 33.55 Q53.1 35.9 54.15 37.75 Q55.2 39.6 57.05 40.75 Q58.9 41.9 61.9 41.9 Q64.9 41.9 66.65 40.9 Q68.4 39.9 69.3 38.2 Q70.2 36.5 70.4 34.2 Q70.6 31.9 70.6 29.3 L70.6 0 L84.8 0 L84.8 34.6 Q84.8 39.6 83.4 43.15 Q82 46.7 79.5 48.9 Q77 51.1 73.5 52.1 Q70 53.1 65.9 53.1 Q60.5 53.1 56.55 50.5 Q52.6 47.9 50.3 44.5 Q48.2 49.3 44.15 51.2 Q40.1 53.1 35.2 53.1 Q30.1 53.1 26.15 50.9 Q22.2 48.7 19.4 44.7 L19.2 44.7 L19.2 51.7 Z\"\n",
       "        /><glyph unicode=\"o\" horiz-adv-x=\"61.1\" d=\"M18 25.8 Q18 28.9 18.6 31.9 Q19.2 34.9 20.65 37.2 Q22.1 39.5 24.5 40.95 Q26.9 42.4 30.5 42.4 Q34.1 42.4 36.55 40.95 Q39 39.5 40.45 37.2 Q41.9 34.9 42.5 31.9 Q43.1 28.9 43.1 25.8 Q43.1 22.7 42.5 19.75 Q41.9 16.8 40.45 14.45 Q39 12.1 36.55 10.7 Q34.1 9.3 30.5 9.3 Q26.9 9.3 24.5 10.7 Q22.1 12.1 20.65 14.45 Q19.2 16.8 18.6 19.75 Q18 22.7 18 25.8 ZM3.8 25.8 Q3.8 19.6 5.7 14.6 Q7.6 9.6 11.1 6.05 Q14.6 2.5 19.5 0.6 Q24.4 -1.3 30.5 -1.3 Q36.6 -1.3 41.55 0.6 Q46.5 2.5 50 6.05 Q53.5 9.6 55.4 14.6 Q57.3 19.6 57.3 25.8 Q57.3 32 55.4 37.05 Q53.5 42.1 50 45.65 Q46.5 49.2 41.55 51.15 Q36.6 53.1 30.5 53.1 Q24.4 53.1 19.5 51.15 Q14.6 49.2 11.1 45.65 Q7.6 42.1 5.7 37.05 Q3.8 32 3.8 25.8 Z\"\n",
       "        /><glyph unicode=\"c\" horiz-adv-x=\"57.4\" d=\"M40.6 33.5 L54.5 33.5 Q54.2 38.5 52.1 42.15 Q50 45.8 46.65 48.25 Q43.3 50.7 39.05 51.9 Q34.8 53.1 30.2 53.1 Q23.9 53.1 19 51 Q14.1 48.9 10.7 45.15 Q7.3 41.4 5.55 36.25 Q3.8 31.1 3.8 25.1 Q3.8 19.3 5.7 14.45 Q7.6 9.6 11 6.1 Q14.4 2.6 19.25 0.65 Q24.1 -1.3 29.9 -1.3 Q40.2 -1.3 46.8 4.1 Q53.4 9.5 54.8 19.8 L41.1 19.8 Q40.4 15 37.65 12.15 Q34.9 9.3 29.8 9.3 Q26.5 9.3 24.2 10.8 Q21.9 12.3 20.55 14.65 Q19.2 17 18.6 19.9 Q18 22.8 18 25.6 Q18 28.5 18.6 31.45 Q19.2 34.4 20.65 36.85 Q22.1 39.3 24.4 40.85 Q26.7 42.4 30.1 42.4 Q39.2 42.4 40.6 33.5 Z\"\n",
       "        /><glyph unicode=\" \" horiz-adv-x=\"27.8\" d=\"\"\n",
       "        /><glyph unicode=\"d\" horiz-adv-x=\"61.1\" d=\"M42.1 26 Q42.1 22.8 41.5 19.8 Q40.9 16.8 39.5 14.45 Q38.1 12.1 35.75 10.7 Q33.4 9.3 29.9 9.3 Q26.6 9.3 24.25 10.75 Q21.9 12.2 20.35 14.55 Q18.8 16.9 18.1 19.9 Q17.4 22.9 17.4 25.9 Q17.4 29.1 18.05 32.05 Q18.7 35 20.15 37.3 Q21.6 39.6 24 41 Q26.4 42.4 29.9 42.4 Q33.4 42.4 35.7 41 Q38 39.6 39.45 37.35 Q40.9 35.1 41.5 32.15 Q42.1 29.2 42.1 26 ZM42.3 6.6 L42.3 0 L55.8 0 L55.8 71.4 L41.6 71.4 L41.6 45.4 L41.4 45.4 Q39 49.2 34.85 51.15 Q30.7 53.1 26.1 53.1 Q20.4 53.1 16.1 50.85 Q11.8 48.6 8.95 44.9 Q6.1 41.2 4.65 36.35 Q3.2 31.5 3.2 26.3 Q3.2 20.9 4.65 15.9 Q6.1 10.9 8.95 7.05 Q11.8 3.2 16.2 0.95 Q20.6 -1.3 26.4 -1.3 Q31.5 -1.3 35.55 0.55 Q39.6 2.4 42.1 6.6 Z\"\n",
       "        /><glyph unicode=\"a\" horiz-adv-x=\"57.4\" d=\"M4.8 35.8 Q5.1 40.8 7.3 44.1 Q9.5 47.4 12.9 49.4 Q16.3 51.4 20.55 52.25 Q24.8 53.1 29.1 53.1 Q33 53.1 37 52.55 Q41 52 44.3 50.4 Q47.6 48.8 49.7 45.95 Q51.8 43.1 51.8 38.4 L51.8 11.5 Q51.8 8 52.2 4.8 Q52.6 1.6 53.6 0 L39.2 0 Q38.8 1.2 38.55 2.45 Q38.3 3.7 38.2 5 Q34.8 1.5 30.2 0.1 Q25.6 -1.3 20.8 -1.3 Q17.1 -1.3 13.9 -0.4 Q10.7 0.5 8.3 2.4 Q5.9 4.3 4.55 7.2 Q3.2 10.1 3.2 14.1 Q3.2 18.5 4.75 21.35 Q6.3 24.2 8.75 25.9 Q11.2 27.6 14.35 28.45 Q17.5 29.3 20.7 29.8 Q23.9 30.3 27 30.6 Q30.1 30.9 32.5 31.5 Q34.9 32.1 36.3 33.25 Q37.7 34.4 37.6 36.6 Q37.6 38.9 36.85 40.25 Q36.1 41.6 34.85 42.35 Q33.6 43.1 31.95 43.35 Q30.3 43.6 28.4 43.6 Q24.2 43.6 21.8 41.8 Q19.4 40 19 35.8 ZM37.6 25.3 Q36.7 24.5 35.35 24.05 Q34 23.6 32.45 23.3 Q30.9 23 29.2 22.8 Q27.5 22.6 25.8 22.3 Q24.2 22 22.65 21.5 Q21.1 21 19.95 20.15 Q18.8 19.3 18.1 18 Q17.4 16.7 17.4 14.7 Q17.4 12.8 18.1 11.5 Q18.8 10.2 20 9.45 Q21.2 8.7 22.8 8.4 Q24.4 8.1 26.1 8.1 Q30.3 8.1 32.6 9.5 Q34.9 10.9 36 12.85 Q37.1 14.8 37.35 16.8 Q37.6 18.8 37.6 20 Z\"\n",
       "        /><glyph unicode=\"e\" horiz-adv-x=\"57.4\" d=\"M40.2 31.4 L17.1 31.4 Q17.2 32.9 17.75 34.8 Q18.3 36.7 19.65 38.4 Q21 40.1 23.25 41.25 Q25.5 42.4 28.9 42.4 Q34.1 42.4 36.65 39.6 Q39.2 36.8 40.2 31.4 ZM17.1 22.4 L54.4 22.4 Q54.8 28.4 53.4 33.9 Q52 39.4 48.85 43.7 Q45.7 48 40.8 50.55 Q35.9 53.1 29.3 53.1 Q23.4 53.1 18.55 51 Q13.7 48.9 10.2 45.25 Q6.7 41.6 4.8 36.6 Q2.9 31.6 2.9 25.8 Q2.9 19.8 4.75 14.8 Q6.6 9.8 10 6.2 Q13.4 2.6 18.3 0.65 Q23.2 -1.3 29.3 -1.3 Q38.1 -1.3 44.3 2.7 Q50.5 6.7 53.5 16 L41 16 Q40.3 13.6 37.2 11.45 Q34.1 9.3 29.8 9.3 Q23.8 9.3 20.6 12.4 Q17.4 15.5 17.1 22.4 Z\"\n",
       "        /><glyph unicode=\"L\" horiz-adv-x=\"59.3\" d=\"M6.9 71.4 L6.9 0 L57.4 0 L57.4 13.2 L22.6 13.2 L22.6 71.4 Z\"\n",
       "      /></font\n",
       "    ></defs\n",
       "    ><g style=\"fill:white; stroke:white;\"\n",
       "    ><rect x=\"0\" y=\"0\" width=\"560\" style=\"clip-path:url(#clipPath1); stroke:none;\" height=\"420\"\n",
       "    /></g\n",
       "    ><g style=\"fill:white; text-rendering:optimizeSpeed; color-rendering:optimizeSpeed; image-rendering:optimizeSpeed; shape-rendering:crispEdges; stroke:white; color-interpolation:sRGB;\"\n",
       "    ><rect x=\"0\" width=\"560\" height=\"420\" y=\"0\" style=\"stroke:none;\"\n",
       "      /><path style=\"stroke:none;\" d=\"M73 374 L507 374 L507 31.5 L73 31.5 Z\"\n",
       "    /></g\n",
       "    ><g style=\"fill:rgb(38,38,38); text-rendering:geometricPrecision; image-rendering:optimizeQuality; color-rendering:optimizeQuality; stroke-linejoin:round; stroke:rgb(38,38,38); color-interpolation:linearRGB; stroke-width:0.5;\"\n",
       "    ><line y2=\"374\" style=\"fill:none;\" x1=\"73\" x2=\"507\" y1=\"374\"\n",
       "      /><line y2=\"31.5\" style=\"fill:none;\" x1=\"73\" x2=\"507\" y1=\"31.5\"\n",
       "      /><line y2=\"369.66\" style=\"fill:none;\" x1=\"73\" x2=\"73\" y1=\"374\"\n",
       "      /><line y2=\"369.66\" style=\"fill:none;\" x1=\"135\" x2=\"135\" y1=\"374\"\n",
       "      /><line y2=\"369.66\" style=\"fill:none;\" x1=\"197\" x2=\"197\" y1=\"374\"\n",
       "      /><line y2=\"369.66\" style=\"fill:none;\" x1=\"259\" x2=\"259\" y1=\"374\"\n",
       "      /><line y2=\"369.66\" style=\"fill:none;\" x1=\"321\" x2=\"321\" y1=\"374\"\n",
       "      /><line y2=\"369.66\" style=\"fill:none;\" x1=\"383\" x2=\"383\" y1=\"374\"\n",
       "      /><line y2=\"369.66\" style=\"fill:none;\" x1=\"445\" x2=\"445\" y1=\"374\"\n",
       "      /><line y2=\"369.66\" style=\"fill:none;\" x1=\"507\" x2=\"507\" y1=\"374\"\n",
       "      /><line y2=\"35.84\" style=\"fill:none;\" x1=\"73\" x2=\"73\" y1=\"31.5\"\n",
       "      /><line y2=\"35.84\" style=\"fill:none;\" x1=\"135\" x2=\"135\" y1=\"31.5\"\n",
       "      /><line y2=\"35.84\" style=\"fill:none;\" x1=\"197\" x2=\"197\" y1=\"31.5\"\n",
       "      /><line y2=\"35.84\" style=\"fill:none;\" x1=\"259\" x2=\"259\" y1=\"31.5\"\n",
       "      /><line y2=\"35.84\" style=\"fill:none;\" x1=\"321\" x2=\"321\" y1=\"31.5\"\n",
       "      /><line y2=\"35.84\" style=\"fill:none;\" x1=\"383\" x2=\"383\" y1=\"31.5\"\n",
       "      /><line y2=\"35.84\" style=\"fill:none;\" x1=\"445\" x2=\"445\" y1=\"31.5\"\n",
       "      /><line y2=\"35.84\" style=\"fill:none;\" x1=\"507\" x2=\"507\" y1=\"31.5\"\n",
       "    /></g\n",
       "    ><g transform=\"translate(73,378)\" style=\"font-size:10px; fill:rgb(38,38,38); text-rendering:geometricPrecision; image-rendering:optimizeQuality; color-rendering:optimizeQuality; font-family:'Helvetica Neue'; stroke:rgb(38,38,38); color-interpolation:linearRGB;\"\n",
       "    ><text x=\"-3\" xml:space=\"preserve\" y=\"10\" style=\"stroke:none;\"\n",
       "      >0</text\n",
       "    ></g\n",
       "    ><g transform=\"translate(135,378)\" style=\"font-size:10px; fill:rgb(38,38,38); text-rendering:geometricPrecision; image-rendering:optimizeQuality; color-rendering:optimizeQuality; font-family:'Helvetica Neue'; stroke:rgb(38,38,38); color-interpolation:linearRGB;\"\n",
       "    ><text x=\"-7\" xml:space=\"preserve\" y=\"10\" style=\"stroke:none;\"\n",
       "      >0.5</text\n",
       "    ></g\n",
       "    ><g transform=\"translate(197,378)\" style=\"font-size:10px; fill:rgb(38,38,38); text-rendering:geometricPrecision; image-rendering:optimizeQuality; color-rendering:optimizeQuality; font-family:'Helvetica Neue'; stroke:rgb(38,38,38); color-interpolation:linearRGB;\"\n",
       "    ><text x=\"-3\" xml:space=\"preserve\" y=\"10\" style=\"stroke:none;\"\n",
       "      >1</text\n",
       "    ></g\n",
       "    ><g transform=\"translate(259,378)\" style=\"font-size:10px; fill:rgb(38,38,38); text-rendering:geometricPrecision; image-rendering:optimizeQuality; color-rendering:optimizeQuality; font-family:'Helvetica Neue'; stroke:rgb(38,38,38); color-interpolation:linearRGB;\"\n",
       "    ><text x=\"-7\" xml:space=\"preserve\" y=\"10\" style=\"stroke:none;\"\n",
       "      >1.5</text\n",
       "    ></g\n",
       "    ><g transform=\"translate(321,378)\" style=\"font-size:10px; fill:rgb(38,38,38); text-rendering:geometricPrecision; image-rendering:optimizeQuality; color-rendering:optimizeQuality; font-family:'Helvetica Neue'; stroke:rgb(38,38,38); color-interpolation:linearRGB;\"\n",
       "    ><text x=\"-3\" xml:space=\"preserve\" y=\"10\" style=\"stroke:none;\"\n",
       "      >2</text\n",
       "    ></g\n",
       "    ><g transform=\"translate(383,378)\" style=\"font-size:10px; fill:rgb(38,38,38); text-rendering:geometricPrecision; image-rendering:optimizeQuality; color-rendering:optimizeQuality; font-family:'Helvetica Neue'; stroke:rgb(38,38,38); color-interpolation:linearRGB;\"\n",
       "    ><text x=\"-7\" xml:space=\"preserve\" y=\"10\" style=\"stroke:none;\"\n",
       "      >2.5</text\n",
       "    ></g\n",
       "    ><g transform=\"translate(445,378)\" style=\"font-size:10px; fill:rgb(38,38,38); text-rendering:geometricPrecision; image-rendering:optimizeQuality; color-rendering:optimizeQuality; font-family:'Helvetica Neue'; stroke:rgb(38,38,38); color-interpolation:linearRGB;\"\n",
       "    ><text x=\"-3\" xml:space=\"preserve\" y=\"10\" style=\"stroke:none;\"\n",
       "      >3</text\n",
       "    ></g\n",
       "    ><g transform=\"translate(507,378)\" style=\"font-size:10px; fill:rgb(38,38,38); text-rendering:geometricPrecision; image-rendering:optimizeQuality; color-rendering:optimizeQuality; font-family:'Helvetica Neue'; stroke:rgb(38,38,38); color-interpolation:linearRGB;\"\n",
       "    ><text x=\"-7\" xml:space=\"preserve\" y=\"10\" style=\"stroke:none;\"\n",
       "      >3.5</text\n",
       "    ></g\n",
       "    ><g style=\"fill:rgb(38,38,38); text-rendering:geometricPrecision; image-rendering:optimizeQuality; color-rendering:optimizeQuality; stroke-linejoin:round; stroke:rgb(38,38,38); color-interpolation:linearRGB; stroke-width:0.5;\"\n",
       "    ><line y2=\"31.5\" style=\"fill:none;\" x1=\"73\" x2=\"73\" y1=\"374\"\n",
       "      /><line y2=\"31.5\" style=\"fill:none;\" x1=\"507\" x2=\"507\" y1=\"374\"\n",
       "      /><line y2=\"374\" style=\"fill:none;\" x1=\"73\" x2=\"77.34\" y1=\"374\"\n",
       "      /><line y2=\"325.0714\" style=\"fill:none;\" x1=\"73\" x2=\"77.34\" y1=\"325.0714\"\n",
       "      /><line y2=\"276.1429\" style=\"fill:none;\" x1=\"73\" x2=\"77.34\" y1=\"276.1429\"\n",
       "      /><line y2=\"227.2143\" style=\"fill:none;\" x1=\"73\" x2=\"77.34\" y1=\"227.2143\"\n",
       "      /><line y2=\"178.2857\" style=\"fill:none;\" x1=\"73\" x2=\"77.34\" y1=\"178.2857\"\n",
       "      /><line y2=\"129.3571\" style=\"fill:none;\" x1=\"73\" x2=\"77.34\" y1=\"129.3571\"\n",
       "      /><line y2=\"80.4286\" style=\"fill:none;\" x1=\"73\" x2=\"77.34\" y1=\"80.4286\"\n",
       "      /><line y2=\"31.5\" style=\"fill:none;\" x1=\"73\" x2=\"77.34\" y1=\"31.5\"\n",
       "      /><line y2=\"374\" style=\"fill:none;\" x1=\"507\" x2=\"502.66\" y1=\"374\"\n",
       "      /><line y2=\"325.0714\" style=\"fill:none;\" x1=\"507\" x2=\"502.66\" y1=\"325.0714\"\n",
       "      /><line y2=\"276.1429\" style=\"fill:none;\" x1=\"507\" x2=\"502.66\" y1=\"276.1429\"\n",
       "      /><line y2=\"227.2143\" style=\"fill:none;\" x1=\"507\" x2=\"502.66\" y1=\"227.2143\"\n",
       "      /><line y2=\"178.2857\" style=\"fill:none;\" x1=\"507\" x2=\"502.66\" y1=\"178.2857\"\n",
       "      /><line y2=\"129.3571\" style=\"fill:none;\" x1=\"507\" x2=\"502.66\" y1=\"129.3571\"\n",
       "      /><line y2=\"80.4286\" style=\"fill:none;\" x1=\"507\" x2=\"502.66\" y1=\"80.4286\"\n",
       "      /><line y2=\"31.5\" style=\"fill:none;\" x1=\"507\" x2=\"502.66\" y1=\"31.5\"\n",
       "    /></g\n",
       "    ><g transform=\"translate(69,374)\" style=\"font-size:10px; fill:rgb(38,38,38); text-rendering:geometricPrecision; image-rendering:optimizeQuality; color-rendering:optimizeQuality; font-family:'Helvetica Neue'; stroke:rgb(38,38,38); color-interpolation:linearRGB;\"\n",
       "    ><text x=\"-6\" xml:space=\"preserve\" y=\"3.5\" style=\"stroke:none;\"\n",
       "      >0</text\n",
       "    ></g\n",
       "    ><g transform=\"translate(69,325.0714)\" style=\"font-size:10px; fill:rgb(38,38,38); text-rendering:geometricPrecision; image-rendering:optimizeQuality; color-rendering:optimizeQuality; font-family:'Helvetica Neue'; stroke:rgb(38,38,38); color-interpolation:linearRGB;\"\n",
       "    ><text x=\"-14\" xml:space=\"preserve\" y=\"3.5\" style=\"stroke:none;\"\n",
       "      >0.2</text\n",
       "    ></g\n",
       "    ><g transform=\"translate(69,276.1429)\" style=\"font-size:10px; fill:rgb(38,38,38); text-rendering:geometricPrecision; image-rendering:optimizeQuality; color-rendering:optimizeQuality; font-family:'Helvetica Neue'; stroke:rgb(38,38,38); color-interpolation:linearRGB;\"\n",
       "    ><text x=\"-14\" xml:space=\"preserve\" y=\"3.5\" style=\"stroke:none;\"\n",
       "      >0.4</text\n",
       "    ></g\n",
       "    ><g transform=\"translate(69,227.2143)\" style=\"font-size:10px; fill:rgb(38,38,38); text-rendering:geometricPrecision; image-rendering:optimizeQuality; color-rendering:optimizeQuality; font-family:'Helvetica Neue'; stroke:rgb(38,38,38); color-interpolation:linearRGB;\"\n",
       "    ><text x=\"-14\" xml:space=\"preserve\" y=\"3.5\" style=\"stroke:none;\"\n",
       "      >0.6</text\n",
       "    ></g\n",
       "    ><g transform=\"translate(69,178.2857)\" style=\"font-size:10px; fill:rgb(38,38,38); text-rendering:geometricPrecision; image-rendering:optimizeQuality; color-rendering:optimizeQuality; font-family:'Helvetica Neue'; stroke:rgb(38,38,38); color-interpolation:linearRGB;\"\n",
       "    ><text x=\"-14\" xml:space=\"preserve\" y=\"3.5\" style=\"stroke:none;\"\n",
       "      >0.8</text\n",
       "    ></g\n",
       "    ><g transform=\"translate(69,129.3571)\" style=\"font-size:10px; fill:rgb(38,38,38); text-rendering:geometricPrecision; image-rendering:optimizeQuality; color-rendering:optimizeQuality; font-family:'Helvetica Neue'; stroke:rgb(38,38,38); color-interpolation:linearRGB;\"\n",
       "    ><text x=\"-6\" xml:space=\"preserve\" y=\"3.5\" style=\"stroke:none;\"\n",
       "      >1</text\n",
       "    ></g\n",
       "    ><g transform=\"translate(69,80.4286)\" style=\"font-size:10px; fill:rgb(38,38,38); text-rendering:geometricPrecision; image-rendering:optimizeQuality; color-rendering:optimizeQuality; font-family:'Helvetica Neue'; stroke:rgb(38,38,38); color-interpolation:linearRGB;\"\n",
       "    ><text x=\"-14\" xml:space=\"preserve\" y=\"3.5\" style=\"stroke:none;\"\n",
       "      >1.2</text\n",
       "    ></g\n",
       "    ><g transform=\"translate(69,31.5)\" style=\"font-size:10px; fill:rgb(38,38,38); text-rendering:geometricPrecision; image-rendering:optimizeQuality; color-rendering:optimizeQuality; font-family:'Helvetica Neue'; stroke:rgb(38,38,38); color-interpolation:linearRGB;\"\n",
       "    ><text x=\"-14\" xml:space=\"preserve\" y=\"3.5\" style=\"stroke:none;\"\n",
       "      >1.4</text\n",
       "    ></g\n",
       "    ><g transform=\"translate(290.0003,30.125)\" style=\"font-size:11px; text-rendering:geometricPrecision; image-rendering:optimizeQuality; color-rendering:optimizeQuality; font-family:'Helvetica Neue'; color-interpolation:linearRGB; font-weight:bold;\"\n",
       "    ><text x=\"-113.5\" xml:space=\"preserve\" y=\"-3\" style=\"stroke:none;\"\n",
       "      >Lead compensation: Comparison of results</text\n",
       "    ></g\n",
       "    ><g style=\"stroke-linecap:butt; fill:rgb(0,114,189); text-rendering:geometricPrecision; image-rendering:optimizeQuality; color-rendering:optimizeQuality; stroke-linejoin:round; stroke:rgb(0,114,189); color-interpolation:linearRGB; stroke-width:0.5;\"\n",
       "    ><path d=\"M73 374 L75.8552 373.4969 L78.7104 372.0492 L81.5656 369.7458 L84.4208 366.6713 L87.276 362.9061 L90.1312 358.5262 L92.9864 353.6034 L95.8416 348.2054 L98.6968 342.3959 L101.5521 336.2346 L104.4073 329.7775 L107.2625 323.0767 L110.1177 316.1808 L112.9729 309.1349 L115.8281 301.9808 L118.6833 294.757 L121.5385 287.4987 L124.3937 280.2386 L127.2489 273.0061 L130.1041 265.8281 L132.9593 258.7289 L135.8145 251.7304 L138.6697 244.8519 L141.5249 238.1109 L144.3801 231.5224 L147.2354 225.0999 L150.0905 218.8546 L152.9458 212.7963 L155.801 206.9332 L158.6562 201.2716 L161.5114 195.817 L164.3666 190.5731 L167.2218 185.5426 L170.077 180.7272 L172.9322 176.1274 L175.7874 171.7428 L178.6426 167.5724 L181.4978 163.6142 L184.353 159.8654 L187.2082 156.323 L190.0634 152.983 L192.9186 149.8411 L195.7738 146.8928 L198.629 144.1328 L201.4843 141.5559 L204.3395 139.1563 L207.1947 136.9281 L210.0499 134.8653 L212.9051 132.9617 L215.7603 131.211 L218.6155 129.6069 L221.4707 128.1428 L224.3259 126.8125 L227.1811 125.6096 L230.0363 124.5277 L232.8915 123.5605 L235.7467 122.702 L238.6019 121.9459 L241.4571 121.2864 L244.3123 120.7176 L247.1675 120.2338 L250.0227 119.8296 L252.8779 119.4995 L255.7332 119.2384 L258.5883 119.0413 L261.4436 118.9033 L264.2988 118.8197 L267.154 118.7862 L270.0092 118.7985 L272.8644 118.8525 L275.7196 118.9442 L278.5748 119.0701 L281.43 119.2266 L284.2852 119.4103 L287.1404 119.6182 L289.9956 119.8472 L292.8508 120.0946 L295.706 120.3577 L298.5612 120.6342 L301.4164 120.9216 L304.2716 121.2179 L307.1269 121.5211 L309.9821 121.8294 L312.8372 122.1411 L315.6925 122.4545 L318.5477 122.7684 L321.4029 123.0813 L324.2581 123.3921 L327.1133 123.6997 L329.9685 124.0032 L332.8237 124.3016 L335.6789 124.5943 L338.5341 124.8805 L341.3893 125.1596 L344.2445 125.4312 L347.0997 125.6948 L349.955 125.9501 L352.8102 126.1966 L355.6653 126.4344 L358.5206 126.663 L361.3758 126.8824 L364.231 127.0925 L367.0862 127.2933 L369.9414 127.4848 L372.7966 127.667 L375.6518 127.8401 L378.507 128.0041 L381.3622 128.1591 L384.2174 128.3053 L387.0726 128.4429 L389.9278 128.5722 L392.783 128.6932 L395.6382 128.8063 L398.4934 128.9116 L401.3486 129.0095 L404.2039 129.1002 L407.0591 129.1839 L409.9142 129.261 L412.7695 129.3317 L415.6247 129.3963 L418.4799 129.455 L421.3351 129.5082 L424.1903 129.556 L427.0455 129.5989 L429.9007 129.637 L432.7559 129.6706 L435.6111 129.7 L438.4663 129.7254 L441.3215 129.7471 L444.1767 129.7653 L447.0319 129.7803 L449.8871 129.7922 L452.7423 129.8013 L455.5975 129.8078 L458.4528 129.8119 L461.308 129.8138 L464.1631 129.8137 L467.0184 129.8118\" style=\"fill:none; fill-rule:evenodd;\"\n",
       "      /><path d=\"M73 374 L75.8552 351.9862 L78.7104 331.0076 L81.5656 311.0581 L84.4208 292.1279 L87.276 274.204 L90.1312 257.2706 L92.9864 241.3089 L95.8416 226.2983 L98.6968 212.2157 L101.5521 199.0367 L104.4073 186.735 L107.2625 175.2833 L110.1177 164.6532 L112.9729 154.8154 L115.8281 145.7402 L118.6833 137.3971 L121.5385 129.7555 L124.3937 122.7848 L127.2489 116.4539 L130.1041 110.7324 L132.9593 105.5898 L135.8145 100.9959 L138.6697 96.9212 L141.5249 93.3363 L144.3801 90.2128 L147.2354 87.5227 L150.0905 85.2387 L152.9458 83.3344 L155.801 81.7841 L158.6562 80.5629 L161.5114 79.6468 L164.3666 79.0126 L167.2218 78.6382 L170.077 78.5022 L172.9322 78.5841 L175.7874 78.8645 L178.6426 79.3247 L181.4978 79.9472 L184.353 80.715 L187.2082 81.6122 L190.0634 82.6239 L192.9186 83.7359 L195.7738 84.9348 L198.629 86.2082 L201.4843 87.5443 L204.3395 88.9323 L207.1947 90.3618 L210.0499 91.8235 L212.9051 93.3086 L215.7603 94.8091 L218.6155 96.3175 L221.4707 97.827 L224.3259 99.3314 L227.1811 100.8251 L230.0363 102.3028 L232.8915 103.7602 L235.7467 105.193 L238.6019 106.5976 L241.4571 107.9708 L244.3123 109.3099 L247.1675 110.6123 L250.0227 111.876 L252.8779 113.0993 L255.7332 114.2809 L258.5883 115.4196 L261.4436 116.5145 L264.2988 117.5651 L267.154 118.571 L270.0092 119.5321 L272.8644 120.4485 L275.7196 121.3203 L278.5748 122.1479 L281.43 122.9319 L284.2852 123.673 L287.1404 124.3719 L289.9956 125.0295 L292.8508 125.6467 L295.706 126.2247 L298.5612 126.7645 L301.4164 127.2673 L304.2716 127.7343 L307.1269 128.1668 L309.9821 128.5661 L312.8372 128.9335 L315.6925 129.2702 L318.5477 129.5777 L321.4029 129.8572 L324.2581 130.1101 L327.1133 130.3377 L329.9685 130.5413 L332.8237 130.7222 L335.6789 130.8816 L338.5341 131.0208 L341.3893 131.1411 L344.2445 131.2435 L347.0997 131.3293 L349.955 131.3996 L352.8102 131.4554 L355.6653 131.4977 L358.5206 131.5277 L361.3758 131.5463 L364.231 131.5543 L367.0862 131.5528\" style=\"fill:none; fill-rule:evenodd; stroke:rgb(217,83,25);\"\n",
       "      /><path d=\"M73 374 L75.8552 372.8008 L78.7104 369.4081 L81.5656 364.1115 L84.4208 357.1775 L87.276 348.8509 L90.1312 339.3562 L92.9864 328.8982 L95.8416 317.664 L98.6968 305.8233 L101.5521 293.5299 L104.4073 280.9226 L107.2625 268.1262 L110.1177 255.2523 L112.9729 242.4003 L115.8281 229.6582 L118.6833 217.1035 L121.5385 204.8038 L124.3937 192.8176 L127.2489 181.1951 L130.1041 169.9787 L132.9593 159.2038 L135.8145 148.8992 L138.6697 139.0878 L141.5249 129.7869 L144.3801 121.0091 L147.2354 112.7624 L150.0905 105.0509 L152.9458 97.8749 L155.801 91.2316 L158.6562 85.1153 L161.5114 79.5178 L164.3666 74.4286 L167.2218 69.8354 L170.077 65.724 L172.9322 62.0791 L175.7874 58.8841 L178.6426 56.1213 L181.4978 53.7723 L184.353 51.8182 L187.2082 50.2396 L190.0634 49.0169 L192.9186 48.1302 L195.7738 47.5596 L198.629 47.2853 L201.4843 47.2879 L204.3395 47.5479 L207.1947 48.0463 L210.0499 48.7646 L212.9051 49.6846 L215.7603 50.7888 L218.6155 52.0601 L221.4707 53.4821 L224.3259 55.0388 L227.1811 56.7153 L230.0363 58.4968 L232.8915 60.3697 L235.7467 62.3207 L238.6019 64.3373 L241.4571 66.4078 L244.3123 68.5211 L247.1675 70.6666 L250.0227 72.8348 L252.8779 75.0164 L255.7332 77.2031 L258.5883 79.3869 L261.4436 81.5606 L264.2988 83.7176 L267.154 85.8519 L270.0092 87.9578 L272.8644 90.0305 L275.7196 92.0655 L278.5748 94.0587 L281.43 96.0066 L284.2852 97.9061 L287.1404 99.7546 L289.9956 101.5498 L292.8508 103.2897 L295.706 104.9728 L298.5612 106.5978 L301.4164 108.1639 L304.2716 109.6704 L307.1269 111.1169 L309.9821 112.5033 L312.8372 113.8297 L315.6925 115.0964 L318.5477 116.3038 L321.4029 117.4527 L324.2581 118.5439 L327.1133 119.5783 L329.9685 120.5571 L332.8237 121.4814 L335.6789 122.3526 L338.5341 123.1719 L341.3893 123.941 L344.2445 124.6612 L347.0997 125.3342 L349.955 125.9616 L352.8102 126.545 L355.6653 127.0861 L358.5206 127.5865 L361.3758 128.048 L364.231 128.4723 L367.0862 128.861 L369.9414 129.2158 L372.7966 129.5383 L375.6518 129.8303 L378.507 130.0932 L381.3622 130.3287 L384.2174 130.5382 L387.0726 130.7235 L389.9278 130.8857 L392.783 131.0266 L395.6382 131.1472 L398.4934 131.2492 L401.3486 131.3336 L404.2039 131.4019 L407.0591 131.4551 L409.9142 131.4945 L412.7695 131.5211 L415.6247 131.536 L418.4799 131.5401 L421.3351 131.5346 L424.1903 131.5202 L427.0455 131.4979 L429.9007 131.4684 L432.7559 131.4325\" style=\"fill:none; fill-rule:evenodd; stroke:rgb(237,177,32);\"\n",
       "    /></g\n",
       "    ><g style=\"fill:white; text-rendering:optimizeSpeed; color-rendering:optimizeSpeed; image-rendering:optimizeSpeed; shape-rendering:crispEdges; stroke:white; color-interpolation:sRGB;\"\n",
       "    ><path style=\"stroke:none;\" d=\"M499 77.5 L499 39.5 L404 39.5 L404 77.5 Z\"\n",
       "    /></g\n",
       "    ><g transform=\"translate(441,47)\" style=\"font-size:9px; text-rendering:geometricPrecision; color-rendering:optimizeQuality; image-rendering:optimizeQuality; font-family:'Helvetica Neue'; color-interpolation:linearRGB;\"\n",
       "    ><text x=\"0\" xml:space=\"preserve\" y=\"3.5\" style=\"stroke:none;\"\n",
       "      >Velocity fb</text\n",
       "    ></g\n",
       "    ><g style=\"stroke-linecap:butt; fill:rgb(0,114,189); text-rendering:geometricPrecision; image-rendering:optimizeQuality; color-rendering:optimizeQuality; stroke-linejoin:round; stroke:rgb(0,114,189); color-interpolation:linearRGB; stroke-width:0.5;\"\n",
       "    ><line y2=\"47\" style=\"fill:none;\" x1=\"408\" x2=\"438\" y1=\"47\"\n",
       "    /></g\n",
       "    ><g transform=\"translate(441,58.5)\" style=\"font-size:9px; text-rendering:geometricPrecision; color-rendering:optimizeQuality; image-rendering:optimizeQuality; font-family:'Helvetica Neue'; color-interpolation:linearRGB;\"\n",
       "    ><text x=\"0\" xml:space=\"preserve\" y=\"3.5\" style=\"stroke:none;\"\n",
       "      >P+D</text\n",
       "    ></g\n",
       "    ><g style=\"stroke-linecap:butt; fill:rgb(217,83,25); text-rendering:geometricPrecision; image-rendering:optimizeQuality; color-rendering:optimizeQuality; stroke-linejoin:round; stroke:rgb(217,83,25); color-interpolation:linearRGB; stroke-width:0.5;\"\n",
       "    ><line y2=\"58.5\" style=\"fill:none;\" x1=\"408\" x2=\"438\" y1=\"58.5\"\n",
       "    /></g\n",
       "    ><g transform=\"translate(441,70)\" style=\"font-size:9px; text-rendering:geometricPrecision; color-rendering:optimizeQuality; image-rendering:optimizeQuality; font-family:'Helvetica Neue'; color-interpolation:linearRGB;\"\n",
       "    ><text x=\"0\" xml:space=\"preserve\" y=\"3.5\" style=\"stroke:none;\"\n",
       "      >cascade lead</text\n",
       "    ></g\n",
       "    ><g style=\"stroke-linecap:butt; fill:rgb(237,177,32); text-rendering:geometricPrecision; image-rendering:optimizeQuality; color-rendering:optimizeQuality; stroke-linejoin:round; stroke:rgb(237,177,32); color-interpolation:linearRGB; stroke-width:0.5;\"\n",
       "    ><line y2=\"70\" style=\"fill:none;\" x1=\"408\" x2=\"438\" y1=\"70\"\n",
       "      /><path d=\"M404 77.5 L404 39.5 L499 39.5 L499 77.5 Z\" style=\"fill:none; fill-rule:evenodd; stroke:rgb(38,38,38); stroke-linejoin:miter;\"\n",
       "    /></g\n",
       "  ></g\n",
       "></svg\n",
       ">\n"
      ]
     },
     "metadata": {},
     "output_type": "display_data"
    }
   ],
   "source": [
    "[y1,t1]=step(G1);\n",
    "[y2,t2]=step(G2);\n",
    "[y3,t3]=step(G3);\n",
    "plot(t1,y1,t2,y2,t3,y3),legend('Velocity fb','P+D','cascade lead'),title('Lead compensation: Comparison of results')"
   ]
  },
  {
   "cell_type": "markdown",
   "metadata": {
    "slideshow": {
     "slide_type": "notes"
    }
   },
   "source": [
    "When evaluating the third design you should take into account the location of the compensator zero and the third closed-loop pole (at $s = -2.828$) relative to the desired closed-loop pole at $s_1$."
   ]
  },
  {
   "cell_type": "markdown",
   "metadata": {
    "slideshow": {
     "slide_type": "subslide"
    }
   },
   "source": [
    "## Method 3\n",
    "\n",
    "The third method referenced in D'Azzo and Houpis addresses a problem with lead compensator design that has so far not been addressed. That is that only the desired transient performance, and hence the desired location of the dominant closed-loop poles, is considered. The desired system gain is not specified. A method of achieving both gain and desired pole location has been proposed by Phillips and Harbour (1988) and is considered in the [Analytic Root Locus Design](../5/analrloc) section (**not assessed**)."
   ]
  },
  {
   "cell_type": "markdown",
   "metadata": {
    "slideshow": {
     "slide_type": "notes"
    }
   },
   "source": [
    "## References\n",
    "\n",
    "John J. D'Azzo and Constantne Houpis, (1975) *Linear Control System Analysis and Design (Conventional and Modern)*, McGraw & Hill, 1975 and later editions.\n",
    "\n",
    "Phillips and Harbor (1988), *Feedback Control Systems*, Prentice Hall."
   ]
  },
  {
   "cell_type": "markdown",
   "metadata": {
    "slideshow": {
     "slide_type": "notes"
    }
   },
   "source": [
    "## Resources\n",
    "\n",
    "An executable version of this document is available to download as a MATLAB Live Script file [cclead.mlx](matlab/cclead.mlx).\n",
    "\n",
    "The Simulink model which compares the results of the satellite attitude control system compensated with velocity feedback, P+D compensation *and* lead compensation is [lead_compensation.slx](matlab/lead_compensation.slx)."
   ]
  }
 ],
 "metadata": {
  "celltoolbar": "Slideshow",
  "kernelspec": {
   "display_name": "MATLAB",
   "language": "matlab",
   "name": "imatlab"
  },
  "language_info": {
   "codemirror_mode": "octave",
   "file_extension": ".m",
   "mimetype": "text/x-matlab",
   "name": "matlab",
   "nbconvert_exporter": "imatlab._exporter.MatlabExporter",
   "pygments_lexer": "matlab",
   "version": "9.9.0.1467703 (R2020b)"
  }
 },
 "nbformat": 4,
 "nbformat_minor": 2
}
