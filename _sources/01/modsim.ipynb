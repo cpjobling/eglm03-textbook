{
 "cells": [
  {
   "cell_type": "markdown",
   "metadata": {
    "slideshow": {
     "slide_type": "skip"
    }
   },
   "source": [
    "**Lecturer**\n",
    "\n",
    "Set up MATLAB"
   ]
  },
  {
   "cell_type": "code",
   "execution_count": 1,
   "metadata": {
    "slideshow": {
     "slide_type": "skip"
    }
   },
   "outputs": [
    {
     "name": "stdout",
     "output_type": "stream",
     "text": [
      "ans =\n",
      "    '/Users/eechris/code/src/github.com/cpjobling/eglm03-textbook/01/matlab'\n"
     ]
    }
   ],
   "source": [
    "cd matlab\n",
    "pwd\n",
    "clear all\n",
    "imatlab_export_fig('print-svg')  % Static svg figures.\n",
    "format compact"
   ]
  },
  {
   "cell_type": "markdown",
   "metadata": {
    "slideshow": {
     "slide_type": "slide"
    }
   },
   "source": [
    "# System Modelling and Simulation"
   ]
  },
  {
   "cell_type": "markdown",
   "metadata": {
    "slideshow": {
     "slide_type": "slide"
    }
   },
   "source": [
    "## Contents\n",
    "\n",
    "* Ordinary differential equations\n",
    "* Transfer functions\n",
    "* Integral models\n",
    "* Using Simulink\n",
    "* State-space models"
   ]
  },
  {
   "cell_type": "markdown",
   "metadata": {
    "slideshow": {
     "slide_type": "slide"
    }
   },
   "source": [
    "## Ordinary Differential Equations\n",
    "\n",
    "* Used to model a wide variety of so-called “lumped parameter” problems in engineering and technology.\n",
    "* Based on the fundamental laws of nature such as Ohm’s law, Newton’s laws of motion, thermodynamics, chemistry etc.\n",
    "* We will assume that you have or can derive such a model in your domain of interest."
   ]
  },
  {
   "cell_type": "markdown",
   "metadata": {
    "slideshow": {
     "slide_type": "subslide"
    }
   },
   "source": [
    "### An Example\n",
    "\n",
    "Spring Mass Damper System\n",
    "\n",
    "![Spring Mass Damper System (SMD)](images/smd.png)"
   ]
  },
  {
   "cell_type": "markdown",
   "metadata": {
    "slideshow": {
     "slide_type": "subslide"
    }
   },
   "source": [
    "### Free body diagram\n",
    "\n",
    "![Freebody diagram](images/freeb.png)"
   ]
  },
  {
   "cell_type": "markdown",
   "metadata": {
    "slideshow": {
     "slide_type": "subslide"
    }
   },
   "source": [
    "### Differential equation\n",
    "\n",
    "$$\\begin{eqnarray*}\n",
    "m\\ddot x &=& \\sum \\mathrm{forces} \\;\\mathrm{in}\\;\\mathrm{the}\\;x\\;\\mathrm{direction}\\\\\n",
    " &=& F - kx - b\\dot x\\\\\n",
    "F &=& m\\ddot x + kx + b\\dot x\n",
    "\\end{eqnarray*}$$"
   ]
  },
  {
   "cell_type": "markdown",
   "metadata": {
    "slideshow": {
     "slide_type": "notes"
    }
   },
   "source": [
    "### Challenge for Electrical Engineers\n",
    "\n",
    "Can you think of a simple electrical circuit that has a similar differential equation?\n",
    "\n",
    "*Clue*: it would have 1 resistor 1 capacitor and 1 inductor."
   ]
  },
  {
   "cell_type": "markdown",
   "metadata": {
    "slideshow": {
     "slide_type": "slide"
    }
   },
   "source": [
    "## Transfer functions"
   ]
  },
  {
   "cell_type": "markdown",
   "metadata": {
    "slideshow": {
     "slide_type": "subslide"
    }
   },
   "source": [
    "### Laplace transform\n",
    "\n",
    "* Allows us to represent a the differential equation representing a linear-time invariant (LTI) system as a rational polynomial in $s$.\n",
    "* This can be solved for $t$ using the inverse-Laplace transform (time domain).\n",
    "* Can substitute $s=j\\omega$ to determine the response to sinusoidal inputs (frequency domain)."
   ]
  },
  {
   "cell_type": "markdown",
   "metadata": {
    "slideshow": {
     "slide_type": "subslide"
    }
   },
   "source": [
    "### Transform version of the SMD\n",
    "\n",
    "Let:\n",
    "\n",
    "$$\\begin{eqnarray*}\n",
    "X(s) &=& \\mathcal{L}x(t)\\\\\n",
    "F(s) &=& \\mathcal{L}F(t)\n",
    "\\end{eqnarray*}$$"
   ]
  },
  {
   "cell_type": "markdown",
   "metadata": {
    "slideshow": {
     "slide_type": "fragment"
    }
   },
   "source": [
    "then\n",
    "\n",
    "$$F(s) = ms^2X(s) + bsX(s) + bX(s)$$"
   ]
  },
  {
   "cell_type": "markdown",
   "metadata": {
    "slideshow": {
     "slide_type": "subslide"
    }
   },
   "source": [
    "### Transfer function\n",
    "\n",
    "$$X(s) = \\frac{1}{ms^2 + bs + k}F(s)$$"
   ]
  },
  {
   "cell_type": "markdown",
   "metadata": {
    "slideshow": {
     "slide_type": "subslide"
    }
   },
   "source": [
    "### Block diagram\n",
    "\n",
    "![Block diagram](images/bd.png)"
   ]
  },
  {
   "cell_type": "markdown",
   "metadata": {
    "slideshow": {
     "slide_type": "subslide"
    }
   },
   "source": [
    "### MATLAB LTI Object"
   ]
  },
  {
   "cell_type": "code",
   "execution_count": 2,
   "metadata": {
    "slideshow": {
     "slide_type": "fragment"
    }
   },
   "outputs": [],
   "source": [
    "%%file matlab/smd_params.m\n",
    "%% SMD_PARAMS - define parameters for Spring Mass Damper (SMD) model\n",
    "m = 1; % kg\n",
    "b = 0.6; % Ns/m\n",
    "k = 5; % N/m"
   ]
  },
  {
   "cell_type": "code",
   "execution_count": 3,
   "metadata": {
    "slideshow": {
     "slide_type": "fragment"
    }
   },
   "outputs": [],
   "source": [
    "smd_params"
   ]
  },
  {
   "cell_type": "code",
   "execution_count": 4,
   "metadata": {
    "slideshow": {
     "slide_type": "fragment"
    }
   },
   "outputs": [
    {
     "name": "stdout",
     "output_type": "stream",
     "text": [
      "\n",
      "smd_tf =\n",
      " \n",
      "         1\n",
      "  ---------------\n",
      "  s^2 + 0.6 s + 5\n",
      " \n",
      "Continuous-time transfer function.\n",
      "\n"
     ]
    }
   ],
   "source": [
    "smd_tf = tf([1], [m b k])"
   ]
  },
  {
   "cell_type": "code",
   "execution_count": 5,
   "metadata": {
    "slideshow": {
     "slide_type": "subslide"
    }
   },
   "outputs": [
    {
     "data": {
      "image/svg+xml": [
       "<?xml version=\"1.0\"?>\n",
       "<!DOCTYPE svg PUBLIC '-//W3C//DTD SVG 1.0//EN'\n",
       "          'http://www.w3.org/TR/2001/REC-SVG-20010904/DTD/svg10.dtd'>\n",
       "<svg xmlns:xlink=\"http://www.w3.org/1999/xlink\" style=\"fill-opacity:1; color-rendering:auto; color-interpolation:auto; text-rendering:auto; stroke:black; stroke-linecap:square; stroke-miterlimit:10; shape-rendering:auto; stroke-opacity:1; fill:black; stroke-dasharray:none; font-weight:normal; stroke-width:1; font-family:'Dialog'; font-style:normal; stroke-linejoin:miter; font-size:12px; stroke-dashoffset:0; image-rendering:auto;\" width=\"560\" height=\"420\" xmlns=\"http://www.w3.org/2000/svg\"\n",
       "><!--Generated by the Batik Graphics2D SVG Generator--><defs id=\"genericDefs\"\n",
       "  /><g\n",
       "  ><defs id=\"defs1\"\n",
       "    ><clipPath clipPathUnits=\"userSpaceOnUse\" id=\"clipPath1\"\n",
       "      ><path d=\"M0 0 L560 0 L560 420 L0 420 L0 0 Z\"\n",
       "      /></clipPath\n",
       "    ></defs\n",
       "    ><g style=\"fill:white; stroke:white;\"\n",
       "    ><rect x=\"0\" y=\"0\" width=\"560\" style=\"clip-path:url(#clipPath1); stroke:none;\" height=\"420\"\n",
       "    /></g\n",
       "    ><g\n",
       "    ><image x=\"0\" y=\"0\" width=\"560\" xlink:href=\"data:image/png;base64,iVBORw0KGgoAAAANSUhEUgAAAjAAAAGkCAIAAACgjIjwAAAqKklEQVR42u2dC3BU\n",
       "1f2A8cH4gioCamvxT0erouJUS4uUItqWcdr6qtYX6lAfJVZICARYkhKyQ4jGJjUm\n",
       "FioGU0ga7EarAiU+pgRkosQ4iaZSUkPwEW0EQyBgQ5LNw//PHLmu2RA2u/fec7L5\n",
       "vslkTm42d8/u7+Z8e875nXOHfA4AAGAAQ3gLAAAAIQEAACAkAABASAAAAAgJAAAQ\n",
       "EgAAAEICAACEBAAAgJAAAAAhAQAAICQAAEBIAAAACAkAABASAAAAQgIAAIQEAACA\n",
       "kAAAACEBAAAgJAAAQEgAAAAICQAAEBIAAABCAgAAhAQAAICQAAAAIQEAACAkAABA\n",
       "SAAAAAgJAAAQEgAAAEICAACEBDB4aWpq2rFjx759+3grABASgB46Ojpmzpx53HHH\n",
       "DRky5Jhjjrn55psPHTrU2tq6cOHCoqKiME64bt26IQGMGjUqNTWV9xkAIQEchYKC\n",
       "AtHGTTfd9Pzzz//qV7+Sclpa2sGDB6Vw1113hS2kyZMnp6enezyekSNHyo9vvvkm\n",
       "bzUAQgLoC9GPCGP27Nl79+799NNP//CHP2zcuPH888+Xg8OHD7/tttvkMY899th3\n",
       "vvOdU0899ZZbbtm/f39ubu4FF1wwY8YMOXLeeef97W9/CxZSQkKC+vG+++6TH+Wc\n",
       "wef5+OOPr7766hNPPFGe6M4775Se2ZHOLMflx5NOOmnSpElvvPGGOiKPjI2NPf30\n",
       "06UTVlhYGHy24Gck3ICQAMylpqZmxIgR4oxjjz32+9///sMPP9zW1rZmzRo5MmXK\n",
       "lE2bNj377LNSnjlz5iOPPDJ06NA77rhDHiNHJkyYIFYQdcnBurq6HkKaOnVqZmZm\n",
       "UlKS2GL06NEig+DzLFq0SI785S9/WbZs2SmnnCJ9tV7PXFJSIgenTZv25JNPnnPO\n",
       "OXK2pqYm9chLL7108eLFIqExY8YEny34GQk3ICQAo9mzZ09GRsZPf/pTabWlBf/t\n",
       "b38bOGR3++23S/n++++Xln3kyJHS+isZiKvkt2vXrpWyCKyHkE444QQxhzrhrbfe\n",
       "2ut5cnJy5MgZZ5whHRrp4nR0dPR65rlz50qhtrZWDv7pT3+S8ksvvaQeqWa5RJzH\n",
       "HXdc8NmCn5FYA0ICMBdp7n/yk59In0PKH374obTaZ599dqCQbrzxRinHx8cnHkaN\n",
       "8r322muWflauXNlDSGrITs5z+eWXy4/bt28PPk97e/vLL788e/Zs6ffIr6RnozTT\n",
       "48yzZs2SwkcffSQHn3rqKSnLr9Qjt23bJgevu+66Y445Rgo9ztbrMxJxQEgAhiLN\n",
       "tLTav/zlL5999llpxKVl/9nPfva///1PDo4fP37Lli3Z2dlSXrBggXRcfvSjH02f\n",
       "Pl3JQDRQWlp61VVXSbmqqqpXIQlLliyRH4uLi4PPc/fdd3/jG98QV7344ovyq7i4\n",
       "uF7PLN0g1W+Tg5dddtnJJ5/8ySefBAsp+GzBz0i4ASEBmEtLS4v0hFTatzBx4kQ1\n",
       "OHbNNdeoH/1+/4wZM4499lhp9C+99NL3339fyUB+Jd+PP/74lJSUwBOuX79ejs+f\n",
       "P1/9mJ+fLz8++uijwecReXz3u99VzyuFmpqaI51ZzqZG/0aNGiXilCOBQrr++uvl\n",
       "nMFnC35Gwg0ICcB0pEv07rvv9lgYK65qa2tT5UOHDu3du1eVLRk0NjaqZLbQCTyP\n",
       "0NXVVd+NFPo+s9Tk448/Vg87Ej3O1uszAiAkgOghPT1duh1lZWUD6MwACAkAAAAh\n",
       "AQAAQgIAAEBIAACAkAAAAAahkLq6ugoLCz0ej9frra6uto77/f5Vq1YtXLgwNTV1\n",
       "165d6mB6erq3m7y8PEIOAICQ7KSysjIlJaWlpaWioiIxMdE6/uqrr+bk5HR0dGzc\n",
       "uDEzM/Pz7tuvLV26tLUb0RUhBwBASHbi8/mKi4tVOSEhobGx0RKV6hiVl5c/+uij\n",
       "Uti+fXt2dnZpaan8SkRFyAEAEJKd5OXliWNU2ev1Bt4CQFi5cuWDDz6obh5TUlKS\n",
       "lpYm31esWJGVldXjPDMBAAYNCMkRCgoKxDGqnJSUVF9fr8oNDQ1qx5c9e/bMmTOn\n",
       "tbXV+pPOzk45cuDAgR5CMuQVGXWtUBkqQ2WirzIIySnERjk5OVIQFcXFxfn9fvGQ\n",
       "9JNyc3M3bNggx0U8sbGxzc3NPp9PqUtcJY+0NijjWqEyVIbKICSEZAPilYyMDI/H\n",
       "Ex8fr8buamtrY2JixE+Lu1Eb78vx3bt3Jycnp6amyoPLy8u5VqgMlaEyCAkhmYj5\n",
       "EQIAQEhECACA5g4hESEAAIREhAAAaO4QEhECAEBIRAgAgOYOIREhAACERIQAAGju\n",
       "EBIRAgCguUNICAkAaO4QEhECAKC5Q0gICQBo7hASEQIAoLlDSAgJAGjuENJgjdDY\n",
       "Za/JF/8JAICQEJLOCP2lvP43T+/wvvSefOefAQAQEkLSFqGrlldurt3/fmOLFERO\n",
       "/D8AAEJCSBoiJCoSD6myOGnsstfkO/8SAICQEJLbEVLdox5H+JcAAISEkFyNkOoS\n",
       "9ThIdgMAICSE5HaEfvP0juBJo+A+EwAAQkJIzkao184QQgIAhISQ3I7QkHmbgg96\n",
       "X3pPvvivAACEhJBcipBafhR8vNeJJQAAhISQEBIA0NwhpKiOUK8ZDQqmkQAAISEk\n",
       "9yLUxxpYppEAACEhJPci1GtGgyJw+wYAAISEkLQJiWkkAEBICMmlCB0po8GCTe0A\n",
       "ACEhJCOERF4DACAkhORGhPpIsVOQ1wAACAkhuRGho47IkdcAAAgJIbkRoT4yGgKl\n",
       "xf8GACAkhORghEJMoiOvAQAQEkJyNkJHzWhQkNcAAAgJITkboRATFo6a+AAAgJCI\n",
       "UESEaBoS7QAAISEkZyMU4uQQiXYAgJCiWUhdXV2FhYUej8fr9VZXV1vH/X7/qlWr\n",
       "Fi5cmJqaumvXLkcjFEqK3edsIAQACCm6hVRZWZmSktLS0lJRUZGYmGgdf/XVV3Ny\n",
       "cjo6OjZu3JiZmel0DwkhAQBCGuxC8vl8xcXFqpyQkNDY2GiJSnWMysvLH330Ueci\n",
       "FGKKnaUuMr8BACFFp5Dy8vJKS0tV2ev11tXVBf525cqVDz744BtvvBEcIQs3hUTm\n",
       "NwC45iG7WjmEFCoFBQUlJSWqnJSUVF//ZbZbQ0NDW1ubFPbs2TNnzpzW1laHPjL0\n",
       "K3eOzG8AoIcUtUISG+Xk5EhBVBQXF+f3+8VD0k/Kzc3dsGGDHD9w4EBsbGxzc7ND\n",
       "EeqXY8j8BgCEFLVCEv1kZGR4PJ74+Hg1dldbWxsTEyN+WtzNggULNm3a5FyE+iUk\n",
       "Mr8BACFFrZC0R6hfeQok2gEAQkJICAkAaO4QUlRHKMRVseEJDAAAIREhp3o8ZH4D\n",
       "AEJCSPZHKIwkBTK/AQAhIST7I9SvVbEKMr8BACEhJCOEROY3ACAkhGR/hMIYf0NI\n",
       "AICQEJIRQiLzGwAQEkKyP0LhpcwhJABASAjJ5giFt6iIITsAQEgIyeYI9XdVrILM\n",
       "bwBASAjJCCGR+Q0ACAkh2RmhsPPlEBIAICSEZGeEwliEFKHJAAAQEhGyU0hkfgMA\n",
       "QkJIdkYo7JE3hAQACAkh2RmhSJLlwsuGAABASESoFyK5kQQ3oQAAhISQbItQJLfa\n",
       "Q0gAgJAQkm0RimTYjbWxAICQEJIRQmIpEgAgJIRkW4QiyZQLO2UcAAAhEaGeRGIU\n",
       "1sYCAEJCSEYIiaVIAICQEJI9EYpwEgghAQBCQkj2RCjyNDnWxgIAQkJIRgiJpUgA\n",
       "gJAQkg0RilwnCAkAEBJCsiFCkWzTYFcfCwAAIREhG4TE2lgAQEgIyYYIRZ6SwFIk\n",
       "AEBICAkhAQDNHUKKigjZsoqIpUgAgJAQUqQRsqVzg5AAACEhpEgjZNfWqJFnRgAA\n",
       "ICSEZIOQWIoEAAgJIUUUIbsytk0WklRsyLxNUkPpxpGeDoCQEJKhEbJrTauxS5HU\n",
       "/JaSpZSlkkx3ASAkhPQ1urq6CgsLPR6P1+utrq62jvv9/jVr1sjx1NTUmpoadTA9\n",
       "Pd3bTV5eHkLqb9etR8XkCPtKACAkhPQVlZWVKSkpLS0tFRUViYmJ1vEtW7ZkZma2\n",
       "t7eXlZUtXrxYjjQ1NS1durS1G9GVmUJSDb2BNgquFTmBAAgJIX0Nn89XXFysygkJ\n",
       "CY2Njar8yiuvVFVVKQ/FxsZKYfv27dnZ2aWlpeKwjo4OeyNkY3acmUI6koa57ToA\n",
       "QkJIX5KXlyeOUWWv11tXVxf424MHD4qEioqKpFxSUpKWlibfV6xYkZWVFRwhC71C\n",
       "Mq3b0UcCYeDEEgCY76FIWjmEdHQKCgrEMaqclJRUX//VuJmIKjk5eevWrT3+pLOz\n",
       "c86cOQcOHLDxI4ON99Yz7TZ9fbtWdMV2RwD0kBDS56rfk5OTIwVRUVxcnN/vb2tr\n",
       "k37Stm3bMjMzm5ubrUf6fD6lroaGBnmkPMxMIRm1NjaUHShYOwWAkBDSF4hXMjIy\n",
       "PB5PfHy8Grurra2NiYnJysqaO3duUjdpaWlyfPfu3dJhSk1NlQeXl5fbGCF7p/eN\n",
       "at9DSdbgrhkACAkhmRIhe3fpNkpIoXTX2KQcACEhJFMiZNe+QaF3Stwh9NfFqB0A\n",
       "QkJIUSgkc0bAQlcjo3YACAkhGREhe5tje/UW0TURcqYGi2QBEBJCikIhmTMl0y8v\n",
       "MmoHgJAQkv4I2TvrY0hvo78vilE7AISEkBCSI/R3ORSjdgAICSHpj5DtS1lN2Kwh\n",
       "jDowageAkBBStAlJe8seXmIFo3YACAkhaY6Q7R0a7UIKTy2skAVASAgp2oSkfW1s\n",
       "eBVgGgkAISEknRFyohXWPvYVtmKZRgJASAhJW4ScGKfSK6RIXpE5q3oBACENugg5\n",
       "0QTrnYyJ5BUxageAkBASQrKNCGewGLUDQEgIKXqEpLefEWEWO8nfAAgJIemJkEPt\n",
       "r8a1sRE+NcnfAAgJIemJkEMp2rpuZB55h49pJACEhJCiSki6ZmJsGX6khwSAkBCS\n",
       "hgg51PjqEpItnRumkQAQEkLSECGHhqd0tem2zF2ZPI2kRhTlS2ooX4gTaO4QEkIy\n",
       "UUh2Tf8YO40kb2mPiqkj5KkDzR1CioYIOZQOp6WTYWMKu4GrkUQ8vb460SeTXkBz\n",
       "h5AQkllCsjFBw7RppKOOzjF8BzR3CGlgR8i5sSkto142CsmoaSQxzVEro95wnAQ0\n",
       "dwhpoEbI0WbXfSHZuPjJnGkkiVGINVFjd8wnAc0dQkJIDuoh1IvA1uFHExp3eQPl\n",
       "RfWrGrqWJAMgJIQUUYQcvduCyw267a/FhGmkMAYh5fHkOADNHUJCSDqFZLs/tE8j\n",
       "hT1sKNXWe8deAIREhMzqBLh8I3Pbn077NFLYRlc1Z+AOaO4Q0kCKkKPOcHnIy4km\n",
       "WOM0UoT9MwbugOYOISGkr7WJbt4O3IkFVRqnkSJ3IQN3QHOHkBCSPZ/xDZGfln6G\n",
       "LW8d99EAmjuENJAi5OiQlJsNonNC0tKm2xUX6d652UkN8aqQWkl3Vl6j1E19SVnt\n",
       "GMvCXkBIgzdCjk59uykk57p67k8j2dizNGqprKpM39ZRe8WaJlFASAhpwAvpcxdv\n",
       "ZO7cC3F/GsleuRqS3aBME8rrkjiqOtNbAoQ0uCLktDBc+3ju3AtxfzWS7a9Fb3aD\n",
       "6hj11y5qZI85MEBICGmACcnRsUGXUwMcmgzT1bJL9Pu79VHkMgOaO4Q08CLkQlPr\n",
       "ztpYp/PL3ZyGcWjsUeUOuH9ZRn7zQKurZNSmsSpbRC4M0a36khqq7+pmvi6vCqe5\n",
       "Q0hO0dXVVVhY6PF4vF5vdXW1ddzv969Zs0aOp6am1tTURB4hFwaj3JmAcVpIrk0j\n",
       "OfdC3N+7QW1SbuPm6yZ0lVR+oMrLkGAdyZFyXIVSJXEgJ4Q0gKmsrExJSWlpaamo\n",
       "qEhMTLSOb9myJTMzs729vaysbPHixZFHyIWFq+6sjXX6H961aSRHu2JuZjcoG9n+\n",
       "WlRXyeUtkaw89fA+l6gcjUA5GdXPs7p6wV+qV23meClCcg+fz1dcXKzKCQkJjY2N\n",
       "qvzKK69UVVVJoampKTY2dkAIyZ2m3OlGyrVpJEefxbUUcIdsFOgk17R61Dz1MOSk\n",
       "xUyBY4zWoKIS0pE+zMlx+VJ/aAm1x5/r6vkhpIhYu3btDTfc8NRTT+Xk5Bw4cKDv\n",
       "B+fl5ZWWln55GXm9dXV1gb89ePBgdnZ2UVFRj78aPnz4zMOMHTv2qzbuyGVLSCE+\n",
       "PoyyasqdO/+XsQ9IzXDouaym3LnXovp5jr9X9xc6/V5ZNnLo/Na9cZ17r5T2xi54\n",
       "ztKq7f8XX8R6wXOWmex9f6TaX/TqbnnU8sfYO5ZYY4y2PNcX9b9jyVeiur/QEtWQ\n",
       "STPCvz4vvsbqt0n9LQuqFzI8fv235jw9/Nep35+dg5DC5I9//OMFF1xw7bXXpqSk\n",
       "SI9nwoQJfT++oKCgpKRElZOSkurrv/oMIqJKTk7eunWrLR8ZXJgacadv4cJqJxfe\n",
       "K3cGoxwdhAnjdoKRDKM5cWlZo3OujQcGzzb19w1UJ1H3ubcMJD+6nAaiRBjcqbKM\n",
       "0uuXeoCqcyj9NnpIkXL55ZdXVFRkZmaKkOTHc88997///W8fjxcbSUdKCqKiuLg4\n",
       "v9/f1tYm/aRt27bJSZqbm+2KkDtzrU7bwp1pKqfN6tpGtM4N3Llmox5BkfctcpEH\n",
       "ThTpbS6CB9asNjrwq8cYmrGTPQzZGcfkyZM3b96shPTZZ5+NGjXKmhbqFdFPRkaG\n",
       "x+OJj49XY3e1tbUxMTFZWVlz585N6iYtLW2gCMnpD/6uNeWOCsnNRCyHshu07FFk\n",
       "dZXCbo4jP4ML8QoW0ueDG4QUPuvXrx89evSECROuuOKK8ePH33333YZEyJ0WxOln\n",
       "ca0pd/SFuLbHkvVa7H3TtG8GYW2CF3qMvpwoYkdXhDSohCS8/fbbycnJcXFxzzzz\n",
       "TFdX16ASktPCcC0P2LmMQZdvHPW53SOQamRJ+39Zjxy2I111aq5FeYib6iKkwSgk\n",
       "MyPkTlPu9AiDa30L56aRtNxu/IssKTtejpqLNup/wcoUCJxOt2bO3Z/tB4RkBOPG\n",
       "jTujN46a+R1NQnL647+bg10O9Sl1NeiR3y1JTa3TPgJCGgBC2rVr17vvvhsfHz9l\n",
       "ypTS0tLt27fPnz//sssu6+zsNCFC7jTljq6NdXmwy4nensZ9ZSLcjwcbAUIaSEJS\n",
       "XHzxxaIi68fzzz+/x1pXhDRQhOTEa3E5nSHYSeHtqoCNACENSCFdccUVGzZsUOXG\n",
       "xsYRI0Y0NDRoj5Br2+E4+kQudy9sfy3upzP0Sn+dpPICaBYBIQ08IeXn5w8bNmzG\n",
       "jBmxsbH/93//N336dBMi5OZ955zrBLifDmDvNJIh9xcPfeyOGxQBQhrYQhJef/31\n",
       "xMTEuXPn+nw+JyaQwoiQm5/NneshuT/eZe/7pne8Ltg0R33tpt2XCBASQuofTzzx\n",
       "xIKv09LSoj1CbgrJuX6A+w26jaN2pt0mR16aSpXu0QGylp0yTAcIacALKTc3V+33\n",
       "M3/+/O9973uTJ09ua2sbVEJyqOXVNQFjV7usZflRKFqytjCwvlhDCggpSoQUiPSN\n",
       "zjnnnCNtkOpmhNzcEcuh59IlJFtejiHpDAAIafAKqb29/ayzzgq+Abn7EXJ5N08n\n",
       "Gl9dQ162jNphIwCEpIHZs2dPPozY6KKLLhItDSohOZTRp3HIK/JZMXPSGQAQ0iAS\n",
       "0urVq5955pl/dLN58+ZNmzaZICQ3E44dWoqkUUgRjtqZls4AgJCiX0hNTU3vvffe\n",
       "xIkT161b9143O3fuHDFihAl72bncmjvRIdDYyYhQsWamMwAgpGgW0uOPPy76Of74\n",
       "44cPHz7iMFOmTHHiDhSGC8n2p9OeFBB2F5N0BgCEpI2bbrqpqqrKtAi5LCTbRwi1\n",
       "N+thV8CQ3RkAENJgFJKZEXJ5vMv2WRPt0zDhjdq5uWMTAM0dQvqKq6++euPGjffe\n",
       "e+/4r3Pw4MHBJiTblyKZ0M8Iow6kMwAgJD1s27bt008/raqq2vp1tGfZubbVt4Xt\n",
       "I2yG5AX060WJvVx+2wEQEkL6kiuvvHJ8b2jvIbk/cGT7MxqyjkeEFHonidkjAISk\n",
       "jbKyMtUl2rJlS35+/sqVK1988UUTekjuZwTY2yczJ1Et9JrII5k9AkBImqmtrR03\n",
       "btwpp5wyevToYcOGrVmzRnuEEJKNhNjv4cYNAAhJPzfccENsbKza4fvll18ePny4\n",
       "9ttPaGnQbZz1MSo1IJTRSLpHAAjJCC688MKdO3daP1588cXV1dV6I+TmVt/97UkM\n",
       "OCGF8tKGzNtE9wgAIennnnvuSU1NVeXy8vIxY8Zovx+Slgbdxic1cOudPnqcoitS\n",
       "vQEQkhHcddddQ4YMOeecc8aPH3/ssceeccYZ3+/m7bffHlRCsrFbZuBW2eqmdr3a\n",
       "yP3OKABCQki9U1FR8c/eaGpqGlRCsnHiysz5GOWkwK6b1JNt6wAQEhE6SoPu/pSG\n",
       "jUuRjG3llZPkZcp37ngEgJCMo6SkZOrUqZcFoH1hrJY5GLsyvw3ffYfkBQCEZK6Q\n",
       "JkyYsHDhwk2bNpUcRvvCWIQEAAhpMApJukRvvfWWURHSNZpki5C4ux0AQkJIYbJ6\n",
       "9eof//jHPp+v+DDae0i6hGTLHBJzMwAICSGF/96NGDFi4sSJkw7z2WefaYyQ+1t9\n",
       "W0SejMDtVgEAIYXPuHHj/vWvf5kTIY33iIt8RQ5CAgCEFD733ntvfn4+QrLlqclo\n",
       "AACEFD6zZ88eMmTIhAkTJh9G75Cdxk5G5EIiowEAEFL4bNu27R8BLF++/NChQ4NT\n",
       "SJFPX5HRAAAIKVKkV5Sbmztx4kTpLdm7aVB/I6Rlq29bujga0zEAACFFSQ/pvvvu\n",
       "GzZs2MiRI5csWVJTUxP4266ursLCQo/H4/V6g29LUV5evnbtWuvH9PR0bzd5eXkD\n",
       "VEiR7FpERgMAIKQwWb58+SWXXDJixAh5+5KSkq699trgx1RWVqakpLS0tFRUVCQm\n",
       "JlrH9+/fLz2qWbNmrV69Wh2RftXSpUtbu/H7/WFHSG9eQCQ61KtSAEBIA1hIo0eP\n",
       "vuiii958800pr1u37rrrrgt+jFowq8oJCQmNjY2qLIqqqqoqKiqyhLR9+/bs7OzS\n",
       "0lJxWEdHR3CELKJVSKTYAQxyD4XYyiGkXhCFxMfHjxw58tJLL/31r3/dq5Dy8vLE\n",
       "MV821l5vXV1d4G/Ly8stIZWUlKSlpcn3FStWZGVlhf2RQctW3xaRJNqRYgcA9JAi\n",
       "oq2tTbpB06ZNGzp06C9+8Qspd3Z2Wr8tKCgQx6hyUlJSfX39kYRkIX8+Z86cAwcO\n",
       "hBchvc16JIkJpNgBAEKyqS1+//0lS5aMGTMmMMtObJSTkyMFUVFcXJzf7xeBWf2k\n",
       "QCGJyZS6Ghoa5JE97oM+UIQUtlc0rucFAIQUbUKy+jc9+k8ZGRkejyc+Pl6N3dXW\n",
       "1sbExAQLaffu3cnJyampqfJgOR52hLT3M8IbMyTFDgAQUrRFSLuQwstNIKMBABBS\n",
       "VEXIhLWl4SXa6c3FAACEhJCiUEjhzQaR0QAACCmqImRCakAYUiSjAQAQUrRFyJDU\n",
       "gP52d8hoAACEhJAcob8TQmQ0AABCQkhGCIk9GgAAIUVbhAzZn7S/1SCjAQAQUrRF\n",
       "yJCxr34lKTCBBAAICSE5SOiJdtx1AgAQUhRGyJzlpaFPC5HRAAAICSE5SOg1YQIJ\n",
       "ABBSFEbInHS1EAfiWBILAAgJITlLiPs1kNEAAAgpOiNk1PBXKJVhAgkAEBJCcpxQ\n",
       "ppFYEgsACCk6I6R9q+9AQplGIqMBABBSdEbIqASBo04jMYEEAAgJIbkVtj47QNyU\n",
       "DwAQUnRGyMAOR9/KYbwOABASQnKJPqaRGK8DAIQUtREycFO4Pta9kl8HAAgpaiNk\n",
       "5pqeXsXDBg0AgJAQktv0OjTHelgAQEjRHCEzk9akexRcMcbrAAAhISQNSK0CFyTJ\n",
       "j6QzAABCiuYImdztEFmqhAv5zuwRACAkhKQNtWuDfHFzWABASNEfIfPXmbIvAwAg\n",
       "JIQEAICQEJIrEQrxhngAAAgJITkbIZaaAgBCQkhGRIit4QAAISEkhAQAgJCI0GEM\n",
       "3FkVAAAhISQAAISEkDRFiO1KAQAhISSEBACAkIjQYYzdWRUAACEZSldXV2Fhocfj\n",
       "8Xq91dXVPX5bXl6+du3aMCLEDR0AACEhpP5RWVmZkpLS0tJSUVGRmJhoHd+/f39u\n",
       "bu6sWbNWr16NkAAAISEkx/H5fMXFxaqckJDQ2NioyqKoqqqqoqKiIwnJovc3iI3s\n",
       "AGCAe6jvVg4h2U9eXl5paakqe73eurq6wN+Wl5eH10NCSABADwkh9Y+CgoKSkhJV\n",
       "TkpKqq+vj1xI7KwKAAgJIfUbsVFOTo4UREVxcXF+v7+trc3qJ4UnJHZWBQCEhJD6\n",
       "jegnIyPD4/HEx8ersbva2tqYmBiEBACAkAZ8hNhZFQAQEkJCSAAACIkIHYadVQEA\n",
       "ISEkIyLERnYAgJAQEkICAEBIRAghAQBCQkhGRYitvgEAISEkIyLEzqoAgJAQEkIC\n",
       "AEBIRMh6d9hZFQAQEkJCSAAACIkIfQFbfQMAQkJIRkSInVUBACEhJCMixEZ2AICQ\n",
       "EBJCAgBASEQIIQEAQkJIRkWIrb4BACEhJCMixEZ2AICQEJIpQuIKBgCEhJD0R4ic\n",
       "bwBASAjJiAixKhYAEBJCMiJC7BsEAAgJISEkAACERIS6YSM7AEBICMmICLGRHQAg\n",
       "JIRkRITYpgEAEBJCQkgAAAiJCB2GfYMAACEhJCMixL5BAICQEBJCAgBASEToMFct\n",
       "r9xcu58rGAAQEkLSHKGxy157v7GFKxgAEBJCQkgAAAiJCLFvEAAgJIRkQoTYNwgA\n",
       "EBJCMiJC7BsEAAgJIRkRIbZpAACEhJAQEgAAQiJCh2HfIABASAgpVLq6ugoLCz0e\n",
       "j9frra6u7vt4enq6t5u8vLxQIsQ2DQCAkBBSqFRWVqakpLS0tFRUVCQmJvZxvKmp\n",
       "aenSpa3d+P1+hAQACAkh2YnP5ysuLlblhISExsbGIx3fvn17dnZ2aWmpuKqjoyM4\n",
       "QhbWQfYNAoBo8lBwK4eQ7CQvL08co8per7euru5Ix0tKStLS0uT7ihUrsrKyQvnI\n",
       "wDYNAEAPCSGFSkFBgThGlZOSkurr6/s+LnR2ds6ZM+fAgQMICQAQEkKyDbFOTk6O\n",
       "FEQ5cXFxfr+/ra1N9Yd6HPf5fEpRDQ0NckQedtQIsW8QACAkhBQq4pWMjAyPxxMf\n",
       "H6/G6Gpra2NiYoKP7969Ozk5OTU1VQ6Wl5eHEiGEBAAICSHpjxD7BgEAQkJIRkSI\n",
       "bRoAACEhJIQEAICQiBBCAgCEhJCMihAb2QEAQkJIRkSIfYMAACEhJCMixL5BAICQ\n",
       "EJIREWKbBgBASAgJIQEAICQiZL0jbNMAAAgJIWmPkPSNpIfEhQsACAkhaY4Qi5AA\n",
       "ACEhJIQEAICQiNBhWIQEAAgJISEkAACERIQOQ843ACAkhGREhMj5BgCEhJAQEgAA\n",
       "QiJC3XCvWABASAjJiAiR8w0ACAkhGREh7oQEAAgJIRkRIXK+AQAhISQjIkTONwAg\n",
       "JISEkAAAEBIRst4Lcr4BACEhJO0R4sYTAICQEJIRESLnGwAQEkJCSAAACAkhHY4Q\n",
       "Od8AgJAQEkICAEBICOlwhMj5BgCEhJCMiBA53wCAkBASQgIAQEgI6XCEuPEEACAk\n",
       "hKQ/QmQ0AABCQkhGRIjxOgBASAhJf4RYEgsACAkhGREhEr4BACEhJP1c97vFhqQz\n",
       "GHWtUBkqQ2WirzIIST9dXV2FhYUej8fr9VZXV/f47fmxqwxJZ+BfiMpQGSqDkKKc\n",
       "ysrKlJSUlpaWioqKxMTEHr8dHr/ekPE6/oWoDJWhMggpyvH5fMXFxaqckJDQ2NjY\n",
       "o4c0EwBgcICQNJOXl1daWqrKXq+3rq7ucwAAQEjuU1BQUFJSospJSUn19SyABQBA\n",
       "SDoQG+Xk5EhBVBQXF+f3+4k6AABC0kBbW1tGRobH44mPj7fG7gAAACEBAAAgJAAA\n",
       "QEgAAAAIqSd9b9/gMn6/f82aNVKZ1NTUmpoaE94fqZJUZufOndprsnXr1pSUlLS0\n",
       "tKqqKr016ezszM/PX7hwodTn3//+t65qlJeXr1271pDLOLAy2i/jwMpov4x7VEbv\n",
       "ZRxYGUMuY4T0NfrevsFltmzZkpmZ2d7eXlZWtnjxYhPeH2nm4uLi3n33Xb3V+PDD\n",
       "D6WB27dvnzRwS5Ys0VuZt99+e+nSpdLGvf7668nJye5XYP/+/bm5ubNmzVq9erX2\n",
       "yzi4Mhov4+DKaLyMgyuj8TIOroz2yxgh9ULf2ze4zCuvvKI+NzU1NcXGxmp/c+SS\n",
       "Xbly5RNPPKFdSC+88MLGjRvl3/g///lPQ0OD3srs2LHj4YcflgZXWn/53O1+BUQ8\n",
       "cp0UFRVZjYvGyzi4Mhov4+DKaLyMgyuj8TIOroz2yxgh9YKB2zccPHgwOztbLh29\n",
       "1ZDWZNmyZc3NzSYIadWqVYsWLZJmVyrzyCOPdHZ2aqyMvCfy8Xb+/PkPPPCAtdRa\n",
       "y/CL1bhov4wDK6P9Mg6sjPbLOLAy2i/jwMoYchkjpK9h2vYN0qxI93nr1q3a3xn5\n",
       "ULlmzZrXXnvtoYceeu655z777DO9nxueeeYZVV68eLHezw3r1q2Td6arq2vv3r3x\n",
       "8fHS8moXkvbLuIeQ9F7GgZXRfhn3+Nyg9zIOrIwhlzFC+hpGbd+wbdu2zMxM+eRi\n",
       "wjvz1ltvbelGuvPyOVfv9bp582b5UKk+1iUkJMi/kMbKyCfc/Px8KRw6dGjevHm6\n",
       "hnkDGxftl3FgZbRfxoGV0X4ZB1ZG+2UcWBlDLmOE9DWM2r4hKytr7ty5Sd2kpaUZ\n",
       "8hbJZ0ztKX/t7e3Lly9PSUmRSL300kt6K7Nv376lS5dKjBYsWLBhwwYTml3tl3Fg\n",
       "ZbRfxsHjhxov48DKaL+MAytjyGWMkHpBPrB0dHR8DmbT2tqqd/aoxzUj7QuXMXAZ\n",
       "IyQAAIhaEBIAACAkAAAAhATgNBp3pWptbd21axchAIQEMJBobm4eEsS8efOmTJkS\n",
       "yWkrKysjPEOIvPHGGxdeeGGPg36///zzz//oo4+ILyAkgIFEVzc5OTlTp05V5b17\n",
       "91ZUVERyzmuuueaFF15wR0jinuDj6enpDzzwAMEFhAQw8Hj88cevuuoqVf7nP/95\n",
       "2223rVu37pZbbpGOzrBhw2bMmLFo0aIRI0Z861vfevHFF9XDMjIyzj777LPOOuv3\n",
       "v/994KlqamrkYG1t7cSJE0888cRvf/vbhYWFR/qTpUuXyjnlKW6//fZDhw4pl4wZ\n",
       "M+a0006TOuzbt0+qMX36dJHlCSecIJWRI6JM+fMzzzxTHnPTTTcpIe3atSvw6cSp\n",
       "J598cmtrK5EFhAQwgIUkDpCmv6CgQNr0srKyTz75RAmjsbExKSnp2muvlcds3Ljx\n",
       "vPPO++CDD+rq6i666CKfz2ed6u9//7v8+YIFC2688caOjo7nn39+/Pjxvf6J9KJE\n",
       "Tu+88059fb08JjMzU5565MiRb731lohn2rRp99xzj1Rj6NChr776qjjmkksuefLJ\n",
       "J4uKir75zW/u2LGjoaFB6qyEFPx0ch75KyILCAkgGoR0zTXXqCMXXnih2jhOZHP1\n",
       "1VdL4Xe/+92ECRPmdzNp0qS7777bOtWyZcvkRznJSSeddMcdd4hC1IYxwX8iR6Ss\n",
       "/upANw888MC8efPUka1bt4qupBrqGdUZHnrooZkzZ4p+1JGXX35ZCSn46eS5/vrX\n",
       "vxJZQEgA0SAk1RlSQnr99del8Nxzzyk93H///T//+c//dJh//OMf1qmWLFkiYpDC\n",
       "zp07H3vssSuvvHL06NHS4wn+k9/85jfWPXI++uij2tpaecyiRYvUkfLy8tNPPz2w\n",
       "GkpI9913n3TU1BHpA1lzSD2e7gc/+MGzzz5LZAEhAUS5kPLz8y+77DLp03R2dt58\n",
       "882rVq2yTvXUU09JB0jk4fV6P+++KcPQoUPfeeed4D/585//PG7cODnS3Nws/nj6\n",
       "6adXr149duzYPXv2yGOkC3XjjTcGC0kec+6550o3qKur6/bbb1dCCn460dKOHTuI\n",
       "LCAkgAGGdFksIa1fv37q1Kliguuuu+5IQuro6LjnnntOO+20M8888/rrrw/cbPu9\n",
       "994bNWrUm2++OWbMGLHLyJEjp0+fLoIJ/pO2trZbb7311FNPPeOMM+68886ObmbO\n",
       "nKmO/PCHP/zggw8Cq/Hggw+qG6zNmDFj+PDh8hgRpxJSRUVF4NN9+umnJ510kplb\n",
       "lgEgJAD7aWlp6fV2O9OmTfP5fCKhTz75pMcDgv9Eukcqv86itbV1//79fT+1/FWP\n",
       "8wQ+nXSkEhISCBAgJIDBTllZ2aRJk3Q9u3S8pEun9w5SAAgJwBR27typ66nb29s/\n",
       "/PBDQgAICQAAACEBAABCAgAAQEgAAICQAAAAEBIAACAkAAAAhAQAAAgJAAAAIQEA\n",
       "AEICAABASAAAgJAAAAAQEgAAICQAAACEBAAAg4v/B3Kw2gvYfus8AAAAAElFTkSu\n",
       "QmCC\" style=\"clip-path:url(#clipPath1);\" height=\"420\" preserveAspectRatio=\"none\"\n",
       "    /></g\n",
       "  ></g\n",
       "></svg\n",
       ">\n"
      ]
     },
     "metadata": {},
     "output_type": "display_data"
    }
   ],
   "source": [
    "step(smd_tf)"
   ]
  },
  {
   "cell_type": "markdown",
   "metadata": {
    "slideshow": {
     "slide_type": "slide"
    }
   },
   "source": [
    "## Integral Models\n",
    "\n",
    "* If system is non-linear, time-varying or very high order, we may not be able to solve the differential system directly.\n",
    "* We typically resort to simulation\n",
    "* MATLAB has a system simulation tool called *Simulink*.\n",
    "* We first need to convert the differential equation to integral form."
   ]
  },
  {
   "cell_type": "markdown",
   "metadata": {
    "slideshow": {
     "slide_type": "subslide"
    }
   },
   "source": [
    "### Integral form\n",
    "\n",
    "* Makes use of the fact that for any differential term:\n",
    "\n",
    "$$x(t)=\\int_{0}^{t}\\,\\dot{x}(t)\\,dt$$\n",
    "\n",
    "* We can use this fact to rearrange any *n*<sup>th</sup>-order differential equation into n first-order integral equations.\n",
    "* Using a numerical integration algorithm, we can solve such equations.\n",
    "\n"
   ]
  },
  {
   "cell_type": "markdown",
   "metadata": {
    "slideshow": {
     "slide_type": "subslide"
    }
   },
   "source": [
    "### Integral form of SMD equations\n",
    "\n",
    "$$\\begin{eqnarray*}\n",
    "\\ddot{x}&=&\\frac{1}{m}\\left(F-b\\dot{x}-kx\\right)\\\\\n",
    "\\dot{x}&=&\\int\\ddot{x}\\,dt\\\\\n",
    "x&=&\\int\\dot{x}\\,dt\n",
    "\\end{eqnarray*}$$"
   ]
  },
  {
   "cell_type": "markdown",
   "metadata": {
    "slideshow": {
     "slide_type": "subslide"
    }
   },
   "source": [
    "### Block diagram\n",
    "\n",
    "![Integral model of SMD](images/intgm.png)"
   ]
  },
  {
   "cell_type": "markdown",
   "metadata": {
    "slideshow": {
     "slide_type": "notes"
    }
   },
   "source": [
    "**Note** \n",
    "\n",
    "$$\\mathcal{L}\\left(\\int x(t)\\,dt\\right) = \\frac{1}{s}$$"
   ]
  },
  {
   "cell_type": "markdown",
   "metadata": {
    "slideshow": {
     "slide_type": "subslide"
    }
   },
   "source": [
    "### Simulink model"
   ]
  },
  {
   "cell_type": "markdown",
   "metadata": {
    "slideshow": {
     "slide_type": "notes"
    }
   },
   "source": [
    "![Simulink model of SMD system](images/simulink.png)"
   ]
  },
  {
   "cell_type": "code",
   "execution_count": 6,
   "metadata": {
    "slideshow": {
     "slide_type": "fragment"
    }
   },
   "outputs": [],
   "source": [
    "smd"
   ]
  },
  {
   "cell_type": "markdown",
   "metadata": {
    "slideshow": {
     "slide_type": "notes"
    }
   },
   "source": [
    "### Results of simulation\n",
    "\n",
    "![Results of simulation](images/result.png)"
   ]
  },
  {
   "cell_type": "markdown",
   "metadata": {
    "slideshow": {
     "slide_type": "slide"
    }
   },
   "source": [
    "## State-space models\n",
    "\n",
    "Let $x_1 = x$ and $x_2 = \\dot{x}$ then"
   ]
  },
  {
   "cell_type": "markdown",
   "metadata": {
    "slideshow": {
     "slide_type": "fragment"
    }
   },
   "source": [
    "$$\\begin{eqnarray*}\n",
    "\\dot{x}_1&=&x_2\\\\\n",
    "\\dot{x}_2&=&-\\frac{k}{m}x_2-\\frac{b}{m}x_1+\\frac{F}{m}\n",
    "\\end{eqnarray*}$$"
   ]
  },
  {
   "cell_type": "markdown",
   "metadata": {
    "slideshow": {
     "slide_type": "subslide"
    }
   },
   "source": [
    "In matrix form\n",
    "\n",
    "$$\\left[ {\\begin{array}{*{20}{c}}\n",
    "  {\\dot {x}_1} \\\\ \n",
    "  {\\dot {x}_2} \n",
    "\\end{array}} \\right] = \\left[ {\\begin{array}{*{20}{c}}\n",
    "  0&1 \\\\ \n",
    "  { - \\frac{b}{m}}&{ - \\frac{k}{m}} \n",
    "\\end{array}} \\right]\\left[ {\\begin{array}{*{20}{c}}\n",
    "  {{x_1}} \\\\ \n",
    "  {{x_2}} \n",
    "\\end{array}} \\right] + \\left[ {\\begin{array}{*{20}{c}}\n",
    "  0 \\\\ \n",
    "  {\\frac{1}{m}} \n",
    "\\end{array}} \\right]F$$"
   ]
  },
  {
   "cell_type": "markdown",
   "metadata": {
    "slideshow": {
     "slide_type": "subslide"
    }
   },
   "source": [
    "### General state-space model\n",
    "\n",
    "$$\\begin{eqnarray*}\n",
    "\\mathbf{\\dot x} &=& {\\mathbf{Ax}} + {\\mathbf{B}}u\\\\\n",
    "y &=& {\\mathbf{Cx}} + {\\mathbf{D}}u\n",
    "\\end{eqnarray*}$$"
   ]
  },
  {
   "cell_type": "markdown",
   "metadata": {
    "slideshow": {
     "slide_type": "subslide"
    }
   },
   "source": [
    "### MATLAB LTI Model"
   ]
  },
  {
   "cell_type": "code",
   "execution_count": 7,
   "metadata": {
    "slideshow": {
     "slide_type": "fragment"
    }
   },
   "outputs": [],
   "source": [
    "A = [0 1; -k/m -b/m]; % state matrix\n",
    "B = [0; 1/m]; % input matrix\n",
    "C = [1 0]; % Output matrix - output y = x1\n",
    "D = [0]; "
   ]
  },
  {
   "cell_type": "code",
   "execution_count": 8,
   "metadata": {
    "slideshow": {
     "slide_type": "fragment"
    }
   },
   "outputs": [
    {
     "name": "stdout",
     "output_type": "stream",
     "text": [
      "\n",
      "smd_ss =\n",
      " \n",
      "  A = \n",
      "         x1    x2\n",
      "   x1     0     1\n",
      "   x2    -5  -0.6\n",
      " \n",
      "  B = \n",
      "       u1\n",
      "   x1   0\n",
      "   x2   1\n",
      " \n",
      "  C = \n",
      "       x1  x2\n",
      "   y1   1   0\n",
      " \n",
      "  D = \n",
      "       u1\n",
      "   y1   0\n",
      " \n",
      "Continuous-time state-space model.\n",
      "\n"
     ]
    }
   ],
   "source": [
    "smd_ss = ss(A, B, C, D)"
   ]
  },
  {
   "cell_type": "code",
   "execution_count": 9,
   "metadata": {
    "slideshow": {
     "slide_type": "subslide"
    }
   },
   "outputs": [
    {
     "data": {
      "image/svg+xml": [
       "<?xml version=\"1.0\"?>\n",
       "<!DOCTYPE svg PUBLIC '-//W3C//DTD SVG 1.0//EN'\n",
       "          'http://www.w3.org/TR/2001/REC-SVG-20010904/DTD/svg10.dtd'>\n",
       "<svg xmlns:xlink=\"http://www.w3.org/1999/xlink\" style=\"fill-opacity:1; color-rendering:auto; color-interpolation:auto; text-rendering:auto; stroke:black; stroke-linecap:square; stroke-miterlimit:10; shape-rendering:auto; stroke-opacity:1; fill:black; stroke-dasharray:none; font-weight:normal; stroke-width:1; font-family:'Dialog'; font-style:normal; stroke-linejoin:miter; font-size:12px; stroke-dashoffset:0; image-rendering:auto;\" width=\"560\" height=\"420\" xmlns=\"http://www.w3.org/2000/svg\"\n",
       "><!--Generated by the Batik Graphics2D SVG Generator--><defs id=\"genericDefs\"\n",
       "  /><g\n",
       "  ><defs id=\"defs1\"\n",
       "    ><clipPath clipPathUnits=\"userSpaceOnUse\" id=\"clipPath1\"\n",
       "      ><path d=\"M0 0 L560 0 L560 420 L0 420 L0 0 Z\"\n",
       "      /></clipPath\n",
       "    ></defs\n",
       "    ><g style=\"fill:white; stroke:white;\"\n",
       "    ><rect x=\"0\" y=\"0\" width=\"560\" style=\"clip-path:url(#clipPath1); stroke:none;\" height=\"420\"\n",
       "    /></g\n",
       "    ><g\n",
       "    ><image x=\"0\" y=\"0\" width=\"560\" xlink:href=\"data:image/png;base64,iVBORw0KGgoAAAANSUhEUgAAAjAAAAGkCAIAAACgjIjwAAAqKklEQVR42u2dC3BU\n",
       "1f2A8cH4gioCamvxT0erouJUS4uUItqWcdr6qtYX6lAfJVZICARYkhKyQ4jGJjUm\n",
       "FioGU0ga7EarAiU+pgRkosQ4iaZSUkPwEW0EQyBgQ5LNw//PHLmu2RA2u/fec7L5\n",
       "vslkTm42d8/u7+Z8e875nXOHfA4AAGAAQ3gLAAAAIQEAACAkAABASAAAAAgJAAAQ\n",
       "EgAAAEICAACEBAAAgJAAAAAhAQAAICQAAEBIAAAACAkAABASAAAAQgIAAIQEAACA\n",
       "kAAAACEBAAAgJAAAQEgAAAAICQAAEBIAAABCAgAAhAQAAICQAAAAIQEAACAkAABA\n",
       "SAAAAAgJAAAQEgAAAEICAACEBDB4aWpq2rFjx759+3grABASgB46Ojpmzpx53HHH\n",
       "DRky5Jhjjrn55psPHTrU2tq6cOHCoqKiME64bt26IQGMGjUqNTWV9xkAIQEchYKC\n",
       "AtHGTTfd9Pzzz//qV7+Sclpa2sGDB6Vw1113hS2kyZMnp6enezyekSNHyo9vvvkm\n",
       "bzUAQgLoC9GPCGP27Nl79+799NNP//CHP2zcuPH888+Xg8OHD7/tttvkMY899th3\n",
       "vvOdU0899ZZbbtm/f39ubu4FF1wwY8YMOXLeeef97W9/CxZSQkKC+vG+++6TH+Wc\n",
       "wef5+OOPr7766hNPPFGe6M4775Se2ZHOLMflx5NOOmnSpElvvPGGOiKPjI2NPf30\n",
       "06UTVlhYGHy24Gck3ICQAMylpqZmxIgR4oxjjz32+9///sMPP9zW1rZmzRo5MmXK\n",
       "lE2bNj377LNSnjlz5iOPPDJ06NA77rhDHiNHJkyYIFYQdcnBurq6HkKaOnVqZmZm\n",
       "UlKS2GL06NEig+DzLFq0SI785S9/WbZs2SmnnCJ9tV7PXFJSIgenTZv25JNPnnPO\n",
       "OXK2pqYm9chLL7108eLFIqExY8YEny34GQk3ICQAo9mzZ09GRsZPf/pTabWlBf/t\n",
       "b38bOGR3++23S/n++++Xln3kyJHS+isZiKvkt2vXrpWyCKyHkE444QQxhzrhrbfe\n",
       "2ut5cnJy5MgZZ5whHRrp4nR0dPR65rlz50qhtrZWDv7pT3+S8ksvvaQeqWa5RJzH\n",
       "HXdc8NmCn5FYA0ICMBdp7n/yk59In0PKH374obTaZ599dqCQbrzxRinHx8cnHkaN\n",
       "8r322muWflauXNlDSGrITs5z+eWXy4/bt28PPk97e/vLL788e/Zs6ffIr6RnozTT\n",
       "48yzZs2SwkcffSQHn3rqKSnLr9Qjt23bJgevu+66Y445Rgo9ztbrMxJxQEgAhiLN\n",
       "tLTav/zlL5999llpxKVl/9nPfva///1PDo4fP37Lli3Z2dlSXrBggXRcfvSjH02f\n",
       "Pl3JQDRQWlp61VVXSbmqqqpXIQlLliyRH4uLi4PPc/fdd3/jG98QV7344ovyq7i4\n",
       "uF7PLN0g1W+Tg5dddtnJJ5/8ySefBAsp+GzBz0i4ASEBmEtLS4v0hFTatzBx4kQ1\n",
       "OHbNNdeoH/1+/4wZM4499lhp9C+99NL3339fyUB+Jd+PP/74lJSUwBOuX79ejs+f\n",
       "P1/9mJ+fLz8++uijwecReXz3u99VzyuFmpqaI51ZzqZG/0aNGiXilCOBQrr++uvl\n",
       "nMFnC35Gwg0ICcB0pEv07rvv9lgYK65qa2tT5UOHDu3du1eVLRk0NjaqZLbQCTyP\n",
       "0NXVVd+NFPo+s9Tk448/Vg87Ej3O1uszAiAkgOghPT1duh1lZWUD6MwACAkAAAAh\n",
       "AQAAQgIAAEBIAACAkAAAAAahkLq6ugoLCz0ej9frra6uto77/f5Vq1YtXLgwNTV1\n",
       "165d6mB6erq3m7y8PEIOAICQ7KSysjIlJaWlpaWioiIxMdE6/uqrr+bk5HR0dGzc\n",
       "uDEzM/Pz7tuvLV26tLUb0RUhBwBASHbi8/mKi4tVOSEhobGx0RKV6hiVl5c/+uij\n",
       "Uti+fXt2dnZpaan8SkRFyAEAEJKd5OXliWNU2ev1Bt4CQFi5cuWDDz6obh5TUlKS\n",
       "lpYm31esWJGVldXjPDMBAAYNCMkRCgoKxDGqnJSUVF9fr8oNDQ1qx5c9e/bMmTOn\n",
       "tbXV+pPOzk45cuDAgR5CMuQVGXWtUBkqQ2WirzIIySnERjk5OVIQFcXFxfn9fvGQ\n",
       "9JNyc3M3bNggx0U8sbGxzc3NPp9PqUtcJY+0NijjWqEyVIbKICSEZAPilYyMDI/H\n",
       "Ex8fr8buamtrY2JixE+Lu1Eb78vx3bt3Jycnp6amyoPLy8u5VqgMlaEyCAkhmYj5\n",
       "EQIAQEhECACA5g4hESEAAIREhAAAaO4QEhECAEBIRAgAgOYOIREhAACERIQAAGju\n",
       "EBIRAgCguUNICAkAaO4QEhECAKC5Q0gICQBo7hASEQIAoLlDSAgJAGjuENJgjdDY\n",
       "Za/JF/8JAICQEJLOCP2lvP43T+/wvvSefOefAQAQEkLSFqGrlldurt3/fmOLFERO\n",
       "/D8AAEJCSBoiJCoSD6myOGnsstfkO/8SAICQEJLbEVLdox5H+JcAAISEkFyNkOoS\n",
       "9ThIdgMAICSE5HaEfvP0juBJo+A+EwAAQkJIzkao184QQgIAhISQ3I7QkHmbgg96\n",
       "X3pPvvivAACEhJBcipBafhR8vNeJJQAAhISQEBIA0NwhpKiOUK8ZDQqmkQAAISEk\n",
       "9yLUxxpYppEAACEhJPci1GtGgyJw+wYAAISEkLQJiWkkAEBICMmlCB0po8GCTe0A\n",
       "ACEhJCOERF4DACAkhORGhPpIsVOQ1wAACAkhuRGho47IkdcAAAgJIbkRoT4yGgKl\n",
       "xf8GACAkhORghEJMoiOvAQAQEkJyNkJHzWhQkNcAAAgJITkboRATFo6a+AAAgJCI\n",
       "UESEaBoS7QAAISEkZyMU4uQQiXYAgJCiWUhdXV2FhYUej8fr9VZXV1vH/X7/qlWr\n",
       "Fi5cmJqaumvXLkcjFEqK3edsIAQACCm6hVRZWZmSktLS0lJRUZGYmGgdf/XVV3Ny\n",
       "cjo6OjZu3JiZmel0DwkhAQBCGuxC8vl8xcXFqpyQkNDY2GiJSnWMysvLH330Ueci\n",
       "FGKKnaUuMr8BACFFp5Dy8vJKS0tV2ev11tXVBf525cqVDz744BtvvBEcIQs3hUTm\n",
       "NwC45iG7WjmEFCoFBQUlJSWqnJSUVF//ZbZbQ0NDW1ubFPbs2TNnzpzW1laHPjL0\n",
       "K3eOzG8AoIcUtUISG+Xk5EhBVBQXF+f3+8VD0k/Kzc3dsGGDHD9w4EBsbGxzc7ND\n",
       "EeqXY8j8BgCEFLVCEv1kZGR4PJ74+Hg1dldbWxsTEyN+WtzNggULNm3a5FyE+iUk\n",
       "Mr8BACFFrZC0R6hfeQok2gEAQkJICAkAaO4QUlRHKMRVseEJDAAAIREhp3o8ZH4D\n",
       "AEJCSPZHKIwkBTK/AQAhIST7I9SvVbEKMr8BACEhJCOEROY3ACAkhGR/hMIYf0NI\n",
       "AICQEJIRQiLzGwAQEkKyP0LhpcwhJABASAjJ5giFt6iIITsAQEgIyeYI9XdVrILM\n",
       "bwBASAjJCCGR+Q0ACAkh2RmhsPPlEBIAICSEZGeEwliEFKHJAAAQEhGyU0hkfgMA\n",
       "QkJIdkYo7JE3hAQACAkh2RmhSJLlwsuGAABASESoFyK5kQQ3oQAAhISQbItQJLfa\n",
       "Q0gAgJAQkm0RimTYjbWxAICQEJIRQmIpEgAgJIRkW4QiyZQLO2UcAAAhEaGeRGIU\n",
       "1sYCAEJCSEYIiaVIAICQEJI9EYpwEgghAQBCQkj2RCjyNDnWxgIAQkJIRgiJpUgA\n",
       "gJAQkg0RilwnCAkAEBJCsiFCkWzTYFcfCwAAIREhG4TE2lgAQEgIyYYIRZ6SwFIk\n",
       "AEBICAkhAQDNHUKKigjZsoqIpUgAgJAQUqQRsqVzg5AAACEhpEgjZNfWqJFnRgAA\n",
       "ICSEZIOQWIoEAAgJIUUUIbsytk0WklRsyLxNUkPpxpGeDoCQEJKhEbJrTauxS5HU\n",
       "/JaSpZSlkkx3ASAkhPQ1urq6CgsLPR6P1+utrq62jvv9/jVr1sjx1NTUmpoadTA9\n",
       "Pd3bTV5eHkLqb9etR8XkCPtKACAkhPQVlZWVKSkpLS0tFRUViYmJ1vEtW7ZkZma2\n",
       "t7eXlZUtXrxYjjQ1NS1durS1G9GVmUJSDb2BNgquFTmBAAgJIX0Nn89XXFysygkJ\n",
       "CY2Njar8yiuvVFVVKQ/FxsZKYfv27dnZ2aWlpeKwjo4OeyNkY3acmUI6koa57ToA\n",
       "QkJIX5KXlyeOUWWv11tXVxf424MHD4qEioqKpFxSUpKWlibfV6xYkZWVFRwhC71C\n",
       "Mq3b0UcCYeDEEgCY76FIWjmEdHQKCgrEMaqclJRUX//VuJmIKjk5eevWrT3+pLOz\n",
       "c86cOQcOHLDxI4ON99Yz7TZ9fbtWdMV2RwD0kBDS56rfk5OTIwVRUVxcnN/vb2tr\n",
       "k37Stm3bMjMzm5ubrUf6fD6lroaGBnmkPMxMIRm1NjaUHShYOwWAkBDSF4hXMjIy\n",
       "PB5PfHy8Grurra2NiYnJysqaO3duUjdpaWlyfPfu3dJhSk1NlQeXl5fbGCF7p/eN\n",
       "at9DSdbgrhkACAkhmRIhe3fpNkpIoXTX2KQcACEhJFMiZNe+QaF3Stwh9NfFqB0A\n",
       "QkJIUSgkc0bAQlcjo3YACAkhGREhe5tje/UW0TURcqYGi2QBEBJCikIhmTMl0y8v\n",
       "MmoHgJAQkv4I2TvrY0hvo78vilE7AISEkBCSI/R3ORSjdgAICSHpj5DtS1lN2Kwh\n",
       "jDowageAkBBStAlJe8seXmIFo3YACAkhaY6Q7R0a7UIKTy2skAVASAgp2oSkfW1s\n",
       "eBVgGgkAISEknRFyohXWPvYVtmKZRgJASAhJW4ScGKfSK6RIXpE5q3oBACENugg5\n",
       "0QTrnYyJ5BUxageAkBASQrKNCGewGLUDQEgIKXqEpLefEWEWO8nfAAgJIemJkEPt\n",
       "r8a1sRE+NcnfAAgJIemJkEMp2rpuZB55h49pJACEhJCiSki6ZmJsGX6khwSAkBCS\n",
       "hgg51PjqEpItnRumkQAQEkLSECGHhqd0tem2zF2ZPI2kRhTlS2ooX4gTaO4QEkIy\n",
       "UUh2Tf8YO40kb2mPiqkj5KkDzR1CioYIOZQOp6WTYWMKu4GrkUQ8vb460SeTXkBz\n",
       "h5AQkllCsjFBw7RppKOOzjF8BzR3CGlgR8i5sSkto142CsmoaSQxzVEro95wnAQ0\n",
       "dwhpoEbI0WbXfSHZuPjJnGkkiVGINVFjd8wnAc0dQkJIDuoh1IvA1uFHExp3eQPl\n",
       "RfWrGrqWJAMgJIQUUYQcvduCyw267a/FhGmkMAYh5fHkOADNHUJCSDqFZLs/tE8j\n",
       "hT1sKNXWe8deAIREhMzqBLh8I3Pbn077NFLYRlc1Z+AOaO4Q0kCKkKPOcHnIy4km\n",
       "WOM0UoT9MwbugOYOISGkr7WJbt4O3IkFVRqnkSJ3IQN3QHOHkBCSPZ/xDZGfln6G\n",
       "LW8d99EAmjuENJAi5OiQlJsNonNC0tKm2xUX6d652UkN8aqQWkl3Vl6j1E19SVnt\n",
       "GMvCXkBIgzdCjk59uykk57p67k8j2dizNGqprKpM39ZRe8WaJlFASAhpwAvpcxdv\n",
       "ZO7cC3F/GsleuRqS3aBME8rrkjiqOtNbAoQ0uCLktDBc+3ju3AtxfzWS7a9Fb3aD\n",
       "6hj11y5qZI85MEBICGmACcnRsUGXUwMcmgzT1bJL9Pu79VHkMgOaO4Q08CLkQlPr\n",
       "ztpYp/PL3ZyGcWjsUeUOuH9ZRn7zQKurZNSmsSpbRC4M0a36khqq7+pmvi6vCqe5\n",
       "Q0hO0dXVVVhY6PF4vF5vdXW1ddzv969Zs0aOp6am1tTURB4hFwaj3JmAcVpIrk0j\n",
       "OfdC3N+7QW1SbuPm6yZ0lVR+oMrLkGAdyZFyXIVSJXEgJ4Q0gKmsrExJSWlpaamo\n",
       "qEhMTLSOb9myJTMzs729vaysbPHixZFHyIWFq+6sjXX6H961aSRHu2JuZjcoG9n+\n",
       "WlRXyeUtkaw89fA+l6gcjUA5GdXPs7p6wV+qV23meClCcg+fz1dcXKzKCQkJjY2N\n",
       "qvzKK69UVVVJoampKTY2dkAIyZ2m3OlGyrVpJEefxbUUcIdsFOgk17R61Dz1MOSk\n",
       "xUyBY4zWoKIS0pE+zMlx+VJ/aAm1x5/r6vkhpIhYu3btDTfc8NRTT+Xk5Bw4cKDv\n",
       "B+fl5ZWWln55GXm9dXV1gb89ePBgdnZ2UVFRj78aPnz4zMOMHTv2qzbuyGVLSCE+\n",
       "PoyyasqdO/+XsQ9IzXDouaym3LnXovp5jr9X9xc6/V5ZNnLo/Na9cZ17r5T2xi54\n",
       "ztKq7f8XX8R6wXOWmex9f6TaX/TqbnnU8sfYO5ZYY4y2PNcX9b9jyVeiur/QEtWQ\n",
       "STPCvz4vvsbqt0n9LQuqFzI8fv235jw9/Nep35+dg5DC5I9//OMFF1xw7bXXpqSk\n",
       "SI9nwoQJfT++oKCgpKRElZOSkurrv/oMIqJKTk7eunWrLR8ZXJgacadv4cJqJxfe\n",
       "K3cGoxwdhAnjdoKRDKM5cWlZo3OujQcGzzb19w1UJ1H3ubcMJD+6nAaiRBjcqbKM\n",
       "0uuXeoCqcyj9NnpIkXL55ZdXVFRkZmaKkOTHc88997///W8fjxcbSUdKCqKiuLg4\n",
       "v9/f1tYm/aRt27bJSZqbm+2KkDtzrU7bwp1pKqfN6tpGtM4N3Llmox5BkfctcpEH\n",
       "ThTpbS6CB9asNjrwq8cYmrGTPQzZGcfkyZM3b96shPTZZ5+NGjXKmhbqFdFPRkaG\n",
       "x+OJj49XY3e1tbUxMTFZWVlz585N6iYtLW2gCMnpD/6uNeWOCsnNRCyHshu07FFk\n",
       "dZXCbo4jP4ML8QoW0ueDG4QUPuvXrx89evSECROuuOKK8ePH33333YZEyJ0WxOln\n",
       "ca0pd/SFuLbHkvVa7H3TtG8GYW2CF3qMvpwoYkdXhDSohCS8/fbbycnJcXFxzzzz\n",
       "TFdX16ASktPCcC0P2LmMQZdvHPW53SOQamRJ+39Zjxy2I111aq5FeYib6iKkwSgk\n",
       "MyPkTlPu9AiDa30L56aRtNxu/IssKTtejpqLNup/wcoUCJxOt2bO3Z/tB4RkBOPG\n",
       "jTujN46a+R1NQnL647+bg10O9Sl1NeiR3y1JTa3TPgJCGgBC2rVr17vvvhsfHz9l\n",
       "ypTS0tLt27fPnz//sssu6+zsNCFC7jTljq6NdXmwy4nensZ9ZSLcjwcbAUIaSEJS\n",
       "XHzxxaIi68fzzz+/x1pXhDRQhOTEa3E5nSHYSeHtqoCNACENSCFdccUVGzZsUOXG\n",
       "xsYRI0Y0NDRoj5Br2+E4+kQudy9sfy3upzP0Sn+dpPICaBYBIQ08IeXn5w8bNmzG\n",
       "jBmxsbH/93//N336dBMi5OZ955zrBLifDmDvNJIh9xcPfeyOGxQBQhrYQhJef/31\n",
       "xMTEuXPn+nw+JyaQwoiQm5/NneshuT/eZe/7pne8Ltg0R33tpt2XCBASQuofTzzx\n",
       "xIKv09LSoj1CbgrJuX6A+w26jaN2pt0mR16aSpXu0QGylp0yTAcIacALKTc3V+33\n",
       "M3/+/O9973uTJ09ua2sbVEJyqOXVNQFjV7usZflRKFqytjCwvlhDCggpSoQUiPSN\n",
       "zjnnnCNtkOpmhNzcEcuh59IlJFtejiHpDAAIafAKqb29/ayzzgq+Abn7EXJ5N08n\n",
       "Gl9dQ162jNphIwCEpIHZs2dPPozY6KKLLhItDSohOZTRp3HIK/JZMXPSGQAQ0iAS\n",
       "0urVq5955pl/dLN58+ZNmzaZICQ3E44dWoqkUUgRjtqZls4AgJCiX0hNTU3vvffe\n",
       "xIkT161b9143O3fuHDFihAl72bncmjvRIdDYyYhQsWamMwAgpGgW0uOPPy76Of74\n",
       "44cPHz7iMFOmTHHiDhSGC8n2p9OeFBB2F5N0BgCEpI2bbrqpqqrKtAi5LCTbRwi1\n",
       "N+thV8CQ3RkAENJgFJKZEXJ5vMv2WRPt0zDhjdq5uWMTAM0dQvqKq6++euPGjffe\n",
       "e+/4r3Pw4MHBJiTblyKZ0M8Iow6kMwAgJD1s27bt008/raqq2vp1tGfZubbVt4Xt\n",
       "I2yG5AX060WJvVx+2wEQEkL6kiuvvHJ8b2jvIbk/cGT7MxqyjkeEFHonidkjAISk\n",
       "jbKyMtUl2rJlS35+/sqVK1988UUTekjuZwTY2yczJ1Et9JrII5k9AkBImqmtrR03\n",
       "btwpp5wyevToYcOGrVmzRnuEEJKNhNjv4cYNAAhJPzfccENsbKza4fvll18ePny4\n",
       "9ttPaGnQbZz1MSo1IJTRSLpHAAjJCC688MKdO3daP1588cXV1dV6I+TmVt/97UkM\n",
       "OCGF8tKGzNtE9wgAIennnnvuSU1NVeXy8vIxY8Zovx+Slgbdxic1cOudPnqcoitS\n",
       "vQEQkhHcddddQ4YMOeecc8aPH3/ssceeccYZ3+/m7bffHlRCsrFbZuBW2eqmdr3a\n",
       "yP3OKABCQki9U1FR8c/eaGpqGlRCsnHiysz5GOWkwK6b1JNt6wAQEhE6SoPu/pSG\n",
       "jUuRjG3llZPkZcp37ngEgJCMo6SkZOrUqZcFoH1hrJY5GLsyvw3ffYfkBQCEZK6Q\n",
       "JkyYsHDhwk2bNpUcRvvCWIQEAAhpMApJukRvvfWWURHSNZpki5C4ux0AQkJIYbJ6\n",
       "9eof//jHPp+v+DDae0i6hGTLHBJzMwAICSGF/96NGDFi4sSJkw7z2WefaYyQ+1t9\n",
       "W0SejMDtVgEAIYXPuHHj/vWvf5kTIY33iIt8RQ5CAgCEFD733ntvfn4+QrLlqclo\n",
       "AACEFD6zZ88eMmTIhAkTJh9G75Cdxk5G5EIiowEAEFL4bNu27R8BLF++/NChQ4NT\n",
       "SJFPX5HRAAAIKVKkV5Sbmztx4kTpLdm7aVB/I6Rlq29bujga0zEAACFFSQ/pvvvu\n",
       "GzZs2MiRI5csWVJTUxP4266ursLCQo/H4/V6g29LUV5evnbtWuvH9PR0bzd5eXkD\n",
       "VEiR7FpERgMAIKQwWb58+SWXXDJixAh5+5KSkq699trgx1RWVqakpLS0tFRUVCQm\n",
       "JlrH9+/fLz2qWbNmrV69Wh2RftXSpUtbu/H7/WFHSG9eQCQ61KtSAEBIA1hIo0eP\n",
       "vuiii958800pr1u37rrrrgt+jFowq8oJCQmNjY2qLIqqqqoqKiqyhLR9+/bs7OzS\n",
       "0lJxWEdHR3CELKJVSKTYAQxyD4XYyiGkXhCFxMfHjxw58tJLL/31r3/dq5Dy8vLE\n",
       "MV821l5vXV1d4G/Ly8stIZWUlKSlpcn3FStWZGVlhf2RQctW3xaRJNqRYgcA9JAi\n",
       "oq2tTbpB06ZNGzp06C9+8Qspd3Z2Wr8tKCgQx6hyUlJSfX39kYRkIX8+Z86cAwcO\n",
       "hBchvc16JIkJpNgBAEKyqS1+//0lS5aMGTMmMMtObJSTkyMFUVFcXJzf7xeBWf2k\n",
       "QCGJyZS6Ghoa5JE97oM+UIQUtlc0rucFAIQUbUKy+jc9+k8ZGRkejyc+Pl6N3dXW\n",
       "1sbExAQLaffu3cnJyampqfJgOR52hLT3M8IbMyTFDgAQUrRFSLuQwstNIKMBABBS\n",
       "VEXIhLWl4SXa6c3FAACEhJCiUEjhzQaR0QAACCmqImRCakAYUiSjAQAQUrRFyJDU\n",
       "gP52d8hoAACEhJAcob8TQmQ0AABCQkhGCIk9GgAAIUVbhAzZn7S/1SCjAQAQUrRF\n",
       "yJCxr34lKTCBBAAICSE5SOiJdtx1AgAQUhRGyJzlpaFPC5HRAAAICSE5SOg1YQIJ\n",
       "ABBSFEbInHS1EAfiWBILAAgJITlLiPs1kNEAAAgpOiNk1PBXKJVhAgkAEBJCcpxQ\n",
       "ppFYEgsACCk6I6R9q+9AQplGIqMBABBSdEbIqASBo04jMYEEAAgJIbkVtj47QNyU\n",
       "DwAQUnRGyMAOR9/KYbwOABASQnKJPqaRGK8DAIQUtREycFO4Pta9kl8HAAgpaiNk\n",
       "5pqeXsXDBg0AgJAQktv0OjTHelgAQEjRHCEzk9akexRcMcbrAAAhISQNSK0CFyTJ\n",
       "j6QzAABCiuYImdztEFmqhAv5zuwRACAkhKQNtWuDfHFzWABASNEfIfPXmbIvAwAg\n",
       "JIQEAICQEJIrEQrxhngAAAgJITkbIZaaAgBCQkhGRIit4QAAISEkhAQAgJCI0GEM\n",
       "3FkVAAAhISQAAISEkDRFiO1KAQAhISSEBACAkIjQYYzdWRUAACEZSldXV2Fhocfj\n",
       "8Xq91dXVPX5bXl6+du3aMCLEDR0AACEhpP5RWVmZkpLS0tJSUVGRmJhoHd+/f39u\n",
       "bu6sWbNWr16NkAAAISEkx/H5fMXFxaqckJDQ2NioyqKoqqqqoqKiIwnJovc3iI3s\n",
       "AGCAe6jvVg4h2U9eXl5paakqe73eurq6wN+Wl5eH10NCSABADwkh9Y+CgoKSkhJV\n",
       "TkpKqq+vj1xI7KwKAAgJIfUbsVFOTo4UREVxcXF+v7+trc3qJ4UnJHZWBQCEhJD6\n",
       "jegnIyPD4/HEx8ersbva2tqYmBiEBACAkAZ8hNhZFQAQEkJCSAAACIkIHYadVQEA\n",
       "ISEkIyLERnYAgJAQEkICAEBIRAghAQBCQkhGRYitvgEAISEkIyLEzqoAgJAQEkIC\n",
       "AEBIRMh6d9hZFQAQEkJCSAAACIkIfQFbfQMAQkJIRkSInVUBACEhJCMixEZ2AICQ\n",
       "EBJCAgBASEQIIQEAQkJIRkWIrb4BACEhJCMixEZ2AICQEJIpQuIKBgCEhJD0R4ic\n",
       "bwBASAjJiAixKhYAEBJCMiJC7BsEAAgJISEkAACERIS6YSM7AEBICMmICLGRHQAg\n",
       "JIRkRITYpgEAEBJCQkgAAAiJCB2GfYMAACEhJCMixL5BAICQEBJCAgBASEToMFct\n",
       "r9xcu58rGAAQEkLSHKGxy157v7GFKxgAEBJCQkgAAAiJCLFvEAAgJIRkQoTYNwgA\n",
       "EBJCMiJC7BsEAAgJIRkRIbZpAACEhJAQEgAAQiJCh2HfIABASAgpVLq6ugoLCz0e\n",
       "j9frra6u7vt4enq6t5u8vLxQIsQ2DQCAkBBSqFRWVqakpLS0tFRUVCQmJvZxvKmp\n",
       "aenSpa3d+P1+hAQACAkh2YnP5ysuLlblhISExsbGIx3fvn17dnZ2aWmpuKqjoyM4\n",
       "QhbWQfYNAoBo8lBwK4eQ7CQvL08co8per7euru5Ix0tKStLS0uT7ihUrsrKyQvnI\n",
       "wDYNAEAPCSGFSkFBgThGlZOSkurr6/s+LnR2ds6ZM+fAgQMICQAQEkKyDbFOTk6O\n",
       "FEQ5cXFxfr+/ra1N9Yd6HPf5fEpRDQ0NckQedtQIsW8QACAkhBQq4pWMjAyPxxMf\n",
       "H6/G6Gpra2NiYoKP7969Ozk5OTU1VQ6Wl5eHEiGEBAAICSHpjxD7BgEAQkJIRkSI\n",
       "bRoAACEhJIQEAICQiBBCAgCEhJCMihAb2QEAQkJIRkSIfYMAACEhJCMixL5BAICQ\n",
       "EJIREWKbBgBASAgJIQEAICQiZL0jbNMAAAgJIWmPkPSNpIfEhQsACAkhaY4Qi5AA\n",
       "ACEhJIQEAICQiNBhWIQEAAgJISEkAACERIQOQ843ACAkhGREhMj5BgCEhJAQEgAA\n",
       "QiJC3XCvWABASAjJiAiR8w0ACAkhGREh7oQEAAgJIRkRIXK+AQAhISQjIkTONwAg\n",
       "JISEkAAAEBIRst4Lcr4BACEhJO0R4sYTAICQEJIRESLnGwAQEkJCSAAACAkhHY4Q\n",
       "Od8AgJAQEkICAEBICOlwhMj5BgCEhJCMiBA53wCAkBASQgIAQEgI6XCEuPEEACAk\n",
       "hKQ/QmQ0AABCQkhGRIjxOgBASAhJf4RYEgsACAkhGREhEr4BACEhJP1c97vFhqQz\n",
       "GHWtUBkqQ2WirzIIST9dXV2FhYUej8fr9VZXV/f47fmxqwxJZ+BfiMpQGSqDkKKc\n",
       "ysrKlJSUlpaWioqKxMTEHr8dHr/ekPE6/oWoDJWhMggpyvH5fMXFxaqckJDQ2NjY\n",
       "o4c0EwBgcICQNJOXl1daWqrKXq+3rq7ucwAAQEjuU1BQUFJSospJSUn19SyABQBA\n",
       "SDoQG+Xk5EhBVBQXF+f3+4k6AABC0kBbW1tGRobH44mPj7fG7gAAACEBAAAgJAAA\n",
       "QEgAAAAIqSd9b9/gMn6/f82aNVKZ1NTUmpoaE94fqZJUZufOndprsnXr1pSUlLS0\n",
       "tKqqKr016ezszM/PX7hwodTn3//+t65qlJeXr1271pDLOLAy2i/jwMpov4x7VEbv\n",
       "ZRxYGUMuY4T0NfrevsFltmzZkpmZ2d7eXlZWtnjxYhPeH2nm4uLi3n33Xb3V+PDD\n",
       "D6WB27dvnzRwS5Ys0VuZt99+e+nSpdLGvf7668nJye5XYP/+/bm5ubNmzVq9erX2\n",
       "yzi4Mhov4+DKaLyMgyuj8TIOroz2yxgh9ULf2ze4zCuvvKI+NzU1NcXGxmp/c+SS\n",
       "Xbly5RNPPKFdSC+88MLGjRvl3/g///lPQ0OD3srs2LHj4YcflgZXWn/53O1+BUQ8\n",
       "cp0UFRVZjYvGyzi4Mhov4+DKaLyMgyuj8TIOroz2yxgh9YKB2zccPHgwOztbLh29\n",
       "1ZDWZNmyZc3NzSYIadWqVYsWLZJmVyrzyCOPdHZ2aqyMvCfy8Xb+/PkPPPCAtdRa\n",
       "y/CL1bhov4wDK6P9Mg6sjPbLOLAy2i/jwMoYchkjpK9h2vYN0qxI93nr1q3a3xn5\n",
       "ULlmzZrXXnvtoYceeu655z777DO9nxueeeYZVV68eLHezw3r1q2Td6arq2vv3r3x\n",
       "8fHS8moXkvbLuIeQ9F7GgZXRfhn3+Nyg9zIOrIwhlzFC+hpGbd+wbdu2zMxM+eRi\n",
       "wjvz1ltvbelGuvPyOVfv9bp582b5UKk+1iUkJMi/kMbKyCfc/Px8KRw6dGjevHm6\n",
       "hnkDGxftl3FgZbRfxoGV0X4ZB1ZG+2UcWBlDLmOE9DWM2r4hKytr7ty5Sd2kpaUZ\n",
       "8hbJZ0ztKX/t7e3Lly9PSUmRSL300kt6K7Nv376lS5dKjBYsWLBhwwYTml3tl3Fg\n",
       "ZbRfxsHjhxov48DKaL+MAytjyGWMkHpBPrB0dHR8DmbT2tqqd/aoxzUj7QuXMXAZ\n",
       "IyQAAIhaEBIAACAkAAAAhATgNBp3pWptbd21axchAIQEMJBobm4eEsS8efOmTJkS\n",
       "yWkrKysjPEOIvPHGGxdeeGGPg36///zzz//oo4+ILyAkgIFEVzc5OTlTp05V5b17\n",
       "91ZUVERyzmuuueaFF15wR0jinuDj6enpDzzwAMEFhAQw8Hj88cevuuoqVf7nP/95\n",
       "2223rVu37pZbbpGOzrBhw2bMmLFo0aIRI0Z861vfevHFF9XDMjIyzj777LPOOuv3\n",
       "v/994KlqamrkYG1t7cSJE0888cRvf/vbhYWFR/qTpUuXyjnlKW6//fZDhw4pl4wZ\n",
       "M+a0006TOuzbt0+qMX36dJHlCSecIJWRI6JM+fMzzzxTHnPTTTcpIe3atSvw6cSp\n",
       "J598cmtrK5EFhAQwgIUkDpCmv6CgQNr0srKyTz75RAmjsbExKSnp2muvlcds3Ljx\n",
       "vPPO++CDD+rq6i666CKfz2ed6u9//7v8+YIFC2688caOjo7nn39+/Pjxvf6J9KJE\n",
       "Tu+88059fb08JjMzU5565MiRb731lohn2rRp99xzj1Rj6NChr776qjjmkksuefLJ\n",
       "J4uKir75zW/u2LGjoaFB6qyEFPx0ch75KyILCAkgGoR0zTXXqCMXXnih2jhOZHP1\n",
       "1VdL4Xe/+92ECRPmdzNp0qS7777bOtWyZcvkRznJSSeddMcdd4hC1IYxwX8iR6Ss\n",
       "/upANw888MC8efPUka1bt4qupBrqGdUZHnrooZkzZ4p+1JGXX35ZCSn46eS5/vrX\n",
       "vxJZQEgA0SAk1RlSQnr99del8Nxzzyk93H///T//+c//dJh//OMf1qmWLFkiYpDC\n",
       "zp07H3vssSuvvHL06NHS4wn+k9/85jfWPXI++uij2tpaecyiRYvUkfLy8tNPPz2w\n",
       "GkpI9913n3TU1BHpA1lzSD2e7gc/+MGzzz5LZAEhAUS5kPLz8y+77DLp03R2dt58\n",
       "882rVq2yTvXUU09JB0jk4fV6P+++KcPQoUPfeeed4D/585//PG7cODnS3Nws/nj6\n",
       "6adXr149duzYPXv2yGOkC3XjjTcGC0kec+6550o3qKur6/bbb1dCCn460dKOHTuI\n",
       "LCAkgAGGdFksIa1fv37q1Kliguuuu+5IQuro6LjnnntOO+20M8888/rrrw/cbPu9\n",
       "994bNWrUm2++OWbMGLHLyJEjp0+fLoIJ/pO2trZbb7311FNPPeOMM+68886ObmbO\n",
       "nKmO/PCHP/zggw8Cq/Hggw+qG6zNmDFj+PDh8hgRpxJSRUVF4NN9+umnJ510kplb\n",
       "lgEgJAD7aWlp6fV2O9OmTfP5fCKhTz75pMcDgv9Eukcqv86itbV1//79fT+1/FWP\n",
       "8wQ+nXSkEhISCBAgJIDBTllZ2aRJk3Q9u3S8pEun9w5SAAgJwBR27typ66nb29s/\n",
       "/PBDQgAICQAAACEBAABCAgAAQEgAAICQAAAAEBIAACAkAAAAhAQAAAgJAAAAIQEA\n",
       "AEICAABASAAAgJAAAAAQEgAAICQAAACEBAAAg4v/B3Kw2gvYfus8AAAAAElFTkSu\n",
       "QmCC\" style=\"clip-path:url(#clipPath1);\" height=\"420\" preserveAspectRatio=\"none\"\n",
       "    /></g\n",
       "  ></g\n",
       "></svg\n",
       ">\n"
      ]
     },
     "metadata": {},
     "output_type": "display_data"
    }
   ],
   "source": [
    "step(smd_ss)"
   ]
  },
  {
   "cell_type": "markdown",
   "metadata": {
    "slideshow": {
     "slide_type": "slide"
    }
   },
   "source": [
    "## Comparison"
   ]
  },
  {
   "cell_type": "markdown",
   "metadata": {
    "slideshow": {
     "slide_type": "notes"
    }
   },
   "source": [
    "![Comparing models in Simulink](images/smdcompare.png)"
   ]
  },
  {
   "cell_type": "code",
   "execution_count": 10,
   "metadata": {
    "slideshow": {
     "slide_type": "subslide"
    }
   },
   "outputs": [],
   "source": [
    "smdcompare"
   ]
  },
  {
   "cell_type": "markdown",
   "metadata": {
    "slideshow": {
     "slide_type": "notes"
    }
   },
   "source": [
    "### Results\n",
    "\n",
    "![SMD Comparison](images/smdresults.png)"
   ]
  },
  {
   "cell_type": "markdown",
   "metadata": {
    "slideshow": {
     "slide_type": "slide"
    }
   },
   "source": [
    "## Models and their uses\n",
    "\n",
    "* Integral models for general solution of high-order, linear and non-linear differential equations.\n",
    "* State-space models for *linear* time-invariant, time-varying and multi-input multi-output (**MIMO**) systems.\n",
    "* Transfer function for linear time-invariant (**LTI**), single-input single output (**SISO**) systems"
   ]
  },
  {
   "cell_type": "markdown",
   "metadata": {
    "slideshow": {
     "slide_type": "slide"
    }
   },
   "source": [
    "## Feedback and suggestions\n",
    "\n",
    "\"**Which bit of this session did you find the most difficult to understand**”\n",
    "\n",
    "Use the [week 1 discussion](https://swanseauniversity-my.sharepoint.com/personal/c_p_jobling_swansea_ac_uk/_layouts/15/Doc.aspx?sourcedoc={da5dc965-a96d-430b-b4b4-9747bf5fdc02}&action=edit&wd=target%28_Collaboration%20Space%2FNew%20Section%201.one%7C29cdb892-39bf-468b-a65d-b25e321c4eff%2FWeek%201%20Discussion%7C5d5d30ca-f7f2-46e1-bbc8-63684c2f67d6%2F%29&wdorigin=703) page in the OneNote notebook collaboration space to post feedback.\n",
    "\n"
   ]
  },
  {
   "cell_type": "markdown",
   "metadata": {
    "slideshow": {
     "slide_type": "notes"
    }
   },
   "source": [
    "## Additional Background Material\n",
    "\n",
    "Background is extra topics, usually references to the recommended text or links to web resources, that are provided to amplify topics that are introduced in the other activities. You are expected to access these materials in your own time. For this chapter, the background reading is all from the [Control Systems Wikibook](https://en.wikibooks.org/wiki/Control_Systems).\n",
    "\n",
    "* [Systems modeling](https://en.wikibooks.org/wiki/Control_Systems/System_Modeling)\n",
    "* [Transfer functions](https://en.wikibooks.org/wiki/Control_Systems/Transfer_Functions)\n",
    "* [State-space equations](http://en.wikibooks.org/wiki/Control_Systems/State-Space_Equations) "
   ]
  }
 ],
 "metadata": {
  "celltoolbar": "Slideshow",
  "kernelspec": {
   "display_name": "MATLAB",
   "language": "matlab",
   "name": "imatlab"
  },
  "language_info": {
   "codemirror_mode": "octave",
   "file_extension": ".m",
   "mimetype": "text/x-matlab",
   "name": "matlab",
   "nbconvert_exporter": "imatlab._exporter.MatlabExporter",
   "pygments_lexer": "matlab",
   "version": "9.11.0.1769968 (R2021b)"
  }
 },
 "nbformat": 4,
 "nbformat_minor": 2
}
