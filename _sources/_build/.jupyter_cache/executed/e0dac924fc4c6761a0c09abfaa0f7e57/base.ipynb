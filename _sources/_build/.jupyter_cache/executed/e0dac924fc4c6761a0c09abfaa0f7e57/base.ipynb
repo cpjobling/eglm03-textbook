{
 "cells": [
  {
   "cell_type": "code",
   "execution_count": 1,
   "metadata": {
    "slideshow": {
     "slide_type": "fragment"
    }
   },
   "outputs": [],
   "source": [
    "clear all\n",
    "format compact\n",
    "imatlab_export_fig('print-svg')  % Static svg figures."
   ]
  },
  {
   "cell_type": "code",
   "execution_count": 2,
   "metadata": {
    "slideshow": {
     "slide_type": "fragment"
    }
   },
   "outputs": [
    {
     "name": "stdout",
     "output_type": "stream",
     "text": [
      "A =\n",
      "    -3     1\n",
      "     1    -3\n"
     ]
    },
    {
     "name": "stdout",
     "output_type": "stream",
     "text": [
      "T =\n",
      "    0.7071    0.7071\n",
      "   -0.7071    0.7071\n"
     ]
    },
    {
     "name": "stdout",
     "output_type": "stream",
     "text": [
      "Lambda =\n",
      "    -4     0\n",
      "     0    -2\n"
     ]
    }
   ],
   "source": [
    "A = [-3 1; 1 -3]\n",
    "[T, Lambda] = eig(A)"
   ]
  },
  {
   "cell_type": "code",
   "execution_count": 3,
   "metadata": {
    "slideshow": {
     "slide_type": "fragment"
    }
   },
   "outputs": [
    {
     "name": "stdout",
     "output_type": "stream",
     "text": [
      "T =\n",
      "    0.5000         0         0\n",
      "   -0.7500    0.5000   -0.0000\n",
      "    0.5000   -0.4000    0.2000\n"
     ]
    }
   ],
   "source": [
    "Tinv = [2 0 0; 3 2 0; 1 4 5];\n",
    "T = inv(Tinv)\n",
    "           "
   ]
  },
  {
   "cell_type": "code",
   "execution_count": 4,
   "metadata": {
    "slideshow": {
     "slide_type": "subslide"
    }
   },
   "outputs": [],
   "source": [
    "Ax = [0 1 0; 0 0 1; -2 -5 -7];\n",
    "Bx = [0; 0; 1];\n",
    "Cx = [ 1 0 0];"
   ]
  },
  {
   "cell_type": "code",
   "execution_count": 5,
   "metadata": {
    "slideshow": {
     "slide_type": "fragment"
    }
   },
   "outputs": [
    {
     "name": "stdout",
     "output_type": "stream",
     "text": [
      "Aw =\n",
      "   -1.5000    1.0000   -0.0000\n",
      "   -1.2500    0.7000    0.4000\n",
      "   -2.5000    0.4000   -6.2000\n"
     ]
    }
   ],
   "source": [
    "Aw = Tinv*Ax*T"
   ]
  },
  {
   "cell_type": "code",
   "execution_count": 6,
   "metadata": {
    "slideshow": {
     "slide_type": "fragment"
    }
   },
   "outputs": [
    {
     "name": "stdout",
     "output_type": "stream",
     "text": [
      "Bw =\n",
      "     0\n",
      "     0\n",
      "     5\n"
     ]
    }
   ],
   "source": [
    "Bw = Tinv*Bx"
   ]
  },
  {
   "cell_type": "code",
   "execution_count": 7,
   "metadata": {
    "slideshow": {
     "slide_type": "fragment"
    }
   },
   "outputs": [
    {
     "name": "stdout",
     "output_type": "stream",
     "text": [
      "Cw =\n",
      "    0.5000         0         0\n"
     ]
    }
   ],
   "source": [
    "Cw = Cx*T"
   ]
  },
  {
   "cell_type": "code",
   "execution_count": 8,
   "metadata": {
    "slideshow": {
     "slide_type": "fragment"
    }
   },
   "outputs": [],
   "source": [
    "Tinv = [2 0 0; 3 2 0; 1 4 5];"
   ]
  },
  {
   "cell_type": "code",
   "execution_count": 9,
   "metadata": {
    "slideshow": {
     "slide_type": "fragment"
    }
   },
   "outputs": [
    {
     "name": "stdout",
     "output_type": "stream",
     "text": [
      "\n",
      "sysx =\n"
     ]
    },
    {
     "name": "stdout",
     "output_type": "stream",
     "text": [
      " \n"
     ]
    },
    {
     "name": "stdout",
     "output_type": "stream",
     "text": [
      "  A = \n"
     ]
    },
    {
     "name": "stdout",
     "output_type": "stream",
     "text": [
      "       x1  x2  x3\n",
      "   x1   0   1   0\n",
      "   x2   0   0   1\n",
      "   x3  -2  -5  -7\n"
     ]
    },
    {
     "name": "stdout",
     "output_type": "stream",
     "text": [
      " \n"
     ]
    },
    {
     "name": "stdout",
     "output_type": "stream",
     "text": [
      "  B = \n"
     ]
    },
    {
     "name": "stdout",
     "output_type": "stream",
     "text": [
      "       u1\n",
      "   x1   0\n",
      "   x2   0\n",
      "   x3   1\n"
     ]
    },
    {
     "name": "stdout",
     "output_type": "stream",
     "text": [
      " \n"
     ]
    },
    {
     "name": "stdout",
     "output_type": "stream",
     "text": [
      "  C = \n"
     ]
    },
    {
     "name": "stdout",
     "output_type": "stream",
     "text": [
      "       x1  x2  x3\n",
      "   y1   1   0   0\n"
     ]
    },
    {
     "name": "stdout",
     "output_type": "stream",
     "text": [
      " \n"
     ]
    },
    {
     "name": "stdout",
     "output_type": "stream",
     "text": [
      "  D = \n"
     ]
    },
    {
     "name": "stdout",
     "output_type": "stream",
     "text": [
      "       u1\n",
      "   y1   0\n"
     ]
    },
    {
     "name": "stdout",
     "output_type": "stream",
     "text": [
      " \n"
     ]
    },
    {
     "name": "stdout",
     "output_type": "stream",
     "text": [
      "Continuous-time state-space model.\n",
      "\n"
     ]
    }
   ],
   "source": [
    "sysx = ss(Ax, Bx, Cx, 0)\n",
    "           "
   ]
  },
  {
   "cell_type": "code",
   "execution_count": 10,
   "metadata": {
    "slideshow": {
     "slide_type": "fragment"
    }
   },
   "outputs": [
    {
     "name": "stdout",
     "output_type": "stream",
     "text": [
      "\n",
      "sysw =\n"
     ]
    },
    {
     "name": "stdout",
     "output_type": "stream",
     "text": [
      " \n"
     ]
    },
    {
     "name": "stdout",
     "output_type": "stream",
     "text": [
      "  A = \n"
     ]
    },
    {
     "name": "stdout",
     "output_type": "stream",
     "text": [
      "          x1     x2     x3\n",
      "   x1   -1.5      1      0\n",
      "   x2  -1.25    0.7    0.4\n",
      "   x3   -2.5    0.4   -6.2\n"
     ]
    },
    {
     "name": "stdout",
     "output_type": "stream",
     "text": [
      " \n"
     ]
    },
    {
     "name": "stdout",
     "output_type": "stream",
     "text": [
      "  B = \n"
     ]
    },
    {
     "name": "stdout",
     "output_type": "stream",
     "text": [
      "       u1\n",
      "   x1   0\n",
      "   x2   0\n",
      "   x3   5\n"
     ]
    },
    {
     "name": "stdout",
     "output_type": "stream",
     "text": [
      " \n"
     ]
    },
    {
     "name": "stdout",
     "output_type": "stream",
     "text": [
      "  C = \n"
     ]
    },
    {
     "name": "stdout",
     "output_type": "stream",
     "text": [
      "        x1   x2   x3\n",
      "   y1  0.5    0    0\n"
     ]
    },
    {
     "name": "stdout",
     "output_type": "stream",
     "text": [
      " \n"
     ]
    },
    {
     "name": "stdout",
     "output_type": "stream",
     "text": [
      "  D = \n"
     ]
    },
    {
     "name": "stdout",
     "output_type": "stream",
     "text": [
      "       u1\n",
      "   y1   0\n"
     ]
    },
    {
     "name": "stdout",
     "output_type": "stream",
     "text": [
      " \n"
     ]
    },
    {
     "name": "stdout",
     "output_type": "stream",
     "text": [
      "Continuous-time state-space model.\n",
      "\n"
     ]
    }
   ],
   "source": [
    "sysw = ss2ss(sysx, Tinv)"
   ]
  },
  {
   "cell_type": "code",
   "execution_count": 11,
   "metadata": {
    "slideshow": {
     "slide_type": "fragment"
    }
   },
   "outputs": [
    {
     "name": "stdout",
     "output_type": "stream",
     "text": [
      "T =\n",
      "    0.7071    0.7071\n",
      "   -0.7071    0.7071\n"
     ]
    },
    {
     "name": "stdout",
     "output_type": "stream",
     "text": [
      "Lambda =\n",
      "    -4     0\n",
      "     0    -2\n"
     ]
    }
   ],
   "source": [
    "A = [-3 1; 1 -3]; B = [1; 2]; C = [2 3];\n",
    "[T,Lambda] = eig(A)"
   ]
  },
  {
   "cell_type": "code",
   "execution_count": 12,
   "metadata": {
    "slideshow": {
     "slide_type": "subslide"
    }
   },
   "outputs": [
    {
     "name": "stdout",
     "output_type": "stream",
     "text": [
      "Adt =\n",
      "   -4.0000         0\n",
      "         0   -2.0000\n"
     ]
    }
   ],
   "source": [
    "Adt = inv(T)*A*T"
   ]
  },
  {
   "cell_type": "code",
   "execution_count": 13,
   "metadata": {
    "slideshow": {
     "slide_type": "fragment"
    }
   },
   "outputs": [
    {
     "name": "stdout",
     "output_type": "stream",
     "text": [
      "Bdt =\n",
      "   -0.7071\n",
      "    2.1213\n"
     ]
    }
   ],
   "source": [
    "Bdt = inv(T)*B"
   ]
  },
  {
   "cell_type": "code",
   "execution_count": 14,
   "metadata": {
    "slideshow": {
     "slide_type": "fragment"
    }
   },
   "outputs": [
    {
     "name": "stdout",
     "output_type": "stream",
     "text": [
      "Cdt =\n",
      "   -0.7071    3.5355\n"
     ]
    }
   ],
   "source": [
    "Cdt = C*T"
   ]
  },
  {
   "cell_type": "code",
   "execution_count": 15,
   "metadata": {
    "slideshow": {
     "slide_type": "fragment"
    }
   },
   "outputs": [],
   "source": [
    "A = [-3 1; 1 -3]; B = [1; 2]; C = [2 3];"
   ]
  },
  {
   "cell_type": "code",
   "execution_count": 16,
   "metadata": {
    "slideshow": {
     "slide_type": "subslide"
    }
   },
   "outputs": [
    {
     "name": "stdout",
     "output_type": "stream",
     "text": [
      "\n",
      "S =\n"
     ]
    },
    {
     "name": "stdout",
     "output_type": "stream",
     "text": [
      " \n"
     ]
    },
    {
     "name": "stdout",
     "output_type": "stream",
     "text": [
      "  A = \n"
     ]
    },
    {
     "name": "stdout",
     "output_type": "stream",
     "text": [
      "       x1  x2\n",
      "   x1  -3   1\n",
      "   x2   1  -3\n"
     ]
    },
    {
     "name": "stdout",
     "output_type": "stream",
     "text": [
      " \n"
     ]
    },
    {
     "name": "stdout",
     "output_type": "stream",
     "text": [
      "  B = \n"
     ]
    },
    {
     "name": "stdout",
     "output_type": "stream",
     "text": [
      "       u1\n",
      "   x1   1\n",
      "   x2   2\n"
     ]
    },
    {
     "name": "stdout",
     "output_type": "stream",
     "text": [
      " \n"
     ]
    },
    {
     "name": "stdout",
     "output_type": "stream",
     "text": [
      "  C = \n"
     ]
    },
    {
     "name": "stdout",
     "output_type": "stream",
     "text": [
      "       x1  x2\n",
      "   y1   2   3\n"
     ]
    },
    {
     "name": "stdout",
     "output_type": "stream",
     "text": [
      " \n"
     ]
    },
    {
     "name": "stdout",
     "output_type": "stream",
     "text": [
      "  D = \n"
     ]
    },
    {
     "name": "stdout",
     "output_type": "stream",
     "text": [
      "       u1\n",
      "   y1   0\n"
     ]
    },
    {
     "name": "stdout",
     "output_type": "stream",
     "text": [
      " \n"
     ]
    },
    {
     "name": "stdout",
     "output_type": "stream",
     "text": [
      "Continuous-time state-space model.\n",
      "\n"
     ]
    }
   ],
   "source": [
    "S = ss(A, B, C, 0)"
   ]
  },
  {
   "cell_type": "code",
   "execution_count": 17,
   "metadata": {
    "slideshow": {
     "slide_type": "subslide"
    }
   },
   "outputs": [
    {
     "name": "stdout",
     "output_type": "stream",
     "text": [
      "\n",
      "Sp =\n"
     ]
    },
    {
     "name": "stdout",
     "output_type": "stream",
     "text": [
      " \n"
     ]
    },
    {
     "name": "stdout",
     "output_type": "stream",
     "text": [
      "  A = \n"
     ]
    },
    {
     "name": "stdout",
     "output_type": "stream",
     "text": [
      "       x1  x2\n",
      "   x1  -2   0\n",
      "   x2   0  -4\n"
     ]
    },
    {
     "name": "stdout",
     "output_type": "stream",
     "text": [
      " \n"
     ]
    },
    {
     "name": "stdout",
     "output_type": "stream",
     "text": [
      "  B = \n"
     ]
    },
    {
     "name": "stdout",
     "output_type": "stream",
     "text": [
      "           u1\n",
      "   x1   2.121\n",
      "   x2  0.7071\n"
     ]
    },
    {
     "name": "stdout",
     "output_type": "stream",
     "text": [
      " \n"
     ]
    },
    {
     "name": "stdout",
     "output_type": "stream",
     "text": [
      "  C = \n"
     ]
    },
    {
     "name": "stdout",
     "output_type": "stream",
     "text": [
      "           x1      x2\n",
      "   y1   3.536  0.7071\n"
     ]
    },
    {
     "name": "stdout",
     "output_type": "stream",
     "text": [
      " \n"
     ]
    },
    {
     "name": "stdout",
     "output_type": "stream",
     "text": [
      "  D = \n"
     ]
    },
    {
     "name": "stdout",
     "output_type": "stream",
     "text": [
      "       u1\n",
      "   y1   0\n"
     ]
    },
    {
     "name": "stdout",
     "output_type": "stream",
     "text": [
      " \n"
     ]
    },
    {
     "name": "stdout",
     "output_type": "stream",
     "text": [
      "Continuous-time state-space model.\n",
      "\n"
     ]
    }
   ],
   "source": [
    "Sp = canon(S, 'modal')"
   ]
  }
 ],
 "metadata": {
  "celltoolbar": "Slideshow",
  "kernelspec": {
   "display_name": "MATLAB",
   "language": "matlab",
   "name": "imatlab"
  },
  "language_info": {
   "codemirror_mode": "octave",
   "file_extension": ".m",
   "mimetype": "text/x-matlab",
   "name": "matlab",
   "nbconvert_exporter": "imatlab._exporter.MatlabExporter",
   "pygments_lexer": "matlab",
   "version": "9.11.0.1769968 (R2021b)"
  }
 },
 "nbformat": 4,
 "nbformat_minor": 2
}