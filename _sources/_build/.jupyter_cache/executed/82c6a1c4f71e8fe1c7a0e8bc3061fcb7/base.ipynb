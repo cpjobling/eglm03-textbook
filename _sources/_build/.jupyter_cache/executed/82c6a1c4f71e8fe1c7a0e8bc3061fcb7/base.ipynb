{
 "cells": [
  {
   "cell_type": "code",
   "execution_count": 1,
   "metadata": {},
   "outputs": [
    {
     "name": "stdout",
     "output_type": "stream",
     "text": [
      "\n",
      "ans =\n",
      "\n",
      "    '/Users/eechris/code/src/github.com/cpjobling/eglm03-new-textbook/eglm03-textbook/eglm03-textbook/03/5/matlab'\n",
      "\n"
     ]
    }
   ],
   "source": [
    "cd matlab\n",
    "pwd\n",
    "clear all\n",
    "imatlab_export_fig('print-svg')  % Static svg figures.\n",
    "format compact"
   ]
  },
  {
   "cell_type": "code",
   "execution_count": 2,
   "metadata": {},
   "outputs": [],
   "source": [
    "G = tf(1,[1 0 0]);  "
   ]
  },
  {
   "cell_type": "code",
   "execution_count": 3,
   "metadata": {},
   "outputs": [],
   "source": [
    "H = tf(1,1);"
   ]
  },
  {
   "cell_type": "code",
   "execution_count": 4,
   "metadata": {},
   "outputs": [
    {
     "name": "stdout",
     "output_type": "stream",
     "text": [
      "\n",
      "GH =\n"
     ]
    },
    {
     "name": "stdout",
     "output_type": "stream",
     "text": [
      " \n"
     ]
    },
    {
     "name": "stdout",
     "output_type": "stream",
     "text": [
      "   1\n"
     ]
    },
    {
     "name": "stdout",
     "output_type": "stream",
     "text": [
      "  ---\n"
     ]
    },
    {
     "name": "stdout",
     "output_type": "stream",
     "text": [
      "  s^2\n"
     ]
    },
    {
     "name": "stdout",
     "output_type": "stream",
     "text": [
      " \n"
     ]
    },
    {
     "name": "stdout",
     "output_type": "stream",
     "text": [
      "Continuous-time transfer function.\n",
      "\n"
     ]
    }
   ],
   "source": [
    "GH=series(G,H)"
   ]
  },
  {
   "cell_type": "code",
   "execution_count": 5,
   "metadata": {},
   "outputs": [],
   "source": [
    "s1 = -2 + 2j;"
   ]
  },
  {
   "cell_type": "code",
   "execution_count": 6,
   "metadata": {},
   "outputs": [],
   "source": [
    "a0 = 8/3;"
   ]
  },
  {
   "cell_type": "code",
   "execution_count": 7,
   "metadata": {},
   "outputs": [
    {
     "name": "stdout",
     "output_type": "stream",
     "text": [
      "m_s1 =\n",
      "    2.8284\n"
     ]
    },
    {
     "name": "stdout",
     "output_type": "stream",
     "text": [
      "p_s1 =\n",
      "   225\n"
     ]
    }
   ],
   "source": [
    "m_s1=abs(s1),  p_s1 = (angle(s1)*180/pi + 90) % degrees "
   ]
  },
  {
   "cell_type": "code",
   "execution_count": 8,
   "metadata": {},
   "outputs": [
    {
     "name": "stdout",
     "output_type": "stream",
     "text": [
      "GHs1 =\n",
      "   0.0000 + 0.1250i\n"
     ]
    }
   ],
   "source": [
    "[numGH,denGH] = tfdata(GH,'v');GHs1=polyval(numGH,s1)/polyval(denGH,s1)"
   ]
  },
  {
   "cell_type": "code",
   "execution_count": 9,
   "metadata": {},
   "outputs": [
    {
     "name": "stdout",
     "output_type": "stream",
     "text": [
      "mGHs1 =\n",
      "    0.1250\n"
     ]
    }
   ],
   "source": [
    "mGHs1=abs(GHs1)"
   ]
  },
  {
   "cell_type": "code",
   "execution_count": 10,
   "metadata": {},
   "outputs": [
    {
     "name": "stdout",
     "output_type": "stream",
     "text": [
      "pGHs1 =\n",
      "   -90\n"
     ]
    }
   ],
   "source": [
    "pGHs1=angle(GHs1)*180/pi - 180 % degrees"
   ]
  },
  {
   "cell_type": "code",
   "execution_count": 11,
   "metadata": {},
   "outputs": [
    {
     "name": "stdout",
     "output_type": "stream",
     "text": [
      "beta =\n",
      "    3.9270\n"
     ]
    },
    {
     "name": "stdout",
     "output_type": "stream",
     "text": [
      "psi =\n",
      "   -1.5708\n"
     ]
    }
   ],
   "source": [
    "beta = p_s1*pi/180\n",
    "psi = pGHs1*pi/180  % radians"
   ]
  },
  {
   "cell_type": "code",
   "execution_count": 12,
   "metadata": {},
   "outputs": [
    {
     "name": "stdout",
     "output_type": "stream",
     "text": [
      "a1 =\n",
      "    2.6667\n"
     ]
    },
    {
     "name": "stdout",
     "output_type": "stream",
     "text": [
      "b1 =\n",
      "    0.1667\n"
     ]
    }
   ],
   "source": [
    "a1 = (sin(beta) + a0*mGHs1*sin(beta - psi))/(m_s1*mGHs1*sin(psi))  \n",
    "b1 = (sin(beta + psi) + a0*mGHs1*sin(beta))/(-(m_s1)*sin(psi))  "
   ]
  },
  {
   "cell_type": "code",
   "execution_count": 13,
   "metadata": {},
   "outputs": [
    {
     "name": "stdout",
     "output_type": "stream",
     "text": [
      "numD =\n",
      "    2.6667    2.6667\n"
     ]
    },
    {
     "name": "stdout",
     "output_type": "stream",
     "text": [
      "denD =\n",
      "    0.1667    1.0000\n"
     ]
    }
   ],
   "source": [
    "numD = [a1, a0], denD = [b1, 1]  "
   ]
  },
  {
   "cell_type": "code",
   "execution_count": 14,
   "metadata": {},
   "outputs": [
    {
     "name": "stdout",
     "output_type": "stream",
     "text": [
      "Kc =\n",
      "   16.0000\n"
     ]
    },
    {
     "name": "stdout",
     "output_type": "stream",
     "text": [
      "z0 =\n",
      "     1\n"
     ]
    },
    {
     "name": "stdout",
     "output_type": "stream",
     "text": [
      "p0 =\n",
      "    6.0000\n"
     ]
    }
   ],
   "source": [
    "Kc = a1/b1, z0 = a0/a1, p0 = 1/b1  "
   ]
  },
  {
   "cell_type": "code",
   "execution_count": 15,
   "metadata": {},
   "outputs": [
    {
     "name": "stdout",
     "output_type": "stream",
     "text": [
      "\n",
      "D =\n"
     ]
    },
    {
     "name": "stdout",
     "output_type": "stream",
     "text": [
      " \n"
     ]
    },
    {
     "name": "stdout",
     "output_type": "stream",
     "text": [
      "  16 s + 16\n"
     ]
    },
    {
     "name": "stdout",
     "output_type": "stream",
     "text": [
      "  ---------\n"
     ]
    },
    {
     "name": "stdout",
     "output_type": "stream",
     "text": [
      "    s + 6\n",
      " \n"
     ]
    },
    {
     "name": "stdout",
     "output_type": "stream",
     "text": [
      "Continuous-time transfer function.\n",
      "\n"
     ]
    }
   ],
   "source": [
    "D = tf(Kc*[1, z0],[1, p0])  "
   ]
  },
  {
   "cell_type": "code",
   "execution_count": 16,
   "metadata": {},
   "outputs": [
    {
     "name": "stdout",
     "output_type": "stream",
     "text": [
      "\n",
      "Go =\n"
     ]
    },
    {
     "name": "stdout",
     "output_type": "stream",
     "text": [
      " \n"
     ]
    },
    {
     "name": "stdout",
     "output_type": "stream",
     "text": [
      "   16 s + 16\n"
     ]
    },
    {
     "name": "stdout",
     "output_type": "stream",
     "text": [
      "  -----------\n"
     ]
    },
    {
     "name": "stdout",
     "output_type": "stream",
     "text": [
      "  s^3 + 6 s^2\n"
     ]
    },
    {
     "name": "stdout",
     "output_type": "stream",
     "text": [
      " \n"
     ]
    },
    {
     "name": "stdout",
     "output_type": "stream",
     "text": [
      "Continuous-time transfer function.\n",
      "\n"
     ]
    }
   ],
   "source": [
    "Go = series(D,GH)  "
   ]
  },
  {
   "cell_type": "code",
   "execution_count": 17,
   "metadata": {},
   "outputs": [
    {
     "data": {
      "image/svg+xml": [
       "<?xml version=\"1.0\"?>\n",
       "<!DOCTYPE svg PUBLIC '-//W3C//DTD SVG 1.0//EN'\n",
       "          'http://www.w3.org/TR/2001/REC-SVG-20010904/DTD/svg10.dtd'>\n",
       "<svg xmlns:xlink=\"http://www.w3.org/1999/xlink\" style=\"fill-opacity:1; color-rendering:auto; color-interpolation:auto; text-rendering:auto; stroke:black; stroke-linecap:square; stroke-miterlimit:10; shape-rendering:auto; stroke-opacity:1; fill:black; stroke-dasharray:none; font-weight:normal; stroke-width:1; font-family:'Dialog'; font-style:normal; stroke-linejoin:miter; font-size:12px; stroke-dashoffset:0; image-rendering:auto;\" width=\"560\" height=\"420\" xmlns=\"http://www.w3.org/2000/svg\"\n",
       "><!--Generated by the Batik Graphics2D SVG Generator--><defs id=\"genericDefs\"\n",
       "  /><g\n",
       "  ><defs id=\"defs1\"\n",
       "    ><clipPath clipPathUnits=\"userSpaceOnUse\" id=\"clipPath1\"\n",
       "      ><path d=\"M0 0 L560 0 L560 420 L0 420 L0 0 Z\"\n",
       "      /></clipPath\n",
       "      ><clipPath clipPathUnits=\"userSpaceOnUse\" id=\"clipPath2\"\n",
       "      ><path d=\"M0 0 L1119.9999 0 L1119.9999 839.9999 L0 839.9999 L0 0 Z\"\n",
       "      /></clipPath\n",
       "    ></defs\n",
       "    ><g style=\"fill:white; stroke:white;\"\n",
       "    ><rect x=\"0\" y=\"0\" width=\"560\" style=\"clip-path:url(#clipPath1); stroke:none;\" height=\"420\"\n",
       "    /></g\n",
       "    ><g transform=\"scale(0.5,0.5)\"\n",
       "    ><image x=\"0\" y=\"0\" width=\"1120\" xlink:href=\"data:image/png;base64,iVBORw0KGgoAAAANSUhEUgAABGAAAANICAIAAAAHNA4rAABfbUlEQVR42uzdCXzU\n",
       "9Z3w8SRcoiwedRVEaWxXVIpa12Nl7dONWKxHrcdKq8UjrUcIKooCVotNBCkgWuGl\n",
       "FQHdoFU01gOLBRelAQQKVAgeIEQgHKJUEi4DCCHh+eG/zsYQQoAEZsL7/eTV18x/\n",
       "BpLnt/kyv48z85+kbQAAAHwlyRIAAAAIJAAAAIEEAAAgkAAAAAQSAACAQAIAABBI\n",
       "AAAAAgkAAEAgAQAACCQAAACBBAAAIJAAAAAEEgAAgEACAAAQSAAAAAIJAABAIAEA\n",
       "AAgkAAAAgQQAACCQAAAABBIAAIBAAgAAEEgAAAACCQAAQCABAAAIJAAAAIEEAAAg\n",
       "kAAAAAQSAACAQAIAABBIAAAAAgkAAEAgAQAACCQAAACBBAAAIJAAAAAEEgAAAAIJ\n",
       "AABAIAEAAAgkAAAAgQQAACCQAAAABBIAAIBAAgAAEEgAAAACCQAAQCABAAAIJAAA\n",
       "AIEEAAAgkAAAAAQSAACAQAIAABBIAAAAAgkAAEAgAQAACCQAAACBBAAAIJAAAAAE\n",
       "EgAAgEACAAAQSAAAAAIJAABAIAEAAAgkAAAAgQQAACCQAAAABBIAAIBAAuBAl5mZ\n",
       "2XQnWrVqdeGFF7722mt1993Ly8s3fK3mP+dnn33m/3AACCQAat+NN96YtCt33XVX\n",
       "HX33FStWxL5LXl5eDX/OTz/91P/hABBIANR5IDX+SsOGDSs10sSJE+s6kP73f/9X\n",
       "IAEgkACIl0CKhcfWrVunTp364x//OHbT3XffLZAAEEgAHIiBFJkyZUrspssvvzx2\n",
       "fMmSJXfeeed5553XokWLU045pXPnzi+++GKVf3n198zIyLjsssti3yItLe3666/P\n",
       "zc3d+0Cq+U+4aNGi7t27h2999NFHn3zyyeHnGTNmTOzW8Jdc/5WK8TZx4sTo4C9/\n",
       "+cvYwUmTJqWnp7dr1+6oo4467rjjzjnnnAcffPAf//iHXzAAgQRAPQmkmTNnxm7K\n",
       "ysqKDj799NPNmjXb8X1Kl1xySXFxccU/vst7Jicn73jrHXfcsZeBVPOf8Nlnn63y\n",
       "npdeemlpaWm4w6GHHhodefTRR2N/asSIEdHBBg0axL5jSkrKjn9PampqYWGh3zEA\n",
       "gQRAwgfS0qVLf/7zn8dumjBhQjj47rvvhiqIjhx00EHnnHNOq1atYve54YYbYn+8\n",
       "Jve86KKLzjvvvNjBM88888ILL3zyySf3JpBq/hPOmTMnds8mTZqcffbZFWPp17/+\n",
       "dQ0Dqby8/PDDD4+OhG83aNCgW2655ZBDDtnxOwIgkABIpEBKTU39t698+9vfrvhM\n",
       "yE9/+tOtW7eGO4cAiI60bt069tzIHXfcEbvn3/72t+hgDe9Z6+9BqvlP2KFDh+hI\n",
       "ixYtFi5cGI5s2rTpBz/4QWwpahhIc+fOjf3lsdcH9u/f/1++cvLJJ/sdAxBIACRk\n",
       "IFXptNNOW7duXbjnxo0bYy8kGzp0aOxvCF0RewolhMFu3bN2A6nm3zccid2zYvzM\n",
       "nDnzhhtuiN5iFP5/XZNACj9M7Adr0qRJ+OPPPvtsVFwACCQAEjiQjjnmmO9+5Ygj\n",
       "jqjYSGlpaeGes2bNih358MMPK/4lHTt2jI5fe+21u3XP2g2kmn/f999/P3bPcHln\n",
       "37SG70H6xS9+UeUbkPr27bvLD8AFQCABEKeBFAuPsrKyqVOntm3bNnZTuPrOO+/E\n",
       "ri5YsKDiX/LTn/409mK8cLXm96zdQKr593377bdj91y0aNEuA+n3v/997OAf/vCH\n",
       "SoFUWlr6P//zPz/4wQ92/Pyo888/v7y83K8ZgEACIIEDKfLUU0/FbgqFsHLlytjV\n",
       "cePGVbznySefHB2/5557wtWa37N2A6nm33f58uWxe44dOzZ2t4ULF974tfC3xV6Y\n",
       "l5mZGbvP/fffXymQYtatW/f666/fdttthx12WOzvnzt3rl8zAIEEQMIH0urVq2M3\n",
       "9ezZMxw56qijYifCjj0xUvHZmOeffz46WMN7VgyknJycGv6ckyZN+mgHS5cu3a2f\n",
       "8Fvf+lZ05Cc/+UnsniGEooNHHnlkWVnZCSecEF09/fTTozt8+eWX7dq1qxhIw4YN\n",
       "a/aVM888M/bTVnwuKy8vz68ZgEACIOEDKTj44IOjm26++eZw9bHHHqv4sUJPPvnk\n",
       "b37zm9jZsU866aTNmzdHf7CG9ywuLo7drUWLFtV8ousuTybxwx/+cLd+wt///vcV\n",
       "T9MX/uBll10We43cLbfcEu7z4x//OHaf0EVdunQJ4RQ7suNZ7Lp3715YWLh48eIb\n",
       "brghOhL+wpKSEr9mAAIJgPoQSLFnS84///xtX7036Uc/+lGVfRIiZMqUKbE/WPN7\n",
       "Hn/88bv7QbHVBFLNv+/WrVsrfgpTRSeeeGJ04r6XXnppx1tjZ7CIvcSuU6dOO/up\n",
       "br/9dr9jAAIJgITRpUuX2G7+888/r3Tr9ddfHzuB9Zo1a6ICefTRRys+kdKoUaOf\n",
       "/OQnS5YsqfRna3jPGTNmnH766bsMpIo/Z5U6dOiwW983aqRBgwbFXmsXPeGTkZHx\n",
       "2WefRXcoLy8fMGBA+OPRrSkpKZdccsnYsWN3PElD7969W7RoUfHnCVezsrKcoQFA\n",
       "IAFwQPj000//+te/fvDBB1u2bNn7e27cuDHcbeXKlSE29v1PuHz58gkTJnz44Yeb\n",
       "Nm3a8daSkpKpU6fm5eWtXbu2mr8k/OQFBQUTv7JgwYLoo3UBEEgAAAACCQAAQCAB\n",
       "AAAIJAAAAIEEAAAgkAAAAAQSAACAQAIAABBIAAAAAgkAAEAgAQAACCT2l5UrV06c\n",
       "OLGkpKTS8aKiohU7WL9+vRUDAACBVG8NHz78lltu+fjjjysdz8rKumUHo0ePtmIA\n",
       "ACCQ6qFNmzb9+c9/jsqnUiBt2bKlS5cuvXr1yv2mDz74wLoBAIBAqldC5zzwwAO3\n",
       "3npr7KmhSoG0dOnScHDkyJHWCgAABFL9D6Tffi0zM3PHQJo2bVo4+Pbbb1srAAAQ\n",
       "SAeQxx9/fMdAeumll8LB2bNnT548+eWXXw6ltHjxYmsFAAAC6UAMpEcffTQc7Nq1\n",
       "a8UzNDz11FOlpaVWDAAABNKBFUh33313ODhw4MDp06cvWLBg9OjRUSzt8ix2twAQ\n",
       "H9q0mZaWlmMdgNpi2yyQDtxAKisrGz9+/FtvvVXx+aKZM2dGzymFW6sPJEu6Zyyd\n",
       "1bN0Vq92padvy8mxdH7xsHRWTyBRG88gValXr17hnp9++qnh8e+O1bN0xP/qZWdv\n",
       "/7J0fvGwdFZPILG3gVReXr5p06Yd327Ut2/fcM958+YZHv/uWD1Lh0Dyi2f1LJ3V\n",
       "QyAdKIE0a9ascGTYsGEV77Zly5bbb789HC8qKjI8/t2xepYOgeQXz+pZOquHQDpQ\n",
       "AikkUDiSmZlZUFAQHSkvL3/xxRfDwexdPdgaHv/uWD1LZ/UEkl88q2fprB4CqV4F\n",
       "UvDCCy+Eg126dBk6dGhubm6/fv2iMzQsXLjQ8Ph3x+pZOgSSXzyrZ+msHgKp3goJ\n",
       "tGMgbd26dezYsXfeeWd0VsdQSgMHDly+fLnh8e+O1bN0CCS/eFbP0lk9BBKGByDB\n",
       "xHMgAfZ4AgnDA4BAAuzxBBKGBwCBBNjjCSQMDwACCbDHQyAZHgAEEtilWD0EEoYH\n",
       "QCCBXYrVQyBheAAEEmCPh0DC8AAIJMAeD4GE4QEQSIA9HgIJwwMgkAB7PAQShgcg\n",
       "keTkbEtPtwyAPZ5AwvAAIJAAezyBhOEBQCCBXYrVE0gYHgAEEtilWD2BhOEBQCAB\n",
       "9ngCCcMDgEAC7PEEEoYHAIEE2OMJJAwPAAIJsMcTSBgeAAQSYI8nkDA8AAgkwB5P\n",
       "IGF4ABBIYJdi9QQShgcAgQR2KVZPIGF4ABBIgD2eQMLwACCQAHs8gYThAaBO5eVt\n",
       "S0uzDIA9nkDC8AAgkAB7PIGE4QFAIAH2eAIJwwOAQALs8QQShgeAnRNIYJdi9QQS\n",
       "hgcAgQR2KVZPIGF4ABBIgD2eQMLwACCQAHs8gYThAUAgAfZ4AgnDA4BAAuzxBBKG\n",
       "BwCBBNjjCSQMDwACCbDHE0gYHgD2VGqqNQC7FKsnkDA8AAgksEuxegIJwwOAQALs\n",
       "8QQShgcAgQTY4wkkDA8AAgmwxxNIGB4ABBJgjyeQMDwACCTAHk8gYXgAEEiAPZ5A\n",
       "wvAAIJDALsXqCSQMDwACCexSrJ5AwvAAUCsPyR6TAXs8gYThAUAgAfZ4AgnDA4BA\n",
       "AuzxBBKGBwCBBNjjCSQMDwACCbDHE0gYHgAEEmCPJ5AwPAAIJLBLsXoCCcMDgEAC\n",
       "uxSrJ5AwPAAIJMAeTyBheAAQSIA9nkDC8ABQK1JTrQFgjyeQMDwACCTAHk8gYXgA\n",
       "EEiAPZ5AwvAAIJAAezyBhOEBQCCBXYrVE0gYHgAEEtilWD2BhOEBQCAB9ngCCcMD\n",
       "gEAC7PEEEoYHAIEE2OMJJAwPAHslLc0aAPZ4AgnDA4BAAuzxBBKGB4BKgZSXZxkA\n",
       "ezyBhOEBQCCBXYrVE0gYHgAEEtilWD2BhOEBQCAB9ngCCcMDgEAC7PEEEoYHAIEE\n",
       "2OMJJAwPADWSnr4tJ8cyAPZ4AgnDA4BAAuzxBBKGBwCBBNjjCSQMDwACCexSrJ5A\n",
       "wvAAIJDALsXqCSQMDwACCbDHE0gYHgBqJDt7+xeAPZ5AwvAAIJAAezyBhOEBQCAB\n",
       "9ngCCcMDgEAC7PEEEoYHAIEE2OMJJAwPAAIJ7FKsnkDC8AAgkMAuxeoJJAwPALsh\n",
       "J2f7RyEB2OMJJAwPAAIJsMcTSBgeAAQSYI8nkDA8AAgkwB5PIGF4ABBIgD2eQMLw\n",
       "AFCtvLxtaWmWAbDHE0jsjpUrV06cOLGkpGTHmzZs2LBgwYIpU6bMmzdv/fr1hgdA\n",
       "IIEtvtVDINVzw4cPD7/xH3/8caXjU6dO7dat2y1f69q167hx4wwPgEACW3yrh0Cq\n",
       "nzZt2vTnP/856p9KgVRQUJCRkRGOh3yaNGnSH//4x+jqjBkzDA+AQAIEEgKpXvng\n",
       "gw8eeOCBW2+9NfYEUaVAGjJkSDg4atSo2JE333wzHMnKyjI8AAIJEEgIpPoWSL/9\n",
       "WmZmZqVAKi0t7dq1azhYXFwcO7hly5YoqIqKigwPgEACBBICqX56/PHHKwXSypUr\n",
       "w5GePXtWuueAAQPC8Xnz5hkeAIEECCQE0oESSAUFBeFIv379Kt1z6NCh4fj06dMN\n",
       "D0BCKCzclppqGQCBJJDYu0CaP39+ODJgwIBK93z66afD8SlTplQ/PFWyzgACCUiI\n",
       "ELKdE0gCqXIgffTRR1UGUnRC8F0GkiUFEEgQn1t/i2D1BBJ7EkjhcjjSp0+fKu9Z\n",
       "/Zm+DQ9AXBFIYJdi9QQSextIq1atCkduu+228vLyive8//77w/EFCxYYHgCBBAgk\n",
       "BNKBEkhlZWXdunULB5csWRI7uG7dui5dumRkZIQLhgdAIAECCYF0oARSMGzYsHDw\n",
       "4Ycfjj2JFJ2hoX///oYHIJEelT0sAwJJILH3gbRy5croY2F79uw5YsSI++67L1zO\n",
       "yMio/vV1hgdAIAECCYGU2KJPN6oUSMHChQuzs7NjJ3a8995758yZY3gABBIgkBBI\n",
       "GB4AgQTY4yGQMDwAiSw1dfunIQF2KVZPIGF4ABBIYJdi9QQShgcAgQTY4wkkDA8A\n",
       "laSlbcvLswyAPZ5AwvAAIJAAezyBhOEBQCAB9ngCCcMDgEAC7PEEEoYHAIEE2OMJ\n",
       "JAwPANVLT9+Wk2MZwC7F6gkkDA8AAgnsUqyeQMLwACCQAHs8gYThAUAgAfZ4AgnD\n",
       "A8BOZGdv/wKwxxNIGB4ABBJgjyeQMDwACCTAHk8gYXgAEEiAPZ5AwvAAULWcnO3n\n",
       "aQDsUqyeQMLwACCQwC7F6gkkDA8AAgmwxxNIGB4ABBJgjyeQMDwAVC0vb1tammUA\n",
       "7PEEEoYHAIEE2OMJJAwPAAIJsMcTSBgeAKogkAB7PIGE4QHgn1JTrQHYpVg9gYTh\n",
       "AUAggV2K1RNIGB4ABBJgjyeQMDwAVPXA7JEZsMcTSBgeAAQSYI8nkDA8AHxDauq2\n",
       "wkLLANjjCSQMDwACCbDHE0gYHgAEEmCPJ5AwPABUlpa2LS/PMoBditUTSBgeAAQS\n",
       "2KVYPYGE4QFAIAH2eAIJwwNAZenp23JyLANgjyeQMDwACCTAHk8gYXgAiMnO3v4F\n",
       "YI8nkDA8AAgkwB5PIGF4ABBIgD2eQMLwAFBJTs72tyEBdilWTyBheAAQSGCXYvUE\n",
       "EoYHgK/l5W3/KCQAezyBhOEBQCAB9ngCCcMDgEAC7PEEEoYHgEoKC7elploGwB5P\n",
       "IGF4ABBIgD2eQMLwACCQAHs8gYThAaCqx2YPzmCXYvUEEoYHAIEEdilWTyBheAAQ\n",
       "SIA9nkDC8ABQldTU7e9EArDHE0gYHgC2fw5SXp5lAOzxBBKGBwCBBNjjCSQMDwAx\n",
       "6enbcnIsA2CPJ5AwPABs25advf0LwB5PIGF4ABBIYJdi9QQShgeAr+XkbH+VHdil\n",
       "WASrJ5AwPABsP0NDWpplAOzxBBKGBwCBBNjjCSQMDwAxhYXbPysWwB5PIGF4ABBI\n",
       "gD2eQMLwAFDx4dnjM2CPJ5AwPAAIJMAeTyBheAD4htTU7S+0A7sUrJ5AwvAAsP0s\n",
       "dnl5lgG7FKyeQMLwACCQAHs8gYThASAmPX1bTo5lAOzxBBKGB4Bt27Kzt38B2OMJ\n",
       "JAwPAAIJsMcTSBgeAL6Wk7P9VXYA9ngCCcMDgEAC7PEEEoYHgK/l5W0/kR3YpWD1\n",
       "BBKGBwCBBHYpVk8gYXgA+Fph4bbUVMsA2OMJJAwPANEjtIdowB5PIGF4AIikpm5/\n",
       "HgnAHk8gYXgA2P4epLw8ywDY4wkkDA8A27af5jsnxzIA9ngCKcGVl5fn5+c/9NBD\n",
       "l19++TnnnHP88ce3bNnylFNO6dChwx133PHaa68VFxcbHgB2KTt7+xeAPZ5ASlRr\n",
       "16595JFHUlNTk6rVqFGjq6++eurUqYYHgGr4rFhs8S2C1RNIiWrz5s0DBw5s3rx5\n",
       "lECHH3746aeffuWVV951112PPfZYTk5OdnZ2enr6f/3Xf7Vu3TolJSW624UXXrhk\n",
       "yRLDA0CVfBQStvgWweoJpIS0fPnyE044IQRPy5Yte/TokZ+fX/39P//881BNZ599\n",
       "dvgjhxxyyLhx4wwPADvyUUiAPZ5ASkgzZ8486qijBg8e/OWXX+7WH3zzzTe///3v\n",
       "P/TQQ4YHgKofpD1KA/Z4AinhbNiwoaSkZM/+bHl5+RdffGF4AKiSj0IC7PEEEoYH\n",
       "gH/yUUiAPZ5AwvAA8E8+CgmwxxNIcW38+PH9a2D/vmrO8ADUGz4KCbDHE0hx7c47\n",
       "70yqgRUrVhgeAPaej0LCFh+rJ5Di2tatW5955pmGDRuGCnr++een7MTmzZsNDwB7\n",
       "z0chYYuP1RNICSAzMzME0rx58wwPAHXKRyEB9ngCKQG88sorAgmAffQ47YEasMcT\n",
       "SHFuyZIl/fv3LyoqiqufKvw8K3awfv16wwOQ0HwUEiCQBBJ7Iisr65YdjB492vAA\n",
       "JDQfhQQIJIGUYJYuXTp//vz9+zNs2bKlS5cuvXr1yv2mDz74wPAAJDQfhQQIJIGU\n",
       "YC699NKjjjpqv0daGIORI0caHoB6xkchAQJJIAmk3TZt2rQwBm+//bbhAahnfBQS\n",
       "tvhYPYEkkHbbSy+9FMZg9uzZkydPfvnll0MpLV682PAA1A/O9I0tPlZPIAmk3fPo\n",
       "o4+GMejatWvFMzQ89dRTpaWlhgdAIAECCYF0YAXS3XffHcZg4MCB06dPX7BgwejR\n",
       "o6NYqslZ7Krk/6wA8cOJ7IDd3cvZzgmk/am4uHj58uX78QcoKysbP378W2+9VfH5\n",
       "opkzZ0bPKYVb/dcFgITmPA3AHoSTRRBIVNarV68wG59++qnhAUhoeXnbn0QCEEgC\n",
       "KbF98cUX5eXl4UL439zc3O7duz/22GOLFi2q9W8U/v5Nmzbt+Hajvn37htmYN2+e\n",
       "4QFIaIWF3oYECCSBlMjy8/Pbt2+fkpKyfv36cPXmm29O+lqzZs2mTZtWu99u1qxZ\n",
       "YQaGDRtW8eCWLVtuv/32cLyoqMjwACS6EEghkwAEkkBKPCtWrGjevHmUQyGQ5syZ\n",
       "E11u1arV8ccfHy60a9eudr9jSKAwA5mZmQUFBdGR8vLyF198MRzM3tWL1g0PQEJw\n",
       "ngZs8bF6AilR9evXL1RQaKHp06eHq7179w5XTzvttM2bN5eUlLRu3TpcnTt3bu1+\n",
       "0xdeeCGMQZcuXYYOHZqbmxt+hugMDQsXLjQ8APWA8zRgi4/VE0iJqlOnTiGBRo0a\n",
       "FV0999xzw9URI0bEflnD1TFjxtTuN926devYsWPvvPPO6KyOoZQGDhxYk3PrGR6A\n",
       "hOA8DYBAEkiJKi0tLSTQ+++/Hy5v3LixSZMm4eqSJUuiW7t37x6uPv/884YHgJpz\n",
       "ngbAHk8gJaorrrgiJNC4cePC5ddeey1cbt26dezWjh07hiMTJkwwPADsFm9DAuzx\n",
       "BFJCeuCBB0ICtW/f/qWXXmrTpk24nJmZGd30+uuvp6SkNGzYcOXKlYYHgN3ibUiA\n",
       "PZ5ASkiffPLJIYccEjuvd+PGjaOX211//fXRkWuuucbwALC7vA0JsMcTSIlq0qRJ\n",
       "p5xySnJycrt27Z577rno4EUXXRTq6NJLLy0pKTE8AOwub0MC7PEEUmLbsGFDxavT\n",
       "p0+vyWnlDA8AO33M9qCNLT5WTyBheACIOE8DdilYPYGUGC677LJ2u+OTTz4xPADs\n",
       "LudpAOzxBFJiaNu2bdLuKCwsNDwA7C7naQDs8QRSYpg4ceKYCjp06BAq6OCDD87M\n",
       "zBw1atS4ceOGDx9+3nnnRXX05JNPbty40fAAsLucpwGwxxNIiefvf/97cnLyEUcc\n",
       "MX/+/Eo3DR48OARS27Zty8vLDQ8Ae8AzSIA9nkBKMLfeemuooEcffbTKW88444xw\n",
       "66JFiwwPAHsgJ2dberplAOzxBFLiiF5f984771R560033RRufeWVVwwPAHvAq+wA\n",
       "ezyBlGA6deoUEij2+bCVpKWlhVsnTJhgeADYM072jS0+Vk8gJZKHHnooJNBZZ51V\n",
       "UlJS6aaxY8c2aNAgOTl53bp1hgeAPeNcdtjiY/UEUiJZsGDBIYccEhrptNNOGzly\n",
       "5MKFCz///PNZs2bdfffdTZs2DcevuOIKwwPA3vAkEmCPJ5ASyahRo5KTk6v8BKST\n",
       "Tjopfp4+MjwACcqpGgB7PIGUYGbPnn3ppZc2adIklkbHHnvswIEDN2zYYHgA2EtO\n",
       "1QDY4wmkhFRWVrZ06dL33ntv/fr1hgeAWpSevv15JAB7PIGUMMrLy4uLi1dVJYST\n",
       "4QFgb3gSCbDHE0gJY/z48eecc07jxo2TdqIwPKwZHgD2jlM1APZ4AikBzJs3Lzpb\n",
       "XTUEEgB7z/m+scXH6gmkBNCjR4+QQMcdd9xTTz21atWqkqqUl5cbHgD2UmHh9kCK\n",
       "m//mBnYpVk8gUZWLL744BNLDDz9seACoa9nZ278A7PEEUvy66qqrQiC98847hgeA\n",
       "uuZUDYA9nkCKd0OGDAmBNHjwYMMDwD7gVA2APZ5AimvLly9v3br1YYcdNnv2bMMD\n",
       "QF1zqgbAHk8gxbUZM2bcfffdSUlJKSkpHTt27Nat2z07WL16teEBoLZ4EgmwxxNI\n",
       "8SsrKytpV5zmG4BalJOzLT3dMgD2eAIpLo0ZM6bLrhQVFRkeAGqLUzVgi4/VE0gY\n",
       "HgD+T3r69ueRwC4FqyeQ4t3WrVvXrFljeACoa6mpPjQWsMcTSPFq7dq1vXr1Ovnk\n",
       "kxs3bpyUlHT44Yf/53/+Z25uruEBoI7k5HihHWCPJ5Di0qxZs4488sgqT8/QsWPH\n",
       "0tJSwwNAXUhL25adbRkAezyBFE+++OKLE044IbRQs2bNevfuPXbs2JkzZ+bm5l5x\n",
       "xRVRI917772GB4C6EJ2twSm/AXs8gRRHRowYESroyCOPXLJkSaWbhg4dGm5q1KjR\n",
       "5s2bDQ8AdSHUkTcjAfZ4AimOdO3aNVTQE088UeWt//Ef/xFunT17tuEBoI5kZ29/\n",
       "rR0gkBBIcaFDhw4hgaZNm1blrRkZGeHWF1980fAAUEcKC70ZCVt8q2f1BFLcuOmm\n",
       "m0ICjRw5sspbzzvvvHDr9OnTDQ8AddpI3oyELb7VQyDFhSeeeCIkUGpq6o4ffzR6\n",
       "9OhwU4MGDTZu3Gh4AKhTzvoNAgmBFBc+//zzli1bhhA69thjhw8f/uGHH3722Wd/\n",
       "+9vf7rjjjkaNGoXjN998s+EBYB/Izt6Wnm4ZQCAhkPa3t99+u0mTJlV+DtKpp566\n",
       "YcMGwwPAPmskJ7UDgYRA2v8WL1589dVXN2vWLJZGxx577KBBg+LnBN+GB+CAaiTv\n",
       "RwKBhECKCytWrJg7d+769esNDwD7i/PagUBCIO1/+fn5n332WXR51apVU6ZM2bp1\n",
       "q+EBYH81UggkjQQCCYG0Hyxfvvyss85KSkp68sknoyNjx44NV4888shRo0YZHgD2\n",
       "F29Jwhbf6iGQ9rUvv/wyNTU1et/RiBEjooOTJk1KTk6udNDwALDvebkdtvhWD4G0\n",
       "Tw0fPjx6suiZZ54pKyuLHf/oo4+uvvrq6Kb4OZGd4QE4MBspNVUjgUBCIO0TN9xw\n",
       "Q6ig3r1773jTpk2bovPa/f3vfzc8AOzfRvJyOxBICKR9oUOHDiGBJk6cWOWtnTp1\n",
       "Crfm5uYaHgD2O2cAB4GEQKpz1113XUignJycKm+9+OKLw61//etfDQ8A8cBbkkAg\n",
       "IZDq1pAhQ0ICnX766Tt+9tHMmTObNm0abi0qKjI8AMRPIzkDOAgkBFJdWbZs2eGH\n",
       "Hx4q6JRTTsnJyfn444+Li4s/+OCDPn36RMcvvPBCwwNAvIlebreTF0AAAkkgsRf+\n",
       "8pe/NGjQIKkqRx99dOzTYw0PAPEmPV0mYZdi9QQSdaCgoOCaa66JzlkXOeKII+66\n",
       "667Vq1cbHgDiWWGhTMIuxeoJJOrAli1bxowZk5WVlZ6eXlRUNGvWrB3flWR4AIjz\n",
       "TPLeJBBIAola0L9//6OOOir29FE4cv755zdt2rRPnz6GB4AEyqTovUkhlpwNHASS\n",
       "QGIP3XXXXVEXHXPMMbFAuvLKK6PLffv2NTwAJJacnO1nA/eEEggkgcRumzx5cqig\n",
       "Bg0ajBgxIlxt0aJFFEibN29+8MEHw+XmzZuvW7fO8ACQcKInlKJSSk/fXk2eVgKB\n",
       "JJDYhT59+oQK6tmzZ3Q1FkiRNm3ahKtTpkwxPAAkdCmFOgqNVDGWAIEkkKjChRde\n",
       "GBJo8uTJVQbSjTfeGK6+8MILhgeAehZL4eFOLIE9nkCisuuuuy4k0F/+8pcqAynK\n",
       "J88gAVC/YymUUvSGJa/Bwy7F6gmkA92QIUNCAoUQ2jGQ8vPzmzRpkpycHD/n+zY8\n",
       "ANRRKVV8w1L4X2d3wC7F6gmkA1RRUVGrVq1CFF1yySXTpk074ogjwuXly5c/9dRT\n",
       "LVu2DJd/8YtfGB4ADqhYysv7v1iKvsLl9PTtB6MzPYT7APZ4AqnemjhxYrNmzZKq\n",
       "ctJJJ8XVx8UaHgD2fS9FyRTSKARS7EwP0VuYonCKnSLPK/TAHk8g1RMrVqy49tpr\n",
       "Dz/88Fgaffvb337kkUe+/PJLwwMAO2unKJxip8gLX1E4Rad/iMLJ6cXBHk8gJbBP\n",
       "P/101qxZRUVFhgcA9jicotM/ROEUtVMsnKInnWLh5NV6YI8nkOLUF198UV5eHi6E\n",
       "/83Nze3evftjjz22aNEiwwMAtRhO0ZNOsXDyNiewxxNIcSc/P799+/YpKSnR241u\n",
       "vvnm2AvtmjVrNm3aNMMDAPsmnKp5m1PUTrE3OykoBBICqU6sWLGiefPmUQ6FQJoz\n",
       "Z050uVWrVscff3y40K5dO8MDAPtR1EVRO8Xe7BQrqJ1FlIKyS7F6Aok90a9fv1BB\n",
       "oYWmT58ervbu3TtcPe200zZv3lxSUtK6detwde7cuYYHAOJQxWefKkVUVFA7iyhP\n",
       "Q9mlWD2BRNU6deoUEmjUqFHR1XPPPTdcHTFiROyXNVwdM2aM4QGA+hRRVT4NVfGs\n",
       "5SIKezyBdIBKS0sLCfT++++Hyxs3bmzSpEm4umTJkujW7t27h6vPP/+84QGAel9Q\n",
       "Fc9aXpPX8skn7PEEUj10xRVXhAQaN25cuPzaa6+Fy61bt47d2rFjx3BkwoQJhgcA\n",
       "iNnxZBI7fvSTdsIeTyAlpAceeCAkUPv27V966aU2bdqEy5mZmdFNr7/+ekpKSsOG\n",
       "DVeuXGl4AICdqfKjnyqdwTxqp+h5KrDHE0jx65NPPjnkkENi5/Vu3Lhx9HK766+/\n",
       "PjpyzTXXGB4AYI/DqeIr96KX7VX5sbkIJARSvJg0adIpp5ySnJzcrl275557Ljp4\n",
       "0UUXhTq69NJLS0pKDA8AUHftFHvSqeJHP0VPNyGQEEh1rqysbNOmTTse37BhQ8Wr\n",
       "06dPX758eaX7lJeXV7qb4QEAajecYtVUZTLFbTXZpVg9gZSo/v73v7dq1erpp5/e\n",
       "unXrbv3Bt95668wzz3zooYcMDwCwv5Ip9u6m6GR68dNLdilWTyAlqiVLlrRs2TIp\n",
       "KalNmza/+93vYmf03pni4uKhQ4e2b98+/JGDDz54/34mkuEBAGJCIMWeZYq3XsIe\n",
       "TyAlkjVr1tx8883JycmhecL/Hn/88R06dLjxxhv79u373HPPvfDCC/3798/IyLjg\n",
       "ggtOOOGEhg0bRmdruPrqq5ctW2Z4AIB4E51Dr1IveReTQBJI7J65c+dmZmZWPIVd\n",
       "lQ466KCbbrrpww8/NDwAQAL1UsV3MUW9hEASSOza+vXr33jjjR49evzwhz888cQT\n",
       "Dz/88EMPPfSEE074wQ9+cOutt44ePXrdunWGBwCoB70klgSSQMLwAADsNJa8bcke\n",
       "TyBheAAA/il625KnlezxBBKGBwDgn2JPK+1NKdml2OMJJAwPAFDfVCyl3Xr1nV2K\n",
       "PZ5AwvAAAPVT9JxS9Oq77GzrYY8nkDA8AABflVIIpCiTwmXs8QQShgcA4J+nc/Bs\n",
       "kj2eQDqAfPHFF+Xl5eFC+N/c3Nzu3bs/9thjixYtMjwAANu+fjZJJtnjCaT6Lz8/\n",
       "v3379ikpKevXrw9Xb7755qSvNWvWbNq0aYYHAKBiJqWm+gAlezyBVE+tWLGiefPm\n",
       "UQ6FQJozZ050uVWrVscff3y40K5duzr61hs2bFiwYMGUKVPmzZsXtZnhAQASJZOc\n",
       "v0EgCaT6qV+/fqGCQgtNnz49XO3du3e4etppp23evLmkpKR169bh6ty5c2v9+06d\n",
       "OrVbt263fK1r167jxo0zPACw33b8xZuy31yc+uDU9Bfm5S1cY0FqIgRSerpdikAS\n",
       "SPVLp06dQgKNGjUqunruueeGqyNGjIj9soarY8aMqd1vWlBQkJGREf7y4cOHT5o0\n",
       "6Y9//GN0dcaMGYantoRHuJ09vHnYA2DHR43wFQIpXM6Z+WnaH2aHq+GClal+0bZX\n",
       "5Vcvt6u0S/FQK5AEUgJLS0sLCfT++++Hyxs3bmzSpEm4umTJkujW7t27h6vPP/98\n",
       "7X7TIUOGhDGIVVnw5ptvhiNZWVmGp7aEf7LDw9uO/0CHI+EfdOsDQCRUUPoL88Kj\n",
       "xo6PI+G49an+oTZqpPT0/3seyUOtQBJICe+KK64ICRS9vO21114Ll1u3bh27tWPH\n",
       "juHIhAkTavE7lpaWdu3aNYxBcXFx7OCWLVtuvfXWcLCoqMjw1F0jRf9k+89aAMRU\n",
       "+V/TYo8a4VZLVJNGSkvzUCuQBFJ98cADD4QEat++/UsvvdSmTZtwOTMzM7rp9ddf\n",
       "T0lJadiw4cqVK2vxO4a/LcxAz549Kx0fMGBAOD5v3jzDU0eN5J9sAHY3garJJyo1\n",
       "Unq6h1qBJJDqhU8++eSQQw6Jnde7cePG0cvtrr/++ujINddcU7vfsaCgIMxAv379\n",
       "Kh0fOnRoOB6dK8Lw1HojRe+79U82ABWlvzCv+jcaRS/As1A1aaTU1G0eagWSQKon\n",
       "Jk2adMoppyQnJ7dr1+65556LDl500UWhji699NKSkpLa/Xbz588PMzBgwIBKx59+\n",
       "+ulwfMqUKdVMTjV2dn/Hw8G0W/tvS0ry5cuXL1++qv/a8XEkbP3/5c4/ezzd5fFQ\n",
       "kknZSRVr0/pUeXy39nIIpP1sw4YNFa9Onz59+fLldfGNPvrooyoDafjw4dUHkv+6\n",
       "sGeip/ujUxL5z1oAVOQZpFp8qA2B5KF2j9njCaQD2scffxxmoE+fPpWOP/7447s8\n",
       "07fh2bN/sqN/rHd2XjsADljRa8OquUP07hoLVZOH2ja92nioFUgCKVH99re/7dy5\n",
       "86BBg8LlV155pfOufP7557X43VetWhVm4LbbbisvL694/P777w/HFyxYYHjqoo5i\n",
       "D4T+4QagImexq5WH2tTBqdEuxUOtQBJICalt27ZJSUkXX3xxuJyVlZW0K4WFhbX4\n",
       "3cvKyrp16xbGIPZpS8G6deu6dOmSkZERLhieOqqjio1kfQCISX9hXpWPF7t8AZ6H\n",
       "2uihNm1kWvrodA+1AkkgJbAnn3zywQcffPHFF8PlyZMnP7gra9eurd0fYNiwYWEM\n",
       "Hn744diTSNEZGvr37294aks1J9LxYgkAKorepxoeOLLfXBweI6ITn/qo0xo+1IY0\n",
       "CoHkoVYgCaQDyLvvvlv9szp7YOXKldHHwvbs2XPEiBH33XdfuJyRkVH96+sMDwDU\n",
       "nVgaRZlkQWoipNGOdYRAEkiJbciQIU888USVN5WVlfXv379Ro0a1+xK7yMKFC7Oz\n",
       "s2Mndrz33nvnzJljeACAxOjJNYWpg1Oz87IthUASSPVN9B6kn/3sZ5WeJvrkk0/O\n",
       "O++8ungPkuEBABI6jUIXhTrKK8yzGvZ4Aqkeeu6551JSUkIF/du//dusWbOig6++\n",
       "+uoRRxwR1VF6evqXX35peAAAojTyxJE9nkCq5/Ly8o499tjQQk2aNPn9739/8803\n",
       "R2nUsmXLN954w/AAAIQoSgr/b+dpZJdijyeQ6pXVq1dfddVVFU/t3blz53DQ8AAA\n",
       "B7LYC+p2+ayRXYo9nkCqb6ZOndq0adOojr71rW/V5JQJhgcAqMddlDYyzQvq7PEE\n",
       "0oFo8+bNv/71r6N3Iv3rv/5rixYtwoVGjRr17du3tLTU8AAAB46c/Jz00elRFzkN\n",
       "gz2eQDoQzZ0799RTT42eOPrRj3702WefFRUVXXHFFdGRM84448MPPzQ8AEA9Fj1f\n",
       "FLooKTsp/G9oJGtijyeQDlzRab4bNmz4u9/9rqysLHZ8+PDhBx98cHTmhlBNhgcA\n",
       "qH8qvo5OF9njCST+GUitW7eeOnXqjjfNnz//jDPO8DlIAEC9EXtzUVJ2ktfRCSSB\n",
       "RBWmTZtWzdnqtmzZct999xUVFRkeAEAUYY8nkA508+fP79Wr1z/+8Q/DAwAkUBHl\n",
       "5Ofs4yiyS7F6Aqk+27BhwzPPPPP//t//i07V4CV2AECcF1Hon4pFlD46fR8/U2SX\n",
       "YvUEUv00a9aszMzMQw89NPaJscnJycuWLTM8AEC8qVhE4YLXzgkkgUStWbt27R/+\n",
       "8IfTTz89qYLvfe97AwYMiJ86MjwAcAAqXFNY8SVzoYX213NE2OMJpAPCpEmTrrvu\n",
       "uqZNm1ZMo8suu2z27NmGBwDY9zkUvViu4rNDFXMo3MEqCSQEUu1buXLlwIED27Rp\n",
       "E4ui0Eg/+9nP/v3f/z1cHj58uOEBAOo0hCq2UOifSi+W8+yQQEIg7TsZGRmNGjWK\n",
       "uiglJeVHP/pRTk7O+vXrw02//OUvBRIAUIshFDoneoFc9KRQxeeFYi3kQ1oFkkUQ\n",
       "SPtT27ZtQwU1btz4oYce+vTTTyveJJAAgD2ooNjbhCo+HRR7Rih6gVz0pJDnhbDH\n",
       "E0hxGkjBMccc06NHj/fee08gAQA1F6ug2CkTYm8Tip4OOgAryC7F6gmkBLZgwYJe\n",
       "vXodffTRsTcgnXrqqYMGDVqxYoVAAoADTeztQBVfCxf1T6UEip4LikIoqiCnTLBL\n",
       "sXoCqf4oLS197bXXLrnkkgYNGsTej3TQQQeFC8OGDTM8AFDP+meX8VPxtXBR/0gg\n",
       "7PEE0oHok08+efDBB7/zne/EnlBq3rz5TTfd9M477xgeAEjo+Kn05I/4QSAJJGqq\n",
       "vLx8woQJ11xzTZMmTWKl9N3vfrdPnz4bN240PACwv8Tip9I7f8QPAgmBtC8UFxcP\n",
       "GTLk1FNPjWVSYWGh4QGAulPxWaBKJz+oGD/e+YNAQiDtTzNnzgy/rM2bN1+6dKnh\n",
       "AYC9r6AqPxq1UghJIAQSAimubdq0yfAAwO6GUE0+GtUnAoE9nkDC8ABQf0Ko4tkR\n",
       "dvahQD4a1S4FqyeQMDwA1M8QquYNQl4XZ5diEayeQMLwAFA/cyh6RsgbhMAeTyBh\n",
       "eAA4QLso9jK56G1C1gTs8QTSgaisrMzwAHCAR1H0NFH0MjnLAvZ4AumA1rdv37PO\n",
       "Omvo0KFr1641PAAcIFEUvkQR2OMJJKqQlZUVfRps06ZNO3fu/Ne//rW8vNzwAFDP\n",
       "oih6W1F0frkokCwL2OMJJKqwZMmS7Ozsk046Kelrxx9/fJ8+fZYtW2Z4AEj0Lqr0\n",
       "tiInVwCBJJCoqTlz5vz6178OdRRlUkpKyo9//OPc3Nwvv/zS8ACQWGJd5Jki7FKs\n",
       "nkBib82YMaN79+6tWrWKSulb3/pWt27d3nvvPcMDQJyLnjLyziLsUqyeQKKWrV69\n",
       "eujQoc2bN0+q4Pzzz9/vmWR4ANhZGqWPTveUEQgkgURt2rRp05/+9KfLL7+8cePG\n",
       "URQdddRRPXr0yMjI+Jd/+ZfoRA7vv/++4QEgDtMoJz/HaoBAEkjUgrKysgkTJvzq\n",
       "V7869NBDoy5KTk4+//zzc3NzN2/eHN1n7dq1F1xwQbjp1ltvNTwAxAlpBAIJgVTL\n",
       "Xn311djbjYKjjz76nnvuWbhw4Y73HD16dLjDVVddZXgA2O+i9xpJIxBICKRaFn0O\n",
       "UnJycseOHf/0pz9t2bJlZ/ccN27cBRdc8MQTTxgeAPavtJFp4cs6gEBCINW+n//8\n",
       "52ecccaIESMMDwDxr3BNoTMxgEBCINWhO+64IykpqXPnzoYHgDiXV5gX6sj5u7FL\n",
       "sXoIpDr06quvhkBq3bp1SUmJ4QEgbkWf/WodsEuxegikurVhw4ZLLrkkNNI111yz\n",
       "bt06wwNAvClcUxjSyMvqQCAhkPaF999//9lnn/3ud78bGumwww77xS9+cc899wz4\n",
       "prVr1xoeAPaLvMK8pOwkL6sDgYRA2keis9hVr7Cw0PAAsO9F5/IuXFNoKUAgIZD2\n",
       "kT/96U8/35XPP//c8ACwL0Uvq/OmIxBICCQMD4A6ci5vsMdDIMWlIUOGdOjQYenS\n",
       "pYYHgH0jJz/HubxBICGQ9qeioqKRI0d279799m8Kv6ktW7ZMSkp6+eWXDQ8A+4Bz\n",
       "eWOLb/UQSPtZcXHxySefXP1JGgoKCgwPAHXNm46wxbd6CKT9b/DgwSGBGjZs2KlT\n",
       "p7Zt24bLZ5999l133RV9OFI4/u677xoeAOpaXmFe6uBU6wACCYG0n1155ZUhhAYO\n",
       "HBguL1u2LCUlJRyJbsrJyQk33XTTTYYHgDpVuKbQhx2BQEIgxYW0tLRQQfn5+dHV\n",
       "E0444cQTT4zdesYZZ4RbfVAsAHX7YDQyzTnrQCAhkOJC9FK6MWPGRFcvv/zyxo0b\n",
       "l5aWxn5Zw62TJk0yPADUESdmAOzxBFIcyczMDAnUo0eP6Grv3r3D1YkTJ0ZXf/Wr\n",
       "X4Wro0aNMjwA1AVvPQLs8QRSnD0y5eWFBGrQoMEdd9yxbNmyN998M1z9/ve/P3v2\n",
       "7JBJhx56aLg6efJkwwNArfPWI8AeTyDFo2uvvTY6nfcbb7yxdevW73znOxXP8X3M\n",
       "Mcds3rzZ8ABQ67z1CFt8rJ5Aikfl5eXPPvvsddddN3Xq1HD1vffeizVSixYt4ucN\n",
       "SIYHoD7x1iNs8bF6AimRLF68+OOPPw7tZHgAqJNH9OykwjWF1gGwxxNIcSq0UHFx\n",
       "8aqqlJWVGR4AalH66PSc/BzrANjjCaR4NH78+HPOOadx48ZJO1FYWGh4AKjNh/Ns\n",
       "D+iAPZ5Aikvz5s1r2rRpUrUEEgC1KCc/J310unUA7PEEUjzq0aNHSKDjjjvuqaee\n",
       "WrVqVUlV4uedSIYHoB5IHZzq3UeAPZ5AilMXX3xxCKSHH37Y8ACwD3j6CLDHE0hx\n",
       "7aqrrgqB9M477xgeAPaBtJFpPhkWW3ysnkCKX0OGDAmBNHjwYMMDwL54IHd6Bmzx\n",
       "sXoCKZ4tX768devWhx122OzZsw0PAHUqOy87fFkHwB5PIMWvGTNm3H333UlJSSkp\n",
       "KR07duzWrds9O1i9erXhAWDvOT0DYI8nkOJdVlZW0q44zTcAe8/pGQB7PIGUAMaM\n",
       "GdNlV4qKigwPAHvJ6RkAezyBhOEBYLuQRiGQrANgjyeQMDwAbEsfnZ6Tn2MdAHs8\n",
       "gRSPfvvb33bu3HnQoEHh8iuvvNJ5Vz7//HPDA8BePX47uze2+Fg9gRS32rZtm5SU\n",
       "dPHFF29zkgYA6p7TM2CLj9UTSHHtySeffPDBB1988cVwefLkyQ/uytq1aw0PAHvM\n",
       "2b0BezyBhOEBYDtPHwH2eAIJwwPAPzk9A2CPJ5ASyeTJk39XrYceeujVV19duHCh\n",
       "4QFgTx65nZ4BsMcTSAmkJidpiFx++eXLli0zPADUXHZedviyDoA9nkBKGOPHj//J\n",
       "T34SJVDLli0vuuiin/70pyeddFJ0JDU19YYbbjjrrLOiq+3bty8vLzc8ANRQ6uBU\n",
       "iwDY4wmkRLJo0aKjjz66QYMGI0aMKC0tjR2fOXNmmzZtkpOTH3/88XB16tSphx12\n",
       "WGik6Nx3hgeAGj1se30dtvhYPYGUWPr16xey57e//e2ONy1fvrxRo0Yhn6Krzzzz\n",
       "TLjnPffcY3gAqAnnr8MWH6snkBLPxRdfHLJn0qRJVd565plnhlsLCgrC5SVLloTL\n",
       "V155peEBoCa8AQmwxxNIiadz584he3Jzc6u89Xvf+1649aOPPhJIAOwuJ/gG7PEE\n",
       "UuL5wx/+ELLn3HPP/fLLLyvdNH78+OTk5ObNm0cnZnjkkUfCPbt37254AKiJ1MGp\n",
       "hWsKrQNgjyeQEsmiRYuaNWsWyufss89+5ZVXli5dumrVqnfffbdXr14HHXRQOJ6e\n",
       "vv3l44MGDWratGm4+s477xgeAHYppJFT2AH2eAIpIY0dO7Zhw4ZVfvZRu3btSkpK\n",
       "wn1SU1PD1Z/97GeGB4CacIYGwB5PICWw/Pz8zp07N27cOJZGLVq0+N3vfrdhw4bo\n",
       "DjfeeOPjjz++ZcsWwwNATXgDEmCPJ5ASXllZ2bJly+bMmbNmzRrDA8De8AYkbPGx\n",
       "egKpHhoyZEiHDh2WLl1qeADYvQdsHxGLLT5WTyAlqKKiopEjR3bv3v32bwq/qS1b\n",
       "tkxKSnr55ZcNDwA15w1IgD2eQEpUxcXFJ598clK1og+KrYswW7GD9evXGx4AgQQI\n",
       "JATS/jF48OCQQA0bNuzUqVPbtm2j833fddddl1xySXT83XffraNvnZWVdcsORo8e\n",
       "bXgAEp0zNAACSSAlqiuvvDKE0MCBA8PlZcuWpaSkhCPRTTk5OeGmm266qS6+75Yt\n",
       "W7p06dKrV6/cb/rggw8MD0Cic4YGQCAJpESVlpYWKig/Pz+6esIJJ5x44omxW884\n",
       "44xw69q1a2v9+y5dujRMwsiRIw0PQD18tHaGBsAeTyAlqOildGPGjImuXn755Y0b\n",
       "Ny4tLY39soZbJ02aVOvfd9q0aeEvf/vttw0PQD3jDUiAQBJICSwzMzMkUI8ePaKr\n",
       "vXv3DlcnTpwYXf3Vr34Vro4aNarWv+9LL70UJmH27NmTJ09++eWXQyktXrzY8ADU\n",
       "A96AhC0+Vk8gJbC8vLyQQA0aNLjjjjuWLVv25ptvhqvf//73Q7qETDr00EPD1dAw\n",
       "tf59H3300TAJXbt2rXiGhqeeeir25JXhAUhQ3oCELT5WTyAltmuvvTY6nfcbb7yx\n",
       "devW73znOxXP8X3MMcds3ry51r/p3XffHSZh4MCB06dPX7BgwejRo6NY2uVZ7Krk\n",
       "/4gAcfRQ7Q1IwG7u5WznBFJ8KS8vf/bZZ6+77rqpU6eGq++9916skVq0aLE3b0Da\n",
       "uHHjc9/06quvhuNlZWXjx49/6623Kj5fNHPmzOg5pXCr/7oAkLjSRqZZBGB3w8ki\n",
       "CKR4t3jx4o8//ji00978JatXr6703wZ69epVzf3DreE+n376qeEBSFDO0AAIJIGU\n",
       "8ELGPPbYY5mZmb/aiVWrVu3Z31xaWlrwTcuWLdv21XNWmzZt2vHtRn379g3jMW/e\n",
       "PMMDkKCy87LDl3UABJJASlRFRUWpqalJ1SosLKzdbzpr1qwwBsOGDat4cMuWLbff\n",
       "fns4Hn4kwwOQoJzCDhBIAimxPfDAA9FZ7C677LJ77rmnd1XWrFlT61UWxiAzM7Og\n",
       "oCA6Ul5e/uKLL4aD2dnZhgcgcaWNTMsrzLMOgEASSInq8ssvD4HUv3//ffx9X3jh\n",
       "hTAJXbp0GTp0aG5ubr9+/aIzNCxcuNDwACQu5/jGFh+rJ5AS2wUXXFBHn3RUva1b\n",
       "t44dO/bOO++MTt4QSmngwIHLly83PACJ/TjtHN/Y4mP1BFJCy8rKCoH0m9/8xvAA\n",
       "sJcK1xSmDk61DoA9nkBKYPn5+U2aNDnuuOPmz59veADYG3mFeT4ECbDHE0gJLzc3\n",
       "Nzpb3TnnnHN7VYqLiw0PALvkQ5AAezyBlPD+8Y9/tGnTZh+f5tvwANRLPgQJsMcT\n",
       "SAlv0KBBIYGSk5PPP//822+//a6qeAYJgJrwIUiAPZ5ASnhXXHFFCKQHH3zQ8ACw\n",
       "l3wIEmCPJ5AS3n//93+HQPrb3/5meADYSz4ECVt8rJ5ASniPPPJICKRhw4YZHgD2\n",
       "9kHahyBhi4/VE0iJbtmyZcccc8xRRx1VUFBgeADYYz4ECbDHE0j1wYwZMzIyMpKS\n",
       "kpo0aXLNNdfcU5XVq1cbHgCq50OQAHs8gVQfZGVlJe2K03wDsEs+BAmwxxNI9cGY\n",
       "MWO67EpRUZHhAaB6PgQJsMcTSBgeAP7JhyAB9ngCCcMDwD/5ECTAHk8gJaolS5Ys\n",
       "2B2lpaWGB4Dq+RAkbPEtgtUTSImqbdu2SbvDSRoA2PUjtA9BwhYfqyeQBJLhAWCb\n",
       "D0EC7PEEUkIrKCiYtTs2b95seACohg9BAuzxBBKGBwCBBNjjCSQMDwDf5FNiAXs8\n",
       "gYThAUAgAfZ4AgnDA8A3Zedlhy/rANjjCSQMDwDb0ken5+TnWAfsUrB6AgnDA4BA\n",
       "ArsUqyeQMDwAfC1tZFpeYZ51AOzxBBKGB4BtqYNTC9cUWgfAHk8gYXgAEEiAPZ5A\n",
       "wvAAEHt4zvYADdjjCSQMDwACCbDHE0gYHgBiCtcUpg5OtQ6APZ5AwvAAIJDALsXq\n",
       "CSQMDwBfyyvMSxuZZh2wS7EIVk8gYXgA2JaTn5M+Ot06APZ4AgnDA4BAAuzxBBKG\n",
       "B4CvZedlhy/rANjjCSQMDwDb0ken5+TnWAfAHk8gYXgAEEiAPZ5AwvAAIJAAezyB\n",
       "hOEBoJK0kWl5hXnWAbsUi2D1BBKGB4BtqYNTC9cUWgfsUiyC1RNIGB4AtiVle3QG\n",
       "7PEEEoYHAIEE2OMJJAwPAAIJsMcTSBgeACorXFOYOjjVOgD2eAIJwwOAQALs8QQS\n",
       "hgcAgQTY4wkkDA8AleQV5qWNTLMOYJdi9QQShgcAgQR2KVZPIGF4APhaTn5O+uh0\n",
       "6wDY4wkkDA8AAgmwxxNIGB4ABBJgjyeQMDwAVJKdlx2+rANgjyeQMDwACCTAHk8g\n",
       "YXgAEEiAPZ5AwvAAUEn66PSc/BzrAHYpVk8gYXgAEEhgl2L1BBKGBwCBBNjjCSQM\n",
       "DwCVpI1MyyvMsw6APZ5AwvAAIJAAezyBhOEB4Gupg1ML1xRaB8AeTyBheAAQSIA9\n",
       "nkDC8AAgkAB7PIGE4QGg8gNztodmsEuxegIJwwOAQAK7FKsnkDA8AAgkwB5PIGF4\n",
       "AKhC6uBUiwDY4wkkDA8AAgmwxxNIGB4AKkgbmWYRAHs8gYThAWBbXmGeQALs8QQS\n",
       "hgcAgQTY4wkkDA8AFeTk56SPTrcOYJdi9QQShgcAgQR2KVZPIGF4ABBIgD2eQMLw\n",
       "ACCQAHs8gYThAUAgAfZ4AgnDA0C1svOyw5d1AOzxBBKGBwCBBNjjCSQMDwACCbDH\n",
       "E0gYHgAEEtilWD2BhOEBoGrpo9Nz8nOsA9ilWD2BhOEBQCAB9ngCCcMDgEAC7PEE\n",
       "EoYHAIEE2OMJJAwPAFVLG5mWV5hnHQB7PIGE4QFAIAH2eAIJwwOAQALs8QQShgcA\n",
       "gQR2KVZPIGF4AKha6uDUwjWF1gHsUqyeQMLwACCQAHs8gYThAUAgAfZ4AgnDA4BA\n",
       "AuzxBBKGB4CdPCpne1wG7PEEErtj5cqVEydOLCkp2fGmDRs2LFiwYMqUKfPmzVu/\n",
       "fr3hARBIgEBCINVzw4cPD7/xH3/8caXjU6dO7dat2y1f69q167hx4wwPgEACBBIC\n",
       "qX7atGnTn//856h/KgVSQUFBRkZGOB7yadKkSX/84x+jqzNmzDA8AAIJbPGtHgKp\n",
       "Xvnggw8eeOCBW2+9NfYEUaVAGjJkSDg4atSo2JE333wzHMnKyjI8AAIJbPGtHgKp\n",
       "vgXSb7+WmZlZKZBKS0u7du0aDhYXF8cObtmyJQqqoqIiwwOQKFIHp1oEQCAJJHbD\n",
       "448/XimQVq5cGY707Nmz0j0HDBgQjs+bN8/wAAgkQCAhkA6UQCooKAhH+vXrV+me\n",
       "Q4cODcenT59ueAASQuGaQoEECCSBxN4G0vz588ORAQMGVLrn008/HY5PmTKl+uGp\n",
       "knUGEEhAQoSQ7ZxAqrc2btz43De9+uqrNQmkjz76qMpAik4IvstAsvIAcSKvMC9t\n",
       "ZJp1AGolnCyCQEp4q1evrtT9vXr1qkkghcvhSJ8+faq8Z/Vn+jY8AAIJEEgIpHhU\n",
       "Wlpa8E3Lli2rSSCtWrUqHLntttvKy8sr3vP+++8PxxcsWGB4AAQS2OJbPQRS/bRj\n",
       "IJWVlXXr1i0cXLJkSezgunXrunTpkpGRES4YHgCBBLb4Vg+BdKAEUjBs2LBw8OGH\n",
       "H449iRSdoaF///6GB0AgAQIJgXRgBdLKlSujj4Xt2bPniBEj7rvvvnA5IyOj+tfX\n",
       "GR4AgQQIJARSYos+3ahSIAULFy7Mzs6OneDh3nvvnTNnjuEBEEiAQEIgYXgAEk9O\n",
       "fk766HTrANjjCSQMDwACCbDHE0gYHgAEEmCPJ5AwPAAIJLBLsXoCCcMDgEACuxSr\n",
       "J5AwPAAIJMAeTyBheAAQSIA9nkDC8ACwG7LzssOXdQDs8QQShgcAgQTY4wkkDA8A\n",
       "AgmwxxNIGB4ABBJgjyeQMDwACCSwS7F6AgnDA4BAArsUqyeQMDwA1ET66PSc/Bzr\n",
       "ANjjCSQMDwACCbDHE0gYHgAEEmCPJ5AwPAAIJMAeTyBheAAQSIA9nkDC8AAgkAB7\n",
       "PIGE4QFAIIFditUTSBgeAHZD2si0vMI86wB2KVZPIGF4ABBIgD2eQMLwACCQAHs8\n",
       "gYThAUAgAfZ4AgnDA4BAAuzxBBKGB4BdBZJFAOzxBBKGB4DtUgenWgTAHk8g8f/b\n",
       "ux+4qur7j+NpzbRVpm7l2npYNtO5WT5q9m+rZfbP9qdla22PHrM/8xGgoijJ1GWi\n",
       "iIrm8A9FoiiUG0KoqEkhGEr+RQUVlD8iEIJh3iEgiAL3+vv8/Dw6j+O9cjmXiAa+\n",
       "no899uCee+65l4/ny/28O+d8D4MHAEBAAuhSqB4BCQweAAABCaBLoXoEJDB4AAAE\n",
       "JAD0eAQkMHgAAAQkAPR4BCQweAAABCQA9HgEJDB4AAAEJAD0eAQkMHgAAAQkAPR4\n",
       "BCQweAAABCQA9HgEJDB4AAAEJIAuheoRkMDgAQC0xldyIF/KAF0K1SMggcEDACAg\n",
       "AaDHIyCBwQMAICABoMcjIIHBAwAgIAGgxyMggcEDACAgAaDHIyCBwQMAICABoMcj\n",
       "IIHBAwAgIAGgxyMggcEDACAgAXQpVI+ABAYPAICABNClUD0CEhg8AAACEgB6PAIS\n",
       "GDwAAAISAHo8AhIYPACAVnT7wtspAgB6PAISGDwAAAISAHo8AhIYPAAAAhIAejwC\n",
       "Ehg8AAACEgB6PAISGDwAAAISQJdC9QhIYPAAAAhIAF0K1SMggcEDACAgAaDHIyCB\n",
       "wQMAICABoMcjIIHBAwAgIAGgxyMggcEDAPgmHot6jCIAoMcjIIHBAwAgIAGgxyMg\n",
       "gcEDACAgAaDHIyCBwQMAICABdClUj4AEBg8AgIAE0KVQPQISGDwAAAISAHo8AhIY\n",
       "PAAAAhIAejwCEhg8AAACEgB6PAISGDwAAM+lFqUSkADQ4xGQwOABABCQANDjEZDA\n",
       "4AEAEJAA0OMRkMDgAQC4Wpm58tWEV6kDQJdC9QhIYPAAAAhIAF0K1SMggcEDACAg\n",
       "AaDHIyCBwQMAICABoMcjIIHBAwAgIAGgxyMggcEDACAgAaDHIyCBwQMAICABoMcj\n",
       "IIHBAwAgIAGgxyMggcEDACAgAXQpVI+ABAYPAICABNClUD0CEhg8AAACEgB6PAIS\n",
       "GDwAAAISAHo8AhIYPAAAAhIAejwCEhg8AAACEgB6PAISGDwAAAISAHo8AhIYPAAA\n",
       "AhIAejwCEhg8AIC2E5gaKP+jDgBdCtUjIIHBAwAgIAF0KVSPgAQGDwCAgASAHo+A\n",
       "BAYPAICABIAej4AEBg8AgIAEgB6PgAQGDwCAgASAHo+ABAYPAICABIAej4AEBg8A\n",
       "gIAEgB6PgAQGDwCAgATQpVA9AhIYPJQOVI/SUb0OGZDY8agepaN6BCT87yovL9+6\n",
       "dWtNTY3TcpvNVuaiurqawcPfHapH6UBAYsejepSO6oGA1GFFRETIHn/06FGn5dOn\n",
       "T3/DRUJCAoOHvztUj9KBgMSOR/UoHdUDAakDqqur27BhgyYfp4BUX1/v7e0dEBAQ\n",
       "e6msrCwGD393qB6lAwGJHY/qUTqqBwJShyI5Z8aMGWPGjDEODTkFpC+++EIWRkVF\n",
       "MXj4u0P1KB0ISOx4VI/SgeoRkDp+QHr7az4+Pq4BaefOnbIwJSWFwcPfHapH6UBA\n",
       "YsejepQOVI+AdAUJCwtzDUhxcXGyMCMjIy0tLT4+XpJSYWEhg4e/O1SP0qEdVe/V\n",
       "hFdXZq6kdOx4oHRUj4CEVghIoaGhsnD06NHmGRqWL1/e0NDA4OHvDtWjdCAgseNR\n",
       "PUpH9UBAurICkr+/vywMCQnZvXt3Xl5eQkKChiUrs9gBAACg46FtJiC1e2fPnl11\n",
       "qbVr11oJSHa7ffPmzcnJyebjRenp6XpMSZ6ltgAAAAABqZ2pqKhwyv0BAQEWjyBd\n",
       "lrxc1jxx4gS1BQAAAAhI7UxDQ0P+pUpKSqwEJIfDUVdX53q5UVBQkKx55MgRagsA\n",
       "AAAQkDom14C0f/9+WbJ06VLzavX19b6+vrLcZrNRNAAAAICAdKUEJIlAssTHxyc/\n",
       "P1+XOByO1atXy8LAwEAqBgAAABCQrqCAJGJiYmSht7d3eHh4bGxscHCwztBQUFBA\n",
       "xQAAAAACUoclEcg1IDU2NiYmJvr5+ensDpKUQkJCjh8/TrkAAAAAAhIAAAAAEJAA\n",
       "AAAAgIAEAAAAAAQkAAAAACAgAQAAAAABCa3C4XCUNa2uro4SWVRTU5ORkbFnzx6m\n",
       "DbTOZrO57nXV1dVUxlOVlZVbt24tLi6mFNYrlpWVtX379pycHP7Qeaq2tjY3N1er\n",
       "Jz9TEE+Vl5fLgJVvDUphZWfLy8uTne3IkSN8O7CzEZDQRioqKt5o2qFDhyiRlWg0\n",
       "b948Ly8vo25Lliw5f/48lWnW9OnTXfe6hIQEKuPpf+YIDQ2V0m3cuJFqNMtut8s+\n",
       "5u3tbexyEyZMkPaLyljc2ZKTk0ePHm1Ub9y4cSkpKVTGIxEREa436oCrHTt2yA5m\n",
       "7Gyy433yySeUhZ2NgIS2aO4jXLz//vsynKTj/+KLLyiRe3V1dXpD3lmzZm3atCkm\n",
       "JkaaLXkoP1Ac9+rr66VJDQgIiL1UVlYWxfGItKfaPRCQrEhNTZVa+fr6rlu3Tnr9\n",
       "BQsW6F3jjh07RnGatW3bNimXj4+PDNW0tLTly5frfxvau3cvxbH4lbFhwwYdsPSs\n",
       "7uXn5+veJW2J7HgffvihPtyzZw/FYWcjIOE7EB8fL8Np/fr1lKJZSUlJUqv58+fb\n",
       "7XZdIv29LJk4caLD4aA+bkj8lkJFRUVRim+irKxszJgx0u4TkCyaNGmS1ConJ8dY\n",
       "MnfuXFkif/cojnvyV+7NN9906lC1A5s3bx71cU++GmbMmCGj1TgeQs/q3qJFi6RK\n",
       "//nPf4wln376qSyZPn06xWFnIyChre3evVvGUlhYGP29FUFBQVKuEydOmBdu3bp1\n",
       "y5YtRmTCZe3cuVNKx8k530RDQ4Psgf7+/npUhIDUrMrKSinUtGnTzAv1EFx4eDj1\n",
       "ce/kyZNSqMmTJ5u/HWw2mx6Roz7N9qxvf83Hx4eetdk/bnom53//+19jYX19vTb9\n",
       "stdRInY2AhLatHuQ77lx48ZxKaQVp0+flr87U6dOvXDxWHZOTk52dnZVVRWVsSIu\n",
       "Lk6ql5GRkZaWFh8fL01qYWEhZfHImjVrtIZ79+4lIFkhf9lkfzt48KB5oUQjqd5n\n",
       "n31GfdwrKSmRfsvpqK8slOoFBARQH+vCwsLoWd0rLy+XEk2aNMlpuR7vPXLkCCVi\n",
       "ZyMgoe2sXLmSNsu6oqIiKde777770UcfmSdpWLFiBfNiNUvnFTBf7S2WL1/e0NBA\n",
       "cazIy8uTvS4yMlJ+JiC1QEFBwfbt2/U0nqCgIGZ5+ibfGhx/o2dtXfn5+VKi4OBg\n",
       "p+X6nzN2795NidjZCEhou3Zf+i1/f/9z585RDSsOHTqkl3fL/0u7n5iYuHr16rFj\n",
       "x8rDZcuWUR/3ZE+TQoWEhMhXnfT6CQkJGpaYxc6Ks2fPTp48OSAgQCdZJiC1wPz5\n",
       "841knpGRQUE85XA49IJVGblOpxmDnvUbys3NlRLNnTvXaXlkZKQsZ9pJdjYCElqz\n",
       "o1p1qbVr15pX0MnrPv74Y2plsXralYp///vfxprFxcUamcrKyqhbU6Wz2+2bN29O\n",
       "Tk42Hy9KT0/XZovLt5odttolZGdn62oEpBb8xTt27Nj+/fslkOs8wnFxcRTNevUk\n",
       "EenJTmPHjjX2Q1gpHT2rFTk5OZcNSDppNQGJgERAQqtxveWR+azx2tpa/e/3J0+e\n",
       "pFYWq3f48GH92emSrcWLF8vCnTt3Urdmdzwn8pTrpBdUz6l60tbrUcq6r+3atUuW\n",
       "rFu3Tn5ubGykbh7teJKUvLy8fH19Ob3TSvXsdntiYqJ+X0j/Wl5eTrk83fHoWZsl\n",
       "xZESzZw587KlY6ZvAhIBCa1GvvvzL1VSUmI8q3e3mD17NoWyXj2dqNp1+qZVq1bJ\n",
       "cu5n56Z0DodDWnnXflRnBeQCXPfV0/ktmpKamkrdmirdgQMHoqOjXU+oCwwMlNLl\n",
       "5eVRN/ffF7JczzUYP358Wloak516+lVLz2rRqVOn9Pik0z42bdo0hioBiYCEtqNX\n",
       "KiclJVEK6+x2u5+fn9StoqLCvFyvbUhPT6dETdFjIEuXLjUvrK+v1/v5MIWre7Jr\n",
       "hV9q5syZensQ+ZnzndzYsWOHTsngtHzKlCmy3LWRhRO96EjypNMfPdCztvrXq577\n",
       "WlxcbCysqqry9vb28vJitlh2NgIS2oie2mS+eSKsWLFihTb6xnlNBw4c0P/uxV9w\n",
       "N/TeKT4+Pvn5+brE4XCsXr1aey/q4ymuQbKotLTU9baJycnJeiiYsxPdk1A0evRo\n",
       "KRR/3OhZ24B8sUqV3nnnHeMgkl57OWfOHIrDzkZAQluora3VpuH06dNUwyNSscmT\n",
       "J2tbHxMTEx4ervN9b9q0ieK4J+XSOQClaLGxscHBwTpDQ0FBAcUhIH17PvzwQ93T\n",
       "IiIiZMfTmQa4aNAKvdRNAlKoi+joaOpDz9q6ysvL9bawkyZNWrZs2dSpU+Vn+Ybl\n",
       "/Dp2NgIS2ojez8fPz49StMCJEycWL16sJwOIKVOmMMGOFY2NjYmJiXqOoialkJCQ\n",
       "48ePU5kWyMjIIJZb1NDQIDueMWD11MT9+/dTmWZJnmzqyre33nqL+linN/OhZ21W\n",
       "QUGBXh9ofL0eOHCAsrCzEZCAdsNut5eWlnKvSU85HA6bzSalYwIxtPGOV1FRUVJS\n",
       "ojeSAvA/SwapDFWn2WIBAhIAAAAAEJAAAAAAgIAEAAAAAAQkAAAAACAgAQAAAAAB\n",
       "CQAAAAAISAAA4Lt36tSp559/PjU1lVIAAAEJAIAr3ZtvvnnVVVdFR0dTCgAgIAEA\n",
       "cIVKT08PDQ0dNmzYVRcRkACAgAQAwJXL19f3KhMCEgAQkAAAuHLV1dVVXhQVFUVA\n",
       "AgACEgAA+H9xcXEEJAAgIAEAAAISABCQAABXktTU1HXr1l3JFTh8+PC9l6qqqnIT\n",
       "kEpLS2NjY/Pz89l5ABCQAADtw4oVK7pdTq9evYYMGfKPf/yjoqKi1d/Ux8dH3iIw\n",
       "MNDKymvWrNGPJK/6tt/LjczMzGuuuebJJ5/sYDvAe++9J/V5+eWXrax88ODBwZdy\n",
       "H5BsNtuNN954zz33NDY2MtYAEJAAAO2jP77Krd69e3/55Zet+6Z///vfZcv//Oc/\n",
       "raw8fPhw/SQ33HBDTU3Nt/peTZH+/r777uvUqVNGRkYH2wGWLFki9fnd737XKltz\n",
       "PcVuxowZsiQ8PJyxBoCABABoNwHppptuqr5Ufn5+cHBw586d5dm//vWv31VAKikp\n",
       "6XzRjTfeKC+JjIz09L1iY2PHjBnzySeffJMPHBMTI+8+YsSIjrcDfNsBSfYlSba3\n",
       "3HLLuXPnGG4ACEgAgHYTkC777KOPPirP/uQnP/muApIef3jiiScmT54sPzz00EPf\n",
       "SZUefvhhefcNGzYQkDwNSOKVV16RhVFRUQw3AAQkAED7Dkjz5s2TZ6+77jrzwr17\n",
       "944ePfr+++//xS9+4ePjs2bNGqdXVVdXL1y4cNiwYf3797/jjjtkzalTp3711Vee\n",
       "BiS73X777bdrw52VlaUn2h0+fNhYYf369SMvys3NNb/K399fFgYHB8vDyMhI+Tk+\n",
       "Pt5YISUl5aWXXpIPL5/tgQce8PPzcz+LwMGDB+V9e/XqVV9f79FGmi2U2LJli65z\n",
       "5513Pv7443PmzHG6qkfs2bNn/PjxjzzyiKzz3HPPBQUFnT592nhWSi2/YHZ29rZt\n",
       "27y9vQcNGtSvX78XX3wxMzPT9e2kYlL8u++++6c//ekLL7wg7+4akDytj2tAWrVq\n",
       "lXnh5s2bZeF9993HcANAQAIAtO+ANGHCBHn2qaeeMpYsWLDge9/7ntN1ShMnTjRW\n",
       "kN5demvXa5kGDBhgXEFkMSBpYy3x7MyZM/LwnnvukYfykYwVJHTdeuutsnDIkCEN\n",
       "DQ26MCQkRJbIh0xPT3d9r3feecf1s3Xv3v3QoUNNfYz58+c7FcHKRpotlMPhmDZt\n",
       "WqdOnZzWue2228rKyozVZs+efc011zit06dPH0lNusLTTz8tSyRldenSxbyOPNy1\n",
       "a5exncbGxrFjx7p+bElK5oDUgvo0S/7ddTsnTpxgxAEgIAEA2mtA2rhxY9euXeXZ\n",
       "uXPn6pItW7bIw6uvvlo6+4KCgsLCwlmzZmlfvmTJEl1n0qRJ8vCWW26Jioo6evSo\n",
       "zWaTt9AWPykpyaOA9Oc//1lWMyZY08NZP/jBD86fP2+s89lnn+mFUjNnzpSH+/fv\n",
       "11gSGhrq+l7yQolb8tDLy6uoqKiqqiolJaVv376yRN6rqY/x29/+Vl+iD61sxEqh\n",
       "4uPjNTaMHDlSkoysJk/16tVLlgwfPtz4J9B1ZInkPQkYsbGxvXv31vMez549awQk\n",
       "MXjwYHnf0tLS6OhoeVaWPPfcc8ZvsWLFCl1t1KhR+/btKy4uXrVqlRRTF2pAall9\n",
       "rPjhD38oG/nggw8YcQAISACAdhCQ9AiJ4de//rV22OLRRx+tra3VlfXQkNOU2YsW\n",
       "LZKFd911lz4cMmSIPFy2bJl5nQcffLCp0NIUSVaaKD799FNdcvz4cc1CEhLMa0oI\n",
       "0UNGn3/+ef/+/Z2Cgfm9jhw5or+U5ChjhcTExJ49e957771NfZIf/ehH5pRoZSPN\n",
       "FsrhcAwcOFAe/uUvfzGvs3jxYv1d9ES7AQMG6CVYsr6xjkSpa6+9VpbPmTPHCEgS\n",
       "dSorK4115NPKQsk2+tA4WdFpOm/5XTS7akBqWX2s0L3C19eXEQeAgAQAaB8B6bJ6\n",
       "9OiRmpqqa3711Ve6sKysrM5EWnlNMvv27ZPViouLs7OzjUx1/vx56bB1DroFCxZY\n",
       "D0iSpnSScfMtdIYOHSoLnW5GJCtIojOffma+d5P5vSQn6OEXSQsS4ayc8SXJRCPE\n",
       "6tWrjbDhfiNWCiWv0nX27t1rfm19fb0EwqSkJPnBWMd8ppzy8vIy6qABady4ceYV\n",
       "MjMzdWJ0fSj/KK7JR7344otGQGpBfSzSg4HyXow4AAQkAEA7CEjXX3/9JpOPP/54\n",
       "yZIl/fr1k6e6du1aWFgoa27dutX9HZPWrl2r25TG+l//+pd0wwMHDjRfh+NRQNKD\n",
       "MPLBhppo+96pU6eioiLzyiUlJRIG9F3kc5qfcnqv6Ojobt26GR+pb9++o0aNMkKg\n",
       "K8lauubu3buNhe43YqVQaWlpeg6emzuoygZlnc6dO0u4cnoqIiJCo6ARkBYtWmRe\n",
       "Qee0kOrpw5SUlKbeTk9cNK5B8rQ+FgUEBMjWfvOb3zDiABCQAADtICBd9hqksrIy\n",
       "86lckpq0ab69CTExMbLaBx98oK+SGNO/f//f//73U6ZM0bRjPSBJGnGfMaZNm2Ze\n",
       "Pz093ZjJYPz48W4C0oWLp6gFBgbef//95skPXnvtNfNpbIaqqipdYfv27eblbjZi\n",
       "pVAJCQnmAHNZiYmJso5s3/WD6X2ZevbsaQSk999/301A0muZunTp4vouYWFhTrPY\n",
       "eVQfi6T+spFf/epXjDgABCQAQHsNSOLJJ5/UWQS0b9YDGubZrp2cPn1aDxnJS8zz\n",
       "ev/xj3/0KCCNGjVKVhg0aNBmF9LK6xQFxsGQM2fO6MEuvWJHSLRwE5AMNTU1ElSk\n",
       "a9dXNXWcRGeqcJq62s1GrBTqwIEDur75bMALF09yk6gj/yiSTnNycnSdkpISp5cH\n",
       "BQXJcskwFgOSsakvv/zSaVMTJ05s6j5IFutjxcsvvyxbkN2AEQeAgAQAaMcByc/P\n",
       "z3yBip7GZr6n0IWL17fcddddffv2LS0tTU5O1mygE3MrSTI6E5rFgCSv1TdyOm1M\n",
       "JSUlab++adMmXfL6669rZKqsrHz++efl55tvvvnkyZOu77Vx40YJUX/605/MG6yu\n",
       "rtZLpBYuXHjZz9OnTx95VjKJPmx2I1YKVVtbe/XVV8s6YWFh5nViY2O1gDabTfKV\n",
       "zinndLjs/PnzOje3/GoWA5K85Pvf/74smTVrltOm9KxF/SduWX2s0JT1xhtvMOIA\n",
       "EJAAAO04IOk9hX75y1/qw7ffflse/vjHPzYuyJFG/w9/+IMevblguvwmIyNDV6ip\n",
       "qdHDQULv3NpsQIqMjNSZ3E6dOuX6rMQtnVZOspA8/Oijj3TjOoe45CKdunr48OF6\n",
       "Spj5vQ4dOqSX4qxfv97YYE5Ojp4TmJKSctnP88ILLxhpxOJGmi3Uha+PkvXs2dOY\n",
       "gyE3N/fuu+/WmQN1iU7Q17VrV2OKCNnO3/72Nz31Tm+PayUgiSlTpsgSiUkbNmzQ\n",
       "JefOnZMsZJ7mu2X1sUJvV+X0IQGAgAQAaGcBKTw8XJ7t1q2bNNMXLh5M+NnPfqY9\n",
       "9KBBg6SP19ZZmnWdjFtWkI5fe/pnnnnmscce69Gjh05CrQd29KCQ+4D00EMPOU3V\n",
       "7cTf31/fNDMzU7dvPjShB2GMA1Dm95LI9NRTT+mzEkVGjBghn1B/hYEDB+pthVxJ\n",
       "Wy8rPP744/rQykaaLdSFi1NZaNKTdQYPHmzcXVeqnZ2dreucOXNGb48rZINPPPGE\n",
       "3ijJuO+T9YBUUVHx85//XF/bv3//oUOH6nEhPUilAall9WmW7Dx6P1zJWow4AAQk\n",
       "AEA7Dkjbt2/Xdtm4r1Ftba2kke7duxuX70snbTT9Ytu2bXozItW7d+/IyEjZjl7x\n",
       "P2rUKFnH29vb9TZB6tixY/rCdevWNfWZjQt4NIT06dNHAol5BZ26Wjr7o0ePOr2X\n",
       "rOnj46PnmynJci+99JJxSp6rkpISyTDyK2tKtLiRZgslTp06JR9VI4p6+OGHnSb+\n",
       "ljedMGGCcUdXnfrCfIRHA9Ly5cvNr9KLjpz+WSVujRw50vhI8plfeeWVBQsWmK9B\n",
       "akF9mqVT9umcewBAQAIAdExFRUV79uy5bN/scDgKCwt37dpVXl5uDgMSbBoaGv4X\n",
       "PnxdXV1+fv6OHTskSBi3bHJjxIgRrtcUWdyIm0Ipu92em5u7b98+vTlsU44fP56e\n",
       "nm6+uKtl5F9HPnBWVpabfwtP6+OeBEVjLkQAICABANDuff75501N9Qb3JF/16NGj\n",
       "a9euNpuNagAgIAEA0EE8++yzkpHS09MphUdmz57tOhEfABCQAABo3/Ly8rp06TJs\n",
       "2DBKYZ3NZuvevfuAAQOMy7cAgIAEAEAHsWPHjri4OOMGtbASkKRiki0pBQACEgAA\n",
       "AACAgAQAAAAABCQAAAAAICABAAAAAAEJAAAAAAhIAAAAAEBAAgAAAAACEgAAAAAQ\n",
       "kAAAAACAgAQAAAAABCQAAAAAICABAAAAAAEJAAAAAAhIAAAAAEBAAgAAAAACEgAA\n",
       "AAAQkAAAAACAgAQAAAAABCQAAAAAICABAAAAAAEJAAAAAAhIAAAAAEBAAgAAAAAC\n",
       "EgAAAAAQkAAAAACAgAQAAAAABCQAAAAAICABAAAAQLv3f0+zhp1wlktNAAAAAElF\n",
       "TkSuQmCC\" style=\"clip-path:url(#clipPath2);\" height=\"840\" preserveAspectRatio=\"none\"\n",
       "    /></g\n",
       "  ></g\n",
       "></svg\n",
       ">\n"
      ]
     },
     "metadata": {},
     "output_type": "display_data"
    }
   ],
   "source": [
    "rlocus(Go) "
   ]
  },
  {
   "cell_type": "code",
   "execution_count": 18,
   "metadata": {},
   "outputs": [
    {
     "name": "stdout",
     "output_type": "stream",
     "text": [
      "\n",
      "DG =\n"
     ]
    },
    {
     "name": "stdout",
     "output_type": "stream",
     "text": [
      " \n"
     ]
    },
    {
     "name": "stdout",
     "output_type": "stream",
     "text": [
      "   16 s + 16\n"
     ]
    },
    {
     "name": "stdout",
     "output_type": "stream",
     "text": [
      "  -----------\n"
     ]
    },
    {
     "name": "stdout",
     "output_type": "stream",
     "text": [
      "  s^3 + 6 s^2\n"
     ]
    },
    {
     "name": "stdout",
     "output_type": "stream",
     "text": [
      " \n"
     ]
    },
    {
     "name": "stdout",
     "output_type": "stream",
     "text": [
      "Continuous-time transfer function.\n",
      "\n"
     ]
    },
    {
     "name": "stdout",
     "output_type": "stream",
     "text": [
      "\n",
      "Gc =\n"
     ]
    },
    {
     "name": "stdout",
     "output_type": "stream",
     "text": [
      " \n"
     ]
    },
    {
     "name": "stdout",
     "output_type": "stream",
     "text": [
      "         16 s + 16\n"
     ]
    },
    {
     "name": "stdout",
     "output_type": "stream",
     "text": [
      "  -----------------------\n"
     ]
    },
    {
     "name": "stdout",
     "output_type": "stream",
     "text": [
      "  s^3 + 6 s^2 + 16 s + 16\n"
     ]
    },
    {
     "name": "stdout",
     "output_type": "stream",
     "text": [
      " \n"
     ]
    },
    {
     "name": "stdout",
     "output_type": "stream",
     "text": [
      "Continuous-time transfer function.\n",
      "\n"
     ]
    }
   ],
   "source": [
    "DG=series(D,G)  \n",
    "Gc=feedback(DG,H)  "
   ]
  },
  {
   "cell_type": "code",
   "execution_count": 19,
   "metadata": {},
   "outputs": [
    {
     "data": {
      "image/svg+xml": [
       "<?xml version=\"1.0\"?>\n",
       "<!DOCTYPE svg PUBLIC '-//W3C//DTD SVG 1.0//EN'\n",
       "          'http://www.w3.org/TR/2001/REC-SVG-20010904/DTD/svg10.dtd'>\n",
       "<svg xmlns:xlink=\"http://www.w3.org/1999/xlink\" style=\"fill-opacity:1; color-rendering:auto; color-interpolation:auto; text-rendering:auto; stroke:black; stroke-linecap:square; stroke-miterlimit:10; shape-rendering:auto; stroke-opacity:1; fill:black; stroke-dasharray:none; font-weight:normal; stroke-width:1; font-family:'Dialog'; font-style:normal; stroke-linejoin:miter; font-size:12px; stroke-dashoffset:0; image-rendering:auto;\" width=\"560\" height=\"420\" xmlns=\"http://www.w3.org/2000/svg\"\n",
       "><!--Generated by the Batik Graphics2D SVG Generator--><defs id=\"genericDefs\"\n",
       "  /><g\n",
       "  ><defs id=\"defs1\"\n",
       "    ><clipPath clipPathUnits=\"userSpaceOnUse\" id=\"clipPath1\"\n",
       "      ><path d=\"M0 0 L560 0 L560 420 L0 420 L0 0 Z\"\n",
       "      /></clipPath\n",
       "      ><clipPath clipPathUnits=\"userSpaceOnUse\" id=\"clipPath2\"\n",
       "      ><path d=\"M0 0 L1119.9999 0 L1119.9999 839.9999 L0 839.9999 L0 0 Z\"\n",
       "      /></clipPath\n",
       "    ></defs\n",
       "    ><g style=\"fill:white; stroke:white;\"\n",
       "    ><rect x=\"0\" y=\"0\" width=\"560\" style=\"clip-path:url(#clipPath1); stroke:none;\" height=\"420\"\n",
       "    /></g\n",
       "    ><g transform=\"scale(0.5,0.5)\"\n",
       "    ><image x=\"0\" y=\"0\" width=\"1120\" xlink:href=\"data:image/png;base64,iVBORw0KGgoAAAANSUhEUgAABGAAAANICAIAAAAHNA4rAABTXklEQVR42uzdC3RV\n",
       "1Z0/cKhVfLR2arusRVuZzkzHWqet9jF2TTsrnbYzndZW247tog+l/zokBIiKQsWK\n",
       "RAiLVFAHJcNLpGoL6pRqcRQo0AAmIlBSHDCQkALSSmN5RBgiFUjy3+TcnElvXjch\n",
       "hNybz2dluZJz7wmXnfOLvy9n7337NQAAANConyEAAAAQkAAAAAQkAAAAAQkAAEBA\n",
       "AgAAEJAAAAAEJAAAAAEJAABAQAIAABCQAAAABCQAAAABCQAAQEACAAAQkAAAAAQk\n",
       "AAAAAQkAAEBAAgAAEJAAAAAEJAAAAAEJAABAQAIAABCQAAAABCQAAAABCQAAQEAC\n",
       "AAAQkAAAAAQkAAAAAQkAAEBAAgAAEJAAAAAEJAAAAAEJAABAQAIAABCQAAAABCQA\n",
       "AAABCQAAQEACAABAQAIAABCQAAAABCQAAAABCQAAQEACAAAQkAAAAAQkAAAAAQkA\n",
       "AEBAAgAAEJAAAAAEJAAAAAEJAABAQAIAABCQAAAABCQAAAABCQAAQEACAAAQkAAA\n",
       "AAQkAAAAAQkAAEBAAgAAEJAAAAAEJAAAAAEJAABAQAIAABCQAAAABCQAAAABCQAA\n",
       "QEACAAAQkADIGG+88UZ5efl///d/P/vss5s3b66trTUmAAhIAPQ5Bw4cyM/Pf8c7\n",
       "3tGvmbPPPjs3N3f79u3x0+rr62ub9OTLGzZs2FltuPDCC7/whS88+eSTfogACEgA\n",
       "dIOQdj75yU/2a8MFF1ywY8eO6JmvvPJKfLy4uLjHXuH3v//9fh0ZNWqUHyUAAhIA\n",
       "JyovLy+OGe9+97sHDx58zTXXvO1tb4sPXnHFFS0D0tKlS09VQDqj0Zvf/OakjLRy\n",
       "5Uo/TQAEJABOyN/+7d9GAeODH/zgoUOHooMHDx786Ec/GmePPXv29JKAtHv37ujg\n",
       "sWPHSktL/+Vf/iV+6JZbbvHTBEBAAqDramtr44DxrW99q/lDjzzyyOlNiouLs7Oz\n",
       "r7766vjJWVlZ11133eOPPx4/f+PGjbm5uVdeeeW73vWuz33uc+PGjdu5c2f86IgR\n",
       "I65r9NJLLxUVFX3+85+/4IIL/uEf/iGkmuZPSz0gRUpKSuKHrrnmmuYPtf96glWr\n",
       "Vg0ZMuSyyy47//zz3/Oe94RnFhQUvPrqq117zeHITTfd9JnPfCY85+/+7u++/e1v\n",
       "P/bYY0nPib9heXn5z3/+8/CCBw4c+N73vvdrX/vapk2bOvXaUvw7AiAgAdA5F110\n",
       "URQw+vfvn5OT8/zzz9fV1bV8Wni05cqfG2+8MXq0sLDwjDPOSHo0NPdr1qyJnhDP\n",
       "2bv88stbPi38oV0LSOvWrYsfGj9+fHy8w9czd+7cN73pTS3/RoMGDYrXXKX+msN3\n",
       "e8tb3tLyu33pS1/at29f/LT4G1511VVJ43nWWWdt2LAh9deWyt8RAAEJgE4LoSip\n",
       "yT7vvPO++tWvTp8+/be//W38tH/913/9zGc+Ez/nYx/72Be+8IWZM2eGh372s5/F\n",
       "x9/73vdeccUV8ZfnnHPOH//4x+bZIAjd/0c+8pG/+Zu/iY9ceOGFb7zxRmcD0ssv\n",
       "v/zNb34zfmjFihXR8Q5fT319/dvf/vboyJVXXjllypShQ4eGh6Ij119/fVKeaf81\n",
       "//rXvz7ttNOig2eeeWb4huGh+Gnxd0v6hsFb3/rW5l8OHjy4oXGrwFReWypjDoCA\n",
       "BECnvf7665/61Kda3RoupIJ/+7d/i2d2tboG6fDhwwMHDowODh8+PLr7VFVVFXf5\n",
       "48aNa54NzjjjjGXLlkXn3nPPPfE3nDVrVioBadCgQX/d6OKLL27+Ur/yla8cO3Ys\n",
       "xdfz0ksvxSfGswQnT5781kYf+MAHkvJM+685xJg4qMR3eG688cb4aS1vo5199tmP\n",
       "PfbYkSNHXnzxxfgv8r73vS88J5XXluKYAyAgAdAVocOeN2/eJz7xiVbn0V122WXt\n",
       "bNKwdu3aeIbeunXryptcc801cWxong2SVjpdeuml0fFrr702lYDUqg9/+MMHDhxI\n",
       "/fXs3r07PnfAgAHXX3/9I488EgJG0p+bymsO8TKeDjdjxoz4OSHDxHElxJukb/jd\n",
       "7343fub3vve9ODWFL1N5bSmOOQACEgAnJESg0I5/5zvfOe+885onkMLCwrYC0oMP\n",
       "Pth+ejn99NObZ4P//M//bP4nDh8+PDr+0Y9+NJWANHDgwL9qlPQKs7KyOvV6QuZp\n",
       "dZHPxIkT47fBTeU1b9iwIT598+bNzZ/2+c9/PjoexjPpG06YMCF+2v333x8dPO20\n",
       "06IjHb62FP+OAAhIAHROyDmTG02ZMuXIkSPx8fB5QUFB3HCHXr+tgDR16tQO38V1\n",
       "//79cTZ46KGHmr+A0aNHR8dD5kklIMVrkOrq6kpLS+ObOUH4MvXXc/To0fBKPvWp\n",
       "T7V8P6XPfvaz9fX1zfNMO6/5ueeei0+sqKho/rSvfOUr8fS/pIB03333xU+bM2dO\n",
       "UkDq8LWl+Hd0eQMISAB0TvNWe+3atUmP/uVf/mX8FkltBaRnnnkmnu71hz/8YV9r\n",
       "Qk8fZ4OxY8c2/yO+9rWvxa1/pwJSpPm9lHvvvTf11xN/hwMHDvziF78YMWLEX/zF\n",
       "X8Tf6qWXXmqeZ9p5zdXV1fFZixcvbv60D3zgA9HxH/zgB50KSB2+ts7+HQEQkABI\n",
       "yerVq+PO++///u+b70m9fv36008/vfmameYBad68edHTdu3aFa9cWrBgQXz6E088\n",
       "8clG1113XfNscNFFF9XU1ETP2bFjx4ABA6LjIQZ0ISDt378/fmj06NEpvp5Zs2a9\n",
       "pdHHPvax+AnN7wUVFxen/prPP//86Msvf/nLcSxZvnx5/N1++tOfph6QUnltKY45\n",
       "AAISAJ1z+PDh5rPUzjnnnKuvvvrf//3fP/e5z8XpKFi0aFF4cohP8ZELLrggfi/U\n",
       "IUOGxLu9XXXVVffff3+INGeeeWbzBTzNd7j+4Ac/OGXKlMmTJ7/nPe+Jt8vbsmVL\n",
       "FwJScPbZZ0cPhZcdHenw9TTfKe7mm28OmWf79u3XX399dOTNb37zoUOHUn/NDzzw\n",
       "QPM3Ppo5c+YPf/jD+G2RLrnkkngH81QCUoqvLZUxB0BAAqDTQgse3wNp1ahRo+In\n",
       "x5Pumr9R7J49e5KON9874U9/+lPzbNDqW6DedNNN7bzC9gPSZZddljRJL5XXc+21\n",
       "17b19x05cmRSnmn/NdfV1YU82eq3CjGppKQkfqkpTrFL5bWl8ncEQEACoCtC6hgz\n",
       "Zsy5556b1Gp/5CMf+fnPf958NcvatWsvv/zypIAU/O///u+wYcPi9zON3gU1PNpy\n",
       "R7hJkyZ94xvfiN9Z9bzzzpsyZUr7L6/5W9m2fAvU6667Lt4UO54I1+HrOXr06B13\n",
       "3HHBBRc0//uGL8ePHx//fVN/zSEjhczzzne+s/k+clddddXOnTubP63VgDRv3ryW\n",
       "mzR0+NpS+TsCICAB0HV/+tOfKioqli5dunDhwl//+tftbIP2+uuvh0xVXV0dWvmk\n",
       "nLBt27Zly5Zt2rQpPKedbBCa+9WrV4c/7qTuJdDO64mjSGVl5cpG4cVEbzV7Iq85\n",
       "DMuvfvWr8Mc13xKwa9p/ban/HQEQkADodVq9eeI1AyAgASAgec0ACEgA9GHveMc7\n",
       "3txo2rRpXjMAAhIAAICABAAAICABAAAISAAAAAISAACAgAQAACAgAQAACEgAAAAC\n",
       "EqdKdXX1ypUrDx061KmzXnvttXDWzp07DSAAAAhImWP27NlDhw7dtm1b6qfU19ff\n",
       "d9994aynn37aAAIAgICUCQ4fPrxo0aKhjToVkJYvXx6dJSABAICAlPY2bdp01113\n",
       "DR8+fGiT1APSK6+8Ek4cOXKkgAQAAAJShgSkO5sMGzYs9YB09OjRiRMn3nLLLcXF\n",
       "xQISAAAISJlm+vTpqQekhQsXhieXlZWtX79eQAIAAAGp7wakioqK7OzsuXPnhs8F\n",
       "JAAAEJD6bkB6/fXXb7vttjFjxtTW1qYekIYCAJCJdNECUl8PSHPnzg1P27x5c/Rl\n",
       "6gHJCPcA42yojTOG2jhjqA21gETPBaQNGzaE58yZM+dwkzVr1oQjTz75ZPj82LFj\n",
       "iscvKUONcTbUGGdDbagRkPpKQHriiSfaucFaXFysePySMtQYZ0ONcTbUhhoBqa8E\n",
       "pHXr1s34cxMmTAhnjR8/Pnwez7tTPH5JGWqMs6HGOBtqQ42AlIEBadeuXb9s1NZZ\n",
       "1iD5JWWoMc6GGuNsqA01AlJfCUhLly5tf38SAckvKUONcTbUGGdDbagRkDLQjBkz\n",
       "2gpIOTk5bZ1VVlYWnvDMM88oHr+kDDXG2VBjnA21oUZAQvEAAOjxEJBQPAAAejwE\n",
       "JBQPAAB6PAEJxQMAgB5PQELxAACgxxOQUDwAAOjxBCQUDwAAejwBCcUDAIAeT0BC\n",
       "8QAAoMcTkFA8AADo8QQkFA8AAHo8AQnFAwCAHk9AQvEAAKDHE5BQPAAA6PEEJBQP\n",
       "AAB6PAEJxQMAgB5PQELxAACgxxOQUDwAAOjxBCQUDwAAejwBCcUDAIAeT0BC8QAA\n",
       "oMcTkFA8AADo8QQkFA8AAHo8AQnFAwCAHk9AQvEAAKDHE5BQPJBBiqtq5q3bnb9k\n",
       "e/jIKiobVFDab9SK6CN8Hj6ig9FH0vEhC8rDRzjdMAKgxxOQUDyQlnbsOxzHoZB2\n",
       "opwTHQlhKTyayncIH1GyCh/h9DhERd/NIAOgxxOQUDyQBrkouv8Tx6Fu/yOi1BRH\n",
       "pvDf8AcZfAD0eAISigd6hSgLxbmohyNZyEvxzL1oMl4qd6gAQI8nIKF4oJvDSZSL\n",
       "ooDUG15PdGcpmol3Mu5fAYAeT0BC8UCyOIf05rlt8W0lSQkAPZ6AhOKBk5U6+o1a\n",
       "kUbbykW3ueKk5CcIgB5PQELxQDcIiSjdM0Z48dE6JTeUANDjCUgoHuiiECeiXJEB\n",
       "mx9E65TiG0q2cwBAjycgoXigE3EiZInwkZFBIpp654YSAHo8AQnFAynlh0EFpZkd\n",
       "HprfUEqXVVUA6PEEJBQP9KhoTl2f2tIgJKXevy8fAHo8AQnFAz0tup3SN2edRVve\n",
       "iUkA6PEEJBQPHI8HIRsYh+YxyS4OAOjxBCQUD31RX1hx1IUxySoqczcJAD2egITi\n",
       "oQ+Jt6ozFK0Ojkl3AOjxBCQUD31FcVVNv1ErdP9iEgB6PAEJxYN0VGPRUaeISQDo\n",
       "8QQkFA+Z3OvbhKCz3E0CQI8nIKF4yDQWHYlJAOjxBCQUDyS2ZBiyoNxQdNdg2v0P\n",
       "QI9nEAQkFA9p3NC76dG95q3bHTJSyJzmKwLo8RCQUDykWToyDidpbM24A9DjISCh\n",
       "eEizdGQm2MkmJgHo8RCQUDxIRySPth0CAfR4CEgoHqQjEuat2225F4AeDwEJxUOv\n",
       "Ix2dwmhqxh2AHg8BCcVDL2rQpaNe8lMw4w5Aj4eAhOLhFJOOeg8z7gD0eAhIKB5O\n",
       "cTrSjvcqZtwB6PEQkFA8nLJ0NGRBuXHonTEp/HTChxl3AHo8BCTFo3joCSEaeUPY\n",
       "Xp6R3EoC0OMhIKF46AnRWhfjkEYxyToxAD2egITigZMlNNwGIe1+ZG4lAejxBCQU\n",
       "D3SzHfsO9xu1wu2IdPzBmXEHoMcTkFA80M1s6p3uMcnWGgB6PAEJxQPdlo7cf8iA\n",
       "jORWEoAeT0BC8cCJCv20jRkyKSYNWVAeYpJ9wAH0eAISigc6rbiqxsYMmRp63UoC\n",
       "0OMJSCge6AQbM2T2DzeacedWEoAeT0BC8UBKzKzLeCH9upUEoMcTkFA80LHQNOub\n",
       "+wJvKQugxxOQUDzQgejGgnHoUzHJrSQAPZ6AhOKB1ntlS4/65s/drSQAPZ6AhOKB\n",
       "ZN4Tto/HJO+VBKDHE5BQPJDgXY/wlrIAejwBCcUDx3nXI5rHJBkJQI8nIKF46NNM\n",
       "riMpI7mVBKDHE5BQPPRRQxaU64NpNSaF5BwuD28pC6DHE5BQPPQVJtfRfkZyKwlA\n",
       "jycgoXjoQ0yuI5WY5FYSgB5PQELxkPnyl2wPXa9xIEVuJQHo8QQkukd1dfXKlSsP\n",
       "HTqUypNra2u3bt1aUlKyZcuW8Lni4SQxuY7Oim4lhQ+3kgAEJAGJEzJ79uxwiW/b\n",
       "tq39p9XX1y9btiw3N3dok7y8vOXLlyseTgaT6+gaq5IABCQBia47fPjwokWLorTT\n",
       "YUBatWpVeNqwYcMef/zx1atXP/jgg9nZ2eHI+vXrFQ/d3uOaXEeXuZUEICAJSHTa\n",
       "pk2b7rrrruHDh8e3g9oPSHV1dbfeemt42tq1a+ODUbi6++67FQ/d2932G7XCOHDi\n",
       "MdutJAABSUCiEwHpzibDhg3rMCC9+uqr4Tm33XZbfX19fHDv3r3h4MiRIxUP3cjk\n",
       "OroxbIfLKcQkt5IABCQBiU6YPn16hwFp165dIUr9+Mc/TjoYThwzZoziobvMW7c7\n",
       "dLTGgW4U3UoyDgACkoBEdwak1nvZefPCiTNmzFA8dNvvi1Er3D6i28VvKetWEoCA\n",
       "JCBxUgJSfX39z372s3BWbm7u7t272y+eVhl2WhqyoNyKEU6ecHVlFZW5xgA6G4S0\n",
       "cwKSgNSBkIgKCwvDKSNGjNi8ebN/XaBbFFfV2JuBk82tJIBuDE4GQUASkI7vZffs\n",
       "s89Gb4UUMlJ1dbXiobvYm4EeEy11cysJQEASkDihgHT06NGZM2eGZ954442rV69u\n",
       "vp2d4qFbGlbjQE+KbiWJ5QACkoBEFwNStOgoPz9///79iofupU/llAhXnVtJAAKS\n",
       "gERKAWnXrl2/bBR9GUJRbm7uyJEjDxw4oHjoXkMWlIcP48ApEa9KMhQAejwBifYC\n",
       "0tKlS5vvT7JmzZroPWHva+Hhhx9WPJzQ7wh7M9ALYlLISG4lAQhIAhLHzZgxo62A\n",
       "lJOTE335+OOPt7XD4x133KF46DJ7M9B7MlJ0K0lMAhCQBCQUD6dGtALEONCrYlLI\n",
       "SEMWlNsHHECPJyCheOhpbh/ROzOSVUkAejwBCcVDT3P7iF4ek8L16S1lAfR4AhKK\n",
       "hx7i9hG9n1VJAHo8AQnFQ0+Yt263rb1JC2bcAejxBCQUDyedmUukF28pC6DHE5BQ\n",
       "PJwsocvUaJJ27AMOoMcTkFA8nJxfCt4ZlnSOSVlFZeHDLVBAj2cQBCQUD91gyILy\n",
       "eet2GwfSOiNZlQSgxxOQUDx0T2eprSTDYpLNGAE9HgISiocucvuIDBPSkVVJgB4P\n",
       "AQnFQ1e4fUSmXtg2bwD0eAhIKB46ze0jMjsmZRWV2b8e0OMhIKF4SLV9dPuIjDdv\n",
       "3W5vlwTo8RCQUDx0zO0j+s6/BZhxB+jxEJBQPHTQMrp9RF+75s24A/R4CEgoHlrn\n",
       "9hF9kxl3gB4PAQnFQzK3j+jj178Zd4AeDwEJxcP/cfsI4hl3hgLQ4yEgKR7F09dp\n",
       "CiEyb93uUA5DFpRbmATo8QQkFA99lNtH0JwZd4AeDwFJ8Sievl3/o1YYBGgrJhkK\n",
       "QI8nIKF46EPcPoL2Y1K0MKm4qsZoAHo8AQnFQx8ofrePoCMWJgF6PAEJxUOfkL9k\n",
       "u1UWkAoLkwA9noCE4qEPVL7bRyAmAXo8BCQUDw2Ns4aGLCg3DtCFmBRqR0wC9HgC\n",
       "EoqHjBLaOwsq4ERikjeWBfR4AhKKhwzh9hF0YynZvwHQ4wlIKB7Sm9tH0F1CKYWY\n",
       "lFVUlr9ku7IC9HgCEoqH9OP2EZyMmBQCUhSTjAagxxOQUDykk9DDeddLOHkxyf4N\n",
       "gB5PQELxkDZCNAoByTiAmATo8RCQUDw0DFlQPm/dbuMAYhKgx0NAQvHgzWFBTAL0\n",
       "eAhIKB4auX0EYhKgx0NAQvHQVOpuH0EviEmGAtDjCUgoHk49u3tDr4pJ7iYBejwB\n",
       "CcXDqeTNYUFMAvR4CEgoHo5z+wh6eUzy7xeAHk9AQvHQc7w5LPRmISCFIhWTAD2e\n",
       "gITioSd4c1jo/aK7SaFU3ewF9HgCEoqHk8vu3pBGMSlUa4hJgwpK3fUF9HgCEoqH\n",
       "k1PhdveGNExKUUyyiwOgxxOQUDx0MzN2IH1jkl0cAD2egITioTvZ3RsyQLw8ybw7\n",
       "QI8nIKF46Dq7e0PGaL48yWgAejwBCcVDV9jdGzIyKQ1ZUG7eHaDHE5BQPHS+tm3P\n",
       "AJkbk8y7A/R4AhKKh06wuzf0hZgUz7uz3x2gxxOQUDy0x/YM0KeSUrTfnRtKgB5P\n",
       "QELx0ArbM0DfjEnNbyj5JxLQ4xkEAQnFQ4LtGaCPJ6V4hZKptqDHQ0BC8eiNDtsI\n",
       "GIhuKMVb3vlHE9DjISChePoo/2YMJIluKJl6B3o8BCQUT58sabt7A62Jp96FD/+M\n",
       "Ano8BCQUT59gewYgFdHUOzecQY+HgITiyXC2ZwBS1HyRkv3BQY+HgITiydiAZBCA\n",
       "zor3B5eUQI+HgKR4FE/mMFsGOBHN30nJ7xPQ4wlIKB7SXuhp7E8FdIvms+8kJdDj\n",
       "CUgoHtK1mzEOQDdqvk4pq6jM+ymBHk9AQvGQNmzPAJzUpBR+w8Tvp+SfY0CPJyCh\n",
       "eOj1leztj4CeCkuWKoEeT0BC8dCr5S/ZHj6MA9DzSSlkpH6jVtgBD/R4AhKKh17E\n",
       "9gxAbwhL0W2laLWSMQE9noCE4uHUsD0D0KuSUtJqpfA7yp0l0OMJSCgeeo41AECv\n",
       "DUvRv+AIS6DHE5BQPPRgDdueAUjDsGRMQI8nIKF46H7m1wHpHpbCf23wAHo8AQnF\n",
       "Q/fw9kdAuoel8Ess2uAh3g3PTDzQ4wlIKB66IjQQoaUwDkAm5aXmN5fkJdDjCUgo\n",
       "HjrB9gxAZoelVifjyUugxxOQUDy0LrQLBgHoO6LJeO4vgR5PQELx0ArbMwB9XPP7\n",
       "S9H6JbeYQI8nIKF4+i7z6wCSNL/F1DIyhUBliNDjISCheDK3dL39EUC74i3yms/K\n",
       "iybm+Tcm9HgISH1IdXX1ypUrDx06pHgymPl1AF2LTNHEvKQbTXFqMkQISAhIGWj2\n",
       "7NmhJLZt26Z4Mpi3PwI4eakpaYZePEnPL14EJAGJNHP48OFFixYNbSQgZXjdml8H\n",
       "0CNaDU7Ns5MhQkASkOiNNm3adNdddw0fPnxoEwEps/9v7X/JAKdKdMcpWt0U/UKO\n",
       "1zi1jE9WOiEgCUicsoB0Z5Nhw4YJSJkt/K/XXkwA6RWfWiaoOETlL9kePdksPgQk\n",
       "AYmTYvr06QJSBgv/7wz/TzUOABkjBKSWOSqOUs3vR8VpyqChxxOQEJBIMGEDoK+J\n",
       "70eFjzhNxYEq3sE8KVYl3aeK81X0YVQFJAQkAal1AxsNbSGrUcvnO37Kj/e74act\n",
       "59cZH8cdd9xxx9s5HuerrLEPhY/mKat50Gr+blFx4mqZu44/dMNPw0fzExObWPzL\n",
       "mPDR/JtHH8ePf/L6OJ7FIS0zxjnp7xU+wl+25d/3+PF2xqet49fe28o4X3tvfHzg\n",
       "jQvij+j4W29aFD4EJAGJLgYkxZNebM8AQPpqGRiSPlomhN720eFfoffcoNPjCUgI\n",
       "SH2C+XUAgB5PQEJAoqlcvf0RAKDHE5AQkGgwvw4AEJAEJAQkYllFZd4fAwDQ4wlI\n",
       "CEg01qr5dQCAgCQg0VkzZswQkDKP+XUAgIAkIKF4SDC/DgDQ4wlIKB6aCtX8OgBA\n",
       "jycgoXhoML8OANDjCUgoHmLm1wEAejwBCcVDU5WaXwcA6PEEJBQPDebXAQB6PAEJ\n",
       "xUNsUEHpjn2HjQMAoMcTkFA8mF8HAOjxBCQUD43MrwMA9HgCEoqHBPPrAAA9noCE\n",
       "4uG44qqarKIy4wAA6PEEJBQPDUMWlM9bt9s4AAB6PAEJxcPx+XUGAQDQ4wlIKB7M\n",
       "rwMA9HgCEoqHJubXAQB6PAEJxUOC/esAAD2egITioakyvT8sAKDHE5BQPDR4f1gA\n",
       "QI8nIKF4iJlfBwDo8QQkFA9NZWl+HQCgxxOQUDw0mF8HAOjxBCQUDzHz6wAAPZ6A\n",
       "hOKhqSbNrwMA9HgCEoqHBvPrAAA9noCE4iGWVVRWXFVjHAAAPZ6AhOLB/DoAQI8n\n",
       "IKF4aGR+HQCgxxOQUDwkmF8HAOjxBCQUD03VaH4dAKDHE5BQPDSYXwcA6PEEJBQP\n",
       "MfPrAAA9noCE4qGpFM2vAwD0eAISiocG8+sAAD2egITiIRbSUchIxgEA0OMJSCge\n",
       "zK8DAPR4AhKKh0bm1wEAejwBCcVDgvl1AIAeT0BC8ZAwqKB0x77DxgEA0OMJSCie\n",
       "vs78OgBAjycgoXhIML8OANDjCUgoHhLMrwMA9HgCEoqHpgq0wTcAoMcTkFA8NFiA\n",
       "BADo8QQkFA8x8+sAAD2egITioan8zK8DAPR4AhKKhwbz6wAAPZ6AhOIhllVUVlxV\n",
       "YxwAAD2egITiwfw6AECPJyCheGhkfh0AoMcTkFA8JIR0FDKScQAA9HgCEooHG3wD\n",
       "AHo8AQnFQyPz6wAAPZ6AhOIhwfw6AECPJyCheEgwvw4A0OMJSCgemqrOBt8AgB5P\n",
       "QELx0GABEgCgxxOQUDzEsorKiqtqjAMAoMcTkFA8mF8HAOjxBCQUD43MrwMA9HgC\n",
       "EoqHBBt8AwB6PAEJxUOCDb4BAD2egITi4Tjz6wAAPZ6AhOIhwfw6AECPJyCheEgw\n",
       "vw4A0OMJSCgemorNBt8AgB5PQELx0GABEgCgxxOQUDzELEACAPR4AhKKh6ZKM78O\n",
       "ANDjCUgoHhrMrwMA9HgCEoqHmPl1AIAeT0BC8ZBgg28AQI8nIKF4aCozC5AAAD2e\n",
       "gITiocECJABAjycgoXiIZRWVFVfVGAcAQI8nIKF4ML8OANDjCUgoHhqZXwcA6PEE\n",
       "JBQPCTb4BgD0eAIS3aO2traioqKkpKS8vPzgwYOpnHLo0KHNmzevXr06/PfAgQOK\n",
       "55SzwTcAICAJSHSD0tLSvLy8oU1yc3MXL17c/inLly9POuWpp55SPKdQiEYhIBkH\n",
       "AEBAEpA4IZWVldnZ2eHKnj179qpVqx599NHoy7Vr17Z1ym9+85vwhJycnPDk1atX\n",
       "z5kzJwSkcKSkpETxnCoWIAEAApKARDeYNm1auKznz58fH1myZEk4Mn78+LZOCVEq\n",
       "PKH5LaPHHnssHJk6dariOVVs8A0ACEgCEifq6NGj0c2fffv2xQePHDkyfPjwcHDv\n",
       "3r2tnhWCUHh048aN8ZHonlJ+fr7iOWXVZYNvAEBAEpA4QdXV1eGaHj16dNLxwsLC\n",
       "cLy8vPUpW08//XR49JFHHomPzJ07Nxx54oknFM8pYX4dACAgCUi04siRIyG9TJ06\n",
       "dcyYMeHLDRs2tL8lXWVlZbimJ02alHR8xowZ4fgLL7zQ6lkHDhwoKCgIT7j33nsX\n",
       "Llw4ceLEaEpe89tQiqcn2eAbABCQBCSSTZ48+fzzz+/XJBz57Gc/e9ZZZ02YMKGt\n",
       "U7Zu3Rqu6cLCwqTj0R2htjZdqKure/bZZ4f+uUWLFtXX17dfPK3ygztxNvgGAHog\n",
       "CGnnBKR0MmrUqCgXDRw4MA5IX/va16LPJ06c2OpZW7ZsaTUgRdswtBWQHn744fDo\n",
       "iBEjFi5cuG7duhCNbrzxxnDkgQce8K8LPc8G3wDAqQ1OBkFA6nVWr14dUtBpp502\n",
       "Z86c8OUFF1wQBaQ33nijoKAgfH7uuee2+l6u27ZtC9d0y1tM06dPb2un72PHjuXl\n",
       "5WVnZ1dWVsYHX3nllWhfh5qaGsXTwyxAAgAEJAGJPxMSTkhB8V4LcUCKvP/97w9f\n",
       "tno7aM+ePdG9oKTZcePGjQvHKyoqWp4SDra6CfgDDzwQjq9Zs0bx9DAbfAMAApKA\n",
       "xJ/5whe+ECLQ6tWrWw1I3//+98OXCxYsaHliXV1dXl5euKx37twZHzxw4EBOTk52\n",
       "dnarN53CM8Pz77jjjqTj99xzTzheVlameHq6rmzwDQAISAISzX33u98NEeiZZ55p\n",
       "NSBF8amtBUWzZs2K3uM1vokU7dAwefLk6Mtdu3b9slH0ZfzWSatWrYpPefHFF7Mb\n",
       "7d+/X/H0JPPrAAABSUAi2bRp00IECkGoZUD6zW9+M2DAgP79+7e133d1dXW0fGj0\n",
       "6NFz5sy5/fbbw+ch6sTz65YuXZq0P8mvfvWr6Eg45dFHHy0qKgrPD18+9dRTiqeH\n",
       "2eAbABCQBCSS7d2798ILLwyh6Etf+tLzzz9/3nnnhc9/97vfPfjgg+9+97vD59/6\n",
       "1rfaOb2qqio/Pz/eqHHs2LEbN26MH40CUk5OTvNTSktLw9PiU2655ZaQmurq6hRP\n",
       "D7PBNwAgIAlItGLlypVvectb+rXmkksuaf/tYhVPGheVBUgAgB5PQKJVr7zyyne+\n",
       "8523v/3tcTS6+OKL77nnnj/96U+KJyNZgAQA6PEEJDq2e/fuDRs27N27V/FkNguQ\n",
       "AAA9noCE4qGposyvAwD0eAISkauvvvqyzvj973+veDKJ+XUAgIAkIPF/Lr300n6d\n",
       "sWPHDsWTScyvAwAEJAGJ/7Ny5cqnm/mnf/qnkILOPvvsYcOGzZ8/f/HixbNnz/7M\n",
       "Zz4TpaOZM2e+/vrriieT2OAbABCQBCRat379+v79+5933nlbt25Neug//uM/QkC6\n",
       "9NJL6+vrFU9GlZMFSACAgCQg0arhw4eHFHTfffe1+uhHP/rR8Ohvf/tbxZMxLEAC\n",
       "AAQkAYk2RfPrnnvuuVYfveGGG8KjCxcuVDwZwwIkAEBAEpBo07XXXhsi0E9+8pNW\n",
       "H83KygqPrlixQvFkDAuQAAABSUCiTXfffXeIQB//+McPHTqU9NCzzz572mmn9e/f\n",
       "/8CBA4onY5hfBwAISAISbaqoqDjnnHNCRvrwhz/84x//uKqq6o9//OOGDRtuueWW\n",
       "s846Kxz/6le/qngyhgVIAICAJCDRgfnz5/fv37/Vd0C65JJLTvntI8XTjbKKyoqr\n",
       "aowDACAgCUi0p6ys7Mtf/vKAAQPiaHTRRRf96Ec/qq2tVTwZVUg2+AYABCQBiRTV\n",
       "1dW9/PLLL7744sGDBxVP5jG/DgDQ4wlIdKC2tnZPR0JwUjwZwAbfAICAJCDRgfHj\n",
       "x/fryI4dOxRPBrDBNwAgIAlInGhAOu+88/7whz8onkyoIguQAAABSUCifUeOHDnU\n",
       "wvbt2x955JGLL774He94R1lZmeLJABYgAQACkoDECfntb3/71re+9YILLqivr1c8\n",
       "6c4CJABAQBKQOFFf//rX+/XrV15ernjSnQVIAICAJCBxor75zW+GgPTYY48pnrRW\n",
       "XFWTVVRmHAAAAUlAouv27dt3zjnnhIC0evVqxZPWLEACAAQkAYmULFu27AetGTx4\n",
       "8Nlnnx3SUfjv/v37FU9ayyoqK66qMQ4AgIAkINGB9rf5ftOb3vTggw8qnrSvHxt8\n",
       "AwACkoBEKp5++umc1tx0001Tp07dtm2b4kl35tcBAAKSgITiIcEG3wCAHk9AIlXL\n",
       "ly8fO3bs2rVrW310xowZ4VFrkNKaDb4BAAFJQCJV0RqkmTNntvroJz7xifDojh07\n",
       "FE8aF48FSACAgCQg0b7nnntuRaPrrrsuRKCbb755RQtPPfXU2972tvDo7t27FU+a\n",
       "sgAJABCQBCQ6dv755/dLTchIR48eVTxpygIkAEBAEpDo2Mc//vH3NXr7298eUtA7\n",
       "3/nO97Xw13/915/+9KefeOIJxZO+LEACAAQkAYlOaH8NkuJJ+8qxAAkA0OMJSKRu\n",
       "1qxZV1xxxcKFCxVP5rEACQDQ4wlIKB4SLEACAPR4AhIdu/POO7/97W9PmTIlfL5w\n",
       "4cJvd+SPf/yj4klHFiABAAKSgETHLr300n79+n3xi19saFqD1D7vg5SOzK8DAAQk\n",
       "AYmUzJw5s6Cg4LHHHgufr169uqAjr732muIRkAAA9HgCEoonXWUVlRVX1RgHAECP\n",
       "JyCheLDBNwCgxxOQSM2YMWO+3Rk2aUg75tcBAAKSgESqok0aUmeThrRjg28AQEAS\n",
       "kEjV3LlzCzrDJg1pxwbfAICAJCCheGgqGAuQAAA9noDEiTh06NCKFStmzpw5ceLE\n",
       "Rx555IUXXqivr1c86cgCJABAQBKQ6Lq6urp77733/PPPT1p6dPnlly9btkzxpB0L\n",
       "kAAAAUlAouvGjBkTJaLTTz/9kksuufLKKy+88ML4yPPPP6940osFSACAgCQg0UWr\n",
       "Vq2KstANN9ywe/f/3XZYs2bNFVdcEY5ffPHFiifNqsUCJABAQBKQ6Jo777wzpKCv\n",
       "f/3rLR/au3dvNO9u+/btiiddWIAEAAhIAhJd98UvfjFEoF/84hetPvqNb3wjPLpw\n",
       "4ULFky4sQAIABCQBia6LItDy5ctbfXTw4MHh0SeffFLxpAsLkAAAAUlAousKCwtD\n",
       "BLr11ltbPnTo0KGBAweGR3//+98rnrQpFQuQAAABSUCiy3bt2nXRRRf1799/5syZ\n",
       "x44di4+/+uqr0ey7wYMHK550YQESACAgCUickEWLFv3jP/5jtJHdoEGDvvWtbw0b\n",
       "Nuyqq64688wzo4Pf+c53hjazdOlSxdNrSUcAgIAkIHFCxo8f368zfvSjHymeXmtQ\n",
       "QalBAAAEJAGJrlu+fPnYzli1apXi6Z3MrwMABCQBCcWDgAQA6PEEJBQPf847IAEA\n",
       "ejwBiW6wf//+Bx54YNiwYf+vDXv27FE8aVAkNvgGAAQkAYkTtHfv3kGDBrW/McOO\n",
       "HTsUTy9nfh0AICAJSHSDu+66K0Sg00477eqrr/7BD35wR2tqamoUTy+Xv2R7+DAO\n",
       "AICAJCBxQq655poQkCZPnqx40lpWUVlxVY1xAAAEJAGJE/LP//zPISCtXr1a8aR3\n",
       "hViABAAISAISJy56o9gf/vCHiid9WYAEAAhIAhLd4ze/+c2AAQPe8573bN26VfGk\n",
       "KRt8AwACkoBEt3n88cej3equvPLKka3Zt2+f4unNBhWU7th32DgAAAKSgMSJevXV\n",
       "V9///vfb5ju9y8MCJABAQBKQ6BZTpkwJEah///6f/exnR44cOao17iD1ZhYgAQAC\n",
       "koBEt/nqV78aAlJBQYHiSVMWIAEAApKARLf5+te/HgLSmjVrFE+asgAJABCQBCS6\n",
       "zT333BMC0qxZsxRPutaGBUgAgIAkINFddu3aNXDgwPPPP7+yslLxpB0LkAAAAUlA\n",
       "ojutXbs2Ozu7X79+AwYMGDx48A9as3//fsXTO1mABAAISAIS3Wn8+PH9OmKb717L\n",
       "AiQAQEASkOhOTz/9dE5H9u7dq3h6aWFYgAQACEgCEj1m69atY8aMefXVVxVPL2QB\n",
       "EgAgIAlI9ITa2tqHH37405/+tCl2vZkFSACAgCQgcXJt2LBh2LBhb3vb2+IFSP37\n",
       "99+1a1f7aaqioqKkpKS8vPzgwYMp/kGHDh0qKytbu3bt7373O8XTNRYgAQACkoDE\n",
       "SfHaa68VFRVdfvnlzfdm+OAHP1hYWNh+OiotLc3LyxvaJDc3d/HixR1Go7vvvjs7\n",
       "Ozs+64EHHnjjjTcUT6erwgIkAEBAEpDoXqtWrfrud7971llnNY9GV199dVlZWYfn\n",
       "VlZWRjln9uzZ4fs8+uij0Zdr165t65TDhw9PmjQpPKegoOCZZ55ZsGDBzTffHL4M\n",
       "nyieTrEACQAQkAQkuk11dfWPfvSj97///XEoChnpG9/4xhVXXBE+D4EnlW8ybdq0\n",
       "cFnPnz8/PrJkyZJwZPz48W2dsnTp0vCEKVOm1NXVRUc2bdoUjowaNaq+vl7xpM4C\n",
       "JABAQBKQ6B7Z2dmnn356lIve9KY3fe5zn5s3b160fOh73/teigHp6NGjubm54bLe\n",
       "t29ffPDIkSPDhw8PB9vaGXzixInh0d27/6yzX7ly5YoVK+LIpHhSYQESACAgCUh0\n",
       "j0svvTSkoDPOOOPuu+9OyiqpB6Tq6upwTY8ePTrpeGFhYTheXt7K7K+amprw0O23\n",
       "397QONduy5YtmzdvPnDggOLpSklYgAQACEgCEt0YkIKBAwfeeuutL774YhcCUmVl\n",
       "ZbimJ02alHR8xowZ4fgLL7zQ8pQdO3aEh4qKiv7rv/6r+SYNDz30UMhL7RdPq/rs\n",
       "T9ACJAAgvYKQdk5A6tUqKirGjBnzrne9K16A9KEPfWjKlCmvvPJK6gFp69at4Zou\n",
       "LCxMOj537txwvKSkpOUp//M//xMeysnJCf+97777nn322ccee2zEiBHhyzlz5vjX\n",
       "hdRZgAQAZEZwMggCUi9y9OjRJ5988ktf+tJpp50Wr0c688wzwyezZs3q8PQtW7a0\n",
       "GpBCuGorIK1fvz76p4Kf/vSn8cGdO3dGkSnEM8WTIguQAAABSUDiZPn9739fUFDw\n",
       "vve9L76hdO65595www3PPfdcO2dt27YtXNMTJkxIOj59+vS2dvp+6aWXooCU9H6y\n",
       "999/fzj4/PPPK55U68ECJABAQBKQOKnq6+tXrFgxePDgAQMGxEnpr/7qr0IEev31\n",
       "11s+f8+ePeGaHjFiRNL23OPGjQvHKyoqWp7y8ssvh4dGjhyZdPwnP/lJON7OO8wq\n",
       "nuYsQAIABCQEpJ6zb9++adOmfehDH4pj0o4dO1o+ra6uLi8vL1zWO3fujA8eOHAg\n",
       "JycnOzu71b3pwik33XRTOGX//v3Nj0+ZMiUcXLduneJJhQVIAICAhIB0CoTEEq7a\n",
       "c8899+WXX271CbNmzQpPmDp1anwTKdqhYfLkydGXu3bt+mWj+JSHHnooPCGceOzY\n",
       "sejIxo0boztR7ez3rXiaswAJABCQEJBOmXY24K6uro7eFnb06NFz5sy5/fbbw+fZ\n",
       "2dnx/LqlS5cmbeBYU1Nz2223hSP5+fkLFiyYMWNGtN/3M888o3hSLQYLkAAAAUlP\n",
       "aAh6p6qqqhB14p3sx44du3HjxvjRKCDl5OQ0P2X37t33339/ND0vOqXVLe8UT6ss\n",
       "QAIABCQEJMWjeBIsQAIA9HgISIpH8SRYgAQA6PEQkBSP4jmuuKomq6jMOAAAejwE\n",
       "JMWDBUgAgB4PAQnF08QCJABAj4eAhOJJGFRQahAAAD0eApLiUTwWIAEAejwEJBRP\n",
       "EwuQAAA9HgISiifBAiQAQI+HgITiSfAOSACAHg8BCcVznAVIAIAeDwEJxZNgARIA\n",
       "oMdDQELxJFiABADo8RCQUDwJFiABAHo8BCQUz3Hm1wEAejwEJBSPgAQA6PEQkFA8\n",
       "f84CJABAj4eAhOJpuvpHrXANAAB6PAQkFI/5dQCAHg8BCcUjIAEAejwEJBRPEguQ\n",
       "AAA9HgISiqfp0rcACQDQ4yEgoXgazK8DAPR4CEgoHgEJANDjISCheJJZgAQA6PEQ\n",
       "kFA8Tde9BUgAgB4PAQnFEzG/DgDQ4yEgoXiOswAJANDjISCheBIsQAIA9HgISCie\n",
       "poveAiQAQI+HgITiaTC/DgDQ4yEgoXgEJABAj4eAhOJJZgESAKDHQ0BC8TRd8RYg\n",
       "AQB6PAQkFE+D+XUAgB4PAQnFIyABAHo8BCQUTzILkAAAPR4CEoqn6XK3AAkA0OMh\n",
       "IKF4GsyvAwD0eAhIKB4BCQDQ4yEgoXiSWYAEAOjxEJBQPAmDCkp37Dvshw4A6PEQ\n",
       "kOjrxVNcVZNVVOYnDgDo8RCQUDwWIAEAejwEJBRPEwuQAAA9HgISiifBAiQAQI+H\n",
       "gITiOc4CJABAj4eAhOJJsAAJANDjISCheBIsQAIA9HgISCiehEEFpX7WAIAeDwEJ\n",
       "xWMBEgCgx0NAQvE0sQAJANDjISCheBIsQAIA9HgISCieBO+ABADo8RCQUDzHWYAE\n",
       "AOjxEJBQPAkWIAEAejwEJBRPggVIAIAeDwEJxZNgARIAoMdDQELxHGcBEgCgx0NA\n",
       "QvEkWIAEAOjxEJBQPAkWIAEAejwEJBRPggVIAIAeDwEJxXOcBUgAgB4PAQnFk2AB\n",
       "EgCgx0NAQvEkWIAEAOjxEJBQPAkWIAEAejwEJBTPcRYgAQB6PAQkFE+CBUgAgB4P\n",
       "AQnFk2ABEgCgx0NAQvEkWIAEAOjxEJBQPAkWIAEAejwEJBTPcRYgAQB6PIMgIKF4\n",
       "EixAAgD0eAZBQELxJFiABADo8QyCgITiOc47IAEACEgCEoonwQIkAAABSUBC8SRY\n",
       "gAQAICAJSJmptra2oqKipKSkvLz84MGDnTr3tddeW7ly5c6dO/ta8ViABAAgIAlI\n",
       "Gai0tDQvL29ok9zc3MWLF6d4bn19/X333RfOevrpp/tU8ViABAAgIAlIGaiysjI7\n",
       "Oztc2bNnz161atWjjz4afbl27dpUTl++fHkUq/paQLIACQBAQBKQMtC0adPCZT1/\n",
       "/vz4yJIlS8KR8ePHd3juK6+8Mnz48JEjR/bBgGQBEgCAgCQgZZqjR4/m5uaGy3rf\n",
       "vn3xwSNHjoTYEw7u3bu3/XMnTpx4yy23FBcX98GAZAESAICAJCBlmurq6nBNjx49\n",
       "Oul4YWFhOF5e3t4UsoULF4bnlJWVrV+/vq8FJAuQAAAEJAEpA1VWVoZretKkSUnH\n",
       "Z8yYEY6/8MILbZ1YUVGRnZ09d+7c8HnqAalV6ThuFiABAH0wCGVSOycg0bqtW7eG\n",
       "a7qwsDDpeEg+4XhJSUmrZ73++uu33XbbmDFjamtrOxWQMmbcLEACAMi8Hk9AomHL\n",
       "li2tBqTZs2e3E5Ci+LR58+boyz4YkCxAAgAQkASkDLRt27ZwTU+YMCHp+PTp09va\n",
       "6XvDhg3hoTlz5hxusmbNmnDkySefDJ8fO3Ys44vHAiQAAAFJQMpMe/bsCdf0iBEj\n",
       "6uvrmx8fN25cOF5RUdHylCeeeKKdGajFxcUZXzwWIAEACEgCUmaqq6vLy8sLl/XO\n",
       "nTvjgwcOHMjJycnOzg6ftDxl3bp1M/7chAkTovdNCp/H8+4yuHgsQAIAEJAEpIw1\n",
       "a9ascFlPnTo1vokULTGaPHly9OWuXbt+2ait79DX1iBZgAQAICAJSBmruro6elvY\n",
       "0aNHz5kz5/bbbw+fZ2dnx/Prli5d2v4Gjn0qIFmABAAgIAlIGa6qqio/Pz9eRzR2\n",
       "7NiNGzfGj0YBKScnp63Ty8rKwhOeeeaZvlA8FiABAAhIAhKKJ8ECJAAAAUlAQvEk\n",
       "WIAEACAgCUgonuPMrwMAEJAEJBSPgAQAICAJSCieP2cBEgCAgCQgoXiaruBRK/wc\n",
       "AQAEJAEJxWN+HQCAgCQgoXgEJAAAAUlAQvEkySoqK66q8XMEABCQBCQUjwVIAAAC\n",
       "koCE4mlkfh0AgIAkIKF4EvKXbA8ffogAAAKSgITisQAJAEBAEpBQPPG1awESAICA\n",
       "JCCheBosQAIAEJAEJBRPLKSjkJH8BAEABCQBCcXTMKigdMe+w36CAAACkoCE4rEA\n",
       "CQBAQBKQUDyNLEACABCQBCQUT4IFSAAAApKAhOJJsAAJAEBAEpBQPE1XrQVIAAAC\n",
       "koCE4olYgAQAICAJSCieRDqyAAkAQEASkFA8x1mABAAgIAlIKJ6mS9YCJAAAAUlA\n",
       "QvE0eAckAAABSUBC8cQsQAIAEJAEJBRPggVIAAACkoCE4mm6Xi1AAgAQkAQkFE+D\n",
       "BUgAAAKSgITiiVmABAAgIAlIKJ4EC5AAAAQkAQnF03SxWoAEACAgCUgongYLkAAA\n",
       "BCQBCcUTswAJAEBAEpBQPAkWIAEACEgCEornOPPrAAAEJAEJxSMgAQAISAISiufP\n",
       "WYAEACAgCUgonqbL1AbfAAACkoCE4mkwvw4AQEASkFA8sfwl28OHHxYAgIAkIKF4\n",
       "GrKKyoqravywAAAEJAEJxWMBEgCAgCQgoXgaWYAEACAgCUgongQbfAMACEgCEoon\n",
       "YVBB6Y59h/2kAAAEJAEJxWMBEgCAgCQgoXgaWYAEACAgCUgongQLkAAABCQBCcWT\n",
       "YAESAICAJCCheI4L0SgEJD8jAAABSUBC8ViABAAgIAlIKJ4mFiABAAhIAhKKp+nS\n",
       "tME3AICAJCCheBrMrwMAEJAEJBRPzPw6AAABSUBC8STY4BsAQEASkFA8TdelBUgA\n",
       "AAKSgITiabAACQBAQBKQUDwxC5AAAAQkAQnFk2ABEgCAgCQgoXiaLkoLkAAABCQB\n",
       "CcXTYAESAICAJCCheGLSEQCAgCQgoXiarkjz6wAABCQBCcXTYH4dAICAJCCheGI2\n",
       "+AYAEJAEJBRPgg2+AQAEJAEJxdN0OVqABAAgIAlIKJ4GC5AAAAQkAQnFE7MACQBA\n",
       "QBKQUDwJFiABAAhIAhKK5zjz6wAABCQBCcWTkL9ke/jwEwEAEJAEJBSP+XUAAAKS\n",
       "gES7amtrKyoqSkpKysvLDx48mOIpW7duDads2bIlfJ5GxWODbwAAAUlAok2lpaV5\n",
       "eXlDm+Tm5i5evLid59fX1y9btiw8LT4lnL58+fK0KB4LkAAABCQBiTZVVlZmZ2eH\n",
       "K3v27NmrVq169NFHoy/Xrl3b1inhaeEJw4YNe/zxx1evXv3ggw9Gp6xfv773F48N\n",
       "vgEABCQBiTZNmzYtXNbz58+PjyxZsiQcGT9+fKvPr6uru/XWW5MS1KJFi8KRu+++\n",
       "u/cXjwVIAAACkoBE644ePRrNlNu3b1988MiRI8OHDw8H9+7d2/KUV199NTx02223\n",
       "1dfXxwfDM8PBkSNH9vLiMb8OAEBAEpBoU3V1dbimR48enXS8sLAwHC8vbyVL7Nq1\n",
       "68477/zxj3+cdDA8f8yYMQISAICAhICUriorK8M1PWnSpKTjM2bMCMdfeOGFVIPH\n",
       "vHnh+eGs9ounVT35980qKiuuqvFzBwDoQhDqDe2cgMTJtXXr1nBNFxYWJh2fO3du\n",
       "OF5SUtLhd6ivr//Zz34W7X23e/fuXv6vCzb4BgDo9uBkEASkzLFly5ZWA9Ls2bNT\n",
       "CUghEUWT8UaMGLF58+ZeXjzm1wEACEgCEu3Ztm1buKYnTJiQdHz69Ont7/RdV1f3\n",
       "7LPPRhs8hIxUXV3d+4vHBt8AAAKSgER79uzZE93/ab4lXTBu3LhwvKKiotWzjh49\n",
       "OnPmzPCEG2+8cfXq1Unn9triscE3AICAJCDRnrq6ury8vHBZ79y5Mz544MCBnJyc\n",
       "7Ozs8EmrZ0WLjvLz8/fv358uxWN+HQCAgCQg0bFZs2aFy3rq1KnxjaBoh4bJkydH\n",
       "X+7ateuXjaIvQyjKzc0dOXJkW/GpdxaP+XUAAAKSgETHqquro7eFHT169Jw5c26/\n",
       "/fbweXZ2djy/bunSpc03cFyzZk30nrD3tfDwww/32uIxvw4AQEASkEhJVVVVfn5+\n",
       "vJP92LFjN27cGD8aBaScnJzoy8cff7ytLfDvuOOOXls8NvgGABCQBCQUz3EWIAEA\n",
       "CEgCEoonIauorLiqxo8AAEBAEpBQPObXAQAISAISiqeR+XUAAAKSgITiSbDBNwCA\n",
       "gCQgoXgSbPANACAgCUgonuPMrwMAEJAEJBRPgvl1AAACkoCE4kkwvw4AQEASkFA8\n",
       "TdecDb4BAAQkAQnF02ABEgCAgCQgoXhiWUVlhh0AQEASkFA8jRec+XUAAAKSgITi\n",
       "aTC/DgBAQBKQUDwxG3wDAAhIAhKKp+lqM78OAEBAEpBQPA3m1wEACEgCEoonZn4d\n",
       "AICAJCCheJouNfPrAAAEJAEJxdNgfh0AgIAkIKF4YubXAQAISAISiqfpOjO/DgBA\n",
       "QBKQUDwN5tcBAAhIAhKKJ2Z+HQCAgCQgoXgSBhWU7th32GgDAAhIAhJ9vXjMrwMA\n",
       "EJAEJBRPgvl1AAACkoCE4kkwvw4AQEASkFA8CebXAQAISAISiieRjsyvAwAQkAQk\n",
       "FE/j5eX9YQEABCQBCcXTYP86AAABSUBC8cTMrwMAEJAEJBRP07Vlfh0AgIAkIKF4\n",
       "GsyvAwAQkAQkFE8sq6isuKrGCAMACEgCEorH/DoAAAFJQELxNDK/DgBAQBKQUDwJ\n",
       "gwpKd+w7bHgBAAQkAYm+XjzFVTVZRWXGFgBAQBKQUDze/ggAQEASkFA8TcyvAwAQ\n",
       "kAQkFM9xtmcAABCQBCQUT4L5dQAAApKAhOJpup68/REAgIAkIKF4GsyvAwAQkAQk\n",
       "FE/M9gwAAAKSgITiOc7tIwAAAUlAQvEkZBWVFVfVGFIAAAFJQELx2J4BAEBAEpBQ\n",
       "PI3yl2wPH8YTAEBAEpBQPLZnAAAQkAQkFE8j2zMAAAhIAhKKJ8H2DAAAApKAhOI5\n",
       "LkSjEJCMJACAgCQgoXgahiwon7dut5EEABCQBCQUj929AQAEJAEJxdPI9gwAAAKS\n",
       "gITiSbC7NwCAgCQgoXiOc/sIAEBAEpBQPAluHwEACEgCEornOLePAAAEJAEJxZPg\n",
       "9hEAgIAkIKF4jnP7CABAQBKQUDwJbh8BAAhIAhKK5zi3jwAABCQBCcWT4PYRAICA\n",
       "JCCheI5z+wgAQEASkFA8CW4fAQAISAISiue4rKKy/CXbDRoAgIAkINHXi6e4qiYE\n",
       "JCMGACAgCUgonoZ+o1aEjGTEAAAEJAGJvl48JtcBAAhIAhKK5ziT6wAABCQBCcWT\n",
       "MKig1OQ6AAABSUBC8ZhcBwAgIAlIKJ5GJtf5JWWoMc6G2jhjqA21gES6qq2traio\n",
       "KCkpKS8vP3jw4AkWT0hHgwpKjapfUoYa42yojTOG2lALSKSf0tLSvLy8oU1yc3MX\n",
       "L17c5eKRjvySMtQYZ0NtnDHUhlpAIl1VVlZmZ2eHSpg9e/aqVaseffTR6Mu1a9d2\n",
       "oXjmrdstHfklZagxzobaOGOoDbWARLqaNm1aKIP58+fHR5YsWRKOjB8/vrPFE9KR\n",
       "dUd+SRlqjLOhNs4YakMtIJGujh49mpubG8pg37598cEjR44MHz48HNy7d2/qxSMd\n",
       "+SVlqDHOhto4Y6gNtYBEequurg41MHr06KTjhYWF4Xh5eXn7xbNj3+H8JduHLCgf\n",
       "VFAqHfklZagxzobaOGOoDbWARHqrrKwMNTBp0qSk4zNmzAjHX3jhhXbOff/IB0Mu\n",
       "CgFp3rrdRtIvKUONcTbUxhlDbagRkNLe1q1bQw0UFhYmHZ87d244XlJS0n7xAACQ\n",
       "eTTJAlLftWXLllYD0uzZszsMSAAAgICUUbZt2xaC0IQJE5KOT58+PZWdvgEAAAEp\n",
       "c+zZsycEoREjRtTX1zc/Pm7cuHC8oqLCEAEAgIDUV9TV1eXl5YUstHPnzvjggQMH\n",
       "cnJysrOzwyeGCAAABKQ+ZNasWSEgTZ06Nb6JFO3QMHnyZIMDAAACUt9SXV0dvS3s\n",
       "6NGj58yZc/vtt4fPs7Ozza8DAAABqS+qqqrKz8+PN3YcO3bsxo0bDQsAAAhIAAAA\n",
       "AhIAAICABAAAICABAAAISAAAAAISJ662traioqKkpKS8vPzgwYMGpOeHdO/eva+0\n",
       "4Gdxgqqrq1euXHno0CFD0fND6pLu9l8pW7duDb9StmzZEj43ID0/pC7p7vXaa69t\n",
       "2rQpGv/Dhw8bkJ4fUpe0gER7SktL8/Ly4g3Bc3NzFy9ebFh6eEjHjx8/tIWnnnrK\n",
       "YJ6I2bNnh2Hctm2boej5IXVJd5f6+vply5aFXyPxMIZfL8uXLzcyPTykLunuUldX\n",
       "F8YtJycnHsabb745tPVGpoeH1CUtINGmysrK7OzsUBKh71m1atX/b+/eg6Iq/ziO\n",
       "/0wlrJDSmu5jYhcyb5OTzth0U7PpMloQWGPhNJKwKmkaTFTkBRW8MEoyYool4YQw\n",
       "lIoNoVIUisodhZHLoBICYmwkpKHAbr/vr2d+Z06Li1vtLiLv11+7zz6755wvzy7n\n",
       "s3vOcxISEtTdnJwciuO0kra1tcnnWkhISNJflZSUUM9/prW1NTU1VX3cE5CcX1KG\n",
       "tB3Jx4jU3GAwSAGzsrLi4uLUR0peXh7FcVpJGdJ2lJmZKdUOCgrauXOnJNWoqCi5\n",
       "K+U9ceIExXFaSRnSBCR0JTo6Wt5FX375pdaSnp4uLYsXL6Y4TivpTz/9JB22bdtG\n",
       "9f49+XBfunTp3Llzte/DCEjOLylD2l5MJtN7771n8Q2LSqqrV6+mPk4rKUPajoKD\n",
       "g6WYZWVlWktkZKS0pKSkUBynlZQhTUCCVe3t7eoYg19++UX/pYLaEzIajZTIOSU9\n",
       "dOiQPMoxM/bam//4/wwGAwGpW0rKkLaXs2fPSiXff/99s9msNconifq2mPo4raQM\n",
       "aXs5d+6cVDIsLEzfKIWVxtjYWOrjtJIypAlIsKqhoUHeHsHBwRbt6ouH48ePUyLn\n",
       "lDQ5OVkeLSwszMrKSklJkQ+skydPUsx/LyYmhoDULSVlSNtLTU2N5FKLb3mlUcob\n",
       "EhJCfZxWUoa0vbS0tEgNjx49qm+U/Xgp7/fff099nFZShjQBCVZVVlbK22PFihUW\n",
       "7ep9deTIEUrknJKuW7dOzeWgP1EyLi6uvb2dkhKQemJJGdIO9fnnn/N1u5NLypB2\n",
       "hKqqqoMHD6rj0sPDw5lx1JklZUgTkGBVeXm5vB8iIyMt2rdu3SrtTCnjtJIuWrRI\n",
       "Hl21apUkqIqKil27dqnPLCaTISD10JIypB3EbDanpKSo3Zr6+noK4rSSMqQdYc2a\n",
       "NdqueWFhIQVxZkkZ0gQkWFVWVnbZvXk1ky8ByTklNZlM+/bt279/v/5rm9zcXPUP\n",
       "Wx6lqgSknlVShrSDyO67Olh33rx5paWlFMRpJWVIO8iJEycKCgpkj1xdGCM5OZma\n",
       "OKekDGkCEroieznyZli2bNll94GY6bt7SxoSEiJP4UtiAtI1U1KG9D8m+ytpaWnq\n",
       "+13ZoW9oaKAmV0NJGdJ23K0PCAgICgri+K7uLSlDmoCE/2lsbFTfnOkn8xFhYWHS\n",
       "XlFRQYmcUFLp2dra2vkjLDw8nKkyCEg9saQMafuSSm7atElKN3/+/KysLIvPFjih\n",
       "pAxpOyouLo6Pj+989NeSJUvY8XBaSRnSBCR0xWQyqR9hq6urtcbm5ubAwMCAgAC5\n",
       "QYmcUNKCggLp/+mnn+ob29ragoKCmGydgNQTS8qQti91hozs6zQ1NVGNbikpQ9qO\n",
       "srOz1fwBFu2hoaHSXlNTQ4mcUFKGNAEJVyBvD3kzrF27VvsKTU0nEBERQXEcVFL5\n",
       "tNr3J3VXXX/DYDBUVlaqFnnijh071P9v6klAuvpLypB2HNmDnzNnjuy18I2VM0vK\n",
       "kHac2trazteb3r9/v7oOVUdHByVyREkZ0gQk/D0NDQ3qGqbBwcFbtmz54IMP5HZA\n",
       "QAA/czuupHv37lWfZdpTEhMT5W5gYGBsbGxSUtKKFSvUiZJVVVXUk4B09ZeUIe04\n",
       "hw8fVns56zqJj4+nPg4qKUPaoRISElT1Nm/eLMVU82SIQ4cOURwHlZQhTUDC3yZv\n",
       "BnWgqhIaGlpcXExZHFdS9Tkln0paS0dHR1pa2oIFC1R/eWjVqlWnT5+mkv+SuvwU\n",
       "AcnRJWVIO47suMy24qOPPqI+DiopQ9qh2tvbpZjqcHRl8eLFBQUFVMZxJWVIE5Dw\n",
       "D124cKGmpqalpYVSdFdJzWaz0Wisra1lGh9cGxjSYEiji2I2NTXJf0n5X0k1uquk\n",
       "DGkCEgAAAAAQkAAAAACAgAQAAAAABCQAAAAAICABAAAAAAEJAAAAAAhIAIDeLjMz\n",
       "c+fOnb1z22tra5OSkiorKxkGAEBAAgA4RGNj4wAbeHt7S2eDwSC3lyxZ0l1rW1RU\n",
       "1K9fv2efffZa+hNs3LhRqjpjxowr9jQajQMHDhw9enRHRwdDFwAISAAA+/v555//\n",
       "Y4PJkydL51mzZsntDz/8sFtWVVLB2LFj+/TpU1hYeC39CTZs2CBVfemll2zpvHTp\n",
       "UukcGxvL0AUAAhIAwP7MZnPLXw0bNkx2wUNDQ/WNv//+u3ROSkqaO3fut99+2y2r\n",
       "mpiYKCvm5eV1jf0J/lZAkr+Fm5vb7bfffvHiRUYvABCQAAAO9+CDD8r+ejceR2fN\n",
       "hAkTZMVSU1N7c0ASM2fOlP7btm1jrAIAAQkA0J0BaevWrX5+fikpKeru+vXr5W5p\n",
       "aWlmZqa/v/+IESPGjx+/aNGilpYWeTQhIcHX19fDw2Ps2LFBQUG1tbX6l8rLy5sz\n",
       "Z864cePkWQaD4auvvup6rY4ePSprNXjw4La2Nq0xIyNj+vTp8gpDhw6VRS9YsKDz\n",
       "BAa2LOi7775TfYYNGzZx4sSIiIjm5maLPjk5OfPnz3/iiSekz7Rp08LDw3/99Vft\n",
       "Ua0UP/74Y2Bg4MiRIx944AEfH5+ioiKL19m9e/esWbNGjRp1//33e3t7y6I7B6Su\n",
       "t2vfvn3SX6rKWAUAAhIAoDsDksU5SM8995zcff311/v166c/YWnq1KkSkyzOYpI8\n",
       "oIKTiIqK6t+/v0WHhQsXdrFWa9askT5TpkzRWtauXdv5XCl3d/djx45pfa64ILPZ\n",
       "HBYW1qdPH4s+9957b11dndZt5cqVFtsohgwZIqlJXwpJWS4uLvo+cvfw4cOqT0dH\n",
       "x7x58zqvs1RGH5CuuF3nz59XjfX19QxXACAgAQCuroAkJkyYcODAgTNnzkgg0fbp\n",
       "J02alJiYWFtbGxMTo1q+/vrrP/78uUZu9+3bV5JJVVXVyZMnly9frnLFhg0brK3V\n",
       "iy++KB0CAgLU3UuXLt1www2q5dSpU83NzRkZGR4eHtLi6+ur+tiyoJSUFLVufn5+\n",
       "kmSkmzw0ePBgaXn++edVnz179qg+0pKbmyuxJCkp6Y477pCWe+65R52dpZVizJgx\n",
       "slzZ6vj4eHlUWqZNm6Ze57PPPlN9/P398/Pzq6urt2/ffuutt6pGFZBs2S5x2223\n",
       "ScsXX3zBcAUAAhIA4OoKSEOHDm1tbdX6jBgxQv3ioZKDMn78eGmMiIjQOli8fnR0\n",
       "tDTKoq2t1Z133ikdIiMj1d3jx4+rXFFQUKD1SUtLGzRo0KOPPqpfky4WZDabhw8f\n",
       "Lndfe+01fZ9PPvlEGvv3768OtPP09FTz+El/rY9Eqeuvv17bKFUKSTvnzp3T+sja\n",
       "SqPEG7ltMpnuu+8+uWsxnbdsiPptSgUkW7ZLPPbYY9InKCiI4QoABCQAwNUVkJYt\n",
       "W6bvM3XqVGl8++239Y2SQKQxPDxcm1W8rq6uVUeiiPptJz8/v/NyJZmoFLFjxw7V\n",
       "InlD/YYjqWPLli2dDzazZUHyLNUnLy9P/9y2trb09PS9e/fKDa2PdqScJiAgQNrV\n",
       "RZlUKd555x19h6KiIml0c3OT29XV1Z2Tj+Lj46MFpCtul+Lr6yt95IkMVwAgIAEA\n",
       "rq6AtGnTJn2fV155RRqjoqL0jW+88YYKSD/88EPXF1xSh+FZaGpqUo8eOXJEa4yP\n",
       "jx8wYID2RA8PD39//8zMTPWoLQvKyspSx+B1cd1VeUHpc9111+l/JVM2b96szkTS\n",
       "ShEdHa3vUFJSIo033XTTH3/Ou2BtWatXr9afg9T1dikhISHy0FNPPcVwBQACEgCg\n",
       "Bwekb775Ru3332dFYmJi5+U2NzerZx08eFDfXlVVJes5btw4/QwKb731ltlstmVB\n",
       "u3bt0gKMNWlpadJHXl9/fJ2irss0aNAga6XQByR1IpOLi0vnRahztPSz2HWxXaqD\n",
       "/Amk5fHHH2e4AgABCQDQgwOS7PqrH2T0s3XbwtXVVZ64ffv2yz56/vx5STsSGFSW\n",
       "yMzMtGVBxcXFqn9TU5O+3WQyyUZt3Lixrq6urKxM9ampqbF4umyOtEuMsSUgaa9z\n",
       "5swZi9dZuHChtesgdd4u1T5jxgy5+/LLLzNcAYCABADowQFJsoebm5vc1i6mpFRX\n",
       "V8tyPTw8LC6XpBkyZIh6BXV3z549np6er776qr5PS0vLwIEDpdv69ettWdCFCxf6\n",
       "9u0rfWJiYvR9kpKSVLgyGo2Sr9S0cmFhYfo+ly5dUtNzS01sCUjS/8Ybb5S7y5cv\n",
       "t3gdddKRCkhX3C7VoiLT7NmzGa4AQEACAPTggCS3P/74Y7l99913aycUSVBRUztI\n",
       "NrC2Vt7e3loaEceOHVOn9OzevVvrU1ZWpmaWy8jIsHFB/v7+6jA5bQ6G8vLyUaNG\n",
       "SeOTTz6pWiQayV1XV1dtigh5nTfffFMdeif9bQlIIjQ0VO5KTEpNTVUtFy9elCyk\n",
       "n+bblu0Sd911V+fFAQAISACAnheQWlpaHn74YRUDRo4cKTlE7f1L2EhPT7e2VrIU\n",
       "6TNx4kR112w2T5kyRUULyTNeXl5PP/20ep3hw4erGcZtWVB9fb2aQFz6jBkzRs0M\n",
       "LgYMGFBaWqr6/Pbbb6NHj1bt8oKTJ09WF0rSz+BnS0Bqamp65JFH1BMfeuihZ555\n",
       "Rv0upH6hUgHJlu2SWKWubCvBieEKAAQkAIBjqZ34ywakwMBA/UMqFcTFxf2tgPTH\n",
       "n7/AzJ49293dXZuBQMJAF+lI1NTUSIaRp0g8UC2SfwwGgzpuTXF1dZ0+ffrZs2e1\n",
       "Z9myoMbGRh8fH5VStOveWkz8LQt99913tYu6Sj6RhKP/keeypVDnHd18881ai2Qt\n",
       "Pz8/bX1khWfOnKmurqudg3TF7VKT76nZ8wAABCQAwLXj1KlTOTk5+kjTBS8vr87n\n",
       "FLW2tlZWVmZnZ0sakTj0jxdkMpnKy8vz8/PVxWGtOX36dG5uruScf7PVZrNZ1rak\n",
       "pKS9vd1any62SyKfdoFaAAABCQDQSx04cMDabG+9h4SlW265xdXV1Wg0MiQAgIAE\n",
       "AOjVXnjhBclIubm5vbYCK1eu7DylHgCAgAQA6I0qKipcXFwmTZrUOzffaDS6u7t7\n",
       "enpqJ2IBAAhIAIBeLTs7Ozk5uaOjo3cGJNl2SYkMAwAgIAEAAAAAAQkAAAAACEgA\n",
       "AAAAQEACAAAAAAISAAAAABCQAAAAAICABAAAAAAEJAAAAAAgIAEAAAAAAQkAAAAA\n",
       "CEgAAAAAQEACAAAAAAISAAAAABCQAAAAAICABAAAAAAEJAAAAAAgIAEAAAAAAQkA\n",
       "AAAACEgAAAAAQEACAAAAAAISAAAAABCQAAAAAICABAAAAAAEJAAAAAAAAQkAAAAA\n",
       "CEgAAAAAQEACAAAAAAISAAAAABCQAAAAAICABAAAAAAEJAAAAAAgIAEAAAAAAQkA\n",
       "AAAACEgAAAAAQEACAAAAALv6L0XJNZLnXLKdAAAAAElFTkSuQmCC\" style=\"clip-path:url(#clipPath2);\" height=\"840\" preserveAspectRatio=\"none\"\n",
       "    /></g\n",
       "  ></g\n",
       "></svg\n",
       ">\n"
      ]
     },
     "metadata": {},
     "output_type": "display_data"
    }
   ],
   "source": [
    "step(Gc)  "
   ]
  }
 ],
 "metadata": {
  "kernelspec": {
   "display_name": "MATLAB",
   "language": "matlab",
   "name": "imatlab"
  },
  "language_info": {
   "codemirror_mode": "octave",
   "file_extension": ".m",
   "mimetype": "text/x-matlab",
   "name": "matlab",
   "nbconvert_exporter": "imatlab._exporter.MatlabExporter",
   "pygments_lexer": "matlab",
   "version": "9.9.0.1467703 (R2020b)"
  }
 },
 "nbformat": 4,
 "nbformat_minor": 2
}