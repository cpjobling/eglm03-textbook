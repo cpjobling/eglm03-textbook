{
 "cells": [
  {
   "cell_type": "code",
   "execution_count": 1,
   "metadata": {},
   "outputs": [
    {
     "name": "stdout",
     "output_type": "stream",
     "text": [
      "ans =\n",
      "    '/Users/eechris/code/src/github.com/cpjobling/eglm03-textbook/03/5/matlab'\n"
     ]
    }
   ],
   "source": [
    "cd matlab\n",
    "pwd\n",
    "clear all\n",
    "imatlab_export_fig('print-svg')  % Static svg figures.\n",
    "format compact"
   ]
  },
  {
   "cell_type": "code",
   "execution_count": 2,
   "metadata": {},
   "outputs": [],
   "source": [
    "G = tf(1,[1 0 0]);  "
   ]
  },
  {
   "cell_type": "code",
   "execution_count": 3,
   "metadata": {},
   "outputs": [],
   "source": [
    "H = tf(1,1);"
   ]
  },
  {
   "cell_type": "code",
   "execution_count": 4,
   "metadata": {},
   "outputs": [
    {
     "name": "stdout",
     "output_type": "stream",
     "text": [
      "\n",
      "GH =\n"
     ]
    },
    {
     "name": "stdout",
     "output_type": "stream",
     "text": [
      " \n"
     ]
    },
    {
     "name": "stdout",
     "output_type": "stream",
     "text": [
      "   1\n"
     ]
    },
    {
     "name": "stdout",
     "output_type": "stream",
     "text": [
      "  ---\n"
     ]
    },
    {
     "name": "stdout",
     "output_type": "stream",
     "text": [
      "  s^2\n"
     ]
    },
    {
     "name": "stdout",
     "output_type": "stream",
     "text": [
      " \n"
     ]
    },
    {
     "name": "stdout",
     "output_type": "stream",
     "text": [
      "Continuous-time transfer function.\n",
      "\n"
     ]
    }
   ],
   "source": [
    "GH=series(G,H)"
   ]
  },
  {
   "cell_type": "code",
   "execution_count": 5,
   "metadata": {},
   "outputs": [],
   "source": [
    "s1 = -2 + 2j;"
   ]
  },
  {
   "cell_type": "code",
   "execution_count": 6,
   "metadata": {},
   "outputs": [],
   "source": [
    "a0 = 8/3;"
   ]
  },
  {
   "cell_type": "code",
   "execution_count": 7,
   "metadata": {},
   "outputs": [
    {
     "name": "stdout",
     "output_type": "stream",
     "text": [
      "m_s1 =\n",
      "    2.8284\n"
     ]
    },
    {
     "name": "stdout",
     "output_type": "stream",
     "text": [
      "p_s1 =\n",
      "   225\n"
     ]
    }
   ],
   "source": [
    "m_s1=abs(s1),  p_s1 = (angle(s1)*180/pi + 90) % degrees "
   ]
  },
  {
   "cell_type": "code",
   "execution_count": 8,
   "metadata": {},
   "outputs": [
    {
     "name": "stdout",
     "output_type": "stream",
     "text": [
      "GHs1 =\n",
      "   0.0000 + 0.1250i\n"
     ]
    }
   ],
   "source": [
    "[numGH,denGH] = tfdata(GH,'v');GHs1=polyval(numGH,s1)/polyval(denGH,s1)"
   ]
  },
  {
   "cell_type": "code",
   "execution_count": 9,
   "metadata": {},
   "outputs": [
    {
     "name": "stdout",
     "output_type": "stream",
     "text": [
      "mGHs1 =\n",
      "    0.1250\n"
     ]
    }
   ],
   "source": [
    "mGHs1=abs(GHs1)"
   ]
  },
  {
   "cell_type": "code",
   "execution_count": 10,
   "metadata": {},
   "outputs": [
    {
     "name": "stdout",
     "output_type": "stream",
     "text": [
      "pGHs1 =\n",
      "   -90\n"
     ]
    }
   ],
   "source": [
    "pGHs1=angle(GHs1)*180/pi - 180 % degrees"
   ]
  },
  {
   "cell_type": "code",
   "execution_count": 11,
   "metadata": {},
   "outputs": [
    {
     "name": "stdout",
     "output_type": "stream",
     "text": [
      "beta =\n",
      "    3.9270\n"
     ]
    },
    {
     "name": "stdout",
     "output_type": "stream",
     "text": [
      "psi =\n",
      "   -1.5708\n"
     ]
    }
   ],
   "source": [
    "beta = p_s1*pi/180\n",
    "psi = pGHs1*pi/180  % radians"
   ]
  },
  {
   "cell_type": "code",
   "execution_count": 12,
   "metadata": {},
   "outputs": [
    {
     "name": "stdout",
     "output_type": "stream",
     "text": [
      "a1 =\n",
      "    2.6667\n"
     ]
    },
    {
     "name": "stdout",
     "output_type": "stream",
     "text": [
      "b1 =\n",
      "    0.1667\n"
     ]
    }
   ],
   "source": [
    "a1 = (sin(beta) + a0*mGHs1*sin(beta - psi))/(m_s1*mGHs1*sin(psi))  \n",
    "b1 = (sin(beta + psi) + a0*mGHs1*sin(beta))/(-(m_s1)*sin(psi))  "
   ]
  },
  {
   "cell_type": "code",
   "execution_count": 13,
   "metadata": {},
   "outputs": [
    {
     "name": "stdout",
     "output_type": "stream",
     "text": [
      "numD =\n",
      "    2.6667    2.6667\n"
     ]
    },
    {
     "name": "stdout",
     "output_type": "stream",
     "text": [
      "denD =\n",
      "    0.1667    1.0000\n"
     ]
    }
   ],
   "source": [
    "numD = [a1, a0], denD = [b1, 1]  "
   ]
  },
  {
   "cell_type": "code",
   "execution_count": 14,
   "metadata": {},
   "outputs": [
    {
     "name": "stdout",
     "output_type": "stream",
     "text": [
      "Kc =\n",
      "   16.0000\n"
     ]
    },
    {
     "name": "stdout",
     "output_type": "stream",
     "text": [
      "z0 =\n",
      "     1\n"
     ]
    },
    {
     "name": "stdout",
     "output_type": "stream",
     "text": [
      "p0 =\n",
      "    6.0000\n"
     ]
    }
   ],
   "source": [
    "Kc = a1/b1, z0 = a0/a1, p0 = 1/b1  "
   ]
  },
  {
   "cell_type": "code",
   "execution_count": 15,
   "metadata": {},
   "outputs": [
    {
     "name": "stdout",
     "output_type": "stream",
     "text": [
      "\n",
      "D =\n"
     ]
    },
    {
     "name": "stdout",
     "output_type": "stream",
     "text": [
      " \n"
     ]
    },
    {
     "name": "stdout",
     "output_type": "stream",
     "text": [
      "  16 s + 16\n"
     ]
    },
    {
     "name": "stdout",
     "output_type": "stream",
     "text": [
      "  ---------\n"
     ]
    },
    {
     "name": "stdout",
     "output_type": "stream",
     "text": [
      "    s + 6\n"
     ]
    },
    {
     "name": "stdout",
     "output_type": "stream",
     "text": [
      " \n"
     ]
    },
    {
     "name": "stdout",
     "output_type": "stream",
     "text": [
      "Continuous-time transfer function.\n",
      "\n"
     ]
    }
   ],
   "source": [
    "D = tf(Kc*[1, z0],[1, p0])  "
   ]
  },
  {
   "cell_type": "code",
   "execution_count": 16,
   "metadata": {},
   "outputs": [
    {
     "name": "stdout",
     "output_type": "stream",
     "text": [
      "\n",
      "Go =\n"
     ]
    },
    {
     "name": "stdout",
     "output_type": "stream",
     "text": [
      " \n"
     ]
    },
    {
     "name": "stdout",
     "output_type": "stream",
     "text": [
      "   16 s + 16\n"
     ]
    },
    {
     "name": "stdout",
     "output_type": "stream",
     "text": [
      "  -----------\n"
     ]
    },
    {
     "name": "stdout",
     "output_type": "stream",
     "text": [
      "  s^3 + 6 s^2\n"
     ]
    },
    {
     "name": "stdout",
     "output_type": "stream",
     "text": [
      " \n"
     ]
    },
    {
     "name": "stdout",
     "output_type": "stream",
     "text": [
      "Continuous-time transfer function.\n",
      "\n"
     ]
    }
   ],
   "source": [
    "Go = series(D,GH)  "
   ]
  },
  {
   "cell_type": "code",
   "execution_count": 17,
   "metadata": {},
   "outputs": [
    {
     "data": {
      "image/svg+xml": [
       "<?xml version=\"1.0\"?>\n",
       "<!DOCTYPE svg PUBLIC '-//W3C//DTD SVG 1.0//EN'\n",
       "          'http://www.w3.org/TR/2001/REC-SVG-20010904/DTD/svg10.dtd'>\n",
       "<svg xmlns:xlink=\"http://www.w3.org/1999/xlink\" style=\"fill-opacity:1; color-rendering:auto; color-interpolation:auto; text-rendering:auto; stroke:black; stroke-linecap:square; stroke-miterlimit:10; shape-rendering:auto; stroke-opacity:1; fill:black; stroke-dasharray:none; font-weight:normal; stroke-width:1; font-family:'Dialog'; font-style:normal; stroke-linejoin:miter; font-size:12px; stroke-dashoffset:0; image-rendering:auto;\" width=\"560\" height=\"420\" xmlns=\"http://www.w3.org/2000/svg\"\n",
       "><!--Generated by the Batik Graphics2D SVG Generator--><defs id=\"genericDefs\"\n",
       "  /><g\n",
       "  ><defs id=\"defs1\"\n",
       "    ><clipPath clipPathUnits=\"userSpaceOnUse\" id=\"clipPath1\"\n",
       "      ><path d=\"M0 0 L560 0 L560 420 L0 420 L0 0 Z\"\n",
       "      /></clipPath\n",
       "    ></defs\n",
       "    ><g style=\"fill:white; stroke:white;\"\n",
       "    ><rect x=\"0\" y=\"0\" width=\"560\" style=\"clip-path:url(#clipPath1); stroke:none;\" height=\"420\"\n",
       "    /></g\n",
       "    ><g\n",
       "    ><image x=\"0\" y=\"0\" width=\"560\" xlink:href=\"data:image/png;base64,iVBORw0KGgoAAAANSUhEUgAAAjAAAAGkCAIAAACgjIjwAAAnRUlEQVR42u3dDVRU\n",
       "Zf7AcWpzUyTNBU0rN0pSMfG/Gqu0ZmKbue2a2+5WlpqRaJuigFKOsCKTiOlqkhyj\n",
       "NhRQ0xrKQkWqLUFdCiVeZOX47pIvIYK8ifI++P/J1WkaiFBm4DLz/RwO5zLOTLf7\n",
       "MPfLM/dysbsMAIAK2LEJAAAECQAAggQAIEgAABAkAABBAgCAIAEACBIAAAQJAECQ\n",
       "AAAgSAAAggQAAEECABAkAAAIEgCAIAEAQJAAAAQJAACCBAAgSAAAECQAAEECAIAg\n",
       "AQAIEgAABAkAQJAAACBIAACCBAAAQQIAECQAAAgSAIAgAQBAkABV2rp1q50RJyen\n",
       "0NDQlj+8qqpq/vz5cXFxjZ8zICCAzQsQJOD6gjRy5Mhly5ZpNBpHR0f58ttvv23h\n",
       "wy9cuCD3nzJlCkECCBJghiAZ4uHt7S1f7tixIyoqysXFpUuXLg899NC+ffuUf218\n",
       "Y//+/eX+t91228SJE5sPUpNPuHbtWrmxc+fOcmNmZqZ8OWDAgP3798s/zZw5c+DA\n",
       "gbJw5syZMWPGyH3kvzJ58uSKigpGDQQJsNogjR49euXKlUFBQU5OTj179ty2bZvc\n",
       "OHbs2Pfee+/Xv/613FJaWpqUlNT4xvXr18uNo0aN2rlzZzNBavKxe/bskRsfffTR\n",
       "NWvW3H777f369XvjjTfkltTUVHnIk08+edNNN8nCggUL5MaYmJglS5Z07dp148aN\n",
       "jBoIEmC1Qbr11lslEp06dZLlZ599du7cubJw/PhxuYPUQpY///zzJm9s4Vt2TT52\n",
       "3rx5snDkyBG5MSMjY/v27WFhYY2DFBERITf26tVLpkebNm2qq6tj1ECQAKsNkhIP\n",
       "qcuwYcPky+eff14+nz59Wm5ct26dLMvdfHx8Gt/YwiA1+dhXXnlFFs6cOSM3ZmZm\n",
       "fvrpp0qQlMmWh4eHEiTxxRdfzJ49W6ZW8q8yT2LUQJAAKw+SWLRokXwZGBgon2fM\n",
       "mJGSkjJ06FB7e/uzZ8/GxcU1vvHixYtyo5ub265du0ye8ze/+c2sa5TSmDz2ww8/\n",
       "VG6U2dJdd901ZsyYqKgoZYq2du3aX/7yl0qQXnjhhW7duuXk5Hz22Wfyr76+vowa\n",
       "CBJghZTDRa+++qry5YYNG+TLVatWyS3KO3hOTk4ff/yx8q9N3jhu3Di5ZcSIESbP\n",
       "aSw2NrbJx86bN++WW26R8Dz00EPp6ekFBQX9+vWT+zg6OspcTQmSpOj+++9XnkcW\n",
       "jh49yqiBIAG2pbq6+syZM/X19T97Y2Vlpdx+Y09YVVV1/vx5w5d6vf7kyZMmB4rk\n",
       "IXkNTB4LECQAAAgSAIAgAQBAkAAABAkAAIIEACBIapeWlrZ582bDl8uWLdM2iI6O\n",
       "ZsgBgCC1hZKSkqioKB8fn9jYWOWW0tLSxYsXVzWoqalhyAGAILWFysrK7OzsuLg4\n",
       "Q5BycnJWr16dkpKSmZnJ1ScBgCC1qbS0NEOQkpKSwsLC5HNkZGR4eLjJPV8GOr4H\n",
       "H9wuH2wH/CyC1M5BMtDr9X5+fmVlZSZBUu3/hcq/e1g99ayeVnvlg03H6nXoTWcT\n",
       "QdLpdDI9koXCwkJfX1+TC4vx3cPqESRGliARpDYKUn5+fnBwcGhoqEajkdv57mH1\n",
       "CBKbjiARJEYIsAjzBgns7ggSIwQQJBAkRgggSDCHlStXsrsjSAQJBAkgSIwQQJDA\n",
       "7o4gESSAIIEgMUIAQcKPcAyJIBEkECQ2AwgSIwQQJLC7I0gECRAxMZe9vNgMIEiM\n",
       "EECQcA3HkAgSQQJBYjOAIDFCAEECuzuCRJAAggSCxAgBKkKQVIJjSASJIIEgsQ1A\n",
       "kBghgCCB3R1BIkgAQQJBYoQAggRTHEMiSAQJBIltAILECAEq4OnJNgBBYoQAggR2\n",
       "dwSJIAEESVU4hkSQCBIIEtsABIkRAggS2N0RJIIEECQQJEYIIEgwxTEkgkSQQJDY\n",
       "BiBIjBBAkMDujiARJIAggSAxQoCKODuzDVSBY0gEiSCBILENQJAYIYAggd0dQSJI\n",
       "AEECQWKEAIIEUxxDIkgECQSJbQCCxAgBBAns7ggSQQIIEggSIwSo6ZVsxzZQBY4h\n",
       "ESSCBILENgBBYoQAggR2dwSJIAEECQSJEQIIEkxxDIkgESQQJLYBCBIjBBAksLsj\n",
       "SAQJUPB7SCBIjBBAkPADjiERJFNpaWmbN29Wluvr6zdt2qTRaLRa7aFDhwgSCBL4\n",
       "+ZsgtYWSkpKoqCgfH5/Y2FjllszMzJCQkMrKyoyMjMDAQIIEggSCRJDagoQnOzs7\n",
       "Li7OECSdTpeYmKgsBwQEFBUVmYyQAd+vIEiwyg51lL2c1b5lZwhSdHR0SkqKsqzV\n",
       "ak+dOsUMCQQJFsIxJILUXJA2btyYlJSkLAcFBeXl5REkWB9Pz8vJyWwGECR1B0lq\n",
       "FBERIQuSIl9f35qaGoIEggSCRJDaIUjV1dUrVqzQaDT+/v6G9+4IEggSCBJBYoQA\n",
       "gmS1OIZEkAgSbJ2X1+WYGDYDCBIjBBAksLsjSAQJIEggSIwQQJDwIxxDIkgECbZO\n",
       "q73yARAkRgggSGB3R5AIEkCQQJAYIYAgwRjHkAgSQYKti4m5cl4DQJAYIYAggd0d\n",
       "QSJIAEECQWKEAPXw9GQbtD+OIREkggQQJBAkRgggSGB3R5AIEmDAXzEHQWKEAIKE\n",
       "qziGRJAIEkCQQJAYIYAggd0dQSJIwA8vZju2AQgSIwQQJDTgGBJBIkgAb9mBIDFC\n",
       "AEECuzuCRJAAA34xFgSJEQIIEq7iGBJBIkjAlSAlJ7MZQJAYIaC9eXld+SMUAEFi\n",
       "hIB2xl8xB0FihACChKs4hkSQCBLAH40FQWKEAHVITuZEOxAkRgggSGB3R5AIEqDI\n",
       "zeViDe2PY0gEiSABBAkEiREC1PN65oLfIEiMEECQwO6OIBEk4Cresmt3HEMiSAQJ\n",
       "uIKz7ECQGCFALUHi+qogSJZVXl6emJgYGRn57rvv7tmzp6ioiCABjXH1IBAkC/ru\n",
       "u++8vb0dHBycnZ3HjBkzbty4AQMG2NvbT5o06fjx4wQJIEiqwjEkqw1SYWGhq6ur\n",
       "DHBpaanx7VVVVdHR0UOHDs3OziZIgAEXawBBshS9Xl9XV9fMHZr/V4IEW8PvxoIg\n",
       "MUIAQQK7O2sMUnFx8X8aaf1kiCDBFkiQJEtoLxxDsrYgHTt2zLXBNCOVlZUECfhZ\n",
       "nPkNgmRmX3/9tY+PDyMEECQQpHZWVVV14sSJyw1v37X+2ZYtW6ZtEB0dTZBg3Tjz\n",
       "GwTJUoYOHdrKZygtLV28eHFVg5qaGoIEggTL4RgSQWpOTk7O6tWrU1JSMjMzG58Z\n",
       "8bIRXkuwDvwqEjroXk7tQXrzzTdb+QxJSUlhYWHyOTIyMjw8nBkSrB5nfoMZkmUp\n",
       "k5tz587t3r37xs640+v1fn5+ZWVlBAlWP0PivAYQJEvZunVrt27dioqK+vTp0717\n",
       "99GjR7f8sTqdTqZHlxsuROTr61tdXU2QYN04jNSOOIZk/UEaPnz4+++/v2XLlmHD\n",
       "htXW1t57772nTp1q4WPz8/ODg4NDQ0M1Gk1aWlqHGyHgenFFOxAkC3JxcZEC+fj4\n",
       "hISEyJdubm6HDx+2kRECrhcXEAJBsqApU6Z4eHh07do1KytryZIlvXv3bnwCN0EC\n",
       "DLiAEAiSpZSWli5fvjwhIUGWg4OD9+/fbzsjBNwAzmtoLxxDsuYgubq69mqKycly\n",
       "BAkwxnkNIEjmd+LEiSNHjvj7+48aNSolJSUnJ+fVV18dOnSoXq8nSMBP4bwGECRL\n",
       "eeCBByRFhi/79+/f8rPsCBJsE+c1gCBZhIeHx/bt25XloqKiHj16FBYWEiSgGbxr\n",
       "1y44hmT9QdqwYYODg8OLL744Z86ce+65Z9KkSbYzQsCN4eRvECRL+eabbwIDA+fO\n",
       "navT6cx1AIkgwbpxrh0IEiMEqAKnNoAgmV9xcXF4ePj8+fNfu8Zcf9GcIMGK5eZe\n",
       "9vJiktSmOIZk/UF6+umnhwwZotFogq4hSEBLxMRcaRJAkMxmwIABBw4csM0RAlo5\n",
       "SeLUBhAkc5o+fXpUVBRBAm4ApzaAIJmTn5+fnZ3d4MGDR15TXl5OkICW4NSGtsQx\n",
       "JOsPUmpqakKDrVu3Kgu1tbUECWj5JAkgSOYh86GpU6c6ODjccsstHh4eXO0buC7K\n",
       "kSTeuCNIBMkMZs+e7enpmZ6efuLEiaCgoHvuuae+vp4gAS0XE8PZDQSJIJnDAw88\n",
       "cOjQIcOXAwYMkDIRJOC6eHlxCrjFcQzJ+oP0yCOPfPTRR8ry+fPne/ToUVJSQpCA\n",
       "66K8cSdTJTBDIkg3Lj4+vnPnzpMnT541a1bfvn2nTZtmOyMEmJenJ1cBJ0gEqXUy\n",
       "MjIWLlw4b948nU5nrgNIBAm2OU/y8qJJBIkg3aiqqqrXX389Nzc3Pz9/1apVFy9e\n",
       "JEhAa5okQXJ2vrIA8+IYkvUHafbs2W5ubnl5eaWlpePHj3/00UcJEtBKyckcUmKG\n",
       "RJCu38CBA7OyspRlvV5/1113FRQUECSg9VMlDikRJIJ0fUaOHBkfH68sX7hwwcnJ\n",
       "iSAB5mqSBIlLORAkgtRScXFxDg4OU6dO9ff3d3Fx+ctf/mI7IwS0AaVJ8pmjSq3E\n",
       "MSTrD5JIT09fuHChn5/f+vXrzXUhO4IENJ4q8cuzzJAI0s/YvHnzn//853Xr1kVE\n",
       "RJSVlREkwEJiYq5kydn5Spk45YEgESRTb7755oABA8aPHx8SEhIQEODu7k6QgDYo\n",
       "kzRJyiQfMnni2qwEiSBdMWzYsIyMjJUrV0qQ5Mt+/fp9//33BAloA7m5P7ybJ2VS\n",
       "DjURp5/CMSTrD9LIkSOTk5OVIJWXlzs5ORUVFREkoO3jJClS4mRnd3XypFyzVaZT\n",
       "8kGomCFZf5C2bdvWs2dPd3d3Dw8PNze3F154wXZGCFD55ElJkZIl41Ap50cYQsX5\n",
       "ewTJSoIkMjMzg4ODZ8yY8frrr1dUVBAkQOWhkggZh0qplCFU/DYuQeqoQdq6dWu3\n",
       "bt2Kior69OnTvXv30aNHEySgQ4dKgqSESmmV8bxKKZbx7KoDTbA4hmT9QRo+fPj7\n",
       "77+/ZcuWYcOG1dbW3nvvvadOnSJIgFXmSimW8eyqcbSUf5KqKfcEQWo7Li4uUiAf\n",
       "Hx/lLDs3N7fDhw8TJMCW51iGaZbhLUGlWI0nWCBI5jRlyhQPD4+uXbtmZWUtWbKk\n",
       "d+/eNTU1BAlA42I1nmA1Ps/CNk+yIEitpdfr5XNpaeny5csTEhJkOTg4eP/+/cb/\n",
       "SpAAtJASKuOTLAxzKbPgGJLVBqmwsHDw4MFr1qy5dOmS8e3V1dWxsbFDhw41/E0K\n",
       "ggTgBqZTymnrylzKZBbFDIkgmTpz5syMGTNuu+02V1fXJ5544k9/+tMDDzzg4OAw\n",
       "YcKEzMxMWxghAG2ZKMPZ6sobfYa3+AgSQbqquLh4z54977777ptvvqnT6fLz821n\n",
       "hAC0Y5+M3+KThQ5dJoLECAGwEsbXQf+pMnEMiSARJADtUKaOdb0JgsQIAbBOykXQ\n",
       "O1CWCJLZ1NXVyedz587t3r27srKSIAFQCSVL6v/FJoJkHq25ll19ff2mTZs0Go1W\n",
       "qz106FCHGKHk4yVNLgO2vuv//H/OS772+uCg2l4XyclXmnT52jEkdb5sCZJ5tOZa\n",
       "dpmZmSEhITKpysjICAwM7BAj5Pl2pvINLZ/l5cduCJDXgrwuJEiyHJOWJ8tqW0N5\n",
       "qSpNUu3LliCZR2uuZafT6RITE5XlgIAAk7/sp84Ryi2qVF578m3NDAkQMiuSDhm+\n",
       "lGW5RW0vW3nBek6oVO3LliCZR2uuZRcdHZ2SknJ1vq/VGk+tXv6xJoetvZY9fd64\n",
       "8ot5fPDBh8nHtb3/bf7bVPWalWXJpN3C/5PPqtqfNLmXI0g37qeuZdcSGzduTEpK\n",
       "UpaDgoLy8vLU/yODMuVX3pdghgR0iBmS8rJ1W/GYal+2BKm1xowZs2PHjmnTprn9\n",
       "2IULF1r4DFKjiIgIWZAU+fr6mkyt1DlChim/8t4dOyNAeV1oP/+fvCiUd7NlQW2r\n",
       "Z6e1U/PLliC1VmpqakFBQXZ29p4fq62tbeEzVFdXr1ixQqPR+Pv7G967U/8MybCs\n",
       "tlcd0F4MKVJObVDXazY3WamRml+2BMk89u3bZ/xlZGTkxYsXbWSEAKicNlnr/Jaz\n",
       "NEnl60mQzOOJJ56YPHlyeXl5YWHhhAkTevfubfIHKQgSgLaesZXkKimSz4YbuZad\n",
       "9QeppKRk4sSJ999/f58+fZ577rnz58/bzggBUOeUyCRF6keQzKO+vv6tt9669dZb\n",
       "u3btGhkZKV8SJABt3yHPWE+lQzI96nDrT5DMw8vL67777ktLS8vKynJ1df39739f\n",
       "XV1NkABYlPKmnHzYae2UDqn/QBFBsrg1a9aUlZUpyxUVFRMnTjS54AJBAmCWAkly\n",
       "lJmQIULX9b4cx5CsP0iK8vLyqKioESNG2NnZlZaWEiQArcyPfMRkxRgXSBY6+kyI\n",
       "IFlWamqqt7e3g4ODo6PjokWLjh49ajsjBMCMlBmPIT/y4RXvZa0FIkhm9vbbbw8e\n",
       "PLhHjx6yKYOCgsaPH29rIwTguiY9khZl0qOEx7g9yuzHRvJDkMyvZ8+egwYN+vbb\n",
       "by83/FWkJ598kiABttwbQ3IM1ZEpjnLym+E9N2XSo4SnjdvDMSRrDlJOTo6/v7+j\n",
       "o+OQIUOefvppggRY/fzGeIqjxMa4N4bkGKojd2bTEaS2U11drdPpxo4d26lTpz/+\n",
       "8Y+yrNfrCRLQQZOj9MYkNob5jfEUR+6pJKoj/t4PQbLOIP3w3Zybu2jRor59+3KW\n",
       "HaDm6hjOnzaExzg5Sm/YUASpYwdJYa7pEUECzBienzqDQJnl2Mg24RiSzQXJpkYI\n",
       "UFWBTH5v1OTUNds8e43dnW0FacuWLSdPniRIQHt1yHAZNyv+vVGCRJBaZMGCBQ4O\n",
       "Do8//viHH35YVVVFkIA2YHIFHSJEkAjSVRcvXty8efOECRP69OkzZ86crKwsggRY\n",
       "rkNE6MZwDMkmgiTy8/NXr17t6up633339e3bd9y4ca3/u7EECTBOkcyHOP+NGRJB\n",
       "as7WrVv/8Ic/dOnS5Zlnnvnyyy/r6+tra2tHjRoVHx9PkIDWi8mKIUUEiSC1yPTp\n",
       "05cvX37u3DnjG5OTk7///nuCBLSScro224EgEaQWmTx58n/+8x/bHCHAcnJLcpWz\n",
       "5tgU5sIxJOsP0sKFCydNmlRXV0eQAHNJzk12fsuZ0xaYIRGk6w5S586d77zzTk9P\n",
       "z8calJeXEyTghsmsSGrEdiBIBOm67dq166Mfq6mpIUjADVDepvOK92JTECSCdCNq\n",
       "a2tTUlISGyQkJIwcOfL06dMECbiR17zWjr/XYDkcQ7L+IM2cObNXr1729vaDBg1y\n",
       "dHR0d3evqKggSMD14qARMySC1FouLi4HDx5cvHhxdHT02bNn+/fvb64THAgSbAcn\n",
       "1BEkgmQGbm5ue/fu3b59u7+/v3w5bNiwo0ePEiSg5WKyYvhlI4JEkMxg6dKl3bt3\n",
       "z87OdnJy8vb2tre3Ly4uJkhAC+WW5Npp7Xizrg1wDMn6g3S54boMZWVlX331la+v\n",
       "b2Jiou2MENB6nOENgmQ2Mh8KDw+fP3/+a9dUVlYSJKBFP8zlJvNmHQiS2Tz99NND\n",
       "hgzRaDRB1xAkoIW84r04zxsEyWwGDBhw4MAB2xwhoLUvcq0dG6HNcAzJ+oM0ffr0\n",
       "qKgoggRcL5kbcVEGECRz8vPzs7OzGzx48MhruJYd0BLObznnluSyHUCQzCY1NTXh\n",
       "x2prawkSwPQIBIkRAjoAz1hPfveojXEMyZqDNGbMmB07dkybNs3txy5cuECQgGbk\n",
       "luTy60cgSOaUmppaUFCQnZ2958d4yw5oHmd7gyBZxLx5835v5LHHHgsJCTHL5ewI\n",
       "EqwVZ3uDIFnEokWLXFxc3nnnnXXr1j388MNjx45VbiFIQJM4naG9cAzJ+oP04IMP\n",
       "ZmVlKctVVVVOTk4VFRVeXl6pqakECWhMm6zlL02AIFmEzIo+++wzZbm4uLhbt26X\n",
       "Ll2aPHlyfHw8QQIa4wASCJKlfPjhhxIhb2/vOXPm3HPPPTI3iouLu+OOO0pLSwkS\n",
       "0Bi/DwuCZEFpaWmBgYF+fn4ffPCBXq8/fPjw6dOnbWGEgBt5YXNGQzvhGJL1B6m2\n",
       "tjYlJSWxQUJCwsiRI81SI4IEq8QZDSBIFjRz5sxevXrZ29sPGjTI0dHR3d29oqKi\n",
       "5Q9ftmyZtkF0dDRBgtXjABIIkgW5uLgcPHhw8eLFUpSzZ8/279+/rq6uhY8tLS2V\n",
       "B1Y1qKmpIUiwehxAAkGyIDc3t717927fvt3f31++HDZsWMt/KzYnJ2f16tUpKSmZ\n",
       "mZmNM0aQYH04gNSOOIZk/UFaunRp9+7ds7OznZycvL297e3ti4uLm7l/dXX1xQYy\n",
       "JUpKSgoLC5PPkZGR4eHhjUfIgNcSrAMHkNBB93Id5iep5OTksrKyr776ytfXNzEx\n",
       "sfk7S35WNEhPTzfcqNfr/fz85EmYIcGKcUYDmCFZlgRm9OjRQ420/GrfOp1OHi4L\n",
       "hYWFEjOZPBEkWPf0iDMaQJAsyN3dff78+Tt37ky6puVX+87Pzw8ODg4NDdVoNGlp\n",
       "aR1uhACC1IFwDMn6gyRTIsO17GxthIDrwil2IEiWFRsb+/DDD+t0usRr+HtIAEEC\n",
       "QWqf7dijR48RI0Y8dE15eTlBApp4SXPONwiSRbm6uv73v/+1zRECWo4/W97uOIZk\n",
       "/UGaNm3ahg0bCBLQPM75BkGyuNmzZ9vZ2bm7u4+8hrfsAIIEgtQOUlNTE36MkxqA\n",
       "xjjnGwTJgoqLi883pb6+niABBEltOIZkzUHq2bOnXVNKSkoIEmCCMxpAkCyooKAg\n",
       "rynMkACCBILECAFqfT3zS0ggSIwQQJBwmWNIBIkgAZf5rVgQJEYIIEhgd0eQCBLw\n",
       "g+TcZM9YT7YDCBIjBLQzLtOgBhxDIkgECSBIIEiMEKAO2mStfLAdQJAYIaCdcd0g\n",
       "ECRGCCBIuIpjSASJIAEECQSJEQLUgXO+QZAYIUAV+K1YECRGCCBIuIpjSASJIAEE\n",
       "CQSJEQJU8mLmUt8gSIwQQJDA7o4gESSAIKkIx5AIEkECOIYEgsQIAQQJ7O4IEkEC\n",
       "DPjFWBAkRgggSLiKY0gEiSABBAkEiREC1IG/zgeCxAgB7Y8/FwuCxAgBBAk/4BgS\n",
       "QSJIIEgECQSJEQJUQJuslQ+2AwgSIwQQJLC7I0gECSBIqsExJIJEkECQCBIIEiME\n",
       "qIBXvFdMVgzbAQSJEQIIEtjdESSCBBAk1eAYEkEiSCBIBAkEiRECVMAz1jM5N5nt\n",
       "AILECAEECezuCFJT0tLSNm/eLAv19fWbNm3SaDRarfbQoUMECQQJFsUxJIL0g5KS\n",
       "kqioKB8fn9jYWPkyMzMzJCSksrIyIyMjMDCQIIEggRkSQWoj0p7s7Oy4uDglSDqd\n",
       "LjExUfmngICAoqIiggSr5PyWMxsBBKn9VVdXX2xQU1Oj3JKWlqYEKTo6OiUlRblR\n",
       "q9WeOnWq8QgZ8P0KggSr7FBH2ctZQ5CSkpJWNEhPTzcJ0saNG+VflRuDgoLy8vKY\n",
       "IYEgwXI4hmTrQWrMECSpUUREhCxIinx9fQ1TKIIEggQbnCoRpPYMUnV1tcycNBqN\n",
       "v7+/4b07ggSCBIJEkBghgCCB3R1BIkggSLAwjiERJIIEW2entWMjgCAxQgBBArs7\n",
       "gkSQAIIEgsQIAQQJJjiGRJAIEggSQQJBYoQAggR2dwSJIAEKTvsGQWKEAIKEH3AM\n",
       "iSARJBAkggSCxAgBBAns7ggSQQIIEggSIwQQJJjiGBJBIkggSAQJBIkRAlTAM9aT\n",
       "jQCCxAgBBAns7ggSQQIIkppwDIkgESQQJIIEgsQIAQQJ7O4IEkECCBIIEiMEECSY\n",
       "4hgSQSJIIEgECQSJEQIIEtjdESSCBBAkECRGCFARr3gvNoIacAyJIBEkECSCBILE\n",
       "CAEECezuCBJBAggSCBIjBBAkmOIYEkEiSCBIBAkEiRECCBLY3REkggSImKwYggSC\n",
       "xAgBBAk/4BgSQSJIIEgECQSJEQIIEtjdESSCBBAkECRGCFALbbJWPtgOasAxJIJE\n",
       "kECQCBIIEiMEECSwuyNIBAkgSCBIjBBAkGCKY0gEiSCBIBEkECRGCCBIYHdHkAgS\n",
       "QJBAkBghgCDBFMeQCJJ1jpDKv3tYPfWsnnmDxMiySyFI5pSWlrZ582ZledmyZdoG\n",
       "0dHRfPewegSJTUeQCFIbKSkpiYqK8vHxiY2NlS9LS0sXL15c1aCmpobvHlaPILHp\n",
       "CBJBaiOVlZXZ2dlxcXFKkHJyclavXp2SkpKZmVlXV9fkCAEd3YMBD8oH2wE/iyBZ\n",
       "XHV19cUGhjlQWlqaEqSkpKSwsDD5HBkZGR4efhkAQJAsR3qzokF6erpJkAz0er2f\n",
       "n19ZWRlDDgAEqe0YgqTT6SRXslBYWOjr6ytzKYYcAAhSOwQpPz8/ODg4NDRUo9HI\n",
       "jYw3ABAkAAAIEgCAIAEAQJB+xhdffKE1UlRUpLY13LNnT0hISFhYWHZ2tgo3YPNX\n",
       "wWh3NTU1oaGhx44dU+GKrV27dv78+bJ6J06cUOHqrV+/XqPRyOodPXpUnS9e46ux\n",
       "qEF9ff2mTZtko8nL4dChQ2w0gnTdKisrSxrIOL3xxht6vV5Vq3fy5En5/i4uLpad\n",
       "wqJFi9S29X72KhjtTnYQvr6+R44cUduK7d69OyIioq6ubseOHSq8FueuXbtkrWpr\n",
       "a/fu3btw4UK1rZ7J1VhUIjMzU352lF1KRkZGYGAgG40g3aCKiorg4ODz58+rbcXi\n",
       "4+NlhyU1Onz4cGFhodpW72evgtG+9u/f/69//evdd99VYZBkiykTI/lJaNWqVWpb\n",
       "vX//+9/KjFx+5pgzZ44Kf440vhqLSuh0usTERGU5ICBAbW+3qHOjEaQmLusgc9iE\n",
       "hAQVrt7atWsXLFgg3+iyV12+fLkaJnDGq6e2q2AYr5vsSZcsWXLp0iX1BKnxN570\n",
       "ctasWfv27VPn6l24cEF+4JBdmDpXr/Evv7ev6Oho+eFMWdZqtadOnVLh3k9tG40g\n",
       "mV7Woby83NfXV/ZcKlw9+Rb/6KOPlNsXLlyohm/xxhfFuKyaq2AYr5vs69evX//1\n",
       "118vXbr0k08+kVFW1aaT+a7yO9rnzp2TTVdVVaW2kZV9a3Bw8J49e9T5slXhvnXj\n",
       "xo3K7+CLoKCgvLw8gkSQrpu88NasWaPOdUtOTpYf8GVBehkQEKC2NxXVfBWMrKys\n",
       "XQ1CQ0PlZ3z5YV9Vmy4qKmr79u2yIBWfM2eOen4eUqSmpq5cuVJta6Xyfau8FiIi\n",
       "ImRBUiQvB3UeVSVIaid71fj4eHWuW21t7dtvvx0SEqLRaD7//HO1rV6HuAqGTJVU\n",
       "eJ6Y7LMWNnjttdd27typttULDw+fO3duUIOwsDCC1BLyA5lM4OS14O/vb3jvjo1G\n",
       "kKxNVVWV2k7/M3bx4sX6+nqG6cY2nZpHFjdAppUqPMGnAyFIAACCBAAAQQIAECQA\n",
       "qpCVlVVSUsJ2AEEC0G4uXLiQkJBw991379+/n60BggSg3Rw5cmTBggUDBw4kSCBI\n",
       "gC1S23Wgn3nmGSVIVVVVKrzuOAgS0OGlp6fbXdOpU6fHH3+8hb+ruHXr1lGjRjW+\n",
       "/csvv5Sneuedd673gcYyMzN/9j5msW/fPpn6NPlPixcvHtpAuV6RIUg1NTX9+/c/\n",
       "ffo03zwgSIA5ffvtt507d65voFyy2sPDozVBeu6554YPH+7u7v5TDzx//nxGRkbz\n",
       "Tz5u3Li2uSyIBEnqcl0zpMsNf93qlVde4ZsHBAkwf5AMX+7cubNXr17K8ooVK+66\n",
       "667evXv/4x//qK6ufvHFF2+77TZ7e/tnn322rq6uySAVFRXJHY4fP+7g4KDsvrVa\n",
       "7YQJE/R6vdzo6up64MCBr776auLEiSdOnBgxYoT8p+++++5NmzYZP8nRo0flPyqB\n",
       "bHwf41UyzGPuvPNO+c9JCCsqKpRa9O3b9/bbb5f/SnFxsaznpEmTRo8efeutt8oK\n",
       "yy3yzPLwO+64Q+7z17/+VQlSM+tjCJLhbz9KU+V/Uw1XegVBAqwqSDfffPO/Gqxc\n",
       "uXLgwIHz58+X23fs2OHi4vLdd9+dOnVq0KBBfn5+995777lz5woKCmQ/LrFpMkir\n",
       "V69+/PHHZWHq1KmzZ8++3HCKmjzPP//5T5l4KX87UXnga6+99tRTT0nYPv30Uzc3\n",
       "N+Mn2bJli/LMJvcxWSXl4ooSJ4lcXl6e3EHWX57c0dExKytLwjN27NiXXnpp48aN\n",
       "nTp12r17t1Rk8ODB7733XlxcXJ8+fQ4ePFhYWOjp6akEqZn1aZL8V+Q5+f4BQQLM\n",
       "GaRf/OIXLzWQSUb37t2V+cHMmTPd3d1fbfDQQw9NmTJF9vISrRkzZkjAvvnmmyaD\n",
       "NGTIEJlJyN2mTZvWo0ePyspKQ/N+97vfKdcuUx4on7t06fL8889LIUyuzr5kyZIX\n",
       "XnhBuafxfUxWSe4jt8iy8qiyBq+88sq8efOUW/bs2SO5kiCNGTNGuUXuv3Tp0pdf\n",
       "flnyo9zyxRdfKEFqZn2aJGvy/vvv8/0DggSYM0jGb9mtWrVKOYY0ffr0J554Ys01\n",
       "AQEBd9555/LlyxMTE52dnZsMUlpamoODw0vXODk5KW2TmY3cLpMSZUdveOCxY8fe\n",
       "euutRx55pGfPnjKhMTyPTKQkDMqy8X2kQMarlJCQ4OXlZfiL9adPnz5+/Lis9oIF\n",
       "Cwzr86tf/UqCNH78eOMgeXt7BwUFKbfILMdwDOmn1qdJv/3tbz/++GO+f0CQAEsF\n",
       "KSkpSXojCxs2bBg6dKjMOfR6/d/+9jeZ38ydO/dyw59jl/unpKQ0DtLf//536ZDh\n",
       "S5m7yNSkoKDgjjvu2L59u8ycnnrqKUOQpA1arfZyw3t6nTp1OnDggOGB69atkwmQ\n",
       "0g/j+0hLjFdp7dq177zzjqurq9xy6dIlKcQHH3wQGxsr63/u3Dm5jwRM/ouNgyT3\n",
       "6devn9Sxvr5eJoVKkJpZnyZJtA4ePMj3DwgSYKkgyU725ptv/v777+vq6qQut99+\n",
       "u+RkwoQJn3zySdeuXe+77z5JwogRIx599NFt27aNHj3a8MDKyspu3brt2rXLcEt2\n",
       "dvZNN9302GOPTZ06Vb6UMslOXCqiPDAjI6Nv374SD0dHx0mTJhn/dYn//e9/MruS\n",
       "FTC5T01NjfEqyZfV1dXPPvts9+7de/XqNXny5LoGL7/8snLL8OHDv/vuOwnSk08+\n",
       "qTzzrFmz3njjjdraWuUEDbmPpFEJUjPr05jErEuXLvI8fP+AIAFtRDJj+KPmslxY\n",
       "WHi54RdxzPKHZWWnf/bs2Sb/aPrYsWN1Ol2T9zFeJYVMj5Tz6wyqqqp+9rpz8iiT\n",
       "52lmfUzINCsgIIBvDxAkwPrt3btXeddOhWRaNnDgwJac+AAQJMAaHDt2TJ0rVltb\n",
       "e/LkSQYIBAkAAIIEACBIAAAQJAAAQQIAgCABAAgSAAAECQBAkAAAIEgAAIIEAABB\n",
       "AgAQJAAArtv/A+yNaGRJeU2gAAAAAElFTkSuQmCC\" style=\"clip-path:url(#clipPath1);\" height=\"420\" preserveAspectRatio=\"none\"\n",
       "    /></g\n",
       "  ></g\n",
       "></svg\n",
       ">\n"
      ]
     },
     "metadata": {},
     "output_type": "display_data"
    }
   ],
   "source": [
    "rlocus(Go) "
   ]
  },
  {
   "cell_type": "code",
   "execution_count": 18,
   "metadata": {},
   "outputs": [
    {
     "name": "stdout",
     "output_type": "stream",
     "text": [
      "\n",
      "DG =\n"
     ]
    },
    {
     "name": "stdout",
     "output_type": "stream",
     "text": [
      " \n"
     ]
    },
    {
     "name": "stdout",
     "output_type": "stream",
     "text": [
      "   16 s + 16\n"
     ]
    },
    {
     "name": "stdout",
     "output_type": "stream",
     "text": [
      "  -----------\n"
     ]
    },
    {
     "name": "stdout",
     "output_type": "stream",
     "text": [
      "  s^3 + 6 s^2\n"
     ]
    },
    {
     "name": "stdout",
     "output_type": "stream",
     "text": [
      " \n"
     ]
    },
    {
     "name": "stdout",
     "output_type": "stream",
     "text": [
      "Continuous-time transfer function.\n",
      "\n"
     ]
    },
    {
     "name": "stdout",
     "output_type": "stream",
     "text": [
      "\n",
      "Gc =\n"
     ]
    },
    {
     "name": "stdout",
     "output_type": "stream",
     "text": [
      " \n"
     ]
    },
    {
     "name": "stdout",
     "output_type": "stream",
     "text": [
      "         16 s + 16\n"
     ]
    },
    {
     "name": "stdout",
     "output_type": "stream",
     "text": [
      "  -----------------------\n"
     ]
    },
    {
     "name": "stdout",
     "output_type": "stream",
     "text": [
      "  s^3 + 6 s^2 + 16 s + 16\n"
     ]
    },
    {
     "name": "stdout",
     "output_type": "stream",
     "text": [
      " \n"
     ]
    },
    {
     "name": "stdout",
     "output_type": "stream",
     "text": [
      "Continuous-time transfer function.\n",
      "\n"
     ]
    }
   ],
   "source": [
    "DG=series(D,G)  \n",
    "Gc=feedback(DG,H)  "
   ]
  },
  {
   "cell_type": "code",
   "execution_count": 19,
   "metadata": {},
   "outputs": [
    {
     "data": {
      "image/svg+xml": [
       "<?xml version=\"1.0\"?>\n",
       "<!DOCTYPE svg PUBLIC '-//W3C//DTD SVG 1.0//EN'\n",
       "          'http://www.w3.org/TR/2001/REC-SVG-20010904/DTD/svg10.dtd'>\n",
       "<svg xmlns:xlink=\"http://www.w3.org/1999/xlink\" style=\"fill-opacity:1; color-rendering:auto; color-interpolation:auto; text-rendering:auto; stroke:black; stroke-linecap:square; stroke-miterlimit:10; shape-rendering:auto; stroke-opacity:1; fill:black; stroke-dasharray:none; font-weight:normal; stroke-width:1; font-family:'Dialog'; font-style:normal; stroke-linejoin:miter; font-size:12px; stroke-dashoffset:0; image-rendering:auto;\" width=\"560\" height=\"420\" xmlns=\"http://www.w3.org/2000/svg\"\n",
       "><!--Generated by the Batik Graphics2D SVG Generator--><defs id=\"genericDefs\"\n",
       "  /><g\n",
       "  ><defs id=\"defs1\"\n",
       "    ><clipPath clipPathUnits=\"userSpaceOnUse\" id=\"clipPath1\"\n",
       "      ><path d=\"M0 0 L560 0 L560 420 L0 420 L0 0 Z\"\n",
       "      /></clipPath\n",
       "    ></defs\n",
       "    ><g style=\"fill:white; stroke:white;\"\n",
       "    ><rect x=\"0\" y=\"0\" width=\"560\" style=\"clip-path:url(#clipPath1); stroke:none;\" height=\"420\"\n",
       "    /></g\n",
       "    ><g\n",
       "    ><image x=\"0\" y=\"0\" width=\"560\" xlink:href=\"data:image/png;base64,iVBORw0KGgoAAAANSUhEUgAAAjAAAAGkCAIAAACgjIjwAAAia0lEQVR42u3dD1SV\n",
       "9f3AcbI8ZemKUGs1nTs1U0vPLDZzzsRtHs82LWerzPKY2cSlMBT1ClO5xwtqg2VS\n",
       "bBpK/Bk00Fla4p8TSB4QxAPKcjrhqokN5x+EMLzei9Dvc/j+uCEXzb883+fe9+t4\n",
       "Oo8XvNzuB5433+d5uPh9DQCABvx4CgAABAkAAIIEACBIAAAQJAAAQQIAgCABAAgS\n",
       "AAAECQBAkAAAIEgAAIIEAABBAgAQJAAACBIAgCABAECQAAAECQAAggQAIEgAABAk\n",
       "AABBAgCAIAEACBIAAAQJAECQAAAgSAAAggQAAEECABAkAAAIEgCAIAG+q7a2dv/+\n",
       "/WfOnOGpAAgSYIwLFy5Mmzbt1ltv9fPzu+WWW5599tlz586dP39+3rx5WVlZ13CH\n",
       "GzZs8Gule/fuNpuN5xkgSMC3SEtLk2yMHz/+gw8++O1vfyvbMTExdXV1svHyyy9f\n",
       "c5CGDRu2bNkyi8USEBAgf929ezdPNUCQgMuR/EgwZs6cefr06ZMnT/75z3/etGlT\n",
       "37595cZu3bq98MIL8j5vvfXWD37wg7vvvvu5556rqalJTEx85JFHJk+eLLc8/PDD\n",
       "//jHPzyDFB4erv46depU+avcp+f9fPHFFyNHjrzjjjvkA7300kuyMrvUPcvt8tcu\n",
       "XboMHTp0165d6hZ5z5CQkHvvvVcWYenp6Z735vkRGTcIEqCv8vJyf39/aUanTp2e\n",
       "eOKJpUuXOp3OlJQUuWX48OE5OTnr1q2T7WnTpr3xxhudO3d+8cUX5X3klsDAQKmC\n",
       "pEturKysbBOkESNGxMXFRUZGSi169OghMfC8n/nz58st7733XnR09F133SVrtXbv\n",
       "OTc3V24cNWrUu+++27t3b7m32tpa9Z6DBg1asGCBRKhXr16e9+b5ERk3CBKgtRMn\n",
       "TsTGxv7iF7+QvbbswX//+9+3PmQ3YcIE2X7ttddkzx4QECB7fxUDaZW8NSMjQ7Yl\n",
       "YG2CdPvtt0s51B0+//zz7d5PfHy83NKzZ09Z0MgS58KFC+3e86xZs2TDbrfLje+8\n",
       "845sb9myRb2nOssl4bz11ls9783zIzJrECRAX7K7//nPfy5rDtk+evSo7LUffPDB\n",
       "1kEaN26cbIeFhUW0UEf5CgoK3PlZtWpVmyCpQ3ZyP48//rj8dd++fZ7309DQsHXr\n",
       "1pkzZ8q6R94kKxuVmTb3PGPGDNk4duyY3LhmzRrZljep9ywsLJQbx44de8stt8hG\n",
       "m3tr9yMycRAkQFOym5a99m9+85t169bJTlz27L/85S+/+uoruXHgwIF5eXkrVqyQ\n",
       "7blz58rC5ac//enEiRNVDCQD+fn5QUFBsl1WVtZukMSiRYvkr9nZ2Z73M2nSpO98\n",
       "5zvSqs2bN8ubQkND271nWQapdZvcOHjw4DvvvPP48eOeQfK8N8+PyLhBkAB9ORwO\n",
       "WQmpy77FkCFD1MGx0aNHq7+6XK7Jkyd36tRJdvqDBg06cuSIioG8Sf572223RUVF\n",
       "tb7DjRs3yu1z5sxRf01NTZW/vvnmm573I/H44Q9/qD6ubJSXl1/qnuXe1NG/7t27\n",
       "SzjlltZBevrpp+U+Pe/N8yMybhAkQHeyJDp48GCbH4yVVjmdTrV97ty506dPq213\n",
       "DKqrq9XFbFeu9f2Ipqamqmaycfl7lkfyxRdfqHe7lDb31u5HBAgS4D2WLVsmy46i\n",
       "oiIT3TNAkAAAIEgAAIIEAABBAgAQJAAACJJbcXFxRkaG5+0ul8tms1VUVDByACBI\n",
       "N5d6JeYZM2YkJyd7vjU9PT00NPTgwYOMHAAI0s3lcDjUS614Bmnv3r2rVq1auXIl\n",
       "QQIAgtRBiouL2wSptrY2Ojq6vr6+3SBNAwCfQZAMDpKsjVJSUgoKCpYsWbJ+/fqz\n",
       "Z8+2CZLp/h95zDxmnmoes1c+Zm8OktPprKys3LNnT14zm82WlZVVV1fHZxWPmSDx\n",
       "mHnMBKlDg2S324ODg1svlcrLy/ms4jETJB4zj5kgMSEAYHdHkAgSAHZ3BIkJAQC7\n",
       "O4JEkACAIDEhAGB3R5AIEgAQJCYEAOzuCBJBAgCCxIQAgN0dQSJIAECQmBAAsLsj\n",
       "SAQJAAgSE8L1sm45LH+CEkrVnz7RBWrjlff3yx95E08RQJCYEG6K7fYayYzf7BzV\n",
       "HhUkz3d7r7hK/sibJEvuUMk2TyBAkJgQrsuRaofqkIrQNfxzKZkkSsVJyiTbPKsA\n",
       "QWJCuLolkSRE/tzY42/SJLVsokwAQWJC+PZljTohdFM/iioTR/MAgsSEcMkUSSdk\n",
       "edQxH07WSWQJIEhMCBeRNvjNzjHkAjn3SSaO4wEEiQn5ug44RnclCyZ1HI+rxgGC\n",
       "xIR8kWRAqwao6/pYLQEEiQn5FnUpXcecMbpaarXEjACCxIS8n7qgQM8auVdLHXmR\n",
       "BcDujiARJGNqZPhJo6sKpyyYpE8MDuzuCBIT8irqZehM9IDdJ5a43gHs7ggSE/Ie\n",
       "6lXmzPjI3VniCB7Y3REkJuQNTFqj1lniZ2nB7o4gMSFzU9fUecH/CEfwwO6OIDEh\n",
       "aqRjljiCB3Z3BIkJmWnf7Tc7xyv/19TlgiyVwO6OIDEhc5BdthcvI1gqgd0dQWJC\n",
       "pqmRLywgdHsNJIAgMSFcxHQ/cnRDlkpkCezuCBIT0ov3XchwhVmSBnNdONjdESQm\n",
       "pBGfPa3CUgns7ggSE9II1551zO9iB9jdESSC9O1B4kn4uvksGkslsLsjSATJuM+P\n",
       "2TlcA+25VOL1wsHujiARpI5eG7EgYKkEdncE6RoVFxdnZGS0vsXlcqWkpFgsFpvN\n",
       "Vl5eTpCukCyMOFh3+aWSZImlEggSQWpHTU1NYmLijBkzkpOTW9+el5cXFxfX0NBQ\n",
       "VFS0YMECgnSFeMEClkogSATpGjkcjrKysqysrDZB2rZtm9wuG7W1tSEhIQTpSrzy\n",
       "/n72s1e4VFJZYqkEgkSQ2iouLm4TJKWurm7FihWSK88JufH5qvjmj8GyVIIXd8gs\n",
       "ezmfCFJ+fv7ChQt37Nhhxm8ZOp53v4IqSyWwQiJIBgTJ6XRWVlYWFhbGxcXV19eb\n",
       "dEIdTP0WBp6H63n2WCqBIBGktkGy2+3BwcHLly+fNWtWZLOYmBiCdHlcy3Cjlko8\n",
       "jSBIvh4k75tQB3+Dz2uJ3hDqonmWSmB3R5AI0rV+Nnjpb4M1dqkkmefZALs7gkSQ\n",
       "roLsPfmO/mZkSZok604udgC7O4JEkK5iv8nzcPNiz3XhYHdHkAjSFZFv4TmydLOT\n",
       "z6sNgd0dQSJILI90wXXhYHdHkAgSyyON8s8RPLC7I0gEieWRRk87v1oJ7O4IEkFi\n",
       "ecRSCezuCBIT0g/LI7IEdncEiQmxPMI3WVLX4PFUgCAxIR/dCbIH1Ip8c8BP0YIg\n",
       "MSGWR9DluwSO4IEgMSGfwyvX6YwsgSAxIR/a37Gz03+1JKtYXp4VBIkJsTyCXlni\n",
       "FyyBIDEhL8TvPTJjlrgMDwSJCXkhXuLT1FmSbyZYLYEgMSGWR9Bigmq1RJZAkJiQ\n",
       "ucm+jB2Z16yWyBIIEhMyK9l5yV6Mr0wv+w6Dc0sgSEzIfPhhWG9dLakr8biUHwSJ\n",
       "CZkGV3t7d5bcP07LRSsgSExIa1zO4FNZ4mI8ECQmpC+u9vYp7ovxOI4HgsSEWB5B\n",
       "CyyYQJCYkF64nAEsmNjdESQmpMekuZwBLWeYuFKc3R1BYkKG4bW94VkmdaU4B3LZ\n",
       "3REkJtSh+HYYl8qSOrmoysRBXXZ3BIkJ3VxczoArpMoUlFAqnzNcAcHujiAxoZuy\n",
       "l+E7X1zt54w6z8S1eezuCBITuqEz5nIGXBN1QM9dJr6tYXdHkAjSdeF4HW5UmVov\n",
       "mzimx+6OIBGkq8arM+BmaBMnnhB2dwSJIH0LftkEOnLlpH6bLYsndncEiSC1/20s\n",
       "X4ToSPSJ3R1BIkjt48ePoMN3RVImv9k56vgeiWJ3R5B8MUhczgCdl1AqUWoVxcuI\n",
       "sLvzrSAVFxdnZGT4VJA42wyzJEqC5D7Qp/64Q8XnMEHyKjU1NYmJiTNmzEhOTvap\n",
       "IPHjR/CaUKlWqUWVO1cUiyCZj8PhKCsry8rK8qkgcbwOvlOsNtFyd0uly10vFTBf\n",
       "bhhB0kVxcXG7QXrggQemtQgKCnLfbvZtv+fedJ839qb/L7bZvq7tiKRvGrY0210y\n",
       "d8/cf1TY2vz55q2vpV9q231v8jV4bduXv//LbLf7mNv8IUhaB8lbV0gcrwPACokg\n",
       "aXEog+N1AAgSQTIeLxcEgCAxIT2GyvE6AASJCRmO31YOgCAxIS1wvA4AQWJCxuPl\n",
       "vQEQJCakBV4uCABBYkJa4HgdAILEhHRZIfFVB4AgMSHja8TxOgAEiQkZj+N1AAgS\n",
       "EzIe19cBIEhMSAscrwNAkJiQFjheB4AgMSHjcbwOAEFiQlrg900AIEhMSAscrwNA\n",
       "kJiQHlPk900AIEhMyHAcrwNAkJiQFoISSrfba/hiA0CQmJDRI+R4HQCCxIQMx/E6\n",
       "AASJCWmBF2gAQJCYkB7z43gdAILEhAzH8ToABIkJaYHjdQAIEhPSQp/oAr7GABAk\n",
       "JmQwjtcBIEhMSAscrwNAkJiQFnhBVQAEiQnpMTku+AZAkJiQ4TiBBIAgMSEt8IKq\n",
       "AAgSE9JjbByvA0CQmJAOOF4HgCAxIS1qxAXfAAgSEzIeF3wDIEhMyHhcXweAIDEh\n",
       "ggSA3R1BIkgtuOAbAEFiQnoMjAu+ARAkzTU1NaWnp1ssFqvVeuDAAfftjY2Nqamp\n",
       "8+bNi4qK+ve//23qIHG8DgBBMoHS0lJJjsPhKCkpiYiIcN++d+/exYsXu1yunTt3\n",
       "Lly40NRB4oJvAATJBDIzM7Ozs9V2eHh4dXW12t6/f//SpUsbGhokVDabzdRB4oJv\n",
       "AARJFxkZGc8888yaNWvi4+O//PLL1m9KSkrKz89X21artbKyUm3X19cvWrRozpw5\n",
       "06dPz83N9ZyQmylWSHxRAbjaDpllL2emIP3lL3955JFHxowZExUVJWugwMDA1m9N\n",
       "S0tz9yYyMrKq6v8PbW3YsCElJaWpqen06dNhYWF1dXUmXSFZtxyWP3x1AWCFZLzH\n",
       "H3+8pKQkLi5OgiR/feihh/773/+63yo1kmWTbEiKQkNDXS6X0+mUdVJmZmZqaqrc\n",
       "fu7cudmzZ7sP5ZkuSFzwDYAg6WLYsGHbt29XQTp79mz37t1b10XyExsba7FYZBmk\n",
       "jt3Z7fbg4OAzZ84sXrxY1kxz58796KOPTDehb0bFBd8ACJImNm7c2KNHj8DAwCef\n",
       "fHLgwIGTJk3yhQkpXPANgCDpZe/evQsXLgwNDV27dm1TU5PvBIkLvgEQJCakBS74\n",
       "BkCQtNC/f/+e7Wlz5bcXB4kTSAAIkhYOHTp08ODBsLCw4cOH5+fn79u3b86cOYMH\n",
       "D25sbPSFIHECCQBB0sujjz4qKXL/tW/fvu6ffvXuIHECCQBB0suTTz7pvm67urra\n",
       "39//1KlTvhAkjtcBIEh6SU1N7dq16+TJk0NCQr7//e9PnDjRFybE8ToABElHO3fu\n",
       "jIiImDVrVmZm5vWfQDLFhDheB4AgaWflypVzL+ZwOLx+QlzwDYAgaScxMTGy2Zw5\n",
       "c370ox8NGzbM6XR6/4Q4gQSAIOlM1ka9e/eur6/37glxAgkAQdJdQ0PD/fffX15e\n",
       "7t0T4gQSAIKko5kzZw5rITUaMGCAZMm7J8QJJAAESUfJyclr1679uNn27dtzcnK8\n",
       "PkicQAJAkPRSW1t7+PDhIUOGbNiw4XCziooKf39/734tO04gASBI2nn77bclP7fd\n",
       "dlu3bt38WwwfPvz6fwOFzhPiBBIAgqSp8ePHl5WV+c6EOF4HgCAxIeNxvA4AQdLR\n",
       "yJEjN23a9Oqrrw68WF1dnbdOyLrlsPzhSwgAQdJLYWHhyZMny8rKdlzMi6+yC0oo\n",
       "3W6v4UsIAEHSy1NPPTWwPV68QuIEEgCCpKOioiK1JMrLy0tNTV21atXmzZu9eIXE\n",
       "CSQABElrdru9f//+d911V48ePbp27ZqSkuKtE+KCbwAESWvPPPNMSEiIeoXvrVu3\n",
       "duvWzVt//QSvGASAIGmtX79+FRUV7r8++uijBw4c8MoJcQIJAEHS2pQpU2w2m9ou\n",
       "Li7u1auXV/4+JE4gASBIunv55Zf9/Px69+49cODATp069ezZ84lme/fu9aYJUSMA\n",
       "BEl3JSUln7SntrbWmybUJ7qArxwABIkJaTASTiABIEiay83NHTFixOBWvO8HYzmB\n",
       "BIAgmUBgYOC8efNycnJyW3jfD8byE0gACJIJyJJoz5493j0hfgIJAEEygeTk5J/9\n",
       "7GeZmZnZLbxvhcQJJAAEyRzPpr+//5AhQ4a2OHv2rDdNiBNIAAiSOfTv3/9f//qX\n",
       "F0+IE0gACJI5vPrqq6mpqV48IU4gASBI5jBz5kw/P7/AwMBhLbzskB0nkAAQJHMo\n",
       "LCz8uJWEhIRz5855zYQ4gQSAIJmMrIoSExOHDBkiq6XredEg3SbECSQABMlMK6Sp\n",
       "U6d27do1ICBg0aJF5eXlrd/a1NSUnp5usVisVmubX0uxY8eOqKiomJiYsrIybSfE\n",
       "CSQABMkEEhISHnvsMX9/f3lCIyMjx4wZ4/k+paWlUh2Hw1FSUhIREeG+/ejRo1Kp\n",
       "M2fOSMAkY3pOaLu9JiihlC8YAARJdz169BgwYMDu3btle8OGDWPHjvV8H/UDs2o7\n",
       "PDy8urpabX/44YebNm2SGv3nP/85deqU54TcDPwf5AQSgJvXIR32ct4TpH379oWF\n",
       "hQUEBAwaNOh3v/tdu0FKSkrKz89X21artbKyUm2vXr16/vz5kquVK1e+8cYbjY2N\n",
       "Gn7LwAkkAKyQzHQOyel0SldGjRrVuXPnX//617Ldui5paWm5ublqOzIysqqqyh2q\n",
       "tWvXqu0FCxa4Q6XVhDiBBIAgmfL3IR05cmTRokW9evVqfZWd1Cg+Pl42JEWhoaEu\n",
       "l0sCJvnZvn27rI3k9vr6+vDw8NOnT+s2IU4gASBIX5v6F/S1Ofgm+YmNjbVYLGFh\n",
       "YerYnd1uDw4ObmhoSEhIiIqKkjdt2bJFwwlxAgkAQfqa3xirw4Q4gQSAIBEkLSbE\n",
       "KwYBIEgEyfgJcbwOAEEiSAQJALs7gsSEWnACCQBBIkhaTIgTSAAIEkEyfkIcrwNA\n",
       "kAgSQQLA7o4gMaEWnEACQJAIkhYT4gQSAIJEkIyfEMfrABAkgkSQALC7I0hMqAUn\n",
       "kAAQJIKkxYQ4gQSAIBEk4yfE8ToABIkgESQA7O4IEhNqwQkkAASJIGkxIU4gASBI\n",
       "BMn4CXG8DgBBIkgECQC7O4LEhFpwAgkAQSJIWkyIE0gACBJBMn5CHK8DQJAIEkEC\n",
       "wO6OIDGhFtQIAEEiSFpMqE90AV8YAAgSQTJ4QtvtNUEJpXxhACBIBMngCXECCQBB\n",
       "IkhaTIifQAJAkAiSFhPqE11wpNrBFwYAgkSQjJwQJ5AAECSCpMWEOIEEgCARJC0m\n",
       "xAkkAASJIGkxIU4gASBIBEmLCXECCQBBIkjGT4gTSAAIEkHSYkKcQAJAkAiSFhPi\n",
       "BBIAgkSQjJ8QP4EEgCD5UJCamprS09MtFovVaj1w4ECbt7pcLpvNVlFRYciEOIEE\n",
       "gCD5UJBKS0ujoqIcDkdJSUlERESbt0qrQkNDDx48aMiEOIEEgCD5UJAyMzOzs7PV\n",
       "dnh4eHV1tftNe/fuXbVq1cqVK9sNktvNe2ycQAJgYIc6YC9HkC6SlJSUn5+vtq1W\n",
       "a2Vlpdqura2Njo6ur6+/VJBu9gPjBBIAVki+FaS0tLTc3Fy1HRkZWVX1/4fIZG2U\n",
       "kpJSUFCwZMmS9evXnz17toMnxAkkAATJt4IkNYqPj5cNSVFoaKjL5XI6nbJO2rNn\n",
       "T14zm82WlZVVV1fXwRPiBBIAguRbQZL8xMbGWiyWsLAwdezObrcHBwe730GWSuXl\n",
       "5R0/IU4gASBIvhUkbSfECSQABIkgGT8hTiABIEgESYsJcQIJAEEiSFpMyG92Dl8G\n",
       "AAgSQTJ4QhyvA0CQCBJBAgCCxIRacAIJAEEiSFpMiBNIAAgSQTJ+QhyvA0CQCJIW\n",
       "E7JuOSx/+BoAQJAIksETCkoo3W6v4WsAAEEiSAZPiBNIAAgSQTJ+QpxAAkCQCJIW\n",
       "E+KCbwAEiSBpMSF+5QQAgkSQtJgQJ5AAECSCZPyEOIEEgCARJC0mxAkkAASJIGkx\n",
       "IU4gASBIBEmLCXECCQBBIkjGT4gTSAAIEkHSYkKcQAJAkAiSFhPqE13A5z0AgkSQ\n",
       "jJ8QJ5AAECSCZPyEOIEEgCARJC0mxAkkAASJIGkxIX4CCQBBIkjGT4jjdQAIEkEi\n",
       "SABAkJhQC35nOQCCRJC0mBAXfAMgSATJ+AlxvA4AQSJIWkyIGgEgSARJiwnxikEA\n",
       "CBJB0mJCnEACQJAIkvET4gQSAIJEkLSYEK8YBIAgESQtJsTxOgAEiSAZPyGO1wEg\n",
       "SATpIk1NTenp6RaLxWq1HjhwwH27y+VKSUmR2202W3l5+Q2fEMfrABAkgnSR0tLS\n",
       "qKgoh8NRUlISERHhvj0vLy8uLq6hoaGoqGjBggU3fEK8wjcAgkSQLpKZmZmdna22\n",
       "w8PDq6ur1fa2bdvKyspko7a2NiQkxHNCbtf4DHICCYDeHbrOvRxBumpJSUn5+flq\n",
       "22q1VlZWtn5rXV3dihUrsrKybuy3DJxAAsAKiSC1lZaWlpubq7YjIyOrqr45ryOh\n",
       "Wrhw4Y4dO274hDiBBIAgEaS2pEbx8fGyISkKDQ11uVxOp1PWSYWFhXFxcfX19Tdj\n",
       "QhyvA0CQCFJbkp/Y2FiLxRIWFqaO3dnt9uDg4OXLl8+aNSuyWUxMzA2cEMfrABAk\n",
       "gqTFhDheB4AgESQtJsQF3wAIEkHSYkKcQAJAkAiS8RPiBBIAgkSQtJhQUELpdnsN\n",
       "n+IACBJBMnhCHK8DQJAIkvET4ngdAIJEkLSYEBd8AyBIBEmLCXG8DgBBIkjGT4jj\n",
       "dQAIEkHSYkIcrwNAkAiSFhPieB0AgkSQjJ8Qx+sAECSCpMWEOF4HgCARJC0mxPE6\n",
       "AASJIBk/IY7XASBIBEmLCXG8DgBBIkhaTIjjdQAIEkEyfkIcrwNAkAiSFhPi900A\n",
       "IEgESYsJcbwOAEEiSMZPiON1AAgSQdJiQn2iC/hsBkCQCJLBE2J5BIAgESQtJsTl\n",
       "DAAIEkHSYkJczgCAIBEk4yfEqzMAIEgESYsJ9YkuOFLt4FMZAEEiSMavkPg8BkCQ\n",
       "CJLBE2J5BIAgESTjJ8TV3gAIEkHSYkIsjwAQJIJk/IRYHgEgSARJiwmxPAJAkAiS\n",
       "8ROybjkclFDKpy8AgkSQjJyQLIx4aQYABIkgGT8hXrkOAEEiSMZP6L3iKg7WASBI\n",
       "BMngCcnCyG92jv7XMuj/WcVj5mHzmHnMBKkdTU1N6enpFovFarUeOHDgUhOSGpnl\n",
       "t/DxlcBj5qnmMRMkUyotLY2KinI4HCUlJREREZeakImu8+YrgcfMU81jJkimlJmZ\n",
       "mZ2drbbDw8Orq6tbv7VvyOpuYRufmBk/DQC8HUEyWFJSUn5+vtq2Wq2VlZVfAwAI\n",
       "UsdLS0vLzc1V25GRkVVV/LY9ACBIRpAaxcfHy4akKDQ01OVyMXUAIEgGcDqdsbGx\n",
       "FoslLCzMfewOAECQAAAgSAAAggQAAEFq6/Iv32CKx7ls2TJrs6SkJP2f8OLi4oyM\n",
       "DJM+TlM81S6XKyUlRT5VbDZbeXm5GR+nWT6l5X9h9erV8+bNk/+FQ4cOmfFxavtU\n",
       "+2iQLv/yDfo/ztra2sWLF59vpvl1gzU1NYmJiTNmzEhOTjbj4zTLU52XlxcXF9fQ\n",
       "0FBUVLRgwQLTPU4TfUp/+umn8fHxFy5c2LRpk/y/mO5x6vxU+2iQLv/yDfo/zn37\n",
       "9q1YsSI/P1+KJZ9wOj/VUtOysrKsrCzNg3Spx2mWp3rbtm3y+NXuJiQkxHSP00Sf\n",
       "0vII1YJD1tNvvvmm6R6nzk+1jwbJLC/fcKnHmZubGxMTI//961//unz5cv2fcPmS\n",
       "0DxIl3qc5nqq6+rqZF8jWTXd4zTdp/SqVatef/31Xbt2me5x6vxU+2iQzPLyDd/6\n",
       "OBsbG//4xz9++eWXBOlmP079n2r53mXhwoU7duzQ/Em+/OPU/3k+deqU0+mUjRMn\n",
       "TshDPX/+vEkfp4ZPtY8GySwv3+D5OOUzTNZJmZmZKlTyOSe3q087gnRjH6e5nurC\n",
       "wsK4uLj6+nrNn2HPx2m6T+nExMSPPvpINmRXHhISou1z7vk49X+qfTRIZnn5Bs/H\n",
       "abfbg4OD//e//8n3mDabTd4k+1BTrzy0fZzmeqqXL18+a9asyGYxMTEmepym+5SW\n",
       "7w4XNJs7d25OTo6JHqf+T7VP/xySfMug+enTyz/Or776qqmp6WvcfDzVPM+eD7Wx\n",
       "sdG8j1PPp5ofjAUAECQAAAgSAIAgAT7BwFelOn/+vM6vagMQJKAd9fX1fh5mz549\n",
       "fPjw67nb0tLS67yHK7Rr165+/fq1udHlcvXt2/fYsWPMFwQJMJOmZvHx8SNGjFDb\n",
       "p0+fLikpuZ77HD169IcfftgxQZL2eN6+bNmy6dOnM1wQJMB83n777aCgILX9ySef\n",
       "vPDCCxs2bHjuuedkodO1a9fJkyfPnz/f39//gQce2Lx5s3q32NjYBx988P777//T\n",
       "n/7U+q7Ky8vlRrvdPmTIkDvuuON73/teenr6pf7J4sWL5T7lQ0yYMOHcuXOqJb16\n",
       "9brnnnvkMZw5c0YexsSJEyWWt99+uzwYuUWSKf/8vvvuk/cZP368CtKhQ4dafzhp\n",
       "6p133qnt6wgABAm4oiBJA2TXn5aWJvv0oqKi48ePq2BUV1dHRkaOGTNG3mfTpk0P\n",
       "P/zw559/XllZOWDAgMzMTPdd/fOf/5R/Pnfu3HHjxl24cOGDDz4YOHBgu/9EVlES\n",
       "p88++6yqqkreJy4uTj50QEDAnj17JDyjRo2aMmWKPIzOnTt/+umn0pjHHnvs3Xff\n",
       "zcrK+u53v7t///5Tp07JY1ZB8vxwcj/yr5gsCBLgDUEaPXq0uqVfv37qBVckNiNH\n",
       "jpSNP/zhD4GBgXOaDR06dNKkSe67io6Olr/KnXTp0uXFF1+UhEhL2v0ncotsq3/1\n",
       "ZbPp06fPnj1b3bJjxw7JlTwM9RHVPSxZsmTatGmSH3XL1q1bVZA8P5x8rL///e9M\n",
       "FgQJ8IYgqcWQCtLOnTtlY/369SoPr7322q9+9at3Wnz88cfuu1q0aJGEQTYqKire\n",
       "euutp556qkePHrLi8fwnr7zyiryz+lfHjh2z2+3yPvPnz1e3FBcX33vvva0fhgrS\n",
       "1KlTZaGmbpE1kPscUpsP9+Mf/3jdunVMFgQJ8PIgpaamDh48WNY0jY2Nzz777OrV\n",
       "q913tWbNGlkASTysVuvXzb9toXPnzp999pnnP/nb3/7Wv39/uaW+vl768f777ycn\n",
       "J/fp0+fEiRPyPrKEGjdunGeQ5H0eeughWQY1NTVNmDBBBcnzw0mW9u/fz2RBkACT\n",
       "kSWLO0gbN24cMWKElGDs2LGXCtKFCxemTJlyzz333HfffU8//XTr14w/fPhw9+7d\n",
       "d+/e3atXL6lLQEDAxIkTJTCe/8TpdD7//PN33313z549X3rppQvNpk2bpm75yU9+\n",
       "8vnnn7d+GK+//vrSpUsbGhomT57crVs3eR8JpwpSSUlJ6w938uTJLl26yHsyWRAk\n",
       "wCc4HI6zZ8963j5q1KjMzEyJ0PHjx9u8g+c/keWRur7O7fz58zU1NZf/0PKv2txP\n",
       "6w8nC6nw8HAGBIIE+LqioqKhQ4ca9dFl4SVLOnVpA0CQAF9XUVFh1IduaGg4evQo\n",
       "IwBBAgCAIAEACBIAAAQJAECQAAAgSAAAggQAAEECABAkAAAIEgCAIAEAQJAAAAQJ\n",
       "AACCBAAgSAAAECQAgG/5P3r3F0c66r49AAAAAElFTkSuQmCC\" style=\"clip-path:url(#clipPath1);\" height=\"420\" preserveAspectRatio=\"none\"\n",
       "    /></g\n",
       "  ></g\n",
       "></svg\n",
       ">\n"
      ]
     },
     "metadata": {},
     "output_type": "display_data"
    }
   ],
   "source": [
    "step(Gc)  "
   ]
  }
 ],
 "metadata": {
  "kernelspec": {
   "display_name": "MATLAB",
   "language": "matlab",
   "name": "imatlab"
  },
  "language_info": {
   "codemirror_mode": "octave",
   "file_extension": ".m",
   "mimetype": "text/x-matlab",
   "name": "matlab",
   "nbconvert_exporter": "imatlab._exporter.MatlabExporter",
   "pygments_lexer": "matlab",
   "version": "9.11.0.1769968 (R2021b)"
  }
 },
 "nbformat": 4,
 "nbformat_minor": 2
}