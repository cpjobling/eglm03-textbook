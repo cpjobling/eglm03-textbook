{
 "cells": [
  {
   "cell_type": "code",
   "execution_count": 1,
   "metadata": {
    "slideshow": {
     "slide_type": "fragment"
    }
   },
   "outputs": [
    {
     "name": "stdout",
     "output_type": "stream",
     "text": [
      "K =\n",
      "     0    -2\n"
     ]
    }
   ],
   "source": [
    "A = [1 2; -1 1]; B = [1; -2];\n",
    "alpha_c = A * A + 2 * A + eye(2);\n",
    "K = [0 1] * inv(ctrb(A, B)) * alpha_c"
   ]
  },
  {
   "cell_type": "code",
   "execution_count": 2,
   "metadata": {
    "slideshow": {
     "slide_type": "fragment"
    }
   },
   "outputs": [
    {
     "name": "stdout",
     "output_type": "stream",
     "text": [
      "Ka =\n",
      "     0    -2\n"
     ]
    }
   ],
   "source": [
    "% Example 3: alpha_c(s) = s^2 +2s + 1\n",
    "P = [-1, -1]; % vector of desired pole locations\n",
    "Ka = acker(A, B, P)"
   ]
  },
  {
   "cell_type": "code",
   "execution_count": 3,
   "metadata": {
    "slideshow": {
     "slide_type": "fragment"
    }
   },
   "outputs": [
    {
     "name": "stdout",
     "output_type": "stream",
     "text": [
      "K =\n",
      "   19.4286  -14.4286\n"
     ]
    }
   ],
   "source": [
    "% Example 1\n",
    "K = place([-4 0; 0, -11],[1;1],[-10+10i,-10-10i])"
   ]
  },
  {
   "cell_type": "code",
   "execution_count": 4,
   "metadata": {
    "slideshow": {
     "slide_type": "fragment"
    }
   },
   "outputs": [
    {
     "name": "stdout",
     "output_type": "stream",
     "text": [
      "K =\n",
      "    5.0000  156.0000\n"
     ]
    }
   ],
   "source": [
    "% Example 2\n",
    "K = place([-15 -44;1 0],[1; 0],[-10+10i,-10-10i])"
   ]
  }
 ],
 "metadata": {
  "celltoolbar": "Slideshow",
  "kernelspec": {
   "display_name": "MATLAB",
   "language": "matlab",
   "name": "imatlab"
  },
  "language_info": {
   "codemirror_mode": "octave",
   "file_extension": ".m",
   "mimetype": "text/x-matlab",
   "name": "matlab",
   "nbconvert_exporter": "imatlab._exporter.MatlabExporter",
   "pygments_lexer": "matlab",
   "version": "9.9.0.1467703 (R2020b)"
  }
 },
 "nbformat": 4,
 "nbformat_minor": 2
}