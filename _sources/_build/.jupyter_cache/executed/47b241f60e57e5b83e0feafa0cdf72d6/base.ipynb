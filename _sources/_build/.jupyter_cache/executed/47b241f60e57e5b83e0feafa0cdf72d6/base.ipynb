{
 "cells": [
  {
   "cell_type": "code",
   "execution_count": 1,
   "metadata": {
    "slideshow": {
     "slide_type": "fragment"
    }
   },
   "outputs": [],
   "source": [
    "clear all\n",
    "cd matlab\n",
    "format compact"
   ]
  },
  {
   "cell_type": "code",
   "execution_count": 2,
   "metadata": {
    "slideshow": {
     "slide_type": "fragment"
    }
   },
   "outputs": [],
   "source": [
    "Cap = 1e-6; % 1 uF\n",
    "L = 3e-3;  % 2 mH\n",
    "R = 200e3; % 200 kOhm"
   ]
  },
  {
   "cell_type": "code",
   "execution_count": 3,
   "metadata": {
    "slideshow": {
     "slide_type": "subslide"
    }
   },
   "outputs": [],
   "source": [
    "A = [0 -1/Cap; 1/L -R/L];\n",
    "B = [1/Cap; 0];\n",
    "C = [1 0; 0 1; 1 -R; 0 R; 0 -1];\n",
    "D = [0; 0; 0; 0; 1];\n",
    "circ_ss = ss(A, B, C, D,...\n",
    "   'statename',{'v31' 'i1'}, 'inputname','u',...\n",
    "   'outputname', {'v31' 'i1' 'v32' 'v21' 'i2'});"
   ]
  },
  {
   "cell_type": "code",
   "execution_count": 4,
   "metadata": {
    "slideshow": {
     "slide_type": "subslide"
    }
   },
   "outputs": [
    {
     "name": "stdout",
     "output_type": "stream",
     "text": [
      "\n",
      "circ_ss =\n"
     ]
    },
    {
     "name": "stdout",
     "output_type": "stream",
     "text": [
      " \n"
     ]
    },
    {
     "name": "stdout",
     "output_type": "stream",
     "text": [
      "  A = \n"
     ]
    },
    {
     "name": "stdout",
     "output_type": "stream",
     "text": [
      "               v31          i1\n",
      "   v31           0      -1e+06\n",
      "   i1        333.3  -6.667e+07\n"
     ]
    },
    {
     "name": "stdout",
     "output_type": "stream",
     "text": [
      " \n"
     ]
    },
    {
     "name": "stdout",
     "output_type": "stream",
     "text": [
      "  B = \n"
     ]
    },
    {
     "name": "stdout",
     "output_type": "stream",
     "text": [
      "            u\n",
      "   v31  1e+06\n",
      "   i1       0\n"
     ]
    },
    {
     "name": "stdout",
     "output_type": "stream",
     "text": [
      " \n"
     ]
    },
    {
     "name": "stdout",
     "output_type": "stream",
     "text": [
      "  C = \n"
     ]
    },
    {
     "name": "stdout",
     "output_type": "stream",
     "text": [
      "           v31      i1\n",
      "   v31       1       0\n",
      "   i1        0       1\n",
      "   v32       1  -2e+05\n",
      "   v21       0   2e+05\n",
      "   i2        0      -1\n"
     ]
    },
    {
     "name": "stdout",
     "output_type": "stream",
     "text": [
      " \n"
     ]
    },
    {
     "name": "stdout",
     "output_type": "stream",
     "text": [
      "  D = \n"
     ]
    },
    {
     "name": "stdout",
     "output_type": "stream",
     "text": [
      "        u\n",
      "   v31  0\n",
      "   i1   0\n",
      "   v32  0\n",
      "   v21  0\n",
      "   i2   1\n"
     ]
    },
    {
     "name": "stdout",
     "output_type": "stream",
     "text": [
      " \n"
     ]
    },
    {
     "name": "stdout",
     "output_type": "stream",
     "text": [
      "Continuous-time state-space model.\n",
      "\n"
     ]
    }
   ],
   "source": [
    "circ_ss"
   ]
  }
 ],
 "metadata": {
  "celltoolbar": "Slideshow",
  "kernelspec": {
   "display_name": "MATLAB",
   "language": "matlab",
   "name": "imatlab"
  },
  "language_info": {
   "codemirror_mode": "octave",
   "file_extension": ".m",
   "mimetype": "text/x-matlab",
   "name": "matlab",
   "nbconvert_exporter": "imatlab._exporter.MatlabExporter",
   "pygments_lexer": "matlab",
   "version": "9.9.0.1467703 (R2020b)"
  }
 },
 "nbformat": 4,
 "nbformat_minor": 2
}