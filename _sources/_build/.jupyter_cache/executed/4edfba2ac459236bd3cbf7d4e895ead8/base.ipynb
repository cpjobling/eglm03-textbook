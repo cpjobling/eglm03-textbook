{
 "cells": [
  {
   "cell_type": "code",
   "execution_count": 1,
   "metadata": {
    "slideshow": {
     "slide_type": "skip"
    }
   },
   "outputs": [],
   "source": [
    "imatlab_export_fig('print-svg')  % Static svg figures."
   ]
  },
  {
   "cell_type": "code",
   "execution_count": 2,
   "metadata": {
    "scrolled": true,
    "slideshow": {
     "slide_type": "fragment"
    }
   },
   "outputs": [],
   "source": [
    "doc control"
   ]
  },
  {
   "cell_type": "code",
   "execution_count": 3,
   "metadata": {
    "slideshow": {
     "slide_type": "slide"
    }
   },
   "outputs": [],
   "source": [
    "doc ctrlmodels"
   ]
  },
  {
   "cell_type": "code",
   "execution_count": 4,
   "metadata": {
    "slideshow": {
     "slide_type": "subslide"
    }
   },
   "outputs": [
    {
     "name": "stdout",
     "output_type": "stream",
     "text": [
      " TF  Construct transfer function or convert to transfer function.\n",
      " \n",
      "   Construction:\n",
      "     SYS = TF(NUM,DEN) creates a continuous-time transfer function SYS with\n",
      "     numerator NUM and denominator DEN. SYS is an object of type TF when\n",
      "     NUM,DEN are numeric arrays, of type GENSS when NUM,DEN depend on tunable\n",
      "     parameters (see REALP and GENMAT), and of type USS when NUM,DEN are\n",
      "     uncertain (requires Robust Control Toolbox).\n",
      " \n",
      "     SYS = TF(NUM,DEN,TS) creates a discrete-time transfer function with\n",
      "     sample time TS (set TS=-1 if the sample time is undetermined).\n",
      " \n",
      "     S = TF('s') specifies the transfer function H(s) = s (Laplace variable).\n",
      "     Z = TF('z',TS) specifies H(z) = z with sample time TS.\n",
      "     You can then specify transfer functions directly as expressions in S\n",
      "     or Z, for example,\n",
      "        s = tf('s');  H = exp(-s)*(s+1)/(s^2+3*s+1)\n",
      " \n",
      "     SYS = TF creates an empty TF object.\n",
      "     SYS = TF(M) specifies a static gain matrix M.\n",
      " \n",
      "     You can set additional model properties by using name/value pairs.\n",
      "     For example,\n",
      "        sys = tf(1,[1 2 5],0.1,'Variable','q','IODelay',3)\n",
      "     also sets the variable and transport delay. Type \"properties(tf)\"\n",
      "     for a complete list of model properties, and type\n",
      "        help tf.<PropertyName>\n",
      "     for help on a particular property. For example, \"help tf.Variable\"\n",
      "     provides information about the \"Variable\" property.\n",
      " \n",
      "     By default, transfer functions are displayed as functions of 's' or 'z'.\n",
      "     Alternatively, you can use the variable 'p' in continuous time and the\n",
      "     variables 'z^-1', 'q', or 'q^-1' in discrete time by modifying the\n",
      "     \"Variable\" property.\n",
      " \n",
      "   Data format:\n",
      "     For SISO models, NUM and DEN are row vectors listing the numerator\n",
      "     and denominator coefficients in descending powers of s,p,z,q or in\n",
      "     ascending powers of z^-1 (DSP convention). For example,\n",
      "        sys = tf([1 2],[1 0 10])\n",
      "     specifies the transfer function (s+2)/(s^2+10) while\n",
      "        sys = tf([1 2],[1 5 10],0.1,'Variable','z^-1')\n",
      "     specifies (1 + 2 z^-1)/(1 + 5 z^-1 + 10 z^-2).\n",
      " \n",
      "     For MIMO models with NY outputs and NU inputs, NUM and DEN are\n",
      "     NY-by-NU cell arrays of row vectors where NUM{i,j} and DEN{i,j}\n",
      "     specify the transfer function from input j to output i. For example,\n",
      "        H = tf( {-5 ; [1 -5 6]} , {[1 -1] ; [1 1 0]})\n",
      "     specifies the two-output, one-input transfer function\n",
      "        [     -5 /(s-1)      ]\n",
      "        [ (s^2-5s+6)/(s^2+s) ]\n",
      " \n",
      "   Arrays of transfer functions:\n",
      "     You can create arrays of transfer functions by using ND cell arrays\n",
      "     for NUM and DEN above. For example, if NUM and DEN are cell arrays\n",
      "     of size [NY NU 3 4], then\n",
      "        SYS = TF(NUM,DEN)\n",
      "     creates the 3-by-4 array of transfer functions\n",
      "        SYS(:,:,k,m) = TF(NUM(:,:,k,m),DEN(:,:,k,m)),  k=1:3,  m=1:4.\n",
      "     Each of these transfer functions has NY outputs and NU inputs.\n",
      " \n",
      "     To pre-allocate an array of zero transfer functions with NY outputs\n",
      "     and NU inputs, use the syntax\n",
      "        SYS = TF(ZEROS([NY NU k1 k2...])) .\n",
      " \n",
      "   Conversion:\n",
      "     SYS = TF(SYS) converts any dynamic system SYS to the transfer function\n",
      "     representation. The resulting SYS is always of class TF.\n",
      " \n",
      "   See also TF/EXP, FILT, TFDATA, ZPK, SS, FRD, GENSS, USS, DYNAMICSYSTEM.\n",
      "\n",
      "    Documentation for tf\n",
      "       doc tf\n",
      "\n",
      "    Other functions named tf\n",
      "\n",
      "       DynamicSystem/tf    idParametric/tf    mpc/tf    StaticModel/tf\n",
      "\n"
     ]
    }
   ],
   "source": [
    "help tf"
   ]
  },
  {
   "cell_type": "code",
   "execution_count": 5,
   "metadata": {
    "slideshow": {
     "slide_type": "fragment"
    }
   },
   "outputs": [
    {
     "name": "stdout",
     "output_type": "stream",
     "text": [
      "\n",
      "H =\n"
     ]
    },
    {
     "name": "stdout",
     "output_type": "stream",
     "text": [
      " \n"
     ]
    },
    {
     "name": "stdout",
     "output_type": "stream",
     "text": [
      "  4 z^2 - 16\n"
     ]
    },
    {
     "name": "stdout",
     "output_type": "stream",
     "text": [
      "  ----------\n"
     ]
    },
    {
     "name": "stdout",
     "output_type": "stream",
     "text": [
      "  z^2 - 0.25\n"
     ]
    },
    {
     "name": "stdout",
     "output_type": "stream",
     "text": [
      " \n"
     ]
    },
    {
     "name": "stdout",
     "output_type": "stream",
     "text": [
      "Sample time: unspecified\n"
     ]
    },
    {
     "name": "stdout",
     "output_type": "stream",
     "text": [
      "Discrete-time transfer function.\n",
      "\n"
     ]
    }
   ],
   "source": [
    "H = tf([4, 0, -16],[1, 0, -0.25],-1)"
   ]
  },
  {
   "cell_type": "code",
   "execution_count": 6,
   "metadata": {
    "slideshow": {
     "slide_type": "fragment"
    }
   },
   "outputs": [
    {
     "data": {
      "image/svg+xml": [
       "<?xml version=\"1.0\"?>\n",
       "<!DOCTYPE svg PUBLIC '-//W3C//DTD SVG 1.0//EN'\n",
       "          'http://www.w3.org/TR/2001/REC-SVG-20010904/DTD/svg10.dtd'>\n",
       "<svg xmlns:xlink=\"http://www.w3.org/1999/xlink\" style=\"fill-opacity:1; color-rendering:auto; color-interpolation:auto; text-rendering:auto; stroke:black; stroke-linecap:square; stroke-miterlimit:10; shape-rendering:auto; stroke-opacity:1; fill:black; stroke-dasharray:none; font-weight:normal; stroke-width:1; font-family:'Dialog'; font-style:normal; stroke-linejoin:miter; font-size:12px; stroke-dashoffset:0; image-rendering:auto;\" width=\"560\" height=\"420\" xmlns=\"http://www.w3.org/2000/svg\"\n",
       "><!--Generated by the Batik Graphics2D SVG Generator--><defs id=\"genericDefs\"\n",
       "  /><g\n",
       "  ><defs id=\"defs1\"\n",
       "    ><clipPath clipPathUnits=\"userSpaceOnUse\" id=\"clipPath1\"\n",
       "      ><path d=\"M0 0 L560 0 L560 420 L0 420 L0 0 Z\"\n",
       "      /></clipPath\n",
       "    ></defs\n",
       "    ><g style=\"fill:white; stroke:white;\"\n",
       "    ><rect x=\"0\" y=\"0\" width=\"560\" style=\"clip-path:url(#clipPath1); stroke:none;\" height=\"420\"\n",
       "    /></g\n",
       "    ><g\n",
       "    ><image x=\"0\" y=\"0\" width=\"560\" xlink:href=\"data:image/png;base64,iVBORw0KGgoAAAANSUhEUgAAAjAAAAGkCAIAAACgjIjwAAAd40lEQVR42u3dDWxV\n",
       "9f3AYXwhvsEUAXVzuC06FRUzlQ2dQ3QbMdt8m8431DBfRtiADihQ6IASCqijG4Ij\n",
       "A1FGy4prcSg6UMksjBSotQU6FaTFF9BhVApdsZR7C/X/+/fGpuvFl029B8rzpDHn\n",
       "HtpzLv0efp+eCrftPgCAA0A7nwIABAkABAkAQQIAQQJAkABAkAAQJAAQJAAECQAE\n",
       "CQBBAgBBAkCQAECQABAkABAkAAQJAAQJAEECAEECQJAAQJAAECQAECQABAkABAkA\n",
       "QQIAQQJAkABAkAAQJDh01dTUbNiwYceOHT4VIEgQjb179w4YMOCII45o167dYYcd\n",
       "dsMNN+zevXvPnj2jRo0qLCz8Hw64ePHidi106dIlOzvb5xkECT7B/PnzQzauv/76\n",
       "xx9//Kc//WnYnjx5cm1tbdi4/fbb/+cgXXrppffdd19GRkbnzp3DwxdeeMGnGgQJ\n",
       "Pk7ITwjG4MGDt2/f/u677/72t79dsmTJmWeeGXZ27Njx5ptvDu/zwAMPfOMb3zj+\n",
       "+ONvvPHGnTt3zpkz56yzzurfv3/Yc8YZZ/zlL39JDlJ6enri4d133x0ehmMmH+et\n",
       "t9664oorjj766HCi2267LdyZfdSRw/7w8Jhjjrnkkkuef/75xJ7wnkOGDDnxxBPD\n",
       "TVh+fn7y0ZLPaNwIEhy4KisrO3XqFJpx+OGHX3TRRffee28sFsvNzQ17evfu/dxz\n",
       "zz322GNhe8CAAffff3/79u1vvfXW8D5hT8+ePUMVQrrCzq1bt7YKUp8+fXJycjIz\n",
       "M0MtunbtGmKQfJzRo0eHPX/6058mTZp03HHHhXu1/R65qKgo7Ozbt+9DDz102mmn\n",
       "haPV1NQk3vP8888fO3ZsiFC3bt2Sj5Z8RuNGkOCA9s4770ydOvUHP/hBWLXDCv6L\n",
       "X/yi5bfsbrnllrB9zz33hJW9c+fOYfVPxCC0KvzqggULwnYIWKsgHXXUUaEciQPe\n",
       "dNNN+z3OjBkzwp6TTjop3NCEW5y9e/fu98jDhg0LG5s3bw47//CHP4TtZ555JvGe\n",
       "if/LFcJ5xBFHJB8t+YxmjSDBgSss99///vfDPUfY3rJlS1i1Tz311JZBuu6668L2\n",
       "0KFDx3wo8V2+VatWNedn9uzZrYKU+JZdOM6FF14YHr700kvJx2loaHj22WcHDx4c\n",
       "7nvCL4U7m0RmWh150KBBYePNN98MOx955JGwHX4p8Z5r1qwJO6+++urDDjssbLQ6\n",
       "2n7PaOIIEhygwjIdVu2f/OQnjz32WFjEw8r+wx/+8P333w87e/TosWLFiunTp4ft\n",
       "kSNHhhuX7373u/369UvEIGSguLj48ssvD9sVFRX7DVIwfvz48HDp0qXJx7njjju+\n",
       "9KUvhVY9/fTT4ZfS0tL2e+RwG5S4bws7L7jggmOPPfbtt99ODlLy0ZLPaNwIEhy4\n",
       "6uvrw51Q4q99B7169Up8c+zKK69MPIzH4/379z/88MPDon/++ee//vrriRiEXwr/\n",
       "PfLII7Oysloe8Mknnwz7R4wYkXiYl5cXHv7+979PPk6Ixze/+c3EecNGZWXlRx05\n",
       "HC3x3b8uXbqEcIY9LYN0zTXXhGMmHy35jMaNIMGBLtwSbdq0qdU/jA2tisViie3d\n",
       "u3dv3749sd0cg+rq6sRfZvv0Wh4naGxs3NYkbHz8kcMzeeuttxLv9lFaHW2/ZwRB\n",
       "grbjvvvuC7cdJSUlB9GRQZAAQJAAECQAECQABAkABOkTxePx7OzsqqoqIwcQpCjl\n",
       "5+enpaVt2rTJyAEEKTLr16+fPXv2rFmzBAlAkCJTU1MzadKkurq6/QbposEzInz7\n",
       "yq8fHQCQKoIUsXBvlJubu2rVqilTpixatGjXrl0tfzXaCYUgRXj2aH/vh/LZffKd\n",
       "/dC87AXpg3Xr1q1okp2dXVhYWFtbK0j+bAiSszu7IEV8q1RZWXlATUiQBMnZnV2Q\n",
       "DsUgHYATunzm2g8ABEmQBAmw3AmSCQkSIEiCJEiA5U6QTEiQAEESJEECLHeCZEKC\n",
       "BAiSIAkSgCCZkCABljtBEiQAQTIhQQIsd4IkSACCZEKCBFjuBEmQAATJhAQJsNwJ\n",
       "kiABCJIJCRJguRMkQQIQJBMSJMByJ0iCBCBIJiRIgOVOkAQJQJBMSJAAy50gCRKA\n",
       "IJmQIAGWO0H6XMTj8dzc3IyMjOzs7MrKSkECBEmQorFixYqcnJyGhoaSkpKxY8cK\n",
       "EiBIghSNZcuWVVRUhI2ampohQ4YIEiBIghSl2tra6dOnFxYWJk+omSABbbJDEa5y\n",
       "gtRacXHxuHHjVq5ceaB9ySBIgDukQyhIa9asycnJqaurOwAnJEiAIB1CQZo2bdqw\n",
       "YcMym0yePFmQAEESJBMSJECQBEmQAMudIJmQIAGCJEiCBCBIJiRIgOVOkAQJQJBM\n",
       "SJAAy50gCRKAIJmQIAGWO0ESJABBMiFBAix3giRIAIJkQoIEWO4ESZAABMmEBAmw\n",
       "3AmSIAEIkgkJEmC5EyRBAhAkExIkwHInSIIEIEgmJEiA5U6QBAlAkExIkADLnSAJ\n",
       "EoAgmZAgAZY7QRIkAEFq2xobG/Pz8zMyMiZMmLBx40ZBAgRJkKKxdu3arKys+vr6\n",
       "8vLyMWPGCBIgSIIUjYKCgqVLlya209PTq6urW02omSABbbJDEa5ygvQf5s6dW1xc\n",
       "nNieMGHC1q1b3SEB7pAEKQLz588vKipKbGdmZm7btk2QAEESpAiEGs2YMSNshBSl\n",
       "paXF43FBAgRJkCIQi8WmTp2akZExdOjQ5u/dCRIgSIJkQoIECJIgCRJguRMkExIk\n",
       "QJAESZAAQRIkExIkQJAESZAABMmEBAmw3AmSIAEIkgkJEmC5EyRBAhAkExIkwHIn\n",
       "SIIEIEgmJEiA5U6QBAlAkExIkADLnSAJEoAgmZAgAZY7QRIkAEEyIUECLHeCJEgA\n",
       "gmRCggRY7gRJkAAEyYQECbDcCZIgAQiSCQkSYLkTpC9APB7Pzc3NyMjIzs6urKwU\n",
       "JECQBCkaK1asyMnJaWhoKCkpGTt2rCABgiRI0Vi2bFlFRUXYqKmpGTJkSPKEmgkS\n",
       "0CY7FOEqJ0gfxGKx95vE4/HEntra2unTpxcWFrpDAtwhCVLqFBUVTW1SVlYWHhYX\n",
       "F48bN27lypUH2oQECRCkNh6kltasWZOTk1NXV3cATkiQAEE6hII0bdq0YcOGZTaZ\n",
       "PHmyIAGCJEgmJEiAIAmSIAGWO0EyIUECBEmQBAlAkExIkADLnSAJEoAgmZAgAZY7\n",
       "QRIkAEEyIUECLHeCJEgAgmRCggRY7gRJkAAEyYQECbDcCZIgAQiSCQkSYLkTJEEC\n",
       "ECQTEiTAcidIggQgSCYkSIDlTpAECUCQTEiQAMudIAkSgCCZkCABljtBEiQAQTIh\n",
       "QQIsd4L0BYvH49nZ2VVVVYIECJIgRSk/Pz8tLW3Tpk2CBAiSIEVm/fr1s2fPnjVr\n",
       "liABgiRIKRWLxd5vEo/Ha2pqJk2aVFdX91FBaiZIQJvsUISrnCB9UFRUNLVJWVlZ\n",
       "uDfKzc1dtWrVlClTFi1atGvXLndIgDskQYrAunXrVjTJzs4uLCysra0VJECQBClK\n",
       "4VapsrLygJqQIAGCdCgG6QCckCABgiRIggRY7gTJhAQJECRBEiTAcidIJiRIgCAd\n",
       "/EFasGDBtdde+8gjj8yYMePf//63IAEIUgR+97vfnXXWWVdddVVWVlZ6enrPnj0F\n",
       "CUCQInDhhReWl5fn5OSEIIWHp59++r/+9S9BAhCkVLv00kuXL1+eCNKuXbu6dOlS\n",
       "XV0tSACClGpPPvlk165de/bsefHFF/fo0eOOO+5oGxMSJECQDrIgfdD0IyTGjRuX\n",
       "lpa2cOHCxsZGQQIQJBMSJMByd+gFqXv37iftz+f1N78FCRAkQfpUXn311U2bNg0d\n",
       "OrR3797FxcUvvfTSiBEjLrjggn379gkSgCCl2rnnnhtS1PzwzDPP3Lp1qyABCFKq\n",
       "XXzxxU899VRiu7q6ulOnTu+9954gAQhSquXl5XXo0KF///5Dhgz52te+1q9fv7Yx\n",
       "IUECBOkgC1KwevXqMWPGDBs2rKCg4PP6H0iCBAiSIP13Zs2aNfI/1dfXCxKAIKXa\n",
       "nDlzMpuMGDHiW9/61qWXXhqLxQQJQJCiFO6NTjvttLq6OkECEKQoNTQ0nHLKKZWV\n",
       "lYIEIEipNnjw4Es/FGp0zjnnhCwJEoAgpdq8efMWLlz4tybLly9/7rnnBAlAkFKq\n",
       "pqbmtdde69Wr1+LFi19rUlVV1alTJ69lByBIKfXggw+G/Bx55JEdO3bs9KHevXv/\n",
       "Vz+BYuXKlVlZWZMnT66oqBAkQJAE6X93/fXXJ7fkU9qyZUtGRsaOHTsqKyvHjx8v\n",
       "SIAgCVI0nnjiiSVLloQavfLKK8mvgCdIgCAJ0qdyxRVXhJzcddddPf5TbW3tx3xU\n",
       "LBZ7v0k8Hn/44YdHjx5dUFAwa9as+++/v9XLDg1oQZCANtmhCFe5NhWkNWvWvPvu\n",
       "uxUVFSv/08f/LbuioqKpTcrKyubOnbtw4cLE/rFjx7b6uRXukAB3SIL0qVx22WU9\n",
       "9ufj75BaWr58ebg3Cht1dXXp6enbt28XJECQBOm/VlJSkrglWrFiRV5e3uzZs59+\n",
       "+ulPvENqKbznzJkzs7KyMjIynnnmmQNqQoIECNJBE6SEzZs3d+/e/bjjjuvatWuH\n",
       "Dh1yc3PbxoQECRCkgyxI11577ZAhQxKv8P3ss8927NjRj58AEKQInH322VVVVc0P\n",
       "zz333I0bNwoSgCCl2p133pmdnZ3YLi0t7datm5+HBCBIEbj99tvbtWt32mmn9ejR\n",
       "4/DDDz/ppJMuarJ+/XpBAhCk1CkvL//7/tTU1AgSgCCZkCABlrtDLEhFRUV9+vS5\n",
       "oIVP/w9jBQlAkD43PXv2HDVq1HPPPVf0IT+gD0CQIhBuidatW9f2JiRIgCAdZEGa\n",
       "N2/e9773vYKCgqUfcocEIEjRfB47derUq1evSz60a9cuQQIQpFTr3r37P//5z7Y3\n",
       "IUECBOkgC9Jdd92Vl5cnSACCFLHBgwe3a9euZ8+el37It+wABCkCa9as+VsLM2fO\n",
       "3L17tyABCFI0wl3RnDlzevXqFe6WPvuLBgkSIEiC9L/cId19990dOnTo3Lnz+PHj\n",
       "Kysr28aEBAkQpIMmSDNnzjzvvPM6deoUPpWZmZlXXXVVW5qQIAGCdNAEqWvXruec\n",
       "c84LL7wQthcvXnz11VcLEoAgReCll14aOnRo586dzz///J/97GeCBCBIUYrFYgUF\n",
       "BX379m3fvv2Pf/zjsL1v3z5BAhCkyLz++uvjx4/v1q2bv2UHIEjR+7xujwQJECRB\n",
       "MiFBAgRJkAQJsNwJUurt27cvLy9v1KhRWVlZL7/8siABgiRI0Vi/fv3EiRPj8fjq\n",
       "1avHjRsnSIAgCVI0NmzYcO+99zY0NJSXl2dnZydPqJkgAW2yQxGucoL0//9u6f0m\n",
       "4caorq5u/PjxI0aMGDhwYFFRkTskwB2SIKVOCM/UJmVlZYsXL87NzW1sbNy+ffvQ\n",
       "oUNra2sFCRAkQYpAQUFB4qfN7t69e/jw4dXV1YIECJIgRWDHjh0TJ07MzMwcOXLk\n",
       "U089dUBNSJAAQTqEgnQgT0iQAEESJEECLHeCZEKCBAiSIAkSYLkTJBMSJECQBEmQ\n",
       "AMudIJmQIAGCJEiCBCBIJiRIgOVOkAQJQJBMSJAAy50gCRKAIJmQIAGWO0ESJABB\n",
       "MiFBAix3giRIAIJkQoIEWO4ESZAABMmEBAmw3AmSIAEIkgkJEmC5EyRBAhAkExIk\n",
       "wHInSIIEIEgmJEiA5U6QPpPS0tIFCxaEjcbGxvz8/IyMjAkTJmzcuFGQAEESpBTZ\n",
       "uXPnnDlzBg0aNG/evPBw7dq1WVlZ9fX15eXlY8aMESRAkAQpRUJ7KioqCgsLE0Eq\n",
       "KChYunRp4pfS09Orq6sFCRAkQfqixGKx95vE4/HEntLS0kSQ5s6dW1xcnNg5YcKE\n",
       "rVu3Jk+omSABbbJDEa5yh1yQioqKpjYpKytrFaT58+eHX03szMzM3LZtmzskwB2S\n",
       "IKVOc5BCjWbMmBE2QorS0tKab6EECRAkQUppkGKxWLhzysjIGDp0aPP37gQJECRB\n",
       "MiFBAgRJkAQJsNwJkgkJEiBIgiRIAIJkQoIEWO4ESZAABMmEBAmw3AmSIAEIkgkJ\n",
       "EmC5EyRBAhAkExIkwHInSIIEIEgm9FmDFOHb1yet8kcULHeCZELREySw3AmSCQkS\n",
       "YLkTJEESJLDcCZIJCRJguRMkQRIksNwJkgkJEmC5EyRBEiRAkExIkADLnSAJkiAB\n",
       "gmRCggRY7gRJkAQJECQTEiTAcidILZWWli5YsCBsxOPx3NzcjIyM7OzsyspKQRIk\n",
       "ECRBSpGdO3fOmTNn0KBB8+bNCw9XrFiRk5PT0NBQUlIyduxYQRIkECRBSpH6+vqK\n",
       "iorCwsJEkJYtWxYeho2ampohQ4YIkiCBIAnSFygWi73fJB6PJ/aUlpYmgpRQW1s7\n",
       "ffr0UKn9TqiZIAFtskMHyyrXFoJUVFQ0tUlZWVlykIqLi8eNG7dy5cqD9EsGQQLc\n",
       "IR3EmoO0Zs2anJycurq6g3dCggQIUlsI0rRp04YNG5bZZPLkyYIkSCBIgmRCggRY\n",
       "7gRJkAQJBEmQTEiQAMudIAmSIAGCZEKCBFjuBEmQBAkQJBMSJMByJ0iCJEiAIJmQ\n",
       "IAGWO0ESJEECBMmEBAmw3AmSIAkSIEgmJEiA5U6QBEmQAEEyIUECLHeCJEiCBAiS\n",
       "CQkSYLkTJEESJECQTEiQAMudIJmQIAGCZEKCBFjuBMmEBAkQJBMSJMByJ0gmJEiA\n",
       "IJmQIAGWO0EyIUECBKlNft5LS0sXLFjQ/DAej2dnZ1dVVQmSIIEgCVKK7Ny5c86c\n",
       "OYMGDZo3b17zzvz8/LS0tE2bNgmSIIEgCVKK1NfXV1RUFBYWNgdp/fr1s2fPnjVr\n",
       "1kcFqZkgAW2yQwfLKtcWghSLxd5vEo/HE3tKS0sTQaqpqZk0aVJdXd3HBMkdEuAO\n",
       "SZA+H0VFRVOblJWVtQpSuDfKzc1dtWrVlClTFi1atGvXLkESJBAkQUqd5iCtW7du\n",
       "RZPs7OzCwsLa2lpBEiQQJEGKIEjNwq1SZWXlwTghQQIEyYQECbDcCZIJCRIgSCYk\n",
       "SIDlTpBMSJAAQTIhQQIsd4JkQoIECJIJCRJguRMkE4rOzx/dEOGbHILlTpAEyf0Z\n",
       "WO4EyYQQJLDcCZIgCRJY7gTJhBAksNwJkiAJEiBIJoQggeVOkARJkABBMiEECSx3\n",
       "giRIggQIkgkhSGC5EyRBEiRAkEwIQQLLnSAJkiABgmRCCBJY7gRJkA72IE145rUI\n",
       "34wAy50gmRDRu3zmWp8ELHeCZELOHv3Zv/LrR114zu7sgpQKpaWlCxYsSGyvXLky\n",
       "Kytr8uTJFRUVrg9nFyRnd3ZBSpGdO3fOmTNn0KBB8+bNCw+3bNmSkZGxY8eOysrK\n",
       "8ePHuz6cvTlIl89cG+Gb0Tu7ILX9INXX14c7ocLCwkSQnnjiiSVLloQavfLKK++9\n",
       "995+JwQpdtHgGR2HPhnt25lDHo7qLfz2vUX1JkhfuFgs9n6TeDze/C27RJAefvjh\n",
       "0aNHFxQUzJo16/7779+3b1+rj50wYYJt27ZtH1LbgvQFKioqmtqkrKysVZDmzp27\n",
       "cOHCxM6xY8du3br1AwAEKWWag7R8+fJwbxQ26urq0tPTt2/fbuQAghRBkBoaGmbO\n",
       "nJmVlZWRkfHMM8+YN4AgAYAgASBIACBIH6mxsTE/Pz8jI2PChAkbN25M8dnj8Xhu\n",
       "bm44e3Z2dmVlZSSfgfAcwtmrqqoiOfvHv3zGF2rfvn15eXmjRo0KT+Dll19O5alb\n",
       "voBI6q/AlmdP/RXY8uyRXIGtnkCKr8CWZ0/lFZg86GiXPkHav7Vr14arob6+vry8\n",
       "fMyYMSk++4oVK3JychoaGkpKSsaOHRvJZyBclGlpaZs2bUr9qT/x5TO+UOvXr584\n",
       "cWL4g7p69epx48al5qStXkAkxVdg8tlTeQUmnz3FV2DyE0jlFZh89lRegcmDjnbp\n",
       "E6T9KygoWLp0aWI7PT29uro6lWdftmxZ4uuympqaIUOGpP63H/5IzJ49e9asWZEE\n",
       "6RNfPuMLtWHDhnvvvTf8EQ1/IMOXjak5aasXEEnxFZh89lRegclnT/EVmPwEUnkF\n",
       "Jp89lVdg8qCjXfoEaf/mzp1bXFyc2A63rpH8g9na2trp06eHKzXF5w2X5qRJk+rq\n",
       "6qIK0ie+fMYXKvzGwxfFI0aMGDhwYFFRUSpP3fyvESK5AluePfVXYMuzR3IFtnwC\n",
       "qb8CW5499Vdgy0EfCEufILU2f/785kshMzNz27ZtKX4C4ZoId+srV65M/e89fGWa\n",
       "m5u7atWqKVOmLFq0aNeuXan/aiDCl89YvHhx+O03NjZu37596NCh4c9qJEFK/RXY\n",
       "KkgpvgJbnj2SK7DVVwMpvgJbnj3FV2CrQUe+9AnSfoSRzJjx/68zGOaRlpbW/CJ4\n",
       "qbFmzZqcnJzwhVIkv/d169ataJKdnR2+aErlipwQ7ctnhK+L8/Lywsbu3buHDx+e\n",
       "ym9ZtFyVUn8Ftjx76q/AlmeP5Aps+QRSfwW2PHsqr8DkQUe79AnS/sVisalTp2Zk\n",
       "ZISvUJpvYFNm2rRpw4YNy2wyefLkqD4J4QvVSP6OX7Qvn7Fjx46JEyeGz/zIkSOf\n",
       "euqpVJ665aqU+iuw5dlTfwUmf8MwxVdgyyeQ+iuw5dlTeQUmDzrapU+QPk74wmHv\n",
       "3r0fEIU9e/ak+P8etRp9WJVcga7AQ/MKPGAvPP8wFgBBAgBBAkCQ4JAQ4Uuz7Nmz\n",
       "59VXXzUCBAkOJnV1de2SDB8+vHfv3p/lsGvXrv2MR/iUnn/++bPPPrvVzng8fuaZ\n",
       "Z7755pvmiyDBwaSxyYwZM/r06ZPY3r59e3l5+Wc55pVXXvnEE0+kJkihPcn777vv\n",
       "voEDBxouggQHnwcffPDyyy9PbP/973+/+eabFy9efOONN4YbnQ4dOvTv33/06NGd\n",
       "OnX6yle+8vTTTyfeberUqaeeeuopp5zym9/8puWhKisrw87Nmzf36tXr6KOP/upX\n",
       "v5qfn/9RHzJx4sRwzHCKW265Zffu3YmWdOvW7YQTTgjPYceOHeFp9OvXL8TyqKOO\n",
       "Ck8m7AnJDB9+8sknh/e5/vrrE0F69dVXW54uNPXYY4/ds2ePySJIcBAHKTQgLP3z\n",
       "588Pa3pJScnbb7+dCEZ1dXVmZuZVV10V3mfJkiVnnHHGG2+8sXXr1nPOOaegoKD5\n",
       "UH/961/Dh48cOfK6667bu3fv448/3qNHj/1+SLiLCnF68cUXt23bFt4nJycnnLpz\n",
       "587r1q0L4enbt++dd94Znkb79u3/8Y9/hMacd955Dz30UGFh4Ze//OUNGza89957\n",
       "4TkngpR8unCc8FEmiyBBWwjSlVdemdhz9tlnJ14ELMTmiiuuCBu//OUve/bsOaLJ\n",
       "JZdccscddzQfatKkSeFhOMgxxxxz6623hoQkXp8m+UPCnrCd+Kh/Nxk4cODw4cMT\n",
       "e1auXBlyFZ5G4oyJI0yZMmXAgAEhP4k9zz77bCJIyacL5/rzn/9ssggStIUgJW6G\n",
       "EkFavXp12Fi0aFEiD/fcc8+PfvSjP3zob3/7W/Ohxo8fH8IQNqqqqh544IHLLrus\n",
       "a9eu4Y4n+UN+/vOfN/9InjfffHPz5s3hfUaPHp3YU1paeuKJJ7Z8Gokg3X333eFG\n",
       "LbEn3AM1/z+kVqf79re//dhjj5ksggRtPEh5eXkXXHBBuKfZt2/fDTfc8PDDDzcf\n",
       "6pFHHgk3QCEeEyZM+KDp9f/bt2//4osvJn/IH//4x+7du4c9dXV1oR+PPvrovHnz\n",
       "vv71r7/zzjvhfcIt1HXXXZccpPA+p59+ergNamxsvOWWWxJBSj5dyNKGDRtMFkGC\n",
       "g0y4ZWkO0pNPPtmnT59QgquvvvqjgrR3794777zzhBNOOPnkk6+55pqWL5z82muv\n",
       "denS5YUXXujWrVuoS+fOnfv16xcCk/whsVjspptuOv7440866aTbbrttb5MBAwYk\n",
       "9nznO9954403Wj6NX/3qV4kf79a/f/+OHTuG9wnhTASpvLy85enefffdY4455kB4\n",
       "yT4QJEiF+vr6/f5En759+xYUFIQIvf32263eIflDwu1R4u/XNduzZ8/OnTs//tTh\n",
       "o1odp+Xpwo1Uenq6ASFIcKgrKSm55JJLojp7uPEKt3Qp/llTIEhwgKqqqorq1A0N\n",
       "DVu2bDECBAkABAkAQQIAQQJAkABAkAAQJAAQJAAECQAECQBBAgBBAkCQAECQABAk\n",
       "ABAkAA4t/wdPIBAijfLcWQAAAABJRU5ErkJggg==\" style=\"clip-path:url(#clipPath1);\" height=\"420\" preserveAspectRatio=\"none\"\n",
       "    /></g\n",
       "  ></g\n",
       "></svg\n",
       ">\n"
      ]
     },
     "metadata": {},
     "output_type": "display_data"
    }
   ],
   "source": [
    "step(H)"
   ]
  },
  {
   "cell_type": "code",
   "execution_count": 7,
   "metadata": {
    "slideshow": {
     "slide_type": "fragment"
    }
   },
   "outputs": [
    {
     "name": "stdout",
     "output_type": "stream",
     "text": [
      "ys =\n",
      "    4.0000\n",
      "    4.0000\n",
      "  -11.0000\n",
      "  -11.0000\n",
      "  -14.7500\n",
      "  -14.7500\n",
      "  -15.6875\n",
      "  -15.6875\n",
      "  -15.9219\n",
      "  -15.9219\n",
      "  -15.9805\n",
      "  -15.9805\n",
      "  -15.9951\n",
      "  -15.9951\n",
      "  -15.9988\n",
      "  -15.9988\n",
      "  -15.9997\n",
      "  -15.9997\n",
      "  -15.9999\n",
      "  -15.9999\n",
      "  -16.0000\n"
     ]
    }
   ],
   "source": [
    "ys = step(H)"
   ]
  },
  {
   "cell_type": "code",
   "execution_count": 8,
   "metadata": {
    "slideshow": {
     "slide_type": "fragment"
    }
   },
   "outputs": [
    {
     "data": {
      "image/svg+xml": [
       "<?xml version=\"1.0\"?>\n",
       "<!DOCTYPE svg PUBLIC '-//W3C//DTD SVG 1.0//EN'\n",
       "          'http://www.w3.org/TR/2001/REC-SVG-20010904/DTD/svg10.dtd'>\n",
       "<svg xmlns:xlink=\"http://www.w3.org/1999/xlink\" style=\"fill-opacity:1; color-rendering:auto; color-interpolation:auto; text-rendering:auto; stroke:black; stroke-linecap:square; stroke-miterlimit:10; shape-rendering:auto; stroke-opacity:1; fill:black; stroke-dasharray:none; font-weight:normal; stroke-width:1; font-family:'Dialog'; font-style:normal; stroke-linejoin:miter; font-size:12px; stroke-dashoffset:0; image-rendering:auto;\" width=\"560\" height=\"420\" xmlns=\"http://www.w3.org/2000/svg\"\n",
       "><!--Generated by the Batik Graphics2D SVG Generator--><defs id=\"genericDefs\"\n",
       "  /><g\n",
       "  ><defs id=\"defs1\"\n",
       "    ><clipPath clipPathUnits=\"userSpaceOnUse\" id=\"clipPath1\"\n",
       "      ><path d=\"M0 0 L560 0 L560 420 L0 420 L0 0 Z\"\n",
       "      /></clipPath\n",
       "    ></defs\n",
       "    ><g style=\"fill:white; stroke:white;\"\n",
       "    ><rect x=\"0\" y=\"0\" width=\"560\" style=\"clip-path:url(#clipPath1); stroke:none;\" height=\"420\"\n",
       "    /></g\n",
       "    ><g\n",
       "    ><image x=\"0\" y=\"0\" width=\"560\" xlink:href=\"data:image/png;base64,iVBORw0KGgoAAAANSUhEUgAAAjAAAAGkCAIAAACgjIjwAAAeKklEQVR42u3dDWxV\n",
       "9R3wceZkvsEUC+peUDedgoqZjomOIZqFmC2+zU2nOINv48Fhm0LBQgeUUEAN3RAc\n",
       "z0CQ0bLiWhyKDFSihTUFam2BTgVp8QV0mCmFrlhKb6E+/6c3Nl0vOhS4F8rnk8ac\n",
       "HnrvOe3v8P/2INx2+AQAjgAdfAkAECQAECQABAkABAkAQQIAQQJAkABAkAAQJAAQ\n",
       "JAAECQAECQBBAgBBAkCQAECQABAkABAkAAQJAAQJAEECAEECQJAAQJAAECQAECQA\n",
       "BAkABAkAQQIAQQJAkABAkOAwW7x4cYcOHdLS0g7Js02fPj0820svvfQlzqFF165d\n",
       "s7KyjAYECUFKTJD69u37yCOPpKenJyUlhXdfffVV0wFB4lgM0vz58y+88MIhQ4aE\n",
       "G5Rzzjln7ty5P/jBD0466aSf//znkUhk9uzZ4VcHDRp06qmnnn/++X/961/nzJkT\n",
       "9qxfvz48yQMPPNCjR4/WQXr//fevvfbaE088sXPnznfeeefu3bvDrz722GPf+c53\n",
       "wjPceuutO3fu/Kwo3nfffeHdpUuXxj4k9mljTyz6JGF/eDec/1VXXfXKK69E94SP\n",
       "TE5OPv3008PnmJeX94VOEgQJ4hSkaEuuuOKKSZMmHXfccWF7zJgxP/nJT8LGkiVL\n",
       "Hn744bDRu3fvsKxfcMEFHTt2HDVqVNizZs2a8CQ33HDDV77yldZBiv7qn//854kT\n",
       "J55yyimhdk8//XTYM3jw4EcffTQ8/I477mhzDv3798/Ozs7IyAi16NatW4hB7ENi\n",
       "nzb2xLZu3VpYWBh2Dhgw4Iknnjj77LPDs9XU1EQ/8tJLLw2fV4hQ9+7dv9BJgiBB\n",
       "XIMU3g07wx3Sd7/73bDxzDPPhJ1hrY+u5i+//HLYuWDBgrAdbiA+J0jRjTPOOCPc\n",
       "eYR7kb17995+++1hz/333x+W+6SkpJCENudwwgknhHKEDITt2267LeyPfUjs08ae\n",
       "WE5OzrBhw8LG5s2bw84//vGPYfuFF16IfmRBQUHY2a9fv69+9atf6CRBkCCuQYr+\n",
       "75/zzjvvkksuCRvh3qh1kFatWtXykFtuuaWlBFdeeWWbIIXtF1988cEHHww3KGFP\n",
       "uAW5+eabw0ZqauroTzU2NrY5h7BdW1t7+eWXh3dff/31/T6kzdPGntisWbOGDh0a\n",
       "Nt57772w88knn4yGNvqRbQp64CcJggRHUJDCOl5cXHzNNdeE7czMzOitzJw5c772\n",
       "ta+1CdJdd9319a9/PUTl+eefD3tSUlKmTZsWNkaOHBka9qMf/WjgwIGx5xB9d9y4\n",
       "ceHdZcuWxT4k9mljT6yioiLcBoWN3/zmN2HnZZdddvLJJ3/wwQexQfpCJwmCBIfX\n",
       "c889F5bgESNGPP744y13POeff37rIIXkRFfzPn36hP8ef/zxoUYffvhh6FZ4Nykp\n",
       "KdzTRIPU8iRhlf/e974X/WvcYaOysjISiQwaNOi4444LH3nppZe+8847secQfTc3\n",
       "Nze8+4c//CH2IbFPG3ti0ScJzxb907+uXbs+/fTTYU/rIN14443hOb/QSYIgwRGh\n",
       "ZTWvrq6O/m20YN++fVu2bNm7d+9+H9LU1LStWdho2Rkeu3379i906DYPafO0+z2x\n",
       "qIaGhvfff7/10Q/fSYIgQZw88sgj4b6hpKTEiYEgASBIACBIACBIAAgSABxrQYpE\n",
       "IllZWVVVVUYOIEiJlJeXl5KSsmnTJiMHEKSEWb9+/axZs2bOnClIAIKUMDU1NRMn\n",
       "Tqyrq9tvkH7w4PSDebsgec5ggKOEICVYuDfKyclZtWrV5MmTFy1atGvXrta/epAT\n",
       "uvupDQfz8MReH47u03d0RxekuFq3bt3KZllZWQUFBbW1tYLk6ILk6I4uSAm+Vaqs\n",
       "rDy0ExIkR/fpO7qjC9IRMaGDDBKAIAmSIAGWO0ESJABBEiRBAix3giRIAIIkSIIE\n",
       "WO4ESZAABEmQBAlAkAQJQJAESZAABEmQAARJkAQJQJAECUCQBEmQAARJkAAESZAE\n",
       "CUCQTEiQAEESJEECECQTEiRAkARJkAAEyYQECRAkQRIkAEEyIUECBEmQBAlAkExI\n",
       "kADLnSAdMpFIJCcnJz09PSsrq7KyUpAAQRKkxFi5cmV2dnZjY2NJScmYMWMECRAk\n",
       "QUqM5cuXV1RUhI2amprk5GRBAgRJkBKptrZ22rRpBQUFsRNqIUhAu+zQwaxygnSI\n",
       "FRcXjx07tqio6JB/yyBIgDskQTpQa9asyc7OrqurOxwTEiRAkATpQE2dOnXYsGEZ\n",
       "zSZNmiRIgCAJUjuckCABgiRIggQgSCYkSIAgCZIgAQiSCQkSIEiCJEgAgmRCggQI\n",
       "kiAJEoAgmZAgAZY7QRIkAEEyIUECLHeCJEgAgmRCggRY7gRJkAAEyYQECbDcCZIg\n",
       "AQiSIAkSYLkTJEECECRBEiTAcidIggQgSIIkSIDlTpAECUCQBEmQAEESJEECECRB\n",
       "EiQAQRIkAEESpFaampry8vLS09PHjx+/ceNGQQIESZASY+3atZmZmfX19eXl5aNH\n",
       "jxYkQJAEKTHy8/OXLVsW3U5LS6uurm79q507dx78qXPPPbdl/wFunztx1cG8XTNj\n",
       "7YEfK3b7II8e3r7ccQ/J5x49eqI+9w63/uHo/dwPyejD91Lh7dz/83+jG19o++CP\n",
       "7i2eb51Tn2t5E6QEmzt3bnFxcXR7/PjxW7duPXK+ZYgGKVEPbx2kL3PpDH85gUdP\n",
       "7JfuIO+Mx7/wdvjqHcybW3PcIR2V5s+fX1hYGN3OyMjYtm2bIAlSYoMEgnSMBinU\n",
       "aPr06WEjpCglJSUSiQiSIAkSgiRICdDQ0DBlypT09PTU1NSWP7sTpGM8SIfwf7+B\n",
       "IAlSe5iQICXqcwfLnSCZkCAJEgiSIAmSIIHlTpBMSJAECQRJkARJkABBMiFBEiSw\n",
       "3AmSIAkSIEgmJEiCBJY7QRIkQQIEyYQESZDAcidIgnQ0BSmc/EG+WV9AkExIkA5B\n",
       "kABBEiRBEiSw3AmSCQkSIEiCJEiCBJY7QTIhQQIESZAESZAAQTIhQQIsd4IkSIIE\n",
       "CJIJCRJguRMkQRIkQJBMSJAAy50gCZIgAYJkQoIEWO4ESZAECRCko0EkEsnJyUlP\n",
       "T8/KyqqsrBQkQQJBEqTEWLlyZXZ2dmNjY0lJyZgxYwRJkECQBCkxli9fXlFRETZq\n",
       "amqSk5NjJ9RCkAQJ2mWHErjKCdInDQ0NHzeLRCLRPbW1tdOmTSsoKHCHJEjgDkmQ\n",
       "4qewsHBKs7KysvBucXHx2LFji4qKjrQJCRIgSO08SK2tWbMmOzu7rq7uCJyQIAGC\n",
       "dAwFaerUqcOGDctoNmnSJEESJBAkQTIhQQIESZAESZDAcidIJiRIgCAJkiAJEiBI\n",
       "JiRIgOVOkARJkABBMiFBAix3giRIggQIkgkJEmC5EyRBEiRAkExIkADLnSAJkiAB\n",
       "gmRCggRY7gRJkAQJECQTEiRBAsudIAmSIAGCZEKCJEhguRMkQRIkQJBMSJAECSx3\n",
       "giRIggQIkgkJkiCB5U6QBEmQAEEyIUESJLDcCZIgCRIgSCZ0bAXp7qc2HMybIIHl\n",
       "TpC+jEgkkpWVVVVVJUiAIAlSIuXl5aWkpGzatEmQAEESpIRZv379rFmzZs6cKUiA\n",
       "IAlSXDU0NHzcLBKJ1NTUTJw4sa6u7rOC1EKQgHbZoQSucoL0SWFh4ZRmZWVl4d4o\n",
       "Jydn1apVkydPXrRo0a5du9whAe6QBCkB1q1bt7JZVlZWQUFBbW2tIAGCJEiJFG6V\n",
       "Kisrj6gJCRIgSMdikI7ACQkSIEiCJEiA5U6QTEiQAEESJEECLHeCZEKCBAjS0R+k\n",
       "BQsW3HTTTU8++eT06dP/85//CJIgAYKUAL///e8vvPDC66+/PjMzMy0trXfv3oIk\n",
       "SIAgJcDll19eXl6enZ0dghTePe+88/71r38JkiABghRvffv2XbFiRTRIu3bt6tq1\n",
       "a3V1tSAJEiBI8fbcc89169atd+/eV155Za9eve666672MSFBAgTpKAvSJ80/QmLs\n",
       "2LEpKSkLFy5samoSJEECBMmEBAmw3B17QerZs+cZ+3Oo/ua3IAGCJEgH5K233tq0\n",
       "aVNqamq/fv2Ki4tff/31ESNGXHbZZfv27RMkQQIEKd4uvvjikKKWdy+44IKtW7cK\n",
       "kiABghRvV1555ZIlS6Lb1dXVXbp0+eijjwRJkABBirfc3NxOnToNGjQoOTn5nHPO\n",
       "GThwYPuYkCABgnSUBSlYvXr16NGjhw0blp+ff6j+B5IgAYIkSF/MzJkzR/63+vp6\n",
       "QRIkQJDibfbs2RnNRowY8f3vf79v374NDQ2CJEiAICVSuDc6++yz6+rqBEmQAEFK\n",
       "pMbGxrPOOquyslKQBAkQpHh78MEH+34q1Oiiiy4KWRIkQQIEKd7mzZu3cOHCvzdb\n",
       "sWLFyy+/LEiCBAhSXNXU1Lz99tt9+vRZvHjx282qqqq6dOnitewECRCkuHr88cdD\n",
       "fo4//vjOnTt3+VS/fv2+0E+gKCoqyszMnDRpUkVFhSABgiRIX94tt9wS25IDtGXL\n",
       "lvT09B07dlRWVo4bN06QAEESpMR49tlnly5dGmr05ptvxr4CniABgiRIB+Taa68N\n",
       "Obn33nt7/bfa2trPeVRDQ8PHzSKRyJw5c0aNGpWfnz9z5sxHH320zcsODW5FkIB2\n",
       "2aEErnLtKkhr1qz58MMPKyoqiv7b5/8tu8LCwinNysrK5s6du3Dhwuj+MWPGtPm5\n",
       "Fe6QAHdIgnRArr766l778/l3SK2tWLEi3BuFjbq6urS0tO3btwsSIEiC9IWVlJRE\n",
       "b4lWrlyZm5s7a9as559//n/eIbUWPnLGjBmZmZnp6ekvvPDCETUhQQIE6agJUtTm\n",
       "zZt79ux5yimndOvWrVOnTjk5Oe1jQoIECNJRFqSbbropOTk5+grfL774YufOnf34\n",
       "CUECBCkBevToUVVV1fLuxRdfvHHjRkESJECQ4u2ee+7JysqKbpeWlnbv3t3PQxIk\n",
       "QJAS4Ne//nWHDh3OPvvsXr16HXfccWecccYPmq1fv16QAAQpfsrLy1/an5qaGkEC\n",
       "ECQTEiTAcneMBamwsLB///6XtXLg/zBWkAAE6ZDp3bv3Qw899PLLLxd+yg/oEyRA\n",
       "kBIg3BKtW7eu/U1IkABBOsqCNG/evB//+Mf5+fnLPuUOSZAAQUrM17FLly59+vS5\n",
       "6lO7du0SJEECBCneevbs+c9//rP9TUiQAEE6yoJ077335ubmCpIgAYKUYA8++GCH\n",
       "Dh169+7d91P+yE6QAEFKgDVr1vy9lRkzZuzevVuQBAkQpMQId0WzZ8/u06dPuFs6\n",
       "+BcNEiRAkATpy9wh3XfffZ06dUpKSho3blxlZWX7mJAgAYJ01ARpxowZl1xySZcu\n",
       "XcKXMiMj4/rrr29PExIkQJCOmiB169btoosuevXVV8P24sWLb7jhBkESJECQEuD1\n",
       "119PTU1NSkq69NJLf/nLXwqSIAGClEgNDQ35+fkDBgzo2LHjz372s7C9b98+QRIk\n",
       "QJAS5p133hk3blz37t39LTtBAgQp8Q7V7ZEgAYIkSCYkSIAgCZIgAZY7QYq/ffv2\n",
       "5ebmPvTQQ5mZmW+88YYgAYIkSImxfv36CRMmRCKR1atXjx07VpAAQRKkxNiwYcPD\n",
       "Dz/c2NhYXl6elZUVO6EWggS0yw4lcJUTpP//75Y+bhZujOrq6saNGzdixIghQ4YU\n",
       "Fha6QwLcIQlS/ITwTGlWVla2ePHinJycpqam7du3p6am1tbWChIgSIKUAPn5+dGf\n",
       "Nrt79+7hw4dXV1cLEiBIgpQAO3bsmDBhQkZGxsiRI5csWXJETUiQAEE6hoJ0JE9I\n",
       "kABBEiRBAix3gmRCggQIkiAJEmC5EyQTEiRAkARJkADLnSCZkCABgiRIggQgSCYk\n",
       "SIDlTpAECUCQTEiQAMudIAkSgCCZkCABljtBEiQAQTIhQQIsd4IkSACCZEKCBFju\n",
       "BEmQBAkQJBMSJMByJ0iCJEiAIJmQIAGWO0ESJEECBMmEBAmw3AmSIAkSIEgmJEiA\n",
       "5U6QDkppaemCBQvCRlNTU15eXnp6+vjx4zdu3ChIgCAJUpzs3Llz9uzZQ4cOnTdv\n",
       "Xnh37dq1mZmZ9fX15eXlo0ePFiRAkAQpTkJ7KioqCgoKokHKz89ftmxZ9JfS0tKq\n",
       "q6sFCRAkQTpcGhoaPm4WiUSie0pLS6NBmjt3bnFxcXTn+PHjt27dGjuhFoIEtMsO\n",
       "JXCVO+aCVFhYOKVZWVlZmyDNnz8//Gp0Z0ZGxrZt29whAe6QBCl+WoIUajR9+vSw\n",
       "EVKUkpLScgslSIAgCVJcg9TQ0BDunNLT01NTU1v+7E6QAEESJBMSJECQBEmQAMud\n",
       "IJmQIAGCJEiCBCBIJiRIgOVOkAQJQJBMSJAAy50gCRKAIJmQIAGWO0ESJABBMiFB\n",
       "Aix3giRIAIJkQoIEWO4ESZAECRAkExIkwHInSIIkSIAgmZAgAZY7QRIkQQIEyYQE\n",
       "CbDcCZIgCRIgSCYkSIDlTpAESZAAQTIhQQIsd4IkSIIECJIJCRJguROkQ6e0tHTB\n",
       "ggVhIxKJ5OTkpKenZ2VlVVZWChIgSIIUJzt37pw9e/bQoUPnzZsX3l25cmV2dnZj\n",
       "Y2NJScmYMWMECRAkQYqT+vr6ioqKgoKCaJCWL18e3g0bNTU1ycnJggQIkiAdRg0N\n",
       "DR83i0Qi0T2lpaXRIEXV1tZOmzYtVGq/E2ohSEC77FACV7ljLkiFhYVTmpWVlcUG\n",
       "qbi4eOzYsUVFRUfgtwyCBLhDaldBitUSpDVr1mRnZ9fV1R2ZExIkQJCOlSBNnTp1\n",
       "2LBhGc0mTZokSIAgCZIJCRIgSIIkSIAgCZIJCRJguRMkQQIQJBMSJMByJ0iCBCBI\n",
       "JiRIgOVOkAQJQJBMSJAAy50gCRKAIJmQIAGWO0ESJL/HAEEyIUECLHeCJEiCBAiS\n",
       "CQkSYLkTJEESJECQTEiQAMudIAmSIAGCZEKCBFjuBEmQBAkQJBMSJMByJ0iCJEiA\n",
       "IJmQIAGWO0ESJEECBMmEBAmw3AmSIAkSIEjt8uteWlq6YMGClncjkUhWVlZVVZUg\n",
       "AYIkSHGyc+fO2bNnDx06dN68eS078/LyUlJSNm3aJEiAIAlSnNTX11dUVBQUFLQE\n",
       "af369bNmzZo5c+ZnBamFIAHtskMJXOWOuSA1NDR83CwSiUT3lJaWRoNUU1MzceLE\n",
       "urq6zwmSOyTAHZIgHRqFhYVTmpWVlbUJUrg3ysnJWbVq1eTJkxctWrRr1y5BAgRJ\n",
       "kOKnJUjr1q1b2SwrK6ugoKC2tlaQAEESpAQEqUW4VaqsrDzSJiRIgCC18yAdLRMS\n",
       "JECQBEmQAMudIJmQIAGCJEiCBFjuBMmEBAkQJEESJMByJ0gmJEiAIAmSIAEIkgkJ\n",
       "EmC5EyRBAhAkExIkwHInSEfVhM6duOrupzZ86TdBAgTJhAAsd4IkSACCZEIAljtB\n",
       "EiQAQTIhAMudIAkSgCCZEIDlTpBMCECQTAjAcidIJgQgSCYEYLkTJBMCECQTcnRH\n",
       "9+k7uqML0mFQWlq6YMGC6HZRUVFmZuakSZMqKipcH44uSI7u6IIUJzt37pw9e/bQ\n",
       "oUPnzZsX3t2yZUt6evqOHTsqKyvHjRvn+nB0QXJ0RxekOKmvrw93QgUFBdEgPfvs\n",
       "s0uXLg01evPNNz/66KP9TgjgGCFIh11DQ8PHzSKRSMsf2UWDNGfOnFGjRuXn58+c\n",
       "OfPRRx/dt2/fJwAI0mFSWFg4pVlZWVmbIM2dO3fhwoXRnWPGjNm6dauRAwhS/LQE\n",
       "acWKFeHeKGzU1dWlpaVt377dyAEEKQFBamxsnDFjRmZmZnp6+gsvvGDeAIIEAIIE\n",
       "gCABgCB9pqampry8vPT09PHjx2/cuDHOR49EIjk5OeHoWVlZlZWVCfkKhHMIR6+q\n",
       "qkrI0T//5TMOq3379uXm5j700EPhBN544414Hrr1C4jE/wpsffT4X4Gtj56QK7DN\n",
       "CcT5Cmx99HhegbGDTuzSJ0j7t3bt2nA11NfXl5eXjx49Os5HX7lyZXZ2dmNjY0lJ\n",
       "yZgxYxLyFQgXZUpKyqZNm+J/6P/58hmH1fr16ydMmBB+o65evXrs2LHxOWibFxCJ\n",
       "8xUYe/R4XoGxR4/zFRh7AvG8AmOPHs8rMHbQiV36BGn/8vPzly1bFt1OS0urrq6O\n",
       "59GXL18e/b6spqYmOTk5/p9++C0xa9asmTNnJiRI//PlMw6rDRs2PPzww+G3aPgN\n",
       "Gb5tjM9B27yASJyvwNijx/MKjD16nK/A2BOI5xUYe/R4XoGxg07s0idI+zd37tzi\n",
       "4uLodrh1Tcg/mK2trZ02bVq4UuN83HBpTpw4sa6uLlFBSuzLZ4RPPHxTPGLEiCFD\n",
       "hhQWFsbz0C3/GiEhV2Dro8f/Cmx99IRcga1PIP5XYOujx/8KbD3oI2HpE6S25s+f\n",
       "33IpZGRkbNu2Lc4nEK6JcLdeVFQU/889fGeak5OzatWqyZMnL1q0aNeuXfH/biCB\n",
       "L5+xePHi8Ok3NTVt3749NTU1/F5NSJDifwW2CVKcr8DWR0/IFdjmu4E4X4Gtjx7n\n",
       "K7DNoBO+9AnSfoSRTJ8+PWyEeaSkpLS8CF58rFmzJjs7O3yjlJDPfd26dSubZWVl\n",
       "hW+a4rkiRyX25TPC98W5ublhY/fu3cOHD4/nH1m0XpXifwW2Pnr8r8DWR0/IFdj6\n",
       "BOJ/BbY+ejyvwNhBJ3bpE6T9a2homDJlSnp6evgOpeUGNm6mTp06bNiwjGaTJk1K\n",
       "1BchfKOakL/jl9iXz9ixY8eECRPCV37kyJFLliyJ56Fbr0rxvwJbHz3+V2DsHxjG\n",
       "+QpsfQLxvwJbHz2eV2DsoBO79AnS5wnfOOzdu/cTEmHPnj0JfPH1MPqwKrkCXYHH\n",
       "5hV4xF54/mEsAIIEAIIEgCDBMSGBL82yZ8+et956ywgQJDia1NXVdYgxfPjwfv36\n",
       "HczTrl279iCf4QC98sorPXr0aLMzEolccMEF7733nvkiSHA0aWo2ffr0/v37R7e3\n",
       "b99eXl5+MM953XXXPfvss/EJUmhP7P5HHnlkyJAhhosgwdHn8ccfv+aaa6LbL730\n",
       "0q9+9avFixffeuut4UanU6dOgwYNGjVqVJcuXb75zW8+//zz0Q+bMmXKt771rbPO\n",
       "Out3v/td66eqrKwMOzdv3tynT58TTzzx29/+dl5e3mc9ZMKECeE5wyFuv/323bt3\n",
       "R1vSvXv30047LZzDjh07wmkMHDgwxPKEE04IJxP2hGSGh5955pnhY2655ZZokN56\n",
       "663WhwtNPfnkk/fs2WOyCBIcxUEKDQhL//z588OaXlJS8sEHH0SDUV1dnZGRcf31\n",
       "14ePWbp06fnnn//uu+9u3br1oosuys/Pb3mqv/3tb+HhI0eOvPnmm/fu3fvMM8/0\n",
       "6tVrvw8Jd1EhTq+99tq2bdvCx2RnZ4dDJyUlrVu3LoRnwIAB99xzTziNjh07/uMf\n",
       "/wiNueSSS5544omCgoJvfOMbGzZs+Oijj8I5R4MUe7jwPOFRJosgQXsI0nXXXRfd\n",
       "06NHj+iLgIXYXHvttWHjgQce6N2794hmV1111V133dXyVBMnTgzvhic56aST7rjj\n",
       "jpCQ6OvTxD4k7Anb0Uf9p9mQIUOGDx8e3VNUVBRyFU4jesToM0yePHnw4MEhP9E9\n",
       "L774YjRIsYcLx/rLX/5isggStIcgRW+GokFavXp12Fi0aFE0D/fff/9Pf/rTP37q\n",
       "73//e8tTjRs3LoQhbFRVVT322GNXX311t27dwh1P7EPuvvvulh/J8957723evDl8\n",
       "zKhRo6J7SktLTz/99NanEQ3SfffdF27UonvCPVDL/0Nqc7gf/vCHTz/9tMkiSNDO\n",
       "g5Sbm3vZZZeFe5p9+/b94he/mDNnTstTPfnkk+EGKMRj/PjxnzS//n/Hjh1fe+21\n",
       "2If86U9/6tmzZ9hTV1cX+vHUU0/Nmzfv3HPP/fe//x0+JtxC3XzzzbFBCh9z3nnn\n",
       "hdugpqam22+/PRqk2MOFLG3YsMFkESQ4yoRblpYgPffcc/379w8luOGGGz4rSHv3\n",
       "7r3nnntOO+20M88888Ybb2z9wslvv/12165dX3311e7du4e6JCUlDRw4MAQm9iEN\n",
       "DQ233XbbqaeeesYZZ9x55517mw0ePDi654orrnj33Xdbn8Zvf/vb6I93GzRoUOfO\n",
       "ncPHhHBGg1ReXt76cB9++OFJJ510JLxkHwgSxEN9ff1+f6LPgAED8vPzQ4Q++OCD\n",
       "Nh8Q+5BwexT9+3Ut9uzZs3Pnzs8/dHhUm+dpfbhwI5WWlmZACBIc60pKSq666qpE\n",
       "HT3ceIVbujj/rCkQJDhCVVVVJerQjY2NW7ZsMQIECQAECQBBAgBBAkCQAECQABAk\n",
       "ABAkAAQJAAQJAEECAEECQJAAQJAAECQAECQAji3/D+3QArcOstpHAAAAAElFTkSu\n",
       "QmCC\" style=\"clip-path:url(#clipPath1);\" height=\"420\" preserveAspectRatio=\"none\"\n",
       "    /></g\n",
       "  ></g\n",
       "></svg\n",
       ">\n"
      ]
     },
     "metadata": {},
     "output_type": "display_data"
    }
   ],
   "source": [
    "impulse(H)"
   ]
  },
  {
   "cell_type": "code",
   "execution_count": 9,
   "metadata": {
    "slideshow": {
     "slide_type": "fragment"
    }
   },
   "outputs": [
    {
     "name": "stdout",
     "output_type": "stream",
     "text": [
      "yi =\n",
      "    4.0000\n",
      "         0\n",
      "  -15.0000\n",
      "         0\n",
      "   -3.7500\n",
      "         0\n",
      "   -0.9375\n",
      "         0\n",
      "   -0.2344\n",
      "         0\n",
      "   -0.0586\n",
      "         0\n",
      "   -0.0146\n",
      "         0\n",
      "   -0.0037\n",
      "         0\n",
      "   -0.0009\n",
      "         0\n",
      "   -0.0002\n",
      "         0\n",
      "   -0.0001\n"
     ]
    }
   ],
   "source": [
    "yi = impulse(H)"
   ]
  },
  {
   "cell_type": "code",
   "execution_count": 10,
   "metadata": {
    "slideshow": {
     "slide_type": "fragment"
    }
   },
   "outputs": [
    {
     "data": {
      "image/svg+xml": [
       "<?xml version=\"1.0\"?>\n",
       "<!DOCTYPE svg PUBLIC '-//W3C//DTD SVG 1.0//EN'\n",
       "          'http://www.w3.org/TR/2001/REC-SVG-20010904/DTD/svg10.dtd'>\n",
       "<svg xmlns:xlink=\"http://www.w3.org/1999/xlink\" style=\"fill-opacity:1; color-rendering:auto; color-interpolation:auto; text-rendering:auto; stroke:black; stroke-linecap:square; stroke-miterlimit:10; shape-rendering:auto; stroke-opacity:1; fill:black; stroke-dasharray:none; font-weight:normal; stroke-width:1; font-family:'Dialog'; font-style:normal; stroke-linejoin:miter; font-size:12px; stroke-dashoffset:0; image-rendering:auto;\" width=\"560\" height=\"420\" xmlns=\"http://www.w3.org/2000/svg\"\n",
       "><!--Generated by the Batik Graphics2D SVG Generator--><defs id=\"genericDefs\"\n",
       "  /><g\n",
       "  ><defs id=\"defs1\"\n",
       "    ><clipPath clipPathUnits=\"userSpaceOnUse\" id=\"clipPath1\"\n",
       "      ><path d=\"M0 0 L560 0 L560 420 L0 420 L0 0 Z\"\n",
       "      /></clipPath\n",
       "      ><font horiz-adv-x=\"50.0\" id=\"font1\"\n",
       "      ><font-face ascent=\"95.200005\" descent=\"21.3\" units-per-em=\"100\" style=\"font-style:normal; font-family:Helvetica Neue; font-weight:normal;\"\n",
       "        /><missing-glyph horiz-adv-x=\"50.0\" d=\"M40.9 66.6 L10.2 66.6 L10.2 4.7 L40.9 4.7 ZM46 71.2 L46 0.1 L5.1 0.1 L5.1 71.2 Z\"\n",
       "        /><glyph unicode=\"6\" horiz-adv-x=\"55.6\" d=\"M41.4 52.8 L49.9 52.8 Q49.1 61.6 43.9 66.25 Q38.7 70.9 29.9 70.9 Q22.3 70.9 17.3 67.7 Q12.3 64.5 9.3 59.2 Q6.3 53.9 5.05 47.05 Q3.8 40.2 3.8 32.9 Q3.8 27.3 4.65 21.3 Q5.5 15.3 8.1 10.3 Q10.7 5.3 15.5 2.1 Q20.3 -1.1 28.2 -1.1 Q34.9 -1.1 39.45 1.15 Q44 3.4 46.75 6.85 Q49.5 10.3 50.7 14.5 Q51.9 18.7 51.9 22.6 Q51.9 27.5 50.4 31.7 Q48.9 35.9 46.15 39 Q43.4 42.1 39.35 43.85 Q35.3 45.6 30.2 45.6 Q24.4 45.6 19.95 43.4 Q15.5 41.2 12.5 36.3 L12.3 36.5 Q12.4 40.6 13.1 45.3 Q13.8 50 15.65 54.05 Q17.5 58.1 20.8 60.75 Q24.1 63.4 29.5 63.4 Q34.6 63.4 37.7 60.5 Q40.8 57.6 41.4 52.8 ZM28.6 38.1 Q32.2 38.1 34.9 36.8 Q37.6 35.5 39.4 33.35 Q41.2 31.2 42.05 28.25 Q42.9 25.3 42.9 22 Q42.9 18.9 41.95 16.05 Q41 13.2 39.2 11 Q37.4 8.8 34.75 7.55 Q32.1 6.3 28.6 6.3 Q25.1 6.3 22.35 7.55 Q19.6 8.8 17.75 10.9 Q15.9 13 14.9 15.9 Q13.9 18.8 13.9 22.1 Q13.9 25.4 14.85 28.35 Q15.8 31.3 17.7 33.45 Q19.6 35.6 22.3 36.85 Q25 38.1 28.6 38.1 Z\"\n",
       "        /><glyph unicode=\"1\" horiz-adv-x=\"55.6\" d=\"M35.6 0 L35.6 70.9 L29.1 70.9 Q28.4 66.9 26.5 64.3 Q24.6 61.7 21.85 60.2 Q19.1 58.7 15.7 58.15 Q12.3 57.6 8.7 57.6 L8.7 50.8 L27.1 50.8 L27.1 0 Z\"\n",
       "        /><glyph unicode=\"-\" horiz-adv-x=\"38.9\" d=\"M5 31.8 L5 23.8 L33.9 23.8 L33.9 31.8 Z\"\n",
       "        /><glyph unicode=\"4\" horiz-adv-x=\"55.6\" d=\"M33.9 24.1 L10.1 24.1 L33.7 58.8 L33.9 58.8 ZM41.9 24.1 L41.9 70.9 L35.1 70.9 L2.8 24.8 L2.8 16.6 L33.9 16.6 L33.9 0 L41.9 0 L41.9 16.6 L51.5 16.6 L51.5 24.1 Z\"\n",
       "        /><glyph unicode=\"2\" horiz-adv-x=\"55.6\" d=\"M4.4 45.8 L12.9 45.8 Q12.8 49 13.55 52.15 Q14.3 55.3 16 57.8 Q17.7 60.3 20.35 61.85 Q23 63.4 26.7 63.4 Q29.5 63.4 32 62.5 Q34.5 61.6 36.35 59.9 Q38.2 58.2 39.3 55.85 Q40.4 53.5 40.4 50.6 Q40.4 46.9 39.25 44.1 Q38.1 41.3 35.85 38.9 Q33.6 36.5 30.2 34.15 Q26.8 31.8 22.3 29 Q18.6 26.8 15.2 24.3 Q11.8 21.8 9.1 18.5 Q6.4 15.2 4.65 10.75 Q2.9 6.3 2.4 0 L48.7 0 L48.7 7.5 L12.3 7.5 Q12.9 10.8 14.85 13.35 Q16.8 15.9 19.55 18.1 Q22.3 20.3 25.6 22.25 Q28.9 24.2 32.2 26.2 Q35.5 28.3 38.6 30.6 Q41.7 32.9 44.1 35.75 Q46.5 38.6 47.95 42.2 Q49.4 45.8 49.4 50.5 Q49.4 55.5 47.65 59.3 Q45.9 63.1 42.9 65.65 Q39.9 68.2 35.85 69.55 Q31.8 70.9 27.2 70.9 Q21.6 70.9 17.2 69 Q12.8 67.1 9.85 63.75 Q6.9 60.4 5.5 55.8 Q4.1 51.2 4.4 45.8 Z\"\n",
       "        /><glyph unicode=\"0\" horiz-adv-x=\"55.6\" d=\"M13.2 34.9 Q13.2 37.5 13.25 40.65 Q13.3 43.8 13.75 46.95 Q14.2 50.1 15.05 53.1 Q15.9 56.1 17.55 58.35 Q19.2 60.6 21.7 62 Q24.2 63.4 27.8 63.4 Q31.4 63.4 33.9 62 Q36.4 60.6 38.05 58.35 Q39.7 56.1 40.55 53.1 Q41.4 50.1 41.85 46.95 Q42.3 43.8 42.35 40.65 Q42.4 37.5 42.4 34.9 Q42.4 30.9 42.15 25.95 Q41.9 21 40.55 16.65 Q39.2 12.3 36.2 9.3 Q33.2 6.3 27.8 6.3 Q22.4 6.3 19.4 9.3 Q16.4 12.3 15.05 16.65 Q13.7 21 13.45 25.95 Q13.2 30.9 13.2 34.9 ZM4.2 34.8 Q4.2 30.9 4.4 26.7 Q4.6 22.5 5.4 18.5 Q6.2 14.5 7.7 10.95 Q9.2 7.4 11.8 4.7 Q14.4 2 18.35 0.45 Q22.3 -1.1 27.8 -1.1 Q33.4 -1.1 37.3 0.45 Q41.2 2 43.8 4.7 Q46.4 7.4 47.9 10.95 Q49.4 14.5 50.2 18.5 Q51 22.5 51.2 26.7 Q51.4 30.9 51.4 34.8 Q51.4 38.7 51.2 42.9 Q51 47.1 50.2 51.1 Q49.4 55.1 47.9 58.7 Q46.4 62.3 43.8 65 Q41.2 67.7 37.25 69.3 Q33.3 70.9 27.8 70.9 Q22.3 70.9 18.35 69.3 Q14.4 67.7 11.8 65 Q9.2 62.3 7.7 58.7 Q6.2 55.1 5.4 51.1 Q4.6 47.1 4.4 42.9 Q4.2 38.7 4.2 34.8 Z\"\n",
       "        /><glyph unicode=\"8\" horiz-adv-x=\"55.6\" d=\"M15.5 52.5 Q15.5 55.2 16.5 57.2 Q17.5 59.2 19.15 60.6 Q20.8 62 23.1 62.7 Q25.4 63.4 27.9 63.4 Q33.1 63.4 36.45 60.65 Q39.8 57.9 39.8 52.5 Q39.8 47.1 36.5 44.1 Q33.2 41.1 28.1 41.1 Q25.5 41.1 23.2 41.8 Q20.9 42.5 19.2 43.9 Q17.5 45.3 16.5 47.45 Q15.5 49.6 15.5 52.5 ZM6.5 52.8 Q6.5 48 9.2 43.95 Q11.9 39.9 16.4 38.1 Q10.4 36 7.2 31.35 Q4 26.7 4 20.4 Q4 15 5.85 10.95 Q7.7 6.9 10.95 4.2 Q14.2 1.5 18.6 0.2 Q23 -1.1 28.1 -1.1 Q33 -1.1 37.3 0.3 Q41.6 1.7 44.75 4.45 Q47.9 7.2 49.75 11.2 Q51.6 15.2 51.6 20.4 Q51.6 27 48.5 31.55 Q45.4 36.1 39 38.1 Q43.5 40.1 46.15 44.05 Q48.8 48 48.8 52.8 Q48.8 56.2 47.6 59.45 Q46.4 62.7 43.85 65.25 Q41.3 67.8 37.2 69.35 Q33.1 70.9 27.3 70.9 Q23.2 70.9 19.45 69.7 Q15.7 68.5 12.8 66.2 Q9.9 63.9 8.2 60.55 Q6.5 57.2 6.5 52.8 ZM13 20 Q13 23.1 14.15 25.6 Q15.3 28.1 17.35 29.9 Q19.4 31.7 22.15 32.65 Q24.9 33.6 28 33.6 Q31 33.6 33.65 32.55 Q36.3 31.5 38.3 29.7 Q40.3 27.9 41.45 25.45 Q42.6 23 42.6 20.1 Q42.6 17.1 41.55 14.6 Q40.5 12.1 38.55 10.25 Q36.6 8.4 33.95 7.35 Q31.3 6.3 28.1 6.3 Q21.5 6.3 17.25 9.95 Q13 13.6 13 20 Z\"\n",
       "        /><glyph unicode=\"5\" horiz-adv-x=\"55.6\" d=\"M47 62.2 L47 69.7 L12 69.7 L5.4 32.9 L12.7 32.5 Q15.2 35.5 18.45 37.35 Q21.7 39.2 25.9 39.2 Q29.5 39.2 32.45 38 Q35.4 36.8 37.5 34.65 Q39.6 32.5 40.75 29.55 Q41.9 26.6 41.9 23.1 Q41.9 18.9 40.7 15.75 Q39.5 12.6 37.45 10.5 Q35.4 8.4 32.65 7.35 Q29.9 6.3 26.9 6.3 Q23.7 6.3 21.05 7.25 Q18.4 8.2 16.45 9.95 Q14.5 11.7 13.35 14.05 Q12.2 16.4 12 19.1 L3.5 19.1 Q3.6 14.3 5.4 10.5 Q7.2 6.7 10.3 4.15 Q13.4 1.6 17.45 0.25 Q21.5 -1.1 26.1 -1.1 Q32.3 -1.1 36.95 0.85 Q41.6 2.8 44.7 6.1 Q47.8 9.4 49.35 13.65 Q50.9 17.9 50.9 22.4 Q50.9 28.5 49.1 33.05 Q47.3 37.6 44.2 40.65 Q41.1 43.7 36.9 45.2 Q32.7 46.7 28 46.7 Q24.4 46.7 20.75 45.45 Q17.1 44.2 14.8 41.6 L14.6 41.8 L18.4 62.2 Z\"\n",
       "      /></font\n",
       "    ></defs\n",
       "    ><g style=\"fill:white; stroke:white;\"\n",
       "    ><rect x=\"0\" y=\"0\" width=\"560\" style=\"clip-path:url(#clipPath1); stroke:none;\" height=\"420\"\n",
       "    /></g\n",
       "    ><g style=\"fill:white; text-rendering:optimizeSpeed; color-rendering:optimizeSpeed; image-rendering:optimizeSpeed; shape-rendering:crispEdges; stroke:white; color-interpolation:sRGB;\"\n",
       "    ><rect x=\"0\" width=\"560\" height=\"420\" y=\"0\" style=\"stroke:none;\"\n",
       "      /><path style=\"stroke:none;\" d=\"M73 374 L507 374 L507 31 L73 31 Z\"\n",
       "    /></g\n",
       "    ><g style=\"fill:rgb(38,38,38); text-rendering:geometricPrecision; image-rendering:optimizeQuality; color-rendering:optimizeQuality; stroke-linejoin:round; stroke:rgb(38,38,38); color-interpolation:linearRGB; stroke-width:0.5;\"\n",
       "    ><line y2=\"31\" style=\"fill:none;\" x1=\"73\" x2=\"73\" y1=\"374\"\n",
       "      /><line y2=\"31\" style=\"fill:none;\" x1=\"507\" x2=\"507\" y1=\"374\"\n",
       "      /><line y2=\"374\" style=\"fill:none;\" x1=\"73\" x2=\"77.34\" y1=\"374\"\n",
       "      /><line y2=\"339.7\" style=\"fill:none;\" x1=\"73\" x2=\"77.34\" y1=\"339.7\"\n",
       "      /><line y2=\"305.4\" style=\"fill:none;\" x1=\"73\" x2=\"77.34\" y1=\"305.4\"\n",
       "      /><line y2=\"271.1\" style=\"fill:none;\" x1=\"73\" x2=\"77.34\" y1=\"271.1\"\n",
       "      /><line y2=\"236.8\" style=\"fill:none;\" x1=\"73\" x2=\"77.34\" y1=\"236.8\"\n",
       "      /><line y2=\"202.5\" style=\"fill:none;\" x1=\"73\" x2=\"77.34\" y1=\"202.5\"\n",
       "      /><line y2=\"168.2\" style=\"fill:none;\" x1=\"73\" x2=\"77.34\" y1=\"168.2\"\n",
       "      /><line y2=\"133.9\" style=\"fill:none;\" x1=\"73\" x2=\"77.34\" y1=\"133.9\"\n",
       "      /><line y2=\"99.6\" style=\"fill:none;\" x1=\"73\" x2=\"77.34\" y1=\"99.6\"\n",
       "      /><line y2=\"65.3\" style=\"fill:none;\" x1=\"73\" x2=\"77.34\" y1=\"65.3\"\n",
       "      /><line y2=\"31\" style=\"fill:none;\" x1=\"73\" x2=\"77.34\" y1=\"31\"\n",
       "      /><line y2=\"374\" style=\"fill:none;\" x1=\"507\" x2=\"502.66\" y1=\"374\"\n",
       "      /><line y2=\"339.7\" style=\"fill:none;\" x1=\"507\" x2=\"502.66\" y1=\"339.7\"\n",
       "      /><line y2=\"305.4\" style=\"fill:none;\" x1=\"507\" x2=\"502.66\" y1=\"305.4\"\n",
       "      /><line y2=\"271.1\" style=\"fill:none;\" x1=\"507\" x2=\"502.66\" y1=\"271.1\"\n",
       "      /><line y2=\"236.8\" style=\"fill:none;\" x1=\"507\" x2=\"502.66\" y1=\"236.8\"\n",
       "      /><line y2=\"202.5\" style=\"fill:none;\" x1=\"507\" x2=\"502.66\" y1=\"202.5\"\n",
       "      /><line y2=\"168.2\" style=\"fill:none;\" x1=\"507\" x2=\"502.66\" y1=\"168.2\"\n",
       "      /><line y2=\"133.9\" style=\"fill:none;\" x1=\"507\" x2=\"502.66\" y1=\"133.9\"\n",
       "      /><line y2=\"99.6\" style=\"fill:none;\" x1=\"507\" x2=\"502.66\" y1=\"99.6\"\n",
       "      /><line y2=\"65.3\" style=\"fill:none;\" x1=\"507\" x2=\"502.66\" y1=\"65.3\"\n",
       "      /><line y2=\"31\" style=\"fill:none;\" x1=\"507\" x2=\"502.66\" y1=\"31\"\n",
       "    /></g\n",
       "    ><g transform=\"translate(69,374)\" style=\"font-size:10px; fill:rgb(38,38,38); text-rendering:geometricPrecision; image-rendering:optimizeQuality; color-rendering:optimizeQuality; font-family:'Helvetica Neue'; stroke:rgb(38,38,38); color-interpolation:linearRGB;\"\n",
       "    ><text x=\"-16\" xml:space=\"preserve\" y=\"3.5\" style=\"stroke:none;\"\n",
       "      >-16</text\n",
       "    ></g\n",
       "    ><g transform=\"translate(69,339.7)\" style=\"font-size:10px; fill:rgb(38,38,38); text-rendering:geometricPrecision; image-rendering:optimizeQuality; color-rendering:optimizeQuality; font-family:'Helvetica Neue'; stroke:rgb(38,38,38); color-interpolation:linearRGB;\"\n",
       "    ><text x=\"-16\" xml:space=\"preserve\" y=\"3.5\" style=\"stroke:none;\"\n",
       "      >-14</text\n",
       "    ></g\n",
       "    ><g transform=\"translate(69,305.4)\" style=\"font-size:10px; fill:rgb(38,38,38); text-rendering:geometricPrecision; image-rendering:optimizeQuality; color-rendering:optimizeQuality; font-family:'Helvetica Neue'; stroke:rgb(38,38,38); color-interpolation:linearRGB;\"\n",
       "    ><text x=\"-16\" xml:space=\"preserve\" y=\"3.5\" style=\"stroke:none;\"\n",
       "      >-12</text\n",
       "    ></g\n",
       "    ><g transform=\"translate(69,271.1)\" style=\"font-size:10px; fill:rgb(38,38,38); text-rendering:geometricPrecision; image-rendering:optimizeQuality; color-rendering:optimizeQuality; font-family:'Helvetica Neue'; stroke:rgb(38,38,38); color-interpolation:linearRGB;\"\n",
       "    ><text x=\"-16\" xml:space=\"preserve\" y=\"3.5\" style=\"stroke:none;\"\n",
       "      >-10</text\n",
       "    ></g\n",
       "    ><g transform=\"translate(69,236.8)\" style=\"font-size:10px; fill:rgb(38,38,38); text-rendering:geometricPrecision; image-rendering:optimizeQuality; color-rendering:optimizeQuality; font-family:'Helvetica Neue'; stroke:rgb(38,38,38); color-interpolation:linearRGB;\"\n",
       "    ><text x=\"-10\" xml:space=\"preserve\" y=\"3.5\" style=\"stroke:none;\"\n",
       "      >-8</text\n",
       "    ></g\n",
       "    ><g transform=\"translate(69,202.5)\" style=\"font-size:10px; fill:rgb(38,38,38); text-rendering:geometricPrecision; image-rendering:optimizeQuality; color-rendering:optimizeQuality; font-family:'Helvetica Neue'; stroke:rgb(38,38,38); color-interpolation:linearRGB;\"\n",
       "    ><text x=\"-10\" xml:space=\"preserve\" y=\"3.5\" style=\"stroke:none;\"\n",
       "      >-6</text\n",
       "    ></g\n",
       "    ><g transform=\"translate(69,168.2)\" style=\"font-size:10px; fill:rgb(38,38,38); text-rendering:geometricPrecision; image-rendering:optimizeQuality; color-rendering:optimizeQuality; font-family:'Helvetica Neue'; stroke:rgb(38,38,38); color-interpolation:linearRGB;\"\n",
       "    ><text x=\"-10\" xml:space=\"preserve\" y=\"3.5\" style=\"stroke:none;\"\n",
       "      >-4</text\n",
       "    ></g\n",
       "    ><g transform=\"translate(69,133.9)\" style=\"font-size:10px; fill:rgb(38,38,38); text-rendering:geometricPrecision; image-rendering:optimizeQuality; color-rendering:optimizeQuality; font-family:'Helvetica Neue'; stroke:rgb(38,38,38); color-interpolation:linearRGB;\"\n",
       "    ><text x=\"-10\" xml:space=\"preserve\" y=\"3.5\" style=\"stroke:none;\"\n",
       "      >-2</text\n",
       "    ></g\n",
       "    ><g transform=\"translate(69,99.6)\" style=\"font-size:10px; fill:rgb(38,38,38); text-rendering:geometricPrecision; image-rendering:optimizeQuality; color-rendering:optimizeQuality; font-family:'Helvetica Neue'; stroke:rgb(38,38,38); color-interpolation:linearRGB;\"\n",
       "    ><text x=\"-6\" xml:space=\"preserve\" y=\"3.5\" style=\"stroke:none;\"\n",
       "      >0</text\n",
       "    ></g\n",
       "    ><g transform=\"translate(69,65.3)\" style=\"font-size:10px; fill:rgb(38,38,38); text-rendering:geometricPrecision; image-rendering:optimizeQuality; color-rendering:optimizeQuality; font-family:'Helvetica Neue'; stroke:rgb(38,38,38); color-interpolation:linearRGB;\"\n",
       "    ><text x=\"-6\" xml:space=\"preserve\" y=\"3.5\" style=\"stroke:none;\"\n",
       "      >2</text\n",
       "    ></g\n",
       "    ><g transform=\"translate(69,31)\" style=\"font-size:10px; fill:rgb(38,38,38); text-rendering:geometricPrecision; image-rendering:optimizeQuality; color-rendering:optimizeQuality; font-family:'Helvetica Neue'; stroke:rgb(38,38,38); color-interpolation:linearRGB;\"\n",
       "    ><text x=\"-6\" xml:space=\"preserve\" y=\"3.5\" style=\"stroke:none;\"\n",
       "      >4</text\n",
       "    ></g\n",
       "    ><g style=\"stroke-linecap:butt; fill:rgb(38,38,38); text-rendering:geometricPrecision; image-rendering:optimizeQuality; color-rendering:optimizeQuality; stroke-linejoin:round; stroke:rgb(38,38,38); color-interpolation:linearRGB; stroke-width:0.5;\"\n",
       "    ><line y2=\"99.6\" style=\"fill:none;\" x1=\"73\" x2=\"507\" y1=\"99.6\"\n",
       "      /><path d=\"M0 -2.75 C1.5188 -2.75 2.75 -1.5188 2.75 0 L2.75 0 C2.75 1.5188 1.5188 2.75 -0 2.75 C-1.5188 2.75 -2.75 1.5188 -2.75 -0 C-2.75 -1.5188 -1.5188 -2.75 0 -2.75 ZM0 -3.25 C-1.7949 -3.25 -3.25 -1.7949 -3.25 -0 C-3.25 1.7949 -1.7949 3.25 -0 3.25 C1.7949 3.25 3.25 1.7949 3.25 0 L3.25 0 C3.25 -1.7949 1.7949 -3.25 0 -3.25 Z\" style=\"fill:rgb(0,114,189); stroke:none;\" transform=\"translate(90.36,31)\"\n",
       "      /><path d=\"M0 -2.75 C1.5188 -2.75 2.75 -1.5188 2.75 0 L2.75 0 C2.75 1.5188 1.5188 2.75 -0 2.75 C-1.5188 2.75 -2.75 1.5188 -2.75 -0 C-2.75 -1.5188 -1.5188 -2.75 0 -2.75 ZM0 -3.25 C-1.7949 -3.25 -3.25 -1.7949 -3.25 -0 C-3.25 1.7949 -1.7949 3.25 -0 3.25 C1.7949 3.25 3.25 1.7949 3.25 0 L3.25 0 C3.25 -1.7949 1.7949 -3.25 0 -3.25 Z\" style=\"fill:rgb(0,114,189); stroke:none;\" transform=\"translate(107.72,99.6)\"\n",
       "      /><path d=\"M0 -2.75 C1.5188 -2.75 2.75 -1.5188 2.75 0 L2.75 0 C2.75 1.5188 1.5188 2.75 -0 2.75 C-1.5188 2.75 -2.75 1.5188 -2.75 -0 C-2.75 -1.5188 -1.5188 -2.75 0 -2.75 ZM0 -3.25 C-1.7949 -3.25 -3.25 -1.7949 -3.25 -0 C-3.25 1.7949 -1.7949 3.25 -0 3.25 C1.7949 3.25 3.25 1.7949 3.25 0 L3.25 0 C3.25 -1.7949 1.7949 -3.25 0 -3.25 Z\" style=\"fill:rgb(0,114,189); stroke:none;\" transform=\"translate(125.08,356.85)\"\n",
       "      /><path d=\"M0 -2.75 C1.5188 -2.75 2.75 -1.5188 2.75 0 L2.75 0 C2.75 1.5188 1.5188 2.75 -0 2.75 C-1.5188 2.75 -2.75 1.5188 -2.75 -0 C-2.75 -1.5188 -1.5188 -2.75 0 -2.75 ZM0 -3.25 C-1.7949 -3.25 -3.25 -1.7949 -3.25 -0 C-3.25 1.7949 -1.7949 3.25 -0 3.25 C1.7949 3.25 3.25 1.7949 3.25 0 L3.25 0 C3.25 -1.7949 1.7949 -3.25 0 -3.25 Z\" style=\"fill:rgb(0,114,189); stroke:none;\" transform=\"translate(142.44,99.6)\"\n",
       "      /><path d=\"M0 -2.75 C1.5188 -2.75 2.75 -1.5188 2.75 0 L2.75 0 C2.75 1.5188 1.5188 2.75 -0 2.75 C-1.5188 2.75 -2.75 1.5188 -2.75 -0 C-2.75 -1.5188 -1.5188 -2.75 0 -2.75 ZM0 -3.25 C-1.7949 -3.25 -3.25 -1.7949 -3.25 -0 C-3.25 1.7949 -1.7949 3.25 -0 3.25 C1.7949 3.25 3.25 1.7949 3.25 0 L3.25 0 C3.25 -1.7949 1.7949 -3.25 0 -3.25 Z\" style=\"fill:rgb(0,114,189); stroke:none;\" transform=\"translate(159.8,163.9125)\"\n",
       "      /><path d=\"M0 -2.75 C1.5188 -2.75 2.75 -1.5188 2.75 0 L2.75 0 C2.75 1.5188 1.5188 2.75 -0 2.75 C-1.5188 2.75 -2.75 1.5188 -2.75 -0 C-2.75 -1.5188 -1.5188 -2.75 0 -2.75 ZM0 -3.25 C-1.7949 -3.25 -3.25 -1.7949 -3.25 -0 C-3.25 1.7949 -1.7949 3.25 -0 3.25 C1.7949 3.25 3.25 1.7949 3.25 0 L3.25 0 C3.25 -1.7949 1.7949 -3.25 0 -3.25 Z\" style=\"fill:rgb(0,114,189); stroke:none;\" transform=\"translate(177.16,99.6)\"\n",
       "      /><path d=\"M0 -2.75 C1.5188 -2.75 2.75 -1.5188 2.75 0 L2.75 0 C2.75 1.5188 1.5188 2.75 -0 2.75 C-1.5188 2.75 -2.75 1.5188 -2.75 -0 C-2.75 -1.5188 -1.5188 -2.75 0 -2.75 ZM0 -3.25 C-1.7949 -3.25 -3.25 -1.7949 -3.25 -0 C-3.25 1.7949 -1.7949 3.25 -0 3.25 C1.7949 3.25 3.25 1.7949 3.25 0 L3.25 0 C3.25 -1.7949 1.7949 -3.25 0 -3.25 Z\" style=\"fill:rgb(0,114,189); stroke:none;\" transform=\"translate(194.52,115.6781)\"\n",
       "      /><path d=\"M0 -2.75 C1.5188 -2.75 2.75 -1.5188 2.75 0 L2.75 0 C2.75 1.5188 1.5188 2.75 -0 2.75 C-1.5188 2.75 -2.75 1.5188 -2.75 -0 C-2.75 -1.5188 -1.5188 -2.75 0 -2.75 ZM0 -3.25 C-1.7949 -3.25 -3.25 -1.7949 -3.25 -0 C-3.25 1.7949 -1.7949 3.25 -0 3.25 C1.7949 3.25 3.25 1.7949 3.25 0 L3.25 0 C3.25 -1.7949 1.7949 -3.25 0 -3.25 Z\" style=\"fill:rgb(0,114,189); stroke:none;\" transform=\"translate(211.88,99.6)\"\n",
       "      /><path d=\"M0 -2.75 C1.5188 -2.75 2.75 -1.5188 2.75 0 L2.75 0 C2.75 1.5188 1.5188 2.75 -0 2.75 C-1.5188 2.75 -2.75 1.5188 -2.75 -0 C-2.75 -1.5188 -1.5188 -2.75 0 -2.75 ZM0 -3.25 C-1.7949 -3.25 -3.25 -1.7949 -3.25 -0 C-3.25 1.7949 -1.7949 3.25 -0 3.25 C1.7949 3.25 3.25 1.7949 3.25 0 L3.25 0 C3.25 -1.7949 1.7949 -3.25 0 -3.25 Z\" style=\"fill:rgb(0,114,189); stroke:none;\" transform=\"translate(229.24,103.6195)\"\n",
       "      /><path d=\"M0 -2.75 C1.5188 -2.75 2.75 -1.5188 2.75 0 L2.75 0 C2.75 1.5188 1.5188 2.75 -0 2.75 C-1.5188 2.75 -2.75 1.5188 -2.75 -0 C-2.75 -1.5188 -1.5188 -2.75 0 -2.75 ZM0 -3.25 C-1.7949 -3.25 -3.25 -1.7949 -3.25 -0 C-3.25 1.7949 -1.7949 3.25 -0 3.25 C1.7949 3.25 3.25 1.7949 3.25 0 L3.25 0 C3.25 -1.7949 1.7949 -3.25 0 -3.25 Z\" style=\"fill:rgb(0,114,189); stroke:none;\" transform=\"translate(246.6,99.6)\"\n",
       "      /><path d=\"M0 -2.75 C1.5188 -2.75 2.75 -1.5188 2.75 0 L2.75 0 C2.75 1.5188 1.5188 2.75 -0 2.75 C-1.5188 2.75 -2.75 1.5188 -2.75 -0 C-2.75 -1.5188 -1.5188 -2.75 0 -2.75 ZM0 -3.25 C-1.7949 -3.25 -3.25 -1.7949 -3.25 -0 C-3.25 1.7949 -1.7949 3.25 -0 3.25 C1.7949 3.25 3.25 1.7949 3.25 0 L3.25 0 C3.25 -1.7949 1.7949 -3.25 0 -3.25 Z\" style=\"fill:rgb(0,114,189); stroke:none;\" transform=\"translate(263.96,100.6049)\"\n",
       "      /><path d=\"M0 -2.75 C1.5188 -2.75 2.75 -1.5188 2.75 0 L2.75 0 C2.75 1.5188 1.5188 2.75 -0 2.75 C-1.5188 2.75 -2.75 1.5188 -2.75 -0 C-2.75 -1.5188 -1.5188 -2.75 0 -2.75 ZM0 -3.25 C-1.7949 -3.25 -3.25 -1.7949 -3.25 -0 C-3.25 1.7949 -1.7949 3.25 -0 3.25 C1.7949 3.25 3.25 1.7949 3.25 0 L3.25 0 C3.25 -1.7949 1.7949 -3.25 0 -3.25 Z\" style=\"fill:rgb(0,114,189); stroke:none;\" transform=\"translate(281.32,99.6)\"\n",
       "      /><path d=\"M0 -2.75 C1.5188 -2.75 2.75 -1.5188 2.75 0 L2.75 0 C2.75 1.5188 1.5188 2.75 -0 2.75 C-1.5188 2.75 -2.75 1.5188 -2.75 -0 C-2.75 -1.5188 -1.5188 -2.75 0 -2.75 ZM0 -3.25 C-1.7949 -3.25 -3.25 -1.7949 -3.25 -0 C-3.25 1.7949 -1.7949 3.25 -0 3.25 C1.7949 3.25 3.25 1.7949 3.25 0 L3.25 0 C3.25 -1.7949 1.7949 -3.25 0 -3.25 Z\" style=\"fill:rgb(0,114,189); stroke:none;\" transform=\"translate(298.68,99.8512)\"\n",
       "      /><path d=\"M0 -2.75 C1.5188 -2.75 2.75 -1.5188 2.75 0 L2.75 0 C2.75 1.5188 1.5188 2.75 -0 2.75 C-1.5188 2.75 -2.75 1.5188 -2.75 -0 C-2.75 -1.5188 -1.5188 -2.75 0 -2.75 ZM0 -3.25 C-1.7949 -3.25 -3.25 -1.7949 -3.25 -0 C-3.25 1.7949 -1.7949 3.25 -0 3.25 C1.7949 3.25 3.25 1.7949 3.25 0 L3.25 0 C3.25 -1.7949 1.7949 -3.25 0 -3.25 Z\" style=\"fill:rgb(0,114,189); stroke:none;\" transform=\"translate(316.04,99.6)\"\n",
       "      /><path d=\"M0 -2.75 C1.5188 -2.75 2.75 -1.5188 2.75 0 L2.75 0 C2.75 1.5188 1.5188 2.75 -0 2.75 C-1.5188 2.75 -2.75 1.5188 -2.75 -0 C-2.75 -1.5188 -1.5188 -2.75 0 -2.75 ZM0 -3.25 C-1.7949 -3.25 -3.25 -1.7949 -3.25 -0 C-3.25 1.7949 -1.7949 3.25 -0 3.25 C1.7949 3.25 3.25 1.7949 3.25 0 L3.25 0 C3.25 -1.7949 1.7949 -3.25 0 -3.25 Z\" style=\"fill:rgb(0,114,189); stroke:none;\" transform=\"translate(333.4,99.6628)\"\n",
       "      /><path d=\"M0 -2.75 C1.5188 -2.75 2.75 -1.5188 2.75 0 L2.75 0 C2.75 1.5188 1.5188 2.75 -0 2.75 C-1.5188 2.75 -2.75 1.5188 -2.75 -0 C-2.75 -1.5188 -1.5188 -2.75 0 -2.75 ZM0 -3.25 C-1.7949 -3.25 -3.25 -1.7949 -3.25 -0 C-3.25 1.7949 -1.7949 3.25 -0 3.25 C1.7949 3.25 3.25 1.7949 3.25 0 L3.25 0 C3.25 -1.7949 1.7949 -3.25 0 -3.25 Z\" style=\"fill:rgb(0,114,189); stroke:none;\" transform=\"translate(350.76,99.6)\"\n",
       "      /><path d=\"M0 -2.75 C1.5188 -2.75 2.75 -1.5188 2.75 0 L2.75 0 C2.75 1.5188 1.5188 2.75 -0 2.75 C-1.5188 2.75 -2.75 1.5188 -2.75 -0 C-2.75 -1.5188 -1.5188 -2.75 0 -2.75 ZM0 -3.25 C-1.7949 -3.25 -3.25 -1.7949 -3.25 -0 C-3.25 1.7949 -1.7949 3.25 -0 3.25 C1.7949 3.25 3.25 1.7949 3.25 0 L3.25 0 C3.25 -1.7949 1.7949 -3.25 0 -3.25 Z\" style=\"fill:rgb(0,114,189); stroke:none;\" transform=\"translate(368.12,99.6157)\"\n",
       "      /><path d=\"M0 -2.75 C1.5188 -2.75 2.75 -1.5188 2.75 0 L2.75 0 C2.75 1.5188 1.5188 2.75 -0 2.75 C-1.5188 2.75 -2.75 1.5188 -2.75 -0 C-2.75 -1.5188 -1.5188 -2.75 0 -2.75 ZM0 -3.25 C-1.7949 -3.25 -3.25 -1.7949 -3.25 -0 C-3.25 1.7949 -1.7949 3.25 -0 3.25 C1.7949 3.25 3.25 1.7949 3.25 0 L3.25 0 C3.25 -1.7949 1.7949 -3.25 0 -3.25 Z\" style=\"fill:rgb(0,114,189); stroke:none;\" transform=\"translate(385.48,99.6)\"\n",
       "      /><path d=\"M0 -2.75 C1.5188 -2.75 2.75 -1.5188 2.75 0 L2.75 0 C2.75 1.5188 1.5188 2.75 -0 2.75 C-1.5188 2.75 -2.75 1.5188 -2.75 -0 C-2.75 -1.5188 -1.5188 -2.75 0 -2.75 ZM0 -3.25 C-1.7949 -3.25 -3.25 -1.7949 -3.25 -0 C-3.25 1.7949 -1.7949 3.25 -0 3.25 C1.7949 3.25 3.25 1.7949 3.25 0 L3.25 0 C3.25 -1.7949 1.7949 -3.25 0 -3.25 Z\" style=\"fill:rgb(0,114,189); stroke:none;\" transform=\"translate(402.84,99.6039)\"\n",
       "      /><path d=\"M0 -2.75 C1.5188 -2.75 2.75 -1.5188 2.75 0 L2.75 0 C2.75 1.5188 1.5188 2.75 -0 2.75 C-1.5188 2.75 -2.75 1.5188 -2.75 -0 C-2.75 -1.5188 -1.5188 -2.75 0 -2.75 ZM0 -3.25 C-1.7949 -3.25 -3.25 -1.7949 -3.25 -0 C-3.25 1.7949 -1.7949 3.25 -0 3.25 C1.7949 3.25 3.25 1.7949 3.25 0 L3.25 0 C3.25 -1.7949 1.7949 -3.25 0 -3.25 Z\" style=\"fill:rgb(0,114,189); stroke:none;\" transform=\"translate(420.2,99.6)\"\n",
       "      /><path d=\"M0 -2.75 C1.5188 -2.75 2.75 -1.5188 2.75 0 L2.75 0 C2.75 1.5188 1.5188 2.75 -0 2.75 C-1.5188 2.75 -2.75 1.5188 -2.75 -0 C-2.75 -1.5188 -1.5188 -2.75 0 -2.75 ZM0 -3.25 C-1.7949 -3.25 -3.25 -1.7949 -3.25 -0 C-3.25 1.7949 -1.7949 3.25 -0 3.25 C1.7949 3.25 3.25 1.7949 3.25 0 L3.25 0 C3.25 -1.7949 1.7949 -3.25 0 -3.25 Z\" style=\"fill:rgb(0,114,189); stroke:none;\" transform=\"translate(437.56,99.601)\"\n",
       "      /><line x1=\"90.36\" x2=\"90.36\" y1=\"99.6\" style=\"fill:none; stroke:rgb(0,114,189);\" y2=\"31\"\n",
       "      /><line x1=\"107.72\" x2=\"107.72\" y1=\"99.6\" style=\"fill:none; stroke:rgb(0,114,189);\" y2=\"99.6\"\n",
       "      /><line x1=\"125.08\" x2=\"125.08\" y1=\"99.6\" style=\"fill:none; stroke:rgb(0,114,189);\" y2=\"356.85\"\n",
       "      /><line x1=\"142.44\" x2=\"142.44\" y1=\"99.6\" style=\"fill:none; stroke:rgb(0,114,189);\" y2=\"99.6\"\n",
       "      /><line x1=\"159.8\" x2=\"159.8\" y1=\"99.6\" style=\"fill:none; stroke:rgb(0,114,189);\" y2=\"163.9125\"\n",
       "      /><line x1=\"177.16\" x2=\"177.16\" y1=\"99.6\" style=\"fill:none; stroke:rgb(0,114,189);\" y2=\"99.6\"\n",
       "      /><line x1=\"194.52\" x2=\"194.52\" y1=\"99.6\" style=\"fill:none; stroke:rgb(0,114,189);\" y2=\"115.6781\"\n",
       "      /><line x1=\"211.88\" x2=\"211.88\" y1=\"99.6\" style=\"fill:none; stroke:rgb(0,114,189);\" y2=\"99.6\"\n",
       "      /><line x1=\"229.24\" x2=\"229.24\" y1=\"99.6\" style=\"fill:none; stroke:rgb(0,114,189);\" y2=\"103.6195\"\n",
       "      /><line x1=\"246.6\" x2=\"246.6\" y1=\"99.6\" style=\"fill:none; stroke:rgb(0,114,189);\" y2=\"99.6\"\n",
       "      /><line x1=\"263.96\" x2=\"263.96\" y1=\"99.6\" style=\"fill:none; stroke:rgb(0,114,189);\" y2=\"100.6049\"\n",
       "      /><line x1=\"281.32\" x2=\"281.32\" y1=\"99.6\" style=\"fill:none; stroke:rgb(0,114,189);\" y2=\"99.6\"\n",
       "      /><line x1=\"298.68\" x2=\"298.68\" y1=\"99.6\" style=\"fill:none; stroke:rgb(0,114,189);\" y2=\"99.8512\"\n",
       "      /><line x1=\"316.04\" x2=\"316.04\" y1=\"99.6\" style=\"fill:none; stroke:rgb(0,114,189);\" y2=\"99.6\"\n",
       "      /><line x1=\"333.4\" x2=\"333.4\" y1=\"99.6\" style=\"fill:none; stroke:rgb(0,114,189);\" y2=\"99.6628\"\n",
       "      /><line x1=\"350.76\" x2=\"350.76\" y1=\"99.6\" style=\"fill:none; stroke:rgb(0,114,189);\" y2=\"99.6\"\n",
       "      /><line x1=\"368.12\" x2=\"368.12\" y1=\"99.6\" style=\"fill:none; stroke:rgb(0,114,189);\" y2=\"99.6157\"\n",
       "      /><line x1=\"385.48\" x2=\"385.48\" y1=\"99.6\" style=\"fill:none; stroke:rgb(0,114,189);\" y2=\"99.6\"\n",
       "      /><line x1=\"402.84\" x2=\"402.84\" y1=\"99.6\" style=\"fill:none; stroke:rgb(0,114,189);\" y2=\"99.6039\"\n",
       "      /><line x1=\"420.2\" x2=\"420.2\" y1=\"99.6\" style=\"fill:none; stroke:rgb(0,114,189);\" y2=\"99.6\"\n",
       "      /><line x1=\"437.56\" x2=\"437.56\" y1=\"99.6\" style=\"fill:none; stroke:rgb(0,114,189);\" y2=\"99.601\"\n",
       "      /><line x1=\"73\" x2=\"507\" y1=\"374\" style=\"fill:none; stroke-linecap:square;\" y2=\"374\"\n",
       "      /><line x1=\"73\" x2=\"507\" y1=\"31\" style=\"fill:none; stroke-linecap:square;\" y2=\"31\"\n",
       "      /><line x1=\"73\" x2=\"73\" y1=\"374\" style=\"fill:none; stroke-linecap:square;\" y2=\"369.66\"\n",
       "      /><line x1=\"159.8\" x2=\"159.8\" y1=\"374\" style=\"fill:none; stroke-linecap:square;\" y2=\"369.66\"\n",
       "      /><line x1=\"246.6\" x2=\"246.6\" y1=\"374\" style=\"fill:none; stroke-linecap:square;\" y2=\"369.66\"\n",
       "      /><line x1=\"333.4\" x2=\"333.4\" y1=\"374\" style=\"fill:none; stroke-linecap:square;\" y2=\"369.66\"\n",
       "      /><line x1=\"420.2\" x2=\"420.2\" y1=\"374\" style=\"fill:none; stroke-linecap:square;\" y2=\"369.66\"\n",
       "      /><line x1=\"507\" x2=\"507\" y1=\"374\" style=\"fill:none; stroke-linecap:square;\" y2=\"369.66\"\n",
       "      /><line x1=\"73\" x2=\"73\" y1=\"31\" style=\"fill:none; stroke-linecap:square;\" y2=\"35.34\"\n",
       "      /><line x1=\"159.8\" x2=\"159.8\" y1=\"31\" style=\"fill:none; stroke-linecap:square;\" y2=\"35.34\"\n",
       "      /><line x1=\"246.6\" x2=\"246.6\" y1=\"31\" style=\"fill:none; stroke-linecap:square;\" y2=\"35.34\"\n",
       "      /><line x1=\"333.4\" x2=\"333.4\" y1=\"31\" style=\"fill:none; stroke-linecap:square;\" y2=\"35.34\"\n",
       "      /><line x1=\"420.2\" x2=\"420.2\" y1=\"31\" style=\"fill:none; stroke-linecap:square;\" y2=\"35.34\"\n",
       "      /><line x1=\"507\" x2=\"507\" y1=\"31\" style=\"fill:none; stroke-linecap:square;\" y2=\"35.34\"\n",
       "    /></g\n",
       "    ><g transform=\"translate(73,378)\" style=\"font-size:10px; fill:rgb(38,38,38); text-rendering:geometricPrecision; image-rendering:optimizeQuality; color-rendering:optimizeQuality; font-family:'Helvetica Neue'; stroke:rgb(38,38,38); color-interpolation:linearRGB;\"\n",
       "    ><text x=\"-3\" xml:space=\"preserve\" y=\"10\" style=\"stroke:none;\"\n",
       "      >0</text\n",
       "    ></g\n",
       "    ><g transform=\"translate(159.8,378)\" style=\"font-size:10px; fill:rgb(38,38,38); text-rendering:geometricPrecision; image-rendering:optimizeQuality; color-rendering:optimizeQuality; font-family:'Helvetica Neue'; stroke:rgb(38,38,38); color-interpolation:linearRGB;\"\n",
       "    ><text x=\"-3\" xml:space=\"preserve\" y=\"10\" style=\"stroke:none;\"\n",
       "      >5</text\n",
       "    ></g\n",
       "    ><g transform=\"translate(246.6,378)\" style=\"font-size:10px; fill:rgb(38,38,38); text-rendering:geometricPrecision; image-rendering:optimizeQuality; color-rendering:optimizeQuality; font-family:'Helvetica Neue'; stroke:rgb(38,38,38); color-interpolation:linearRGB;\"\n",
       "    ><text x=\"-6\" xml:space=\"preserve\" y=\"10\" style=\"stroke:none;\"\n",
       "      >10</text\n",
       "    ></g\n",
       "    ><g transform=\"translate(333.4,378)\" style=\"font-size:10px; fill:rgb(38,38,38); text-rendering:geometricPrecision; image-rendering:optimizeQuality; color-rendering:optimizeQuality; font-family:'Helvetica Neue'; stroke:rgb(38,38,38); color-interpolation:linearRGB;\"\n",
       "    ><text x=\"-6\" xml:space=\"preserve\" y=\"10\" style=\"stroke:none;\"\n",
       "      >15</text\n",
       "    ></g\n",
       "    ><g transform=\"translate(420.2,378)\" style=\"font-size:10px; fill:rgb(38,38,38); text-rendering:geometricPrecision; image-rendering:optimizeQuality; color-rendering:optimizeQuality; font-family:'Helvetica Neue'; stroke:rgb(38,38,38); color-interpolation:linearRGB;\"\n",
       "    ><text x=\"-6\" xml:space=\"preserve\" y=\"10\" style=\"stroke:none;\"\n",
       "      >20</text\n",
       "    ></g\n",
       "    ><g transform=\"translate(507,378)\" style=\"font-size:10px; fill:rgb(38,38,38); text-rendering:geometricPrecision; image-rendering:optimizeQuality; color-rendering:optimizeQuality; font-family:'Helvetica Neue'; stroke:rgb(38,38,38); color-interpolation:linearRGB;\"\n",
       "    ><text x=\"-6\" xml:space=\"preserve\" y=\"10\" style=\"stroke:none;\"\n",
       "      >25</text\n",
       "    ></g\n",
       "  ></g\n",
       "></svg\n",
       ">\n"
      ]
     },
     "metadata": {},
     "output_type": "display_data"
    }
   ],
   "source": [
    "stem(yi)"
   ]
  },
  {
   "cell_type": "code",
   "execution_count": 11,
   "metadata": {
    "slideshow": {
     "slide_type": "fragment"
    }
   },
   "outputs": [
    {
     "data": {
      "image/svg+xml": [
       "<?xml version=\"1.0\"?>\n",
       "<!DOCTYPE svg PUBLIC '-//W3C//DTD SVG 1.0//EN'\n",
       "          'http://www.w3.org/TR/2001/REC-SVG-20010904/DTD/svg10.dtd'>\n",
       "<svg xmlns:xlink=\"http://www.w3.org/1999/xlink\" style=\"fill-opacity:1; color-rendering:auto; color-interpolation:auto; text-rendering:auto; stroke:black; stroke-linecap:square; stroke-miterlimit:10; shape-rendering:auto; stroke-opacity:1; fill:black; stroke-dasharray:none; font-weight:normal; stroke-width:1; font-family:'Dialog'; font-style:normal; stroke-linejoin:miter; font-size:12px; stroke-dashoffset:0; image-rendering:auto;\" width=\"560\" height=\"420\" xmlns=\"http://www.w3.org/2000/svg\"\n",
       "><!--Generated by the Batik Graphics2D SVG Generator--><defs id=\"genericDefs\"\n",
       "  /><g\n",
       "  ><defs id=\"defs1\"\n",
       "    ><clipPath clipPathUnits=\"userSpaceOnUse\" id=\"clipPath1\"\n",
       "      ><path d=\"M0 0 L560 0 L560 420 L0 420 L0 0 Z\"\n",
       "      /></clipPath\n",
       "      ><font horiz-adv-x=\"50.0\" id=\"font1\"\n",
       "      ><font-face ascent=\"95.200005\" descent=\"21.3\" units-per-em=\"100\" style=\"font-style:normal; font-family:Helvetica Neue; font-weight:normal;\"\n",
       "        /><missing-glyph horiz-adv-x=\"50.0\" d=\"M40.9 66.6 L10.2 66.6 L10.2 4.7 L40.9 4.7 ZM46 71.2 L46 0.1 L5.1 0.1 L5.1 71.2 Z\"\n",
       "        /><glyph unicode=\"6\" horiz-adv-x=\"55.6\" d=\"M41.4 52.8 L49.9 52.8 Q49.1 61.6 43.9 66.25 Q38.7 70.9 29.9 70.9 Q22.3 70.9 17.3 67.7 Q12.3 64.5 9.3 59.2 Q6.3 53.9 5.05 47.05 Q3.8 40.2 3.8 32.9 Q3.8 27.3 4.65 21.3 Q5.5 15.3 8.1 10.3 Q10.7 5.3 15.5 2.1 Q20.3 -1.1 28.2 -1.1 Q34.9 -1.1 39.45 1.15 Q44 3.4 46.75 6.85 Q49.5 10.3 50.7 14.5 Q51.9 18.7 51.9 22.6 Q51.9 27.5 50.4 31.7 Q48.9 35.9 46.15 39 Q43.4 42.1 39.35 43.85 Q35.3 45.6 30.2 45.6 Q24.4 45.6 19.95 43.4 Q15.5 41.2 12.5 36.3 L12.3 36.5 Q12.4 40.6 13.1 45.3 Q13.8 50 15.65 54.05 Q17.5 58.1 20.8 60.75 Q24.1 63.4 29.5 63.4 Q34.6 63.4 37.7 60.5 Q40.8 57.6 41.4 52.8 ZM28.6 38.1 Q32.2 38.1 34.9 36.8 Q37.6 35.5 39.4 33.35 Q41.2 31.2 42.05 28.25 Q42.9 25.3 42.9 22 Q42.9 18.9 41.95 16.05 Q41 13.2 39.2 11 Q37.4 8.8 34.75 7.55 Q32.1 6.3 28.6 6.3 Q25.1 6.3 22.35 7.55 Q19.6 8.8 17.75 10.9 Q15.9 13 14.9 15.9 Q13.9 18.8 13.9 22.1 Q13.9 25.4 14.85 28.35 Q15.8 31.3 17.7 33.45 Q19.6 35.6 22.3 36.85 Q25 38.1 28.6 38.1 Z\"\n",
       "        /><glyph unicode=\"1\" horiz-adv-x=\"55.6\" d=\"M35.6 0 L35.6 70.9 L29.1 70.9 Q28.4 66.9 26.5 64.3 Q24.6 61.7 21.85 60.2 Q19.1 58.7 15.7 58.15 Q12.3 57.6 8.7 57.6 L8.7 50.8 L27.1 50.8 L27.1 0 Z\"\n",
       "        /><glyph unicode=\"-\" horiz-adv-x=\"38.9\" d=\"M5 31.8 L5 23.8 L33.9 23.8 L33.9 31.8 Z\"\n",
       "        /><glyph unicode=\"4\" horiz-adv-x=\"55.6\" d=\"M33.9 24.1 L10.1 24.1 L33.7 58.8 L33.9 58.8 ZM41.9 24.1 L41.9 70.9 L35.1 70.9 L2.8 24.8 L2.8 16.6 L33.9 16.6 L33.9 0 L41.9 0 L41.9 16.6 L51.5 16.6 L51.5 24.1 Z\"\n",
       "        /><glyph unicode=\"2\" horiz-adv-x=\"55.6\" d=\"M4.4 45.8 L12.9 45.8 Q12.8 49 13.55 52.15 Q14.3 55.3 16 57.8 Q17.7 60.3 20.35 61.85 Q23 63.4 26.7 63.4 Q29.5 63.4 32 62.5 Q34.5 61.6 36.35 59.9 Q38.2 58.2 39.3 55.85 Q40.4 53.5 40.4 50.6 Q40.4 46.9 39.25 44.1 Q38.1 41.3 35.85 38.9 Q33.6 36.5 30.2 34.15 Q26.8 31.8 22.3 29 Q18.6 26.8 15.2 24.3 Q11.8 21.8 9.1 18.5 Q6.4 15.2 4.65 10.75 Q2.9 6.3 2.4 0 L48.7 0 L48.7 7.5 L12.3 7.5 Q12.9 10.8 14.85 13.35 Q16.8 15.9 19.55 18.1 Q22.3 20.3 25.6 22.25 Q28.9 24.2 32.2 26.2 Q35.5 28.3 38.6 30.6 Q41.7 32.9 44.1 35.75 Q46.5 38.6 47.95 42.2 Q49.4 45.8 49.4 50.5 Q49.4 55.5 47.65 59.3 Q45.9 63.1 42.9 65.65 Q39.9 68.2 35.85 69.55 Q31.8 70.9 27.2 70.9 Q21.6 70.9 17.2 69 Q12.8 67.1 9.85 63.75 Q6.9 60.4 5.5 55.8 Q4.1 51.2 4.4 45.8 Z\"\n",
       "        /><glyph unicode=\"0\" horiz-adv-x=\"55.6\" d=\"M13.2 34.9 Q13.2 37.5 13.25 40.65 Q13.3 43.8 13.75 46.95 Q14.2 50.1 15.05 53.1 Q15.9 56.1 17.55 58.35 Q19.2 60.6 21.7 62 Q24.2 63.4 27.8 63.4 Q31.4 63.4 33.9 62 Q36.4 60.6 38.05 58.35 Q39.7 56.1 40.55 53.1 Q41.4 50.1 41.85 46.95 Q42.3 43.8 42.35 40.65 Q42.4 37.5 42.4 34.9 Q42.4 30.9 42.15 25.95 Q41.9 21 40.55 16.65 Q39.2 12.3 36.2 9.3 Q33.2 6.3 27.8 6.3 Q22.4 6.3 19.4 9.3 Q16.4 12.3 15.05 16.65 Q13.7 21 13.45 25.95 Q13.2 30.9 13.2 34.9 ZM4.2 34.8 Q4.2 30.9 4.4 26.7 Q4.6 22.5 5.4 18.5 Q6.2 14.5 7.7 10.95 Q9.2 7.4 11.8 4.7 Q14.4 2 18.35 0.45 Q22.3 -1.1 27.8 -1.1 Q33.4 -1.1 37.3 0.45 Q41.2 2 43.8 4.7 Q46.4 7.4 47.9 10.95 Q49.4 14.5 50.2 18.5 Q51 22.5 51.2 26.7 Q51.4 30.9 51.4 34.8 Q51.4 38.7 51.2 42.9 Q51 47.1 50.2 51.1 Q49.4 55.1 47.9 58.7 Q46.4 62.3 43.8 65 Q41.2 67.7 37.25 69.3 Q33.3 70.9 27.8 70.9 Q22.3 70.9 18.35 69.3 Q14.4 67.7 11.8 65 Q9.2 62.3 7.7 58.7 Q6.2 55.1 5.4 51.1 Q4.6 47.1 4.4 42.9 Q4.2 38.7 4.2 34.8 Z\"\n",
       "        /><glyph unicode=\"8\" horiz-adv-x=\"55.6\" d=\"M15.5 52.5 Q15.5 55.2 16.5 57.2 Q17.5 59.2 19.15 60.6 Q20.8 62 23.1 62.7 Q25.4 63.4 27.9 63.4 Q33.1 63.4 36.45 60.65 Q39.8 57.9 39.8 52.5 Q39.8 47.1 36.5 44.1 Q33.2 41.1 28.1 41.1 Q25.5 41.1 23.2 41.8 Q20.9 42.5 19.2 43.9 Q17.5 45.3 16.5 47.45 Q15.5 49.6 15.5 52.5 ZM6.5 52.8 Q6.5 48 9.2 43.95 Q11.9 39.9 16.4 38.1 Q10.4 36 7.2 31.35 Q4 26.7 4 20.4 Q4 15 5.85 10.95 Q7.7 6.9 10.95 4.2 Q14.2 1.5 18.6 0.2 Q23 -1.1 28.1 -1.1 Q33 -1.1 37.3 0.3 Q41.6 1.7 44.75 4.45 Q47.9 7.2 49.75 11.2 Q51.6 15.2 51.6 20.4 Q51.6 27 48.5 31.55 Q45.4 36.1 39 38.1 Q43.5 40.1 46.15 44.05 Q48.8 48 48.8 52.8 Q48.8 56.2 47.6 59.45 Q46.4 62.7 43.85 65.25 Q41.3 67.8 37.2 69.35 Q33.1 70.9 27.3 70.9 Q23.2 70.9 19.45 69.7 Q15.7 68.5 12.8 66.2 Q9.9 63.9 8.2 60.55 Q6.5 57.2 6.5 52.8 ZM13 20 Q13 23.1 14.15 25.6 Q15.3 28.1 17.35 29.9 Q19.4 31.7 22.15 32.65 Q24.9 33.6 28 33.6 Q31 33.6 33.65 32.55 Q36.3 31.5 38.3 29.7 Q40.3 27.9 41.45 25.45 Q42.6 23 42.6 20.1 Q42.6 17.1 41.55 14.6 Q40.5 12.1 38.55 10.25 Q36.6 8.4 33.95 7.35 Q31.3 6.3 28.1 6.3 Q21.5 6.3 17.25 9.95 Q13 13.6 13 20 Z\"\n",
       "        /><glyph unicode=\"5\" horiz-adv-x=\"55.6\" d=\"M47 62.2 L47 69.7 L12 69.7 L5.4 32.9 L12.7 32.5 Q15.2 35.5 18.45 37.35 Q21.7 39.2 25.9 39.2 Q29.5 39.2 32.45 38 Q35.4 36.8 37.5 34.65 Q39.6 32.5 40.75 29.55 Q41.9 26.6 41.9 23.1 Q41.9 18.9 40.7 15.75 Q39.5 12.6 37.45 10.5 Q35.4 8.4 32.65 7.35 Q29.9 6.3 26.9 6.3 Q23.7 6.3 21.05 7.25 Q18.4 8.2 16.45 9.95 Q14.5 11.7 13.35 14.05 Q12.2 16.4 12 19.1 L3.5 19.1 Q3.6 14.3 5.4 10.5 Q7.2 6.7 10.3 4.15 Q13.4 1.6 17.45 0.25 Q21.5 -1.1 26.1 -1.1 Q32.3 -1.1 36.95 0.85 Q41.6 2.8 44.7 6.1 Q47.8 9.4 49.35 13.65 Q50.9 17.9 50.9 22.4 Q50.9 28.5 49.1 33.05 Q47.3 37.6 44.2 40.65 Q41.1 43.7 36.9 45.2 Q32.7 46.7 28 46.7 Q24.4 46.7 20.75 45.45 Q17.1 44.2 14.8 41.6 L14.6 41.8 L18.4 62.2 Z\"\n",
       "      /></font\n",
       "    ></defs\n",
       "    ><g style=\"fill:white; stroke:white;\"\n",
       "    ><rect x=\"0\" y=\"0\" width=\"560\" style=\"clip-path:url(#clipPath1); stroke:none;\" height=\"420\"\n",
       "    /></g\n",
       "    ><g style=\"fill:white; text-rendering:optimizeSpeed; color-rendering:optimizeSpeed; image-rendering:optimizeSpeed; shape-rendering:crispEdges; stroke:white; color-interpolation:sRGB;\"\n",
       "    ><rect x=\"0\" width=\"560\" height=\"420\" y=\"0\" style=\"stroke:none;\"\n",
       "      /><path style=\"stroke:none;\" d=\"M73 374 L507 374 L507 31 L73 31 Z\"\n",
       "    /></g\n",
       "    ><g style=\"fill:rgb(38,38,38); text-rendering:geometricPrecision; image-rendering:optimizeQuality; color-rendering:optimizeQuality; stroke-linejoin:round; stroke:rgb(38,38,38); color-interpolation:linearRGB; stroke-width:0.5;\"\n",
       "    ><line y2=\"31\" style=\"fill:none;\" x1=\"73\" x2=\"73\" y1=\"374\"\n",
       "      /><line y2=\"31\" style=\"fill:none;\" x1=\"507\" x2=\"507\" y1=\"374\"\n",
       "      /><line y2=\"374\" style=\"fill:none;\" x1=\"73\" x2=\"77.34\" y1=\"374\"\n",
       "      /><line y2=\"339.7\" style=\"fill:none;\" x1=\"73\" x2=\"77.34\" y1=\"339.7\"\n",
       "      /><line y2=\"305.4\" style=\"fill:none;\" x1=\"73\" x2=\"77.34\" y1=\"305.4\"\n",
       "      /><line y2=\"271.1\" style=\"fill:none;\" x1=\"73\" x2=\"77.34\" y1=\"271.1\"\n",
       "      /><line y2=\"236.8\" style=\"fill:none;\" x1=\"73\" x2=\"77.34\" y1=\"236.8\"\n",
       "      /><line y2=\"202.5\" style=\"fill:none;\" x1=\"73\" x2=\"77.34\" y1=\"202.5\"\n",
       "      /><line y2=\"168.2\" style=\"fill:none;\" x1=\"73\" x2=\"77.34\" y1=\"168.2\"\n",
       "      /><line y2=\"133.9\" style=\"fill:none;\" x1=\"73\" x2=\"77.34\" y1=\"133.9\"\n",
       "      /><line y2=\"99.6\" style=\"fill:none;\" x1=\"73\" x2=\"77.34\" y1=\"99.6\"\n",
       "      /><line y2=\"65.3\" style=\"fill:none;\" x1=\"73\" x2=\"77.34\" y1=\"65.3\"\n",
       "      /><line y2=\"31\" style=\"fill:none;\" x1=\"73\" x2=\"77.34\" y1=\"31\"\n",
       "      /><line y2=\"374\" style=\"fill:none;\" x1=\"507\" x2=\"502.66\" y1=\"374\"\n",
       "      /><line y2=\"339.7\" style=\"fill:none;\" x1=\"507\" x2=\"502.66\" y1=\"339.7\"\n",
       "      /><line y2=\"305.4\" style=\"fill:none;\" x1=\"507\" x2=\"502.66\" y1=\"305.4\"\n",
       "      /><line y2=\"271.1\" style=\"fill:none;\" x1=\"507\" x2=\"502.66\" y1=\"271.1\"\n",
       "      /><line y2=\"236.8\" style=\"fill:none;\" x1=\"507\" x2=\"502.66\" y1=\"236.8\"\n",
       "      /><line y2=\"202.5\" style=\"fill:none;\" x1=\"507\" x2=\"502.66\" y1=\"202.5\"\n",
       "      /><line y2=\"168.2\" style=\"fill:none;\" x1=\"507\" x2=\"502.66\" y1=\"168.2\"\n",
       "      /><line y2=\"133.9\" style=\"fill:none;\" x1=\"507\" x2=\"502.66\" y1=\"133.9\"\n",
       "      /><line y2=\"99.6\" style=\"fill:none;\" x1=\"507\" x2=\"502.66\" y1=\"99.6\"\n",
       "      /><line y2=\"65.3\" style=\"fill:none;\" x1=\"507\" x2=\"502.66\" y1=\"65.3\"\n",
       "      /><line y2=\"31\" style=\"fill:none;\" x1=\"507\" x2=\"502.66\" y1=\"31\"\n",
       "    /></g\n",
       "    ><g transform=\"translate(69,374)\" style=\"font-size:10px; fill:rgb(38,38,38); text-rendering:geometricPrecision; image-rendering:optimizeQuality; color-rendering:optimizeQuality; font-family:'Helvetica Neue'; stroke:rgb(38,38,38); color-interpolation:linearRGB;\"\n",
       "    ><text x=\"-16\" xml:space=\"preserve\" y=\"3.5\" style=\"stroke:none;\"\n",
       "      >-16</text\n",
       "    ></g\n",
       "    ><g transform=\"translate(69,339.7)\" style=\"font-size:10px; fill:rgb(38,38,38); text-rendering:geometricPrecision; image-rendering:optimizeQuality; color-rendering:optimizeQuality; font-family:'Helvetica Neue'; stroke:rgb(38,38,38); color-interpolation:linearRGB;\"\n",
       "    ><text x=\"-16\" xml:space=\"preserve\" y=\"3.5\" style=\"stroke:none;\"\n",
       "      >-14</text\n",
       "    ></g\n",
       "    ><g transform=\"translate(69,305.4)\" style=\"font-size:10px; fill:rgb(38,38,38); text-rendering:geometricPrecision; image-rendering:optimizeQuality; color-rendering:optimizeQuality; font-family:'Helvetica Neue'; stroke:rgb(38,38,38); color-interpolation:linearRGB;\"\n",
       "    ><text x=\"-16\" xml:space=\"preserve\" y=\"3.5\" style=\"stroke:none;\"\n",
       "      >-12</text\n",
       "    ></g\n",
       "    ><g transform=\"translate(69,271.1)\" style=\"font-size:10px; fill:rgb(38,38,38); text-rendering:geometricPrecision; image-rendering:optimizeQuality; color-rendering:optimizeQuality; font-family:'Helvetica Neue'; stroke:rgb(38,38,38); color-interpolation:linearRGB;\"\n",
       "    ><text x=\"-16\" xml:space=\"preserve\" y=\"3.5\" style=\"stroke:none;\"\n",
       "      >-10</text\n",
       "    ></g\n",
       "    ><g transform=\"translate(69,236.8)\" style=\"font-size:10px; fill:rgb(38,38,38); text-rendering:geometricPrecision; image-rendering:optimizeQuality; color-rendering:optimizeQuality; font-family:'Helvetica Neue'; stroke:rgb(38,38,38); color-interpolation:linearRGB;\"\n",
       "    ><text x=\"-10\" xml:space=\"preserve\" y=\"3.5\" style=\"stroke:none;\"\n",
       "      >-8</text\n",
       "    ></g\n",
       "    ><g transform=\"translate(69,202.5)\" style=\"font-size:10px; fill:rgb(38,38,38); text-rendering:geometricPrecision; image-rendering:optimizeQuality; color-rendering:optimizeQuality; font-family:'Helvetica Neue'; stroke:rgb(38,38,38); color-interpolation:linearRGB;\"\n",
       "    ><text x=\"-10\" xml:space=\"preserve\" y=\"3.5\" style=\"stroke:none;\"\n",
       "      >-6</text\n",
       "    ></g\n",
       "    ><g transform=\"translate(69,168.2)\" style=\"font-size:10px; fill:rgb(38,38,38); text-rendering:geometricPrecision; image-rendering:optimizeQuality; color-rendering:optimizeQuality; font-family:'Helvetica Neue'; stroke:rgb(38,38,38); color-interpolation:linearRGB;\"\n",
       "    ><text x=\"-10\" xml:space=\"preserve\" y=\"3.5\" style=\"stroke:none;\"\n",
       "      >-4</text\n",
       "    ></g\n",
       "    ><g transform=\"translate(69,133.9)\" style=\"font-size:10px; fill:rgb(38,38,38); text-rendering:geometricPrecision; image-rendering:optimizeQuality; color-rendering:optimizeQuality; font-family:'Helvetica Neue'; stroke:rgb(38,38,38); color-interpolation:linearRGB;\"\n",
       "    ><text x=\"-10\" xml:space=\"preserve\" y=\"3.5\" style=\"stroke:none;\"\n",
       "      >-2</text\n",
       "    ></g\n",
       "    ><g transform=\"translate(69,99.6)\" style=\"font-size:10px; fill:rgb(38,38,38); text-rendering:geometricPrecision; image-rendering:optimizeQuality; color-rendering:optimizeQuality; font-family:'Helvetica Neue'; stroke:rgb(38,38,38); color-interpolation:linearRGB;\"\n",
       "    ><text x=\"-6\" xml:space=\"preserve\" y=\"3.5\" style=\"stroke:none;\"\n",
       "      >0</text\n",
       "    ></g\n",
       "    ><g transform=\"translate(69,65.3)\" style=\"font-size:10px; fill:rgb(38,38,38); text-rendering:geometricPrecision; image-rendering:optimizeQuality; color-rendering:optimizeQuality; font-family:'Helvetica Neue'; stroke:rgb(38,38,38); color-interpolation:linearRGB;\"\n",
       "    ><text x=\"-6\" xml:space=\"preserve\" y=\"3.5\" style=\"stroke:none;\"\n",
       "      >2</text\n",
       "    ></g\n",
       "    ><g transform=\"translate(69,31)\" style=\"font-size:10px; fill:rgb(38,38,38); text-rendering:geometricPrecision; image-rendering:optimizeQuality; color-rendering:optimizeQuality; font-family:'Helvetica Neue'; stroke:rgb(38,38,38); color-interpolation:linearRGB;\"\n",
       "    ><text x=\"-6\" xml:space=\"preserve\" y=\"3.5\" style=\"stroke:none;\"\n",
       "      >4</text\n",
       "    ></g\n",
       "    ><g style=\"stroke-linecap:butt; fill:rgb(38,38,38); text-rendering:geometricPrecision; image-rendering:optimizeQuality; color-rendering:optimizeQuality; stroke-linejoin:round; stroke:rgb(38,38,38); color-interpolation:linearRGB; stroke-width:0.5;\"\n",
       "    ><line y2=\"99.6\" style=\"fill:none;\" x1=\"73\" x2=\"507\" y1=\"99.6\"\n",
       "      /><path d=\"M0 -2.75 C1.5188 -2.75 2.75 -1.5188 2.75 0 L2.75 0 C2.75 1.5188 1.5188 2.75 -0 2.75 C-1.5188 2.75 -2.75 1.5188 -2.75 -0 C-2.75 -1.5188 -1.5188 -2.75 0 -2.75 ZM0 -3.25 C-1.7949 -3.25 -3.25 -1.7949 -3.25 -0 C-3.25 1.7949 -1.7949 3.25 -0 3.25 C1.7949 3.25 3.25 1.7949 3.25 0 L3.25 0 C3.25 -1.7949 1.7949 -3.25 0 -3.25 Z\" style=\"fill:rgb(0,114,189); stroke:none;\" transform=\"translate(90.36,31)\"\n",
       "      /><path d=\"M0 -2.75 C1.5188 -2.75 2.75 -1.5188 2.75 0 L2.75 0 C2.75 1.5188 1.5188 2.75 -0 2.75 C-1.5188 2.75 -2.75 1.5188 -2.75 -0 C-2.75 -1.5188 -1.5188 -2.75 0 -2.75 ZM0 -3.25 C-1.7949 -3.25 -3.25 -1.7949 -3.25 -0 C-3.25 1.7949 -1.7949 3.25 -0 3.25 C1.7949 3.25 3.25 1.7949 3.25 0 L3.25 0 C3.25 -1.7949 1.7949 -3.25 0 -3.25 Z\" style=\"fill:rgb(0,114,189); stroke:none;\" transform=\"translate(107.72,31)\"\n",
       "      /><path d=\"M0 -2.75 C1.5188 -2.75 2.75 -1.5188 2.75 0 L2.75 0 C2.75 1.5188 1.5188 2.75 -0 2.75 C-1.5188 2.75 -2.75 1.5188 -2.75 -0 C-2.75 -1.5188 -1.5188 -2.75 0 -2.75 ZM0 -3.25 C-1.7949 -3.25 -3.25 -1.7949 -3.25 -0 C-3.25 1.7949 -1.7949 3.25 -0 3.25 C1.7949 3.25 3.25 1.7949 3.25 0 L3.25 0 C3.25 -1.7949 1.7949 -3.25 0 -3.25 Z\" style=\"fill:rgb(0,114,189); stroke:none;\" transform=\"translate(125.08,288.25)\"\n",
       "      /><path d=\"M0 -2.75 C1.5188 -2.75 2.75 -1.5188 2.75 0 L2.75 0 C2.75 1.5188 1.5188 2.75 -0 2.75 C-1.5188 2.75 -2.75 1.5188 -2.75 -0 C-2.75 -1.5188 -1.5188 -2.75 0 -2.75 ZM0 -3.25 C-1.7949 -3.25 -3.25 -1.7949 -3.25 -0 C-3.25 1.7949 -1.7949 3.25 -0 3.25 C1.7949 3.25 3.25 1.7949 3.25 0 L3.25 0 C3.25 -1.7949 1.7949 -3.25 0 -3.25 Z\" style=\"fill:rgb(0,114,189); stroke:none;\" transform=\"translate(142.44,288.25)\"\n",
       "      /><path d=\"M0 -2.75 C1.5188 -2.75 2.75 -1.5188 2.75 0 L2.75 0 C2.75 1.5188 1.5188 2.75 -0 2.75 C-1.5188 2.75 -2.75 1.5188 -2.75 -0 C-2.75 -1.5188 -1.5188 -2.75 0 -2.75 ZM0 -3.25 C-1.7949 -3.25 -3.25 -1.7949 -3.25 -0 C-3.25 1.7949 -1.7949 3.25 -0 3.25 C1.7949 3.25 3.25 1.7949 3.25 0 L3.25 0 C3.25 -1.7949 1.7949 -3.25 0 -3.25 Z\" style=\"fill:rgb(0,114,189); stroke:none;\" transform=\"translate(159.8,352.5625)\"\n",
       "      /><path d=\"M0 -2.75 C1.5188 -2.75 2.75 -1.5188 2.75 0 L2.75 0 C2.75 1.5188 1.5188 2.75 -0 2.75 C-1.5188 2.75 -2.75 1.5188 -2.75 -0 C-2.75 -1.5188 -1.5188 -2.75 0 -2.75 ZM0 -3.25 C-1.7949 -3.25 -3.25 -1.7949 -3.25 -0 C-3.25 1.7949 -1.7949 3.25 -0 3.25 C1.7949 3.25 3.25 1.7949 3.25 0 L3.25 0 C3.25 -1.7949 1.7949 -3.25 0 -3.25 Z\" style=\"fill:rgb(0,114,189); stroke:none;\" transform=\"translate(177.16,352.5625)\"\n",
       "      /><path d=\"M0 -2.75 C1.5188 -2.75 2.75 -1.5188 2.75 0 L2.75 0 C2.75 1.5188 1.5188 2.75 -0 2.75 C-1.5188 2.75 -2.75 1.5188 -2.75 -0 C-2.75 -1.5188 -1.5188 -2.75 0 -2.75 ZM0 -3.25 C-1.7949 -3.25 -3.25 -1.7949 -3.25 -0 C-3.25 1.7949 -1.7949 3.25 -0 3.25 C1.7949 3.25 3.25 1.7949 3.25 0 L3.25 0 C3.25 -1.7949 1.7949 -3.25 0 -3.25 Z\" style=\"fill:rgb(0,114,189); stroke:none;\" transform=\"translate(194.52,368.6406)\"\n",
       "      /><path d=\"M0 -2.75 C1.5188 -2.75 2.75 -1.5188 2.75 0 L2.75 0 C2.75 1.5188 1.5188 2.75 -0 2.75 C-1.5188 2.75 -2.75 1.5188 -2.75 -0 C-2.75 -1.5188 -1.5188 -2.75 0 -2.75 ZM0 -3.25 C-1.7949 -3.25 -3.25 -1.7949 -3.25 -0 C-3.25 1.7949 -1.7949 3.25 -0 3.25 C1.7949 3.25 3.25 1.7949 3.25 0 L3.25 0 C3.25 -1.7949 1.7949 -3.25 0 -3.25 Z\" style=\"fill:rgb(0,114,189); stroke:none;\" transform=\"translate(211.88,368.6406)\"\n",
       "      /><path d=\"M0 -2.75 C1.5188 -2.75 2.75 -1.5188 2.75 0 L2.75 0 C2.75 1.5188 1.5188 2.75 -0 2.75 C-1.5188 2.75 -2.75 1.5188 -2.75 -0 C-2.75 -1.5188 -1.5188 -2.75 0 -2.75 ZM0 -3.25 C-1.7949 -3.25 -3.25 -1.7949 -3.25 -0 C-3.25 1.7949 -1.7949 3.25 -0 3.25 C1.7949 3.25 3.25 1.7949 3.25 0 L3.25 0 C3.25 -1.7949 1.7949 -3.25 0 -3.25 Z\" style=\"fill:rgb(0,114,189); stroke:none;\" transform=\"translate(229.24,372.6602)\"\n",
       "      /><path d=\"M0 -2.75 C1.5188 -2.75 2.75 -1.5188 2.75 0 L2.75 0 C2.75 1.5188 1.5188 2.75 -0 2.75 C-1.5188 2.75 -2.75 1.5188 -2.75 -0 C-2.75 -1.5188 -1.5188 -2.75 0 -2.75 ZM0 -3.25 C-1.7949 -3.25 -3.25 -1.7949 -3.25 -0 C-3.25 1.7949 -1.7949 3.25 -0 3.25 C1.7949 3.25 3.25 1.7949 3.25 0 L3.25 0 C3.25 -1.7949 1.7949 -3.25 0 -3.25 Z\" style=\"fill:rgb(0,114,189); stroke:none;\" transform=\"translate(246.6,372.6602)\"\n",
       "      /><path d=\"M0 -2.75 C1.5188 -2.75 2.75 -1.5188 2.75 0 L2.75 0 C2.75 1.5188 1.5188 2.75 -0 2.75 C-1.5188 2.75 -2.75 1.5188 -2.75 -0 C-2.75 -1.5188 -1.5188 -2.75 0 -2.75 ZM0 -3.25 C-1.7949 -3.25 -3.25 -1.7949 -3.25 -0 C-3.25 1.7949 -1.7949 3.25 -0 3.25 C1.7949 3.25 3.25 1.7949 3.25 0 L3.25 0 C3.25 -1.7949 1.7949 -3.25 0 -3.25 Z\" style=\"fill:rgb(0,114,189); stroke:none;\" transform=\"translate(263.96,373.665)\"\n",
       "      /><path d=\"M0 -2.75 C1.5188 -2.75 2.75 -1.5188 2.75 0 L2.75 0 C2.75 1.5188 1.5188 2.75 -0 2.75 C-1.5188 2.75 -2.75 1.5188 -2.75 -0 C-2.75 -1.5188 -1.5188 -2.75 0 -2.75 ZM0 -3.25 C-1.7949 -3.25 -3.25 -1.7949 -3.25 -0 C-3.25 1.7949 -1.7949 3.25 -0 3.25 C1.7949 3.25 3.25 1.7949 3.25 0 L3.25 0 C3.25 -1.7949 1.7949 -3.25 0 -3.25 Z\" style=\"fill:rgb(0,114,189); stroke:none;\" transform=\"translate(281.32,373.665)\"\n",
       "      /><path d=\"M0 -2.75 C1.5188 -2.75 2.75 -1.5188 2.75 0 L2.75 0 C2.75 1.5188 1.5188 2.75 -0 2.75 C-1.5188 2.75 -2.75 1.5188 -2.75 -0 C-2.75 -1.5188 -1.5188 -2.75 0 -2.75 ZM0 -3.25 C-1.7949 -3.25 -3.25 -1.7949 -3.25 -0 C-3.25 1.7949 -1.7949 3.25 -0 3.25 C1.7949 3.25 3.25 1.7949 3.25 0 L3.25 0 C3.25 -1.7949 1.7949 -3.25 0 -3.25 Z\" style=\"fill:rgb(0,114,189); stroke:none;\" transform=\"translate(298.68,373.9163)\"\n",
       "      /><path d=\"M0 -2.75 C1.5188 -2.75 2.75 -1.5188 2.75 0 L2.75 0 C2.75 1.5188 1.5188 2.75 -0 2.75 C-1.5188 2.75 -2.75 1.5188 -2.75 -0 C-2.75 -1.5188 -1.5188 -2.75 0 -2.75 ZM0 -3.25 C-1.7949 -3.25 -3.25 -1.7949 -3.25 -0 C-3.25 1.7949 -1.7949 3.25 -0 3.25 C1.7949 3.25 3.25 1.7949 3.25 0 L3.25 0 C3.25 -1.7949 1.7949 -3.25 0 -3.25 Z\" style=\"fill:rgb(0,114,189); stroke:none;\" transform=\"translate(316.04,373.9163)\"\n",
       "      /><path d=\"M0 -2.75 C1.5188 -2.75 2.75 -1.5188 2.75 0 L2.75 0 C2.75 1.5188 1.5188 2.75 -0 2.75 C-1.5188 2.75 -2.75 1.5188 -2.75 -0 C-2.75 -1.5188 -1.5188 -2.75 0 -2.75 ZM0 -3.25 C-1.7949 -3.25 -3.25 -1.7949 -3.25 -0 C-3.25 1.7949 -1.7949 3.25 -0 3.25 C1.7949 3.25 3.25 1.7949 3.25 0 L3.25 0 C3.25 -1.7949 1.7949 -3.25 0 -3.25 Z\" style=\"fill:rgb(0,114,189); stroke:none;\" transform=\"translate(333.4,373.9791)\"\n",
       "      /><path d=\"M0 -2.75 C1.5188 -2.75 2.75 -1.5188 2.75 0 L2.75 0 C2.75 1.5188 1.5188 2.75 -0 2.75 C-1.5188 2.75 -2.75 1.5188 -2.75 -0 C-2.75 -1.5188 -1.5188 -2.75 0 -2.75 ZM0 -3.25 C-1.7949 -3.25 -3.25 -1.7949 -3.25 -0 C-3.25 1.7949 -1.7949 3.25 -0 3.25 C1.7949 3.25 3.25 1.7949 3.25 0 L3.25 0 C3.25 -1.7949 1.7949 -3.25 0 -3.25 Z\" style=\"fill:rgb(0,114,189); stroke:none;\" transform=\"translate(350.76,373.9791)\"\n",
       "      /><path d=\"M0 -2.75 C1.5188 -2.75 2.75 -1.5188 2.75 0 L2.75 0 C2.75 1.5188 1.5188 2.75 -0 2.75 C-1.5188 2.75 -2.75 1.5188 -2.75 -0 C-2.75 -1.5188 -1.5188 -2.75 0 -2.75 ZM0 -3.25 C-1.7949 -3.25 -3.25 -1.7949 -3.25 -0 C-3.25 1.7949 -1.7949 3.25 -0 3.25 C1.7949 3.25 3.25 1.7949 3.25 0 L3.25 0 C3.25 -1.7949 1.7949 -3.25 0 -3.25 Z\" style=\"fill:rgb(0,114,189); stroke:none;\" transform=\"translate(368.12,373.9948)\"\n",
       "      /><path d=\"M0 -2.75 C1.5188 -2.75 2.75 -1.5188 2.75 0 L2.75 0 C2.75 1.5188 1.5188 2.75 -0 2.75 C-1.5188 2.75 -2.75 1.5188 -2.75 -0 C-2.75 -1.5188 -1.5188 -2.75 0 -2.75 ZM0 -3.25 C-1.7949 -3.25 -3.25 -1.7949 -3.25 -0 C-3.25 1.7949 -1.7949 3.25 -0 3.25 C1.7949 3.25 3.25 1.7949 3.25 0 L3.25 0 C3.25 -1.7949 1.7949 -3.25 0 -3.25 Z\" style=\"fill:rgb(0,114,189); stroke:none;\" transform=\"translate(385.48,373.9948)\"\n",
       "      /><path d=\"M0 -2.75 C1.5188 -2.75 2.75 -1.5188 2.75 0 L2.75 0 C2.75 1.5188 1.5188 2.75 -0 2.75 C-1.5188 2.75 -2.75 1.5188 -2.75 -0 C-2.75 -1.5188 -1.5188 -2.75 0 -2.75 ZM0 -3.25 C-1.7949 -3.25 -3.25 -1.7949 -3.25 -0 C-3.25 1.7949 -1.7949 3.25 -0 3.25 C1.7949 3.25 3.25 1.7949 3.25 0 L3.25 0 C3.25 -1.7949 1.7949 -3.25 0 -3.25 Z\" style=\"fill:rgb(0,114,189); stroke:none;\" transform=\"translate(402.84,373.9987)\"\n",
       "      /><path d=\"M0 -2.75 C1.5188 -2.75 2.75 -1.5188 2.75 0 L2.75 0 C2.75 1.5188 1.5188 2.75 -0 2.75 C-1.5188 2.75 -2.75 1.5188 -2.75 -0 C-2.75 -1.5188 -1.5188 -2.75 0 -2.75 ZM0 -3.25 C-1.7949 -3.25 -3.25 -1.7949 -3.25 -0 C-3.25 1.7949 -1.7949 3.25 -0 3.25 C1.7949 3.25 3.25 1.7949 3.25 0 L3.25 0 C3.25 -1.7949 1.7949 -3.25 0 -3.25 Z\" style=\"fill:rgb(0,114,189); stroke:none;\" transform=\"translate(420.2,373.9987)\"\n",
       "      /><path d=\"M0 -2.75 C1.5188 -2.75 2.75 -1.5188 2.75 0 L2.75 0 C2.75 1.5188 1.5188 2.75 -0 2.75 C-1.5188 2.75 -2.75 1.5188 -2.75 -0 C-2.75 -1.5188 -1.5188 -2.75 0 -2.75 ZM0 -3.25 C-1.7949 -3.25 -3.25 -1.7949 -3.25 -0 C-3.25 1.7949 -1.7949 3.25 -0 3.25 C1.7949 3.25 3.25 1.7949 3.25 0 L3.25 0 C3.25 -1.7949 1.7949 -3.25 0 -3.25 Z\" style=\"fill:rgb(0,114,189); stroke:none;\" transform=\"translate(437.56,373.9997)\"\n",
       "      /><line x1=\"90.36\" x2=\"90.36\" y1=\"99.6\" style=\"fill:none; stroke:rgb(0,114,189);\" y2=\"31\"\n",
       "      /><line x1=\"107.72\" x2=\"107.72\" y1=\"99.6\" style=\"fill:none; stroke:rgb(0,114,189);\" y2=\"31\"\n",
       "      /><line x1=\"125.08\" x2=\"125.08\" y1=\"99.6\" style=\"fill:none; stroke:rgb(0,114,189);\" y2=\"288.25\"\n",
       "      /><line x1=\"142.44\" x2=\"142.44\" y1=\"99.6\" style=\"fill:none; stroke:rgb(0,114,189);\" y2=\"288.25\"\n",
       "      /><line x1=\"159.8\" x2=\"159.8\" y1=\"99.6\" style=\"fill:none; stroke:rgb(0,114,189);\" y2=\"352.5625\"\n",
       "      /><line x1=\"177.16\" x2=\"177.16\" y1=\"99.6\" style=\"fill:none; stroke:rgb(0,114,189);\" y2=\"352.5625\"\n",
       "      /><line x1=\"194.52\" x2=\"194.52\" y1=\"99.6\" style=\"fill:none; stroke:rgb(0,114,189);\" y2=\"368.6406\"\n",
       "      /><line x1=\"211.88\" x2=\"211.88\" y1=\"99.6\" style=\"fill:none; stroke:rgb(0,114,189);\" y2=\"368.6406\"\n",
       "      /><line x1=\"229.24\" x2=\"229.24\" y1=\"99.6\" style=\"fill:none; stroke:rgb(0,114,189);\" y2=\"372.6602\"\n",
       "      /><line x1=\"246.6\" x2=\"246.6\" y1=\"99.6\" style=\"fill:none; stroke:rgb(0,114,189);\" y2=\"372.6602\"\n",
       "      /><line x1=\"263.96\" x2=\"263.96\" y1=\"99.6\" style=\"fill:none; stroke:rgb(0,114,189);\" y2=\"373.665\"\n",
       "      /><line x1=\"281.32\" x2=\"281.32\" y1=\"99.6\" style=\"fill:none; stroke:rgb(0,114,189);\" y2=\"373.665\"\n",
       "      /><line x1=\"298.68\" x2=\"298.68\" y1=\"99.6\" style=\"fill:none; stroke:rgb(0,114,189);\" y2=\"373.9163\"\n",
       "      /><line x1=\"316.04\" x2=\"316.04\" y1=\"99.6\" style=\"fill:none; stroke:rgb(0,114,189);\" y2=\"373.9163\"\n",
       "      /><line x1=\"333.4\" x2=\"333.4\" y1=\"99.6\" style=\"fill:none; stroke:rgb(0,114,189);\" y2=\"373.9791\"\n",
       "      /><line x1=\"350.76\" x2=\"350.76\" y1=\"99.6\" style=\"fill:none; stroke:rgb(0,114,189);\" y2=\"373.9791\"\n",
       "      /><line x1=\"368.12\" x2=\"368.12\" y1=\"99.6\" style=\"fill:none; stroke:rgb(0,114,189);\" y2=\"373.9948\"\n",
       "      /><line x1=\"385.48\" x2=\"385.48\" y1=\"99.6\" style=\"fill:none; stroke:rgb(0,114,189);\" y2=\"373.9948\"\n",
       "      /><line x1=\"402.84\" x2=\"402.84\" y1=\"99.6\" style=\"fill:none; stroke:rgb(0,114,189);\" y2=\"373.9987\"\n",
       "      /><line x1=\"420.2\" x2=\"420.2\" y1=\"99.6\" style=\"fill:none; stroke:rgb(0,114,189);\" y2=\"373.9987\"\n",
       "      /><line x1=\"437.56\" x2=\"437.56\" y1=\"99.6\" style=\"fill:none; stroke:rgb(0,114,189);\" y2=\"373.9997\"\n",
       "      /><line x1=\"73\" x2=\"507\" y1=\"374\" style=\"fill:none; stroke-linecap:square;\" y2=\"374\"\n",
       "      /><line x1=\"73\" x2=\"507\" y1=\"31\" style=\"fill:none; stroke-linecap:square;\" y2=\"31\"\n",
       "      /><line x1=\"73\" x2=\"73\" y1=\"374\" style=\"fill:none; stroke-linecap:square;\" y2=\"369.66\"\n",
       "      /><line x1=\"159.8\" x2=\"159.8\" y1=\"374\" style=\"fill:none; stroke-linecap:square;\" y2=\"369.66\"\n",
       "      /><line x1=\"246.6\" x2=\"246.6\" y1=\"374\" style=\"fill:none; stroke-linecap:square;\" y2=\"369.66\"\n",
       "      /><line x1=\"333.4\" x2=\"333.4\" y1=\"374\" style=\"fill:none; stroke-linecap:square;\" y2=\"369.66\"\n",
       "      /><line x1=\"420.2\" x2=\"420.2\" y1=\"374\" style=\"fill:none; stroke-linecap:square;\" y2=\"369.66\"\n",
       "      /><line x1=\"507\" x2=\"507\" y1=\"374\" style=\"fill:none; stroke-linecap:square;\" y2=\"369.66\"\n",
       "      /><line x1=\"73\" x2=\"73\" y1=\"31\" style=\"fill:none; stroke-linecap:square;\" y2=\"35.34\"\n",
       "      /><line x1=\"159.8\" x2=\"159.8\" y1=\"31\" style=\"fill:none; stroke-linecap:square;\" y2=\"35.34\"\n",
       "      /><line x1=\"246.6\" x2=\"246.6\" y1=\"31\" style=\"fill:none; stroke-linecap:square;\" y2=\"35.34\"\n",
       "      /><line x1=\"333.4\" x2=\"333.4\" y1=\"31\" style=\"fill:none; stroke-linecap:square;\" y2=\"35.34\"\n",
       "      /><line x1=\"420.2\" x2=\"420.2\" y1=\"31\" style=\"fill:none; stroke-linecap:square;\" y2=\"35.34\"\n",
       "      /><line x1=\"507\" x2=\"507\" y1=\"31\" style=\"fill:none; stroke-linecap:square;\" y2=\"35.34\"\n",
       "    /></g\n",
       "    ><g transform=\"translate(73,378)\" style=\"font-size:10px; fill:rgb(38,38,38); text-rendering:geometricPrecision; image-rendering:optimizeQuality; color-rendering:optimizeQuality; font-family:'Helvetica Neue'; stroke:rgb(38,38,38); color-interpolation:linearRGB;\"\n",
       "    ><text x=\"-3\" xml:space=\"preserve\" y=\"10\" style=\"stroke:none;\"\n",
       "      >0</text\n",
       "    ></g\n",
       "    ><g transform=\"translate(159.8,378)\" style=\"font-size:10px; fill:rgb(38,38,38); text-rendering:geometricPrecision; image-rendering:optimizeQuality; color-rendering:optimizeQuality; font-family:'Helvetica Neue'; stroke:rgb(38,38,38); color-interpolation:linearRGB;\"\n",
       "    ><text x=\"-3\" xml:space=\"preserve\" y=\"10\" style=\"stroke:none;\"\n",
       "      >5</text\n",
       "    ></g\n",
       "    ><g transform=\"translate(246.6,378)\" style=\"font-size:10px; fill:rgb(38,38,38); text-rendering:geometricPrecision; image-rendering:optimizeQuality; color-rendering:optimizeQuality; font-family:'Helvetica Neue'; stroke:rgb(38,38,38); color-interpolation:linearRGB;\"\n",
       "    ><text x=\"-6\" xml:space=\"preserve\" y=\"10\" style=\"stroke:none;\"\n",
       "      >10</text\n",
       "    ></g\n",
       "    ><g transform=\"translate(333.4,378)\" style=\"font-size:10px; fill:rgb(38,38,38); text-rendering:geometricPrecision; image-rendering:optimizeQuality; color-rendering:optimizeQuality; font-family:'Helvetica Neue'; stroke:rgb(38,38,38); color-interpolation:linearRGB;\"\n",
       "    ><text x=\"-6\" xml:space=\"preserve\" y=\"10\" style=\"stroke:none;\"\n",
       "      >15</text\n",
       "    ></g\n",
       "    ><g transform=\"translate(420.2,378)\" style=\"font-size:10px; fill:rgb(38,38,38); text-rendering:geometricPrecision; image-rendering:optimizeQuality; color-rendering:optimizeQuality; font-family:'Helvetica Neue'; stroke:rgb(38,38,38); color-interpolation:linearRGB;\"\n",
       "    ><text x=\"-6\" xml:space=\"preserve\" y=\"10\" style=\"stroke:none;\"\n",
       "      >20</text\n",
       "    ></g\n",
       "    ><g transform=\"translate(507,378)\" style=\"font-size:10px; fill:rgb(38,38,38); text-rendering:geometricPrecision; image-rendering:optimizeQuality; color-rendering:optimizeQuality; font-family:'Helvetica Neue'; stroke:rgb(38,38,38); color-interpolation:linearRGB;\"\n",
       "    ><text x=\"-6\" xml:space=\"preserve\" y=\"10\" style=\"stroke:none;\"\n",
       "      >25</text\n",
       "    ></g\n",
       "  ></g\n",
       "></svg\n",
       ">\n"
      ]
     },
     "metadata": {},
     "output_type": "display_data"
    }
   ],
   "source": [
    "stem(ys)"
   ]
  },
  {
   "cell_type": "code",
   "execution_count": 12,
   "metadata": {
    "slideshow": {
     "slide_type": "fragment"
    }
   },
   "outputs": [
    {
     "name": "stdout",
     "output_type": "stream",
     "text": [
      " RESIDUE Partial-fraction expansion (residues).\n",
      "    [R,P,K] = RESIDUE(B,A) finds the residues, poles and direct term of\n",
      "    a partial fraction expansion of the ratio of two polynomials B(s)/A(s).\n",
      "    If there are no multiple roots,\n",
      "       B(s)       R(1)       R(2)             R(n)\n",
      "       ----  =  -------- + -------- + ... + -------- + K(s)\n",
      "       A(s)     s - P(1)   s - P(2)         s - P(n)\n",
      "    Vectors B and A specify the coefficients of the numerator and\n",
      "    denominator polynomials in descending powers of s.  The residues\n",
      "    are returned in the column vector R, the pole locations in column\n",
      "    vector P, and the direct terms in row vector K.  The number of\n",
      "    poles is n = length(A)-1 = length(R) = length(P). The direct term\n",
      "    coefficient vector is empty if length(B) < length(A), otherwise\n",
      "    length(K) = length(B)-length(A)+1.\n",
      " \n",
      "    If P(j) = ... = P(j+m-1) is a pole of multplicity m, then the\n",
      "    expansion includes terms of the form\n",
      "                 R(j)        R(j+1)                R(j+m-1)\n",
      "               -------- + ------------   + ... + ------------\n",
      "               s - P(j)   (s - P(j))^2           (s - P(j))^m\n",
      " \n",
      "    [B,A] = RESIDUE(R,P,K), with 3 input arguments and 2 output arguments,\n",
      "    converts the partial fraction expansion back to the polynomials with\n",
      "    coefficients in B and A.\n",
      " \n",
      "    Warning: Numerically, the partial fraction expansion of a ratio of\n",
      "    polynomials represents an ill-posed problem.  If the denominator\n",
      "    polynomial, A(s), is near a polynomial with multiple roots, then\n",
      "    small changes in the data, including roundoff errors, can make\n",
      "    arbitrarily large changes in the resulting poles and residues.\n",
      "    Problem formulations making use of state-space or zero-pole\n",
      "    representations are preferable.\n",
      " \n",
      "    Class support for inputs B,A,R:\n",
      "       float: double, single\n",
      " \n",
      "    See also POLY, ROOTS, DECONV.\n",
      "\n"
     ]
    }
   ],
   "source": [
    "help residue"
   ]
  },
  {
   "cell_type": "code",
   "execution_count": 13,
   "metadata": {
    "slideshow": {
     "slide_type": "fragment"
    }
   },
   "outputs": [
    {
     "name": "stdout",
     "output_type": "stream",
     "text": [
      "r =\n",
      "   -15\n",
      "    15\n"
     ]
    },
    {
     "name": "stdout",
     "output_type": "stream",
     "text": [
      "p =\n",
      "    0.5000\n",
      "   -0.5000\n"
     ]
    },
    {
     "name": "stdout",
     "output_type": "stream",
     "text": [
      "k =\n",
      "     4\n"
     ]
    }
   ],
   "source": [
    "[r,p,k] = residue([4,0,-16],[1,0,-0.25])"
   ]
  },
  {
   "cell_type": "code",
   "execution_count": 14,
   "metadata": {
    "slideshow": {
     "slide_type": "fragment"
    }
   },
   "outputs": [
    {
     "name": "stdout",
     "output_type": "stream",
     "text": [
      "r =\n",
      "  -16.0000\n",
      "   15.0000\n",
      "    5.0000\n"
     ]
    },
    {
     "name": "stdout",
     "output_type": "stream",
     "text": [
      "p =\n",
      "    1.0000\n",
      "    0.5000\n",
      "   -0.5000\n"
     ]
    },
    {
     "name": "stdout",
     "output_type": "stream",
     "text": [
      "k =\n",
      "     4\n"
     ]
    }
   ],
   "source": [
    "[r,p,k] = residue(conv([1, 0],[4,0,-16]),conv([1, -1],[1,0,-0.25]))"
   ]
  },
  {
   "cell_type": "code",
   "execution_count": 15,
   "metadata": {
    "slideshow": {
     "slide_type": "fragment"
    }
   },
   "outputs": [
    {
     "name": "stdout",
     "output_type": "stream",
     "text": [
      "\n",
      "U =\n"
     ]
    },
    {
     "name": "stdout",
     "output_type": "stream",
     "text": [
      " \n"
     ]
    },
    {
     "name": "stdout",
     "output_type": "stream",
     "text": [
      "    z\n"
     ]
    },
    {
     "name": "stdout",
     "output_type": "stream",
     "text": [
      "  -----\n"
     ]
    },
    {
     "name": "stdout",
     "output_type": "stream",
     "text": [
      "  z - 1\n"
     ]
    },
    {
     "name": "stdout",
     "output_type": "stream",
     "text": [
      " \n"
     ]
    },
    {
     "name": "stdout",
     "output_type": "stream",
     "text": [
      "Sample time: unspecified\n"
     ]
    },
    {
     "name": "stdout",
     "output_type": "stream",
     "text": [
      "Discrete-time transfer function.\n",
      "\n"
     ]
    },
    {
     "name": "stdout",
     "output_type": "stream",
     "text": [
      "\n",
      "Y =\n"
     ]
    },
    {
     "name": "stdout",
     "output_type": "stream",
     "text": [
      " \n"
     ]
    },
    {
     "name": "stdout",
     "output_type": "stream",
     "text": [
      "        4 z^3 - 16 z\n"
     ]
    },
    {
     "name": "stdout",
     "output_type": "stream",
     "text": [
      "  -------------------------\n"
     ]
    },
    {
     "name": "stdout",
     "output_type": "stream",
     "text": [
      "  z^3 - z^2 - 0.25 z + 0.25\n"
     ]
    },
    {
     "name": "stdout",
     "output_type": "stream",
     "text": [
      " \n"
     ]
    },
    {
     "name": "stdout",
     "output_type": "stream",
     "text": [
      "Sample time: unspecified\n"
     ]
    },
    {
     "name": "stdout",
     "output_type": "stream",
     "text": [
      "Discrete-time transfer function.\n",
      "\n"
     ]
    }
   ],
   "source": [
    "U = tf([1, 0], [1, -1], -1)\n",
    "Y = series(U, H)"
   ]
  },
  {
   "cell_type": "code",
   "execution_count": 16,
   "metadata": {
    "slideshow": {
     "slide_type": "fragment"
    }
   },
   "outputs": [
    {
     "name": "stdout",
     "output_type": "stream",
     "text": [
      "num =\n",
      "     4     0   -16     0\n"
     ]
    },
    {
     "name": "stdout",
     "output_type": "stream",
     "text": [
      "den =\n",
      "    1.0000   -1.0000   -0.2500    0.2500\n"
     ]
    }
   ],
   "source": [
    "[num,den] = tfdata(Y,'v')"
   ]
  },
  {
   "cell_type": "code",
   "execution_count": 17,
   "metadata": {
    "slideshow": {
     "slide_type": "fragment"
    }
   },
   "outputs": [
    {
     "name": "stdout",
     "output_type": "stream",
     "text": [
      "r =\n",
      "  -16.0000\n",
      "   15.0000\n",
      "    5.0000\n"
     ]
    },
    {
     "name": "stdout",
     "output_type": "stream",
     "text": [
      "p =\n",
      "    1.0000\n",
      "    0.5000\n",
      "   -0.5000\n"
     ]
    },
    {
     "name": "stdout",
     "output_type": "stream",
     "text": [
      "k =\n",
      "     4\n"
     ]
    }
   ],
   "source": [
    "[r,p,k]=residue(num,den)"
   ]
  },
  {
   "cell_type": "code",
   "execution_count": 18,
   "metadata": {
    "slideshow": {
     "slide_type": "fragment"
    }
   },
   "outputs": [],
   "source": [
    "cd matlab\n",
    "digiresp_model"
   ]
  }
 ],
 "metadata": {
  "celltoolbar": "Slideshow",
  "kernelspec": {
   "display_name": "MATLAB",
   "language": "matlab",
   "name": "imatlab"
  },
  "language_info": {
   "codemirror_mode": "octave",
   "file_extension": ".m",
   "mimetype": "text/x-matlab",
   "name": "matlab",
   "nbconvert_exporter": "imatlab._exporter.MatlabExporter",
   "pygments_lexer": "matlab",
   "version": "9.9.0.1467703 (R2020b)"
  }
 },
 "nbformat": 4,
 "nbformat_minor": 2
}