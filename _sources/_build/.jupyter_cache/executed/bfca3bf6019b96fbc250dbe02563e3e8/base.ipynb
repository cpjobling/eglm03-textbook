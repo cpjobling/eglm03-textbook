{
 "cells": [
  {
   "cell_type": "code",
   "execution_count": 1,
   "metadata": {},
   "outputs": [],
   "source": [
    "imatlab_export_fig('print-svg')  % Static svg figures."
   ]
  },
  {
   "cell_type": "code",
   "execution_count": 2,
   "metadata": {},
   "outputs": [
    {
     "name": "stdout",
     "output_type": "stream",
     "text": [
      "\n",
      "D =\n"
     ]
    },
    {
     "name": "stdout",
     "output_type": "stream",
     "text": [
      " \n"
     ]
    },
    {
     "name": "stdout",
     "output_type": "stream",
     "text": [
      "             1      1          \n"
     ]
    },
    {
     "name": "stdout",
     "output_type": "stream",
     "text": [
      "  Kp * (1 + ---- * --- + Td * s)\n"
     ]
    },
    {
     "name": "stdout",
     "output_type": "stream",
     "text": [
      "             Ti     s          \n"
     ]
    },
    {
     "name": "stdout",
     "output_type": "stream",
     "text": [
      "\n",
      "  with Kp = 19, Ti = 2, Td = 0.211\n"
     ]
    },
    {
     "name": "stdout",
     "output_type": "stream",
     "text": [
      " \n"
     ]
    },
    {
     "name": "stdout",
     "output_type": "stream",
     "text": [
      "Continuous-time PID controller in standard form\n",
      "\n"
     ]
    }
   ],
   "source": [
    "P = 19; D = 4/19; I = 2;\n",
    "D = pidstd(P, I, D)"
   ]
  },
  {
   "cell_type": "code",
   "execution_count": 3,
   "metadata": {},
   "outputs": [
    {
     "name": "stdout",
     "output_type": "stream",
     "text": [
      "\n",
      "G =\n"
     ]
    },
    {
     "name": "stdout",
     "output_type": "stream",
     "text": [
      " \n"
     ]
    },
    {
     "name": "stdout",
     "output_type": "stream",
     "text": [
      "         1\n"
     ]
    },
    {
     "name": "stdout",
     "output_type": "stream",
     "text": [
      "  ---------------\n"
     ]
    },
    {
     "name": "stdout",
     "output_type": "stream",
     "text": [
      "  5 s^2 + 6 s + 1\n"
     ]
    },
    {
     "name": "stdout",
     "output_type": "stream",
     "text": [
      " \n"
     ]
    },
    {
     "name": "stdout",
     "output_type": "stream",
     "text": [
      "Continuous-time transfer function.\n",
      "\n"
     ]
    }
   ],
   "source": [
    "s = tf('s');\n",
    "G = 1/(5*s^2 + 6*s + 1)"
   ]
  },
  {
   "cell_type": "code",
   "execution_count": 4,
   "metadata": {},
   "outputs": [
    {
     "name": "stdout",
     "output_type": "stream",
     "text": [
      "\n",
      "Go =\n"
     ]
    },
    {
     "name": "stdout",
     "output_type": "stream",
     "text": [
      " \n"
     ]
    },
    {
     "name": "stdout",
     "output_type": "stream",
     "text": [
      "  4 s^2 + 19 s + 9.5\n"
     ]
    },
    {
     "name": "stdout",
     "output_type": "stream",
     "text": [
      "  ------------------\n"
     ]
    },
    {
     "name": "stdout",
     "output_type": "stream",
     "text": [
      "  5 s^3 + 6 s^2 + s\n"
     ]
    },
    {
     "name": "stdout",
     "output_type": "stream",
     "text": [
      " \n"
     ]
    },
    {
     "name": "stdout",
     "output_type": "stream",
     "text": [
      "Continuous-time transfer function.\n",
      "\n"
     ]
    }
   ],
   "source": [
    "Go = series(D,G)"
   ]
  },
  {
   "cell_type": "code",
   "execution_count": 5,
   "metadata": {},
   "outputs": [
    {
     "name": "stdout",
     "output_type": "stream",
     "text": [
      "\n",
      "Gc =\n"
     ]
    },
    {
     "name": "stdout",
     "output_type": "stream",
     "text": [
      " \n"
     ]
    },
    {
     "name": "stdout",
     "output_type": "stream",
     "text": [
      "      4 s^2 + 19 s + 9.5\n"
     ]
    },
    {
     "name": "stdout",
     "output_type": "stream",
     "text": [
      "  ---------------------------\n"
     ]
    },
    {
     "name": "stdout",
     "output_type": "stream",
     "text": [
      "  5 s^3 + 10 s^2 + 20 s + 9.5\n"
     ]
    },
    {
     "name": "stdout",
     "output_type": "stream",
     "text": [
      " \n"
     ]
    },
    {
     "name": "stdout",
     "output_type": "stream",
     "text": [
      "Continuous-time transfer function.\n",
      "\n"
     ]
    }
   ],
   "source": [
    "Gc = feedback(Go,1)"
   ]
  },
  {
   "cell_type": "code",
   "execution_count": 6,
   "metadata": {},
   "outputs": [
    {
     "data": {
      "image/svg+xml": [
       "<?xml version=\"1.0\"?>\n",
       "<!DOCTYPE svg PUBLIC '-//W3C//DTD SVG 1.0//EN'\n",
       "          'http://www.w3.org/TR/2001/REC-SVG-20010904/DTD/svg10.dtd'>\n",
       "<svg xmlns:xlink=\"http://www.w3.org/1999/xlink\" style=\"fill-opacity:1; color-rendering:auto; color-interpolation:auto; text-rendering:auto; stroke:black; stroke-linecap:square; stroke-miterlimit:10; shape-rendering:auto; stroke-opacity:1; fill:black; stroke-dasharray:none; font-weight:normal; stroke-width:1; font-family:'Dialog'; font-style:normal; stroke-linejoin:miter; font-size:12px; stroke-dashoffset:0; image-rendering:auto;\" width=\"560\" height=\"420\" xmlns=\"http://www.w3.org/2000/svg\"\n",
       "><!--Generated by the Batik Graphics2D SVG Generator--><defs id=\"genericDefs\"\n",
       "  /><g\n",
       "  ><defs id=\"defs1\"\n",
       "    ><clipPath clipPathUnits=\"userSpaceOnUse\" id=\"clipPath1\"\n",
       "      ><path d=\"M0 0 L560 0 L560 420 L0 420 L0 0 Z\"\n",
       "      /></clipPath\n",
       "    ></defs\n",
       "    ><g style=\"fill:rgb(240,240,240); stroke:rgb(240,240,240);\"\n",
       "    ><rect x=\"0\" y=\"0\" width=\"560\" style=\"clip-path:url(#clipPath1); stroke:none;\" height=\"420\"\n",
       "    /></g\n",
       "    ><g\n",
       "    ><image x=\"0\" y=\"0\" width=\"560\" xlink:href=\"data:image/png;base64,iVBORw0KGgoAAAANSUhEUgAAAjAAAAGkCAIAAACgjIjwAAAj50lEQVR42u3de1BU\n",
       "593AcWLiJEabENSkifaS1HidmtIaqzG2Ok5bjTVNYky0xpRJW1Eii3hZKDcXxL6r\n",
       "RuqFIBbpEtcUr0yCghIQtICo4WYSSRgJt2Bgubj5r3/2/ZUzbLcsWlHhPHv2+xkm\n",
       "c1jw7MnevjznPHvW7xsAABTgx00AACBIAAAQJAAAQQIAgCABAAgSAAAECQBAkAAA\n",
       "IEgAAIIEAABBAgAQJAAACBIAgCABAECQAAAECQAAggQAIEgAABAkAABBAgCAIAEA\n",
       "CBIAAAQJAECQAAAgSAAAggQAAEECABAkAAAIEgCAIAEAQJAAAAQJ8F3Nzc0XL15s\n",
       "bGzkpgAIEqCPrq6uoKCge++918/P75577nnxxRfb2tocDkdYWFhGRsZtrDAzM9PP\n",
       "zciRI6Ojo7mdAYIE/A/79u2TbCxatOj999//9a9/LcuxsbEtLS2y8Prrr992kGbM\n",
       "mGGxWNauXRsQECDfFhUVcVMDBAm4GcmPBGPlypX19fV1dXUJCQlHjhwZN26cXDhi\n",
       "xIhXXnlFfsdqtX7ve9976KGHXnrppaampt27dz/99NPLli2TS5566qm//e1vnkFa\n",
       "s2aN9u2KFSvkW1mn53o+//zz2bNnP/DAA3JFr732mozMbrRmuVy+HTZs2PTp08+c\n",
       "OaNdIr8ZHBz8yCOPyCAsLS3Nc22e18jdDYIEqKuiosLf31+aMWTIkB/96EebNm1q\n",
       "b29PTU2VS2bOnJmdnX3gwAFZDgoKio+PHzp06Kuvviq/I5cEBgZKFSRdcuGVK1d6\n",
       "BWnWrFmJiYnr16+XWowaNUpi4Lme8PBwuSQlJSUmJubBBx+UsVqfaz5x4oRcOHfu\n",
       "3F27do0dO1bW1tzcrP3mlClTNm7cKBEaM2aM59o8r5G7GwQJUNrVq1c3b97885//\n",
       "XF615RX8d7/7nfsuu8WLF8vym2++Ka/sAQEB8uqvxUBaJT/dv3+/LEvAegXp/vvv\n",
       "l3JoK3z55Zf7XM/WrVvlktGjR8uARoY4XV1dfa45JCREFqqqquTC7du3y/Lx48e1\n",
       "39SOckk47733Xs+1eV4j9zUIEqAuebn/2c9+JmMOWf7ss8/kVfvxxx93D9LChQtl\n",
       "efXq1et6aHv58vLyXPnZuXNnryBpu+xkPc8884x8e+HCBc/1dHZ2ZmVlrVy5UsY9\n",
       "8iMZ2WiZ6bXmP/7xj7JQU1MjFyYnJ8uy/Ej7zfz8fLlwwYIF99xzjyz0Wluf18g9\n",
       "DoIEKEpepuVV+1e/+tWBAwfkRVxe2efMmfP111/LhZMnT87JydFGHiaTSQYuP/3p\n",
       "T5csWaLFQDJw+vTp559/XpZLS0v7DJKIiIiQb48ePeq5nqVLl37rW9+SVh07dkx+\n",
       "tGrVqj7XLMMgbdwmF06dOnXYsGG1tbWeQfJcm+c1cneDIAHqamtrk5GQNu1bTJs2\n",
       "Tds5Nm/ePO3bjo6OZcuWDRkyRF70p0yZ8sknn2gxkB/Jf++7777IyEj3FR46dEgu\n",
       "Dw0N1b7VZvH9+c9/9lyPxOMHP/iBdr2yUFFRcaM1y9q0vX8jR46UcMolnkHyXJvn\n",
       "NXJ3gyABqpMhUXl5ea83xkqr2tvbXcv19fXasisGDQ0N2mS2fvXPtR7hdDq/6CYL\n",
       "N1+zbMnnn3+u/dqN9Fpbn9cIECTAOCwWiww7CgoKvGjNAEECAIAgAQAIEgAABAkA\n",
       "QJAAACBILmfPnu3zgwM6Ozvj4+Orq6u5ywGAIA2s5ubmlJSUkJCQtLQ0z5/abDaT\n",
       "yVRZWcldDgAEaWA5HI6ysjK73e4ZpPPnzycnJ+/Zs4cgAQBBGiRnz57tFSQZOcXH\n",
       "x7e2tvYZpJUA4DMIks5BkrGRXFJQULB58+bMzMxr1671CtK/VKXytrF5Bt48bjoD\n",
       "37MESbcgdXR01NTUlJaWnupmsVjsdntLSwtBYvPYPG46gkSQBjVI1dXVwcHB7kMl\n",
       "7VzOBInNY/O46QgSQVKO4g9uACBIBAkACBJBIkgAQJAIEgAQJIJEkACAIBEkACBI\n",
       "BIkgAQBBIkgECQBBIkgECQAIEkEiSAAIEkEiSABAkAgSQfrXvxq6/mk5XR+UWSNf\n",
       "c96tlP/aLn1dVOfkGQsQJIJEkAaJdOj7iaXy5X6h1Egrk1wuv8DzFiBIBIkgDSAZ\n",
       "APmtOyO9keHRzUdOZAkgSASJIA3UDjoZ/cjXTVJElgCCRJAI0oDTBka3kTGaBBAk\n",
       "gkSQ7trYSGp027MVXEOlWxxaASBIBIkg3XBP3Z3PnbNd+pomAQSJIBEknWvkvjae\n",
       "zwBBIkgEqd/uYo3cm8QhJYAgESSC1A+SjYEY0NAkgCARJILUDzIw6vW+V2X3BAIg\n",
       "SATJyEGSGg1oMGgSQJAIEkH63wZtlxrz7gCCRJAI0v8I0uBcEXPBAYJEkAjSzWo0\n",
       "mHvStPfM8iQHCBJBIki9hyxBmTWDfKXaZ1jwPAcIEkEiSP+h1w40JoIDBIkgEaT/\n",
       "GqnoVQUm3QEEiSARpP/wW3dGx2vXzgvOsx0gSATJ14OkfQC5vtugyxEsAASJIDE8\n",
       "6ruLHEwCCBJB8t0g6Xj0yBMHkwCCRJB8N0hKvTuVg0kAQSJIPhokBY/c8M4kgCAR\n",
       "JF8MkoIn79Fmges+yQIAQSJIPj08UrmUAAgSQRooKs8g0E69yvMfIEgEyfhBkhQN\n",
       "2om9bw+zwAGC5OtBOnv2bEZGhvslHR0daWlpZrPZYrFUVVUZI0gqvBn25jilEECQ\n",
       "fDdIzc3NKSkpISEhkh/3y0+dOmW1Wjs7OwsLC6OioowRJEXeDPs/h3HsuAMIki8G\n",
       "yeFwlJWV2e32XkHKzs6Wy7VihYaGGiBIXnSeHmaBAwTJp3fZ9QqSpqWlZceOHZIr\n",
       "zyC5eMujyrt2hbHjDtC9Qy4ESf8g5efnR0dH5+XlGWBSg/rTGXrh9A0AIySC9O/p\n",
       "DDU1NYWFhVartbW11Riz7NSfzsCOO4AgEaTeQaqurg4ODt6+ffvatWsjuyUkJHh7\n",
       "kLzxPafMuAMIEu9DMuD7kLx3qMGOO4AgESTjBMkb99ex4w4gSATJgEHyircfseMO\n",
       "IEgEyeBBMsDHhDPjDiBIBMkIQTLG8IIddwBBIkheHySv3l/HjjuAIBEkgwTJAPvr\n",
       "3LHjDiBIBMlbg2SwUQU77gCCRJC8NUjG2F/HjjuAIBEk7w6SwfbXuZrEjjuAIBEk\n",
       "LwuSUQcT7LgDCBJB8rIgGWx/nS+0FiBIBMmAQTLk/jp23AEEiSB5X5C8+vx1FBcg\n",
       "SATJOEHyxs+b6O8gac67lcaOLkCQCJLXB8lHRg/ajjtjdxcgSATJu4Nk+P117un1\n",
       "ro9mBwgSQfKtIPnUuEGCZDldz6sGQJAIkooMPOG7zx130iR23AEEiSCpuBfL16af\n",
       "yf8ys8ABgkSQVNyF5YNvGpUGs+MOIEgEif11lBggSASJIPU1VvDNpw2nbwAIEkFS\n",
       "q0a+/F5RTt8AECSCpAreKMoscIAgESQl+OwBJPcddxxMAggSQWKHlRKkRhxMAggS\n",
       "QdKTjx9AcseH+AEEiSCxv04VHEwCCBJBYn+dEjiYBBAkgqTbTioGBJ6YdggQJIKk\n",
       "wx4qRgN9DhyZ4AAQJII0qDiAdJOxIzszAYJEkAZvHMBr7o1oB5PYnwkQJII0GJjw\n",
       "fStNYpcmQJAI0oDj0P2tNEluJZoEECSCNLA4gHTrTaLcStFmh7p/yXDf9eV+ObcV\n",
       "QSJIXhAkDiD167Zi0t3gtF8Go67AzHm3Um52+bNJ/itf8q183WJy+gyVtgZtba7V\n",
       "amt2rZad2ASJIOmAA0i3sYeTG+Hu5kcegdIA9/BoE0l0GdloG+NKV68WapfL7/Cs\n",
       "IUhe5uzZsxkZGYoHid1Qt7GbiDHlXXnRl9d37bXeiz5CXkvRTXKlja7IFUFSSHNz\n",
       "c0pKSkhISFpamuJB4gASTRrM4bh7gQw5SeQWR1e+M0GGIOnP4XCUlZXZ7XbFg8QB\n",
       "JJo0oPvitN1u2osyB2Zczzj341iexTLYDUWQFNpl12eQnnjiiZU95syZ47rnBn9Z\n",
       "+3tN323w4uU//c3VJG4T17LWIe3V1rUjjtvnFpf//Xzsflx5Tr5wn3/htyTJFTC/\n",
       "X5ldczcU+X+RLfnJmt3y5Tfzd/JfgqR0kNQZIXEA6c5HAMxx0Gjz4lyDIW6QwRx1\n",
       "3WQyofuXq2e3/eW5TlcX+5xwzwiJIHEAiSYN9t5LeSDJCxOPB7DLjiDd0e5snjB3\n",
       "5RXZ18aaWom1DjEeAkHifUh3incg0aTb7hD75UCQCNLdxAGku/5ibdR9d649k3QI\n",
       "BIkgDQgOIA1Qkwzzkk2HQJAI0uDtsuPZMnAv4t4++pSHBx0CQSJIg4FTIA/0zeuN\n",
       "u+/cpypwfBEEiSAN3t+/vOIM9Iu79i4N9YdK7JoDQSJIeuIA0mC+0Ku8ea5TKjDD\n",
       "BQSJIOmgqM7J2xgH83VfqeMxWoc4RASCRJCUCBJvidVrD56Oo6U+TzEHECSCpHOQ\n",
       "OICk79h0kJNAh0CQCJK6QeItsSrsNNM+Fmjg/jJwP6WC73z6DggSQfKyIDGjQZEs\n",
       "aftOXZ/YfdvZkFVpJ9t2jxDjIRAkgqR6kDiApOauPNeONW3kdKP7SH7T9XED2kcM\n",
       "aAXiJKcgSATJ+4LEASTFh03ayKnXR4v2+vgZBkAgSATJCEHiABIAgkSQlAgSB5AA\n",
       "ECSCpH+QOIAEgCARJIIEgCARJILUgxkNAAgSQVIiSEb9SFMABIkgeVmQmNEAgCAR\n",
       "JP2DxAEkAASJICkRJA4gASBIBIkgASBIBIkg9eAAEgCCRJD0D1JD1z+ZYgeAIBEk\n",
       "/YPEjAYABIkgKREkDiABIEgESYkgcZJvAASJICkRJGY0ACBIBEn/IHEACQBBIkgE\n",
       "CQBBIkgEqQczGgAQJIKkRJCY0QCAIBEkJYLEjAYABIkgqbLLjicGAIJEkHQOkuV0\n",
       "vXzxxABAkAiSzkFiRgMAgkSQlAgSMxoAECTjB8npdNpsNrPZHBcXV15e7rr8+vXr\n",
       "+/fv37hxY2xs7KVLl/QNEjMaABAk4weppKREkuNwOIqLiyMiIlyXnz9/ftOmTZ2d\n",
       "nWfOnImOjtYxSLwlFgBB8okg2e32rKwsbTk8PLyxsVFb/vjjjxMTEyVIEqr4+Hgd\n",
       "g8SMBgAEyThB2r9//wsvvJCcnLx169avvvrK/Uepqan5+fnaclxcXE1Njbbc2toa\n",
       "ExOzbt26VatW5eTkeAbJZaAfDcxoAKBLh1wI0l2zZcuWp59+ev78+ZGRkWvWrAkM\n",
       "DHT/aXp6uqs38gu1tbXa8pEjR9LS0pxOZ0NDQ1hYWEtLi14jJGY0AGCEZJAgPfPM\n",
       "M+fOnUtMTJTeyLdPPvnkF1984fppbm5uUlKSLEiKTCZTRzcZJ9ntdhlXyeVtbW3u\n",
       "u/IGP0jMaABAkAwSpBkzZpw8eVIL0rVr10aOHCmDHtdPJT9Wq9VsNsswSNt3V11d\n",
       "HRwc3NTUtGnTJvknGzZsOHr0qF7HkJjRAIAgGSdIhw4dGjVqVGBg4LPPPjt58uSl\n",
       "S5d60fuQmNEAgCAZalJDSUmJjIFWrVr13nvvOZ1OLwoSMxoAECTO1KBEkJjRAIAg\n",
       "GSFIEyZMGN2XXjO/VQ4SMxoAECQjBKm6urq8vHz16tUzZ848ffr0hQsXQkNDp06d\n",
       "ev36da8IEjMaABAkQ+2ymzRpkqTI9e24ceOuXLniFUFiRgMAgmSoID377LOHDx/W\n",
       "lhsaGvz9/b/88kuvCBIzGgAQJEMFad++fcOHD1+2bFlwcPB3vvOdJUuWeMukhu8n\n",
       "lvJkAECQDDXL7qOPPlq3bl1ISIjNZrvzA0iDFiRmNAAgSIYK0l/+8hfTf2tra1M/\n",
       "SMxoAECQjBak3bt3r+8WGhr6wx/+cMaMGe3t7QQJAAiSnmRsNHbs2NbWVvWDxIwG\n",
       "AATJyEHq7Ox87LHHKioq1A8S52gAQJCMFiS5NWf0kBpNnDhRsqR+kJjRAIAgGS1I\n",
       "e/fufe+99w53O3nyZHZ2tvpB4gASAIJkqCA1Nzdfvnx52rRpmZmZl7tVVlb6+/ur\n",
       "fy47ggSAIBkqSNu2bZP83HfffSNGjPDvMXPmzDv/BIqBDhIzGgAQJAPuslu0aFFp\n",
       "aeldPy41oI8AZjQAIEgGn2XnLUFiRgMAgmSoIM2ePfvIkSNvvPHG5P/W0tKicpCK\n",
       "6pxz3q3kaQCAIBknSPn5+XV1daWlpaf+m+Kz7JjRAIAgGS1Izz333OS+KD5CYkYD\n",
       "AIJktCAVFBRoQ6KcnJx9+/bt3Lnz2LFj6o+QmNEAgCAZc1JDVVXVhAkTHnzwwVGj\n",
       "Rg0fPjw1NVXxSQ3MaABAkIwZpBdeeCE4OFg7w3dWVtaIESMU//gJPpcPAEEyZpDG\n",
       "jx9fWVnp+nbSpEmXLl1SNkjMaABAkAwbpOXLl0dHR2vLhYWFY8aMUfnzkJjRAIAg\n",
       "GTZIr7/+up+f39ixYydPnjxkyJDRo0f/qFtJSQlBAgCCNHjOnTv3YV+am5sVDBJT\n",
       "7AAQJMMGaSAMXJCYYgeAIBk2SCdOnJg1a9ZUN8q+MZYZDQAIkpGDFBgYGBYWlp2d\n",
       "faKHsm+MtZyuly+eAAAIkjGDJEOi4uJir9hlx4wGAATJyEHau3fvjBkzbDbb0R7K\n",
       "jpCY0QCAIBk5SEFBQf7+/tOmTZve49q1a2oGiRkNAAiSkYM0YcKE8+fPq7/Ljo9B\n",
       "AkCQDB6kN954Y9++feoHiSl2AAiSwYMkt6afn19gYOCMHmrusmNGAwCCZPAg5efn\n",
       "H3bzzjvvqHm2b2Y0ACBIPnGmBhkV7d69e9q0aTJaupOTBg1ckJjRAIAgGX+EtGLF\n",
       "iuHDhwcEBERERFRUVLj/1Ol02mw2s9kcFxdXXl7u/qO8vLzY2NiEhISysrKBDpKM\n",
       "jfgYJAAEybBBeueddyZNmuTv7x8UFLR+/fr58+d7/k5JSYlUx+FwFBcXS65cl1+5\n",
       "ckUq1dTUVFVVFRMTM9BBYkYDAIJk5CCNGjVq4sSJRUVFspyZmblgwQLP37Hb7VlZ\n",
       "WdpyeHh4Y2Ojtnz48OHjx49LjWREVV9f7xkkl7tylzOjAYBqHXIhSHfBhQsXVq9e\n",
       "HRAQMGXKlN/85jd9Bik1NTU/P19bjouLq6mpcZ3fQUZIkqs9e/Zs2bLl+vXrAzpC\n",
       "IkgAGCEZ/xhSe3u7zWabO3fu0KFDf/nLX8qye13S09NzcnK05cjIyNraWleoDh48\n",
       "qC1HRUW5QjVAQeIAEgCC5Cuz7MQnn3wSERExZswY91l2ubm5SUlJsiApMplMHd0k\n",
       "P3K5jI3k8tbW1vDw8IaGhgENElPsABAkHwqSptfON8mP1Wo1m81hYWHavrvq6urg\n",
       "4ODOzs6dO3fGxMTIjz744IMBndTAjAYABMkXg6TgqYMIEgCCRJCUCBIzGgAQJIKk\n",
       "RJA4aRAAgkSQlAgSMxoAECSCpH+Q+BgkAASJICkRJGY0ACBIBEmJIDGjAQBBIkgE\n",
       "CQAIEkHqwRQ7AASJICkRJKbYASBIBEn/IDGjAQBBIkgECQAIEkHqwYwGAASJICkR\n",
       "JGY0ACBIBEmJIDGjAQBBIkhKBImTBgEgSARJ/yAxowEAQSJISgSJGQ0ACBJBUiJI\n",
       "c96tLKpz8nAHQJAIks5BYoodAIJEkJQIElPsABAkgqR/kJjRAIAgESQlgmQ5XS9f\n",
       "PNYBECSCpHOQmGIHgCARJCWCxIwGAASJICkRJGY0ACBIBEn/IBXVOTlpEACCRJD0\n",
       "DxJT7AAQJIKkRJCY0QCAIBEkJYLESYMAECSCpESQmGIHgCARJCWCxBQ7AASJIOkf\n",
       "JGY0ACBIBEmJIHHSIAAEiSApESSm2AEgSARJiSB9P7GUhzgAgkSQ9A8SMxoAECSC\n",
       "pH+QOGkQAIJEkJQIElPsABAkgtQ3p9Nps9nMZnNcXFx5eXmvn3Z2dsbHx1dXV9+t\n",
       "IDGjAQBBIkh9KykpiY2NdTgcxcXFERERvX4qrTKZTJWVlXcrSJyjAQBBIkh9s9vt\n",
       "WVlZ2nJ4eHhjY6PrR+fPn09OTt6zZ0+fQXLp113LjAYA3tIhF4I0SFJTU/Pz87Xl\n",
       "uLi4mpoabbm5uTk+Pr61tfVGQbq9+5ggAWCERJD6lp6enpOToy1HRkbW1tZqyzI2\n",
       "SktLKygo2Lx5c2Zm5rVr1+48SMxoAECQCNIN5ebmJiUlyYKkyGQydXSTcVJpaemp\n",
       "bhaLxW63t7S03HmQOGkQAIJEkG5I8mO1Ws1mc1hYmLbvrrq6Ojg42PULMlSqqqq6\n",
       "K7vsmGIHgCARJCXeh8QUOwAEiSApESRmNAAgSARJ/yAxowEAQSJIBAkACBJB6sGM\n",
       "BgAEiSApESRmNAAgSARJiSAxowEAQSJIqoyQeGQDIEgESecgMaMBAEEiSEoEiRkN\n",
       "AAgSQSJIAECQCFIPptgBIEgESYkgMcUOAEEiSPoHiRkNAAgSQVIiSHwMEgCCRJCU\n",
       "CBIzGgAQJIKkRJCY0QCAIBEkJYLEjAYABIkg6R8kZjQAIEgEiSABAEEiSD2Y0QCA\n",
       "IBEkJYLEjAYABIkgKREkZjQAIEgESf8gFdU557xbyQMaAEEiSDoHiRkNAAgSQVIi\n",
       "SMxoAECQCJISQeJjywEQJIKkRJCY0QCAIBEk/YPU0PVPRkgACBJB0j9IzGgAQJAI\n",
       "khJBYkYDAIJEkJQIEudoAECQCJISQWJGAwCCRJAIEgAQJILUjRkNAAgSQVIiSMxo\n",
       "AECQCBJBAgCCRJB6MMUOAEEiSEoEiRkNAAgSQeofp9Nps9nMZnNcXFx5ebnr8o6O\n",
       "jrS0NLncYrFUVVX1K0jMaABAkAhSv5WUlMTGxjocjuLi4oiICNflp06dslqtnZ2d\n",
       "hYWFUVFR/QoSB5AAECSC1G92uz0rK0tbDg8Pb2xs1Jazs7PLyspkobm5OTQ01DNI\n",
       "LgQJgCE75EKQBklqamp+fr62HBcXV1NT4/7TlpaWHTt2SLT6NUJiRgMARkgEqd/S\n",
       "09NzcnK05cjIyNraWtePJFTR0dF5eXn9ndTAjAYABIkg9Vtubm5SUpIsSIpMJlNH\n",
       "NxknFRYWWq3W1tbW/s6yY0YDAIJEkG6H5EfCYzabw8LCtH131dXVwcHB27dvX7t2\n",
       "bWS3hISEWw8SB5AAECSCpMT7kDiABIAgESQlgsQBJAAEiSDpH6SiOuecdyt5BAMg\n",
       "SARJ5yAxowEAQSJISgSJGQ0ACBJBUiJIzGgAQJAIkhJBYkYDAIJEkPQPEgeQABAk\n",
       "gkSQAIAgEaQezGgAQJAIkhJBYkYDAIJEkJQIEjMaABAkgqR/kDiABIAgESQlgmQ5\n",
       "XS9fPHYBECSCpHOQGB4BIEgESYkgcQAJAEEiSPoHiZN8AyBIBEmJIDGjAQBBIkhK\n",
       "BIm3xAIgSARJiSDxllgABIkgKREkZjQAIEgESf8gcQAJAEEiSEoEiQNIAAgSQVIi\n",
       "SBxAAkCQCJISQeIAEgCCRJD0DxIHkAAQJIKkRJA4pyoAgkSQlAgSMxoAECSCpESQ\n",
       "OIAEgCARJP2DxAEkAASJIBEkACBIBKknSHPerSyqc/J4BUCQCJLOQeIAEgCCRJD0\n",
       "DxL76wAQJIKkRJCY8A2AIBEkJYLEKewAECSCpESQOIAEgCARJP3Nefv/OIAEgCAR\n",
       "JP2ND92v7AGkXp9my+axeWwbm0eQvJvT6bTZbGazOS4urry8vNdPv7U2W9kDSDzx\n",
       "2Dy2jc0jSIZSUlISGxvrcDiKi4sjIiJ6//8rfACJJx6bx7axeQTJUOx2e1ZWlrYc\n",
       "Hh7e2NjYa5fdSgDwDQRJZ6mpqfn5+dpyXFxcTU3NNwAAgjT40tPTc3JytOXIyMja\n",
       "2lrudQAgSDrIzc1NSkqSBUmRyWTq6OjgXgcAgqQDKZDVajWbzWFhYa59dwAAggQA\n",
       "AEECABAkAAAIUm83P32DIs6ePZuRkaHghnV0dKSlpcmtZ7FYqqqqVNu2vXv3btiw\n",
       "IT4+/vLly2res52dnbJ51dXVCm7bli1bYrulpqYquHl5eXmybQkJCWVlZUpt2Icf\n",
       "fhjrptf7HXV3/fr1/fv3b9y4Ubbt0qVLBEktNz99g+6am5tTUlJCQkLkdV/BW+/U\n",
       "qVNWq1VeVQsLC6OiopTattOnT+/YsaOrq+v48eOykWo+/OSPIZPJVFlZqeADb9Om\n",
       "Te3dFJyPeuXKFfkzqKmpSf4MiomJUWrb5MWkuZv8HZmYmCgBUGrzzp8/L/esPGfP\n",
       "nDkTHR1NkNRy89M3qPDglj8AZSPVDFJ2drb296k8/UJDQ1X7U0MbGMnrwrZt2xS8\n",
       "9eSlITk5ec+ePQoG6eLFi5Lz/Px8uRkl6qpt3uHDh+XvDKlRRUVFfX29gnduW1ub\n",
       "vNw3NDSotmEff/yxZFKCJH+Cy+icIKnFK07fIC+pagZJ09LSIi9eUk0Ft01e8Vev\n",
       "Xl1UVKTgEEReDlpbW9UMUk5OTkJCQm5u7q5du7Zv367a5u3du1dGSPKQk1tvy5Yt\n",
       "qo1CREZGxrFjxxR8RshDTsaU69atW7VqletEAQRJFV5x+gaVgyQ5l78E8/LyVNsw\n",
       "+cNZ29dUV1dnMpna29tVK6XcpwUFBZs3b87MzLx27Zqa96+81sut99VXX6n2d+TB\n",
       "gwe15aioKNX+jpR7U240eelX8A49cuSIPPCcTqeM3sLCwuSvSYKkEK84fYOyQSos\n",
       "LLRarWo+8VJSUo4ePSoL8mIaGhqq2kaWlpae6maxWOQvfdVeF2ST5KmhdV1uPdWe\n",
       "F7JtMjbS/t4PDw9Xbc+Y/JW2c+dONV/x5J7dv3//N907FRU8SOHrQfKK0zcoG6Tt\n",
       "27evXbs2sltCQoJS2yZ/YUR127Bhw8mTJ5V9BMpQSbUJiuLq1asy8JVYylNDHn6q\n",
       "bV5nZ6e84sfExMjmffDBBwq+6B8+fFjNx1tTU9OmTZvkCSvPC+0vNoKkHPk7S8Ej\n",
       "t7hzX3/9tYIHGLzo1nM6ncpuXnt7O3fubb/iSdRV3kLeGAsAIEgAABAkAABBAnyC\n",
       "judocTgcap6aCCBIwA21trb6eXj77bdnzpx5J6v9xz/+cYdruEVnzpwZP358rws7\n",
       "OjrGjRun5ju+AYIE3JCz29atW2fNmqUt19fXnzt37k7WOW/evL///e+DEyRpj+fl\n",
       "Fovlrbfe4s4FQQK8z7Zt255//nlt+cMPP3zllVcyMzNfeuklGegMHz582bJl4eHh\n",
       "/v7+3/72t12nh9m8efPjjz/+2GOPbdiwwX1VFRUVcmFVVdW0adMeeOCBJ554wvWW\n",
       "Ms9/EhUVJeuUq1i8eHFbW5vWkjFjxjz88MOyDY2NjbIZS5YskVjef//9sjFyiSRT\n",
       "/vmjjz4qv7No0SItSNXV1e5XJ00dNmyYw+HgngVBArw4SNIAeenft2+fvKYXFBTU\n",
       "1tZqwWhoaFi/fv38+fO/6T4dy1NPPfXpp59euXJl4sSJNpvNtSq73S7/3GQyLVy4\n",
       "sKur6/333588eXKf/0RGURKnsrKyL774Qn4nMTFRrjogIKC4uFjCM3fu3OXLl8tm\n",
       "DB06NDc3VxozadKkXbt2ZWRkSMMuXrz45ZdfyjZrQfK8OlmPduYFgCABXh+kefPm\n",
       "aZeMHz/+xIkTWmxmz54tC7///e8DAwNDu02fPn3p0qWuVcXExMi3shLp2auvvioJ\n",
       "0c5O7flP5BLXGdO/6vbWW2+9/fbb2iWnTp2SXMlmaNeorSEuLi4oKEjyo12SlZWl\n",
       "Bcnz6uS6/vrXv3LPgiABRgiSNhjSgvTRRx/JwsGDB7U8vPnmm7/4xS+293A/bUxE\n",
       "RISEQRYqKyutVutzzz03atQoGfF4/pPf/va3rk/kqqmpqaqqkt8JDw/XLiksLHzk\n",
       "kUfcN0ML0ooVK2Sgpl0iYyDXMaReV/fjH//4wIED3LMgSIDBgyQ/nTp1qoxprl+/\n",
       "/uKLL2rn/dQkJyfLAEji8ac//emb7o/qGDp0aFlZmec/SUpKmjBhglzS2toq/UhP\n",
       "T9+7d+93v/vdq1evyu/IEGrhwoWeQZLfefLJJ2UY5HQ6Fy9erAXJ8+okSxcvXuSe\n",
       "BUECvIwMWVxBOnTo0KxZs6QECxYsuFGQurq6li9f/vDDDz/66KPya+7nxr58+fLI\n",
       "kSOLiorGjBkjdQkICFiyZIkExvOftLe3v/zyyw899NDo0aNfe+21rm5BQUHaJT/5\n",
       "yU8+/fRT9834wx/+oH3057Jly0aMGCG/I+HUgnTu3Dn3q6urqxs2bJji5y4DCBJw\n",
       "17S1tfX5sUZz58612WwSodra2l6/4PlPZHikza9zcTgcTU1NN79q+Ve91uN+dTKQ\n",
       "WrNmDXcQCBLg6woKCqZPn67XtcvAS4Z0an7ON0CQgMGm44eUd3Z2fvbZZ9wFIEgA\n",
       "ABAkAABBAgCAIAEACBIAAAQJAECQAAAgSAAAggQAAEECABAkAAAIEgCAIAEAQJAA\n",
       "AAQJAACCBADwLf8PmeevUqjn0KwAAAAASUVORK5CYII=\" style=\"clip-path:url(#clipPath1);\" height=\"420\" preserveAspectRatio=\"none\"\n",
       "    /></g\n",
       "  ></g\n",
       "></svg\n",
       ">\n"
      ]
     },
     "metadata": {},
     "output_type": "display_data"
    }
   ],
   "source": [
    "step(Gc)"
   ]
  },
  {
   "cell_type": "code",
   "execution_count": 7,
   "metadata": {},
   "outputs": [],
   "source": [
    "pidTuner(G,D)"
   ]
  }
 ],
 "metadata": {
  "celltoolbar": "Slideshow",
  "kernelspec": {
   "display_name": "MATLAB",
   "language": "matlab",
   "name": "imatlab"
  },
  "language_info": {
   "codemirror_mode": "octave",
   "file_extension": ".m",
   "mimetype": "text/x-matlab",
   "name": "matlab",
   "nbconvert_exporter": "imatlab._exporter.MatlabExporter",
   "pygments_lexer": "matlab",
   "version": "9.11.0.1769968 (R2021b)"
  }
 },
 "nbformat": 4,
 "nbformat_minor": 2
}