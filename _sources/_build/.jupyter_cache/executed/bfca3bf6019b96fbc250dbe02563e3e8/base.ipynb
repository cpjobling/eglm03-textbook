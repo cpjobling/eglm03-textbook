{
 "cells": [
  {
   "cell_type": "code",
   "execution_count": 1,
   "metadata": {},
   "outputs": [],
   "source": [
    "imatlab_export_fig('print-svg')  % Static svg figures."
   ]
  },
  {
   "cell_type": "code",
   "execution_count": 2,
   "metadata": {},
   "outputs": [
    {
     "name": "stdout",
     "output_type": "stream",
     "text": [
      "\n",
      "D =\n"
     ]
    },
    {
     "name": "stdout",
     "output_type": "stream",
     "text": [
      " \n"
     ]
    },
    {
     "name": "stdout",
     "output_type": "stream",
     "text": [
      "             1      1          \n"
     ]
    },
    {
     "name": "stdout",
     "output_type": "stream",
     "text": [
      "  Kp * (1 + ---- * --- + Td * s)\n"
     ]
    },
    {
     "name": "stdout",
     "output_type": "stream",
     "text": [
      "             Ti     s          \n"
     ]
    },
    {
     "name": "stdout",
     "output_type": "stream",
     "text": [
      "\n",
      "  with Kp = 19, Ti = 2, Td = 0.211\n"
     ]
    },
    {
     "name": "stdout",
     "output_type": "stream",
     "text": [
      " \n"
     ]
    },
    {
     "name": "stdout",
     "output_type": "stream",
     "text": [
      "Continuous-time PID controller in standard form\n",
      "\n"
     ]
    }
   ],
   "source": [
    "P = 19; D = 4/19; I = 2;\n",
    "D = pidstd(P, I, D)"
   ]
  },
  {
   "cell_type": "code",
   "execution_count": 3,
   "metadata": {},
   "outputs": [
    {
     "name": "stdout",
     "output_type": "stream",
     "text": [
      "\n",
      "G =\n"
     ]
    },
    {
     "name": "stdout",
     "output_type": "stream",
     "text": [
      " \n"
     ]
    },
    {
     "name": "stdout",
     "output_type": "stream",
     "text": [
      "         1\n"
     ]
    },
    {
     "name": "stdout",
     "output_type": "stream",
     "text": [
      "  ---------------\n"
     ]
    },
    {
     "name": "stdout",
     "output_type": "stream",
     "text": [
      "  5 s^2 + 6 s + 1\n"
     ]
    },
    {
     "name": "stdout",
     "output_type": "stream",
     "text": [
      " \n"
     ]
    },
    {
     "name": "stdout",
     "output_type": "stream",
     "text": [
      "Continuous-time transfer function.\n",
      "\n"
     ]
    }
   ],
   "source": [
    "s = tf('s');\n",
    "G = 1/(5*s^2 + 6*s + 1)"
   ]
  },
  {
   "cell_type": "code",
   "execution_count": 4,
   "metadata": {},
   "outputs": [
    {
     "name": "stdout",
     "output_type": "stream",
     "text": [
      "\n",
      "Go =\n"
     ]
    },
    {
     "name": "stdout",
     "output_type": "stream",
     "text": [
      " \n"
     ]
    },
    {
     "name": "stdout",
     "output_type": "stream",
     "text": [
      "  4 s^2 + 19 s + 9.5\n"
     ]
    },
    {
     "name": "stdout",
     "output_type": "stream",
     "text": [
      "  ------------------\n"
     ]
    },
    {
     "name": "stdout",
     "output_type": "stream",
     "text": [
      "  5 s^3 + 6 s^2 + s\n"
     ]
    },
    {
     "name": "stdout",
     "output_type": "stream",
     "text": [
      " \n"
     ]
    },
    {
     "name": "stdout",
     "output_type": "stream",
     "text": [
      "Continuous-time transfer function.\n",
      "\n"
     ]
    }
   ],
   "source": [
    "Go = series(D,G)"
   ]
  },
  {
   "cell_type": "code",
   "execution_count": 5,
   "metadata": {},
   "outputs": [
    {
     "name": "stdout",
     "output_type": "stream",
     "text": [
      "\n",
      "Gc =\n"
     ]
    },
    {
     "name": "stdout",
     "output_type": "stream",
     "text": [
      " \n"
     ]
    },
    {
     "name": "stdout",
     "output_type": "stream",
     "text": [
      "      4 s^2 + 19 s + 9.5\n"
     ]
    },
    {
     "name": "stdout",
     "output_type": "stream",
     "text": [
      "  ---------------------------\n"
     ]
    },
    {
     "name": "stdout",
     "output_type": "stream",
     "text": [
      "  5 s^3 + 10 s^2 + 20 s + 9.5\n"
     ]
    },
    {
     "name": "stdout",
     "output_type": "stream",
     "text": [
      " \n"
     ]
    },
    {
     "name": "stdout",
     "output_type": "stream",
     "text": [
      "Continuous-time transfer function.\n",
      "\n"
     ]
    }
   ],
   "source": [
    "Gc = feedback(Go,1)"
   ]
  },
  {
   "cell_type": "code",
   "execution_count": 6,
   "metadata": {},
   "outputs": [
    {
     "data": {
      "image/svg+xml": [
       "<?xml version=\"1.0\"?>\n",
       "<!DOCTYPE svg PUBLIC '-//W3C//DTD SVG 1.0//EN'\n",
       "          'http://www.w3.org/TR/2001/REC-SVG-20010904/DTD/svg10.dtd'>\n",
       "<svg xmlns:xlink=\"http://www.w3.org/1999/xlink\" style=\"fill-opacity:1; color-rendering:auto; color-interpolation:auto; text-rendering:auto; stroke:black; stroke-linecap:square; stroke-miterlimit:10; shape-rendering:auto; stroke-opacity:1; fill:black; stroke-dasharray:none; font-weight:normal; stroke-width:1; font-family:'Dialog'; font-style:normal; stroke-linejoin:miter; font-size:12px; stroke-dashoffset:0; image-rendering:auto;\" width=\"560\" height=\"420\" xmlns=\"http://www.w3.org/2000/svg\"\n",
       "><!--Generated by the Batik Graphics2D SVG Generator--><defs id=\"genericDefs\"\n",
       "  /><g\n",
       "  ><defs id=\"defs1\"\n",
       "    ><clipPath clipPathUnits=\"userSpaceOnUse\" id=\"clipPath1\"\n",
       "      ><path d=\"M0 0 L560 0 L560 420 L0 420 L0 0 Z\"\n",
       "      /></clipPath\n",
       "      ><clipPath clipPathUnits=\"userSpaceOnUse\" id=\"clipPath2\"\n",
       "      ><path d=\"M0 0 L1119.9999 0 L1119.9999 839.9999 L0 839.9999 L0 0 Z\"\n",
       "      /></clipPath\n",
       "    ></defs\n",
       "    ><g style=\"fill:white; stroke:white;\"\n",
       "    ><rect x=\"0\" y=\"0\" width=\"560\" style=\"clip-path:url(#clipPath1); stroke:none;\" height=\"420\"\n",
       "    /></g\n",
       "    ><g transform=\"scale(0.5,0.5)\"\n",
       "    ><image x=\"0\" y=\"0\" width=\"1120\" xlink:href=\"data:image/png;base64,iVBORw0KGgoAAAANSUhEUgAABGAAAANICAIAAAAHNA4rAABXOklEQVR42uzdDXTV\n",
       "9X34cai1+NDa1fZYi7aybnNWXVvtw9xZu5Ou7da1ttp2toc+WPuvMyE8aFWoWJEI\n",
       "4ZAK6lAynqRUbfFhpbY4JVRoICYiUFIcGAikBGmlsRBiGEgFkvy/45f72/UmhBtI\n",
       "4D68XifHE365F8Mv94Pft/f+vndABwAAAIcMcAoAAAAEEgAAgEACAAAQSAAAAAIJ\n",
       "AABAIAEAAAgkAAAAgQQAACCQAAAABBIAAIBAAgAAEEgAAAACCQAAQCABAAAIJAAA\n",
       "AIEEAAAgkAAAAAQSAACAQAIAABBIAAAAAgkAAEAgAQAACCQAAACBBAAAIJAAAAAE\n",
       "EgAAgEACAAAQSAAAAAIJAABAIAEAAAgkAAAAgQQAACCQAAAABBIAAIBAAgAAEEgA\n",
       "AAACCQAAAIEEAAAgkAAAAAQSAACAQAIAABBIAAAAAgkAAEAgAQAACCQAAACBBAAA\n",
       "IJAAAAAEEgAAgEACAAAQSAAAAAIJAABAIAEAAAgkAAAAgQQAACCQAAAABBIAAIBA\n",
       "AgAAEEgAAAACCQAAQCABAAAIJAAAAIEEAAAgkAAAAAQSAACAQAIAABBIAAAAAgmA\n",
       "nPHaa6/V1dX913/911NPPbV+/fq9e/c6JwAIJADyTmtra0lJydvf/vYBSU477bTi\n",
       "4uItW7bEN2tvb9+bcDy/vWHDhp16GOecc85nPvOZxx9/3A8RAIEEQB8ItfN3f/d3\n",
       "Aw7j7LPPbmxsjG750ksvxccrKyuP23f4ne98Z8CR3HjjjX6UAAgkAI7VqFGj4sx4\n",
       "17veNXTo0CuvvPKtb31rfPDSSy/tGkiLFy8+UYH0pkPe+MY3pjTSsmXL/DQBEEgA\n",
       "HJO//uu/jgLjoosu2rNnT3Rw9+7dH/rQh+L22LFjR4YE0vbt26ODBw8erKmp+ed/\n",
       "/uf4SzfddJOfJgACCYCjt3fv3jgwvva1ryV/6cEHHzw5obKysrCw8IorrohvXFBQ\n",
       "cPXVVz/66KPx7deuXVtcXHzZZZe9853v/NSnPjVu3LitW7fGXx0xYsTVh7zwwgvl\n",
       "5eWf/vSnzz777L//+78PVZN8s/QDKVJdXR1/6corr0z+Us/fT7B8+fJrrrnm4osv\n",
       "Puuss9797neHW5aWlr788stH9z2HIzfccMMnPvGJcJu/+Zu/+frXv/7II4+k3Cb+\n",
       "Devq6n72s5+Fb3jw4MHvec97vvSlL61bt65X31uaf0YABBIAvXPuuedGgTFw4MCi\n",
       "oqJnn322ra2t683CV7te+XP99ddHXy0rK3vTm96U8tWwuF+xYkV0g/g1e5dccknX\n",
       "m4V/6dEF0qpVq+IvjR8/Pj5+xO9n7ty5b3jDG7r+iYYMGRJfc5X+9xx+tze/+c1d\n",
       "f7fPfe5zzc3N8c3i3/Dyyy9POZ+nnnrqmjVr0v/e0vkzAiCQAOi1EEUpi+wzzzzz\n",
       "i1/84vTp03/729/GN/uXf/mXT3ziE/FtPvzhD3/mM5+ZOXNm+NJPf/rT+Ph73vOe\n",
       "Sy+9NP7l6aef/sc//jG5DYKw+v/gBz/4V3/1V/GRc84557XXXuttIL344otf/epX\n",
       "4y8tXbo0On7E76e9vf1tb3tbdOSyyy6bMmXKddddF74UHfnWt76V0jM9f8+//vWv\n",
       "TzrppOjgKaecEn7D8KX4ZvHvlvIbBm95y1uSfzl06NCOQ1sFpvO9pXPOARBIAPTa\n",
       "q6+++rGPfazbreFCFfzrv/5r/Mqubq9B2rdv3+DBg6ODw4cPj559amhoiFf548aN\n",
       "S26DN73pTU8//XR037vuuiv+DWfNmpVOIA0ZMuQvDznvvPOSv9UvfOELBw8eTPP7\n",
       "eeGFF+I7xq8SnDx58lsOed/73pfSMz1/zyFj4lCJn+G5/vrr45t1fRrttNNOe+SR\n",
       "R/bv3//888/Hf5D3vve94TbpfG9pnnMABBIARyOssOfNm/fRj36029fRXXzxxT1s\n",
       "0rBy5cr4FXqrVq2qS7jyyivjbEhug5QrnS688MLo+FVXXZVOIHXrAx/4QGtra/rf\n",
       "z/bt2+P7Dho06Fvf+taDDz4YAiPl35vO9xzyMn453IwZM+LbhIaJcyXkTcpv+M1v\n",
       "fjO+5be//e24msIv0/ne0jznAAgkAI5JSKCwHP/GN75x5plnJhdIWVnZ4QLp/vvv\n",
       "77leTj755OQ2+I//+I/kf+Pw4cOj4x/60IfSCaTBgwf/xSEp32FBQUGvvp/QPN1e\n",
       "5DNx4sT4bXDT+Z7XrFkT3339+vXJN/v0pz8dHQ/nM+U3nDBhQnyze++9Nzp40kkn\n",
       "RUeO+L2l+WcEQCAB0DuhcyYfMmXKlP3798fHw+elpaXxgjus9Q8XSFOnTj3iu7ju\n",
       "2rUrboMf/vCHyd/A6NGjo+OhedIJpPgapLa2tpqamvjJnCD8Mv3v58CBA+E7+djH\n",
       "Ptb1/ZQ++clPtre3J/dMD9/zM888E9+xvr4++WZf+MIX4pf/pQTSPffcE99szpw5\n",
       "KYF0xO8tzT+jhzeAQAKgd5KX2itXrkz56p//+Z/Hb5F0uEB68skn45d7/eEPf2ju\n",
       "TljTx20wduzY5H/Fl770pXjp36tAiiQ/l3L33Xen//3Ev0Nra+svfvGLESNG/Nmf\n",
       "/Vn8W73wwgvJPdPD99zU1BTfa9GiRck3e9/73hcd/973vterQDri99bbPyMAAgmA\n",
       "tFRVVcUr77/9279N3pN69erVJ598cvI1M8mBNG/evOhm27Zti69cevjhh+O7P/bY\n",
       "Y393yNVXX53cBueee25LS0t0m8bGxkGDBkXHQwYcRSDt2rUr/tLo0aPT/H5mzZr1\n",
       "5kM+/OEPxzdIfi6osrIy/e/5rLPOin75+c9/Ps6SJUuWxL/bT37yk/QDKZ3vLc1z\n",
       "DoBAAqB39u3bl/wqtdNPP/2KK674t3/7t0996lNxHQULFy4MNw75FB85++yz4/dC\n",
       "veaaa+Ld3i6//PJ77703JM0pp5ySfAFP8g7XF1100ZQpUyZPnvzud7873i5vw4YN\n",
       "RxFIwWmnnRZ9KXzb0ZEjfj/JO8V997vfDc2zZcuWb33rW9GRN77xjXv27En/e77v\n",
       "vvuS3/ho5syZ3//+9+O3RbrgggviHczTCaQ0v7d0zjkAAgmAXgtL8Pg5kG7deOON\n",
       "8Y3jF90lv1Hsjh07Uo4n753wpz/9KbkNun0L1BtuuKGH77DnQLr44otTXqSXzvdz\n",
       "1VVXHe7PO3LkyJSe6fl7bmtrCz3Z7W8VMqm6ujr+VtN8iV0631s6f0YABBIARyNU\n",
       "x5gxY84444yUpfYHP/jBn/3sZ8lXs6xcufKSSy5JCaTgf/7nf4YNGxa/n2n0Lqjh\n",
       "q113hJs0adJXvvKV+J1VzzzzzClTpvT87SW/lW3Xt0C9+uqr402x4xfCHfH7OXDg\n",
       "wG233Xb22Wcn/3nDL8ePHx//edP/nkMjheZ5xzvekbyP3OWXX75169bkm3UbSPPm\n",
       "zeu6ScMRv7d0/owACCQAjt6f/vSn+vr6xYsXL1iw4Ne//nUP26C9+uqroamamprC\n",
       "Uj6lEzZv3vz000+vW7cu3KaHNgiL+6qqqvCv69e9BHr4fuIU2bRp07JDwjcTvdXs\n",
       "sXzP4bT86le/Cv+65C0Bj07P31v6f0YABBIAGafbJ098zwAIJAAEku8ZAIEEQB57\n",
       "+9vf/sZDpk2b5nsGQCABAAAIJAAAAIEEAAAgkAAAAAQSAACAQAIAABBIAAAAAgkA\n",
       "AEAgcaI0NTUtW7Zsz549vbrXK6+8Eu61detWJxAAAARS7pg9e/Z11123efPm9O/S\n",
       "3t5+zz33hHs98cQTTiAAAAikXLBv376FCxded0ivAmnJkiXRvQQSAAAIpKy3bt26\n",
       "O+64Y/jw4dclpB9IL730UrjjyJEjBRIAAAikHAmk2xOGDRuWfiAdOHBg4sSJN910\n",
       "U2VlpUACAACBlGumT5+efiAtWLAg3Li2tnb16tUCCQAABFL+BlJ9fX1hYeHcuXPD\n",
       "5wIJAAAEUv4G0quvvnrLLbeMGTNm79696QfSdQAA5CKraIGU74E0d+7ccLP169dH\n",
       "v0w/kJzho+PUOXtOnbPn1OHsOXXOnkAiQwNpzZo14TZz5szZl7BixYpw5PHHHw+f\n",
       "Hzx40PD4e8fZc+pw9pw6Z8+pc/YQSPkSSI899lgPT7BWVlYaHn/vOHtOHc6eU+fs\n",
       "OXXOHgIpXwJp1apVM15vwoQJ4V7jx48Pn8evuzM8/t5x9pw6Zw+nztlz6pw9BFIO\n",
       "BtK2bdt+ecjh7uUaJH/vOHtOHc6eU+fsOXXOHgIpXwJp8eLFPe9PIpD8vePsOXU4\n",
       "e06ds+fUOXsIpBw0Y8aMwwVSUVHR4e5VW1sbbvDkk08aHn/vOHtOHc6eU+fsOXXO\n",
       "HgIJwwMAYI2HQMLwAABY4yGQMDwAAFjjCSQMDwAA1ngCCcMDAIA1nkDC8AAAYI0n\n",
       "kDA8AABY4wkkDA8AANZ4AgnDAwCANZ5AwvAAAGCNJ5AwPAAAWOMJJAwPAADWeAIJ\n",
       "wwMAgDWeQMLwAABgjSeQMDwAAFjjCSQMDwAA1ngCCcMDAIA1nkDC8AAAYI0nkDA8\n",
       "AABY4wkkDA8AANZ4AgnDAwCANZ5AwvAAAGCNJ5AwPAAAWOMJJAwPWaexeV9JxZZr\n",
       "Hq4rKK8NH0NKawbcuDT6CJ+H4/NWba9saHGiAMAaTyBheMjxLgoJFD7CJ4e7Taij\n",
       "qJ3iXhJLAGCNJ5AwPOSOUDihc6IuCgnU27tHTzTJJACwxhNIGB6yPo0G3Lg05M28\n",
       "VduP8feJXox3jL8PAGCNJ5AwPJwY0Qvq+vA3bGzeFz0T5dwCgDWeQMLwkDVCyRSU\n",
       "1x7uQqNj/82j9DqKV+sBANZ4AgnDw3EV1Ut/XzI0b9X2/mswAMAaTyBheOgD0YYK\n",
       "x+ff5akkALDGE0gYHjJUqJQBNy49/nvNRY3kqSQAsMYTSBgeMqiOTuBO3NG/3eYN\n",
       "AGCNJ5AwPOR7HcW83A4ArPEEEoYHdaSRAMAaTyBheMgMmVNHcbB5P1kAsMYTSBge\n",
       "TkwdZWCK9Ou7MAEA1ngCCcND1tRR3Ei2tgMAazyBhOFBHf1fIx23d2QCAKzxBBKG\n",
       "J3+FNMqK9ojeSdbzSABgjSeQMDz0Y3UMuHFpFn23GgkArPEEEoaH/pJp29al00j2\n",
       "bAAAazyBhOGh74XMuObhuqz7tjUSAFjjCSQMD32ssqFlSGlNln7zGgkArPEEEoaH\n",
       "vhTqKLteXKeRAMAaTyBheOgXuZEWGgkArPEEEoaHY5Ut+3qnH3tZ/VQYAFjjCSQM\n",
       "DydMdu3rneafaEhpTfinHy4AWOMJJAwPvZNLzx3F5q3anr0bTgCANZ5AwvBwYlQ2\n",
       "tORkIHUc2rI8V/9oAGCNJ5AwPPSL3L5cJ0vf1gkArPEEEoaHE2Dequ253Q82tQMA\n",
       "azyBhOEhXfmwk0HUSCEF/bgBwBpPIGF4OKySii158tRKtKmdjb8BwBpPIGF46KkZ\n",
       "8uqPbFM7ALDGE0gYHrqXh2+lasMGALDGE0gYHrqRw1t79ywEkg0bAMAaTyBheHid\n",
       "PHz6KBJt2OBiJACwxhNIGB465fzW3kdspHzYuw8ArPEEEoaHtMiDkIj5+QpDALDG\n",
       "E0gYHlK5CKcjn7Y4BwBrPIGE4eGwPH0U8e6xAGCNJ5AwPPkuz68+6tpIchEArPEE\n",
       "EoYnf+mBbs+JkwAA1ngCCcOTdzx91C3vHgsA1ngCCcOTj7z/T7e8MxIAWOMJJAxP\n",
       "3gkBYGPrHhrJiw8BwBpPIGF48ognSXrmnZEAwBpPIGF48oWnj9JxzcN13hkJAKzx\n",
       "BBKGJy+W/t7w54hcjAQA1ngCCcOTH7N341InIc1Gsus3AFjjCSQMTy7z9FGv2PUb\n",
       "AKzxBBKGJ6cHz9NHvRG90E5SAoA1nkDC8OSgkootNh44Cnb9BgBrPIGE4bHQp5Nd\n",
       "vwHAGk8gYXhykMtpjuXUefINAKzxBBKGJ3fYtPpY2PUbAKzxBFK+a2pqWrZs2Z49\n",
       "e9K58d69ezdu3FhdXb1hw4bwueHJNN4ctk/OoV2/AcAaTyDlr9mzZ4eH+ObNm3u+\n",
       "WXt7+9NPP11cXHxdwqhRo5YsWWJ4MordvfuEXS4AwBpPIOWjffv2LVy4MKqdIwbS\n",
       "8uXLw82GDRv26KOPVlVV3X///YWFheHI6tWrDU8GzZvdvfuCF9oBgEASSPll3bp1\n",
       "d9xxx/Dhw+Ong3oOpLa2tptvvjncbOXKlfHBKK7uvPNOw5Mh5q3abnuGPmwkL7QD\n",
       "AGs8gZRHgXR7wrBhw44YSC+//HK4zS233NLe3h4f3LlzZzg4cuRIw5MhPOnRt0oq\n",
       "tghOALDGE0h5Z/r06UcMpG3btoWU+tGPfpRyMNxxzJgxhidThs3r6/qUF9oBgDWe\n",
       "QBJIvTBv3rxwxxkzZhieTGB7hn7ihXYAYI0nkATSEbS3t//0pz8N9youLt6+fXvP\n",
       "w9Mtp70/1vGNzfuchz7nyi4A8jyELOcEkkA6glBEZWVl4S4jRoxYv369/7tgEZ/b\n",
       "ohfaeXYOAKzxBJJAStXW1vbUU09Fb4UUGqmpqcnwZAiXyvR3I3mCDgCs8QSSQHqd\n",
       "AwcOzJw5M9zy+uuvr6qqSt7OzvCc+DGzPUM/8xwdAFjjCSSB9DrRRUclJSW7du0y\n",
       "PNbu+cYL7QDAGk8g5XUgbdu27ZeHRL8MUVRcXDxy5MjW1lbDk2m8+uu4NZJTDQDW\n",
       "eAIpTwNp8eLFyfuTrFixInpP2Hu6eOCBBwzPCeTpo+N8tgvKa50HALDGE0i5bMaM\n",
       "GYcLpKKiouiXjz766OF2eLztttsMzwnk7Y+OMy+0AwBrPIGE4cngAbM9w/HlhXYA\n",
       "YI0nkDA8Gcrr604UL7QDwBrPSRBIGJ5MXKZ7+6MTdeZLKrY4DwBY4yGQMDyZNF1e\n",
       "X3eCeKEdANZ4ToJAwvBkFq+vO+Hn3wvtALDGQyBheDKF19dlwo/AC+0AsMZDIGF4\n",
       "MmO0vL7uRPNCOwCs8RBIGJ6M4PV1mfOD8EI7AKzxEEgYnhPMExeZwwvtALDGQyBh\n",
       "eE70XHl9XcbwQjsArPEQSBieE8nr6zLwJ+KFdgBY4yGQMDwnhucrMpAX2gFgjYdA\n",
       "wvCcoKHy+jrhCgDWeAIJw0OH19dl9o/GC+0AsMZDIGF4jitPU2QyL7QDwBoPgYTh\n",
       "OX4qG1o8R5HJ7GgHgDUeAgnDc/xc83DdvFXbnYdMFn5AoZGcBwCs8RBIGJ5+59mJ\n",
       "bOlYL7QDwBoPgYTh6V9eX5ctQsSGn1T4eTkVAFjjIZAwPP3F6+uyiBfaAWCNh0DC\n",
       "8PQvr6/LuqD1QjsArPEQSBie/uL1ddnFC+0AsMZDIGF4+ovX12UpL7QDwBoPgYTh\n",
       "6Zd1ttfXZWnZeqEdANZ4CCQMT18P0o1LnYRs5IV2AFjjIZAwPH1s3qrt1zxc5zxk\n",
       "qVBHXmgHgDUeAgnD02dcgJTtSiq2SFwArPEQSBiePpoir6/Lcl5oB4A1HgIJw9M3\n",
       "vL4uZxrJC+0AsMZDIBkew3OsvL4uZ3ihHQDWeAgkw2N4jpUNvnOGF9oBYI2HQDI8\n",
       "hueYeH1d7jWSF9oBYI0nkDA8HCWvr8s9XmgHgDWeQMLwcJS8vi73RC+0070AWOMJ\n",
       "JAwPvZ8fG3znaCNJXwCs8QQShofecQFSbv9wC8prnQcArPEEEoaHdLkAKed/viUV\n",
       "W5wHAKzxBBKGh/SGx+vrcppdvwGwxhNIGB7S5fV1+SDUkV2/AbDGE0gYHo7M6+vy\n",
       "hF2/AbDGE0gYHo7MLmd5wgvtALDGE0gYHo7A6+vyrZG80A4AazyBhOHhsEoqttjf\n",
       "LN9+4pIYAGs8gYThoXteX5eHCsprVTEA1ngCCcNDd2Njg+/842IkAKzxBBKGh264\n",
       "AClv2fUbAGs8gYThIZUNvvOZi5EAsMYTSBgeXscFSPkseqGdQgbAGk8gYXj4X15f\n",
       "R7Trt0gGwBpPIGF4EEh0PgxcjASANZ5AwvDQYR8zIt4LCwBrPIGE4cEG33RqbN7n\n",
       "uUQArPEEEoYnr3l9HSmN5GIkAKzxBBKGJ3/Z4JuuzVxQXus8AGCNJ5AwPPnI0wV0\n",
       "5WIkAKzxBBKGJ1+nxQVIdOGdkQCwxhNIGJ585AIkemgkzy4CYI0nkDA8+cUFSPSg\n",
       "sqHFOyMBYI0nkDA8ecRTBPSspGKL5xgBsMYTSBievBkVFyDRo+hiJBs2AGCNJ5Aw\n",
       "PLnPBUik30jOAwDWeAIJw5PjXIBEmqKLkbwaEwBrPIGE4cnpOfH6OtIWWtqGDQBY\n",
       "4wkkDE8ur3e9vo5esWEDANZ4AgnDk8uLXVfe0ys2bADAGk8gYXhylktKOOpGcuka\n",
       "ANZ4AgnDk3ND4gIkjraR1DUA1ngCCcOTU1yAxDE+fmzYAIA1nkDC8OQOG3xzjEoq\n",
       "tnhzJACs8QQShidHeIkUfdJINmwAwBpPIGF4cmJCXIDEMbOpHQDWeAIJw5MLXIBE\n",
       "HzbSkNIajQSANZ5AwvBkMRcg0beNVFBeW9nQ4lQAYI0nkDA8WckFSPR5I3lQQayy\n",
       "oWXequ3hI7pOL3xc83Bd+Cgor40/wsgcxUfy7xD9ntFH9G/xf76wxkMgYXiOdjxc\n",
       "gEQ/rAg1Ejn/PwLCRxQ/UZDEqRP+Ug0fyQ2T3C39lC5RgyWXWNxLyQ3Ww/cW3Tf8\n",
       "icKH4cUaTyBhePKXC5Dov4eWN0ciZ1ooNENyBSU3Rlw+Wf3K0pTntaKUSukoz0ph\n",
       "jSeQMDx5wQVI9OuSy5sjkdUtlBwJcQXlzyV28bNk8RNlyRGVUolxQXkOCms8gcSJ\n",
       "0dTUtGzZsj179hieY+R1UPR3I3mKkgxvgJQcSm4h5ydN8Uv7DvcclCegEEgCiX43\n",
       "e/bsMBKbN282PMc6Gy5AQiOR30Ukh/r1bCdfqdU1n7p99sl5QyAJJHpn3759Cxcu\n",
       "vO4QgXSMXIDE8VyPOhWcwErvWkROS0b9xyg5n7q+eC/eQMK5whpPIPE669atu+OO\n",
       "O4YPH35dgkA6Ri5AQiORww85zxFl+w8x3iE9vvap6yv3kvPJj1ggIZDyMZBuTxg2\n",
       "bJhAOnYuQOJ4rnWiSzucCo5bFFku54mUrSPiF+8lX/vkCSiBhEDKfdOnTxdIfTAY\n",
       "LkBCI5FbUeScEOl2872u7wTV9W2g/H9DgSSQEEj5ywVIaCSyN4rCX1+eKaKv/mvY\n",
       "c0R5O12BJJDIwUAafMh1XRQc0vX2eXI8vgApz8+D48f/eLf/p9/5cbzn41EXDbj2\n",
       "J9HjJ+X6SefH8eNwvOvb6SZfE/W/n191d/iIbpMcVAMu+mfn8xiPJ6/fUtZ1VsUC\n",
       "iaMJJMPTLRcgcaKEB55XQ5HmQyXlySJ/a5H5oihKfmIqbqrkrEp+nir52ar4Cau4\n",
       "snLyb8vks9T1I/kMJJ+9lNMYPqzxBBICqU+nwgVInNCFr9fa0XMXRWsg7y5Kvon3\n",
       "7kvph5Rm6Dkbun7ESXbsHz38W7rGXvJH1z9CXIBH3YHWeAIJgdRnXIBEJiyCo/86\n",
       "OhUkd1G0unJlEWCNJ5AQSMeVd0AioxbEToWHgW3oAIEkkBBIJ5ILkNBI6CJAIAkk\n",
       "BBKJkXABEpkkaiTRnm9d5GwAAkkg0WdmzJghkI6aC5DQSJzALvJ8ESCQBBKGJ7O4\n",
       "AInMVNnQYvWck10U77vghADWeAIJw5OJ/H96Mnk9bfvv3Osif+EA1ngCCcOT2fPg\n",
       "AiQye23t2Yas7qL4/Yt0EWCNJ5AwPFnABUhkyzrbRfzZ+CNTtoA1nkDC8GSZo36z\n",
       "ajj+j1UvB82KLrL1AmCNJ5AwPFmsoLzW+9OTLeat2m7lnbFdZOsFwBpPIGF4cmIY\n",
       "XIBEtq3FQ9WHD08lZYKQQ9c8XOcSI8AaTyBheHKHC5DIxkaKnq+wPf2J/REMuHFp\n",
       "+KefAmCNJ5AwPLnDDg1k9RrdDuAnKk1tmAFY4wkkDE9u8hax5MB63cvtjtt59lI6\n",
       "wBpPIGF4cpw9wcgBtpPuP5UNLfElRnZzAazxBBKGJw8mwQ4N5IT4pV8W8X14PsPf\n",
       "DwXltZ5kBqzxBBKGJ1+4AIkcE+rIVUl90pmekQOs8QQShicfuQCJHF7iOxW6CLDG\n",
       "QyBheHrHBUjk8Io/2lHAK+6O2EW2XgCs8RBIGJ7EGLgAiZw2b9X26FkRmdRDFzk5\n",
       "gDUeAgnD07l2dAES+RADUSaFR3uel4AuAqzxEEgYnp6EFZKLDcirNsjPTNJFgDUe\n",
       "AgnDkxY7NJCHwmM+SoWcf/DbdwGwxkMgYXh6OQMuQCJfhXiI3/w0x/5cIfyi9y+y\n",
       "7wJgjYdAwvD0QvR2MR4J5Hkmxa+7y+onlJJfRBf+LJ4vAqzxEEgYnl6zQwOkjEN2\n",
       "lVIcRfGTRS4uArDGE0gYnqPnAiTomhzJpZSB32FIIFEEYI0nkDA8/cJbxMIRSyl+\n",
       "0Vr45fFPkfBtpBRR+EQUAVjjCSQMT/8MgB0aoPexFP4Z91Ifhkr4t8T7KygiAGs8\n",
       "gYThOd5cgARHJ7RK3EtRMsXVFO2OEL4afRxu9KIEim4f/Q5RC8X7KygiAGs8gYTh\n",
       "Od5cgAR9Xk1R/ETlExdU9BEfjBMoun24o1e6AljjCSQMz4nnAiQAwBoPgYThSTz6\n",
       "XYAEAFjjIZAwPB0uQAIArPEQSBgegQQAWOMhkDA8qezQAABY4yGQMDyd7NAAAFjj\n",
       "IZAwPImHvh0aAABrPAQShqfDBUgAgDUeAgnDE3MBEgBgjYdAwvB0cgESAGCNh0DC\n",
       "8CQe9y5AAgCs8RBIGJ4OFyABANZ4CCQMj0ACAKzxEEgYnlR2aAAArPEQSBieTnZo\n",
       "AACs8RBIGJ7Eg94ODQCANR4CCcPT4QIkAMAaD4GE4Ym5AAkAsMZDIGF4BBIAYI2H\n",
       "QMLwpDziXYAEAFjjIZAwPEFj874hpTV+7gCANR4CCcNjhwYAwBoPgYThSXABEgBg\n",
       "jYdAwvB08haxAIA1HgIJw5N4uNuhAQCwxkMgYXg6XIAEAFjjIZAwPAIJALDGQyBh\n",
       "eFLZoQEAsMZDIGF4OtmhAQCwxkMgYXgSj3U7NAAA1ngIJAxPhwuQAABrPAQShidW\n",
       "UrElfPiJAwDWeAgkDI8dGgAAazwEEoYnwQ4NAIA1HgIJw5N4oNuhAQCwxkMgYXg6\n",
       "7NAAAFjjIZAwPDEXIAEA1ngIJAxPJxcgAQDWeAgkDE/iUe4CJADAGg+BhOEJKhta\n",
       "Cspr/awBAGs8BBKGxw4NAIA1HgIJw5NghwYAwBoPgYTh6WSHBgDAGg+BhOFJPMTt\n",
       "0AAAWOMhkDA8HS5AAgCs8RBIGB6BBABY4yGQMDyp7NAAAFjjIZAwPJ3s0AAAWOMh\n",
       "kDA8ice3HRoAAGs8BBKGp8MFSACANR4CKZfs3bu3vr6+urq6rq5u9+7d6dxlz549\n",
       "69evr6qqCv9sbW0VSAIJABBICKRcUFNTM2rUqOsSiouLFy1a1PNdlixZknKXn//8\n",
       "5/k8PHZoAAAEEgIpF2zatKmwsDA8smfPnr18+fKHHnoo+uXKlSsPd5ff/OY34QZF\n",
       "RUXhxlVVVXPmzAmBFI5UV1fn7fDYoQEAEEgIpFwwbdq08LCeP39+fKSioiIcGT9+\n",
       "/OHuElIq3CD5KaNHHnkkHJk6dWreDo8dGgAAgYRAynoHDhyInvxpbm6OD+7fv3/4\n",
       "8OHh4M6dO7u9Vwih8NW1a9fGR6LnlEpKSvJzeFyABAAIJARSLmhqagqP6dGjR6cc\n",
       "LysrC8fr6rpf9D/xxBPhqw8++GB8ZO7cueHIY489JpAAAAQSAilT7N+/P9TL1KlT\n",
       "x4wZE365Zs2anrek27RpU3hMT5o0KeX4jBkzwvHnnnuu23u1traWlpaGG9x9990L\n",
       "FiyYOHFi9JK85Keh8mp47NAAAAgkBFLGmTx58llnnTUgIRz55Cc/eeqpp06YMOFw\n",
       "d9m4cWN4TJeVlaUcj54ROtymC21tbU899dR1r7dw4cL29vaeh6dbOXDm7dAAAORD\n",
       "COXwck4g5aAbb7wx6qLBgwfHgfSlL30p+nzixInd3mvDhg3dBlK0DcPhAumBBx4I\n",
       "Xx0xYsSCBQtWrVoV0uj6668PR+677778/L8LdmgAAPI5nJwEgZRxqqqqQgWddNJJ\n",
       "c+bMCb88++yzo0B67bXXSktLw+dnnHFGt+/lunnz5vCY7voU0/Tp0w+30/fBgwdH\n",
       "jRpVWFi4adOm+OBLL70U7evQ0tKSb8PjAiQAQCAhkDJLKJxQQfFeC3EgRc4///zw\n",
       "y26fDtqxY0f0XFDKq+PGjRsXjtfX13e9SzjY7Sbg9913Xzi+YsUKgQQAIJAQSCfS\n",
       "Zz7zmZBAVVVV3QbSd77znfDLhx9+uOsd29raRo0aFR7WW7dujQ+2trYWFRUVFhZ2\n",
       "+6RTuGW4/W233ZZy/K677grHa2tr82147NAAAAgkBFJm+eY3vxkS6Mknn+w2kKJ8\n",
       "OtwFRbNmzYre4zV+EinaoWHy5MnRL7dt2/bLQ6Jfxm+dtHz58vguzz//fOEhu3bt\n",
       "yrfhsUMDACCQEEiZZdq0aSGBQgh1DaTf/OY3gwYNGjhw4OH2+25qaoouHxo9evSc\n",
       "OXNuvfXW8HlInfj1dYsXL07Zn+RXv/pVdCTc5aGHHiovLw+3D7/8+c9/nofDY4cG\n",
       "AEAgIZAyy86dO88555wQRZ/73OeeffbZM888M3z+u9/97v7773/Xu94VPv/a177W\n",
       "w90bGhpKSkrijRrHjh27du3a+KtRIBUVFSXfpaamJtwsvstNN90UqqmtrS3fhscF\n",
       "SACAQHISBFImWrZs2Zvf/OYB3bngggt6frtYwyOQAACs8QRSrnnppZe+8Y1vvO1t\n",
       "b4vT6Lzzzrvrrrv+9Kc/GZ5+YocGAEAgOQkCKdNt3759zZo1O3fuNDz9zQ4NAIBA\n",
       "chIEEoYn8Zi2QwMAYI2HQMoEV1xxxcW98fvf/97w9C0XIAEACCSBlCkuvPDCAb3R\n",
       "2NhoePpWScWW8OGhCAAIJATSibds2bInkvzjP/5jqKDTTjtt2LBh8+fPX7Ro0ezZ\n",
       "sz/xiU9EdTRz5sxXX33V8PQtOzQAAAgkgZSJVq9ePXDgwDPPPHPjxo0pX/r3f//3\n",
       "EEgXXnhhe3u74elbdmgAABBIAikTDR8+PFTQPffc0+1XP/ShD4Wv/va3vzU8ffyA\n",
       "tkMDACCQBJJAykDR6+ueeeaZbr967bXXhq8uWLDA8PQhOzQAAAgkgZShrrrqqpBA\n",
       "P/7xj7v9akFBQfjq0qVLDU8fskMDAIBAEkgZ6s477wwJ9JGPfGTPnj0pX3rqqadO\n",
       "OumkgQMHtra2Gp4+ZIcGAACBJJAyVH19/emnnx4a6QMf+MCPfvSjhoaGP/7xj2vW\n",
       "rLnppptOPfXUcPyLX/yi4elbdmgAABBIAilzzZ8/f+DAgd2+A9IFF1xwwp8+yr3h\n",
       "sUMDAIBAEkgZrba29vOf//ygQYPiNDr33HN/8IMf7N271/D0LTs0AAAIJIGUHdra\n",
       "2l588cXnn39+9+7dhkcgAQBY4wmkvLN3794dRxLCyfD0FTs0AAAIJIGUucaPHz/g\n",
       "SBobGw1PX7FDAwCAQBJIWRxIZ5555h/+8AfD02cPZTs0AAAIJIGUsfbv37+niy1b\n",
       "tjz44IPnnXfe29/+9traWsPTV1yABAAgkARStvrtb3/7lre85eyzz25vbzc8AgkA\n",
       "wBpPIOW7L3/5ywMGDKirqzM8fcIODQAAAkkgZbGvfvWrIZAeeeQRw9Mn7NAAACCQ\n",
       "BFK2am5uPv3000MgVVVVGZ6+eRzboQEAQCAJpEz29NNPf687Q4cOPe2000IdhX/u\n",
       "2rXL8By7yoaWgvJaDzkAAIEkkDJXz9t8v+ENb7j//vsNT5+wQwMAgEASSJnuiSee\n",
       "KOrODTfcMHXq1M2bNxuevmKHBgAAgSSQMDyd7NAAACCQBFKmW7JkydixY1euXNnt\n",
       "V2fMmBG+6hqkvnkQ26EBAEAgCaQMF12DNHPmzG6/+tGPfjR8tbGx0fAco8bmfUNK\n",
       "azzeAAAEkkDKRM8888zSQ66++uqQQN/97neXdvHzn//8rW99a/jq9u3bDc8xskMD\n",
       "AIBAEkiZ66yzzhqQntBIBw4cMDzHyA4NAAACSSBlro985CPvPeRtb3tbqKB3vOMd\n",
       "7+3iL//yLz/+8Y8/9thjhufYFZTXVja0eOABAAgkgZTRer4GyfD0FVvYAQAIJIGU\n",
       "BWbNmnXppZcuWLDA8PTvI9gWdgAAAkkgYXg67NAAACCQBFImu/3227/+9a9PmTIl\n",
       "fL5gwYKvH8kf//hHw3MsSiq2hA8PPAAAgSSQMtGFF144YMCAz372sx2Ja5B65n2Q\n",
       "jpEt7AAABJJAylwzZ84sLS195JFHwudVVVWlR/LKK68YnmNhhwYAAIEkkDA8iYev\n",
       "HRoAAASSQMLwdNihAQBAIAmkDDdmzJiv94ZNGo6FHRoAAASSQMpo0SYN6bNJw7Gw\n",
       "QwMAgEASSBlt7ty5pb1hk4ZjYYcGAACBJJAwPInHrh0aAAAEkkDKOnv27Fm6dOnM\n",
       "mTMnTpz44IMPPvfcc+3t7YbnGNmhAQBAIAmkLNPW1nb33XefddZZKZceXXLJJU8/\n",
       "/bThEUgAANZ4AimPjBkzJiqik08++YILLrjsssvOOeec+Mizzz5reI6aHRoAAASS\n",
       "QMomy5cvj1ro2muv3b79/5byK1asuPTSS8Px8847z/AcNTs0AAAIJIGUTW6//fZQ\n",
       "QV/+8pe7fmnnzp3R6+62bNlieI7ygWuHBgAAgSSQsshnP/vZkEC/+MUvuv3qV77y\n",
       "lfDVBQsWGJ6jUNnQUlBe6zEGACCQBFLWiBJoyZIl3X516NCh4auPP/644TkKdmgA\n",
       "ABBIAinLlJWVhQS6+eabu35pz549gwcPDl/9/e9/b3iOgh0aAAAEkkDKMtu2bTv3\n",
       "3HMHDhw4c+bMgwcPxsdffvnl6NV3Q4cONTxHxw4NAAACSSBlmYULF/7DP/xDtJHd\n",
       "kCFDvva1rw0bNuzyyy8/5ZRTooPf+MY3rkuyePFiw5Puo9YODQAAAkkgZZfx48cP\n",
       "6I0f/OAHhicdjc37hpTWeIABAAgkgZRNlixZMrY3li9fbnjSYYcGAACBJJAwPJ1K\n",
       "KraEDz87AACBJJAwPLawAwAQSAIpO+3ateu+++4bNmzY/zuMHTt2GJ7esoUdAIBA\n",
       "EkjZZ+fOnUOGDOl5Y4bGxkbD0+uHrC3sAAAEkkDKOnfccUdIoJNOOumKK6743ve+\n",
       "d1t3WlpaDE+v2KEBAEAgCaSsdOWVV4ZAmjx5suERSAAA1ngCKd/90z/9Uwikqqoq\n",
       "w9OH7NAAACCQBFJWit4o9vvf/77h6UN2aAAAEEgCKSv95je/GTRo0Lvf/e6NGzca\n",
       "nj57vNqhAQBAIAmkLPXoo49Gu9VddtllI7vT3NxseNJX2dBSUF7rcQUAIJAEUvZ5\n",
       "+eWXzz//fNt89yE7NAAACCSBlK2mTJkSEmjgwIGf/OQnR44ceWN3PIPUK3ZoAAAQ\n",
       "SAIpW33xi18MgVRaWmp4+oodGgAABJJAylZf/vKXQyCtWLHC8PTZg9UODQAAAkkg\n",
       "Zam77rorBNKsWbMMj0ACALDGE0j5btu2bYMHDz7rrLM2bdpkeI6dHRoAAASSQMpi\n",
       "K1euLCwsHDBgwKBBg4YOHfq97uzatcvwpKmkYkv48LgCABBIAikrjR8/fsCR2OY7\n",
       "fbawAwAQSAIpiz3xxBNFR7Jz507DkyZb2AEACCSBlLM2btw4ZsyYl19+2fCk+0i1\n",
       "QwMAgEASSDlm7969DzzwwMc//nEvsesVOzQAAAgkgZRT1qxZM2zYsLe+9a3xBUgD\n",
       "Bw7ctm1bzzVVX19fXV1dV1e3e/fuNP9Fe/bsqa2tXbly5e9+9zuBBAAgkBBIGeSV\n",
       "V14pLy+/5JJLkvdmuOiii8rKynquo5qamlGjRl2XUFxcvGjRoiOm0Z133llYWBjf\n",
       "67777nvttddyYHjs0AAAIJAEUnZbvnz5N7/5zVNPPTU5ja644ora2toj3nfTpk1R\n",
       "58yePTv8Pg899FD0y5UrVx7uLvv27Zs0aVK4TWlp6ZNPPvnwww9/97vfDb8Mn+TA\n",
       "8NihAQBAIAmkrNTU1PSDH/zg/PPPj6MoNNJXvvKVSy+9NHwegied32TatGnhYT1/\n",
       "/vz4SEVFRTgyfvz4w91l8eLF4QZTpkxpa2uLjqxbty4cufHGG9vb27N9eOzQAAAg\n",
       "kARS9iksLDz55JOjLnrDG97wqU99at68edHlQ9/+9rfTDKQDBw4UFxeHh3Vzc3N8\n",
       "cP/+/cOHDw8HD7cz+MSJE8NXt29/3evQli1btnTp0jiZsnR4KhtaCsprPboAAASS\n",
       "QMoyF154YaigN73pTXfeeWdKq6QfSE1NTeExPXr06JTjZWVl4XhdXTd7FbS0tIQv\n",
       "3XrrrR2HXmu3YcOG9evXt7a25sbw2KEBAEAgCaQsDqRg8ODBN9988/PPP38UgbRp\n",
       "06bwmJ40aVLK8RkzZoTjzz33XNe7NDY2hi+Vl5f/53/+Z/ImDT/84Q9DL/U8PN3K\n",
       "qLNqhwYAgF6t5QSSQMoU9fX1Y8aMeec73xlfgPT+979/ypQpL730UvqBtHHjxvCY\n",
       "LisrSzk+d+7ccLy6urrrXf77v/87fKmoqCj885577nnqqaceeeSRESNGhF/OmTMn\n",
       "2//vgh0aAAB6G05OgkDKIAcOHHj88cc/97nPnXTSSfH1SKecckr4ZNasWUe8+4YN\n",
       "G7oNpBBXhwuk1atXR/+r4Cc/+Ul8cOvWrVEyhTwTSAAAAgmBdIL9/ve/Ly0tfe97\n",
       "3xs/oXTGGWdce+21zzzzTA/32rx5c3hMT5gwIeX49OnTD7fT9wsvvBAFUsr7yd57\n",
       "773h4LPPPpvVw2MLOwAAgSSQckd7e/vSpUuHDh06aNCguJT+4i/+IiTQq6++2vX2\n",
       "O3bsCI/pESNGpGzPPW7cuHC8vr6+611efPHF8KWRI0emHP/xj38cjvfwDrOZPzx2\n",
       "aAAAEEgCKTc1NzdPmzbt/e9/f5xJjY2NXW/W1tY2atSo8LDeunVrfLC1tbWoqKiw\n",
       "sLDbvenCXW644YZwl127diUfnzJlSji4atWq7B2ekoot4cODBwBAIAmknBWKJTxq\n",
       "zzjjjBdffLHbG8yaNSvcYOrUqfGTSNEODZMnT45+uW3btl8eEt/lhz/8YbhBuOPB\n",
       "gwejI2vXro2eiephv+/MHx5b2AEACCSBlBd62IC7qakpelvY0aNHz5kz59Zbbw2f\n",
       "FxYWxq+vW7x4ccoGji0tLbfccks4UlJS8vDDD8+YMSPa7/vJJ5/M6uGxQwMAgEAS\n",
       "SHQ0NDSE1Il3sh87duzatWvjr0aBVFRUlHyX7du333vvvdHL86K7dLvlXXYNjx0a\n",
       "AAAEkkDC8PyvyoaWgvJaPyYAAIEkkDA8trADABBIAgnDk2CHBgAAgSSQMDyd7NAA\n",
       "ACCQBBKGJ/HotEMDAIBAEkgYnqCxed+Q0ho/IwAAgSSQMDx2aAAAEEgCCcOTUFKx\n",
       "JXz4GQEACCSBhOGxhR0AgEASSBieBFvYAQAIJIGE4Uk8NG1hBwAgkAQShqfDDg0A\n",
       "AAJJIGF4BBIAgEASSBieVHZoAAAQSAIJw9PJDg0AAAJJIGF4Eo9LOzQAAAgkgYTh\n",
       "CRqb9w0prfHTAQAQSAIJw2OHBgAAgSSQMDwJdmgAABBIAgnDI5AAAASSQMLwvJ4t\n",
       "7AAABJJAwvAkHpS2sAMAEEgCCcPTYYcGAACBJJAwPAIJAEAgCSQMTyo7NAAACCSB\n",
       "hOHpZIcGAACBJJAwPIlHpB0aAAAEkkDC8ASVDS0F5bV+LgAAAkkgYXjs0AAAIJAE\n",
       "EoYnwQ4NAAACSSBheAQSAIBAEkgYntezhR0AgEASSBiexMPRFnYAAAJJIGF4OuzQ\n",
       "AAAgkAQShidWUrElfPihAAAIJIGE4bFDAwCAQBJIGJ4EOzQAAAgkgYThSTwW7dAA\n",
       "ACCQBBKGJ6hsaCkor/UTAQAQSAIJw2MLOwAAgSSQMDwJdmgAABBIAgnD06mgvLay\n",
       "ocVPBABAIAkkDI8t7AAABJJAwvDED0Rb2AEACCSBhOHpsEMDAIBAEkgYnlhJxZbw\n",
       "4ccBACCQBBKGxxZ2AAACSSBheBLs0AAAIJAEEoYn8Si0QwMAgEASSBieoLKhpaC8\n",
       "1s8CAEAgCSQMjy3sAAAEkkDC8CTYoQEAQCAJJAxPJzs0AAAIJIGE4RFIAAACSSBh\n",
       "eFIegrawAwAQSAIJw9NhhwYAAIEkkDA8sZKKLeHDDwIAQCAJJAyPLewAAASSQMLw\n",
       "JNihAQBAIAkkDE/i8WeHBgAAgSSQMDxBZUNLQXmtnwIAgEASSBgeW9gBAAgkgYTh\n",
       "SbBDAwCAQBJIGJ5OdmgAABBIAgnDk3jw2aEBAEAgCSQMj0ACABBIAgnD83/s0AAA\n",
       "IJAEEoanU0nFlvDhRwAAIJAEEobHFnYAAAJJIGF4EoaU1jj/AAACSSBheA498uzQ\n",
       "AAAgkAQShqfDDg0AAAJJIGF4BBIAgEASSBieVHZoAAAQSAIJw9NpSGlNY/M+5x8A\n",
       "QCAJJAyPHRoAAASSQMLwHNLYvM8e3wAAAkkg0Tt79+6tr6+vrq6uq6vbvXt3r+77\n",
       "yiuvLFu2bOvWrRk4PHZoAAAQSAKJ3qmpqRk1atR1CcXFxYsWLUrzvu3t7ffcc0+4\n",
       "1xNPPJGBw2OHBgAAgSSQ6IVNmzYVFhaGR/bs2bOXL1/+0EMPRb9cuXJlOndfsmRJ\n",
       "lFUCCQBAICGQst60adPCw3r+/PnxkYqKinBk/PjxR7zvSy+9NHz48JEjR2ZsINnC\n",
       "DgBAIAkk0nXgwIHi4uLwsG5ubo4P7t+/P2RPOLhz586e7ztx4sSbbrqpsrIyYwPJ\n",
       "FnYAAAJJIJGupqam8JgePXp0yvGysrJwvK6up+0NFixYEG5TW1u7evXqzAwkOzQA\n",
       "AAgkgUQvbNq0KTymJ02alHJ8xowZ4fhzzz13uDvW19cXFhbOnTs3fJ5+IHVLIAEA\n",
       "ZEUIHf/lnEDieNu4cWN4TJeVlaUcD+UTjldXV3d7r1dfffWWW24ZM2bM3r17exVI\n",
       "x/lPZ4cGAIDjEE5OgkDKHRs2bOg2kGbPnt1DIEX5tH79+uiXGRtIdmgAABBIAole\n",
       "2Lx5c3hMT5gwIeX49OnTD7fT95o1a8KX5syZsy9hxYoV4cjjjz8ePj948GDmDI8d\n",
       "GgAABJJAohd27NgRHtMjRoxob29PPj5u3LhwvL6+vutdHnvssR5egVpZWZkhw1PZ\n",
       "0FJQXutHDAAgkAQS6Wpraxs1alR4WG/dujU+2NraWlRUVFhYGD7pepdVq1bNeL0J\n",
       "EyZE75sUPo9fd3fCh8cODQAAAkkg0WuzZs0KD+upU6fGTyJFlxhNnjw5+uW2bdt+\n",
       "ecjhfofMvAbJDg0AAAJJINFrTU1N0dvCjh49es6cObfeemv4vLCwMH593eLFi3ve\n",
       "wDEzA6mgvLayocXPFwBAIAkkeqehoaGkpCS+jmjs2LFr166NvxoFUlFR0eHuXltb\n",
       "G27w5JNPZtTw2MIOAEAgCSQMT+LRZgs7AACBJJAwPB12aAAAEEgCCcMTK6nYEj6c\n",
       "cwAAgSSQMDy2sAMAEEgCCcOTYIcGAACBJJAwPImHmh0aAAAEkkDC8ASVDS0F5bVO\n",
       "OACAQBJIGB5b2AEACCSBhOFJsEMDAIBAEkgYnk52aAAAEEgCCcOTeJzZoQEAQCAJ\n",
       "JAxP0Ni8b0hpjbMNACCQBBKGxw4NAAACSSBheBJKKraED2cbAEAgCSQMjy3sAAAE\n",
       "kkDC8CS4AAkAQCAJJAxP4kFmCzsAAIEkkDA8HXZoAAAQSAIJwyOQAAAEkkDC8KSy\n",
       "QwMAgEASSBieTkNKaxqb9znVAAACSSBheOzQAAAgkAQShueQyoaWgvJa5xkAQCAJ\n",
       "JAyPHRoAAASSQMLwJNihAQBAIAkkDE8nOzQAAAgkgYThSTy87NAAACCQBBKGJ2hs\n",
       "3jektMZJBgAQSAIJw2OHBgAAgSSQMDwJdmgAABBIAgnDI5AAAASSQMLwvJ4t7AAA\n",
       "BJJAwvAkHlu2sAMAEEgCCcPTYYcGAACBJJAwPLGSii3hwxkGABBIAgnDY4cGAACB\n",
       "JJAwPAl2aAAAEEgCCcOTeGDZoQEAQCAJJAxPhx0aAAAEkkDC8AgkAACBJJAwPKns\n",
       "0AAAIJAEEoankx0aAAAEkkDC8CQeVXZoAAAQSAIJwxNUNrQUlNc6twAAAkkgYXjs\n",
       "0AAAIJAEEoYnwQ4NAAACSSBheDoVlNdWNrQ4twAAAkkgYXhsYQcAIJAEEoYnfkjZ\n",
       "wg4AQCAJJAxPhx0aAAAEkkDC8MRKKraEDycWAEAgCSQMjy3sAAAEkkDC8CQMKa1x\n",
       "VgEABJJAwvAcejzZoQEAQCAJJAxPhx0aAAAEkkDC8MTs0AAAIJAEEoankx0aAAAE\n",
       "kkDC8HQaUlrT2LzPWQUAEEgCCcNjhwYAAIEkkDA8h9ihAQBAIAkkDE8nOzQAAAgk\n",
       "gYTh6WSHBgAAgSSQMDyd7NAAACCQBBKGJ/FIskMDAIBAEkgYng47NAAACCSBhOER\n",
       "SAAAAkkgYXhS2aEBAEAgCSQMTyc7NAAACCSBhOFJPIzs0AAAIJAEEoanwwVIAAAC\n",
       "SSBheAQSAIBAEkgYnlR2aAAAEEgCCcPTyQ4NAAACSSBheBKPITs0AAAIJIGE4elw\n",
       "ARIAgEASSBgegQQAIJAEEoYnlR0aAAAEkkDieNi7d299fX11dXVdXd3u3bvTvMvG\n",
       "jRvDXTZs2BA+Pw7DY4cGAACBJJDodzU1NaNGjbouobi4eNGiRT3cvr29/emnnw43\n",
       "i+8S7r5kyZL+Hh47NAAACCSBRP/atGlTYWFheGTPnj17+fLlDz30UPTLlStXHu4u\n",
       "4WbhBsOGDXv00Uerqqruv//+6C6rV6/uv+FxARIAgEASSPS7adOmhYf1/Pnz4yMV\n",
       "FRXhyPjx47u9fVtb280335xSUAsXLgxH7rzzToEEACCQEEjZ6sCBA9Er5Zqbm+OD\n",
       "+/fvHz58eDi4c+fOrnd5+eWXw5duueWW9vb2+GC4ZTg4cuTI/hseOzQAAAgkgUT/\n",
       "ampqCo/p0aNHpxwvKysLx+vqunnGZtu2bbfffvuPfvSjlIPh9mPGjOm/4bFDAwCA\n",
       "QBJI9K9NmzaFx/SkSZNSjs+YMSMcf+6559L8febNmxduH+7V8/B0K91Hjx0aAABO\n",
       "aAgd43IOgZQFNm7cGB7TZWVlKcfnzp0bjldXVx/xd2hvb//pT38a7X23ffv2fvq/\n",
       "C5UNLQXltX5eAAAZGE5OgkDKHRs2bOg2kGbPnp1OIIUiil6MN2LEiPXr1/ff8Nih\n",
       "AQBAIAkk+t3mzZvDY3rChAkpx6dPn97zTt9tbW1PPfVUtMFDaKSmpqZ+HR47NAAA\n",
       "CCSBRL/bsWNH9PxP8pZ0wbhx48Lx+vr6bu914MCBmTNnhhtcf/31VVVVKfftj+EZ\n",
       "UlrjhwUAIJAEEv2rra1t1KhR4WG9devW+GBra2tRUVFhYWH4pNt7RRcdlZSU7Nq1\n",
       "6/gMjx0aAAAEkkDieJg1a1Z4WE+dOjV+IijaoWHy5MnRL7dt2/bLQ6JfhigqLi4e\n",
       "OXLk4fKpz4fHBUgAAAJJIHGcNDU1RW8LO3r06Dlz5tx6663h88LCwvj1dYsXL07e\n",
       "wHHFihXRe8Le08UDDzwgkAAABBICKbs1NDSUlJTEO9mPHTt27dq18VejQCoqKop+\n",
       "+eijjx5uC/zbbrutP4bHDg0AAAJJIGF4Og0prWls3ucEAgAIJIGE4bFDAwCAQBJI\n",
       "GJ5DXIAEACCQBBKGp1NJxZbw4ewBAAgkgYThsUMDAIBAEkgYngQ7NAAACCSBhOFJ\n",
       "PGjs0AAAIJAEEoanww4NAAACSSBheGIuQAIAEEgCCcPTyQVIAAACSSBheBKPGBcg\n",
       "AQAIJIGE4QkqG1oKymudNwAAgSSQMDx2aAAAEEgCCcOTYIcGAACBJJAwPJ3s0AAA\n",
       "IJAEEoYn8XCxQwMAgEASSBieDhcgAQAIJIGE4RFIAAACSSBheFLZoQEAQCAJJAxP\n",
       "Jzs0AAAIJIGE4Uk8VuzQAAAgkAQShqfDBUgAAAJJIGF4YiUVW8KHMwYAIJAEEobH\n",
       "Dg0AAAJJIGF4EuzQAAAgkAQShifxQLFDAwCAQBJIGJ4OOzQAAAgkgYThibkACQBA\n",
       "IAkkDE+nIaU1zhUAgEASSBieQ48SFyABAAgkgYTh6XABEgCAQBJIGJ6Yt4gFABBI\n",
       "AgnD08kODQAAAkkgYXgSDxEXIAEACCSBhOEJKhtaCsprnSgAAIEkkDA8dmgAABBI\n",
       "AgnDk+ACJAAAgSSQMDydhpTWNDbvc6IAAASSQMLw2KEBAEAgCSQMzyEuQAIAEEgC\n",
       "CcPTyQVIAAACSSBheDq5AAkAQCAJJAxP4sHhAiQAAIEkkDA8HS5AAgAQSAIJwxMr\n",
       "qdgSPpwiAACBJJAwPHZoAAAQSAIJwxM/MlyABAAgkAQShieobGgpKK91fgAABJJA\n",
       "wvDYoQEAQCAJJAxPgguQAAAEkkDC8HTyFrEAAAJJIGF4Eg8LOzQAAAgkgYTh6XAB\n",
       "EgCAQBJIGJ6YC5AAAASSQMLwdHIBEgCAQBJIGJ7EY8IFSAAAAkkgYXg6XIAEACCQ\n",
       "BBKGJ+YCJAAAgSSQMDydhpTWOC0AAAJJIGF4Dj0gXIAEACCQBBKGp8MFSAAAAkkg\n",
       "OQWGJ+YCJAAAgSSQMDydvAMSAIBAEkgYnsSjwQVIAAACSSBheDpcgAQAIJAQSIYn\n",
       "/twFSAAAAgmBZHg6uQAJAEAgIZAMT+Kh4AIkAACBJJCcAsPT4QIkAACBhEAiHh4X\n",
       "IAEACCQEkuHpHB4XIAEACCQEkuH53+Hx+joAAIGEQEIgAQAIJAQSrx+egvLayoYW\n",
       "ZwMAQCAhkAyPDb4BAAQSAolDw+P1dQAAAgmBROfw2ODb3zvOnlPn7OHUOXtOnbOH\n",
       "QMpBe/fura+vr66urqur2717d5rDY4Nvf+84e06ds4dT5+w5dc4eAinX1NTUjBo1\n",
       "6rqE4uLiRYsWpTM8LkDy946z59Q5ezh1zp5T5+whkHLKpk2bCgsLwyTMnj17+fLl\n",
       "Dz30UPTLlStX9nzHguGTXYDk7x1nz6lz9nDqnD2nztlDIOWUadOmhTGYP39+fKSi\n",
       "oiIcGT9+fM93PH/k/S5A8veOs+fUOXs4dc6eU+fsIZByx4EDB4qLi8MYNDc3xwf3\n",
       "798/fPjwcHDnzp093PctNyx0AZK/d5w9p87Zw6lz9pw6Zw+BlDuamprCDIwePTrl\n",
       "eFlZWTheV9fTK+hcgOTvHWfPqXP2cOqcPafO2UMg5ZRNmzaFGZg0aVLK8RkzZoTj\n",
       "zz33XA/3PX/k/U6gv3ecPafO2cOpc/acOmcPgZQ7Nm7cGGagrKws5fjcuXPD8erq\n",
       "6p6HBwCA3GORLJDy14YNG7oNpNmzZx8xkAAAAIGUUzZv3hxCaMKECSnHp0+fns5O\n",
       "3wAAgEDKHTt27AghNGLEiPb29uTj48aNC8fr6+udIgAAEEj5oq2tbdSoUaGFtm7d\n",
       "Gh9sbW0tKioqLCwMnzhFAAAgkPLIrFmzQiBNnTo1fhIp2qFh8uTJTg4AAAik/NLU\n",
       "1BS9Lezo0aPnzJlz6623hs8LCwu9vg4AAARSPmpoaCgpKYk3dhw7duzatWudFgAA\n",
       "EEgAAAACCQAAQCABAAAIJAAAAIEEAAAgkDh2e/fura+vr66urqur2717txNyFJqa\n",
       "mpYtW7Znzx6nolcPvI0bN4YH3oYNG8LnTkivvPLKK+vWrYvO3r59+5yQozuHYWyT\n",
       "31Obnu3cufOlLvxXI33hvxG1tbUrV6783e9+52yko729/aXD81dfmo+69evXV1VV\n",
       "hX+2trY6IQKJtNTU1Iz6/+3de3BMdx/H8UddGm3R0k7vo6IXVbepKTM6vaE6vQwt\n",
       "RTtapiOVBIlLKiPaNEjcaRG3CipoI5oUQdxCCCESkggV0iAiCSpNJBUhl+3zHd95\n",
       "zpzuyubEU1S9X3+Y3V9+u2fP1293z2fPOb/j7W1MCD548OCNGzdSlppauHChVO/X\n",
       "X3+lFBa/87Zu3SqDzRh4MghjYmKojBWVlZVr1qzx8PAwqjdixAhJSlSmpoPw22+/\n",
       "leqtW7eOalgUEBAwyIGMRipjZSN16tSp7u7uRt2Cg4OvXLlCZZwrKCgYVLW0tDRK\n",
       "5Jx8sdpt4/GGJSChehkZGfp5Ldv3O3fuXL58ud7dt28fxbGotLQ0KipKP3oISBbJ\n",
       "YJNyeXp6hoeHx8XFLVq0SAdeUlISxalWbGys1MrLy2v16tWSM2fMmCF3JS8dP36c\n",
       "4tRou0HftgQki8rKymSY+fr6hv/VoUOHKE61XxMTJkyQwRYUFLRhw4awsLARI0bI\n",
       "XblBcaoNlgsdLFiwQKon3xqnTp2iRE6kpKTot4Ns3clXbUhIiP4uyQ9qBCRUY9as\n",
       "WfJW+fHHH42WTZs2SUtAQADFqZZsFowbN27IkCHGbzMEJCsqKyu/+OILuxyuIXPq\n",
       "1KnUp1qjRo2SWqWnpxstkydPlpaIiAiKY1Fubq68cyVkEpCsk41RKdfSpUspRU1t\n",
       "3rxZSjdt2jT59DO+PqRl5MiRNpuN+tSUfNZJ9dauXUspnNNjW8y7jFauXCkt06dP\n",
       "pzgEJFSpvLxcf0v4/fffjcaysjLd4s/Pz6dE1Qakr//H09OTgGTRuXPnpFajR482\n",
       "bxnIeNO9ItTHuQsXLkih/P39zY26M2T+/PnUx+JHX2BgoI+Pj+6LIyBZtGfPHikX\n",
       "h8JeBxlvUrq8vDxz444dO7Zt22ZEJliUkJAgxZwzZw7ZsloShKRWqampRovuUxo7\n",
       "dizFISChSmfPnpX3yahRo+za9dfoI0eOUCLr5MOagGRRdna2REq736GlUQro6+tL\n",
       "fZwrLi6Oi4s7ePCguVGikVRv+/bt1MeKyMhIKVdycnJSUhIBybpVq1Zp3WQERkRE\n",
       "SFI6ceIEZalWYWGh1G3MmDF/Xj3WLj09nXPlr9uFCxe8vLy8vb2ZGsQK+XCTsbds\n",
       "2TKjZfHixdIi72WKQ0BClTIyMuR9MmHCBLt23dhKSEigRASkm+b7779nH0hNZWZm\n",
       "7t69Ww+UDQwMZBJFK44dO+bu7i5bCXKbgFQjOqeFeW4VsWjRovLycorjxMmTJ6VQ\n",
       "c+fO/emnn8yTNCxZsoRJ2K7vm4L3rEWSw4OCgqRi33zzTWRkpO7JDAgIMB83BAIS\n",
       "7B09elTeKpMnT7Zr1x8YOIePgHRz2Gw2PaBcNrzsDkGBc9OmTTM2tpKTkylItS5d\n",
       "ujR69GhfX1+dVp6AVCM+Pj5SrilTpiQkJEjOXLNmjYYlJsVyLi0tTU+Ul38lZEZH\n",
       "R69cuXLo0KFyNyQkhPrUKGpKwpRxePnyZaphRWVlpYw3u6n/oqKiODqRgARn0tPT\n",
       "rxmQ9Kw+AhIB6SaQRKSHdMrmwuHDhylIjRw/fvzAgQOyeaqzuHLURLX01x9jpBGQ\n",
       "arSltWXLlq1bt5r3FyUmJupPG5xI44QOM/HDDz8YjVlZWRqZcnNzKZFFOnnd+vXr\n",
       "KYVFoaGh+vUaGRkp71aJRsOGDdMp5ikOAQlVkq15eZ+MHz/+mtv6zPRNQLrR21vR\n",
       "0dH6C7RkpLNnz1KT/ycpubu7e3l5cbCTExIm9Tf70v/Zu3evtKxevVpuV1RUUKLr\n",
       "4Ovr6zj9AMx++eUXDUh2p83Mnj1bGvfs2UOJrCgpKdHvi3PnzlENK+QzzdvbW74a\n",
       "MjIyjEadwFPKWFhYSIkISLi28+fP608Ldjtb/f39pf3YsWOUiIB0g8h2vP4WOGzY\n",
       "sLi4OHb3W5eamhoaGup4QN3YsWN52zqncwxUJTY2lhI5IW9SiZGOCVzPamBSHyd0\n",
       "enTHKTpXrFgh7VyZ3SK9et7EiRMphUXydXDNq7YEBwdL+969eykRAQnXVllZqUfm\n",
       "ZGVlGY1FRUUeHh7u7u7MsUNAunH0pCPZpi8oKKAaNRIfH69TMti1+/n5SXt2djYl\n",
       "qkpiYuL8vxo/frxuQMhtjvB0Tve/fffdd+bGsrIyvZYUl4Vw/lU7fPhwqZLdx52e\n",
       "QyjDkhJZobPRbN68mVJYJJt2UrGvvvrKrl2vLc5pqwQkOCPfdnrJMOMnfD1Gf9Kk\n",
       "SRSHgHSDyFbC4MGDZbuKEH4dcnJyHK9KvHXrVv2JmuPEaoRzkKzTK5V5enoah+vI\n",
       "t4ZedJJrqlRryZIlGi+Nd2hqaqoewcHHoEV6MKf5AtlwzrjW5c6dO41tvIMHD7pf\n",
       "xa+TBCQ4c/bsWT0addSoUSEhIWPGjJHb8s7hQB0C0o2jJ37I1vy3DkJDQ6lPtZYv\n",
       "X65nxi9cuDA8PFxnueBkBgLSjRYWFqazsc2fP18G3oQJE3QcZmZmUhznCgsLR48e\n",
       "rWFSyigF1Pm+N2zYQHGsKCkp0U85zpypke3bt2vdZBtPvjjmzp2rA4+ZJwlIqJ58\n",
       "t+nZC8rPz8980WVYpBePIiBZIZtWVZ0H4ngwAByVl5dHR0fr8bEqICDgwIEDVKam\n",
       "kpOT2Ui1rqKiQgaeHi2mSWnKlCmnT5+mMlbk5eXNnj3beNvKVy1TxVqn15KSsUcp\n",
       "aio+Pl4PwFY+Pj6Smph2koAEq0pKSrKzs7k0NXC7sNlsBQUF8rbVS/oAN23g5efn\n",
       "5+TkMGXidZANUykd13TGTSZbd6dOnWL/GwEJAAAAAAhIAAAAAEBAAgAAAAACEgAA\n",
       "AAAQkAAAAACAgAQAAAAABCQAAOzFxsauXr36zlz3nJyc8PDwjIwMhgEAEJAAADfE\n",
       "+fPn61vQq1cv6ezp6Sm3x44de6tebUpKSp06dd58881/03/BvHnzpKr9+vWrtmd+\n",
       "fn7Dhg3btm1bUVHB0AUAAhIA4O/322+//ceCrl27SueBAwfK7S+//PKWvFRJBe3b\n",
       "t69Vq1ZycvK/6b8gODhYqvree+9Z6Txu3DjpPH/+fIYuABCQAAB/P5vNVvxXzZs3\n",
       "l01wPz8/c+OlS5ekc3h4+JAhQzZu3HhLXmpYWJi8sJ49e/7L/gtqFJDk/6JBgwYP\n",
       "P/zw5cuXGb0AQEACANxwzz77rGyv38Lj6KrSqVMneWFRUVF3ckASAwYMkP5Lly5l\n",
       "rAIAAQkAcCsD0uLFi/v37x8REaF3Z86cKXcPHz4cGxvr5ubWqlWrjh07+vj4FBcX\n",
       "y1+XL1/ep08fV1fX9u3be3l55eTkmJ8qKSlp8ODBHTp0kEd5enpGRkY6f1UHDx6U\n",
       "V9WkSZOysjKjMSYmpm/fvvIMzZo1k0UPHz7ccQIDKwvatm2b9mnevHnnzp0nTZpU\n",
       "VFRk12ffvn3Dhg175ZVXpE+PHj0CAwMLCwuNvxql2Llzp4eHR+vWrZ955pnevXun\n",
       "pKTYPc/atWsHDhzYpk2bp59+ulevXrJox4DkfL22bNki/aWqjFUAICABAG5lQLI7\n",
       "B+mtt96Sux9//HGdOnXMJyx1795dYpLdWUySBzQ4iRkzZtStW9euw8iRI528qmnT\n",
       "pkmfbt26GS3Tp093PFeqUaNGaWlpRp9qF2Sz2fz9/WvVqmXX58knn8zNzTW6TZw4\n",
       "0W4dRdOmTSU1mUshKatevXrmPnJ379692qeiomLo0KGOr1kqYw5I1a7XxYsXtTEv\n",
       "L4/hCgAEJADAPysgiU6dOu3atevMmTMSSIxt+i5duoSFheXk5MyZM0dbfv755z+v\n",
       "7q6R27Vr15ZkkpmZeeLEiaCgIM0VwcHBVb2qd999Vzq4u7vr3StXrtxzzz3acvLk\n",
       "yaKiopiYGFdXV2np06eP9rGyoIiICH1t/fv3lyQj3eRPTZo0kZa3335b+6xbt077\n",
       "SEtiYqLEkvDw8EceeURannjiCT07yyhFu3btZLmy1qGhofJXaenRo4c+z5IlS7SP\n",
       "m5vb/v37s7KyVqxY8eCDD2qjBiQr6yUeeughaVm2bBnDFQAISACAf1ZAatasWWlp\n",
       "qdGnVatWusdDk4Pq2LGjNE6aNMnoYPf8s2bNkkZZdFWv6tFHH5UOkydP1rtHjhzR\n",
       "XHHgwAGjT3R0dOPGjV988UXzK3GyIJvN1rJlS7n70UcfmfvMnj1bGuvWrasH2rVo\n",
       "0ULn8ZP+Rh+JUnfffbexUloKSTsXLlww+sirlUaJN3K7srLyqaeekrt203nLiui+\n",
       "KQ1IVtZLvPTSS9LHy8uL4QoABCQAwD8rII0fP97cp3v37tL4+eefmxslgUhjYGCg\n",
       "Mat4bm5uqYlEEd23s3//fsflSjLRFLFy5Uptkbyh+3AkdYSEhDgebGZlQfIo7ZOU\n",
       "lGR+bFlZ2aZNmzZv3iw3jD7GkXIGd3d3adeLMmkpvL29zR1SUlKksUGDBnI7KyvL\n",
       "Mfmo3r17GwGp2vVSffr0kT7yQIYrABCQAAD/rIC0YMECc58PPvhAGmfMmGFu/OST\n",
       "TzQg7dixw/kFl/QwPDsFBQX614SEBKMxNDS0fv36xgNdXV3d3NxiY2P1r1YWFBcX\n",
       "p8fgObnuqjyh9LnrrrvMe8nUwoUL9UwkoxSzZs0ydzh06JA03nfffX9enXehqmVN\n",
       "nTrVfA6S8/VSvr6+8qfXXnuN4QoABCQAwG0ckNavX6/b/U9VISwszHG5RUVF+qjd\n",
       "u3eb2zMzM+V1dujQwTyDwmeffWaz2awsaM2aNUaAqUp0dLT0kec3H1+n9LpMjRs3\n",
       "rqoU5oCkJzLVq1fPcRF6jpZ5Fjsn66Ud5L9AWl5++WWGKwAQkAAAt3FAkk1/3SFj\n",
       "nq3bChcXF3ngihUrrvnXixcvStqRwKBZIjY21sqCUlNTtX9BQYG5vbKyUlZq3rx5\n",
       "ubm56enp2ic7O9vu4bI60i4xxkpAMp7nzJkzds8zcuTIqq6D5Lhe2t6vXz+5+/77\n",
       "7zNcAYCABAC4jQOSZI8GDRrIbeNiSiorK0uW6+rqane5JEPTpk31GfTuunXrWrRo\n",
       "8eGHH5r7FBcXN2zYULrNnDnTyoJKSkpq164tfebMmWPuEx4eruEqPz9f8pVOK+fv\n",
       "72/uc+XKFZ2eW2piJSBJ/3vvvVfuBgUF2T2PnnSkAana9dIWjUyDBg1iuAIAAQkA\n",
       "cBsHJLn99ddfy+3HH3/cOKFIgopO7SDZoKpX1atXLyONiLS0ND2lZ+3atUaf9PR0\n",
       "nVkuJibG4oLc3Nz0MDljDoajR4+2adNGGl999VVtkWgkd11cXIwpIuR5Pv30Uz30\n",
       "TvpbCUjCz89P7kpMioqK0pbLly9LFjJP821lvcRjjz3muDgAAAEJAHD7BaTi4uLn\n",
       "n39eY0Dr1q0lh+jWv4SNTZs2VfWqZCnSp3PnznrXZrN169ZNo4XkmZ49e77++uv6\n",
       "PC1bttQZxq0sKC8vTycQlz7t2rXTmcFF/fr1Dx8+rH3++OOPtm3bars8YdeuXfVC\n",
       "SeYZ/KwEpIKCghdeeEEf+Nxzz73xxhu6X0j3UGlAsrJeEqv0yrYSnBiuAEBAAgDc\n",
       "WLoRf82A5OHhYf6TpoJFixbVKCD9eXUPzKBBgxo1amTMQCBhwEk6EtnZ2ZJh5CES\n",
       "D7RF8o+np6cet6ZcXFz69u177tw541FWFnT+/PnevXtrSjGue2s38bcsdMSIEcZF\n",
       "XSWfSMIx7+S5Zin0vKP777/faJGs1b9/f+P1yAseMGCAXl3XOAep2vXSyfd09jwA\n",
       "AAEJAPDvcfLkyX379pkjjRM9e/Z0PKeotLQ0IyMjPj5e0ojEoeteUGVl5dGjR/fv\n",
       "368Xh63K6dOnExMTJef8P2tts9nk1R46dKi8vLyqPk7WSyKfcYFaAAABCQBwh9q1\n",
       "a1dVs73dOSQsPfDAAy4uLvn5+QwJACAgAQDuaO+8845kpMTExDu2AhMnTnScUg8A\n",
       "QEACANyJjh07Vq9evS5dutyZq5+fn9+oUaMWLVoYJ2IBAAhIAIA7Wnx8/KpVqyoq\n",
       "Ku7MgCTrLimRYQAABCQAAAAAICABAAAAAAEJAAAAAAhIAAAAAEBAAgAAAAACEgAA\n",
       "AAAQkAAAAACAgAQAAAAABCQAAAAAICABAAAAAAEJAAAAAAhIAAAAAEBAAgAAAAAC\n",
       "EgAAAAAQkAAAAACAgAQAAAAABCQAAAAAICABAAAAAAEJAAAAAAhIAAAAAEBAAgAA\n",
       "AAACEgAAAAAQkAAAAACAgAQAAAAAICABAAAAAAEJAAAAAAhIAAAAAEBAAgAAAAAC\n",
       "EgAAAAAQkAAAAACAgAQAAAAABCQAAAAAICABAAAAAAEJAAAAAAhIAAAAAPC3+i8A\n",
       "A1ajA0TpUgAAAABJRU5ErkJggg==\" style=\"clip-path:url(#clipPath2);\" height=\"840\" preserveAspectRatio=\"none\"\n",
       "    /></g\n",
       "  ></g\n",
       "></svg\n",
       ">\n"
      ]
     },
     "metadata": {},
     "output_type": "display_data"
    }
   ],
   "source": [
    "step(Gc)"
   ]
  },
  {
   "cell_type": "code",
   "execution_count": 7,
   "metadata": {},
   "outputs": [],
   "source": [
    "pidTuner(G,D)"
   ]
  }
 ],
 "metadata": {
  "kernelspec": {
   "display_name": "MATLAB",
   "language": "matlab",
   "name": "imatlab"
  },
  "language_info": {
   "codemirror_mode": "octave",
   "file_extension": ".m",
   "mimetype": "text/x-matlab",
   "name": "matlab",
   "nbconvert_exporter": "imatlab._exporter.MatlabExporter",
   "pygments_lexer": "matlab",
   "version": "9.9.0.1467703 (R2020b)"
  }
 },
 "nbformat": 4,
 "nbformat_minor": 2
}