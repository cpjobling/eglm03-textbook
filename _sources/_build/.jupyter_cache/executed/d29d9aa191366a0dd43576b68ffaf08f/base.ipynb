{
 "cells": [
  {
   "cell_type": "code",
   "execution_count": 1,
   "metadata": {
    "slideshow": {
     "slide_type": "fragment"
    }
   },
   "outputs": [
    {
     "name": "stdout",
     "output_type": "stream",
     "text": [
      "B =\n",
      "     1\n",
      "     0\n"
     ]
    },
    {
     "name": "stdout",
     "output_type": "stream",
     "text": [
      "CM =\n",
      "     1    -6\n",
      "     0     1\n"
     ]
    },
    {
     "name": "stdout",
     "output_type": "stream",
     "text": [
      "ans =\n",
      "     2\n"
     ]
    }
   ],
   "source": [
    "A = [-6 -5; 1 0];\n",
    "B = [1; 0]\n",
    "CM = ctrb(A, B)\n",
    "rank(CM) % should be 2."
   ]
  },
  {
   "cell_type": "code",
   "execution_count": 2,
   "metadata": {
    "slideshow": {
     "slide_type": "fragment"
    }
   },
   "outputs": [
    {
     "name": "stdout",
     "output_type": "stream",
     "text": [
      "C =\n",
      "     3     1\n"
     ]
    },
    {
     "name": "stdout",
     "output_type": "stream",
     "text": [
      "OM =\n",
      "     3     1\n",
      "   -17   -15\n"
     ]
    },
    {
     "name": "stdout",
     "output_type": "stream",
     "text": [
      "ans =\n",
      "     2\n"
     ]
    }
   ],
   "source": [
    "A = [-6 -5; 1 0];\n",
    "C = [3 1]\n",
    "OM = obsv(A, C)\n",
    "rank(CM) % should be 2."
   ]
  },
  {
   "cell_type": "code",
   "execution_count": 3,
   "metadata": {
    "slideshow": {
     "slide_type": "subslide"
    }
   },
   "outputs": [
    {
     "name": "stdout",
     "output_type": "stream",
     "text": [
      "ans =\n",
      "  1x2 logical array\n",
      "   1   1\n"
     ]
    }
   ],
   "source": [
    "sys = ss(A, B, C, [0]);\n",
    "OM = obsv(sys);\n",
    "CM = ctrb(sys);\n",
    "[rank(OM), rank(CM)] == [2,2]"
   ]
  }
 ],
 "metadata": {
  "celltoolbar": "Slideshow",
  "kernelspec": {
   "display_name": "MATLAB",
   "language": "matlab",
   "name": "imatlab"
  },
  "language_info": {
   "codemirror_mode": "octave",
   "file_extension": ".m",
   "mimetype": "text/x-matlab",
   "name": "matlab",
   "nbconvert_exporter": "imatlab._exporter.MatlabExporter",
   "pygments_lexer": "matlab",
   "version": "9.11.0.1769968 (R2021b)"
  }
 },
 "nbformat": 4,
 "nbformat_minor": 2
}