{
 "cells": [
  {
   "cell_type": "code",
   "execution_count": 1,
   "metadata": {
    "slideshow": {
     "slide_type": "fragment"
    }
   },
   "outputs": [],
   "source": [
    "format compact\n",
    "imatlab_export_fig('print-svg')  % Static svg figures."
   ]
  },
  {
   "cell_type": "code",
   "execution_count": 2,
   "metadata": {
    "slideshow": {
     "slide_type": "fragment"
    }
   },
   "outputs": [],
   "source": [
    "A = [0, 1; -6, -5]; B = [2, 1; -1, 0];\n",
    "C = [2, -1; 0, 1]; D = [0, 0; 0, 0];\n",
    "x0 = [-1, 1]';"
   ]
  },
  {
   "cell_type": "code",
   "execution_count": 3,
   "metadata": {
    "slideshow": {
     "slide_type": "fragment"
    }
   },
   "outputs": [],
   "source": [
    " syms t s"
   ]
  },
  {
   "cell_type": "code",
   "execution_count": 4,
   "metadata": {
    "slideshow": {
     "slide_type": "fragment"
    }
   },
   "outputs": [
    {
     "name": "stdout",
     "output_type": "stream",
     "text": [
      "Us =\n"
     ]
    },
    {
     "name": "stdout",
     "output_type": "stream",
     "text": [
      "1/(s + 1)\n"
     ]
    },
    {
     "name": "stdout",
     "output_type": "stream",
     "text": [
      "      1/s\n"
     ]
    }
   ],
   "source": [
    "u = [exp(-t);heaviside(t)];\n",
    "Us = laplace(u)"
   ]
  },
  {
   "cell_type": "code",
   "execution_count": 5,
   "metadata": {
    "slideshow": {
     "slide_type": "fragment"
    }
   },
   "outputs": [
    {
     "name": "stdout",
     "output_type": "stream",
     "text": [
      "PhiS =\n"
     ]
    },
    {
     "name": "stdout",
     "output_type": "stream",
     "text": [
      "[(s + 5)/(s^2 + 5*s + 6), 1/(s^2 + 5*s + 6)]\n"
     ]
    },
    {
     "name": "stdout",
     "output_type": "stream",
     "text": [
      "[     -6/(s^2 + 5*s + 6), s/(s^2 + 5*s + 6)]\n"
     ]
    }
   ],
   "source": [
    "PhiS = inv(s*eye(2) - A)"
   ]
  },
  {
   "cell_type": "code",
   "execution_count": 6,
   "metadata": {
    "slideshow": {
     "slide_type": "fragment"
    }
   },
   "outputs": [
    {
     "name": "stdout",
     "output_type": "stream",
     "text": [
      "Yzs =\n"
     ]
    },
    {
     "name": "stdout",
     "output_type": "stream",
     "text": [
      "(s/(s^2 + 5*s + 6) + 10/(s^2 + 5*s + 6) + (4*(s + 5))/(s^2 + 5*s + 6))/(s + 1) + (6/(s^2 + 5*s + 6) + (2*(s + 5))/(s^2 + 5*s + 6))/s\n"
     ]
    },
    {
     "name": "stdout",
     "output_type": "stream",
     "text": [
      "                                                          - 6/(s*(s^2 + 5*s + 6)) - (s/(s^2 + 5*s + 6) + 12/(s^2 + 5*s + 6))/(s + 1)\n"
     ]
    }
   ],
   "source": [
    "Yzs = (C*PhiS*B + D)*Us"
   ]
  },
  {
   "cell_type": "code",
   "execution_count": 7,
   "metadata": {
    "slideshow": {
     "slide_type": "fragment"
    }
   },
   "outputs": [
    {
     "name": "stdout",
     "output_type": "stream",
     "text": [
      "Yzi =\n"
     ]
    },
    {
     "name": "stdout",
     "output_type": "stream",
     "text": [
      "- s/(s^2 + 5*s + 6) - 4/(s^2 + 5*s + 6) - (2*(s + 5))/(s^2 + 5*s + 6)\n"
     ]
    },
    {
     "name": "stdout",
     "output_type": "stream",
     "text": [
      "                                s/(s^2 + 5*s + 6) + 6/(s^2 + 5*s + 6)\n"
     ]
    }
   ],
   "source": [
    "Yzi = C*PhiS*x0"
   ]
  },
  {
   "cell_type": "code",
   "execution_count": 8,
   "metadata": {
    "slideshow": {
     "slide_type": "fragment"
    }
   },
   "outputs": [
    {
     "name": "stdout",
     "output_type": "stream",
     "text": [
      "Ytotal =\n"
     ]
    },
    {
     "name": "stdout",
     "output_type": "stream",
     "text": [
      "(s/(s^2 + 5*s + 6) + 10/(s^2 + 5*s + 6) + (4*(s + 5))/(s^2 + 5*s + 6))/(s + 1) - 4/(s^2 + 5*s + 6) - s/(s^2 + 5*s + 6) - (2*(s + 5))/(s^2 + 5*s + 6) + (6/(s^2 + 5*s + 6) + (2*(s + 5))/(s^2 + 5*s + 6))/s\n"
     ]
    },
    {
     "name": "stdout",
     "output_type": "stream",
     "text": [
      "                                                                                          s/(s^2 + 5*s + 6) + 6/(s^2 + 5*s + 6) - 6/(s*(s^2 + 5*s + 6)) - (s/(s^2 + 5*s + 6) + 12/(s^2 + 5*s + 6))/(s + 1)\n"
     ]
    }
   ],
   "source": [
    "Ytotal = Yzs + Yzi"
   ]
  },
  {
   "cell_type": "code",
   "execution_count": 9,
   "metadata": {
    "slideshow": {
     "slide_type": "fragment"
    }
   },
   "outputs": [
    {
     "name": "stdout",
     "output_type": "stream",
     "text": [
      "y =\n"
     ]
    },
    {
     "name": "stdout",
     "output_type": "stream",
     "text": [
      "(25*exp(-t))/2 - 34*exp(-2*t) + (95*exp(-3*t))/6 + 8/3\n"
     ]
    },
    {
     "name": "stdout",
     "output_type": "stream",
     "text": [
      "  17*exp(-2*t) - (11*exp(-t))/2 - (19*exp(-3*t))/2 - 1\n"
     ]
    }
   ],
   "source": [
    "y = ilaplace(Ytotal)"
   ]
  },
  {
   "cell_type": "code",
   "execution_count": 10,
   "metadata": {
    "slideshow": {
     "slide_type": "fragment"
    }
   },
   "outputs": [
    {
     "data": {
      "image/svg+xml": [
       "<?xml version=\"1.0\"?>\n",
       "<!DOCTYPE svg PUBLIC '-//W3C//DTD SVG 1.0//EN'\n",
       "          'http://www.w3.org/TR/2001/REC-SVG-20010904/DTD/svg10.dtd'>\n",
       "<svg xmlns:xlink=\"http://www.w3.org/1999/xlink\" style=\"fill-opacity:1; color-rendering:auto; color-interpolation:auto; text-rendering:auto; stroke:black; stroke-linecap:square; stroke-miterlimit:10; shape-rendering:auto; stroke-opacity:1; fill:black; stroke-dasharray:none; font-weight:normal; stroke-width:1; font-family:'Dialog'; font-style:normal; stroke-linejoin:miter; font-size:12px; stroke-dashoffset:0; image-rendering:auto;\" width=\"560\" height=\"420\" xmlns=\"http://www.w3.org/2000/svg\"\n",
       "><!--Generated by the Batik Graphics2D SVG Generator--><defs id=\"genericDefs\"\n",
       "  /><g\n",
       "  ><defs id=\"defs1\"\n",
       "    ><clipPath clipPathUnits=\"userSpaceOnUse\" id=\"clipPath1\"\n",
       "      ><path d=\"M0 0 L560 0 L560 420 L0 420 L0 0 Z\"\n",
       "      /></clipPath\n",
       "      ><font horiz-adv-x=\"50.0\" id=\"font1\"\n",
       "      ><font-face ascent=\"95.200005\" descent=\"21.3\" units-per-em=\"100\" style=\"font-style:normal; font-family:Helvetica Neue; font-weight:normal;\"\n",
       "        /><missing-glyph horiz-adv-x=\"50.0\" d=\"M40.9 66.6 L10.2 66.6 L10.2 4.7 L40.9 4.7 ZM46 71.2 L46 0.1 L5.1 0.1 L5.1 71.2 Z\"\n",
       "        /><glyph unicode=\"0\" horiz-adv-x=\"55.6\" d=\"M13.2 34.9 Q13.2 37.5 13.25 40.65 Q13.3 43.8 13.75 46.95 Q14.2 50.1 15.05 53.1 Q15.9 56.1 17.55 58.35 Q19.2 60.6 21.7 62 Q24.2 63.4 27.8 63.4 Q31.4 63.4 33.9 62 Q36.4 60.6 38.05 58.35 Q39.7 56.1 40.55 53.1 Q41.4 50.1 41.85 46.95 Q42.3 43.8 42.35 40.65 Q42.4 37.5 42.4 34.9 Q42.4 30.9 42.15 25.95 Q41.9 21 40.55 16.65 Q39.2 12.3 36.2 9.3 Q33.2 6.3 27.8 6.3 Q22.4 6.3 19.4 9.3 Q16.4 12.3 15.05 16.65 Q13.7 21 13.45 25.95 Q13.2 30.9 13.2 34.9 ZM4.2 34.8 Q4.2 30.9 4.4 26.7 Q4.6 22.5 5.4 18.5 Q6.2 14.5 7.7 10.95 Q9.2 7.4 11.8 4.7 Q14.4 2 18.35 0.45 Q22.3 -1.1 27.8 -1.1 Q33.4 -1.1 37.3 0.45 Q41.2 2 43.8 4.7 Q46.4 7.4 47.9 10.95 Q49.4 14.5 50.2 18.5 Q51 22.5 51.2 26.7 Q51.4 30.9 51.4 34.8 Q51.4 38.7 51.2 42.9 Q51 47.1 50.2 51.1 Q49.4 55.1 47.9 58.7 Q46.4 62.3 43.8 65 Q41.2 67.7 37.25 69.3 Q33.3 70.9 27.8 70.9 Q22.3 70.9 18.35 69.3 Q14.4 67.7 11.8 65 Q9.2 62.3 7.7 58.7 Q6.2 55.1 5.4 51.1 Q4.6 47.1 4.4 42.9 Q4.2 38.7 4.2 34.8 Z\"\n",
       "        /><glyph unicode=\"1\" horiz-adv-x=\"55.6\" d=\"M35.6 0 L35.6 70.9 L29.1 70.9 Q28.4 66.9 26.5 64.3 Q24.6 61.7 21.85 60.2 Q19.1 58.7 15.7 58.15 Q12.3 57.6 8.7 57.6 L8.7 50.8 L27.1 50.8 L27.1 0 Z\"\n",
       "        /><glyph unicode=\"2\" horiz-adv-x=\"55.6\" d=\"M4.4 45.8 L12.9 45.8 Q12.8 49 13.55 52.15 Q14.3 55.3 16 57.8 Q17.7 60.3 20.35 61.85 Q23 63.4 26.7 63.4 Q29.5 63.4 32 62.5 Q34.5 61.6 36.35 59.9 Q38.2 58.2 39.3 55.85 Q40.4 53.5 40.4 50.6 Q40.4 46.9 39.25 44.1 Q38.1 41.3 35.85 38.9 Q33.6 36.5 30.2 34.15 Q26.8 31.8 22.3 29 Q18.6 26.8 15.2 24.3 Q11.8 21.8 9.1 18.5 Q6.4 15.2 4.65 10.75 Q2.9 6.3 2.4 0 L48.7 0 L48.7 7.5 L12.3 7.5 Q12.9 10.8 14.85 13.35 Q16.8 15.9 19.55 18.1 Q22.3 20.3 25.6 22.25 Q28.9 24.2 32.2 26.2 Q35.5 28.3 38.6 30.6 Q41.7 32.9 44.1 35.75 Q46.5 38.6 47.95 42.2 Q49.4 45.8 49.4 50.5 Q49.4 55.5 47.65 59.3 Q45.9 63.1 42.9 65.65 Q39.9 68.2 35.85 69.55 Q31.8 70.9 27.2 70.9 Q21.6 70.9 17.2 69 Q12.8 67.1 9.85 63.75 Q6.9 60.4 5.5 55.8 Q4.1 51.2 4.4 45.8 Z\"\n",
       "        /><glyph unicode=\"3\" horiz-adv-x=\"55.6\" d=\"M21.8 40.5 L21.8 33.3 Q24.2 33.6 26.9 33.6 Q30.1 33.6 32.85 32.75 Q35.6 31.9 37.6 30.15 Q39.6 28.4 40.8 25.85 Q42 23.3 42 20 Q42 16.8 40.75 14.25 Q39.5 11.7 37.4 9.95 Q35.3 8.2 32.5 7.25 Q29.7 6.3 26.6 6.3 Q19.3 6.3 15.5 10.65 Q11.7 15 11.5 21.9 L3 21.9 Q2.9 16.4 4.55 12.1 Q6.2 7.8 9.3 4.85 Q12.4 1.9 16.8 0.4 Q21.2 -1.1 26.6 -1.1 Q31.6 -1.1 36.05 0.25 Q40.5 1.6 43.8 4.3 Q47.1 7 49.05 11.05 Q51 15.1 51 20.4 Q51 26.8 47.85 31.5 Q44.7 36.2 38.2 37.6 L38.2 37.8 Q42.4 39.7 45.2 43.4 Q48 47.1 48 51.9 Q48 56.8 46.35 60.4 Q44.7 64 41.8 66.3 Q38.9 68.6 34.95 69.75 Q31 70.9 26.4 70.9 Q21.1 70.9 17.05 69.2 Q13 67.5 10.3 64.5 Q7.6 61.5 6.15 57.3 Q4.7 53.1 4.5 48 L13 48 Q13 51.1 13.8 53.9 Q14.6 56.7 16.25 58.8 Q17.9 60.9 20.45 62.15 Q23 63.4 26.4 63.4 Q31.8 63.4 35.4 60.55 Q39 57.7 39 52 Q39 49.2 37.9 47 Q36.8 44.8 34.95 43.35 Q33.1 41.9 30.65 41.15 Q28.2 40.4 25.5 40.4 L23.7 40.4 Q23.2 40.4 22.7 40.4 Q22.3 40.4 21.8 40.5 Z\"\n",
       "        /><glyph unicode=\"4\" horiz-adv-x=\"55.6\" d=\"M33.9 24.1 L10.1 24.1 L33.7 58.8 L33.9 58.8 ZM41.9 24.1 L41.9 70.9 L35.1 70.9 L2.8 24.8 L2.8 16.6 L33.9 16.6 L33.9 0 L41.9 0 L41.9 16.6 L51.5 16.6 L51.5 24.1 Z\"\n",
       "        /><glyph unicode=\"5\" horiz-adv-x=\"55.6\" d=\"M47 62.2 L47 69.7 L12 69.7 L5.4 32.9 L12.7 32.5 Q15.2 35.5 18.45 37.35 Q21.7 39.2 25.9 39.2 Q29.5 39.2 32.45 38 Q35.4 36.8 37.5 34.65 Q39.6 32.5 40.75 29.55 Q41.9 26.6 41.9 23.1 Q41.9 18.9 40.7 15.75 Q39.5 12.6 37.45 10.5 Q35.4 8.4 32.65 7.35 Q29.9 6.3 26.9 6.3 Q23.7 6.3 21.05 7.25 Q18.4 8.2 16.45 9.95 Q14.5 11.7 13.35 14.05 Q12.2 16.4 12 19.1 L3.5 19.1 Q3.6 14.3 5.4 10.5 Q7.2 6.7 10.3 4.15 Q13.4 1.6 17.45 0.25 Q21.5 -1.1 26.1 -1.1 Q32.3 -1.1 36.95 0.85 Q41.6 2.8 44.7 6.1 Q47.8 9.4 49.35 13.65 Q50.9 17.9 50.9 22.4 Q50.9 28.5 49.1 33.05 Q47.3 37.6 44.2 40.65 Q41.1 43.7 36.9 45.2 Q32.7 46.7 28 46.7 Q24.4 46.7 20.75 45.45 Q17.1 44.2 14.8 41.6 L14.6 41.8 L18.4 62.2 Z\"\n",
       "        /><glyph unicode=\"6\" horiz-adv-x=\"55.6\" d=\"M41.4 52.8 L49.9 52.8 Q49.1 61.6 43.9 66.25 Q38.7 70.9 29.9 70.9 Q22.3 70.9 17.3 67.7 Q12.3 64.5 9.3 59.2 Q6.3 53.9 5.05 47.05 Q3.8 40.2 3.8 32.9 Q3.8 27.3 4.65 21.3 Q5.5 15.3 8.1 10.3 Q10.7 5.3 15.5 2.1 Q20.3 -1.1 28.2 -1.1 Q34.9 -1.1 39.45 1.15 Q44 3.4 46.75 6.85 Q49.5 10.3 50.7 14.5 Q51.9 18.7 51.9 22.6 Q51.9 27.5 50.4 31.7 Q48.9 35.9 46.15 39 Q43.4 42.1 39.35 43.85 Q35.3 45.6 30.2 45.6 Q24.4 45.6 19.95 43.4 Q15.5 41.2 12.5 36.3 L12.3 36.5 Q12.4 40.6 13.1 45.3 Q13.8 50 15.65 54.05 Q17.5 58.1 20.8 60.75 Q24.1 63.4 29.5 63.4 Q34.6 63.4 37.7 60.5 Q40.8 57.6 41.4 52.8 ZM28.6 38.1 Q32.2 38.1 34.9 36.8 Q37.6 35.5 39.4 33.35 Q41.2 31.2 42.05 28.25 Q42.9 25.3 42.9 22 Q42.9 18.9 41.95 16.05 Q41 13.2 39.2 11 Q37.4 8.8 34.75 7.55 Q32.1 6.3 28.6 6.3 Q25.1 6.3 22.35 7.55 Q19.6 8.8 17.75 10.9 Q15.9 13 14.9 15.9 Q13.9 18.8 13.9 22.1 Q13.9 25.4 14.85 28.35 Q15.8 31.3 17.7 33.45 Q19.6 35.6 22.3 36.85 Q25 38.1 28.6 38.1 Z\"\n",
       "        /><glyph unicode=\"t\" horiz-adv-x=\"31.5\" d=\"M18.2 51.7 L18.2 67.2 L9.7 67.2 L9.7 51.7 L0.9 51.7 L0.9 44.2 L9.7 44.2 L9.7 11.3 Q9.7 7.7 10.4 5.5 Q11.1 3.3 12.55 2.1 Q14 0.9 16.35 0.45 Q18.7 0 22 0 L28.5 0 L28.5 7.5 L24.6 7.5 Q22.6 7.5 21.35 7.65 Q20.1 7.8 19.4 8.3 Q18.7 8.8 18.45 9.7 Q18.2 10.6 18.2 12.1 L18.2 44.2 L28.5 44.2 L28.5 51.7 Z\"\n",
       "        /><glyph unicode=\".\" horiz-adv-x=\"27.8\" d=\"M8.3 11.1 L8.3 0 L19.4 0 L19.4 11.1 Z\"\n",
       "        /><glyph unicode=\"-\" horiz-adv-x=\"38.9\" d=\"M5 31.8 L5 23.8 L33.9 23.8 L33.9 31.8 Z\"\n",
       "        /><glyph unicode=\"8\" horiz-adv-x=\"55.6\" d=\"M15.5 52.5 Q15.5 55.2 16.5 57.2 Q17.5 59.2 19.15 60.6 Q20.8 62 23.1 62.7 Q25.4 63.4 27.9 63.4 Q33.1 63.4 36.45 60.65 Q39.8 57.9 39.8 52.5 Q39.8 47.1 36.5 44.1 Q33.2 41.1 28.1 41.1 Q25.5 41.1 23.2 41.8 Q20.9 42.5 19.2 43.9 Q17.5 45.3 16.5 47.45 Q15.5 49.6 15.5 52.5 ZM6.5 52.8 Q6.5 48 9.2 43.95 Q11.9 39.9 16.4 38.1 Q10.4 36 7.2 31.35 Q4 26.7 4 20.4 Q4 15 5.85 10.95 Q7.7 6.9 10.95 4.2 Q14.2 1.5 18.6 0.2 Q23 -1.1 28.1 -1.1 Q33 -1.1 37.3 0.3 Q41.6 1.7 44.75 4.45 Q47.9 7.2 49.75 11.2 Q51.6 15.2 51.6 20.4 Q51.6 27 48.5 31.55 Q45.4 36.1 39 38.1 Q43.5 40.1 46.15 44.05 Q48.8 48 48.8 52.8 Q48.8 56.2 47.6 59.45 Q46.4 62.7 43.85 65.25 Q41.3 67.8 37.2 69.35 Q33.1 70.9 27.3 70.9 Q23.2 70.9 19.45 69.7 Q15.7 68.5 12.8 66.2 Q9.9 63.9 8.2 60.55 Q6.5 57.2 6.5 52.8 ZM13 20 Q13 23.1 14.15 25.6 Q15.3 28.1 17.35 29.9 Q19.4 31.7 22.15 32.65 Q24.9 33.6 28 33.6 Q31 33.6 33.65 32.55 Q36.3 31.5 38.3 29.7 Q40.3 27.9 41.45 25.45 Q42.6 23 42.6 20.1 Q42.6 17.1 41.55 14.6 Q40.5 12.1 38.55 10.25 Q36.6 8.4 33.95 7.35 Q31.3 6.3 28.1 6.3 Q21.5 6.3 17.25 9.95 Q13 13.6 13 20 Z\"\n",
       "      /></font\n",
       "      ><font horiz-adv-x=\"50.0\" id=\"font2\"\n",
       "      ><font-face ascent=\"97.5\" descent=\"21.699999\" units-per-em=\"100\" style=\"font-style:normal; font-family:Helvetica Neue; font-weight:bold;\"\n",
       "        /><missing-glyph horiz-adv-x=\"50.0\" d=\"M39.1 60.7 L11.1 60.7 L11.1 9.5 L39.1 9.5 ZM48.2 69.8 L48.2 0.3 L1.7 0.3 L1.7 69.8 Z\"\n",
       "        /><glyph unicode=\"y\" horiz-adv-x=\"51.9\" d=\"M30.9 -6.4 L52.5 51.7 L37.8 51.7 L26.5 16.3 L26.3 16.3 L14.6 51.7 L-0.5 51.7 L17.6 3.2 Q18.2 1.7 18.2 0 Q18.2 -2.3 16.85 -4.2 Q15.5 -6.1 12.7 -6.4 Q10.6 -6.5 8.5 -6.3 Q6.4 -6.1 4.4 -5.9 L4.4 -17.6 Q6.6 -17.8 8.75 -17.95 Q10.9 -18.1 13.1 -18.1 Q20.4 -18.1 24.5 -15.4 Q28.6 -12.7 30.9 -6.4 Z\"\n",
       "        /><glyph unicode=\"1\" horiz-adv-x=\"55.6\" d=\"M39.2 0 L39.2 70 L27.9 70 Q27.3 66 25.4 63.3 Q23.5 60.6 20.75 58.95 Q18 57.3 14.55 56.65 Q11.1 56 7.4 56.1 L7.4 45.4 L25 45.4 L25 0 Z\"\n",
       "        /><glyph unicode=\")\" horiz-adv-x=\"29.6\" d=\"M-0.6 -18.1 L11.2 -18.1 Q14.5 -13.4 17 -7.7 Q19.5 -2 21.15 4.05 Q22.8 10.1 23.6 16.25 Q24.4 22.4 24.4 28 Q24.4 39.8 20.95 51.3 Q17.5 62.8 11.2 73.1 L-0.5 73.1 Q5 62.2 7.6 50.6 Q10.2 39 10.2 27 Q10.2 15.2 7.55 3.85 Q4.9 -7.5 -0.6 -18.1 Z\"\n",
       "        /><glyph unicode=\"t\" horiz-adv-x=\"35.2\" d=\"M23.4 51.7 L23.4 67.2 L9.2 67.2 L9.2 51.7 L0.6 51.7 L0.6 42.2 L9.2 42.2 L9.2 11.7 Q9.2 7.8 10.5 5.4 Q11.8 3 14.05 1.7 Q16.3 0.4 19.25 -0.05 Q22.2 -0.5 25.5 -0.5 Q27.6 -0.5 29.8 -0.4 Q32 -0.3 33.8 0 L33.8 11 Q32.8 10.8 31.7 10.7 Q30.6 10.6 29.4 10.6 Q25.8 10.6 24.6 11.8 Q23.4 13 23.4 16.6 L23.4 42.2 L33.8 42.2 L33.8 51.7 Z\"\n",
       "        /><glyph unicode=\"(\" horiz-adv-x=\"29.6\" d=\"M30.3 73.1 L18.4 73.1 Q15.1 68.3 12.65 62.6 Q10.2 56.9 8.55 50.8 Q6.9 44.7 6.05 38.55 Q5.2 32.4 5.2 26.8 Q5.2 15 8.65 3.6 Q12.1 -7.8 18.4 -18.1 L30.2 -18.1 Q24.5 -7.2 21.95 4.3 Q19.4 15.8 19.4 27.8 Q19.4 39.6 22 51.05 Q24.6 62.5 30.3 73.1 Z\"\n",
       "        /><glyph unicode=\"2\" horiz-adv-x=\"55.6\" d=\"M3.7 43.1 L17.3 43.1 Q17.3 45.9 17.85 48.75 Q18.4 51.6 19.7 53.95 Q21 56.3 23.15 57.75 Q25.3 59.2 28.4 59.2 Q33 59.2 35.95 56.35 Q38.9 53.5 38.9 48.4 Q38.9 45.2 37.45 42.7 Q36 40.2 33.85 38.2 Q31.7 36.2 29.1 34.55 Q26.5 32.9 24.2 31.3 Q19.7 28.2 15.65 25.2 Q11.6 22.2 8.6 18.65 Q5.6 15.1 3.85 10.6 Q2.1 6.1 2.1 0 L53.5 0 L53.5 12.2 L20.4 12.2 Q23 15.8 26.4 18.5 Q29.8 21.2 33.4 23.55 Q37 25.9 40.55 28.3 Q44.1 30.7 46.9 33.65 Q49.7 36.6 51.4 40.4 Q53.1 44.2 53.1 49.5 Q53.1 54.6 51.15 58.7 Q49.2 62.8 45.9 65.6 Q42.6 68.4 38.25 69.9 Q33.9 71.4 29.1 71.4 Q22.8 71.4 17.95 69.25 Q13.1 67.1 9.9 63.25 Q6.7 59.4 5.1 54.25 Q3.5 49.1 3.7 43.1 Z\"\n",
       "      /></font\n",
       "    ></defs\n",
       "    ><g style=\"fill:white; stroke:white;\"\n",
       "    ><rect x=\"0\" y=\"0\" width=\"560\" style=\"clip-path:url(#clipPath1); stroke:none;\" height=\"420\"\n",
       "    /></g\n",
       "    ><g style=\"fill:white; text-rendering:optimizeSpeed; color-rendering:optimizeSpeed; image-rendering:optimizeSpeed; shape-rendering:crispEdges; stroke:white; color-interpolation:sRGB;\"\n",
       "    ><rect x=\"0\" width=\"560\" height=\"420\" y=\"0\" style=\"stroke:none;\"\n",
       "      /><path style=\"stroke:none;\" d=\"M73 175 L507 175 L507 33 L73 33 Z\"\n",
       "    /></g\n",
       "    ><g style=\"stroke-linecap:butt; fill-opacity:0.149; fill:rgb(38,38,38); text-rendering:geometricPrecision; image-rendering:optimizeQuality; color-rendering:optimizeQuality; stroke-linejoin:round; stroke:rgb(38,38,38); color-interpolation:linearRGB; stroke-width:0.5; stroke-opacity:0.149;\"\n",
       "    ><line y2=\"33\" style=\"fill:none;\" x1=\"73\" x2=\"73\" y1=\"175\"\n",
       "      /><line y2=\"33\" style=\"fill:none;\" x1=\"145.3333\" x2=\"145.3333\" y1=\"175\"\n",
       "      /><line y2=\"33\" style=\"fill:none;\" x1=\"217.6667\" x2=\"217.6667\" y1=\"175\"\n",
       "      /><line y2=\"33\" style=\"fill:none;\" x1=\"290\" x2=\"290\" y1=\"175\"\n",
       "      /><line y2=\"33\" style=\"fill:none;\" x1=\"362.3333\" x2=\"362.3333\" y1=\"175\"\n",
       "      /><line y2=\"33\" style=\"fill:none;\" x1=\"434.6667\" x2=\"434.6667\" y1=\"175\"\n",
       "      /><line y2=\"33\" style=\"fill:none;\" x1=\"507\" x2=\"507\" y1=\"175\"\n",
       "      /><line y2=\"169.0253\" style=\"fill:none;\" x1=\"507\" x2=\"73\" y1=\"169.0253\"\n",
       "      /><line y2=\"142.7644\" style=\"fill:none;\" x1=\"507\" x2=\"73\" y1=\"142.7644\"\n",
       "      /><line y2=\"116.5034\" style=\"fill:none;\" x1=\"507\" x2=\"73\" y1=\"116.5034\"\n",
       "      /><line y2=\"90.2425\" style=\"fill:none;\" x1=\"507\" x2=\"73\" y1=\"90.2425\"\n",
       "      /><line y2=\"63.9815\" style=\"fill:none;\" x1=\"507\" x2=\"73\" y1=\"63.9815\"\n",
       "      /><line y2=\"37.7205\" style=\"fill:none;\" x1=\"507\" x2=\"73\" y1=\"37.7205\"\n",
       "      /><line x1=\"73\" x2=\"507\" y1=\"175\" style=\"stroke-linecap:square; fill-opacity:1; fill:none; stroke-opacity:1;\" y2=\"175\"\n",
       "      /><line x1=\"73\" x2=\"507\" y1=\"33\" style=\"stroke-linecap:square; fill-opacity:1; fill:none; stroke-opacity:1;\" y2=\"33\"\n",
       "      /><line x1=\"73\" x2=\"73\" y1=\"175\" style=\"stroke-linecap:square; fill-opacity:1; fill:none; stroke-opacity:1;\" y2=\"170.66\"\n",
       "      /><line x1=\"145.3333\" x2=\"145.3333\" y1=\"175\" style=\"stroke-linecap:square; fill-opacity:1; fill:none; stroke-opacity:1;\" y2=\"170.66\"\n",
       "      /><line x1=\"217.6667\" x2=\"217.6667\" y1=\"175\" style=\"stroke-linecap:square; fill-opacity:1; fill:none; stroke-opacity:1;\" y2=\"170.66\"\n",
       "      /><line x1=\"290\" x2=\"290\" y1=\"175\" style=\"stroke-linecap:square; fill-opacity:1; fill:none; stroke-opacity:1;\" y2=\"170.66\"\n",
       "      /><line x1=\"362.3333\" x2=\"362.3333\" y1=\"175\" style=\"stroke-linecap:square; fill-opacity:1; fill:none; stroke-opacity:1;\" y2=\"170.66\"\n",
       "      /><line x1=\"434.6667\" x2=\"434.6667\" y1=\"175\" style=\"stroke-linecap:square; fill-opacity:1; fill:none; stroke-opacity:1;\" y2=\"170.66\"\n",
       "      /><line x1=\"507\" x2=\"507\" y1=\"175\" style=\"stroke-linecap:square; fill-opacity:1; fill:none; stroke-opacity:1;\" y2=\"170.66\"\n",
       "      /><line x1=\"73\" x2=\"73\" y1=\"33\" style=\"stroke-linecap:square; fill-opacity:1; fill:none; stroke-opacity:1;\" y2=\"37.34\"\n",
       "      /><line x1=\"145.3333\" x2=\"145.3333\" y1=\"33\" style=\"stroke-linecap:square; fill-opacity:1; fill:none; stroke-opacity:1;\" y2=\"37.34\"\n",
       "      /><line x1=\"217.6667\" x2=\"217.6667\" y1=\"33\" style=\"stroke-linecap:square; fill-opacity:1; fill:none; stroke-opacity:1;\" y2=\"37.34\"\n",
       "      /><line x1=\"290\" x2=\"290\" y1=\"33\" style=\"stroke-linecap:square; fill-opacity:1; fill:none; stroke-opacity:1;\" y2=\"37.34\"\n",
       "      /><line x1=\"362.3333\" x2=\"362.3333\" y1=\"33\" style=\"stroke-linecap:square; fill-opacity:1; fill:none; stroke-opacity:1;\" y2=\"37.34\"\n",
       "      /><line x1=\"434.6667\" x2=\"434.6667\" y1=\"33\" style=\"stroke-linecap:square; fill-opacity:1; fill:none; stroke-opacity:1;\" y2=\"37.34\"\n",
       "      /><line x1=\"507\" x2=\"507\" y1=\"33\" style=\"stroke-linecap:square; fill-opacity:1; fill:none; stroke-opacity:1;\" y2=\"37.34\"\n",
       "    /></g\n",
       "    ><g transform=\"translate(73,179)\" style=\"font-size:10px; fill:rgb(38,38,38); text-rendering:geometricPrecision; image-rendering:optimizeQuality; color-rendering:optimizeQuality; font-family:'Helvetica Neue'; stroke:rgb(38,38,38); color-interpolation:linearRGB;\"\n",
       "    ><text x=\"-3\" xml:space=\"preserve\" y=\"10\" style=\"stroke:none;\"\n",
       "      >0</text\n",
       "    ></g\n",
       "    ><g transform=\"translate(145.3333,179)\" style=\"font-size:10px; fill:rgb(38,38,38); text-rendering:geometricPrecision; image-rendering:optimizeQuality; color-rendering:optimizeQuality; font-family:'Helvetica Neue'; stroke:rgb(38,38,38); color-interpolation:linearRGB;\"\n",
       "    ><text x=\"-3\" xml:space=\"preserve\" y=\"10\" style=\"stroke:none;\"\n",
       "      >1</text\n",
       "    ></g\n",
       "    ><g transform=\"translate(217.6667,179)\" style=\"font-size:10px; fill:rgb(38,38,38); text-rendering:geometricPrecision; image-rendering:optimizeQuality; color-rendering:optimizeQuality; font-family:'Helvetica Neue'; stroke:rgb(38,38,38); color-interpolation:linearRGB;\"\n",
       "    ><text x=\"-3\" xml:space=\"preserve\" y=\"10\" style=\"stroke:none;\"\n",
       "      >2</text\n",
       "    ></g\n",
       "    ><g transform=\"translate(290,179)\" style=\"font-size:10px; fill:rgb(38,38,38); text-rendering:geometricPrecision; image-rendering:optimizeQuality; color-rendering:optimizeQuality; font-family:'Helvetica Neue'; stroke:rgb(38,38,38); color-interpolation:linearRGB;\"\n",
       "    ><text x=\"-3\" xml:space=\"preserve\" y=\"10\" style=\"stroke:none;\"\n",
       "      >3</text\n",
       "    ></g\n",
       "    ><g transform=\"translate(362.3333,179)\" style=\"font-size:10px; fill:rgb(38,38,38); text-rendering:geometricPrecision; image-rendering:optimizeQuality; color-rendering:optimizeQuality; font-family:'Helvetica Neue'; stroke:rgb(38,38,38); color-interpolation:linearRGB;\"\n",
       "    ><text x=\"-3\" xml:space=\"preserve\" y=\"10\" style=\"stroke:none;\"\n",
       "      >4</text\n",
       "    ></g\n",
       "    ><g transform=\"translate(434.6667,179)\" style=\"font-size:10px; fill:rgb(38,38,38); text-rendering:geometricPrecision; image-rendering:optimizeQuality; color-rendering:optimizeQuality; font-family:'Helvetica Neue'; stroke:rgb(38,38,38); color-interpolation:linearRGB;\"\n",
       "    ><text x=\"-3\" xml:space=\"preserve\" y=\"10\" style=\"stroke:none;\"\n",
       "      >5</text\n",
       "    ></g\n",
       "    ><g transform=\"translate(507,179)\" style=\"font-size:10px; fill:rgb(38,38,38); text-rendering:geometricPrecision; image-rendering:optimizeQuality; color-rendering:optimizeQuality; font-family:'Helvetica Neue'; stroke:rgb(38,38,38); color-interpolation:linearRGB;\"\n",
       "    ><text x=\"-3\" xml:space=\"preserve\" y=\"10\" style=\"stroke:none;\"\n",
       "      >6</text\n",
       "    ></g\n",
       "    ><g transform=\"translate(288,204)\" style=\"font-size:11px; fill:rgb(38,38,38); text-rendering:geometricPrecision; image-rendering:optimizeQuality; color-rendering:optimizeQuality; font-family:'Helvetica Neue'; stroke:rgb(38,38,38); color-interpolation:linearRGB;\"\n",
       "    ><text x=\"0\" xml:space=\"preserve\" y=\"0\" style=\"stroke:none;\"\n",
       "      >t</text\n",
       "    ></g\n",
       "    ><g style=\"fill:rgb(38,38,38); text-rendering:geometricPrecision; image-rendering:optimizeQuality; color-rendering:optimizeQuality; stroke-linejoin:round; stroke:rgb(38,38,38); color-interpolation:linearRGB; stroke-width:0.5;\"\n",
       "    ><line y2=\"33\" style=\"fill:none;\" x1=\"73\" x2=\"73\" y1=\"175\"\n",
       "      /><line y2=\"33\" style=\"fill:none;\" x1=\"507\" x2=\"507\" y1=\"175\"\n",
       "      /><line y2=\"169.0253\" style=\"fill:none;\" x1=\"73\" x2=\"77.34\" y1=\"169.0253\"\n",
       "      /><line y2=\"142.7644\" style=\"fill:none;\" x1=\"73\" x2=\"77.34\" y1=\"142.7644\"\n",
       "      /><line y2=\"116.5034\" style=\"fill:none;\" x1=\"73\" x2=\"77.34\" y1=\"116.5034\"\n",
       "      /><line y2=\"90.2425\" style=\"fill:none;\" x1=\"73\" x2=\"77.34\" y1=\"90.2425\"\n",
       "      /><line y2=\"63.9815\" style=\"fill:none;\" x1=\"73\" x2=\"77.34\" y1=\"63.9815\"\n",
       "      /><line y2=\"37.7205\" style=\"fill:none;\" x1=\"73\" x2=\"77.34\" y1=\"37.7205\"\n",
       "      /><line y2=\"169.0253\" style=\"fill:none;\" x1=\"507\" x2=\"502.66\" y1=\"169.0253\"\n",
       "      /><line y2=\"142.7644\" style=\"fill:none;\" x1=\"507\" x2=\"502.66\" y1=\"142.7644\"\n",
       "      /><line y2=\"116.5034\" style=\"fill:none;\" x1=\"507\" x2=\"502.66\" y1=\"116.5034\"\n",
       "      /><line y2=\"90.2425\" style=\"fill:none;\" x1=\"507\" x2=\"502.66\" y1=\"90.2425\"\n",
       "      /><line y2=\"63.9815\" style=\"fill:none;\" x1=\"507\" x2=\"502.66\" y1=\"63.9815\"\n",
       "      /><line y2=\"37.7205\" style=\"fill:none;\" x1=\"507\" x2=\"502.66\" y1=\"37.7205\"\n",
       "    /></g\n",
       "    ><g transform=\"translate(69,169.0253)\" style=\"font-size:10px; fill:rgb(38,38,38); text-rendering:geometricPrecision; image-rendering:optimizeQuality; color-rendering:optimizeQuality; font-family:'Helvetica Neue'; stroke:rgb(38,38,38); color-interpolation:linearRGB;\"\n",
       "    ><text x=\"-14\" xml:space=\"preserve\" y=\"3.5\" style=\"stroke:none;\"\n",
       "      >1.5</text\n",
       "    ></g\n",
       "    ><g transform=\"translate(69,142.7644)\" style=\"font-size:10px; fill:rgb(38,38,38); text-rendering:geometricPrecision; image-rendering:optimizeQuality; color-rendering:optimizeQuality; font-family:'Helvetica Neue'; stroke:rgb(38,38,38); color-interpolation:linearRGB;\"\n",
       "    ><text x=\"-6\" xml:space=\"preserve\" y=\"3.5\" style=\"stroke:none;\"\n",
       "      >2</text\n",
       "    ></g\n",
       "    ><g transform=\"translate(69,116.5034)\" style=\"font-size:10px; fill:rgb(38,38,38); text-rendering:geometricPrecision; image-rendering:optimizeQuality; color-rendering:optimizeQuality; font-family:'Helvetica Neue'; stroke:rgb(38,38,38); color-interpolation:linearRGB;\"\n",
       "    ><text x=\"-14\" xml:space=\"preserve\" y=\"3.5\" style=\"stroke:none;\"\n",
       "      >2.5</text\n",
       "    ></g\n",
       "    ><g transform=\"translate(69,90.2425)\" style=\"font-size:10px; fill:rgb(38,38,38); text-rendering:geometricPrecision; image-rendering:optimizeQuality; color-rendering:optimizeQuality; font-family:'Helvetica Neue'; stroke:rgb(38,38,38); color-interpolation:linearRGB;\"\n",
       "    ><text x=\"-6\" xml:space=\"preserve\" y=\"3.5\" style=\"stroke:none;\"\n",
       "      >3</text\n",
       "    ></g\n",
       "    ><g transform=\"translate(69,63.9815)\" style=\"font-size:10px; fill:rgb(38,38,38); text-rendering:geometricPrecision; image-rendering:optimizeQuality; color-rendering:optimizeQuality; font-family:'Helvetica Neue'; stroke:rgb(38,38,38); color-interpolation:linearRGB;\"\n",
       "    ><text x=\"-14\" xml:space=\"preserve\" y=\"3.5\" style=\"stroke:none;\"\n",
       "      >3.5</text\n",
       "    ></g\n",
       "    ><g transform=\"translate(69,37.7205)\" style=\"font-size:10px; fill:rgb(38,38,38); text-rendering:geometricPrecision; image-rendering:optimizeQuality; color-rendering:optimizeQuality; font-family:'Helvetica Neue'; stroke:rgb(38,38,38); color-interpolation:linearRGB;\"\n",
       "    ><text x=\"-6\" xml:space=\"preserve\" y=\"3.5\" style=\"stroke:none;\"\n",
       "      >4</text\n",
       "    ></g\n",
       "    ><g transform=\"translate(279,25)\" style=\"font-size:11px; text-rendering:geometricPrecision; image-rendering:optimizeQuality; color-rendering:optimizeQuality; font-family:'Helvetica Neue'; color-interpolation:linearRGB; font-weight:bold;\"\n",
       "    ><text x=\"0\" xml:space=\"preserve\" y=\"0\" style=\"stroke:none;\"\n",
       "      >y</text\n",
       "    ></g\n",
       "    ><g transform=\"translate(285,30)\" style=\"font-size:8.8px; text-rendering:geometricPrecision; image-rendering:optimizeQuality; color-rendering:optimizeQuality; font-family:'Helvetica Neue'; color-interpolation:linearRGB; font-weight:bold;\"\n",
       "    ><text x=\"0\" xml:space=\"preserve\" y=\"0\" style=\"stroke:none;\"\n",
       "      >1</text\n",
       "    ></g\n",
       "    ><g transform=\"translate(290,25)\" style=\"font-size:11px; text-rendering:geometricPrecision; image-rendering:optimizeQuality; color-rendering:optimizeQuality; font-family:'Helvetica Neue'; color-interpolation:linearRGB; font-weight:bold;\"\n",
       "    ><text x=\"0\" xml:space=\"preserve\" y=\"0\" style=\"stroke:none;\"\n",
       "      >(t)</text\n",
       "    ></g\n",
       "    ><g style=\"stroke-linecap:butt; fill:rgb(0,114,189); text-rendering:geometricPrecision; image-rendering:optimizeQuality; color-rendering:optimizeQuality; stroke-linejoin:round; stroke:rgb(0,114,189); color-interpolation:linearRGB; stroke-width:0.5;\"\n",
       "    ><path d=\"M110.3765 175.0169 L111.0878 171.5952 L112.0901 166.8808 L113.0924 162.2744 L114.0947 157.7757 L115.097 153.3844 L116.0993 149.1003 L117.1016 144.9226 L118.1039 140.8509 L119.1062 136.8844 L120.1085 133.0221 L121.1109 129.2633 L122.1132 125.607 L123.1155 122.052 L124.1178 118.5972 L125.1201 115.2415 L126.1224 111.9836 L127.1247 108.8222 L128.127 105.756 L129.1293 102.7836 L130.1316 99.9036 L131.1339 97.1146 L132.1363 94.415 L133.1386 91.8035 L134.1409 89.2785 L135.1432 86.8385 L136.1455 84.4819 L137.1478 82.2073 L138.1501 80.013 L139.1524 77.8975 L140.1547 75.8593 L141.157 73.8967 L142.1593 72.0083 L143.1617 70.1924 L144.164 68.4476 L145.1663 66.7722 L146.1686 65.1648 L147.1709 63.6238 L148.1732 62.1478 L149.1755 60.7351 L150.1778 59.3844 L151.1801 58.0941 L152.1824 56.8628 L153.1848 55.6891 L154.1871 54.5715 L155.1894 53.5087 L156.1917 52.4991 L157.194 51.5415 L158.1963 50.6346 L159.1986 49.7769 L160.2009 48.9672 L161.2032 48.2041 L162.2055 47.4865 L163.2079 46.813 L164.2102 46.1824 L165.2125 45.5935 L166.2148 45.0452 L167.2171 44.5363 L168.2194 44.0655 L169.2217 43.6319 L170.224 43.2342 L171.2263 42.8715 L172.2286 42.5426 L173.2309 42.2465 L174.2333 41.9822 L175.2356 41.7487 L176.2379 41.5451 L177.2402 41.3703 L178.2425 41.2235 L179.2448 41.1036 L180.2471 41.01 L181.2494 40.9415 L182.2517 40.8975 L183.254 40.8771 L184.2563 40.8794 L185.2587 40.9036 L186.261 40.9491 L187.2633 41.0149 L188.2656 41.1005 L189.2679 41.205 L190.2702 41.3278 L191.2725 41.4681 L192.2748 41.6253 L193.2771 41.7988 L194.2794 41.9879 L195.2818 42.192 L196.2841 42.4105 L197.2864 42.6427 L198.2887 42.8882 L199.291 43.1464 L200.2933 43.4167 L201.2956 43.6986 L202.2979 43.9916 L203.3002 44.2951 L204.3025 44.6088 L205.3049 44.9321 L206.3072 45.2645 L207.3095 45.6057 L208.3118 45.9552 L209.3141 46.3125 L210.3164 46.6774 L211.3187 47.0492 L212.321 47.4278 L213.3233 47.8126 L214.3256 48.2034 L215.3279 48.5998 L216.3302 49.0015 L217.3326 49.4081 L218.3349 49.8193 L219.3372 50.2347 L220.3395 50.6542 L221.3418 51.0774 L222.3441 51.504 L223.3464 51.9337 L224.3487 52.3663 L225.351 52.8016 L226.3533 53.2392 L227.3557 53.679 L228.358 54.1207 L229.3603 54.564 L230.3626 55.0089 L231.3649 55.455 L232.3672 55.9022 L233.3695 56.3502 L234.3718 56.799 L235.3741 57.2482 L236.3764 57.6978 L237.3787 58.1475 L238.3811 58.5973 L239.3834 59.0469 L240.3857 59.4961 L241.388 59.945 L242.3903 60.3932 L243.3926 60.8408 L244.3949 61.2875 L245.3972 61.7332 L246.3996 62.1778 L247.4018 62.6213 L248.4042 63.0634 L249.4065 63.5041 L250.4088 63.9433 L251.4111 64.3809 L252.4134 64.8168 L253.4157 65.251 L254.418 65.6832 L255.4203 66.1135 L256.4226 66.5418 L257.4249 66.968 L258.4272 67.392 L259.4296 67.8138 L260.4319 68.2333 L261.4342 68.6505 L262.4365 69.0653 L263.4388 69.4776 L264.4411 69.8873 L265.4434 70.2946 L266.4457 70.6992 L267.448 71.1012 L268.4503 71.5005 L269.4526 71.8971 L270.455 72.2909 L271.4573 72.682 L272.4596 73.0702 L273.4619 73.4556 L274.4642 73.8381 L275.4665 74.2177 L276.4688 74.5945 L277.4711 74.9682 L278.4734 75.339 L279.4757 75.7069 L280.4781 76.0718 L281.4804 76.4336 L282.4827 76.7925 L283.485 77.1483 L284.4873 77.5011 L285.4896 77.8509 L286.4919 78.1976 L287.4942 78.5413 L288.4965 78.8819 L289.4988 79.2195 L290.5012 79.554 L291.5035 79.8855 L292.5058 80.2139 L293.5081 80.5393 L294.5104 80.8616 L295.5127 81.1809 L296.515 81.4971 L297.5173 81.8103 L298.5196 82.1205 L299.5219 82.4277 L300.5243 82.7318 L301.5266 83.033 L302.5289 83.3312 L303.5312 83.6264 L304.5335 83.9186 L305.5358 84.2078 L306.5381 84.4942 L307.5404 84.7776 L308.5427 85.058 L309.545 85.3356 L310.5474 85.6103 L311.5497 85.8821 L312.552 86.1511 L313.5543 86.4172 L314.5566 86.6804 L315.5589 86.9409 L316.5612 87.1986 L317.5635 87.4535 L318.5658 87.7057 L319.5681 87.9551 L320.5704 88.2018 L321.5728 88.4457 L322.5751 88.687 L323.5774 88.9257 L324.5797 89.1617 L325.582 89.395 L326.5843 89.6258 L327.5866 89.8539 L328.5889 90.0795 L329.5912 90.3026 L330.5935 90.5231 L331.5959 90.7412 L332.5981 90.9567 L333.6005 91.1698 L334.6028 91.3804 L335.6051 91.5886 L336.6074 91.7944 L337.6097 91.9978 L338.612 92.1988 L339.6143 92.3975 L340.6166 92.5939 L341.6189 92.788 L342.6212 92.9798 L343.6236 93.1693 L344.6259 93.3566 L345.6282 93.5417 L346.6305 93.7246 L347.6328 93.9053 L348.6351 94.0839 L349.6374 94.2603 L350.6397 94.4346 L351.642 94.6069 L352.6443 94.777 L353.6466 94.9451 L354.649 95.1112 L355.6513 95.2752 L356.6536 95.4373 L357.6559 95.5974 L358.6582 95.7555 L359.6605 95.9118 L360.6628 96.0661 L361.6651 96.2185 L362.6674 96.369 L363.6697 96.5177 L364.6721 96.6646 L365.6743 96.8096 L366.6767 96.9529 L367.679 97.0944 L368.6813 97.2341 L369.6836 97.3721 L370.6859 97.5084 L371.6882 97.6429 L372.6905 97.7758 L373.6928 97.9071 L374.6952 98.0367 L375.6975 98.1646 L376.6998 98.291 L377.7021 98.4158 L378.7044 98.539 L379.7067 98.6606 L380.709 98.7808 L381.7113 98.8994 L382.7136 99.0164 L383.7159 99.1321 L384.7182 99.2462 L385.7206 99.3589 L386.7229 99.4702 L387.7252 99.58 L388.7275 99.6885 L389.7298 99.7955 L390.7321 99.9012 L391.7344 100.0056 L392.7367 100.1086 L393.739 100.2102 L394.7414 100.3106 L395.7436 100.4097 L396.7459 100.5075 L397.7483 100.6041 L398.7506 100.6994 L399.7529 100.7935 L400.7552 100.8863 L401.7575 100.978 L402.7598 101.0685 L403.7621 101.1578 L404.7644 101.246 L405.7668 101.333 L406.7691 101.4188 L407.7714 101.5036 L408.7737 101.5873 L409.776 101.6698 L410.7783 101.7513 L411.7806 101.8318 L412.7829 101.9112 L413.7852 101.9895 L414.7875 102.0668 L415.7898 102.1431 L416.7921 102.2185 L417.7945 102.2928 L418.7968 102.3661 L419.7991 102.4385 L420.8014 102.51 L421.8037 102.5805 L422.806 102.6501 L423.8083 102.7187 L424.8106 102.7865 L425.813 102.8533 L426.8152 102.9193 L427.8175 102.9844 L428.8199 103.0487 L429.8222 103.1121 L430.8245 103.1747 L431.8268 103.2364 L432.8291 103.2973 L433.8314 103.3575 L434.8337 103.4168 L435.836 103.4753 L436.8383 103.5331 L437.8406 103.5901 L438.843 103.6463 L439.8453 103.7018 L440.8476 103.7566 L441.8499 103.8106 L442.8522 103.8639 L443.8545 103.9165 L444.8568 103.9684 L445.8591 104.0196 L446.8614 104.0702 L447.8637 104.12 L448.8661 104.1692 L449.8683 104.2177 L450.8707 104.2656 L451.873 104.3129 L452.8753 104.3595 L453.8776 104.4055 L454.8799 104.4509 L455.8822 104.4956 L456.8845 104.5398 L457.8868 104.5834 L458.8892 104.6264 L459.8914 104.6688 L460.8938 104.7106 L461.8961 104.7519 L462.8984 104.7927 L463.9007 104.8329 L464.903 104.8725 L465.9053 104.9116 L466.9076 104.9502 L467.9099 104.9883 L468.9122 105.0259 L469.9146 105.0629 L470.9169 105.0995 L471.9192 105.1356 L472.9215 105.1712 L473.9238 105.2063 L474.9261 105.2409 L475.9284 105.275 L476.9307 105.3088 L477.933 105.342 L478.9353 105.3748 L479.9376 105.4072 L480.9399 105.4391 L481.9423 105.4706 L482.9446 105.5016 L483.9469 105.5323 L484.9492 105.5625 L485.9515 105.5924 L486.9538 105.6218 L487.9561 105.6508 L488.9584 105.6794 L489.9608 105.7077 L490.9631 105.7355 L491.9653 105.763 L492.9677 105.7901 L493.97 105.8169 L494.9723 105.8433 L495.9746 105.8693 L496.9769 105.895 L497.9792 105.9203 L498.9815 105.9453 L499.9838 105.97 L500.9861 105.9943 L501.9885 106.0182 L502.9908 106.0419 L503.993 106.0652 L504.9954 106.0882 L505.9977 106.111 L507 106.1334\" style=\"fill:none; fill-rule:evenodd;\"\n",
       "    /></g\n",
       "    ><g style=\"fill:white; text-rendering:optimizeSpeed; color-rendering:optimizeSpeed; image-rendering:optimizeSpeed; shape-rendering:crispEdges; stroke:white; color-interpolation:sRGB;\"\n",
       "    ><path style=\"stroke:none;\" d=\"M73 374 L507 374 L507 232 L73 232 Z\"\n",
       "    /></g\n",
       "    ><g style=\"stroke-linecap:butt; fill-opacity:0.149; fill:rgb(38,38,38); text-rendering:geometricPrecision; image-rendering:optimizeQuality; color-rendering:optimizeQuality; stroke-linejoin:round; stroke:rgb(38,38,38); color-interpolation:linearRGB; stroke-width:0.5; stroke-opacity:0.149;\"\n",
       "    ><line y2=\"232\" style=\"fill:none;\" x1=\"73\" x2=\"73\" y1=\"374\"\n",
       "      /><line y2=\"232\" style=\"fill:none;\" x1=\"145.3333\" x2=\"145.3333\" y1=\"374\"\n",
       "      /><line y2=\"232\" style=\"fill:none;\" x1=\"217.6667\" x2=\"217.6667\" y1=\"374\"\n",
       "      /><line y2=\"232\" style=\"fill:none;\" x1=\"290\" x2=\"290\" y1=\"374\"\n",
       "      /><line y2=\"232\" style=\"fill:none;\" x1=\"362.3333\" x2=\"362.3333\" y1=\"374\"\n",
       "      /><line y2=\"232\" style=\"fill:none;\" x1=\"434.6667\" x2=\"434.6667\" y1=\"374\"\n",
       "      /><line y2=\"232\" style=\"fill:none;\" x1=\"507\" x2=\"507\" y1=\"374\"\n",
       "      /><line y2=\"355.8652\" style=\"fill:none;\" x1=\"507\" x2=\"73\" y1=\"355.8652\"\n",
       "      /><line y2=\"334.8989\" style=\"fill:none;\" x1=\"507\" x2=\"73\" y1=\"334.8989\"\n",
       "      /><line y2=\"313.9325\" style=\"fill:none;\" x1=\"507\" x2=\"73\" y1=\"313.9325\"\n",
       "      /><line y2=\"292.9661\" style=\"fill:none;\" x1=\"507\" x2=\"73\" y1=\"292.9661\"\n",
       "      /><line y2=\"271.9997\" style=\"fill:none;\" x1=\"507\" x2=\"73\" y1=\"271.9997\"\n",
       "      /><line y2=\"251.0334\" style=\"fill:none;\" x1=\"507\" x2=\"73\" y1=\"251.0334\"\n",
       "      /><line x1=\"73\" x2=\"507\" y1=\"374\" style=\"stroke-linecap:square; fill-opacity:1; fill:none; stroke-opacity:1;\" y2=\"374\"\n",
       "      /><line x1=\"73\" x2=\"507\" y1=\"232\" style=\"stroke-linecap:square; fill-opacity:1; fill:none; stroke-opacity:1;\" y2=\"232\"\n",
       "      /><line x1=\"73\" x2=\"73\" y1=\"374\" style=\"stroke-linecap:square; fill-opacity:1; fill:none; stroke-opacity:1;\" y2=\"369.66\"\n",
       "      /><line x1=\"145.3333\" x2=\"145.3333\" y1=\"374\" style=\"stroke-linecap:square; fill-opacity:1; fill:none; stroke-opacity:1;\" y2=\"369.66\"\n",
       "      /><line x1=\"217.6667\" x2=\"217.6667\" y1=\"374\" style=\"stroke-linecap:square; fill-opacity:1; fill:none; stroke-opacity:1;\" y2=\"369.66\"\n",
       "      /><line x1=\"290\" x2=\"290\" y1=\"374\" style=\"stroke-linecap:square; fill-opacity:1; fill:none; stroke-opacity:1;\" y2=\"369.66\"\n",
       "      /><line x1=\"362.3333\" x2=\"362.3333\" y1=\"374\" style=\"stroke-linecap:square; fill-opacity:1; fill:none; stroke-opacity:1;\" y2=\"369.66\"\n",
       "      /><line x1=\"434.6667\" x2=\"434.6667\" y1=\"374\" style=\"stroke-linecap:square; fill-opacity:1; fill:none; stroke-opacity:1;\" y2=\"369.66\"\n",
       "      /><line x1=\"507\" x2=\"507\" y1=\"374\" style=\"stroke-linecap:square; fill-opacity:1; fill:none; stroke-opacity:1;\" y2=\"369.66\"\n",
       "      /><line x1=\"73\" x2=\"73\" y1=\"232\" style=\"stroke-linecap:square; fill-opacity:1; fill:none; stroke-opacity:1;\" y2=\"236.34\"\n",
       "      /><line x1=\"145.3333\" x2=\"145.3333\" y1=\"232\" style=\"stroke-linecap:square; fill-opacity:1; fill:none; stroke-opacity:1;\" y2=\"236.34\"\n",
       "      /><line x1=\"217.6667\" x2=\"217.6667\" y1=\"232\" style=\"stroke-linecap:square; fill-opacity:1; fill:none; stroke-opacity:1;\" y2=\"236.34\"\n",
       "      /><line x1=\"290\" x2=\"290\" y1=\"232\" style=\"stroke-linecap:square; fill-opacity:1; fill:none; stroke-opacity:1;\" y2=\"236.34\"\n",
       "      /><line x1=\"362.3333\" x2=\"362.3333\" y1=\"232\" style=\"stroke-linecap:square; fill-opacity:1; fill:none; stroke-opacity:1;\" y2=\"236.34\"\n",
       "      /><line x1=\"434.6667\" x2=\"434.6667\" y1=\"232\" style=\"stroke-linecap:square; fill-opacity:1; fill:none; stroke-opacity:1;\" y2=\"236.34\"\n",
       "      /><line x1=\"507\" x2=\"507\" y1=\"232\" style=\"stroke-linecap:square; fill-opacity:1; fill:none; stroke-opacity:1;\" y2=\"236.34\"\n",
       "    /></g\n",
       "    ><g transform=\"translate(73,378)\" style=\"font-size:10px; fill:rgb(38,38,38); text-rendering:geometricPrecision; image-rendering:optimizeQuality; color-rendering:optimizeQuality; font-family:'Helvetica Neue'; stroke:rgb(38,38,38); color-interpolation:linearRGB;\"\n",
       "    ><text x=\"-3\" xml:space=\"preserve\" y=\"10\" style=\"stroke:none;\"\n",
       "      >0</text\n",
       "    ></g\n",
       "    ><g transform=\"translate(145.3333,378)\" style=\"font-size:10px; fill:rgb(38,38,38); text-rendering:geometricPrecision; image-rendering:optimizeQuality; color-rendering:optimizeQuality; font-family:'Helvetica Neue'; stroke:rgb(38,38,38); color-interpolation:linearRGB;\"\n",
       "    ><text x=\"-3\" xml:space=\"preserve\" y=\"10\" style=\"stroke:none;\"\n",
       "      >1</text\n",
       "    ></g\n",
       "    ><g transform=\"translate(217.6667,378)\" style=\"font-size:10px; fill:rgb(38,38,38); text-rendering:geometricPrecision; image-rendering:optimizeQuality; color-rendering:optimizeQuality; font-family:'Helvetica Neue'; stroke:rgb(38,38,38); color-interpolation:linearRGB;\"\n",
       "    ><text x=\"-3\" xml:space=\"preserve\" y=\"10\" style=\"stroke:none;\"\n",
       "      >2</text\n",
       "    ></g\n",
       "    ><g transform=\"translate(290,378)\" style=\"font-size:10px; fill:rgb(38,38,38); text-rendering:geometricPrecision; image-rendering:optimizeQuality; color-rendering:optimizeQuality; font-family:'Helvetica Neue'; stroke:rgb(38,38,38); color-interpolation:linearRGB;\"\n",
       "    ><text x=\"-3\" xml:space=\"preserve\" y=\"10\" style=\"stroke:none;\"\n",
       "      >3</text\n",
       "    ></g\n",
       "    ><g transform=\"translate(362.3333,378)\" style=\"font-size:10px; fill:rgb(38,38,38); text-rendering:geometricPrecision; image-rendering:optimizeQuality; color-rendering:optimizeQuality; font-family:'Helvetica Neue'; stroke:rgb(38,38,38); color-interpolation:linearRGB;\"\n",
       "    ><text x=\"-3\" xml:space=\"preserve\" y=\"10\" style=\"stroke:none;\"\n",
       "      >4</text\n",
       "    ></g\n",
       "    ><g transform=\"translate(434.6667,378)\" style=\"font-size:10px; fill:rgb(38,38,38); text-rendering:geometricPrecision; image-rendering:optimizeQuality; color-rendering:optimizeQuality; font-family:'Helvetica Neue'; stroke:rgb(38,38,38); color-interpolation:linearRGB;\"\n",
       "    ><text x=\"-3\" xml:space=\"preserve\" y=\"10\" style=\"stroke:none;\"\n",
       "      >5</text\n",
       "    ></g\n",
       "    ><g transform=\"translate(507,378)\" style=\"font-size:10px; fill:rgb(38,38,38); text-rendering:geometricPrecision; image-rendering:optimizeQuality; color-rendering:optimizeQuality; font-family:'Helvetica Neue'; stroke:rgb(38,38,38); color-interpolation:linearRGB;\"\n",
       "    ><text x=\"-3\" xml:space=\"preserve\" y=\"10\" style=\"stroke:none;\"\n",
       "      >6</text\n",
       "    ></g\n",
       "    ><g transform=\"translate(288,403)\" style=\"font-size:11px; fill:rgb(38,38,38); text-rendering:geometricPrecision; image-rendering:optimizeQuality; color-rendering:optimizeQuality; font-family:'Helvetica Neue'; stroke:rgb(38,38,38); color-interpolation:linearRGB;\"\n",
       "    ><text x=\"0\" xml:space=\"preserve\" y=\"0\" style=\"stroke:none;\"\n",
       "      >t</text\n",
       "    ></g\n",
       "    ><g style=\"fill:rgb(38,38,38); text-rendering:geometricPrecision; image-rendering:optimizeQuality; color-rendering:optimizeQuality; stroke-linejoin:round; stroke:rgb(38,38,38); color-interpolation:linearRGB; stroke-width:0.5;\"\n",
       "    ><line y2=\"232\" style=\"fill:none;\" x1=\"73\" x2=\"73\" y1=\"374\"\n",
       "      /><line y2=\"232\" style=\"fill:none;\" x1=\"507\" x2=\"507\" y1=\"374\"\n",
       "      /><line y2=\"355.8652\" style=\"fill:none;\" x1=\"73\" x2=\"77.34\" y1=\"355.8652\"\n",
       "      /><line y2=\"334.8989\" style=\"fill:none;\" x1=\"73\" x2=\"77.34\" y1=\"334.8989\"\n",
       "      /><line y2=\"313.9325\" style=\"fill:none;\" x1=\"73\" x2=\"77.34\" y1=\"313.9325\"\n",
       "      /><line y2=\"292.9661\" style=\"fill:none;\" x1=\"73\" x2=\"77.34\" y1=\"292.9661\"\n",
       "      /><line y2=\"271.9997\" style=\"fill:none;\" x1=\"73\" x2=\"77.34\" y1=\"271.9997\"\n",
       "      /><line y2=\"251.0334\" style=\"fill:none;\" x1=\"73\" x2=\"77.34\" y1=\"251.0334\"\n",
       "      /><line y2=\"355.8652\" style=\"fill:none;\" x1=\"507\" x2=\"502.66\" y1=\"355.8652\"\n",
       "      /><line y2=\"334.8989\" style=\"fill:none;\" x1=\"507\" x2=\"502.66\" y1=\"334.8989\"\n",
       "      /><line y2=\"313.9325\" style=\"fill:none;\" x1=\"507\" x2=\"502.66\" y1=\"313.9325\"\n",
       "      /><line y2=\"292.9661\" style=\"fill:none;\" x1=\"507\" x2=\"502.66\" y1=\"292.9661\"\n",
       "      /><line y2=\"271.9997\" style=\"fill:none;\" x1=\"507\" x2=\"502.66\" y1=\"271.9997\"\n",
       "      /><line y2=\"251.0334\" style=\"fill:none;\" x1=\"507\" x2=\"502.66\" y1=\"251.0334\"\n",
       "    /></g\n",
       "    ><g transform=\"translate(69,355.8652)\" style=\"font-size:10px; fill:rgb(38,38,38); text-rendering:geometricPrecision; image-rendering:optimizeQuality; color-rendering:optimizeQuality; font-family:'Helvetica Neue'; stroke:rgb(38,38,38); color-interpolation:linearRGB;\"\n",
       "    ><text x=\"-18\" xml:space=\"preserve\" y=\"3.5\" style=\"stroke:none;\"\n",
       "      >-1.4</text\n",
       "    ></g\n",
       "    ><g transform=\"translate(69,334.8989)\" style=\"font-size:10px; fill:rgb(38,38,38); text-rendering:geometricPrecision; image-rendering:optimizeQuality; color-rendering:optimizeQuality; font-family:'Helvetica Neue'; stroke:rgb(38,38,38); color-interpolation:linearRGB;\"\n",
       "    ><text x=\"-18\" xml:space=\"preserve\" y=\"3.5\" style=\"stroke:none;\"\n",
       "      >-1.2</text\n",
       "    ></g\n",
       "    ><g transform=\"translate(69,313.9325)\" style=\"font-size:10px; fill:rgb(38,38,38); text-rendering:geometricPrecision; image-rendering:optimizeQuality; color-rendering:optimizeQuality; font-family:'Helvetica Neue'; stroke:rgb(38,38,38); color-interpolation:linearRGB;\"\n",
       "    ><text x=\"-10\" xml:space=\"preserve\" y=\"3.5\" style=\"stroke:none;\"\n",
       "      >-1</text\n",
       "    ></g\n",
       "    ><g transform=\"translate(69,292.9661)\" style=\"font-size:10px; fill:rgb(38,38,38); text-rendering:geometricPrecision; image-rendering:optimizeQuality; color-rendering:optimizeQuality; font-family:'Helvetica Neue'; stroke:rgb(38,38,38); color-interpolation:linearRGB;\"\n",
       "    ><text x=\"-18\" xml:space=\"preserve\" y=\"3.5\" style=\"stroke:none;\"\n",
       "      >-0.8</text\n",
       "    ></g\n",
       "    ><g transform=\"translate(69,271.9997)\" style=\"font-size:10px; fill:rgb(38,38,38); text-rendering:geometricPrecision; image-rendering:optimizeQuality; color-rendering:optimizeQuality; font-family:'Helvetica Neue'; stroke:rgb(38,38,38); color-interpolation:linearRGB;\"\n",
       "    ><text x=\"-18\" xml:space=\"preserve\" y=\"3.5\" style=\"stroke:none;\"\n",
       "      >-0.6</text\n",
       "    ></g\n",
       "    ><g transform=\"translate(69,251.0334)\" style=\"font-size:10px; fill:rgb(38,38,38); text-rendering:geometricPrecision; image-rendering:optimizeQuality; color-rendering:optimizeQuality; font-family:'Helvetica Neue'; stroke:rgb(38,38,38); color-interpolation:linearRGB;\"\n",
       "    ><text x=\"-18\" xml:space=\"preserve\" y=\"3.5\" style=\"stroke:none;\"\n",
       "      >-0.4</text\n",
       "    ></g\n",
       "    ><g transform=\"translate(279,224)\" style=\"font-size:11px; text-rendering:geometricPrecision; image-rendering:optimizeQuality; color-rendering:optimizeQuality; font-family:'Helvetica Neue'; color-interpolation:linearRGB; font-weight:bold;\"\n",
       "    ><text x=\"0\" xml:space=\"preserve\" y=\"0\" style=\"stroke:none;\"\n",
       "      >y</text\n",
       "    ></g\n",
       "    ><g transform=\"translate(285,229)\" style=\"font-size:8.8px; text-rendering:geometricPrecision; image-rendering:optimizeQuality; color-rendering:optimizeQuality; font-family:'Helvetica Neue'; color-interpolation:linearRGB; font-weight:bold;\"\n",
       "    ><text x=\"0\" xml:space=\"preserve\" y=\"0\" style=\"stroke:none;\"\n",
       "      >2</text\n",
       "    ></g\n",
       "    ><g transform=\"translate(290,224)\" style=\"font-size:11px; text-rendering:geometricPrecision; image-rendering:optimizeQuality; color-rendering:optimizeQuality; font-family:'Helvetica Neue'; color-interpolation:linearRGB; font-weight:bold;\"\n",
       "    ><text x=\"0\" xml:space=\"preserve\" y=\"0\" style=\"stroke:none;\"\n",
       "      >(t)</text\n",
       "    ></g\n",
       "    ><g style=\"stroke-linecap:butt; fill:rgb(0,114,189); text-rendering:geometricPrecision; image-rendering:optimizeQuality; color-rendering:optimizeQuality; stroke-linejoin:round; stroke:rgb(0,114,189); color-interpolation:linearRGB; stroke-width:0.5;\"\n",
       "    ><path d=\"M109.5957 231.9831 L110.0854 233.9688 L111.0878 237.9776 L112.0901 241.9289 L113.0924 245.8204 L114.0947 249.6502 L115.097 253.4163 L116.0993 257.1172 L117.1016 260.7515 L118.1039 264.3179 L119.1062 267.8155 L120.1085 271.2433 L121.1109 274.6007 L122.1132 277.8872 L123.1155 281.1022 L124.1178 284.2455 L125.1201 287.317 L126.1224 290.3166 L127.1247 293.2443 L128.127 296.1002 L129.1293 298.8846 L130.1316 301.5978 L131.1339 304.2402 L132.1363 306.8123 L133.1386 309.3146 L134.1409 311.7477 L135.1432 314.1121 L136.1455 316.4087 L137.1478 318.6381 L138.1501 320.8012 L139.1524 322.8987 L140.1547 324.9316 L141.157 326.9007 L142.1593 328.8068 L143.1617 330.6511 L144.164 332.4344 L145.1663 334.1577 L146.1686 335.8219 L147.1709 337.4282 L148.1732 338.9776 L149.1755 340.471 L150.1778 341.9095 L151.1801 343.2942 L152.1824 344.6261 L153.1848 345.9062 L154.1871 347.1357 L155.1894 348.3155 L156.1917 349.4467 L157.194 350.5305 L158.1963 351.5677 L159.1986 352.5594 L160.2009 353.5068 L161.2032 354.4108 L162.2055 355.2724 L163.2079 356.0926 L164.2102 356.8724 L165.2125 357.6129 L166.2148 358.315 L167.2171 358.9796 L168.2194 359.6078 L169.2217 360.2003 L170.224 360.7584 L171.2263 361.2827 L172.2286 361.7742 L173.2309 362.2338 L174.2333 362.6624 L175.2356 363.0609 L176.2379 363.43 L177.2402 363.7707 L178.2425 364.0837 L179.2448 364.3699 L180.2471 364.63 L181.2494 364.8648 L182.2517 365.0752 L183.254 365.2617 L184.2563 365.4253 L185.2587 365.5665 L186.261 365.6861 L187.2633 365.7847 L188.2656 365.8632 L189.2679 365.922 L190.2702 365.9619 L191.2725 365.9836 L192.2748 365.9875 L193.2771 365.9743 L194.2794 365.9447 L195.2818 365.8991 L196.2841 365.8383 L197.2864 365.7626 L198.2887 365.6727 L199.291 365.569 L200.2933 365.4521 L201.2956 365.3225 L202.2979 365.1808 L203.3002 365.0272 L204.3025 364.8624 L205.3049 364.6867 L206.3072 364.5007 L207.3095 364.3047 L208.3118 364.0991 L209.3141 363.8845 L210.3164 363.661 L211.3187 363.4293 L212.321 363.1896 L213.3233 362.9422 L214.3256 362.6877 L215.3279 362.4261 L216.3302 362.1581 L217.3326 361.8838 L218.3349 361.6035 L219.3372 361.3177 L220.3395 361.0265 L221.3418 360.7303 L222.3441 360.4294 L223.3464 360.124 L224.3487 359.8144 L225.351 359.5008 L226.3533 359.1836 L227.3557 358.8628 L228.358 358.5389 L229.3603 358.212 L230.3626 357.8823 L231.3649 357.55 L232.3672 357.2154 L233.3695 356.8787 L234.3718 356.5399 L235.3741 356.1995 L236.3764 355.8574 L237.3787 355.5139 L238.3811 355.1692 L239.3834 354.8234 L240.3857 354.4766 L241.388 354.1291 L242.3903 353.781 L243.3926 353.4324 L244.3949 353.0834 L245.3972 352.7343 L246.3996 352.385 L247.4018 352.0358 L248.4042 351.6868 L249.4065 351.338 L250.4088 350.9896 L251.4111 350.6417 L252.4134 350.2943 L253.4157 349.9477 L254.418 349.6019 L255.4203 349.2569 L256.4226 348.9128 L257.4249 348.5699 L258.4272 348.228 L259.4296 347.8873 L260.4319 347.5479 L261.4342 347.2097 L262.4365 346.873 L263.4388 346.5378 L264.4411 346.2041 L265.4434 345.872 L266.4457 345.5415 L267.448 345.2127 L268.4503 344.8857 L269.4526 344.5604 L270.455 344.237 L271.4573 343.9154 L272.4596 343.5958 L273.4619 343.2781 L274.4642 342.9624 L275.4665 342.6487 L276.4688 342.3371 L277.4711 342.0276 L278.4734 341.7202 L279.4757 341.4149 L280.4781 341.1118 L281.4804 340.8109 L282.4827 340.5121 L283.485 340.2156 L284.4873 339.9214 L285.4896 339.6294 L286.4919 339.3397 L287.4942 339.0523 L288.4965 338.7672 L289.4988 338.4844 L290.5012 338.2039 L291.5035 337.9258 L292.5058 337.6501 L293.5081 337.3766 L294.5104 337.1056 L295.5127 336.8369 L296.515 336.5705 L297.5173 336.3065 L298.5196 336.0449 L299.5219 335.7856 L300.5243 335.5287 L301.5266 335.2742 L302.5289 335.0221 L303.5312 334.7723 L304.5335 334.5249 L305.5358 334.2798 L306.5381 334.0371 L307.5404 333.7967 L308.5427 333.5586 L309.545 333.3229 L310.5474 333.0895 L311.5497 332.8585 L312.552 332.6297 L313.5543 332.4033 L314.5566 332.1791 L315.5589 331.9572 L316.5612 331.7376 L317.5635 331.5202 L318.5658 331.3051 L319.5681 331.0923 L320.5704 330.8816 L321.5728 330.6732 L322.5751 330.4669 L323.5774 330.2629 L324.5797 330.0611 L325.582 329.8614 L326.5843 329.6638 L327.5866 329.4684 L328.5889 329.2751 L329.5912 329.084 L330.5935 328.8949 L331.5959 328.7079 L332.5981 328.5229 L333.6005 328.3401 L334.6028 328.1592 L335.6051 327.9804 L336.6074 327.8036 L337.6097 327.6287 L338.612 327.4558 L339.6143 327.2849 L340.6166 327.116 L341.6189 326.9489 L342.6212 326.7838 L343.6236 326.6206 L344.6259 326.4592 L345.6282 326.2997 L346.6305 326.1421 L347.6328 325.9863 L348.6351 325.8323 L349.6374 325.6801 L350.6397 325.5297 L351.642 325.381 L352.6443 325.2341 L353.6466 325.089 L354.649 324.9455 L355.6513 324.8038 L356.6536 324.6637 L357.6559 324.5253 L358.6582 324.3886 L359.6605 324.2535 L360.6628 324.12 L361.6651 323.9882 L362.6674 323.8578 L363.6697 323.7292 L364.6721 323.602 L365.6743 323.4764 L366.6767 323.3523 L367.679 323.2297 L368.6813 323.1087 L369.6836 322.9891 L370.6859 322.8709 L371.6882 322.7543 L372.6905 322.639 L373.6928 322.5252 L374.6952 322.4128 L375.6975 322.3017 L376.6998 322.1921 L377.7021 322.0838 L378.7044 321.9768 L379.7067 321.8712 L380.709 321.7669 L381.7113 321.6639 L382.7136 321.5622 L383.7159 321.4617 L384.7182 321.3625 L385.7206 321.2646 L386.7229 321.1679 L387.7252 321.0724 L388.7275 320.9781 L389.7298 320.885 L390.7321 320.7931 L391.7344 320.7023 L392.7367 320.6127 L393.739 320.5242 L394.7414 320.4369 L395.7436 320.3506 L396.7459 320.2655 L397.7483 320.1814 L398.7506 320.0984 L399.7529 320.0165 L400.7552 319.9356 L401.7575 319.8558 L402.7598 319.777 L403.7621 319.6992 L404.7644 319.6224 L405.7668 319.5466 L406.7691 319.4717 L407.7714 319.3979 L408.7737 319.3249 L409.776 319.2529 L410.7783 319.1819 L411.7806 319.1118 L412.7829 319.0425 L413.7852 318.9742 L414.7875 318.9067 L415.7898 318.8402 L416.7921 318.7745 L417.7945 318.7096 L418.7968 318.6456 L419.7991 318.5825 L420.8014 318.5201 L421.8037 318.4586 L422.806 318.3978 L423.8083 318.3379 L424.8106 318.2787 L425.813 318.2204 L426.8152 318.1628 L427.8175 318.1059 L428.8199 318.0498 L429.8222 317.9944 L430.8245 317.9397 L431.8268 317.8858 L432.8291 317.8326 L433.8314 317.7801 L434.8337 317.7282 L435.836 317.6771 L436.8383 317.6266 L437.8406 317.5768 L438.843 317.5276 L439.8453 317.4792 L440.8476 317.4313 L441.8499 317.3841 L442.8522 317.3374 L443.8545 317.2915 L444.8568 317.2461 L445.8591 317.2013 L446.8614 317.1571 L447.8637 317.1135 L448.8661 317.0705 L449.8683 317.0281 L450.8707 316.9862 L451.873 316.9449 L452.8753 316.9041 L453.8776 316.8638 L454.8799 316.8242 L455.8822 316.785 L456.8845 316.7463 L457.8868 316.7082 L458.8892 316.6706 L459.8914 316.6335 L460.8938 316.5968 L461.8961 316.5607 L462.8984 316.5251 L463.9007 316.4899 L464.903 316.4552 L465.9053 316.4209 L466.9076 316.3871 L467.9099 316.3538 L468.9122 316.3209 L469.9146 316.2885 L470.9169 316.2565 L471.9192 316.2249 L472.9215 316.1937 L473.9238 316.163 L474.9261 316.1327 L475.9284 316.1028 L476.9307 316.0732 L477.933 316.0441 L478.9353 316.0154 L479.9376 315.9871 L480.9399 315.9591 L481.9423 315.9315 L482.9446 315.9043 L483.9469 315.8774 L484.9492 315.851 L485.9515 315.8248 L486.9538 315.799 L487.9561 315.7736 L488.9584 315.7485 L489.9608 315.7238 L490.9631 315.6994 L491.9653 315.6753 L492.9677 315.6516 L493.97 315.6281 L494.9723 315.605 L495.9746 315.5822 L496.9769 315.5597 L497.9792 315.5375 L498.9815 315.5156 L499.9838 315.494 L500.9861 315.4727 L501.9885 315.4517 L502.9908 315.4309 L503.993 315.4105 L504.9954 315.3903 L505.9977 315.3704 L507 315.3507\" style=\"fill:none; fill-rule:evenodd;\"\n",
       "    /></g\n",
       "  ></g\n",
       "></svg\n",
       ">\n"
      ]
     },
     "metadata": {},
     "output_type": "display_data"
    }
   ],
   "source": [
    "subplot(211)\n",
    "ezplot(y(1),[0,6]),grid,title('y_1(t)')\n",
    "subplot(212)\n",
    "ezplot(y(2),[0,6]),grid,title('y_2(t)')"
   ]
  }
 ],
 "metadata": {
  "celltoolbar": "Slideshow",
  "kernelspec": {
   "display_name": "MATLAB",
   "language": "matlab",
   "name": "imatlab"
  },
  "language_info": {
   "codemirror_mode": "octave",
   "file_extension": ".m",
   "mimetype": "text/x-matlab",
   "name": "matlab",
   "nbconvert_exporter": "imatlab._exporter.MatlabExporter",
   "pygments_lexer": "matlab",
   "version": "9.9.0.1467703 (R2020b)"
  }
 },
 "nbformat": 4,
 "nbformat_minor": 2
}