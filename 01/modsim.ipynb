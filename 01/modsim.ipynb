{
 "cells": [
  {
   "cell_type": "markdown",
   "metadata": {
    "slideshow": {
     "slide_type": "skip"
    }
   },
   "source": [
    "**Lecturer**\n",
    "\n",
    "Set up MATLAB"
   ]
  },
  {
   "cell_type": "code",
   "execution_count": 1,
   "metadata": {
    "slideshow": {
     "slide_type": "skip"
    }
   },
   "outputs": [
    {
     "name": "stdout",
     "output_type": "stream",
     "text": [
      "\n",
      "ans =\n",
      "\n",
      "    '/Users/eechris/code/src/github.com/cpjobling/eglm03-textbook/01/matlab'\n",
      "\n"
     ]
    }
   ],
   "source": [
    "cd matlab\n",
    "pwd\n",
    "clear all\n",
    "imatlab_export_fig('print-svg')  % Static svg figures.\n",
    "format compact"
   ]
  },
  {
   "cell_type": "markdown",
   "metadata": {
    "slideshow": {
     "slide_type": "slide"
    }
   },
   "source": [
    "# System Modelling and Simulation"
   ]
  },
  {
   "cell_type": "markdown",
   "metadata": {
    "slideshow": {
     "slide_type": "slide"
    }
   },
   "source": [
    "## Contents\n",
    "\n",
    "* Ordinary differential equations\n",
    "* Transfer functions\n",
    "* Integral models\n",
    "* Using Simulink\n",
    "* State-space models"
   ]
  },
  {
   "cell_type": "markdown",
   "metadata": {
    "slideshow": {
     "slide_type": "slide"
    }
   },
   "source": [
    "## Ordinary Differential Equations\n",
    "\n",
    "* Used to model a wide variety of so-called “lumped parameter” problems in engineering and technology.\n",
    "* Based on the fundamental laws of nature such as Ohm’s law, Newton’s laws of motion, thermodynamics, chemistry etc.\n",
    "* We will assume that you have or can derive such a model in your domain of interest."
   ]
  },
  {
   "cell_type": "markdown",
   "metadata": {
    "slideshow": {
     "slide_type": "subslide"
    }
   },
   "source": [
    "### An Example\n",
    "\n",
    "Spring Mass Damper System\n",
    "\n",
    "![Spring Mass Damper System (SMD)](images/smd.png)"
   ]
  },
  {
   "cell_type": "markdown",
   "metadata": {
    "slideshow": {
     "slide_type": "subslide"
    }
   },
   "source": [
    "### Free body diagram\n",
    "\n",
    "![Freebody diagram](images/freeb.png)"
   ]
  },
  {
   "cell_type": "markdown",
   "metadata": {
    "slideshow": {
     "slide_type": "subslide"
    }
   },
   "source": [
    "### Differential equation\n",
    "\n",
    "$$\\begin{eqnarray*}\n",
    "m\\ddot x &=& \\sum \\mathrm{forces} \\;\\mathrm{in}\\;\\mathrm{the}\\;x\\;\\mathrm{direction}\\\\\n",
    " &=& F - kx - b\\dot x\\\\\n",
    "F &=& m\\ddot x + kx + b\\dot x\n",
    "\\end{eqnarray*}$$"
   ]
  },
  {
   "cell_type": "markdown",
   "metadata": {
    "slideshow": {
     "slide_type": "notes"
    }
   },
   "source": [
    "### Challenge for Electrical Engineers\n",
    "\n",
    "Can you think of a simple electrical circuit that has a similar differential equation?\n",
    "\n",
    "*Clue*: it would have 1 resistor 1 capacitor and 1 inductor."
   ]
  },
  {
   "cell_type": "markdown",
   "metadata": {
    "slideshow": {
     "slide_type": "slide"
    }
   },
   "source": [
    "## Transfer functions"
   ]
  },
  {
   "cell_type": "markdown",
   "metadata": {
    "slideshow": {
     "slide_type": "subslide"
    }
   },
   "source": [
    "### Laplace transform\n",
    "\n",
    "* Allows us to represent a the differential equation representing a linear-time invariant (LTI) system as a rational polynomial in $s$.\n",
    "* This can be solved for $t$ using the inverse-Laplace transform (time domain).\n",
    "* Can substitute $s=j\\omega$ to determine the response to sinusoidal inputs (frequency domain)."
   ]
  },
  {
   "cell_type": "markdown",
   "metadata": {
    "slideshow": {
     "slide_type": "subslide"
    }
   },
   "source": [
    "### Transform version of the SMD\n",
    "\n",
    "Let:\n",
    "\n",
    "$$\\begin{eqnarray*}\n",
    "X(s) &=& \\mathcal{L}x(t)\\\\\n",
    "F(s) &=& \\mathcal{L}F(t)\n",
    "\\end{eqnarray*}$$"
   ]
  },
  {
   "cell_type": "markdown",
   "metadata": {
    "slideshow": {
     "slide_type": "fragment"
    }
   },
   "source": [
    "then\n",
    "\n",
    "$$F(s) = ms^2X(s) + bsX(s) + bX(s)$$"
   ]
  },
  {
   "cell_type": "markdown",
   "metadata": {
    "slideshow": {
     "slide_type": "subslide"
    }
   },
   "source": [
    "### Transfer function\n",
    "\n",
    "$$X(s) = \\frac{1}{ms^2 + bs + k}F(s)$$"
   ]
  },
  {
   "cell_type": "markdown",
   "metadata": {
    "slideshow": {
     "slide_type": "subslide"
    }
   },
   "source": [
    "### Block diagram\n",
    "\n",
    "![Block diagram](images/bd.png)"
   ]
  },
  {
   "cell_type": "markdown",
   "metadata": {
    "slideshow": {
     "slide_type": "subslide"
    }
   },
   "source": [
    "### MATLAB LTI Object"
   ]
  },
  {
   "cell_type": "code",
   "execution_count": 2,
   "metadata": {
    "slideshow": {
     "slide_type": "fragment"
    }
   },
   "outputs": [],
   "source": [
    "%%file matlab/smd_params.m\n",
    "%% SMD_PARAMS - define parameters for Spring Mass Damper (SMD) model\n",
    "m = 1; % kg\n",
    "b = 0.6; % Ns/m\n",
    "k = 5; % N/m"
   ]
  },
  {
   "cell_type": "code",
   "execution_count": 3,
   "metadata": {
    "slideshow": {
     "slide_type": "fragment"
    }
   },
   "outputs": [],
   "source": [
    "smd_params"
   ]
  },
  {
   "cell_type": "code",
   "execution_count": 4,
   "metadata": {
    "slideshow": {
     "slide_type": "fragment"
    }
   },
   "outputs": [
    {
     "name": "stdout",
     "output_type": "stream",
     "text": [
      "\n",
      "smd_tf =\n",
      " \n",
      "         1\n",
      "  ---------------\n",
      "  s^2 + 0.6 s + 5\n",
      " \n",
      "Continuous-time transfer function.\n",
      "\n"
     ]
    }
   ],
   "source": [
    "smd_tf = tf([1], [m b k])"
   ]
  },
  {
   "cell_type": "code",
   "execution_count": 5,
   "metadata": {
    "slideshow": {
     "slide_type": "subslide"
    }
   },
   "outputs": [
    {
     "data": {
      "image/svg+xml": [
       "<?xml version=\"1.0\"?>\n",
       "<!DOCTYPE svg PUBLIC '-//W3C//DTD SVG 1.0//EN'\n",
       "          'http://www.w3.org/TR/2001/REC-SVG-20010904/DTD/svg10.dtd'>\n",
       "<svg xmlns:xlink=\"http://www.w3.org/1999/xlink\" style=\"fill-opacity:1; color-rendering:auto; color-interpolation:auto; text-rendering:auto; stroke:black; stroke-linecap:square; stroke-miterlimit:10; shape-rendering:auto; stroke-opacity:1; fill:black; stroke-dasharray:none; font-weight:normal; stroke-width:1; font-family:'Dialog'; font-style:normal; stroke-linejoin:miter; font-size:12px; stroke-dashoffset:0; image-rendering:auto;\" width=\"560\" height=\"420\" xmlns=\"http://www.w3.org/2000/svg\"\n",
       "><!--Generated by the Batik Graphics2D SVG Generator--><defs id=\"genericDefs\"\n",
       "  /><g\n",
       "  ><defs id=\"defs1\"\n",
       "    ><clipPath clipPathUnits=\"userSpaceOnUse\" id=\"clipPath1\"\n",
       "      ><path d=\"M0 0 L560 0 L560 420 L0 420 L0 0 Z\"\n",
       "      /></clipPath\n",
       "      ><clipPath clipPathUnits=\"userSpaceOnUse\" id=\"clipPath2\"\n",
       "      ><path d=\"M0 0 L1119.9999 0 L1119.9999 839.9999 L0 839.9999 L0 0 Z\"\n",
       "      /></clipPath\n",
       "    ></defs\n",
       "    ><g style=\"fill:white; stroke:white;\"\n",
       "    ><rect x=\"0\" y=\"0\" width=\"560\" style=\"clip-path:url(#clipPath1); stroke:none;\" height=\"420\"\n",
       "    /></g\n",
       "    ><g transform=\"scale(0.5,0.5)\"\n",
       "    ><image x=\"0\" y=\"0\" width=\"1120\" xlink:href=\"data:image/png;base64,iVBORw0KGgoAAAANSUhEUgAABGAAAANICAIAAAAHNA4rAABnWUlEQVR42uzdC3RV\n",
       "130nfhzHcey8Jk6X6zpOw6SdTOpkksbpw12TziJN2maapM6jSZfzcOi/GUuIhx0c\n",
       "keIGSzGwEAHXQ2qG92CHKRgvHFNnysNAMARhQ4qKF4lAQgaMbVUOyBgGokRC0n/b\n",
       "J5zcXD24COnec+75fBYrC517r3y17/kp+8vZ+3dG9QIAAPCKUYYAAABAQAIAABCQ\n",
       "AAAABCQAAAABCQAAQEACAAAQkAAAAAQkAAAAAQkAAEBAAgAAEJAAAAAEJAAAAAEJ\n",
       "AABAQAIAABCQAAAABCQAAAABCQAAQEACAAAQkAAAAAQkAAAAAQkAAEBAAgAAEJAA\n",
       "AAAEJAAAAAEJAABAQAIAABCQAAAABCQAAAABCQAAQEACAAAQkAAAAAQkAAAAAQkA\n",
       "AEBAAgAAEJAAAAAEJAAAAAEJAAAAAQkAAEBAAgAAEJAAAAAEJAAAAAEJAABAQAIA\n",
       "ABCQAAAABCQAAAABCQAAQEACAAAQkAAAAAQkAAAAAQkAAEBAAgAAEJAAAAAEJAAA\n",
       "AAEJAABAQAIAABCQAAAABCQAAAABCQAAQEACAAAQkAAAAAQkAAAAAQkAAEBAAgAA\n",
       "EJAAAAAEJAAAAAEJAABAQAKgbPz85z9vbGz8v//3/65bt+5HP/rRmTNnjAkAAhIA\n",
       "mXPy5Mna2tq3vOUto3JceeWVVVVVhw4dip/W09Nz5pxivr1x48ZdMYC3vvWtH/3o\n",
       "Rx955BEfIgACEgDDIKSdP/qjPxo1gGuuuebw4cPRM59//vn4+NatW4v2Dv/2b/92\n",
       "1PlMnjzZRwmAgATAxZo0aVIcM37jN37j5ptv/uQnP/mmN70pPnjDDTf0DUgbN24s\n",
       "VUB6zSte/epX52Wkxx9/3KcJgIAEwEX5z//5P0cB493vfvfp06ejg6dOnfrABz4Q\n",
       "Z49jx44lJCC1trZGB8+ePVtfX//nf/7n8UN33HGHTxMAAQmAoTtz5kwcMD7/+c/n\n",
       "PvSd73znsnO2bt1aUVFx0003xU8eM2bMLbfcsnr16vj5e/furaqquvHGG3/913/9\n",
       "Ix/5yLRp044cORI/OmHChFte8eMf/3j+/Pl/+qd/es011/zX//pfQ6rJfVrhASmy\n",
       "Y8eO+KFPfvKTuQ8N/n6Cbdu2jR079j3vec/VV1/9tre9LTxzxowZL7zwwtDeczhy\n",
       "++23f+hDHwrP+S//5b984QtfePDBB/OeE3/DxsbG7373u+ENX3vttb/5m7/56U9/\n",
       "et++fRf03gr8GQEQkAC4MNddd10UMC655JLKysqdO3d2d3f3fVp4tO/On9tuuy16\n",
       "tK6u7jWveU3eo2Fy/8QTT0RPiNfsvf/97+/7tPAfHVpA2r17d/xQTU1NfPy872fZ\n",
       "smWvetWr+v5Eo0ePjvdcFf6ew3d7/etf3/e7fexjH2tvb4+fFn/Dj3/843njecUV\n",
       "V+zZs6fw91bIzwiAgATABQuhKG+SfdVVV33qU5+67777nn766fhp//2///cPfehD\n",
       "8XN+7/d+76Mf/ejChQvDQ2vWrImP/+Zv/uYNN9wQf/m6173uJz/5SW42CMLs/3d/\n",
       "93f/03/6T/GRt771rT//+c8vNCA988wzf/3Xfx0/tGXLluj4ed9PT0/Pm9/85ujI\n",
       "jTfeOGfOnFtvvTU8FB358pe/nJdnBn/P//qv/3rppZdGB1/72teGbxgeip8Wf7e8\n",
       "bxi84Q1vyP3y5ptv7n2lVWAh762QMQdAQALggv30pz/94Ac/2G9ruJAK/uqv/ipe\n",
       "2dXvHqSOjo5rr702Ojh+/Pjo6lNLS0s8y582bVpuNnjNa16zadOm6LX33HNP/A0X\n",
       "LVpUSEAaPXr0b7/i7W9/e+5b/cu//MuzZ88W+H5+/OMfxy+MVwnOmjXrDa/4nd/5\n",
       "nbw8M/h7DjEmDirxFZ7bbrstflrfy2hXXnnlgw8+2NnZ+dRTT8U/yDve8Y7wnELe\n",
       "W4FjDoCABMBQhBn28uXL/+AP/qDfdXTvec97BmnSsGvXrniF3u7duxvP+eQnPxnH\n",
       "htxskLfT6frrr4+Of/azny0kIPXrfe9738mTJwt/P62trfFrL7/88i9/+cvf+c53\n",
       "QsDI++8W8p5DvIyXwy1YsCB+TsgwcVwJ8SbvG37pS1+Kn/k3f/M3cWoKXxby3goc\n",
       "cwAEJAAuSohAYTr+xS9+8aqrrspNIHV1dQMFpKVLlw6eXi677LLcbPC//tf/yv0v\n",
       "jh8/Pjr+gQ98oJCAdO211/7WK/Le4ZgxYy7o/YTM0+8mn+nTp8e3wS3kPe/Zsyd+\n",
       "+Y9+9KPcp/3pn/5pdDyMZ943vPvuu+Onffvb344OXnrppdGR8763An9GAAQkAC5M\n",
       "yDmzXjFnzpzOzs74ePj7jBkz4gl3mOsPFJDmzp173ru4vvjii3E2+N//+3/nvoHq\n",
       "6uroeMg8hQSkeA9Sd3d3fX19fDEnCF8W/n66urrCO/ngBz/Y935KH/7wh3t6enLz\n",
       "zCDv+Qc/+EH8wqamptyn/eVf/mW8/C8vIN17773x05YsWZIXkM773gr8GZ3eAAIS\n",
       "ABcmd6q9a9euvEf/43/8j/EtkgYKSP/yL/8SL/f693//9/b+hDl9nA2mTp2a+5/4\n",
       "9Kc/HU/9LyggRXKvpfzDP/xD4e8n/g4nT57853/+5wkTJvyH//Af4m/14x//ODfP\n",
       "DPKe29ra4letX78+92m/8zu/Ex3/+te/fkEB6bzv7UJ/RgAEJAAKsn379njm/Yd/\n",
       "+Ie5Pal/+MMfXnbZZbl7ZnID0vLly6OnHT16NN65tGrVqvjlDz300B+94pZbbsnN\n",
       "Btddd92JEyei5xw+fPjyyy+PjocYMISA9OKLL8YPVVdXF/h+Fi1a9PpX/N7v/V78\n",
       "hNxrQVu3bi38PV999dXRl5/4xCfiWLJ58+b4u/3TP/1T4QGpkPdW4JgDICABcGE6\n",
       "OjpyV6m97nWvu+mmm/7H//gfH/nIR+J0FDz66KPhySE+xUeuueaa+F6oY8eOjbu9\n",
       "ffzjH//2t78dIs1rX/va3A08uR2u3/3ud8+ZM2fWrFlve9vb4nZ5+/fvH0JACq68\n",
       "8sroofC2oyPnfT+5neK++tWvhsxz6NChL3/5y9GRV7/61adPny78Pf/jP/5j7o2P\n",
       "Fi5c+Pd///fxbZHe9a53xR3MCwlIBb63QsYcAAEJgAsWpuDxNZB+TZ48OX5yvOgu\n",
       "90axx44dyzue2zvhZz/7WW426PcWqLfffvsg73DwgPSe97wnb5FeIe/ns5/97EA/\n",
       "78SJE/PyzODvubu7O+TJfr9ViEk7duyI32qBS+wKeW+F/IwACEgADEVIHVOmTHnj\n",
       "G9+YN9X+3d/93e9+97u5u1l27dr1/ve/Py8gBf/v//2/cePGxfczje6CGh7t2xFu\n",
       "5syZn/vc5+I7q1511VVz5swZ/O3l3sq27y1Qb7nllrgpdrwQ7rzvp6ur6xvf+MY1\n",
       "11yT+/OGL2tqauKft/D3HDJSyDy/9mu/lttH7uMf//iRI0dyn9ZvQFq+fHnfJg3n\n",
       "fW+F/IwACEgADN3PfvazpqamjRs3Pvzww//6r/86SBu0n/70pyFTtbW1hal8Xk44\n",
       "ePDgpk2b9u3bF54zSDYIk/vt27eH/9yI9hIY5P3EUaS5ufnxV4Q3E91q9mLecxiW\n",
       "73//++E/l9sScGgGf2+F/4wACEgAJE6/F0+8ZwAEJAAEJO8ZAAEJgAx7y1ve8upX\n",
       "zJs3z3sGQEACAAAQkAAAAAQkAAAAAQkAAEBAAgAAEJAAAAAEJAAAAAEJAABAQGLY\n",
       "nTlzpqmpaceOHY2NjadOnSrkJS+99NK+ffvCS/bv39/R0ZH36PHjx5/vo8DvDAAA\n",
       "CEglU19fP2nSpFvPqaqqWr9+/SDP7+7uXrt2bWVlZfySr371qyEp5T6npqbm1j7C\n",
       "q4w2AAAISMnV3NxcUVER0svixYu3bdu2YsWK6Mtdu3YN9JKtW7eGJ0ycOPGRRx7Z\n",
       "tGnTPffcE74Meenpp5+OntDZ2Rm+nDJlyupftW/fPgMOAAACUnLNmzcvxJuVK1fG\n",
       "RzZs2BCO1NTUDPSS6urq8IT9+/fHR+rq6sKRNWvWRF8+88wz4cv777/f8AIAgICU\n",
       "Gl1dXVVVVSHMtLe3xwc7OzvHjx8fDh4/frzvS1566aXw0LRp03IPbt68ORxcsGBB\n",
       "9OXOnTvDl+GgEQYAAAEpNdra2kKSqa6uzjseXRFqbGzs+5JTp05t3779qaeeyj0Y\n",
       "olF4/ve///3oy4ceeih82dDQEJ65Zs2akJQOHTpktAEAQEBKtObm5pBkZs6cmXc8\n",
       "CjxPPvnk4C9vaWnZsWNHtEhv+vTpp0+fjo7fe++9UbOH3A4NS5cu7erqMuYAACAg\n",
       "JdSBAwdCdKmrq8s7vmzZsnA8rzFdX3PmzInzT0NDQ3z8jjvuCEdmz54dIlZTU9Pa\n",
       "tWujsDR4F7tbAQAoR2bdAlJq7N+/v9+AtHjx4kIC0tNPP71nz54Qe6Iu4Q899FDv\n",
       "K03AH3vssU2bNuVeL9q9e3d0TSk8OkhA8okYFiNjZIyMYTEyRsbIGBkEpJI5ePBg\n",
       "OGXvvvvuvOP33Xff4J2++yalioqKiRMnDrKIbsqUKeF7tra2Kh6/U4yMkTEyhsXI\n",
       "GBkjY2QQkJLo2LFj4ZSdMGFCT09P7vFp06aF401NTX1fsnfv3gceeCB3QV2ktrY2\n",
       "ekn4Vh0dHX2T0vTp0wdq/KB4/E4xMkbGyBgWI2NkjIyRQUAqve7u7mh13JEjR+KD\n",
       "J0+erKysrKioCH/p+5L6+vqoJUPe8alTp4bjR48e3bNnT/jLokWLch/t7OycOHHi\n",
       "QK3DFY/fKUbGyBgZw2JkjIyRMTIISIkQkkw4a+fOnRtfRIo6NMyaNSv6MmSex14R\n",
       "ffncc89Fm+0OHjwYf5NNmzaFIyECnT17NkSg8Pdx48Y1NzdHj4bv/OCDD4aDtbW1\n",
       "isfvFCNjZIyMYTEyRsbIGBkEpORqa2uLbgtbXV29ZMmSO++8M/y9oqIiXl+3cePG\n",
       "vPYjK1asiDouLF68ePXq1dFNk4KdO3dGT1i1alX4srKycsGCBeEJM2fOjJ7f0tKi\n",
       "ePxOMTJGxsgYFiNjZIyMkUFASrSQW6IdRJGpU6fu3bs3fjQKSCHtxEe6urrWrVsX\n",
       "rc2L1NTU7NmzJ37C2bNnwxNuv/326NHw2tmzZz/77LOKx+8UI2NkjIxhMTJGxsgY\n",
       "GQQkFA8AgDkeAhKKBwDAHA8BCcUDAIA5noCE4gEAwBxPQELxAABgjicgoXgAADDH\n",
       "E5BQPAAAmOMJSCgeAADM8QQkFA8AAOZ4AhKKBwAAczwBCcUDAIA5noCE4gEAwBxP\n",
       "QELxAABgjicgoXgAADDHE5BQPAAAmOMJSCgeAADM8QQkFA8AAOZ4AhKKBwAAczwB\n",
       "CcUDAIA5noCE4gEAwBxPQELxAABgjicgoXgAADDHE5BQPAAAmOMJSCgeAADM8QQk\n",
       "FA8AAOZ4AhKKBwAAczwBCcUDAIA5noCE4gEAwBxPQELxpOgMnrxl9Iz6w+0dPk0A\n",
       "AAFJQCLTxbN8d+vYVY3hf8fMb/BpAgAISAISmS6e+NpRiEm1Gw75QAEABCQBiYwW\n",
       "T3T5KPp7iElj5jdsbTnhMwUAEJAEJLJYPHlbj0I6Ckd8pgAAApKAROaKJ/fyUax2\n",
       "w6G+BwEAzPEQkCjz4ul3Qd3h9o4QkCy0AwDM8QyCgESGiidEoIHa1oWMZKEdAGCO\n",
       "ZxAEJDJUPIP3Y7DQDgAwxzMIAhJZKZ5CrhGNmrzFhwsAmOMhIFH+xRPdGXbw52j5\n",
       "DQCY4yEgkYniKeTqUO2GQ+4bCwCY4yEgUebFU2DyGaSLAwCAOR4CEmVSPAVuLtLL\n",
       "DgAwx0NAosyLp9+bww7ENiQAwBwPAQkBSUACAMzxBCQBiQwUTyH962L6NAAA5ngI\n",
       "SJRz8YyeUX+4vaPAJ+vTAACY4yEgUc7Fc0G3f9WnAQAwx0NAomyLZwiBxzYkAMAc\n",
       "DwGJ8iyeC+rQELENCQAwx0NAojyLZwhpxzYkAMAcDwGJ8iyeC2phF7ENCQAwx0NA\n",
       "ojyL54Ja2F3kqwAAzPEEJBRPss/UC2lhF9OnAQAwx0NAotyKZ8iL5fRpAADM8RCQ\n",
       "KLfiGUILu4g+DQCAOR4CEuVWPEO+EKRPAwBgjoeARLkVzxBa2MVsQwIAzPEQkCir\n",
       "4rmYZnS2IQEA5ngISJRV8QythV3ENiQAwBwPAYnyKZ6LTDi2IQEA5ngISJRP8Qy5\n",
       "hd0vz/KLuAAFAGCOJyCheBLk4jcR6dMAAJjjISBRJsVzMS3shitiAQCY4wlIKJ5E\n",
       "uJgWdhF9GgAAczwEJMqkeC5+B5E+DQCAOR4CEuVQPMN18cc2JADAHA8BidQXz8W3\n",
       "sBOQAABzPAQkyqR4Lr5DQ0yfBgDAHA8BCQHpF/RpAADM8RCQSHfxXHwLu9xv5RMH\n",
       "AMzxEJBIcfFcfAs7AQkAMMdDQKIcimd47180jBejAADM8QQkFE+xDVcLu4hGdgCA\n",
       "OR4CEikunmHs0DDs3w0AwBxPQELxpDgg1W44pNM3AGCOh4BEWotneHcNDe+OJgAA\n",
       "czwBCcVT3LNz+FrYBSFraWQHAJjjISCl1ZkzZ5qamnbs2NHY2Hjq1KlCXvLSSy/t\n",
       "27cvvGT//v0dHR2pLp7h7dAgIAEAAhICUorV19dPmjTp1nOqqqrWr18/yPO7u7vX\n",
       "rl1bWVkZv+SrX/1qSEoCUi6dvgEAAQkBKX2am5srKirCmb148eJt27atWLEi+nLX\n",
       "rl0DvWTr1q3hCRMnTnzkkUc2bdp0zz33hC9DXnr66adTWjwj0XROp28AQEBCQEqf\n",
       "efPmhdN65cqV8ZENGzaEIzU1NQO9pLq6Ojxh//798ZG6urpwZM2aNSktnpEIMzp9\n",
       "AwACEgJSynR1dVVVVYXTur29PT7Y2dk5fvz4cPD48eN9X/LSSy+Fh6ZNm5Z7cPPm\n",
       "zeHgggULUlo8I7FfSKdvAEBAQkBKmba2tnBOV1dX5x2Prgg1NvazLefUqVPbt29/\n",
       "6qmncg+GaBSe//3vfz+lxTO8LewiOn0DAAISAlLKNDc3h3N65syZecejwPPkk08O\n",
       "/vKWlpYdO3ZEi/SmT59++vRpASmmkR0AICAhIKXMgQMHwjldV1eXd3zZsmXh+Hkb\n",
       "082ZMyduZNfQ0HDe4ulXyQdhhC71CEgAQJkFocRO5wQkhs3+/fv7DUiLFy8uJCA9\n",
       "/fTTe/bsWbt2bdQl/KGHHkrjvy6MRI/viE7fAEAWgpNBEJDKx8GDB8M5fffdd+cd\n",
       "v++++wbv9N03KVVUVEycOLGrq0tAiun0DQAISAhIaXLs2LFwTk+YMKGnpyf3+LRp\n",
       "08Lxpqamvi/Zu3fvAw880HdBXW1t7UAvSXjxjFy7OZ2+AQABCQEpTbq7u6PVcUeO\n",
       "HIkPnjx5srKysqKiIvyl70vq6+ujlgx5x6dOnRqOHz16NHXFM3IxRqdvAEBAQkBK\n",
       "mUWLFoXTeu7cufFFpKhDw6xZs6IvQ+Z57BXRl88991y0G+/gwYPxN9m0aVM4MnHi\n",
       "xLNnz6aueEZuIZxO3wCAgISAlDJtbW3RbWGrq6uXLFly5513hr9XVFTEi+U2btyY\n",
       "159kxYoV4cuqqqrFixevXr06umlSsHPnzjQWz8i1UhCQAAABCQEpfVpaWqIdRJGp\n",
       "U6fu3bs3fjQKSJWVlfGRrq6udevWRWvzIjU1NXv27Elp8YzETZAiOn0DAAISAhIC\n",
       "0i/p9A0AmOMhIJGa4hnpizw6fQMA5ngISKSmeEbuJkgRnb4BAHM8BCQEpF/Q6RsA\n",
       "MMdDQCI1xTPSAUYjOwDAHA8BidQUz0gvgROQAABzPAQkBKRf0OkbADDHQ0AiNcVT\n",
       "hDbcI9pGHADAHE9AQvGkKSDp9A0AmOMhIJGO4inC5R0BCQAwx0NAIgXFU5wNQjp9\n",
       "AwDmeAhIpKB4itNiTiM7AMAcDwGJFBTPSN8lVkACAMzxEJBITfEUZ/GbTt8AgDke\n",
       "AhIpKJ6RvgnSL099nb4BAHM8BCQEpIhGdgCAOR4CEkkvniLcBElAAgDM8RCQEJB+\n",
       "hU7fAIA5HgISSS+eom0NKk67PAAAczwBCcWTgoCk0zcAYI6HgESii6eYoUWnbwDA\n",
       "HA8BiUQXT5GXven0DQCY4yEgISD9gkZ2AIA5HgISyS2eIneWE5AAAHM8BCSSWzxF\n",
       "u0tsSf5zAAACkoCE4rkARb6k41ZIAIA5HgISyS2eot0lNuJWSACAOR4CEsktniK3\n",
       "lXMrJADAHA8BCQHpF9wKCQAwx0NAIqHFU/y4IiABAOZ4CEgktHhKsiOoyLueAAAE\n",
       "JAEJxZPcgORWSACAOR4CEkksnpI03RaQAABzPAQkklg8Jbltq1shAQDmeAhICEgC\n",
       "EgBgjoeARIKLpyT9EtwKCQAwx0NAQkASkAAAczwEJBJcPEW+S2zErZAAAHM8BCQS\n",
       "VzwlDColCWYAAAKSgITiGVAJl7q5VywAYI6HgESyiqckd4mNuBUSAGCOh4BEsoqn\n",
       "hO22S9JeHABAQBKQUDxJTCluhQQAmOMhICEgCUgAgDkeAhKJLJ4SdkpwKyQAwBwP\n",
       "AQkB6RfcCgkAMMdDQCJZxVPCmxEJSACAOR4CEskqntJGFPeKBQDM8RCQSFDxlHYX\n",
       "kFshAQDmeAhIJKuLnYAEACAgCUgont7lu1tLG5DcKxYAMMdDQCIpxVPyOxG5FRIA\n",
       "YI6HgERSiqfkF3BKfgkLAEBAEpBQPEkJSO4VCwCY4yEgkZTiKXmPBLdCAgDM8RCQ\n",
       "SErxhHASIoqABAAgIAlIKJ7SB6Re94oFAMzxEJBISPEkIZy4FRIAYI6HgKR4BCQB\n",
       "CQAwx0NAIjHFk5D9P+4VCwCY4yEgKZ7SF09CWmy7VywAYI6HgKR4Sl88CblJq1sh\n",
       "AQDmeAhIikdAEpAAAHM8BCQSUzwJWdvmVkgAgDkeApLiKX3xJKQ7goAEAJjjISAp\n",
       "HgHpl5Jwv1oAAAFJQCLTxZOcGxC5FRIAYI6HgKR4Siw5120EJADAHA8BSfEISL/g\n",
       "VkgAgDkeApLiKfUpOHlLQkZDQAIAzPEQkBSPgPQLboUEAJjjISApnlJKVHNtAQkA\n",
       "MMdDQFI8MkkS0xoAgIAkIJG54lm+u3XsqsYE1UNi1vullDaAAGCOJyCheMonILlX\n",
       "7JDVbjg0Zn5D+BPGMHymkhIACEgCEopnKLPqRDWOcyukoQmDFq9ODAkz5N44KRkc\n",
       "ABCQBCQUT6HCBDpMppMzIEl7P6kQEtGoyVv6BssoKdnWBQACkoBEQc6cOdPU1LRj\n",
       "x47GxsZTp04V+JIDBw6El+zfvz/8Pe/R48ePP9/H4N9ZQMrjVkhDMPhlt/ARu44E\n",
       "AAKSgMR51NfXT5o06dZzqqqq1q9fP8jze3p6Nm3aFJ4WvyS8fPPmzbnPqampubWP\n",
       "tWvXJrl4krakLWl7olKRjgaPlFFvQAsXAUBAEpAYUHNzc0VFRThxFy9evG3bthUr\n",
       "VkRf7tq1a6CXhKeFJ4wbN2716tXbt29funRp9JIf/vCH0RM6OzsrKyunTJmy+lft\n",
       "27cvycWTwKYIboVUuBAmCxmuaEuS4QIAAUlAon/z5s0LZ+3KlSvjIxs2bAhHampq\n",
       "+n1+d3f31772tbwE9eijj4Yj3/rWt6Ivn3nmmfDl/fffn67iSWBAsmemQLmNGQYX\n",
       "PmLdLwBAQBKQ6F9XV1e0Uq69vT0+2NnZOX78+HDw+PHjfV/ywgsvhIf+7u/+rqen\n",
       "Jz4YnhkOTpw4Mfpy586d4cu8RXfJL54E3ndIQCowHYXPrvBwW3iaAgAEJAEpW9ra\n",
       "2sIpW11dnXe8rq4uHG9s7GcDzNGjR++66668q0PhYHj+lClToi8feuih8GVDQ8P2\n",
       "7dvXrFkTktKhQ4eSXzwJDEjuFVuIIXTXGDO/QYdAABCQBCTyNTc3h1N25syZeccX\n",
       "LFgQjj/55JMFfp/ly5eH54dXRV/ee++9UbOH3A4NS5cu7erqSmzxRNv3k/YBuVfs\n",
       "CMXIZH7cACAgISCV2IEDB8IpW1dXl3d82bJl4fiOHTvO+x16enrWrFkTxaHW1l/8\n",
       "k/wdd9wRjsyePTtErKamprVr10Zh6bxd7PpVnKHY2nIigXv37ZY5fzgfaq+/2g2H\n",
       "NAkEgOENQqWdzglIDIP9+/f3G5AWL15cSEAKiShajDdhwoQf/ehH0cHu7u7HHnts\n",
       "06ZNudeLdu/eHYWo8Ggy/3UhmT21BaSRGyLdGgCgaMHJIAhIqXHw4MFwyt599915\n",
       "x++7777BO32HnLNu3broulDISG1tbef9b02ZMiU8Ob7KJCAVwr1iz/9b4yK2aWn5\n",
       "DQACkoDErzh27Fh0/Se3JV0wbdq0cLypqanfV3V1dS1cuDA84bbbbtu+fXvea8OX\n",
       "HR0dfbcbTZ8+faDGD0konmRGEQFppGOti0gAICAJSPxSd3f3pEmTwll75MiR+ODJ\n",
       "kycrKysrKirCX/p9VbTpqLa29sUXX+z76J49e8KjixYtyj3Y2dk5ceLEgVqHJ6F4\n",
       "htAJrQiSuTMqOS4+3iTzyiEACEgISCUTkkw4a+fOnRtfCIo6NMyaNSv68ujRo4+9\n",
       "IvoyhKKqqqqQdgaKT9E9kcaNG9fc3BwdCd/5wQcfjDJVYotHQEqdYelEp50dAAhI\n",
       "AhK/oq2tLbotbHV19ZIlS+68887w94qKinh93caNG3PbjzzxxBPRPWHv7eOBBx6I\n",
       "nrNq1arwnMrKygULFqxevXrmzJlRh4aWlpbEFk8yl1qZvhch01plBwACkoDErwi5\n",
       "pba2Nu7DOHXq1L1798aPRgEppJ3oyxB4Bmrg+I1vfCN6ztmzZ9etW3f77bdHx8Nr\n",
       "Z8+e/eyzzya5eJJ5xyEBqQgfmct0ACAgCUgonnQEpF73ih3AMO4dkkIBQEASkFA8\n",
       "fU6+i+gWPaIsAOvX8O4ZM8gAICAJSCgeASnFhvfCmlV2ACAgCUgonl9K8iKrZLbX\n",
       "K61h781tlR0ACEgCEornl5J8AcG9YosTGgVRABCQBCQUzy8k+W6h7mTaz2+KEVgP\n",
       "aZUdAAhIAhKKJwUhxMS9aB+W7V4AICAJSCielyV5GZvtMUWLMVYzAoCAJCCheF6W\n",
       "5P0nAlL+r4kR6zdoqAFAQBKQUDxJD0i9CW5BXnwjvRjSKjsAEJAEJBRP0qfFw3vP\n",
       "n1Qb6ShrlR0ACEgCEoon6QnEZY2ifVJW2QGAgCQgoXiSHpDcoueXvyNGfrWhOAoA\n",
       "ApKARNaLJ+GbfKz7ihSnG7sbTwGAgCQgISAJSClQtHGwyg4ABCQBiewWT/K3nbhX\n",
       "bKRoi9+ssgMAAUlAIrvFk/z4ISD94hdEsS70uWQHAAKSgER2iyf5e060VivyxySR\n",
       "AoCAJCAhICW7NjJ/r9hifkwSKQAISAIS2S2eVKyncq/YIvc6tw0JAAQkAYmMFk8q\n",
       "7jJkvl7kiGgbEgAISAISApKAlODfDsVdZGiVHQAISAISGS2eVGSPjF/QKMk+Mcsa\n",
       "AUBAEpDIYvGkYh6c8YBUkqt8rtoBgIAkICEgJVTGG0+X5DPS7BsABCQBiSwWTyo6\n",
       "aGd8sl6Sz8g2JAAQkAQkBKSEyvJkvYQ3qrLKDgAEJAGJbBVPWoJHlgNSCdsMavYN\n",
       "AAKSgES2iidFS9dScaVrJJRwk5htSAAgIAlIZKt4Srh860JldrlXCZOhbUgAICAJ\n",
       "SAhIAlKClPwDsg0JAAQkAYkMFU+KNpmUcCtOln/qFEVoADDHE5BQPBlKHdlsGFDy\n",
       "u1RZZQcAApKAhICURNm8lJGE1hRW2QGAgCQgISAlTgY7qiUkE2r2DQACkoBEVoqn\n",
       "5Cu4CpfBtV4JCUiafQOAgCQgISAJSKWXkCWFtiEBgIAkIJGV4knX3Vezdq/Y5MQS\n",
       "V5AAQEASkBCQkhgY0nK9q8w+HduQAEBAEpAo/+JJ3dKpTLVTS1TXPtuQAEBAEpAQ\n",
       "kAQkASmtp0pyhKELn2N0CS76Ez7ZDN7yGMAcDwGJFBRP6i4LZGqhV9I6sLsb0tDO\n",
       "2FGTt4TPMTcghU82/AnjadUigDkeAhLJKp7U3Xo1UwEpaRuubEO6IOGzCxEo/Bno\n",
       "QwzHw3iGT1nsBDDHQ0BCQBqiTO2ESVr/DNuQLihMhuRTSJ6MRlXyBDDHQ0AiEcWT\n",
       "umsC2ZmjJ/AntQ2pQNGFowsa2ChQGToAczwEJAQkc/T+JfPinm1I5z0/R03eMrQh\n",
       "is5tl5IAzPEQkChl8SStDYCAlPCPxjak8wbIi/nUom1LIiiAOR4CEgLSBchIQErm\n",
       "LXFtQxo8HV384ET/BJCpuyEDmOMhIJGg4knjP1dnZIKezFmybUiDRMfhGpnlu1tl\n",
       "JABzPAQkSlM8aZyHZWQNUtJa2GVt/C80Nw5561G/9GwAMMdDQEJAKlQalwVeqCS3\n",
       "X7cNqTihMbqfrLEFMMdDQFI8xT3hknqZIuMT9CT/jLYh9U1HIzEgUe9vWRTAHA8B\n",
       "SfEISOeRupvbDkGSr5LZhpR3No5cXIya2slIAOZ4AhKKx0x3MFm4gpHwpY+2If3y\n",
       "V/awbj0y2gDmeAhIlLJ4Upo0snAFI+FX9iz9KmZ0iZraGW0AczwBCcUjIGU0ICV/\n",
       "DaFtSEUehHA+SKQA5ngCEorHRHzgOknh1qly+lxsQ+ot7sq3aDOShXYA5ngCEopH\n",
       "QCr93LT4UtHHPOPz9eJfQ7PQDsAcT0BC8Yy49O4kKe/ZeSpuTpXxbUglOQMttAMw\n",
       "xxOQUDzmuAPOFMv4XrGpWECY5W1IpfrZLbQDMMcTkFA8Yka5RbuyCR5Z3oZUwpRi\n",
       "oR2AOZ6AhOIRkPqfJpbrvWJT9KNl82pGyT8gt44FMMcTkFA8Jrj5ynh9V4pSaza3\n",
       "IZV8h5gWggDmeAISiqdsp3rmiKn+UDK4DSkh1/fC23AfKgBzPAEJxSMgCUhJfLeZ\n",
       "qtCEfDq6NQCY4wlIKJ6ROdvSfLvVcr1XbLp+rkxN0xO1PSwMu4V2QxMtDQ1/wqcZ\n",
       "/QmncXk3xgQEJAEJxZOJjFGWU/PUNZ/I1DakpF3cc1ukwoUPLoxV+I0XPsQ4IIVy\n",
       "i/6E3yRR6UVPEJYAAUlAIqPFk/ZVamUZkFKXN7KzDSmB2TUq4ZSuki1JLirwJdFn\n",
       "HV1Wso4REJAEJDJUPGmf2pblv/Km7ofKTke1ZAZy3RoGOTPDyBSeiwZKStE3cUEJ\n",
       "EJAEJASkFCjLxV1pvCCQhW1IiS0W3RoG+uVwMdGo7yCPXdU4jN8QMMdDQCKhxZP2\n",
       "e62W5b1i07grLAvbkJJ8ZU+3hr6jMRK/GaLVemISICAJSAhIiZ4Jld/iojR+IlnY\n",
       "hpTw4BrG36w9GocQYEb0elq0pjTUqa1fgIAkIFGGxZP2f/gvv90vKY2sZb8NKfmV\n",
       "oltD+NlDiC3Ox+RSEiAgCUiUbfGkvclB+c3L0/uJlPc2mFRkj7JccVqgaFldkc/A\n",
       "OCb5vy1AQBKQEJCSVC3lda/Y9MaMMt6GlKLgUfyQkJBzr4Q/eNTmzqUkQEASkBCQ\n",
       "EjQjLKdlRen9ccp4lV2KUmsGuzVEdysq+ckfhTS7kgABSUAi9cVTBsuiymxlV6ov\n",
       "iJXZ1bw4cqSr/0R4txm5Y0/U3zw5n45dSYV/cKGsomvOUVON8Cf89sj7Ex2P7tUb\n",
       "/oQnhxNbO3vM8QQkkujMmTNNTU07duxobGw8depUgS85cOBAeMn+/fvD3xNVPGXw\n",
       "T57ldK/YtO8hKcttSO7bm+TzLWlpJMpsMlK/IxPFoSj5RKMU/hT+GyM8ObpaGKcm\n",
       "t+5FQBKQSIT6+vpJkybdek5VVdX69esHeX5PT8+mTZvC0+KXhJdv3rxZQBpG5bT1\n",
       "Je0BqSy3IaX0tlTl3a0hyiHJnB9bbpc3FOFUjELRMN60N8Sq6LdllJeisOTiEgKS\n",
       "gEQJNDc3V1RUhDN78eLF27ZtW7FiRfTlrl27BnpJeFp4wrhx41avXr19+/alS5dG\n",
       "L/nhD3+YkOIpgzVR5dS5S1NBkW8Y80O5zheTnI7y3mQ2LyXFETEKRSP9SYX/XN+w\n",
       "ZMaCgCQgUSTz5s0Lp/XKlSvjIxs2bAhHampq+n1+d3f31772tbwE9eijj4Yj3/rW\n",
       "twSk4VJOtygtg0ltmW1DSu91gKi1mnRU8pwQ3m12LiWFnzTkk9JuxIrCUryKz2Ul\n",
       "BCQBiRHU1dUVrZRrb2+PD3Z2do4fPz4cPH78eN+XvPDCC+Ghv/u7v+vp6YkPhmeG\n",
       "gxMnTkxC8ZTHv/eX01WLMliWU2YXLtK+Jaz8/ik9dZdlMtK5IfyA0Tq6hJxycR+I\n",
       "6LKSpBQGJLrUltsbo99mGPGf6JnRn7yHouYocXeNvO8Q/itWPApIAlJWtLW1hXO6\n",
       "uro673hdXV043tjYzyzq6NGjd9111/333593MDx/ypQpSSie8rj2Uk4BqQwuv5TT\n",
       "NqS0h73yW/EYzcBS+kGUZUZKwiWjAn8vxQvwsjBxz+sTGGeYOPYM+yDEG8OiK3jx\n",
       "ise4J0d00GRSQBKQSqyzs/N73/ve3LlzoyiyZ8+eAjvODaS5uTmc0zNnzsw7vmDB\n",
       "gnD8ySefLPD7LF++PDw/vEpAkivyz42y2EwlryZKOU1KUpqO4roos84N0R23knPJ\n",
       "qMBPIVp6Wn5blaIT7CL7BI5oWouzU3zpKQ5O5ToRjX7q3Etw0ZU3AUlAKplZs2Zd\n",
       "ffXVo84JRz784Q9fccUVd99995C/54EDB8I5XVdXl3d82bJl4fiOHTvO+x16enrW\n",
       "rFkT9b5rbR3w9/Lo0aPf8IY33NpHOBge6vf5Qz6eOyO/mO9T8uMv/6p9743pff/R\n",
       "8VHv/vO+/1eRxs8ldxaY3vMq+n+1VNfFy8ffe+Oor/xTqusiOp43kUrv5xJNW1N9\n",
       "Xr28mu4r/zS6+rt9w16afq6PVUTXvnIX4KXp/y/eeE1eInr5vLr5rtEfvCkd4//e\n",
       "G3O7EUbh4eUlf+HUeiW+5i7VCz9sot5/eD+jrntfbviJkk9487mrFq+9bdU7Jy79\n",
       "wIRvv+HPxr/hD/9qzPhZnxj3jWhGZ6IuIJXA5MmTo1x07bXXxgHp05/+dPT36dOn\n",
       "D+3b7t+/v9+AtHjx4kICUkhE0WK8CRMm/OhHPxr8yUUrnrLp/1Ye+17K5l80y+Pj\n",
       "KJt/7C+Dbg2JuhvsRUrvpaTonYfJX/jfsrkOFu3MyV2Al9hfwvEOotxEVMZzuX6X\n",
       "6vXd6TS8/9Hw/1zxxa688NPvlq3oORe64UpAEpBKYPv27SEFXXrppUuWLAlfXnPN\n",
       "NVFA+vnPfz5jxozw9ze+8Y0nT54cwnc+ePBgOKf7XoO67777Bu/03d3dvW7duqjB\n",
       "Q8hIbW1tySmestkuUh7RomzaG5RB8C6n3vEpavs20K+p8mvHl67ODXGoK/tWE1Hh\n",
       "R5Pgkv/fSt9Vc9GMPLPND6I023enU17HiNwYM/ifvk+OvlVuj4qROAcEJAGpBEKA\n",
       "CSkobqUQB6TIO9/5zvBlIcvh+jp27Fh0/Se3JV0wbdq0cLypqanfV3V1dS1cuDA8\n",
       "4bbbbgvhLe+1JS+esrlkUR5Jr2wuWZTBNqTy25+Q0k+kXJuV9+Y0AZflkvnp5IWl\n",
       "6HfCyP2Kji8QxYvNomHXf6/8CEgCUgl89KMfDREoRJF+A9Lf/u3fhi9XrVo1hO/c\n",
       "3d09adKkcFofOXIkPnjy5MnKysqKioqBrkpFm45qa2tffPHFBBaPgJSssi+jOwil\n",
       "PeyV2d2cohpJ3TWxqA1Aef9/VmLjR3auGhUYXeLbK11kP+vc/nJ568eiqxYaZAtI\n",
       "CEjD70tf+lKIQP/yL//Sb0CK4tPQriAFixYtCqf13Llz4wtBUYeGWbNmRV8ePXr0\n",
       "sVdEX4ZQVFVVNXHixAtd1Fe04imbNV1l0I6vnNZ0pf3UKrPPIp6WpetDidJRFm6x\n",
       "mrQokpbO3aU9OfNWecWLtfou7up3HdfQ9q4gICEgDdG8efNCBApBqG9A+rd/+7fL\n",
       "L7/8kksuGXK/77a2tui2sNXV1UuWLLnzzjvD3ysqKuL1dRs3bsztT/LEE09E94S9\n",
       "t48HHnhAQBKQynhSnuofp1zn5SlaaBfeaphQZmruGCXY8AGV8KeO30P53V8YBCQB\n",
       "KdOOHz/+1re+NYSij33sYzt37rzqqqvC35999tmlS5f+xm/8Rvj75z//+Yv5/i0t\n",
       "LbW1tXHr7alTp+7duzd+NApIlZWV0ZerV6++dQDf+MY3klA8Nr0kR5lteonOLmE7\n",
       "adKy0C5r6Sj3XxaipVZF/v0ZXcIqbTwDAQkBaQQ9/vjjr3/960f1513vetdF3i62\n",
       "zIqnnP6lPO2bRsrmal7af6LyS6p5U+Hkfy7lVwtDiCvRLpeRHofc1XRZWM0IApKA\n",
       "lGnPP//8F7/4xTe/+c1xNHr7299+zz33/OxnP1M85RQqyinsld+yrpR2zii/9gx5\n",
       "Et75INUdyYc3ukQd/EZiL1B8RyOr6UBAEpCyqLW1dc+ePcePH1c8ZT8XTPu/Opff\n",
       "vDyNa9XKsj1DX1GzrGRWscYA/YaZ+LY8Q/4tF32fuG+1cQYBSUBC8fT//5fl1EJX\n",
       "27QETuxSd4JlZ3FXAn/SaFGZ3/+D/5aIrilFSXKQTzC+n2YUiqL9RSN010tAQBKQ\n",
       "kuimm256z4V47rnnFE9v2W1GT/WtkMr1wkXq8kbZr6/LLf9EreqMpv7+76zAf3qI\n",
       "bqQT30Inr4t09PcocApFICAJSBl1/fXXj7oQhw8fVjzlNylPdUAq18YA6TrHyrs9\n",
       "Q78lk5BLfNFc3/+XAQISAtKwefzxx7+X40/+5E9CCrryyivHjRu3cuXK9evXL168\n",
       "+EMf+lCUjhYuXPjTn/5U8ZRfQEr1BbFyXdmVrlV2GbktaV4mLPkvgYQ3jQAQkASk\n",
       "1PvhD394ySWXXHXVVQcOHMh76H/+z/8ZAtL111/f09OjeAQkU3PZr4zL4YISbAkv\n",
       "vUpHgICEgDTixo8fH1LQvffe2++jH/jAB8KjTz/9tOLpTfmatIGmemkt+PLd+pKW\n",
       "0yxr6+vyCqckITa6Kar/2wIEJASkkRWtr/vBD37Q76Nf+cpXwqMPP/yw4inLGWFK\n",
       "Y0Z5X7tIy5W97LRnSEhQkY4AAQkBqUg++9nPhgj0f/7P/+n30TFjxoRHt2zZonjK\n",
       "MiCldKFaeQekVFzZy+b6ulxRM+hiDriuDICAhIBUJN/61rdCBPr93//906dP5z20\n",
       "bt26Sy+99JJLLjl58qTi6S3HxgAp/YnKfnFX8j+XDLZn6Jtji3aTVukIEJAQkIqq\n",
       "qanpda97XchI73vf++6///6Wlpaf/OQne/bsueOOO6644opw/FOf+pTiKddJYUoD\n",
       "UtnfnDTh25DK7IZgF3kqjvQn5X5HgIBkEASkEli5cuUll1zS7x2Q3vWudyX/8pGA\n",
       "VK4T8ex8EHkSvsous+0Z+v2kRnStnXQEICAJSCXT0NDwiU984vLLL4+j0XXXXTd7\n",
       "9uwzZ84oHgEpcdWegfYASb5KluX2DAPV0bAH2pL3EwcQkAQkXtbd3f3MM8889dRT\n",
       "p06dUjxZmBemca1URtoDJPYqjfYMg2Sk4foHlOi7lfc6UgABSUBKrjNnzhw7nxCc\n",
       "FI+AZILuo+nNwAawizkzL/46UtT7wbI6AAFJQCqlmpqaUedz+PBhxZPq26oOInU/\n",
       "VEY2wCT2fLO+7ryf2pDXxYXkGYbXsjoAAUlASnpAuuqqq/793/9d8ZRr567UzXez\n",
       "cwUjgT+p9gyFZKRogVz43wJX3MUv0TwdQEASkBKhs7PzdB+HDh36zne+8/a3v/0t\n",
       "b3lLQ0OD4ukt35VdqZuTleV1vH4lsIWGGfwFxaQQccMvjUFGbAhpCkBAQkAqpaef\n",
       "fvoNb3jDNddc09PTo3jKNSCl7oJMdpZ4JW2VnfYMQ/gEo3u85v4JYxj9CWeyPnUA\n",
       "ApKAlD6f+cxnRo0a1djYqHjKdXaYrkVTWbtFaaICkvV1AAhIAhK9f/3Xfx0C0oMP\n",
       "Pqh4UnrLoDL7ubJ2ESNRmUR7BgAEJAEp69rb21/3uteFgLR9+3bFU67/fJ6uyJG1\n",
       "ixjJuWJmfR0AApKAlBWbNm36en9uvvnmK6+8MqSj8L8vvvii4inXqXm6Fq1lcJVX\n",
       "QjaJZac3BgACkoCUdYO3+X7Vq161dOlSxdNbvt2l03V/pwx2UUvCGkiXjwAQkASk\n",
       "DPne975X2Z/bb7997ty5Bw8eVDzlPTVPV0DK4DaYJHxA2bn3FAACkoCE4sl6QErR\n",
       "j5a1FnYJySfpitAAmOMhIF2szZs3T506ddeuXf0+umDBgvCoPUi9ZX3tIi3XBzK7\n",
       "0Ku0q+x09wZAQBKQsiXag7Rw4cJ+H/2DP/iD8Ojhw4cVTxkHpLTMgDM7Uy/tNRzd\n",
       "vQEQkASkTPjBD36w5RW33HJLiEBf/epXt/Sxdu3aN73pTeHR1tZWxVPG08S03Aop\n",
       "y5cySnWVT3sGAAQkASkrrr766lGFCRmpq6sr48VT3tsw0jIJzmALu5J/RlkecwAE\n",
       "JAEpW37/93//Ha9485vfHFLQr/3ar72jj9/+7d/+4z/+44ceekjxlHd7gLT8dFle\n",
       "61WSiO7yEQACkoCURYPvQVI8WZgppuL6WGZb2MWKv8pOd28ABCQBKYsWLVp0ww03\n",
       "PPzww4pHQEoyVzOKHxG1ZwBAQBKQUDwZnZ0nf6tJWjpJlE2O1d0bAAFJQMqQu+66\n",
       "6wtf+MKcOXPC3x9++OEvnM9PfvKTjBdP2c/Ok7+Yyny9yB+Ty0cACEgCUoZcf/31\n",
       "o0aN+ou/+Ivec3uQBuc+SGW/uCv58UM7td4irrKzoBEAAUlAypaFCxfOmDHjwQcf\n",
       "DH/fvn37jPN56aWXBKTyPiWSf4nMBY3eIq6yE0cBEJAEJBTPYMq+f1rCrxiU932o\n",
       "LjSrF+Fan8tHAAhIAhKKZzBlPztPeBNtK76KGdfD2a67NwACkoCULVOmTPnChdCk\n",
       "oewDUsIv0WhhlxeQRi7AyKIACEgCUhZFTRoKp0mDgFRaWtjlGtHLfaMmb7H7CAAB\n",
       "SUDKnGXLls24EJo0ZKFDQJL35esZkGeELiLVbjjk8hEAApKAhOIRkEZwzm38R8JI\n",
       "XPEL39PlIwAEJAGJXzp9+vSWLVsWLlw4ffr073znO08++WRPT4/i6c1MC7XELmPT\n",
       "wq44gTZ8Qxu9ABCQBCRe1t3d/Q//8A9XX3113taj97///Zs2bVI8Ce/wNlwS2whB\n",
       "24Ai5MZwkrtMB4CAJCDxC1OmTIkS0WWXXfaud73rxhtvfOtb3xof2blzZ8aLJyMT\n",
       "9MT+mFrYDWQYL/qNmd+gDQYAApKAxMu2bdsWZaGvfOUrra2/nCE98cQTN9xwQzj+\n",
       "9re/XUDKQkBK7IUyLewGMlwXkTJyjRQAAUlAoiB33XVXSEGf+cxn+j50/PjxaN3d\n",
       "oUOHslw8GQlIid3qo4XdSKfHJPfnAEBAMggCUrH9xV/8RYhA//zP/9zvo5/73OfC\n",
       "ow8//HCWiycjS7wSG5DsjRnRTy3kK5ePABCQBCTyI9DmzZv7ffTmm28Ojz7yyCNZ\n",
       "Lp7sLPFK5rUaAWlEz8/wobt8BICAJCDxS3V1dSECfe1rX+v70OnTp6+99trw6HPP\n",
       "PScgZeFkSOBSKy3szmvIF5GiGx9JRwAISAISv+Lo0aPXXXfdJZdcsnDhwrNnz8bH\n",
       "X3jhhWj13c0335zx4hGQBKTku9CMJB0BICAJSPTv0Ucf/W//7b9FjexGjx79+c9/\n",
       "fty4cR//+Mdf+9rXRge/+MUv3ppj48aNWSue7GxhT+BuKy3sCv/sCl8hGZ6mrzcA\n",
       "ApKARP9qampGXYjZs2dnrXiy00UtgZdrtLAbiYwkHQEgIAlIDGjz5s1TL8S2bdsE\n",
       "pHKVwPvhCEgX+gmet+lC+IitWgRAQBKQUDwXcW5lpotaAjt9a2E3hA8xRKCBlkpK\n",
       "RwCY4wlIKB5z9BQHJLP5IWekrS0nok1lYQzDl+E0TuZ9rgBAQBKQEufFF1/8x3/8\n",
       "x3Hjxv1/Azh27Fhmiyext08dIYla0qaF3UVmpCgghWHUrQ4AAUlAolDHjx8fPXr0\n",
       "4I0ZDh8+nNniSeC2nBGVqJZ9WtgBgIBkEASkYvvmN78ZItCll1560003ff3rX/9G\n",
       "f06cOJHZ4hGQSkiHBgAQkAyCgFRsn/zkJ0NAmjVrluLpV9ZWeSXqVkg6NACAgGQQ\n",
       "BKRi+7M/+7MQkLZv3654BKRE/bxZ2/0FAAhIAlIiRDeK/fu//3vF069EXVEpguQs\n",
       "KdShAQAQkASkEvi3f/u3yy+//G1ve9uBAwcUj4CUnOs2WRt5AEBAEpCSYvXq1VG3\n",
       "uhtvvHFif9rb2zNbPFlrpJacgKSFHQAgIAlIJfDCCy+8853v1ObbND2WkICkhR0A\n",
       "ICAJSCUwZ86cEIEuueSSD3/4wxMnTpzcnyxfQUpU2+viSMgeJC3sAAABSUAqgU99\n",
       "6lMhIM2YMUPx9CuD1zGSEJCydvspAEBAEpCS4jOf+UwISE888YTiEZAiSWiNoIUd\n",
       "ACAgCUilcc8994SAtGjRIsXT/4mVvYVeSQgnOjQAAAKSgFQaR48evfbaa6+++urm\n",
       "5mbFIyD1JmN5Wwa3fgEAApKAlAi7du2qqKgYNWrU5ZdffvPNN3+9Py+++KKAlB1J\n",
       "6PSthR0AICAJSKVRU1Mz6nwy2+Y7OTcFylo+0cIOABCQBKTS+N73vld5PsePH89m\n",
       "8WS2l1ppV7jp0AAACEgCUkIdOHBgypQpL7zwQjaLJ7Mz9doNh0rYy05AAgAEJAEp\n",
       "Wc6cOfPAAw/88R//ccaX2AlIJaGFHQAgIAlISbFnz55x48a96U1vijcgXXLJJUeP\n",
       "Hh08TTU1Ne3YsaOxsfHUqVOF/7fa2toef/zx06dP5x0/fvz4830M/p0FpOFV2rWF\n",
       "OjQAAAKSgFRiL7300vz589///vfn9mZ497vfXVdXN3g6qq+vnzRp0q3nVFVVrV+/\n",
       "vsD/6OLFi8NLDh48mHe8pqbm1j7Wrl1b/OIp7YWUEiptdwodGgAAAUlAKplt27Z9\n",
       "6UtfuuKKK3Kj0U033dTQcP4LCM3NzRUVFeHEDVEnfJ8VK1ZEX+7atWvwF3Z0dDz6\n",
       "6KNR8skLSJ2dnZWVlVOmTFn9q/bt21f84snyWq9SpZTMdg4EAAQkAamU2traZs+e\n",
       "/c53vjMORSEjfe5zn7vhhhvC30PgKeSbzJs3L5y1K1eujI9s2LAhHKmpqRnoJSHn\n",
       "fPOb3xw/fnx8aSgvID3zzDPh4P3335+E4slyQCpVIzsdGgAAAUlAKraKiorLLrss\n",
       "ykWvetWrPvKRjyxfvjza5PM3f/M3BQakrq6uqqqqcNa2t7fHBzs7O6PwM1Bn8BCQ\n",
       "7jpn3LhxfQPSzp07w8HNmzcnoXhK2+26tEoVDjO7rBEAEJAEpJK5/vrrQwp6zWte\n",
       "861vfau19VcmwYUHpLa2tnDKVldX5x2vq6sLxxsbz38R4L777usbkB566KFwsKGh\n",
       "Yfv27WvWrAlJ6dChQ6UqniwHpFIFFS3sAAABSUAqTUAKrr322q997WtPPfXUEAJS\n",
       "c3NzOGVnzpyZd3zBggXh+JNPPjm0gHTvvfdGzR5yOzQsXbq0q6tr8OLp10UOVJbb\n",
       "qZWqkZ0WdgCQzSA0QtM5AYmCNDU1TZky5dd//dfjDUjvfe9758yZ8/zzzxcekA4c\n",
       "OBBO2bq6urzjy5YtC8d37NgxtIB0xx13hIOzZ88OESu8z7Vr10ZhqSRd7LI8WS9V\n",
       "swQt7ACAkZ7jCUj0r6ur65FHHvnYxz526aWXxvuRXvva14a/LFq06Lwv379/f78B\n",
       "KWrePbSA1N3d/dhjj23atCn3etHu3buja0rh0SIXT8Yn68X/8Ut7/yUAQEASkHjZ\n",
       "c889N2PGjHe84x3xBaU3vvGNX/nKV37wgx8M8qoQbMIpe/fdd/cbe87b6bt3gCtI\n",
       "/ZoyZUp4Zt52KQFppBV/C5YWdgCAgCQgJUVPT8+WLVtuvvnmyy+/PE5Kv/VbvxUi\n",
       "0E9/+tO+zz927Fg4ZSdMmBBemHt82rRp4XhTU9MQAlL4Vh0dHX23G02fPn3wxg8j\n",
       "UTxuyFP8gKRDAwAgIAlIidPe3j5v3rz3vve9cUw6fPhw36d1d3dPmjQpnLVHjhyJ\n",
       "D548ebKysrKioiL8ZQgBac+ePeFI3gK/zs7OiRMnDtI6fISKx3Kv4jey06EBABCQ\n",
       "BKTkijb/vPGNb3zmmWf6fUJIMuEJc+fOjS8iRR0aZs2aFX159OjRx15RYEAKESgc\n",
       "GTduXHNzc3QkfOcHH3wwHKytrS1y8QhIxR8BAQkAEJAEpKTr6BhwwtrW1hbdFra6\n",
       "unrJkiV33nln+HtFRUW8vm7jxo2D9Gfsdw/SqlWrwsHKysoFCxasXr165syZUYeG\n",
       "lpaWIheP/TDFX2SohR0AICAJSOkWckttbW3cqH7q1Kl79+6NH40CUkg7/b42umNS\n",
       "XkA6e/bsunXrbr/99ugbhtfOnj372WefLX7xCEhFDkgGHAAQkAQkkls8xd+Bk0DF\n",
       "XPNmwAEAAUlAIrnFo6Nab3Eb2RlwAEBAEpAQkBKtmFd1dGgAAAQkAQkBKdGKuS9I\n",
       "hwYAQEASkEhu8RT/NqkJVLRO3zo0AAACkoBEoovHiq/eIjayE5AAAAFJQEJASoHi\n",
       "jIMFjQCAgCQgkejisSUmUpylhuIoACAgCUgISClQnGs7RhsAEJAEJJJbPEXbe5N8\n",
       "Rej0bQMSACAgCUgISOlQhEZ2NiABAAKSgESii6do7a2TrwhZ0QYkAEBAEpBIdPFY\n",
       "9PUr1TXCG4RsQAIABCQBCQEpNUa0kZ2hBgAEJAGJpBdPEToTCEgCEgAgIAlICEjp\n",
       "M6KjoUMDACAgCUgkvXjM2nONaMsKHRoAAAFJQEJASpMRbWSnQwMAICAJSCS9eEZ0\n",
       "142AFLMBCQAQkAQkUlA81n0VJzG6UgcACEgCEgJS+oxQnwbjDAAISAISAlL6jFCf\n",
       "BhuQAAABSUAiBcVj4p5nJLYh2YAEAAhIAhICUloN+zYkAQkAEJAEJFJQPCPa1Tq9\n",
       "hn0bkg4NAICAJCCRguIZ0fuiptewD4uNXgCAgCQgkYLisfSrX8N+Yc06RgBAQBKQ\n",
       "EJBSbBi3IRlkAEBAEpAQkNJtGLch2YAEAAhIAhLpKJ4RuilqGRjGbUg2IAEAApKA\n",
       "RDqKx8WNgQzjNiQbkAAAAUlAQkBKvWHZhmQRIwAgIAlICEjlYFjWHwpIAICAJCCR\n",
       "muIZxl5t5WdYtiG5zRQAICAJSKSmePQPGMSwbEOyAQkAEJAEJASkMnGRV9isrwMA\n",
       "BCQBiTQVj+sbIxqQrGAEAAQkAQkBqXxc5DYkwwsACEgCEmkqnuG61U+5uphtSNbX\n",
       "AQACkoBEmopnWLq0lb0hL5OzvwsAEJAEJAQkAcnYAgACkoBECovHGrCRizruwAsA\n",
       "CEgCEgJSGRraNiTr6wAAAUlAImXFU7vhUPhjSIc97UieAICAJCCRvuKxDKxAF7oN\n",
       "ycACAAKSgISAVLYu9IqQ9XUAgIAkIJG+4hlyA+sMKnysrK8DAAQkAQkBqcyF2FNg\n",
       "qwbX5QAAAUlAIpXFYyXYhebJQpLPqMlbjBUAICAJSAhIZS7q9z34iFlfBwAISAIS\n",
       "aS0e1zouVO2GQ4PnH+vrAAABSUBCQMqK6CLSQBu3wqOGFAAQkAQkUlk80VzfeF6o\n",
       "kI76HbfaDYeMJwAgIAlIpLV4wkR/zPwG4zkEYdxCHMqNmuGIwQQABCQBiRQXj3YC\n",
       "Q5bbrSHkzFGTt+TmJQAAAUlAQkDKlmj0omV17iUFAAhIAhICUtaNmd9gAAEAAUlA\n",
       "okyKp3bDIQvDAAAEJAEJxfMyd+wBABCQBCQUj4AEACAgCUgonl81Zn6D7gIAAAKS\n",
       "gITieVncqBoAAAFJQEJAEpAAAAQkAQnFE51Gk7cYTAAAAUlAQvEISAAAApKAhOI5\n",
       "53B7x+gZ9QYTAEBAEpBQPL1bW06Mmd9gMAEABCQBCcUjIAEACEgCEornnOW7W8eu\n",
       "ajSYAAACkoCE4hGQAAAEJAEJxXNO7YZD4Y/BBAAQkAQkFE/v2FWNy3e3GkwAAAFJ\n",
       "QELxCEgAAAKSgITiEZAAAAQkAQnFk2fM/IatLScMJgCAgCQgoXh6R8+oP9zeYTAB\n",
       "AAQkAQnFIyABAAhIAhIj78yZM01NTTt27GhsbDx16lThL2xra3v88cdPnz5dnOIZ\n",
       "NXmLDwsAQEASkBhB9fX1kyZNuvWcqqqq9evXF/jaxYsXh5ccPHhQQAIAEJAQkFKv\n",
       "ubm5oqIinNkh6mzbtm3FihXRl7t27Rr8hR0dHY8++miUqYoTkA63d4yeUe8jAwAQ\n",
       "kAQkRsq8efPCab1y5cr4yIYNG8KRmpqagV6yb9++b37zm+PHj48vOhUnIG1tOTFm\n",
       "foOPDABAQBKQGBFdXV1VVVXhtG5vb48PdnZ2RuHn+PHjAwWku84ZN25c0QLS8t2t\n",
       "Y1c1+tQAAAQkAYkR0dbWFs7p6urqvON1dXXheGPj+dPIfffdJyABAAhICEjloLm5\n",
       "OZzTM2fOzDu+YMGCcPzJJ58c3oDULwEJACAVQejip3MISEl34MCBcE7X1dXlHV+2\n",
       "bFk4vmPHjuENSBf5bms3HAp/fGoAAIkKTgZBQCof+/fv7zcgRc27kxaQxq5qXL67\n",
       "1acGACAgCUiMiBBswjl999139xt7ztvpW0ACABCQDIKAVD6OHTsWzukJEyb09PTk\n",
       "Hp82bVo43tTUlKiANGZ+w9aWEz41AAABSUBiRHR3d0+aNCmc1keOHIkPnjx5srKy\n",
       "sqKiIvwlUQFp9Iz6w+0dPjUAAAFJQGKkLFq0KJzWc+fOjS8iRR0aZs2aFX159OjR\n",
       "x14hIAEAICAJSGWura0tui1sdXX1kiVL7rzzzvD3ioqKeH3dxo0bB2ngWMyANGry\n",
       "Fp8XAICAJCAxslpaWmpra+NO9lOnTt27d2/8aBSQKisr+31tdMckAQkAQEBCQKJ4\n",
       "xXO4vWP0jHrDCAAgIAlIKJ7erS0nxsxvMIwAAAKSgITiEZAAAAQkAQnFc87y3a1j\n",
       "VzUaRgAAAUlAQvEISAAAApKAhOI5p3bDofDHMAIACEgCEoqnd+yqxuW7Ww0jAICA\n",
       "JCCheAQkAAABSUBC8QhIAAACkoCE4skzZn7D1pYThhEAQEASkFA8vaNn1B9u7zCM\n",
       "AAACkoCE4hGQAAAEJAEJxROfPZO3GEMAAAFJQELxCEgAAAKSgITiOedwe8foGfXG\n",
       "EABAQBKQUDy9W1tOjJnfYAwBAAQkAQnF07t8d+vYVY3GEABAQBKQUDwCEgCAgCQg\n",
       "oXgEJAAAAUlAQvHkqd1wKPwxhgAAApKAhOLpHbuqcfnuVmMIACAgCUgoHgEJAEBA\n",
       "EpBQPOeMmd+wteWEMQQAEJAEJBRP7+gZ9YfbO4whAICAJCCheAQkAAABSUBC8cSn\n",
       "zuQtBhAAQEASkFA8AhIAgIAkIKF4zjnc3jF6Rr0BBAAQkAQkFE/v1pYTY+Y3GEAA\n",
       "AAFJQELxCEgAAAKSgITiOWf57taxqxoNIACAgCQgoXgEJAAAAUlAQvGcU7vhUPhj\n",
       "AAEABCQBCcXTO3ZV4/LdrQYQAEBAEpBQPAISAICAJCCheAQkAAABSUBC8eRxl1gA\n",
       "AAFJQELxCEgAAAKSgITiyTtvJm8xegAAApKAhOIRkAAABCQBCcVzzuH2DkvsAAAE\n",
       "JAEJxfOyrS0nxsxvMHoAAAKSgITi6V2+u3XsqkajBwAgIAlIKB4BCQBAQBKQUDzn\n",
       "1G44FP4YPQAAAUlAQvH0jl3VuHx3q9EDABCQBCQUj4AEACAgCUgonnPGzG/Y2nLC\n",
       "6AEACEgCEoqnd/SM+sPtHUYPAEBAEpBQPL2jJm8xdAAAApKAhOIRkAAABCQBCcVz\n",
       "zuH2jtEz6g0dAICAJCCheHq3tpwYM7/B0AEACEgCEoqnd/nu1rGrGg0dAICAJCCh\n",
       "eAQkAAABSUBC8ZxTu+FQ+GPoAAAEJAEJxdM7dlXj8t2thg4AQEASkFA8AhIAgIAk\n",
       "IKF4zhkzv2FrywlDBwAgIAlIKJ7e0TPqD7d3GDoAAAFJQELx9I6avMW4AQAISAIS\n",
       "ikdAAgAQkAQkFM85h9s7Rs+oN24AAAKSgITi6d3acmLM/AbjBgAgIAlIKJ7e5btb\n",
       "x65qNG4AAAKSgITiEZAAAAQkAQnFc07thkPhj3EDABCQBCQUT+/YVY3Ld7caNwAA\n",
       "AUlAQvEISAAAApKAhOI5Z8z8hq0tJ4wbAICAJCCheHpHz6g/3N5h3AAABCQBCcUj\n",
       "IAEACEgCEoonPl0mbzFoAAACkoCE4uk93N4xeka9QQMAEJAEJBRP79aWE2PmNxg0\n",
       "AAABSUBC8fQu3906dlWjQQMAEJAEJBSPgAQAICAJSIyYM2fONDU17dixo7Gx8dSp\n",
       "Uxf/kuPHjz/fx+Df+YKKp3bDofDHBwcAICAJSAyz+vr6SZMm3XpOVVXV+vXrL/Il\n",
       "NTU1t/axdu3a4Sqesasal+9u9dkBAAhIAhLDqbm5uaKiIpy4ixcv3rZt24oVK6Iv\n",
       "d+3aNeSXdHZ2VlZWTpkyZfWv2rdvn4AEACAgISAl17x588JZu3LlyvjIhg0bwpGa\n",
       "mpohv+SZZ54JX95///0jVzxj5jdsbTnh4wMAEJAEJIZNV1dXVVVVOGvb29vjg52d\n",
       "nePHjw8Hjx8/PrSX7Ny5M/x98+bNI1c8o2fUH27v8AkCAAhIAhLDpq2tLZyy1dXV\n",
       "ecfr6urC8cbGxqG95KGHHgp/b2ho2L59+5o1a0JSOnTo0PAWj4AEACAgCUgMs+bm\n",
       "5nDKzpw5M+/4ggULwvEnn3xyaC+59957o84NuR0ali5d2tXVNXjx9Kv/c2XyFh8f\n",
       "AECigtAFTecQkJLowIED4ZStq6vLO75s2bJwfMeOHUN7yR133BH+Pnv27JCXmpqa\n",
       "1q5dG4WlYexiJyABAKQlOBkEASk19u/f32/aWbx48UAB6bwv6e7ufuyxxzZt2pR7\n",
       "vWj37t3RNaXw6MUXz9aWE2PmN/j4AAAEJAGJ4XTw4MFwyt599915x++7776BOn0P\n",
       "4SWRKVOmhCe0trZefPEs3906dlWjjw8AQEASkBhOx44dC6fshAkTenp6co9PmzYt\n",
       "HG9qahrCS8Lxjo6OvtuNpk+fPlDjBwEJAEBAQkAqve7u7kmTJoWz9siRI/HBkydP\n",
       "VlZWVlRUhL8M4SV79uwJjy5atCj3VZ2dnRMnThyodfiFFk/thkPhj48PAEBAEpAY\n",
       "ZiHJhLN27ty58RWhqN3CrFmzoi+PHj362CsKfEmIQOHv48aNa25ujh4NT3vwwQfD\n",
       "wdra2mEpHgEJAEBAEpAYEW1tbdE9Xqurq5csWXLnnXeGv1dUVMTr6zZu3JjXn/G8\n",
       "L1m1alU4UllZuWDBgtWrV8+cOTPq0NDS0jIsxTN2VePy3a0+OwAAAUlAYviF3FJb\n",
       "Wxs3qp86derevXvjR6OAFNJO4S85e/bsunXrbr/99ujR8NrZs2c/++yzw1U8Y+Y3\n",
       "bG054YMDABCQBCQUT+/oGfWH2zuMGACAgCQgoXgEJAAAAUlAQvHEJ8rkLYYLAEBA\n",
       "EpBQPAISAICAJCCheM453N4xeka94QIAEJAEJBRP79aWE2PmNxguAAABSUBC8fQu\n",
       "3906dlWj4QIAEJAEJBSPgAQAICAJSP9/e/cCZHVZ9wH8NZWwQkpruo+KZWTeJied\n",
       "salIzabLqwWBNRa+jcRyRyEYoAjkIgyXlJsoCIqQXIJUSMDCFpBNbi4IxGXdEURA\n",
       "jMsKgchll/enz8vpeJbdPb7VqJzPZxjnnGefc/v5f55zvuf8/88fg+eEvvNfiH/K\n",
       "BQAgIAlIGDzH/2fq+geX71AuAAABSUDC4BGQAAAEJAEJg+eE8weUbN5zSLkAAAQk\n",
       "AQmDR0ACABCQBCQMnsxW0uUptQIAEJAEJAweAQkAQEASkDB4spw/oEStAAAEJAEJ\n",
       "g+cNTcaUqhUAgIAkIGHwvOF/pq5XKwAAAUlAwuA53nf+C/FPrQAABCQBCYPHWWIB\n",
       "AAQkAQmD54QmY0qLyyvUCgBAQBKQMHicJRYAQEASkDB4MpuIkyABAAhIAhIGT9i8\n",
       "55CTIAEACEgCEgbPGx5cvsMa3wAAApKAhMEjIAEACEgCEgZPFmt8AwAISAISBo+A\n",
       "BAAgIAlIGDxvZY1vAAABSUDC4DmxfVjjGwBAQBKQMHgEJAAAAUlAwuD5p+LyiiZj\n",
       "SlUJAEBAEpAweKzxDQAgIAlIGDwn9J3/QvxTJQAAAUlAwuCxxjcAgIAkIGHwnNBk\n",
       "TGlxeYUqAQAISAISBo+TIAEACEgCEgZPZuOwxjcAgIAkIGHwhM17Dp0/oESJAAAE\n",
       "JAEJg8ca3wAAApKAhMEjIAEACEgCEgZPDmt8AwAISAISBo+ABAAgIAlIGDxvZY1v\n",
       "AAABSUDC4DmxZVjjGwBAQBKQMHgEJAAAAUlAwuD5p+LyiiZjStUHAEBAEpAweKzx\n",
       "DQAgIAlIGDwn9J3/QvxTHwAAAUlAwuCxxjcAgIAkIGHwnGCNbwAAAUlAwuARkAAA\n",
       "BCQBCYMnZ7OwxjcAgIAkIGHwhM17Dp0/oERxAAAEJAEJg8ca3wAAApKAhMEjIAEA\n",
       "CEgCkhIYPDms8Q0AICAJSBg8AhIAgIAkIGHwvJU1vgEABCQBCYPnxDZhjW8AAAFJ\n",
       "QMLgEZAAAAQkAQmD55+KyyuajClVGQAAAUlAwuCxxjcAgIAkIGHwnNB3/gvxT2UA\n",
       "AAQkAQmDxxrfAAACkoCEwXOCNb4BAAQkAQmDR0ACABCQEJAMnixWaAAAEJAEJAye\n",
       "/+MAJAAAAUlAwuA5sTU4RSwAgIAkIGHwHLd/HQCAgISAZPBkLlueAQBAQEJAMnje\n",
       "UFxe0WRMqYIAAAhIAhIGj+UZAAAEJAQkg+fE4LF/HQCAgISAZPC8MXgszwAAICAh\n",
       "IPF/g8f+deYUlVEZlVEWlVEZlVEZBKRTzcGDBzdt2rRkyZL169fv378//8Hj9Efm\n",
       "FJVRGZVRFpVRGZVRGQSkU0pJSUmnTp1an9CuXbt58+blM3jsX2dOURmVURllURmV\n",
       "URmVQUA6pZSVlRUVFcVIGDdu3KJFiyZPnpyuLlu2rM7BY3kGc4rKqIzKKIvKqIzK\n",
       "qAwC0illxIgRMQweeeSRTMv8+fOjpU+fPrXf8L/b/trpj8wpKqMyKqMsKqMyKqMy\n",
       "CEinjqNHj7Zr1y6GwZ49ezKNR44cad++fTTu3r27ltte1PEByzOYU1RGZVRGWVRG\n",
       "ZVRGZRCQTh07d+6MMdCtW7ec9sGDB0f7+vW1HV/U4PbZ9q8zp6iMyqiMsqiMyqiM\n",
       "yiAgnTrKyspiDAwcODCnfezYsdG+dOnSWm57UccHFNCcojIqozLKojIqozIqg4B0\n",
       "6ti4cWOMgcGDB+e0T5gwIdqXLFlS++ABAODU40OygFS4NmzYcNKANG7cuDoDEgAA\n",
       "ICCdUp5//vkIQv369ctpHz16dD4rfQMAAALSqWPXrl0RhDp06FBVVZXd3rt372jf\n",
       "tGmTEgEAgIBUKCorKzt16hRZaMuWLZnGffv2tWnTpqioKC4oEQAACEgF5P7774+A\n",
       "NGzYsMyPSGmFhkGDBikOAAAISIVl586d6bSw3bp1Gz9+fK9eveJyUVGR/esAAEBA\n",
       "KkTl5eV9+/bNLOzYs2fP1atXKwsAAAhIAAAAAhIAAICABAAAICABAAAISAAAAAIS\n",
       "/7qDBw9u2rRpyZIl69ev379/v4JkV2bjxo1RmQ0bNsRlBanu1VdfXbhwYfZZiQvc\n",
       "gQMHSktLly1b9tJLL6lGdlnWrVu3ePHi+K/TVR9/82QMMXCiLCbkt1WZgp2QaylL\n",
       "gc/GtVemkCfkWipjQhaQqFtJSUmnTp0yC4K3a9du3rx5ylJVVfXnP/85qpGpTFRp\n",
       "wYIFKpNTpbvvvjuKM2fOHNWIt5whQ4YUFRVltplRo0YdPnxYZWLg5Ewyjz32WIHX\n",
       "ZNy4cVGK559/3oScT2VMyDVtMGbjmipjQq6pMiZkAYm6lZWVpekjBtKiRYsmT56c\n",
       "ri5btqzAKxPViDq0bdt2+vTpixcvfuCBB1JlVqxYYbPJnmfTDCsgHTp0aODAgVGK\n",
       "AQMGPPHEE1OnTr3jjjvialwo8MqsWrUq6tCmTZuYXmIojR8/Pn3MXbJkScFuKrNn\n",
       "z04DJ+ezS4FPyLVUppAn5FrKUuCzcS2VKfAJuZbKmJAFJPIyYsSIGBiPPPJIpmX+\n",
       "/PnR0qdPn0IuS2Vl5S9/+cuczyVpuhkyZIjNJtm+fXv79u07duwoIIUnn3wy6jB0\n",
       "6NDYeFLL2rVro6VLly5VVVWFXJn0LWb2N5TTpk2LlmHDhhVaKWKTuPPOO2PUZL67\n",
       "zfnsUrATcu2VKdgJuc4NpmBn4zorU7ATcp2VMSELSNTt6NGj6ZuDPXv2ZBqPHDmS\n",
       "htbu3bsLtjKvvPJKVKBHjx7ZM2kUJBrjHciWkzae/v37d+3atbi4WEAKUY2ow44d\n",
       "O7IbFy5c+NRTT2XeoQtTvO9GZVavXp1pSV9h9u3btwAD0m9OaNu2bc5nl0KekGuv\n",
       "TMFOyLWXpZBn4zorU7ATcp2VMSELSNRt586dMSq6deuW0z548OBoX79+fcFWZuvW\n",
       "rTG5PPTQQzmNUZbu3bvbcsKsWbOiGqWlpStWrBCQKioqogi9evU6/ua+DRs2bHDk\n",
       "a0ZsG1Gchx9+ONMyYcKEaJkxY0Yhl2X06NE5n11MyDVVxoR80rKYjWuqjAm5lm3G\n",
       "hCwgUbeysrIYFQMHDsxpHzt2bLQvXbpUibI9+OCDUZYojlJs2rSpqKgoZtW4LCCF\n",
       "zZs3RxHGjBnz+9//PvuY4IkTJ8bbc4FvLfG5ZMCAAVGN3/72t/FJLn2z26dPn+zf\n",
       "SQQkE3I+SaCQJ+SaymI2rl4ZE3It24wJWUCibhs3boyBMXjw4Jz29HWCI/Yyqqqq\n",
       "Zs6cmRZ7yfnJvgC99tprPXr06N69e1pmV0AKa9asSYe9xn/vvvvuuXPnTps2rUOH\n",
       "DnF1/PjxBb7BVFZWRkFav9Xs2bML/NCs6p9dTMh5BqTCnJBPWhaz8UkrY0KuZZsx\n",
       "IQtI1G3Dhg0nfT9Ox/AJSEm8AaddXGJ6XbdunYKkj2uZUghImSKE3/3ud5nGLVu2\n",
       "pHfo7du3F3JxJk2alIbPrFmzli9fHu/EnTt3TkvuCkjZn11MyPkEpIKdkE9aFrPx\n",
       "SStjQq5lmzEhC0jULYZNjIp+/fqddFBZ6Tt90ZIOm4635J07d9pmnn322fQl3KET\n",
       "nnnmmWh59NFH4/KxY8cKsyx/+9vf0vtxzmk9R44cGY1//etfC3aDiU2iU6dORUVF\n",
       "ZWVlmca04lZUpqKiQkAyIecZkAp8Qq5eFrNxTZUxIddUGROygERedu3alb5IyPlp\n",
       "tXfv3tG+adOmQi7O0aNH77vvvqhD586dFy9e7NfnZMaMGa1rVlxcXJhlefHFF0+6\n",
       "oNaUKVOivZDPvBzTyElXqR41alS0x+c5AcmEnE9AMiFXL4vZuKbKmJBrqowJWUAi\n",
       "L5WVlelsylu2bMk07tu3r02bNkVFRQW+Blfax71v37579+61qWQsX7587Fv169cv\n",
       "TbhxuWB3QYyhdPvtt0cdcraWoUOHRmMUrWA3mJhbogK//vWvc9qHDx+e1t0SkEzI\n",
       "+QQkE3L1spiNaxlKJuSTVsaELCCRr/vvvz+dICzzhVzap3nQoEGFXJaYVdu1a9ex\n",
       "Y0crNdfJMUjJxIkTow4xoDJ7tqxevTr9IFDIW1Hm3D6LFi3KTDLPPfdc0ZsK+duH\n",
       "k8YAE/JJK2NCPp7f4n6OQTIh114ZE7KARL527tyZ9j3t1q3b+PHje/XqFZdjnBT4\n",
       "/nVpT+54P767mkmTJtlsvCVXV1FR0aNHj/Ql99SpU8eOHZuWl33iiScKvDJ/+ctf\n",
       "0j4/MclMnjx5zJgxqTLZp3L3edeEXEtlTMgC0tutjAm5psqYkAUk8lVeXh4zSGbH\n",
       "5Z49e2afYrkwTZ8+vaYdu6v/Nl3gSktLxYBkx44dI0eOTHtJpaFkKcikpKQkqpEZ\n",
       "RF27do036VP7fPZ1Smc3qv5514RcvTIm5Fo2GLNxTZUxIddUGROygMTbcPDgwa1b\n",
       "t+Ys+QK8XfE2s23btgMHDihFjpheXnzxRQslmZDBhGxCFpAAAAAEJAAAAAEJAABA\n",
       "QAIAABCQAAAABCQAAAABCQDeFYqLix999NHCfO3btm2bPn16WVmZzQBAQALgP2LX\n",
       "rl1n5aFZs2bRuW3btnG5b9++79SzXbVq1RlnnPGtb33rVPpfcO+990ZVb7nlljp7\n",
       "7t69++yzz7788suPHTtm0wUQkAD49/v73//+X3m4/vrro/Ntt90Wl3/1q1+9I081\n",
       "UsGVV1552mmnlZaWnkr/C0aNGhVV/f73v59P5zvvvDM6jx071qYLICAB8O9XVVW1\n",
       "/60uvPDC+Ajes2fP7MbXXnstOk+fPr19+/bz5s17R57q1KlT44k1bdr0FPtf8LYC\n",
       "Uvy/aNCgwcc//vHXX3/d1gsgIAHwH3fRRRfF5/V3cD+6mlxzzTXxxGbPnl3IASnc\n",
       "euut0f+hhx6yrQIISAC8kwFpwoQJLVu2nDlzZrp6zz33xNV169YVFxe3atXqkksu\n",
       "ufrqq7t27bp///746+TJk1u0aNGoUaMrr7yyY8eO27Zty76rFStWtGvX7qqrropb\n",
       "tW3bdtasWbU/q+eeey6e1bnnnnvkyJFM44IFC26++ea4hwsuuCAe+vbbb6++gEE+\n",
       "D/TUU0+lPhdeeOG11147aNCgffv25fRZtmxZ586dv/a1r0Wfm266qX///hUVFZm/\n",
       "ZkqxaNGiNm3aXHrppZ///OebN2++atWqnPt5/PHHb7vttssuu+xzn/tcs2bN4qGr\n",
       "B6TaX9ef/vSn6B9Vta0CCEgAvJMBKecYpG9/+9tx9Sc/+ckZZ5yRfcDSjTfeGDEp\n",
       "5yimyAMpOIXhw4efeeaZOR26dOlSy7MaOnRo9LnhhhsyLcOGDat+rFTDhg3XrFmT\n",
       "6VPnA1VVVfXu3fu0007L6fPZz352+/btmW533XVXzmsM5513XqSm7FJEyqpXr152\n",
       "n7j6zDPPpD7Hjh3r0KFD9ecclckOSHW+rgMHDqTGHTt22FwBBCQA3l0BKVxzzTVP\n",
       "P/30yy+/HIEk85n+uuuumzp16rZt20aPHp1a/vCHPxx/8+eauHz66adHMikvL3/h\n",
       "hRcGDBiQcsWoUaNqelbf+973okNRUVG6evjw4Q984AOpZfPmzfv27VuwYEGjRo2i\n",
       "pUWLFqlPPg80c+bM9NxatmwZSSa6xZ/OPffcaPnOd76T+syZMyf1iZbly5dHLJk+\n",
       "ffonPvGJaPnMZz6Tjs7KlOKKK66Ix41XPWnSpPhrtNx0003pfiZOnJj6tGrVauXK\n",
       "lVu2bJkyZcpHP/rR1JgCUj6vK3zsYx+LlocfftjmCiAgAfDuCkgXXHDBoUOHMn0u\n",
       "ueSS9ItHSg7J1VdfHY2DBg3KdMi5/xEjRkRjPHRNz+qTn/xkdBg8eHC6un79+pQr\n",
       "nn322UyfuXPnnnPOOV/+8pezn0ktD1RVVXXxxRfH1R//+MfZfUaOHBmNZ555ZtrR\n",
       "rnHjxmkdv+if6RNR6v3vf3/mRaVSRNp59dVXM33i2UZjxJu4XFlZef7558fVnOW8\n",
       "44Wk36ZSQMrndYWvfOUr0adjx442VwABCYB3V0Dq169fdp8bb7wxGn/xi19kN0YC\n",
       "icb+/ftnVhXfvn37oSwRRdJvOytXrqz+uJFMUoqYNm1aaom8kX7DidQxfvz46jub\n",
       "5fNAcavUZ8WKFdm3PXLkyPz585988sm4kOmT2VMuo6ioKNrTSZlSKTp16pTdYdWq\n",
       "VdHYoEGDuLxly5bqySdp3rx5JiDV+bqSFi1aRJ+4oc0VQEAC4N0VkO67777sPj/8\n",
       "4Q+jcfjw4dmNP/3pT1NAWrhwYe0nXEq74eXYu3dv+uvSpUszjZMmTTrrrLMyN2zU\n",
       "qFGrVq2Ki4vTX/N5oMWLF6d98Go572rcYfR53/vel/0rWTJu3Lh0JFKmFCNGjMju\n",
       "sHbt2mj80Ic+dPzNdRdqeqwhQ4ZkH4NU++tKunfvHn/6xje+YXMFEJAAeA8HpD/+\n",
       "8Y/pc//5NZg6dWr1x923b1+61ZIlS7Lby8vL43leddVV2Sso/PznP6+qqsrngR57\n",
       "7LFMgKnJ3Llzo0/cf/b+dUk6L9M555xTUymyA1I6kKlevXrVHyIdo5W9il0tryt1\n",
       "iP8F0fLVr37V5gogIAHwHg5I8dE//SCTvVp3PurXrx83nDJlykn/euDAgUg7ERhS\n",
       "liguLs7ngVavXp367927N7u9srIyXtS99967ffv2DRs2pD5bt27NuXm8nGiPGJNP\n",
       "QMrcz8svv5xzP126dKnpPEjVX1dqv+WWW+LqD37wA5srgIAEwHs4IEX2aNCgQVzO\n",
       "nEwp2bJlSzxuo0aNck6XlHHeeeele0hX58yZ07hx4x/96EfZffbv33/22WdHt3vu\n",
       "uSefBzp48ODpp58efUaPHp3dZ/r06Slc7d69O/JVWlaud+/e2X0OHz6clueOmuQT\n",
       "kKL/Bz/4wbg6YMCAnPtJBx2lgFTn60otKTK1bt3a5gogIAHwHg5Icfk3v/lNXP70\n",
       "pz+dOaAogkpa2iGyQU3PqlmzZpk0EtasWZMO6Xn88cczfTZs2JBWlluwYEGeD9Sq\n",
       "Vau0m1xmDYaNGzdedtll0fj1r389tUQ0iqv169fPLBER9/Ozn/0s7XoX/fMJSKFn\n",
       "z55xNWLS7NmzU8vrr78eWSh7me98Xlf41Kc+Vf3hABCQAHjvBaT9+/d/8YtfTDHg\n",
       "0ksvjRySPv1H2Jg/f35NzyoeJfpce+216WpVVdUNN9yQokXkmaZNmzZp0iTdz8UX\n",
       "X5xWGM/ngXbs2JEWEI8+V1xxRVoZPJx11lnr1q1Lff7xj39cfvnlqT3u8Prrr08n\n",
       "SspewS+fgLR3794vfelL6YZf+MIXvvnNb6bfhdIvVCkg5fO6IlalM9tGcLK5AghI\n",
       "APxnpQ/xJw1Ibdq0yf5TSgUPPPDA2wpIx9/8BaZ169YNGzbMrEAQYaCWdBS2bt0a\n",
       "GSZuEvEgtUT+adu2bdpvLalfv/7NN9/8yiuvZG6VzwPt2rWrefPmKaVkznubs/B3\n",
       "POgdd9yROalr5JNIONk/8py0FOm4ow9/+MOZlshaLVu2zDyfeMK33nprOrtu5hik\n",
       "Ol9XWnwvrZ4HgIAEwKlj8+bNy5Yty440tWjatGn1Y4oOHTpUVlZWUlISaSTi0P/7\n",
       "gSorKzdu3Lhy5cp0ctiavPTSS8uXL4+c86+86qqqqni2a9euPXr0aE19anldEfky\n",
       "J6gFQEACoEA9/fTTNa32VjgiLH3kIx+pX7/+7t27bRIAAhIABe273/1uZKTly5cX\n",
       "bAXuuuuu6kvqASAgAVCINm3aVK9eveuuu64wX/7u3bsbNmzYuHHjzIFYAAhIABS0\n",
       "kpKSGTNmHDt2rDADUrz2SIk2AwABCQAAQEACAAAQkAAAAAQkAAAAAQkAAEBAAgAA\n",
       "EJAAAAAEJAAAAAEJAABAQAIAABCQAAAABCQAAAABCQAAQEACAAAQkAAAAAQkAAAA\n",
       "AQkAAEBAAgAAEJAAAAAEJAAAAAEJAABAQAIAABCQAAAABCQAAAAEJAAAAAEJAABA\n",
       "QAIAABCQAAAABCQAAAABCQAAQEACAAAQkAAAAAQkAAAAAQkAAEBAAgAA+Lf6XwE4\n",
       "zxENhLoPAAAAAElFTkSuQmCC\" style=\"clip-path:url(#clipPath2);\" height=\"840\" preserveAspectRatio=\"none\"\n",
       "    /></g\n",
       "  ></g\n",
       "></svg\n",
       ">\n"
      ]
     },
     "metadata": {},
     "output_type": "display_data"
    }
   ],
   "source": [
    "step(smd_tf)"
   ]
  },
  {
   "cell_type": "markdown",
   "metadata": {
    "slideshow": {
     "slide_type": "slide"
    }
   },
   "source": [
    "## Integral Models\n",
    "\n",
    "* If system is non-linear, time-varying or very high order, we may not be able to solve the differential system directly.\n",
    "* We typically resort to simulation\n",
    "* MATLAB has a system simulation tool called *Simulink*.\n",
    "* We first need to convert the differential equation to integral form."
   ]
  },
  {
   "cell_type": "markdown",
   "metadata": {
    "slideshow": {
     "slide_type": "subslide"
    }
   },
   "source": [
    "### Integral form\n",
    "\n",
    "* Makes use of the fact that for any differential term:\n",
    "\n",
    "$$x(t)=\\int_{0}^{t}\\,\\dot{x}(t)\\,dt$$\n",
    "\n",
    "* We can use this fact to rearrange any *n*<sup>th</sup>-order differential equation into n first-order integral equations.\n",
    "* Using a numerical integration algorithm, we can solve such equations.\n",
    "\n"
   ]
  },
  {
   "cell_type": "markdown",
   "metadata": {
    "slideshow": {
     "slide_type": "subslide"
    }
   },
   "source": [
    "### Integral form of SMD equations\n",
    "\n",
    "$$\\begin{eqnarray*}\n",
    "\\ddot{x}&=&\\frac{1}{m}\\left(F-b\\dot{x}-kx\\right)\\\\\n",
    "\\dot{x}&=&\\int\\ddot{x}\\,dt\\\\\n",
    "x&=&\\int\\dot{x}\\,dt\n",
    "\\end{eqnarray*}$$"
   ]
  },
  {
   "cell_type": "markdown",
   "metadata": {
    "slideshow": {
     "slide_type": "subslide"
    }
   },
   "source": [
    "### Block diagram\n",
    "\n",
    "![Integral model of SMD](images/intgm.png)\n",
    "\n",
    "**Note** \n",
    "\n",
    "$$\\mathcal{L}\\left(\\int x(t)\\,dt\\right) = \\frac{1}{s}$$\n"
   ]
  },
  {
   "cell_type": "markdown",
   "metadata": {
    "slideshow": {
     "slide_type": "subslide"
    }
   },
   "source": [
    "### Simulink model"
   ]
  },
  {
   "cell_type": "markdown",
   "metadata": {
    "slideshow": {
     "slide_type": "notes"
    }
   },
   "source": [
    "![Simulink model of SMD system](images/simulink.png)"
   ]
  },
  {
   "cell_type": "code",
   "execution_count": 6,
   "metadata": {
    "slideshow": {
     "slide_type": "fragment"
    }
   },
   "outputs": [],
   "source": [
    "smd"
   ]
  },
  {
   "cell_type": "markdown",
   "metadata": {
    "slideshow": {
     "slide_type": "notes"
    }
   },
   "source": [
    "### Results of simulation\n",
    "\n",
    "![Results of simulation](images/result.png)"
   ]
  },
  {
   "cell_type": "markdown",
   "metadata": {
    "slideshow": {
     "slide_type": "slide"
    }
   },
   "source": [
    "## State-space models\n",
    "\n",
    "Let $x_1 = x$ and $x_2 = \\dot{x}$ then"
   ]
  },
  {
   "cell_type": "markdown",
   "metadata": {
    "slideshow": {
     "slide_type": "fragment"
    }
   },
   "source": [
    "$$\\begin{eqnarray*}\n",
    "\\dot{x}_1&=&x_2\\\\\n",
    "\\dot{x}_2&=&-\\frac{k}{m}x_2-\\frac{b}{m}x_1+\\frac{F}{m}\n",
    "\\end{eqnarray*}$$"
   ]
  },
  {
   "cell_type": "markdown",
   "metadata": {
    "slideshow": {
     "slide_type": "subslide"
    }
   },
   "source": [
    "In matrix form\n",
    "\n",
    "$$\\left[ {\\begin{array}{*{20}{c}}\n",
    "  {\\dot {x}_1} \\\\ \n",
    "  {\\dot {x}_2} \n",
    "\\end{array}} \\right] = \\left[ {\\begin{array}{*{20}{c}}\n",
    "  0&1 \\\\ \n",
    "  { - \\frac{b}{m}}&{ - \\frac{k}{m}} \n",
    "\\end{array}} \\right]\\left[ {\\begin{array}{*{20}{c}}\n",
    "  {{x_1}} \\\\ \n",
    "  {{x_2}} \n",
    "\\end{array}} \\right] + \\left[ {\\begin{array}{*{20}{c}}\n",
    "  0 \\\\ \n",
    "  {\\frac{1}{m}} \n",
    "\\end{array}} \\right]F$$"
   ]
  },
  {
   "cell_type": "markdown",
   "metadata": {
    "slideshow": {
     "slide_type": "subslide"
    }
   },
   "source": [
    "### General state-space model\n",
    "\n",
    "$$\\begin{eqnarray*}\n",
    "\\mathbf{\\dot x} &=& {\\mathbf{Ax}} + {\\mathbf{B}}u\\\\\n",
    "y &=& {\\mathbf{Cx}} + {\\mathbf{D}}u\n",
    "\\end{eqnarray*}$$"
   ]
  },
  {
   "cell_type": "markdown",
   "metadata": {
    "slideshow": {
     "slide_type": "subslide"
    }
   },
   "source": [
    "### MATLAB LTI Model"
   ]
  },
  {
   "cell_type": "code",
   "execution_count": 7,
   "metadata": {
    "slideshow": {
     "slide_type": "fragment"
    }
   },
   "outputs": [],
   "source": [
    "A = [0 1; -k/m -b/m]; % state matrix\n",
    "B = [0; 1/m]; % input matrix\n",
    "C = [1 0]; % Output matrix - output y = x1\n",
    "D = [0]; "
   ]
  },
  {
   "cell_type": "code",
   "execution_count": 8,
   "metadata": {
    "slideshow": {
     "slide_type": "fragment"
    }
   },
   "outputs": [
    {
     "name": "stdout",
     "output_type": "stream",
     "text": [
      "\n",
      "smd_ss =\n",
      " \n",
      "  A = \n",
      "         x1    x2\n",
      "   x1     0     1\n",
      "   x2    -5  -0.6\n",
      " \n",
      "  B = \n",
      "       u1\n",
      "   x1   0\n",
      "   x2   1\n",
      " \n",
      "  C = \n",
      "       x1  x2\n",
      "   y1   1   0\n",
      " \n",
      "  D = \n",
      "       u1\n",
      "   y1   0\n",
      " \n",
      "Continuous-time state-space model.\n",
      "\n"
     ]
    }
   ],
   "source": [
    "smd_ss = ss(A, B, C, D)"
   ]
  },
  {
   "cell_type": "code",
   "execution_count": 9,
   "metadata": {
    "slideshow": {
     "slide_type": "subslide"
    }
   },
   "outputs": [
    {
     "data": {
      "image/svg+xml": [
       "<?xml version=\"1.0\"?>\n",
       "<!DOCTYPE svg PUBLIC '-//W3C//DTD SVG 1.0//EN'\n",
       "          'http://www.w3.org/TR/2001/REC-SVG-20010904/DTD/svg10.dtd'>\n",
       "<svg xmlns:xlink=\"http://www.w3.org/1999/xlink\" style=\"fill-opacity:1; color-rendering:auto; color-interpolation:auto; text-rendering:auto; stroke:black; stroke-linecap:square; stroke-miterlimit:10; shape-rendering:auto; stroke-opacity:1; fill:black; stroke-dasharray:none; font-weight:normal; stroke-width:1; font-family:'Dialog'; font-style:normal; stroke-linejoin:miter; font-size:12px; stroke-dashoffset:0; image-rendering:auto;\" width=\"560\" height=\"420\" xmlns=\"http://www.w3.org/2000/svg\"\n",
       "><!--Generated by the Batik Graphics2D SVG Generator--><defs id=\"genericDefs\"\n",
       "  /><g\n",
       "  ><defs id=\"defs1\"\n",
       "    ><clipPath clipPathUnits=\"userSpaceOnUse\" id=\"clipPath1\"\n",
       "      ><path d=\"M0 0 L560 0 L560 420 L0 420 L0 0 Z\"\n",
       "      /></clipPath\n",
       "      ><clipPath clipPathUnits=\"userSpaceOnUse\" id=\"clipPath2\"\n",
       "      ><path d=\"M0 0 L1119.9999 0 L1119.9999 839.9999 L0 839.9999 L0 0 Z\"\n",
       "      /></clipPath\n",
       "    ></defs\n",
       "    ><g style=\"fill:white; stroke:white;\"\n",
       "    ><rect x=\"0\" y=\"0\" width=\"560\" style=\"clip-path:url(#clipPath1); stroke:none;\" height=\"420\"\n",
       "    /></g\n",
       "    ><g transform=\"scale(0.5,0.5)\"\n",
       "    ><image x=\"0\" y=\"0\" width=\"1120\" xlink:href=\"data:image/png;base64,iVBORw0KGgoAAAANSUhEUgAABGAAAANICAIAAAAHNA4rAABnWUlEQVR42uzdC3RV\n",
       "130nfhzHcey8Jk6X6zpOw6SdTOpkksbpw12TziJN2maapM6jSZfzcOi/GUuIhx0c\n",
       "keIGSzGwEAHXQ2qG92CHKRgvHFNnysNAMARhQ4qKF4lAQgaMbVUOyBgGokRC0n/b\n",
       "J5zcXD24COnec+75fBYrC517r3y17/kp+8vZ+3dG9QIAAPCKUYYAAABAQAIAABCQ\n",
       "AAAABCQAAAABCQAAQEACAAAQkAAAAAQkAAAAAQkAAEBAAgAAEJAAAAAEJAAAAAEJ\n",
       "AABAQAIAABCQAAAABCQAAAABCQAAQEACAAAQkAAAAAQkAAAAAQkAAEBAAgAAEJAA\n",
       "AAAEJAAAAAEJAABAQAIAABCQAAAABCQAAAABCQAAQEACAAAQkAAAAAQkAAAAAQkA\n",
       "AEBAAgAAEJAAAAAEJAAAAAEJAAAAAQkAAEBAAgAAEJAAAAAEJAAAAAEJAABAQAIA\n",
       "ABCQAAAABCQAAAABCQAAQEACAAAQkAAAAAQkAAAAAQkAAEBAAgAAEJAAAAAEJAAA\n",
       "AAEJAABAQAIAABCQAAAABCQAAAABCQAAQEACAAAQkAAAAAQkAAAAAQkAAEBAAgAA\n",
       "EJAAAAAEJAAAAAEJAABAQAKgbPz85z9vbGz8v//3/65bt+5HP/rRmTNnjAkAAhIA\n",
       "mXPy5Mna2tq3vOUto3JceeWVVVVVhw4dip/W09Nz5pxivr1x48ZdMYC3vvWtH/3o\n",
       "Rx955BEfIgACEgDDIKSdP/qjPxo1gGuuuebw4cPRM59//vn4+NatW4v2Dv/2b/92\n",
       "1PlMnjzZRwmAgATAxZo0aVIcM37jN37j5ptv/uQnP/mmN70pPnjDDTf0DUgbN24s\n",
       "VUB6zSte/epX52Wkxx9/3KcJgIAEwEX5z//5P0cB493vfvfp06ejg6dOnfrABz4Q\n",
       "Z49jx44lJCC1trZGB8+ePVtfX//nf/7n8UN33HGHTxMAAQmAoTtz5kwcMD7/+c/n\n",
       "PvSd73znsnO2bt1aUVFx0003xU8eM2bMLbfcsnr16vj5e/furaqquvHGG3/913/9\n",
       "Ix/5yLRp044cORI/OmHChFte8eMf/3j+/Pl/+qd/es011/zX//pfQ6rJfVrhASmy\n",
       "Y8eO+KFPfvKTuQ8N/n6Cbdu2jR079j3vec/VV1/9tre9LTxzxowZL7zwwtDeczhy\n",
       "++23f+hDHwrP+S//5b984QtfePDBB/OeE3/DxsbG7373u+ENX3vttb/5m7/56U9/\n",
       "et++fRf03gr8GQEQkAC4MNddd10UMC655JLKysqdO3d2d3f3fVp4tO/On9tuuy16\n",
       "tK6u7jWveU3eo2Fy/8QTT0RPiNfsvf/97+/7tPAfHVpA2r17d/xQTU1NfPy872fZ\n",
       "smWvetWr+v5Eo0ePjvdcFf6ew3d7/etf3/e7fexjH2tvb4+fFn/Dj3/843njecUV\n",
       "V+zZs6fw91bIzwiAgATABQuhKG+SfdVVV33qU5+67777nn766fhp//2///cPfehD\n",
       "8XN+7/d+76Mf/ejChQvDQ2vWrImP/+Zv/uYNN9wQf/m6173uJz/5SW42CMLs/3d/\n",
       "93f/03/6T/GRt771rT//+c8vNCA988wzf/3Xfx0/tGXLluj4ed9PT0/Pm9/85ujI\n",
       "jTfeOGfOnFtvvTU8FB358pe/nJdnBn/P//qv/3rppZdGB1/72teGbxgeip8Wf7e8\n",
       "bxi84Q1vyP3y5ptv7n2lVWAh762QMQdAQALggv30pz/94Ac/2G9ruJAK/uqv/ipe\n",
       "2dXvHqSOjo5rr702Ojh+/Pjo6lNLS0s8y582bVpuNnjNa16zadOm6LX33HNP/A0X\n",
       "LVpUSEAaPXr0b7/i7W9/e+5b/cu//MuzZ88W+H5+/OMfxy+MVwnOmjXrDa/4nd/5\n",
       "nbw8M/h7DjEmDirxFZ7bbrstflrfy2hXXnnlgw8+2NnZ+dRTT8U/yDve8Y7wnELe\n",
       "W4FjDoCABMBQhBn28uXL/+AP/qDfdXTvec97BmnSsGvXrniF3u7duxvP+eQnPxnH\n",
       "htxskLfT6frrr4+Of/azny0kIPXrfe9738mTJwt/P62trfFrL7/88i9/+cvf+c53\n",
       "QsDI++8W8p5DvIyXwy1YsCB+TsgwcVwJ8SbvG37pS1+Kn/k3f/M3cWoKXxby3goc\n",
       "cwAEJAAuSohAYTr+xS9+8aqrrspNIHV1dQMFpKVLlw6eXi677LLcbPC//tf/yv0v\n",
       "jh8/Pjr+gQ98oJCAdO211/7WK/Le4ZgxYy7o/YTM0+8mn+nTp8e3wS3kPe/Zsyd+\n",
       "+Y9+9KPcp/3pn/5pdDyMZ943vPvuu+Onffvb344OXnrppdGR8763An9GAAQkAC5M\n",
       "yDmzXjFnzpzOzs74ePj7jBkz4gl3mOsPFJDmzp173ru4vvjii3E2+N//+3/nvoHq\n",
       "6uroeMg8hQSkeA9Sd3d3fX19fDEnCF8W/n66urrCO/ngBz/Y935KH/7wh3t6enLz\n",
       "zCDv+Qc/+EH8wqamptyn/eVf/mW8/C8vIN17773x05YsWZIXkM773gr8GZ3eAAIS\n",
       "ABcmd6q9a9euvEf/43/8j/EtkgYKSP/yL/8SL/f693//9/b+hDl9nA2mTp2a+5/4\n",
       "9Kc/HU/9LyggRXKvpfzDP/xD4e8n/g4nT57853/+5wkTJvyH//Af4m/14x//ODfP\n",
       "DPKe29ra4letX78+92m/8zu/Ex3/+te/fkEB6bzv7UJ/RgAEJAAKsn379njm/Yd/\n",
       "+Ie5Pal/+MMfXnbZZbl7ZnID0vLly6OnHT16NN65tGrVqvjlDz300B+94pZbbsnN\n",
       "Btddd92JEyei5xw+fPjyyy+PjocYMISA9OKLL8YPVVdXF/h+Fi1a9PpX/N7v/V78\n",
       "hNxrQVu3bi38PV999dXRl5/4xCfiWLJ58+b4u/3TP/1T4QGpkPdW4JgDICABcGE6\n",
       "OjpyV6m97nWvu+mmm/7H//gfH/nIR+J0FDz66KPhySE+xUeuueaa+F6oY8eOjbu9\n",
       "ffzjH//2t78dIs1rX/va3A08uR2u3/3ud8+ZM2fWrFlve9vb4nZ5+/fvH0JACq68\n",
       "8sroofC2oyPnfT+5neK++tWvhsxz6NChL3/5y9GRV7/61adPny78Pf/jP/5j7o2P\n",
       "Fi5c+Pd///fxbZHe9a53xR3MCwlIBb63QsYcAAEJgAsWpuDxNZB+TZ48OX5yvOgu\n",
       "90axx44dyzue2zvhZz/7WW426PcWqLfffvsg73DwgPSe97wnb5FeIe/ns5/97EA/\n",
       "78SJE/PyzODvubu7O+TJfr9ViEk7duyI32qBS+wKeW+F/IwACEgADEVIHVOmTHnj\n",
       "G9+YN9X+3d/93e9+97u5u1l27dr1/ve/Py8gBf/v//2/cePGxfczje6CGh7t2xFu\n",
       "5syZn/vc5+I7q1511VVz5swZ/O3l3sq27y1Qb7nllrgpdrwQ7rzvp6ur6xvf+MY1\n",
       "11yT+/OGL2tqauKft/D3HDJSyDy/9mu/lttH7uMf//iRI0dyn9ZvQFq+fHnfJg3n\n",
       "fW+F/IwACEgADN3PfvazpqamjRs3Pvzww//6r/86SBu0n/70pyFTtbW1hal8Xk44\n",
       "ePDgpk2b9u3bF54zSDYIk/vt27eH/9yI9hIY5P3EUaS5ufnxV4Q3E91q9mLecxiW\n",
       "73//++E/l9sScGgGf2+F/4wACEgAJE6/F0+8ZwAEJAAEJO8ZAAEJgAx7y1ve8upX\n",
       "zJs3z3sGQEACAAAQkAAAAAQkAAAAAQkAAEBAAgAAEJAAAAAEJAAAAAEJAABAQGLY\n",
       "nTlzpqmpaceOHY2NjadOnSrkJS+99NK+ffvCS/bv39/R0ZH36PHjx5/vo8DvDAAA\n",
       "CEglU19fP2nSpFvPqaqqWr9+/SDP7+7uXrt2bWVlZfySr371qyEp5T6npqbm1j7C\n",
       "q4w2AAAISMnV3NxcUVER0svixYu3bdu2YsWK6Mtdu3YN9JKtW7eGJ0ycOPGRRx7Z\n",
       "tGnTPffcE74Meenpp5+OntDZ2Rm+nDJlyupftW/fPgMOAAACUnLNmzcvxJuVK1fG\n",
       "RzZs2BCO1NTUDPSS6urq8IT9+/fHR+rq6sKRNWvWRF8+88wz4cv777/f8AIAgICU\n",
       "Gl1dXVVVVSHMtLe3xwc7OzvHjx8fDh4/frzvS1566aXw0LRp03IPbt68ORxcsGBB\n",
       "9OXOnTvDl+GgEQYAAAEpNdra2kKSqa6uzjseXRFqbGzs+5JTp05t3779qaeeyj0Y\n",
       "olF4/ve///3oy4ceeih82dDQEJ65Zs2akJQOHTpktAEAQEBKtObm5pBkZs6cmXc8\n",
       "CjxPPvnk4C9vaWnZsWNHtEhv+vTpp0+fjo7fe++9UbOH3A4NS5cu7erqMuYAACAg\n",
       "JdSBAwdCdKmrq8s7vmzZsnA8rzFdX3PmzInzT0NDQ3z8jjvuCEdmz54dIlZTU9Pa\n",
       "tWujsDR4F7tbAQAoR2bdAlJq7N+/v9+AtHjx4kIC0tNPP71nz54Qe6Iu4Q899FDv\n",
       "K03AH3vssU2bNuVeL9q9e3d0TSk8OkhA8okYFiNjZIyMYTEyRsbIGBkEpJI5ePBg\n",
       "OGXvvvvuvOP33Xff4J2++yalioqKiRMnDrKIbsqUKeF7tra2Kh6/U4yMkTEyhsXI\n",
       "GBkjY2QQkJLo2LFj4ZSdMGFCT09P7vFp06aF401NTX1fsnfv3gceeCB3QV2ktrY2\n",
       "ekn4Vh0dHX2T0vTp0wdq/KB4/E4xMkbGyBgWI2NkjIyRQUAqve7u7mh13JEjR+KD\n",
       "J0+erKysrKioCH/p+5L6+vqoJUPe8alTp4bjR48e3bNnT/jLokWLch/t7OycOHHi\n",
       "QK3DFY/fKUbGyBgZw2JkjIyRMTIISIkQkkw4a+fOnRtfRIo6NMyaNSv6MmSex14R\n",
       "ffncc89Fm+0OHjwYf5NNmzaFIyECnT17NkSg8Pdx48Y1NzdHj4bv/OCDD4aDtbW1\n",
       "isfvFCNjZIyMYTEyRsbIGBkEpORqa2uLbgtbXV29ZMmSO++8M/y9oqIiXl+3cePG\n",
       "vPYjK1asiDouLF68ePXq1dFNk4KdO3dGT1i1alX4srKycsGCBeEJM2fOjJ7f0tKi\n",
       "ePxOMTJGxsgYFiNjZIyMkUFASrSQW6IdRJGpU6fu3bs3fjQKSCHtxEe6urrWrVsX\n",
       "rc2L1NTU7NmzJ37C2bNnwxNuv/326NHw2tmzZz/77LOKx+8UI2NkjIxhMTJGxsgY\n",
       "GQQkFA8AgDkeAhKKBwDAHA8BCcUDAIA5noCE4gEAwBxPQELxAABgjicgoXgAADDH\n",
       "E5BQPAAAmOMJSCgeAADM8QQkFA8AAOZ4AhKKBwAAczwBCcUDAIA5noCE4gEAwBxP\n",
       "QELxAABgjicgoXgAADDHE5BQPAAAmOMJSCgeAADM8QQkFA8AAOZ4AhKKBwAAczwB\n",
       "CcUDAIA5noCE4gEAwBxPQELxAABgjicgoXgAADDHE5BQPAAAmOMJSCgeAADM8QQk\n",
       "FA8AAOZ4AhKKBwAAczwBCcUDAIA5noCE4gEAwBxPQELxpOgMnrxl9Iz6w+0dPk0A\n",
       "AAFJQCLTxbN8d+vYVY3hf8fMb/BpAgAISAISmS6e+NpRiEm1Gw75QAEABCQBiYwW\n",
       "T3T5KPp7iElj5jdsbTnhMwUAEJAEJLJYPHlbj0I6Ckd8pgAAApKAROaKJ/fyUax2\n",
       "w6G+BwEAzPEQkCjz4ul3Qd3h9o4QkCy0AwDM8QyCgESGiidEoIHa1oWMZKEdAGCO\n",
       "ZxAEJDJUPIP3Y7DQDgAwxzMIAhJZKZ5CrhGNmrzFhwsAmOMhIFH+xRPdGXbw52j5\n",
       "DQCY4yEgkYniKeTqUO2GQ+4bCwCY4yEgUebFU2DyGaSLAwCAOR4CEmVSPAVuLtLL\n",
       "DgAwx0NAosyLp9+bww7ENiQAwBwPAQkBSUACAMzxBCQBiQwUTyH962L6NAAA5ngI\n",
       "SJRz8YyeUX+4vaPAJ+vTAACY4yEgUc7Fc0G3f9WnAQAwx0NAomyLZwiBxzYkAMAc\n",
       "DwGJ8iyeC+rQELENCQAwx0NAojyLZwhpxzYkAMAcDwGJ8iyeC2phF7ENCQAwx0NA\n",
       "ojyL54Ja2F3kqwAAzPEEJBRPss/UC2lhF9OnAQAwx0NAotyKZ8iL5fRpAADM8RCQ\n",
       "KLfiGUILu4g+DQCAOR4CEuVWPEO+EKRPAwBgjoeARLkVzxBa2MVsQwIAzPEQkCir\n",
       "4rmYZnS2IQEA5ngISJRV8QythV3ENiQAwBwPAYnyKZ6LTDi2IQEA5ngISJRP8Qy5\n",
       "hd0vz/KLuAAFAGCOJyCheBLk4jcR6dMAAJjjISBRJsVzMS3shitiAQCY4wlIKJ5E\n",
       "uJgWdhF9GgAAczwEJMqkeC5+B5E+DQCAOR4CEuVQPMN18cc2JADAHA8BidQXz8W3\n",
       "sBOQAABzPAQkyqR4Lr5DQ0yfBgDAHA8BCQHpF/RpAADM8RCQSHfxXHwLu9xv5RMH\n",
       "AMzxEJBIcfFcfAs7AQkAMMdDQKIcimd47180jBejAADM8QQkFE+xDVcLu4hGdgCA\n",
       "OR4CEikunmHs0DDs3w0AwBxPQELxpDgg1W44pNM3AGCOh4BEWotneHcNDe+OJgAA\n",
       "czwBCcVT3LNz+FrYBSFraWQHAJjjISCl1ZkzZ5qamnbs2NHY2Hjq1KlCXvLSSy/t\n",
       "27cvvGT//v0dHR2pLp7h7dAgIAEAAhICUorV19dPmjTp1nOqqqrWr18/yPO7u7vX\n",
       "rl1bWVkZv+SrX/1qSEoCUi6dvgEAAQkBKX2am5srKirCmb148eJt27atWLEi+nLX\n",
       "rl0DvWTr1q3hCRMnTnzkkUc2bdp0zz33hC9DXnr66adTWjwj0XROp28AQEBCQEqf\n",
       "efPmhdN65cqV8ZENGzaEIzU1NQO9pLq6Ojxh//798ZG6urpwZM2aNSktnpEIMzp9\n",
       "AwACEgJSynR1dVVVVYXTur29PT7Y2dk5fvz4cPD48eN9X/LSSy+Fh6ZNm5Z7cPPm\n",
       "zeHgggULUlo8I7FfSKdvAEBAQkBKmba2tnBOV1dX5x2Prgg1NvazLefUqVPbt29/\n",
       "6qmncg+GaBSe//3vfz+lxTO8LewiOn0DAAISAlLKNDc3h3N65syZecejwPPkk08O\n",
       "/vKWlpYdO3ZEi/SmT59++vRpASmmkR0AICAhIKXMgQMHwjldV1eXd3zZsmXh+Hkb\n",
       "082ZMyduZNfQ0HDe4ulXyQdhhC71CEgAQJkFocRO5wQkhs3+/fv7DUiLFy8uJCA9\n",
       "/fTTe/bsWbt2bdQl/KGHHkrjvy6MRI/viE7fAEAWgpNBEJDKx8GDB8M5fffdd+cd\n",
       "v++++wbv9N03KVVUVEycOLGrq0tAiun0DQAISAhIaXLs2LFwTk+YMKGnpyf3+LRp\n",
       "08Lxpqamvi/Zu3fvAw880HdBXW1t7UAvSXjxjFy7OZ2+AQABCQEpTbq7u6PVcUeO\n",
       "HIkPnjx5srKysqKiIvyl70vq6+ujlgx5x6dOnRqOHz16NHXFM3IxRqdvAEBAQkBK\n",
       "mUWLFoXTeu7cufFFpKhDw6xZs6IvQ+Z57BXRl88991y0G+/gwYPxN9m0aVM4MnHi\n",
       "xLNnz6aueEZuIZxO3wCAgISAlDJtbW3RbWGrq6uXLFly5513hr9XVFTEi+U2btyY\n",
       "159kxYoV4cuqqqrFixevXr06umlSsHPnzjQWz8i1UhCQAAABCQEpfVpaWqIdRJGp\n",
       "U6fu3bs3fjQKSJWVlfGRrq6udevWRWvzIjU1NXv27Elp8YzETZAiOn0DAAISAhIC\n",
       "0i/p9A0AmOMhIJGa4hnpizw6fQMA5ngISKSmeEbuJkgRnb4BAHM8BCQEpF/Q6RsA\n",
       "MMdDQCI1xTPSAUYjOwDAHA8BidQUz0gvgROQAABzPAQkBKRf0OkbADDHQ0AiNcVT\n",
       "hDbcI9pGHADAHE9AQvGkKSDp9A0AmOMhIJGO4inC5R0BCQAwx0NAIgXFU5wNQjp9\n",
       "AwDmeAhIpKB4itNiTiM7AMAcDwGJFBTPSN8lVkACAMzxEJBITfEUZ/GbTt8AgDke\n",
       "AhIpKJ6RvgnSL099nb4BAHM8BCQEpIhGdgCAOR4CEkkvniLcBElAAgDM8RCQEJB+\n",
       "hU7fAIA5HgISSS+eom0NKk67PAAAczwBCcWTgoCk0zcAYI6HgESii6eYoUWnbwDA\n",
       "HA8BiUQXT5GXven0DQCY4yEgISD9gkZ2AIA5HgISyS2eIneWE5AAAHM8BCSSWzxF\n",
       "u0tsSf5zAAACkoCE4rkARb6k41ZIAIA5HgISyS2eot0lNuJWSACAOR4CEsktniK3\n",
       "lXMrJADAHA8BCQHpF9wKCQAwx0NAIqHFU/y4IiABAOZ4CEgktHhKsiOoyLueAAAE\n",
       "JAEJxZPcgORWSACAOR4CEkksnpI03RaQAABzPAQkklg8Jbltq1shAQDmeAhICEgC\n",
       "EgBgjoeARIKLpyT9EtwKCQAwx0NAQkASkAAAczwEJBJcPEW+S2zErZAAAHM8BCQS\n",
       "VzwlDColCWYAAAKSgITiGVAJl7q5VywAYI6HgESyiqckd4mNuBUSAGCOh4BEsoqn\n",
       "hO22S9JeHABAQBKQUDxJTCluhQQAmOMhICEgCUgAgDkeAhKJLJ4SdkpwKyQAwBwP\n",
       "AQkB6RfcCgkAMMdDQCJZxVPCmxEJSACAOR4CEskqntJGFPeKBQDM8RCQSFDxlHYX\n",
       "kFshAQDmeAhIJKuLnYAEACAgCUgont7lu1tLG5DcKxYAMMdDQCIpxVPyOxG5FRIA\n",
       "YI6HgERSiqfkF3BKfgkLAEBAEpBQPEkJSO4VCwCY4yEgkZTiKXmPBLdCAgDM8RCQ\n",
       "SErxhHASIoqABAAgIAlIKJ7SB6Re94oFAMzxEJBISPEkIZy4FRIAYI6HgKR4BCQB\n",
       "CQAwx0NAIjHFk5D9P+4VCwCY4yEgKZ7SF09CWmy7VywAYI6HgKR4Sl88CblJq1sh\n",
       "AQDmeAhIikdAEpAAAHM8BCQSUzwJWdvmVkgAgDkeApLiKX3xJKQ7goAEAJjjISAp\n",
       "HgHpl5Jwv1oAAAFJQCLTxZOcGxC5FRIAYI6HgKR4Siw5120EJADAHA8BSfEISL/g\n",
       "VkgAgDkeApLiKfUpOHlLQkZDQAIAzPEQkBSPgPQLboUEAJjjISApnlJKVHNtAQkA\n",
       "MMdDQFI8MkkS0xoAgIAkIJG54lm+u3XsqsYE1UNi1vullDaAAGCOJyCheMonILlX\n",
       "7JDVbjg0Zn5D+BPGMHymkhIACEgCEopnKLPqRDWOcyukoQmDFq9ODAkz5N44KRkc\n",
       "ABCQBCQUT6HCBDpMppMzIEl7P6kQEtGoyVv6BssoKdnWBQACkoBEQc6cOdPU1LRj\n",
       "x47GxsZTp04V+JIDBw6El+zfvz/8Pe/R48ePP9/H4N9ZQMrjVkhDMPhlt/ARu44E\n",
       "AAKSgMR51NfXT5o06dZzqqqq1q9fP8jze3p6Nm3aFJ4WvyS8fPPmzbnPqampubWP\n",
       "tWvXJrl4krakLWl7olKRjgaPlFFvQAsXAUBAEpAYUHNzc0VFRThxFy9evG3bthUr\n",
       "VkRf7tq1a6CXhKeFJ4wbN2716tXbt29funRp9JIf/vCH0RM6OzsrKyunTJmy+lft\n",
       "27cvycWTwKYIboVUuBAmCxmuaEuS4QIAAUlAon/z5s0LZ+3KlSvjIxs2bAhHampq\n",
       "+n1+d3f31772tbwE9eijj4Yj3/rWt6Ivn3nmmfDl/fffn67iSWBAsmemQLmNGQYX\n",
       "PmLdLwBAQBKQ6F9XV1e0Uq69vT0+2NnZOX78+HDw+PHjfV/ywgsvhIf+7u/+rqen\n",
       "Jz4YnhkOTpw4Mfpy586d4cu8RXfJL54E3ndIQCowHYXPrvBwW3iaAgAEJAEpW9ra\n",
       "2sIpW11dnXe8rq4uHG9s7GcDzNGjR++66668q0PhYHj+lClToi8feuih8GVDQ8P2\n",
       "7dvXrFkTktKhQ4eSXzwJDEjuFVuIIXTXGDO/QYdAABCQBCTyNTc3h1N25syZeccX\n",
       "LFgQjj/55JMFfp/ly5eH54dXRV/ee++9UbOH3A4NS5cu7erqSmzxRNv3k/YBuVfs\n",
       "CMXIZH7cACAgISCV2IEDB8IpW1dXl3d82bJl4fiOHTvO+x16enrWrFkTxaHW1l/8\n",
       "k/wdd9wRjsyePTtErKamprVr10Zh6bxd7PpVnKHY2nIigXv37ZY5fzgfaq+/2g2H\n",
       "NAkEgOENQqWdzglIDIP9+/f3G5AWL15cSEAKiShajDdhwoQf/ehH0cHu7u7HHnts\n",
       "06ZNudeLdu/eHYWo8Ggy/3UhmT21BaSRGyLdGgCgaMHJIAhIqXHw4MFwyt599915\n",
       "x++7777BO32HnLNu3broulDISG1tbef9b02ZMiU8Ob7KJCAVwr1iz/9b4yK2aWn5\n",
       "DQACkoDErzh27Fh0/Se3JV0wbdq0cLypqanfV3V1dS1cuDA84bbbbtu+fXvea8OX\n",
       "HR0dfbcbTZ8+faDGD0konmRGEQFppGOti0gAICAJSPxSd3f3pEmTwll75MiR+ODJ\n",
       "kycrKysrKirCX/p9VbTpqLa29sUXX+z76J49e8KjixYtyj3Y2dk5ceLEgVqHJ6F4\n",
       "htAJrQiSuTMqOS4+3iTzyiEACEgISCUTkkw4a+fOnRtfCIo6NMyaNSv68ujRo4+9\n",
       "IvoyhKKqqqqQdgaKT9E9kcaNG9fc3BwdCd/5wQcfjDJVYotHQEqdYelEp50dAAhI\n",
       "AhK/oq2tLbotbHV19ZIlS+68887w94qKinh93caNG3PbjzzxxBPRPWHv7eOBBx6I\n",
       "nrNq1arwnMrKygULFqxevXrmzJlRh4aWlpbEFk8yl1qZvhch01plBwACkoDErwi5\n",
       "pba2Nu7DOHXq1L1798aPRgEppJ3oyxB4Bmrg+I1vfCN6ztmzZ9etW3f77bdHx8Nr\n",
       "Z8+e/eyzzya5eJJ5xyEBqQgfmct0ACAgCUgonnQEpF73ih3AMO4dkkIBQEASkFA8\n",
       "fU6+i+gWPaIsAOvX8O4ZM8gAICAJSCgeASnFhvfCmlV2ACAgCUgonl9K8iKrZLbX\n",
       "K61h781tlR0ACEgCEornl5J8AcG9YosTGgVRABCQBCQUzy8k+W6h7mTaz2+KEVgP\n",
       "aZUdAAhIAhKKJwUhxMS9aB+W7V4AICAJSCielyV5GZvtMUWLMVYzAoCAJCCheF6W\n",
       "5P0nAlL+r4kR6zdoqAFAQBKQUDxJD0i9CW5BXnwjvRjSKjsAEJAEJBRP0qfFw3vP\n",
       "n1Qb6ShrlR0ACEgCEoon6QnEZY2ifVJW2QGAgCQgoXiSHpDcoueXvyNGfrWhOAoA\n",
       "ApKARNaLJ+GbfKz7ihSnG7sbTwGAgCQgISAJSClQtHGwyg4ABCQBiewWT/K3nbhX\n",
       "bKRoi9+ssgMAAUlAIrvFk/z4ISD94hdEsS70uWQHAAKSgER2iyf5e060VivyxySR\n",
       "AoCAJCAhICW7NjJ/r9hifkwSKQAISAIS2S2eVKyncq/YIvc6tw0JAAQkAYmMFk8q\n",
       "7jJkvl7kiGgbEgAISAISApKAlODfDsVdZGiVHQAISAISGS2eVGSPjF/QKMk+Mcsa\n",
       "AUBAEpDIYvGkYh6c8YBUkqt8rtoBgIAkICEgJVTGG0+X5DPS7BsABCQBiSwWTyo6\n",
       "aGd8sl6Sz8g2JAAQkAQkBKSEyvJkvYQ3qrLKDgAEJAGJbBVPWoJHlgNSCdsMavYN\n",
       "AAKSgES2iidFS9dScaVrJJRwk5htSAAgIAlIZKt4Srh860JldrlXCZOhbUgAICAJ\n",
       "SAhIAlKClPwDsg0JAAQkAYkMFU+KNpmUcCtOln/qFEVoADDHE5BQPBlKHdlsGFDy\n",
       "u1RZZQcAApKAhICURNm8lJGE1hRW2QGAgCQgISAlTgY7qiUkE2r2DQACkoBEVoqn\n",
       "5Cu4CpfBtV4JCUiafQOAgCQgISAJSKWXkCWFtiEBgIAkIJGV4knX3Vezdq/Y5MQS\n",
       "V5AAQEASkBCQkhgY0nK9q8w+HduQAEBAEpAo/+JJ3dKpTLVTS1TXPtuQAEBAEpAQ\n",
       "kAQkASmtp0pyhKELn2N0CS76Ez7ZDN7yGMAcDwGJFBRP6i4LZGqhV9I6sLsb0tDO\n",
       "2FGTt4TPMTcghU82/AnjadUigDkeAhLJKp7U3Xo1UwEpaRuubEO6IOGzCxEo/Bno\n",
       "QwzHw3iGT1nsBDDHQ0BCQBqiTO2ESVr/DNuQLihMhuRTSJ6MRlXyBDDHQ0AiEcWT\n",
       "umsC2ZmjJ/AntQ2pQNGFowsa2ChQGToAczwEJAQkc/T+JfPinm1I5z0/R03eMrQh\n",
       "is5tl5IAzPEQkChl8SStDYCAlPCPxjak8wbIi/nUom1LIiiAOR4CEgLSBchIQErm\n",
       "LXFtQxo8HV384ET/BJCpuyEDmOMhIJGg4knjP1dnZIKezFmybUiDRMfhGpnlu1tl\n",
       "JABzPAQkSlM8aZyHZWQNUtJa2GVt/C80Nw5561G/9GwAMMdDQEJAKlQalwVeqCS3\n",
       "X7cNqTihMbqfrLEFMMdDQFI8xT3hknqZIuMT9CT/jLYh9U1HIzEgUe9vWRTAHA8B\n",
       "SfEISOeRupvbDkGSr5LZhpR3No5cXIya2slIAOZ4AhKKx0x3MFm4gpHwpY+2If3y\n",
       "V/awbj0y2gDmeAhIlLJ4Upo0snAFI+FX9iz9KmZ0iZraGW0AczwBCcUjIGU0ICV/\n",
       "DaFtSEUehHA+SKQA5ngCEorHRHzgOknh1qly+lxsQ+ot7sq3aDOShXYA5ngCEopH\n",
       "QCr93LT4UtHHPOPz9eJfQ7PQDsAcT0BC8Yy49O4kKe/ZeSpuTpXxbUglOQMttAMw\n",
       "xxOQUDzmuAPOFMv4XrGpWECY5W1IpfrZLbQDMMcTkFA8Yka5RbuyCR5Z3oZUwpRi\n",
       "oR2AOZ6AhOIRkPqfJpbrvWJT9KNl82pGyT8gt44FMMcTkFA8Jrj5ynh9V4pSaza3\n",
       "IZV8h5gWggDmeAISiqdsp3rmiKn+UDK4DSkh1/fC23AfKgBzPAEJxSMgCUhJfLeZ\n",
       "qtCEfDq6NQCY4wlIKJ6ROdvSfLvVcr1XbLp+rkxN0xO1PSwMu4V2QxMtDQ1/wqcZ\n",
       "/QmncXk3xgQEJAEJxZOJjFGWU/PUNZ/I1DakpF3cc1ukwoUPLoxV+I0XPsQ4IIVy\n",
       "i/6E3yRR6UVPEJYAAUlAIqPFk/ZVamUZkFKXN7KzDSmB2TUq4ZSuki1JLirwJdFn\n",
       "HV1Wso4REJAEJDJUPGmf2pblv/Km7ofKTke1ZAZy3RoGOTPDyBSeiwZKStE3cUEJ\n",
       "EJAEJASkFCjLxV1pvCCQhW1IiS0W3RoG+uVwMdGo7yCPXdU4jN8QMMdDQCKhxZP2\n",
       "e62W5b1i07grLAvbkJJ8ZU+3hr6jMRK/GaLVemISICAJSAhIiZ4Jld/iojR+IlnY\n",
       "hpTw4BrG36w9GocQYEb0elq0pjTUqa1fgIAkIFGGxZP2f/gvv90vKY2sZb8NKfmV\n",
       "oltD+NlDiC3Ox+RSEiAgCUiUbfGkvclB+c3L0/uJlPc2mFRkj7JccVqgaFldkc/A\n",
       "OCb5vy1AQBKQEJCSVC3lda/Y9MaMMt6GlKLgUfyQkJBzr4Q/eNTmzqUkQEASkBCQ\n",
       "EjQjLKdlRen9ccp4lV2KUmsGuzVEdysq+ckfhTS7kgABSUAi9cVTBsuiymxlV6ov\n",
       "iJXZ1bw4cqSr/0R4txm5Y0/U3zw5n45dSYV/cKGsomvOUVON8Cf89sj7Ex2P7tUb\n",
       "/oQnhxNbO3vM8QQkkujMmTNNTU07duxobGw8depUgS85cOBAeMn+/fvD3xNVPGXw\n",
       "T57ldK/YtO8hKcttSO7bm+TzLWlpJMpsMlK/IxPFoSj5RKMU/hT+GyM8ObpaGKcm\n",
       "t+5FQBKQSIT6+vpJkybdek5VVdX69esHeX5PT8+mTZvC0+KXhJdv3rxZQBpG5bT1\n",
       "Je0BqSy3IaX0tlTl3a0hyiHJnB9bbpc3FOFUjELRMN60N8Sq6LdllJeisOTiEgKS\n",
       "gEQJNDc3V1RUhDN78eLF27ZtW7FiRfTlrl27BnpJeFp4wrhx41avXr19+/alS5dG\n",
       "L/nhD3+YkOIpgzVR5dS5S1NBkW8Y80O5zheTnI7y3mQ2LyXFETEKRSP9SYX/XN+w\n",
       "ZMaCgCQgUSTz5s0Lp/XKlSvjIxs2bAhHampq+n1+d3f31772tbwE9eijj4Yj3/rW\n",
       "twSk4VJOtygtg0ltmW1DSu91gKi1mnRU8pwQ3m12LiWFnzTkk9JuxIrCUryKz2Ul\n",
       "BCQBiRHU1dUVrZRrb2+PD3Z2do4fPz4cPH78eN+XvPDCC+Ghv/u7v+vp6YkPhmeG\n",
       "gxMnTkxC8ZTHv/eX01WLMliWU2YXLtK+Jaz8/ik9dZdlMtK5IfyA0Tq6hJxycR+I\n",
       "6LKSpBQGJLrUltsbo99mGPGf6JnRn7yHouYocXeNvO8Q/itWPApIAlJWtLW1hXO6\n",
       "uro673hdXV043tjYzyzq6NGjd9111/333593MDx/ypQpSSie8rj2Uk4BqQwuv5TT\n",
       "NqS0h73yW/EYzcBS+kGUZUZKwiWjAn8vxQvwsjBxz+sTGGeYOPYM+yDEG8OiK3jx\n",
       "ise4J0d00GRSQBKQSqyzs/N73/ve3LlzoyiyZ8+eAjvODaS5uTmc0zNnzsw7vmDB\n",
       "gnD8ySefLPD7LF++PDw/vEpAkivyz42y2EwlryZKOU1KUpqO4roos84N0R23knPJ\n",
       "qMBPIVp6Wn5blaIT7CL7BI5oWouzU3zpKQ5O5ToRjX7q3Etw0ZU3AUlAKplZs2Zd\n",
       "ffXVo84JRz784Q9fccUVd99995C/54EDB8I5XVdXl3d82bJl4fiOHTvO+x16enrW\n",
       "rFkT9b5rbR3w9/Lo0aPf8IY33NpHOBge6vf5Qz6eOyO/mO9T8uMv/6p9743pff/R\n",
       "8VHv/vO+/1eRxs8ldxaY3vMq+n+1VNfFy8ffe+Oor/xTqusiOp43kUrv5xJNW1N9\n",
       "Xr28mu4r/zS6+rt9w16afq6PVUTXvnIX4KXp/y/eeE1eInr5vLr5rtEfvCkd4//e\n",
       "G3O7EUbh4eUlf+HUeiW+5i7VCz9sot5/eD+jrntfbviJkk9487mrFq+9bdU7Jy79\n",
       "wIRvv+HPxr/hD/9qzPhZnxj3jWhGZ6IuIJXA5MmTo1x07bXXxgHp05/+dPT36dOn\n",
       "D+3b7t+/v9+AtHjx4kICUkhE0WK8CRMm/OhHPxr8yUUrnrLp/1Ye+17K5l80y+Pj\n",
       "KJt/7C+Dbg2JuhvsRUrvpaTonYfJX/jfsrkOFu3MyV2Al9hfwvEOotxEVMZzuX6X\n",
       "6vXd6TS8/9Hw/1zxxa688NPvlq3oORe64UpAEpBKYPv27SEFXXrppUuWLAlfXnPN\n",
       "NVFA+vnPfz5jxozw9ze+8Y0nT54cwnc+ePBgOKf7XoO67777Bu/03d3dvW7duqjB\n",
       "Q8hIbW1tySmestkuUh7RomzaG5RB8C6n3vEpavs20K+p8mvHl67ODXGoK/tWE1Hh\n",
       "R5Pgkv/fSt9Vc9GMPLPND6I023enU17HiNwYM/ifvk+OvlVuj4qROAcEJAGpBEKA\n",
       "CSkobqUQB6TIO9/5zvBlIcvh+jp27Fh0/Se3JV0wbdq0cLypqanfV3V1dS1cuDA8\n",
       "4bbbbgvhLe+1JS+esrlkUR5Jr2wuWZTBNqTy25+Q0k+kXJuV9+Y0AZflkvnp5IWl\n",
       "6HfCyP2Kji8QxYvNomHXf6/8CEgCUgl89KMfDREoRJF+A9Lf/u3fhi9XrVo1hO/c\n",
       "3d09adKkcFofOXIkPnjy5MnKysqKioqBrkpFm45qa2tffPHFBBaPgJSssi+jOwil\n",
       "PeyV2d2cohpJ3TWxqA1Aef9/VmLjR3auGhUYXeLbK11kP+vc/nJ568eiqxYaZAtI\n",
       "CEjD70tf+lKIQP/yL//Sb0CK4tPQriAFixYtCqf13Llz4wtBUYeGWbNmRV8ePXr0\n",
       "sVdEX4ZQVFVVNXHixAtd1Fe04imbNV1l0I6vnNZ0pf3UKrPPIp6WpetDidJRFm6x\n",
       "mrQokpbO3aU9OfNWecWLtfou7up3HdfQ9q4gICEgDdG8efNCBApBqG9A+rd/+7fL\n",
       "L7/8kksuGXK/77a2tui2sNXV1UuWLLnzzjvD3ysqKuL1dRs3bsztT/LEE09E94S9\n",
       "t48HHnhAQBKQynhSnuofp1zn5SlaaBfeaphQZmruGCXY8AGV8KeO30P53V8YBCQB\n",
       "KdOOHz/+1re+NYSij33sYzt37rzqqqvC35999tmlS5f+xm/8Rvj75z//+Yv5/i0t\n",
       "LbW1tXHr7alTp+7duzd+NApIlZWV0ZerV6++dQDf+MY3klA8Nr0kR5lteonOLmE7\n",
       "adKy0C5r6Sj3XxaipVZF/v0ZXcIqbTwDAQkBaQQ9/vjjr3/960f1513vetdF3i62\n",
       "zIqnnP6lPO2bRsrmal7af6LyS6p5U+Hkfy7lVwtDiCvRLpeRHofc1XRZWM0IApKA\n",
       "lGnPP//8F7/4xTe/+c1xNHr7299+zz33/OxnP1M85RQqyinsld+yrpR2zii/9gx5\n",
       "Et75INUdyYc3ukQd/EZiL1B8RyOr6UBAEpCyqLW1dc+ePcePH1c8ZT8XTPu/Opff\n",
       "vDyNa9XKsj1DX1GzrGRWscYA/YaZ+LY8Q/4tF32fuG+1cQYBSUBC8fT//5fl1EJX\n",
       "27QETuxSd4JlZ3FXAn/SaFGZ3/+D/5aIrilFSXKQTzC+n2YUiqL9RSN010tAQBKQ\n",
       "kuimm256z4V47rnnFE9v2W1GT/WtkMr1wkXq8kbZr6/LLf9EreqMpv7+76zAf3qI\n",
       "bqQT30Inr4t09PcocApFICAJSBl1/fXXj7oQhw8fVjzlNylPdUAq18YA6TrHyrs9\n",
       "Q78lk5BLfNFc3/+XAQISAtKwefzxx7+X40/+5E9CCrryyivHjRu3cuXK9evXL168\n",
       "+EMf+lCUjhYuXPjTn/5U8ZRfQEr1BbFyXdmVrlV2GbktaV4mLPkvgYQ3jQAQkASk\n",
       "1PvhD394ySWXXHXVVQcOHMh76H/+z/8ZAtL111/f09OjeAQkU3PZr4zL4YISbAkv\n",
       "vUpHgICEgDTixo8fH1LQvffe2++jH/jAB8KjTz/9tOLpTfmatIGmemkt+PLd+pKW\n",
       "0yxr6+vyCqckITa6Kar/2wIEJASkkRWtr/vBD37Q76Nf+cpXwqMPP/yw4inLGWFK\n",
       "Y0Z5X7tIy5W97LRnSEhQkY4AAQkBqUg++9nPhgj0f/7P/+n30TFjxoRHt2zZonjK\n",
       "MiCldKFaeQekVFzZy+b6ulxRM+hiDriuDICAhIBUJN/61rdCBPr93//906dP5z20\n",
       "bt26Sy+99JJLLjl58qTi6S3HxgAp/YnKfnFX8j+XDLZn6Jtji3aTVukIEJAQkIqq\n",
       "qanpda97XchI73vf++6///6Wlpaf/OQne/bsueOOO6644opw/FOf+pTiKddJYUoD\n",
       "UtnfnDTh25DK7IZgF3kqjvQn5X5HgIBkEASkEli5cuUll1zS7x2Q3vWudyX/8pGA\n",
       "VK4T8ex8EHkSvsous+0Z+v2kRnStnXQEICAJSCXT0NDwiU984vLLL4+j0XXXXTd7\n",
       "9uwzZ84oHgEpcdWegfYASb5KluX2DAPV0bAH2pL3EwcQkAQkXtbd3f3MM8889dRT\n",
       "p06dUjxZmBemca1URtoDJPYqjfYMg2Sk4foHlOi7lfc6UgABSUBKrjNnzhw7nxCc\n",
       "FI+AZILuo+nNwAawizkzL/46UtT7wbI6AAFJQCqlmpqaUedz+PBhxZPq26oOInU/\n",
       "VEY2wCT2fLO+7ryf2pDXxYXkGYbXsjoAAUlASnpAuuqqq/793/9d8ZRr567UzXez\n",
       "cwUjgT+p9gyFZKRogVz43wJX3MUv0TwdQEASkBKhs7PzdB+HDh36zne+8/a3v/0t\n",
       "b3lLQ0OD4ukt35VdqZuTleV1vH4lsIWGGfwFxaQQccMvjUFGbAhpCkBAQkAqpaef\n",
       "fvoNb3jDNddc09PTo3jKNSCl7oJMdpZ4JW2VnfYMQ/gEo3u85v4JYxj9CWeyPnUA\n",
       "ApKAlD6f+cxnRo0a1djYqHjKdXaYrkVTWbtFaaICkvV1AAhIAhK9f/3Xfx0C0oMP\n",
       "Pqh4UnrLoDL7ubJ2ESNRmUR7BgAEJAEp69rb21/3uteFgLR9+3bFU67/fJ6uyJG1\n",
       "ixjJuWJmfR0AApKAlBWbNm36en9uvvnmK6+8MqSj8L8vvvii4inXqXm6Fq1lcJVX\n",
       "QjaJZac3BgACkoCUdYO3+X7Vq161dOlSxdNbvt2l03V/pwx2UUvCGkiXjwAQkASk\n",
       "DPne975X2Z/bb7997ty5Bw8eVDzlPTVPV0DK4DaYJHxA2bn3FAACkoCE4sl6QErR\n",
       "j5a1FnYJySfpitAAmOMhIF2szZs3T506ddeuXf0+umDBgvCoPUi9ZX3tIi3XBzK7\n",
       "0Ku0q+x09wZAQBKQsiXag7Rw4cJ+H/2DP/iD8Ojhw4cVTxkHpLTMgDM7Uy/tNRzd\n",
       "vQEQkASkTPjBD36w5RW33HJLiEBf/epXt/Sxdu3aN73pTeHR1tZWxVPG08S03Aop\n",
       "y5cySnWVT3sGAAQkASkrrr766lGFCRmpq6sr48VT3tsw0jIJzmALu5J/RlkecwAE\n",
       "JAEpW37/93//Ha9485vfHFLQr/3ar72jj9/+7d/+4z/+44ceekjxlHd7gLT8dFle\n",
       "61WSiO7yEQACkoCURYPvQVI8WZgppuL6WGZb2MWKv8pOd28ABCQBKYsWLVp0ww03\n",
       "PPzww4pHQEoyVzOKHxG1ZwBAQBKQUDwZnZ0nf6tJWjpJlE2O1d0bAAFJQMqQu+66\n",
       "6wtf+MKcOXPC3x9++OEvnM9PfvKTjBdP2c/Ok7+Yyny9yB+Ty0cACEgCUoZcf/31\n",
       "o0aN+ou/+Ivec3uQBuc+SGW/uCv58UM7td4irrKzoBEAAUlAypaFCxfOmDHjwQcf\n",
       "DH/fvn37jPN56aWXBKTyPiWSf4nMBY3eIq6yE0cBEJAEJBTPYMq+f1rCrxiU932o\n",
       "LjSrF+Fan8tHAAhIAhKKZzBlPztPeBNtK76KGdfD2a67NwACkoCULVOmTPnChdCk\n",
       "oewDUsIv0WhhlxeQRi7AyKIACEgCUhZFTRoKp0mDgFRaWtjlGtHLfaMmb7H7CAAB\n",
       "SUDKnGXLls24EJo0ZKFDQJL35esZkGeELiLVbjjk8hEAApKAhOIRkEZwzm38R8JI\n",
       "XPEL39PlIwAEJAGJXzp9+vSWLVsWLlw4ffr073znO08++WRPT4/i6c1MC7XELmPT\n",
       "wq44gTZ8Qxu9ABCQBCRe1t3d/Q//8A9XX3113taj97///Zs2bVI8Ce/wNlwS2whB\n",
       "24Ai5MZwkrtMB4CAJCDxC1OmTIkS0WWXXfaud73rxhtvfOtb3xof2blzZ8aLJyMT\n",
       "9MT+mFrYDWQYL/qNmd+gDQYAApKAxMu2bdsWZaGvfOUrra2/nCE98cQTN9xwQzj+\n",
       "9re/XUDKQkBK7IUyLewGMlwXkTJyjRQAAUlAoiB33XVXSEGf+cxn+j50/PjxaN3d\n",
       "oUOHslw8GQlIid3qo4XdSKfHJPfnAEBAMggCUrH9xV/8RYhA//zP/9zvo5/73OfC\n",
       "ow8//HCWiycjS7wSG5DsjRnRTy3kK5ePABCQBCTyI9DmzZv7ffTmm28Ojz7yyCNZ\n",
       "Lp7sLPFK5rUaAWlEz8/wobt8BICAJCDxS3V1dSECfe1rX+v70OnTp6+99trw6HPP\n",
       "PScgZeFkSOBSKy3szmvIF5GiGx9JRwAISAISv+Lo0aPXXXfdJZdcsnDhwrNnz8bH\n",
       "X3jhhWj13c0335zx4hGQBKTku9CMJB0BICAJSPTv0Ucf/W//7b9FjexGjx79+c9/\n",
       "fty4cR//+Mdf+9rXRge/+MUv3ppj48aNWSue7GxhT+BuKy3sCv/sCl8hGZ6mrzcA\n",
       "ApKARP9qampGXYjZs2dnrXiy00UtgZdrtLAbiYwkHQEgIAlIDGjz5s1TL8S2bdsE\n",
       "pHKVwPvhCEgX+gmet+lC+IitWgRAQBKQUDwXcW5lpotaAjt9a2E3hA8xRKCBlkpK\n",
       "RwCY4wlIKB5z9BQHJLP5IWekrS0nok1lYQzDl+E0TuZ9rgBAQBKQEufFF1/8x3/8\n",
       "x3Hjxv1/Azh27Fhmiyext08dIYla0qaF3UVmpCgghWHUrQ4AAUlAolDHjx8fPXr0\n",
       "4I0ZDh8+nNniSeC2nBGVqJZ9WtgBgIBkEASkYvvmN78ZItCll1560003ff3rX/9G\n",
       "f06cOJHZ4hGQSkiHBgAQkAyCgFRsn/zkJ0NAmjVrluLpV9ZWeSXqVkg6NACAgGQQ\n",
       "BKRi+7M/+7MQkLZv3654BKRE/bxZ2/0FAAhIAlIiRDeK/fu//3vF069EXVEpguQs\n",
       "KdShAQAQkASkEvi3f/u3yy+//G1ve9uBAwcUj4CUnOs2WRt5AEBAEpCSYvXq1VG3\n",
       "uhtvvHFif9rb2zNbPFlrpJacgKSFHQAgIAlIJfDCCy+8853v1ObbND2WkICkhR0A\n",
       "ICAJSCUwZ86cEIEuueSSD3/4wxMnTpzcnyxfQUpU2+viSMgeJC3sAAABSUAqgU99\n",
       "6lMhIM2YMUPx9CuD1zGSEJCydvspAEBAEpCS4jOf+UwISE888YTiEZAiSWiNoIUd\n",
       "ACAgCUilcc8994SAtGjRIsXT/4mVvYVeSQgnOjQAAAKSgFQaR48evfbaa6+++urm\n",
       "5mbFIyD1JmN5Wwa3fgEAApKAlAi7du2qqKgYNWrU5ZdffvPNN3+9Py+++KKAlB1J\n",
       "6PSthR0AICAJSKVRU1Mz6nwy2+Y7OTcFylo+0cIOABCQBKTS+N73vld5PsePH89m\n",
       "8WS2l1ppV7jp0AAACEgCUkIdOHBgypQpL7zwQjaLJ7Mz9doNh0rYy05AAgAEJAEp\n",
       "Wc6cOfPAAw/88R//ccaX2AlIJaGFHQAgIAlISbFnz55x48a96U1vijcgXXLJJUeP\n",
       "Hh08TTU1Ne3YsaOxsfHUqVOF/7fa2toef/zx06dP5x0/fvz4830M/p0FpOFV2rWF\n",
       "OjQAAAKSgFRiL7300vz589///vfn9mZ497vfXVdXN3g6qq+vnzRp0q3nVFVVrV+/\n",
       "vsD/6OLFi8NLDh48mHe8pqbm1j7Wrl1b/OIp7YWUEiptdwodGgAAAUlAKplt27Z9\n",
       "6UtfuuKKK3Kj0U033dTQcP4LCM3NzRUVFeHEDVEnfJ8VK1ZEX+7atWvwF3Z0dDz6\n",
       "6KNR8skLSJ2dnZWVlVOmTFn9q/bt21f84snyWq9SpZTMdg4EAAQkAamU2traZs+e\n",
       "/c53vjMORSEjfe5zn7vhhhvC30PgKeSbzJs3L5y1K1eujI9s2LAhHKmpqRnoJSHn\n",
       "fPOb3xw/fnx8aSgvID3zzDPh4P3335+E4slyQCpVIzsdGgAAAUlAKraKiorLLrss\n",
       "ykWvetWrPvKRjyxfvjza5PM3f/M3BQakrq6uqqqqcNa2t7fHBzs7O6PwM1Bn8BCQ\n",
       "7jpn3LhxfQPSzp07w8HNmzcnoXhK2+26tEoVDjO7rBEAEJAEpJK5/vrrQwp6zWte\n",
       "861vfau19VcmwYUHpLa2tnDKVldX5x2vq6sLxxsbz38R4L777usbkB566KFwsKGh\n",
       "Yfv27WvWrAlJ6dChQ6UqniwHpFIFFS3sAAABSUAqTUAKrr322q997WtPPfXUEAJS\n",
       "c3NzOGVnzpyZd3zBggXh+JNPPjm0gHTvvfdGzR5yOzQsXbq0q6tr8OLp10UOVJbb\n",
       "qZWqkZ0WdgCQzSA0QtM5AYmCNDU1TZky5dd//dfjDUjvfe9758yZ8/zzzxcekA4c\n",
       "OBBO2bq6urzjy5YtC8d37NgxtIB0xx13hIOzZ88OESu8z7Vr10ZhqSRd7LI8WS9V\n",
       "swQt7ACAkZ7jCUj0r6ur65FHHvnYxz526aWXxvuRXvva14a/LFq06Lwv379/f78B\n",
       "KWrePbSA1N3d/dhjj23atCn3etHu3buja0rh0SIXT8Yn68X/8Ut7/yUAQEASkHjZ\n",
       "c889N2PGjHe84x3xBaU3vvGNX/nKV37wgx8M8qoQbMIpe/fdd/cbe87b6bt3gCtI\n",
       "/ZoyZUp4Zt52KQFppBV/C5YWdgCAgCQgJUVPT8+WLVtuvvnmyy+/PE5Kv/VbvxUi\n",
       "0E9/+tO+zz927Fg4ZSdMmBBemHt82rRp4XhTU9MQAlL4Vh0dHX23G02fPn3wxg8j\n",
       "UTxuyFP8gKRDAwAgIAlIidPe3j5v3rz3vve9cUw6fPhw36d1d3dPmjQpnLVHjhyJ\n",
       "D548ebKysrKioiL8ZQgBac+ePeFI3gK/zs7OiRMnDtI6fISKx3Kv4jey06EBABCQ\n",
       "BKTkijb/vPGNb3zmmWf6fUJIMuEJc+fOjS8iRR0aZs2aFX159OjRx15RYEAKESgc\n",
       "GTduXHNzc3QkfOcHH3wwHKytrS1y8QhIxR8BAQkAEJAEpKTr6BhwwtrW1hbdFra6\n",
       "unrJkiV33nln+HtFRUW8vm7jxo2D9Gfsdw/SqlWrwsHKysoFCxasXr165syZUYeG\n",
       "lpaWIheP/TDFX2SohR0AICAJSOkWckttbW3cqH7q1Kl79+6NH40CUkg7/b42umNS\n",
       "XkA6e/bsunXrbr/99ugbhtfOnj372WefLX7xCEhFDkgGHAAQkAQkkls8xd+Bk0DF\n",
       "XPNmwAEAAUlAIrnFo6Nab3Eb2RlwAEBAEpAQkBKtmFd1dGgAAAQkAQkBKdGKuS9I\n",
       "hwYAQEASkEhu8RT/NqkJVLRO3zo0AAACkoBEoovHiq/eIjayE5AAAAFJQEJASoHi\n",
       "jIMFjQCAgCQgkejisSUmUpylhuIoACAgCUgISClQnGs7RhsAEJAEJJJbPEXbe5N8\n",
       "Rej0bQMSACAgCUgISOlQhEZ2NiABAAKSgESii6do7a2TrwhZ0QYkAEBAEpBIdPFY\n",
       "9PUr1TXCG4RsQAIABCQBCQEpNUa0kZ2hBgAEJAGJpBdPEToTCEgCEgAgIAlICEjp\n",
       "M6KjoUMDACAgCUgkvXjM2nONaMsKHRoAAAFJQEJASpMRbWSnQwMAICAJSCS9eEZ0\n",
       "142AFLMBCQAQkAQkUlA81n0VJzG6UgcACEgCEgJS+oxQnwbjDAAISAISAlL6jFCf\n",
       "BhuQAAABSUAiBcVj4p5nJLYh2YAEAAhIAhICUloN+zYkAQkAEJAEJFJQPCPa1Tq9\n",
       "hn0bkg4NAICAJCCRguIZ0fuiptewD4uNXgCAgCQgkYLisfSrX8N+Yc06RgBAQBKQ\n",
       "EJBSbBi3IRlkAEBAEpAQkNJtGLch2YAEAAhIAhLpKJ4RuilqGRjGbUg2IAEAApKA\n",
       "RDqKx8WNgQzjNiQbkAAAAUlAQkBKvWHZhmQRIwAgIAlICEjlYFjWHwpIAICAJCCR\n",
       "muIZxl5t5WdYtiG5zRQAICAJSKSmePQPGMSwbEOyAQkAEJAEJASkMnGRV9isrwMA\n",
       "BCQBiTQVj+sbIxqQrGAEAAQkAQkBqXxc5DYkwwsACEgCEmkqnuG61U+5uphtSNbX\n",
       "AQACkoBEmopnWLq0lb0hL5OzvwsAEJAEJAQkAcnYAgACkoBECovHGrCRizruwAsA\n",
       "CEgCEgJSGRraNiTr6wAAAUlAImXFU7vhUPhjSIc97UieAICAJCCRvuKxDKxAF7oN\n",
       "ycACAAKSgISAVLYu9IqQ9XUAgIAkIJG+4hlyA+sMKnysrK8DAAQkAQkBqcyF2FNg\n",
       "qwbX5QAAAUlAIpXFYyXYhebJQpLPqMlbjBUAICAJSAhIZS7q9z34iFlfBwAISAIS\n",
       "aS0e1zouVO2GQ4PnH+vrAAABSUBCQMqK6CLSQBu3wqOGFAAQkAQkUlk80VzfeF6o\n",
       "kI76HbfaDYeMJwAgIAlIpLV4wkR/zPwG4zkEYdxCHMqNmuGIwQQABCQBiRQXj3YC\n",
       "Q5bbrSHkzFGTt+TmJQAAAUlAQkDKlmj0omV17iUFAAhIAhICUtaNmd9gAAEAAUlA\n",
       "okyKp3bDIQvDAAAEJAEJxfMyd+wBABCQBCQUj4AEACAgCUgonl81Zn6D7gIAAAKS\n",
       "gITieVncqBoAAAFJQEJAEpAAAAQkAQnFE51Gk7cYTAAAAUlAQvEISAAAApKAhOI5\n",
       "53B7x+gZ9QYTAEBAEpBQPL1bW06Mmd9gMAEABCQBCcUjIAEACEgCEornnOW7W8eu\n",
       "ajSYAAACkoCE4hGQAAAEJAEJxXNO7YZD4Y/BBAAQkAQkFE/v2FWNy3e3GkwAAAFJ\n",
       "QELxCEgAAAKSgITiEZAAAAQkAQnFk2fM/IatLScMJgCAgCQgoXh6R8+oP9zeYTAB\n",
       "AAQkAQnFIyABAAhIAhIj78yZM01NTTt27GhsbDx16lThL2xra3v88cdPnz5dnOIZ\n",
       "NXmLDwsAQEASkBhB9fX1kyZNuvWcqqqq9evXF/jaxYsXh5ccPHhQQAIAEJAQkFKv\n",
       "ubm5oqIinNkh6mzbtm3FihXRl7t27Rr8hR0dHY8++miUqYoTkA63d4yeUe8jAwAQ\n",
       "kAQkRsq8efPCab1y5cr4yIYNG8KRmpqagV6yb9++b37zm+PHj48vOhUnIG1tOTFm\n",
       "foOPDABAQBKQGBFdXV1VVVXhtG5vb48PdnZ2RuHn+PHjAwWku84ZN25c0QLS8t2t\n",
       "Y1c1+tQAAAQkAYkR0dbWFs7p6urqvON1dXXheGPj+dPIfffdJyABAAhICEjloLm5\n",
       "OZzTM2fOzDu+YMGCcPzJJ58c3oDULwEJACAVQejip3MISEl34MCBcE7X1dXlHV+2\n",
       "bFk4vmPHjuENSBf5bms3HAp/fGoAAIkKTgZBQCof+/fv7zcgRc27kxaQxq5qXL67\n",
       "1acGACAgCUiMiBBswjl999139xt7ztvpW0ACABCQDIKAVD6OHTsWzukJEyb09PTk\n",
       "Hp82bVo43tTUlKiANGZ+w9aWEz41AAABSUBiRHR3d0+aNCmc1keOHIkPnjx5srKy\n",
       "sqKiIvwlUQFp9Iz6w+0dPjUAAAFJQGKkLFq0KJzWc+fOjS8iRR0aZs2aFX159OjR\n",
       "x14hIAEAICAJSGWura0tui1sdXX1kiVL7rzzzvD3ioqKeH3dxo0bB2ngWMyANGry\n",
       "Fp8XAICAJCAxslpaWmpra+NO9lOnTt27d2/8aBSQKisr+31tdMckAQkAQEBCQKJ4\n",
       "xXO4vWP0jHrDCAAgIAlIKJ7erS0nxsxvMIwAAAKSgITiEZAAAAQkAQnFc87y3a1j\n",
       "VzUaRgAAAUlAQvEISAAAApKAhOI5p3bDofDHMAIACEgCEoqnd+yqxuW7Ww0jAICA\n",
       "JCCheAQkAAABSUBC8QhIAAACkoCE4skzZn7D1pYThhEAQEASkFA8vaNn1B9u7zCM\n",
       "AAACkoCE4hGQAAAEJAEJxROfPZO3GEMAAAFJQELxCEgAAAKSgITiOedwe8foGfXG\n",
       "EABAQBKQUDy9W1tOjJnfYAwBAAQkAQnF07t8d+vYVY3GEABAQBKQUDwCEgCAgCQg\n",
       "oXgEJAAAAUlAQvHkqd1wKPwxhgAAApKAhOLpHbuqcfnuVmMIACAgCUgoHgEJAEBA\n",
       "EpBQPOeMmd+wteWEMQQAEJAEJBRP7+gZ9YfbO4whAICAJCCheAQkAAABSUBC8cSn\n",
       "zuQtBhAAQEASkFA8AhIAgIAkIKF4zjnc3jF6Rr0BBAAQkAQkFE/v1pYTY+Y3GEAA\n",
       "AAFJQELxCEgAAAKSgITiOWf57taxqxoNIACAgCQgoXgEJAAAAUlAQvGcU7vhUPhj\n",
       "AAEABCQBCcXTO3ZV4/LdrQYQAEBAEpBQPAISAICAJCCheAQkAAABSUBC8eRxl1gA\n",
       "AAFJQELxCEgAAAKSgITiyTtvJm8xegAAApKAhOIRkAAABCQBCcVzzuH2DkvsAAAE\n",
       "JAEJxfOyrS0nxsxvMHoAAAKSgITi6V2+u3XsqkajBwAgIAlIKB4BCQBAQBKQUDzn\n",
       "1G44FP4YPQAAAUlAQvH0jl3VuHx3q9EDABCQBCQUj4AEACAgCUgonnPGzG/Y2nLC\n",
       "6AEACEgCEoqnd/SM+sPtHUYPAEBAEpBQPL2jJm8xdAAAApKAhOIRkAAABCQBCcVz\n",
       "zuH2jtEz6g0dAICAJCCheHq3tpwYM7/B0AEACEgCEoqnd/nu1rGrGg0dAICAJCCh\n",
       "eAQkAAABSUBC8ZxTu+FQ+GPoAAAEJAEJxdM7dlXj8t2thg4AQEASkFA8AhIAgIAk\n",
       "IKF4zhkzv2FrywlDBwAgIAlIKJ7e0TPqD7d3GDoAAAFJQELx9I6avMW4AQAISAIS\n",
       "ikdAAgAQkAQkFM85h9s7Rs+oN24AAAKSgITi6d3acmLM/AbjBgAgIAlIKJ7e5btb\n",
       "x65qNG4AAAKSgITiEZAAAAQkAQnFc07thkPhj3EDABCQBCQUT+/YVY3Ld7caNwAA\n",
       "AUlAQvEISAAAApKAhOI5Z8z8hq0tJ4wbAICAJCCheHpHz6g/3N5h3AAABCQBCcUj\n",
       "IAEACEgCEoonPl0mbzFoAAACkoCE4uk93N4xeka9QQMAEJAEJBRP79aWE2PmNxg0\n",
       "AAABSUBC8fQu3906dlWjQQMAEJAEJBSPgAQAICAJSIyYM2fONDU17dixo7Gx8dSp\n",
       "Uxf/kuPHjz/fx+Df+YKKp3bDofDHBwcAICAJSAyz+vr6SZMm3XpOVVXV+vXrL/Il\n",
       "NTU1t/axdu3a4Sqesasal+9u9dkBAAhIAhLDqbm5uaKiIpy4ixcv3rZt24oVK6Iv\n",
       "d+3aNeSXdHZ2VlZWTpkyZfWv2rdvn4AEACAgISAl17x588JZu3LlyvjIhg0bwpGa\n",
       "mpohv+SZZ54JX95///0jVzxj5jdsbTnh4wMAEJAEJIZNV1dXVVVVOGvb29vjg52d\n",
       "nePHjw8Hjx8/PrSX7Ny5M/x98+bNI1c8o2fUH27v8AkCAAhIAhLDpq2tLZyy1dXV\n",
       "ecfr6urC8cbGxqG95KGHHgp/b2ho2L59+5o1a0JSOnTo0PAWj4AEACAgCUgMs+bm\n",
       "5nDKzpw5M+/4ggULwvEnn3xyaC+59957o84NuR0ali5d2tXVNXjx9Kv/c2XyFh8f\n",
       "AECigtAFTecQkJLowIED4ZStq6vLO75s2bJwfMeOHUN7yR133BH+Pnv27JCXmpqa\n",
       "1q5dG4WlYexiJyABAKQlOBkEASk19u/f32/aWbx48UAB6bwv6e7ufuyxxzZt2pR7\n",
       "vWj37t3RNaXw6MUXz9aWE2PmN/j4AAAEJAGJ4XTw4MFwyt599915x++7776BOn0P\n",
       "4SWRKVOmhCe0trZefPEs3906dlWjjw8AQEASkBhOx44dC6fshAkTenp6co9PmzYt\n",
       "HG9qahrCS8Lxjo6OvtuNpk+fPlDjBwEJAEBAQkAqve7u7kmTJoWz9siRI/HBkydP\n",
       "VlZWVlRUhL8M4SV79uwJjy5atCj3VZ2dnRMnThyodfiFFk/thkPhj48PAEBAEpAY\n",
       "ZiHJhLN27ty58RWhqN3CrFmzoi+PHj362CsKfEmIQOHv48aNa25ujh4NT3vwwQfD\n",
       "wdra2mEpHgEJAEBAEpAYEW1tbdE9Xqurq5csWXLnnXeGv1dUVMTr6zZu3JjXn/G8\n",
       "L1m1alU4UllZuWDBgtWrV8+cOTPq0NDS0jIsxTN2VePy3a0+OwAAAUlAYviF3FJb\n",
       "Wxs3qp86derevXvjR6OAFNJO4S85e/bsunXrbr/99ujR8NrZs2c/++yzw1U8Y+Y3\n",
       "bG054YMDABCQBCQUT+/oGfWH2zuMGACAgCQgoXgEJAAAAUlAQvHEJ8rkLYYLAEBA\n",
       "EpBQPAISAICAJCCheM453N4xeka94QIAEJAEJBRP79aWE2PmNxguAAABSUBC8fQu\n",
       "3906dlWj4QIAEJAEJBSPgAQAICAJSP9/e/cCZHVZ9wH8NZWwQkpruo+KZWTeJied\n",
       "salIzabLqwWBNRa+jcRyRyEYoAjkIgyXlJsoCIqQXIJUSMDCFpBNbi4IxGXdEURA\n",
       "jMsKgchll/enz8vpeJbdPb7VqJzPZxjnnGefc/v5f55zvuf8/88fg+eEvvNfiH/K\n",
       "BQAgIAlIGDzH/2fq+geX71AuAAABSUDC4BGQAAAEJAEJg+eE8weUbN5zSLkAAAQk\n",
       "AQmDR0ACABCQBCQMnsxW0uUptQIAEJAEJAweAQkAQEASkDB4spw/oEStAAAEJAEJ\n",
       "g+cNTcaUqhUAgIAkIGHwvOF/pq5XKwAAAUlAwuA53nf+C/FPrQAABCQBCYPHWWIB\n",
       "AAQkAQmD54QmY0qLyyvUCgBAQBKQMHicJRYAQEASkDB4MpuIkyABAAhIAhIGT9i8\n",
       "55CTIAEACEgCEgbPGx5cvsMa3wAAApKAhMEjIAEACEgCEgZPFmt8AwAISAISBo+A\n",
       "BAAgIAlIGDxvZY1vAAABSUDC4DmxfVjjGwBAQBKQMHgEJAAAAUlAwuD5p+LyiiZj\n",
       "SlUJAEBAEpAweKzxDQAgIAlIGDwn9J3/QvxTJQAAAUlAwuCxxjcAgIAkIGHwnNBk\n",
       "TGlxeYUqAQAISAISBo+TIAEACEgCEgZPZuOwxjcAgIAkIGHwhM17Dp0/oESJAAAE\n",
       "JAEJg8ca3wAAApKAhMEjIAEACEgCEgZPDmt8AwAISAISBo+ABAAgIAlIGDxvZY1v\n",
       "AAABSUDC4DmxZVjjGwBAQBKQMHgEJAAAAUlAwuD5p+LyiiZjStUHAEBAEpAweKzx\n",
       "DQAgIAlIGDwn9J3/QvxTHwAAAUlAwuCxxjcAgIAkIGHwnGCNbwAAAUlAwuARkAAA\n",
       "BCQBCYMnZ7OwxjcAgIAkIGHwhM17Dp0/oERxAAAEJAEJg8ca3wAAApKAhMEjIAEA\n",
       "CEgCkhIYPDms8Q0AICAJSBg8AhIAgIAkIGHwvJU1vgEABCQBCYPnxDZhjW8AAAFJ\n",
       "QMLgEZAAAAQkAQmD55+KyyuajClVGQAAAUlAwuCxxjcAgIAkIGHwnNB3/gvxT2UA\n",
       "AAQkAQmDxxrfAAACkoCEwXOCNb4BAAQkAQmDR0ACABCQEJAMnixWaAAAEJAEJAye\n",
       "/+MAJAAAAUlAwuA5sTU4RSwAgIAkIGHwHLd/HQCAgISAZPBkLlueAQBAQEJAMnje\n",
       "UFxe0WRMqYIAAAhIAhIGj+UZAAAEJAQkg+fE4LF/HQCAgISAZPC8MXgszwAAICAh\n",
       "IPF/g8f+deYUlVEZlVEWlVEZlVEZBKRTzcGDBzdt2rRkyZL169fv378//8Hj9Efm\n",
       "FJVRGZVRFpVRGZVRGQSkU0pJSUmnTp1an9CuXbt58+blM3jsX2dOURmVURllURmV\n",
       "URmVQUA6pZSVlRUVFcVIGDdu3KJFiyZPnpyuLlu2rM7BY3kGc4rKqIzKKIvKqIzK\n",
       "qAwC0illxIgRMQweeeSRTMv8+fOjpU+fPrXf8L/b/trpj8wpKqMyKqMsKqMyKqMy\n",
       "CEinjqNHj7Zr1y6GwZ49ezKNR44cad++fTTu3r27ltte1PEByzOYU1RGZVRGWVRG\n",
       "ZVRGZRCQTh07d+6MMdCtW7ec9sGDB0f7+vW1HV/U4PbZ9q8zp6iMyqiMsqiMyqiM\n",
       "yiAgnTrKyspiDAwcODCnfezYsdG+dOnSWm57UccHFNCcojIqozLKojIqozIqg4B0\n",
       "6ti4cWOMgcGDB+e0T5gwIdqXLFlS++ABAODU40OygFS4NmzYcNKANG7cuDoDEgAA\n",
       "ICCdUp5//vkIQv369ctpHz16dD4rfQMAAALSqWPXrl0RhDp06FBVVZXd3rt372jf\n",
       "tGmTEgEAgIBUKCorKzt16hRZaMuWLZnGffv2tWnTpqioKC4oEQAACEgF5P7774+A\n",
       "NGzYsMyPSGmFhkGDBikOAAAISIVl586d6bSw3bp1Gz9+fK9eveJyUVGR/esAAEBA\n",
       "KkTl5eV9+/bNLOzYs2fP1atXKwsAAAhIAAAAAhIAAICABAAAICABAAAISAAAAAIS\n",
       "/7qDBw9u2rRpyZIl69ev379/v4JkV2bjxo1RmQ0bNsRlBanu1VdfXbhwYfZZiQvc\n",
       "gQMHSktLly1b9tJLL6lGdlnWrVu3ePHi+K/TVR9/82QMMXCiLCbkt1WZgp2QaylL\n",
       "gc/GtVemkCfkWipjQhaQqFtJSUmnTp0yC4K3a9du3rx5ylJVVfXnP/85qpGpTFRp\n",
       "wYIFKpNTpbvvvjuKM2fOHNWIt5whQ4YUFRVltplRo0YdPnxYZWLg5Ewyjz32WIHX\n",
       "ZNy4cVGK559/3oScT2VMyDVtMGbjmipjQq6pMiZkAYm6lZWVpekjBtKiRYsmT56c\n",
       "ri5btqzAKxPViDq0bdt2+vTpixcvfuCBB1JlVqxYYbPJnmfTDCsgHTp0aODAgVGK\n",
       "AQMGPPHEE1OnTr3jjjvialwo8MqsWrUq6tCmTZuYXmIojR8/Pn3MXbJkScFuKrNn\n",
       "z04DJ+ezS4FPyLVUppAn5FrKUuCzcS2VKfAJuZbKmJAFJPIyYsSIGBiPPPJIpmX+\n",
       "/PnR0qdPn0IuS2Vl5S9/+cuczyVpuhkyZIjNJtm+fXv79u07duwoIIUnn3wy6jB0\n",
       "6NDYeFLL2rVro6VLly5VVVWFXJn0LWb2N5TTpk2LlmHDhhVaKWKTuPPOO2PUZL67\n",
       "zfnsUrATcu2VKdgJuc4NpmBn4zorU7ATcp2VMSELSNTt6NGj6ZuDPXv2ZBqPHDmS\n",
       "htbu3bsLtjKvvPJKVKBHjx7ZM2kUJBrjHciWkzae/v37d+3atbi4WEAKUY2ow44d\n",
       "O7IbFy5c+NRTT2XeoQtTvO9GZVavXp1pSV9h9u3btwAD0m9OaNu2bc5nl0KekGuv\n",
       "TMFOyLWXpZBn4zorU7ATcp2VMSELSNRt586dMSq6deuW0z548OBoX79+fcFWZuvW\n",
       "rTG5PPTQQzmNUZbu3bvbcsKsWbOiGqWlpStWrBCQKioqogi9evU6/ua+DRs2bHDk\n",
       "a0ZsG1Gchx9+ONMyYcKEaJkxY0Yhl2X06NE5n11MyDVVxoR80rKYjWuqjAm5lm3G\n",
       "hCwgUbeysrIYFQMHDsxpHzt2bLQvXbpUibI9+OCDUZYojlJs2rSpqKgoZtW4LCCF\n",
       "zZs3RxHGjBnz+9//PvuY4IkTJ8bbc4FvLfG5ZMCAAVGN3/72t/FJLn2z26dPn+zf\n",
       "SQQkE3I+SaCQJ+SaymI2rl4ZE3It24wJWUCibhs3boyBMXjw4Jz29HWCI/Yyqqqq\n",
       "Zs6cmRZ7yfnJvgC99tprPXr06N69e1pmV0AKa9asSYe9xn/vvvvuuXPnTps2rUOH\n",
       "DnF1/PjxBb7BVFZWRkFav9Xs2bML/NCs6p9dTMh5BqTCnJBPWhaz8UkrY0KuZZsx\n",
       "IQtI1G3Dhg0nfT9Ox/AJSEm8AaddXGJ6XbdunYKkj2uZUghImSKE3/3ud5nGLVu2\n",
       "pHfo7du3F3JxJk2alIbPrFmzli9fHu/EnTt3TkvuCkjZn11MyPkEpIKdkE9aFrPx\n",
       "SStjQq5lmzEhC0jULYZNjIp+/fqddFBZ6Tt90ZIOm4635J07d9pmnn322fQl3KET\n",
       "nnnmmWh59NFH4/KxY8cKsyx/+9vf0vtxzmk9R44cGY1//etfC3aDiU2iU6dORUVF\n",
       "ZWVlmca04lZUpqKiQkAyIecZkAp8Qq5eFrNxTZUxIddUGROygERedu3alb5IyPlp\n",
       "tXfv3tG+adOmQi7O0aNH77vvvqhD586dFy9e7NfnZMaMGa1rVlxcXJhlefHFF0+6\n",
       "oNaUKVOivZDPvBzTyElXqR41alS0x+c5AcmEnE9AMiFXL4vZuKbKmJBrqowJWUAi\n",
       "L5WVlelsylu2bMk07tu3r02bNkVFRQW+Blfax71v37579+61qWQsX7587Fv169cv\n",
       "TbhxuWB3QYyhdPvtt0cdcraWoUOHRmMUrWA3mJhbogK//vWvc9qHDx+e1t0SkEzI\n",
       "+QQkE3L1spiNaxlKJuSTVsaELCCRr/vvvz+dICzzhVzap3nQoEGFXJaYVdu1a9ex\n",
       "Y0crNdfJMUjJxIkTow4xoDJ7tqxevTr9IFDIW1Hm3D6LFi3KTDLPPfdc0ZsK+duH\n",
       "k8YAE/JJK2NCPp7f4n6OQTIh114ZE7KARL527tyZ9j3t1q3b+PHje/XqFZdjnBT4\n",
       "/nVpT+54P767mkmTJtlsvCVXV1FR0aNHj/Ql99SpU8eOHZuWl33iiScKvDJ/+ctf\n",
       "0j4/MclMnjx5zJgxqTLZp3L3edeEXEtlTMgC0tutjAm5psqYkAUk8lVeXh4zSGbH\n",
       "5Z49e2afYrkwTZ8+vaYdu6v/Nl3gSktLxYBkx44dI0eOTHtJpaFkKcikpKQkqpEZ\n",
       "RF27do036VP7fPZ1Smc3qv5514RcvTIm5Fo2GLNxTZUxIddUGROygMTbcPDgwa1b\n",
       "t+Ys+QK8XfE2s23btgMHDihFjpheXnzxRQslmZDBhGxCFpAAAAAEJAAAAAEJAABA\n",
       "QAIAABCQAAAABCQAAAABCQDeFYqLix999NHCfO3btm2bPn16WVmZzQBAQALgP2LX\n",
       "rl1n5aFZs2bRuW3btnG5b9++79SzXbVq1RlnnPGtb33rVPpfcO+990ZVb7nlljp7\n",
       "7t69++yzz7788suPHTtm0wUQkAD49/v73//+X3m4/vrro/Ntt90Wl3/1q1+9I081\n",
       "UsGVV1552mmnlZaWnkr/C0aNGhVV/f73v59P5zvvvDM6jx071qYLICAB8O9XVVW1\n",
       "/60uvPDC+Ajes2fP7MbXXnstOk+fPr19+/bz5s17R57q1KlT44k1bdr0FPtf8LYC\n",
       "Uvy/aNCgwcc//vHXX3/d1gsgIAHwH3fRRRfF5/V3cD+6mlxzzTXxxGbPnl3IASnc\n",
       "euut0f+hhx6yrQIISAC8kwFpwoQJLVu2nDlzZrp6zz33xNV169YVFxe3atXqkksu\n",
       "ufrqq7t27bp///746+TJk1u0aNGoUaMrr7yyY8eO27Zty76rFStWtGvX7qqrropb\n",
       "tW3bdtasWbU/q+eeey6e1bnnnnvkyJFM44IFC26++ea4hwsuuCAe+vbbb6++gEE+\n",
       "D/TUU0+lPhdeeOG11147aNCgffv25fRZtmxZ586dv/a1r0Wfm266qX///hUVFZm/\n",
       "ZkqxaNGiNm3aXHrppZ///OebN2++atWqnPt5/PHHb7vttssuu+xzn/tcs2bN4qGr\n",
       "B6TaX9ef/vSn6B9Vta0CCEgAvJMBKecYpG9/+9tx9Sc/+ckZZ5yRfcDSjTfeGDEp\n",
       "5yimyAMpOIXhw4efeeaZOR26dOlSy7MaOnRo9LnhhhsyLcOGDat+rFTDhg3XrFmT\n",
       "6VPnA1VVVfXu3fu0007L6fPZz352+/btmW533XVXzmsM5513XqSm7FJEyqpXr152\n",
       "n7j6zDPPpD7Hjh3r0KFD9ecclckOSHW+rgMHDqTGHTt22FwBBCQA3l0BKVxzzTVP\n",
       "P/30yy+/HIEk85n+uuuumzp16rZt20aPHp1a/vCHPxx/8+eauHz66adHMikvL3/h\n",
       "hRcGDBiQcsWoUaNqelbf+973okNRUVG6evjw4Q984AOpZfPmzfv27VuwYEGjRo2i\n",
       "pUWLFqlPPg80c+bM9NxatmwZSSa6xZ/OPffcaPnOd76T+syZMyf1iZbly5dHLJk+\n",
       "ffonPvGJaPnMZz6Tjs7KlOKKK66Ix41XPWnSpPhrtNx0003pfiZOnJj6tGrVauXK\n",
       "lVu2bJkyZcpHP/rR1JgCUj6vK3zsYx+LlocfftjmCiAgAfDuCkgXXHDBoUOHMn0u\n",
       "ueSS9ItHSg7J1VdfHY2DBg3KdMi5/xEjRkRjPHRNz+qTn/xkdBg8eHC6un79+pQr\n",
       "nn322UyfuXPnnnPOOV/+8pezn0ktD1RVVXXxxRfH1R//+MfZfUaOHBmNZ555ZtrR\n",
       "rnHjxmkdv+if6RNR6v3vf3/mRaVSRNp59dVXM33i2UZjxJu4XFlZef7558fVnOW8\n",
       "44Wk36ZSQMrndYWvfOUr0adjx442VwABCYB3V0Dq169fdp8bb7wxGn/xi19kN0YC\n",
       "icb+/ftnVhXfvn37oSwRRdJvOytXrqz+uJFMUoqYNm1aaom8kX7DidQxfvz46jub\n",
       "5fNAcavUZ8WKFdm3PXLkyPz585988sm4kOmT2VMuo6ioKNrTSZlSKTp16pTdYdWq\n",
       "VdHYoEGDuLxly5bqySdp3rx5JiDV+bqSFi1aRJ+4oc0VQEAC4N0VkO67777sPj/8\n",
       "4Q+jcfjw4dmNP/3pT1NAWrhwYe0nXEq74eXYu3dv+uvSpUszjZMmTTrrrLMyN2zU\n",
       "qFGrVq2Ki4vTX/N5oMWLF6d98Go572rcYfR53/vel/0rWTJu3Lh0JFKmFCNGjMju\n",
       "sHbt2mj80Ic+dPzNdRdqeqwhQ4ZkH4NU++tKunfvHn/6xje+YXMFEJAAeA8HpD/+\n",
       "8Y/pc//5NZg6dWr1x923b1+61ZIlS7Lby8vL43leddVV2Sso/PznP6+qqsrngR57\n",
       "7LFMgKnJ3Llzo0/cf/b+dUk6L9M555xTUymyA1I6kKlevXrVHyIdo5W9il0tryt1\n",
       "iP8F0fLVr37V5gogIAHwHg5I8dE//SCTvVp3PurXrx83nDJlykn/euDAgUg7ERhS\n",
       "liguLs7ngVavXp367927N7u9srIyXtS99967ffv2DRs2pD5bt27NuXm8nGiPGJNP\n",
       "QMrcz8svv5xzP126dKnpPEjVX1dqv+WWW+LqD37wA5srgIAEwHs4IEX2aNCgQVzO\n",
       "nEwp2bJlSzxuo0aNck6XlHHeeeele0hX58yZ07hx4x/96EfZffbv33/22WdHt3vu\n",
       "uSefBzp48ODpp58efUaPHp3dZ/r06Slc7d69O/JVWlaud+/e2X0OHz6clueOmuQT\n",
       "kKL/Bz/4wbg6YMCAnPtJBx2lgFTn60otKTK1bt3a5gogIAHwHg5Icfk3v/lNXP70\n",
       "pz+dOaAogkpa2iGyQU3PqlmzZpk0EtasWZMO6Xn88cczfTZs2JBWlluwYEGeD9Sq\n",
       "Vau0m1xmDYaNGzdedtll0fj1r389tUQ0iqv169fPLBER9/Ozn/0s7XoX/fMJSKFn\n",
       "z55xNWLS7NmzU8vrr78eWSh7me98Xlf41Kc+Vf3hABCQAHjvBaT9+/d/8YtfTDHg\n",
       "0ksvjRySPv1H2Jg/f35NzyoeJfpce+216WpVVdUNN9yQokXkmaZNmzZp0iTdz8UX\n",
       "X5xWGM/ngXbs2JEWEI8+V1xxRVoZPJx11lnr1q1Lff7xj39cfvnlqT3u8Prrr08n\n",
       "SspewS+fgLR3794vfelL6YZf+MIXvvnNb6bfhdIvVCkg5fO6IlalM9tGcLK5AghI\n",
       "APxnpQ/xJw1Ibdq0yf5TSgUPPPDA2wpIx9/8BaZ169YNGzbMrEAQYaCWdBS2bt0a\n",
       "GSZuEvEgtUT+adu2bdpvLalfv/7NN9/8yiuvZG6VzwPt2rWrefPmKaVkznubs/B3\n",
       "POgdd9yROalr5JNIONk/8py0FOm4ow9/+MOZlshaLVu2zDyfeMK33nprOrtu5hik\n",
       "Ol9XWnwvrZ4HgIAEwKlj8+bNy5Yty440tWjatGn1Y4oOHTpUVlZWUlISaSTi0P/7\n",
       "gSorKzdu3Lhy5cp0ctiavPTSS8uXL4+c86+86qqqqni2a9euPXr0aE19anldEfky\n",
       "J6gFQEACoEA9/fTTNa32VjgiLH3kIx+pX7/+7t27bRIAAhIABe273/1uZKTly5cX\n",
       "bAXuuuuu6kvqASAgAVCINm3aVK9eveuuu64wX/7u3bsbNmzYuHHjzIFYAAhIABS0\n",
       "kpKSGTNmHDt2rDADUrz2SIk2AwABCQAAQEACAAAQkAAAAAQkAAAAAQkAAEBAAgAA\n",
       "EJAAAAAEJAAAAAEJAABAQAIAABCQAAAABCQAAAABCQAAQEACAAAQkAAAAAQkAAAA\n",
       "AQkAAEBAAgAAEJAAAAAEJAAAAAEJAABAQAIAABCQAAAABCQAAAAEJAAAAAEJAABA\n",
       "QAIAABCQAAAABCQAAAABCQAAQEACAAAQkAAAAAQkAAAAAQkAAEBAAgAA+Lf6XwE4\n",
       "zxENhLoPAAAAAElFTkSuQmCC\" style=\"clip-path:url(#clipPath2);\" height=\"840\" preserveAspectRatio=\"none\"\n",
       "    /></g\n",
       "  ></g\n",
       "></svg\n",
       ">\n"
      ]
     },
     "metadata": {},
     "output_type": "display_data"
    }
   ],
   "source": [
    "step(smd_ss)"
   ]
  },
  {
   "cell_type": "markdown",
   "metadata": {
    "slideshow": {
     "slide_type": "slide"
    }
   },
   "source": [
    "## Comparison"
   ]
  },
  {
   "cell_type": "markdown",
   "metadata": {
    "slideshow": {
     "slide_type": "notes"
    }
   },
   "source": [
    "![Comparing models in Simulink](images/smdcompare.png)"
   ]
  },
  {
   "cell_type": "code",
   "execution_count": 10,
   "metadata": {
    "slideshow": {
     "slide_type": "subslide"
    }
   },
   "outputs": [],
   "source": [
    "smdcompare"
   ]
  },
  {
   "cell_type": "markdown",
   "metadata": {
    "slideshow": {
     "slide_type": "notes"
    }
   },
   "source": [
    "### Results\n",
    "\n",
    "![SMD Comparison](images/smdresults.png)"
   ]
  },
  {
   "cell_type": "markdown",
   "metadata": {
    "slideshow": {
     "slide_type": "slide"
    }
   },
   "source": [
    "## Models and their uses\n",
    "\n",
    "* Integral models for general solution of high-order, linear and non-linear differential equations.\n",
    "* State-space models for *linear* time-invariant, time-varying and multi-input multi-output (**MIMO**) systems.\n",
    "* Transfer function for linear time-invariant (**LTI**), single-input single output (**SISO**) systems"
   ]
  },
  {
   "cell_type": "markdown",
   "metadata": {
    "slideshow": {
     "slide_type": "slide"
    }
   },
   "source": [
    "## Feedback and suggestions\n",
    "\n",
    "\"**Which bit of this session did you find the most difficult to understand**”\n",
    "\n",
    "Use the Teams [week 1 discussion](https://teams.microsoft.com/l/channel/19%3aa25f34ac58624f56b6a73358b97d2b42%40thread.skype/Week%25201?groupId=8831ec02-d0cc-4627-b070-40b1bff6a4e4&tenantId=bbcab52e-9fbe-43d6-a2f3-9f66c43df268) to post feedback.\n",
    "\n",
    "Or tweet @[eglm03](https://twitter.com/eglm03) hashtag #[eglm03](https://twitter.com/hashtag/eglm03)\n"
   ]
  },
  {
   "cell_type": "markdown",
   "metadata": {
    "slideshow": {
     "slide_type": "notes"
    }
   },
   "source": [
    "## Additional Background Material\n",
    "\n",
    "Background is extra topics, usually references to the recommended text or links to web resources, that are provided to amplify topics that are introduced in the other activities. You are expected to access these materials in your own time. For this chapter, the background reading is all from the [Control Systems Wikibook](https://en.wikibooks.org/wiki/Control_Systems).\n",
    "\n",
    "* [Systems modeling](https://en.wikibooks.org/wiki/Control_Systems/System_Modeling)\n",
    "* [Transfer functions](https://en.wikibooks.org/wiki/Control_Systems/Transfer_Functions)\n",
    "* [State-space equations](http://en.wikibooks.org/wiki/Control_Systems/State-Space_Equations) "
   ]
  }
 ],
 "metadata": {
  "celltoolbar": "Slideshow",
  "kernelspec": {
   "display_name": "MATLAB",
   "language": "matlab",
   "name": "imatlab"
  },
  "language_info": {
   "codemirror_mode": "octave",
   "file_extension": ".m",
   "mimetype": "text/x-matlab",
   "name": "matlab",
   "nbconvert_exporter": "imatlab._exporter.MatlabExporter",
   "pygments_lexer": "matlab",
   "version": "9.9.0.1467703 (R2020b)"
  }
 },
 "nbformat": 4,
 "nbformat_minor": 2
}
