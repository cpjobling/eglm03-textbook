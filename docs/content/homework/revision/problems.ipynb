{
 "cells": [
  {
   "cell_type": "markdown",
   "metadata": {
    "slideshow": {
     "slide_type": "slide"
    }
   },
   "source": [
    "#### Swansea University\n",
    "#### College of Engineering\n",
    "\n",
    "## EGLM03 Modern Control Systems\n",
    "\n",
    "# Homework 1: Revision"
   ]
  },
  {
   "cell_type": "markdown",
   "metadata": {
    "slideshow": {
     "slide_type": "subslide"
    }
   },
   "source": [
    "## Problems"
   ]
  },
  {
   "cell_type": "markdown",
   "metadata": {
    "slideshow": {
     "slide_type": "subslide"
    }
   },
   "source": [
    "1. Find the closed-loop characteristic equation of the system illustrated in Figure 1\n",
    "when:\n",
    "  1. $$G(s) = \\frac{1}{s+1}$$ when $$H(s) = 1,\\;\\frac{1}{s+2}\\; \\mathrm{and}\\; s.$$\n",
    "  2. $$G(s) = \\frac{K(s+2)}{s\\left(s^2 + s +1\\right)}$$ when $$H(s) = \\frac{s+1}{s+10}.$$\n",
    "  \n",
    "  ![Figure 1](fig1.png)\n",
    "  <div style=\"text-align:center\">Figure 1: A Closed Loop System</div>"
   ]
  },
  {
   "cell_type": "markdown",
   "metadata": {
    "slideshow": {
     "slide_type": "subslide"
    }
   },
   "source": [
    "2. A feedback control system has an open-loop transfer function \n",
    "   \n",
    "   $$G(s) = \\frac{K(s + 2)}{(s + 1)(s - 5)}$$\n",
    "   \n",
    "   and unity gain feedback. Find the values of $K$ for which the system is closed-loop stable."
   ]
  },
  {
   "cell_type": "markdown",
   "metadata": {
    "slideshow": {
     "slide_type": "subslide"
    }
   },
   "source": [
    "3. A control system has the root-locus shown in Figure 2. Find the closed-loop poles, natural frequency $\\omega_n$ \n",
    "   and gain $K$ when the damping ratio $\\zeta = 0.0,\\;0.1,\\;0.5\\;\\textrm{and}\\;1.0$. \n",
    "   \n",
    "   What values of gain and damping \n",
    "   ratio satisfy the constraints $2 < \\omega_n \\le 10$ rads<sup>-1</sup>. \n",
    "   \n",
    "   Is it possible to satisfy the following \n",
    "   constraints: rise-time $T_r \\le 0,4$ seconds and peak overshoot $M_p \\le 0.2$ (20%) by adjusting the forward loop \n",
    "   gain only?\n",
    "\n",
    "   ![Figure 1](fig2.png)\n",
    "   <div style=\"text-align:center\">Figure 2: Root Locus Diagram for Question 3</div>"
   ]
  },
  {
   "cell_type": "markdown",
   "metadata": {
    "slideshow": {
     "slide_type": "subslide"
    }
   },
   "source": [
    "4. Sketch the root-locus diagram for the system of Question 2. Find the value of the\n",
    "   open-loop gain that yields closed-loop poles having ideal damping $\\left(\\zeta = 1/\\sqrt{2}\\right)$."
   ]
  },
  {
   "cell_type": "markdown",
   "metadata": {},
   "source": [
    "5. For the system shown in Figure 1\n",
    "   \n",
    "   $$G(s) = \\frac{1}{sT + 1}$$\n",
    "   \n",
    "   and\n",
    "   \n",
    "   $$H(s) = h.$$\n",
    "   \n",
    "   Find the steady-state step error of of the closed-loop system and determine its\n",
    "   system type number. What is the system type number when $h = 1$?"
   ]
  },
  {
   "cell_type": "markdown",
   "metadata": {},
   "source": [
    "6. A general second-order closed-loop control system has the transfer function\n",
    "\n",
    "   $$G_c(s)=\\frac{b_1 s + b_0}{s^2 + a_1 s + a_0}$$\n",
    "   \n",
    "   Find suitable values of the parameters $b_1$, $b_0$, $a_1$, and $a_0$ that provide rise-time\n",
    "   $Tr \\le 0.1$ s, settling-time $T_s \\le 0.5$ s, peak-overshoot $\\%\\mathrm{OS} \\le  20\\%$, zero steady-state \n",
    "   step error and a ramp error of $0.01$."
   ]
  }
 ],
 "metadata": {
  "celltoolbar": "Slideshow",
  "kernelspec": {
   "display_name": "Matlab",
   "language": "matlab",
   "name": "matlab"
  },
  "language_info": {
   "codemirror_mode": "octave",
   "file_extension": ".m",
   "help_links": [
    {
     "text": "MetaKernel Magics",
     "url": "https://github.com/calysto/metakernel/blob/master/metakernel/magics/README.md"
    }
   ],
   "mimetype": "text/x-octave",
   "name": "matlab",
   "version": "0.15.2"
  }
 },
 "nbformat": 4,
 "nbformat_minor": 2
}
