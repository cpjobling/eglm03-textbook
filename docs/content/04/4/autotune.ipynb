{
 "cells": [
  {
   "cell_type": "markdown",
   "metadata": {},
   "source": [
    "# PID Autotuning in MATLAB\n",
    "\n",
    "This section is yet to be written. In the meantime, please review this detailed tutorial from the [Control Systems Tutorial in MATLAB and Simulink](http://ctms.engin.umich.edu/CTMS/index.php?example=Introduction&section=ControlPID).\n",
    "\n",
    "## MATLAB's PID Block\n",
    "\n",
    "MATLAB has introduced a PID block that can be used either from the command-line or within Simulink. The benefit of this block is that it can be used to autotune the PID compensator parameters in-loop.\n",
    "\n",
    "![PID block](pictures/pid-block.png)\n",
    "\n",
    "The continuous-time PID block is to be found in the **Continuous Systems** library in Simulink. The block diagram is as shown below.\n",
    "\n",
    "![PID internals](pictures/pid-bd.png)"
   ]
  },
  {
   "cell_type": "markdown",
   "metadata": {},
   "source": [
    "The transfer function of the PID is\n",
    "\n",
    "$$D_\\mathrm{PID} = P\\left(1 + I\\frac{1}{s} + D \\frac{N}{1 + N\\frac{1}{s}}\\right)$$\n",
    "\n",
    "which reduces to\n",
    "\n",
    "$$D_\\mathrm{PID} = P\\left(1 + I\\frac{1}{s} + D \\frac{sN}{s + N}\\right)$$\n",
    "\n",
    "By comparison with the standard PID\n",
    "\n",
    "$$D_\\mathrm{PID}(s) = K_{\\rm{prop}}\\left(1 + T_Ds + 1/\\left( T_I s\\right)\\right)$$\n",
    "\n"
   ]
  },
  {
   "cell_type": "markdown",
   "metadata": {},
   "source": [
    "where $$P = K_\\mathrm{prop}$$\n",
    "\n",
    "$$T_D = ND$$\n",
    "\n",
    "$$T_I = 1/I$$"
   ]
  },
  {
   "cell_type": "markdown",
   "metadata": {},
   "source": [
    "There is an extra pole at $s = -N$ which is there to limit the high-frequency gain of the Proportional+Derivative term."
   ]
  },
  {
   "cell_type": "markdown",
   "metadata": {},
   "source": [
    "In addition to the pole at the origin which is introduced by the integral term, The MATLAB PID has a proportional gain, two zeros, and an additional pole. Thus there are four parameters which can be adjusted to give a range of possible structures."
   ]
  },
  {
   "cell_type": "markdown",
   "metadata": {},
   "source": [
    "## Autotuning the PID"
   ]
  },
  {
   "cell_type": "markdown",
   "metadata": {},
   "source": [
    "Let us repeat the previous example ([See 4.2 Manual Tuning](../2/tuning)). \n",
    "\n",
    "Here we have:\n",
    "\n",
    "$$G(s) = \\frac{1}{5s^2 + 6s + 1}$$\n",
    "\n",
    "and we ended up with\n",
    "\n",
    "$$D_{\\mathrm{PID}}= K_{\\mathrm{prop}} \\left(1 + T_D s + \\frac{1}{T_s} \\right)$$"
   ]
  },
  {
   "cell_type": "markdown",
   "metadata": {},
   "source": [
    "with $K_{\\mathrm{prop}} = 19$, $T_D = 4/19$, $T_I = 2$."
   ]
  },
  {
   "cell_type": "markdown",
   "metadata": {},
   "source": [
    "Setting the PID with the equivalent values"
   ]
  },
  {
   "cell_type": "code",
   "execution_count": 1,
   "metadata": {},
   "outputs": [
    {
     "name": "stdout",
     "output_type": "stream",
     "text": [
      "\n",
      "D =\n",
      " \n",
      "             1      1          \n",
      "  Kp * (1 + ---- * --- + Td * s)\n",
      "             Ti     s          \n",
      "\n",
      "  with Kp = 19, Ti = 2, Td = 0.211\n",
      " \n",
      "Continuous-time PID controller in standard form\n",
      "\n"
     ]
    }
   ],
   "source": [
    "P = 19; D = 4/19; I = 2;\n",
    "D = pidstd(P, I, D)"
   ]
  },
  {
   "cell_type": "markdown",
   "metadata": {},
   "source": [
    "In MATLAB we use"
   ]
  },
  {
   "cell_type": "code",
   "execution_count": 2,
   "metadata": {},
   "outputs": [
    {
     "name": "stdout",
     "output_type": "stream",
     "text": [
      "\n",
      "G =\n",
      " \n",
      "         1\n",
      "  ---------------\n",
      "  5 s^2 + 6 s + 1\n",
      " \n",
      "Continuous-time transfer function.\n",
      "\n"
     ]
    }
   ],
   "source": [
    "s = tf('s');\n",
    "G = 1/(5*s^2 + 6*s + 1)"
   ]
  },
  {
   "cell_type": "code",
   "execution_count": 3,
   "metadata": {},
   "outputs": [
    {
     "name": "stdout",
     "output_type": "stream",
     "text": [
      "\n",
      "Go =\n",
      " \n",
      "  4 s^2 + 19 s + 9.5\n",
      "  ------------------\n",
      "  5 s^3 + 6 s^2 + s\n",
      " \n",
      "Continuous-time transfer function.\n",
      "\n"
     ]
    }
   ],
   "source": [
    "Go = series(D,G)"
   ]
  },
  {
   "cell_type": "code",
   "execution_count": 4,
   "metadata": {},
   "outputs": [
    {
     "name": "stdout",
     "output_type": "stream",
     "text": [
      "\n",
      "Gc =\n",
      " \n",
      "      4 s^2 + 19 s + 9.5\n",
      "  ---------------------------\n",
      "  5 s^3 + 10 s^2 + 20 s + 9.5\n",
      " \n",
      "Continuous-time transfer function.\n",
      "\n"
     ]
    }
   ],
   "source": [
    "Gc = feedback(Go,1)"
   ]
  },
  {
   "cell_type": "code",
   "execution_count": 5,
   "metadata": {},
   "outputs": [
    {
     "data": {
      "image/png": "[encoded data removed]",
      "text/plain": [
       "<IPython.core.display.Image object>"
      ]
     },
     "metadata": {},
     "output_type": "display_data"
    }
   ],
   "source": [
    "step(Gc)"
   ]
  },
  {
   "cell_type": "markdown",
   "metadata": {},
   "source": [
    "We can now use this design as a baseline for autotuning the PID"
   ]
  },
  {
   "cell_type": "code",
   "execution_count": 6,
   "metadata": {},
   "outputs": [],
   "source": [
    "pidTuner(G,D)"
   ]
  },
  {
   "cell_type": "markdown",
   "metadata": {},
   "source": [
    "Results are:\n",
    "\n"
   ]
  },
  {
   "cell_type": "markdown",
   "metadata": {},
   "source": [
    "![Retuned PID](pictures/retuned.png)"
   ]
  }
 ],
 "metadata": {
  "kernelspec": {
   "display_name": "Matlab",
   "language": "matlab",
   "name": "matlab"
  },
  "language_info": {
   "codemirror_mode": "octave",
   "file_extension": ".m",
   "help_links": [
    {
     "text": "MetaKernel Magics",
     "url": "https://github.com/calysto/metakernel/blob/master/metakernel/magics/README.md"
    }
   ],
   "mimetype": "text/x-octave",
   "name": "matlab",
   "version": "0.15.2"
  }
 },
 "nbformat": 4,
 "nbformat_minor": 2
}
