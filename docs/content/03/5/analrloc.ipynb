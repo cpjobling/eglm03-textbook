{
 "cells": [
  {
   "cell_type": "markdown",
   "metadata": {},
   "source": [
    "**Lecturer**\n",
    "\n",
    "Set up MATLAB"
   ]
  },
  {
   "cell_type": "code",
   "execution_count": 1,
   "metadata": {},
   "outputs": [
    {
     "name": "stdout",
     "output_type": "stream",
     "text": [
      "\n",
      "ans =\n",
      "\n",
      "    '/Users/eechris/dev/eglm03-textbook/content/03/5/matlab'\n",
      "\n"
     ]
    }
   ],
   "source": [
    "cd matlab\n",
    "pwd\n",
    "clear all\n",
    "format compact"
   ]
  },
  {
   "cell_type": "markdown",
   "metadata": {},
   "source": [
    "# Analytical Root-Locus Design of Phase-Lead Compensators\n",
    "\n",
    "This MATLAB Live Script presents an analytical procedure for phase-lead design. It is based on Section 7.8 of Phillips and Harbor *Feedback Control Systems*, Prentice Hall, 1988<sup>[1]</sup>. For the procedure it is convenient to write the compensator transfer function as\n",
    "\n",
    "$$\\begin{equation}D(s)=\\frac{a_1 s + a_0}{b_1s + 1}\n",
    "\\end{equation}$$                                                                    \n",
    "\n",
    "In this procedure we choose $a_1$, $a_0$, and $b_1$ such that given $s_1$, \n",
    "the equation\n",
    "\n",
    "$$\\begin{equation}\\left.KD(s)G(s)H(s)\\right|_{s=s_1}=-1\\end{equation}$$                                                   \n",
    "is satisfied; that is we are designing a compensator that places a root \n",
    "of the closed-loop characteristic equation at $s=s_1$.\n",
    "\n",
    "In equation (2) we have four unknowns, including $K$, and only two relationships \n",
    "(magnitude and phase) that must be satisfied. Hence, we can arbitrarily assign \n",
    "values to two of the unknowns. $K$ is easily eliminated since\n",
    "\n",
    "$$KD(s)=\\frac{K a_1 s + Ka_0}{b_1 + 1}$$                                                       \n",
    "\n",
    "so if we assume that $K=1$ for the design procedure we eliminate one of \n",
    "the unknowns. The other unknown that can be eliminated is $a_0$ which can be \n",
    "seen to be the DC gain of the compensator. Its value can therefore be chosen \n",
    "to satisfy the steady-state error requirements of the design and we need only \n",
    "to determine values for $a_1$ and $b_1$.\n",
    "\n",
    "The design proceeds as follows. First, we express the desired closed loop \n",
    "pole position\n",
    "\n",
    "$$\\begin{equation}s_1=|s_1|e^{j\\beta}\\end{equation}$$                                                                \n",
    "\n",
    "and\n",
    "\n",
    "$$\\begin{equation}G(s_1)H(s_1) = \\left| G(s_1)H(s_1) \\right| e^{j\\psi }\\end{equation}$$                               \n",
    "\n",
    "Then the design equations (derived in Appendix B of Phillips and Harbor, \n",
    "1988) are\n",
    "\n",
    "$$\\begin{eqnarray}\n",
    "{a_1} &=& \\frac{\\sin \\beta  + {a_0}\\left| G(s_1)H(s_1) \\right|\\sin \n",
    "(\\beta  - \\psi )}{  \\left| s_1 \\right|\\left| G(s_1)H(s_1)\\right|\\sin \n",
    "\\psi}\\\\\n",
    "{b_1} &=& \\frac{\\sin (\\beta  - \\psi ) + a_0\\left| G(s_1)H(s_1) \n",
    "\\right|\\sin \\psi }{ - \\left| s_1 \\right|\\sin \\psi  }\n",
    "\\end{eqnarray}$$                                     \n",
    "\n",
    "Given $a_0$, $G(s)H(s)$, and the desired closed-loop pole location $s_1$, \n",
    "(5) and (6) give the remaining compensator coefficients. This procedure places a closed-loop \n",
    "pole at $s=s_1$; however, the locations of the remaining poles are unknown and \n",
    "may be unsatisfactory. In fact, some may be unstable!\n",
    "\n",
    "For the case that $\\psi$is either $0^\\circ$ or $180^\\circ$, equations (5) \n",
    "must be modified to give the single equation\n",
    "\n",
    "$$\\begin{equation}a_1|s_1|\\cos\\beta \\pm \\frac{b_1|s_1|}{|G(s_1)H(s_1)|} \\pm \\frac{1}{|G(s_1)H(s_1)|}+a_0=0\\end{equation}$$                \n",
    "\n",
    "where the plus sign applies to the case $\\psi = 0^\\circ$ and the minus \n",
    "sign applies to $\\psi=180^\\circ$. For this case, the value of either $a_1$ or \n",
    "$b_1$ can also be assigned. An example is now given to illustrate the procedure."
   ]
  },
  {
   "cell_type": "markdown",
   "metadata": {},
   "source": [
    "## Example\n",
    "\n",
    "An executable version of this document is available as a MATLAB Live Script [analrloc.mlx](matlab/analrloc.mlx). You can use it to design a Lead Compensator for other systems by downoading that script and changing the set-up parameters."
   ]
  },
  {
   "cell_type": "markdown",
   "metadata": {},
   "source": [
    "### Definitions (change these to change design)\n",
    "\n",
    "The plant transfer function is :"
   ]
  },
  {
   "cell_type": "code",
   "execution_count": 3,
   "metadata": {},
   "outputs": [],
   "source": [
    "G = tf(1,[1 0 0]);  "
   ]
  },
  {
   "cell_type": "markdown",
   "metadata": {},
   "source": [
    "The feedback transfer function is  $H\\left(s\\right)=1$:"
   ]
  },
  {
   "cell_type": "code",
   "execution_count": 4,
   "metadata": {},
   "outputs": [],
   "source": [
    "H = tf(1,1);"
   ]
  },
  {
   "cell_type": "markdown",
   "metadata": {},
   "source": [
    "So $G(s)H(s)$ is:"
   ]
  },
  {
   "cell_type": "code",
   "execution_count": 5,
   "metadata": {},
   "outputs": [
    {
     "name": "stdout",
     "output_type": "stream",
     "text": [
      "\n",
      "GH =\n",
      " \n",
      "   1\n",
      "  ---\n",
      "  s^2\n",
      " \n",
      "Continuous-time transfer function.\n",
      "\n"
     ]
    }
   ],
   "source": [
    "GH=series(G,H)"
   ]
  },
  {
   "cell_type": "markdown",
   "metadata": {},
   "source": [
    "The desired closed-loop poles are:"
   ]
  },
  {
   "cell_type": "code",
   "execution_count": 6,
   "metadata": {},
   "outputs": [],
   "source": [
    "s1 = -2 + 2j;"
   ]
  },
  {
   "cell_type": "markdown",
   "metadata": {},
   "source": [
    "Now the DC gain of this type 2 system will be:\n",
    "\n",
    "$$\\begin{eqnarray*}K_a &=& \\left. s^2D(s)G(s)H(s) \\right|_{s = 0}\\\\\n",
    "&=& \\left.  s^2\\frac{a_1 s + a_0}{b_1 + 1} \\times \\frac{1}{s^2} \\right|_{s = 0}\\\\\n",
    "&=& a_0.\\end{eqnarray*}$$                                        \n",
    "\n",
    "For the purpose of illustration let us arbitrarily take a value of $a_0=8/3$:"
   ]
  },
  {
   "cell_type": "code",
   "execution_count": 13,
   "metadata": {},
   "outputs": [],
   "source": [
    "a0 = 8/3;"
   ]
  },
  {
   "cell_type": "markdown",
   "metadata": {},
   "source": [
    "### Calculations \n",
    "\n",
    "**(You shouldn't need to change these commands)**\n",
    "\n",
    "Polar form of $s_1$"
   ]
  },
  {
   "cell_type": "code",
   "execution_count": 7,
   "metadata": {},
   "outputs": [
    {
     "name": "stdout",
     "output_type": "stream",
     "text": [
      "m_s1 =\n",
      "    2.8284\n",
      "p_s1 =\n",
      "   225\n"
     ]
    }
   ],
   "source": [
    "m_s1=abs(s1),  p_s1 = (angle(s1)*180/pi + 90) % degrees "
   ]
  },
  {
   "cell_type": "markdown",
   "metadata": {},
   "source": [
    "Transfer function evaluated at $s_1=G(s_1)H(s_1)$in polar form:"
   ]
  },
  {
   "cell_type": "code",
   "execution_count": 8,
   "metadata": {},
   "outputs": [
    {
     "name": "stdout",
     "output_type": "stream",
     "text": [
      "GHs1 =\n",
      "   0.0000 + 0.1250i\n"
     ]
    }
   ],
   "source": [
    "[numGH,denGH] = tfdata(GH,'v');GHs1=polyval(numGH,s1)/polyval(denGH,s1)"
   ]
  },
  {
   "cell_type": "markdown",
   "metadata": {},
   "source": [
    "Magnitude:"
   ]
  },
  {
   "cell_type": "code",
   "execution_count": 9,
   "metadata": {},
   "outputs": [
    {
     "name": "stdout",
     "output_type": "stream",
     "text": [
      "mGHs1 =\n",
      "    0.1250\n"
     ]
    }
   ],
   "source": [
    "mGHs1=abs(GHs1)"
   ]
  },
  {
   "cell_type": "markdown",
   "metadata": {},
   "source": [
    "Phase:"
   ]
  },
  {
   "cell_type": "code",
   "execution_count": 10,
   "metadata": {},
   "outputs": [
    {
     "name": "stdout",
     "output_type": "stream",
     "text": [
      "pGHs1 =\n",
      "   -90\n"
     ]
    }
   ],
   "source": [
    "pGHs1=angle(GHs1)*180/pi - 180 % degrees"
   ]
  },
  {
   "cell_type": "markdown",
   "metadata": {},
   "source": [
    "Hence angles are:"
   ]
  },
  {
   "cell_type": "code",
   "execution_count": 11,
   "metadata": {},
   "outputs": [
    {
     "name": "stdout",
     "output_type": "stream",
     "text": [
      "beta =\n",
      "    3.9270\n",
      "psi =\n",
      "   -1.5708\n"
     ]
    }
   ],
   "source": [
    "beta = p_s1*pi/180\n",
    "psi = pGHs1*pi/180  % radians"
   ]
  },
  {
   "cell_type": "markdown",
   "metadata": {},
   "source": [
    "From (5)"
   ]
  },
  {
   "cell_type": "code",
   "execution_count": 14,
   "metadata": {},
   "outputs": [
    {
     "name": "stdout",
     "output_type": "stream",
     "text": [
      "a1 =\n",
      "    2.6667\n",
      "b1 =\n",
      "    0.1667\n"
     ]
    }
   ],
   "source": [
    "a1 = (sin(beta) + a0*mGHs1*sin(beta - psi))/(m_s1*mGHs1*sin(psi))  \n",
    "b1 = (sin(beta + psi) + a0*mGHs1*sin(beta))/(-(m_s1)*sin(psi))  "
   ]
  },
  {
   "cell_type": "markdown",
   "metadata": {},
   "source": [
    "Compensator is therefore given by"
   ]
  },
  {
   "cell_type": "code",
   "execution_count": 15,
   "metadata": {},
   "outputs": [
    {
     "name": "stdout",
     "output_type": "stream",
     "text": [
      "numD =\n",
      "    2.6667    2.6667\n",
      "denD =\n",
      "    0.1667    1.0000\n"
     ]
    }
   ],
   "source": [
    "numD = [a1, a0], denD = [b1, 1]  "
   ]
  },
  {
   "cell_type": "markdown",
   "metadata": {},
   "source": [
    "which in normal form:"
   ]
  },
  {
   "cell_type": "markdown",
   "metadata": {},
   "source": [
    "$$D(s)=K_c\\left(\\frac{s+z_1}{s+p_1}\\right)$$                                                        "
   ]
  },
  {
   "cell_type": "markdown",
   "metadata": {},
   "source": [
    "has"
   ]
  },
  {
   "cell_type": "code",
   "execution_count": 16,
   "metadata": {},
   "outputs": [
    {
     "name": "stdout",
     "output_type": "stream",
     "text": [
      "Kc =\n",
      "   16.0000\n",
      "z0 =\n",
      "     1\n",
      "p0 =\n",
      "    6.0000\n"
     ]
    }
   ],
   "source": [
    "Kc = a1/b1, z0 = a0/a1, p0 = 1/b1  "
   ]
  },
  {
   "cell_type": "markdown",
   "metadata": {},
   "source": [
    "Now make a transfer function"
   ]
  },
  {
   "cell_type": "code",
   "execution_count": 17,
   "metadata": {},
   "outputs": [
    {
     "name": "stdout",
     "output_type": "stream",
     "text": [
      "\n",
      "D =\n",
      " \n",
      "  16 s + 16\n",
      "  ---------\n",
      "    s + 6\n",
      " \n",
      "Continuous-time transfer function.\n",
      "\n"
     ]
    }
   ],
   "source": [
    "D = tf(Kc*[1, z0],[1, p0])  "
   ]
  },
  {
   "cell_type": "markdown",
   "metadata": {},
   "source": [
    "### Evaluation of Design\n",
    "Open loop transfer function:"
   ]
  },
  {
   "cell_type": "code",
   "execution_count": 19,
   "metadata": {},
   "outputs": [
    {
     "name": "stdout",
     "output_type": "stream",
     "text": [
      "\n",
      "Go =\n",
      " \n",
      "   16 s + 16\n",
      "  -----------\n",
      "  s^3 + 6 s^2\n",
      " \n",
      "Continuous-time transfer function.\n",
      "\n"
     ]
    }
   ],
   "source": [
    "Go = series(D,GH)  "
   ]
  },
  {
   "cell_type": "markdown",
   "metadata": {},
   "source": [
    "*Root locus:*"
   ]
  },
  {
   "cell_type": "code",
   "execution_count": 20,
   "metadata": {},
   "outputs": [
    {
     "data": {
      "image/png": "[encoded data removed]",
      "text/plain": [
       "<IPython.core.display.Image object>"
      ]
     },
     "metadata": {},
     "output_type": "display_data"
    }
   ],
   "source": [
    "rlocus(Go) "
   ]
  },
  {
   "cell_type": "markdown",
   "metadata": {},
   "source": [
    "*Closed-loop transfer function:*"
   ]
  },
  {
   "cell_type": "code",
   "execution_count": 21,
   "metadata": {},
   "outputs": [
    {
     "name": "stdout",
     "output_type": "stream",
     "text": [
      "\n",
      "DG =\n",
      " \n",
      "   16 s + 16\n",
      "  -----------\n",
      "  s^3 + 6 s^2\n",
      " \n",
      "Continuous-time transfer function.\n",
      "\n",
      "\n",
      "Gc =\n",
      " \n",
      "         16 s + 16\n",
      "  -----------------------\n",
      "  s^3 + 6 s^2 + 16 s + 16\n",
      " \n",
      "Continuous-time transfer function.\n",
      "\n"
     ]
    }
   ],
   "source": [
    "DG=series(D,G)  \n",
    "Gc=feedback(DG,H)  "
   ]
  },
  {
   "cell_type": "markdown",
   "metadata": {},
   "source": [
    "*Step response:*"
   ]
  },
  {
   "cell_type": "code",
   "execution_count": 22,
   "metadata": {},
   "outputs": [
    {
     "data": {
      "image/png": "[encoded data removed]",
      "text/plain": [
       "<IPython.core.display.Image object>"
      ]
     },
     "metadata": {},
     "output_type": "display_data"
    }
   ],
   "source": [
    "step(Gc)  "
   ]
  },
  {
   "cell_type": "markdown",
   "metadata": {},
   "source": [
    "As an exercise, you should examine the effect of designing for a range \n",
    "of DC gains in the range $0\\le K_a\\le10$.\n",
    "\n",
    "\n",
    "## Footnotes\n",
    "[1] The proofs of the formulae given are derived in Appendix B of that text."
   ]
  }
 ],
 "metadata": {
  "kernelspec": {
   "display_name": "Matlab",
   "language": "matlab",
   "name": "matlab"
  },
  "language_info": {
   "codemirror_mode": "octave",
   "file_extension": ".m",
   "help_links": [
    {
     "text": "MetaKernel Magics",
     "url": "https://github.com/calysto/metakernel/blob/master/metakernel/magics/README.md"
    }
   ],
   "mimetype": "text/x-octave",
   "name": "matlab",
   "version": "0.15.2"
  }
 },
 "nbformat": 4,
 "nbformat_minor": 2
}
