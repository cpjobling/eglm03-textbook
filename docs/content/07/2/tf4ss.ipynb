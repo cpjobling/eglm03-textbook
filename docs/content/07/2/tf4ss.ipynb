{
 "cells": [
  {
   "cell_type": "markdown",
   "metadata": {
    "slideshow": {
     "slide_type": "slide"
    }
   },
   "source": [
    "# Transforms and Time Responses for State Space Models\n",
    "\n",
    "* Laplace Transform of State Space Models\n",
    "* Time Responses for State Space Models\n",
    "* Detailed example (in class)\n",
    "* Problems (homework)"
   ]
  },
  {
   "cell_type": "markdown",
   "metadata": {
    "slideshow": {
     "slide_type": "slide"
    }
   },
   "source": [
    "## Laplace Transforms of State Space Models"
   ]
  },
  {
   "cell_type": "markdown",
   "metadata": {
    "slideshow": {
     "slide_type": "fragment"
    }
   },
   "source": [
    "The Laplace transform can be used to convert a differential equation into a transfer function. It can also be used to convert a state space model into a transfer function. In this lecture we demonstrate how this is done and we give an example."
   ]
  },
  {
   "cell_type": "markdown",
   "metadata": {
    "slideshow": {
     "slide_type": "subslide"
    }
   },
   "source": [
    "### Laplace transform of a vector of functions\n",
    "\n",
    "The Laplace transform of a vector $\\mathbf{v}(t)$ is a vector $\\mathbf{V}(s)$. The elements of $\\mathbf{V}(s)$ are the Laplace transforms of the corresponding elements of the vector $\\mathbf{v}(t)$."
   ]
  },
  {
   "cell_type": "markdown",
   "metadata": {
    "slideshow": {
     "slide_type": "fragment"
    }
   },
   "source": [
    "For array \n",
    "\n",
    "$$\\mathbf{v}(t) = \\left[\n",
    "  \\begin{array}{c}\n",
    "    v_1(t) \\\\\n",
    "    v_2(t) \\\\\n",
    "    \\vdots \\\\\n",
    "    v_n(t) \\\\\n",
    "  \\end{array}\n",
    "  \\right]$$"
   ]
  },
  {
   "cell_type": "markdown",
   "metadata": {
    "slideshow": {
     "slide_type": "subslide"
    }
   },
   "source": [
    "The transformed variables are \n",
    "\n",
    "$$\\mathcal{L}\\mathbf{v}(t) = \\left[\n",
    "  \\begin{array}{c}\n",
    "   \\mathcal{L} v_1(t) \\\\\n",
    "   \\mathcal{L} v_2(t) \\\\\n",
    "    \\vdots \\\\\n",
    "   \\mathcal{L} v_n(t) \\\\\n",
    "  \\end{array}\n",
    "  \\right] = \\left[\n",
    "  \\begin{array}{c}\n",
    "   V_1(s) \\\\\n",
    "   V_2(s) \\\\\n",
    "    \\vdots \\\\\n",
    "   V_n(s) \\\\\n",
    "  \\end{array}\n",
    "  \\right] = \\mathbf{V}(s)$$"
   ]
  },
  {
   "cell_type": "markdown",
   "metadata": {
    "slideshow": {
     "slide_type": "subslide"
    }
   },
   "source": [
    "For example, if<sup>1</sup> \n",
    "\n",
    "$$\\mathbf{v}(t)=\\left[ \\begin{array}{c}\n",
    "   \\epsilon(t) \\\\\n",
    "   e^{-at} \\\\\n",
    "   \\sin bt \\\\\n",
    "  \\end{array} \\right]$$ \n",
    "  "
   ]
  },
  {
   "cell_type": "markdown",
   "metadata": {
    "slideshow": {
     "slide_type": "fragment"
    }
   },
   "source": [
    "then $$\\mathbf{V}(s)=\\left[ \\begin{array}{c}\n",
    "   1/s \\\\\n",
    "   1/(s+a) \\\\\n",
    "   b/(s^2+b^2) \\\\\n",
    "  \\end{array} \\right]$$"
   ]
  },
  {
   "cell_type": "markdown",
   "metadata": {
    "slideshow": {
     "slide_type": "subslide"
    }
   },
   "source": [
    "### Transform of State Equations\n",
    "\n",
    "Let us now transform the generalized form of the state equations obtained in the last lecture. \n",
    "\n",
    "$$\\begin{eqnarray*}\n",
    "  \\frac{d\\mathbf{x}(t)}{dt} &=&\n",
    "  \\mathbf{A}\\mathbf{x}(t)+\\mathbf{B}\\mathbf{u}(t)\\\\\n",
    "  \\mathbf{y}(t)&=&\\mathbf{C}\\mathbf{x}(t)+\\mathbf{D}\\mathbf{u}(t)\\end{eqnarray*}$$"
   ]
  },
  {
   "cell_type": "markdown",
   "metadata": {
    "slideshow": {
     "slide_type": "subslide"
    }
   },
   "source": [
    "Applying the Laplace transform to both sides of this matrix equation\n",
    "gives the transform equations \n",
    "\n",
    "$$\\begin{eqnarray*}\n",
    "  s\\mathbf{X}(s)-\\mathbf{x}(0) &=& \n",
    "  \\mathbf{A}\\mathbf{X}(s)+\\mathbf{B}\\mathbf{U}(s)\\\\\n",
    "  \\mathbf{Y}(s)&=&\\mathbf{C}\\mathbf{X}(s)+\\mathbf{D}\\mathbf{U}(s)\\end{eqnarray*}$$"
   ]
  },
  {
   "cell_type": "markdown",
   "metadata": {
    "slideshow": {
     "slide_type": "fragment"
    }
   },
   "source": [
    "where $\\mathbf{x}(0)$ is the vector of initial conditions vector of the\n",
    "states; $\\mathbf{X}(s)$ is the state transform vector; $\\mathbf{U}(s)$\n",
    "input transform vector; $\\mathbf{Y}(s)$ is output transform vector."
   ]
  },
  {
   "cell_type": "markdown",
   "metadata": {
    "slideshow": {
     "slide_type": "subslide"
    }
   },
   "source": [
    "### Transformed State-Equations for Example 1 from Section \n",
    "\n",
    "For the system in the example the state vector is defined as $\\mathbf{x}=[v_{31}, i_1]^{T}$, the input current is $u$, and the output variables are all the currents and voltages in the circuit $\\mathbf{y}=[v_{31}, i_1, v_{32}, v_{21}, i_2]^{T}$. "
   ]
  },
  {
   "cell_type": "markdown",
   "metadata": {
    "slideshow": {
     "slide_type": "subslide"
    }
   },
   "source": [
    "The transformed state space model is therefore:\n",
    "\n",
    "$$\\begin{eqnarray}\n",
    " s\\left[\\begin{array}{c}\n",
    "  V_{31} \\\\\n",
    "  I_1\n",
    "\\end{array}\\right]-\\left[\\begin{array}{c}\n",
    "  v_{31}(0) \\\\\n",
    "  i_1(0)\n",
    "\\end{array}\\right]&=&\\left[\\begin{array}{cc}\n",
    "  0 & -1/C \\\\\n",
    "  1/L & -R/L\n",
    "\\end{array}\\right]\\left[\\begin{array}{c}\n",
    "  V_{31} \\\\\n",
    "  I_1\n",
    "\\end{array}\\right]+\\left[\\begin{array}{c}\n",
    "  1/C \\\\\n",
    "  0\n",
    "\\end{array}\\right]\\left[U\\right]\\\\\n",
    "\\left[\\begin{array}{c}\n",
    "  V_{31} \\\\\n",
    "  I_1 \\\\\n",
    "  V_{32} \\\\\n",
    "  V_{21} \\\\\n",
    "  I_{2}\n",
    "\\end{array}\\right]&=&\\left[\\begin{array}{cc}\n",
    "  1 & 0 \\\\\n",
    "  0 & 1 \\\\\n",
    "  1 & -R \\\\\n",
    "  0 & R \\\\\n",
    "  0 & -1\n",
    "\\end{array}\\right]\\left[\\begin{array}{c}\n",
    "  V_{31} \\\\\n",
    "  I_1\n",
    "\\end{array}\\right]+\\left[\\begin{array}{c}\n",
    "  0 \\\\\n",
    "  0 \\\\\n",
    "  0 \\\\\n",
    "  0 \\\\\n",
    "  1\n",
    "\\end{array}\\right]\\left[U\\right].\\end{eqnarray}$$"
   ]
  },
  {
   "cell_type": "markdown",
   "metadata": {
    "slideshow": {
     "slide_type": "slide"
    }
   },
   "source": [
    "## Transfer function from State-Space Models"
   ]
  },
  {
   "cell_type": "markdown",
   "metadata": {
    "slideshow": {
     "slide_type": "notes"
    }
   },
   "source": [
    "The transform equations may be solved as follows (the Laplace transform operator $s$ is omitted for brevity)."
   ]
  },
  {
   "cell_type": "markdown",
   "metadata": {
    "slideshow": {
     "slide_type": "fragment"
    }
   },
   "source": [
    "Substituting $\\mathbf{X}$ from (1) into (2) gives \n",
    "\n",
    "$$\\begin{equation}\n",
    "  \\mathbf{Y}=\\left[\\mathbf{C}\\left[s\\mathbf{I}-\\mathbf{A}\\right]^{-1}\\mathbf{B}\\mathbf{U}+\n",
    "  \\mathbf{C}\\left[s\\mathbf{I}-\\mathbf{A}\\right]^{-1}\\mathbf{x}(0)\\right]+\\mathbf{D}\\mathbf{U}\\end{equation}$$"
   ]
  },
  {
   "cell_type": "markdown",
   "metadata": {
    "slideshow": {
     "slide_type": "fragment"
    }
   },
   "source": [
    "which after gathering terms and simplifying gives\n",
    "$$\\begin{equation}\n",
    "  \\mathbf{Y}=\\left[\\mathbf{C}\\left[s\\mathbf{I}-\\mathbf{A}\\right]^{-1}\\mathbf{B}+\\mathbf{D}\\right]\\mathbf{U}\n",
    "      +\\mathbf{C}\n",
    "  \\left[s\\mathbf{I}-\\mathbf{A}\\right]^{-1}\\mathbf{x}(0)\\end{equation}$$"
   ]
  },
  {
   "cell_type": "markdown",
   "metadata": {
    "slideshow": {
     "slide_type": "subslide"
    }
   },
   "source": [
    "When the initial conditions of the state-variables are all zero, this\n",
    "reduces to the transfer matrix model \n",
    "\n",
    "$$\\begin{equation}\n",
    "  \\mathbf{Y}=\\left[\\mathbf{C}\\left[s\\mathbf{I}-\\mathbf{A}\\right]^{-1}\\mathbf{B}+\\mathbf{D}\\right]\\mathbf{U}\\end{equation}$$"
   ]
  },
  {
   "cell_type": "markdown",
   "metadata": {
    "slideshow": {
     "slide_type": "subslide"
    }
   },
   "source": [
    "The matrix $\\mathbf{C}\\left[s\\mathbf{I}-\\mathbf{A}\\right]^{-1}\\mathbf{B}+\\mathbf{D}$ is the *system transfer matrix*."
   ]
  },
  {
   "cell_type": "markdown",
   "metadata": {
    "slideshow": {
     "slide_type": "fragment"
    }
   },
   "source": [
    "The element of the $i$-th row and $j$-th column is the transfer function that relates the $i$-th output transform $Y_i$ to the $j$-th input transform $U_j$."
   ]
  },
  {
   "cell_type": "markdown",
   "metadata": {
    "slideshow": {
     "slide_type": "fragment"
    }
   },
   "source": [
    "For a single-input, single-output (SISO) system, the system transfer matrix reduces to a single element transfer function."
   ]
  },
  {
   "cell_type": "markdown",
   "metadata": {
    "slideshow": {
     "slide_type": "subslide"
    }
   },
   "source": [
    "The matrix $\\left[s\\mathbf{I}-\\mathbf{A}\\right]^{-1}$ is very important."
   ]
  },
  {
   "cell_type": "markdown",
   "metadata": {
    "slideshow": {
     "slide_type": "fragment"
    }
   },
   "source": [
    "It is known as the *resolvent matrix* of the system."
   ]
  },
  {
   "cell_type": "markdown",
   "metadata": {
    "slideshow": {
     "slide_type": "fragment"
    }
   },
   "source": [
    "It may be written as \n",
    "\n",
    "$$\\left[s\\mathbf{I}-\\mathbf{A}\\right]^{-1} =\n",
    "        \\frac{\\mathrm{adj}\\left[s\\mathbf{I}-\\mathbf{A}\\right]}\n",
    "             {\\det\\left[s\\mathbf{I}-\\mathbf{A}\\right]}.$$"
   ]
  },
  {
   "cell_type": "markdown",
   "metadata": {
    "slideshow": {
     "slide_type": "subslide"
    }
   },
   "source": [
    "### Resolvent matrix for the example\n",
    "\n",
    "For the system in the example, the resolvent matrix is developed as"
   ]
  },
  {
   "cell_type": "markdown",
   "metadata": {
    "slideshow": {
     "slide_type": "fragment"
    }
   },
   "source": [
    "$$\\begin{equation*}\n",
    "\\mathbf{A}=\\left[\\begin{array}{cc}\n",
    "  0 & -1/C \\\\\n",
    "  1/L & -R/L\n",
    "\\end{array}\\right] \\end{equation*}$$"
   ]
  },
  {
   "cell_type": "markdown",
   "metadata": {
    "slideshow": {
     "slide_type": "fragment"
    }
   },
   "source": [
    "$$\\begin{equation*}\n",
    "s\\mathbf{I}-\\mathbf{A}=\\left[\n",
    "\\begin{array}{cc}\n",
    "  s & 0 \\\\\n",
    "  0 & s\n",
    "\\end{array}\n",
    "\\right] - \\left[\n",
    "\\begin{array}{cc}\n",
    "  0 & -1/C \\\\\n",
    "  1/L & -R/L\n",
    "\\end{array}\n",
    "\\right] = \\left[\n",
    "\\begin{array}{cc}\n",
    "  s & +1/C \\\\\n",
    "  -1/L & s+R/L\n",
    "\\end{array}\\right] \\end{equation*}$$"
   ]
  },
  {
   "cell_type": "markdown",
   "metadata": {
    "slideshow": {
     "slide_type": "subslide"
    }
   },
   "source": [
    "$$\\begin{equation*}\n",
    "\\left[s\\mathbf{I}-\\mathbf{A}\\right]^{-1}=\\frac{\n",
    "\\left[\\begin{array}{cc}\n",
    "  s+R/L & -1/C \\\\\n",
    "  +1/L & s\n",
    "\\end{array} \\right]\n",
    "}{s(s+R/L)+1/(LC)}=\\frac{\\left[\\begin{array}{cc}\n",
    "  s+R/L & -1/C \\\\\n",
    "  +1/L & s\n",
    "\\end{array} \\right]}{s^2 + (R/L)s + 1/(LC) }\\end{equation*}$$"
   ]
  },
  {
   "cell_type": "markdown",
   "metadata": {
    "slideshow": {
     "slide_type": "notes"
    }
   },
   "source": [
    "When $\\left[s\\mathbf{I}-\\mathbf{A}\\right]^{-1}$ has been obtained, then the system transfer function is easily obtained through $\\mathbf{C}\\left[s\\mathbf{I}-\\mathbf{A}\\right]^{-1}\\mathbf{B}+\\mathbf{D}$.\n",
    "For the system in the example, when all outputs are measured, the system transfer matrix is:"
   ]
  },
  {
   "cell_type": "markdown",
   "metadata": {
    "slideshow": {
     "slide_type": "subslide"
    }
   },
   "source": [
    "### Transfer matrix for example\n",
    "\n",
    "$$\\begin{equation*}\n",
    "\\left[\\begin{array}{cc}\n",
    "  1 & 0 \\\\\n",
    "  0 & 1 \\\\\n",
    "  1 & -R \\\\\n",
    "  0 & R \\\\\n",
    "  0 & -1\n",
    "\\end{array}\\right]\n",
    "\\left\\{\\frac{\\left[\n",
    "\\begin{array}{cc}\n",
    "  s+R/L & -1/C \\\\\n",
    " +1/L & s\n",
    "\\end{array}\\right]}{s^2 + (R/L)s +1/(LC)}\\right\\}\n",
    "\\left[\\begin{array}{c}\n",
    "  1/C \\\\\n",
    "  0\n",
    "\\end{array}\\right]\n",
    " + \\left[\\begin{array}{c}\n",
    "  0 \\\\\n",
    "  0 \\\\\n",
    "  0 \\\\\n",
    "  0 \\\\\n",
    "  1\n",
    "\\end{array} \\right]\n",
    "\\end{equation*}$$"
   ]
  },
  {
   "cell_type": "markdown",
   "metadata": {
    "slideshow": {
     "slide_type": "subslide"
    }
   },
   "source": [
    "$$\\begin{equation*}\n",
    "= \\left[\\begin{array}{cc}\n",
    "  1 & 0 \\\\\n",
    "  0 & 1 \\\\\n",
    "  1 & -R \\\\\n",
    "  0 & R \\\\\n",
    "  0 & -1\n",
    "\\end{array}\\right]\n",
    "\\left\\{\\frac{\\left[\n",
    "\\begin{array}{c}\n",
    "  (1/C)s+R/(LC)  \\\\\n",
    " +1/(LC)\n",
    "\\end{array}\\right]}{s^2 + (R/L)s +1/(LC)}\\right\\}\n",
    " + \\left[\\begin{array}{c}\n",
    "  0 \\\\\n",
    "  0 \\\\\n",
    "  0 \\\\\n",
    "  0 \\\\\n",
    "  1\n",
    "\\end{array} \\right]\\end{equation*}$$"
   ]
  },
  {
   "cell_type": "markdown",
   "metadata": {
    "slideshow": {
     "slide_type": "subslide"
    }
   },
   "source": [
    "$$\\begin{equation*}\n",
    " = \\frac{1}{s^2 + (R/L)s\n",
    "+1/(LC)}\\left[\\begin{array}{c}\n",
    "  (1/C)s+R/(LC) \\\\\n",
    "  1/(LC) \\\\\n",
    "  (1/C)s \\\\\n",
    "  R/(LC) \\\\\n",
    "  -1/(LC)\n",
    "\\end{array}\\right] + \\left[\\begin{array}{c}\n",
    "  0 \\\\\n",
    "  0 \\\\\n",
    "  0 \\\\\n",
    "  0 \\\\\n",
    "  1\n",
    "\\end{array} \\right]\\end{equation*}$$"
   ]
  },
  {
   "cell_type": "markdown",
   "metadata": {
    "slideshow": {
     "slide_type": "subslide"
    }
   },
   "source": [
    "$$\\begin{equation*}\n",
    "= \\left[\\begin{array}{c}\n",
    "  \\frac{(1/C)s+R/(LC)}{s^2 + (R/L)s\n",
    "+1/(LC)} \\\\\n",
    "  \\frac{1/(LC)}{s^2 + (R/L)s\n",
    "+1/(LC)} \\\\\n",
    "  \\frac{(1/C)s}{s^2 + (R/L)s\n",
    "+1/(LC)} \\\\\n",
    "  \\frac{R/(LC)}{s^2 + (R/L)s\n",
    "+1/(LC)} \\\\\n",
    "  -\\frac{1/(LC)}{s^2 + (R/L)s\n",
    "+1/(LC)}+1\n",
    "\\end{array}\\right]\\end{equation*}$$"
   ]
  },
  {
   "cell_type": "markdown",
   "metadata": {
    "slideshow": {
     "slide_type": "subslide"
    }
   },
   "source": [
    "In matrix form, when combined with the input and output transforms we have the situation illustrated below. Each transfer function relates the corresponding output transform to the input transform. "
   ]
  },
  {
   "cell_type": "markdown",
   "metadata": {
    "slideshow": {
     "slide_type": "fragment"
    }
   },
   "source": [
    "For example\n",
    "\n",
    "$$V_{31}= \\frac{(1/C)s+R/(LC)}{s^2 + (R/L)s\n",
    "+1/(LC)}\\ U.$$"
   ]
  },
  {
   "cell_type": "markdown",
   "metadata": {
    "slideshow": {
     "slide_type": "subslide"
    }
   },
   "source": [
    "### Transform Equations for Example\n",
    "\n",
    "$$\\begin{eqnarray*}\n",
    "\\mathbf{Y}(s)&=&\\left[\\mathbf{C}\\left[s\\mathbf{I}-\\mathbf{A}\\right]^{-1}\\mathbf{B}+\\mathbf{D}\\right]\\mathbf{U}(s)\\\\\n",
    "\\mathbf{Y}(s) &=& \\mathbf{G}(s)\\mathbf{U}(s)\\end{eqnarray*}$$"
   ]
  },
  {
   "cell_type": "markdown",
   "metadata": {
    "slideshow": {
     "slide_type": "subslide"
    }
   },
   "source": [
    "$$\\begin{eqnarray*}\\left[\\begin{array}{c}\n",
    "  V_{31}(s) \\\\\n",
    "  I_1(s) \\\\\n",
    "  V_{32}(s) \\\\\n",
    "  V_{21}(s) \\\\\n",
    "  I_{2}(s)\n",
    "\\end{array}\\right] &=& \\left[\\begin{array}{c}\n",
    "  \\frac{(1/C)s+R/(LC)}{s^2 + (R/L)s\n",
    "+1/(LC)} \\\\\n",
    "  \\frac{1/(LC)}{s^2 + (R/L)s\n",
    "+1/(LC)} \\\\\n",
    "  \\frac{(1/C)s}{s^2 + (R/L)s\n",
    "+1/(LC)} \\\\\n",
    "  \\frac{R/(LC)}{s^2 + (R/L)s\n",
    "+1/(LC)} \\\\\n",
    "  -\\frac{1/(LC)}{s^2 + (R/L)s\n",
    "+1/(LC)}+1\n",
    "\\end{array}\\right]\\mathbf{U}(s).\\end{eqnarray*}$$"
   ]
  },
  {
   "cell_type": "markdown",
   "metadata": {
    "slideshow": {
     "slide_type": "notes"
    }
   },
   "source": [
    "Note that the denominator is the same for each transfer function, and\n",
    "that the order of the numerator is less than the denominator except for\n",
    "one case, for which \n",
    "\n",
    "$$\\begin{eqnarray*}\n",
    "I_2 & = & \\left(-\\frac{1/(LC)}{s^2 + (R/L)s +1/(LC)}+1\\right)U\\\\\n",
    "    & = & \\frac{-1/{LC}+s^2 + (R/L)s +1/(LC)}{s^2 + (R/L)s\n",
    "    +1/(LC)}\\ U\n",
    "    \\\\\n",
    "    & = &\\frac{s^2 + (R/L)s}{s^2 + (R/L)s\n",
    "    +1/(LC)}\\ U\\end{eqnarray*}$$ \n",
    "    \n",
    "Replacing $s$ by $\\frac{d}{dt}$ gives the\n",
    "corresponding differential equations relating the dependant variable to\n",
    "the input."
   ]
  },
  {
   "cell_type": "markdown",
   "metadata": {
    "slideshow": {
     "slide_type": "slide"
    }
   },
   "source": [
    "### Converting SS to TF in Matlab\n",
    "\n",
    "We will do this in class\n",
    "\n",
    "Continuing example from [Section 7.1](../1/intro2ss):"
   ]
  },
  {
   "cell_type": "code",
   "execution_count": 11,
   "metadata": {
    "slideshow": {
     "slide_type": "fragment"
    }
   },
   "outputs": [],
   "source": [
    "clear all\n",
    "format compact"
   ]
  },
  {
   "cell_type": "markdown",
   "metadata": {
    "slideshow": {
     "slide_type": "subslide"
    }
   },
   "source": [
    "Define some values for capacitance, inductance and resitance"
   ]
  },
  {
   "cell_type": "code",
   "execution_count": 12,
   "metadata": {
    "slideshow": {
     "slide_type": "fragment"
    }
   },
   "outputs": [],
   "source": [
    "Cap = 1; L = 1; R = 1;"
   ]
  },
  {
   "cell_type": "markdown",
   "metadata": {
    "slideshow": {
     "slide_type": "subslide"
    }
   },
   "source": [
    "#### Define state space model and label states inputs and outputs"
   ]
  },
  {
   "cell_type": "code",
   "execution_count": 13,
   "metadata": {},
   "outputs": [],
   "source": [
    "A = [0 -1/Cap; 1/L -R/L];\n",
    "B = [1/Cap; 0];\n",
    "C = [1 0; 0 1; 1 -R; 0 R; 0 -1];\n",
    "D = [0; 0; 0; 0; 1];\n",
    "circ_ss = ss(A, B, C, D, ...\n",
    "'statename',{'v31' 'i1'}, ...\n",
    "'inputname', 'u', ...\n",
    "'outputname', {'v31' 'i1' 'v32' 'v21' 'i2'});"
   ]
  },
  {
   "cell_type": "markdown",
   "metadata": {
    "slideshow": {
     "slide_type": "subslide"
    }
   },
   "source": [
    "#### Show model"
   ]
  },
  {
   "cell_type": "code",
   "execution_count": 14,
   "metadata": {
    "slideshow": {
     "slide_type": "notes"
    }
   },
   "outputs": [
    {
     "name": "stdout",
     "output_type": "stream",
     "text": [
      "\n",
      "circ_ss =\n",
      " \n",
      "  A = \n",
      "        v31   i1\n",
      "   v31    0   -1\n",
      "   i1     1   -1\n",
      " \n",
      "  B = \n",
      "        u\n",
      "   v31  1\n",
      "   i1   0\n",
      " \n",
      "  C = \n",
      "        v31   i1\n",
      "   v31    1    0\n",
      "   i1     0    1\n",
      "   v32    1   -1\n",
      "   v21    0    1\n",
      "   i2     0   -1\n",
      " \n",
      "  D = \n",
      "        u\n",
      "   v31  0\n",
      "   i1   0\n",
      "   v32  0\n",
      "   v21  0\n",
      "   i2   1\n",
      " \n",
      "Continuous-time state-space model.\n",
      "\n"
     ]
    }
   ],
   "source": [
    "circ_ss"
   ]
  },
  {
   "cell_type": "markdown",
   "metadata": {
    "slideshow": {
     "slide_type": "subslide"
    }
   },
   "source": [
    "#### Plot a step response"
   ]
  },
  {
   "cell_type": "code",
   "execution_count": 15,
   "metadata": {},
   "outputs": [
    {
     "data": {
      "image/png": "[encoded data removed]",
      "text/plain": [
       "<IPython.core.display.Image object>"
      ]
     },
     "metadata": {},
     "output_type": "display_data"
    }
   ],
   "source": [
    "step(circ_ss)"
   ]
  },
  {
   "cell_type": "markdown",
   "metadata": {
    "slideshow": {
     "slide_type": "subslide"
    }
   },
   "source": [
    "#### Convert to transfer functiom matrix\n",
    "\n",
    "The function `tf(ss_model)` returns a vector of transfer functions."
   ]
  },
  {
   "cell_type": "code",
   "execution_count": 16,
   "metadata": {
    "slideshow": {
     "slide_type": "fragment"
    }
   },
   "outputs": [
    {
     "name": "stdout",
     "output_type": "stream",
     "text": [
      "\n",
      "circ_tf =\n",
      " \n",
      "  From input \"u\" to output...\n",
      "            s + 1\n",
      "   v31:  -----------\n",
      "         s^2 + s + 1\n",
      " \n",
      "             1\n",
      "   i1:  -----------\n",
      "        s^2 + s + 1\n",
      " \n",
      "              s\n",
      "   v32:  -----------\n",
      "         s^2 + s + 1\n",
      " \n",
      "              1\n",
      "   v21:  -----------\n",
      "         s^2 + s + 1\n",
      " \n",
      "          s^2 + s\n",
      "   i2:  -----------\n",
      "        s^2 + s + 1\n",
      " \n",
      "Continuous-time transfer function.\n",
      "\n"
     ]
    }
   ],
   "source": [
    "circ_tf = tf(circ_ss)"
   ]
  },
  {
   "cell_type": "markdown",
   "metadata": {
    "slideshow": {
     "slide_type": "subslide"
    }
   },
   "source": [
    "#### Determine poles and zeros"
   ]
  },
  {
   "cell_type": "code",
   "execution_count": 17,
   "metadata": {
    "slideshow": {
     "slide_type": "fragment"
    }
   },
   "outputs": [
    {
     "name": "stdout",
     "output_type": "stream",
     "text": [
      "\n",
      "circ_zpk =\n",
      " \n",
      "  From input \"u\" to output...\n",
      "             (s+1)\n",
      "   v31:  -------------\n",
      "         (s^2 + s + 1)\n",
      " \n",
      "              1\n",
      "   i1:  -------------\n",
      "        (s^2 + s + 1)\n",
      " \n",
      "               s\n",
      "   v32:  -------------\n",
      "         (s^2 + s + 1)\n",
      " \n",
      "               1\n",
      "   v21:  -------------\n",
      "         (s^2 + s + 1)\n",
      " \n",
      "           s (s+1)\n",
      "   i2:  -------------\n",
      "        (s^2 + s + 1)\n",
      " \n",
      "Continuous-time zero/pole/gain model.\n",
      "\n"
     ]
    }
   ],
   "source": [
    "circ_zpk=zpk(circ_ss)"
   ]
  },
  {
   "cell_type": "markdown",
   "metadata": {
    "slideshow": {
     "slide_type": "subslide"
    }
   },
   "source": [
    "#### The state transition matrix\n",
    "\n",
    "Calculated using the symbolic math tools provided by MATLAB See `help symbolic`"
   ]
  },
  {
   "cell_type": "code",
   "execution_count": 18,
   "metadata": {
    "slideshow": {
     "slide_type": "fragment"
    }
   },
   "outputs": [
    {
     "name": "stdout",
     "output_type": "stream",
     "text": [
      "phi =\n",
      "[ (s + 1)/(s^2 + s + 1), -1/(s^2 + s + 1)]\n",
      "[       1/(s^2 + s + 1),  s/(s^2 + s + 1)]\n"
     ]
    }
   ],
   "source": [
    "syms phi t s\n",
    "phi = inv(s*eye(2) - A)"
   ]
  },
  {
   "cell_type": "markdown",
   "metadata": {
    "slideshow": {
     "slide_type": "subslide"
    }
   },
   "source": [
    "#### The state transfer matrix"
   ]
  },
  {
   "cell_type": "code",
   "execution_count": 19,
   "metadata": {
    "slideshow": {
     "slide_type": "fragment"
    }
   },
   "outputs": [
    {
     "name": "stdout",
     "output_type": "stream",
     "text": [
      "G =\n",
      "                   (s + 1)/(s^2 + s + 1)\n",
      "                         1/(s^2 + s + 1)\n",
      " (s + 1)/(s^2 + s + 1) - 1/(s^2 + s + 1)\n",
      "                         1/(s^2 + s + 1)\n",
      "                     1 - 1/(s^2 + s + 1)\n"
     ]
    }
   ],
   "source": [
    "G = C*phi*B + D"
   ]
  },
  {
   "cell_type": "code",
   "execution_count": 20,
   "metadata": {
    "slideshow": {
     "slide_type": "subslide"
    }
   },
   "outputs": [
    {
     "name": "stdout",
     "output_type": "stream",
     "text": [
      "G =\n",
      " (s + 1)/(s^2 + s + 1)\n",
      "       1/(s^2 + s + 1)\n",
      "       s/(s^2 + s + 1)\n",
      "       1/(s^2 + s + 1)\n",
      "   1 - 1/(s^2 + s + 1)\n"
     ]
    }
   ],
   "source": [
    "G = simplify(G)"
   ]
  },
  {
   "cell_type": "code",
   "execution_count": 21,
   "metadata": {
    "slideshow": {
     "slide_type": "subslide"
    }
   },
   "outputs": [
    {
     "name": "stdout",
     "output_type": "stream",
     "text": [
      "/      s + 1     \\\n",
      "|   ----------   |\n",
      "|    2           |\n",
      "|   s  + s + 1   |\n",
      "|                |\n",
      "|        1       |\n",
      "|   ----------   |\n",
      "|    2           |\n",
      "|   s  + s + 1   |\n",
      "|                |\n",
      "|        s       |\n",
      "|   ----------   |\n",
      "|    2           |\n",
      "|   s  + s + 1   |\n",
      "|                |\n",
      "|        1       |\n",
      "|   ----------   |\n",
      "|    2           |\n",
      "|   s  + s + 1   |\n",
      "|                |\n",
      "|          1     |\n",
      "| 1 - ---------- |\n",
      "|      2         |\n",
      "\\     s  + s + 1 /\n",
      "\n"
     ]
    }
   ],
   "source": [
    "pretty(G)"
   ]
  },
  {
   "cell_type": "markdown",
   "metadata": {
    "slideshow": {
     "slide_type": "notes"
    }
   },
   "source": [
    "A executable script version of this example is available as [ssmodels.mlx](matlab/ssmodels.mlx)."
   ]
  },
  {
   "cell_type": "markdown",
   "metadata": {
    "slideshow": {
     "slide_type": "slide"
    }
   },
   "source": [
    "## Some Important Properties"
   ]
  },
  {
   "cell_type": "markdown",
   "metadata": {
    "slideshow": {
     "slide_type": "subslide"
    }
   },
   "source": [
    "### System poles\n",
    "\n",
    "Clearly the denominator of the transfer function is generated by the\n",
    "matrix inverse which produces the term: \n",
    "\n",
    "$$\\det[s\\mathbf{I}-\\mathbf{A}]$$"
   ]
  },
  {
   "cell_type": "markdown",
   "metadata": {
    "slideshow": {
     "slide_type": "fragment"
    }
   },
   "source": [
    "This evaluates to the denominator polynomial and the poles of the system\n",
    "are the roots of the system's characteristic equation:\n",
    "\n",
    "$$\\det[s\\mathbf{I}-\\mathbf{A}] = 0.$$"
   ]
  },
  {
   "cell_type": "markdown",
   "metadata": {
    "slideshow": {
     "slide_type": "fragment"
    }
   },
   "source": [
    "The system poles are solutions to the system's characteristic equation\n",
    "\n",
    "$$\\det[s\\mathbf{I}-\\mathbf{A}] = 0.$$"
   ]
  },
  {
   "cell_type": "markdown",
   "metadata": {
    "slideshow": {
     "slide_type": "subslide"
    }
   },
   "source": [
    "### System zeros\n",
    "\n",
    "What is the corresponding numerator polynomial of the transfer function,\n",
    "whose roots give the zeros of the system? "
   ]
  },
  {
   "cell_type": "markdown",
   "metadata": {
    "slideshow": {
     "slide_type": "fragment"
    }
   },
   "source": [
    "The zeros are those values of\n",
    "$s$ for which the output is zero when the input and states are not zero."
   ]
  },
  {
   "cell_type": "markdown",
   "metadata": {
    "slideshow": {
     "slide_type": "fragment"
    }
   },
   "source": [
    "Thus: $$\\begin{eqnarray*}\n",
    "(s\\mathbf{I}-\\mathbf{A})\\mathbf{X}-\\mathbf{B}U & = & \\mathbf{0} \\\\\n",
    "\\mathbf{CX}+dU = Y & = & 0\\end{eqnarray*}$$ "
   ]
  },
  {
   "cell_type": "markdown",
   "metadata": {
    "slideshow": {
     "slide_type": "subslide"
    }
   },
   "source": [
    "In matrix form:\n",
    "\n",
    "$$\\left[ {\\begin{array}{*{20}c}\n",
    "   {s{\\bf{I}} - {\\bf{A}}} &  \\vdots  & {\\bf{B}}  \\\\\n",
    "    \\cdots  &  \\cdots  &  \\cdots   \\\\\n",
    "   {\\bf{C}} &  \\vdots  & d  \\\\\n",
    "\\end{array}} \\right]\\left[ {\\begin{array}{*{20}c}\n",
    "   {\\bf{X}}  \\\\\n",
    "    \\cdots   \\\\\n",
    "   U  \\\\\n",
    "\\end{array}} \\right] = \\left[ {\\begin{array}{*{20}c}\n",
    "   {\\bf{0}}  \\\\\n",
    "    \\cdots   \\\\\n",
    "   0  \\\\\n",
    "\\end{array}} \\right]$$"
   ]
  },
  {
   "cell_type": "markdown",
   "metadata": {
    "slideshow": {
     "slide_type": "subslide"
    }
   },
   "source": [
    "The only way this can have non-zero solutions in $\\mathbf{X}$ and $U$ is\n",
    "if: \n",
    "\n",
    "$$\\det \\left[ {\\begin{array}{*{20}c}\n",
    "   {s{\\bf{I}} - {\\bf{A}}} &  \\vdots  & {\\bf{B}}  \\\\\n",
    "    \\cdots  &  \\cdots  &  \\cdots   \\\\\n",
    "   {\\bf{C}} &  \\vdots  & d  \\\\\n",
    "\\end{array}} \\right] = 0$$ "
   ]
  },
  {
   "cell_type": "markdown",
   "metadata": {
    "slideshow": {
     "slide_type": "fragment"
    }
   },
   "source": [
    "This is another polynomial in $s$ whose roots\n",
    "give the system zeros and therefore corresponds to the numerator\n",
    "polynomial of the TF."
   ]
  },
  {
   "cell_type": "markdown",
   "metadata": {
    "slideshow": {
     "slide_type": "subslide"
    }
   },
   "source": [
    "Given this result, an alternative expression for the TF is:\n",
    "\n",
    "$$\\frac{Y(s)}{U(s)} = \\frac{\\det \\left[ \\begin{array}{*{20}c}\n",
    "   s\\bf{I} - \\bf{A} &  \\vdots  & \\bf{B}  \\\\\n",
    "    \\cdots  &  \\cdots  &  \\cdots   \\\\\n",
    "   \\bf{C} &  \\vdots  & d  \\\\\n",
    "\\end{array} \\right]}{\\det [s\\bf{I} - \\bf{A}]}$$"
   ]
  },
  {
   "cell_type": "markdown",
   "metadata": {
    "slideshow": {
     "slide_type": "slide"
    }
   },
   "source": [
    "## Time Responses from Transfer Function Matrices\n",
    "\n",
    "In the [next section](../3/tr4ss) we will consider how we can use the transfer function model to compute time responses from state-space models."
   ]
  },
  {
   "cell_type": "markdown",
   "metadata": {
    "slideshow": {
     "slide_type": "notes"
    }
   },
   "source": [
    "## Footnote\n",
    "\n",
    "1. $\\epsilon(t)$ is the unit step function $\\epsilon(t)=0$ for\n",
    "    $t < 0$; $\\epsilon(t)=1$ for $t \\ge 0$.\n"
   ]
  }
 ],
 "metadata": {
  "celltoolbar": "Slideshow",
  "kernelspec": {
   "display_name": "Matlab",
   "language": "matlab",
   "name": "matlab"
  },
  "language_info": {
   "codemirror_mode": "octave",
   "file_extension": ".m",
   "help_links": [
    {
     "text": "MetaKernel Magics",
     "url": "https://metakernel.readthedocs.io/en/latest/source/README.html"
    }
   ],
   "mimetype": "text/x-octave",
   "name": "matlab",
   "version": "0.16.7"
  }
 },
 "nbformat": 4,
 "nbformat_minor": 2
}
