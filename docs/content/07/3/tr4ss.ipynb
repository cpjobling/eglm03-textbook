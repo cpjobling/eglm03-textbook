{
 "cells": [
  {
   "cell_type": "markdown",
   "metadata": {
    "slideshow": {
     "slide_type": "slide"
    }
   },
   "source": [
    "# Time Response for State Space Models \n",
    "\n",
    "In this section we shall determine the time response of a system\n",
    "represented by a state-space model. We shall take as a starting point\n",
    "the transformed state space model developed in the [last section](../2/tf4ss). \n",
    "\n",
    "It is\n",
    "possible to derive the time response directly in the time domain from\n",
    "the state-equations. I believe however, that the following development\n",
    "will be easier to understand. I advise you to consult any text book for\n",
    "the time domain development."
   ]
  },
  {
   "cell_type": "markdown",
   "metadata": {
    "slideshow": {
     "slide_type": "subslide"
    }
   },
   "source": [
    "In the [last section](../2/tf4ss), we showed that the state space model was \n",
    "\n",
    "$$\\begin{eqnarray*}\n",
    "     \\dot{\\mathbf{x}}(t) & = &\n",
    "            \\mathbf{A}\\mathbf{x}(t)+\\mathbf{B}\\mathbf{u}(t) \\\\\\\\\n",
    "          \\mathbf{y}(t) & = &\n",
    "             \\mathbf{C}\\mathbf{x}(t)+\\mathbf{D}\\mathbf{u}(t)\n",
    "   \\end{eqnarray*}$$"
   ]
  },
  {
   "cell_type": "markdown",
   "metadata": {
    "slideshow": {
     "slide_type": "fragment"
    }
   },
   "source": [
    "and that\n",
    "the transformed equation was \n",
    "\n",
    "$$\\begin{eqnarray*}\n",
    "    s\\mathbf{X}(s) - \\mathbf{x}(0) & = &\n",
    "                 \\mathbf{A}\\mathbf{X}(s)+\\mathbf{B}\\mathbf{U}(s) \\\\\\\\\n",
    "     \\mathbf{Y}(s)                 & = &\n",
    "                 \\mathbf{C}\\mathbf{X}(s)+\\mathbf{D}\\mathbf{U}(s)\n",
    "  \\end{eqnarray*}$$\n",
    "  "
   ]
  },
  {
   "cell_type": "markdown",
   "metadata": {
    "slideshow": {
     "slide_type": "subslide"
    }
   },
   "source": [
    "In this section we will show how the time\n",
    "response of the state space model may be derived from the transformed\n",
    "model."
   ]
  },
  {
   "cell_type": "markdown",
   "metadata": {
    "slideshow": {
     "slide_type": "slide"
    }
   },
   "source": [
    "## Zero Input Response \n",
    "\n",
    "We first consider the response of the system to its initial conditions\n",
    "and zero input. This is the *zero input response* or homogeneous\n",
    "response of the system. "
   ]
  },
  {
   "cell_type": "markdown",
   "metadata": {
    "slideshow": {
     "slide_type": "fragment"
    }
   },
   "source": [
    "With the input transform $U(s)=0$ the state\n",
    "equation becomes \n",
    "\n",
    "$$\\mathbf{X}(s)=\\left[s\\mathbf{I}-\\mathbf{A}\\right]^{-1}\\mathbf{x}(0).$$ "
   ]
  },
  {
   "cell_type": "markdown",
   "metadata": {
    "slideshow": {
     "slide_type": "fragment"
    }
   },
   "source": [
    "We define\n",
    "$$\\Phi(s) = \\left[s\\mathbf{I}-\\mathbf{A}\\right]^{-1}$$ "
   ]
  },
  {
   "cell_type": "markdown",
   "metadata": {
    "slideshow": {
     "slide_type": "subslide"
    }
   },
   "source": [
    "so that \n",
    "\n",
    "$$\\begin{equation}\\label{eq:l4eq1}\n",
    "\\mathbf{X}(s)=\\Phi(s)\\mathbf{x}(0)\\end{equation}$$ \n",
    "\n",
    "is the transform of the zero input\n",
    "state response. "
   ]
  },
  {
   "cell_type": "markdown",
   "metadata": {
    "slideshow": {
     "slide_type": "subslide"
    }
   },
   "source": [
    "In the time domain, the corresponding state response is\n",
    "given by the inverse Laplace transform of\n",
    "equation (1)\n",
    "\n",
    "$$\\begin{equation}\\label{eq:l4eq2} \\mathbf{x}(t) = \\mathcal{L}^{-1}\n",
    "\\left\\{\\Phi(s)\\mathbf{x}(0)\\right\\},\\end{equation}$$ "
   ]
  },
  {
   "cell_type": "markdown",
   "metadata": {
    "slideshow": {
     "slide_type": "fragment"
    }
   },
   "source": [
    "which, since the initial\n",
    "condition vector $\\mathbf{x}(0)$ is a vector of constants becomes:\n",
    "\n",
    "$$\\begin{eqnarray}\n",
    "\\mathbf{x}(t) & = & \\mathcal{L}^{-1}\n",
    "\\left\\{\\Phi(s)\\right\\}\\mathbf{x}(0)\\nonumber \\\\ & = &\n",
    "\\phi(t)\\mathbf{x}(0).\\label{eq:l4eq3}\\end{eqnarray}$$"
   ]
  },
  {
   "cell_type": "markdown",
   "metadata": {
    "slideshow": {
     "slide_type": "subslide"
    }
   },
   "source": [
    "### Resolvent matrix\n",
    "\n",
    "The *resolvent matrix* is defined as \n",
    "\n",
    "$$\\Phi(s) = \\left[s\\mathbf{I}-\\mathbf{A}\\right]^{-1} =\n",
    "\\frac{\\mathrm{adj}\\left[s\\mathbf{I}-\\mathbf{A}{}\\right]}{\\left|s\\mathbf{I}-\\mathbf{A}\\right|}.$$ "
   ]
  },
  {
   "cell_type": "markdown",
   "metadata": {
    "slideshow": {
     "slide_type": "fragment"
    }
   },
   "source": [
    "The resolvent matrix is a matrix of rational polynomials in the Laplace transform variable $s$. "
   ]
  },
  {
   "cell_type": "markdown",
   "metadata": {
    "slideshow": {
     "slide_type": "subslide"
    }
   },
   "source": [
    "The state transition matrix is \n",
    "\n",
    "$$\\phi(t) = \\mathcal{L}^{-1}\\left\\{\\frac{\\mathrm{adj}\\left[s\\mathbf{I}-\\mathbf{A}{}\\right]}{\\left|s\\mathbf{I}-\\mathbf{A}\\right|}\\right\\}.$$ \n",
    "\n",
    "What is the form of this function?"
   ]
  },
  {
   "cell_type": "markdown",
   "metadata": {
    "slideshow": {
     "slide_type": "slide"
    }
   },
   "source": [
    "## State Transition Matrix\n",
    "\n",
    "The vector of time functions $\\phi(t)$ is known as the *state transition\n",
    "matrix*. It defines the motion (or *trajectory*) of the state variables\n",
    "through the $n$-dimensional *state space* from a given set of initial\n",
    "states."
   ]
  },
  {
   "cell_type": "markdown",
   "metadata": {
    "slideshow": {
     "slide_type": "subslide"
    }
   },
   "source": [
    "### Characteristic Polynomial\n",
    "\n",
    "The adjoint\n",
    "matrix $\\mathrm{adj}\\left[s\\mathbf{I}-\\mathbf{A}{}\\right]$ is a matrix of polynomials each of which is of\n",
    "order $n-1$ or less. "
   ]
  },
  {
   "cell_type": "markdown",
   "metadata": {
    "slideshow": {
     "slide_type": "subslide"
    }
   },
   "source": [
    "The determinant\n",
    "$$\\left|s\\mathbf{I}-\\mathbf{A}\\right| = \\left|\\begin{array}{cccc}\n",
    "  s-a_{11} & -a_{12} & \\cdots & -a_{1n} \\\\\n",
    "  -a_{21} & s-a_{22} & \\cdots & -a_{2n} \\\\\n",
    "  \\vdots & \\vdots & \\ddots & \\vdots \\\\\n",
    "  -a_{n1} & -a_{2n} & \\cdots & s-a_{nn}\n",
    "\\end{array}\\right|$$ "
   ]
  },
  {
   "cell_type": "markdown",
   "metadata": {
    "slideshow": {
     "slide_type": "fragment"
    }
   },
   "source": [
    "is called the *characteristic polynomial*. It is\n",
    "always a polynomial of degree $n$. "
   ]
  },
  {
   "cell_type": "markdown",
   "metadata": {
    "slideshow": {
     "slide_type": "subslide"
    }
   },
   "source": [
    "Therefore each element of the\n",
    "resolvent matrix $\\Phi(s)$ is of the form\n",
    "\n",
    "$$\\frac{b_{n-1}s^{n-1}+ \\cdots + b_0}{s^n + a_{n-1}s^{n-1}+\\cdots+a_0}.$$"
   ]
  },
  {
   "cell_type": "markdown",
   "metadata": {
    "slideshow": {
     "slide_type": "subslide"
    }
   },
   "source": [
    "### System Characteristic (or Eigen) Values"
   ]
  },
  {
   "cell_type": "markdown",
   "metadata": {
    "slideshow": {
     "slide_type": "notes"
    }
   },
   "source": [
    "The\n",
    "coefficients $b_i$ of each element of the resolvent matrix $\\Phi(s)$\n",
    "depend on the form of the system. The characteristic polynomial\n",
    "$\\left|s\\mathbf{I}-\\mathbf{A}\\right|$ is the common denominator of all elements of $\\Phi(s)$."
   ]
  },
  {
   "cell_type": "markdown",
   "metadata": {
    "slideshow": {
     "slide_type": "fragment"
    }
   },
   "source": [
    "$\\Phi(s)$ may be factorized: \n",
    "\n",
    "$$\\begin{eqnarray*}\n",
    "\\left|s\\mathbf{I}-\\mathbf{A}\\right|&=&s^n + a_{n-1}s^{n-1} + \\cdots + a_1s + a_0\n",
    "\\\\\n",
    "&=&(s - p_1)(s-p_2)\\cdots(s-p_n)\\end{eqnarray*}$$"
   ]
  },
  {
   "cell_type": "markdown",
   "metadata": {
    "slideshow": {
     "slide_type": "fragment"
    }
   },
   "source": [
    "The values $p_i$ are\n",
    "known as the *characteristic* (or *eigen*) values of the state matrix\n",
    "$\\mathbf{A}$. The characteristic values are the *poles* of the system!"
   ]
  },
  {
   "cell_type": "markdown",
   "metadata": {
    "slideshow": {
     "slide_type": "subslide"
    }
   },
   "source": [
    "## Zero-input response\n",
    "\n",
    "If we make\n",
    "a partial fraction expansion of the characteristic equation, then for\n",
    "the $i$-$j$th element of the resolvent matrix we have\n",
    "\n",
    "$$\\Phi_{ij}(s)=\\frac{r_1}{s-p_1}+\\frac{r_2}{s-p_2} + \\cdots +\n",
    "\\frac{r_n}{s-p_n}$$"
   ]
  },
  {
   "cell_type": "markdown",
   "metadata": {
    "slideshow": {
     "slide_type": "notes"
    }
   },
   "source": [
    "(where the coefficient $r_i$ is the so called\n",
    "*residue* of the partial fraction expansion determined at the value\n",
    "$s=p_i$). "
   ]
  },
  {
   "cell_type": "markdown",
   "metadata": {
    "slideshow": {
     "slide_type": "fragment"
    }
   },
   "source": [
    "Inverse Laplace transforming this equation we finally obtain\n",
    "the *state transition* function:\n",
    "\n",
    "$$\\phi_{ij}(t) = r_1 e^{p_1 t} + r_2 e^{p_2 t} + \\cdots + r_n\n",
    "e^{p_n t}.$$"
   ]
  },
  {
   "cell_type": "markdown",
   "metadata": {
    "slideshow": {
     "slide_type": "subslide"
    }
   },
   "source": [
    "### System 'modes'\n",
    "\n",
    "The state\n",
    "transition matrix $\\phi(t)$ is an $n\\times n$ matrix, each element of\n",
    "which is a linear combination of the $n$ \"mode functions\" (or simply\n",
    "*modes*) "
   ]
  },
  {
   "cell_type": "markdown",
   "metadata": {
    "slideshow": {
     "slide_type": "fragment"
    }
   },
   "source": [
    "$$e^{p_1 t},\\ e^{p_2 t},\\ \\ldots,\\ e^{p_n t}.$$ "
   ]
  },
  {
   "cell_type": "markdown",
   "metadata": {
    "slideshow": {
     "slide_type": "fragment"
    }
   },
   "source": [
    "Each mode is\n",
    "constructed from the eigenvalues ($p_1,\\ p_2,\\ \\ldots,\\ p_n$) of the\n",
    "state matrix $\\mathbf{A}$. "
   ]
  },
  {
   "cell_type": "markdown",
   "metadata": {
    "slideshow": {
     "slide_type": "fragment"
    }
   },
   "source": [
    "The eigenvalues are also known as the\n",
    "*poles* of the system."
   ]
  },
  {
   "cell_type": "markdown",
   "metadata": {
    "slideshow": {
     "slide_type": "notes"
    }
   },
   "source": [
    "### Example\n",
    "\n",
    "If \n",
    "\n",
    "$$\\mathbf{A} = \\left[\\begin{array}{cc}\n",
    "  0 & 1 \\\\\n",
    "  -6 & -5\n",
    "\\end{array}\\right]$$ "
   ]
  },
  {
   "cell_type": "markdown",
   "metadata": {
    "slideshow": {
     "slide_type": "notes"
    }
   },
   "source": [
    "$$s\\mathbf{I}-\\mathbf{A} = \\left[\\begin{array}{cc}\n",
    "  s & -1 \\\\\n",
    "  6 & s+5\n",
    "\\end{array}\\right]$$ "
   ]
  },
  {
   "cell_type": "markdown",
   "metadata": {
    "slideshow": {
     "slide_type": "notes"
    }
   },
   "source": [
    "so \n",
    "\n",
    "$$\\left|s\\mathbf{I}-\\mathbf{A}\\right| = s^2 + 5s + 6 = (s+2)(s+3).$$"
   ]
  },
  {
   "cell_type": "markdown",
   "metadata": {
    "slideshow": {
     "slide_type": "notes"
    }
   },
   "source": [
    "The characteristic values of the system are $p_1=-2$ and $p_2=-3$ so the\n",
    "modes are $e^{-2t}$ and $e^{-3t}$."
   ]
  },
  {
   "cell_type": "markdown",
   "metadata": {
    "slideshow": {
     "slide_type": "notes"
    }
   },
   "source": [
    "Now \n",
    "\n",
    "$$\\mathrm{adj}\\left[s\\mathbf{I}-\\mathbf{A}{}\\right] = \\left[\\begin{array}{cc}\n",
    "  s+5 & 1 \\\\\n",
    "  -6 & s\n",
    "\\end{array}\\right]$$ "
   ]
  },
  {
   "cell_type": "markdown",
   "metadata": {
    "slideshow": {
     "slide_type": "notes"
    }
   },
   "source": [
    "so the resolvent matrix is\n",
    "\n",
    "$$\\Phi(s) = \\left[\\begin{array}{cc}\n",
    "  \\frac{s+5}{(s+2)(s+3)} & \\frac{1}{(s+2)(s+3)} \\\\\n",
    "  \\frac{-6}{(s+2)(s+3)} & \\frac{s}{(s+2)(s+3)}\n",
    "\\end{array}\\right].$$ "
   ]
  },
  {
   "cell_type": "markdown",
   "metadata": {
    "slideshow": {
     "slide_type": "notes"
    }
   },
   "source": [
    "Expanding each element of $\\Phi(s)$ we get\n",
    "\n",
    "$$\\Phi(s) = \\left[\\begin{array}{cc}\n",
    "  \\frac{3}{s+2}-\\frac{2}{s+3} & \\frac{1}{s+2}-\\frac{1}{s+3} \\\\\n",
    "  \\frac{-6}{s+2}+\\frac{6}{s+3} & -\\frac{2}{s+2}+\\frac{3}{s+3}\n",
    "\\end{array}\\right].$$ "
   ]
  },
  {
   "cell_type": "markdown",
   "metadata": {
    "slideshow": {
     "slide_type": "notes"
    }
   },
   "source": [
    "Inverse Laplace transforming this we get the final\n",
    "state transition matrix, representing the zero-input response of the\n",
    "system: \n",
    "\n",
    "$$\\phi(t)=\\left[\\begin{array}{cc}\n",
    "  3e^{-2t}-2e^{-3t} & e^{-2t}-e^{-3t} \\\\\n",
    " -6e^{-2t}+6e^{-3t} & -2e^{-2t}+3e^{-3t}\n",
    "\\end{array}\\right].$$"
   ]
  },
  {
   "cell_type": "markdown",
   "metadata": {
    "slideshow": {
     "slide_type": "notes"
    }
   },
   "source": [
    "Note that, by an alternative derivation<sup>1</sup>, we can show that\n",
    "\n",
    "$$\\phi(t)=e^{\\mathbf{A}t}$$\n",
    "\n",
    "where $e^{\\mathbf{A}t}$ is called the matrix\n",
    "exponential."
   ]
  },
  {
   "cell_type": "markdown",
   "metadata": {
    "slideshow": {
     "slide_type": "slide"
    }
   },
   "source": [
    "### Zero Input System Response\n",
    "\n",
    "For non-zero\n",
    "initial conditions and zero input we have \n",
    "\n",
    "$$\\begin{eqnarray}\n",
    "\\label{eq:l4eq6a}\n",
    "  \\mathbf{X}(s)&=&\\left[s\\mathbf{I}-\\mathbf{A}\\right]^{-1}\\mathbf{x}(0) \\nonumber\\\\\n",
    "&=& \\Phi(s)\\mathbf{x}(0) \\label{eq:l4eq7a}\\end{eqnarray}$$ "
   ]
  },
  {
   "cell_type": "markdown",
   "metadata": {
    "slideshow": {
     "slide_type": "fragment"
    }
   },
   "source": [
    "The zero-input\n",
    "system output transform is therefore given by \n",
    "\n",
    "$$\\begin{equation}\\label{eq:l4eq8a}\n",
    " \\mathbf{Y}_\\mathrm{zi}(s)=\\mathbf{C}\\Phi(s)\\mathbf{x}(0).\\end{equation}$$"
   ]
  },
  {
   "cell_type": "markdown",
   "metadata": {
    "slideshow": {
     "slide_type": "notes"
    }
   },
   "source": [
    "Because we have already shown that $\\phi(t)$ will be a linear\n",
    "combination of modes, the unforced system response $y(t)$ will be\n",
    "another linear combination of the same modes."
   ]
  },
  {
   "cell_type": "markdown",
   "metadata": {
    "slideshow": {
     "slide_type": "notes"
    }
   },
   "source": [
    "We now consider the case where the initial condition vector\n",
    "$\\mathbf{x}(0)=\\mathbf{0}$ and we will obtain the response of the system\n",
    "to an input. This is called the *zero state response* of the system."
   ]
  },
  {
   "cell_type": "markdown",
   "metadata": {
    "slideshow": {
     "slide_type": "slide"
    }
   },
   "source": [
    "## The Zero State Response \n",
    "\n",
    "For zero initial\n",
    "conditions we have \n",
    "\n",
    "$$\\begin{eqnarray}\n",
    "\\label{eq:l4eq6}\n",
    "  \\mathbf{X}(s)&=&\\left[s\\mathbf{I}-\\mathbf{A}\\right]^{-1}\\mathbf{B}\\mathbf{U}(s) \\nonumber \\\\\n",
    "&=& \\Phi(s)\\mathbf{B}\\mathbf{U}(s) \\label{eq:l4eq7}\\end{eqnarray}$$ "
   ]
  },
  {
   "cell_type": "markdown",
   "metadata": {
    "slideshow": {
     "slide_type": "fragment"
    }
   },
   "source": [
    "The\n",
    "system output transform (forced response) is given by \n",
    "\n",
    "$$\\begin{equation}\\label{eq:l4eq8}\n",
    " \\mathbf{Y}_{\\mathrm{zs}}(s)=\\left[\\mathbf{C}\\Phi(s)\\mathbf{B}+\\mathbf{D}\\right]\\mathbf{U}(s)\\end{equation}$$"
   ]
  },
  {
   "cell_type": "markdown",
   "metadata": {
    "slideshow": {
     "slide_type": "notes"
    }
   },
   "source": [
    "(where $\\mathbf{C}\\Phi(s)\\mathbf{B}+\\mathbf{D}$ is the system transfer matrix)."
   ]
  },
  {
   "cell_type": "markdown",
   "metadata": {
    "slideshow": {
     "slide_type": "slide"
    }
   },
   "source": [
    "## Full System Response \n",
    "\n",
    "The full system response for the state-space model is simply the sum of\n",
    "the zero-state and zero-input responses: \n",
    "\n",
    "$$\\begin{eqnarray}\n",
    "\\mathbf{Y}_{\\mathrm{full}}(s) &=& \\mathbf{Y}_{\\mathrm{zs}}(s) +\n",
    "\\mathbf{Y}_{\\mathrm{zi}}(s)\\nonumber\\\\ &=&\n",
    "\\mathbf{C}\\Phi(s)\\left[\\mathbf{x}(0)+\\mathbf{B}\\mathbf{U}(s)\\right] + \\mathbf{DU}(s).\\end{eqnarray}$$"
   ]
  },
  {
   "cell_type": "markdown",
   "metadata": {
    "slideshow": {
     "slide_type": "subslide"
    }
   },
   "source": [
    "## End of Pre-Class Presentation"
   ]
  },
  {
   "cell_type": "markdown",
   "metadata": {
    "slideshow": {
     "slide_type": "fragment"
    }
   },
   "source": [
    "In the class we will reinforce these concepts by working through an\n",
    "example in detail."
   ]
  },
  {
   "cell_type": "markdown",
   "metadata": {
    "slideshow": {
     "slide_type": "slide"
    }
   },
   "source": [
    "## Example"
   ]
  },
  {
   "cell_type": "markdown",
   "metadata": {
    "slideshow": {
     "slide_type": "fragment"
    }
   },
   "source": [
    "Let\n",
    "\n",
    "$$\\begin{eqnarray*}\n",
    "\\dot{\\mathbf{x}}&=&\\left[\\begin{array}{cc}\n",
    "  0 & 1 \\\\\n",
    "  -6 & -5\n",
    "\\end{array}\\right]\\mathbf{x}+\\left[\\begin{array}{cc}\n",
    "  2 & 1 \\\\\n",
    " -1 & 0\n",
    "\\end{array}\\right]\\mathbf{u}\\\\\n",
    "\\mathbf{y}&=&\\left[\\begin{array}{cc}\n",
    "  2 & -1 \\\\\n",
    "  0 & 1\n",
    "\\end{array}\\right]\\mathbf{x}\\\\ \\mathbf{u}&=&\\left[\\begin{array}{c}\n",
    "  e^{-t} \\\\\n",
    "  \\epsilon(t)\n",
    "\\end{array}\\right].\\end{eqnarray*}$$ "
   ]
  },
  {
   "cell_type": "markdown",
   "metadata": {
    "slideshow": {
     "slide_type": "subslide"
    }
   },
   "source": [
    "Calculate the full system response\n",
    "for this system given that the initial conditions are\n",
    "$\\mathbf{x}(0)=[-1, 1]^T$."
   ]
  },
  {
   "cell_type": "markdown",
   "metadata": {
    "slideshow": {
     "slide_type": "notes"
    }
   },
   "source": [
    "### Solution to Example\n",
    "\n",
    "The transfer function is \n",
    "\n",
    "$$\\begin{eqnarray*}\n",
    "\\mathbf{G}(s)&=&\\mathbf{C}\\Phi(s)\\mathbf{B} =\n",
    "\\left[\\begin{array}{cc}\n",
    "  2 & -1 \\\\\n",
    "  0 & 1\n",
    "\\end{array}\\right]\n",
    "\\left[\\begin{array}{cc}\n",
    "  \\frac{s+5}{(s+2)(s+3)} & \\frac{1}{(s+2)(s+3)} \\\\\n",
    "  \\frac{-6}{(s+2)(s+3)} & \\frac{s}{(s+2)(s+3)}\n",
    "\\end{array}\\right]\\left[\\begin{array}{cc}\n",
    "  2 & 1 \\\\\n",
    " -1 & 0\n",
    "\\end{array}\\right]\\\\\n",
    "&=&\\left[\\begin{array}{cc}\n",
    "  2 & -1 \\\\\n",
    "  0 & 1\n",
    "\\end{array}\\right]\n",
    "\\left[\\begin{array}{cc}\n",
    "  \\frac{2s+9}{(s+2)(s+3)} & \\frac{s+5}{(s+2)(s+3)} \\\\\n",
    "  \\frac{-s-12}{(s+2)(s+3)} & \\frac{-6}{(s+2)(s+3)}\n",
    "\\end{array}\\right]\\\\\n",
    "&=& \\left[\\begin{array}{cc}\n",
    "  \\frac{5s+30}{(s+2)(s+3)} & \\frac{2s+16}{(s+2)(s+3)} \\\\\n",
    "   \\frac{-s-12}{(s+2)(s+3)} & \\frac{-6}{(s+2)(s+3)}\n",
    "\\end{array}\\right]\\end{eqnarray*}$$\n",
    "\n",
    "The transform of the input vector is\n",
    "\n",
    "$$\\mathbf{U}(s) = \\mathcal{L}\\left[\\begin{array}{c}\n",
    "  e^{-t} \\\\\n",
    "  \\epsilon(t)\n",
    "\\end{array}\\right] = \\left[\\begin{array}{c}\n",
    "  \\frac{1}{s+1} \\\\\n",
    "  \\frac{1}{s}\n",
    "\\end{array}\\right].$$ Hence $$\\begin{eqnarray*}\n",
    "\\mathbf{Y}(s) &=& \\left[\\begin{array}{cc}\n",
    "  \\frac{5s+30}{(s+2)(s+3)} & \\frac{2s+16}{(s+2)(s+3)} \\\\\n",
    "   \\frac{-s-12}{(s+2)(s+3)} & \\frac{-6}{(s+2)(s+3)}\n",
    "\\end{array}\\right]\\left[\\begin{array}{c}\n",
    "  \\frac{1}{s+1} \\\\\n",
    "  \\frac{1}{s}\n",
    "\\end{array}\\right]\\\\\n",
    "&=&\\left[\\begin{array}{c}\n",
    "  \\frac{7s^2+48s+16}{s(s+1)(s+2)(s+3)} \\\\\n",
    "  \\frac{-(s^2+18s+6)}{s(s+1)(s+2)(s+3)}\n",
    "\\end{array}\\right] = \\left[\\begin{array}{c}\n",
    "  \\frac{8/3}{s}+\\frac{25/2}{s+1}-\\frac{26}{s+2}+\\frac{65/6}{s+3} \\\\\n",
    "   -\\frac{1}{s}-\\frac{11/2}{s+1}+\\frac{13}{s+2}-\\frac{13/2}{s+3}\n",
    "\\end{array}\\right]\\end{eqnarray*}$$\n",
    "\n",
    "Inverse Laplace transforming the previous result gives the zero-state\n",
    "output response of the system: \n",
    "\n",
    "$$\\left[\\begin{array}{c}\n",
    "  \\frac{8}{3}\\epsilon(t)+\\frac{25}{2}e^{-t}-26e^{-2t}+\\frac{65}{6}e^{-3t} \\\\\n",
    "   -\\epsilon(t)-\\frac{11}{2}e^{-t}+13e^{-2t}-\\frac{13}{2}e^{-3t}\n",
    "\\end{array}\\right].$$ \n",
    "\n",
    "Note that response is now a linear combination of\n",
    "the system modes ($e^{-2t}$ and $e^{-3t}$) and the input modes\n",
    "($\\epsilon(t)$ \\[the unit step function\\] and $e^{-t}$).\n",
    "\n",
    "If the initial condition vector $\\mathbf{x}(0)=[-1, 1]^T$ what is the\n",
    "total response of the system?\n",
    "\n",
    "$$\\begin{eqnarray*}\n",
    " \\mathbf{Y}(s)&=&\n",
    "\\left[\\begin{array}{cc}\n",
    "  2 & -1 \\\\\n",
    "  0 & 1\n",
    "\\end{array}\\right]\n",
    "\\left[\\begin{array}{cc}\n",
    "  \\frac{s+5}{(s+2)(s+3)} & \\frac{1}{(s+2)(s+3)} \\\\\n",
    "  \\frac{-6}{(s+2)(s+3)} & \\frac{s}{(s+2)(s+3)}\n",
    "\\end{array}\\right]\\\\\n",
    "&\\times& \\left\\{\\left[\\begin{array}{c}\n",
    "  -1 \\\\\n",
    "  1\n",
    "\\end{array}\\right]+\\left[\\begin{array}{cc}\n",
    "  2 & 1 \\\\\n",
    "  -1 & 0\n",
    "\\end{array}\\right]\\left[\\begin{array}{c}\n",
    "  \\frac{1}{s+1} \\\\\n",
    "  \\frac{1}{s}\n",
    "\\end{array}\\right]\\right\\}\\\\\n",
    "&=& \\left[\\begin{array}{cc}\n",
    "  \\frac{2s+16}{(s+2)(s+3)} & \\frac{-s+2}{(s+2)(s+3)} \\\\\n",
    "  \\frac{-6}{(s+2)(s+3)} & \\frac{s}{(s+2)(s+3)}\n",
    "\\end{array}\\right]\\left[\\begin{array}{c}\n",
    "  \\frac{-s^2+2s+1}{s(s+1)} \\\\\n",
    "  \\frac{s^2}{s(s+1)}\n",
    "\\end{array}\\right]\\end{eqnarray*}$$\n",
    "\n",
    "$$\\begin{eqnarray*}\n",
    "\\mathbf{Y}(s)&=& \\left[\\begin{array}{c}\n",
    "  \\frac{-3s^2-10s^2+34s+16}{s(s+1)(s+2)(s+3)} \\\\\n",
    "  \\frac{s^3+6s^2-12s-6}{s(s+1)(s+2)(s+3)}\n",
    "\\end{array}\\right]\\\\\n",
    "\\mathbf{y}(t)&=& \\left[\\begin{array}{c}\n",
    "  \\frac{8}{3}\\epsilon(t)+\\frac{25}{2}e^{-t}-34e^{-2t}+\\frac{59}{6}e^{-3t} \\\\\n",
    "   -\\epsilon(t)-\\frac{11}{2}e^{-t}+17e^{-2t}-\\frac{19}{2}e^{-3t}\n",
    "\\end{array}\\right].\\end{eqnarray*}$$"
   ]
  },
  {
   "cell_type": "markdown",
   "metadata": {
    "slideshow": {
     "slide_type": "slide"
    }
   },
   "source": [
    "### Solving this problem in MATLAB"
   ]
  },
  {
   "cell_type": "markdown",
   "metadata": {
    "slideshow": {
     "slide_type": "notes"
    }
   },
   "source": [
    "We can use the symbolic toolbox!"
   ]
  },
  {
   "cell_type": "markdown",
   "metadata": {
    "slideshow": {
     "slide_type": "fragment"
    }
   },
   "source": [
    "Set up the problem ... we can use ordinary matrices for this"
   ]
  },
  {
   "cell_type": "code",
   "execution_count": 1,
   "metadata": {
    "slideshow": {
     "slide_type": "fragment"
    }
   },
   "outputs": [],
   "source": [
    "format compact\n",
    "A = [0, 1; -6, -5]; B = [2, 1; -1, 0];\n",
    "C = [2, -1; 0, 1]; D = [0, 0; 0, 0];\n",
    "x0 = [-1, 1]';"
   ]
  },
  {
   "cell_type": "markdown",
   "metadata": {
    "slideshow": {
     "slide_type": "subslide"
    }
   },
   "source": [
    "Now define $s$ and $t$ as symbolic variables"
   ]
  },
  {
   "cell_type": "code",
   "execution_count": 2,
   "metadata": {
    "slideshow": {
     "slide_type": "fragment"
    }
   },
   "outputs": [],
   "source": [
    " syms t s"
   ]
  },
  {
   "cell_type": "markdown",
   "metadata": {
    "slideshow": {
     "slide_type": "subslide"
    }
   },
   "source": [
    "Define input vector $\\mathbf{U}(s)$"
   ]
  },
  {
   "cell_type": "code",
   "execution_count": 3,
   "metadata": {
    "slideshow": {
     "slide_type": "fragment"
    }
   },
   "outputs": [
    {
     "name": "stdout",
     "output_type": "stream",
     "text": [
      "Us =\n",
      " 1/(s + 1)\n",
      "       1/s\n"
     ]
    }
   ],
   "source": [
    "u = [exp(-t);heaviside(t)];\n",
    "Us = laplace(u)"
   ]
  },
  {
   "cell_type": "markdown",
   "metadata": {
    "slideshow": {
     "slide_type": "subslide"
    }
   },
   "source": [
    "Compute $\\Phi(s)$"
   ]
  },
  {
   "cell_type": "code",
   "execution_count": 4,
   "metadata": {
    "slideshow": {
     "slide_type": "fragment"
    }
   },
   "outputs": [
    {
     "name": "stdout",
     "output_type": "stream",
     "text": [
      "PhiS =\n",
      "[ (s + 5)/(s^2 + 5*s + 6), 1/(s^2 + 5*s + 6)]\n",
      "[      -6/(s^2 + 5*s + 6), s/(s^2 + 5*s + 6)]\n"
     ]
    }
   ],
   "source": [
    "PhiS = inv(s*eye(2) - A)"
   ]
  },
  {
   "cell_type": "markdown",
   "metadata": {
    "slideshow": {
     "slide_type": "subslide"
    }
   },
   "source": [
    "Now compute zero state response:\n",
    "\n",
    "$$\\mathbf{Y}_{\\mathrm{zs}}(s) = \\left(\\mathbf{C}\\mathbf{\\Phi}(s)\\mathbf{B}+\\mathbf{D}\\right)$$"
   ]
  },
  {
   "cell_type": "code",
   "execution_count": 5,
   "metadata": {
    "slideshow": {
     "slide_type": "fragment"
    }
   },
   "outputs": [
    {
     "name": "stdout",
     "output_type": "stream",
     "text": [
      "Yzs =\n",
      " (s/(s^2 + 5*s + 6) + 10/(s^2 + 5*s + 6) + (4*(s + 5))/(s^2 + 5*s + 6))/(s + 1) + (6/(s^2 + 5*s + 6) + (2*(s + 5))/(s^2 + 5*s + 6))/s\n",
      "                                                           - 6/(s*(s^2 + 5*s + 6)) - (s/(s^2 + 5*s + 6) + 12/(s^2 + 5*s + 6))/(s + 1)\n"
     ]
    }
   ],
   "source": [
    "Yzs = (C*PhiS*B + D)*Us"
   ]
  },
  {
   "cell_type": "markdown",
   "metadata": {
    "slideshow": {
     "slide_type": "subslide"
    }
   },
   "source": [
    "Unforced (zero-initial condition) response:\n",
    "\n",
    "$$\\mathbf{Y}_{\\mathrm{zi}}(s) = \\left(\\mathbf{C}\\mathbf{\\Phi}(s)\\mathbf{B}+\\mathbf{D}\\right)$$"
   ]
  },
  {
   "cell_type": "code",
   "execution_count": 6,
   "metadata": {
    "slideshow": {
     "slide_type": "fragment"
    }
   },
   "outputs": [
    {
     "name": "stdout",
     "output_type": "stream",
     "text": [
      "Yzi =\n",
      " - s/(s^2 + 5*s + 6) - 4/(s^2 + 5*s + 6) - (2*(s + 5))/(s^2 + 5*s + 6)\n",
      "                                 s/(s^2 + 5*s + 6) + 6/(s^2 + 5*s + 6)\n"
     ]
    }
   ],
   "source": [
    "Yzi = C*PhiS*x0"
   ]
  },
  {
   "cell_type": "markdown",
   "metadata": {
    "slideshow": {
     "slide_type": "subslide"
    }
   },
   "source": [
    "Total response:\n",
    "\n",
    "$$\\mathbf{Y}(s) = \\mathbf{Y}_{\\mathrm{zs}}(s) + \\mathbf{Y}_{\\mathrm{zi}}(s)$$"
   ]
  },
  {
   "cell_type": "code",
   "execution_count": 7,
   "metadata": {
    "slideshow": {
     "slide_type": "fragment"
    }
   },
   "outputs": [
    {
     "name": "stdout",
     "output_type": "stream",
     "text": [
      "Ytotal =\n",
      " (s/(s^2 + 5*s + 6) + 10/(s^2 + 5*s + 6) + (4*(s + 5))/(s^2 + 5*s + 6))/(s + 1) - 4/(s^2 + 5*s + 6) - s/(s^2 + 5*s + 6) - (2*(s + 5))/(s^2 + 5*s + 6) + (6/(s^2 + 5*s + 6) + (2*(s + 5))/(s^2 + 5*s + 6))/s\n",
      "                                                                                           s/(s^2 + 5*s + 6) + 6/(s^2 + 5*s + 6) - 6/(s*(s^2 + 5*s + 6)) - (s/(s^2 + 5*s + 6) + 12/(s^2 + 5*s + 6))/(s + 1)\n"
     ]
    }
   ],
   "source": [
    "Ytotal = Yzs + Yzi"
   ]
  },
  {
   "cell_type": "markdown",
   "metadata": {
    "slideshow": {
     "slide_type": "subslide"
    }
   },
   "source": [
    "Finally compute the time response $\\mathbf{y}(t)$"
   ]
  },
  {
   "cell_type": "code",
   "execution_count": 8,
   "metadata": {
    "slideshow": {
     "slide_type": "fragment"
    }
   },
   "outputs": [
    {
     "name": "stdout",
     "output_type": "stream",
     "text": [
      "y =\n",
      " (25*exp(-t))/2 - 34*exp(-2*t) + (95*exp(-3*t))/6 + 8/3\n",
      "   17*exp(-2*t) - (11*exp(-t))/2 - (19*exp(-3*t))/2 - 1\n"
     ]
    }
   ],
   "source": [
    "y = ilaplace(Ytotal)"
   ]
  },
  {
   "cell_type": "markdown",
   "metadata": {
    "slideshow": {
     "slide_type": "subslide"
    }
   },
   "source": [
    "Plot response"
   ]
  },
  {
   "cell_type": "code",
   "execution_count": 9,
   "metadata": {
    "slideshow": {
     "slide_type": "fragment"
    }
   },
   "outputs": [
    {
     "data": {
      "image/png": "[encoded data removed]",
      "text/plain": [
       "<IPython.core.display.Image object>"
      ]
     },
     "metadata": {},
     "output_type": "display_data"
    }
   ],
   "source": [
    "subplot(211)\n",
    "ezplot(y(1),[0,6]),grid,title('y_1(t)')\n",
    "subplot(212)\n",
    "ezplot(y(2),[0,6]),grid,title('y_2(t)')"
   ]
  },
  {
   "cell_type": "markdown",
   "metadata": {
    "slideshow": {
     "slide_type": "subslide"
    }
   },
   "source": [
    "### Simulation of State Space Models in Matlab\n",
    "\n",
    "-   The functions `step` and `impulse` will produce step impulse\n",
    "    responses of a system with zero initial conditions.\n",
    "\n",
    "-   The function `lsim` can be used to determine the state space\n",
    "    response to arbitrary inputs.\n",
    "\n",
    "-   If you need to simulate a system with arbitrary inputs and\n",
    "    predefined initial conditions, you should use the *Linear Simulation\n",
    "    Tool* which is opened when you execute `lsim(model)`. \n",
    "    \n",
    "Visit the MATLAB Control Systems Toolbox help pages to find out more."
   ]
  },
  {
   "cell_type": "markdown",
   "metadata": {
    "slideshow": {
     "slide_type": "notes"
    }
   },
   "source": [
    "## Footnote\n",
    "\n",
    "\n",
    "1. For a first order differential equation \n",
    "\n",
    "    $$\\frac{dx}{dt}=ax$$ \n",
    "    \n",
    "    so\n",
    "    the Laplace transform is \n",
    "    \n",
    "    $$\\begin{eqnarray*}\n",
    "    sX(s) - x(0) & = &\n",
    "    aX(s)\\\\ X(s)(s - a)& = & x(0)\\\\ X(s)\n",
    "    &=&\\frac{x(0)}{s-a}.\\end{eqnarray*}$$ \n",
    "    \n",
    "    The inverse laplace transform of\n",
    "    the final equation gives \n",
    "    \n",
    "    $$x(t) = e^{at}.$$ \n",
    "    \n",
    "    For the vector case\n",
    "    \n",
    "    $$s\\mathbf{X}(s)-\\mathbf{x}(0)=\\mathbf{A}\\mathbf{X(s)}$$ \n",
    "    \n",
    "    so by\n",
    "    comparison \n",
    "    \n",
    "    $$\\mathbf{x}(t)=e^{\\mathbf{A} t}.$$ \n",
    "    \n",
    "    The proper proof is\n",
    "    of course a little more involved and will be explored in [Section 7.6](../5/gensolution)!"
   ]
  }
 ],
 "metadata": {
  "celltoolbar": "Slideshow",
  "kernelspec": {
   "display_name": "Matlab",
   "language": "matlab",
   "name": "matlab"
  },
  "language_info": {
   "codemirror_mode": "octave",
   "file_extension": ".m",
   "help_links": [
    {
     "text": "MetaKernel Magics",
     "url": "https://github.com/calysto/metakernel/blob/master/metakernel/magics/README.md"
    }
   ],
   "mimetype": "text/x-octave",
   "name": "matlab",
   "version": "0.15.2"
  }
 },
 "nbformat": 4,
 "nbformat_minor": 2
}
