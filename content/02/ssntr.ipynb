{
 "cells": [
  {
   "cell_type": "markdown",
   "metadata": {
    "slideshow": {
     "slide_type": "slide"
    }
   },
   "source": [
    "# Steady-state and Transient Response\n",
    "\n",
    "This chapter is concerned with steady-state and transient analysis of control systems.\n",
    "\n",
    "The second-order system response and its relationship to the closed-loop poles and zeros is revised. The effect of an additional zero or an additional pole on the 2<sup>nd</sup> order response is examined and pole-zero cancellation is discussed.\n",
    "\n",
    "System type-number and its relationship to steady-state error response is revised."
   ]
  },
  {
   "cell_type": "markdown",
   "metadata": {
    "slideshow": {
     "slide_type": "notes"
    }
   },
   "source": [
    "## Further Reading\n",
    "\n",
    "The [System Metrics](https://en.wikibooks.org/wiki/Control_Systems/System_Metrics) section of the [Control Systems Wikibook](https://en.wikibooks.org/wiki/Control_Systems) amplifies some of the topics covered in this chapter.\n",
    "\n",
    "You should also read sections 4.2 **Time Domain Criteria** and 4.1 **Steady-State Criteria** of the [Handout](/eglm03-textbook/handouts/csd) **Control System Design Methods, Compensation Strategies and Design Criteria**.\n",
    "\n",
    "### Text Book Readings\n",
    "\n",
    "The topics covered in this chapter are amplified in\n",
    "\n",
    "* Nise. Chapter 4: Time Response.\n",
    "* Dorf and Bishop. Chapter 5: The Performance of Feedback Control Systems."
   ]
  }
 ],
 "metadata": {
  "celltoolbar": "Slideshow",
  "kernelspec": {
   "display_name": "Matlab",
   "language": "matlab",
   "name": "matlab"
  },
  "language_info": {
   "codemirror_mode": "octave",
   "file_extension": ".m",
   "help_links": [
    {
     "text": "MetaKernel Magics",
     "url": "https://github.com/calysto/metakernel/blob/master/metakernel/magics/README.md"
    }
   ],
   "mimetype": "text/x-octave",
   "name": "matlab",
   "version": "0.15.2"
  }
 },
 "nbformat": 4,
 "nbformat_minor": 2
}
