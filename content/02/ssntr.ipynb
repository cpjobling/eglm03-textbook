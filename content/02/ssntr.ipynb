{
 "cells": [
  {
   "cell_type": "markdown",
   "metadata": {
    "slideshow": {
     "slide_type": "skip"
    }
   },
   "source": [
    "**Lecturer**\n",
    "\n",
    "Set up MATLAB"
   ]
  },
  {
   "cell_type": "code",
   "execution_count": null,
   "metadata": {
    "slideshow": {
     "slide_type": "skip"
    }
   },
   "outputs": [],
   "source": [
    "cd matlab\n",
    "pwd\n",
    "clear all\n",
    "format compact"
   ]
  },
  {
   "cell_type": "markdown",
   "metadata": {
    "slideshow": {
     "slide_type": "slide"
    }
   },
   "source": [
    "# Steady-state and Transient Response\n",
    "\n",
    "This chapter is concerned with steady-state and transient analysis of control systems.\n",
    "\n",
    "The second-order system response and its relationship to the closed-loop poles and zeros is revised. The effect of an additional zero or an additional pole on the 2<sup>nd</sup> order response is examined and pole-zero cancellation is discussed.\n",
    "\n",
    "System type-number and its relationship to steady-state error response is revised."
   ]
  },
  {
   "cell_type": "markdown",
   "metadata": {
    "slideshow": {
     "slide_type": "slide"
    }
   },
   "source": [
    "## Reading\n",
    "\n",
    "You should read sections 4.2 **Time Domain Criteria** and 4.1 **Steady-State Criteria** of the [Handout](/eglm03-textbook/handouts/csd) **Control System Design Methods, Compensation Strategies and Design Criteria**."
   ]
  },
  {
   "cell_type": "markdown",
   "metadata": {
    "slideshow": {
     "slide_type": "slide"
    }
   },
   "source": [
    "## Transient Performance"
   ]
  },
  {
   "cell_type": "markdown",
   "metadata": {
    "slideshow": {
     "slide_type": "slide"
    }
   },
   "source": [
    "### A Second-Order System\n",
    "\n",
    "![a second order system](images/fig1.png)"
   ]
  },
  {
   "cell_type": "markdown",
   "metadata": {
    "slideshow": {
     "slide_type": "subslide"
    }
   },
   "source": [
    "Where are the system poles and what does the model 2nd Order response look like for each of these cases?\n",
    "\n",
    "\n",
    "\n",
    "$\\omega_n$ | $\\zeta$\n",
    "-----------|---------\n",
    "3          | 3\n",
    "3          | 1\n",
    "3          | 0.8\n",
    "3          | 0.5\n",
    "3          | 0\n"
   ]
  },
  {
   "cell_type": "markdown",
   "metadata": {
    "slideshow": {
     "slide_type": "subslide"
    }
   },
   "source": [
    "### Effect of Damping on 2nd Order Response\n"
   ]
  },
  {
   "cell_type": "code",
   "execution_count": null,
   "metadata": {
    "slideshow": {
     "slide_type": "fragment"
    }
   },
   "outputs": [],
   "source": [
    "wn = 3;\n",
    "z = [3, 2.5, 2, 1.5, 1, 0.9, 0.8, 1/sqrt(2), 0.5, 0.4, 0.3, 0.2, 0.1, 0];"
   ]
  },
  {
   "cell_type": "code",
   "execution_count": null,
   "metadata": {
    "slideshow": {
     "slide_type": "subslide"
    }
   },
   "outputs": [],
   "source": [
    "zeta = z(2);\n",
    "G = tf(wn^2, [1, 2*zeta*wn, wn^2])\n",
    "subplot(211),pzmap( G),axis([-20, 1, -4, 4])\n",
    "subplot(212),step( G),axis([0,10,0,2])"
   ]
  },
  {
   "cell_type": "markdown",
   "metadata": {
    "slideshow": {
     "slide_type": "notes"
    }
   },
   "source": [
    "Or download and run this script [second_resp.m](second_resp.m) in MATLAB."
   ]
  },
  {
   "cell_type": "markdown",
   "metadata": {
    "slideshow": {
     "slide_type": "subslide"
    }
   },
   "source": [
    "![model 2nd order response](images/fig2.png)"
   ]
  },
  {
   "cell_type": "markdown",
   "metadata": {
    "slideshow": {
     "slide_type": "slide"
    }
   },
   "source": [
    "### How do the natural frequency and damping ratio relate to pole locations?"
   ]
  },
  {
   "cell_type": "markdown",
   "metadata": {
    "slideshow": {
     "slide_type": "fragment"
    }
   },
   "source": [
    "\n",
    " $$T(s) = \\frac{\\omega _n^2}{s^2 + \\zeta {\\omega _n}s + \\omega _n^2}$$\n",
    " "
   ]
  },
  {
   "cell_type": "markdown",
   "metadata": {
    "slideshow": {
     "slide_type": "fragment"
    }
   },
   "source": [
    "$$\\begin{eqnarray*}{P_{1,2}} &=&  - \\zeta  \\pm {\\omega _n}\\sqrt {1 - {\\zeta ^2}}\\\\\n",
    " &=& - {\\sigma _d} \\pm j{\\omega _d}\\end{eqnarray*}$$"
   ]
  },
  {
   "cell_type": "markdown",
   "metadata": {
    "slideshow": {
     "slide_type": "subslide"
    }
   },
   "source": [
    " ![pole locations](images/fig3.png)"
   ]
  },
  {
   "cell_type": "markdown",
   "metadata": {
    "slideshow": {
     "slide_type": "slide"
    }
   },
   "source": [
    "### How do the transient performance criteria map to the closed loop poles?"
   ]
  },
  {
   "cell_type": "markdown",
   "metadata": {
    "slideshow": {
     "slide_type": "subslide"
    }
   },
   "source": [
    "#### Settling time $T_s$\n",
    "\n",
    "Settling time is related to relative stability and speed of response.\n",
    "\n",
    "1% settling time:\n",
    "\n",
    "$$T_s \\approx \\frac{4.6}{\\sigma_d}$$"
   ]
  },
  {
   "cell_type": "markdown",
   "metadata": {
    "slideshow": {
     "slide_type": "subslide"
    }
   },
   "source": [
    "![Design region for 1% settling time](images/fig4.png)"
   ]
  },
  {
   "cell_type": "markdown",
   "metadata": {
    "slideshow": {
     "slide_type": "subslide"
    }
   },
   "source": [
    "#### Rise Time $T_r$\n",
    "\n",
    "Rise time is related to speed of response\n",
    "\n",
    "$$T_r \\approx \\frac{1.8}{\\omega_n}$$"
   ]
  },
  {
   "cell_type": "markdown",
   "metadata": {
    "slideshow": {
     "slide_type": "subslide"
    }
   },
   "source": [
    "![Design region for specified rise time](images/fig5.png)"
   ]
  },
  {
   "cell_type": "markdown",
   "metadata": {
    "slideshow": {
     "slide_type": "subslide"
    }
   },
   "source": [
    "#### Percentage overshoot (%OS or $M_p$)"
   ]
  },
  {
   "cell_type": "markdown",
   "metadata": {
    "slideshow": {
     "slide_type": "subslide"
    }
   },
   "source": [
    "Percentage overshoot is related to damping\n",
    "\n",
    "$$M_p = \\exp\\left(\\frac{-\\pi\\zeta}{\\sqrt{1-\\zeta^2}}\\right)\\times 100$$"
   ]
  },
  {
   "cell_type": "markdown",
   "metadata": {
    "slideshow": {
     "slide_type": "fragment"
    }
   },
   "source": [
    "$$M_p \\approx \\left( 1 - \\frac{\\zeta }{0.6} \\right) \\times 100\\;{\\kern 1pt} 0 \\leqslant \\zeta  \\leqslant 0.6$$\n"
   ]
  },
  {
   "cell_type": "markdown",
   "metadata": {
    "slideshow": {
     "slide_type": "subslide"
    }
   },
   "source": [
    "![Design region for specified Percentage Overshoot](images/fig6.png)"
   ]
  },
  {
   "cell_type": "markdown",
   "metadata": {
    "slideshow": {
     "slide_type": "slide"
    }
   },
   "source": [
    "#### Combined constraints\n",
    "\n",
    "* If system has inadequate rise time (too slow) we must raise the natural frequency\n",
    "* If system has too much overshoot we need to increase damping\n",
    "* If transient persists too long, move the poles further to the left in the s-plane\n"
   ]
  },
  {
   "cell_type": "markdown",
   "metadata": {
    "slideshow": {
     "slide_type": "subslide"
    }
   },
   "source": [
    "![Design area for combined constraints](images/fig7.png)"
   ]
  },
  {
   "cell_type": "markdown",
   "metadata": {
    "slideshow": {
     "slide_type": "slide"
    }
   },
   "source": [
    "### What if the system is not second order?"
   ]
  },
  {
   "cell_type": "markdown",
   "metadata": {
    "slideshow": {
     "slide_type": "fragment"
    }
   },
   "source": [
    "* What is the effect of an extra zero?"
   ]
  },
  {
   "cell_type": "markdown",
   "metadata": {
    "slideshow": {
     "slide_type": "fragment"
    }
   },
   "source": [
    "* What is the effect of an extra pole?"
   ]
  },
  {
   "cell_type": "markdown",
   "metadata": {
    "slideshow": {
     "slide_type": "fragment"
    }
   },
   "source": [
    "* What if there are many poles and zeros?"
   ]
  },
  {
   "cell_type": "markdown",
   "metadata": {
    "slideshow": {
     "slide_type": "subslide"
    }
   },
   "source": [
    "#### Effect of an Extra Zero"
   ]
  },
  {
   "cell_type": "markdown",
   "metadata": {
    "slideshow": {
     "slide_type": "fragment"
    }
   },
   "source": [
    "First normalize transfer function:"
   ]
  },
  {
   "cell_type": "markdown",
   "metadata": {
    "slideshow": {
     "slide_type": "fragment"
    }
   },
   "source": [
    "$$G(s) = \\frac{C(s)}{R(s)}=\\frac{1}{\\left(\\frac{2}{\\omega_n}\\right)^2+2\\zeta\\left(\\frac{s}{\\omega_n}\\right)+1}$$"
   ]
  },
  {
   "cell_type": "markdown",
   "metadata": {
    "slideshow": {
     "slide_type": "subslide"
    }
   },
   "source": [
    "Then add a zero\n",
    "\n",
    "$$G(s) = \\frac{C(s)}{R(s)}=\\frac{\\left(\\frac{s}{\\alpha\\zeta\\omega_n}\\right)+1}{\\left(\\frac{2}{\\omega_n}\\right)^2+2\\zeta\\left(\\frac{s}{\\omega_n}\\right)+1}$$"
   ]
  },
  {
   "cell_type": "markdown",
   "metadata": {
    "slideshow": {
     "slide_type": "notes"
    }
   },
   "source": [
    "Note that $\\alpha$ is a multiplier of the real part of the complex poles $\\zeta\\omega_n$."
   ]
  },
  {
   "cell_type": "markdown",
   "metadata": {
    "slideshow": {
     "slide_type": "subslide"
    }
   },
   "source": [
    "#### 2nd order system with extra zero"
   ]
  },
  {
   "cell_type": "markdown",
   "metadata": {
    "slideshow": {
     "slide_type": "fragment"
    }
   },
   "source": [
    "Matlab demo (run [zero2nd.m](zero2nd.m)):"
   ]
  },
  {
   "cell_type": "code",
   "execution_count": null,
   "metadata": {
    "slideshow": {
     "slide_type": "subslide"
    }
   },
   "outputs": [],
   "source": [
    "zero2nd"
   ]
  },
  {
   "cell_type": "markdown",
   "metadata": {
    "slideshow": {
     "slide_type": "subslide"
    }
   },
   "source": [
    "![result](images/fig8.png)"
   ]
  },
  {
   "cell_type": "markdown",
   "metadata": {},
   "source": [
    "Design curves (see handout):\n",
    "\n",
    "![design curves -- effect of an extra zero](images/fig9.png)"
   ]
  },
  {
   "cell_type": "markdown",
   "metadata": {
    "slideshow": {
     "slide_type": "slide"
    }
   },
   "source": [
    "#### .. how about adding an extra pole?"
   ]
  },
  {
   "cell_type": "markdown",
   "metadata": {
    "slideshow": {
     "slide_type": "fragment"
    }
   },
   "source": [
    "$$G(s) = \\frac{C(s)}{R(s)} = \\frac{1}{\\left( \\left( \\frac{s}{\\alpha \\zeta \\omega _n} \\right) + 1 \\right)\\left( \\left( \\frac{s}{\\omega _n} \\right)^2 + 2\\zeta \\left( \\frac{s}{\\omega _n} \\right) + 1 \\right)}$$"
   ]
  },
  {
   "cell_type": "markdown",
   "metadata": {
    "slideshow": {
     "slide_type": "notes"
    }
   },
   "source": [
    "Note that $\\alpha$ is a multiplier of the real part of the complex poles.\n"
   ]
  },
  {
   "cell_type": "markdown",
   "metadata": {
    "slideshow": {
     "slide_type": "subslide"
    }
   },
   "source": [
    "#### 2nd order system with extra pole"
   ]
  },
  {
   "cell_type": "markdown",
   "metadata": {
    "slideshow": {
     "slide_type": "fragment"
    }
   },
   "source": [
    "Matlab demo (run [pole2nd.m](pole2nd.m)):"
   ]
  },
  {
   "cell_type": "code",
   "execution_count": null,
   "metadata": {},
   "outputs": [],
   "source": [
    "pole2nd"
   ]
  },
  {
   "cell_type": "markdown",
   "metadata": {
    "slideshow": {
     "slide_type": "notes"
    }
   },
   "source": [
    "![result](images/fig10.png)"
   ]
  },
  {
   "cell_type": "markdown",
   "metadata": {
    "slideshow": {
     "slide_type": "subslide"
    }
   },
   "source": [
    "Design curves (see handout):\n",
    "\n",
    "![design curves -- effect of an extra pole](images/fig11.png)"
   ]
  },
  {
   "cell_type": "markdown",
   "metadata": {
    "slideshow": {
     "slide_type": "slide"
    }
   },
   "source": [
    "### Dominant poles and order reduction\n",
    "\n",
    "Because the time response of many real systems will be dominated by two or three low frequency poles, a complex high order system can often be simplified by ignoring the effects of high-frequency poles and zeros or a pole that is effectively cancelled by a zero. This MATLAB script file demonstrates this.\n",
    "\n",
    "Matlab demo (Run [reduction.m](reduction.m))"
   ]
  },
  {
   "cell_type": "markdown",
   "metadata": {
    "slideshow": {
     "slide_type": "notes"
    }
   },
   "source": [
    "In this example we ignore any poles or zeros that are located 4 or more times the real part of the dominant poles $s = -1 \\pm j$ or poles that a cancelled by a closed-loop zero and see that the seventh order system is effectively only a third-order system."
   ]
  },
  {
   "cell_type": "code",
   "execution_count": null,
   "metadata": {
    "slideshow": {
     "slide_type": "subslide"
    }
   },
   "outputs": [],
   "source": [
    "sigma = 1;\n",
    "wd = 1;\n",
    "disp('Full order system')\n",
    "zeros = [-6*sigma; -3.2*sigma]\n",
    "poles = [-9*sigma\n",
    "   -7*sigma+j*2*wd\n",
    "   -7*sigma-j*2*wd\n",
    "   -3*sigma\n",
    "   -2*sigma\n",
    "   -sigma+j*wd\n",
    "   -sigma-j*wd]\n",
    "g = zpk(zeros,poles,prod(abs(poles))/prod(abs(zeros)));"
   ]
  },
  {
   "cell_type": "code",
   "execution_count": null,
   "metadata": {
    "slideshow": {
     "slide_type": "subslide"
    }
   },
   "outputs": [],
   "source": [
    "subplot(121)\n",
    "pzmap(poles,zeros)\n",
    "subplot(122)\n",
    "step(g)"
   ]
  },
  {
   "cell_type": "markdown",
   "metadata": {
    "slideshow": {
     "slide_type": "subslide"
    }
   },
   "source": [
    "Now remove redundant terms\n",
    "\n",
    "Step 1: remove high frequency pole at $-9*\\sigma$"
   ]
  },
  {
   "cell_type": "code",
   "execution_count": null,
   "metadata": {
    "slideshow": {
     "slide_type": "subslide"
    }
   },
   "outputs": [],
   "source": [
    "z1 = zeros\n",
    "p1 = poles(2:7)\n",
    "g1 = zpk(z1,p1,prod(abs(p1))/prod(abs(z1)));"
   ]
  },
  {
   "cell_type": "code",
   "execution_count": null,
   "metadata": {
    "slideshow": {
     "slide_type": "subslide"
    }
   },
   "outputs": [],
   "source": [
    "subplot(121)\n",
    "pzmap(p1,z1)\n",
    "subplot(122)\n",
    "step(g,g1)"
   ]
  },
  {
   "cell_type": "markdown",
   "metadata": {
    "slideshow": {
     "slide_type": "subslide"
    }
   },
   "source": [
    "Step 2: remove complex hf pole pair"
   ]
  },
  {
   "cell_type": "code",
   "execution_count": null,
   "metadata": {
    "slideshow": {
     "slide_type": "subslide"
    }
   },
   "outputs": [],
   "source": [
    "z2 = z1\n",
    "p2 = p1(3:6)\n",
    "g2 = zpk(z2,p2,prod(abs(p2))/prod(abs(z2)));"
   ]
  },
  {
   "cell_type": "code",
   "execution_count": null,
   "metadata": {
    "slideshow": {
     "slide_type": "subslide"
    }
   },
   "outputs": [],
   "source": [
    "subplot(121)\n",
    "pzmap(p2,z2)\n",
    "subplot(122)\n",
    "step(g,g1,g2)"
   ]
  },
  {
   "cell_type": "markdown",
   "metadata": {
    "slideshow": {
     "slide_type": "subslide"
    }
   },
   "source": [
    "Step 3: remove hf zero"
   ]
  },
  {
   "cell_type": "code",
   "execution_count": null,
   "metadata": {
    "slideshow": {
     "slide_type": "subslide"
    }
   },
   "outputs": [],
   "source": [
    "z3= z2(2)\n",
    "p3 = p2\n",
    "g3 = zpk(z3,p3,prod(abs(p3))/prod(abs(z3)));"
   ]
  },
  {
   "cell_type": "code",
   "execution_count": null,
   "metadata": {
    "slideshow": {
     "slide_type": "subslide"
    }
   },
   "outputs": [],
   "source": [
    "subplot(121)\n",
    "pzmap(p3,z3)\n",
    "subplot(122)\n",
    "step(g,g1,g2,g3)"
   ]
  },
  {
   "cell_type": "markdown",
   "metadata": {
    "slideshow": {
     "slide_type": "subslide"
    }
   },
   "source": [
    "Step 4: remove pole-zero cancellation terms"
   ]
  },
  {
   "cell_type": "code",
   "execution_count": null,
   "metadata": {
    "slideshow": {
     "slide_type": "subslide"
    }
   },
   "outputs": [],
   "source": [
    "z4= []\n",
    "p4 = p3(2:4)\n",
    "g4 = zpk(z4,p4,prod(abs(p4))/prod(abs(z4)));"
   ]
  },
  {
   "cell_type": "code",
   "execution_count": null,
   "metadata": {
    "slideshow": {
     "slide_type": "subslide"
    }
   },
   "outputs": [],
   "source": [
    "subplot(121)\n",
    "pzmap(p4,z4)\n",
    "subplot(122)\n",
    "step(g,g1,g2,g3,g4)"
   ]
  },
  {
   "cell_type": "markdown",
   "metadata": {
    "slideshow": {
     "slide_type": "subslide"
    }
   },
   "source": [
    "Step 5: remove last non-dominant pole')"
   ]
  },
  {
   "cell_type": "code",
   "execution_count": null,
   "metadata": {
    "slideshow": {
     "slide_type": "subslide"
    }
   },
   "outputs": [],
   "source": [
    "z5 = z4\n",
    "p5 = p4(2:3)\n",
    "g5 = zpk(z5,p5,prod(abs(p5))/prod(abs(z5)));"
   ]
  },
  {
   "cell_type": "code",
   "execution_count": null,
   "metadata": {
    "slideshow": {
     "slide_type": "subslide"
    }
   },
   "outputs": [],
   "source": [
    "subplot(121)\n",
    "pzmap(p5,z5)\n",
    "subplot(122)\n",
    "step(g,g1,g2,g3,g4,g5)"
   ]
  },
  {
   "cell_type": "markdown",
   "metadata": {
    "slideshow": {
     "slide_type": "subslide"
    }
   },
   "source": [
    "Original system"
   ]
  },
  {
   "cell_type": "code",
   "execution_count": null,
   "metadata": {
    "slideshow": {
     "slide_type": "fragment"
    }
   },
   "outputs": [],
   "source": [
    "g"
   ]
  },
  {
   "cell_type": "markdown",
   "metadata": {
    "slideshow": {
     "slide_type": "subslide"
    }
   },
   "source": [
    "Reduced order system"
   ]
  },
  {
   "cell_type": "code",
   "execution_count": null,
   "metadata": {
    "slideshow": {
     "slide_type": "fragment"
    }
   },
   "outputs": [],
   "source": [
    "g4"
   ]
  },
  {
   "cell_type": "code",
   "execution_count": null,
   "metadata": {
    "slideshow": {
     "slide_type": "subslide"
    }
   },
   "outputs": [],
   "source": [
    "subplot(221)\n",
    "pzmap(poles,zeros)\n",
    "subplot(222)\n",
    "step(g)\n",
    "subplot(223)\n",
    "pzmap(p4,z4)\n",
    "subplot(224)\n",
    "step(g,g4)"
   ]
  },
  {
   "cell_type": "markdown",
   "metadata": {
    "slideshow": {
     "slide_type": "slide"
    }
   },
   "source": [
    "What are the steady-state performance criteria?"
   ]
  },
  {
   "cell_type": "markdown",
   "metadata": {
    "slideshow": {
     "slide_type": "slide"
    }
   },
   "source": [
    "## Steady-state response\n",
    "\n",
    "* Canonical system\n",
    "* Disturbance rejection\n",
    "* System type for non-unity gain feedback"
   ]
  },
  {
   "cell_type": "markdown",
   "metadata": {
    "slideshow": {
     "slide_type": "subslide"
    }
   },
   "source": [
    "### Canonical System\n",
    "\n",
    "(unity-gain feedback)\n",
    "\n",
    "![Canonical system with unity gain feedback](images/fig12.png)"
   ]
  },
  {
   "cell_type": "markdown",
   "metadata": {
    "slideshow": {
     "slide_type": "subslide"
    }
   },
   "source": [
    "$$E(s) = R(s) - C(s)$$"
   ]
  },
  {
   "cell_type": "markdown",
   "metadata": {
    "slideshow": {
     "slide_type": "fragment"
    }
   },
   "source": [
    "$$E(s) = \\frac{G_o(s)}{1 + G_o(s)}R(s)$$"
   ]
  },
  {
   "cell_type": "markdown",
   "metadata": {
    "slideshow": {
     "slide_type": "subslide"
    }
   },
   "source": [
    "### Steady-state Performance\n",
    "\n",
    "For a unity-gain negative feedback system with open-loop transfer function Go(s) the steady-state error (SSE) response of the closed-loop system is related to system type number according to the table shown below.\n",
    "\n",
    "<table>\n",
    "    <thead style=\"font-weight:bold;background-color:Gainsboro;\">\n",
    "        <tr>\n",
    "            <td colspan=\"2\">\n",
    "                &nbsp;\n",
    "            </td>\n",
    "            <td colspan=\"3\">\n",
    "                System Type Number\n",
    "            </td>\n",
    "         </tr>\n",
    "         <tr>\n",
    "             <td colspan=\"2\">\n",
    "                &nbsp;\n",
    "            </td>\n",
    "            <td>\n",
    "                Type 0\n",
    "            </td>\n",
    "            <td>\n",
    "                Type 1\n",
    "            </td>\n",
    "            <td>\n",
    "                Type 2\n",
    "            </td>\n",
    "         </tr>\n",
    "         <tr>\n",
    "             <td>\n",
    "                Type of input \n",
    "            </td>\n",
    "            <td>\n",
    "                SSE\n",
    "            </td>\n",
    "            <td>\n",
    "                Step\n",
    "            </td>\n",
    "            <td>\n",
    "                Velocity\n",
    "            </td>\n",
    "            <td>\n",
    "                Acceleration\n",
    "            </td>\n",
    "         </tr>\n",
    "    </thead>\n",
    "    <tbody>\n",
    "        <tr>\n",
    "            <td>Step</td><td style=\"width:20ex\">$$\\frac{1}{1+K_p}$$</td><td style=\"width:20ex\">$$\\frac{1}{1+K_p}$$</td><td style=\"width:20ex\">$\\infty$</td><td style=\"width:20ex\">$\\infty$</td>\n",
    "        </tr>\n",
    "        <tr>\n",
    "            <td>Ramp</td><td>$$\\frac{1}{K_v}$$</td><td>$$0$$</td><td>$$\\frac{1}{K_v}$$</td><td>$\\infty$</td>\n",
    "        </tr>\n",
    "        <tr>\n",
    "            <td>Parabola</td><td>$$\\frac{1}{K_a}$$</td><td>$$0$$</td><td>$$0$$</td><td>$$\\frac{1}{K_a}$$</td>\n",
    "        </tr>\n",
    "\n",
    "    </tbody>\n",
    "</table>\n",
    "\n",
    "Where"
   ]
  },
  {
   "cell_type": "markdown",
   "metadata": {
    "slideshow": {
     "slide_type": "fragment"
    }
   },
   "source": [
    "**Position error constant for step input**: $R(s) = 1/s$:\n",
    "\n",
    "$$K_p = \\lim_{s\\to\\infty}\\;G_0(s)$$"
   ]
  },
  {
   "cell_type": "markdown",
   "metadata": {
    "slideshow": {
     "slide_type": "fragment"
    }
   },
   "source": [
    "**Velocity error constant for ramp input**: $R(s) = 1/s^2$:\n",
    "\n",
    "$$K_v = \\lim_{s\\to\\infty}\\;sG_0(s)$$"
   ]
  },
  {
   "cell_type": "markdown",
   "metadata": {
    "slideshow": {
     "slide_type": "fragment"
    }
   },
   "source": [
    "**Acceleration error constant for parabolic input**: $R(s) = 1/s^3$:\n",
    "\n",
    "$$K_v = \\lim_{s\\to\\infty}\\;s^2G_0(s)$$"
   ]
  },
  {
   "cell_type": "markdown",
   "metadata": {
    "slideshow": {
     "slide_type": "slide"
    }
   },
   "source": [
    "## Special Cases\n",
    "\n",
    "For these models calculate the error response ($E(s) = G_o(s)N_d(s)$ for the \"disturbance rejection\" case and \n",
    "$E(s) = R(s) - C(s)$ for the \"non-unity-gain-feedback\") case and use the final value theorem to calculate the steady state step error. \n",
    "\n",
    "Compare your result with the result of the simulation.\n",
    "\n",
    "You should note that in both cases the plant transfer function has type number 1. Do the rules of system type number as you understand them carry over to these special cases?"
   ]
  },
  {
   "cell_type": "markdown",
   "metadata": {
    "slideshow": {
     "slide_type": "subslide"
    }
   },
   "source": [
    "### Disturbance rejection? (Compliance)\n",
    "\n",
    "Assuming that the system is originally at steady-state ($E(s) = R(s) - C(s) = 0$) what is the steady-state error to a step change in the disturbance in $n_d(t)$? ($N_d(s) = 1/s$)\n",
    "\n",
    "![A system to illustrate compliance](images/fig13.png)\n",
    "\n",
    "[Model file [disturbance_rejection.mdl](disturbance_rejection.mdl)]"
   ]
  },
  {
   "cell_type": "code",
   "execution_count": null,
   "metadata": {
    "slideshow": {
     "slide_type": "subslide"
    }
   },
   "outputs": [],
   "source": [
    "disturbance_rejection\n"
   ]
  },
  {
   "cell_type": "markdown",
   "metadata": {
    "slideshow": {
     "slide_type": "subslide"
    }
   },
   "source": [
    "### Non-unity gain feedback\n",
    "\n",
    "![A system to illustrate non-unity gain feedback](images/fig14.png)\n",
    "\n",
    "[Model file [non_unity_gain_feedback.mdl](non_unity_gain_feedback.mdl)]"
   ]
  },
  {
   "cell_type": "code",
   "execution_count": null,
   "metadata": {
    "slideshow": {
     "slide_type": "subslide"
    }
   },
   "outputs": [],
   "source": [
    "non_unity_gain_feedback"
   ]
  },
  {
   "cell_type": "markdown",
   "metadata": {
    "slideshow": {
     "slide_type": "notes"
    }
   },
   "source": [
    "## Further Reading\n",
    "\n",
    "The [System Metrics](https://en.wikibooks.org/wiki/Control_Systems/System_Metrics) section of the [Control Systems Wikibook](https://en.wikibooks.org/wiki/Control_Systems) amplifies some of the topics covered in this chapter.\n",
    "\n",
    "The topics covered in this chapter are also amplified in\n",
    "\n",
    "* Nise. Chapter 4: Time Response.\n",
    "* Dorf and Bishop. Chapter 5: The Performance of Feedback Control Systems."
   ]
  }
 ],
 "metadata": {
  "celltoolbar": "Slideshow",
  "kernelspec": {
   "display_name": "Matlab",
   "language": "matlab",
   "name": "matlab"
  },
  "language_info": {
   "codemirror_mode": "octave",
   "file_extension": ".m",
   "help_links": [
    {
     "text": "MetaKernel Magics",
     "url": "https://github.com/calysto/metakernel/blob/master/metakernel/magics/README.md"
    }
   ],
   "mimetype": "text/x-octave",
   "name": "matlab",
   "version": "0.15.2"
  }
 },
 "nbformat": 4,
 "nbformat_minor": 2
}
