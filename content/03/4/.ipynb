{
 "cells": [
  {
   "cell_type": "markdown",
   "metadata": {
    "slideshow": {
     "slide_type": "skip"
    }
   },
   "source": [
    "**Lecturer**\n",
    "\n",
    "Set up MATLAB"
   ]
  },
  {
   "cell_type": "code",
   "execution_count": null,
   "metadata": {
    "slideshow": {
     "slide_type": "skip"
    }
   },
   "outputs": [],
   "source": [
    "cd matlab\n",
    "pwd\n",
    "clear all\n",
    "format compact"
   ]
  },
  {
   "cell_type": "markdown",
   "metadata": {
    "slideshow": {
     "slide_type": "slide"
    }
   },
   "source": [
    "# Cascade Lead compensation"
   ]
  },
  {
   "cell_type": "markdown",
   "metadata": {
    "slideshow": {
     "slide_type": "slide"
    }
   },
   "source": [
    "## Introduction\n",
    "\n",
    "The proportional plus derivative compensator has the unfortunate property that its high frequency gain is infinite. This means that high frequency effects, such as sensor noise and un-modelled high-frequency dynamics, e.g. resonance terms, will be amplified with potentially disastrous effects. Of course, a real physical derivative operator cannot be implemented and any implementation will actually have poles that will limit the high-frequency gain."
   ]
  },
  {
   "cell_type": "markdown",
   "metadata": {
    "slideshow": {
     "slide_type": "subslide"
    }
   },
   "source": [
    "Recognizing this, an alternative to the pure P+D\n",
    "\n",
    "$$D_{\\mathrm{P+D}}=K_D s + K_{\\mathrm{prop}}$$\n",
    "\n",
    "is the so-called \"lead compensator\"\n",
    "\n",
    "$$D_{\\rm{lead}}(s) = {K_c}\\left( \\frac{s - z_0}{s - p_0}\\right)$$\n",
    "\n",
    "where  $$|p_0| > |z_0|.$$"
   ]
  },
  {
   "cell_type": "markdown",
   "metadata": {
    "slideshow": {
     "slide_type": "subslide"
    }
   },
   "source": [
    "Considering the frequency response of $D_{\\mathrm{lead}}$  \n",
    "\n",
    "$$D_{\\mathrm{lead}}(j\\omega)\n",
    "=  K_c\\left(\\frac{j\\omega-z_0}{j\\omega-p_0}\\right)$$"
   ]
  },
  {
   "cell_type": "markdown",
   "metadata": {
    "slideshow": {
     "slide_type": "subslide"
    }
   },
   "source": [
    "The low and high-frequency gains are:"
   ]
  },
  {
   "cell_type": "markdown",
   "metadata": {
    "slideshow": {
     "slide_type": "fragment"
    }
   },
   "source": [
    "$$\\left.D_{\\mathrm{lead}}(j\\omega)\\right|_{\\omega\\to 0} = Kc \\left(\\frac{z_0}{p_0}\\right)$$"
   ]
  },
  {
   "cell_type": "markdown",
   "metadata": {
    "slideshow": {
     "slide_type": "fragment"
    }
   },
   "source": [
    "$$\\left.D_{\\mathrm{lead}}(j\\omega)\\right|_{\\omega\\to \\infty} = Kc$$"
   ]
  },
  {
   "cell_type": "markdown",
   "metadata": {
    "slideshow": {
     "slide_type": "subslide"
    }
   },
   "source": [
    "so that the ratio of high-to-low frequency gain is \n",
    "\n",
    "$$\\frac{D_{\\mathrm{lead}}(j\\infty)}{D_{\\mathrm{lead}}(j0)}=\\frac{p_0}{z_0}>0$$"
   ]
  },
  {
   "cell_type": "markdown",
   "metadata": {
    "slideshow": {
     "slide_type": "fragment"
    }
   },
   "source": [
    "The lead compensator is still a high-pass filter but the pole at $s=p_0$\n",
    "limits the high frequency gain. Typically, the ratio of $p_0$ to $z_0$ is kept\n",
    "to below 10."
   ]
  },
  {
   "cell_type": "markdown",
   "metadata": {
    "slideshow": {
     "slide_type": "slide"
    }
   },
   "source": [
    "## Properties of the Cascade Lead Compensator\n",
    "\n",
    "As  $|p_0| > |z_0|$, the angle contributed by the compensator to some arbitrary\n",
    "point $s_1$ at on the _s_-plane is illustrated in Figure 1."
   ]
  },
  {
   "cell_type": "markdown",
   "metadata": {
    "slideshow": {
     "slide_type": "subslide"
    }
   },
   "source": [
    "![Figure 1](images/fig1.png)\n",
    "\n",
    "**Figure 1 Angle contribution of a lead compensator**"
   ]
  },
  {
   "cell_type": "markdown",
   "metadata": {
    "slideshow": {
     "slide_type": "subslide"
    }
   },
   "source": [
    "The net contribution is\n",
    "\n",
    "$$\\phi_c = \\theta_z - \\theta_p > 0$$\n",
    "\n",
    "so that the lead compensator always makes a positive contribution to the\n",
    "angle criterion. "
   ]
  },
  {
   "cell_type": "markdown",
   "metadata": {
    "slideshow": {
     "slide_type": "fragment"
    }
   },
   "source": [
    "This has the effect of allowing the closed-loop poles to move\n",
    "to the left in the s-plane. "
   ]
  },
  {
   "cell_type": "markdown",
   "metadata": {
    "slideshow": {
     "slide_type": "subslide"
    }
   },
   "source": [
    "The problem is then how to choose the relative location of the pole and the zero. \n",
    "\n",
    "We reproduce the advice of D'Azzo and Houpis (1975)."
   ]
  },
  {
   "cell_type": "markdown",
   "metadata": {
    "slideshow": {
     "slide_type": "slide"
    }
   },
   "source": [
    "## Method 1\n",
    "\n",
    "Use the zero to cancel a low frequency real pole. This can simplify the root locus and reduce the complexity of the problem. The compensator pole is then placed such that $s_1$ becomes a point on the desired root-locus. "
   ]
  },
  {
   "cell_type": "markdown",
   "metadata": {
    "slideshow": {
     "slide_type": "subslide"
    }
   },
   "source": [
    "For a Type 1 system, the real pole (excluding the pole at zero) that is closest to the origin should be cancelled. "
   ]
  },
  {
   "cell_type": "markdown",
   "metadata": {
    "slideshow": {
     "slide_type": "fragment"
    }
   },
   "source": [
    "For a Type 0 system, the second closest pole to the origin should be cancelled."
   ]
  },
  {
   "cell_type": "markdown",
   "metadata": {
    "slideshow": {
     "slide_type": "subslide"
    }
   },
   "source": [
    "### Example 1\n",
    "\n",
    "The following Matlab code illustrates these principles for the system with\n",
    "\n",
    "Type 1 open-loop transfer function\n",
    "\n",
    "$$G_1(s) = \\frac{1}{s(s + 1)}$$"
   ]
  },
  {
   "cell_type": "markdown",
   "metadata": {
    "slideshow": {
     "slide_type": "subslide"
    }
   },
   "source": [
    "Define the plant"
   ]
  },
  {
   "cell_type": "code",
   "execution_count": 24,
   "metadata": {
    "slideshow": {
     "slide_type": "fragment"
    }
   },
   "outputs": [],
   "source": [
    "G1 = tf(1,conv([1, 0],[1, 1])); H=1;"
   ]
  },
  {
   "cell_type": "markdown",
   "metadata": {
    "slideshow": {
     "slide_type": "subslide"
    }
   },
   "source": [
    "Plot root-locus"
   ]
  },
  {
   "cell_type": "code",
   "execution_count": 25,
   "metadata": {
    "slideshow": {
     "slide_type": "subslide"
    }
   },
   "outputs": [
    {
     "data": {
      "image/png": "[encoded data removed]",
      "text/plain": [
       "<IPython.core.display.Image object>"
      ]
     },
     "metadata": {},
     "output_type": "display_data"
    }
   ],
   "source": [
    "rlocus(G1*H)"
   ]
  },
  {
   "cell_type": "markdown",
   "metadata": {
    "slideshow": {
     "slide_type": "subslide"
    }
   },
   "source": [
    "Clearly, we cannot achieve a closed-loop pole at $s_1 = -2 + j2$ without some dynamic compensation. \n",
    "\n",
    "However, if we use the zero of a cascade lead compensator to cancel the pole at $s = -1$ and place the pole at $s = -4$ we get:"
   ]
  },
  {
   "cell_type": "code",
   "execution_count": 26,
   "metadata": {
    "slideshow": {
     "slide_type": "fragment"
    }
   },
   "outputs": [],
   "source": [
    "D1 = zpk([-1],[-4],1);\n",
    "Go1 = D1*G1*H;"
   ]
  },
  {
   "cell_type": "code",
   "execution_count": 27,
   "metadata": {
    "slideshow": {
     "slide_type": "subslide"
    }
   },
   "outputs": [
    {
     "data": {
      "image/png": "[encoded data removed]",
      "text/plain": [
       "<IPython.core.display.Image object>"
      ]
     },
     "metadata": {},
     "output_type": "display_data"
    }
   ],
   "source": [
    "rlocus(Go1)"
   ]
  },
  {
   "cell_type": "markdown",
   "metadata": {
    "slideshow": {
     "slide_type": "subslide"
    }
   },
   "source": [
    "which will have a closed-loop pole at the desired location when the gain is"
   ]
  },
  {
   "cell_type": "code",
   "execution_count": 28,
   "metadata": {
    "slideshow": {
     "slide_type": "fragment"
    }
   },
   "outputs": [
    {
     "name": "stdout",
     "output_type": "stream",
     "text": [
      "Kc =\n",
      "     8\n"
     ]
    }
   ],
   "source": [
    "Kc = rlocfind(Go1,-2+2j)"
   ]
  },
  {
   "cell_type": "markdown",
   "metadata": {
    "slideshow": {
     "slide_type": "subslide"
    }
   },
   "source": [
    "### Example 2\n",
    "\n",
    "For a Type 0 system\n",
    "\n",
    "$$G_2(s) = \\frac{1}{(s + 1)(s + 2)}$$\n",
    "\n",
    "the zero should be used to cancel the pole at $s=-2$. We leave it as an\n",
    "exercise to prove that the compensator\n",
    "\n",
    "$$D_2(s)=2.5\\left(\\frac{s+2}{s+3}\\right)$$\n",
    "\n",
    "gives the desired closed-loop poles."
   ]
  },
  {
   "cell_type": "markdown",
   "metadata": {
    "slideshow": {
     "slide_type": "notes"
    }
   },
   "source": [
    "*Note*\n",
    "\n",
    "You should be aware that the lead compensator zero will still appear in the closed-loop transfer function, and you should verify that the closed-loop step response is acceptible."
   ]
  },
  {
   "cell_type": "markdown",
   "metadata": {
    "slideshow": {
     "slide_type": "slide"
    }
   },
   "source": [
    "## Method 2\n",
    "\n",
    "The following graphical method maximizes the ratio between pole and zero for\n",
    "any given angle contribution. This minimizes the additional compensator gain\n",
    "needed to satisfy the gain criterion. "
   ]
  },
  {
   "cell_type": "markdown",
   "metadata": {
    "slideshow": {
     "slide_type": "subslide"
    }
   },
   "source": [
    "![Figure 2 Graphical construction for locating the pole and zero of a lead compensator](images/fig2.png)\n",
    "*Figure 2 Graphical construction for locating the pole and zero of a lead compensator.*"
   ]
  },
  {
   "cell_type": "markdown",
   "metadata": {
    "slideshow": {
     "slide_type": "subslide"
    }
   },
   "source": [
    "The steps in the location of the lead-compensator pole and zero are as follows (refer to Figure 2).\n",
    "\n",
    "* Locate the desired closed-loop pole $s_1$. Draw a line from the origin to\n",
    "$s_1$ and a horizontal line through $s_1$ to the left."
   ]
  },
  {
   "cell_type": "markdown",
   "metadata": {
    "slideshow": {
     "slide_type": "fragment"
    }
   },
   "source": [
    "* Bisect the angle between the two lines drawn in step 1."
   ]
  },
  {
   "cell_type": "markdown",
   "metadata": {
    "slideshow": {
     "slide_type": "subslide"
    }
   },
   "source": [
    "* Measure the angle $\\phi_c$ either side of the line drawn in step 2."
   ]
  },
  {
   "cell_type": "markdown",
   "metadata": {
    "slideshow": {
     "slide_type": "fragment"
    }
   },
   "source": [
    "* The intersections of these lines with the real axis locate the compensator\n",
    "pole $p_0$ and zero $z_0$."
   ]
  },
  {
   "cell_type": "markdown",
   "metadata": {
    "slideshow": {
     "slide_type": "subslide"
    }
   },
   "source": [
    "### Example 3\n",
    "\n",
    "We return to the satellite attitude control problem with\n",
    "\n",
    "$$G(s) = \\frac{1}{s^2}$$"
   ]
  },
  {
   "cell_type": "markdown",
   "metadata": {
    "slideshow": {
     "slide_type": "subslide"
    }
   },
   "source": [
    "Requiring a closed-loop pole $S_1 = -2 + j2$, the geometry of the problem is illustrated in Figure 3.\n",
    "\n",
    "![Figure 3 Lead compensator design for the satellite attitude control problem](images/fig3.png)\n",
    "*Figure 3 Lead compensator design for the satellite attitude control problem.*"
   ]
  },
  {
   "cell_type": "markdown",
   "metadata": {
    "slideshow": {
     "slide_type": "notes"
    }
   },
   "source": [
    "Note that the line drawn from the origin to the point s1 subtends an angle\n",
    "of $135^\\circ$ to the positive real axis."
   ]
  },
  {
   "cell_type": "markdown",
   "metadata": {
    "slideshow": {
     "slide_type": "subslide"
    }
   },
   "source": [
    "We can use MATLAB to help to work through the trigonometry. The angle contribution\n",
    "of the plant and feedback at $s_1$ is obtained as follows."
   ]
  },
  {
   "cell_type": "code",
   "execution_count": 3,
   "metadata": {
    "slideshow": {
     "slide_type": "fragment"
    }
   },
   "outputs": [],
   "source": [
    "G = tf(1,[1,0,0]);\n",
    "H = 1;\n",
    "GH = G*H;\n",
    "s1 = -2+2j;"
   ]
  },
  {
   "cell_type": "markdown",
   "metadata": {
    "slideshow": {
     "slide_type": "subslide"
    }
   },
   "source": [
    "The total contribution of the plant poles and zeros can be calculated\n",
    "directly using the Matlab equivalent of the angle criterion"
   ]
  },
  {
   "cell_type": "code",
   "execution_count": 4,
   "metadata": {
    "slideshow": {
     "slide_type": "fragment"
    }
   },
   "outputs": [],
   "source": [
    "[zeros,poles,gain]=zpkdata(GH,'v');"
   ]
  },
  {
   "cell_type": "markdown",
   "metadata": {
    "slideshow": {
     "slide_type": "fragment"
    }
   },
   "source": [
    "contribution in degrees"
   ]
  },
  {
   "cell_type": "code",
   "execution_count": 5,
   "metadata": {
    "slideshow": {
     "slide_type": "fragment"
    }
   },
   "outputs": [
    {
     "name": "stdout",
     "output_type": "stream",
     "text": [
      "\n",
      "contrib =\n",
      "\n",
      "  -270\n",
      "\n"
     ]
    }
   ],
   "source": [
    "contrib = (180/pi)*(sum(angle(s1 - zeros)) - sum(angle(s1 - poles)))"
   ]
  },
  {
   "cell_type": "markdown",
   "metadata": {
    "slideshow": {
     "slide_type": "subslide"
    }
   },
   "source": [
    "The root locus angle criterion gives lead contribution\n",
    "\n",
    "$$\\begin{array}{c}\\angle G({s_1})H({s_1}) + {\\phi _c} =  - {180^ \\circ\n",
    "}\\\\{\\phi _c} =  - {180^ \\circ } - \\angle G({s_1})H({s_1})\\end{array}$$"
   ]
  },
  {
   "cell_type": "code",
   "execution_count": 6,
   "metadata": {
    "slideshow": {
     "slide_type": "fragment"
    }
   },
   "outputs": [
    {
     "name": "stdout",
     "output_type": "stream",
     "text": [
      "\n",
      "phi_c =\n",
      "\n",
      "    90\n",
      "\n"
     ]
    }
   ],
   "source": [
    "phi_c = -180 - contrib"
   ]
  },
  {
   "cell_type": "code",
   "execution_count": 7,
   "metadata": {
    "slideshow": {
     "slide_type": "fragment"
    }
   },
   "outputs": [
    {
     "name": "stdout",
     "output_type": "stream",
     "text": [
      "\n",
      "half_phi_c =\n",
      "\n",
      "    45\n",
      "\n"
     ]
    }
   ],
   "source": [
    "half_phi_c = phi_c/2"
   ]
  },
  {
   "cell_type": "markdown",
   "metadata": {
    "slideshow": {
     "slide_type": "subslide"
    }
   },
   "source": [
    "Because the line BA and OD are parallel, the angle subtended by the line OAB is also $135^\\circ$. Thus"
   ]
  },
  {
   "cell_type": "code",
   "execution_count": 8,
   "metadata": {
    "slideshow": {
     "slide_type": "fragment"
    }
   },
   "outputs": [],
   "source": [
    "angle_OAB = 135;\n",
    "angle_BAD = angle_OAB/2 - half_phi_c;\n",
    "angle_BEO = angle_OAB/2 + half_phi_c;"
   ]
  },
  {
   "cell_type": "markdown",
   "metadata": {
    "slideshow": {
     "slide_type": "subslide"
    }
   },
   "source": [
    "and by parallel line theory"
   ]
  },
  {
   "cell_type": "code",
   "execution_count": 9,
   "metadata": {
    "slideshow": {
     "slide_type": "fragment"
    }
   },
   "outputs": [
    {
     "name": "stdout",
     "output_type": "stream",
     "text": [
      "\n",
      "theta_p =\n",
      "\n",
      "   22.5000\n",
      "\n"
     ]
    }
   ],
   "source": [
    "theta_p = angle_BAD"
   ]
  },
  {
   "cell_type": "code",
   "execution_count": 10,
   "metadata": {
    "slideshow": {
     "slide_type": "fragment"
    }
   },
   "outputs": [
    {
     "name": "stdout",
     "output_type": "stream",
     "text": [
      "\n",
      "theta_z =\n",
      "\n",
      "  112.5000\n",
      "\n"
     ]
    }
   ],
   "source": [
    "theta_z = angle_BEO"
   ]
  },
  {
   "cell_type": "markdown",
   "metadata": {
    "slideshow": {
     "slide_type": "subslide"
    }
   },
   "source": [
    "The pole and zero locations are given by"
   ]
  },
  {
   "cell_type": "code",
   "execution_count": 11,
   "metadata": {
    "slideshow": {
     "slide_type": "fragment"
    }
   },
   "outputs": [
    {
     "name": "stdout",
     "output_type": "stream",
     "text": [
      "\n",
      "p0 =\n",
      "\n",
      "   -6.8284\n",
      "\n"
     ]
    }
   ],
   "source": [
    "p0 = -2-2/tan(theta_p*pi/180)"
   ]
  },
  {
   "cell_type": "code",
   "execution_count": 12,
   "metadata": {
    "slideshow": {
     "slide_type": "fragment"
    }
   },
   "outputs": [
    {
     "name": "stdout",
     "output_type": "stream",
     "text": [
      "\n",
      "z0 =\n",
      "\n",
      "   -1.1716\n",
      "\n"
     ]
    }
   ],
   "source": [
    "z0 = -2-2/tan(theta_z*pi/180)"
   ]
  },
  {
   "cell_type": "markdown",
   "metadata": {
    "slideshow": {
     "slide_type": "subslide"
    }
   },
   "source": [
    "The compensator gain is obtained using the gain criterion. With MATLAB,\n",
    "this can be calculated directly from the gain formula:\n",
    "\n",
    "$${K_0} = \\left( \\frac{\\left| s_1 - p_0 \\right|}{\\left| s - z_0\n",
    "\\right|} \\right)\\left( \\frac{\\prod\\limits_{i = 1}^{n - 1} \\left| s_1\n",
    "- p_i \\right| }{\\prod\\limits_{j = 1}^{n - 1} \\left| s_1 - z_j \\right|}\n",
    " \\right)$$"
   ]
  },
  {
   "cell_type": "code",
   "execution_count": 13,
   "metadata": {
    "slideshow": {
     "slide_type": "fragment"
    }
   },
   "outputs": [
    {
     "name": "stdout",
     "output_type": "stream",
     "text": [
      "\n",
      "Ko =\n",
      "\n",
      "   19.3137\n",
      "\n"
     ]
    }
   ],
   "source": [
    "Ko = (abs(s1-p0)*prod(abs(s1-poles)))/(abs(s1-z0)*prod(abs(s1-zeros)))"
   ]
  },
  {
   "cell_type": "markdown",
   "metadata": {
    "slideshow": {
     "slide_type": "subslide"
    }
   },
   "source": [
    "Let us also check this result using the root locus."
   ]
  },
  {
   "cell_type": "code",
   "execution_count": 14,
   "metadata": {
    "slideshow": {
     "slide_type": "subslide"
    }
   },
   "outputs": [
    {
     "data": {
      "image/png": "[encoded data removed]",
      "text/plain": [
       "<IPython.core.display.Image object>"
      ]
     },
     "metadata": {},
     "output_type": "display_data"
    }
   ],
   "source": [
    "D = zpk(z0,p0,1);\n",
    "Go=D*GH;\n",
    "rlocus(Go)"
   ]
  },
  {
   "cell_type": "code",
   "execution_count": 15,
   "metadata": {
    "slideshow": {
     "slide_type": "subslide"
    }
   },
   "outputs": [
    {
     "name": "stdout",
     "output_type": "stream",
     "text": [
      "\n",
      "Kc =\n",
      "\n",
      "   19.3137\n",
      "\n"
     ]
    }
   ],
   "source": [
    "Kc = rlocfind(Go,s1)"
   ]
  },
  {
   "cell_type": "markdown",
   "metadata": {
    "slideshow": {
     "slide_type": "subslide"
    }
   },
   "source": [
    "Finally, let us calculate the step response and compare it with the result\n",
    "achieved with velocity feedback\n",
    "\n",
    "$$G_1(s) = \\frac{8}{s^2 + 4s + 8}$$\n",
    "\n",
    "and proportional + derivative compensation\n",
    "\n",
    "$$G_2(s) = \\frac{4(s+2)}{s^2 + 4s + 8}$$"
   ]
  },
  {
   "cell_type": "code",
   "execution_count": 16,
   "metadata": {
    "slideshow": {
     "slide_type": "subslide"
    }
   },
   "outputs": [
    {
     "name": "stdout",
     "output_type": "stream",
     "text": [
      "\n",
      "G3 =\n",
      " \n",
      "      19.314 (s+1.172)\n",
      "  ------------------------\n",
      "  (s+2.828) (s^2 + 4s + 8)\n",
      " \n",
      "Continuous-time zero/pole/gain model.\n",
      "\n"
     ]
    }
   ],
   "source": [
    "G1 = tf(8,[1, 4, 8]);\n",
    "G2 = tf(4*[1, 2],[1, 4, 8]);\n",
    "G3 = feedback(Kc*D*G,H)"
   ]
  },
  {
   "cell_type": "code",
   "execution_count": 17,
   "metadata": {
    "slideshow": {
     "slide_type": "subslide"
    }
   },
   "outputs": [
    {
     "data": {
      "image/png": "[encoded data removed]",
      "text/plain": [
       "<IPython.core.display.Image object>"
      ]
     },
     "metadata": {},
     "output_type": "display_data"
    }
   ],
   "source": [
    "[y1,t1]=step(G1);\n",
    "[y2,t2]=step(G2);\n",
    "[y3,t3]=step(G3);\n",
    "plot(t1,y1,t2,y2,t3,y3),legend('Velocity fb','P+D','cascade lead'),title('Lead compensation: Comparison of results')"
   ]
  },
  {
   "cell_type": "markdown",
   "metadata": {
    "slideshow": {
     "slide_type": "notes"
    }
   },
   "source": [
    "When evaluating the third design you should take into account the location of the compensator zero and the third closed-loop pole (at $s = -2.828$) relative to the desired closed-loop pole at $s_1$."
   ]
  },
  {
   "cell_type": "markdown",
   "metadata": {
    "slideshow": {
     "slide_type": "subslide"
    }
   },
   "source": [
    "## Method 3\n",
    "\n",
    "The third method referenced in D'Azzo and Houpis addresses a problem with lead compensator design that has so far not been addressed. That is that only the desired transient performance, and hence the desired location of the dominant closed-loop poles, is considered. The desired system gain is not specified. A method of achieving both gain and desired pole location has been proposed by Phillips and Harbour (1988) and is considered in the [Analytic Root Locus Design](../5/analrloc) section (**not assessed**)."
   ]
  },
  {
   "cell_type": "markdown",
   "metadata": {
    "slideshow": {
     "slide_type": "notes"
    }
   },
   "source": [
    "## References\n",
    "\n",
    "John J. D'Azzo and Constantne Houpis, (1975) *Linear Control System Analysis and Design (Conventional and Modern)*, McGraw & Hill, 1975 and later editions.\n",
    "\n",
    "Phillips and Harbor (1988), *Feedback Control Systems*, Prentice Hall."
   ]
  },
  {
   "cell_type": "markdown",
   "metadata": {
    "slideshow": {
     "slide_type": "notes"
    }
   },
   "source": [
    "## Resources\n",
    "\n",
    "An executable version of this document is available to download as a MATLAB Live Script file [cclead.mlx](matlab/cclead.mlx).\n",
    "\n",
    "The Simulink model which compares the results of the satellite attitude control system compensated with velocity feedback, P+D compensation *and* lead compensation is [lead_compensation.slx](matlab/lead_compensation.slx)."
   ]
  }
 ],
 "metadata": {
  "celltoolbar": "Slideshow",
  "kernelspec": {
   "display_name": "Matlab",
   "language": "matlab",
   "name": "matlab"
  },
  "language_info": {
   "codemirror_mode": "octave",
   "file_extension": ".m",
   "help_links": [
    {
     "text": "MetaKernel Magics",
     "url": "https://github.com/calysto/metakernel/blob/master/metakernel/magics/README.md"
    }
   ],
   "mimetype": "text/x-octave",
   "name": "matlab",
   "version": "0.15.2"
  }
 },
 "nbformat": 4,
 "nbformat_minor": 2
}
