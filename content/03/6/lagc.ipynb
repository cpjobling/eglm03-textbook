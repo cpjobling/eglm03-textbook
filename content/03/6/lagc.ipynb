{
 "cells": [
  {
   "cell_type": "markdown",
   "metadata": {},
   "source": [
    "**Lecturer**\n",
    "\n",
    "Set up MATLAB"
   ]
  },
  {
   "cell_type": "code",
   "execution_count": 2,
   "metadata": {
    "slideshow": {
     "slide_type": "skip"
    }
   },
   "outputs": [
    {
     "name": "stdout",
     "output_type": "stream",
     "text": [
      "\n",
      "ans =\n",
      "\n",
      "    '/Users/eechris/dev/eglm03-textbook/content/03/6/matlab'\n",
      "\n"
     ]
    }
   ],
   "source": [
    "cd matlab\n",
    "pwd\n",
    "clear all\n",
    "format compact"
   ]
  },
  {
   "cell_type": "markdown",
   "metadata": {
    "slideshow": {
     "slide_type": "slide"
    }
   },
   "source": [
    "# Lag Compensation"
   ]
  },
  {
   "cell_type": "markdown",
   "metadata": {
    "slideshow": {
     "slide_type": "slide"
    }
   },
   "source": [
    "# Introduction\n",
    "\n",
    "Lead compensation is used to improved the transient response of a closed-loop control system. \n",
    "\n",
    "In most cases it is also important to ensure that the steady-state accuracy of the closed-loop system is controlled. \n",
    "\n",
    "In order to reduce the steady-state errors in a system we can use integral action (see [PID compensation](../4/pid)) which has the affect of increasing the system type number by 1 or increase the system gain. "
   ]
  },
  {
   "cell_type": "markdown",
   "metadata": {
    "slideshow": {
     "slide_type": "slide"
    }
   },
   "source": [
    "Unfortunately the latter, because it acts at all frequencies, usually has the effect of reducing stability. \n",
    "\n",
    "What is needed is a form of compensation that acts in a frequency dependent way: adding gain at low frequencies while maintaining mid-to-high frequency gains at the values needed to guarantee stable transient behaviour. \n",
    "\n",
    "A dynamic compensator that has this effect is the \"**lag compensator**\"."
   ]
  },
  {
   "cell_type": "markdown",
   "metadata": {
    "slideshow": {
     "slide_type": "subslide"
    }
   },
   "source": [
    "The lag compensator has the transfer function:\n",
    "\n",
    "$$D_{\\mathrm{lag}}(s)=K_c\\left(\\frac{s-z_0}{s-p_0}\\right)$$\n",
    "\n",
    "where $|z_0| > |p_0|$."
   ]
  },
  {
   "cell_type": "markdown",
   "metadata": {
    "slideshow": {
     "slide_type": "subslide"
    }
   },
   "source": [
    "Considering the frequency response of $D_{\\mathrm{lag}}(s)$\n",
    "\n",
    "$$D_{\\mathrm{lag}}(j\\omega)=K_c\\left(\\frac{j\\omega-z_0}{j\\omega-p_0}\\right)$$"
   ]
  },
  {
   "cell_type": "markdown",
   "metadata": {
    "slideshow": {
     "slide_type": "subslide"
    }
   },
   "source": [
    "The low and high-frequency gains are:"
   ]
  },
  {
   "cell_type": "markdown",
   "metadata": {
    "slideshow": {
     "slide_type": "fragment"
    }
   },
   "source": [
    "$$\\left.D_{\\mathrm{lag}}(j\\omega)\\right|_{\\omega\\to 0} = K_c\\left(\\frac{z_0}{p_0}\\right)$$"
   ]
  },
  {
   "cell_type": "markdown",
   "metadata": {
    "slideshow": {
     "slide_type": "fragment"
    }
   },
   "source": [
    "$$\\left.D_{\\mathrm{lag}}(j\\omega)\\right|_{\\omega\\to \\infty} = K_c$$"
   ]
  },
  {
   "cell_type": "markdown",
   "metadata": {
    "slideshow": {
     "slide_type": "notes"
    }
   },
   "source": [
    "Because the low frequency gain is higher than the high frequency gain (the compensator has a low-pass characteristic). If the high frequency gain is designed to match the gain needed for transient performance, the low frequency gain can be independently designed to achieve steady-state performance requirements."
   ]
  },
  {
   "cell_type": "markdown",
   "metadata": {
    "slideshow": {
     "slide_type": "slide"
    }
   },
   "source": [
    "## Properties of the Cascade Lag Compensator\n",
    "\n",
    "As $|z_0|>|p_0|$ (a ratio of $z_0/p_0\\le 10$ is usual), the angle contributed \n",
    "by the compensator to some arbitrary point $s_1$ at on the s-plane, is illustrated \n",
    "in Figure 1.\n",
    "\n",
    "\n",
    "![Figure 1 Angle contribution of a lag compensator](images/fig1.png)\n",
    "**Figure 1 Angle contribution of a lag compensator**"
   ]
  },
  {
   "cell_type": "markdown",
   "metadata": {
    "slideshow": {
     "slide_type": "subslide"
    }
   },
   "source": [
    "The net contribution is\n",
    "\n",
    "$$\\phi_c = -\\theta_p+\\theta_z < 0$$\n",
    "\n",
    "so that the lead compensator always makes a negative contribution to the \n",
    "angle criterion. "
   ]
  },
  {
   "cell_type": "markdown",
   "metadata": {
    "slideshow": {
     "slide_type": "fragment"
    }
   },
   "source": [
    "This has the effect of allowing the closed-loop poles to move to the right in the _s_-plane. "
   ]
  },
  {
   "cell_type": "markdown",
   "metadata": {
    "slideshow": {
     "slide_type": "fragment"
    }
   },
   "source": [
    "The design approach seeks to keep this negative contribution as small as possible so that the pole must be placed physically close to the zero. Typically $|\\phi_c| < 2^\\circ$."
   ]
  },
  {
   "cell_type": "markdown",
   "metadata": {
    "slideshow": {
     "slide_type": "subslide"
    }
   },
   "source": [
    "For convenience, the DC gain of the lag compensator is made unity:\n",
    "\n",
    "$$\\left.D_{\\mathrm{lag}}(s)\\right|_{s = 0} = K_c\\left(\\frac{z_0}{p_0}\\right) \n",
    "= 1$$\n",
    "\n",
    "Since $|z_0|>|p_0|$ then\n",
    "\n",
    "$$K_c = \\frac{p_0}{z_0} < 1.$$"
   ]
  },
  {
   "cell_type": "markdown",
   "metadata": {
    "slideshow": {
     "slide_type": "subslide"
    }
   },
   "source": [
    "Now, the uncompensated (or lead-compensated) closed-loop characteristic equation is\n",
    "\n",
    "$$1+K_0G(s)H(s) = 0$$\n",
    "\n",
    "so \n",
    "\n",
    "$$K_0 = -\\frac{1}{G(s)H(s)}.$$\n",
    "\n",
    "The gain $K_0$ is the root-locus gain required to place the required dominant closed-loop poles at  $s=s_1$. "
   ]
  },
  {
   "cell_type": "markdown",
   "metadata": {
    "slideshow": {
     "slide_type": "subslide"
    }
   },
   "source": [
    "The values of the zero and pole are chosen such that\n",
    "\n",
    "$$\\left.D_{\\mathrm{lag}}(s)\\right|_{s = s_1} = K_c\\left(\\frac{s - z_0}{s \n",
    "- p_0}\\right) \\cong K_c.$$"
   ]
  },
  {
   "cell_type": "markdown",
   "metadata": {
    "slideshow": {
     "slide_type": "fragment"
    }
   },
   "source": [
    "This equation requires that the pole and zero be close together and also that\n",
    "\n",
    "$$z_0 \\ll |s_1|.$$"
   ]
  },
  {
   "cell_type": "markdown",
   "metadata": {
    "slideshow": {
     "slide_type": "subslide"
    }
   },
   "source": [
    "For the lag compensated system, the new root-locus gain will be\n",
    "\n",
    "$$K=-\\frac{1}{D(s)G(s)H(s)}\\ \\cong - \\frac{1}{K_cG(s)H(s)} =\\frac{K_0}{K_c}.$$"
   ]
  },
  {
   "cell_type": "markdown",
   "metadata": {
    "slideshow": {
     "slide_type": "fragment"
    }
   },
   "source": [
    "The gain $K$ is chosen to satisfy the steady-state error requirements and the compensator gain $K_c$ is used to ensure that the effective gain at $s=s_1$ is unchanged."
   ]
  },
  {
   "cell_type": "markdown",
   "metadata": {
    "slideshow": {
     "slide_type": "slide"
    }
   },
   "source": [
    "## Design Procedure"
   ]
  },
  {
   "cell_type": "markdown",
   "metadata": {
    "slideshow": {
     "slide_type": "fragment"
    }
   },
   "source": [
    "1. Choose $K_0$ to ensure that the desired dominant closed-loop poles satisfy the transient response requirements. "
   ]
  },
  {
   "cell_type": "markdown",
   "metadata": {
    "slideshow": {
     "slide_type": "fragment"
    }
   },
   "source": [
    "2. Calculate the gain _K_ required to give the desired steady-state error. "
   ]
  },
  {
   "cell_type": "markdown",
   "metadata": {
    "slideshow": {
     "slide_type": "fragment"
    }
   },
   "source": [
    "3. Assuming that the lag compensator has unity DC gain choose $K_c = K_0/K$."
   ]
  },
  {
   "cell_type": "markdown",
   "metadata": {
    "slideshow": {
     "slide_type": "subslide"
    }
   },
   "source": [
    "4. Choose $|z_0|$ small with respect to $|s_1|$. "
   ]
  },
  {
   "cell_type": "markdown",
   "metadata": {
    "slideshow": {
     "slide_type": "notes"
    }
   },
   "source": [
    "A value of $z_0=|s_1|/10$ is often taken as a reasonable first approximation."
   ]
  },
  {
   "cell_type": "markdown",
   "metadata": {
    "slideshow": {
     "slide_type": "fragment"
    }
   },
   "source": [
    "The lag compensator pole is then  $p_0 = K_c z_0$."
   ]
  },
  {
   "cell_type": "markdown",
   "metadata": {
    "slideshow": {
     "slide_type": "slide"
    }
   },
   "source": [
    "## Example"
   ]
  },
  {
   "cell_type": "markdown",
   "metadata": {
    "slideshow": {
     "slide_type": "fragment"
    }
   },
   "source": [
    "The plant (type 1)\n",
    "\n",
    "$$G(s) = \\frac{1}{s(s + 4)}$$"
   ]
  },
  {
   "cell_type": "markdown",
   "metadata": {
    "slideshow": {
     "slide_type": "fragment"
    }
   },
   "source": [
    "The feedback is\n",
    "\n",
    "$$H(s) = 1$$"
   ]
  },
  {
   "cell_type": "markdown",
   "metadata": {
    "slideshow": {
     "slide_type": "subslide"
    }
   },
   "source": [
    "hence"
   ]
  },
  {
   "cell_type": "code",
   "execution_count": 3,
   "metadata": {
    "slideshow": {
     "slide_type": "fragment"
    }
   },
   "outputs": [],
   "source": [
    "s = tf('s');\n",
    "G = 1/(s*(s+4));\n",
    "H=1;"
   ]
  },
  {
   "cell_type": "markdown",
   "metadata": {
    "slideshow": {
     "slide_type": "subslide"
    }
   },
   "source": [
    "root-locus"
   ]
  },
  {
   "cell_type": "code",
   "execution_count": 4,
   "metadata": {
    "slideshow": {
     "slide_type": "fragment"
    }
   },
   "outputs": [
    {
     "data": {
      "image/png": "[encoded data removed]",
      "text/plain": [
       "<IPython.core.display.Image object>"
      ]
     },
     "metadata": {},
     "output_type": "display_data"
    }
   ],
   "source": [
    "GH = series(G,H);\n",
    "rlocus(GH)"
   ]
  },
  {
   "cell_type": "markdown",
   "metadata": {
    "slideshow": {
     "slide_type": "subslide"
    }
   },
   "source": [
    "In common with previous examples, we chose closed-loop poles at $s=-2\\pm \n",
    "j2$ and determine $K_0$:"
   ]
  },
  {
   "cell_type": "code",
   "execution_count": 5,
   "metadata": {
    "slideshow": {
     "slide_type": "fragment"
    }
   },
   "outputs": [
    {
     "name": "stdout",
     "output_type": "stream",
     "text": [
      "K0 =\n",
      "     8\n"
     ]
    }
   ],
   "source": [
    "s1 = -2+2j;\n",
    "K0 = rlocfind(GH,s1)"
   ]
  },
  {
   "cell_type": "markdown",
   "metadata": {
    "slideshow": {
     "slide_type": "subslide"
    }
   },
   "source": [
    "As an aside, we calculate the step response for comparison later:"
   ]
  },
  {
   "cell_type": "code",
   "execution_count": 6,
   "metadata": {
    "slideshow": {
     "slide_type": "fragment"
    }
   },
   "outputs": [],
   "source": [
    "Gc1 = feedback(K0*G,H);\n",
    "[y1,t1]=step(Gc1,10);"
   ]
  },
  {
   "cell_type": "markdown",
   "metadata": {
    "slideshow": {
     "slide_type": "subslide"
    }
   },
   "source": [
    "The system is type 1 so that the static velocity error\n",
    "\n",
    "$$K_v = \\left.sG(s)H(s)\\right|_{s=0}=\\left.s\\frac{K_0}{s(s+4)}\\right|_{s=0} \n",
    "=\\frac{K_0}{4}=2.$$\n",
    "\n",
    "We would, for the purposes of illustration, like to increase the static \n",
    "velocity error to 10 which will make the steady-state velocity error equal to \n",
    "10%.\n",
    "\n",
    "Thus we need $K = 40$."
   ]
  },
  {
   "cell_type": "code",
   "execution_count": 7,
   "metadata": {
    "slideshow": {
     "slide_type": "subslide"
    }
   },
   "outputs": [
    {
     "name": "stdout",
     "output_type": "stream",
     "text": [
      "Kc =\n",
      "    0.2000\n"
     ]
    }
   ],
   "source": [
    "K=40;\n",
    "Kc = K0/K"
   ]
  },
  {
   "cell_type": "markdown",
   "metadata": {
    "slideshow": {
     "slide_type": "subslide"
    }
   },
   "source": [
    "Now "
   ]
  },
  {
   "cell_type": "code",
   "execution_count": 8,
   "metadata": {
    "slideshow": {
     "slide_type": "fragment"
    }
   },
   "outputs": [
    {
     "name": "stdout",
     "output_type": "stream",
     "text": [
      "ans =\n",
      "    2.8284\n"
     ]
    }
   ],
   "source": [
    "abs(s1)"
   ]
  },
  {
   "cell_type": "markdown",
   "metadata": {
    "slideshow": {
     "slide_type": "fragment"
    }
   },
   "source": [
    "so let the zero be"
   ]
  },
  {
   "cell_type": "code",
   "execution_count": 9,
   "metadata": {
    "slideshow": {
     "slide_type": "fragment"
    }
   },
   "outputs": [
    {
     "name": "stdout",
     "output_type": "stream",
     "text": [
      "z0 =\n",
      "   -0.3000\n"
     ]
    }
   ],
   "source": [
    "z0 = -3/10"
   ]
  },
  {
   "cell_type": "markdown",
   "metadata": {
    "slideshow": {
     "slide_type": "subslide"
    }
   },
   "source": [
    "and"
   ]
  },
  {
   "cell_type": "code",
   "execution_count": 10,
   "metadata": {
    "slideshow": {
     "slide_type": "fragment"
    }
   },
   "outputs": [
    {
     "name": "stdout",
     "output_type": "stream",
     "text": [
      "p0 =\n",
      "   -0.0600\n"
     ]
    }
   ],
   "source": [
    "p0 = Kc*z0"
   ]
  },
  {
   "cell_type": "markdown",
   "metadata": {
    "slideshow": {
     "slide_type": "subslide"
    }
   },
   "source": [
    "so"
   ]
  },
  {
   "cell_type": "code",
   "execution_count": 11,
   "metadata": {
    "slideshow": {
     "slide_type": "fragment"
    }
   },
   "outputs": [
    {
     "name": "stdout",
     "output_type": "stream",
     "text": [
      "\n",
      "Dlag =\n",
      " \n",
      "  0.2 (s+0.3)\n",
      "  -----------\n",
      "   (s+0.06)\n",
      " \n",
      "Continuous-time zero/pole/gain model.\n",
      "\n"
     ]
    }
   ],
   "source": [
    "Dlag = zpk([z0],[p0],Kc)"
   ]
  },
  {
   "cell_type": "markdown",
   "metadata": {
    "slideshow": {
     "slide_type": "subslide"
    }
   },
   "source": [
    "Let us see how we have done."
   ]
  },
  {
   "cell_type": "code",
   "execution_count": 12,
   "metadata": {
    "slideshow": {
     "slide_type": "subslide"
    }
   },
   "outputs": [
    {
     "name": "stdout",
     "output_type": "stream",
     "text": [
      "\n",
      "Go2 =\n",
      " \n",
      "    0.2 (s+0.3)\n",
      "  ----------------\n",
      "  s (s+0.06) (s+4)\n",
      " \n",
      "Continuous-time zero/pole/gain model.\n",
      "\n"
     ]
    }
   ],
   "source": [
    "Go2 = Dlag*GH"
   ]
  },
  {
   "cell_type": "code",
   "execution_count": 13,
   "metadata": {
    "slideshow": {
     "slide_type": "subslide"
    }
   },
   "outputs": [
    {
     "name": "stdout",
     "output_type": "stream",
     "text": [
      "poles =\n",
      "  -1.8576 + 1.8730i\n",
      "  -1.8576 - 1.8730i\n",
      "  -0.3449 + 0.0000i\n"
     ]
    }
   ],
   "source": [
    "[poles] = rlocus(Go2,K)"
   ]
  },
  {
   "cell_type": "code",
   "execution_count": 15,
   "metadata": {
    "slideshow": {
     "slide_type": "subslide"
    }
   },
   "outputs": [
    {
     "data": {
      "image/png": "[encoded data removed]",
      "text/plain": [
       "<IPython.core.display.Image object>"
      ]
     },
     "metadata": {},
     "output_type": "display_data"
    }
   ],
   "source": [
    "rlocus(Go2),hold on,plot(poles,'*'),...\n",
    "    title('Lag compensated design'),...\n",
    "    hold off"
   ]
  },
  {
   "cell_type": "markdown",
   "metadata": {
    "slideshow": {
     "slide_type": "subslide"
    }
   },
   "source": [
    "The closed-loop system:"
   ]
  },
  {
   "cell_type": "code",
   "execution_count": 14,
   "metadata": {
    "slideshow": {
     "slide_type": "subslide"
    }
   },
   "outputs": [
    {
     "name": "stdout",
     "output_type": "stream",
     "text": [
      "\n",
      "Gc2 =\n",
      " \n",
      "              8 (s+0.3)\n",
      "  ---------------------------------\n",
      "  (s+0.3449) (s^2 + 3.715s + 6.959)\n",
      " \n",
      "Continuous-time zero/pole/gain model.\n",
      "\n"
     ]
    }
   ],
   "source": [
    "Gc2 = feedback(K*Dlag*G,H)"
   ]
  },
  {
   "cell_type": "markdown",
   "metadata": {
    "slideshow": {
     "slide_type": "subslide"
    }
   },
   "source": [
    "has step response"
   ]
  },
  {
   "cell_type": "code",
   "execution_count": 15,
   "metadata": {
    "slideshow": {
     "slide_type": "subslide"
    }
   },
   "outputs": [],
   "source": [
    "[y2,t2]=step(Gc2,10);"
   ]
  },
  {
   "cell_type": "markdown",
   "metadata": {
    "slideshow": {
     "slide_type": "subslide"
    }
   },
   "source": [
    "Finally we compare the lag-compensated and gain compensated responses:"
   ]
  },
  {
   "cell_type": "code",
   "execution_count": 16,
   "metadata": {
    "slideshow": {
     "slide_type": "subslide"
    }
   },
   "outputs": [
    {
     "data": {
      "image/png": "[encoded data removed]",
      "text/plain": [
       "<IPython.core.display.Image object>"
      ]
     },
     "metadata": {},
     "output_type": "display_data"
    }
   ],
   "source": [
    "plot(t1,y1,t2,y2),title('Lag compensated response'),...\n",
    "    legend('Transient design','Lag compensated')"
   ]
  },
  {
   "cell_type": "markdown",
   "metadata": {
    "slideshow": {
     "slide_type": "slide"
    }
   },
   "source": [
    "## Comments\n",
    "\n",
    "The lag compensator has a significantly longer settling time and a raised overshoot. These effects can be explained by examination of the closed-loop transfer function.\n",
    "\n",
    "The benefits of the lag compensated repsonse can only be really seen when we compare the ramp responses. To determine the ramp response, we need to add an integrator to the plant and find the error responses:"
   ]
  },
  {
   "cell_type": "code",
   "execution_count": 17,
   "metadata": {
    "slideshow": {
     "slide_type": "slide"
    }
   },
   "outputs": [],
   "source": [
    "Ge1 = 1/(1+K0*G*H);\n",
    "[y3,t3]=step(Ge1*1/s,10);"
   ]
  },
  {
   "cell_type": "code",
   "execution_count": 18,
   "metadata": {
    "slideshow": {
     "slide_type": "slide"
    }
   },
   "outputs": [],
   "source": [
    "Ge2 = 1/(1+K*Dlag*G*H);\n",
    "[y4,t4]=step(Ge2*1/s,10);"
   ]
  },
  {
   "cell_type": "code",
   "execution_count": 19,
   "metadata": {
    "slideshow": {
     "slide_type": "slide"
    }
   },
   "outputs": [
    {
     "data": {
      "image/png": "[encoded data removed]",
      "text/plain": [
       "<IPython.core.display.Image object>"
      ]
     },
     "metadata": {},
     "output_type": "display_data"
    }
   ],
   "source": [
    "plot(t3,y3,t4,y4),title('Lag compensated: ramp response'),...\n",
    "    legend('Transient design','Lag compensated')"
   ]
  },
  {
   "cell_type": "markdown",
   "metadata": {
    "slideshow": {
     "slide_type": "slide"
    }
   },
   "source": [
    "The error is certainly reduced, but the settling time is rather long. To improve the design, a strategy would be to reduce the size of the lag zero to reduce still further the dynamic effects of the compensator on the settling \n",
    "time. However, the zero will still have an effect on the overshoot."
   ]
  },
  {
   "cell_type": "markdown",
   "metadata": {
    "slideshow": {
     "slide_type": "notes"
    }
   },
   "source": [
    "## Resources\n",
    "\n",
    "An executable version of this document is available to download as a MATLAB Live Script file [cclag.mlx](matlab/cclag.mlx).\n",
    "\n",
    "You can simulate this design after defining the parameters:"
   ]
  },
  {
   "cell_type": "code",
   "execution_count": 4,
   "metadata": {
    "slideshow": {
     "slide_type": "notes"
    }
   },
   "outputs": [
    {
     "name": "stdout",
     "output_type": "stream",
     "text": [
      "Created file '/Users/eechris/dev/eglm03-textbook/content/03/6/params.m'.\n"
     ]
    }
   ],
   "source": [
    "%%file params.m\n",
    "% PARAMS - parameters for Lag Compensator Simulation\n",
    "K0 = 8\n",
    "Kc = 8/40\n",
    "K = 8/Kc\n",
    "\n",
    "G = tf(1,conv([1,0],[1,4]))\n",
    "Clag = Kc*tf([1, 0.3],[1, 0.06])\n",
    "\n",
    "H = 1;\n",
    "F = 1;"
   ]
  },
  {
   "cell_type": "markdown",
   "metadata": {
    "slideshow": {
     "slide_type": "notes"
    }
   },
   "source": [
    "using this Simulink model [lag_sim.slx](matlab/lag_sim.slx) [[params.m](matlab/params.c)]."
   ]
  }
 ],
 "metadata": {
  "celltoolbar": "Slideshow",
  "kernelspec": {
   "display_name": "Matlab",
   "language": "matlab",
   "name": "matlab"
  },
  "language_info": {
   "codemirror_mode": "octave",
   "file_extension": ".m",
   "help_links": [
    {
     "text": "MetaKernel Magics",
     "url": "https://github.com/calysto/metakernel/blob/master/metakernel/magics/README.md"
    }
   ],
   "mimetype": "text/x-octave",
   "name": "matlab",
   "version": "0.15.2"
  }
 },
 "nbformat": 4,
 "nbformat_minor": 2
}
