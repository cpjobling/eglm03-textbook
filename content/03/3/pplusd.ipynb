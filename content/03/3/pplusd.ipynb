{
 "cells": [
  {
   "cell_type": "code",
   "execution_count": 18,
   "metadata": {
    "slideshow": {
     "slide_type": "skip"
    }
   },
   "outputs": [],
   "source": [
    "clear all\n",
    "format compact"
   ]
  },
  {
   "cell_type": "markdown",
   "metadata": {
    "slideshow": {
     "slide_type": "slide"
    }
   },
   "source": [
    "# Proportional Plus Derivative Compensation"
   ]
  },
  {
   "cell_type": "markdown",
   "metadata": {
    "slideshow": {
     "slide_type": "slide"
    }
   },
   "source": [
    "## Introduction\n",
    "\n",
    "First design example (Satellite Attitude Control). \n",
    "\n",
    "Plant:  $$G(s) = \\frac{1}{s^2}$$\n",
    "\n",
    "Feedback: \n",
    "\n",
    "$$H(s) = 1$$"
   ]
  },
  {
   "cell_type": "markdown",
   "metadata": {
    "slideshow": {
     "slide_type": "subslide"
    }
   },
   "source": [
    "With velocity feedback the system is as shown in Figure 1.\n",
    "\n",
    "![Figure 1 Satellite Attitude Control with Velocity Feedback](fig1.png)\n",
    "**Figure 1 Satellite Attitude Control with Velocity Feedback**"
   ]
  },
  {
   "cell_type": "markdown",
   "metadata": {
    "slideshow": {
     "slide_type": "subslide"
    }
   },
   "source": [
    "For this system, the root locus equation is\n",
    "\n",
    "$$1+\\frac{KK_T \\left(s+\\frac{1}{K_T }\\right)}{s^2 }$$\n",
    "\n",
    "and the design parameters where calculated to be"
   ]
  },
  {
   "cell_type": "code",
   "execution_count": 19,
   "metadata": {
    "slideshow": {
     "slide_type": "fragment"
    }
   },
   "outputs": [],
   "source": [
    "Kt = 0.5; K = 8;"
   ]
  },
  {
   "cell_type": "markdown",
   "metadata": {
    "slideshow": {
     "slide_type": "subslide"
    }
   },
   "source": [
    "The closed-loop characteristic equation is"
   ]
  },
  {
   "cell_type": "code",
   "execution_count": 20,
   "metadata": {
    "slideshow": {
     "slide_type": "-"
    }
   },
   "outputs": [],
   "source": [
    "clce1 = [1, K*Kt, K];"
   ]
  },
  {
   "cell_type": "markdown",
   "metadata": {
    "slideshow": {
     "slide_type": "fragment"
    }
   },
   "source": [
    "The closed-loop transfer function is then:"
   ]
  },
  {
   "cell_type": "code",
   "execution_count": 21,
   "metadata": {
    "slideshow": {
     "slide_type": "-"
    }
   },
   "outputs": [
    {
     "name": "stdout",
     "output_type": "stream",
     "text": [
      "\n",
      "Gc1 =\n",
      " \n",
      "        8\n",
      "  -------------\n",
      "  s^2 + 4 s + 8\n",
      " \n",
      "Continuous-time transfer function.\n",
      "\n"
     ]
    }
   ],
   "source": [
    "Gc1 = tf(K,clce1)"
   ]
  },
  {
   "cell_type": "markdown",
   "metadata": {
    "slideshow": {
     "slide_type": "subslide"
    }
   },
   "source": [
    "In this document we illustrate how we may implement a silimilar control \n",
    "law using cascade compensation."
   ]
  },
  {
   "cell_type": "markdown",
   "metadata": {
    "slideshow": {
     "slide_type": "slide"
    }
   },
   "source": [
    "## Cascade compensator\n",
    "\n",
    "An alternative compensation architecture is the cascade compensator illustrated in Figure 2.\n",
    "\n",
    "![Figure 2 The cascade compensator](pd.png)\n",
    "**Figure 2 The cascade compensator**"
   ]
  },
  {
   "cell_type": "markdown",
   "metadata": {
    "slideshow": {
     "slide_type": "subslide"
    }
   },
   "source": [
    "The compensator is in series with the plant so that, in general, if the compensator transfer function is\n",
    "\n",
    "$$D(s)=\\frac{K_c(s+z_1)\\ldots(s+z_r)}{(s+p_1)\\ldots(s+p_q)}$$\n",
    "\t \n",
    "and the compensator poles and zeros are simply added to the poles and zeros of the plant. "
   ]
  },
  {
   "cell_type": "markdown",
   "metadata": {
    "slideshow": {
     "slide_type": "subslide"
    }
   },
   "source": [
    "If we wish to achieve the same root-locus equation as the previous design (1) then the compensator must have transfer function \n",
    "\n",
    "$$D(s) = K_c(s + z_1)$$\n",
    "\n",
    "where\n",
    "\n",
    "$$K_c = K K_t = 4$$\n",
    "\n",
    "$$z_1 = 1/K_t = 2$$\n",
    "\t "
   ]
  },
  {
   "attachments": {},
   "cell_type": "markdown",
   "metadata": {
    "slideshow": {
     "slide_type": "subslide"
    }
   },
   "source": [
    "Let us verify that this gives the same results as the previous example:"
   ]
  },
  {
   "cell_type": "code",
   "execution_count": 22,
   "metadata": {
    "slideshow": {
     "slide_type": "fragment"
    }
   },
   "outputs": [
    {
     "name": "stdout",
     "output_type": "stream",
     "text": [
      "\n",
      "Go =\n",
      " \n",
      "  (s+2)\n",
      "  -----\n",
      "   s^2\n",
      " \n",
      "Continuous-time zero/pole/gain model.\n",
      "\n"
     ]
    }
   ],
   "source": [
    "z1 = -1/Kt;\n",
    "Go = zpk(z1,[0, 0],1) % root locus gain initially set to unity"
   ]
  },
  {
   "cell_type": "code",
   "execution_count": 23,
   "metadata": {
    "slideshow": {
     "slide_type": "subslide"
    }
   },
   "outputs": [
    {
     "data": {
      "image/png": "[encoded data removed]",
      "text/plain": [
       "<IPython.core.display.Image object>"
      ]
     },
     "metadata": {},
     "output_type": "display_data"
    }
   ],
   "source": [
    "rlocus(Go),title('Root locus for cascade compensated system')"
   ]
  },
  {
   "cell_type": "markdown",
   "metadata": {
    "slideshow": {
     "slide_type": "subslide"
    }
   },
   "source": [
    "Find the root locus gain at the point on the root locus where the poles are located at $s=-2+j2$."
   ]
  },
  {
   "cell_type": "code",
   "execution_count": 24,
   "metadata": {
    "slideshow": {
     "slide_type": "-"
    }
   },
   "outputs": [
    {
     "name": "stdout",
     "output_type": "stream",
     "text": [
      "Kc =\n",
      "     4\n"
     ]
    }
   ],
   "source": [
    "Kc = rlocfind(Go,-2+2j)"
   ]
  },
  {
   "cell_type": "markdown",
   "metadata": {
    "slideshow": {
     "slide_type": "subslide"
    }
   },
   "source": [
    "Now add this to the compensator"
   ]
  },
  {
   "cell_type": "code",
   "execution_count": 25,
   "metadata": {},
   "outputs": [
    {
     "name": "stdout",
     "output_type": "stream",
     "text": [
      "\n",
      "D =\n",
      " \n",
      "  4 s + 8\n",
      " \n",
      "Continuous-time transfer function.\n",
      "\n"
     ]
    }
   ],
   "source": [
    "D = tf(Kc*[1 -z1],1)"
   ]
  },
  {
   "cell_type": "markdown",
   "metadata": {
    "slideshow": {
     "slide_type": "fragment"
    }
   },
   "source": [
    "$$D(s) = 4s + 8$$"
   ]
  },
  {
   "cell_type": "markdown",
   "metadata": {
    "slideshow": {
     "slide_type": "notes"
    }
   },
   "source": [
    "Analysis of this compensator reveals that it is of a type known as \"_proportional \n",
    "plus derivative_\" (P+D). The output of the compensator is of the form\n",
    "\n",
    "$$U(s) = K_DsE(s)+K_{\\mathrm{prop}}E(s)$$\n",
    "\n",
    "$$u(t) = K_d\\frac{de(t)}{dt}+K_{\\mathrm{prop}}e(t)$$\n",
    "\n",
    "and is made up of a \"proportion\" of the error plus a proportion of the \n",
    "rate-of-change (or derivative) of the error. It is the derivative term that \n",
    "gives the dampening effect required to allow the frictionless system to come \n",
    "to rest."
   ]
  },
  {
   "cell_type": "markdown",
   "metadata": {
    "slideshow": {
     "slide_type": "slide"
    }
   },
   "source": [
    "## Closed-loop response\n",
    "\n",
    "The closed-loop tranfer function is given by \n",
    "\n",
    "$$G_c(s) = \\frac{D(s)G(s)}{1+D(s)G(s)}$$"
   ]
  },
  {
   "cell_type": "code",
   "execution_count": 26,
   "metadata": {
    "slideshow": {
     "slide_type": "subslide"
    }
   },
   "outputs": [
    {
     "name": "stdout",
     "output_type": "stream",
     "text": [
      "\n",
      "G =\n",
      " \n",
      "   1\n",
      "  ---\n",
      "  s^2\n",
      " \n",
      "Continuous-time transfer function.\n",
      "\n"
     ]
    }
   ],
   "source": [
    "G=tf(1,[1,0,0])"
   ]
  },
  {
   "cell_type": "code",
   "execution_count": 27,
   "metadata": {
    "slideshow": {
     "slide_type": "subslide"
    }
   },
   "outputs": [
    {
     "name": "stdout",
     "output_type": "stream",
     "text": [
      "\n",
      "Gc2 =\n",
      " \n",
      "     4 s + 8\n",
      "  -------------\n",
      "  s^2 + 4 s + 8\n",
      " \n",
      "Continuous-time transfer function.\n",
      "\n"
     ]
    }
   ],
   "source": [
    "Gc2 = feedback(D*G,1)"
   ]
  },
  {
   "cell_type": "markdown",
   "metadata": {
    "slideshow": {
     "slide_type": "subslide"
    }
   },
   "source": [
    "Let us plot and compare the step responses of the P+D and velocity feedback \n",
    "results."
   ]
  },
  {
   "cell_type": "code",
   "execution_count": 28,
   "metadata": {
    "slideshow": {
     "slide_type": "subslide"
    }
   },
   "outputs": [
    {
     "data": {
      "image/png": "[encoded data removed]",
      "text/plain": [
       "<IPython.core.display.Image object>"
      ]
     },
     "metadata": {},
     "output_type": "display_data"
    }
   ],
   "source": [
    "[y1,t1]=step(Gc1);\n",
    "[y2,t2]=step(Gc2);\n",
    "plot(t1,y1,t2,y2),...\n",
    " legend('Velocity fb','P+D'),...\n",
    " title('Step response: closed-loop compensated system')"
   ]
  },
  {
   "cell_type": "markdown",
   "metadata": {
    "slideshow": {
     "slide_type": "notes"
    }
   },
   "source": [
    "## Notes\n",
    "\n",
    "Notice that, although the settling time is about the same in both designs, \n",
    "the overshoot is considerably larger in the P+D compensated system. This is \n",
    "because the zero added by the P+D compensator appears in the numerator of the \n",
    "closed-loop transfer function. (refer back to Contact Hour 2 for an explanation)."
   ]
  }
 ],
 "metadata": {
  "celltoolbar": "Slideshow",
  "kernelspec": {
   "display_name": "Matlab",
   "language": "matlab",
   "name": "matlab"
  },
  "language_info": {
   "codemirror_mode": "octave",
   "file_extension": ".m",
   "help_links": [
    {
     "text": "MetaKernel Magics",
     "url": "https://github.com/calysto/metakernel/blob/master/metakernel/magics/README.md"
    }
   ],
   "mimetype": "text/x-octave",
   "name": "matlab",
   "version": "0.15.2"
  }
 },
 "nbformat": 4,
 "nbformat_minor": 2
}
