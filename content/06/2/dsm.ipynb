{
 "cells": [
  {
   "cell_type": "markdown",
   "metadata": {
    "slideshow": {
     "slide_type": "slide"
    }
   },
   "source": [
    "# Digital System Models and System Response"
   ]
  },
  {
   "cell_type": "markdown",
   "metadata": {
    "slideshow": {
     "slide_type": "slide"
    }
   },
   "source": [
    "## Digital System Models\n",
    "\n",
    "The equivalent of the differential equation model for continuous systems is the difference\n",
    "equation for digital systems."
   ]
  },
  {
   "cell_type": "markdown",
   "metadata": {
    "slideshow": {
     "slide_type": "fragment"
    }
   },
   "source": [
    "Replacing the differential operator $\\frac{d}{dt}$ by the advance\n",
    "operator $\\triangle$ gives the general form of the difference equation\n",
    "as \n",
    "\n",
    "$$\\begin{equation}\n",
    "  \\triangle^ny + a_{1}\\triangle^{n-1}y + \\ldots +  a_n y = b_0\n",
    "  \\triangle^n u + b_{1}\\triangle^{n-1} u + \\ldots + b_n u.\\end{equation}$$"
   ]
  },
  {
   "cell_type": "markdown",
   "metadata": {
    "slideshow": {
     "slide_type": "subslide"
    }
   },
   "source": [
    "The equivalent of the differential equation model for continuous systems\n",
    "is the difference equation for digital systems."
   ]
  },
  {
   "cell_type": "markdown",
   "metadata": {
    "slideshow": {
     "slide_type": "subslide"
    }
   },
   "source": [
    "### Difference equation\n",
    "\n",
    "Now, given the definition of the advance operator derived in a previous lecture"
   ]
  },
  {
   "cell_type": "markdown",
   "metadata": {
    "slideshow": {
     "slide_type": "fragment"
    }
   },
   "source": [
    "$$\\triangle^n v_k = v_{k+n}$$"
   ]
  },
  {
   "cell_type": "markdown",
   "metadata": {
    "slideshow": {
     "slide_type": "notes"
    }
   },
   "source": [
    "we can re-write equation (1) as\n",
    "the *difference equation* "
   ]
  },
  {
   "cell_type": "markdown",
   "metadata": {
    "slideshow": {
     "slide_type": "fragment"
    }
   },
   "source": [
    "$$\\begin{equation}\n",
    "  y_{k+n} + a_{1}y_{k+n-1} + \\ldots + a_n y_k = b_0\n",
    "   u_{k+n} + b_{1} u_{k+n-1} + \\ldots +  b_n u_k.\\end{equation}$$"
   ]
  },
  {
   "cell_type": "markdown",
   "metadata": {
    "slideshow": {
     "slide_type": "subslide"
    }
   },
   "source": [
    "### Difference equation in terms of the delay operator\n",
    "\n",
    "Unlike the differential equation, however, which is hardly ever expressed in an integral form, the difference equation is more usually expressed in terms of the delay operator $\\nabla$. "
   ]
  },
  {
   "cell_type": "markdown",
   "metadata": {
    "slideshow": {
     "slide_type": "fragment"
    }
   },
   "source": [
    "Applying the operator $\\nabla^n$ to equation (1)\n",
    "gives $$\\begin{eqnarray}\n",
    "y + a_{1}\\nabla y + \\ldots  + a_n \\nabla^n y &=& b_0 u +\n",
    "b_{1}\\nabla u + \\ldots +  b_n\\nabla^n u\\\\\n",
    "  y_{k} + a_{1}y_{k-1} + \\ldots +  a_n y_{k-n}\n",
    "   &=& b_0\n",
    "   u_{k} + b_{1} u_{k-1} + \\ldots + b_n u_{k-n}.\n",
    "   \\end{eqnarray}$$"
   ]
  },
  {
   "cell_type": "markdown",
   "metadata": {
    "slideshow": {
     "slide_type": "subslide"
    }
   },
   "source": [
    "### z-transform of difference equation\n",
    "\n",
    "Applying the $z$ transform directly to the difference equation with the delay operator\n",
    "(3) gives "
   ]
  },
  {
   "cell_type": "markdown",
   "metadata": {
    "slideshow": {
     "slide_type": "fragment"
    }
   },
   "source": [
    "$$\\begin{eqnarray}\n",
    " Y + a_{1}z^{-1} Y + \\ldots + a_n z^{-n} Y\n",
    "&=& b_0 U + b_{1}z^{-1} U + \\ldots + b_n z^{-n} U\\nonumber\\\\ \n",
    "(1 + a_{1}z^{-1} + \\ldots +  a_n z^{-n}) Y &=& (b_0 + b_{1}z^{-1} +\n",
    "\\ldots + b_n z^{-n}) U\n",
    "   \\end{eqnarray}$$"
   ]
  },
  {
   "cell_type": "markdown",
   "metadata": {
    "slideshow": {
     "slide_type": "subslide"
    }
   },
   "source": [
    "### z Transfer Function\n",
    "\n",
    "Given that $$(1 +\n",
    "a_{1}z^{-1} + \\ldots +  a_n z^{-n}) Y(z) = (b_0 + b_1 z^{-1} +\n",
    "\\ldots + b_n z^{-n}) U(z)$$ "
   ]
  },
  {
   "cell_type": "markdown",
   "metadata": {
    "slideshow": {
     "slide_type": "fragment"
    }
   },
   "source": [
    "The $z$ transfer function is\n",
    "$$H(z) = \\frac{Y(z)}{U(z)}=\\frac{b_0 + b_{1}z^{-1} + \\ldots + b_n\n",
    "z^{-n}}{1 + a_1z^{-1} + \\ldots + a_n z^{-n}}$$"
   ]
  },
  {
   "cell_type": "markdown",
   "metadata": {
    "slideshow": {
     "slide_type": "subslide"
    }
   },
   "source": [
    "A digital system in this general form is known as a \"*pole-zero,\n",
    "infinite impulse response, recursive auto-regressive moving average\n",
    "digital filter(!)*\""
   ]
  },
  {
   "cell_type": "markdown",
   "metadata": {
    "slideshow": {
     "slide_type": "subslide"
    }
   },
   "source": [
    "### z Transfer Function (2) \n",
    "\n",
    "If $b_1 = b_2 = \\cdots = b_n = 0$ then the transfer function is\n",
    "$$H(z) = \\frac{b_0}{1 + a_1z^{-1} + \\ldots + a_n z^{-n}}$$"
   ]
  },
  {
   "cell_type": "markdown",
   "metadata": {
    "slideshow": {
     "slide_type": "subslide"
    }
   },
   "source": [
    "A digital system in this form is known as an \"*all pole, infinite\n",
    "impulse response, recursive auto-regressive digital filter.*\""
   ]
  },
  {
   "cell_type": "markdown",
   "metadata": {
    "slideshow": {
     "slide_type": "subslide"
    }
   },
   "source": [
    "### z Transfer Function (3)  \n",
    "\n",
    "When $a_1 = a_2 = \\cdots = a_n = 0$ then the transfer function is\n",
    "$$H(z) = b_0 + b_{1}z^{-1} + \\ldots + b_n\n",
    "z^{-n}$$"
   ]
  },
  {
   "cell_type": "markdown",
   "metadata": {
    "slideshow": {
     "slide_type": "subslide"
    }
   },
   "source": [
    "A digital system in this form is known as an \"*all zero, finite impulse\n",
    "response, non recursive moving average digital filter.*\""
   ]
  },
  {
   "cell_type": "markdown",
   "metadata": {
    "slideshow": {
     "slide_type": "subslide"
    }
   },
   "source": [
    "### Other forms of digital transfer function\n",
    "\n",
    "The transfer function can also be expressed in the zero-pole-gain form"
   ]
  },
  {
   "cell_type": "markdown",
   "metadata": {
    "slideshow": {
     "slide_type": "fragment"
    }
   },
   "source": [
    "$$H(z) = \\frac{k(z-z_1)(z-z_2)\\cdots(z-z_n)}{(z-p_1)(z-p_2)\\cdots(z-p_n)}$$"
   ]
  },
  {
   "cell_type": "markdown",
   "metadata": {
    "slideshow": {
     "slide_type": "subslide"
    }
   },
   "source": [
    "and the partial fraction form"
   ]
  },
  {
   "cell_type": "markdown",
   "metadata": {
    "slideshow": {
     "slide_type": "fragment"
    }
   },
   "source": [
    "$$H(z) = \\frac{r_1}{z-p_1}+\\frac{r_2}{z-p_2}\\cdots\\frac{r_n}{z-p_n}$$"
   ]
  },
  {
   "cell_type": "markdown",
   "metadata": {
    "slideshow": {
     "slide_type": "subslide"
    }
   },
   "source": [
    "### Canonical Forms\n",
    "\n",
    "With the transfer function written as\n",
    "    $$H(z) = \\frac{b_0 z^n + b_{n-1} z^{n-1} + \\cdots + b_1 z + b_n}{z^n + a_1 z^{n-1} + \\cdots + a_{n-1} z + b_n}$$\n",
    "    there is a direct analogy with the general form of the continuous\n",
    "    system transfer function with $s$ instead of $z$."
   ]
  },
  {
   "cell_type": "markdown",
   "metadata": {
    "slideshow": {
     "slide_type": "fragment"
    }
   },
   "source": [
    "This was implemented with the physically realistic integral operator\n",
    "    $\\int\n",
    "    dt$ for which the digital equivalent is the delay operator $\\nabla$."
   ]
  },
  {
   "cell_type": "markdown",
   "metadata": {
    "slideshow": {
     "slide_type": "slide"
    }
   },
   "source": [
    "## End of Pre-Class Presentation\n",
    "\n",
    "This concludes the pre-class presentation.\n",
    "\n",
    "In the class we will look at system response and compute the impulse and step responses of an example system."
   ]
  },
  {
   "cell_type": "markdown",
   "metadata": {
    "slideshow": {
     "slide_type": "slide"
    }
   },
   "source": [
    "## Digital System Response \n",
    "\n",
    "As in the case of a continuous system, the response of a digital signal\n",
    "comprises the sum of a free response and a forced response. The free\n",
    "response is dependent on the initial conditions of a digital system\n",
    "states, and as these are taken as zero here the free response is also\n",
    "zero and will not be considered further."
   ]
  },
  {
   "cell_type": "markdown",
   "metadata": {
    "slideshow": {
     "slide_type": "subslide"
    }
   },
   "source": [
    "### Digital System Response \n",
    "\n",
    "The response of a\n",
    "digital system with transfer function $H(z)$ to a digital input signal\n",
    "$u$ is the digital output signal $y$ given in transform form as\n",
    "$$\\begin{equation}\n",
    "  Y(z) =H(z) U(z)\\end{equation}$$ "
   ]
  },
  {
   "cell_type": "markdown",
   "metadata": {
    "slideshow": {
     "slide_type": "notes"
    }
   },
   "source": [
    "The inverse transform needed to determine the digital system response is\n",
    "obtained using the inverse z transform methods, e.g. polynomial division\n",
    "and partial fraction expansion, discussed in a previous lecture."
   ]
  },
  {
   "cell_type": "markdown",
   "metadata": {
    "slideshow": {
     "slide_type": "fragment"
    }
   },
   "source": [
    "Taking the inverse transform gives the digital\n",
    "system response as $$\\begin{equation}\n",
    "  y_k = \\mathcal{Z}^{-1}Y(z) = \\mathcal{Z}^{-1} \\left\\{H(z)\n",
    "  U(z)\\right\\}\\end{equation}$$"
   ]
  },
  {
   "cell_type": "markdown",
   "metadata": {
    "slideshow": {
     "slide_type": "slide"
    }
   },
   "source": [
    "## Response to Singularity Signals \n",
    "\n",
    "The elemental singularity signals in a digital system response include\n",
    "the digital impulse signal and the digital step input."
   ]
  },
  {
   "cell_type": "markdown",
   "metadata": {
    "slideshow": {
     "slide_type": "subslide"
    }
   },
   "source": [
    "### Impulse response "
   ]
  },
  {
   "cell_type": "markdown",
   "metadata": {
    "slideshow": {
     "slide_type": "subslide"
    }
   },
   "source": [
    "#### Impulse signal\n",
    "\n",
    "The digital impulse\n",
    "signal is given by $$\\begin{equation}\n",
    "  v = \\delta = \\{\\delta_k\\}\\end{equation}$$ "
   ]
  },
  {
   "cell_type": "markdown",
   "metadata": {
    "slideshow": {
     "slide_type": "fragment"
    }
   },
   "source": [
    "where $\\delta_0 = 1$ when $k = 0$, and\n",
    "$\\delta_k = 0$ otherwise. "
   ]
  },
  {
   "cell_type": "markdown",
   "metadata": {
    "slideshow": {
     "slide_type": "fragment"
    }
   },
   "source": [
    "Therefore the sequence for the impulse is\n",
    "simply $$\\delta_k = 1,\\ 0,\\ 0,\\ 0,\\ \\ldots.$$"
   ]
  },
  {
   "cell_type": "markdown",
   "metadata": {
    "slideshow": {
     "slide_type": "subslide"
    }
   },
   "source": [
    "The transform of the digital impulse signal is $$\\begin{equation}\n",
    "  V = \\Delta = \\sum_{k=0}^{\\infty}\\delta_k z^{-k} = 1\\end{equation}$$"
   ]
  },
  {
   "cell_type": "markdown",
   "metadata": {
    "slideshow": {
     "slide_type": "subslide"
    }
   },
   "source": [
    "#### Example 1: Impulse Response Calculate the impulse\n",
    "response of the digital system with transfer function\n",
    "$$H(z) = \\frac{4z^2 - 16}{z^2 - 0.25}$$"
   ]
  },
  {
   "cell_type": "markdown",
   "metadata": {
    "slideshow": {
     "slide_type": "notes"
    }
   },
   "source": [
    "Consider the system \n",
    "\n",
    "$$H(z) = \\frac{4z^2 - 16}{z^2 - 0.25}$$ \n",
    "\n",
    "The impulse response will be \n",
    "\n",
    "$$Y(z) = H(z)\\times 1 = \\frac{4z^2 - 16}{z^2 - 0.25}$$\n",
    "\n",
    "We shall determine this response using the partial fraction expansion.\n",
    "$$\\begin{eqnarray*}\n",
    "Y(z) &=& \\frac{4 - 16z^{-2}}{1 - 0.25 z^{-2}}\\\\\n",
    "     &=& \\frac{4(4 - 16z^{-2})}{4 - z^{-2}}\\\\\n",
    "     &=& \\frac{4(2 - 4z^{-1})(2 + 4z^{-1})}{(2 - z^{-1})(2 + z^{-1})}\\end{eqnarray*}$$\n",
    "\n",
    "Assuming a partial fraction expansion of the form \n",
    "\n",
    "$$Y(z) = \\frac{A}{2 - z^{-1}} + \\frac{B}{2 + z^{-1}} + C$$ \n",
    "\n",
    "we have\n",
    "\n",
    "$$\\begin{eqnarray*}\n",
    " \\frac{4(2 - 4z^{-1})(2 + 4z^{-1})}{(2 - z^{-1})(2 + z^{-1})}\n",
    "     &=& \\frac{A(2 + z^{-1}) + B(2 - z^{-1}) + C(2 - z^{-1})(2 + z^{-1})}{(2 - z^{-1})(2 + z^{-1})}\\\\\n",
    "     16 - 64z^{-2} &=& 2A + Az^{-1} + 2B - Bz^{-1} + 4C - Cz^{-2}\n",
    " \\end{eqnarray*}$$ \n",
    " \n",
    "Gathering terms and equating coefficients\n",
    "\n",
    "$$\\begin{eqnarray}\n",
    "16 &=& 2A +2B + 4C\\\\ \n",
    "0 &=& A - B\\\\ \n",
    "-64 &=& -C\\end{eqnarray}$$ \n",
    "\n",
    "Hence\n",
    "$$\\begin{eqnarray}\n",
    "C &=& 64\\\\ A &=& B\\\\ 16 &=& 4A + 256\\\\ A &=& B = -60\\end{eqnarray}$$ \n",
    "\n",
    "Thus\n",
    "$$\\begin{eqnarray*}\n",
    "    Y(z) &=& 64 -\\frac{60}{2-z^{-1}}-\\frac{60}{2+z^{-1}}\\\\\n",
    "    &=& 64 -\\frac{30}{1-1/2 z^{-1}}-\\frac{30}{1+1/2 z^{-1}}\\\\\n",
    "     y_k& =& \\left\\{64\\delta_k - 30\\left(\\frac{1}{2}\\right)^k - 30\n",
    "\\left(-\\frac{1}{2}\\right)^k\\right\\}\\\\\n",
    " &=& \\left\\{4,\\ 0,\\ -15,\\ 0,\\ -3.75,\\ 0,\\ -0.9375,\\ \\ldots\n",
    " \\right\\}\\end{eqnarray*}$$"
   ]
  },
  {
   "cell_type": "markdown",
   "metadata": {
    "slideshow": {
     "slide_type": "subslide"
    }
   },
   "source": [
    "### Step response "
   ]
  },
  {
   "cell_type": "markdown",
   "metadata": {
    "slideshow": {
     "slide_type": "subslide"
    }
   },
   "source": [
    "#### Step signal\n",
    "\n",
    "The digital step signal\n",
    "is $$\\begin{equation}\n",
    "  v = \\epsilon = \\{\\epsilon_k\\}\\end{equation}$$ "
   ]
  },
  {
   "cell_type": "markdown",
   "metadata": {
    "slideshow": {
     "slide_type": "fragment"
    }
   },
   "source": [
    "where $\\epsilon_k = 1$ when $k \\ge 0$,\n",
    "and $\\epsilon_k = 0$ otherwise. "
   ]
  },
  {
   "cell_type": "markdown",
   "metadata": {
    "slideshow": {
     "slide_type": "fragment"
    }
   },
   "source": [
    "Therefore the sequence for the step is\n",
    "simply $$\\epsilon_k = 1,\\ 1,\\ 1,\\ 1,\\ \\ldots.$$"
   ]
  },
  {
   "cell_type": "markdown",
   "metadata": {
    "slideshow": {
     "slide_type": "subslide"
    }
   },
   "source": [
    "#### z-transform of step signal \n",
    "\n",
    "The transform of the\n",
    "digital step signal is $$\\begin{eqnarray}\n",
    "  V = E &=& \\sum_{k=0}^{\\infty}\\epsilon_k z^{-k}\\\\\n",
    "        &=& \\sum_{k=0}^{\\infty} z^{-k}\\nonumber \\\\\n",
    "        &=& 1 + z^{-1} + z^{-2} + z^{-3} + \\cdots z^{-n} + \\cdots \\nonumber\\\\\n",
    "        &=& \\frac{1}{1-z^{-1}} = \\frac{z}{z-1}.\\end{eqnarray}$$"
   ]
  },
  {
   "cell_type": "markdown",
   "metadata": {
    "slideshow": {
     "slide_type": "subslide"
    }
   },
   "source": [
    "#### Example 2: Step Response \n",
    "\n",
    "Calculate the step response of the digital system with transfer function\n",
    "$$H(z) = \\frac{4z^2 - 16}{z^2 - 0.25}$$"
   ]
  },
  {
   "cell_type": "markdown",
   "metadata": {
    "slideshow": {
     "slide_type": "notes"
    }
   },
   "source": [
    "The step response of the example system is\n",
    "\n",
    "$$Y(z) = H(z)\\times \\frac{z}{z-1} = \\frac{z(4z^2 - 16)}{(z-1)(z^2 - 0.25)}$$\n",
    "\n",
    "We shall determine this response using the partial fraction expansion.\n",
    "\n",
    "$$\\begin{eqnarray*}\n",
    "Y(z) &=& \\frac{4z^3 - 16z}{z^3 - z^2 - 0.25z + 0.25}\\\\\n",
    " &=& \\frac{4 - 16z^{-2}}{1 - z^{-1} - 0.25z^{-2} + 0.25z^{-3}}\\\\\\end{eqnarray*}$$\n",
    "\n",
    "Earlier we showed that the result of the partial fraction expansion was\n",
    "\n",
    "$$\\frac{30}{1-1/2 z^{-1}} - \\frac{10}{1+1/2z^{-1}} -\n",
    "\\frac{16}{1-z^{-1}}$$\n",
    "\n",
    "and the corresponding sequence is\n",
    "\n",
    "$$y_k = \\left\\{30(1/2)^k -10(-1/2)^k -16\\epsilon_k\\right\\}.$$"
   ]
  },
  {
   "cell_type": "markdown",
   "metadata": {
    "slideshow": {
     "slide_type": "slide"
    }
   },
   "source": [
    "## Computing Digital System Responses with MATLAB\n",
    "\n",
    "We will run this part of the presentation in class. There is an executable version as a MATLAB Live Script available as [digiresp.mlx](matlab/digiresp.mlx)."
   ]
  },
  {
   "cell_type": "markdown",
   "metadata": {
    "slideshow": {
     "slide_type": "subslide"
    }
   },
   "source": [
    "### Control System Toolbox Help\n",
    "\n",
    "What functions do we have in the controls system toolbox?"
   ]
  },
  {
   "cell_type": "code",
   "execution_count": null,
   "metadata": {
    "scrolled": true,
    "slideshow": {
     "slide_type": "fragment"
    }
   },
   "outputs": [],
   "source": [
    "help control"
   ]
  },
  {
   "cell_type": "markdown",
   "metadata": {
    "slideshow": {
     "slide_type": "subslide"
    }
   },
   "source": [
    "#### Modelling\n",
    "\n",
    "Modeling looks likely"
   ]
  },
  {
   "cell_type": "code",
   "execution_count": null,
   "metadata": {
    "slideshow": {
     "slide_type": "slide"
    }
   },
   "outputs": [],
   "source": [
    "help ctrlmodels"
   ]
  },
  {
   "cell_type": "markdown",
   "metadata": {
    "slideshow": {
     "slide_type": "subslide"
    }
   },
   "source": [
    "#### Transfer function\n",
    "\n",
    "From this, the transfer function looks likely"
   ]
  },
  {
   "cell_type": "code",
   "execution_count": null,
   "metadata": {
    "slideshow": {
     "slide_type": "subslide"
    }
   },
   "outputs": [],
   "source": [
    "help tf"
   ]
  },
  {
   "cell_type": "markdown",
   "metadata": {
    "slideshow": {
     "slide_type": "subslide"
    }
   },
   "source": [
    "#### Digital transfer function block\n",
    "\n",
    "It seems that that the third argument is sampling period. Set this to -1 for \"unspecified\"."
   ]
  },
  {
   "cell_type": "code",
   "execution_count": 1,
   "metadata": {
    "slideshow": {
     "slide_type": "fragment"
    }
   },
   "outputs": [
    {
     "name": "stdout",
     "output_type": "stream",
     "text": [
      "\n",
      "H =\n",
      " \n",
      "  4 z^2 - 16\n",
      "  ----------\n",
      "  z^2 - 0.25\n",
      " \n",
      "Sample time: unspecified\n",
      "Discrete-time transfer function.\n",
      "\n"
     ]
    }
   ],
   "source": [
    "H = tf([4, 0, -16],[1, 0, -0.25],-1)"
   ]
  },
  {
   "cell_type": "markdown",
   "metadata": {
    "slideshow": {
     "slide_type": "subslide"
    }
   },
   "source": [
    "### Step Response\n",
    "\n",
    "Now do a step response"
   ]
  },
  {
   "cell_type": "code",
   "execution_count": 2,
   "metadata": {
    "slideshow": {
     "slide_type": "fragment"
    }
   },
   "outputs": [
    {
     "data": {
      "image/png": "[encoded data removed]",
      "text/plain": [
       "<IPython.core.display.Image object>"
      ]
     },
     "metadata": {},
     "output_type": "display_data"
    }
   ],
   "source": [
    "step(H)"
   ]
  },
  {
   "cell_type": "markdown",
   "metadata": {
    "slideshow": {
     "slide_type": "subslide"
    }
   },
   "source": [
    "What about the sequence values?"
   ]
  },
  {
   "cell_type": "code",
   "execution_count": 3,
   "metadata": {
    "slideshow": {
     "slide_type": "fragment"
    }
   },
   "outputs": [
    {
     "name": "stdout",
     "output_type": "stream",
     "text": [
      "\n",
      "ys =\n",
      "\n",
      "    4.0000\n",
      "    4.0000\n",
      "  -11.0000\n",
      "  -11.0000\n",
      "  -14.7500\n",
      "  -14.7500\n",
      "  -15.6875\n",
      "  -15.6875\n",
      "  -15.9219\n",
      "  -15.9219\n",
      "  -15.9805\n",
      "  -15.9805\n",
      "  -15.9951\n",
      "  -15.9951\n",
      "  -15.9988\n",
      "  -15.9988\n",
      "  -15.9997\n",
      "  -15.9997\n",
      "  -15.9999\n",
      "  -15.9999\n",
      "  -16.0000\n",
      "\n"
     ]
    }
   ],
   "source": [
    "ys = step(H)"
   ]
  },
  {
   "cell_type": "markdown",
   "metadata": {
    "slideshow": {
     "slide_type": "notes"
    }
   },
   "source": [
    "Does the sequence match the theory?"
   ]
  },
  {
   "cell_type": "markdown",
   "metadata": {
    "slideshow": {
     "slide_type": "subslide"
    }
   },
   "source": [
    "### Impulse Response\n",
    "\n",
    "How about impulse response?"
   ]
  },
  {
   "cell_type": "code",
   "execution_count": 4,
   "metadata": {
    "slideshow": {
     "slide_type": "fragment"
    }
   },
   "outputs": [
    {
     "data": {
      "image/png": "[encoded data removed]",
      "text/plain": [
       "<IPython.core.display.Image object>"
      ]
     },
     "metadata": {},
     "output_type": "display_data"
    }
   ],
   "source": [
    "impulse(H)"
   ]
  },
  {
   "cell_type": "markdown",
   "metadata": {
    "slideshow": {
     "slide_type": "notes"
    }
   },
   "source": [
    "The plot isn't quite right -- it's a \"hold-equivalent\" result. We don't know values between sampling instants."
   ]
  },
  {
   "cell_type": "markdown",
   "metadata": {
    "slideshow": {
     "slide_type": "subslide"
    }
   },
   "source": [
    "Sequence?"
   ]
  },
  {
   "cell_type": "code",
   "execution_count": 5,
   "metadata": {
    "slideshow": {
     "slide_type": "fragment"
    }
   },
   "outputs": [
    {
     "name": "stdout",
     "output_type": "stream",
     "text": [
      "\n",
      "yi =\n",
      "\n",
      "    4.0000\n",
      "         0\n",
      "  -15.0000\n",
      "         0\n",
      "   -3.7500\n",
      "         0\n",
      "   -0.9375\n",
      "         0\n",
      "   -0.2344\n",
      "         0\n",
      "   -0.0586\n",
      "         0\n",
      "   -0.0146\n",
      "         0\n",
      "   -0.0037\n",
      "         0\n",
      "   -0.0009\n",
      "         0\n",
      "   -0.0002\n",
      "         0\n",
      "   -0.0001\n",
      "\n"
     ]
    }
   ],
   "source": [
    "yi = impulse(H)"
   ]
  },
  {
   "cell_type": "markdown",
   "metadata": {
    "slideshow": {
     "slide_type": "subslide"
    }
   },
   "source": [
    "#### Stem plot\n",
    "\n",
    "To plot this properly, we use a stem plot"
   ]
  },
  {
   "cell_type": "code",
   "execution_count": 6,
   "metadata": {
    "slideshow": {
     "slide_type": "fragment"
    }
   },
   "outputs": [
    {
     "data": {
      "image/png": "[encoded data removed]",
      "text/plain": [
       "<IPython.core.display.Image object>"
      ]
     },
     "metadata": {},
     "output_type": "display_data"
    }
   ],
   "source": [
    "stem(yi)"
   ]
  },
  {
   "cell_type": "markdown",
   "metadata": {
    "slideshow": {
     "slide_type": "subslide"
    }
   },
   "source": [
    "#### Step response as stem plot\n",
    "\n",
    "Should do same for step response too"
   ]
  },
  {
   "cell_type": "code",
   "execution_count": 7,
   "metadata": {
    "slideshow": {
     "slide_type": "fragment"
    }
   },
   "outputs": [
    {
     "data": {
      "image/png": "[encoded data removed]",
      "text/plain": [
       "<IPython.core.display.Image object>"
      ]
     },
     "metadata": {},
     "output_type": "display_data"
    }
   ],
   "source": [
    "stem(ys)"
   ]
  },
  {
   "cell_type": "markdown",
   "metadata": {
    "slideshow": {
     "slide_type": "subslide"
    }
   },
   "source": [
    "### Partial fractions\n",
    "\n",
    "Can we use partial fractions for inverse z transforms?"
   ]
  },
  {
   "cell_type": "code",
   "execution_count": 8,
   "metadata": {
    "slideshow": {
     "slide_type": "fragment"
    }
   },
   "outputs": [
    {
     "name": "stdout",
     "output_type": "stream",
     "text": [
      " RESIDUE Partial-fraction expansion (residues).\n",
      "    [R,P,K] = RESIDUE(B,A) finds the residues, poles and direct term of\n",
      "    a partial fraction expansion of the ratio of two polynomials B(s)/A(s).\n",
      "    If there are no multiple roots,\n",
      "       B(s)       R(1)       R(2)             R(n)\n",
      "       ----  =  -------- + -------- + ... + -------- + K(s)\n",
      "       A(s)     s - P(1)   s - P(2)         s - P(n)\n",
      "    Vectors B and A specify the coefficients of the numerator and\n",
      "    denominator polynomials in descending powers of s.  The residues\n",
      "    are returned in the column vector R, the pole locations in column\n",
      "    vector P, and the direct terms in row vector K.  The number of\n",
      "    poles is n = length(A)-1 = length(R) = length(P). The direct term\n",
      "    coefficient vector is empty if length(B) < length(A), otherwise\n",
      "    length(K) = length(B)-length(A)+1.\n",
      " \n",
      "    If P(j) = ... = P(j+m-1) is a pole of multplicity m, then the\n",
      "    expansion includes terms of the form\n",
      "                 R(j)        R(j+1)                R(j+m-1)\n",
      "               -------- + ------------   + ... + ------------\n",
      "               s - P(j)   (s - P(j))^2           (s - P(j))^m\n",
      " \n",
      "    [B,A] = RESIDUE(R,P,K), with 3 input arguments and 2 output arguments,\n",
      "    converts the partial fraction expansion back to the polynomials with\n",
      "    coefficients in B and A.\n",
      " \n",
      "    Warning: Numerically, the partial fraction expansion of a ratio of\n",
      "    polynomials represents an ill-posed problem.  If the denominator\n",
      "    polynomial, A(s), is near a polynomial with multiple roots, then\n",
      "    small changes in the data, including roundoff errors, can make\n",
      "    arbitrarily large changes in the resulting poles and residues.\n",
      "    Problem formulations making use of state-space or zero-pole\n",
      "    representations are preferable.\n",
      " \n",
      "    Class support for inputs B,A,R:\n",
      "       float: double, single\n",
      " \n",
      "    See also POLY, ROOTS, DECONV.\n",
      "\n"
     ]
    }
   ],
   "source": [
    "help residue"
   ]
  },
  {
   "cell_type": "markdown",
   "metadata": {
    "slideshow": {
     "slide_type": "subslide"
    }
   },
   "source": [
    "#### PFE for for inverse z-transform of impulse response"
   ]
  },
  {
   "cell_type": "code",
   "execution_count": 15,
   "metadata": {
    "slideshow": {
     "slide_type": "fragment"
    }
   },
   "outputs": [
    {
     "name": "stdout",
     "output_type": "stream",
     "text": [
      " RESIDUE Partial-fraction expansion (residues).\n",
      "    [R,P,K] = RESIDUE(B,A) finds the residues, poles and direct term of\n",
      "    a partial fraction expansion of the ratio of two polynomials B(s)/A(s).\n",
      "    If there are no multiple roots,\n",
      "       B(s)       R(1)       R(2)             R(n)\n",
      "       ----  =  -------- + -------- + ... + -------- + K(s)\n",
      "       A(s)     s - P(1)   s - P(2)         s - P(n)\n",
      "    Vectors B and A specify the coefficients of the numerator and\n",
      "    denominator polynomials in descending powers of s.  The residues\n",
      "    are returned in the column vector R, the pole locations in column\n",
      "    vector P, and the direct terms in row vector K.  The number of\n",
      "    poles is n = length(A)-1 = length(R) = length(P). The direct term\n",
      "    coefficient vector is empty if length(B) < length(A), otherwise\n",
      "    length(K) = length(B)-length(A)+1.\n",
      " \n",
      "    If P(j) = ... = P(j+m-1) is a pole of multplicity m, then the\n",
      "    expansion includes terms of the form\n",
      "                 R(j)        R(j+1)                R(j+m-1)\n",
      "               -------- + ------------   + ... + ------------\n",
      "               s - P(j)   (s - P(j))^2           (s - P(j))^m\n",
      " \n",
      "    [B,A] = RESIDUE(R,P,K), with 3 input arguments and 2 output arguments,\n",
      "    converts the partial fraction expansion back to the polynomials with\n",
      "    coefficients in B and A.\n",
      " \n",
      "    Warning: Numerically, the partial fraction expansion of a ratio of\n",
      "    polynomials represents an ill-posed problem.  If the denominator\n",
      "    polynomial, A(s), is near a polynomial with multiple roots, then\n",
      "    small changes in the data, including roundoff errors, can make\n",
      "    arbitrarily large changes in the resulting poles and residues.\n",
      "    Problem formulations making use of state-space or zero-pole\n",
      "    representations are preferable.\n",
      " \n",
      "    Class support for inputs B,A,R:\n",
      "       float: double, single\n",
      " \n",
      "    See also POLY, ROOTS, DECONV.\n",
      "\n",
      "\n",
      "r =\n",
      "\n",
      "   -15\n",
      "    15\n",
      "\n",
      "\n",
      "p =\n",
      "\n",
      "    0.5000\n",
      "   -0.5000\n",
      "\n",
      "\n",
      "k =\n",
      "\n",
      "     4\n",
      "\n"
     ]
    }
   ],
   "source": [
    "help residue\n",
    "[r,p,k] = residue([4,0,-16],[1,0,-0.25])"
   ]
  },
  {
   "cell_type": "markdown",
   "metadata": {
    "slideshow": {
     "slide_type": "subslide"
    }
   },
   "source": [
    "#### PFE for inverse z-transform for step response"
   ]
  },
  {
   "cell_type": "code",
   "execution_count": 10,
   "metadata": {
    "slideshow": {
     "slide_type": "fragment"
    }
   },
   "outputs": [
    {
     "name": "stdout",
     "output_type": "stream",
     "text": [
      "\n",
      "r =\n",
      "\n",
      "  -16.0000\n",
      "   15.0000\n",
      "    5.0000\n",
      "\n",
      "\n",
      "p =\n",
      "\n",
      "    1.0000\n",
      "    0.5000\n",
      "   -0.5000\n",
      "\n",
      "\n",
      "k =\n",
      "\n",
      "     4\n",
      "\n"
     ]
    }
   ],
   "source": [
    "[r,p,k] = residue(conv([1, 0],[4,0,-16]),conv([1, -1],[1,0,-0.25]))"
   ]
  },
  {
   "cell_type": "markdown",
   "metadata": {
    "slideshow": {
     "slide_type": "notes"
    }
   },
   "source": [
    "Do these results match the theory?"
   ]
  },
  {
   "cell_type": "markdown",
   "metadata": {
    "slideshow": {
     "slide_type": "subslide"
    }
   },
   "source": [
    "#### Another approach\n",
    "\n",
    "Use LTI block to define the TF then extract num/den for PFE"
   ]
  },
  {
   "cell_type": "code",
   "execution_count": 11,
   "metadata": {
    "slideshow": {
     "slide_type": "fragment"
    }
   },
   "outputs": [
    {
     "name": "stdout",
     "output_type": "stream",
     "text": [
      "\n",
      "U =\n",
      " \n",
      "    z\n",
      "  -----\n",
      "  z - 1\n",
      " \n",
      "Sample time: unspecified\n",
      "Discrete-time transfer function.\n",
      "\n",
      "\n",
      "Y =\n",
      " \n",
      "        4 z^3 - 16 z\n",
      "  -------------------------\n",
      "  z^3 - z^2 - 0.25 z + 0.25\n",
      " \n",
      "Sample time: unspecified\n",
      "Discrete-time transfer function.\n",
      "\n"
     ]
    }
   ],
   "source": [
    "U = tf([1, 0], [1, -1], -1)\n",
    "Y = series(U, H)"
   ]
  },
  {
   "cell_type": "markdown",
   "metadata": {
    "slideshow": {
     "slide_type": "subslide"
    }
   },
   "source": [
    "extract numerator & denominator"
   ]
  },
  {
   "cell_type": "code",
   "execution_count": 12,
   "metadata": {
    "slideshow": {
     "slide_type": "fragment"
    }
   },
   "outputs": [
    {
     "name": "stdout",
     "output_type": "stream",
     "text": [
      "\n",
      "num =\n",
      "\n",
      "     4     0   -16     0\n",
      "\n",
      "\n",
      "den =\n",
      "\n",
      "    1.0000   -1.0000   -0.2500    0.2500\n",
      "\n"
     ]
    }
   ],
   "source": [
    "[num,den] = tfdata(Y,'v')"
   ]
  },
  {
   "cell_type": "markdown",
   "metadata": {
    "slideshow": {
     "slide_type": "subslide"
    }
   },
   "source": [
    "get pfe"
   ]
  },
  {
   "cell_type": "code",
   "execution_count": 13,
   "metadata": {
    "slideshow": {
     "slide_type": "fragment"
    }
   },
   "outputs": [
    {
     "name": "stdout",
     "output_type": "stream",
     "text": [
      "\n",
      "r =\n",
      "\n",
      "  -16.0000\n",
      "   15.0000\n",
      "    5.0000\n",
      "\n",
      "\n",
      "p =\n",
      "\n",
      "    1.0000\n",
      "    0.5000\n",
      "   -0.5000\n",
      "\n",
      "\n",
      "k =\n",
      "\n",
      "     4\n",
      "\n"
     ]
    }
   ],
   "source": [
    "[r,p,k]=residue(num,den)"
   ]
  },
  {
   "cell_type": "markdown",
   "metadata": {
    "slideshow": {
     "slide_type": "subslide"
    }
   },
   "source": [
    "### Simulink Model\n",
    "\n",
    "A simulink model of the digital implementation is here [digiresp.slx](matlab/digiresp.slx). "
   ]
  },
  {
   "cell_type": "code",
   "execution_count": 14,
   "metadata": {
    "slideshow": {
     "slide_type": "fragment"
    }
   },
   "outputs": [],
   "source": [
    "cd matlab\n",
    "digiresp_model"
   ]
  },
  {
   "cell_type": "markdown",
   "metadata": {
    "slideshow": {
     "slide_type": "fragment"
    }
   },
   "source": [
    "![digital response model in simulink](pictures/simulink.png)\n",
    "\n",
    "Note that in Simulink, you use the ZOH both as an ADC and DAC operator. The z-transfer function block is used for the digital transfer function."
   ]
  },
  {
   "cell_type": "markdown",
   "metadata": {
    "slideshow": {
     "slide_type": "notes"
    }
   },
   "source": [
    "#### Response\n",
    "\n",
    "![response](pictures/resp.png)"
   ]
  }
 ],
 "metadata": {
  "celltoolbar": "Slideshow",
  "kernelspec": {
   "display_name": "Matlab",
   "language": "matlab",
   "name": "matlab"
  },
  "language_info": {
   "codemirror_mode": "octave",
   "file_extension": ".m",
   "help_links": [
    {
     "text": "MetaKernel Magics",
     "url": "https://github.com/calysto/metakernel/blob/master/metakernel/magics/README.md"
    }
   ],
   "mimetype": "text/x-octave",
   "name": "matlab",
   "version": "0.15.2"
  }
 },
 "nbformat": 4,
 "nbformat_minor": 2
}
