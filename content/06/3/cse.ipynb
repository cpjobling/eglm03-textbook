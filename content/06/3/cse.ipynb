{
 "cells": [
  {
   "cell_type": "markdown",
   "metadata": {
    "slideshow": {
     "slide_type": "slide"
    }
   },
   "source": [
    "# Continuous System Equivalence"
   ]
  },
  {
   "cell_type": "markdown",
   "metadata": {
    "slideshow": {
     "slide_type": "slide"
    }
   },
   "source": [
    "## Introduction\n",
    "\n",
    "In many cases, e.g. signal processing, control systems, etc., we want to\n",
    "design a digital system so that it behaves (dynamically and in\n",
    "steady-state) the same as a continuous system. A digital system that has\n",
    "the same input-behaviour as a (sampled) continuous system is called a\n",
    "*continuous equivalent*."
   ]
  },
  {
   "cell_type": "markdown",
   "metadata": {
    "slideshow": {
     "slide_type": "slide"
    }
   },
   "source": [
    "## Agenda\n",
    "\n",
    "In the pre-lecture presentation we will start by discussing the\n",
    "relationship of $s$ to $z$. We will then present four ways to convert a\n",
    "transfer function $H(s)$ into its digital equivalent $H(z)$. These are:\n",
    "\n",
    "-   The zero-order hold equivalent\n",
    "\n",
    "-   The Tustin bilinear transform equivalent\n",
    "\n",
    "-   Matched pole zero equivalent\n",
    "\n",
    "-   Modified matched pole-zero equivalent"
   ]
  },
  {
   "cell_type": "markdown",
   "metadata": {
    "slideshow": {
     "slide_type": "notes"
    }
   },
   "source": [
    "Before we can describe what we might mean by a continuous equivalent system, it is necessary to establish the\n",
    "relationship between digital operations, such as the shift, and\n",
    "continuous operations."
   ]
  },
  {
   "cell_type": "markdown",
   "metadata": {
    "slideshow": {
     "slide_type": "slide"
    }
   },
   "source": [
    "## Equivalence of s and z"
   ]
  },
  {
   "cell_type": "markdown",
   "metadata": {
    "slideshow": {
     "slide_type": "slide"
    }
   },
   "source": [
    "### Sampling a Delayed Signal\n",
    "\n",
    "Consider a simple operation of sampling with a delay\n",
    "\n",
    "![fig 1](pictures/cse1.png)"
   ]
  },
  {
   "cell_type": "markdown",
   "metadata": {
    "slideshow": {
     "slide_type": "fragment"
    }
   },
   "source": [
    "This can be represented in transform as\n",
    "\n",
    "![fig 2](pictures/cse2.png)"
   ]
  },
  {
   "cell_type": "markdown",
   "metadata": {
    "slideshow": {
     "slide_type": "subslide"
    }
   },
   "source": [
    "### Delaying a Sampled Signal \n",
    "\n",
    "The same result could be obtained by delaying the continuous signal and then sampling.\n",
    "\n",
    "![fig 3](pictures/cse3.png)"
   ]
  },
  {
   "cell_type": "markdown",
   "metadata": {
    "slideshow": {
     "slide_type": "fragment"
    }
   },
   "source": [
    "Which can be represented in transform as\n",
    "\n",
    "![fig 4](pictures/cse4.png)"
   ]
  },
  {
   "cell_type": "markdown",
   "metadata": {
    "slideshow": {
     "slide_type": "subslide"
    }
   },
   "source": [
    "### Relationship of z to s\n",
    "\n",
    "From the preceding arguments "
   ]
  },
  {
   "cell_type": "markdown",
   "metadata": {
    "slideshow": {
     "slide_type": "fragment"
    }
   },
   "source": [
    "$$\\begin{equation}\n",
    "    z^{-1} = e^{-sT}\\end{equation}$$ \n",
    "    "
   ]
  },
  {
   "cell_type": "markdown",
   "metadata": {
    "slideshow": {
     "slide_type": "fragment"
    }
   },
   "source": [
    "That is $$\\begin{equation}\n",
    "    z=e^{sT}\\end{equation}$$ \n",
    "    "
   ]
  },
  {
   "cell_type": "markdown",
   "metadata": {
    "slideshow": {
     "slide_type": "subslide"
    }
   },
   "source": [
    "or $$\\begin{equation}\n",
    "  s=\\frac{1}{T}\\ln z\\end{equation}$$"
   ]
  },
  {
   "cell_type": "markdown",
   "metadata": {
    "slideshow": {
     "slide_type": "notes"
    }
   },
   "source": [
    "This is the fundamental relationship of equivalence. Before using it, we\n",
    "must see how a continuous signal is reconstructed from a digital signal.\n",
    "This is accomplished by means of a \"*Digital-to-Analogue Converter*\""
   ]
  },
  {
   "cell_type": "markdown",
   "metadata": {
    "slideshow": {
     "slide_type": "slide"
    }
   },
   "source": [
    "## Digital-to-Analogue Converter"
   ]
  },
  {
   "cell_type": "markdown",
   "metadata": {
    "slideshow": {
     "slide_type": "subslide"
    }
   },
   "source": [
    "### Modelling a DAC with a Zero-Order Hold\n",
    "\n",
    "The simplest converter is a \"*Zero-Order Hold*\" (see Fig. 1). This acts the opposite way to a sampler.\n",
    "\n",
    "![Zero-Order Hold](pictures/zoh.png)\n",
    "**Figure 1: zero-order Hold**"
   ]
  },
  {
   "cell_type": "markdown",
   "metadata": {
    "slideshow": {
     "slide_type": "subslide"
    }
   },
   "source": [
    "### Operation of the Zero-order Hold\n",
    "\n",
    "During each sample period, the device holds\n",
    "the output $v(t)$ constant at the current value of the digital signal\n",
    "$v_k$."
   ]
  },
  {
   "cell_type": "markdown",
   "metadata": {
    "slideshow": {
     "slide_type": "fragment"
    }
   },
   "source": [
    " That is $$\\begin{equation}\n",
    "  v(t) = v_k\\ \\mathrm{for}\\ kT \\le t < (k+1)T\\end{equation}$$ "
   ]
  },
  {
   "cell_type": "markdown",
   "metadata": {
    "slideshow": {
     "slide_type": "fragment"
    }
   },
   "source": [
    "This generates a\n",
    "stepwise continuous signal $v(t)$ which at the sampling instants is\n",
    "equal to the continuous signal from which the digital signal ${v_k}$ was\n",
    "generated."
   ]
  },
  {
   "cell_type": "markdown",
   "metadata": {
    "slideshow": {
     "slide_type": "notes"
    }
   },
   "source": [
    "The signal may be considered as an infinite number of pulses of which\n",
    "the $k$-th is that shown in the next slide. "
   ]
  },
  {
   "cell_type": "markdown",
   "metadata": {
    "slideshow": {
     "slide_type": "subslide"
    }
   },
   "source": [
    "### Modelling the ZOH Mathematically"
   ]
  },
  {
   "cell_type": "markdown",
   "metadata": {
    "slideshow": {
     "slide_type": "subslide"
    }
   },
   "source": [
    "#### Step-wise continuous signal\n",
    "\n",
    "This represents the output of the zero-order hold $v(t) = v_k$ for $kT \\le t < (k+1)T$.\n",
    "\n",
    "![Pulse](pictures/pulse.png)"
   ]
  },
  {
   "cell_type": "markdown",
   "metadata": {
    "slideshow": {
     "slide_type": "notes"
    }
   },
   "source": [
    "To model such a signal we use the\n",
    "so-called \"*gating*\" property of the time-delayed unit-step function\n",
    "$\\epsilon(t)$ illustrated in the next slide."
   ]
  },
  {
   "cell_type": "markdown",
   "metadata": {
    "slideshow": {
     "slide_type": "subslide"
    }
   },
   "source": [
    "#### The Gating Function\n",
    "\n",
    "![Gating function](pictures/gate.png)"
   ]
  },
  {
   "cell_type": "markdown",
   "metadata": {
    "slideshow": {
     "slide_type": "notes"
    }
   },
   "source": [
    "The opening \"gate\" is given by $v_k \\epsilon (t-kT)$, a step of height\n",
    "$v_k$, which is activated at $t=kT$ seconds. The gate is \"closed\" by a\n",
    "negative going unit step, also of height $v_k$, which is activated at\n",
    "$t=\\{k+1\\}T$ seconds."
   ]
  },
  {
   "cell_type": "markdown",
   "metadata": {
    "slideshow": {
     "slide_type": "subslide"
    }
   },
   "source": [
    "The sum of these two signals is $$\\begin{eqnarray*}\n",
    "  p(t) &=& v_k \\epsilon(t - kT) - v_k \\epsilon(t - \\{k+1\\}T)\\\\\n",
    "       &=& v_k\\left[\\epsilon(t - kT) - \\epsilon(t - \\{k+1\\}T)\\right]\\end{eqnarray*}$$"
   ]
  },
  {
   "cell_type": "markdown",
   "metadata": {
    "slideshow": {
     "slide_type": "fragment"
    }
   },
   "source": [
    "So for the sequence: $$\\begin{equation}\n",
    "  v(t) = \\sum_{k=0}^{\\infty} v_k\\left[\\epsilon(t - kT) - \\epsilon(t - \\{k+1\\}T)\\right]\\end{equation}$$"
   ]
  },
  {
   "cell_type": "markdown",
   "metadata": {
    "slideshow": {
     "slide_type": "subslide"
    }
   },
   "source": [
    "In transform form this is $$\\begin{eqnarray*}\n",
    "  V(s) &=& \\sum_{k=0}^{\\infty} v_k\\left(\\frac{1}{s}e^{-kTs} -\n",
    "  \\frac{1}{s}e^{-\\left\\{k+1\\right\\}Ts}\\right)\\\\\n",
    "       &=& \\frac{1}{s}\\left(1-e^{-Ts}\\right) \\sum_{k=0}^{\\infty} v_k\n",
    "  e^{-kTs}\\\\\n",
    "       &=& \\frac{1}{s}\\left(1-z^{-1}\\right) \\sum_{k=0}^{\\infty} v_k\n",
    "  z^{-k}\\\\\n",
    "       &=& \\frac{1}{s}\\,\\frac{z-1}{z}\\,V(z)\\end{eqnarray*}$$"
   ]
  },
  {
   "cell_type": "markdown",
   "metadata": {
    "slideshow": {
     "slide_type": "subslide"
    }
   },
   "source": [
    "So the zero-order hold is represented by the mixed transfer function\n",
    "$$\\begin{equation}\n",
    "  G_{\\mathrm{zoh}}=\\frac{1}{s}\\,\\frac{z-1}{z}\\end{equation}$$ as shown in\n",
    "Fig. 2."
   ]
  },
  {
   "cell_type": "markdown",
   "metadata": {
    "slideshow": {
     "slide_type": "fragment"
    }
   },
   "source": [
    "![Transfer Function of the Zero-Order Hold](pictures/zohtf.png)\n",
    "**Figure 2: Transfer Function of the Zero-Order Hold**"
   ]
  },
  {
   "cell_type": "markdown",
   "metadata": {
    "slideshow": {
     "slide_type": "notes"
    }
   },
   "source": [
    "We can now design a 'hold-equivalent' digital system."
   ]
  },
  {
   "cell_type": "markdown",
   "metadata": {
    "slideshow": {
     "slide_type": "subslide"
    }
   },
   "source": [
    "#### Hold-Equivalent Digital System\n",
    "\n",
    "![Hold-Equivalent Digital System](pictures/holdequiv.png)"
   ]
  },
  {
   "cell_type": "markdown",
   "metadata": {
    "slideshow": {
     "slide_type": "subslide"
    }
   },
   "source": [
    "From the diagram in the previous slide. $$\\begin{eqnarray*}\n",
    "  Y(z) &=& H(z) U(z)\\\\\n",
    "  Y(z) &=& \\mathcal{Z} Y(s)\\\\\n",
    "       &=& \\mathcal{Z} \\frac{1}{s} H(s) \\frac{z-1}{z} U(z)\\end{eqnarray*}$$"
   ]
  },
  {
   "cell_type": "markdown",
   "metadata": {
    "slideshow": {
     "slide_type": "fragment"
    }
   },
   "source": [
    "so $$\\begin{equation}\n",
    "  H(z) = \\frac{z-1}{z} \\mathcal{Z} \\frac{H(s)}{s}\\end{equation}$$"
   ]
  },
  {
   "cell_type": "markdown",
   "metadata": {
    "slideshow": {
     "slide_type": "subslide"
    }
   },
   "source": [
    "#### Example 1\n",
    "\n",
    "If\n",
    "$$H(s) = \\frac{a}{s+a}$$ then find the Zero-Order Hold Equivalent $H(z)$"
   ]
  },
  {
   "cell_type": "markdown",
   "metadata": {
    "slideshow": {
     "slide_type": "notes"
    }
   },
   "source": [
    "##### Solution\n",
    "\n",
    "$$\\begin{eqnarray*}\n",
    "  H(z) &=& \\frac{z-1}{z}\\mathcal{Z} \\frac{a}{s(s+a)}\\\\\n",
    "       &=& \\frac{z-1}{z} \\frac{z(1-e^{-aT})}{(z-1)(z-e^{-aT})}\\\\\n",
    "       &=& \\frac{1-e^{-aT}}{z-e^{-aT}}.\\end{eqnarray*}$$\n",
    "\n",
    "**Malab note**: the zero-order-hold equivalent is the default system\n",
    "used for continuous system equivalence in *MATLAB*. To convert a\n",
    "continous system in any *lti* format<sup>1</sup> use:\n",
    "\n",
    "    lti_d = c2d(lti, Ts); % You must provide a sampling time or use -1 if undefined"
   ]
  },
  {
   "cell_type": "markdown",
   "metadata": {
    "slideshow": {
     "slide_type": "slide"
    }
   },
   "source": [
    "## Other Continuous System Equivalences "
   ]
  },
  {
   "cell_type": "markdown",
   "metadata": {
    "slideshow": {
     "slide_type": "subslide"
    }
   },
   "source": [
    "### Approximation based on numerical integration\n",
    "\n",
    "An alternative approach is to use the relationship $$s  = \\frac{1}{T}\n",
    "\\ln z.$$ This cannot be substituted into a transfer function directly as\n",
    "the result is not rational, but an approximation may be used."
   ]
  },
  {
   "cell_type": "markdown",
   "metadata": {
    "slideshow": {
     "slide_type": "subslide"
    }
   },
   "source": [
    "#### Approximation by Numerical Integration\n",
    "\n",
    "We wish to find a transfer function $T(z)$ that is equivalent to $T(s)=s$."
   ]
  },
  {
   "cell_type": "markdown",
   "metadata": {
    "slideshow": {
     "slide_type": "fragment"
    }
   },
   "source": [
    "Let us instead seek a transfer function $D(z)$ that is equivalent to $D(s) = 1/s$."
   ]
  },
  {
   "cell_type": "markdown",
   "metadata": {
    "slideshow": {
     "slide_type": "fragment"
    }
   },
   "source": [
    "![s-to-z](pictures/s-to-z.png)"
   ]
  },
  {
   "cell_type": "markdown",
   "metadata": {
    "slideshow": {
     "slide_type": "subslide"
    }
   },
   "source": [
    "Thus, the transfer function we are seeking will in fact be an approximation of the integral $y(t)=\\int u(t) dt$. We can illustrate this as shown in the next slide. "
   ]
  },
  {
   "cell_type": "markdown",
   "metadata": {
    "slideshow": {
     "slide_type": "subslide"
    }
   },
   "source": [
    "#### Model of Integration\n",
    "\n",
    "![integral1](pictures/integral1.png)"
   ]
  },
  {
   "cell_type": "markdown",
   "metadata": {
    "slideshow": {
     "slide_type": "notes"
    }
   },
   "source": [
    "If we sample the curve $u(t)$ and consider the situation at the $n$-th sampling instant, we will have \n",
    "\n",
    "$$y(nT) = \\int_{0}^{nT} u(t) dt$$\n",
    "\n",
    "We can rewrite this as $$y(nT)= \\int_{0}^{nT-T} u(t) dt + \\int_{nT-T}^{nT} u(t) dt$$\n",
    "\n",
    "where the second integral term is the shaded area shown in the next slide,"
   ]
  },
  {
   "cell_type": "markdown",
   "metadata": {
    "slideshow": {
     "slide_type": "subslide"
    }
   },
   "source": [
    "#### Sampled Model of Integration\n",
    "\n",
    "![integral2](pictures/integral2.png)"
   ]
  },
  {
   "cell_type": "markdown",
   "metadata": {
    "slideshow": {
     "slide_type": "notes"
    }
   },
   "source": [
    "Now if we assume that the first integral term was approximated by the digital integrator in the previous sampling\n",
    "instant, then $y(nT-T) = \\int_{0}^{nT-T} u(t) dt$ is known, and consequently we have \n",
    "\n",
    "$$y(nT) = y(nT-T) + \\int_{nT-T}^{nT} u(t) dt$$\n",
    "\n",
    "and we only need to determine the area of the shaded region to approximate $y(nT)$.\n",
    "\n",
    "The most obvious approximations are illustrated in the next three slides. "
   ]
  },
  {
   "cell_type": "markdown",
   "metadata": {
    "slideshow": {
     "slide_type": "subslide"
    }
   },
   "source": [
    "#### Forward Rectangular Approximation\n",
    "\n",
    "![backward rectangular approxation](pictures/backward-rect.png)"
   ]
  },
  {
   "cell_type": "markdown",
   "metadata": {
    "slideshow": {
     "slide_type": "subslide"
    }
   },
   "source": [
    "#### Backward Rectangular Approximation\n",
    "\n",
    "![Forward rectangular approximation](pictures/forward-rect.png)"
   ]
  },
  {
   "cell_type": "markdown",
   "metadata": {
    "slideshow": {
     "slide_type": "subslide"
    }
   },
   "source": [
    "#### Trapezoidal Approximation\n",
    "\n",
    "![Trapezoidal approximation](pictures/trapezoidal.png)"
   ]
  },
  {
   "cell_type": "markdown",
   "metadata": {
    "slideshow": {
     "slide_type": "notes"
    }
   },
   "source": [
    "It is clear that if we are to disallow any further subdivision of the shaded area, the *trapezoidal approximation* will provide the most accurate result."
   ]
  },
  {
   "cell_type": "markdown",
   "metadata": {
    "slideshow": {
     "slide_type": "subslide"
    }
   },
   "source": [
    "#### z-transform of trapezoidal approximation\n",
    "\n",
    "Completing the analysis, we can show that"
   ]
  },
  {
   "cell_type": "markdown",
   "metadata": {
    "slideshow": {
     "slide_type": "fragment"
    }
   },
   "source": [
    "$$y(nT)\\approx y(nT-T) + \\frac{T}{2}\\{u(nT-T)+u(T)\\}$$"
   ]
  },
  {
   "cell_type": "markdown",
   "metadata": {
    "slideshow": {
     "slide_type": "notes"
    }
   },
   "source": [
    "which on taking z-transforms gives "
   ]
  },
  {
   "cell_type": "markdown",
   "metadata": {
    "slideshow": {
     "slide_type": "fragment"
    }
   },
   "source": [
    "$$Y(z)=z^{-1}Y(z)+\\frac{T}{2}\\{z^{-1}U(z)+U(z)\\}$$"
   ]
  },
  {
   "cell_type": "markdown",
   "metadata": {
    "slideshow": {
     "slide_type": "notes"
    }
   },
   "source": [
    "thus"
   ]
  },
  {
   "cell_type": "markdown",
   "metadata": {
    "slideshow": {
     "slide_type": "subslide"
    }
   },
   "source": [
    "$$\\frac{Y(z)}{U(z)}=D(z)=\\frac{T}{2}\\left\\{ {\\frac{{1 + {z^{ - 1}}}}{{1 - {z^{ - 1}}}}} \\right\\}.$$"
   ]
  },
  {
   "cell_type": "markdown",
   "metadata": {
    "slideshow": {
     "slide_type": "subslide"
    }
   },
   "source": [
    "#### Approximation of s by numerical integration\n",
    "\n",
    "By comparison with continuous integration $Y(s)/U(s)=1/s$, this result, obtained by *numerical integration* allows us to say that \n",
    "\n",
    "$$s \\approx \\frac{2}{T}\\{{\\frac{1-z^{-1}}{1+z^{-1}}}\\}.$$ "
   ]
  },
  {
   "cell_type": "markdown",
   "metadata": {
    "slideshow": {
     "slide_type": "notes"
    }
   },
   "source": [
    "These results are summarised in the next few slides."
   ]
  },
  {
   "cell_type": "markdown",
   "metadata": {
    "slideshow": {
     "slide_type": "subslide"
    }
   },
   "source": [
    "### Summary of Numerical Integration Methods"
   ]
  },
  {
   "cell_type": "markdown",
   "metadata": {
    "slideshow": {
     "slide_type": "subslide"
    }
   },
   "source": [
    "#### Trapezoidal approximation\n",
    "\n",
    "$$\\begin{aligned}\n",
    "     s &=& \\frac{2}{T}\\, \\frac{z-1}{z+1} \\\\\n",
    "     z &=& \\frac{1 + 1/2 sT}{1 - 1/2 sT}\n",
    "  \\end{aligned}$$"
   ]
  },
  {
   "cell_type": "markdown",
   "metadata": {
    "slideshow": {
     "slide_type": "subslide"
    }
   },
   "source": [
    "compare expansion\n",
    "\n",
    "$$z=(1+ (1/2) sT)(1- (1/2) sT)^{-1} = 1 + sT + (1/2)\n",
    " s^2T^2 + (1/4) s^3T^3\n",
    " + \\cdots$$ with\n",
    "\n",
    "$$z = e^{sT} = 1 + sT + (1/2) s^2T^2 + (1/6) s^3T^3 + \\cdots$$"
   ]
  },
  {
   "cell_type": "markdown",
   "metadata": {
    "slideshow": {
     "slide_type": "notes"
    }
   },
   "source": [
    "This approximation is known as \"*Tustin's Bilinear Transformation*\"."
   ]
  },
  {
   "cell_type": "markdown",
   "metadata": {
    "slideshow": {
     "slide_type": "subslide"
    }
   },
   "source": [
    "#### Forward rectangular approximation\n",
    "\n",
    "$$\\begin{aligned}\n",
    "     s &=& \\frac{z-1}{T} \\\\\n",
    "     z &=& 1 + sT\n",
    "  \\end{aligned}$$ \n",
    "  "
   ]
  },
  {
   "cell_type": "markdown",
   "metadata": {
    "slideshow": {
     "slide_type": "fragment"
    }
   },
   "source": [
    "compare with\n",
    "\n",
    "$$z = e^{sT} = 1 + sT + (1/2) s^2T^2 + (1/6) s^3T^3 + \\cdots$$"
   ]
  },
  {
   "cell_type": "markdown",
   "metadata": {
    "slideshow": {
     "slide_type": "subslide"
    }
   },
   "source": [
    "#### Backward rectangular approximation\n",
    "\n",
    "$$\\begin{aligned}\n",
    "     s &=& \\frac{z-1}{Tz} \\\\\n",
    "     z &=& \\frac{1}{1 + sT}\n",
    "  \\end{aligned}$$ \n",
    "  "
   ]
  },
  {
   "cell_type": "markdown",
   "metadata": {
    "slideshow": {
     "slide_type": "fragment"
    }
   },
   "source": [
    "compare expansion\n",
    "\n",
    "$$z=(1-sT)^{-1} = 1 + sT + s^2T^2 + s^3T^3\n",
    " + \\cdots$$ with\n",
    "$$z = e^{sT} = 1 + sT + (1/2) s^2T^2 + (1/6) s^3T^3 + \\cdots$$"
   ]
  },
  {
   "cell_type": "markdown",
   "metadata": {
    "slideshow": {
     "slide_type": "subslide"
    }
   },
   "source": [
    "### Example 2 \n",
    "\n",
    "If\n",
    "\n",
    "$$H(s) = \\frac{a}{s+a},$$ \n",
    "\n",
    "determine the equivalent $H(z)$ using Tustin's bilinear transformation."
   ]
  },
  {
   "cell_type": "markdown",
   "metadata": {
    "slideshow": {
     "slide_type": "notes"
    }
   },
   "source": [
    "#### Solution\n",
    "\n",
    "Tustin's bilinear transformation gives a digital system with transfer\n",
    "function \n",
    "\n",
    "$$\\begin{eqnarray*}\n",
    "   H(z)&=& \\frac{a}{\\frac{2}{T}\\,\\frac{z-1}{z+1}+a} \\\\\n",
    "       &=& \\frac{\\left(\\frac{(aT)/2}{1+(aT)/2}\\right)(z+1)}{z-\\left(\\frac{1-(aT)/2}{1+(aT)/2}\\right)}.\n",
    " \\end{eqnarray*}$$\n",
    "\n",
    "**Malab note**: the bilinear transform equivalent is obtained by passing\n",
    "the argument `'tustin'` to the *c2d* method:\n",
    "\n",
    "    lti_d = c2d(lti, Ts, 'tustin');"
   ]
  },
  {
   "cell_type": "markdown",
   "metadata": {
    "slideshow": {
     "slide_type": "slide"
    }
   },
   "source": [
    "### Matched pole-zero approximations "
   ]
  },
  {
   "cell_type": "markdown",
   "metadata": {
    "slideshow": {
     "slide_type": "notes"
    }
   },
   "source": [
    "Another way to obtain a digital approximation of a continuous transfer function is to use the relationship $z = e^{sT}$ to map poles and zeros of the continuous transfer function into poles and zeros in the z-transfer function.\n",
    "\n",
    "Since continuous transfer functions often have more poles than zeros, that is $n-m$ zeros at infinity, zeros at infinity are replaced in the z-transfer function by zeros at $z = -1$ which is equivalent to half the sampling frequency $\\omega_s/2$ (i.e. the highest frequency possible in the z-domain). Thus if $n-m =1$ we add $(1+z^{-1})$, if $n-m=2$, $(1+z^{-1})^2$, etc."
   ]
  },
  {
   "cell_type": "markdown",
   "metadata": {
    "slideshow": {
     "slide_type": "subslide"
    }
   },
   "source": [
    "####  Matched-Pole Zero method\n",
    "\n",
    "Idea is that all poles and zeros of continuous transfer function $D(s)$ can become poles and zeros of digital transfer function $D(z)$ if the mapping $z=e^{sT}$ is used."
   ]
  },
  {
   "cell_type": "markdown",
   "metadata": {
    "slideshow": {
     "slide_type": "subslide"
    }
   },
   "source": [
    "Method:\n",
    "\n",
    "1.  Map finite poles and zeros of $D(s)$ to poles and zeros of $D(z)$\n",
    "    according to $z=e^{sT}$."
   ]
  },
  {
   "cell_type": "markdown",
   "metadata": {
    "slideshow": {
     "slide_type": "fragment"
    }
   },
   "source": [
    "2.  Add zeros at $z=-1$ for each infinite zero in $D(s)$."
   ]
  },
  {
   "cell_type": "markdown",
   "metadata": {
    "slideshow": {
     "slide_type": "fragment"
    }
   },
   "source": [
    "3.  Match DC or low-frequency gain."
   ]
  },
  {
   "cell_type": "markdown",
   "metadata": {
    "slideshow": {
     "slide_type": "subslide"
    }
   },
   "source": [
    "#### Example 3\n",
    "\n",
    "Use the Matched-Pole-Zero (MPZ) approximation to give the z-transfer function equivalent to $$D(s)=\\frac{s+a}{s+b}.$$"
   ]
  },
  {
   "cell_type": "markdown",
   "metadata": {
    "slideshow": {
     "slide_type": "notes"
    }
   },
   "source": [
    "##### Solution \n",
    "\n",
    "Order of numerator and denominator are equal so there are no infinite\n",
    "zeros and by matching poles and zeros\n",
    "\n",
    "$$D(z)=k\\left(\\frac{1-e^{-aT}z^{-1}}{1 - e^{-bT}z^{-1}}\\right).$$\n",
    "\n",
    "For $D(s)$ the DC gain is $D(s)|_{s=0} = a/b$. \n",
    "\n",
    "The DC gain for $D(z)$ is $D(z)|_{z=1}$ (from final value theorem) that is\n",
    "\n",
    "$$k\\left(\\frac{1-e^{-aT}}{1-e^{-bT}}\\right) = \\frac{a}{b}.$$\n",
    "\n",
    "We choose $k$ so that the DC gains match, i.e. \n",
    "\n",
    "$$k=\\frac{a}{b}\\left(\\frac{1-e^{-bT}}{1-e^{-aT}}\\right).$$"
   ]
  },
  {
   "cell_type": "markdown",
   "metadata": {
    "slideshow": {
     "slide_type": "subslide"
    }
   },
   "source": [
    "#### Example 4\n",
    "\n",
    "Use the Matched-Pole-Zero (MPZ) approximation to give the z-transfer\n",
    "function equivalent to \n",
    "\n",
    "$$D(s)=\\frac{s+a}{s(s+b)}.$$"
   ]
  },
  {
   "cell_type": "markdown",
   "metadata": {
    "slideshow": {
     "slide_type": "notes"
    }
   },
   "source": [
    "##### Solution \n",
    "\n",
    "Here, the order of the denominator is one greater than the numerator so there is $n-m = 2 - 1 = 1$ infinite zero. Placing this zero at $z = -1$ makes the MPZ transfer function\n",
    "\n",
    "$$D(z)=k\\left(\\frac{(1+z^{-1})(1-e^{-aT}z^{-1})}{(1-z^{-1})(1 - e^{-bT}z^{-1})}\\right).$$\n",
    "\n",
    "As $D(s)$ is type 1, we can't use the value of $D(0)$ to compute the DC\n",
    "gain. Instead, let us compute the gain at $s = -1$: \n",
    "\n",
    "$$\\begin{aligned}\n",
    "  D( - 1) =& {\\left. {\\frac{{s + a}}{{s(s + b)}}} \\right|_{s =  - 1}} \\\\\n",
    "   =& \\frac{{-1 + a}}{{( - 1)(-1 + b)}} = \\frac{{a - 1}}{{(1 - b)}} \\\\\\end{aligned}$$\n",
    "\n",
    "The equivalent value $s=-1$ in the $z$-plane is $z=e^{-T}$.\n",
    "\n",
    "$$\\begin{aligned}\n",
    "  k\\left.\\frac{(1 + z^{-1})(1 - e^{-aT}z^{-1})}{(1 - e^{-bT}z^{-1})} \\right|_{z = k} =& \\frac{(1 + {e^T})(1 - e^{-aT}e^T)}{(1 - e^{-bT}e^T)} \\hfill \\\\\n",
    "   =& k\\frac{\\left( 1 + {e^T} \\right)\\left( 1 - e^{- (1 - a)T} \\right)}{\\left( 1 - e^{-(1-b)T} \\right)} \\hfill \\\\\n",
    "\\end{aligned}$$\n",
    "\n",
    "Again, we choose $k$ so that the equivalent gains match, i.e.\n",
    "\n",
    "$$k =  \\left( \\frac{1 - b}{a - 1} \\right)\\frac{\\left( 1 - e^{-(1-b)T} \\right)}{\\left( 1 + {e^T} \\right)\\left( 1 - e^{ - (1 - a)T}\\right)}.$$"
   ]
  },
  {
   "cell_type": "markdown",
   "metadata": {
    "slideshow": {
     "slide_type": "notes"
    }
   },
   "source": [
    "We would implement $D(z)$ as a *difference equation* defined in terms of the sampled inputs and outputs as shown\n",
    "for Example 3."
   ]
  },
  {
   "cell_type": "markdown",
   "metadata": {
    "slideshow": {
     "slide_type": "subslide"
    }
   },
   "source": [
    "#### Implementation of an MPZ Approximation\n",
    "\n",
    "If\n",
    "\n",
    "$$\\frac{Y(z)}{U(z)}=D(z)=k\\frac{1-\\alpha z^{-1}}{1-\\beta z^{-1}}$$"
   ]
  },
  {
   "cell_type": "markdown",
   "metadata": {
    "slideshow": {
     "slide_type": "fragment"
    }
   },
   "source": [
    "then the digital implementation will be\n",
    "$$y(n)=\\beta y(n-1)+k(u(n)-\\alpha u(n-1))$$"
   ]
  },
  {
   "cell_type": "markdown",
   "metadata": {
    "slideshow": {
     "slide_type": "subslide"
    }
   },
   "source": [
    "$y(n)$ is the current calculated value, $y(n-1)$ is previous calculated value, $u(n)$ is current sample, and $u(n-1)$ is previous sample."
   ]
  },
  {
   "cell_type": "markdown",
   "metadata": {
    "slideshow": {
     "slide_type": "fragment"
    }
   },
   "source": [
    "Implementation only works if computation rate $<<$ significant dynamics of the sampled system and a small fraction of sampling time $T$."
   ]
  },
  {
   "cell_type": "markdown",
   "metadata": {
    "slideshow": {
     "slide_type": "notes"
    }
   },
   "source": [
    "In the implementation, you should notice that it is actually physically impossible to sample $u(t)$, compute $y(n)$ and output $y(n)$ all at the same instant of time. Hence the equation is actually impossible to implement. However, if the computation is sufficiently fast, the delay between sampling $u(t)$ and outputting $y(t)$ will be small and can often be neglected. A rule of thumb has computation delay $< t_r/20$ of the dominant pole. It should certainly be a small fraction of the sampling period $T$."
   ]
  },
  {
   "cell_type": "markdown",
   "metadata": {
    "slideshow": {
     "slide_type": "subslide"
    }
   },
   "source": [
    "#### Modified MPZ\n",
    "\n",
    "Used if constraint on computation time cannot be met<sup>2</sup>."
   ]
  },
  {
   "cell_type": "markdown",
   "metadata": {
    "slideshow": {
     "slide_type": "fragment"
    }
   },
   "source": [
    "Allow a zero at infinity in $D(z)$ so that order of numerator is one less than denominator."
   ]
  },
  {
   "cell_type": "markdown",
   "metadata": {
    "slideshow": {
     "slide_type": "fragment"
    }
   },
   "source": [
    "This ensures that only past values of $u$ and $y$ appear in the implementation equation and a whole sample period is available for computation"
   ]
  },
  {
   "cell_type": "markdown",
   "metadata": {
    "slideshow": {
     "slide_type": "subslide"
    }
   },
   "source": [
    "####  Example 5\n",
    "\n",
    "Re-implement Example 3 using the Modified MPZ method."
   ]
  },
  {
   "cell_type": "markdown",
   "metadata": {
    "slideshow": {
     "slide_type": "subslide"
    }
   },
   "source": [
    "##### Solution\n",
    "\n",
    "If we allow an infinite zero \n",
    "\n",
    "$$D(s)=\\frac{s+a}{s(s+b)}$$\n",
    "\n",
    "becomes\n",
    "\n",
    "$$D(z)=k\\frac{(1-e^{-aT}z^{-1})}{(1-z^{-1})(1-e^{-bT}z^{-1})}$$\n",
    "\n",
    "and\n",
    "\n",
    "$$k = \\left( \\frac{1 - b}{a - 1} \\right)\\frac{\\left( 1 - e^{ - (1 - b)T} \\right)}{\\left( 1 - e^{ - (1 - a)T} \\right)}.$$\n",
    "\n",
    "The implementation is now\n",
    "\n",
    "$$y(n) = (1 - e^{-bT})y(n-1)-e^{-bT}y(n-2)+k(u(n-1)-e^{-aT}u(n-2))$$\n",
    "\n",
    "and now the computation for $y(n)$ is performed only on past values of $u(n)$ and $y(n)$ and a whole sample period is available for computation.\n",
    "\n",
    "**Matlab note**: the matched-pole zero equivalent of an LTI system is\n",
    "obtained by passing `'matched'` as the third argument to *c2d*:\n",
    "\n",
    "    lti_d = c2d(lti, Ts, 'matched')\n",
    "\n",
    "There isn't a built-in method that returns the *modified*-matched-pole\n",
    "zero equivalent.\n",
    "\n",
    "## Footnotes\n",
    "\n",
    "1: The LTI functions are `tf`, `ss`, and `zpk`. For more information,\n",
    "    type `help lti` inside *MATLAB*.\n",
    "\n",
    "2: Which these days is unlikely"
   ]
  }
 ],
 "metadata": {
  "celltoolbar": "Slideshow",
  "kernelspec": {
   "display_name": "Matlab",
   "language": "matlab",
   "name": "matlab"
  },
  "language_info": {
   "codemirror_mode": "octave",
   "file_extension": ".m",
   "help_links": [
    {
     "text": "MetaKernel Magics",
     "url": "https://github.com/calysto/metakernel/blob/master/metakernel/magics/README.md"
    }
   ],
   "mimetype": "text/x-octave",
   "name": "matlab",
   "version": "0.15.2"
  }
 },
 "nbformat": 4,
 "nbformat_minor": 2
}
