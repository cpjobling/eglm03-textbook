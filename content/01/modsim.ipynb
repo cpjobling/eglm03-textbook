{
 "cells": [
  {
   "cell_type": "markdown",
   "metadata": {
    "slideshow": {
     "slide_type": "slide"
    }
   },
   "source": [
    "# System Modelling and Simulation"
   ]
  },
  {
   "cell_type": "markdown",
   "metadata": {
    "slideshow": {
     "slide_type": "slide"
    }
   },
   "source": [
    "## Contents\n",
    "\n",
    "* Ordinary differential equations\n",
    "* Transfer functions\n",
    "* Integral models\n",
    "* Using Simulink\n",
    "* State-space models"
   ]
  },
  {
   "cell_type": "markdown",
   "metadata": {
    "slideshow": {
     "slide_type": "slide"
    }
   },
   "source": [
    "## Ordinary Differential Equations\n",
    "\n",
    "* Used to model a wide variety of so-called “lumped parameter” problems in engineering and technology.\n",
    "* Based on the fundamental laws of nature such as Ohm’s law, Newton’s laws of motion, thermodynamics, chemistry etc.\n",
    "* We will assume that you have or can derive such a model in your domain of interest."
   ]
  },
  {
   "cell_type": "markdown",
   "metadata": {
    "slideshow": {
     "slide_type": "subslide"
    }
   },
   "source": [
    "### An Example\n",
    "\n",
    "Spring Mass Damper System\n",
    "\n",
    "![Spring Mass Damper System (SMD)](images/smd.png)"
   ]
  },
  {
   "cell_type": "markdown",
   "metadata": {
    "slideshow": {
     "slide_type": "subslide"
    }
   },
   "source": [
    "### Free body diagram\n",
    "\n",
    "![Freebody diagram](images/freeb.png)"
   ]
  },
  {
   "cell_type": "markdown",
   "metadata": {
    "slideshow": {
     "slide_type": "subslide"
    }
   },
   "source": [
    "### Differential equation\n",
    "\n",
    "$$\\begin{eqnarray*}\n",
    "m\\ddot x &=& \\sum \\mathrm{forces} \\;\\mathrm{in}\\;\\mathrm{the}\\;x\\;\\mathrm{direction}\\\\\n",
    " &=& F - kx - b\\dot x\\\\\n",
    "F &=& m\\ddot x + kx + b\\dot x\n",
    "\\end{eqnarray*}$$"
   ]
  },
  {
   "cell_type": "markdown",
   "metadata": {
    "slideshow": {
     "slide_type": "notes"
    }
   },
   "source": [
    "### Challenge for Electrical Engineers\n",
    "\n",
    "Can you think of a simple electrical circuit that has a similar differential equation?\n",
    "\n",
    "*Clue*: it would have 1 resistor 1 capacitor and 1 inductor."
   ]
  },
  {
   "cell_type": "markdown",
   "metadata": {
    "slideshow": {
     "slide_type": "slide"
    }
   },
   "source": [
    "## Transfer functions"
   ]
  },
  {
   "cell_type": "markdown",
   "metadata": {
    "slideshow": {
     "slide_type": "subslide"
    }
   },
   "source": [
    "### Laplace transform\n",
    "\n",
    "* Allows us to represent a the differential equation representing a linear-time invariant (LTI) system as a rational polynomial in $s$.\n",
    "* This can be solved for $t$ using the inverse-Laplace transform (time domain).\n",
    "* Can substitute $s=j\\omega$ to determine the response to sinusoidal inputs (frequency domain)."
   ]
  },
  {
   "cell_type": "markdown",
   "metadata": {
    "slideshow": {
     "slide_type": "subslide"
    }
   },
   "source": [
    "### Transform version of the SMD\n",
    "\n",
    "Let:\n",
    "\n",
    "$$\\begin{eqnarray*}\n",
    "X(s) &=& \\mathcal{L}x(t)\\\\\n",
    "F(s) &=& \\mathcal{L}F(t)\n",
    "\\end{eqnarray*}$$"
   ]
  },
  {
   "cell_type": "markdown",
   "metadata": {
    "slideshow": {
     "slide_type": "fragment"
    }
   },
   "source": [
    "then\n",
    "\n",
    "$$F(s) = ms^2X(s) + bsX(s) + bX(s)$$"
   ]
  },
  {
   "cell_type": "markdown",
   "metadata": {
    "slideshow": {
     "slide_type": "subslide"
    }
   },
   "source": [
    "### Transfer function\n",
    "\n",
    "$$X(s) = \\frac{1}{ms^2 + bs + b}F(s)$$"
   ]
  },
  {
   "cell_type": "markdown",
   "metadata": {
    "slideshow": {
     "slide_type": "subslide"
    }
   },
   "source": [
    "### Block diagram\n",
    "\n",
    "![Block diagram](images/bd.png)"
   ]
  },
  {
   "cell_type": "markdown",
   "metadata": {
    "slideshow": {
     "slide_type": "subslide"
    }
   },
   "source": [
    "### MATLAB LTI Object"
   ]
  },
  {
   "cell_type": "code",
   "execution_count": 1,
   "metadata": {
    "slideshow": {
     "slide_type": "fragment"
    }
   },
   "outputs": [],
   "source": [
    "m = 1; % kg\n",
    "b = 0.6; % Ns/m\n",
    "k = 5; % N/m\n"
   ]
  },
  {
   "cell_type": "code",
   "execution_count": 2,
   "metadata": {
    "slideshow": {
     "slide_type": "fragment"
    }
   },
   "outputs": [
    {
     "name": "stdout",
     "output_type": "stream",
     "text": [
      "\n",
      "smd_tf =\n",
      " \n",
      "         1\n",
      "  ---------------\n",
      "  s^2 + 0.6 s + 5\n",
      " \n",
      "Continuous-time transfer function.\n",
      "\n"
     ]
    }
   ],
   "source": [
    "smd_tf = tf([1], [m b k])"
   ]
  },
  {
   "cell_type": "code",
   "execution_count": 3,
   "metadata": {
    "slideshow": {
     "slide_type": "subslide"
    }
   },
   "outputs": [
    {
     "data": {
      "image/png": "[encoded data removed]",
      "text/plain": [
       "<IPython.core.display.Image object>"
      ]
     },
     "metadata": {},
     "output_type": "display_data"
    }
   ],
   "source": [
    "step(smd_tf)"
   ]
  },
  {
   "cell_type": "markdown",
   "metadata": {
    "slideshow": {
     "slide_type": "slide"
    }
   },
   "source": [
    "## Integral Models\n",
    "\n",
    "* If system is non-linear, time-varying or very high order, we may not be able to solve the differential system directly.\n",
    "* We typically resort to simulation\n",
    "* MATLAB has a system simulation tool called *Simulink*.\n",
    "* We first need to convert the differential equation to integral form."
   ]
  },
  {
   "cell_type": "markdown",
   "metadata": {
    "slideshow": {
     "slide_type": "subslide"
    }
   },
   "source": [
    "### Integral form\n",
    "\n",
    "* Makes use of the fact that for any differential term:\n",
    "\n",
    "$$x(t)=\\int_{0}^{t}\\,\\dot{x}(t)\\,dt$$\n",
    "\n",
    "* We can use this fact to rearrange any *n*<sup>th</sup>-order differential equation into n first-order integral equations.\n",
    "* Using a numerical integration algorithm, we can solve such equations.\n",
    "\n"
   ]
  },
  {
   "cell_type": "markdown",
   "metadata": {
    "slideshow": {
     "slide_type": "subslide"
    }
   },
   "source": [
    "### Integral form of SMD equations\n",
    "\n",
    "$$\\begin{eqnarray*}\n",
    "\\ddot{x}&=&\\frac{1}{m}\\left(F-b\\dot{x}-kx\\right)\\\\\n",
    "\\dot{x}&=&\\int\\ddot{x}\\,dt\\\\\n",
    "x&=&\\int\\dot{x}\\,dt\n",
    "\\end{eqnarray*}$$"
   ]
  },
  {
   "cell_type": "markdown",
   "metadata": {
    "slideshow": {
     "slide_type": "subslide"
    }
   },
   "source": [
    "### Block diagram\n",
    "\n",
    "![Integral model of SMD](images/intgm.png)\n",
    "\n",
    "**Note** \n",
    "\n",
    "$$\\mathcal{L}\\left(\\int x(t)\\,dt\\right) = \\frac{1}{s}$$\n"
   ]
  },
  {
   "cell_type": "markdown",
   "metadata": {
    "slideshow": {
     "slide_type": "subslide"
    }
   },
   "source": [
    "### Simulink model"
   ]
  },
  {
   "cell_type": "markdown",
   "metadata": {
    "slideshow": {
     "slide_type": "notes"
    }
   },
   "source": [
    "![Simulink model of SMD system](images/simulink.png)"
   ]
  },
  {
   "cell_type": "code",
   "execution_count": 4,
   "metadata": {
    "slideshow": {
     "slide_type": "fragment"
    }
   },
   "outputs": [],
   "source": [
    "smd"
   ]
  },
  {
   "cell_type": "markdown",
   "metadata": {
    "slideshow": {
     "slide_type": "notes"
    }
   },
   "source": [
    "### Results of simulation\n",
    "\n",
    "![Results of simulation](images/result.png)"
   ]
  },
  {
   "cell_type": "markdown",
   "metadata": {
    "slideshow": {
     "slide_type": "slide"
    }
   },
   "source": [
    "## State-space models\n",
    "\n",
    "Let $x_1 = x$ and $x_2 = \\dot{x}$ then"
   ]
  },
  {
   "cell_type": "markdown",
   "metadata": {
    "slideshow": {
     "slide_type": "fragment"
    }
   },
   "source": [
    "$$\\begin{eqnarray*}\n",
    "\\dot{x}_1&=&x_2\\\\\n",
    "\\dot{x}_2&=&-\\frac{k}{b}x_2-\\frac{b}{m}x_1+\\frac{F}{m}\n",
    "\\end{eqnarray*}$$"
   ]
  },
  {
   "cell_type": "markdown",
   "metadata": {
    "slideshow": {
     "slide_type": "subslide"
    }
   },
   "source": [
    "In matrix form\n",
    "\n",
    "$$\\left[ {\\begin{array}{*{20}{c}}\n",
    "  {\\dot {x}_1} \\\\ \n",
    "  {\\dot {x}_2} \n",
    "\\end{array}} \\right] = \\left[ {\\begin{array}{*{20}{c}}\n",
    "  0&1 \\\\ \n",
    "  { - \\frac{b}{m}}&{ - \\frac{k}{m}} \n",
    "\\end{array}} \\right]\\left[ {\\begin{array}{*{20}{c}}\n",
    "  {{x_1}} \\\\ \n",
    "  {{x_2}} \n",
    "\\end{array}} \\right] + \\left[ {\\begin{array}{*{20}{c}}\n",
    "  0 \\\\ \n",
    "  {\\frac{1}{m}} \n",
    "\\end{array}} \\right]F$$"
   ]
  },
  {
   "cell_type": "markdown",
   "metadata": {
    "slideshow": {
     "slide_type": "subslide"
    }
   },
   "source": [
    "### General state-space model\n",
    "\n",
    "$$\\begin{eqnarray*}\n",
    "\\mathbf{\\dot x} &=& {\\mathbf{Ax}} + {\\mathbf{B}}u\\\\\n",
    "y &=& {\\mathbf{Cx}} + {\\mathbf{D}}u\n",
    "\\end{eqnarray*}$$"
   ]
  },
  {
   "cell_type": "markdown",
   "metadata": {
    "slideshow": {
     "slide_type": "subslide"
    }
   },
   "source": [
    "### MATLAB LTI Model"
   ]
  },
  {
   "cell_type": "code",
   "execution_count": 5,
   "metadata": {
    "slideshow": {
     "slide_type": "fragment"
    }
   },
   "outputs": [],
   "source": [
    "A = [0 1; -k/m -b/m]; % state matrix\n",
    "B = [0; 1/m]; % input matrix\n",
    "C = [1 0]; % Output matrix - output y = x1\n",
    "D = [0]; "
   ]
  },
  {
   "cell_type": "code",
   "execution_count": 6,
   "metadata": {
    "slideshow": {
     "slide_type": "fragment"
    }
   },
   "outputs": [
    {
     "name": "stdout",
     "output_type": "stream",
     "text": [
      "\n",
      "smd_ss =\n",
      " \n",
      "  A = \n",
      "         x1    x2\n",
      "   x1     0     1\n",
      "   x2    -5  -0.6\n",
      " \n",
      "  B = \n",
      "       u1\n",
      "   x1   0\n",
      "   x2   1\n",
      " \n",
      "  C = \n",
      "       x1  x2\n",
      "   y1   1   0\n",
      " \n",
      "  D = \n",
      "       u1\n",
      "   y1   0\n",
      " \n",
      "Continuous-time state-space model.\n",
      "\n"
     ]
    }
   ],
   "source": [
    "smd_ss = ss(A, B, C, D)"
   ]
  },
  {
   "cell_type": "code",
   "execution_count": 7,
   "metadata": {
    "slideshow": {
     "slide_type": "subslide"
    }
   },
   "outputs": [
    {
     "data": {
      "image/png": "[encoded data removed]",
      "text/plain": [
       "<IPython.core.display.Image object>"
      ]
     },
     "metadata": {},
     "output_type": "display_data"
    }
   ],
   "source": [
    "step(smd_ss)"
   ]
  },
  {
   "cell_type": "markdown",
   "metadata": {
    "slideshow": {
     "slide_type": "slide"
    }
   },
   "source": [
    "## Comparison"
   ]
  },
  {
   "cell_type": "markdown",
   "metadata": {
    "slideshow": {
     "slide_type": "notes"
    }
   },
   "source": [
    "![Comparing models in Simulink](images/smdcompare.png)"
   ]
  },
  {
   "cell_type": "code",
   "execution_count": 8,
   "metadata": {
    "slideshow": {
     "slide_type": "subslide"
    }
   },
   "outputs": [],
   "source": [
    "smdcompare"
   ]
  },
  {
   "cell_type": "markdown",
   "metadata": {
    "slideshow": {
     "slide_type": "notes"
    }
   },
   "source": [
    "### Results\n",
    "\n",
    "![SMD Comparison](images/smdresults.png)"
   ]
  },
  {
   "cell_type": "markdown",
   "metadata": {
    "slideshow": {
     "slide_type": "slide"
    }
   },
   "source": [
    "## Models and their uses\n",
    "\n",
    "* Integral models for general solution of high-order, linear and non-linear differential equations.\n",
    "* State-space models for *linear* time-invariant, time-varying and multi-input multi-output (**MIMO**) systems.\n",
    "* Transfer function for linear time-invariant (**LTI**), single-input single output (**SISO**) systems"
   ]
  },
  {
   "cell_type": "markdown",
   "metadata": {
    "slideshow": {
     "slide_type": "slide"
    }
   },
   "source": [
    "## Feedback and suggestions\n",
    "\n",
    "\"**Which bit of this session did you find the most difficult to understand**”\n",
    "\n",
    "Use the Teams [week 1 discussion](https://teams.microsoft.com/l/channel/19%3aa25f34ac58624f56b6a73358b97d2b42%40thread.skype/Week%25201?groupId=8831ec02-d0cc-4627-b070-40b1bff6a4e4&tenantId=bbcab52e-9fbe-43d6-a2f3-9f66c43df268) to post feedback.\n",
    "\n",
    "Or tweet @[eglm03](https://twitter.com/eglm03) hashtag #[eglm03](https://twitter.com/hashtag/eglm03)\n"
   ]
  }
 ],
 "metadata": {
  "celltoolbar": "Slideshow",
  "kernelspec": {
   "display_name": "Matlab",
   "language": "matlab",
   "name": "matlab"
  },
  "language_info": {
   "codemirror_mode": "octave",
   "file_extension": ".m",
   "help_links": [
    {
     "text": "MetaKernel Magics",
     "url": "https://github.com/calysto/metakernel/blob/master/metakernel/magics/README.md"
    }
   ],
   "mimetype": "text/x-octave",
   "name": "matlab",
   "version": "0.15.2"
  }
 },
 "nbformat": 4,
 "nbformat_minor": 2
}
