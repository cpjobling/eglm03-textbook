{
 "cells": [
  {
   "cell_type": "markdown",
   "metadata": {},
   "source": [
    "# Defining Transfer Systems in MATLAB"
   ]
  },
  {
   "cell_type": "markdown",
   "metadata": {},
   "source": [
    "There are two forms of transfer function representation in MATLAB. The most obvious is the polynomial form where\n",
    "\n",
    "$$G(s) = \\frac{b(s)}{a(s)} = \\frac{s^2 + 2 s + 3}{s^3 + 4 s^2 + 5 s + 6}$$\n",
    "\n",
    "is entered as two row vectors with the polynomial coefficients entered in the order of descending powers of $s$."
   ]
  },
  {
   "cell_type": "code",
   "execution_count": 1,
   "metadata": {},
   "outputs": [],
   "source": [
    "b = [1, 2, 3];\n",
    "a = [1, 4, 5, 6];"
   ]
  },
  {
   "cell_type": "markdown",
   "metadata": {},
   "source": [
    "Missing coefficients, must be entered as zero: so $q(s)=s^2+2s$ and $r(s)=s^4+s^2+1$ are entered as"
   ]
  },
  {
   "cell_type": "code",
   "execution_count": 2,
   "metadata": {},
   "outputs": [],
   "source": [
    "q = [1, 2, 0];\n",
    "r = [1, 0, 2, 0, 1];"
   ]
  },
  {
   "cell_type": "markdown",
   "metadata": {},
   "source": [
    "An alternative form of representation for transfer functions is the *factored polynomial*, for example\n",
    "\n",
    "$$G(s) = \\frac{(s + 1)(s + 3)}{s(s + 2)(s + 4)}$$ \n",
    "\n",
    "The advantage of this formulation is that the *zeros* of the numerator and denominator polynomials are obvious by inspection. So it is often used in the preliminary analysis of the performance of a dynamic system. The *poles* of this transfer function are $s = 0,\\;−2,\\;−4$ and the *zeros* are $s = −1,\\;−3$.\n",
    "\n",
    "In MATLAB, this form of transfer function is specified by a column vector of the zeros and a column vector of the poles:"
   ]
  },
  {
   "cell_type": "code",
   "execution_count": 3,
   "metadata": {},
   "outputs": [],
   "source": [
    "z = [-1; -3];\n",
    "p = [0; -2; -4];"
   ]
  },
  {
   "cell_type": "markdown",
   "metadata": {},
   "source": [
    "A third parameter, the overall gain $K$, completes the definition of the so called *pole-zero-gain* form of transfer function. In this case $K =1$:"
   ]
  },
  {
   "cell_type": "code",
   "execution_count": 4,
   "metadata": {},
   "outputs": [],
   "source": [
    "K = 1;"
   ]
  },
  {
   "cell_type": "markdown",
   "metadata": {},
   "source": [
    "## The Linear Time Invariant System Object\n",
    "\n",
    "Starting from version 4 of the *Control System Toolbox* (distributed with MATLAB version 5), the Mathworks introduced a new data object for the creation and manipulation of system transfer functions. This object is called the *Linear Time Invariant (LTI) System Object*. It is used to gather the components of a transfer function (or state-space model) into a single variable which can then easily be combined with other LTI system objects.\n",
    "\n",
    "To create a LTI system object representing a factored transfer function the following command is issued: "
   ]
  },
  {
   "cell_type": "code",
   "execution_count": 5,
   "metadata": {},
   "outputs": [
    {
     "name": "stdout",
     "output_type": "stream",
     "text": [
      "\n",
      "G =\n",
      " \n",
      "   (s+1) (s+3)\n",
      "  -------------\n",
      "  s (s+2) (s+4)\n",
      " \n",
      "Continuous-time zero/pole/gain model.\n",
      "\n"
     ]
    }
   ],
   "source": [
    "G = zpk(z,p,K)"
   ]
  },
  {
   "cell_type": "markdown",
   "metadata": {},
   "source": [
    "The expanded numerator and denominator form of the transfer function is readily obtained by using a “data extraction” function. "
   ]
  },
  {
   "cell_type": "code",
   "execution_count": 6,
   "metadata": {},
   "outputs": [
    {
     "name": "stdout",
     "output_type": "stream",
     "text": [
      "\n",
      "num =\n",
      "\n",
      "     0     1     4     3\n",
      "\n",
      "\n",
      "den =\n",
      "\n",
      "     1     6     8     0\n",
      "\n"
     ]
    }
   ],
   "source": [
    "[num,den]=tfdata(G,'v')"
   ]
  },
  {
   "cell_type": "markdown",
   "metadata": {},
   "source": [
    "LTI system objects can also be created from the expanded form of a transfer function directly:"
   ]
  },
  {
   "cell_type": "code",
   "execution_count": 7,
   "metadata": {},
   "outputs": [
    {
     "name": "stdout",
     "output_type": "stream",
     "text": [
      "\n",
      "G2 =\n",
      " \n",
      "    s^2 + 4 s + 3\n",
      "  -----------------\n",
      "  s^3 + 6 s^2 + 8 s\n",
      " \n",
      "Continuous-time transfer function.\n",
      "\n"
     ]
    }
   ],
   "source": [
    "G2=tf(num,den)"
   ]
  },
  {
   "cell_type": "markdown",
   "metadata": {},
   "source": [
    "and the zeros and poles similarly extracted:"
   ]
  },
  {
   "cell_type": "code",
   "execution_count": 8,
   "metadata": {},
   "outputs": [
    {
     "name": "stdout",
     "output_type": "stream",
     "text": [
      "\n",
      "zeros =\n",
      "\n",
      "    -3\n",
      "    -1\n",
      "\n",
      "\n",
      "poles =\n",
      "\n",
      "     0\n",
      "    -4\n",
      "    -2\n",
      "\n",
      "\n",
      "gain =\n",
      "\n",
      "     1\n",
      "\n"
     ]
    }
   ],
   "source": [
    "[zeros,poles,gain]=zpkdata(G2,'v')"
   ]
  },
  {
   "cell_type": "markdown",
   "metadata": {},
   "source": [
    "## Setting LTI Properties\n",
    "\n",
    "Numerous options are available to document the LTI system objects that you create. For example, suppose the transfer function $G$ represents a servomechanism with input `'Voltage'` and output `'Angular Position'`. We can add this information to the LTI system as follows: "
   ]
  },
  {
   "cell_type": "code",
   "execution_count": 9,
   "metadata": {},
   "outputs": [
    {
     "name": "stdout",
     "output_type": "stream",
     "text": [
      "\n",
      "G =\n",
      " \n",
      "  From input \"Voltage\" to output \"Angular Position\":\n",
      "   (s+1) (s+3)\n",
      "  -------------\n",
      "  s (s+2) (s+4)\n",
      " \n",
      "Continuous-time zero/pole/gain model.\n",
      "\n"
     ]
    }
   ],
   "source": [
    "set(G,'inputname','Voltage','outputname','Angular Position');\n",
    "G"
   ]
  },
  {
   "cell_type": "markdown",
   "metadata": {},
   "source": [
    " Such documentary information is probably best added when the LTI system object is created, for example as: "
   ]
  },
  {
   "cell_type": "code",
   "execution_count": 10,
   "metadata": {},
   "outputs": [
    {
     "name": "stdout",
     "output_type": "stream",
     "text": [
      "\n",
      "G3 =\n",
      " \n",
      "  From input \"Armature Voltage (V)\" to output \"Load Shaft Position (rad)\":\n",
      "   (s+1) (s+3)\n",
      "  -------------\n",
      "  s (s+2) (s+4)\n",
      " \n",
      "Continuous-time zero/pole/gain model.\n",
      "\n"
     ]
    }
   ],
   "source": [
    "G3=zpk(z,p,K,'inputname','Armature Voltage (V)',... \n",
    "'outputname','Load Shaft Position (rad)',... \n",
    "'notes','An armature voltage controlled servomechanism')"
   ]
  },
  {
   "cell_type": "markdown",
   "metadata": {},
   "source": [
    "Once the LTI object has been documented, the documentation can be extracted using commands like:"
   ]
  },
  {
   "cell_type": "code",
   "execution_count": 11,
   "metadata": {},
   "outputs": [
    {
     "name": "stdout",
     "output_type": "stream",
     "text": [
      "\n",
      "ans =\n",
      "\n",
      "  1x1 cell array\n",
      "\n",
      "    {'An armature voltage controlled servomechanism'}\n",
      "\n"
     ]
    }
   ],
   "source": [
    "get(G3,'notes')"
   ]
  },
  {
   "cell_type": "markdown",
   "metadata": {},
   "source": [
    "All the documentation available on an LTI system object may be extracted with a single command:"
   ]
  },
  {
   "cell_type": "code",
   "execution_count": 12,
   "metadata": {},
   "outputs": [
    {
     "name": "stdout",
     "output_type": "stream",
     "text": [
      "                Z: {[2x1 double]}\n",
      "                P: {[3x1 double]}\n",
      "                K: 1\n",
      "    DisplayFormat: 'roots'\n",
      "         Variable: 's'\n",
      "          IODelay: 0\n",
      "       InputDelay: 0\n",
      "      OutputDelay: 0\n",
      "               Ts: 0\n",
      "         TimeUnit: 'seconds'\n",
      "        InputName: {'Armature Voltage (V)'}\n",
      "        InputUnit: {''}\n",
      "       InputGroup: [1x1 struct]\n",
      "       OutputName: {'Load Shaft Position (rad)'}\n",
      "       OutputUnit: {''}\n",
      "      OutputGroup: [1x1 struct]\n",
      "            Notes: {'An armature voltage controlled servomechanism'}\n",
      "         UserData: []\n",
      "             Name: ''\n",
      "     SamplingGrid: [1x1 struct]\n",
      "\n"
     ]
    }
   ],
   "source": [
    "get(G3)"
   ]
  },
  {
   "cell_type": "markdown",
   "metadata": {},
   "source": [
    "There are numerous other documentation features provided for LTI system objects. Please consult the on-line help for [set](https://uk.mathworks.com/help/control/ref/set.html) and [get](https://uk.mathworks.com/help/control/ref/get.html) for full details.\n",
    "\n",
    "## System Transformations\n",
    "\n",
    "MATLAB supports the easy transformation of LTI system objects between expanded and factored forms<sup>[1](#fn2)</sup>. For example to convert a transfer function from 'expanded' form to pole-zero-gain form the following command is used:"
   ]
  },
  {
   "cell_type": "code",
   "execution_count": 13,
   "metadata": {},
   "outputs": [
    {
     "name": "stdout",
     "output_type": "stream",
     "text": [
      "\n",
      "G4 =\n",
      " \n",
      "   (s+3) (s+1)\n",
      "  -------------\n",
      "  s (s+4) (s+2)\n",
      " \n",
      "Continuous-time zero/pole/gain model.\n",
      "\n"
     ]
    }
   ],
   "source": [
    "G4 = zpk(G2)"
   ]
  },
  {
   "cell_type": "markdown",
   "metadata": {},
   "source": [
    "To convert from zero-pole-gain form to expanded form we use the function `tf`:"
   ]
  },
  {
   "cell_type": "code",
   "execution_count": 14,
   "metadata": {},
   "outputs": [
    {
     "name": "stdout",
     "output_type": "stream",
     "text": [
      "\n",
      "G5 =\n",
      " \n",
      "  From input \"Voltage\" to output \"Angular Position\":\n",
      "    s^2 + 4 s + 3\n",
      "  -----------------\n",
      "  s^3 + 6 s^2 + 8 s\n",
      " \n",
      "Continuous-time transfer function.\n",
      "\n"
     ]
    }
   ],
   "source": [
    "G5 = tf(G)"
   ]
  },
  {
   "cell_type": "markdown",
   "metadata": {},
   "source": [
    "Please note that these transformations are merely a convenience that allow you to work with your preferred form of representation. Most of the tools that deal with LTI system objects will work with any form<sup>[2](#fn1)</sup>.\n",
    "\n",
    "## Combining LTI System Objects\n",
    "\n",
    "A powerful feature of the LTI system object representation is the ease with which LTI objects can be combined. For example, suppose we have two transfer functions\n",
    "\n",
    "$$G_1(s)=\\frac{s+1}{s+3}$$\n",
    "\n",
    "and\n",
    "\n",
    "$$G_2(s)=\\frac{10}{s(s+2)}$$\n",
    "\n",
    "then the series combination of the two transfer functions $G_s(s) = G_1(s)G_2(s)$ is obtained using the \"`*`\" (multiplication) operator:"
   ]
  },
  {
   "cell_type": "code",
   "execution_count": 15,
   "metadata": {},
   "outputs": [
    {
     "name": "stdout",
     "output_type": "stream",
     "text": [
      "\n",
      "Gs =\n",
      " \n",
      "      10 s + 10\n",
      "  -----------------\n",
      "  s^3 + 5 s^2 + 6 s\n",
      " \n",
      "Continuous-time transfer function.\n",
      "\n"
     ]
    }
   ],
   "source": [
    "G1=tf([1 1],[1 3]);\n",
    "G2=tf(10,conv([1 0],[1 2])); % conv is polynomial multiplication\n",
    "Gs=G1*G2 % series connection of two sys objects"
   ]
  },
  {
   "cell_type": "markdown",
   "metadata": {},
   "source": [
    "The parallel connection of two LTI system objects corresponds to addition $G_p=G_1(s)+G_2(s)$:"
   ]
  },
  {
   "cell_type": "code",
   "execution_count": 16,
   "metadata": {},
   "outputs": [
    {
     "name": "stdout",
     "output_type": "stream",
     "text": [
      "\n",
      "Gp =\n",
      " \n",
      "  s^3 + 3 s^2 + 12 s + 30\n",
      "  -----------------------\n",
      "     s^3 + 5 s^2 + 6 s\n",
      " \n",
      "Continuous-time transfer function.\n",
      "\n"
     ]
    }
   ],
   "source": [
    "Gp = G1 + G2"
   ]
  },
  {
   "cell_type": "markdown",
   "metadata": {},
   "source": [
    "The feedback connection of two LTI system objects is also supported. The function `feedback` is used for this. \n",
    "\n",
    "Let\n",
    "\n",
    "$$G(s)=\\frac{2s^2 + 5s + 1}{s^2 + 2s + 3}$$ \n",
    "\n",
    "be the forward transfer function of a closed-loop system and \n",
    "\n",
    "$$H(s) = \\frac{5(s+2)}{(s+10)}$$\n",
    "\n",
    "be the feedback network. Then the closed-loop transfer function<sup>[3](#fn3)</sup> is \n",
    "\n",
    "$$G_{c}(s)=\\frac{G(s)}{1 + G(s)H(s)}.$$\n",
    "\n",
    "In MATLAB: "
   ]
  },
  {
   "cell_type": "code",
   "execution_count": 17,
   "metadata": {},
   "outputs": [
    {
     "name": "stdout",
     "output_type": "stream",
     "text": [
      "\n",
      "Gc =\n",
      " \n",
      "  From input \"torque\" to output \"velocity\":\n",
      "  0.18182 (s+10) (s+2.281) (s+0.2192)\n",
      "  -----------------------------------\n",
      "   (s+3.419) (s^2 + 1.763s + 1.064)\n",
      " \n",
      "Continuous-time zero/pole/gain model.\n",
      "\n"
     ]
    }
   ],
   "source": [
    "G = tf([2 5 1],[1 2 3],'inputname','torque',...\n",
    "'outputname','velocity');\n",
    "H = zpk(-2,-10,5);\n",
    "Gc = feedback(G,H) % negative feedback assumed"
   ]
  },
  {
   "cell_type": "markdown",
   "metadata": {},
   "source": [
    "## The Analysis of LTI System Objects\n",
    "\n",
    "MATLAB uses the LTI system objects as parameters for the analysis tools such as `impulse`, `step`, `nyquist`, `bode`, `nichols` and `rlocus`. \n",
    "\n",
    "As an example of their use try: "
   ]
  },
  {
   "cell_type": "code",
   "execution_count": 18,
   "metadata": {},
   "outputs": [
    {
     "data": {
      "image/png": "[encoded data removed]",
      "text/plain": [
       "<IPython.core.display.Image object>"
      ]
     },
     "metadata": {},
     "output_type": "display_data"
    }
   ],
   "source": [
    "rlocus(G*H) % root locus "
   ]
  },
  {
   "cell_type": "code",
   "execution_count": 19,
   "metadata": {},
   "outputs": [
    {
     "data": {
      "image/png": "[encoded data removed]",
      "text/plain": [
       "<IPython.core.display.Image object>"
      ]
     },
     "metadata": {},
     "output_type": "display_data"
    }
   ],
   "source": [
    "bode(G*H)% open-loop frequency response "
   ]
  },
  {
   "cell_type": "code",
   "execution_count": 20,
   "metadata": {},
   "outputs": [
    {
     "data": {
      "image/png": "[encoded data removed]",
      "text/plain": [
       "<IPython.core.display.Image object>"
      ]
     },
     "metadata": {},
     "output_type": "display_data"
    }
   ],
   "source": [
    "step(Gc) % closed-loop step response"
   ]
  },
  {
   "cell_type": "code",
   "execution_count": 21,
   "metadata": {},
   "outputs": [
    {
     "data": {
      "image/png": "[encoded data removed]",
      "text/plain": [
       "<IPython.core.display.Image object>"
      ]
     },
     "metadata": {},
     "output_type": "display_data"
    }
   ],
   "source": [
    "bode(Gc) % closed-loop frequency response"
   ]
  },
  {
   "cell_type": "markdown",
   "metadata": {},
   "source": [
    "Matlab also provides two interactive graphical tools that work with LTI system objects.\n",
    "\n",
    "* `linearSystemAnalyzer` is a graphical tool that can be used to analyze\n",
    "systems defined by LTI objects. It provides easy access to LTI objects\n",
    "and time and frequency response analysis tools.\n",
    "* `controlSystemDesigner` is an interactive tool for designing controllers."
   ]
  },
  {
   "cell_type": "markdown",
   "metadata": {},
   "source": [
    "You are encouraged to experiment with these tools."
   ]
  },
  {
   "cell_type": "markdown",
   "metadata": {},
   "source": [
    "## Partial Fraction Expansions\n",
    "\n",
    "MATLAB provides a command called `residue` that returns the partial fraction expansion of a transfer function. That is, given \n",
    "\n",
    "$$G(s) = \\frac{s^m + b_{m–1}s^{m–1} + \\cdots + b_1 s + b_0}{s^n + a_{n–1}s^{n–1} + \\cdots + a_1 s + a_0}$$\n",
    "it returns \n",
    "\n",
    "$$\\frac{R_1}{s + p_1} + \\frac{R_2}{s + p_2} + \\cdots \\frac{R_n}{s + p_n} + K(s)$$\n",
    "\n",
    "where $p_i$ are the poles of the transfer function, $r_i$ are the coefficients of the partial fraction terms (called the *residues* of the poles) and $K(s)$ is a remainder polynomial which is usually empty. \n",
    "\n",
    "To use this, the starting point must (rather perversely) be the expanded form of the transfer function in polynomial form. Thus given \n",
    "\n",
    "$$C(s) = \\frac{5(s + 2)}{s(s + 3)(s + 10)}$$ \n",
    "\n",
    "we obtain the partial fraction expansion using the MATLAB command sequence:"
   ]
  },
  {
   "cell_type": "code",
   "execution_count": 22,
   "metadata": {},
   "outputs": [
    {
     "name": "stdout",
     "output_type": "stream",
     "text": [
      "\n",
      "num =\n",
      "\n",
      "     0     0     5    10\n",
      "\n",
      "\n",
      "den =\n",
      "\n",
      "     1    13    30     0\n",
      "\n"
     ]
    }
   ],
   "source": [
    "k = 5; z = [-2]; p = [0; -3; -10]; % zero-pole-gain form \n",
    "C = zpk(z,p,k); \n",
    "[num,den] = tfdata(C,'v')"
   ]
  },
  {
   "cell_type": "markdown",
   "metadata": {},
   "source": [
    "(Note that the leading terms in `num` *are* zero). "
   ]
  },
  {
   "cell_type": "code",
   "execution_count": 23,
   "metadata": {},
   "outputs": [
    {
     "name": "stdout",
     "output_type": "stream",
     "text": [
      "\n",
      "r =\n",
      "\n",
      "   -0.5714\n",
      "    0.2381\n",
      "    0.3333\n",
      "\n",
      "\n",
      "p =\n",
      "\n",
      "   -10\n",
      "    -3\n",
      "     0\n",
      "\n",
      "\n",
      "k =\n",
      "\n",
      "     []\n",
      "\n"
     ]
    }
   ],
   "source": [
    "[r,p,k] = residue(num,den)"
   ]
  },
  {
   "cell_type": "markdown",
   "metadata": {},
   "source": [
    "which we interpret to mean \n",
    "\n",
    "$$C(s) = \\frac{0.3333}{s} + \\frac{0.2381}{s + 3} - \\frac{0.5714}{s + 5}.$$\n",
    "\n",
    "If $C(s)$ represents the step response of the system \n",
    "\n",
    "$$G(s) = \\frac{5(s + 2)}{(s + 3)(s + 10)}$$\n",
    "\n",
    "then the step response is, by inspection, \n",
    "\n",
    "$$c(t) = 0.3333\\epsilon(t) + 0.2381 e^{-3t} - 0.5714 e^{-10t}.$$\n",
    "\n",
    "You can check this with the command:"
   ]
  },
  {
   "cell_type": "code",
   "execution_count": 24,
   "metadata": {},
   "outputs": [
    {
     "name": "stdout",
     "output_type": "stream",
     "text": [
      "\n",
      "newC =\n",
      " \n",
      "     5 s + 10\n",
      "  ---------------\n",
      "  s^2 + 13 s + 30\n",
      " \n",
      "Continuous-time transfer function.\n",
      "\n"
     ]
    },
    {
     "data": {
      "image/png": "[encoded data removed]",
      "text/plain": [
       "<IPython.core.display.Image object>"
      ]
     },
     "metadata": {},
     "output_type": "display_data"
    }
   ],
   "source": [
    "newC = tf([5, 10],[1, 13, 30])\n",
    "step(newC)"
   ]
  },
  {
   "cell_type": "markdown",
   "metadata": {},
   "source": [
    "(where the $1/s$ term has been eliminated because `step` provides the forcing function itself). This should give exactly the same results as:"
   ]
  },
  {
   "cell_type": "code",
   "execution_count": 25,
   "metadata": {},
   "outputs": [
    {
     "data": {
      "image/png": "[encoded data removed]",
      "text/plain": [
       "<IPython.core.display.Image object>"
      ]
     },
     "metadata": {},
     "output_type": "display_data"
    }
   ],
   "source": [
    "t = 0:.05:1.5; % time vector \n",
    "c = 0.3333 + 0.2381 * exp(-3*t) - 0.5714 * exp(-10*t);\n",
    "plot(t,c),...\n",
    "title('Step response'),...\n",
    "xlabel('Time (seconds)'),...\n",
    "ylabel('Amplitude'),...\n",
    "grid"
   ]
  },
  {
   "cell_type": "markdown",
   "metadata": {},
   "source": [
    "## Read More\n",
    "\n",
    "The Mathworks official documentation on LTI Objects is [Linear (LTI) Models](https://uk.mathworks.com/help/control/getstart/linear-lti-models.html)."
   ]
  },
  {
   "cell_type": "markdown",
   "metadata": {},
   "source": [
    "## Footnotes\n",
    "\n",
    "1. <div id=\"fb2\">You can also convert to and from state-space forms.</div>\n",
    "2. <div id=\"fn1\">This is the most significant change from version 4 of MATLAB. There were, for example several forms of the function for obtaining step-responses (`step(num,den)`, `step(A,B,C,D)`) now there is just one `step(sys)`. \n",
    "3. <div id=\"fn3\">Assuming negative feedback.</div>"
   ]
  }
 ],
 "metadata": {
  "kernelspec": {
   "display_name": "Matlab",
   "language": "matlab",
   "name": "matlab"
  },
  "language_info": {
   "codemirror_mode": "octave",
   "file_extension": ".m",
   "help_links": [
    {
     "text": "MetaKernel Magics",
     "url": "https://github.com/calysto/metakernel/blob/master/metakernel/magics/README.md"
    }
   ],
   "mimetype": "text/x-octave",
   "name": "matlab",
   "version": "0.15.2"
  }
 },
 "nbformat": 4,
 "nbformat_minor": 2
}
