{
 "cells": [
  {
   "cell_type": "markdown",
   "metadata": {
    "slideshow": {
     "slide_type": "slide"
    }
   },
   "source": [
    "# State-Feedback Control\n",
    "\n",
    "One of the advantages of state space models is that it is possible to apply state feedback to place the closed loop poles into any desired positions."
   ]
  },
  {
   "cell_type": "markdown",
   "metadata": {
    "slideshow": {
     "slide_type": "subslide"
    }
   },
   "source": [
    "## State Space Design Methodology"
   ]
  },
  {
   "cell_type": "markdown",
   "metadata": {
    "slideshow": {
     "slide_type": "fragment"
    }
   },
   "source": [
    "1.  Design control law to place closed loop poles where desired"
   ]
  },
  {
   "cell_type": "markdown",
   "metadata": {
    "slideshow": {
     "slide_type": "fragment"
    }
   },
   "source": [
    "2.  If full state not available for feedback, then design an *Observer* to compute the states from the system output"
   ]
  },
  {
   "cell_type": "markdown",
   "metadata": {
    "slideshow": {
     "slide_type": "fragment"
    }
   },
   "source": [
    "3.  Combine *Observer* and *Controller* -- this takes the place of the *Classical Compensator*"
   ]
  },
  {
   "cell_type": "markdown",
   "metadata": {
    "slideshow": {
     "slide_type": "subslide"
    }
   },
   "source": [
    "4.  Introduce the *Reference Input* -- affects the closed loop zeros but not the poles making it possible to improve the transient response and tracking accuracy"
   ]
  },
  {
   "cell_type": "markdown",
   "metadata": {
    "slideshow": {
     "slide_type": "subslide"
    }
   },
   "source": [
    "## State Feedback Compensator\n",
    "\n",
    "![State Feedback Compensator](pictures/statefb.png)"
   ]
  },
  {
   "cell_type": "markdown",
   "metadata": {
    "slideshow": {
     "slide_type": "slide"
    }
   },
   "source": [
    "## This Section"
   ]
  },
  {
   "cell_type": "markdown",
   "metadata": {
    "slideshow": {
     "slide_type": "fragment"
    }
   },
   "source": [
    "-   Finding the control law"
   ]
  },
  {
   "cell_type": "markdown",
   "metadata": {
    "slideshow": {
     "slide_type": "fragment"
    }
   },
   "source": [
    "-   State feedback for controller canonical form"
   ]
  },
  {
   "cell_type": "markdown",
   "metadata": {
    "slideshow": {
     "slide_type": "fragment"
    }
   },
   "source": [
    "-   Transfer function model"
   ]
  },
  {
   "cell_type": "markdown",
   "metadata": {
    "slideshow": {
     "slide_type": "fragment"
    }
   },
   "source": [
    "-   Ackermann's formula"
   ]
  },
  {
   "cell_type": "markdown",
   "metadata": {
    "slideshow": {
     "slide_type": "fragment"
    }
   },
   "source": [
    "-   Pole-selection for good design"
   ]
  },
  {
   "cell_type": "markdown",
   "metadata": {
    "slideshow": {
     "slide_type": "slide"
    }
   },
   "source": [
    "### Additional Materials\n",
    "\n",
    "Not examined"
   ]
  },
  {
   "cell_type": "markdown",
   "metadata": {
    "slideshow": {
     "slide_type": "fragment"
    }
   },
   "source": [
    "-   Effect of state feedback on closed-loop zeros"
   ]
  },
  {
   "cell_type": "markdown",
   "metadata": {
    "slideshow": {
     "slide_type": "fragment"
    }
   },
   "source": [
    "-   Effect of plant zeros on the feedback gains"
   ]
  },
  {
   "cell_type": "markdown",
   "metadata": {
    "slideshow": {
     "slide_type": "slide"
    }
   },
   "source": [
    "## Finding the Control Law "
   ]
  },
  {
   "cell_type": "markdown",
   "metadata": {
    "slideshow": {
     "slide_type": "notes"
    }
   },
   "source": [
    "We shall only consider SISO systems here."
   ]
  },
  {
   "cell_type": "markdown",
   "metadata": {
    "slideshow": {
     "slide_type": "fragment"
    }
   },
   "source": [
    "Let the input to the plant, $u$ be derived from the reference input $r$, and the states, $\\mathbf{x}$, as follows:\n",
    "\n",
    "$$u=r-\\mathbf{Kx}=r-(k_1x_1+k_2x_2+\\cdots k_nx_n)$$ "
   ]
  },
  {
   "cell_type": "markdown",
   "metadata": {
    "slideshow": {
     "slide_type": "subslide"
    }
   },
   "source": [
    "Thus:\n",
    "\n",
    "$$\\begin{eqnarray*}\n",
    "\t\\dot{\\mathbf{x}} & = & \\mathbf{Ax}+\\mathbf{B}u \\\\\n",
    "\t                 & = & \\mathbf{Ax}+\\mathbf{B}(r - \\mathbf{Kx}) \\\\\n",
    "\t                 & = & (\\mathbf{A}-\\mathbf{BK})\\mathbf{x}+\\mathbf{B}r \\\\\t\\end{eqnarray*}$$"
   ]
  },
  {
   "cell_type": "markdown",
   "metadata": {
    "slideshow": {
     "slide_type": "subslide"
    }
   },
   "source": [
    "The state matrix for the closed loop system with input, $r$, is: $\\mathbf{A}-\\mathbf{BK}$."
   ]
  },
  {
   "cell_type": "markdown",
   "metadata": {
    "slideshow": {
     "slide_type": "fragment"
    }
   },
   "source": [
    "Taking Laplace Transforms (ignoring initial conditions) gives:\n",
    "\n",
    "$$s\\mathbf{X}(s) = (\\mathbf{A}-\\mathbf{BK})\\mathbf{X}(s) + \\mathbf{B}R(s)$$"
   ]
  },
  {
   "cell_type": "markdown",
   "metadata": {
    "slideshow": {
     "slide_type": "fragment"
    }
   },
   "source": [
    "Therefore\n",
    "\n",
    "$$(s\\mathbf{I}-\\mathbf{A}+\\mathbf{BK})\\mathbf{X}(s) = \\mathbf{B}R(s).$$"
   ]
  },
  {
   "cell_type": "markdown",
   "metadata": {
    "slideshow": {
     "slide_type": "subslide"
    }
   },
   "source": [
    "The closed loop poles are the roots of $s$ in the Characteristic\n",
    "Equation (CE): \n",
    "\n",
    "$$\\begin{equation}\n",
    "\t\\det\\left[s\\mathbf{I}-\\mathbf{A}+\\mathbf{BK}\\right]=0\\end{equation}$$"
   ]
  },
  {
   "cell_type": "markdown",
   "metadata": {
    "slideshow": {
     "slide_type": "subslide"
    }
   },
   "source": [
    "Suppose the desired closed loop poles are to be at $p_1$, $p_2$, $\\cdots$, $p_n$, then the desired CE is: \n",
    "\n",
    "$$\\begin{equation}\n",
    "\t\\alpha_c(s) = (s-p_1)(s-p_2)\\cdots(s-p_n)=0\\end{equation}$$"
   ]
  },
  {
   "cell_type": "markdown",
   "metadata": {
    "slideshow": {
     "slide_type": "subslide"
    }
   },
   "source": [
    "Equation (2) is multiplied out to a polynomial in $s$."
   ]
  },
  {
   "cell_type": "markdown",
   "metadata": {
    "slideshow": {
     "slide_type": "fragment"
    }
   },
   "source": [
    "This leads to a set of linear equations in the $k$'s which can always be solved to give the required feedback control law, for whatever closed loop pole locations are given."
   ]
  },
  {
   "cell_type": "markdown",
   "metadata": {
    "slideshow": {
     "slide_type": "fragment"
    }
   },
   "source": [
    "Finally, we need to find the $k$ coefficients in $\\mathbf{K}$ such that the polynomials in equations (1) and (2) above have matching coefficients in each power of $s$."
   ]
  },
  {
   "cell_type": "markdown",
   "metadata": {
    "slideshow": {
     "slide_type": "subslide"
    }
   },
   "source": [
    "This leads to a set of linear equations in the $k$'s which can always be solved to give the required feedback control law, for whatever closed loop pole locations are given."
   ]
  },
  {
   "cell_type": "markdown",
   "metadata": {
    "slideshow": {
     "slide_type": "fragment"
    }
   },
   "source": [
    "### Example 1\n",
    "\n",
    "Will be done in class."
   ]
  },
  {
   "cell_type": "markdown",
   "metadata": {
    "slideshow": {
     "slide_type": "subslide"
    }
   },
   "source": [
    "**Problem**: Given, \n",
    "\n",
    "$${\\bf{\\dot x}} = \\left[ {\\begin{array}{*{20}c}\n",
    "   { - 4} & 0  \\\\\n",
    "   0 & { - 11}  \\\\\n",
    "\\end{array}} \\right]{\\bf{x}} + \\left[ {\\begin{array}{*{20}c}\n",
    "   1  \\\\\n",
    "   { - 1}  \\\\\n",
    "\\end{array}} \\right]u$$ \n",
    "\n",
    "find the feedback control law which places the closed-loop poles at: $-10\\pm j10$."
   ]
  },
  {
   "cell_type": "markdown",
   "metadata": {
    "slideshow": {
     "slide_type": "subslide"
    }
   },
   "source": [
    "**SOLUTION**: \n",
    "\n",
    "$$\\begin{eqnarray*}\n",
    "    0 & = & \\det \\left[ {s{\\bf{I}} - {\\bf{A}} + {\\bf{BK}}} \\right] = \\det \\left\\{ {\\left. {\\left[ {\\begin{array}{*{20}c}\n",
    "       {s + 4} & 0  \\\\\n",
    "       0 & {s + 11}  \\\\\n",
    "    \\end{array}} \\right] + \\left[ {\\begin{array}{*{20}c}\n",
    "       1  \\\\\n",
    "       { - 1}  \\\\\n",
    "    \\end{array}} \\right]\\left[ {\\begin{array}{*{20}c}\n",
    "       {k_1 } & {k_2 }  \\\\\n",
    "    \\end{array}} \\right]} \\right\\}} \\right. \\\\\n",
    "    0 & = & \\det \\left[ {\\begin{array}{*{20}c}\n",
    "       {s + 4 + k_1 } & {k_2 }  \\\\\n",
    "       { - k_1 } & {s + 11 - k_2 }  \\\\\n",
    "    \\end{array}} \\right] \\\\\n",
    "    0 & = & (s + 4 + k_1 )(s + 11 - k_2 ) - (k_2 )( - k_1 ) \\\\\n",
    "    0 & = & (s+4+k_1)(s+11-k_2)+k_1k_2\\end{eqnarray*}$$ \n",
    " \n",
    "$$\\begin{equation}\n",
    "    s^2+(15+k_1-k_2)s+(44+11k_1-4k_2)=0\\end{equation}$$\n",
    "\n",
    "Now the desired CE is: $$\\alpha_c(s)=(s+10-j10)(s+10+j10) = 0$$\n",
    "\n",
    "$$\\begin{equation}\n",
    "    s^2+20s+200=0\\end{equation}$$\n",
    "\n",
    "Therefore matching coefficients in Eqs. (3) and (4):\n",
    "\n",
    "$$\\begin{array}{c}\n",
    " s^2 :1 = 1 \\to {\\rm{OK}} \\\\\n",
    " s^1 :15 + k_1  - k_2  = 20 \\to k_1  - k_2  = 5 \\\\\n",
    " s^0 :44 + 11k_1  - 4k_2  = 200 \\to 11k_1  - 4k_2  = 156 \\\\\n",
    " \\end{array}$$\n",
    "\n",
    "Solving for the $k$'s: \n",
    "\n",
    "$$\\left[ {\\begin{array}{*{20}c}\n",
    "   1 & { - 1}  \\\\\n",
    "   {11} & { - 4}  \\\\\n",
    "\\end{array}} \\right]\\left[ {\\begin{array}{*{20}c}\n",
    "   {k_1 }  \\\\\n",
    "   {k_2 }  \\\\\n",
    "\\end{array}} \\right] = \\left[ {\\begin{array}{*{20}c}\n",
    "   5  \\\\\n",
    "   {156}  \\\\\n",
    "\\end{array}} \\right]$$ $$\\left[ {\\begin{array}{*{20}c}\n",
    "   {k_1 }  \\\\\n",
    "   {k_2 }  \\\\\n",
    "\\end{array}} \\right] = \\frac{1}{ - 4 + 11}\\left[ {\\begin{array}{*{20}c}\n",
    "   { - 4} & 1  \\\\\n",
    "   { - 11} & 1  \\\\\n",
    "\\end{array}} \\right]\\left[ {\\begin{array}{*{20}c}\n",
    "   5  \\\\\n",
    "   {156}  \\\\\n",
    "\\end{array}} \\right] = \\frac{1}{7}\\left[ {\\begin{array}{*{20}c}\n",
    "   {136}  \\\\\n",
    "   {101}  \\\\\n",
    "\\end{array}} \\right] = \\left[ {\\begin{array}{*{20}c}\n",
    "   {19.429}  \\\\\n",
    "   {14.429}  \\\\\n",
    "\\end{array}} \\right]$$\n",
    "\n",
    "Therefore the required feedback control law is:\n",
    "\n",
    "$$u = r - \\left[ {\\begin{array}{*{20}c}\n",
    "   {19.429} & {14.429}  \\\\\n",
    "\\end{array}} \\right]{\\bf{x}}$$\n",
    "\n",
    "**COMMENT** This matching of coefficients can always be done, though it\n",
    "is tedious for $n>3$, **EXCEPT** in the case of the *Control Canonical\n",
    "Form*."
   ]
  },
  {
   "cell_type": "markdown",
   "metadata": {
    "slideshow": {
     "slide_type": "slide"
    }
   },
   "source": [
    "## State Feedback in the Case of the Control Canonical Form \n",
    "\n",
    "In the control canonical form we have matrices:\n",
    "$${\\bf{A}} = \\left[ {\\begin{array}{*{20}c}\n",
    "   { - a_1 } & { - a_2 } &  \\cdots  & { - a_n }  \\\\\n",
    "   1 & 0 &  \\cdots  & 0  \\\\\n",
    "   0 &  \\ddots  &  \\cdots  &  \\vdots   \\\\\n",
    "   0 & 0 &  \\cdots  & 0  \\\\\n",
    "\\end{array}} \\right];\\quad {\\bf{B}} = \\left[ {\\begin{array}{*{20}c}\n",
    "   1  \\\\\n",
    "   0  \\\\\n",
    "    \\vdots   \\\\\n",
    "   0  \\\\\n",
    "\\end{array}} \\right]$$ with open loop CE:\n",
    "\n",
    "$$\\det(s\\mathbf{I}-\\mathbf{A})=s^n+a_1s^{n-1}+\\cdots+a_n=0.$$"
   ]
  },
  {
   "cell_type": "markdown",
   "metadata": {
    "slideshow": {
     "slide_type": "subslide"
    }
   },
   "source": [
    "Feedback results in the closed loop CE:\n",
    "\n",
    "$$\\det(s\\mathbf{I}-\\mathbf{A}+\\mathbf{BK}) = 0$$ \n",
    "\n",
    "where:\n",
    "\n",
    "$${\\bf{A}} - {\\bf{BK}}  =  {\\bf{A}} - \\left[ {\\begin{array}{*{20}c}\n",
    "\t   1  \\\\\n",
    "\t   0  \\\\\n",
    "\t    \\vdots   \\\\\n",
    "\t   0  \\\\\n",
    "\t\\end{array}} \\right]\\left[ {\\begin{array}{*{20}c}\n",
    "\t   {k_1 } & {k_2 } &  \\cdots  & {k_n }  \\\\\n",
    "\t\\end{array}} \\right]$$"
   ]
  },
  {
   "cell_type": "markdown",
   "metadata": {
    "slideshow": {
     "slide_type": "subslide"
    }
   },
   "source": [
    "$${\\bf{A}} - {\\bf{BK}}  =  \\left[ {\\begin{array}{*{20}c}\n",
    "\t   {( - a_1  - k_1 )} & {( - a_2  - k_2 )} &  \\cdots  & {( - a_n  - k_n )}  \\\\\n",
    "\t   1 & 0 &  \\cdots  &  \\vdots   \\\\\n",
    "\t    \\vdots  &  \\ddots  &  \\cdots  &  \\vdots   \\\\\n",
    "\t   0 & 0 &  \\cdots  & 0  \\\\\n",
    "\t\\end{array}} \\right]$$ \n",
    "\n",
    "therefore \n",
    "\n",
    "$$\\begin{equation}\n",
    "\t\\det(s\\mathbf{I}-\\mathbf{A}+\\mathbf{BK}) = s^n + ( - a_1  - k_1 )s^{n-1} + ( - a_2  - k_2 )s^{n-2} + \\cdots +  ( - a_n  - k_n ) = 0.\\end{equation}$$\n",
    "\n",
    "Suppose the desired CE is: \n",
    "\n",
    "$$\\begin{eqnarray}\n",
    "\t\\alpha_c(s) & = & (s-p_1)(s-p_2)\\cdots(s-p_n)=0 \\nonumber \\\\\n",
    "\t\\alpha_c(s) & = & s^n + \\alpha_1s^{n-1} + \\alpha_2s^{n-2} + \\cdots + \\alpha_n = 0 \\end{eqnarray}$$"
   ]
  },
  {
   "cell_type": "markdown",
   "metadata": {
    "slideshow": {
     "slide_type": "subslide"
    }
   },
   "source": [
    "Matching coefficients in Eqs. (5) and (6) is now simple: \n",
    "\n",
    "$$\\begin{eqnarray*}\n",
    "\ts^{n - 1}  & : & a_1  + k_1  = \\alpha _1  \\to k_1  = \\alpha _1  - a_1 \\\\\n",
    "\ts^{n - 2}  & : & a_2  + k_2  = \\alpha _2  \\to k_2  = \\alpha _2  - a_2 \\\\\n",
    "\t\\mathrm{etc}  \\\\\n",
    "\ts^{0}  & : & a_n  + k_n  = \\alpha _n  \\to k_n  = \\alpha _n  - a_n\t\t\t\t\n",
    "\\end{eqnarray*}$$"
   ]
  },
  {
   "cell_type": "markdown",
   "metadata": {
    "slideshow": {
     "slide_type": "subslide"
    }
   },
   "source": [
    "### Example 2\n",
    "\n",
    "Solved in class"
   ]
  },
  {
   "cell_type": "markdown",
   "metadata": {
    "slideshow": {
     "slide_type": "subslide"
    }
   },
   "source": [
    "**Problem**: Given the system TF: \n",
    "\n",
    "$$G(s) = \\frac{7}{(s+4)(s+11)}$$ \n",
    "\n",
    "find the control law for the control canonical form which places the closed loop poles at $s=−10\\pm j10$."
   ]
  },
  {
   "cell_type": "markdown",
   "metadata": {
    "slideshow": {
     "slide_type": "notes"
    }
   },
   "source": [
    "**SOLUTION**: $$G(s) = \\frac{7}{(s+4)(s+11)} = \\frac{7}{(s^2+15s+44)}$$\n",
    "\n",
    "The control canonical form has matrices:\n",
    "\n",
    "$${\\bf{A}} = \\left[ {\\begin{array}{*{20}c}\n",
    "   { - 15} & { - 44}  \\\\\n",
    "   1 & 0  \\\\\n",
    "\\end{array}} \\right];\\quad {\\bf{B}} = \\left[ {\\begin{array}{*{20}c}\n",
    "   1  \\\\\n",
    "   0  \\\\\n",
    "\\end{array}} \\right];\\quad {\\bf{C}} = \\left[ {\\begin{array}{*{20}c}\n",
    "   0 & 7  \\\\\n",
    "\\end{array}} \\right];\\quad {\\bf{D}} = 0$$\n",
    "\n",
    "**NB**: $\\mathbf{C}$ is obtained from the TF numerator $(0s+7)$. so:\n",
    "\n",
    "$${\\bf{A}} - {\\bf{BK}} = \\left[ {\\begin{array}{*{20}c}\n",
    "   { - 15 - k_1 } & { - 44 - k_2 }  \\\\\n",
    "   1 & 0  \\\\\n",
    "\\end{array}} \\right]$$ \n",
    "\n",
    "and the closed loop CE is:\n",
    "\n",
    "$$\\begin{equation}\n",
    "s^2+(15+k_1)s+(44+k_2)=0 \n",
    "\\end{equation}$$ \n",
    "\n",
    "The desired CE is:\n",
    "\n",
    "$$\\alpha_c(s)=(s+10-j10)(s+10+j10) = 0$$ \n",
    "\n",
    "$$\\begin{equation}\n",
    "    s^2+20s+200=0\n",
    "\\end{equation}$$\n",
    "\n",
    "Comparing Eqs. (7) and (8) gives: \n",
    "\n",
    "$$15 + k_1  = 20 \\to k_1  = 5$$ \n",
    "\n",
    "and\n",
    "\n",
    "$$44 + k_2  = 200 \\to k_2  = 156$$ \n",
    "\n",
    "giving the control law as:\n",
    "\n",
    "$$u = r - \\left[ {\\begin{array}{*{20}c}\n",
    "   {5} & {156}  \\\\\n",
    "\\end{array}} \\right]{\\bf{x}}$$"
   ]
  },
  {
   "cell_type": "markdown",
   "metadata": {
    "slideshow": {
     "slide_type": "slide"
    }
   },
   "source": [
    "## A Transfer Function Model of State Feedback \n",
    "\n",
    "The last example had a system TF with no zeros. In this case it is easy to construct the equivalent classical controller. We had the feedback law: \n",
    "\n",
    "$$u=r-5x_1-156x_2$$\n",
    "\n",
    "so, taking Laplace transforms:\n",
    "\n",
    "$$U(s) = R(s) - 5X_1(s) - 156X_2(s)$$\n",
    "\n",
    "Now $y=7x_2$ and $\\dot{x}_2=x_1$ therefore $X_2(s)=Y(s)/7$ and $X_1(s)=sX_2(s)=sY(s)/7$. Therefore\n",
    "\n",
    "$$U(s) =  R(s) - \\frac{1}{7}(5s+156)Y(s)$$"
   ]
  },
  {
   "cell_type": "markdown",
   "metadata": {
    "slideshow": {
     "slide_type": "subslide"
    }
   },
   "source": [
    "### Transfer Function Model of State Feedback\n",
    "\n",
    "![Transfer Function Model of State Feedback](pictures/tfmodel.png)\n",
    "\n",
    "**Note**: the DC gain is affected -- this could be compensated for by introducing a gain term in series with input $R$."
   ]
  },
  {
   "cell_type": "markdown",
   "metadata": {
    "slideshow": {
     "slide_type": "slide"
    }
   },
   "source": [
    "## Ackermann's Formula "
   ]
  },
  {
   "cell_type": "markdown",
   "metadata": {
    "slideshow": {
     "slide_type": "subslide"
    }
   },
   "source": [
    "### State Feedback Design for any Form of State Space Model "
   ]
  },
  {
   "cell_type": "markdown",
   "metadata": {
    "slideshow": {
     "slide_type": "fragment"
    }
   },
   "source": [
    "-   As stated previously, the derivation of the feedback law is tedious\n",
    "    for systems of order $n>3$ except in the case of the controller\n",
    "    canonical form."
   ]
  },
  {
   "cell_type": "markdown",
   "metadata": {
    "slideshow": {
     "slide_type": "fragment"
    }
   },
   "source": [
    "-   One approach to the problem is to transform the given model to\n",
    "    controller canonical form, derive the control law in terms of these\n",
    "    states and then transform back to the original system."
   ]
  },
  {
   "cell_type": "markdown",
   "metadata": {
    "slideshow": {
     "slide_type": "fragment"
    }
   },
   "source": [
    "-   Ackermann derived the following formula by this method."
   ]
  },
  {
   "cell_type": "markdown",
   "metadata": {
    "slideshow": {
     "slide_type": "subslide"
    }
   },
   "source": [
    "### The formula \n",
    "\n",
    "State feedback: $u=r-\\mathbf{K}\\mathbf{x}$ will place the closed loop poles at the roots of the desired CE:\n",
    "\n",
    "$$\\alpha_c(s) = s^n + \\alpha_1s^{n-1} + \\cdots + \\alpha_n = 0$$ \n",
    "\n",
    "where the row vector $\\mathbf{K}$ is given by Ackermann's formula:\n",
    "\n",
    "$$\\mathbf{K} = \n",
    "\\left[ {\\begin{array}{*{20}c}\n",
    "   0 &  \\cdots  & 0 & 1  \\\\\n",
    "\\end{array}} \\right]\n",
    "\\mathcal{C}^{-1}\\alpha_c(\\mathbf A)$$"
   ]
  },
  {
   "cell_type": "markdown",
   "metadata": {
    "slideshow": {
     "slide_type": "subslide"
    }
   },
   "source": [
    "### Explanation of the terms\n",
    "\n",
    "$\\mathcal{C}$ is the controllability matrix (see [Section 8.1](../1/obsv_ctrl)):\n",
    "\n",
    "$$\\mathcal{C} = [\\mathbf{B}\\vdots\\mathbf{AB}\\vdots\\cdots\\vdots\\mathbf{A}^{n-1}\\mathbf{B}]$$\n",
    "\n",
    "and\n",
    "\n",
    "$$\\alpha_c(\\mathbf{A})=\\mathbf{A}^n + \\alpha_1\\mathbf{A}^{n-1}+ \\cdots + \\alpha_n\\mathbf{I}$$"
   ]
  },
  {
   "cell_type": "markdown",
   "metadata": {
    "slideshow": {
     "slide_type": "subslide"
    }
   },
   "source": [
    "### Caveats"
   ]
  },
  {
   "cell_type": "markdown",
   "metadata": {
    "slideshow": {
     "slide_type": "fragment"
    }
   },
   "source": [
    "-   The system must be *controllable* for $\\mathcal{C}^{-1}$ to exist."
   ]
  },
  {
   "cell_type": "markdown",
   "metadata": {
    "slideshow": {
     "slide_type": "fragment"
    }
   },
   "source": [
    "-   Ackermann's formula is useful for SISO systems of order $n\\le 10$."
   ]
  },
  {
   "cell_type": "markdown",
   "metadata": {
    "slideshow": {
     "slide_type": "fragment"
    }
   },
   "source": [
    "-   $\\mathcal{C}$ becomes numerically inaccurate for large $n$."
   ]
  },
  {
   "cell_type": "markdown",
   "metadata": {
    "slideshow": {
     "slide_type": "subslide"
    }
   },
   "source": [
    "### MATLAB Function \n",
    "\n",
    "From MATLAB CST, `help acker`: `K = ACKER(A,B,P)` calculates the feedback gain matrix $\\mathbf{K}$ such that the single input system\n",
    "\n",
    "$$\\dot{\\mathbf{x}}=\\mathbf{Ax}+\\mathbf{B}u$$ \n",
    "\n",
    "with a feedback law of $u = -\\mathbf{Kx}$ has closed loop poles at the values specified in vector $\\mathbf{P}$, i.e., `P = eig(A-B*K)`.\n",
    "\n",
    "**Note**: This algorithm uses Ackermann's formula. This method is NOT numerically reliable and starts to break down rapidly for problems of order greater than 10, or for weakly controllable systems. A warning message is printed if the nonzero closed-loop poles are greater than 10% from the desired locations specified in $\\mathbf{P}$."
   ]
  },
  {
   "cell_type": "markdown",
   "metadata": {
    "slideshow": {
     "slide_type": "subslide"
    }
   },
   "source": [
    "### Example 3 \n",
    "\n",
    "For class"
   ]
  },
  {
   "cell_type": "markdown",
   "metadata": {
    "slideshow": {
     "slide_type": "subslide"
    }
   },
   "source": [
    "**Problem**: Given: \n",
    "\n",
    "$${\\bf{A}} = \\left[ {\\begin{array}{*{20}c}\n",
    "   1 & 2  \\\\\n",
    "   { - 1} & 1  \\\\\n",
    "\\end{array}} \\right]\\quad {\\rm{and}}\\quad {\\bf{B}} = \\left[ {\\begin{array}{*{20}c}\n",
    "   1  \\\\\n",
    "   { - 2}  \\\\\n",
    "\\end{array}} \\right]$$ \n",
    "\n",
    "find the feedback vector $\\mathbf{K}$ to place the closed loop poles at $s = -1,\\ -1$ using Ackermann's formula."
   ]
  },
  {
   "cell_type": "markdown",
   "metadata": {
    "slideshow": {
     "slide_type": "notes"
    }
   },
   "source": [
    "**SOLUTION**: \n",
    "\n",
    "$$\\alpha_c(s) = (s + 1)(s + 1) = s^2 + 2s + 1$$ \n",
    "\n",
    "therefore\n",
    "\n",
    "$$\\alpha_c(s) = \\mathbf{A}^2 + 2\\mathbf{A}s + \\mathbf{I}$$\n",
    "\n",
    "$$\\alpha _c ({\\bf{A}}) = \\left[ {\\begin{array}{*{20}c}\n",
    "   { - 1} & 4  \\\\\n",
    "   { - 2} & { - 1}  \\\\\n",
    "\\end{array}} \\right] + 2\\left[ {\\begin{array}{*{20}c}\n",
    "   1 & 2  \\\\\n",
    "   { - 1} & 1  \\\\\n",
    "\\end{array}} \\right] + \\left[ {\\begin{array}{*{20}c}\n",
    "   1 & 0  \\\\\n",
    "   0 & 1  \\\\\n",
    "\\end{array}} \\right] = \\left[ {\\begin{array}{*{20}c}\n",
    "   2 & 8  \\\\\n",
    "   { - 4} & 2  \\\\\n",
    "\\end{array}} \\right]$$\n",
    "\n",
    "$${\\bf{AB}} = \\left[ {\\begin{array}{*{20}c}\n",
    "   { - 3}  \\\\\n",
    "   { - 3}  \\\\\n",
    "\\end{array}} \\right];\\quad \\mathcal{C} = \\left[ {\\bf{B}\\vdots {\\bf{AB}}} \\right] = \\left[ {\\begin{array}{*{20}c}\n",
    "   1 & { - 3}  \\\\\n",
    "   { - 2} & { - 3}  \\\\\n",
    "\\end{array}} \\right]$$\n",
    "\n",
    "$$\\begin{eqnarray*}\n",
    "    {\\bf{K}} & = & \\left[ {\\begin{array}{*{20}c}\n",
    "       0 &  \\cdots  & 0 & 1  \\\\\n",
    "    \\end{array}} \\right]\\mathcal{C}^{ - 1} \\alpha _c ({\\bf{A}}) \\\\\n",
    "    & = & \\left[ {\\begin{array}{*{20}c}\n",
    "       0 & 1  \\\\\n",
    "    \\end{array}} \\right]\\left[ {\\begin{array}{*{20}c}\n",
    "       1 & { - 3}  \\\\\n",
    "       { - 2} & { - 3}  \\\\\n",
    "    \\end{array}} \\right]^{ - 1} \\left[ {\\begin{array}{*{20}c}\n",
    "       2 & 8  \\\\\n",
    "       { - 4} & 2  \\\\\n",
    "    \\end{array}} \\right] \\\\\n",
    "    & = & \\left[ {\\begin{array}{*{20}c}\n",
    "       0 & 1  \\\\\n",
    "    \\end{array}} \\right]\\frac{\\left[ {\\begin{array}{*{20}c}\n",
    "       { -3 } & { 3 }  \\\\\n",
    "       { 2 } & { 1 }  \\\\\n",
    "    \\end{array}} \\right]}{-3-(+6)} \\left[ {\\begin{array}{*{20}c}\n",
    "       2 & 8  \\\\\n",
    "       { - 4} & 2  \\\\\n",
    "    \\end{array}} \\right] \\\\\n",
    "    & = & \\left[ {\\begin{array}{*{20}c}\n",
    "       0 & 1  \\\\\n",
    "    \\end{array}} \\right]\\frac{1}{-9}\\left[ \\begin{array}{*{20}c}\n",
    "       { -18 } & { -18 }  \\\\\n",
    "       { 0 } & { 18 }  \\\\\n",
    "    \\end{array} \\right] \\\\\n",
    "    & = & \\left[ {\\begin{array}{*{20}c}\n",
    "       0 & 1  \\\\\n",
    "    \\end{array}} \\right]\\left[ \\begin{array}{*{20}c}\n",
    "       { 2 } & { 2 }  \\\\\n",
    "       { 0 } & { -2 }  \\\\\n",
    "    \\end{array} \\right] \\\\\n",
    "    & = & \\left[ {\\begin{array}{*{20}c}\n",
    "       0 & -2  \\\\\n",
    "    \\end{array}} \\right]\\end{eqnarray*}$$"
   ]
  },
  {
   "cell_type": "markdown",
   "metadata": {
    "slideshow": {
     "slide_type": "subslide"
    }
   },
   "source": [
    "### Solution in MATLAB \n",
    "\n",
    "Using the formula"
   ]
  },
  {
   "cell_type": "code",
   "execution_count": 4,
   "metadata": {
    "slideshow": {
     "slide_type": "fragment"
    }
   },
   "outputs": [
    {
     "name": "stdout",
     "output_type": "stream",
     "text": [
      "\n",
      "K =\n",
      "\n",
      "     0    -2\n",
      "\n"
     ]
    }
   ],
   "source": [
    "A = [1 2; -1 1]; B = [1; -2];\n",
    "alpha_c = A * A + 2 * A + eye(2);\n",
    "K = [0 1] * inv(ctrb(A, B)) * alpha_c"
   ]
  },
  {
   "cell_type": "markdown",
   "metadata": {
    "slideshow": {
     "slide_type": "subslide"
    }
   },
   "source": [
    "Using the function `acker`"
   ]
  },
  {
   "cell_type": "code",
   "execution_count": 5,
   "metadata": {
    "slideshow": {
     "slide_type": "fragment"
    }
   },
   "outputs": [
    {
     "name": "stdout",
     "output_type": "stream",
     "text": [
      "\n",
      "Ka =\n",
      "\n",
      "     0    -2\n",
      "\n"
     ]
    }
   ],
   "source": [
    "P = [-1, -1]; % vector of desired pole locations\n",
    "Ka = acker(A, B, P)"
   ]
  },
  {
   "cell_type": "markdown",
   "metadata": {
    "slideshow": {
     "slide_type": "slide"
    }
   },
   "source": [
    "## Pole Selection for Good Design \n",
    "\n",
    "Large control gains (large values in $\\mathbf{K}$) are to be avoided since they result in high energy costs and require high power/bandwidth actuators.\n",
    "\n",
    "**A compromise must be achieved between good system response and control\n",
    "effort.**\n",
    "\n",
    "Sensible choices of poles may be obtained from standard tables which optimise the step response in some way.\n",
    "\n",
    "e.g. The **ITAE** (Integral Time and Absolute Error) **poles** are designed to minimise, \n",
    "\n",
    "$$I=\\int_0^\\infty t|\\mathrm{error}| dt$$ \n",
    "\n",
    "These have overshoot. If this is really unacceptable (*e.g.* in machine tools) then Bessel polynomials can be used."
   ]
  },
  {
   "cell_type": "markdown",
   "metadata": {
    "slideshow": {
     "slide_type": "subslide"
    }
   },
   "source": [
    "  | **Order/Type** |       **ITAE**          |      **Bessel**         |\n",
    "  |----------------|-------------------------|-------------------------|\n",
    "  |      1         |        $$s+1$$          |        $$s+1$$          |\n",
    "  |      2         |  $$s^2+\\sqrt{2}s+1$$    |  $$s^2+\\sqrt{3}s+1$$    |\n",
    "  |      3         | $$s^3+1.75s^2+2.15s+1$$ | $$s^3+2.43s^2+2.47s+1$$ |\n",
    "  |     etc        |         etc             |         etc             |\n",
    "\n",
    "The above are normalised to give $\\omega_0=1$ rad/s. To obtain polynomials for $\\omega_0\\ne 1$, replace $s$ in the above with $s/\\omega_0$.\n",
    "\n",
    "E.g. if $\\omega_0=5$, the $2^\\mathrm{nd}$ order ITAE polynomial is: $s^2+5\\sqrt{2}s+25$."
   ]
  },
  {
   "cell_type": "markdown",
   "metadata": {
    "slideshow": {
     "slide_type": "notes"
    }
   },
   "source": [
    "### Comments \n",
    "\n",
    "-   In general the Bessel polynomials have too much damping for normal applications --- it is preferable to use ITAE (or Butterworth) poles if some overshoot is acceptable.\n",
    "\n",
    "-   If zeros are present they tend to \"sharpen up\" the transient response (faster rise times but consequently with more overshoot). In such cases it may be desirable to place a closed loop pole on top of a troublesome zero and work with the reduced order system as above.\n",
    "\n",
    "-   The poles closest to the origin matter most; other poles give rise to shorter-term transients only and may need only to be shifted to a better damped location, if necessary, at a similar frequency (distance from the origin).\n",
    "\n",
    "A most effective technique is to use optimal control to achieve a compromise between control effort, $u$, and error, $e$. i.e. Find the feedback vector $\\mathbf{K}$ such as to minimise,\n",
    "\n",
    "$$J=\\int_0^{\\infty}\\left(e^2+\\frac{u^2}{k}\\right) dt$$ \n",
    "\n",
    "where the choice of the parameter $k$ determines the required compromise between,\n",
    "\n",
    "-   High Accuracy for High Control Effort (use a large value for $k$)\n",
    "\n",
    "-   Lower Accuracy for Reduced Control Effort (use a smaller value for $k$)"
   ]
  },
  {
   "cell_type": "markdown",
   "metadata": {
    "slideshow": {
     "slide_type": "slide"
    }
   },
   "source": [
    "## End of Pre-Class Presentation"
   ]
  },
  {
   "cell_type": "markdown",
   "metadata": {
    "slideshow": {
     "slide_type": "notes"
    }
   },
   "source": [
    "**Non Examined Content**\n",
    "\n",
    "The remainder of this section will not be examined. It is nonetheless important for those of you wishing to implement state-feedbck control."
   ]
  },
  {
   "cell_type": "markdown",
   "metadata": {
    "slideshow": {
     "slide_type": "notes"
    }
   },
   "source": [
    "## Effect of State Feedback on the Closed Loop Zeros\n",
    "\n",
    "Since, \n",
    "\n",
    "$$u = r - \\mathbf{Kx}$$ \n",
    "\n",
    "then the closed-loop system is:\n",
    "\n",
    "$$\\begin{eqnarray*}\n",
    "\t\\dot{\\mathbf{x}} & = & \\mathbf{A}\\mathbf{x}+\\mathbf{B}u;\\ y = \\mathbf{C}\\mathbf{x}+\\mathbf{D}u \\\\\n",
    "\t\\dot{\\mathbf{x}} & = & \\mathbf{A}\\mathbf{x}+\\mathbf{B}(r - \\mathbf{K}\\mathbf{x});\\ y = \\mathbf{C}\\mathbf{x}+\\mathbf{D}(r - \\mathbf{K}\\mathbf{x}) \\\\\n",
    "\t\\dot{\\mathbf{x}} & = & (\\mathbf{A}-\\mathbf{B}\\mathbf{K})\\mathbf{x}+\\mathbf{B}r;\\ y = (\\mathbf{C}-\\mathbf{D}\\mathbf{K})\\mathbf{x}+\\mathbf{D}r \\\\\\end{eqnarray*}$$\n",
    "\n",
    "By analogy with previous work (see [*Some Important Properties*](https://cpjobling.github.io/eglm03-textbook/07/2/tf4ss#some-important-properties), in [Section 7.2](https://cpjobling.github.io/eglm03-textbook/07/2/tf4ss)), the TF from reference input $r$ to output $y$ is:\n",
    "\n",
    "$$\\frac{Y(s)}{R(s)} = \\frac{\\det \\left[ {\\begin{array}{*{20}c}\n",
    "   {(s{\\bf{I}} - {\\bf{A}} + {\\bf{BK}})} & { - {\\bf{B}}}  \\\\\n",
    "   {({\\bf{C}} - {\\bf{DK}})} & {\\bf{D}}  \\\\\n",
    "\\end{array}} \\right]}{\\det (s{\\bf{I}} - {\\bf{A}} + {\\bf{BK}})}$$\n",
    "\n",
    "The closed loop TF zeros are determined by the numerator determinant.\n",
    "\n",
    "Adding $\\mathbf{K}$ times the $2^\\mathrm{nd}$ column to the first cancels terms whilst leaving the determinant unchanged.\n",
    "\n",
    "The new form for the TF is:\n",
    "\n",
    "$$\\frac{Y(s)}{R(s)} = \\frac{\\det \\left[ {\\begin{array}{*{20}c}\n",
    "   {(s{\\bf{I}} - {\\bf{A}})} & { - {\\bf{B}}}  \\\\\n",
    "   {\\bf{C}} & {\\bf{D}}  \\\\\n",
    "\\end{array}} \\right]}{\\det (s{\\bf{I}} - {\\bf{A}} + {\\bf{BK}})}$$\n",
    "\n",
    "Notice now that numerator is identical to that of the open loop TF. This implies that the state feedback control has left the open loop zeros unchanged. The different denominator is due to the feedback action which alters the pole positions as required."
   ]
  },
  {
   "cell_type": "markdown",
   "metadata": {
    "slideshow": {
     "slide_type": "notes"
    }
   },
   "source": [
    "## Effect of Zero Locations on the Feedback Gains \n",
    "\n",
    "When a zero is close to a pole in the TF there is a marked increase in the feedback gains. This effect is best illustrated with an example.\n",
    "\n",
    "Given a system with a TF,\n",
    "\n",
    "$$\\frac{Y(s)}{U(s)}=\\frac{s-z}{s-p}=1+\\frac{p-z}{s-p}$$ \n",
    "\n",
    "find the control law to move the pole to $p_c$.\n",
    "\n",
    "Using the observer canonical form, \n",
    "\n",
    "$$\\dot{x}=px+(p - z)u,\\ y = x + u.$$\n",
    "\n",
    "Design the feedback to move the closed-loop pole to $p_c$. Now,\n",
    "\n",
    "$$\\mathbf{A}=p;\\ \\mathbf{B}=p-z;\\ \\mathbf{K}=k_1.$$ \n",
    "\n",
    "Desired CE polynomial: $\\alpha_c(s)=s-p_c$. Actual CE polynomial: $\\det(s\\mathbf{I}-\\mathbf{A}-\\mathbf{BK}) = s - p + (p - z)k_1.$\n",
    "\n",
    "Comparing the constant: \n",
    "\n",
    "$$\\begin{eqnarray*}\n",
    "\t-p_c & = & -p + (p - z)k_1 \\\\\n",
    "\tk_1 & = & \\frac{p-p_c}{p-z}\\end{eqnarray*}$$\n",
    "\n",
    "Notice that the feedback gain $k_{1}$ is\n",
    "large if:\n",
    "\n",
    "-   the zero is close to the pole: $z\\approx p$\n",
    "\n",
    "-   the closed loop pole $p_c$ is far from $p$"
   ]
  },
  {
   "cell_type": "markdown",
   "metadata": {
    "slideshow": {
     "slide_type": "subslide"
    }
   },
   "source": [
    "### Effect of Zero Locations on the Feedback Gains\n",
    "\n",
    "Large feedback control gains are required if:\n",
    "\n",
    "1.  There exist almost cancelling pole-zero pairs in the open loop TF, making the system almost uncontrollable.\n",
    "\n",
    "    ![Effect of Zero Locations on the Feedback Gains](pictures/zeroloc.png)\n",
    "    \n",
    "    (Notice that in this condition the input $u$ is almost disconnected from the integrator for the state.)"
   ]
  },
  {
   "cell_type": "markdown",
   "metadata": {
    "slideshow": {
     "slide_type": "subslide"
    }
   },
   "source": [
    "2.  One tries to move the poles a long way, ($|p-p_c|$ large).\n",
    "\n",
    "    This imposes a practical limit on how arbitrarily the poles can be placed. You ca\n",
    "    nnot make a slow system fast without using large gains requiring powerful, expensive actuators to force the plant response. Indeed, excessively large forces may destroy the plant."
   ]
  },
  {
   "cell_type": "markdown",
   "metadata": {
    "slideshow": {
     "slide_type": "slide"
    }
   },
   "source": [
    "## Summary\n",
    "\n",
    "-   Finding the control law\n",
    "\n",
    "-   State feedback for controller canonical form\n",
    "\n",
    "-   Transfer function model\n",
    "\n",
    "-   Ackermann's formula\n",
    "\n",
    "-   Pole-selection for good design\n",
    "\n",
    "-   Effect of state feedback on closed-loop zeros\n",
    "\n",
    "-   Effect of plant zeros on the feedback gains"
   ]
  }
 ],
 "metadata": {
  "celltoolbar": "Slideshow",
  "kernelspec": {
   "display_name": "Matlab",
   "language": "matlab",
   "name": "matlab"
  },
  "language_info": {
   "codemirror_mode": "octave",
   "file_extension": ".m",
   "help_links": [
    {
     "text": "MetaKernel Magics",
     "url": "https://github.com/calysto/metakernel/blob/master/metakernel/magics/README.md"
    }
   ],
   "mimetype": "text/x-octave",
   "name": "matlab",
   "version": "0.15.2"
  }
 },
 "nbformat": 4,
 "nbformat_minor": 2
}
