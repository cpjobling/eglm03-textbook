{
 "cells": [
  {
   "cell_type": "markdown",
   "metadata": {
    "slideshow": {
     "slide_type": "slide"
    }
   },
   "source": [
    "# Controllability and Observability"
   ]
  },
  {
   "cell_type": "markdown",
   "metadata": {
    "slideshow": {
     "slide_type": "notes"
    }
   },
   "source": [
    "We now turn our attention to the design of control systems using state space techniques. The idea is that we measure the state of the system in some way and adjust the inputs to modify the state behaviour. However this implies that we can both *observe* the states and *control* them. This section introduces the basic concept of *observability* and *controllability*.\n",
    "\n",
    "## Introduction \n",
    "\n",
    "The development of state space system models led to clarification of the issues of controllability and observability.\n",
    "\n",
    "In classical control system theory, which is based on transfer functions, there is really no equivalent concept."
   ]
  },
  {
   "cell_type": "markdown",
   "metadata": {
    "slideshow": {
     "slide_type": "subslide"
    }
   },
   "source": [
    "## System Partitioning "
   ]
  },
  {
   "cell_type": "markdown",
   "metadata": {
    "slideshow": {
     "slide_type": "notes"
    }
   },
   "source": [
    "Imagine a system with a set of inputs feeding a set of state equations which in turn generate a set of outputs.\n",
    "\n",
    "The state equations may be partitioned into four subsets forming sub-systems, $\\mathbf{S1}$, $\\mathbf{S2}$, $\\mathbf{S3}$ and $\\mathbf{S4}$.\n",
    "\n",
    "(Some of the sets may be empty depending on the extent of the system controllability and/or observability)\n",
    "\n",
    "If a sub-system is connected to the inputs $\\mathbf{u}$ then it is said to be *controllable*. That is, we can control the states of that sub-system from the inputs. Conversely, if there is no connection, then we cannot influence those states from the inputs and the sub-system is *uncontrollable*.\n",
    "\n",
    "Similarly, if a sub-system is connected to the outputs $\\mathbf{y}$ then it is said to be *observable*. That is, we can observe or measure the states of that sub-system from a knowledge of the output values. Conversely, if there is no connection, then there is no information about those states contained in the outputs and the sub-system is *unobservable*."
   ]
  },
  {
   "cell_type": "markdown",
   "metadata": {
    "slideshow": {
     "slide_type": "subslide"
    }
   },
   "source": [
    "### Figure 1: System Partitioning\n",
    "\n",
    "![System Partitioning](pictures/partitioning.png)"
   ]
  },
  {
   "cell_type": "markdown",
   "metadata": {
    "slideshow": {
     "slide_type": "subslide"
    }
   },
   "source": [
    "### Controllabilty and Observability"
   ]
  },
  {
   "cell_type": "markdown",
   "metadata": {
    "slideshow": {
     "slide_type": "fragment"
    }
   },
   "source": [
    "-   If a sub-system is connected to the inputs $\\mathbf{u}$ then it is said to be *controllable*."
   ]
  },
  {
   "cell_type": "markdown",
   "metadata": {
    "slideshow": {
     "slide_type": "fragment"
    }
   },
   "source": [
    "-   If there is no connection the sub-system is *uncontrollable*."
   ]
  },
  {
   "cell_type": "markdown",
   "metadata": {
    "slideshow": {
     "slide_type": "fragment"
    }
   },
   "source": [
    "-   If a sub-system is connected to the outputs $\\mathbf{y}$ then it is said to be *observable*."
   ]
  },
  {
   "cell_type": "markdown",
   "metadata": {
    "slideshow": {
     "slide_type": "fragment"
    }
   },
   "source": [
    "-   If there is no connection the sub-system is *unobservable*."
   ]
  },
  {
   "cell_type": "markdown",
   "metadata": {
    "slideshow": {
     "slide_type": "subslide"
    }
   },
   "source": [
    "### Controllability and observability of the sub-systems \n",
    "\n",
    "  | **Sub-system** | **Controllable?** | **Observable?** |\n",
    "  |----------------|-------------------|-----------------|\n",
    "  |$\\mathbf{S}_1$  |       Yes         |      No         |\n",
    "  |$\\mathbf{S}_2$  |       Yes         |      Yes        |\n",
    "  |$\\mathbf{S}_3$  |       No          |      Yes        |\n",
    "  |$\\mathbf{S}_4$  |       No          |      No         |\n",
    "   "
   ]
  },
  {
   "cell_type": "markdown",
   "metadata": {
    "slideshow": {
     "slide_type": "notes"
    }
   },
   "source": [
    "If sub-sets $\\mathbf{S}_3$ and $\\mathbf{S}_4$ are empty then the entire system is completely controllable."
   ]
  },
  {
   "cell_type": "markdown",
   "metadata": {
    "slideshow": {
     "slide_type": "slide"
    }
   },
   "source": [
    "## Mathematical Test for Controllability \n",
    "\n",
    "If we transform the state equations to normal canonical form, then the term involving the inputs constitutes the link in the previous figure between $\\mathbf{u}$ and the sub-systems."
   ]
  },
  {
   "cell_type": "markdown",
   "metadata": {
    "slideshow": {
     "slide_type": "subslide"
    }
   },
   "source": [
    "From previous work we had:\n",
    "\n",
    "$$\\dot{\\mathbf{x}} = \\mathbf{Ax} + \\mathbf{Bu}$$ \n",
    "\n",
    "with state transformation matrix $\\mathbf{T}$ giving: \n",
    "\n",
    "$$\\begin{eqnarray*}\n",
    "    \\mathbf{x} & = & \\mathbf{Tw} \\\\\n",
    "    \\dot{\\mathbf{w}}& = &\\mathbf{T}^{-1}\\mathbf{ATw}+\\mathbf{T}^{-1}\\mathbf{Bu} \\\\\n",
    "    & = & \\mathbf{\\Lambda w} + \\mathbf{T}^{-1}\\mathbf{Bw}\\end{eqnarray*}$$\n",
    "\n",
    "where $\\mathbf{\\Lambda}$ is a diagonal matrix."
   ]
  },
  {
   "cell_type": "markdown",
   "metadata": {
    "slideshow": {
     "slide_type": "subslide"
    }
   },
   "source": [
    "* For controllability of all the system states, every state equation must be linked to at least one of the inputs. \n",
    "\n",
    "* The $i^\\mathrm{th}$ state equation is:\n",
    "\n",
    "  $$\\dot{w}_i = \\lambda_iw_i + \\left[i^{\\mathrm{th}}\\mathrm{\\ row\\ of\\ }\\mathbf{T}^{-1}\\mathbf{B}\\right]\\mathbf{u}$$\n",
    "\n",
    "\n",
    "* Therefore for every state equation to be linked to at least one input,\n",
    "there must be no row of $\\mathbf{T}^{-1}\\mathbf{B}$ containing all zero\n",
    "entries."
   ]
  },
  {
   "cell_type": "markdown",
   "metadata": {
    "slideshow": {
     "slide_type": "slide"
    }
   },
   "source": [
    "## Mathematical Test for Observability\n",
    "\n",
    "If we transform the output equations to normal canonical form, then the term involving the states constitutes the link in the previous figure between the sub-system states and outputs $\\mathbf{y}$.\n",
    "\n",
    "From previous work we had: \n",
    "\n",
    "$$\\mathbf{y} = \\mathbf{Cx} + \\mathbf{Du}$$\n",
    "\n",
    "Transforming to normal canonical form with matrix $\\mathbf{T}$ gives:\n",
    "\n",
    "\n",
    "$$\\begin{eqnarray*}\n",
    "    \\mathbf{x} & = & \\mathbf{Tw} \\\\\n",
    "    \\mathbf{y}& = &\\mathbf{CTw}+\\mathbf{Du} \\\\\\end{eqnarray*}$$"
   ]
  },
  {
   "cell_type": "markdown",
   "metadata": {
    "slideshow": {
     "slide_type": "subslide"
    }
   },
   "source": [
    "- For observability of all the system states, every state $w_i$ must be linked to at least one of the outputs. Therefore, there must be no column of $\\mathbf{CT}$ containing all zero entries.\n",
    "\n",
    "- If we transform the output equations to normal canonical form, then the term involving the states constitutes the link in the previous figure between the sub-system states and outputs $\\mathbf{y}$."
   ]
  },
  {
   "cell_type": "markdown",
   "metadata": {
    "slideshow": {
     "slide_type": "notes"
    }
   },
   "source": [
    "The previous arguments have indicated necessary conditions for\n",
    "controllability and observability but even if they are true they do not\n",
    "give a guarantee. Sufficient conditions require more subtle tests as\n",
    "quoted in the next section."
   ]
  },
  {
   "cell_type": "markdown",
   "metadata": {
    "slideshow": {
     "slide_type": "slide"
    }
   },
   "source": [
    "## Alternative Tests for Controllability and Observability "
   ]
  },
  {
   "cell_type": "markdown",
   "metadata": {
    "slideshow": {
     "slide_type": "notes"
    }
   },
   "source": [
    "To apply the tests of the previous sections involves deriving the transformation matrix $\\mathbf{T}$, the columns of which consist of the eigenvectors of the original state matrix $\\mathbf{A}$. It is not necessary to form $\\mathbf{T}$ explicitly and alternative tests exist based on the untransformed matrices $\\mathbf{A}$, $\\mathbf{B}$ and $\\mathbf{C}$ only."
   ]
  },
  {
   "cell_type": "markdown",
   "metadata": {
    "slideshow": {
     "slide_type": "fragment"
    }
   },
   "source": [
    "For an $n^{\\mathrm{th}}$ order system, the system is completely *state controllable* if the **controllability matrix**:\n",
    "\n",
    "$$\\left[\\mathbf{B}\\vdots\\mathbf{AB}\\vdots\\cdots\\vdots\\mathbf{A}^{n-1}\\mathbf{B}\\right]$$\n",
    "\n",
    "is of rank $n$. (i.e. it contains $n$ linearly independent rows or, in other words, its determinant is non-zero.)"
   ]
  },
  {
   "cell_type": "markdown",
   "metadata": {
    "slideshow": {
     "slide_type": "subslide"
    }
   },
   "source": [
    "Similarly, a system is completely *state observable* if the **observability matrix**\n",
    "\n",
    "$$\\left[\\mathbf{C}^T\\vdots\\mathbf{A}^T\\mathbf{C}^T\\vdots\\cdots\\vdots\\left(\\mathbf{A}^T\\right)^{n-1}\\mathbf{C}^T\\right]$$\n",
    "\n",
    "is of rank $n$ (i.e. its determinant is non-zero.)"
   ]
  },
  {
   "cell_type": "markdown",
   "metadata": {
    "slideshow": {
     "slide_type": "notes"
    }
   },
   "source": [
    "These two conditions can result in numerically ill-conditioned calculations for large $n$."
   ]
  },
  {
   "cell_type": "markdown",
   "metadata": {
    "slideshow": {
     "slide_type": "subslide"
    }
   },
   "source": [
    "## Example \n",
    "\n",
    "(will be done in class)"
   ]
  },
  {
   "cell_type": "markdown",
   "metadata": {
    "slideshow": {
     "slide_type": "subslide"
    }
   },
   "source": [
    "**Problem**: test the following system for controllability and\n",
    "observability: \n",
    "\n",
    "$$\\begin{eqnarray*}\n",
    "     {\\bf{\\dot x}}  & = &   \\left[ {\\begin{array}{*{20}c}\n",
    "       { - 6} & { - 5}  \\\\\n",
    "       1 & 0  \\\\\n",
    "    \\end{array}} \\right]{\\bf{x}} + \\left[ {\\begin{array}{*{20}c}\n",
    "       1  \\\\\n",
    "       0  \\\\\n",
    "    \\end{array}} \\right]u \\\\\n",
    "         y & = &  \\left[ {\\begin{array}{*{20}c}\n",
    "       3 & 1  \\\\\n",
    "    \\end{array}} \\right]{\\bf{x}} \\\\ \\end{eqnarray*}$$"
   ]
  },
  {
   "cell_type": "markdown",
   "metadata": {
    "slideshow": {
     "slide_type": "notes"
    }
   },
   "source": [
    "**SOLUTION**: \n",
    "\n",
    "$${\\bf{B}} = \\left[ {\\begin{array}{*{20}c}\n",
    "   1  \\\\\n",
    "   0  \\\\\n",
    "\\end{array}} \\right];\\quad {\\bf{AB}} = \\left[ {\\begin{array}{*{20}c}\n",
    "   { - 6} & { - 5}  \\\\\n",
    "   1 & 0  \\\\\n",
    "\\end{array}} \\right]\\left[ {\\begin{array}{*{20}c}\n",
    "   1  \\\\\n",
    "   0  \\\\\n",
    "\\end{array}} \\right] = \\left[ {\\begin{array}{*{20}c}\n",
    "   { - 6}  \\\\\n",
    "   1  \\\\\n",
    "\\end{array}} \\right]$$\n",
    "\n",
    "Therefore the determinant of the controllability matrix is:\n",
    "\n",
    "$$\\det \\left[ {\\begin{array}{*{20}c}\n",
    "   1 & { - 6}  \\\\\n",
    "   0 & 1  \\\\\n",
    "\\end{array}} \\right] = 1 - ( - 6 \\times 0) = 1 \\ne 0$$ \n",
    "\n",
    "Therefore the\n",
    "system is controllable.\n",
    "\n",
    "$${\\bf{C}^T} = \\left[ {\\begin{array}{*{20}c}\n",
    "   3  \\\\\n",
    "   1  \\\\\n",
    "\\end{array}} \\right];\\quad {\\bf A}^T{\\bf C}^T = \\left[ {\\begin{array}{*{20}c}\n",
    "   { - 6} & { 1 }  \\\\\n",
    "   {-5} & 0  \\\\\n",
    "\\end{array}} \\right]\\left[ {\\begin{array}{*{20}c}\n",
    "   3  \\\\\n",
    "   1  \\\\\n",
    "\\end{array}} \\right] = \\left[ {\\begin{array}{*{20}c}\n",
    "   { -17 }  \\\\\n",
    "   { -15 }  \\\\\n",
    "\\end{array}} \\right]$$\n",
    "\n",
    "Therefore the determinant of the observability matrix is:\n",
    "\n",
    "$$\\det \\left[ {\\begin{array}{*{20}c}\n",
    "   3 & { -17 }  \\\\\n",
    "   1 & { -15 }  \\\\\n",
    "\\end{array}} \\right] = 3\\times(-15) - (-17) \\times 1) = -28 \\ne 0$$\n",
    "\n",
    "Therefore the system is observable.\n",
    "\n",
    "### Exercise \n",
    "\n",
    "Confirm these results by using system transformation to normal form."
   ]
  },
  {
   "cell_type": "markdown",
   "metadata": {
    "slideshow": {
     "slide_type": "slide"
    }
   },
   "source": [
    "## MATLAB function for testing controllability "
   ]
  },
  {
   "cell_type": "code",
   "execution_count": 3,
   "metadata": {
    "slideshow": {
     "slide_type": "fragment"
    }
   },
   "outputs": [
    {
     "name": "stdout",
     "output_type": "stream",
     "text": [
      "\n",
      "B =\n",
      "\n",
      "     1\n",
      "     0\n",
      "\n",
      "\n",
      "CM =\n",
      "\n",
      "     1    -6\n",
      "     0     1\n",
      "\n",
      "\n",
      "ans =\n",
      "\n",
      "     2\n",
      "\n"
     ]
    }
   ],
   "source": [
    "A = [-6 -5; 1 0];\n",
    "B = [1; 0]\n",
    "CM = ctrb(A, B)\n",
    "rank(CM) % should be 2."
   ]
  },
  {
   "cell_type": "markdown",
   "metadata": {
    "slideshow": {
     "slide_type": "notes"
    }
   },
   "source": [
    "**Important note**: `ctrb` is not recommended for serious control design\n",
    "use as it is numerically unstable."
   ]
  },
  {
   "cell_type": "markdown",
   "metadata": {
    "slideshow": {
     "slide_type": "subslide"
    }
   },
   "source": [
    "## MATLAB function for testing observability"
   ]
  },
  {
   "cell_type": "code",
   "execution_count": 5,
   "metadata": {
    "slideshow": {
     "slide_type": "fragment"
    }
   },
   "outputs": [
    {
     "name": "stdout",
     "output_type": "stream",
     "text": [
      "\n",
      "C =\n",
      "\n",
      "     3     1\n",
      "\n",
      "\n",
      "OM =\n",
      "\n",
      "     3     1\n",
      "   -17   -15\n",
      "\n",
      "\n",
      "ans =\n",
      "\n",
      "     2\n",
      "\n"
     ]
    }
   ],
   "source": [
    "A = [-6 -5; 1 0];\n",
    "C = [3 1]\n",
    "OM = obsv(A, C)\n",
    "rank(CM) % should be 2."
   ]
  },
  {
   "cell_type": "markdown",
   "metadata": {
    "slideshow": {
     "slide_type": "notes"
    }
   },
   "source": [
    "**Important note**: `obsv` is not recommended for serious control design\n",
    "use as it is numerically unstable.\n",
    "\n"
   ]
  },
  {
   "cell_type": "markdown",
   "metadata": {
    "slideshow": {
     "slide_type": "subslide"
    }
   },
   "source": [
    "## Observability/controllability of systems"
   ]
  },
  {
   "cell_type": "code",
   "execution_count": 7,
   "metadata": {
    "slideshow": {
     "slide_type": "subslide"
    }
   },
   "outputs": [
    {
     "name": "stdout",
     "output_type": "stream",
     "text": [
      "\n",
      "ans =\n",
      "\n",
      "  1x2 logical array\n",
      "\n",
      "   1   1\n",
      "\n"
     ]
    }
   ],
   "source": [
    "sys = ss(A, B, C, [0]);\n",
    "OM = obsv(sys);\n",
    "CM = ctrb(sys);\n",
    "[rank(OM), rank(CM)] == [2,2]"
   ]
  }
 ],
 "metadata": {
  "celltoolbar": "Slideshow",
  "kernelspec": {
   "display_name": "Matlab",
   "language": "matlab",
   "name": "matlab"
  },
  "language_info": {
   "codemirror_mode": "octave",
   "file_extension": ".m",
   "help_links": [
    {
     "text": "MetaKernel Magics",
     "url": "https://github.com/calysto/metakernel/blob/master/metakernel/magics/README.md"
    }
   ],
   "mimetype": "text/x-octave",
   "name": "matlab",
   "version": "0.15.2"
  }
 },
 "nbformat": 4,
 "nbformat_minor": 2
}
