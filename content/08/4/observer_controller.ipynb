{
 "cells": [
  {
   "cell_type": "markdown",
   "metadata": {
    "slideshow": {
     "slide_type": "notes"
    }
   },
   "source": [
    "# Combined Observer and Control\n",
    "\n",
    "-   The observer states can be used to provide feedback control when the\n",
    "    plant's own states are not available.\n",
    "\n",
    "-   The combined observer-controller is equivalent to a classical\n",
    "    compensator.\n",
    "\n",
    "-   The combined system has twice as many states as the plant because of\n",
    "    the duplicated states of the observer.\n",
    "\n",
    "-   *Question to be answered here*: how does the whole thing behave?"
   ]
  },
  {
   "cell_type": "markdown",
   "metadata": {
    "slideshow": {
     "slide_type": "notes"
    }
   },
   "source": [
    "## Content\n",
    "\n",
    "-   Dynamics of the combined controller-observer system\n",
    "\n",
    "    1.   Separation principle\n",
    "\n",
    "    2.   Equivalent classical controller\n",
    "\n",
    "-   Introducing the reference input\n",
    "\n",
    "    1.  The normal position\n",
    "\n",
    "    2.  Observer driven by the tracking error"
   ]
  },
  {
   "cell_type": "markdown",
   "metadata": {
    "slideshow": {
     "slide_type": "notes"
    }
   },
   "source": [
    "## Dynamics of the combined system \n",
    "\n",
    "**The control**: $u=r-\\mathbf{K}\\hat{\\mathbf{x}}$\n",
    "\n",
    "**The plant dynamics**: $\\dot{\\mathbf{x}}=\\mathbf{A}\\mathbf{x}+\\mathbf{B}(r-\\mathbf{K}\\hat{\\mathbf{x}})$\n",
    "\n",
    "**Error**:  $\\mathbf{e}=\\mathbf{x}-\\hat{\\mathbf{x}}$ so $\\hat{\\mathbf{x}}=\\mathbf{x}-\\mathbf{e}$ therefore \n",
    "\n",
    "$$\\begin{eqnarray*}\n",
    "    \t\t\t\\dot{\\mathbf{x}} & = & \\mathbf{A}\\mathbf{x}+\\mathbf{B}r-\\mathbf{BK}(\\mathbf{x}-\\mathbf{e}) \\\\\n",
    "    \t\t\t                 & = & (\\mathbf{A}-\\mathbf{BK})\\mathbf{x}+\\mathbf{BK}\\mathbf{e}-\\mathbf{B}r\n",
    "    \t\\end{eqnarray*}$$\n",
    "\n",
    "From previous work the error dynamics are:\n",
    "\n",
    "$$\\dot{\\mathbf{e}} = (\\mathbf{A}-\\mathbf{LC})\\mathbf{e}$$ \n",
    "\n",
    "Therefore the\n",
    "dynamics of the combined system is: \n",
    "\n",
    "$$\\left[ {\\begin{array}{*{20}c}\n",
    "   {\\dot{\\mathbf{x}}}  \\\\\n",
    "   {\\dot{\\mathbf{e}}ß}  \\\\\n",
    "\\end{array}} \\right] = \\left[ {\\begin{array}{*{20}c}\n",
    "   {\\left( {{\\bf{A}} - {\\bf{BK}}} \\right)} & {{\\bf{BK}}}  \\\\\n",
    "   {\\bf{0}} & {\\left( {{\\bf{A}} - {\\bf{LC}}} \\right)}  \\\\\n",
    "\\end{array}} \\right]\\left[ {\\begin{array}{*{20}c}\n",
    "   {\\bf{x}}  \\\\\n",
    "   {\\bf{e}}  \\\\\n",
    "\\end{array}} \\right] + \\left[ {\\begin{array}{*{20}c}\n",
    "   {\\bf{B}}  \\\\\n",
    "   {\\bf{0}}  \\\\\n",
    "\\end{array}} \\right]r$$\n",
    "\n",
    "The eigenvalues or poles of the combined system are the roots of the CE:\n",
    "\n",
    "$$\\begin{eqnarray*}\n",
    "\t\\det \\left[ {s{\\bf{I}}_{2n}  - \\left[ {\\begin{array}{*{20}c}\n",
    "\t   {\\left( {{\\bf{A}} - {\\bf{BK}}} \\right)} & {{\\bf{BK}}}  \\\\\n",
    "\t   {\\bf{0}} & {\\left( {{\\bf{A}} - {\\bf{LC}}} \\right)}  \\\\\n",
    "\t\\end{array}} \\right]} \\right] & = &  0 \\\\\n",
    "\t\\det \\left[ {\\begin{array}{*{20}c}\n",
    "\t   {\\left[ {s{\\bf{I}} - \\left( {{\\bf{A}} - {\\bf{BK}}} \\right)} \\right]} & { - {\\bf{BK}}}  \\\\\n",
    "\t   {\\bf{0}} & {\\left[ {s{\\bf{I}} - \\left( {{\\bf{A}} - {\\bf{LC}}} \\right)} \\right]}  \\\\\n",
    "\t\\end{array}} \\right] & = & 0\\end{eqnarray*}$$\n",
    "\n",
    "The matrix is block triangular with square matrices on the diagonal.\n",
    "Therefore:\n",
    "\n",
    "$$\\det \\left[ {s{\\bf{I}} - \\left( {{\\bf{A}} - {\\bf{BK}}} \\right)} \\right]\\det\\left[ {s{\\bf{I}} - \\left( {{\\bf{A}} - {\\bf{LC}}} \\right)} \\right] = 0$$\n",
    "\n",
    "$$\\alpha_c(s)\\alpha_e(s) = 0$$\n",
    "\n",
    "These are the combined characteristic polynomials of the controller and\n",
    "the observer."
   ]
  },
  {
   "cell_type": "markdown",
   "metadata": {
    "slideshow": {
     "slide_type": "notes"
    }
   },
   "source": [
    "### Separation Principle\n",
    "\n",
    "From the above work, we can conclude that the set of poles of the\n",
    "combined observer-controller system is the union of the set of closed\n",
    "loop controller poles and the set of observer poles.\n",
    "\n",
    "The controller matrix $\\mathbf{K}$ is designed as before, as if the real\n",
    "plant states are going to be used for the feedback. This fixes the\n",
    "positions of the controller poles into the desired positions.\n",
    "\n",
    "Then, quite independently, the matrix $\\mathbf{L}$ is designed as before\n",
    "to fix the observer poles as required.\n",
    "\n",
    "Using the observer states for the control feedback instead of the plant\n",
    "states does not affect the closed loop poles.\n",
    "\n",
    "This is a fortunate situation and is known as the **separation\n",
    "principle**. The problems of controller design and observer design have\n",
    "been separated."
   ]
  },
  {
   "cell_type": "markdown",
   "metadata": {
    "slideshow": {
     "slide_type": "notes"
    }
   },
   "source": [
    "### The Equivalent Classical Compensator \n",
    "\n",
    "-   We shall determine the classical compensator TF which is equivalent\n",
    "    to the combined observer-controller.\n",
    "\n",
    "-   This is simpler to do if we remove the reference input, for the time\n",
    "    being.\n",
    "\n",
    "![Equivalent Classical Compensator](pictures/fig1.png)\n",
    "\n",
    "Setting the reference input $r = 0$ gives:\n",
    "\n",
    "$$\\frac{d\\hat{\\mathbf{x}}}{dt}=(\\mathbf{A}-\\mathbf{LC})\\hat{\\mathbf{x}}+ \\mathbf{B}u+\\mathbf{L}y$$\n",
    "\n",
    "where $u=-\\mathbf{K}\\hat{\\mathbf{x}}$ therefore\n",
    "\n",
    "$$\\frac{d\\hat{\\mathbf{x}}}{dt}=(\\mathbf{A}-\\mathbf{LC})\\hat{\\mathbf{x}} - \\mathbf{BK}\\hat{\\mathbf{x}}+\\mathbf{L}y$$\n",
    "\n",
    "or\n",
    "\n",
    "$$\\frac{d\\hat{\\mathbf{x}}}{dt}=(\\mathbf{A} - \\mathbf{LC} - \\mathbf{BK})\\hat{\\mathbf{x}} + \\mathbf{L}y$$\n",
    "\n",
    "Taking Laplace transforms, ignoring ICs: Taking Laplace transforms,\n",
    "ignoring ICs: \n",
    "\n",
    "$$\\begin{eqnarray*}\n",
    "s\\hat{\\mathbf{X}}(s) & = & (\\mathbf{A} - \\mathbf{LC} - \\mathbf{BK})\\hat{\\mathbf{X}}(s) + \\mathbf{L}Y(s) \\\\\t\n",
    "\\underbrace {(s{\\bf{I}} - {\\bf{A}} + {\\bf{BK}} + {\\bf{LC}})}_{{\\bf{M + BK}}}{\\bf{\\hat X}}(s) & = & {\\bf{L}}Y(s) \\\\\n",
    "\\hat{\\mathbf{X}}(s) & = & (\\mathbf{M}+\\mathbf{BK})^{-1}{\\bf{L}}Y(s)\\end{eqnarray*}$$\n",
    "\n",
    "where $\\mathbf{M}=s\\mathbf{I}-\\mathbf{A}+\\mathbf{LC}$.\n",
    "\n",
    "$$U(s)=-\\mathbf{K}\\hat{\\mathbf{X}}(s)=-\\mathbf{K}(\\mathbf{M}+\\mathbf{BK})^{-1}\\mathbf{L}Y(s)$$\n",
    "\n",
    "therefore the compensator TF is:\n",
    "\n",
    "$$H(s)=-\\frac{U(s)}{Y(s)}=\\mathbf{K}(\\mathbf{M}+\\mathbf{BK})^{-1}\\mathbf{L}$$\n",
    "\n",
    "Alternatively, since\n",
    "\n",
    "$$s{\\bf{\\hat X}}(s) =  {\\bf{A\\hat X}}(s) + {\\bf{B}}U(s) + {\\bf{L}}\\left( {Y(s) - {\\bf{C\\hat X}}}(s) \\right)$$\n",
    "\n",
    "then,\n",
    "\n",
    "$$\\left( {s{\\bf{I}} - {\\bf{A}} + {\\bf{LC}}} \\right){\\bf{\\hat X}}(s) = {\\bf{B}}U(s) + {\\bf{L}}Y(s)$$\n",
    "\n",
    "or,\n",
    "\n",
    "$${\\bf{\\hat X}}(s) = {\\bf{M}}^{ - 1} {\\bf{B}}U(s) + {\\bf{M}}^{ - 1} {\\bf{L}}Y(s)$$\n",
    "\n",
    "Now $$U(s) =  - {\\bf{K\\hat X}}(s)$$ \n",
    "\n",
    "so\n",
    "\n",
    "$$U (s) =   - {\\bf{K}}\\left( {{\\bf{M}}^{ - 1} {\\bf{B}}U(s) + {\\bf{M}}^{ - 1} {\\bf{L}}Y(s)} \\right)$$\n",
    "\n",
    "$$\\left( {1 + {\\bf{KM}}^{ - 1} {\\bf{B}}} \\right)U(s) =  - {\\bf{KM}}^{ - 1} {\\bf{L}}Y(s)$$\n",
    "\n",
    "$$H\\left( s \\right) =  - \\frac{U(s)}{Y(s)} = \\frac{{{\\bf{KM}}^{ - 1} {\\bf{L}}}}{{1 + {\\bf{KM}}^{ - 1} {\\bf{B}}}}$$\n",
    "\n"
   ]
  },
  {
   "cell_type": "markdown",
   "metadata": {
    "slideshow": {
     "slide_type": "notes"
    }
   },
   "source": [
    "## Introducing the Reference Input \n",
    "\n",
    "Two cases considered:\n",
    "\n",
    "1.  The Normal Position\n",
    "\n",
    "    -   The reference input is introduced as\n",
    "        $u=r-\\mathbf{K}\\hat{\\mathbf{x}}$.\n",
    "\n",
    "2.  Observer driven by the tracking error\n",
    "\n",
    "    -   Sense the tracking error and use this to control the system.\n",
    "\n",
    "    -   The tracking error is the difference between the desired and\n",
    "        actual outputs $\\tilde e =  - r + y$\n",
    "\n",
    "    Systems in each case have different properties."
   ]
  },
  {
   "cell_type": "markdown",
   "metadata": {
    "slideshow": {
     "slide_type": "notes"
    }
   },
   "source": [
    "### 1. The Normal Position \n",
    "\n",
    "In this case the reference input $r$ is introduced as before:\n",
    "$u=r-\\mathbf{K}\\hat{\\mathbf{x}}$. This results in an equivalent\n",
    "classical system with the structure shown below:\n",
    "\n",
    "![The Normal Position](pictures/fig2.png)\n",
    "\n",
    "#### Finding $F(s)$ and $H(s)$\n",
    "\n",
    "For the observer we have:\n",
    "\n",
    "$$\\frac{d\\hat{\\mathbf{x}}}{dt} = \\mathbf{A}\\hat{\\mathbf{x}}+\\mathbf{B}u-\\mathbf{L}(\\mathbf{C}\\hat{\\mathbf{x}} - y)$$\n",
    "\n",
    "Taking Laplace transforms ignoring ICs \n",
    "\n",
    "$$\\begin{eqnarray*}\n",
    "s\\hat{\\mathbf{X}}(s) & = & \\mathbf{A}\\hat{\\mathbf{X}} - \\mathbf{B}U - \\mathbf{LC}\\hat{\\mathbf{X}} + \\mathbf{L}Y(s) \\\\\t\n",
    "\\underbrace {(s{\\bf{I}} - {\\bf{A}} + {\\bf{LC}})}_{{\\bf{M}}}{\\bf{\\hat X}} & = & {\\bf B}U + {\\bf{L}}Y(s) \\\\\n",
    "\\hat{\\mathbf{X}} & = & \\mathbf{M}^{-1}\\mathbf{B}U + \\mathbf{M}^{-1}{\\bf{L}}Y\\end{eqnarray*}$$\n",
    "\n",
    "For the controller we have: \n",
    "\n",
    "$$u = r - \\mathbf{K}\\hat{\\mathbf{x}}$$\n",
    "\n",
    "Taking Laplace transforms \n",
    "\n",
    "$$U = R - \\mathbf{K}\\hat{\\mathbf{X}}$$\n",
    "\n",
    "Therefore, for the combined observer-controller\n",
    "\n",
    "$$U=R-\\mathbf{K}\\left(\\mathbf{M}^{-1}\\mathbf{B}U + \\mathbf{M}^{-1}{\\bf{L}}Y\\right)$$\n",
    "\n",
    "Re-arranging:\n",
    "\n",
    "$$\\left(\\mathbf{KM}^{-1}\\mathbf{B}+1\\right)U=R-\\mathbf{KM}^{-1}\\mathbf{L}Y$$\n",
    "\n",
    "therefore,\n",
    "\n",
    "$$U=\\frac{1}{\\mathbf{KM}^{-1}\\mathbf{B}+1}R-\\frac{\\mathbf{KM}^{-1}\\mathbf{L}}{\\mathbf{KM}^{-1}\\mathbf{B}+1}Y$$\n",
    "\n",
    "Comparing with: \n",
    "\n",
    "$$U=F(s)R-H(s)Y$$\n",
    "\n",
    "$$F(s) = \\frac{1}{\\mathbf{KM}^{-1}\\mathbf{B}+1}$$ and\n",
    "\n",
    "$$H(s) = \\frac{\\mathbf{KM}^{-1}\\mathbf{L}}{\\mathbf{KM}^{-1}\\mathbf{B}+1}$$\n",
    "\n",
    "#### A useful theorem\n",
    "\n",
    "If $\\mathbf{M}$ is square and $\\mathbf{V}$ is a row vector and\n",
    "$\\mathbf{W}$ is a column vector then,\n",
    "\n",
    "$$\\mathbf{VM}^{-1}\\mathbf{W}=\\frac{\\det\\left(\\mathbf{M}+\\mathbf{WV}\\right)}{\\det{\\mathbf{M}}}-1$$"
   ]
  },
  {
   "cell_type": "markdown",
   "metadata": {
    "slideshow": {
     "slide_type": "notes"
    }
   },
   "source": [
    "#### Zeros and Poles of $F(s)$ and $H(s)$ \n",
    "\n",
    "Applying the theorem:\n",
    "\n",
    "$$\\mathbf{KM}^{-1}\\mathbf{B}+1=\\frac{\\det\\left(\\mathbf{M}+\\mathbf{BK}\\right)}{\\det{\\mathbf{M}}}$$\n",
    "\n",
    "therefore,\n",
    "\n",
    "$$F(s) = \\frac{\\det\\mathbf{M}}{\\det\\left(\\mathbf{M}+\\mathbf{BK}\\right)}$$\n",
    "\n",
    "From previous work,\n",
    "\n",
    "$$\\det\\mathbf{M}=\\det\\left(s\\mathbf{I}-\\mathbf{A}=\\mathbf{LC}\\right)=\\alpha_e(s)$$\n",
    "\n",
    "where $\\alpha_e(s)=0$ is the characteristic equation of the observer.\n",
    "\n",
    "Let $\\det\\left(\\mathbf{M}+\\mathbf{BK}\\right)=\\alpha_1(s)$ then,\n",
    "\n",
    "$$F(s)=\\frac{\\alpha_e(s)}{\\alpha_1(s)}.$$\n",
    "\n",
    "Similarly for $H(s)$:\n",
    "\n",
    "$$H\\left( s \\right) = \\frac{{\\left( {\\frac{{\\det \\left( {{\\bf{M}} + {\\bf{LK}}} \\right)}}{{\\det {\\bf{M}}}} - 1} \\right)}}{{\\frac{{\\det \\left( {{\\bf{M}} + {\\bf{BK}}} \\right)}}{{\\det {\\bf{M}}}}}} = \\frac{{\\det \\left( {{\\bf{M}} + {\\bf{LK}}} \\right) - \\det {\\bf{M}}}}{{\\det \\left( {{\\bf{M}} + {\\bf{BK}}} \\right)}}$$\n",
    "\n",
    "Letting $\\det\\left(\\mathbf{M}+\\mathbf{LK}\\right)-\\det\\mathbf{M}=\\alpha_2(s)$ then, \n",
    "\n",
    "$$H(s)\\frac{\\alpha_2(s)}{\\alpha_1(s)}.$$"
   ]
  },
  {
   "cell_type": "markdown",
   "metadata": {
    "slideshow": {
     "slide_type": "notes"
    }
   },
   "source": [
    "#### The Overall Closed Loop TF \n",
    "\n",
    "$$\\frac{Y(s)}{R(s)}=F(s)=\\frac{G(s)}{1+G(s)H(s)}$$ \n",
    "\n",
    "Let the plant TF be:\n",
    "\n",
    "$$\\frac{\\alpha_z(s)}{\\alpha_p(s)}$$ \n",
    "\n",
    "therefore, \n",
    "\n",
    "$$\\begin{eqnarray*}\n",
    "\t\\frac{Y(s)}{R(s)} &=& \\frac{\\alpha_e(s)}{\\alpha_1(s)}\\frac{\\frac{\\alpha_z(s)}{\\alpha_p(s)}}{1+\\frac{\\alpha_z(s)}{\\alpha_p(s)}\\frac{\\alpha_2(s)}{\\alpha_1(s)}} \\\\\n",
    "\t\\frac{Y(s)}{R(s)} &=& \\frac{\\alpha_e(s)\\alpha_z(s)}{\\alpha_p(s)\\alpha_1(s)+\\alpha_z(s)\\alpha_2(s)}\\end{eqnarray*}$$\n",
    "\n",
    "We know from previous work that the denominator, corresponding to the\n",
    "closed loop CE of the overall system must, from the separation\n",
    "principle, be equivalent to: $$\\alpha_e(s)\\alpha_c(s)$$ therefore,\n",
    "\n",
    "$$\\frac{{Y(s)}}{{R(s)}} = \\frac{{\\alpha _e (s)\\alpha _z (s)}}{{\\alpha _e (s)\\alpha _c (s)}} = \\frac{{\\alpha _z (s)}}{{\\alpha _c (s)}}$$\n",
    "\n",
    "\n",
    "-   Notice here how the input TF $F(s)$ contains as its zeros all the\n",
    "    poles of the observer given by $\\alpha_e(s)$.\n",
    "\n",
    "-   Because of the separation principle, these are also half of the\n",
    "    poles of the overall closed loop TF.\n",
    "\n",
    "-   The pole-zero cancellation results in the final TF having just the\n",
    "    plant zeros and the controller poles.\n",
    "\n",
    "-   Thus we can say that, using the observer states for the feedback,\n",
    "    instead of the unavailable plant states, has not affected the closed\n",
    "    loop TF.\n",
    "\n",
    "-   This is not the case when the reference input is introduced\n",
    "    elsewhere."
   ]
  },
  {
   "cell_type": "markdown",
   "metadata": {
    "slideshow": {
     "slide_type": "notes"
    }
   },
   "source": [
    "### 2. Observer Driven by the Tracking Error  \n",
    "\n",
    "Sometimes it is desired to sense the tracking error and use this to\n",
    "control the system.\n",
    "\n",
    "The tracking error is the difference between the desired and actual\n",
    "outputs, \n",
    "\n",
    "$$\\tilde e =  - r + y$$\n",
    "\n",
    "Some sensors can only measure a difference between two measurands. eg a\n",
    "thermocouple can only sense the temperature difference between its hot\n",
    "and cold junctions.\n",
    "\n",
    "![Observer Driven by the Tracking Error](pictures/fig3.png)\n",
    "\n",
    "Redraw:\n",
    "\n",
    "![Observer Driven by the Tracking Error redrawn](pictures/fig4.png)\n",
    "\n",
    "In this configuration the observer is driven by: $$\\tilde E =  Y + R$$\n",
    "Hence the observer dynamics are:\n",
    "\n",
    "$$s\\hat{\\mathbf{X}}=\\mathbf{A}\\hat{\\mathbf{X}}+\\mathbf{B}U+\\mathbf{L}(\\tilde E - \\mathbf{C}\\hat{\\mathbf{X}})$$\n",
    "\n",
    "therefore, \n",
    "\n",
    "$$\\begin{eqnarray*}\n",
    "\t\\underbrace {\\left( {s{\\bf{I}} - {\\bf{A}} + {\\bf{LC}}} \\right)}_{\\bf{M}}{\\bf{\\hat X}} & = & {\\bf{B}}U + {\\bf{L}}\\tilde E \\\\\n",
    "\t{\\bf{\\hat X}} & = & {\\bf{M}}^{ - 1} {\\bf{B}}U + {\\bf{M}}^{ - 1} {\\bf{L}}\\tilde E\\end{eqnarray*}$$\n",
    "\n",
    "Now $U=-\\mathbf{K}\\hat{\\mathbf{X}}$, therefore $$\\begin{eqnarray*}\n",
    "\tU & = &  - \\bf{KM}^{ - 1} {\\bf{B}}U - {\\bf{KM}}^{ - 1} {\\bf{L}}\\tilde E \\\\\n",
    "\tU & = &  - \\frac{{{\\bf{KM}}^{ - 1} {\\bf{L}}}}{{1 + {\\bf{KM}}^{ - 1} {\\bf{B}}}}\\tilde E \\\\\n",
    "\tH\\left( s \\right) & = &  - \\frac{U}{{\\tilde E}} = \\frac{{{\\bf{KM}}^{ - 1} {\\bf{L}}}}{{1 + {\\bf{KM}}^{ - 1} {\\bf{B}}}}\\end{eqnarray*}$$\n",
    "\n",
    "\n",
    "Here $H(s)$ is the same as before: \n",
    "\n",
    "$$\\frac{\\alpha_2(s)}{\\alpha_1(s)}$$\n",
    "\n",
    "where $\\alpha_1(s)=\\det(\\mathbf{M}+\\mathbf{BK})$ and $\\alpha_2(s)=\\det(\\mathbf{M}+\\mathbf{LK})-\\det{M}$.\n",
    "\n",
    "\n",
    "The overall TF is: \n",
    "\n",
    "$$\\begin{eqnarray*}\n",
    "\t\\frac{Y(s)}{R(s)} &=& \\frac{G(s)}{1+G(s)H(s)}= \\frac{\\frac{\\alpha_z(s)}{\\alpha_p(s)}\\times\\frac{\\alpha_2(s)}{\\alpha_1(s)}}{1+\\frac{\\alpha_z(s)}{\\alpha_p(s)}\\times\\frac{\\alpha_2(s)}{\\alpha_1(s)}} \\\\\n",
    "\t\\frac{Y(s)}{R(s)} &=& \\frac{\\alpha_z(s)\\alpha_2(s)}{\\alpha_p(s)\\alpha_1(s)+\\alpha_z(s)\\alpha_2(s)}=\\frac{\\alpha_z\\alpha_2}{\\alpha_c\\alpha_e}\\end{eqnarray*}$$\n",
    "\n",
    "\n",
    "-   In this case we see that the overall TF contains the poles of the\n",
    "    observer as well as the controller.\n",
    "\n",
    "-   Whereas in the normal position changes in the reference input do not\n",
    "    excite the error dynamics of the observer, in this configuration\n",
    "    they do.\n",
    "\n",
    "-   As a result the difference between the observer and the plant states\n",
    "    is affected during operation and take further time to settle down."
   ]
  },
  {
   "cell_type": "markdown",
   "metadata": {
    "slideshow": {
     "slide_type": "notes"
    }
   },
   "source": [
    "## Summary\n",
    "\n",
    "-   Dynamics of the combined controller-observer system\n",
    "\n",
    "    1.   Separation principle\n",
    "\n",
    "    2.  Equivalent classical controller\n",
    "\n",
    "-   Introducing the reference input\n",
    "\n",
    "    1.  The normal position\n",
    "\n",
    "    2.  Observer driven by the tracking error"
   ]
  }
 ],
 "metadata": {
  "celltoolbar": "Slideshow",
  "kernelspec": {
   "display_name": "Matlab",
   "language": "matlab",
   "name": "matlab"
  },
  "language_info": {
   "codemirror_mode": "octave",
   "file_extension": ".m",
   "help_links": [
    {
     "text": "MetaKernel Magics",
     "url": "https://github.com/calysto/metakernel/blob/master/metakernel/magics/README.md"
    }
   ],
   "mimetype": "text/x-octave",
   "name": "matlab",
   "version": "0.15.2"
  }
 },
 "nbformat": 4,
 "nbformat_minor": 2
}
