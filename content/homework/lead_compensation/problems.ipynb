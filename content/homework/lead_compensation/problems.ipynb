{
 "cells": [
  {
   "cell_type": "markdown",
   "metadata": {},
   "source": [
    "#### Swansea University\n",
    "#### College of Engineering\n",
    "\n",
    "## EGLM03 Modern Control Systems\n",
    "\n",
    "# Homework 2: Dominant Poles and Lead Compensation"
   ]
  },
  {
   "cell_type": "markdown",
   "metadata": {},
   "source": [
    "## Problems \n",
    "\n",
    "1. A certain control system has loop transfer function \n",
    "   \n",
    "   $$\\frac{2100 (s^2 + 8.1s + 12.6)}{s^7 + 30s^6 + 406s^5 + 2970s^4 + 11759s^3 + 27500s^2 + 39354s + 26460}$$\n",
    "   \n",
    "   Use MA\n",
    "   TLAB to determine the location of the poles and zeros of this transfer function in the s-plane. Use the function residue to determine the contribution made by each pole to the loop transfer function and hence reduce the order of the system by removing any poles that have contribution figures less than 0.2. For the remaining poles, identify the dominant pole pair and estimate the normalised rise time and peak overshoot in the system. "
   ]
  },
  {
   "cell_type": "markdown",
   "metadata": {},
   "source": [
    "2. A position control system for a satellite tracking dish has open-loop transfer function \n",
    "\n",
    "   $$G(s) = \\frac{K}{s(s+1)}$$\n",
    "   \n",
    "   Velocity feedback with gain $K_T$ is added to the system in order to achieve ideal damping with a settling time $t_s \\le 2.3$ s. Use the root locus technique to determine suitable values for $K$ and $K_T$.\n",
    "   "
   ]
  },
  {
   "cell_type": "markdown",
   "metadata": {},
   "source": [
    "3. A control system has a forward loop transfer function \n",
    "   \n",
    "   $$G(s)=\\frac{K}{(s+1)(s+3)}.$$ \n",
    "   \n",
    "   Assuming unity gain feedback is used to close the loop, design a cascade compensator $D_G(s)$ to satisfy the following criteria: $t_r \\le 0.4$ s, $M_p \\le 0.2$ using \n",
    "\n",
    "    a. a proportional + derivative (PD) compensator \n",
    "    \n",
    "    b. a lead compensator. \n",
    "\n",
    "    In each case, determine the value of $K$ required and the steady-state position error achieved. "
   ]
  },
  {
   "cell_type": "markdown",
   "metadata": {},
   "source": [
    "4. Re-work Question 2 as necessary in order to provide a velocity-error of less than 5%. "
   ]
  },
  {
   "cell_type": "markdown",
   "metadata": {},
   "source": [
    "5. A unity-gain feedback position control system has the transfer function \n",
    "   \n",
    "   $$G(s)=\\frac{K}{s(s+2)(s+4).}$$\n",
    "   \n",
    "   It is desired that the closed-loop dominant poles are such that the natural frequency $\\omega_n = 3$ rad/s and damping ratio $\\zeta = 0.5$. We also require that the velocity error constant $K_v = 2.7$. Show that the cascade lead compensator \n",
    "   \n",
    "   $$DG(s)= \\frac{7.53(s+2.2)}{s + 16.7}$$ \n",
    "\n",
    "   satisfies the design requirements and show that the required value of $K$ is 21.74. "
   ]
  },
  {
   "cell_type": "markdown",
   "metadata": {},
   "source": [
    "6. Consider the position control system shown in Figure 1. A compensator is to be designed to meet the following requirements \n",
    "\n",
    "   * Steady-state error in $c$ due to a constant unit disturbance $w$ should be less than 4/5. \n",
    "\n",
    "   * damping ratio is ideal. \n",
    "\n",
    "   a. Show that proportional control alone is not adequate \n",
    "   \n",
    "   b. that cascade proportional+derivative control will work, and that \n",
    "   \n",
    "   c. for a cascade compensator with transfer function $D(s) = K + K_ds$, find values for $K$ and $K_d$ to meet the design specifications. \n",
    "   \n",
    "![Figure 1](fig01.png)\n",
    "<div style=\"text-align:center\">Figure 1</div>"
   ]
  }
 ],
 "metadata": {
  "kernelspec": {
   "display_name": "Matlab",
   "language": "matlab",
   "name": "matlab"
  },
  "language_info": {
   "codemirror_mode": "octave",
   "file_extension": ".m",
   "help_links": [
    {
     "text": "MetaKernel Magics",
     "url": "https://github.com/calysto/metakernel/blob/master/metakernel/magics/README.md"
    }
   ],
   "mimetype": "text/x-octave",
   "name": "matlab",
   "version": "0.15.2"
  }
 },
 "nbformat": 4,
 "nbformat_minor": 2
}
