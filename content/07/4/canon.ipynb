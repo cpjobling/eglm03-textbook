{
 "cells": [
  {
   "cell_type": "markdown",
   "metadata": {
    "slideshow": {
     "slide_type": "notes"
    }
   },
   "source": [
    "# Canonical Forms\n",
    "\n",
    "Although a state-space model may uniquely represent a given dynamic\n",
    "system, there is no state-space model that uniquely represents a given\n",
    "transfer function. That is there are many state-space models that can be\n",
    "transformed into a given transfer function. If one begins the analysis\n",
    "of a dynamic system from an analysis of the elementary dynamics then the\n",
    "state space model that results from such an analysis will accurately\n",
    "reflect the physical state variables in the system. However, if one's\n",
    "analysis begins from a differential equation or (equivalently) from a\n",
    "transfer function, then it is convenient to transform the model\n",
    "description into one of a small number of \"standard\" or *canonical\n",
    "forms*."
   ]
  },
  {
   "cell_type": "markdown",
   "metadata": {
    "slideshow": {
     "slide_type": "slide"
    }
   },
   "source": [
    "## Part 1: Introducing Canonical Forms\n",
    "\n",
    "Standard forms for state space models derived from differential\n",
    "equations or transfer function models."
   ]
  },
  {
   "cell_type": "markdown",
   "metadata": {
    "slideshow": {
     "slide_type": "fragment"
    }
   },
   "source": [
    "-   Derivation of the companion form"
   ]
  },
  {
   "cell_type": "markdown",
   "metadata": {
    "slideshow": {
     "slide_type": "fragment"
    }
   },
   "source": [
    "* Example"
   ]
  },
  {
   "cell_type": "markdown",
   "metadata": {
    "slideshow": {
     "slide_type": "notes"
    }
   },
   "source": [
    "## Converting a Differential Equation into State Space Form "
   ]
  },
  {
   "cell_type": "markdown",
   "metadata": {
    "slideshow": {
     "slide_type": "notes"
    }
   },
   "source": [
    "These notes describe how a general differential equation may be converted into a state-space model."
   ]
  },
  {
   "cell_type": "markdown",
   "metadata": {
    "slideshow": {
     "slide_type": "slide"
    }
   },
   "source": [
    "### General Differential Equation"
   ]
  },
  {
   "cell_type": "markdown",
   "metadata": {
    "slideshow": {
     "slide_type": "notes"
    }
   },
   "source": [
    "Consider the general differential equation:"
   ]
  },
  {
   "cell_type": "markdown",
   "metadata": {
    "slideshow": {
     "slide_type": "fragment"
    }
   },
   "source": [
    "$$\\frac{d^{n}y}{dt^{n}} +\n",
    "a_{n-1}\\frac{d^{n-1}y}{dt^{n-1}}+a_{n-2}\\frac{d^{n-2}y}{dt^{n-2}}+\\cdots+a_1\\frac{dy}{dt}+a_0\n",
    "y = b_0 u$$"
   ]
  },
  {
   "cell_type": "markdown",
   "metadata": {
    "slideshow": {
     "slide_type": "fragment"
    }
   },
   "source": [
    "In class we will show how this can be converted into the so-called \"companion form\" state-space model."
   ]
  },
  {
   "cell_type": "markdown",
   "metadata": {
    "slideshow": {
     "slide_type": "notes"
    }
   },
   "source": [
    "We rearrange this equation so that the highest power is on the left\n",
    "\n",
    "$$\\frac{d^{n}y}{dt^{n}} = -a_{n-1}\\frac{d^{n-1}y}{dt^{n-1}}-a_{n-2}\\frac{d^{n-2}y}{dt^{n-2}}-\\cdots-a_1\\frac{dy}{dt}-a_0 y + b_0 u.$$ \n",
    "\n",
    "Let:\n",
    "\n",
    "$$\\begin{eqnarray*}\n",
    "x_1 &=& y \\\\ x_2 &=& \\frac{dy}{dt} \\\\\n",
    "x_3 & = & \\frac{d^2y}{dt^2} \\\\ \n",
    "\\vdots \\\\ \n",
    "x_{n-1} &=& \\frac{d^{n-2}y}{dt^{n-2}} \\\\ \n",
    "x_{n} &=& \\frac{d^{n-1}y}{dt^{n-1}}\n",
    "\\end{eqnarray*}$$\n",
    "\n",
    "If we differentiate both sides of these new definitions we obtain\n",
    "\n",
    "$$\\begin{eqnarray*}\n",
    "\\dot{x}_1 &=& \\frac{dy}{dt} \\\\\n",
    "\\dot{x}_2 &=& \\frac{d^2y}{dt^2} \\\\\n",
    "\\dot{x}_3 & = & \\frac{d^3y}{dt^3} \\\\ \n",
    "\\vdots \\\\ \n",
    "\\dot{x}_{n-1}  &=& \\frac{d^{n-1}y}{dt^{n-1}} \\\\\n",
    "\\dot{x}_{n} &=& \\frac{d^{n}y}{dt^{n}}\n",
    "\\end{eqnarray*}$$\n",
    "\n",
    "These equations represent the left-hand-side of the state equations and if we make the substitutions we get \n",
    "\n",
    "$$\\begin{eqnarray*}\n",
    "\\dot{x}_1 &=& x_2 \\\\ \n",
    "\\dot{x}_2 &=&  x_3   \\\\\n",
    "\\dot{x}_3 & = &  x_4 \\\\ \n",
    "\\vdots \\\\ \n",
    "\\dot{x}_{n-1}  &=& x_n \\\\ \n",
    "\\dot{x}_{n} &=& -a_{0}x_1 -a_1x_2 - \\cdots  -a_{n-2}x_{n-1} -a_{n-1}x_{n} + b_0 u\n",
    "\\end{eqnarray*}$$\n",
    "\n",
    "We then define the state vector \n",
    "\n",
    "$$\\mathbf{x}=[x_1,\\ x_2,\\ \\ldots,\\ x_n]^T$$ \n",
    "\n",
    "and the matrix form of the state equations are\n",
    "\n",
    "$$\\dot{\\mathbf{x}} = \\left[\\begin{array}{ccccc}\n",
    "  0 & 1 & 0 & \\cdots & 0 \\\\\n",
    "  0 & 0 & 1 & \\cdots & 0 \\\\\n",
    "  \\vdots & \\vdots & \\vdots & \\ddots & \\vdots \\\\\n",
    "  0 & 0 & 0 & \\cdots & 1 \\\\\n",
    "  -a_{0} & -a_{1} & -a_{2} & \\cdots & -a_{n-1}\n",
    "\\end{array}\\right]\\mathbf{x}+\\left[\\begin{array}{c}\n",
    "  0 \\\\\n",
    "  0 \\\\\n",
    "  0 \\\\\n",
    "  \\vdots \\\\\n",
    "  1\n",
    "\\end{array}\\right]u$$ \n",
    "\n",
    "The system matrix is in \"*companion form*\", so called because the coefficients in the final row are the same as for the differential equation. The output equation depends on the dependent variable of interest but the simplest is $y=x_1$ which gives the solution of the differential equation. Thus \n",
    "\n",
    "$$y = [1,\\ 0,\\ 0,\\ \\ldots, 0] \\mathbf{x}.$$"
   ]
  },
  {
   "cell_type": "markdown",
   "metadata": {
    "slideshow": {
     "slide_type": "notes"
    }
   },
   "source": [
    "### Transfer Function\n",
    "\n",
    "The transfer function equivalent of this differential equation is obtained from the differential equation: \n",
    "\n",
    "$$\\frac{d^{n}y}{dt^{n}} + a_{n-1}\\frac{d^{n-1}y}{dt^{n-1}}+a_{n-2}\\frac{d^{n-2}y}{dt^{n-2}}+\\cdots+a_1\\frac{dy}{dt}+a_0 y = b_0 u$$ \n",
    "\n",
    "The transform of this equation, ignoring initial conditions, is \n",
    "\n",
    "$$\\left(s^n + a_{n-1}s^{n-1}+a_{n-2}s^{n-2}+\\cdots+a_1s+a_0\\right)Y(s) = b_0 U(s)$$ \n",
    "\n",
    "so the transfer function is\n",
    "\n",
    "$$G(s) = \\frac{Y(s)}{U(s)} = \\frac{b_0}{s^n + a_{n-1}s^{n-1}+a_{n-2}s^{n-2}+\\cdots+a_1s+a_0}.$$ \n",
    "\n",
    "Note that the numerator has no terms in $s$. We shall consider completely general case for both proper and strictly proper systems later."
   ]
  },
  {
   "cell_type": "markdown",
   "metadata": {
    "slideshow": {
     "slide_type": "slide"
    }
   },
   "source": [
    "## The Companion Form \n",
    "\n",
    "We have just shown that a state space model for the system defined by the **general differential equation** was the **companion form**. This structure of this state-space model is illustrated in Figure 1."
   ]
  },
  {
   "cell_type": "markdown",
   "metadata": {
    "slideshow": {
     "slide_type": "slide"
    }
   },
   "source": [
    "### General differential equation\n",
    "\n",
    "$$\\frac{d^{n}y}{dt^{n}} +\n",
    "a_{n-1}\\frac{d^{n-1}y}{dt^{n-1}}+a_{n-2}\\frac{d^{n-2}y}{dt^{n-2}}+\\cdots+a_1\\frac{dy}{dt}+a_0\n",
    "y = b_0 u$$ "
   ]
  },
  {
   "cell_type": "markdown",
   "metadata": {
    "slideshow": {
     "slide_type": "fragment"
    }
   },
   "source": [
    "or transfer function \n",
    "\n",
    "$$\\begin{equation}\\label{canon1}\n",
    "G(s) = \\frac{Y(s)}{U(s)} = \\frac{b_0}{s^n +\n",
    "a_{n-1}s^{n-1}+a_{n-2}s^{n-2}+\\cdots+a_1s+a_0}.\\end{equation}$$ "
   ]
  },
  {
   "cell_type": "markdown",
   "metadata": {
    "slideshow": {
     "slide_type": "fragment"
    }
   },
   "source": [
    "The state variables in this model are the so-called \"*phase variables*\" $x_1 = y$,\n",
    "$x_2 = dy/dt$, $\\ldots$ $x_n = d^n/dt^n$."
   ]
  },
  {
   "cell_type": "markdown",
   "metadata": {
    "slideshow": {
     "slide_type": "subslide"
    }
   },
   "source": [
    "### Companion Form\n",
    "\n",
    "$$\\begin{eqnarray*}\n",
    " \\dot{\\mathbf{x}} &=&\n",
    "\\left[\\begin{array}{ccccc}\n",
    "  0 & 1 & 0 & \\cdots & 0 \\\\\n",
    "  0 & 0 & 1 & \\cdots & 0 \\\\\n",
    "  \\vdots & \\vdots & \\vdots & \\ddots & \\vdots \\\\\n",
    "  0 & 0 & 0 & \\cdots & 1 \\\\\n",
    "  -a_{0} & -a_{1} & -a_{2} & \\cdots & -a_{n-1}\n",
    "\\end{array}\\right]\\mathbf{x}+\\left[\\begin{array}{c}\n",
    "  0 \\\\\n",
    "  0 \\\\\n",
    "  0 \\\\\n",
    "  \\vdots \\\\\n",
    "  b_0\n",
    "\\end{array}\\right]u\\\\\n",
    "y & = & [1,\\ 0,\\ 0,\\ \\ldots, 0] \\mathbf{x}.\\end{eqnarray*}$$"
   ]
  },
  {
   "cell_type": "markdown",
   "metadata": {
    "slideshow": {
     "slide_type": "subslide"
    }
   },
   "source": [
    "### Figure 1: Block Diagram of Companion Form\n",
    "\n",
    "\n",
    "![Block Diagram of Companion Form](pictures/companion1.png)"
   ]
  },
  {
   "cell_type": "markdown",
   "metadata": {
    "slideshow": {
     "slide_type": "subslide"
    }
   },
   "source": [
    "### System with a Strictly Proper Transfer Function "
   ]
  },
  {
   "cell_type": "markdown",
   "metadata": {
    "slideshow": {
     "slide_type": "notes"
    }
   },
   "source": [
    "Now let us consider the case of a system that has derivatives of the\n",
    "input."
   ]
  },
  {
   "cell_type": "markdown",
   "metadata": {
    "slideshow": {
     "slide_type": "fragment"
    }
   },
   "source": [
    "A strictly proper system has transfer function\n",
    "$$G(s)=\\frac{Y(s)}{U(s)} = \\frac{b_ms^m +\n",
    "b_{m-1}s^{m-1}+b_{m-2}s^{m-2}+\\cdots+b_1s+b_0}{s^n +\n",
    "a_{n-1}s^{n-1}+a_{n-2}s^{n-2}+\\cdots+a_1s+a_0}$$ \n",
    "\n",
    "where $m<n$."
   ]
  },
  {
   "cell_type": "markdown",
   "metadata": {
    "slideshow": {
     "slide_type": "fragment"
    }
   },
   "source": [
    "How is this more general system converted into a state-space model?"
   ]
  },
  {
   "cell_type": "markdown",
   "metadata": {
    "slideshow": {
     "slide_type": "notes"
    }
   },
   "source": [
    "Well, let us introduce an intermediate variable $W(s)$ and use this to\n",
    "split the transfer function into two parts like so: \n",
    "\n",
    "$$\\begin{equation}\n",
    "W(s) = \\frac{1}{s^n +\n",
    "a_{n-1}s^{n-1}+a_{n-2}s^{n-2}+\\cdots+a_1s+a_0}U(s)\\end{equation}$$ \n",
    "and\n",
    "$$\\begin{equation}\\label{eq:l5e2}\n",
    "Y(s) = \\left(b_ms^m +\n",
    "b_{m-1}s^{m-1}+b_{m-2}s^{m-2}+\\cdots+b_1s+b_0\\right)W(s).\\end{equation}$$\n",
    "\n",
    "Now equation (2) has the same form as the system of equation (1) with $b_0 = 1$. So if we define our first phase\n",
    "variable to be $X_1(s) = W(s)$ then the state matrix $\\mathbf{A}$ will be the same as for the previous example and the input matrix $\\mathbf{B} = \\left[0, 0, \\ldots, 1\\right]^T$. To determine the output matrix $\\mathbf{C}$ we inverse Laplace transform equation (3) to\n",
    "get: \n",
    "$$\\begin{equation}\n",
    "y(t) = b_m\\frac{d^m}{dt^m}w(t) +\n",
    "b_{m-1}\\frac{d^{m-1}}{dt^{m-1}}w(t)+\\cdots+b_1\\frac{d}{dt}w(t)+\n",
    "b_0w(t).\\end{equation}$$ \n",
    "Now, since by definition $x_1(t) = w(t)$, then\n",
    "$$\\begin{equation}y(t) = b_mx_{m+1}(t) + b_{m-1}x_m(t)+\\cdots+b_1x_2(t)+\n",
    "b_0x_1(t).\\end{equation}$$ \n",
    "Where, in (5), substitutions have been made according to the definition of the phase variables. \n",
    "\n",
    "The vector state equations are therefore: \n",
    "\n",
    "$$\\begin{eqnarray*}\n",
    " \\dot{\\mathbf{x}} &=&\n",
    "\\left[\\begin{array}{ccccc}\n",
    "  0 & 1 & 0 & \\cdots & 0 \\\\\n",
    "  0 & 0 & 1 & \\cdots & 0 \\\\\n",
    "  \\vdots & \\vdots & \\vdots & \\ddots & \\vdots \\\\\n",
    "  0 & 0 & 0 & \\cdots & 1 \\\\\n",
    "  -a_{0} & -a_{1} & -a_{2} & \\cdots & -a_{n-1}\n",
    "\\end{array}\\right]\\mathbf{x}+\\left[\\begin{array}{c}\n",
    "  0 \\\\\n",
    "  0 \\\\\n",
    "  0 \\\\\n",
    "  \\vdots \\\\\n",
    "  1\n",
    "\\end{array}\\right]u\\\\\n",
    "y & = & [b_0,\\ b_1,\\ \\dots,\\ b_{m-1}, b_m]\n",
    "\\mathbf{x}.\\end{eqnarray*}$$ \n",
    "\n",
    "Note that the coefficients of the numerator appear in reverse order in the $\\mathbf{C}$ matrix. The structure of\n",
    "this system is illustrated in Figure 2 for the case $m=n-1$."
   ]
  },
  {
   "cell_type": "markdown",
   "metadata": {
    "slideshow": {
     "slide_type": "subslide"
    }
   },
   "source": [
    "### Figure 2: System with a Strictly Proper Transfer Function\n",
    "\n",
    "![System with a Strictly Proper Transfer Function](pictures/companion2.png)"
   ]
  },
  {
   "cell_type": "markdown",
   "metadata": {
    "slideshow": {
     "slide_type": "notes"
    }
   },
   "source": [
    "### System with a Proper Transfer Function \n",
    "\n",
    "The general form of a transfer function of a proper single-input,\n",
    "single-output system of order $n$ is\n",
    "$$\\frac{b_ns^n+b_{n-1}s^{n-1}+\\cdots+b_1s + b_0}{s^n+a_{n-1}s^{n-1}+\\cdots+a_1s + a_0}$$\n",
    "How is this system converted into state-space form?\n",
    "\n",
    "The general form of a transfer function of a proper single-input,\n",
    "single-output system of order $n$ is\n",
    "$$\\frac{b_ns^n+b_{n-1}s^{n-1}+\\cdots+b_1s + b_0}{s^n+a_{n-1}s^{n-1}+\\cdots+a_1s + a_0}$$\n",
    "How is this system converted into state-space form?\n",
    "\n",
    "An alternative form, obtained by dividing the numerator by the\n",
    "denominator, is\n",
    "$$b_n+\\frac{(b_{n-1} - b_n a_{n-1})s^{n-1}+\\cdots+(b_1 - b_n a_1)+(b_0 - b_n a_0)}{s^n+a_{n-1}s^{n-1}+\\cdots+a_1s + a_0}.$$\n",
    "If we define $d=b_n$ and the modified numerator coefficients are\n",
    "$$c_j=b_j - b_n a_j,\\ j=1,2,\\ldots,n$$ then the transfer function may be\n",
    "re-written\n",
    "$$d+\\frac{c_{n-1}s^{n-1}+c_{n-2}s^{n-2}+\\cdots+c_1s + c_n}{s^n+a_{n-1}s^{n-1}+\\cdots++a_1s + a_0}.$$\n",
    "Writing the transfer function in its functional form we have:\n",
    "$$Y(s)=d U(s) +\\frac{c_{n-1}s^{n-1}+c_{n-2}s^{n-2}+\\cdots+c_1s +\n",
    "c_0}{s^n+a_{n-1}s^{n-1}+\\cdots+a_1s + a_0}U(s).$$ Performing a similar\n",
    "analysis, as before, we obtain the state-equations for a proper system:\n",
    "$$\\begin{aligned}\n",
    "\\dot{\\mathbf{x}} & = & \\left[\\begin{array}{ccccc}\n",
    "  0 & 1 & 0 & \\cdots & 0 \\\\\n",
    "  0 & 0 & 1 & \\cdots & 0 \\\\\n",
    "  \\vdots & \\vdots & \\vdots & \\ddots & \\vdots \\\\\n",
    "  0 & 0 & 0 & \\cdots & 1 \\\\\n",
    "  -a_{0} & -a_{1} & -a_{2} & \\cdots & -a_{n-1}\n",
    "\\end{array}\\right]\\mathbf{x}+\\left[\\begin{array}{c}\n",
    "  0 \\\\\n",
    "  0 \\\\\n",
    "  0 \\\\\n",
    "  \\vdots \\\\\n",
    "  1\n",
    "\\end{array}\\right]u\\\\\n",
    "y & = & [c_0,\\ c_1,\\ \\dots,\\ c_{n-1}, c_n] \\mathbf{x} + d\n",
    "u.\\end{aligned}$$ The block diagram fro this system is illustrated in .\n",
    "\n",
    "[\\[slide:proper\\]]{#slide:proper label=\"slide:proper\"}\n",
    "\n",
    "A system has transfer function\n",
    "$$G(s)=\\frac{Y(s)}{U(s)}=\\frac{2s^3 + 16s^2 + 30s + 8}{s^3 + 7s^2 + 10s}$$\n",
    "This system is \"proper\" because order of numerator equals order of\n",
    "denominator.\n",
    "\n",
    "Determine the system state-space model in companion form.\n",
    "\n",
    "In class we will:\n",
    "\n",
    "-   Work through the three cases introduced here\n",
    "\n",
    "-   Complete the worked example"
   ]
  },
  {
   "cell_type": "markdown",
   "metadata": {
    "slideshow": {
     "slide_type": "notes"
    }
   },
   "source": [
    "### Example 1\n",
    "\n",
    "A system has transfer function\n",
    "$$G(s)=\\frac{Y(s)}{U(s)}=\\frac{2s^3 + 16s^2 + 30s + 8}{s^3 + 7s^2 + 10s}$$\n",
    "This system is \"proper\" because order of numerator equals order of\n",
    "denominator.\n",
    "\n",
    "Determine the system state-space model in companion form."
   ]
  },
  {
   "cell_type": "markdown",
   "metadata": {
    "slideshow": {
     "slide_type": "notes"
    }
   },
   "source": [
    "#### Solution \n",
    "\n",
    "First divide the numerator into the denominator to get $$\\begin{aligned}\n",
    "G(s)&=&\\frac{2(s^3 + 7s^2 + 10s) + 2s^2 + 10s + 8}{s^3 + 7s^2 +\n",
    "10s}\\\\ &=& \\frac{2s^2 + 10s + 8}{s^3 + 7s^2 + 10s} +\n",
    "2.\\end{aligned}$$\n",
    "\n",
    "The companion form of the state matrices are $$\\begin{aligned}\n",
    "\\mathbf{A} & = & \\left[\\begin{array}{ccc}\n",
    "  0 & 1 & 0 \\\\\n",
    "  0 & 0 & 1 \\\\\n",
    "  0 & -10 & -7\n",
    "\\end{array}\\right]\\ \\mathbf{B}=\\left[\\begin{array}{c}\n",
    "  0 \\\\\n",
    "  0 \\\\\n",
    "  1\n",
    "\\end{array}\\right]\\\\ \\mathbf{C} & = & \\left[\\begin{array}{ccc}\n",
    "  8 & 10 & 2\n",
    "\\end{array}\\right]\\ \\mathbf{D}=\\left[2\\right]\\end{aligned}$$\n",
    "\n",
    "-   Controller canonical form\n",
    "\n",
    "-   Observer canonical form\n",
    "\n",
    "-   Normal form\n",
    "\n",
    "-   Jordan forms"
   ]
  },
  {
   "cell_type": "markdown",
   "metadata": {
    "slideshow": {
     "slide_type": "fragment"
    }
   },
   "source": [
    "- Controller and Observer Canonical Forms"
   ]
  },
  {
   "cell_type": "markdown",
   "metadata": {
    "slideshow": {
     "slide_type": "fragment"
    }
   },
   "source": [
    "- Normal form"
   ]
  },
  {
   "cell_type": "markdown",
   "metadata": {
    "slideshow": {
     "slide_type": "fragment"
    }
   },
   "source": [
    "- Jordan forms"
   ]
  },
  {
   "cell_type": "markdown",
   "metadata": {
    "slideshow": {
     "slide_type": "notes"
    }
   },
   "source": [
    "## Controller Canonical Form\n",
    "\n",
    "If one defines a transfer function in , e.g. as shown in , the result of\n",
    "converting the system into state-space form is rather surprisingly not\n",
    "the companion form we have seen before. Instead, the result is what is\n",
    "known as the *Controller Canonical Form*. This is still a companion form\n",
    "because the coefficients of the $\\mathbf{A}$ and $\\mathbf{C}$ matrices\n",
    "are the coefficients of the transfer function's denominator and\n",
    "numerator polynomials.\n",
    "\n",
    "[\\[slide:l5s5\\]]{#slide:l5s5 label=\"slide:l5s5\"} Let $$G(s)\n",
    "=\\frac{Y(s)}{U(s)} = \\frac{s^2 + 7s + 2 }{s^3 + 9s^2 + 26s + 24}$$\n",
    "\n",
    "    >> num=[1, 7, 2]; den=[1, 9, 26 24];\n",
    "    >> [A,B,C,D]=tf2ss(num,den);\n",
    "\n",
    "Result: $$\\begin{aligned}\n",
    "\\dot{\\mathbf{x}} & = &\\left[\\begin{array}{ccc}\n",
    "  -9 & -26 & -24  \\\\\n",
    "  1 & 0 & 0  \\\\\n",
    "  0 & 1  & 0\n",
    " \\end{array}\\right]\\mathbf{x}+\\left[\\begin{array}{c}\n",
    "  1 \\\\\n",
    "  0 \\\\\n",
    "  0\n",
    "\\end{array}\\right]u\\\\\n",
    "y & = & [1,\\ 7,\\ 2] \\mathbf{x}.\\end{aligned}$$\n",
    "\n",
    "The controller canonical form is simply obtained by re-ordering the\n",
    "phase variables as shown in , and . The general form of the controller\n",
    "canonical state-space model is as shown in .\n",
    "\n",
    "[\\[slide:l5s6\\]]{#slide:l5s6 label=\"slide:l5s6\"} $$\\begin{aligned}\n",
    " \\left[\\begin{array}{c}\n",
    "  \\dot{x}_{1} \\\\\n",
    "  \\dot{x}_{2} \\\\\n",
    "  \\vdots \\\\\n",
    "  \\dot{x}_{n-1} \\\\\n",
    "  \\dot{x}_n\n",
    "\\end{array}\\right] &=& \\left[\\begin{array}{ccccc}\n",
    "  0 & 1 & 0 & \\cdots & 0 \\\\\n",
    "  0 & 0 & 1 & \\cdots & 0 \\\\\n",
    "  \\vdots & \\vdots & \\vdots & \\ddots & \\vdots \\\\\n",
    "  0 & 0 & 0 & \\cdots & 1 \\\\\n",
    "  -a_{0} & -a_{1} & -a_{2} & \\cdots & -a_{n-1}\n",
    "\\end{array}\\right]\\left[\\begin{array}{c}\n",
    "  {x}_{1} \\\\\n",
    "  {x}_{2} \\\\\n",
    "  \\vdots \\\\\n",
    "  {x}_{n-1} \\\\\n",
    "  {x}_{n}\n",
    "\\end{array}\\right]+\\left[\\begin{array}{c}\n",
    "  0 \\\\\n",
    "  0 \\\\\n",
    "  \\vdots \\\\\n",
    "  0 \\\\\n",
    "  1\n",
    "\\end{array}\\right]u\\\\\n",
    "y & = & [b_0,\\ b_1,\\ \\dots,\\ b_{n-2}, b_{n-1}][\n",
    "  {x}_{1},\\\n",
    "  {x}_{2},\\\n",
    "  \\ldots,\\\n",
    "  {x}_{n-1},\\\n",
    "  {x}_{n}]^T\\end{aligned}$$\n",
    "\n",
    "[\\[slide:l5s6-2\\]]{#slide:l5s6-2 label=\"slide:l5s6-2\"}\n",
    "\n",
    "$$\\begin{aligned}\n",
    " \\left[\\begin{array}{c}\n",
    "  \\dot{x}_{n} \\\\\n",
    "  \\dot{x}_{n-1} \\\\\n",
    "  \\vdots \\\\\n",
    "  \\dot{x}_{2} \\\\\n",
    "  \\dot{x}_{1}\n",
    "\\end{array}\\right] &=& \\left[\\begin{array}{ccccc}\n",
    "  0 & 1 & 0 & \\cdots & 0 \\\\\n",
    "  0 & 0 & 1 & \\cdots & 0 \\\\\n",
    "  \\vdots & \\vdots & \\vdots & \\ddots & \\vdots \\\\\n",
    "  0 & 0 & 0 & \\cdots & 1 \\\\\n",
    "  -a_{0} & -a_{1} & -a_{2} & \\cdots & -a_{n-1}\n",
    "\\end{array}\\right]\\left[\\begin{array}{c}\n",
    "  {x}_{n} \\\\\n",
    "  {x}_{n-1} \\\\\n",
    "  \\vdots \\\\\n",
    "  {x}_{2} \\\\\n",
    "  {x}_{1}\n",
    "\\end{array}\\right]+\\left[\\begin{array}{c}\n",
    "  0 \\\\\n",
    "  0 \\\\\n",
    "  \\vdots \\\\\n",
    "  0 \\\\\n",
    "  1\n",
    "\\end{array}\\right]u\\\\ y & = & [b_0,\\ b_1,\\ \\dots,\\ b_{n-2}, b_{n-1}]\n",
    "\\left[\n",
    "  {x}_{n},\\\n",
    "  {x}_{n-1},\\\n",
    "  \\ldots,\\\n",
    "  {x}_{2},\\\n",
    "  {x}_{1}\n",
    "\\right]^T\\end{aligned}$$\n",
    "\n",
    "[\\[slide:l5s7\\]]{#slide:l5s7 label=\"slide:l5s7\"}\n",
    "\n",
    "$$\\begin{aligned}\n",
    " \\left[\\begin{array}{c}\n",
    "  \\dot{x}_{1} \\\\\n",
    "  \\dot{x}_{2} \\\\\n",
    "  \\vdots \\\\\n",
    "  \\dot{x}_{n-1} \\\\\n",
    "  \\dot{x}_{n}\n",
    "\\end{array}\\right] &=& \\left[\\begin{array}{ccccc}\n",
    " -a_{n-1} & -a_{n-2} & \\cdots & -a_{1} & -a_{0} \\\\\n",
    "   1 & 0 & \\cdots & 0 & 0 \\\\\n",
    "  0 & 1 & \\cdots & 0 & 0 \\\\\n",
    "  \\vdots & \\vdots & \\ddots & \\vdots & \\vdots \\\\\n",
    "  0 & 0 & \\cdots & 1 & 0\n",
    "\\end{array}\\right]\\left[\\begin{array}{c}\n",
    "  {x}_{1} \\\\\n",
    "  {x}_{2} \\\\\n",
    "  \\vdots \\\\\n",
    "  {x}_{n-1} \\\\\n",
    "  {x}_{n}\n",
    "\\end{array}\\right]+\\left[\\begin{array}{c}\n",
    "  1 \\\\\n",
    "  0 \\\\\n",
    "  \\vdots \\\\\n",
    "  0 \\\\\n",
    "  0\n",
    "\\end{array}\\right]u\\\\ y & = & [b_{n-1},\\ b_{n-2},\\ \\dots,\\ b_{1}, b_{0}]\n",
    "\\left[\n",
    "  {x}_{1},\\\n",
    "  {x}_{2},\\\n",
    "  \\ldots,\\\n",
    "  {x}_{n-1},\\\n",
    "  {x}_{n}\n",
    "\\right]^T\\end{aligned}$$\n",
    "\n",
    "[\\[slide:l5s8\\]]{#slide:l5s8 label=\"slide:l5s8\"}"
   ]
  },
  {
   "cell_type": "markdown",
   "metadata": {
    "slideshow": {
     "slide_type": "notes"
    }
   },
   "source": [
    "## Observer Canonical Form \n",
    "\n",
    "The observer canonical form is the \\\"dual\\\" of the controller canonical\n",
    "form.\n",
    "\n",
    "The observer canonical form is the \\\"dual\\\" of the controller canonical\n",
    "form. The state equations are shown in . Note that the $\\mathbf{A}$\n",
    "matrix is the transpose of the controller canonical form and that\n",
    "$\\mathbf{b}$ and $\\mathbf{c}$ are the transposes of the $\\mathbf{c}$ and\n",
    "$\\mathbf{b}$ matrices, respectively, of the controller canonical form.\n",
    "\n",
    "[\\[slide:l5s9\\]]{#slide:l5s9 label=\"slide:l5s9\"} $$\\begin{aligned}\n",
    " \\left[\\begin{array}{c}\n",
    "  \\dot{x}_{1} \\\\\n",
    "  \\dot{x}_{2} \\\\\n",
    "  \\vdots \\\\\n",
    "  \\dot{x}_{n-1} \\\\\n",
    "  \\dot{x}_{n}\n",
    "\\end{array}\\right] &=& \\left[\\begin{array}{ccccc}\n",
    " -a_{n-1} & 1 & 0 & \\cdots & 0 \\\\\n",
    " -a_{n-2} & 0 & 1 & \\cdots & 0 \\\\\n",
    " -a_{n-3} & 0 & 0 & \\cdots & 0 \\\\\n",
    "  \\vdots & \\vdots & \\vdots & \\ddots & \\vdots \\\\\n",
    " -a_{1} & 0 & \\cdots & 0 & 1 \\\\\n",
    " -a_{0} & 0 & \\cdots & 0 & 0\n",
    "\\end{array}\\right]\\left[\\begin{array}{c}\n",
    "  {x}_{1} \\\\\n",
    "  {x}_{2} \\\\\n",
    "  {x}_{3} \\\\\n",
    "  \\vdots \\\\\n",
    "  {x}_{n-1} \\\\\n",
    "  {x}_{n}\n",
    "\\end{array}\\right]+\\left[\\begin{array}{c}\n",
    "  b_{n-1} \\\\\n",
    "  b_{n-2} \\\\\n",
    "  b_{n-3} \\\\\n",
    "  \\vdots \\\\\n",
    "  b_{1} \\\\\n",
    "  b_0\n",
    "\\end{array}\\right]u\\\\ y & = & [1,\\ 0,\\ 0,\\ \\ldots, 0]\\left[\n",
    "  {x}_{1},\\\n",
    "  {x}_{2},\\\n",
    "  \\ldots,\\\n",
    "  {x}_{n-1},\\\n",
    "  {x}_{n}\n",
    "\\right]^T\\end{aligned}$$\n",
    "\n",
    "[\\[slide:l5s\\]]{#slide:l5s label=\"slide:l5s\"}"
   ]
  },
  {
   "cell_type": "markdown",
   "metadata": {
    "slideshow": {
     "slide_type": "notes"
    }
   },
   "source": [
    "### Example 2: Companion Forms\n",
    "\n",
    "The system with transfer function\n",
    "$$G(s)=\\frac{Y(s)}{U(s)}=\\frac{2s^3 + 16s^2 + 30s + 8}{s^3 + 7s^2 + 10s}$$\n",
    "was found, earlier, to have companion form $$\\begin{aligned}\n",
    "\\mathbf{A} & = & \\left[\\begin{array}{ccc}\n",
    "  0 & 1 & 0 \\\\\n",
    "  0 & 0 & 1 \\\\\n",
    "  0 & -10 & -7\n",
    "\\end{array}\\right]\\ \\mathbf{B}=\\left[\\begin{array}{c}\n",
    "  0 \\\\\n",
    "  0 \\\\\n",
    "  1\n",
    "\\end{array}\\right]\\\\ \\mathbf{C} & = & \\left[\\begin{array}{ccc}\n",
    "  8 & 10 & 2\n",
    "\\end{array}\\right]\\ \\mathbf{D}=\\left[2\\right]\\end{aligned}$$\n",
    "\n",
    "Express this system in controller canonical and observer canonical\n",
    "forms.\n",
    "\n",
    "The system with transfer function\n",
    "$$G(s)=\\frac{Y(s)}{U(s)}=\\frac{2s^3 + 16s^2 + 30s + 8}{s^3 + 7s^2 + 10s}$$\n",
    "was found, earlier, to have companion form $$\\begin{aligned}\n",
    "\\mathbf{A} & = & \\left[\\begin{array}{ccc}\n",
    "  0 & 1 & 0 \\\\\n",
    "  0 & 0 & 1 \\\\\n",
    "  0 & -10 & -7\n",
    "\\end{array}\\right]\\ \\mathbf{B}=\\left[\\begin{array}{c}\n",
    "  0 \\\\\n",
    "  0 \\\\\n",
    "  1\n",
    "\\end{array}\\right]\\\\ \\mathbf{C} & = & \\left[\\begin{array}{ccc}\n",
    "  8 & 10 & 2\n",
    "\\end{array}\\right]\\ \\mathbf{D}=\\left[2\\right]\\end{aligned}$$\n",
    "\n",
    "Express this system in controller canonical and observer canonical\n",
    "forms.\n",
    "\n",
    "The controller canonical form is obtained by re-ordering the state\n",
    "variables: $$\\begin{aligned}\n",
    "\\mathbf{A} & = & \\left[\\begin{array}{ccc}\n",
    "  -7 & -10 & 0 \\\\\n",
    "  1 & 0 & 0 \\\\\n",
    "  0 & 1 & 0\n",
    "\\end{array}\\right]\\ \\mathbf{B}=\\left[\\begin{array}{c}\n",
    "  1 \\\\\n",
    "  0 \\\\\n",
    "  0\n",
    "\\end{array}\\right]\\\\ \\mathbf{C} & = & \\left[\\begin{array}{ccc}\n",
    "  2 & 10 & 8\n",
    "\\end{array}\\right]\\ \\mathbf{D}=\\left[2\\right]\\end{aligned}$$ and the\n",
    "observable canonical form is obtained by transposing the $\\mathbf{A}$\n",
    "matrix and letting $\\mathbf{B} = \\mathbf{C}^T$ and\n",
    "$\\mathbf{C}=\\mathbf{B}^T$. $$\\begin{aligned}\n",
    "\\mathbf{A} & = & \\left[\\begin{array}{ccc}\n",
    "  -7 & 1 & 0 \\\\\n",
    "  -10 & 0 & 1 \\\\\n",
    "  0 & 0 & 0\n",
    "\\end{array}\\right]\\ \\mathbf{B}=\\left[\\begin{array}{c}\n",
    "  2 \\\\\n",
    "  10 \\\\\n",
    "  8\n",
    "\\end{array}\\right]\\\\ \\mathbf{C} & = & \\left[\\begin{array}{ccc}\n",
    "  1 & 0 & 0\n",
    "\\end{array}\\right]\\ \\mathbf{D}=\\left[2\\right]\\end{aligned}$$\n",
    "\n",
    "[\\[slide:l5s10\\]]{#slide:l5s10 label=\"slide:l5s10\"}\n",
    "\n",
    "    >> num = [2, 16, 30, 8]; den = [1, 7, 10, 0];\n",
    "    >> G = tf(num,den);\n",
    "    >> Gcc = ss(G);\n",
    "    >> [Acc,Bcc,Ccc,Dcc]=ssdata(Gcc);\n",
    "\n",
    "The resulting variables `A`, `B`, `C`, and `D` are in controller\n",
    "canonical form.\n",
    "\n",
    "    >> Goc = ss(Acc',Ccc',Bcc',Dcc);\n",
    "\n",
    "will create the observer canonical form.\n",
    "\n",
    "[\\[slide:15s10a\\]]{#slide:15s10a label=\"slide:15s10a\"} To obtain the\n",
    "companion form, some trickery is needed to re-order the controller\n",
    "canonical state matrices:\n",
    "\n",
    "    >> [n,m]=size(Acc); % n = m = 3 for the example\n",
    "    >> Acf = Acc(n:-1:1,n:-1:1);\n",
    "    >> Bcf = Bcc(n:-1:1,:);\n",
    "    >> Ccf = Ccc(:,n:-1:1);\n",
    "    >> Dcf = Dcc;\n",
    "\n",
    "The companion form is then created from the reordered matrices.\n",
    "\n",
    "    >> Gcf = ss(Acf,Bcf,Ccf,Dcf);\n",
    "\n",
    "[\\[slide:l5s11\\]]{#slide:l5s11 label=\"slide:l5s11\"}\n",
    "\n",
    "    >> G1 = tf(Gcf) % Companion form\n",
    "    Transfer function:\n",
    "    2 s^3 + 16 s^2 + 30 s + 8\n",
    "    -------------------------\n",
    "       s^3 + 7 s^2 + 10 s\n",
    "    >> G2 = tf(Gcc) % Controller Canonical form\n",
    "    ditto!\n",
    "    >> G3 = tf(Goc) % Observer Canonical Form\n",
    "    ditto!\n",
    "\n",
    "We now consider one final canonical form, the so-called \"normal\" or\n",
    "\"parallel\" form.\n",
    "\n",
    "## Normal Canonical Form \n",
    "\n",
    "The normal form of a state-space model isolates the characteristic\n",
    "values, also called the eigen values, or system poles, of the system.\n",
    "\n",
    "If all the poles of a system are real and distinct then the transfer\n",
    "function may be written as a partial fraction expansion\n",
    "$$G(s) = \\frac{Y(s)}{U(s)} = \\left\\{\\frac{r_1}{s-p_1} +\n",
    "\\frac{r_2}{s-p_2} + \\cdots + \\frac{r_n}{s-p_n} + d\\right\\}$$ we can\n",
    "develop a state-space model for each term:\n",
    "$$Y(s)=\\frac{r_i}{s-p_i}U(s).$$ $$\\begin{aligned}\n",
    "(s-p_i)Y(s) & = & r_i U(s)\\\\ \\frac{d}{dt}y(t)-p_i y(t) &=& r_i\n",
    "u(t).\\end{aligned}$$ If we let $x_i(t) = y(t)$ then $$\\begin{aligned}\n",
    "\\dot{x}_i &=& p_i x_i + r_i u \\\\ y &=& x_i\\end{aligned}$$ Thus, each\n",
    "partial fraction term may be represented by the block diagram shown in .\n",
    "\n",
    "[\\[slide:l6s1\\]]{#slide:l6s1 label=\"slide:l6s1\"} $$\\begin{aligned}\n",
    "\\dot{x}_i &=& p_i x_i + r_i u \\\\ y &=& x_i\\end{aligned}$$\n",
    "\n",
    "Thus, the total state-space model of the system is simply the sum of\n",
    "such terms as shown in .\n",
    "\n",
    "[\\[slide:l6s2\\]]{#slide:l6s2 label=\"slide:l6s2\"}\n",
    "\n",
    "Therefore the state space model for the whole system is as shown in .\n",
    "\n",
    "[\\[slide:l6s3\\]]{#slide:l6s3 label=\"slide:l6s3\"} $$\\begin{aligned}\n",
    " \\mathbf{\\dot{x}}&=&\\left[\\begin{array}{ccccc}\n",
    "  p_1 & 0 & 0 & \\cdots & 0 \\\\\n",
    "  0 & p_2 & 0 & \\cdots & 0 \\\\\n",
    "  0 & 0 & p_3 & \\cdots & 0 \\\\\n",
    "  \\vdots & \\vdots & \\vdots & \\ddots & \\vdots \\\\\n",
    "  0 & 0 & 0 & \\cdots & p_n\n",
    "\\end{array}\\right] \\mathbf{x} + \\left[\\begin{array}{c}\n",
    "  r_1 \\\\\n",
    "  r_2 \\\\\n",
    "  r_3 \\\\\n",
    "  \\vdots \\\\\n",
    "  r_n\n",
    "\\end{array}\\right] u\\\\ y &=& \\left[1,\\ 1,\\ 1,\\ \\ldots,\\ 1\\right] \\mathbf{x} + d u\\end{aligned}$$\n",
    "\n",
    "Note that the residues of the partial fraction expansion $r_1,\\\n",
    "r_2,\\ \\ldots,\\ r_n$ have been allocated to the input side of the block\n",
    "diagram and therefore to the input matrix in the state space model. This\n",
    "model, in which all the elements of the output matrix are unity, is\n",
    "called the \"*Normal Observable Canonical Form*\". It would be equally\n",
    "valid to allocate the residues to the output matrix, leaving the\n",
    "elements of the input matrix as unity, this would be the \"*Normal\n",
    "Controllable Canonical Form*\" illustrated in .\n",
    "\n",
    "[\\[slide:l6s3b\\]]{#slide:l6s3b label=\"slide:l6s3b\"} $$\\begin{aligned}\n",
    " \\mathbf{\\dot{x}}&=&\\left[\\begin{array}{ccccc}\n",
    "  p_1 & 0 & 0 & \\cdots & 0 \\\\\n",
    "  0 & p_2 & 0 & \\cdots & 0 \\\\\n",
    "  0 & 0 & p_3 & \\cdots & 0 \\\\\n",
    "  \\vdots & \\vdots & \\vdots & \\ddots & \\vdots \\\\\n",
    "  0 & 0 & 0 & \\cdots & p_n\n",
    "\\end{array}\\right] \\mathbf{x} + \\left[\\begin{array}{c}\n",
    "  1 \\\\\n",
    "  1 \\\\\n",
    "  1 \\\\\n",
    "  \\vdots \\\\\n",
    "  1\n",
    "\\end{array}\\right] u\\\\ y &=& \\left[r_1,\\ r_2,\\ r_3,\\ \\ldots,\\ r_n\\right] \\mathbf{x} + d u\\end{aligned}$$\n",
    "\n",
    "The most important property of the normal canonical model is that the\n",
    "$\\mathbf{A}$ matrix is diagonal and that the elements on the diagonal\n",
    "are the eigenvalues of the system matrix. If you form the system\n",
    "transition matrix for this system each state response is simply of the\n",
    "form $r_i e^{p_i t}$, that is each state response is equal to the\n",
    "corresponding mode response[^1]."
   ]
  },
  {
   "cell_type": "markdown",
   "metadata": {
    "slideshow": {
     "slide_type": "notes"
    }
   },
   "source": [
    "### Example 3\n",
    "\n",
    "For the system examined earlier $$\\begin{aligned}\n",
    "G(s) &=& \\frac{2s^3 + 16s^2 + 30s + 8}{s^3 + 7s^2 + 10s} \\\\\n",
    " &=&\n",
    "\\frac{2s^2 + 10s + 8}{s^3 + 7s^2 + 10s} + 2 \\\\\n",
    " &=& \\frac{2s^2 + 10s + 8}{s(s+2)(s+5)} + 2 \\\\\n",
    " &=& \\frac{4/5}{s} + \\frac{2/3}{s+2} + \\frac{8/15}{s+5} + 2\n",
    "\\\\\\end{aligned}$$ The normal controllable canonical form therefore is:\n",
    "$$\\begin{aligned}\n",
    "\\mathbf{\\dot{x}}&=&\\left[\\begin{array}{ccc}\n",
    "  0 & 0 & 0  \\\\\n",
    "  0 & -2 & 0  \\\\\n",
    "  0 & 0 & -5  \\\\\n",
    " \\end{array}\\right] \\mathbf{x} + \\left[\\begin{array}{c}\n",
    "  4/5 \\\\\n",
    "  2/3 \\\\\n",
    "  8/15\n",
    "\\end{array}\\right] u\\\\ y &=& \\left[1,\\ 1,\\ 1\\right] \\mathbf{x} + d u\\end{aligned}$$\n",
    "and the normal observable canonical form is: $$\\begin{aligned}\n",
    "\\mathbf{\\dot{x}}&=&\\left[\\begin{array}{ccc}\n",
    "  0 & 0 & 0  \\\\\n",
    "  0 & -2 & 0  \\\\\n",
    "  0 & 0 & -5  \\\\\n",
    " \\end{array}\\right] \\mathbf{x} + \\left[\\begin{array}{c}\n",
    "  1 \\\\\n",
    "  1  \\\\\n",
    "  1\n",
    "\\end{array}\\right] u\\\\ y &=& \\left[4/5,\\ 2/3,\\ 8/15\\right] \\mathbf{x} + d u\\end{aligned}$$"
   ]
  },
  {
   "cell_type": "markdown",
   "metadata": {
    "slideshow": {
     "slide_type": "notes"
    }
   },
   "source": [
    "## Time Response from Normal Form \n",
    "\n",
    "Notice that in the case of a system defined in *normal form*, because\n",
    "the $\\mathbf{A}$ matrix is diagonal, the state equations are decoupled\n",
    "from each other and can be solved independently. This canonical form is\n",
    "useful for the solution of the state equations. Thus given initial\n",
    "states $x_1(t)=x_{10}$, $x_2(t)=x_{20}$, etc at $t=0$ and taking Laplace\n",
    "transforms of the first row of the state equations derived above, the\n",
    "solutions are: $$\\begin{aligned}\n",
    " sX_1 (s) - x_{10}  & = & p_1 X_1 (s) + r_1 U(s) \\\\\n",
    " (s - p_1 )X_1 (s) & = & x_{10}  + r_1 U(s) \\\\\n",
    " X_1 (s) & = & \\frac{x_{10} }{s - p_1 } + \\frac{r_1 }{s - p_1 }U(s)\\end{aligned}$$\n",
    "Taking inverse Laplace transforms:\n",
    "$$x_1 = x_{10}e^{p_1t}+r_1\\int_0^tu(\\tau)e^{p_1(t-\\tau)}d\\tau$$ and\n",
    "similarly for the other states.\n",
    "\n",
    "Given initial states $x_1(t)=x_{10}$, $x_2(t)=x_{20}$, etc at $t=0$\n",
    "$$\\begin{aligned}\n",
    "     sX_1 (s) - x_{10}  & = & p_1 X_1 (s) + r_1 U(s) \\\\\n",
    "     (s - p_1 )X_1 (s) & = & x_{10}  + r_1 U(s) \\\\\n",
    "     X_1 (s) & = & \\frac{x_{10}}{s - p_1 } + \\frac{r_1 }{s - p_1 }U(s)\n",
    "    \\end{aligned}$$ Taking inverse Laplace transforms:\n",
    "$$x_1 = x_{10}e^{p_1t}+r_1\\int_0^tu(\\tau)e^{p_1(t-\\tau)}d\\tau$$ Repeated\n",
    "for the other states.\n",
    "\n",
    "These are then combined through the output equation to give the solution\n",
    "for $y$: $$y(t) = x_1(t) + x_2(t) + ... + x_n(t) + du(t)$$\n",
    "$$\\begin{aligned}\n",
    "\ty(t) & = & x_{10}e^{p_1t}+r_1\\int_0^tu(\\tau)e^{p_1(t-\\tau)}d\\tau  \\\\\n",
    "         & + &\tx_{20}e^{p_2t}+r_2\\int_0^tu(\\tau)e^{p_2(t-\\tau)}d\\tau \\\\\n",
    "\t     & \\vdots & \\\\\n",
    "\t     & + & x_{n0}e^{p_nt}+r_n\\int_0^tu(\\tau)e^{p_n(t-\\tau)}d\\tau + du(t)\\end{aligned}$$\n",
    "\n",
    "Combine state responses through the output equation\n",
    "$$y(t) = x_1(t) + x_2(t) + ... + x_n(t) + du(t)$$ $$\\begin{aligned}\n",
    "\ty(t) & = & x_{10}e^{p_1t}+r_1\\int_0^tu(\\tau)e^{p_1(t-\\tau)}d\\tau  \\\\\n",
    "         & + &\tx_{20}e^{p_2t}+r_2\\int_0^tu(\\tau)e^{p_2(t-\\tau)}d\\tau \\\\\n",
    "\t     & \\vdots & \\\\\n",
    "\t     & + & x_{n0}e^{p_nt}+r_n\\int_0^tu(\\tau)e^{p_n(t-\\tau)}d\\tau + du(t)\\end{aligned}$$\n",
    "\n",
    "-   Systems with repeated poles\n",
    "\n",
    "-   Systems wih complex poles"
   ]
  },
  {
   "cell_type": "markdown",
   "metadata": {
    "slideshow": {
     "slide_type": "notes"
    }
   },
   "source": [
    "## System with Repeated Poles\n",
    "\n",
    "If the transfer function has repeated poles, then the form of the model\n",
    "must be changed. The partial fraction expansion contains terms of the\n",
    "form $$\\frac{r_i}{s-p_i} +\n",
    "\\frac{r_{i+1}}{(s-p_i)^2}.$$ This is most easily implemented using the\n",
    "*Normal Controllable Canonical Form* using a series connection of the\n",
    "block diagram for the single pole $$\\frac{1}{s-p_i}$$ as shown in . By\n",
    "examination of this diagram it should be clear that the signal seen at\n",
    "point $A$ is $$A(s) = \\frac{r_i}{s-p_i}U(s)$$ and that at $B$ is\n",
    "$$B(s) = \\frac{1}{s-p_i}\\times\\frac{1}{s-p_i}\\times r_{i+1} U(s)$$ as\n",
    "required.\n",
    "\n",
    "[\\[slide:l6s4\\]]{#slide:l6s4 label=\"slide:l6s4\"}\n",
    "\n",
    "For this portion of the state space model we have $$\\begin{aligned}\n",
    "\\left[\\begin{array}{c}\n",
    "  \\dot{x}_i \\\\\n",
    "  \\dot{x}_{i+1}\n",
    "\\end{array}\\right] &=& \\left[\\begin{array}{cc}\n",
    "  p_i & 1 \\\\\n",
    "  0 & p_i\n",
    "\\end{array}\\right]\\left[\\begin{array}{c}\n",
    "  x_i \\\\\n",
    "  x_{i+1}\n",
    "\\end{array}\\right] + \\left[\\begin{array}{c}\n",
    "  0 \\\\\n",
    "  1\n",
    "\\end{array}\\right] u\\\\\n",
    "y & = & \\left[r_{i+1},\\ r_i\\right]\\left[\\begin{array}{c}\n",
    "  x_i \\\\\n",
    "  x_{i+1}\n",
    "\\end{array}\\right].\\end{aligned}$$\n",
    "\n",
    "By comparison of this result with the normal situation we see that the\n",
    "state matrices (of the observer controllable canonical form) are\n",
    "modified as follows.\n",
    "\n",
    "-   in $\\mathbf{A}$ $$\\left[\\begin{array}{cc}\n",
    "        p_i & 0 \\\\\n",
    "        0 & p_{i+1} \\\\\n",
    "      \\end{array}\\right] \\rightarrow \\left[\\begin{array}{cc}\n",
    "        p_i & 1 \\\\\n",
    "        0 & p_{i} \\\\\n",
    "      \\end{array}\\right];$$\n",
    "\n",
    "-   in $\\mathbf{B}$ $$\\left[\\begin{array}{c}\n",
    "        1 \\\\\n",
    "        1  \\\\\n",
    "      \\end{array}\\right] \\rightarrow \\left[\\begin{array}{c}\n",
    "        0 \\\\\n",
    "        1 \\\\\n",
    "      \\end{array}\\right];$$\n",
    "\n",
    "-   in $\\mathbf{C}$ $$\\left[\\begin{array}{cc}\n",
    "        r_i & r_{i+1}\\\\\n",
    "      \\end{array}\\right] \\rightarrow \\left[\\begin{array}{cc}\n",
    "        r_{i+1} & r_i\\\\\n",
    "      \\end{array}\\right].$$\n",
    "\n",
    "The block $$\\left[\\begin{array}{cc}\n",
    "    p_i & 1 \\\\\n",
    "    0 & p_{i} \\\\\n",
    "  \\end{array}\\right]$$ is known as a \"*Jordan Block*\". A matrix with one\n",
    "(or more) Jordan Blocks instead of a pure diagonal\n",
    "$$\\left[\\begin{array}{cc}\n",
    "    p_i & 0 \\\\\n",
    "    0 & p_{i+1} \\\\\n",
    "  \\end{array}\\right]$$ is in the \"*Jordan Form*\". The idea may be\n",
    "extended to systems with poles of higher multiplicity. For example for\n",
    "the case where the multiplicity is 3 as in $$\\frac{1}{(s-p_i)^3}$$ the\n",
    "Jordan Block is $$\\left[\\begin{array}{ccc}\n",
    "    p_i & 1 & 0 \\\\\n",
    "    0 & p_{i} & 1 \\\\\n",
    "    0 & 0 & p_i\n",
    "  \\end{array}\\right].$$"
   ]
  },
  {
   "cell_type": "markdown",
   "metadata": {
    "slideshow": {
     "slide_type": "notes"
    }
   },
   "source": [
    "### Example 4\n",
    "\n",
    "The system with transfer function $$\\begin{aligned}\n",
    "G(s) &=& \\frac{1}{s^3 + 4s^2 + 5s + 2}\\\\\n",
    "&=& \\frac{1}{(s+1)^2(s+2)} \\\\ &=& \\frac{-1}{s+1} +\n",
    "\\frac{1}{(s+1)^2} + \\frac{1}{s+2}.\\end{aligned}$$ The normal canonical\n",
    "form is therefore given by: $$\\begin{aligned}\n",
    "\\mathbf{A} &=& \\left[\\begin{array}{ccc}\n",
    "  -1 & 1 & 0 \\\\\n",
    "  0 & -1 & 0 \\\\\n",
    "  0 & 0 & -2\n",
    "\\end{array}\\right] \\mathbf{B} = \\left[\\begin{array}{c}\n",
    "  0 \\\\\n",
    "  1 \\\\\n",
    "  1\n",
    "\\end{array}\\right]\\\\ \\mathbf{C} &=& \\left[\\begin{array}{ccc}\n",
    "  1 & -1 & 1\n",
    "\\end{array}\\right] \\mathbf{D} = \\left[0\\right]\\end{aligned}$$"
   ]
  },
  {
   "cell_type": "markdown",
   "metadata": {
    "slideshow": {
     "slide_type": "notes"
    }
   },
   "source": [
    "## Normal Canonical Form with Complex Poles\n",
    "\n",
    "A system with complex poles will have a partial fraction expansion\n",
    "containing terms of the form\n",
    "$$\\frac{\\Re\\{ r_i\\} + j\\Im\\{ r_i\\}}{s - \\Re\\{p_i\\} + j\\Im\\{p_i\\}} + \\frac{\\Re\\{r_i\\} - j\\Im\\{ r_i\\}}{s - \\Re\\{p_i\\} - j\\Im\\{p_i\\}}$$\n",
    "(where the poles and the residuals both appear as complex conjugate\n",
    "pairs). We cannot implement these directly in state space form because\n",
    "the state matrices must have real coefficients to be realisable.\n",
    "However, the complex factors involved can be combined into a quadratic\n",
    "form and blocks replaced in the normal canonical form[^2] as follows:\n",
    "\n",
    "-   in $\\mathbf{A}$ $$\\left[\\begin{array}{cc}\n",
    "        p_i & 0 \\\\\n",
    "        0 & p_{i+1} \\\\\n",
    "      \\end{array}\\right] \\rightarrow \\left[\\begin{array}{cc}\n",
    "        +\\Re\\{p_i\\} & +\\Im\\{p_i\\} \\\\\n",
    "        -\\Im\\{p_i\\} & +\\Re\\{p_i\\} \\\\\n",
    "      \\end{array}\\right];$$\n",
    "\n",
    "-   in $\\mathbf{B}$ $$\\left[\\begin{array}{c}\n",
    "        1 \\\\\n",
    "        1  \\\\\n",
    "      \\end{array}\\right] \\rightarrow \\left[\\begin{array}{c}\n",
    "        0 \\\\\n",
    "        1 \\\\\n",
    "      \\end{array}\\right];$$\n",
    "\n",
    "-   in $\\mathbf{C}$ $$\\left[\\begin{array}{cc}\n",
    "        r_i & r_{i+1}\\\\\n",
    "      \\end{array}\\right] \\rightarrow \\left[\\begin{array}{cc}\n",
    "        2\\Im\\{r_{i}\\} & 2\\Re\\{r_i\\}\\\\\n",
    "      \\end{array}\\right].$$"
   ]
  },
  {
   "cell_type": "markdown",
   "metadata": {
    "slideshow": {
     "slide_type": "notes"
    }
   },
   "source": [
    "### Example 5\n",
    "\n",
    "The system with transfer function $$\\begin{aligned}\n",
    "G(s) &=& \\frac{6s+6}{s^2 + 4s + 13}\\\\\n",
    "&=& \\frac{6(s+1)}{(s+2)^2 + 3^2} \\\\ &=&\n",
    "\\frac{6(s+1)}{(s+2+3j)(s+2-3j)}\n",
    "\\\\ &=& \\frac{3-j}{s+2+3j} + \\frac{3-j}{s+2-3j}.\\end{aligned}$$ The\n",
    "normal canonical form is therefore given by: $$\\begin{aligned}\n",
    "\\mathbf{A} &=& \\left[\\begin{array}{cc}\n",
    "  -2-3j & 0 \\\\\n",
    "  0 & -2+3j\n",
    "\\end{array}\\right] \\mathbf{B} = \\left[\\begin{array}{c}\n",
    "  1 \\\\\n",
    "  1\n",
    "\\end{array}\\right]\\\\ \\mathbf{C} &=& \\left[\\begin{array}{cc}\n",
    "  3-j & 3+j\n",
    "\\end{array}\\right] \\mathbf{D} = \\left[0\\right]\\end{aligned}$$ But this\n",
    "is not realisable so instead we use $$\\begin{aligned}\n",
    "\\mathbf{A} &=& \\left[\\begin{array}{cc}\n",
    "  -2 & -3 \\\\\n",
    "  3 & -2\n",
    "\\end{array}\\right] \\mathbf{B} = \\left[\\begin{array}{c}\n",
    "  0 \\\\\n",
    "  1\n",
    "\\end{array}\\right]\\\\ \\mathbf{C} &=& \\left[\\begin{array}{cc}\n",
    "  -2 & -6\n",
    "\\end{array}\\right] \\mathbf{D} = \\left[0\\right].\\end{aligned}$$\n",
    "\n",
    "In class we will work through the examples given here and if we have\n",
    "time we'll look at\n",
    "\n",
    "-   Examples of controllable and observable forms\n",
    "\n",
    "-   Normal form\n",
    "\n",
    "-   Time response of normal form\n",
    "\n",
    "-   Jordan forms"
   ]
  },
  {
   "cell_type": "markdown",
   "metadata": {
    "slideshow": {
     "slide_type": "notes"
    }
   },
   "source": [
    "## Footnotes\n",
    "\n",
    "[^1]: The proof is left as an exercise.\n",
    "\n",
    "[^2]: The details are left as an exercise."
   ]
  }
 ],
 "metadata": {
  "celltoolbar": "Slideshow",
  "kernelspec": {
   "display_name": "Matlab",
   "language": "matlab",
   "name": "matlab"
  },
  "language_info": {
   "codemirror_mode": "octave",
   "file_extension": ".m",
   "help_links": [
    {
     "text": "MetaKernel Magics",
     "url": "https://github.com/calysto/metakernel/blob/master/metakernel/magics/README.md"
    }
   ],
   "mimetype": "text/x-octave",
   "name": "matlab",
   "version": "0.15.2"
  }
 },
 "nbformat": 4,
 "nbformat_minor": 2
}
