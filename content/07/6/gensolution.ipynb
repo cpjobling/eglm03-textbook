{
 "cells": [
  {
   "cell_type": "markdown",
   "metadata": {
    "slideshow": {
     "slide_type": "slide"
    }
   },
   "source": [
    "# The General Solution of LTI Systems"
   ]
  },
  {
   "cell_type": "markdown",
   "metadata": {
    "slideshow": {
     "slide_type": "notes"
    }
   },
   "source": [
    "In this section we conclude our introduction to state space systems by developing a method that can be used to solve any linear time invariant (LTI) system using the state space model. This will put on a formal mathematical footing the approach described in [Section 7.3](../3/tr4ss). \n",
    "\n",
    "To do this we need to derive the Taylor series for the state matrix and then use the results from the previous two lectures to formally derive the state transmission matrix $\\mathbf{\\phi}(t)$ from the resolvant matrix $\\mathbf{\\Phi}(\\lambda) = |\\lambda\\mathbf{I}-\\mathbf{A}|$. This will lead is to a general solution which we will illustrate with examples and compare with the solution developed in the [last section](../5/systrans) and the solution obtained by inverting the system transfer function. As before, we will refer to MATLAB where relevant.\n",
    "\n",
    "Once we have completed this material, we will be in a position to move on to look at state-space methods for control system design."
   ]
  },
  {
   "cell_type": "markdown",
   "metadata": {
    "slideshow": {
     "slide_type": "slide"
    }
   },
   "source": [
    "## The Matrix Exponential Function\n",
    "\n",
    "In mathematics, the [Taylor series](https://en.wikipedia.org/wiki/Taylor_series) is a representation of a function as an infinite sum of terms calculated from the values of its derivatives at a single point. It is named after the English mathematician [Brook Taylor](https://en.wikipedia.org/wiki/Brook_Taylor). It is common practice to use a finite number of terms of the series to approximate a function. The Taylor series may be regarded as the limit of the Taylor polynomials.\n",
    "\n",
    "We use Taylor series to approximate general functions, and here we adapt the Taylor series to discover the form of a function of a matrix."
   ]
  },
  {
   "cell_type": "markdown",
   "metadata": {
    "slideshow": {
     "slide_type": "slide"
    }
   },
   "source": [
    "### Taylor series\n",
    "\n",
    "If a function $f(t)$ has Taylor series:\n",
    "\n",
    "$$f(t)=f_0 + f_1t + f_2t^2 + \\cdots + f_nt^n + \\cdots$$ "
   ]
  },
  {
   "cell_type": "markdown",
   "metadata": {
    "slideshow": {
     "slide_type": "fragment"
    }
   },
   "source": [
    "Then the corresponding matrix function is defined as:\n",
    "\n",
    "$$f(\\mathbf{A}t)=f_0\\mathbf{I} + f_1\\mathbf{A}t + f_2\\mathbf{A}^2t^2 + \\cdots + f_n\\mathbf{A}^nt^n + \\cdots$$"
   ]
  },
  {
   "cell_type": "markdown",
   "metadata": {
    "slideshow": {
     "slide_type": "subslide"
    }
   },
   "source": [
    "### Using the Similarity Transformation\n",
    "\n",
    "Given the transformation $\\mathbf{T}^{-1}\\mathbf{AT}=\\mathbf{\\Lambda}$:"
   ]
  },
  {
   "cell_type": "markdown",
   "metadata": {
    "slideshow": {
     "slide_type": "fragment"
    }
   },
   "source": [
    "\\begin{equation*}\n",
    "\t\\mathbf{A}t = (\\mathbf{T\\Lambda T}^{-1}) t\n",
    "\\end{equation*}"
   ]
  },
  {
   "cell_type": "markdown",
   "metadata": {
    "slideshow": {
     "slide_type": "fragment"
    }
   },
   "source": [
    "\\begin{eqnarray*}\n",
    "\\mathbf{A}^nt^n & = & (\\mathbf{T\\Lambda T}^{-1})(\\mathbf{T\\Lambda T}^{-1})\\ldots(\\mathbf{T\\Lambda T}^{-1})t^n \\\\\n",
    "\t                & = & \\mathbf{T\\Lambda T}^{-1}\\mathbf{T\\Lambda T}^{-1}\\ldots\\mathbf{T\\Lambda T}^{-1}t^n \\end{eqnarray*}"
   ]
  },
  {
   "cell_type": "markdown",
   "metadata": {
    "slideshow": {
     "slide_type": "subslide"
    }
   },
   "source": [
    "\\begin{eqnarray*}\t\\mathbf{A}^nt^n & = & \\mathbf{T\\Lambda}\\mathbf{I}\\mathbf{\\Lambda I}\\ldots\\mathbf{I\\Lambda T}^{-1}t^n \\\\\n",
    "\t              & = & \\mathbf{T\\Lambda}^n\\mathbf{T}^{-1}t^n \\\\\\end{eqnarray*}"
   ]
  },
  {
   "cell_type": "markdown",
   "metadata": {
    "slideshow": {
     "slide_type": "subslide"
    }
   },
   "source": [
    "The matrix function becomes: \n",
    "\n",
    "\\begin{eqnarray*}\n",
    "\tf(\\mathbf{A}t) & = & f_0\\mathbf{TIT}^{-1} + f_1\\mathbf{T\\Lambda T}^{-1}t + f_2\\mathbf{T\\Lambda}^2\\mathbf{T}^{-1}t^2 + \\cdots + f_n\\mathbf{T\\Lambda}^n\\mathbf{T}^{-1}t^n + \\cdots \\\\\n",
    "\tf(\\mathbf{A}t) & = & \\mathbf{T}\\left(f_0\\mathbf{I} + f_1\\mathbf{\\Lambda}t + f_2\\mathbf{\\Lambda}^2t^2 + \\cdots + f_n\\mathbf{\\Lambda}^nt^n + \\cdots \\right)\\mathbf{T}^{-1}\\\\\n",
    "\t               & = & \\mathbf{T}f(\\mathbf{\\Lambda}t)\\mathbf{T}^{-1}\\end{eqnarray*}"
   ]
  },
  {
   "cell_type": "markdown",
   "metadata": {
    "slideshow": {
     "slide_type": "fragment"
    }
   },
   "source": [
    "The term inside the brackets on the rhs is a diagonal matrix and the\n",
    "$i^\\mathrm{th}$ diagonal element is:\n",
    "\n",
    "$$f_0+f_1\\lambda_it + f_2\\lambda_i^2t^2 + \\cdots + f_n\\lambda_i^nt^ + \\cdots$$"
   ]
  },
  {
   "cell_type": "markdown",
   "metadata": {
    "slideshow": {
     "slide_type": "subslide"
    }
   },
   "source": [
    "From the Taylor series this must be $f(\\lambda_i t)$:\n",
    "\n",
    "$$f(\\mathbf{A} t)=\\mathbf{T} f(\\mathbf{\\Lambda} t) \\mathbf{T}^{-1}$$\n",
    "\n",
    "where $f(\\mathbf{\\Lambda} t)=\\mathrm{diag}\\left(f(\\lambda_i t)\\right)$."
   ]
  },
  {
   "cell_type": "markdown",
   "metadata": {
    "slideshow": {
     "slide_type": "slide"
    }
   },
   "source": [
    "### Transition Matrix\n",
    "\n",
    "In particular, the solution of: \n",
    "\n",
    "$$\\frac{d\\mathbf{x}}{dt}=\\mathbf{Ax}$$\n",
    "\n",
    "given $\\mathbf{x}=\\mathbf{x}_0$ at $t=0$ is:\n",
    "\n",
    "$$\\mathbf{x}=e^{\\mathbf{A}t}\\mathbf{x}_0$$"
   ]
  },
  {
   "cell_type": "markdown",
   "metadata": {
    "slideshow": {
     "slide_type": "subslide"
    }
   },
   "source": [
    "The term $\\mathbf{\\phi}(t) = e^{\\mathbf{A}t}$ is known as the state transition matrix because it shows how time, $t$, transforms the initial state vector into the present one."
   ]
  },
  {
   "cell_type": "markdown",
   "metadata": {
    "slideshow": {
     "slide_type": "slide"
    }
   },
   "source": [
    "### Forced solution\n",
    "\n",
    "Furthermore, the solution of:\n",
    "\n",
    "$$\\frac{d\\mathbf{x}}{dt}=\\mathbf{Ax} + \\mathbf{Bu}$$ \n",
    "\n",
    "given $\\mathbf{x}=\\mathbf{x}_0$ at $t=0$ is:\n",
    "\n",
    "$$\\mathbf{x}=e^{\\mathbf{A}t}\\mathbf{x}_0 + \\int_0^t e^{\\mathbf{A}(t-\\tau)}\\mathbf{Bu}(\\tau)d\\tau.$$"
   ]
  },
  {
   "cell_type": "markdown",
   "metadata": {
    "slideshow": {
     "slide_type": "slide"
    }
   },
   "source": [
    "### End of Pre-Class Presentation\n",
    "\n",
    "In the class we will work through a worked example of this approach and contrast it with two alternatives -- diagonalization by similarity transform and Laplace."
   ]
  },
  {
   "cell_type": "markdown",
   "metadata": {
    "slideshow": {
     "slide_type": "slide"
    }
   },
   "source": [
    "## Example \n",
    "\n",
    "Find the solution of:\n",
    "$$\\frac{{d{\\bf{x}}}}{{dt}} = \\left[ {\\begin{array}{*{20}c}\n",
    "   { - 3} & { - 2}  \\\\\n",
    "   1 & 0  \\\\\n",
    "\\end{array}} \\right]{\\bf{x}} + \\left[ {\\begin{array}{*{20}c}\n",
    "   1  \\\\\n",
    "   0  \\\\\n",
    "\\end{array}} \\right]u$$ given $\\mathbf{x}_0=[1,\\ 1]^T$, and $u = 1$ for\n",
    "$t\\ge 0$."
   ]
  },
  {
   "cell_type": "markdown",
   "metadata": {
    "slideshow": {
     "slide_type": "notes"
    }
   },
   "source": [
    "**Note**: The solutions to this example and the remaining alternatives are available in the form of MATLAB scripts and as Pencasts in OneNote."
   ]
  },
  {
   "cell_type": "markdown",
   "metadata": {
    "slideshow": {
     "slide_type": "notes"
    }
   },
   "source": [
    "### Solution\n",
    "\n",
    "The state matrix $\\mathbf{A}$ is the same as Example 4 from [Section 7.3](https://cpjobling.github.io/eglm03-textbook/07/3/tr4ss), so the transformation matrix is:\n",
    "\n",
    "$${\\bf{T}} = \\left[ {\\begin{array}{*{20}c}\n",
    "   1 & 1  \\\\\n",
    "   { - 1} & { - 0.5}  \\\\\n",
    "\\end{array}} \\right]$$\n",
    "\n",
    "with an inverse:\n",
    "\n",
    "$${\\bf{T}}^{ - 1}  = \\left[ {\\begin{array}{*{20}c}\n",
    "   { - 1} & { - 2}  \\\\\n",
    "   2 & 2  \\\\\n",
    "\\end{array}} \\right]$$\n",
    "\n",
    "and with corresponding eigenvalues $\\lambda_1=-1$ and $\\lambda_2=-2$.\n",
    "\n",
    "Therefore the state transition matrix is: \n",
    "\n",
    "\\begin{eqnarray*}\n",
    "\\mathbf{\\phi}(t) & = & e^{\\mathbf{A}t}=\\mathbf{T}e^{\\mathbf{\\Lambda}t}\\mathbf{T}^{-1} \\\\\n",
    "                 & = & \\left[ {\\begin{array}{*{20}c}\n",
    "       1 & 1  \\\\\n",
    "       { - 1} & { - 0.5}  \\\\\n",
    "    \\end{array}} \\right]\\left[ {\\begin{array}{*{20}c}\n",
    "       {e^{ - t} } & 0  \\\\\n",
    "       0 & {e^{ - 2t} }  \\\\\n",
    "    \\end{array}} \\right]\\left[ {\\begin{array}{*{20}c}\n",
    "       { - 1} & { - 2}  \\\\\n",
    "       2 & 2  \\\\\n",
    "    \\end{array}} \\right] \\\\\n",
    "                 & = & \\left[ {\\begin{array}{*{20}c}\n",
    "       1 & 1  \\\\\n",
    "       { - 1} & { - 0.5}  \\\\\n",
    "    \\end{array}} \\right]\\left[ {\\begin{array}{*{20}c}\n",
    "       {-e^{ - t} } & {-2e^{ - t} }  \\\\\n",
    "       {2e^{ - 2t} } & {2e^{ - 2t} }  \\\\\n",
    "    \\end{array}} \\right] \\\\\n",
    "                 & = & \\left[ {\\begin{array}{*{20}c}\n",
    "       \\left\\{ {-e^{ - t} + 2e^{-2t}} \\right\\} & \\left\\{ {-2e^{ - t} + 2e^{-2t}} \\right\\}  \\\\\n",
    "       \\left\\{ {e^{ - t} - e^{-2t}} \\right\\} & \\left\\{ {2e^{ - t} - e^{-2t}} \\right\\}  \\\\\n",
    "    \\end{array}} \\right] \\\\\n",
    "\\end{eqnarray*}\n",
    "\n",
    "The solution is:\n",
    "\n",
    "$$\\mathbf{x}(t) = \\mathrm{term}_1+\\int_0^t\\mathrm{term}_2 d\\tau.$$ \n",
    "\n",
    "where $\\mathrm{term}_1=\\mathbf{\\phi}(t)\\mathbf{x}_0=e^{\\mathbf{A}t}\\mathbf{x}_0$.\n",
    "\n",
    "\\begin{eqnarray*}\n",
    "\\mathrm{term}_1 & = & \\left[ {\\begin{array}{*{20}c}\n",
    "       \\left\\{ {-e^{ - t} + 2e^{-2t}} \\right\\} & \\left\\{ {-2e^{ - t} + 2e^{-2t}} \\right\\}  \\\\\n",
    "       \\left\\{ {e^{ - t} - e^{-2t}} \\right\\} & \\left\\{ {2e^{ - t} - e^{-2t}} \\right\\}  \\\\\n",
    "    \\end{array}} \\right] \\left[ {\\begin{array}{*{20}c}\n",
    "       1  \\\\\n",
    "       1  \\\\\n",
    "    \\end{array}} \\right] \\\\\n",
    "    & = & \\left[ {\\begin{array}{*{20}c}\n",
    "       {\\left\\{ {\\left. { - 3e^{ - t}  + 4e^{ - 2t} } \\right\\}} \\right.}  \\\\\n",
    "       {\\left\\{ {\\left. {3e^{ - t}  - 2e^{ - 2t} } \\right\\}} \\right.}  \\\\\n",
    "    \\end{array}} \\right]\\end{eqnarray*}\n",
    "\n",
    "and\n",
    "\n",
    "\\begin{eqnarray*}\n",
    "    {\\rm{term}}_2  & = & e^{{\\bf{A}}(t - \\tau )} {\\bf{B}}u = e^{{\\bf{A}}(t - \\tau )} \\left[ {\\begin{array}{*{20}c}\n",
    "       1  \\\\\n",
    "       0  \\\\\n",
    "    \\end{array}} \\right] \\times 1 \\\\\n",
    " & = & \\left[ {\\begin{array}{*{20}c}\n",
    "   {\\left. {\\left\\{ { - e^{ - (t - \\tau )}  + 2e^{ - 2(t - \\tau )} } \\right.} \\right\\}}  \\\\\n",
    "   {\\left. {\\left\\{ {e^{ - (t - \\tau )}  - e^{ - 2(t - \\tau )} } \\right.} \\right\\}}  \\\\\n",
    "\\end{array}} \\right]\\end{eqnarray*}\n",
    "\n",
    "\\begin{eqnarray*}\n",
    "    \\int_0^t {{\\rm{term}}_2 d\\tau }  & = & \\left[ {\\begin{array}{*{20}c}\n",
    "       {\\int_0^t {\\left. {\\left\\{ { - e^{ - (t - \\tau )}  + 2e^{ - 2(t - \\tau )} } \\right.} \\right\\}d\\tau } }  \\\\\n",
    "       {\\int_0^t {\\left. {\\left\\{ {e^{ - (t - \\tau )}  - e^{ - 2(t - \\tau )} } \\right.} \\right\\}d\\tau } }  \\\\\n",
    "    \\end{array}} \\right] \\\\\n",
    "    & = &\n",
    "      \\left[ {\\begin{array}{*{20}c}\n",
    "       {\\left. {\\left\\{ { - e^{ - (t - \\tau )}  + e^{ - 2(t - \\tau )} } \\right.} \\right\\}}  \\\\\n",
    "       {\\left. {\\left\\{ {e^{ - (t - \\tau )}  - 0.5e^{ - 2(t - \\tau )} } \\right.} \\right\\}}  \\\\\n",
    "    \\end{array}} \\right]_{\\tau  = 0}^t  \\\\\n",
    "     & = & \\left[ {\\begin{array}{*{20}c}\n",
    "       { - 1 + e^{ - t}  + 1 - e^{ - 2t} }  \\\\\n",
    "       { 1 - e^{ - t}  - 0.5 + 0.5e^{ - 2t} }  \\\\\n",
    "    \\end{array}} \\right] \\\\\n",
    "     &  = & \\left[ {\\begin{array}{*{20}c}\n",
    "       {e^{ - t}  - e^{ - 2t} }  \\\\\n",
    "       {0.5 - e^{ - t}  + 0.5e^{ - 2t} }  \\\\\n",
    "    \\end{array}} \\right]\\end{eqnarray*}\n",
    "\n",
    "Combining $\\mathrm{term}_1$ and $\\int_0^t \\mathrm{term}_2 d\\tau$ we find the total, forced, response:\n",
    "\n",
    "$${\\bf{x}}(t) = \\left[ {\\begin{array}{*{20}c}\n",
    "   { - 3e^{ - t}  + 4e^{ - 2t} }  \\\\\n",
    "   {3e^{ - t}  - 2e^{ - 2t} }  \\\\\n",
    "\\end{array}} \\right] + \\left[ {\\begin{array}{*{20}c}\n",
    "   {e^{ - t}  - e^{ - 2t} }  \\\\\n",
    "   {0.5 - e^{ - t}  + 0.5e^{ - 2t} }  \\\\\n",
    "\\end{array}} \\right]$$\n",
    "\n",
    "Therefore: \n",
    "\n",
    "$${\\bf{x}}(t) = \\left[ {\\begin{array}{*{20}c}\n",
    "   { - 2e^{ - t}  + 3e^{ - 2t} }  \\\\\n",
    "   {0.5 + 2e^{ - t}  - 1.5e^{ - 2t} }  \\\\\n",
    "\\end{array}} \\right].$$"
   ]
  },
  {
   "cell_type": "markdown",
   "metadata": {
    "slideshow": {
     "slide_type": "slide"
    }
   },
   "source": [
    "### Alternative solution 1\n",
    "\n",
    "Repeat Example 1 using the transformation to normal canonical form:\n",
    "$$\\frac{d\\mathbf{w}}{t}=\\mathbf{\\Lambda w}+ \\mathbf{T}^{-1}\\mathbf{B}u.$$"
   ]
  },
  {
   "cell_type": "markdown",
   "metadata": {
    "slideshow": {
     "slide_type": "notes"
    }
   },
   "source": [
    "Using the transformation to normal canonical form:\n",
    "\n",
    "$$\\frac{d\\mathbf{w}}{t}=\\mathbf{\\Lambda w}+ \\mathbf{T}^{-1}\\mathbf{B}u$$\n",
    "\n",
    "$$\\frac{{d{\\bf{w}}}}{{dt}} = \\left[ {\\begin{array}{*{20}c}\n",
    "   { - 1} & 0  \\\\\n",
    "   0 & { - 2}  \\\\\n",
    "\\end{array}} \\right]{\\bf{w}} + \\left[ {\\begin{array}{*{20}c}\n",
    "   { - 1} & { - 2}  \\\\\n",
    "   2 & 2  \\\\\n",
    "\\end{array}} \\right]\\left[ {\\begin{array}{*{20}c}\n",
    "   1  \\\\\n",
    "   0  \\\\\n",
    "\\end{array}} \\right]u;\\quad u = 1$$\n",
    "\n",
    "$$\\frac{dw_1}{dt}=-w_1-1\\ \\textrm{and}\\ \\frac{dw_2}{dt}=-2w_2 + 2$$\n",
    "\n",
    "$${\\bf{w}}_0  = {\\bf{T}}^{ - 1} {\\bf{x}}_0  = \\left[ {\\begin{array}{*{20}c}\n",
    "   { - 1} & { - 2}  \\\\\n",
    "   2 & 2  \\\\\n",
    "\\end{array}} \\right]\\left[ {\\begin{array}{*{20}c}\n",
    "   1  \\\\\n",
    "   1  \\\\\n",
    "\\end{array}} \\right] = \\left[ {\\begin{array}{*{20}c}\n",
    "   { - 3}  \\\\\n",
    "   4  \\\\\n",
    "\\end{array}} \\right]$$\n",
    "\n",
    "$$\\begin{eqnarray*}\n",
    "    w_1 & = & w_{10}e^{-t}-\\int_0^t e^{-(t-\\tau)} d\\tau \\\\\n",
    "        & = & -3e^{-t}-\\left[e^{-(t-\\tau)}\\right]_0^t \\\\\n",
    "        & = & -3e^{-t}-\\left[1 - e^{-t}\\right] \\\\\n",
    "        & = & -1 -2e^{-t}\\end{eqnarray*}\n",
    "\n",
    "$$\\begin{eqnarray*}\n",
    "    w_2 & = & w_{20}e^{-2t}+2\\int_0^t e^{-2(t-\\tau)} d\\tau \\\\\n",
    "        & = & 4e^{-2t}+2\\left[0.5e^{-2(t-\\tau)}\\right]_0^t \\\\\n",
    "        & = & 4e^{-2t}+\\left[1 - e^{-2t}\\right] \\\\\n",
    "        & = & 1 + 3e^{-2t}\\end{eqnarray*}$$\n",
    "\n",
    "$${\\bf{x}} = {\\bf{Tw}} = \\left[ {\\begin{array}{*{20}c}\n",
    "   1 & 1  \\\\\n",
    "   { - 1} & { - 0.5}  \\\\\n",
    "\\end{array}} \\right]\\left[ {\\begin{array}{*{20}c}\n",
    "   { - 1 - 2e^{ - t} }  \\\\\n",
    "   {1 + 3e^{ - 2t} }  \\\\\n",
    "\\end{array}} \\right]$$ Therefore\n",
    "$${\\bf{x}} = \\left[ {\\begin{array}{*{20}c}\n",
    "   { - 2e^{ - t}  + 3e^{ - 2t} }  \\\\\n",
    "   {0.5 + 2e^{ - t}  - 1.5e^{ - 2t} }  \\\\\n",
    "\\end{array}} \\right]$$"
   ]
  },
  {
   "cell_type": "markdown",
   "metadata": {
    "slideshow": {
     "slide_type": "slide"
    }
   },
   "source": [
    "### Alternative solution 2\n",
    "\n",
    "\n",
    "Solve the problem of example 1 using the Laplace transform method."
   ]
  },
  {
   "cell_type": "markdown",
   "metadata": {
    "slideshow": {
     "slide_type": "notes"
    }
   },
   "source": [
    "Taking Laplace transforms of the state equations, taking account of the\n",
    "initial conditions:\n",
    "\n",
    "$$s\\mathbf{X}(s)-\\mathbf{x}_0=\\mathbf{A}\\mathbf{X}(s)+\\mathbf{B}U(s)$$\n",
    "\n",
    "$$(s{\\bf{I}} - {\\bf{A}}){\\bf{X}}(s) = {\\bf{x}}_0  + {\\bf{B}}U(s) = \\left[ {\\begin{array}{*{20}c}\n",
    "   1  \\\\\n",
    "   1  \\\\\n",
    "\\end{array}} \\right] + \\left[ {\\begin{array}{*{20}c}\n",
    "   1  \\\\\n",
    "   0  \\\\\n",
    "\\end{array}} \\right]\\frac{1}{s}$$\n",
    "\n",
    "Therefore\n",
    "\n",
    "$${\\bf{X}}(s) = (s{\\bf{I}} - {\\bf{A}})^{ - 1} \\left[ {\\begin{array}{*{20}c}\n",
    "   {1 + \\frac{1}{s}}  \\\\\n",
    "   1  \\\\\n",
    "\\end{array}} \\right]$$\n",
    "\n",
    "$${\\rm{Now }}(s{\\bf{I}} - {\\bf{A}})^{ - 1}  = \\left[ {\\begin{array}{*{20}c}\n",
    "   {s + 3} & 2  \\\\\n",
    "   { - 1} & s  \\\\\n",
    "\\end{array}} \\right]^{ - 1}  = \\frac{1}{{(s + 3)s + 2}}\\left[ {\\begin{array}{*{20}c}\n",
    "   s & { - 2}  \\\\\n",
    "   1 & {s + 3}  \\\\\n",
    "\\end{array}} \\right]$$ Therefore \n",
    "\n",
    "\\begin{eqnarray*}\n",
    "    {\\bf{X}}(s) & = & \\frac{1}{{s^2  + 3s + 2}}\\left[ {\\begin{array}{*{20}c}\n",
    "       s & { - 2}  \\\\\n",
    "       1 & {s + 3}  \\\\\n",
    "    \\end{array}} \\right]\\left[ {\\begin{array}{*{20}c}\n",
    "       {1 + \\frac{1}{s}}  \\\\\n",
    "       1  \\\\\n",
    "    \\end{array}} \\right] \\\\\n",
    "                & = & \\frac{1}{{(s + 1)(s + 2)}}\\left[ {\\begin{array}{*{20}c}\n",
    "       {s - 1}  \\\\\n",
    "       {\\frac{{s^2  + 4s + 1}}{s}}  \\\\\n",
    "    \\end{array}} \\right] \\\\\n",
    "    &  = & \\left[ {\\begin{array}{*{20}c}\n",
    "       {\\frac{{s - 1}}{{(s + 1)(s + 2)}}}  \\\\\n",
    "       {\\frac{{s^2  + 4s + 1}}{{s(s + 1)(s + 2)}}}  \\\\\n",
    "    \\end{array}} \\right]\\end{eqnarray*}\n",
    "\n",
    "Taking partial fractions: \n",
    "\n",
    "$${\\bf{X}}(s) = \\left[ {\\begin{array}{*{20}c}\n",
    "   {\\frac{{ - 2}}{{s + 1}} + \\frac{3}{{s + 2}}}  \\\\\n",
    "   {\\frac{{0.5}}{s} + \\frac{2}{{s + 1}} + \\frac{{ - 1.5}}{{s + 2}}}  \\\\\n",
    "\\end{array}} \\right]$$\n",
    "\n",
    "Finally, taking inverse Laplace transforms:\n",
    "\n",
    "$${\\bf{x}}(t) = \\left[ {\\begin{array}{*{20}c}\n",
    "   { - 2e^{ - t}  + 3e^{ - 2t} }  \\\\\n",
    "   {0.5 + 2e^{ - t}  - 1.5e^{ - 2t} }  \\\\\n",
    "\\end{array}} \\right]$$\n"
   ]
  }
 ],
 "metadata": {
  "celltoolbar": "Slideshow",
  "kernelspec": {
   "display_name": "Matlab",
   "language": "matlab",
   "name": "matlab"
  },
  "language_info": {
   "codemirror_mode": "octave",
   "file_extension": ".m",
   "help_links": [
    {
     "text": "MetaKernel Magics",
     "url": "https://github.com/calysto/metakernel/blob/master/metakernel/magics/README.md"
    }
   ],
   "mimetype": "text/x-octave",
   "name": "matlab",
   "version": "0.15.0"
  }
 },
 "nbformat": 4,
 "nbformat_minor": 2
}
