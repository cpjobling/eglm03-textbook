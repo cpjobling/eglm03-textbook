{
 "cells": [
  {
   "cell_type": "markdown",
   "metadata": {
    "slideshow": {
     "slide_type": "slide"
    }
   },
   "source": [
    "# State Space Models"
   ]
  },
  {
   "cell_type": "markdown",
   "metadata": {
    "slideshow": {
     "slide_type": "slide"
    }
   },
   "source": [
    "## Introduction to State Space "
   ]
  },
  {
   "cell_type": "markdown",
   "metadata": {
    "slideshow": {
     "slide_type": "fragment"
    }
   },
   "source": [
    "Classical control system theory is based on the Transfer Function (TF) model. This applies only to those dynamic systems which can be described by linear time-invariant (LTI) differential equations. TF models are usually applied to Single Input Single Output (SISO) systems. Since the TF is expressed in terms of the Laplace Transform variable, $s$, analysis and design is mostly carried out in the $s$-domain or the frequency domain ($s=j\\omega$)."
   ]
  },
  {
   "cell_type": "markdown",
   "metadata": {
    "slideshow": {
     "slide_type": "fragment"
    }
   },
   "source": [
    "Modern control systems theory is based on a time domain description of a system in terms of a set of first order coupled differential equations in the so-called *state variables* of the system."
   ]
  },
  {
   "cell_type": "markdown",
   "metadata": {
    "slideshow": {
     "slide_type": "fragment"
    }
   },
   "source": [
    "State space models can do anything that classical TF models can do."
   ]
  },
  {
   "cell_type": "markdown",
   "metadata": {
    "slideshow": {
     "slide_type": "subslide"
    }
   },
   "source": [
    "In addition state space models have allowed control theory to be extended in various directions:"
   ]
  },
  {
   "cell_type": "markdown",
   "metadata": {
    "slideshow": {
     "slide_type": "fragment"
    }
   },
   "source": [
    "### The Advances Enabled by State Space Models\n",
    "\n",
    "1.  Handling Multiple Input Multiple Output (MIMO) systems.\n",
    "\n",
    "2.  Extension to linear time-varying systems.\n",
    "\n",
    "3.  Clarification of issues of controllability and observability.\n",
    "\n",
    "4.  Development of powerful compensation methods via state feedback and\n",
    "    observers.\n",
    "\n",
    "5.  Development of optimal control theory."
   ]
  },
  {
   "cell_type": "markdown",
   "metadata": {
    "slideshow": {
     "slide_type": "notes"
    }
   },
   "source": [
    "In this module we will restrict ourselves to the study of mostly to SISO\n",
    "LTI systems, but is important to note the possibility of its extension\n",
    "to more challenging areas."
   ]
  },
  {
   "cell_type": "markdown",
   "metadata": {
    "slideshow": {
     "slide_type": "slide"
    }
   },
   "source": [
    "## Construction of State Space Models "
   ]
  },
  {
   "cell_type": "markdown",
   "metadata": {
    "slideshow": {
     "slide_type": "notes"
    }
   },
   "source": [
    "The state-space model is a form of system representation that is used in several engineering disciplines. It is particularly used in control and in signal processing.\n",
    "\n",
    "The state-space model is a form of differential equation representation and it is principally used when an analysis of the system behaviour is required in terms of time responses. That stated, it is relatively easy to convert a state-space model into a transfer function, to allow the frequency response analysis of a system. It is however not necessary to do this conversion if the time-response behaviour is all that is required.\n",
    "\n",
    "The state space model is easily extended to cope with models with more than one input and more than one output. It also has more favourable numerical properties that make it more attractive as a representation for high order systems<sup>1</sup> than the polynomial representation provided by the transfer function. State-space models are easily simulated by the straightforward application of numerical integration."
   ]
  },
  {
   "cell_type": "markdown",
   "metadata": {
    "slideshow": {
     "slide_type": "subslide"
    }
   },
   "source": [
    "### Example 1"
   ]
  },
  {
   "cell_type": "markdown",
   "metadata": {
    "slideshow": {
     "slide_type": "notes"
    }
   },
   "source": [
    "Figure 7.1 shows a simple electrical circuit. We shall develop this circuit into a block diagram and from the block-diagram we shall develop the state-space model. Later we will generalise this result."
   ]
  },
  {
   "cell_type": "markdown",
   "metadata": {
    "slideshow": {
     "slide_type": "subslide"
    }
   },
   "source": [
    "![Figure 7.1 a simple circuit](pictures/circuit.png)\n",
    "\n",
    "\n",
    "<div style=\"text-align:center\"><b>Figure 7.1: A Simple Circuit</b></div>"
   ]
  },
  {
   "cell_type": "markdown",
   "metadata": {
    "slideshow": {
     "slide_type": "subslide"
    }
   },
   "source": [
    "If we write down the equations for the elements we get: \n",
    "\n",
    "$$\\begin{eqnarray}\n",
    "  \\frac{dv_{31}}{dt} &=& \\frac{1}{C}\\ i_2 \\label{eq:l13e1}\\\\\n",
    "  \\frac{di_{i}}{dt} &=& \\frac{1}{L}\\ v_{32} \\label{eq:l13e2}\\\\\n",
    "  v_{21} &=& R\\ i_1 \\label{eq:l13e3}\\end{eqnarray}$$ \n",
    "  "
   ]
  },
  {
   "cell_type": "markdown",
   "metadata": {
    "slideshow": {
     "slide_type": "subslide"
    }
   },
   "source": [
    "The \"compatability\" and \"continuity\" equations are \n",
    "\n",
    "$$\\begin{eqnarray}\n",
    "  u &=& i_1 + i_2 \\label{eq:l13e4}\\\\\n",
    "  v_{31} &=& v_{32} + v_{21} \\label{eq:l13e5}\\end{eqnarray}$$"
   ]
  },
  {
   "cell_type": "markdown",
   "metadata": {
    "slideshow": {
     "slide_type": "subslide"
    }
   },
   "source": [
    "Since the system \"source\" is $u$, we can construct the block diagram systematically by tracing the equations through from the source. We also introduce the additional constraint that we would like the derivative terms $dv_{31}/dt$ and $di_1/dt$ to appear as inputs to integrator blocks whose outputs are therefore"
   ]
  },
  {
   "cell_type": "markdown",
   "metadata": {
    "slideshow": {
     "slide_type": "fragment"
    }
   },
   "source": [
    "$$\\begin{eqnarray}\n",
    "  v_{31} = \\int \\frac{dv_{31}}{dt} dt \\label{eq:l13e6}\\\\\n",
    "  i_{1} = \\int \\frac{di_{1}}{dt} dt \\label{eq:l13e7}\\end{eqnarray}$$"
   ]
  },
  {
   "cell_type": "markdown",
   "metadata": {
    "slideshow": {
     "slide_type": "notes"
    }
   },
   "source": [
    "We can model these equations in MATLAB/Simulink<sup>2</sup> using component block diagram models as shown in Figure 7.2. The other components of equations (1) to (3) appear as gain blocks and (4) and (5) appear as summing junctions.\n",
    "\n",
    "Simulink model: [blocks.slx](matlab/blocks.slx)."
   ]
  },
  {
   "cell_type": "markdown",
   "metadata": {
    "slideshow": {
     "slide_type": "subslide"
    }
   },
   "source": [
    "![Figure 7.2 Block Diagram](pictures/blocks.png)\n",
    "\n",
    "\n",
    "<div style=\"text-align:center\"><b>Figure 7.2: Block models of equations (1) to (7)</b></div>"
   ]
  },
  {
   "cell_type": "markdown",
   "metadata": {
    "slideshow": {
     "slide_type": "notes"
    }
   },
   "source": [
    "Combining these blocks such that the input is $u$ and the output is the current flowing through the inductance $i_1$<sup>3</sup> we obtain the block diagram shown in Figure 7.3.\n",
    "\n",
    "Simulink model: [blockdiag.slx](matlab/blockdiag.slx)"
   ]
  },
  {
   "cell_type": "markdown",
   "metadata": {
    "slideshow": {
     "slide_type": "subslide"
    }
   },
   "source": [
    "![Figure 7.3 Block Diagram](pictures/blockdiag.png)\n",
    "\n",
    "\n",
    "<div style=\"text-align:center\"><b>Figure 7.3: Example 1 as a Block Diagram</b></div>"
   ]
  },
  {
   "cell_type": "markdown",
   "metadata": {
    "slideshow": {
     "slide_type": "subslide"
    }
   },
   "source": [
    "Having constructed a block diagram that allows us the visualize the structure of the differential equations, we now go on to create the state-space model of the system. \n",
    "\n",
    "To do this we first identify the \"*state-variables*\" which are (in this case) the physical quantities that are changing with time, i.e. the voltage across the capacitor $v_{31}$ and the current through the inductor $i_1$<sup>4</sup>. The derivatives of these state variables become the left-hand-side of the \"*state equations*\". \n",
    "\n",
    "These equations have apparently already been written down as (1) and (2), but we impose an additional condition that the state equations can only involve the state-variables, their derivatives and the system input. Thus we have to trace the path back through the block diagram from the inputs to the integrator blocks to the (nearest) state variable(s). "
   ]
  },
  {
   "cell_type": "markdown",
   "metadata": {
    "slideshow": {
     "slide_type": "subslide"
    }
   },
   "source": [
    "The state equations are\n",
    "\n",
    "$$\\begin{eqnarray}\n",
    "  \\frac{dv_{31}}{dt} &=& \\frac{1}{C}\\ i_2 = -\\frac{1}{C}i_1 +\n",
    "  \\frac{1}{C} u \\label{eq:l13e8}\\\\\n",
    "  \\frac{di_{i}}{dt} &=& \\frac{1}{L}\\ v_{32} = \\frac{1}{L}v_{31} -\\frac{R}{L} i_1 \\label{eq:l13e9}\\end{eqnarray}$$"
   ]
  },
  {
   "cell_type": "markdown",
   "metadata": {
    "slideshow": {
     "slide_type": "notes"
    }
   },
   "source": [
    "Equations (8) and (9) together form a pair of simultaneous equations (they must both be satisfied by the dynamic response of the circuit voltages and currents to the input) and they may therefore be written in vector form<sup>5</sup>:"
   ]
  },
  {
   "cell_type": "markdown",
   "metadata": {
    "slideshow": {
     "slide_type": "subslide"
    }
   },
   "source": [
    "$$\\begin{equation}\\label{eq:l13e10}\n",
    "  \\left[\\begin{array}{c}\n",
    "    dv_{31}/dt \\\\\n",
    "    di_{i}/dt \\\\\n",
    "    \\end{array}\\right]=\\left[\\begin{array}{cc}\n",
    "      0 & -1/C \\\\\n",
    "      1/L & -R/L \\\\\n",
    "    \\end{array}\\right]\\left[\\begin{array}{c}\n",
    "      v_{31} \\\\\n",
    "      i_1 \\\\\n",
    "    \\end{array}\\right]+\\left[\\begin{array}{c}\n",
    "      1/C \\\\\n",
    "      0 \\\\\n",
    "    \\end{array}\\right]\\ u\\end{equation}$$"
   ]
  },
  {
   "cell_type": "markdown",
   "metadata": {
    "slideshow": {
     "slide_type": "fragment"
    }
   },
   "source": [
    "The vector $[v_{31}, i_{1}]^T$ is called the \"*state vector*.\" Its elements are state variables.<sup>6</sup>"
   ]
  },
  {
   "cell_type": "markdown",
   "metadata": {
    "slideshow": {
     "slide_type": "subslide"
    }
   },
   "source": [
    "We can generalize this result by defining general state variables $x_1=v_{31}$ and $x_2=i_1$. Using the notational shorthand $\\dot{x}=dx/dt$ we then get: \n",
    "\n",
    "$$\\begin{equation}\\label{eq:l13e11}\n",
    "  \\left[\\begin{array}{c}\n",
    "    \\dot{x_1} \\\\\n",
    "    \\dot{x_2} \\\\\n",
    "    \\end{array}\\right]=\\left[\\begin{array}{cc}\n",
    "      0 & -1/C \\\\\n",
    "      1/L & -R/L \\\\\n",
    "    \\end{array}\\right]\\left[\\begin{array}{c}\n",
    "      x_1 \\\\\n",
    "      x_2 \\\\\n",
    "    \\end{array}\\right]+\\left[\\begin{array}{c}\n",
    "      1/C \\\\\n",
    "      0 \\\\\n",
    "    \\end{array}\\right]\\ u\\end{equation}$$"
   ]
  },
  {
   "cell_type": "markdown",
   "metadata": {
    "slideshow": {
     "slide_type": "slide"
    }
   },
   "source": [
    "## General State Space Models of Dynamic Systems\n",
    "\n",
    "An $n^\\mathrm{th}$ order dynamic system can be described by an $n^\\mathrm{th}$ order differential equation in one dependent variable, $y(t)$, and an input forcing function, $u(t)$, with time, $t$, as the independent variable.\n",
    "\n",
    "$$\\begin{equation}\\frac{d^ny}{dt^n}=f\\left(\\frac{d^{n-1}y}{dt^{n-1}}, \\frac{d^{n-2}y}{dt^{n-2}}, \\ldots, \\frac{dx_2}{dt}, \\frac{dy}{dt}, y, u(t), t \\right) \\label{eq:l13e12}\\end{equation}$$\n"
   ]
  },
  {
   "cell_type": "markdown",
   "metadata": {
    "slideshow": {
     "slide_type": "subslide"
    }
   },
   "source": [
    "Alternatively, in a state space model extra variables, called\n",
    "**states**, are introduced to create an equivalent description, but this\n",
    "time involving only 1st order differential equations.\n",
    "\n",
    "$$\\begin{eqnarray}\n",
    "    x_1 & = & y \\label{eq:l13e13a}\\\\\n",
    "    \\frac{dx_1}{dt} & = & \\frac{dy}{dt} = x_2  \\label{eq:l13e13b} \\\\\n",
    "    \\frac{dx_2}{dt} & = & \\frac{d^2y}{dt^2} = x_3   \\\\\n",
    "     \\vdots      \\nonumber \\\\\n",
    "    \\frac{dx_{n-2}}{dt} & = & \\frac{d^{n-2}y}{dt^{n-2}} = x_{n-1}   \\\\\n",
    "    \\frac{dx_{n-1}}{dt} & = & \\frac{d^{n-1}y}{dt^{n-1}} = x_n   \\\\\n",
    "    \\frac{dx_n}{dt} &=& \\frac{d^{n}y}{dt^{n}} =  f\\left(x_n, x_{n-1}, \\ldots, x_3, x_2, x_1, u(t), t \\right) \\label{eq:l13e13c}\\end{eqnarray}$$"
   ]
  },
  {
   "cell_type": "markdown",
   "metadata": {
    "slideshow": {
     "slide_type": "notes"
    }
   },
   "source": [
    "An nth order system gives rise to a state space model consisting of n coupled 1st order differential equations (the *state equations* (14)--(17)) in terms of $n$ state variables and the input forcing function(s). In addition there are the *output equations* (13) expressing other variables, or outputs, of interest, also in terms of the states and inputs.\n",
    "\n",
    "You should note that the formulation used in the differential equation (12) and its equivalent state equations (13)--(18) is completely general and makes no assumptions about the nature of $f$. In fact the only condition is that it\n",
    "represents a lumped parameter system rather than a distributed parameter system. The need to solve such equations by simulation is the basis of the integral models we introduced in [Chapter 1](../../01/modsim#integral-models)."
   ]
  },
  {
   "cell_type": "markdown",
   "metadata": {
    "slideshow": {
     "slide_type": "slide"
    }
   },
   "source": [
    "### Example 2\n",
    "\n",
    "Derive a state space model for the system described by the differential\n",
    "equation:\n",
    "\n",
    "$$\\frac{d^2y}{dt^2}+3\\frac{dy}{dt}+2y=u(t)$$\n",
    "\n",
    "You should try this now. We will work through the solution in class."
   ]
  },
  {
   "cell_type": "markdown",
   "metadata": {
    "slideshow": {
     "slide_type": "slide"
    }
   },
   "source": [
    "## Physical States\n",
    "\n",
    "The states are often chosen to have a direct physical significance such\n",
    "as:\n",
    "\n",
    "-   *Electrical Systems* -- the charge or voltage on a capacitor or the\n",
    "    current in an inductor.\n",
    "\n",
    "-   *Mechanical Systems* -- the force in springs or the velocity of mass\n",
    "    or angular velocity of moments of inertia.\n",
    "\n",
    "-   *Aerospace Systems* -- forward velocity, thrust, pitch and pitch\n",
    "    rate, yaw and yaw rate, position and velocity of control surfaces.\n",
    "\n",
    "-   *Chemical Process Plant* -- chemical composition, levels,\n",
    "    temperatures, pressures and flows."
   ]
  },
  {
   "cell_type": "markdown",
   "metadata": {
    "slideshow": {
     "slide_type": "subslide"
    }
   },
   "source": [
    "### Example 3\n",
    "\n",
    "Derive the state equations for the Spring-Mass-Damper system shown in\n",
    "the Figure 7.4.\n",
    "\n",
    "![Figure 7.4](pictures/smd.png)\n",
    "\n",
    "<div style=\"text-align:center\"><b>Figure 7.4: A Spring-Mass-Damper System</b></div> "
   ]
  },
  {
   "cell_type": "markdown",
   "metadata": {
    "slideshow": {
     "slide_type": "notes"
    }
   },
   "source": [
    "You should try this now. We will give the solution in the live class."
   ]
  },
  {
   "cell_type": "markdown",
   "metadata": {
    "slideshow": {
     "slide_type": "slide"
    }
   },
   "source": [
    "## The nature of the states \n",
    "\n",
    "-   The state equations can be solved uniquely when the input functions\n",
    "    are given together with the initial values of all the states.\n",
    "\n",
    "-   The solutions for the states are substituted into the output\n",
    "    equations to obtain the solutions for the other variables in the\n",
    "    system.\n",
    "\n",
    "-   In the above examples the states are physical quantities associated\n",
    "    with energy storage in the system. The energy stored in a inductor\n",
    "    is $E_L=Li_L^2/2$, and the energy stored in a capacitor is\n",
    "    $E_C=CV_C^2/2$.\n",
    "\n",
    "-   Similarly for mechanical systems the velocity of a mass relates to\n",
    "    its kinetic energy and the force in a spring relates to its elastic\n",
    "    potential energy.\n",
    "\n",
    "-   The states encode the configuration of the system, or its whole past\n",
    "    history.\n",
    "\n",
    "-   The choice of states is not unique, but they must be chosen such\n",
    "    that the configuration of the system can be unambiguously and\n",
    "    completely determined from them."
   ]
  },
  {
   "cell_type": "markdown",
   "metadata": {
    "slideshow": {
     "slide_type": "slide"
    }
   },
   "source": [
    "## State Space Models for Linear Systems \n",
    "\n",
    "Linear systems are the most important ones for control system analysis\n",
    "and design as the best methods and techniques apply to these.\n",
    "\n",
    "Non-linear systems are often approximated about a suitable operating\n",
    "point by the nearest equivalent linear system allowing linear techniques\n",
    "to be used in the design of a suitable controller.\n",
    "\n",
    "In the case of linear systems, each state equation expresses the\n",
    "derivative of one of the states as a linear function of the states and\n",
    "inputs. The output equations also express the output variables linearly.\n",
    "As a consequence the natural mathematical notation to use is that of\n",
    "vectors and matrices. Thus state, input and output variables are grouped\n",
    "in column vectors and are multiplied by matrices in the state and output\n",
    "equations.\n",
    "\n",
    "For linear time varying systems, the matrices have elements which are\n",
    "functions of time, but for time invariant systems all the matrices are\n",
    "constant."
   ]
  },
  {
   "cell_type": "markdown",
   "metadata": {
    "slideshow": {
     "slide_type": "subslide"
    }
   },
   "source": [
    "### A vector/matrix notation\n",
    "\n",
    "In general, we will have $n$ state variables and $q$ system inputs. In such a case we can write down a matrix state equation as developed in the next two slides."
   ]
  },
  {
   "cell_type": "markdown",
   "metadata": {
    "slideshow": {
     "slide_type": "subslide"
    }
   },
   "source": [
    "#### Matrix State Equation (1)\n",
    "\n",
    "Let us define a general $n$-dimensional state vector\n",
    "\n",
    "$$\\mathbf{x} = \\left[x_1,\\ x_2,\\ \\ldots, x_n\\right]^T$$ "
   ]
  },
  {
   "cell_type": "markdown",
   "metadata": {
    "slideshow": {
     "slide_type": "fragment"
    }
   },
   "source": [
    "Its derivative\n",
    "is $$\\frac{d\\mathbf{x}}{dt} = \\left[\\frac{dx_1}{dt},\\ \\frac{dx_2}{dt},\\\n",
    "\\ldots,\\\n",
    "\\frac{dx_n}{dt}\\right]^T$$ "
   ]
  },
  {
   "cell_type": "markdown",
   "metadata": {
    "slideshow": {
     "slide_type": "subslide"
    }
   },
   "source": [
    "or more compactly\n",
    "$$\\dot{\\mathbf{x}}=\\left[\\dot{x_1},\\ \\dot{x_2},\\ \\ldots,\\\n",
    "\\dot{x_n}\\right]^T.$$"
   ]
  },
  {
   "cell_type": "markdown",
   "metadata": {
    "slideshow": {
     "slide_type": "fragment"
    }
   },
   "source": [
    "There may be any number of inputs to a system, so we also assume a\n",
    "general vector of $q$ inputs"
   ]
  },
  {
   "cell_type": "markdown",
   "metadata": {
    "slideshow": {
     "slide_type": "subslide"
    }
   },
   "source": [
    "#### Matrix State Equation (2)\n",
    "\n",
    "$$\\dot{\\mathbf{x}}=\\left[\\begin{array}{cccc}\n",
    "  a_{11} & a_{12} & \\cdots & a_{1n} \\\\\n",
    "  a_{21} & a_{22} & \\cdots & a_{2n} \\\\\n",
    "  \\vdots & \\vdots & \\ddots & \\vdots \\\\\n",
    "  a_{n1} & a_{n2} & \\cdots & a_{nn}\n",
    "\\end{array}\\right]\\ \\mathbf{x} + \\left[\\begin{array}{cccc}\n",
    "  b_{11} & b_{12} & \\cdots & b_{1q} \\\\\n",
    "  b_{21} & b_{22} & \\cdots & b_{2q} \\\\\n",
    "  \\vdots & \\vdots & \\ddots & \\vdots \\\\\n",
    "  b_{n1} & b_{n2} & \\cdots & b_{nq}\n",
    "\\end{array}\\right]\\ \\mathbf{u} \\\\\n",
    "$$ "
   ]
  },
  {
   "cell_type": "markdown",
   "metadata": {
    "slideshow": {
     "slide_type": "fragment"
    }
   },
   "source": [
    "or more succinctly\n",
    "$$\\dot{\\mathbf{x}}=\\mathbf{A}\\mathbf{x}+\\mathbf{B}\\mathbf{u}$$ "
   ]
  },
  {
   "cell_type": "markdown",
   "metadata": {
    "slideshow": {
     "slide_type": "notes"
    }
   },
   "source": [
    "Where\n",
    "$\\mathbf{A}$ is the $n\\times n$ \"*system matrix*\" and $\\mathbf{B}$ is\n",
    "the $n\\times q$ \"*input matrix*\"."
   ]
  },
  {
   "cell_type": "markdown",
   "metadata": {
    "slideshow": {
     "slide_type": "notes"
    }
   },
   "source": [
    "The state equations allow us to describe the internal behaviour of the\n",
    "system when subjected to stimuli from the inputs. In example 1, we need\n",
    "nothing more if we wish to describe the way that the capacitor voltage\n",
    "$v_{31}$ and inductor current $i_1$ change with time under the influence\n",
    "of the input current $u$. However, if we wish to describe the behaviour\n",
    "of the other variables in the circuit we need to complete the state\n",
    "space model with a set of \"*output equations*.\""
   ]
  },
  {
   "cell_type": "markdown",
   "metadata": {
    "slideshow": {
     "slide_type": "subslide"
    }
   },
   "source": [
    "For illustration purposes we write an \"output equation\" for every\n",
    "possible signal. "
   ]
  },
  {
   "cell_type": "markdown",
   "metadata": {
    "slideshow": {
     "slide_type": "fragment"
    }
   },
   "source": [
    "$$\\begin{eqnarray*}\n",
    "v_{31}&=&1\\times v_{31} \\\\\n",
    "i_1 & = & 1\\times i_1 \\\\\n",
    "v_{32} &=& 1\\times v_{31} - R \\times i_1 \\\\\n",
    "v_{21} & = & R \\times i_1\\\\\n",
    "i_2 & = & u - 1\\times i_1.\\end{eqnarray*}$$"
   ]
  },
  {
   "cell_type": "markdown",
   "metadata": {
    "slideshow": {
     "slide_type": "subslide"
    }
   },
   "source": [
    "Arranging these equations in vector form we have:"
   ]
  },
  {
   "cell_type": "markdown",
   "metadata": {
    "slideshow": {
     "slide_type": "fragment"
    }
   },
   "source": [
    "$$\\left[\\begin{array}{c}\n",
    "  v_{31} \\\\\n",
    "  i_1 \\\\\n",
    "  v_{32} \\\\\n",
    "  v_{21} \\\\\n",
    "  i_2\n",
    "\\end{array}\\right] = \\left[\\begin{array}{cc}\n",
    "  1 & 0 \\\\\n",
    "  0 & 1 \\\\\n",
    "  1 & -R \\\\\n",
    "  0 & R \\\\\n",
    "  0 & -1\n",
    "\\end{array}\\right]\\ \\left[\\begin{array}{c}\n",
    "  v_{31} \\\\\n",
    "  i_1\n",
    "\\end{array}\\right]+\\left[\\begin{array}{c}\n",
    "  0 \\\\\n",
    "  0 \\\\\n",
    "  0 \\\\\n",
    "  0 \\\\\n",
    "  1\n",
    "\\end{array}\\right] u$$"
   ]
  },
  {
   "cell_type": "markdown",
   "metadata": {
    "slideshow": {
     "slide_type": "notes"
    }
   },
   "source": [
    "In general, we can describe a system with $r$ inputs in terms of the\n",
    "generic output variables $y_1, y_2,\\ldots,\\ y_r$ as shown in the next two slides."
   ]
  },
  {
   "cell_type": "markdown",
   "metadata": {
    "slideshow": {
     "slide_type": "subslide"
    }
   },
   "source": [
    "#### General Output Equation (1) \n",
    "\n",
    "Let us define a general output vector\n",
    "$$\\mathbf{y} = \\left[y_1,\\ y_2,\\ \\ldots, y_r\\right]^T$$"
   ]
  },
  {
   "cell_type": "markdown",
   "metadata": {
    "slideshow": {
     "slide_type": "fragment"
    }
   },
   "source": [
    "Given that some of the inputs to the system may be directly connected to\n",
    "the output, the input vector may also appear in the output general\n",
    "equation."
   ]
  },
  {
   "cell_type": "markdown",
   "metadata": {
    "slideshow": {
     "slide_type": "subslide"
    }
   },
   "source": [
    "#### General Output Equation (2)\n",
    "\n",
    "$$\\mathbf{y}=\\left[\\begin{array}{cccc}\n",
    "  c_{11} & c_{12} & \\cdots & c_{1n} \\\\\n",
    "  c_{21} & c_{22} & \\cdots & c_{2n} \\\\\n",
    "  \\vdots & \\vdots & \\vdots & \\vdots \\\\\n",
    "  c_{r1} & c_{r2} & \\cdots & c_{rn}\n",
    "\\end{array}\\right]\\ \\mathbf{x} + \\left[\\begin{array}{cccc}\n",
    "  d_{11} & d_{12} & \\cdots & d_{1q} \\\\\n",
    "  d_{21} & d_{22} & \\cdots & d_{2q} \\\\\n",
    "  \\vdots & \\vdots & \\vdots & \\vdots \\\\\n",
    "  d_{r1} & d_{r2} & \\cdots & d_{rq}\n",
    "\\end{array}\\right]\\ \\mathbf{u} \\\\\n",
    "$$ "
   ]
  },
  {
   "cell_type": "markdown",
   "metadata": {
    "slideshow": {
     "slide_type": "fragment"
    }
   },
   "source": [
    "or more succinctly\n",
    "$$\\mathbf{y}=\\mathbf{C}\\mathbf{x}+\\mathbf{D}\\mathbf{u}$$ "
   ]
  },
  {
   "cell_type": "markdown",
   "metadata": {
    "slideshow": {
     "slide_type": "fragment"
    }
   },
   "source": [
    "Where\n",
    "$\\mathbf{C}$ is the $n\\times r$ \"*output matrix*\" and $\\mathbf{D}$ is\n",
    "the $r\\times q$ \"*feedforward matrix*\"."
   ]
  },
  {
   "cell_type": "markdown",
   "metadata": {
    "slideshow": {
     "slide_type": "fragment"
    }
   },
   "source": [
    "This equation relates the states and inputs to the outputs. There are no\n",
    "dynamic terms!"
   ]
  },
  {
   "cell_type": "markdown",
   "metadata": {
    "slideshow": {
     "slide_type": "subslide"
    }
   },
   "source": [
    "#### The State Space Model\n",
    "\n",
    "$$\\begin{aligned}\n",
    "\\dot{\\mathbf{x}}=&\\mathbf{A}\\mathbf{x}+\\mathbf{B}\\mathbf{u}\\\\\n",
    "\\mathbf{y}=&\\mathbf{C}\\mathbf{x}+\\mathbf{D}\\mathbf{u}\\end{aligned}$$ "
   ]
  },
  {
   "cell_type": "markdown",
   "metadata": {
    "slideshow": {
     "slide_type": "notes"
    }
   },
   "source": [
    "This state-space model\n",
    "always be developed from a system with physically realizable states and\n",
    "physical realistic sources. Such a system is called \"*proper*\". If\n",
    "$\\mathbf{D}$ is null (matrix of zeros) the system is called \"*strictly\n",
    "proper*\"."
   ]
  },
  {
   "cell_type": "markdown",
   "metadata": {
    "slideshow": {
     "slide_type": "notes"
    }
   },
   "source": [
    "A block diagram representation of the state space model is shown in Figure 7.5.\n",
    "The block diagram of the circuit, rearranged to match the general model\n",
    "is shown in Figure 7.6."
   ]
  },
  {
   "cell_type": "markdown",
   "metadata": {
    "slideshow": {
     "slide_type": "subslide"
    }
   },
   "source": [
    "![Figure 7.5](pictures/ssmodel.png)\n",
    "\n",
    "<div style=\"text-align:center\"><b>Figure 7.5: Block diagram of a state-space model</b></div> "
   ]
  },
  {
   "cell_type": "markdown",
   "metadata": {
    "slideshow": {
     "slide_type": "notes"
    }
   },
   "source": [
    "Simulink model: [statemodel.slx](matlab/statemodel.slx)"
   ]
  },
  {
   "cell_type": "markdown",
   "metadata": {
    "slideshow": {
     "slide_type": "subslide"
    }
   },
   "source": [
    "![Figure 7.6](pictures/statemodel.png)\n",
    "\n",
    "<div style=\"text-align:center\"><b>Figure 7.6: State Space Model of Example 1</b></div> "
   ]
  },
  {
   "cell_type": "markdown",
   "metadata": {
    "slideshow": {
     "slide_type": "slide"
    }
   },
   "source": [
    "### Modelling State Space Systems in MATLAB\n",
    "\n",
    "For the example above"
   ]
  },
  {
   "cell_type": "markdown",
   "metadata": {
    "slideshow": {
     "slide_type": "fragment"
    }
   },
   "source": [
    "        A = [0 -1/Cap; 1/L -R/L];\n",
    "        B = [1/Cap; 0];\n",
    "        C = [1 0; 0 1; 1 -R; 0 R; 0 -1];\n",
    "        D = [0; 0; 0; 0; 1];\n",
    "        circ_ss = ss(A, B, C, D,...\n",
    "           'statename',{'v31' 'i1'}, 'inputname','u',...\n",
    "           'outputname', {'v31' 'i1' 'v32' 'v21' 'i2'});"
   ]
  },
  {
   "cell_type": "markdown",
   "metadata": {
    "slideshow": {
     "slide_type": "subslide"
    }
   },
   "source": [
    "Once you have the state-space model, all the analysis techniques seen so\n",
    "far are open to you."
   ]
  },
  {
   "cell_type": "markdown",
   "metadata": {
    "slideshow": {
     "slide_type": "notes"
    }
   },
   "source": [
    "Important note, for this to work you must assign numerical values to the\n",
    "the parameters `Cap`, `R` and `L`."
   ]
  },
  {
   "cell_type": "markdown",
   "metadata": {
    "slideshow": {
     "slide_type": "slide"
    }
   },
   "source": [
    "### In class activity\n",
    "\n",
    "In class we will construct the state-space model for the model chosen by\n",
    "you from the CTMS.\n",
    "\n",
    "Construct the state-space model chosen by you from the CTMS."
   ]
  },
  {
   "cell_type": "markdown",
   "metadata": {
    "slideshow": {
     "slide_type": "notes"
    }
   },
   "source": [
    "## Footnotes\n",
    "\n",
    "1. Systems with large numbers of derivative terms\n",
    "\n",
    "2. Note that in triangular blocks are used for gains and that the transfer function block $1/s$ represents the integral operator $\\int$. The small elliptical blocks represent input and output ports.\n",
    "\n",
    "3. We could have used any signal as an output as we shall see later.\n",
    "\n",
    "4. A state variable that can be related to a physical quantity is called a \"*physical state variable*.\"\n",
    "\n",
    "5. You should expand this matrix equation (8) out to verify that it is equivalent to (6) and (7).\n",
    "\n",
    "6. The matrix operator $[]^T$ is the \"transpose\" operator. In this case it converts the row vector shown into the column vector actually used in the state equations. When applied to a matrix, the rows of the matrix become the columns of the transposed matrix. We shall use the transpose operator in the discussion of state equations to avoid messy attempts to write column vectors in the body of a sentence!"
   ]
  },
  {
   "cell_type": "markdown",
   "metadata": {
    "slideshow": {
     "slide_type": "notes"
    }
   },
   "source": [
    "## Answers to In-Class Problems"
   ]
  },
  {
   "cell_type": "markdown",
   "metadata": {
    "slideshow": {
     "slide_type": "notes"
    }
   },
   "source": [
    "### Solution to Example 2\n",
    "\n",
    "Introducing state variables $x_1=y$ and $x_2=dy/dt$ then the state equations are: $$\\frac{dx_1}{dt}=\\frac{dy}{dt}=x_2$$\n",
    "$$\\frac{dx_2}{dt}=\\frac{d^2y}{dt^2}=-2x_1 - 3x_2 + u$$ and the output\n",
    "equation is: $$y=x_1.$$"
   ]
  },
  {
   "cell_type": "markdown",
   "metadata": {
    "slideshow": {
     "slide_type": "notes"
    }
   },
   "source": [
    "### Solution to Example 3\n",
    "\n",
    "For this system, summing the forces in the direction $x$ we have\n",
    "\n",
    "$$F = m\\frac{d^2x}{dt^2} + b\\frac{dx}{dt} + kx$$\n",
    "\n",
    "If we chose the position of the mass $x$ and it's velocity $dx/dt$ to be the states, and let the force $F$ be the system input, then $x_1 = x$, $x_2 = dx/dt$ and $u=F$ and the state equations are:\n",
    "\n",
    "$$\\begin{aligned}\n",
    "    \\frac{dx_1}{dt} = & x_2 \\\\\n",
    "    \\frac{dx_2}{dt} = & -\\frac{k}{m} x_1 -\\frac{b}{m} x_2 + \\frac{1}{m} u\\end{aligned}$$\n",
    "\n",
    "You should construct the Simulink model represented by these equations and compare the results with those shown in [Chapter 1](../../01/modsim)."
   ]
  }
 ],
 "metadata": {
  "celltoolbar": "Slideshow",
  "kernelspec": {
   "display_name": "Matlab",
   "language": "matlab",
   "name": "matlab"
  },
  "language_info": {
   "codemirror_mode": "octave",
   "file_extension": ".m",
   "help_links": [
    {
     "text": "MetaKernel Magics",
     "url": "https://github.com/calysto/metakernel/blob/master/metakernel/magics/README.md"
    }
   ],
   "mimetype": "text/x-octave",
   "name": "matlab",
   "version": "0.15.2"
  }
 },
 "nbformat": 4,
 "nbformat_minor": 2
}
