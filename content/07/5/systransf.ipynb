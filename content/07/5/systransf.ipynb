{
 "cells": [
  {
   "cell_type": "markdown",
   "metadata": {
    "slideshow": {
     "slide_type": "slide"
    }
   },
   "source": [
    "# Transformation of States and System Diagonalization"
   ]
  },
  {
   "cell_type": "markdown",
   "metadata": {
    "slideshow": {
     "slide_type": "notes"
    }
   },
   "source": [
    "The canonical forms described in the last [section](https://cpjobling.github.io/eglm03-textbook/07/4/canon) give different descriptions of the same transfer function (TF) and are therefore equivalent in their overall input-output relationship. This means that it should be possible to convert one canonical form into another by the operation of simple matrix operations. Furthermore, by transforming a system to the *normal form*, determining the response and mapping back, it is possible to determine the total system response of any state space system.\n",
    "\n",
    "The *eigenvalues* of the state matrix $\\mathbf{A}$ have an important influence on the system response and understanding them is key to understanding the general solution of state-space systems.\n",
    "\n",
    "In this section we define eigenvalues and eigenvectors, show the system transformation method and prove that it has no impact on the system eigenvalues, show how it can be used to transform an arbitrary state-space model into one with a diagonal (normal) structure, and finally we use these results to find a general time-response solution to the state space equations."
   ]
  },
  {
   "cell_type": "markdown",
   "metadata": {
    "slideshow": {
     "slide_type": "slide"
    }
   },
   "source": [
    "## Pre-Class Presentation: Transformation of State Models"
   ]
  },
  {
   "cell_type": "markdown",
   "metadata": {
    "slideshow": {
     "slide_type": "fragment"
    }
   },
   "source": [
    "-   For a given transfer function the canonical forms are equivalent in their input-output relationships."
   ]
  },
  {
   "cell_type": "markdown",
   "metadata": {
    "slideshow": {
     "slide_type": "fragment"
    }
   },
   "source": [
    "-   We can convert one form of canonical system into another by the application of simple matrix operations."
   ]
  },
  {
   "cell_type": "markdown",
   "metadata": {
    "slideshow": {
     "slide_type": "fragment"
    }
   },
   "source": [
    "-   Transforming to normal form simplifies the calculation of system response."
   ]
  },
  {
   "cell_type": "markdown",
   "metadata": {
    "slideshow": {
     "slide_type": "subslide"
    }
   },
   "source": [
    "-   The *eigenvalues* of the $\\mathbf{A}$ matrix are key to the process."
   ]
  },
  {
   "cell_type": "markdown",
   "metadata": {
    "slideshow": {
     "slide_type": "fragment"
    }
   },
   "source": [
    "-   Knowledge of a system's eigenvalues means that we can determine the system response of any LTI system."
   ]
  },
  {
   "cell_type": "markdown",
   "metadata": {
    "slideshow": {
     "slide_type": "subslide"
    }
   },
   "source": [
    "## Section Contents"
   ]
  },
  {
   "cell_type": "markdown",
   "metadata": {
    "slideshow": {
     "slide_type": "fragment"
    }
   },
   "source": [
    "* Eigenvalues and eigenvectors"
   ]
  },
  {
   "cell_type": "markdown",
   "metadata": {
    "slideshow": {
     "slide_type": "fragment"
    }
   },
   "source": [
    "* System transformation"
   ]
  },
  {
   "cell_type": "markdown",
   "metadata": {
    "slideshow": {
     "slide_type": "fragment"
    }
   },
   "source": [
    "* Diagonalization of a state space model"
   ]
  },
  {
   "cell_type": "markdown",
   "metadata": {
    "slideshow": {
     "slide_type": "fragment"
    }
   },
   "source": [
    "* Solution to the general state equations"
   ]
  },
  {
   "cell_type": "markdown",
   "metadata": {
    "slideshow": {
     "slide_type": "slide"
    }
   },
   "source": [
    "## Eigenvalues and Eigenvectors "
   ]
  },
  {
   "cell_type": "markdown",
   "metadata": {
    "slideshow": {
     "slide_type": "subslide"
    }
   },
   "source": [
    "### Definition of an Eigenvector\n",
    "\n",
    "The eignevectors<sup>1</sup> of the matrix $\\mathbf{A}$ are all vectors $\\mathbf{x}_i\\ne\\mathbf{0}$, which under the transformation $\\mathbf{A}$ become multiples of themselves; "
   ]
  },
  {
   "cell_type": "markdown",
   "metadata": {
    "slideshow": {
     "slide_type": "fragment"
    }
   },
   "source": [
    "That is,\n",
    "\n",
    "$$\\begin{equation}\n",
    "\\mathbf{A}\\mathbf{x}_i=\\lambda_i\\mathbf{x}_i\\end{equation}$$ \n",
    "\n",
    "where each $\\lambda_i$ is\n",
    "a constant called an *eigenvalue*."
   ]
  },
  {
   "cell_type": "markdown",
   "metadata": {
    "slideshow": {
     "slide_type": "notes"
    }
   },
   "source": [
    "Figure 1 illustrates this definition of eigenvectors. If $\\mathbf{Ax}$ is not\n",
    "collinear with $\\mathbf{x}$ after the transformation, $\\mathbf{x}$ is\n",
    "not an eigenvector. If $\\mathbf{Ax}$ is collinear with $\\mathbf{x}$\n",
    "after the transformation, $\\mathbf{x}$ is an eigenvector."
   ]
  },
  {
   "cell_type": "markdown",
   "metadata": {
    "slideshow": {
     "slide_type": "subslide"
    }
   },
   "source": [
    "### Figure 1: Eigenvectors and Transformations\n",
    "\n",
    "![Eigenvectors and Transformations](pictures/eigenvectors.png)\n",
    "\n",
    "To be an eigenvector, the transformation $\\mathbf{Ax}$ must be collinear with $\\mathbf{x}$. Thus, in (a), $\\mathbf{x}$ is not an eigenvector: in (b), it is."
   ]
  },
  {
   "cell_type": "markdown",
   "metadata": {
    "slideshow": {
     "slide_type": "subslide"
    }
   },
   "source": [
    "### Eigenvalues\n",
    "\n",
    "The eigenvalues of the matrix $\\mathbf{A}$ are the values of $\\lambda_i$ that satisfy (1) for $\\mathbf{x}_i\\ne \\mathbf{0}$."
   ]
  },
  {
   "cell_type": "markdown",
   "metadata": {
    "slideshow": {
     "slide_type": "fragment"
    }
   },
   "source": [
    "To find the eigenvectors, we arrange equation (1). The eigenvectors, $\\mathbf{x}_i$, satisfy\n",
    "\n",
    "$$\\begin{equation}\\mathbf{0}=(\\lambda_i\\mathbf{I}-\\mathbf{A})\\mathbf{x}_i\\end{equation}$$ \n",
    "\n",
    "Solving for $\\mathbf{x}_i$ "
   ]
  },
  {
   "cell_type": "markdown",
   "metadata": {
    "slideshow": {
     "slide_type": "notes"
    }
   },
   "source": [
    "by premultiplying both sides by $(\\lambda_i\\mathbf{I}-\\mathbf{A})^{-1}$ yields\n",
    "\n",
    "$$\\mathbf{x}_i = (\\lambda_i\\mathbf{I}-\\mathbf{A})^{-1} =\n",
    "           \\frac{\\textrm{adj}(\\lambda_i\\mathbf{I}-\\mathbf{A})^{-1}}{\\det(\\lambda_i\\mathbf{I}-\\mathbf{A})^{-1}} = \\mathbf{0}$$\n",
    "           \n",
    "\n",
    "Since $\\mathbf{x}_i\\ne \\mathbf{0}$, "
   ]
  },
  {
   "cell_type": "markdown",
   "metadata": {
    "slideshow": {
     "slide_type": "fragment"
    }
   },
   "source": [
    "a nonzero solution exists if\n",
    "\n",
    "$$\\begin{equation}\n",
    "    \\det(\\lambda_i\\mathbf{I}-\\mathbf{A}) = \\mathbf{0} \\label{eq:eigenvalue}\\end{equation}$$\n",
    "\n",
    "From which $\\lambda_i$, the eigenvalues, can be found."
   ]
  },
  {
   "cell_type": "markdown",
   "metadata": {
    "slideshow": {
     "slide_type": "notes"
    }
   },
   "source": [
    "We are now ready to show how to find the eigenvectors $\\mathbf{x}_i$. First we find the eigenvalues, $\\lambda_i$, using $\\det(\\lambda_i\\mathbf{I}-\\mathbf{A}) = \\mathbf{0}$, and then we use equation (1) to find the eigenvectors."
   ]
  },
  {
   "cell_type": "markdown",
   "metadata": {
    "slideshow": {
     "slide_type": "subslide"
    }
   },
   "source": [
    "\n",
    "\n",
    "\n",
    "\n",
    "\n",
    "\n",
    "\n",
    "\n",
    "\n",
    "\n",
    "\n",
    "\n",
    "\n",
    "\n",
    "\n",
    "\n",
    "\n",
    "\n",
    "\n",
    "\n",
    "\n",
    "\n",
    "\n",
    "\n",
    "\n",
    "\n",
    "\n",
    "\n",
    "\n",
    "\n",
    "### Finding the eigenvectors of a system\n",
    "\n",
    "To find the eigenvectors $\\mathbf{x}_i$ of a system matrix $\\mathbf{A}$\n",
    "\n",
    "1.  First find the eigenvalues, $\\lambda_i$, using $\\det(\\lambda_i\\mathbf{I}-\\mathbf{A}) = \\mathbf{0}$\n",
    "\n",
    "2.  Use $\\mathbf{A}\\mathbf{x}_i=\\lambda_i\\mathbf{x}_i$ to find the eigenvectors.\n",
    "\n",
    "We will work through an example in class."
   ]
  },
  {
   "cell_type": "markdown",
   "metadata": {
    "slideshow": {
     "slide_type": "slide"
    }
   },
   "source": [
    "## Transformation of State Space Models\n",
    "\n",
    "Suppose we have a state space model with states $\\mathbf{x}$ and matrices $\\mathbf{A}$, $\\mathbf{B}$, $\\mathbf{C}$ and $\\mathbf{D}$ and we wish to transform to a model with states $\\mathbf{w}$ where $\\mathbf{x}=\\mathbf{Tw}$. $\\mathbf{T}$ is the *transformation matrix* for the states."
   ]
  },
  {
   "cell_type": "markdown",
   "metadata": {
    "slideshow": {
     "slide_type": "subslide"
    }
   },
   "source": [
    "### State transformation\n",
    "\n",
    "$$\\begin{eqnarray*}\n",
    "\t\\frac{d\\mathbf{x}}{dt} & = & \\mathbf{A}\\mathbf{x}+\\mathbf{B}\\mathbf{u} \\\\\n",
    "\t\\frac{d\\mathbf{Tw}}{dt} & = & \\mathbf{ATw}+\\mathbf{B}\\mathbf{u} \\\\\n",
    "\t\\mathbf{T}\\frac{d\\mathbf{w}}{dt} & = & \\mathbf{ATw}+\\mathbf{B}\\mathbf{u} \\\\\n",
    "\t\\frac{d\\mathbf{w}}{dt} & = & \\mathbf{T}^{-1}\\mathbf{ATw}+\\mathbf{T}^{-1}\\mathbf{B}\\mathbf{u} \\\\\t\\end{eqnarray*}$$"
   ]
  },
  {
   "cell_type": "markdown",
   "metadata": {
    "slideshow": {
     "slide_type": "subslide"
    }
   },
   "source": [
    "### Ouput transformation\n",
    "\n",
    "Similarly for the output equation: \n",
    "\n",
    "$$\\begin{eqnarray*}\n",
    "\t\\mathbf{y} & = & \\mathbf{Cx} + \\mathbf{Du} \\\\\n",
    "\t\\mathbf{y} & = & \\mathbf{CTw} + \\mathbf{Du} \\\\\t\\end{eqnarray*}$$"
   ]
  },
  {
   "cell_type": "markdown",
   "metadata": {
    "slideshow": {
     "slide_type": "subslide"
    }
   },
   "source": [
    "### Transformed Model\n",
    "\n",
    "Therefore the new state space model is:\n",
    "\n",
    "$$\\begin{eqnarray*}\n",
    "\t\\frac{d\\mathbf{w}}{dt} & = & \\mathbf{A}'\\mathbf{w} + \\mathbf{B}'\\mathbf{u} \\\\\n",
    "\t\\mathbf{y} & = & \\mathbf{C}'\\mathbf{w}+\\mathbf{D}'\\mathbf{u}\\end{eqnarray*}$$\n",
    "\n",
    "where $\\mathbf{A}'=\\mathbf{T}^{-1}\\mathbf{A}\\mathbf{T}$,\n",
    "$\\mathbf{B}'=\\mathbf{T}^{-1}\\mathbf{B}$, $\\mathbf{C}'=\\mathbf{CT}$, and\n",
    "$\\mathbf{D}'=\\mathbf{D}$."
   ]
  },
  {
   "cell_type": "markdown",
   "metadata": {
    "slideshow": {
     "slide_type": "notes"
    }
   },
   "source": [
    "-   This should not be surprising since the poles of the system being\n",
    "    modelled correspond to the eigenvalues of the state matrix, whatever\n",
    "    the choice of states."
   ]
  },
  {
   "cell_type": "markdown",
   "metadata": {
    "slideshow": {
     "slide_type": "subslide"
    }
   },
   "source": [
    "### Similarity Transform Preserves Eigenvalues\n",
    "\n",
    "The transformation $\\mathbf{T}^{-1}\\mathbf{AT}$ is a *similarity transform*. That is the eigenvalues are the same as for $\\mathbf{A}$."
   ]
  },
  {
   "cell_type": "markdown",
   "metadata": {
    "slideshow": {
     "slide_type": "fragment"
    }
   },
   "source": [
    "*Proof* \n",
    "\n",
    "$$\\begin{eqnarray*}\n",
    "\t\\mathbf{Ax} & = & \\lambda\\mathbf{x} \\\\\n",
    "\t\\mathbf{T}^{-1}\\mathbf{Ax} & = & \\lambda\\mathbf{T}^{-1}\\mathbf{x}\t\n",
    "\\end{eqnarray*}$$"
   ]
  },
  {
   "cell_type": "markdown",
   "metadata": {
    "slideshow": {
     "slide_type": "subslide"
    }
   },
   "source": [
    "Let $\\mathbf{x}=\\mathbf{Tw}$ then\n",
    "\n",
    "$$\\begin{eqnarray*}\n",
    "\t\\mathbf{T}^{-1}\\mathbf{ATw} & = & \\lambda\\mathbf{T}^{-1}\\mathbf{Tw} \\\\\t\n",
    "\t(\\mathbf{T}^{-1}\\mathbf{AT})\\mathbf{w} & = & \\lambda\\mathbf{w} \\\\\t\\end{eqnarray*}$$"
   ]
  },
  {
   "cell_type": "markdown",
   "metadata": {
    "slideshow": {
     "slide_type": "fragment"
    }
   },
   "source": [
    "Therefore if $\\lambda$ is an eigenvalue of $\\mathbf{A}$ then it is also one of $\\mathbf{A}'=\\mathbf{T}^{-1}\\mathbf{AT}$.\n",
    "\n",
    "*QED*."
   ]
  },
  {
   "cell_type": "markdown",
   "metadata": {
    "slideshow": {
     "slide_type": "slide"
    }
   },
   "source": [
    "## Diagonalization of a System Matrix \n",
    "\n",
    "If we choose the eigenvectors of a system matrix $\\mathbf{A}$ to be the basis of a transformation, $\\mathbf{T}$, the resulting system matrix will be in the diagonal normal form. Let the transformation matrix $\\mathbf{T}$ consist of the eigenvectors of $\\mathbf{A}$, $\\mathbf{x}_i$. "
   ]
  },
  {
   "cell_type": "markdown",
   "metadata": {
    "slideshow": {
     "slide_type": "fragment"
    }
   },
   "source": [
    "$$\\begin{equation}\n",
    "    \\mathbf{T}=[\\mathbf{x}_1, \\mathbf{x}_2, \\mathbf{x}_3, \\ldots, \\mathbf{x}_n]\\end{equation}$$\n",
    "    "
   ]
  },
  {
   "cell_type": "markdown",
   "metadata": {
    "slideshow": {
     "slide_type": "notes"
    }
   },
   "source": [
    "Since $\\mathbf{x}_i$ are eigenvectors, "
   ]
  },
  {
   "cell_type": "markdown",
   "metadata": {
    "slideshow": {
     "slide_type": "subslide"
    }
   },
   "source": [
    "$\\mathbf{A}\\mathbf{x}_i=\\lambda_i\\mathbf{x}_i$, can be written equivalently as a set of equations expressed by \n",
    "\n",
    "$$\\begin{equation}\n",
    "    \\mathbf{AT}=\\mathbf{T\\Lambda}\\end{equation}$$ "
   ]
  },
  {
   "cell_type": "markdown",
   "metadata": {
    "slideshow": {
     "slide_type": "notes"
    }
   },
   "source": [
    "where $\\mathbf{\\Lambda}$ is a matrix which has the eigenvalues $\\lambda_i$ on the diagonal in some order and\n",
    "zeros elsewhere, and $\\mathbf{T}$ is as defined in Eq. (8). "
   ]
  },
  {
   "cell_type": "markdown",
   "metadata": {
    "slideshow": {
     "slide_type": "fragment"
    }
   },
   "source": [
    "Solving Eq. (9) for $\\mathbf{\\Lambda}$ by premultiplying by $\\mathbf{T}^{-1}$, we get \n",
    "\n",
    "$$\\begin{equation}\n",
    "    \\mathbf{\\Lambda}=\\mathbf{T}^{-1}\\mathbf{AT}\\end{equation}$$\n",
    "    \n",
    "which is the system matrix in normal canonical form.<sup>2</sup>"
   ]
  },
  {
   "cell_type": "markdown",
   "metadata": {
    "slideshow": {
     "slide_type": "notes"
    }
   },
   "source": [
    "In summary, under the transformation $\\mathbf{T}$, consisting of the eigenvalues of the system matrix, the transformed system is identical to that obtained using the partial fraction expansion of the transfer function with distinct real roots."
   ]
  },
  {
   "cell_type": "markdown",
   "metadata": {
    "slideshow": {
     "slide_type": "notes"
    }
   },
   "source": [
    "## Using Diagonalization to Solve State Equations \n",
    "\n",
    "It is possible to obtain solutions for the state equations in any set of states, $\\mathbf{x}$, by transforming to normal canonical form and solving the latter's states, $\\mathbf{w}$, as shown in [Section 7.4](https://cpjobling.github.io/eglm03-textbook/07/4/canon).\n",
    "\n",
    "The initial states are found, using the inverse transformation, as: \n",
    "\n",
    "$$\\mathbf{w}_0=\\mathbf{T}^{-1}\\mathbf{x}_0$$\n",
    "\n",
    "The solutions to the original states can then be found from $\\mathbf{w}$\n",
    "using the transformation $$\\mathbf{x}=\\mathbf{Tw}$$\n",
    "\n",
    "Since the state space model for $\\mathbf{w}$ is in normal form then the\n",
    "state matrix, $\\mathbf{A}' = \\mathbf{\\Lambda}$, is diagonal with the\n",
    "eigenvalues of $\\mathbf{A}$ in some order on the diagonal.\n",
    "\n",
    "As demonstrated above, the columns of the transformation matrix, $\\mathbf{T}$ will be formed by concatenation of the corresponding eigenvectors of $\\mathbf{A}$ in the same order."
   ]
  },
  {
   "cell_type": "markdown",
   "metadata": {
    "slideshow": {
     "slide_type": "slide"
    }
   },
   "source": [
    "### Solution of General State Equations\n",
    "\n",
    "-   In [Section 7.4](https://cpjobling.github.io/eglm03-textbook/07/4/canon) we showed how we could determine the solution to a state equation in normal (diagonal form).\n",
    "\n",
    "-   Here we have demonstrated how to use the eignenvalues and eigenvectors to transform a model in state space form to the normal form.\n",
    "\n",
    "-   Thus if we have $\\mathbf{w}$ the initial states will be\n",
    "    $\\mathbf{w}_0=\\mathbf{T}^{-1}\\mathbf{x}_0$, and\n",
    "\n",
    "-   The solutions to the original states can then be found from\n",
    "    $\\mathbf{w}$ using the transformation $\\mathbf{x}=\\mathbf{Tw}$\n",
    "\n",
    "Example 4 illustrates the procedure."
   ]
  },
  {
   "cell_type": "markdown",
   "metadata": {
    "slideshow": {
     "slide_type": "slide"
    }
   },
   "source": [
    "## Summary of Pre-Class Presentation\n",
    "\n",
    "* Eigenvalues and eigenvectors\n",
    "* System transformation\n",
    "* Diagonalization of a state space model\n",
    "* Solution to the general state equations"
   ]
  },
  {
   "cell_type": "markdown",
   "metadata": {
    "slideshow": {
     "slide_type": "subslide"
    }
   },
   "source": [
    "## Activities for Class\n",
    "\n",
    "* Worked Examples (solutions in notes)\n",
    "* System Transformations in Matlab"
   ]
  },
  {
   "cell_type": "markdown",
   "metadata": {
    "slideshow": {
     "slide_type": "slide"
    }
   },
   "source": [
    "## Worked Examples"
   ]
  },
  {
   "cell_type": "markdown",
   "metadata": {
    "slideshow": {
     "slide_type": "subslide"
    }
   },
   "source": [
    "### Example 1: finding eigenvectors \n",
    "\n",
    "Find the eigenvectors of the matrix\n",
    "\n",
    "$$\\begin{equation}{\\bf{A}} = \\left[ {\\begin{array}{*{20}c}\n",
    "       { - 3} & 1  \\\\\n",
    "       1 & { - 3}  \\\\\n",
    "    \\end{array}} \\right]\\end{equation}$$"
   ]
  },
  {
   "cell_type": "markdown",
   "metadata": {
    "slideshow": {
     "slide_type": "notes"
    }
   },
   "source": [
    "#### Solution\n",
    "\n",
    "The eigenvectors, $\\mathbf{x}_i$, satisfy Eq. (2). First, use $\\det(\\lambda_i\\mathbf{I}-\\mathbf{A})=0$ to find the eigenvalues, $\\lambda_i$, for Eq. (1): \n",
    "\n",
    "$$\\begin{array}{c}\n",
    " \\det (\\lambda {\\bf{I}} - {\\bf{A}}) = \\left| {\\left[ {\\begin{array}{*{20}c}\n",
    "   \\lambda  & 0  \\\\\n",
    "   0 & \\lambda   \\\\\n",
    "\\end{array}} \\right] - \\left[ {\\begin{array}{*{20}c}\n",
    "   { - 3} & 1  \\\\\n",
    "   1 & { - 3}  \\\\\n",
    "\\end{array}} \\right]} \\right| \\\\\n",
    "  = \\left| {\\begin{array}{*{20}c}\n",
    "   {\\lambda  + 3} & { - 1}  \\\\\n",
    "   { - 1} & {\\lambda  + 3}  \\\\\n",
    "\\end{array}} \\right| \\\\\n",
    "  = \\lambda ^2  + 6\\lambda  + 8 \\\\\n",
    " \\end{array}$$\n",
    "\n",
    "from which the eigenvalues are $\\lambda_1 = -2$ and $\\lambda_2 = -4$.\n",
    "\n",
    "Using Eq. (1) successively with each eigenvalue, we have\n",
    "\n",
    "$$\\begin{array}{l}\n",
    " {\\bf{Ax}}_i  = \\lambda {\\bf{x}}_i  \\\\\n",
    " \\left[ {\\begin{array}{*{20}c}\n",
    "   { - 3} & 1  \\\\\n",
    "   1 & { - 3}  \\\\\n",
    "\\end{array}} \\right]\\left[ {\\begin{array}{*{20}c}\n",
    "   {x_1 }  \\\\\n",
    "   {x_2 }  \\\\\n",
    "\\end{array}} \\right] =  - 2\\left[ {\\begin{array}{*{20}c}\n",
    "   {x_1 }  \\\\\n",
    "   {x_2 }  \\\\\n",
    "\\end{array}} \\right] \\\\\n",
    " \\end{array}$$\n",
    " \n",
    " or \n",
    " \n",
    " $$\\begin{eqnarray*}\n",
    "-3x_1+x_2 & = & -2x_1 \\\\\n",
    "x_1-3x_2 & = & -2x_2\\end{eqnarray*}$$ \n",
    "\n",
    "from which $x_1 = x_2$. Thus,\n",
    "\n",
    "\n",
    "$$\\begin{equation}\n",
    "{\\bf{x}} = \\left[ {\\begin{array}{*{20}c}\n",
    "   c  \\\\\n",
    "   c  \\\\\n",
    "\\end{array}} \\right]\\end{equation}$$ \n",
    "\n",
    "Using the other eigenvalue, $-4$, we have\n",
    "\n",
    "$$\\begin{equation}\n",
    "{\\bf{x}} = \\left[ {\\begin{array}{*{20}c}\n",
    "   c  \\\\\n",
    "   -c  \\\\\n",
    "\\end{array}} \\right]\\end{equation}$$ \n",
    "\n",
    "Using Eqs. (5) and (6), one choice of eigenvectors is \n",
    "\n",
    "$$\\begin{equation}\n",
    "{\\bf{x}}_1  = \\left[ {\\begin{array}{*{20}c}\n",
    "   1  \\\\\n",
    "   1  \\\\\n",
    "\\end{array}} \\right]\\quad {\\rm{and}}\\quad {\\bf{x}}_2  = \\left[ {\\begin{array}{*{20}c}\n",
    "   1  \\\\\n",
    "   { - 1}  \\\\\n",
    "\\end{array}} \\right]\\end{equation}$$"
   ]
  },
  {
   "cell_type": "markdown",
   "metadata": {
    "slideshow": {
     "slide_type": "subslide"
    }
   },
   "source": [
    "### Example 2: Similarity transformations on state equations\n",
    "\n",
    "Given the system represented in state space by the\n",
    "following equations \n",
    "\n",
    "$$\\begin{array}{l}\n",
    " {\\bf{\\dot x}} = \\left[ {\\begin{array}{*{20}c}\n",
    "   0 & 1 & 0  \\\\\n",
    "   0 & 0 & 1  \\\\\n",
    "   { - 2} & { - 5} & { - 7}  \\\\\n",
    "\\end{array}} \\right]{\\bf{x}} + \\left[ {\\begin{array}{*{20}c}\n",
    "   0  \\\\\n",
    "   0  \\\\\n",
    "   1  \\\\\n",
    "\\end{array}} \\right]u \\\\\n",
    " y = \\left[ {\\begin{array}{*{20}c}\n",
    "   1 & 0 & 0  \\\\\n",
    "\\end{array}} \\right]{\\bf{x}} \\\\\n",
    " \\end{array}$$ \n",
    " \n",
    "transform the system to a new set of state variables, $\\mathbf{w}$, where the new state variables are related to the original state variables, $\\mathbf{x}$, as follows: \n",
    "\n",
    "$$\\begin{aligned}\n",
    "\tw_1 & = & 2x_1 \\\\\n",
    "\tw_2 & = & 3x_1 + 2x_2 \\\\\n",
    "\tw_3 & = & x_1 + 4x_2 + 5x_3\\end{aligned}$$"
   ]
  },
  {
   "cell_type": "markdown",
   "metadata": {
    "slideshow": {
     "slide_type": "notes"
    }
   },
   "source": [
    "#### Solution\n",
    "\n",
    "Expressing the transformed states in vector-matrix form,\n",
    "\n",
    "$${\\bf{w}} = \\left[ {\\begin{array}{*{20}c}\n",
    "   2 & 0 & 0  \\\\\n",
    "   3 & 2 & 0  \\\\\n",
    "   1 & 4 & 5  \\\\\n",
    "\\end{array}} \\right]{\\bf{x}} = {\\bf{T}}^{ - 1} {\\bf{x}}$$\n",
    "\n",
    "Thus \n",
    "\n",
    "$$\\begin{array}{c}\n",
    " {\\bf{T}}^{ - 1} {\\bf{AT}} = \\left[ {\\begin{array}{*{20}c}\n",
    "   2 & 0 & 0  \\\\\n",
    "   3 & 2 & 0  \\\\\n",
    "   1 & 4 & 5  \\\\\n",
    "\\end{array}} \\right]\\;\\left[ {\\begin{array}{*{20}c}\n",
    "   0 & 1 & 0  \\\\\n",
    "   0 & 0 & 1  \\\\\n",
    "   { - 2} & { - 5} & { - 7}  \\\\\n",
    "\\end{array}} \\right]\\;\\left[ {\\begin{array}{*{20}c}\n",
    "   {0.5} & 0 & 0  \\\\\n",
    "   { - 0.75} & {0.5} & 0  \\\\\n",
    "   {0.5} & { - 0.4} & {0.2}  \\\\\n",
    "\\end{array}} \\right] \\\\\n",
    "  = \\left[ {\\begin{array}{*{20}c}\n",
    "   { - 1.5} & 1 & 0  \\\\\n",
    "   { - 1.25} & {0.7} & {0.4}  \\\\\n",
    "   { - 2.5} & {0.4} & { - 6.2}  \\\\\n",
    "\\end{array}} \\right] \\\\\n",
    " \\end{array}$$\n",
    "\n",
    "$${\\bf{T}}^{ - 1} {\\bf{B}} = \\left[ {\\begin{array}{*{20}c}\n",
    "   2 & 0 & 0  \\\\\n",
    "   3 & 2 & 0  \\\\\n",
    "   1 & 4 & 5  \\\\\n",
    "\\end{array}} \\right]\\;\\left[ {\\begin{array}{*{20}c}\n",
    "   0  \\\\\n",
    "   0  \\\\\n",
    "   1  \\\\\n",
    "\\end{array}} \\right] = \\left[ {\\begin{array}{*{20}c}\n",
    "   0  \\\\\n",
    "   0  \\\\\n",
    "   5  \\\\\n",
    "\\end{array}} \\right]$$\n",
    "\n",
    "$${\\bf{CT}} = \\left[ {\\begin{array}{*{20}c}\n",
    "   1 & 0 & 0  \\\\\n",
    "\\end{array}} \\right]\\;\\left[ {\\begin{array}{*{20}c}\n",
    "   {0.5} & 0 & 0  \\\\\n",
    "   { - 0.75} & {0.5} & 0  \\\\\n",
    "   {0.5} & { - 0.4} & {0.2}  \\\\\n",
    "\\end{array}} \\right] = \\left[ {\\begin{array}{*{20}c}\n",
    "   {0.5} & 0 & 0  \\\\\n",
    "\\end{array}} \\right]$$\n",
    "\n",
    "Therefore the transformed system is \n",
    "\n",
    "$$\\begin{array}{l}\n",
    " {\\bf{\\dot w}} = \\left[ {\\begin{array}{*{20}c}\n",
    "   { - 1.5} & 1 & 0  \\\\\n",
    "   { - 1.25} & {0.7} & {0.4}  \\\\\n",
    "   { - 2.5} & { 0.4} & {-6.2}  \\\\\n",
    "\\end{array}} \\right]{\\bf{w}} + \\left[ {\\begin{array}{*{20}c}\n",
    "   0  \\\\\n",
    "   0  \\\\\n",
    "   5  \\\\\n",
    "\\end{array}} \\right]u \\\\\n",
    " y = \\left[ {\\begin{array}{*{20}c}\n",
    "   {0.5} & 0 & 0  \\\\\n",
    "\\end{array}} \\right]{\\bf{w}} \\\\\n",
    " \\end{array}$$"
   ]
  },
  {
   "cell_type": "markdown",
   "metadata": {
    "slideshow": {
     "slide_type": "subslide"
    }
   },
   "source": [
    "### Example 3: Diagonalization of a system in state space \n",
    "\n",
    "Given the system shown below, find the diagonal (normal form) system that is similar. \n",
    "\n",
    "$$\\begin{eqnarray*}\n",
    "  {\\mathbf{\\dot x}} &=& \\left[ {\\begin{array}{*{20}{c}}\n",
    "  { - 3}&1 \\\\ \n",
    "  1&{ - 3} \n",
    "\\end{array}} \\right]{\\mathbf{x}} + \\left[ {\\begin{array}{*{20}{c}}\n",
    "  1 \\\\ \n",
    "  2 \n",
    "\\end{array}} \\right]u \\hfill \\\\\n",
    "  y &=& \\left[ {\\begin{array}{*{20}{c}}\n",
    "  2&3 \n",
    "\\end{array}} \\right]{\\mathbf{x}} \\hfill \\\\ \n",
    "\\end{eqnarray*}$$"
   ]
  },
  {
   "cell_type": "markdown",
   "metadata": {
    "slideshow": {
     "slide_type": "subslide"
    }
   },
   "source": [
    "#### Solution\n",
    "\n",
    "First find the eigenvalues and the eigenvectors. This step was performed in Example 1. Next form the transformation matrix $\\mathbf{T}$, whose columns are the eignevectors.\n",
    "\n",
    "$${\\bf{T}} = \\left[ {\\begin{array}{*{20}c}\n",
    "   1 & 1  \\\\\n",
    "   1 & { - 1}  \\\\\n",
    "\\end{array}} \\right]$$ \n",
    "\n",
    "finally form the similar systems's system matrix, input matrix and output matrix respectively. \n",
    "\n",
    "$$\\begin{array}{*{20}{c}}\n",
    "  \\mathbf{T}^{ - 1}\\mathbf{AT} = \\left[ {\\begin{array}{*{20}{c}}\n",
    "  {1/2}&{1/2} \\\\ \n",
    "  {1/2}&{ - 1/2} \n",
    "\\end{array}} \\right]{\\kern 1pt} \\left[ {\\begin{array}{*{20}{c}}\n",
    "  { - 3}&1 \\\\ \n",
    "  1&{ - 3} \n",
    "\\end{array}} \\right]{\\kern 1pt} \\left[ {\\begin{array}{*{20}{c}}\n",
    "  1&1 \\\\ \n",
    "  1&{ - 1} \n",
    "\\end{array}} \\right] = \\left[ {\\begin{array}{*{20}{c}}\n",
    "  { - 2}&0 \\\\ \n",
    "  0&{ - 4} \n",
    "\\end{array}} \\right] \\\\ \n",
    "  \\mathbf{T}^{ - 1}\\mathbf{B} = \\left[ {\\begin{array}{*{20}{c}}\n",
    "  {1/2}&{1/2} \\\\ \n",
    "  {1/2}&{ - 1/2} \n",
    "\\end{array}} \\right]\\;{\\kern 1pt} \\left[ {\\begin{array}{*{20}{c}}\n",
    "  1 \\\\ \n",
    "  2 \n",
    "\\end{array}} \\right] = \\left[ {\\begin{array}{*{20}{c}}\n",
    "  {3/2} \\\\ \n",
    "  { - 1/2} \n",
    "\\end{array}} \\right] \\\\ \n",
    "  \\mathbf{CT} = \\left[ {\\begin{array}{*{20}{c}}\n",
    "  2&3 \n",
    "\\end{array}} \\right]\\;{\\kern 1pt} \\left[ {\\begin{array}{*{20}{c}}\n",
    "  1&1 \\\\ \n",
    "  1&{ - 1} \n",
    "\\end{array}} \\right] = \\left[ {\\begin{array}{*{20}{c}}\n",
    "  5&{ - 1} \n",
    "\\end{array}} \\right] \n",
    "\\end{array}$$\n",
    "\n",
    "Substituting this result into the equivalent state equations gives \n",
    "\n",
    "$$\\begin{array}{c}\n",
    " {\\bf{\\dot w}} = \\left[ {\\begin{array}{*{20}c}\n",
    "   { - 2} & 0  \\\\\n",
    "   0 & { - 4}  \\\\\n",
    "\\end{array}} \\right]{\\bf{w}} + \\left[ {\\begin{array}{*{20}c}\n",
    "   {3/2}   \\\\\n",
    "   { - 1/2}  \\\\\n",
    "\\end{array}} \\right]u \\\\\n",
    " y = \\left[ {\\begin{array}{*{20}c}\n",
    "   5 & { - 1}  \\\\\n",
    "\\end{array}} \\right]{\\bf{w}} \\\\\n",
    " \\end{array}$$\n",
    "\n",
    "Notice that the transformed system matrix is diagonal, with the\n",
    "eigenvalues on the diagonal."
   ]
  },
  {
   "cell_type": "markdown",
   "metadata": {
    "slideshow": {
     "slide_type": "subslide"
    }
   },
   "source": [
    "### Example 4 \n",
    "\n",
    "Solve the state equations\n",
    "$${\\bf{\\dot x}} = \\left[ {\\begin{array}{*{20}c}\n",
    "   { - 3} & { - 2}  \\\\\n",
    "   1 & 0  \\\\\n",
    "\\end{array}} \\right]{\\bf{x}} + \\left[ {\\begin{array}{*{20}c}\n",
    "   1  \\\\\n",
    "   0  \\\\\n",
    "\\end{array}} \\right]u$$ given $\\mathbf{x}_0 = [1, 0]^T$ at $t=0$ and\n",
    "$u=0$."
   ]
  },
  {
   "cell_type": "markdown",
   "metadata": {
    "slideshow": {
     "slide_type": "notes"
    }
   },
   "source": [
    "#### Solution\n",
    "\n",
    "*First find the eigenvalues*: The eigenvalues of the state\n",
    "matrix are the roots of: \n",
    "\n",
    "$$\\det(\\lambda\\mathbf{I}-\\mathbf{A})=0$$\n",
    "\n",
    "$$\\begin{array}{l}\n",
    " \\det \\left( {\\left[ {\\begin{array}{*{20}c}\n",
    "   \\lambda  & 0  \\\\\n",
    "   0 & \\lambda   \\\\\n",
    "\\end{array}} \\right] - \\left[ {\\begin{array}{*{20}c}\n",
    "   { - 3} & { - 2}  \\\\\n",
    "   1 & 0  \\\\\n",
    "\\end{array}} \\right]} \\right) = \\left| {\\begin{array}{*{20}c}\n",
    "   {\\lambda  + 3} & 2  \\\\\n",
    "   { - 1} & \\lambda   \\\\\n",
    "\\end{array}} \\right| = 0 \\\\\n",
    " (\\lambda  + 3)\\lambda  + 2 = \\lambda ^2  + 3\\lambda  + 2 = (\\lambda  + 1)(\\lambda  + 2) = 2 \\\\\n",
    " \\end{array}$$ \n",
    " \n",
    "Thus $\\lambda_1=-1$ and $\\lambda_2=-2$.\n",
    "\n",
    "*Next, find the transformation matrix*: The eigenvectors are the solutions of $\\mathbf{A}\\mathbf{x}_i=\\lambda_i\\mathbf{x}_i$ for $i=1,2$.\n",
    "\n",
    "For $i=1$ \n",
    "\n",
    "$$\\begin{eqnarray*}\n",
    " \\left[ {\\begin{array}{*{20}c}\n",
    "   { - 3} & { - 2}  \\\\\n",
    "   1 & 0  \\\\\n",
    "\\end{array}} \\right]\\underbrace {\\left[ {\\begin{array}{*{20}c}\n",
    "   {x_1 }  \\\\\n",
    "   {x_2 }  \\\\\n",
    "\\end{array}} \\right]}_{\\bf{x}_1 } & = & \\underbrace {( - 1)}_{\\lambda _1 }\\left[ {\\begin{array}{*{20}c}\n",
    "   {x_1 }  \\\\\n",
    "   {x_2 }  \\\\\n",
    "\\end{array}} \\right] \\\\\n",
    "  - 3x_1  - 2x_2  & = &  - x_1  \\\\\n",
    " x_1  + 0x_2  & = &  - x_2  \\\\\n",
    " \\end{eqnarray*}$$ \n",
    " \n",
    "These equations are linearly dependent, and if we let $x_1 =1$ then $x_2 = -1$ giving $\\mathbf{x}_1=[1,\\ -1]^T$.\n",
    "\n",
    "Similarly, for $i=2$ we obtain $\\mathbf{x}_2=[1, -0.5]^T$.\n",
    "\n",
    "Then \n",
    "\n",
    "$$\\begin{array}{l}\n",
    " {\\bf{T}} = \\left[ {\\begin{array}{*{20}c}\n",
    "   {\\bf{x}_1 } &  \\vdots  & {\\bf{x}_2 }  \\\\\n",
    "\\end{array}} \\right] = \\left[ {\\begin{array}{*{20}c}\n",
    "   1 & 1  \\\\\n",
    "   { - 1} & { - 0.5}  \\\\\n",
    "\\end{array}} \\right] \\\\\n",
    " {\\bf{T}}^{ - 1}  = \\left[ {\\begin{array}{*{20}c}\n",
    "   { - 1} & { - 2}  \\\\\n",
    "   2 & 2  \\\\\n",
    "\\end{array}} \\right] \\\\\n",
    " \\end{array}$$\n",
    "\n",
    "*Finally solve the state equations of the transformed system*\n",
    "\n",
    "Transform the initial states:\n",
    "\n",
    "$${\\bf{w}}_0  = {\\bf{T}}^{ - 1} {\\bf{x}}_0  = \\left[ {\\begin{array}{*{20}c}\n",
    "   { - 1} & { - 2}  \\\\\n",
    "   2 & 2  \\\\\n",
    "\\end{array}} \\right]\\left[ {\\begin{array}{*{20}c}\n",
    "   1  \\\\\n",
    "   0  \\\\\n",
    "\\end{array}} \\right] = \\left[ {\\begin{array}{*{20}c}\n",
    "   { - 1}  \\\\\n",
    "   2  \\\\\n",
    "\\end{array}} \\right]$$\n",
    "\n",
    "Solve for the transformed states: \n",
    "\n",
    "$$\\begin{eqnarray*}\n",
    "    w_1 & = & w_{1,0}e^{\\lambda_1t} \\\\\n",
    "    w_1 & = & (-1)e^{-t} \\\\\\end{eqnarray*}$$ \n",
    "    \n",
    "and \n",
    "\n",
    "$$\\begin{eqnarray*}\n",
    "    w_2 & = & w_{2,0}e^{\\lambda_2t} \\\\\n",
    "    w_2 & = & (2)e^{-2t} \\\\\\end{eqnarray*}$$\n",
    "\n",
    "Transform the answers back to the original states:\n",
    "\n",
    "$${\\bf{x}} = {\\bf{Tw}} = \\left[ {\\begin{array}{*{20}c}\n",
    "   1 & 1  \\\\\n",
    "   { - 1} & { - 0.5}  \\\\\n",
    "\\end{array}} \\right]\\left[ {\\begin{array}{*{20}c}\n",
    "   { - e^{ - t} }  \\\\\n",
    "   {2e^{ - 2t} }  \\\\\n",
    "\\end{array}} \\right]$$\n",
    "\n",
    "Therefore $$\\begin{eqnarray*}\n",
    "    x_1 & = & -e^{-t} + 2e^{-2t} \\\\\n",
    "    x_2 & = & e^{-t}-e^{-2t} \\\\\\end{eqnarray*}$$"
   ]
  },
  {
   "cell_type": "markdown",
   "metadata": {
    "slideshow": {
     "slide_type": "slide"
    }
   },
   "source": [
    "## System Transformations in MATLAB "
   ]
  },
  {
   "cell_type": "markdown",
   "metadata": {
    "slideshow": {
     "slide_type": "notes"
    }
   },
   "source": [
    "MATLAB provides a rich set of tools for finding eigenvalues and\n",
    "eigenvectors, transforming state equations using similarity transforms\n",
    "and solving state space equations. We conclude this lecture by reworking\n",
    "the first three examples in Matlab. You should repeat these examples\n",
    "during the self-directed learning session."
   ]
  },
  {
   "cell_type": "code",
   "execution_count": 18,
   "metadata": {
    "slideshow": {
     "slide_type": "fragment"
    }
   },
   "outputs": [],
   "source": [
    "format compact\n",
    "clear all"
   ]
  },
  {
   "cell_type": "markdown",
   "metadata": {
    "slideshow": {
     "slide_type": "subslide"
    }
   },
   "source": [
    "### Eigenvalues and eigenvectors\n",
    "\n",
    "Solution of Example 1"
   ]
  },
  {
   "cell_type": "code",
   "execution_count": 19,
   "metadata": {
    "slideshow": {
     "slide_type": "fragment"
    }
   },
   "outputs": [
    {
     "name": "stdout",
     "output_type": "stream",
     "text": [
      "A =\n",
      "    -3     1\n",
      "     1    -3\n",
      "T =\n",
      "    0.7071    0.7071\n",
      "   -0.7071    0.7071\n",
      "Lambda =\n",
      "    -4     0\n",
      "     0    -2\n"
     ]
    }
   ],
   "source": [
    "A = [-3 1; 1 -3]\n",
    "[T, Lambda] = eig(A)"
   ]
  },
  {
   "cell_type": "markdown",
   "metadata": {
    "slideshow": {
     "slide_type": "notes"
    }
   },
   "source": [
    "Note $\\mathbf{T}$ is the transform matrix whose columns are the\n",
    "eigenvectors, $\\mathbf{\\Lambda}$ is the diagonal matrix of eigenvalues."
   ]
  },
  {
   "cell_type": "markdown",
   "metadata": {
    "slideshow": {
     "slide_type": "subslide"
    }
   },
   "source": [
    "### Similarity transforms \n",
    "\n",
    "Solution of Example 2"
   ]
  },
  {
   "cell_type": "code",
   "execution_count": 20,
   "metadata": {
    "slideshow": {
     "slide_type": "fragment"
    }
   },
   "outputs": [
    {
     "name": "stdout",
     "output_type": "stream",
     "text": [
      "T =\n",
      "    0.5000         0         0\n",
      "   -0.7500    0.5000   -0.0000\n",
      "    0.5000   -0.4000    0.2000\n"
     ]
    }
   ],
   "source": [
    "Tinv = [2 0 0; 3 2 0; 1 4 5];\n",
    "T = inv(Tinv)\n",
    "           "
   ]
  },
  {
   "cell_type": "code",
   "execution_count": 21,
   "metadata": {
    "slideshow": {
     "slide_type": "subslide"
    }
   },
   "outputs": [],
   "source": [
    "Ax = [0 1 0; 0 0 1; -2 -5 -7];\n",
    "Bx = [0; 0; 1];\n",
    "Cx = [ 1 0 0];"
   ]
  },
  {
   "cell_type": "markdown",
   "metadata": {
    "slideshow": {
     "slide_type": "subslide"
    }
   },
   "source": [
    "Transform"
   ]
  },
  {
   "cell_type": "code",
   "execution_count": 22,
   "metadata": {
    "slideshow": {
     "slide_type": "fragment"
    }
   },
   "outputs": [
    {
     "name": "stdout",
     "output_type": "stream",
     "text": [
      "Aw =\n",
      "   -1.5000    1.0000   -0.0000\n",
      "   -1.2500    0.7000    0.4000\n",
      "   -2.5000    0.4000   -6.2000\n"
     ]
    }
   ],
   "source": [
    "Aw = Tinv*Ax*T"
   ]
  },
  {
   "cell_type": "code",
   "execution_count": 23,
   "metadata": {
    "slideshow": {
     "slide_type": "fragment"
    }
   },
   "outputs": [
    {
     "name": "stdout",
     "output_type": "stream",
     "text": [
      "Bw =\n",
      "     0\n",
      "     0\n",
      "     5\n"
     ]
    }
   ],
   "source": [
    "Bw = Tinv*Bx"
   ]
  },
  {
   "cell_type": "code",
   "execution_count": 24,
   "metadata": {
    "slideshow": {
     "slide_type": "fragment"
    }
   },
   "outputs": [
    {
     "name": "stdout",
     "output_type": "stream",
     "text": [
      "Cw =\n",
      "    0.5000         0         0\n"
     ]
    }
   ],
   "source": [
    "Cw = Cx*T"
   ]
  },
  {
   "cell_type": "markdown",
   "metadata": {
    "slideshow": {
     "slide_type": "slide"
    }
   },
   "source": [
    "### Using Control System Toolbox"
   ]
  },
  {
   "cell_type": "code",
   "execution_count": 25,
   "metadata": {
    "slideshow": {
     "slide_type": "fragment"
    }
   },
   "outputs": [],
   "source": [
    "Tinv = [2 0 0; 3 2 0; 1 4 5];"
   ]
  },
  {
   "cell_type": "markdown",
   "metadata": {
    "slideshow": {
     "slide_type": "fragment"
    }
   },
   "source": [
    "`Ax`, `Bx`, `Cx` as previously defined. `Dx` = 0.\n",
    " "
   ]
  },
  {
   "cell_type": "code",
   "execution_count": 26,
   "metadata": {
    "slideshow": {
     "slide_type": "fragment"
    }
   },
   "outputs": [
    {
     "name": "stdout",
     "output_type": "stream",
     "text": [
      "\n",
      "sysx =\n",
      " \n",
      "  A = \n",
      "       x1  x2  x3\n",
      "   x1   0   1   0\n",
      "   x2   0   0   1\n",
      "   x3  -2  -5  -7\n",
      " \n",
      "  B = \n",
      "       u1\n",
      "   x1   0\n",
      "   x2   0\n",
      "   x3   1\n",
      " \n",
      "  C = \n",
      "       x1  x2  x3\n",
      "   y1   1   0   0\n",
      " \n",
      "  D = \n",
      "       u1\n",
      "   y1   0\n",
      " \n",
      "Continuous-time state-space model.\n",
      "\n"
     ]
    }
   ],
   "source": [
    "sysx = ss(Ax, Bx, Cx, 0)\n",
    "           "
   ]
  },
  {
   "cell_type": "markdown",
   "metadata": {
    "slideshow": {
     "slide_type": "subslide"
    }
   },
   "source": [
    "Perform transformation"
   ]
  },
  {
   "cell_type": "code",
   "execution_count": 27,
   "metadata": {
    "slideshow": {
     "slide_type": "fragment"
    }
   },
   "outputs": [
    {
     "name": "stdout",
     "output_type": "stream",
     "text": [
      "\n",
      "sysw =\n",
      " \n",
      "  A = \n",
      "              x1         x2         x3\n",
      "   x1       -1.5          1  -1.11e-16\n",
      "   x2      -1.25        0.7        0.4\n",
      "   x3       -2.5        0.4       -6.2\n",
      " \n",
      "  B = \n",
      "       u1\n",
      "   x1   0\n",
      "   x2   0\n",
      "   x3   5\n",
      " \n",
      "  C = \n",
      "        x1   x2   x3\n",
      "   y1  0.5    0    0\n",
      " \n",
      "  D = \n",
      "       u1\n",
      "   y1   0\n",
      " \n",
      "Continuous-time state-space model.\n",
      "\n"
     ]
    }
   ],
   "source": [
    "sysw = ss2ss(sysx, Tinv)"
   ]
  },
  {
   "cell_type": "markdown",
   "metadata": {
    "slideshow": {
     "slide_type": "subslide"
    }
   },
   "source": [
    "### Diagonalization\n",
    "\n",
    "Example 3"
   ]
  },
  {
   "cell_type": "code",
   "execution_count": 28,
   "metadata": {
    "slideshow": {
     "slide_type": "fragment"
    }
   },
   "outputs": [
    {
     "name": "stdout",
     "output_type": "stream",
     "text": [
      "T =\n",
      "    0.7071    0.7071\n",
      "   -0.7071    0.7071\n",
      "Lambda =\n",
      "    -4     0\n",
      "     0    -2\n"
     ]
    }
   ],
   "source": [
    "A = [-3 1; 1 -3]; B = [1; 2]; C = [2 3];\n",
    "[T,Lambda] = eig(A)"
   ]
  },
  {
   "cell_type": "code",
   "execution_count": 29,
   "metadata": {
    "slideshow": {
     "slide_type": "subslide"
    }
   },
   "outputs": [
    {
     "name": "stdout",
     "output_type": "stream",
     "text": [
      "Adt =\n",
      "   -4.0000         0\n",
      "         0   -2.0000\n"
     ]
    }
   ],
   "source": [
    "Adt = inv(T)*A*T"
   ]
  },
  {
   "cell_type": "code",
   "execution_count": 30,
   "metadata": {
    "slideshow": {
     "slide_type": "fragment"
    }
   },
   "outputs": [
    {
     "name": "stdout",
     "output_type": "stream",
     "text": [
      "Bdt =\n",
      "   -0.7071\n",
      "    2.1213\n"
     ]
    }
   ],
   "source": [
    "Bdt = inv(T)*B"
   ]
  },
  {
   "cell_type": "code",
   "execution_count": 31,
   "metadata": {
    "slideshow": {
     "slide_type": "fragment"
    }
   },
   "outputs": [
    {
     "name": "stdout",
     "output_type": "stream",
     "text": [
      "Cdt =\n",
      "   -0.7071    3.5355\n"
     ]
    }
   ],
   "source": [
    "Cdt = C*T"
   ]
  },
  {
   "cell_type": "markdown",
   "metadata": {
    "slideshow": {
     "slide_type": "subslide"
    }
   },
   "source": [
    "### Diagonalization using CST canon function"
   ]
  },
  {
   "cell_type": "markdown",
   "metadata": {
    "slideshow": {
     "slide_type": "fragment"
    }
   },
   "source": [
    "Example 3"
   ]
  },
  {
   "cell_type": "code",
   "execution_count": 32,
   "metadata": {
    "slideshow": {
     "slide_type": "fragment"
    }
   },
   "outputs": [],
   "source": [
    "A = [-3 1; 1 -3]; B = [1; 2]; C = [2 3];"
   ]
  },
  {
   "cell_type": "code",
   "execution_count": 33,
   "metadata": {
    "slideshow": {
     "slide_type": "subslide"
    }
   },
   "outputs": [
    {
     "name": "stdout",
     "output_type": "stream",
     "text": [
      "\n",
      "S =\n",
      " \n",
      "  A = \n",
      "       x1  x2\n",
      "   x1  -3   1\n",
      "   x2   1  -3\n",
      " \n",
      "  B = \n",
      "       u1\n",
      "   x1   1\n",
      "   x2   2\n",
      " \n",
      "  C = \n",
      "       x1  x2\n",
      "   y1   2   3\n",
      " \n",
      "  D = \n",
      "       u1\n",
      "   y1   0\n",
      " \n",
      "Continuous-time state-space model.\n",
      "\n"
     ]
    }
   ],
   "source": [
    "S = ss(A, B, C, 0)"
   ]
  },
  {
   "cell_type": "code",
   "execution_count": 34,
   "metadata": {
    "slideshow": {
     "slide_type": "subslide"
    }
   },
   "outputs": [
    {
     "name": "stdout",
     "output_type": "stream",
     "text": [
      "\n",
      "Sp =\n",
      " \n",
      "  A = \n",
      "       x1  x2\n",
      "   x1  -2   0\n",
      "   x2   0  -4\n",
      " \n",
      "  B = \n",
      "           u1\n",
      "   x1   2.121\n",
      "   x2  0.7071\n",
      " \n",
      "  C = \n",
      "           x1      x2\n",
      "   y1   3.536  0.7071\n",
      " \n",
      "  D = \n",
      "       u1\n",
      "   y1   0\n",
      " \n",
      "Continuous-time state-space model.\n",
      "\n"
     ]
    }
   ],
   "source": [
    "Sp = canon(S, 'modal')"
   ]
  },
  {
   "cell_type": "markdown",
   "metadata": {
    "slideshow": {
     "slide_type": "notes"
    }
   },
   "source": [
    "## Footnotes\n",
    "\n",
    "1. The world *eigen* is from the German for \"characteristic\" so\n",
    "    another name for eigenvalue might be *characteristic value*. There\n",
    "    is a very close relationship between the eigenvalues and the\n",
    "    characteristic equation we have discussed in earlier lectures.\n",
    "    Indeed as we shall see, the equation\n",
    "    $\\det(\\lambda\\mathbf{I}-\\mathbf{A})=0$ that is used to find the\n",
    "    eignenvalues of a system is almost identical to\n",
    "    $\\det(s\\mathbf{I}-A)=0$ that determines the poles of the system\n",
    "    defined in transfer function form. From this is should be clear that\n",
    "    the eigenvalues of the $\\mathbf{A}$ matrix are the same as the poles\n",
    "    of the corresponding transfer function.\n",
    "\n",
    "2. Note we need to perform some additional manipulations if there are\n",
    "    repeated or complex eigenvalues. We leave the discovery of these\n",
    "    extra steps as an exercise for the interested student. It will not\n",
    "    be examined!"
   ]
  }
 ],
 "metadata": {
  "celltoolbar": "Slideshow",
  "kernelspec": {
   "display_name": "Matlab",
   "language": "matlab",
   "name": "matlab"
  },
  "language_info": {
   "codemirror_mode": "octave",
   "file_extension": ".m",
   "help_links": [
    {
     "text": "MetaKernel Magics",
     "url": "https://metakernel.readthedocs.io/en/latest/source/README.html"
    }
   ],
   "mimetype": "text/x-octave",
   "name": "matlab",
   "version": "0.16.7"
  }
 },
 "nbformat": 4,
 "nbformat_minor": 2
}
