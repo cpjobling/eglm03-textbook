{
 "cells": [
  {
   "cell_type": "markdown",
   "metadata": {
    "slideshow": {
     "slide_type": "slide"
    }
   },
   "source": [
    "# DRAFT Work in Progress\n",
    "\n",
    "# Transformation of States and System Diagonalization"
   ]
  },
  {
   "cell_type": "markdown",
   "metadata": {
    "slideshow": {
     "slide_type": "notes"
    }
   },
   "source": [
    "The canonical forms described in the last lecture give different\n",
    "descriptions of the same transfer function (TF) and are therefore\n",
    "equivalent in their overall input-output relationship. This means that\n",
    "it should be possible to convert one canonical form into another by the\n",
    "operation of simple matrix operations. Furthermore, by transforming a\n",
    "system to the *normal form*, determining the response and mapping back,\n",
    "it is possible to determine the total system response of any state space\n",
    "system.\n",
    "\n",
    "The *eigenvalues* of the state matrix $\\mathbf{A}$ have an important\n",
    "influence on the system response and understanding them is key to\n",
    "understanding the general solution of state-space systems.\n",
    "\n",
    "In this lecture we define eigenvalues and eigenvectors, show the system\n",
    "transformation method and prove that it has no impact on the system\n",
    "eigenvalues, show how it can be used to transform an arbitrary\n",
    "state-space model into one with a diagonal (normal) structure, and\n",
    "finally we use these results to find a general time-response solution to\n",
    "the state space equations.\n",
    "\n",
    "-   For a given transfer function the canonical forms are equivalent in\n",
    "    their input-output relationships.\n",
    "\n",
    "-   We can convert one form of canonical system into another by the\n",
    "    application of simple matrix operations.\n",
    "\n",
    "-   Transforming to normal form simplifies the calculation of system\n",
    "    response.\n",
    "\n",
    "-   The *eigenvalues* of the $\\mathbf{A}$ matrix are key to the process.\n",
    "\n",
    "-   Knowledge of a system's eigenvalues means that we can determine the\n",
    "    system response of any LTI system."
   ]
  },
  {
   "cell_type": "markdown",
   "metadata": {
    "slideshow": {
     "slide_type": "notes"
    }
   },
   "source": [
    "## Eigenvalues and Eigenvectors "
   ]
  },
  {
   "cell_type": "markdown",
   "metadata": {
    "slideshow": {
     "slide_type": "notes"
    }
   },
   "source": [
    "### Definitions \n",
    "\n",
    "*Eigenvector*:[^1] The eignevectors of the matrix $\\mathbf{A}$ are all\n",
    "vectors $\\mathbf{x}_i\\ne\\mathbf{0}$, which under the transformation\n",
    "$\\mathbf{A}$ become multiples of themselves; that is,\n",
    "$$\\label{eq:eigenvector}\n",
    "\\mathbf{A}\\mathbf{x}_i=\\lambda_i\\mathbf{x}_i$$ where each $\\lambda_i$ is\n",
    "a constant called an *eigenvalue*.\n",
    "\n",
    "The eignevectors of the matrix $\\mathbf{A}$ are all vectors\n",
    "$\\mathbf{x}_i\\ne\\mathbf{0}$, which under the transformation $\\mathbf{A}$\n",
    "become multiples of themselves; that is, $$\\label{eq:eigenvector}\n",
    "\\mathbf{A}\\mathbf{x}_i=\\lambda_i\\mathbf{x}_i$$ where each $\\lambda_i$ is\n",
    "a constant called an *eigenvalue*.\n",
    "\n",
    "illustrates this definition of eigenvectors. If $\\mathbf{Ax}$ is not\n",
    "collinear with $\\mathbf{x}$ after the transformation, $\\mathbf{x}$ is\n",
    "not an eigenvector. If $\\mathbf{Ax}$ is collinear with $\\mathbf{x}$\n",
    "after the transformation, $\\mathbf{x}$ is an eigenvector.\n",
    "\n",
    "[\\[slide:eigenvector\\]]{#slide:eigenvector label=\"slide:eigenvector\"}\n",
    "\n",
    "To be an eigenvector, the transformation $\\mathbf{Ax}$ must be collinear\n",
    "with $\\mathbf{x}$. Thus, in (a), $\\mathbf{x}$ is not an eigenvector: in\n",
    "(b), it is.\n",
    "\n",
    "*Eigenvalues*: The eigenvalues of the matrix $\\mathbf{A}$ are the values\n",
    "of $\\lambda_i$ that satisfy\n",
    "([\\[eq:eigenvector\\]](#eq:eigenvector){reference-type=\"ref\"\n",
    "reference=\"eq:eigenvector\"}) for $\\mathbf{x}_i\\ne \\mathbf{0}$.\n",
    "\n",
    "To find the eigenvectors, we arrange equation\n",
    "([\\[eq:eigenvector\\]](#eq:eigenvector){reference-type=\"ref\"\n",
    "reference=\"eq:eigenvector\"}). Eigenvectors, $\\mathbf{x}_i$, satisfy\n",
    "$$\\label{eq:581}\n",
    "    \\mathbf{0}=(\\lambda_i\\mathbf{I}-\\mathbf{A})\\mathbf{x}_i$$ Solving\n",
    "for $\\mathbf{x}_i$ by premultiplying both sides by\n",
    "$(\\lambda_i\\mathbf{I}-\\mathbf{A})^{-1}$ yields\n",
    "$$\\mathbf{x}_i = (\\lambda_i\\mathbf{I}-\\mathbf{A})^{-1}\\mathbf{0} =\n",
    "           \\frac{\\textrm{adj}(\\lambda_i\\mathbf{I}-\\mathbf{A})^{-1}}{\\det(\\lambda_i\\mathbf{I}-\\mathbf{A})^{-1}}\\mathbf{0}$$\n",
    "Since $\\mathbf{x}_i\\ne \\mathbf{0}$, a nonzero solution exists if\n",
    "$$\\label{eq:eigenvalue}\n",
    "    \\det(\\lambda_i\\mathbf{I}-\\mathbf{A}) = \\mathbf{0} \\label{eq:eigenvalue}$$\n",
    "From which $\\lambda_i$, the eigenvalues, can be found.\n",
    "\n",
    "The eigenvalues of the matrix $\\mathbf{A}$ are the values of $\\lambda_i$\n",
    "that satisfy ([\\[eq:eigenvector\\]](#eq:eigenvector){reference-type=\"ref\"\n",
    "reference=\"eq:eigenvector\"}) for $\\mathbf{x}_i\\ne \\mathbf{0}$.\n",
    "\n",
    "The eigenvectors, $\\mathbf{x}_i$, satisfy\n",
    "$$\\mathbf{0}=(\\lambda_i\\mathbf{I}-\\mathbf{A})\\mathbf{x}_i \\label{eq:581}$$\n",
    "Solving for $\\mathbf{x}_i$ (see notes), a nonzero solution exists if\n",
    "$$\\label{eq:eigenvalue}\n",
    "    \\det(\\lambda_i\\mathbf{I}-\\mathbf{A}) = \\mathbf{0} \\label{eq:eigenvalue}$$\n",
    "From which $\\lambda_i$, the eigenvalues, can be found.\n",
    "\n",
    "We are now ready to show how to find the eigenvectors $\\mathbf{x}_i$.\n",
    "First we find the eigenvalues, $\\lambda_i$, using\n",
    "$\\det(\\lambda_i\\mathbf{I}-\\mathbf{A} = \\mathbf{0})$, and then we use\n",
    "equation ([\\[eq:eigenvector\\]](#eq:eigenvector){reference-type=\"ref\"\n",
    "reference=\"eq:eigenvector\"}) to find the eigenvectors.\n",
    "\n",
    "To find the eigenvectors $\\mathbf{x}_i$ of a system matrix $\\mathbf{A}$\n",
    "\n",
    "1.  First find the eigenvalues, $\\lambda_i$, using\n",
    "    $\\det(\\lambda_i\\mathbf{I}-\\mathbf{A}) = \\mathbf{0}$\n",
    "\n",
    "2.  Use $\\mathbf{A}\\mathbf{x}_i=\\lambda_i\\mathbf{x}_i$ to find the\n",
    "    eigenvectors.\n",
    "\n",
    "We will work through an example in class."
   ]
  },
  {
   "cell_type": "markdown",
   "metadata": {
    "slideshow": {
     "slide_type": "notes"
    }
   },
   "source": [
    "### Example 1: finding eigenvectors "
   ]
  },
  {
   "cell_type": "markdown",
   "metadata": {
    "slideshow": {
     "slide_type": "notes"
    }
   },
   "source": [
    "#### Problem\n",
    "\n",
    "Find the eigenvectors of the matrix\n",
    "$${\\bf{A}} = \\left[ {\\begin{array}{*{20}c}\n",
    "       { - 3} & 1  \\\\\n",
    "       1 & { - 3}  \\\\\n",
    "    \\end{array}} \\right]$$"
   ]
  },
  {
   "cell_type": "markdown",
   "metadata": {
    "slideshow": {
     "slide_type": "notes"
    }
   },
   "source": [
    "#### Solution\n",
    "\n",
    "The eigenvectors, $\\mathbf{x}_i$, satisfy Eq.\n",
    "([\\[eq:581\\]](#eq:581){reference-type=\"ref\" reference=\"eq:581\"}). First,\n",
    "use $\\det(\\lambda_i\\mathbf{I}-\\mathbf{A})=0$ to find the eigenvalues,\n",
    "$\\lambda_i$, for Eq. ([\\[eq:581\\]](#eq:581){reference-type=\"ref\"\n",
    "reference=\"eq:581\"}): $$\\begin{array}{c}\n",
    " \\det (\\lambda {\\bf{I}} - {\\bf{A}}) = \\left| {\\left[ {\\begin{array}{*{20}c}\n",
    "   \\lambda  & 0  \\\\\n",
    "   0 & \\lambda   \\\\\n",
    "\\end{array}} \\right] - \\left[ {\\begin{array}{*{20}c}\n",
    "   { - 3} & 1  \\\\\n",
    "   1 & { - 3}  \\\\\n",
    "\\end{array}} \\right]} \\right| \\\\\n",
    "  = \\left| {\\begin{array}{*{20}c}\n",
    "   {\\lambda  + 3} & { - 1}  \\\\\n",
    "   { - 1} & {\\lambda  + 3}  \\\\\n",
    "\\end{array}} \\right| \\\\\n",
    "  = \\lambda ^2  + 6\\lambda  + 8 \\\\\n",
    " \\end{array}$$\n",
    "\n",
    "from which the eigenvalues are $\\lambda_1 = -2$ and $\\lambda_2 = -4$.\n",
    "\n",
    "Using Eq. ([\\[eq:eigenvector\\]](#eq:eigenvector){reference-type=\"ref\"\n",
    "reference=\"eq:eigenvector\"}) successively with each eigenvalue, we have\n",
    "$$\\begin{array}{l}\n",
    " {\\bf{Ax}}_i  = \\lambda {\\bf{x}}_i  \\\\\n",
    " \\left[ {\\begin{array}{*{20}c}\n",
    "   { - 3} & 1  \\\\\n",
    "   1 & { - 3}  \\\\\n",
    "\\end{array}} \\right]\\left[ {\\begin{array}{*{20}c}\n",
    "   {x_1 }  \\\\\n",
    "   {x_2 }  \\\\\n",
    "\\end{array}} \\right] =  - 2\\left[ {\\begin{array}{*{20}c}\n",
    "   {x_1 }  \\\\\n",
    "   {x_2 }  \\\\\n",
    "\\end{array}} \\right] \\\\\n",
    " \\end{array}$$ or $$\\begin{aligned}\n",
    "-3x_1+x_2 & = & -2x_1 \\\\\n",
    "x_1-3x_2 & = & -2x_2\\end{aligned}$$ from which $x_1 = x_2$. Thus,\n",
    "$$\\label{ex1:ev1}\n",
    "{\\bf{x}} = \\left[ {\\begin{array}{*{20}c}\n",
    "   c  \\\\\n",
    "   c  \\\\\n",
    "\\end{array}} \\right]$$ Using the other eigenvalue, $-4$, we have\n",
    "$$\\label{ex1:ev2}\n",
    "{\\bf{x}} = \\left[ {\\begin{array}{*{20}c}\n",
    "   c  \\\\\n",
    "   -c  \\\\\n",
    "\\end{array}} \\right]$$ Using Eqs.\n",
    "([\\[ex1:ev1\\]](#ex1:ev1){reference-type=\"ref\" reference=\"ex1:ev1\"}) and\n",
    "([\\[ex1:ev2\\]](#ex1:ev2){reference-type=\"ref\" reference=\"ex1:ev2\"}), one\n",
    "choice of eigenvectors is $$\\label{ex1:solution}\n",
    "{\\bf{x}}_1  = \\left[ {\\begin{array}{*{20}c}\n",
    "   1  \\\\\n",
    "   1  \\\\\n",
    "\\end{array}} \\right]\\quad {\\rm{and}}\\quad {\\bf{x}}_2  = \\left[ {\\begin{array}{*{20}c}\n",
    "   1  \\\\\n",
    "   { - 1}  \\\\\n",
    "\\end{array}} \\right]$$"
   ]
  },
  {
   "cell_type": "markdown",
   "metadata": {
    "slideshow": {
     "slide_type": "notes"
    }
   },
   "source": [
    "## Transformation of State Space Models\n",
    "\n",
    "Suppose we have a state space model with states $\\mathbf{x}$ and\n",
    "matrices $\\mathbf{A}$, $\\mathbf{B}$, $\\mathbf{C}$ and $\\mathbf{D}$ and\n",
    "we wish to transform to a model with states $\\mathbf{w}$ where\n",
    "$\\mathbf{x}=\\mathbf{Tw}$. $\\mathbf{T}$ is the *transformation matrix*\n",
    "for the states.\n",
    "\n",
    "$$\\begin{aligned}\n",
    "\t\\frac{d\\mathbf{x}}{dt} & = & \\mathbf{A}\\mathbf{x}+\\mathbf{B}\\mathbf{u} \\\\\n",
    "\t\\frac{d\\mathbf{Tw}}{dt} & = & \\mathbf{ATw}+\\mathbf{B}\\mathbf{u} \\\\\n",
    "\t\\mathbf{T}\\frac{d\\mathbf{w}}{dt} & = & \\mathbf{ATw}+\\mathbf{B}\\mathbf{u} \\\\\n",
    "\t\\frac{d\\mathbf{w}}{dt} & = & \\mathbf{T}^{-1}\\mathbf{ATw}+\\mathbf{T}^{-1}\\mathbf{B}\\mathbf{u} \\\\\t\\end{aligned}$$\n",
    "\n",
    "Suppose we have a state space model with states $\\mathbf{x}$ and\n",
    "matrices $\\mathbf{A}$, $\\mathbf{B}$, $\\mathbf{C}$ and $\\mathbf{D}$ and\n",
    "we wish to transform to a model with states $\\mathbf{w}$ where\n",
    "$\\mathbf{x}=\\mathbf{Tw}$. $\\mathbf{T}$ is the *transformation matrix*\n",
    "for the states.\n",
    "\n",
    "$$\\begin{aligned}\n",
    "\t\\frac{d\\mathbf{x}}{dt} & = & \\mathbf{A}\\mathbf{x}+\\mathbf{B}\\mathbf{u} \\\\\n",
    "\t\\frac{d\\mathbf{Tw}}{dt} & = & \\mathbf{ATw}+\\mathbf{B}\\mathbf{u} \\\\\n",
    "\t\\mathbf{T}\\frac{d\\mathbf{w}}{dt} & = & \\mathbf{ATw}+\\mathbf{B}\\mathbf{u} \\\\\n",
    "\t\\frac{d\\mathbf{w}}{dt} & = & \\mathbf{T}^{-1}\\mathbf{ATw}+\\mathbf{T}^{-1}\\mathbf{B}\\mathbf{u} \\\\\t\\end{aligned}$$\n",
    "\n",
    "Similarly for the output equation: $$\\begin{aligned}\n",
    "\t\\mathbf{y} & = & \\mathbf{Cx} + \\mathbf{Du} \\\\\n",
    "\t\\mathbf{y} & = & \\mathbf{CTw} + \\mathbf{Du} \\\\\t\\end{aligned}$$\n",
    "\n",
    "Similarly for the output equation: $$\\begin{aligned}\n",
    "\t\\mathbf{y} & = & \\mathbf{Cx} + \\mathbf{Du} \\\\\n",
    "\t\\mathbf{y} & = & \\mathbf{CTw} + \\mathbf{Du} \\\\\t\\end{aligned}$$\n",
    "\n",
    "Therefore the new state space model is:\n",
    "\n",
    "$$\\begin{aligned}\n",
    "\t\\frac{d\\mathbf{w}}{dt} & = & \\mathbf{A}'\\mathbf{w} + \\mathbf{B}'\\mathbf{u} \\\\\n",
    "\t\\mathbf{y} & = & \\mathbf{C}'\\mathbf{w}+\\mathbf{D}'\\mathbf{u}\\end{aligned}$$\n",
    "\n",
    "where $\\mathbf{A}'=\\mathbf{T}^{-1}\\mathbf{A}\\mathbf{T}$,\n",
    "$\\mathbf{B}'=\\mathbf{T}^{-1}\\mathbf{B}$, $\\mathbf{C}'=\\mathbf{CT}$, and\n",
    "$\\mathbf{D}'=\\mathbf{D}$.\n",
    "\n",
    "Therefore the new state space model is:\n",
    "\n",
    "$$\\begin{aligned}\n",
    "\t\\frac{d\\mathbf{w}}{dt} & = & \\mathbf{A}'\\mathbf{w} + \\mathbf{B}'\\mathbf{u} \\\\\n",
    "\t\\mathbf{y} & = & \\mathbf{C}'\\mathbf{w}+\\mathbf{D}'\\mathbf{u}\\end{aligned}$$\n",
    "\n",
    "where $\\mathbf{A}'=\\mathbf{T}^{-1}\\mathbf{A}\\mathbf{T}$,\n",
    "$\\mathbf{B}'=\\mathbf{T}^{-1}\\mathbf{B}$, $\\mathbf{C}'=\\mathbf{CT}$, and\n",
    "$\\mathbf{D}'=\\mathbf{D}$.\n",
    "\n",
    "-   Notice that the state matrix $\\mathbf{A}'$for the new model is a\n",
    "    *similarity transformation* on the $\\mathbf{A}$ matrix of the\n",
    "    original system and therefore they share the same set of\n",
    "    eigenvalues.\n",
    "\n",
    "-   This should not be surprising since the poles of the system being\n",
    "    modelled correspond to the eigenvalues of the state matrix, whatever\n",
    "    the choice of states."
   ]
  },
  {
   "cell_type": "markdown",
   "metadata": {
    "slideshow": {
     "slide_type": "notes"
    }
   },
   "source": [
    "### Proof \n",
    "\n",
    "$$\\begin{aligned}\n",
    "\t\\mathbf{Ax} & = & \\lambda\\mathbf{x} \\\\\n",
    "\t\\mathbf{T}^{-1}\\mathbf{Ax} & = & \\lambda\\mathbf{T}^{-1}\\mathbf{x} \\\\\t\\end{aligned}$$\n",
    "Let $\\mathbf{x}=\\mathbf{Tw}$ then $$\\begin{aligned}\n",
    "\t\\mathbf{T}^{-1}\\mathbf{ATw} & = & \\lambda\\mathbf{T}^{-1}\\mathbf{Tw} \\\\\t\n",
    "\t(\\mathbf{T}^{-1}\\mathbf{AT})\\mathbf{w} & = & \\lambda\\mathbf{w} \\\\\t\\end{aligned}$$\n",
    "\n",
    "The transformation $\\mathbf{T}^{-1}\\mathbf{AT}$ is a *similarity\n",
    "transform*. That is the eigenvalues are the same as for $\\mathbf{A}$.\n",
    "\n",
    "*Proof* $$\\begin{aligned}\n",
    "\t\\mathbf{Ax} & = & \\lambda\\mathbf{x} \\\\\n",
    "\t\\mathbf{T}^{-1}\\mathbf{Ax} & = & \\lambda\\mathbf{T}^{-1}\\mathbf{x} \\\\\t\\end{aligned}$$\n",
    "Let $\\mathbf{x}=\\mathbf{Tw}$ then $$\\begin{aligned}\n",
    "\t\\mathbf{T}^{-1}\\mathbf{ATw} & = & \\lambda\\mathbf{T}^{-1}\\mathbf{Tw} \\\\\t\n",
    "\t(\\mathbf{T}^{-1}\\mathbf{AT})\\mathbf{w} & = & \\lambda\\mathbf{w} \\\\\t\\end{aligned}$$\n",
    "\n",
    "Therefore if $\\lambda$ is an eigenvalue of $\\mathbf{A}$ the it is also\n",
    "one of $\\mathbf{A}'=\\mathbf{T}^{-1}\\mathbf{AT}$.\n",
    "\n",
    "*QED*."
   ]
  },
  {
   "cell_type": "markdown",
   "metadata": {
    "slideshow": {
     "slide_type": "notes"
    }
   },
   "source": [
    "### Example 2: Similarity transformations on state equations"
   ]
  },
  {
   "cell_type": "markdown",
   "metadata": {
    "slideshow": {
     "slide_type": "notes"
    }
   },
   "source": [
    "#### Problem\n",
    "\n",
    "Given the system represented in state space by the\n",
    "following equations $$\\begin{array}{l}\n",
    " {\\bf{\\dot x}} = \\left[ {\\begin{array}{*{20}c}\n",
    "   0 & 1 & 0  \\\\\n",
    "   0 & 0 & 1  \\\\\n",
    "   { - 2} & { - 5} & { - 7}  \\\\\n",
    "\\end{array}} \\right]{\\bf{x}} + \\left[ {\\begin{array}{*{20}c}\n",
    "   0  \\\\\n",
    "   0  \\\\\n",
    "   1  \\\\\n",
    "\\end{array}} \\right]u \\\\\n",
    " y = \\left[ {\\begin{array}{*{20}c}\n",
    "   1 & 0 & 0  \\\\\n",
    "\\end{array}} \\right]{\\bf{x}} \\\\\n",
    " \\end{array}$$ transform the system to a new set of state variables,\n",
    "$\\mathbf{w}$, where the new state variables are related to the original\n",
    "state variables, $\\mathbf{x}$, as follows: $$\\begin{aligned}\n",
    "\tw_1 & = & 2x_1 \\\\\n",
    "\tw_2 & = & 3x_1 + 2x_2 \\\\\n",
    "\tw_3 & = & x_1 + 4x_2 + 5x_3\\end{aligned}$$"
   ]
  },
  {
   "cell_type": "markdown",
   "metadata": {
    "slideshow": {
     "slide_type": "notes"
    }
   },
   "source": [
    "#### Solution\n",
    "\n",
    "Expressing the transformed states in vector-matrix form,\n",
    "$${\\bf{w}} = \\left[ {\\begin{array}{*{20}c}\n",
    "   2 & 0 & 0  \\\\\n",
    "   3 & 2 & 0  \\\\\n",
    "   1 & 4 & 5  \\\\\n",
    "\\end{array}} \\right]{\\bf{x}} = {\\bf{T}}^{ - 1} {\\bf{x}}$$\n",
    "\n",
    "Thus $$\\begin{array}{c}\n",
    " {\\bf{T}}^{ - 1} {\\bf{AT}} = \\left[ {\\begin{array}{*{20}c}\n",
    "   2 & 0 & 0  \\\\\n",
    "   3 & 2 & 0  \\\\\n",
    "   1 & 4 & 5  \\\\\n",
    "\\end{array}} \\right]\\;\\left[ {\\begin{array}{*{20}c}\n",
    "   0 & 1 & 0  \\\\\n",
    "   0 & 0 & 1  \\\\\n",
    "   { - 2} & { - 5} & { - 7}  \\\\\n",
    "\\end{array}} \\right]\\;\\left[ {\\begin{array}{*{20}c}\n",
    "   {0.5} & 0 & 0  \\\\\n",
    "   { - 0.75} & {0.5} & 0  \\\\\n",
    "   {0.5} & { - 0.4} & {0.2}  \\\\\n",
    "\\end{array}} \\right] \\\\\n",
    "  = \\left[ {\\begin{array}{*{20}c}\n",
    "   { - 1.5} & 1 & 0  \\\\\n",
    "   { - 1.25} & {0.7} & {0.4}  \\\\\n",
    "   { - 2.5} & {0.4} & { - 6.2}  \\\\\n",
    "\\end{array}} \\right] \\\\\n",
    " \\end{array}$$\n",
    "\n",
    "$${\\bf{T}}^{ - 1} {\\bf{B}} = \\left[ {\\begin{array}{*{20}c}\n",
    "   2 & 0 & 0  \\\\\n",
    "   3 & 2 & 0  \\\\\n",
    "   1 & 4 & 5  \\\\\n",
    "\\end{array}} \\right]\\;\\left[ {\\begin{array}{*{20}c}\n",
    "   0  \\\\\n",
    "   0  \\\\\n",
    "   1  \\\\\n",
    "\\end{array}} \\right] = \\left[ {\\begin{array}{*{20}c}\n",
    "   0  \\\\\n",
    "   0  \\\\\n",
    "   5  \\\\\n",
    "\\end{array}} \\right]$$\n",
    "\n",
    "$${\\bf{CT}} = \\left[ {\\begin{array}{*{20}c}\n",
    "   1 & 0 & 0  \\\\\n",
    "\\end{array}} \\right]\\;\\left[ {\\begin{array}{*{20}c}\n",
    "   {0.5} & 0 & 0  \\\\\n",
    "   { - 0.75} & {0.5} & 0  \\\\\n",
    "   {0.5} & { - 0.4} & {0.2}  \\\\\n",
    "\\end{array}} \\right] = \\left[ {\\begin{array}{*{20}c}\n",
    "   {0.5} & 0 & 0  \\\\\n",
    "\\end{array}} \\right]$$\n",
    "\n",
    "Therefore the transformed system is $$\\begin{array}{l}\n",
    " {\\bf{\\dot w}} = \\left[ {\\begin{array}{*{20}c}\n",
    "   { - 1.5} & 1 & 0  \\\\\n",
    "   { - 1.25} & {0.7} & {0.4}  \\\\\n",
    "   { - 2.5} & { 0.4} & {-6.2}  \\\\\n",
    "\\end{array}} \\right]{\\bf{w}} + \\left[ {\\begin{array}{*{20}c}\n",
    "   0  \\\\\n",
    "   0  \\\\\n",
    "   5  \\\\\n",
    "\\end{array}} \\right]u \\\\\n",
    " y = \\left[ {\\begin{array}{*{20}c}\n",
    "   {0.5} & 0 & 0  \\\\\n",
    "\\end{array}} \\right]{\\bf{w}} \\\\\n",
    " \\end{array}$$"
   ]
  },
  {
   "cell_type": "markdown",
   "metadata": {
    "slideshow": {
     "slide_type": "notes"
    }
   },
   "source": [
    "## Diagonalization of a System Matrix \n",
    "\n",
    "If we choose the eigenvectors of a system matrix $\\mathbf{A}$ to be the\n",
    "basis of a transformation, $\\mathbf{T}$, the resulting system matrix\n",
    "will be in the diagonal normal form. Let the transformation matrix\n",
    "$\\mathbf{T}$ consist of the eigenvectors of $\\mathbf{A}$,\n",
    "$\\mathbf{x}_i$. $$\\label{eq:591}\n",
    "    \\mathbf{T}=[\\mathbf{x}_1, \\mathbf{x}_2, \\mathbf{x}_3, \\ldots, \\mathbf{x}_n]$$\n",
    "Since $\\mathbf{x}_i$ are eigenvectors,\n",
    "$\\mathbf{A}\\mathbf{x}_i=\\lambda_i\\mathbf{x}_i$, which can be written\n",
    "equivalently as a set of equations expressed by $$\\label{eq:592}\n",
    "    \\mathbf{AT}=\\mathbf{T\\Lambda}$$ where $\\mathbf{\\Lambda}$ is a matrix\n",
    "which has the eigenvalues $\\lambda_i$ on the diagonal in some order and\n",
    "zeros elsewhere, and $\\mathbf{T}$ is as defined in Eq.\n",
    "([\\[eq:591\\]](#eq:591){reference-type=\"ref\" reference=\"eq:591\"}).\n",
    "Solving Eq. ([\\[eq:592\\]](#eq:592){reference-type=\"ref\"\n",
    "reference=\"eq:592\"}) for $\\mathbf{\\Lambda}$ by premultiplying by\n",
    "$\\mathbf{T}^{-1}$, we get $$\\label{eq:593}\n",
    "    \\mathbf{\\Lambda}=\\mathbf{T}^{-1}\\mathbf{AT}$$ which is the system\n",
    "matrix in normal canonical form.[^2]\n",
    "\n",
    "Choose the eigenvectors of a system matrix $\\mathbf{A}$ to be the basis\n",
    "of a transformation $\\mathbf{T}$. $$\\label{eq:591}\n",
    "    \\mathbf{T}=[\\mathbf{x}_1, \\mathbf{x}_2, \\mathbf{x}_3, \\ldots, \\mathbf{x}_n]$$\n",
    "$\\mathbf{A}\\mathbf{x}_i=\\lambda_i\\mathbf{x}_i$, can be written\n",
    "equivalently as a set of equations expressed by $$\\label{eq:592}\n",
    "    \\mathbf{AT}=\\mathbf{T\\Lambda}$$ Solving Eq.\n",
    "([\\[eq:592\\]](#eq:592){reference-type=\"ref\" reference=\"eq:592\"}) for\n",
    "$\\mathbf{\\Lambda}$ $$\\label{eq:593}\n",
    "    \\mathbf{\\Lambda}=\\mathbf{T}^{-1}\\mathbf{AT}$$ which is the system\n",
    "matrix in normal canonical form.\n",
    "\n",
    "In summary, under the transformation $\\mathbf{T}$, consisting of the\n",
    "eigenvalues of the system matrix, the transformed system is identical to\n",
    "that obtained using the partial fraction expansion of the transfer\n",
    "function with distinct real roots.\n",
    "\n",
    "### Example 3: Diagonalization of a system in state space \n",
    "\n",
    "#### Problem\n",
    "\n",
    "Given the system shown below, find the diagonal (normal\n",
    "form) system that is similar. $$\\begin{array}{c}\n",
    " {\\bf{\\dot x}} = \\left[ {\\begin{array}{*{20}c}\n",
    "   { - 3} & 1  \\\\\n",
    "   1 & { - 3}  \\\\\n",
    "\\end{array}} \\right]{\\bf{x}} + \\left[ {\\begin{array}{*{20}c}\n",
    "   1  \\\\\n",
    "   2  \\\\\n",
    "\\end{array}} \\right]u \\\\\n",
    " y = \\left[ {\\begin{array}{*{20}c}\n",
    "   2 & 3  \\\\\n",
    "\\end{array}} \\right]{\\bf{x}} \\\\\n",
    " \\end{array}$$\n",
    "\n",
    "#### Solution\n",
    "\n",
    "First find the eigenvalues and the eigenvectors. This step\n",
    "was performed in Example 1. Next form the transformation matrix\n",
    "$\\mathbf{T}$, whose columns are the eignevectors.\n",
    "$${\\bf{T}} = \\left[ {\\begin{array}{*{20}c}\n",
    "   1 & 1  \\\\\n",
    "   1 & { - 1}  \\\\\n",
    "\\end{array}} \\right]$$ finally form the similar systems's system matrix,\n",
    "input matrix and output matrix respectively. $$\\begin{array}{c}\n",
    " {\\bf{T}}^{ - 1} {\\bf{A}}T = \\left[ {\\begin{array}{*{20}c}\n",
    "   {{1 \\mathord{\\left/\n",
    " {\\vphantom {1 2}} \\right.\n",
    " \\kern-\\nulldelimiterspace} 2}} & {{1 \\mathord{\\left/\n",
    " {\\vphantom {1 2}} \\right.\n",
    " \\kern-\\nulldelimiterspace} 2}}  \\\\\n",
    "   {{1 \\mathord{\\left/\n",
    " {\\vphantom {1 2}} \\right.\n",
    " \\kern-\\nulldelimiterspace} 2}} & { - {1 \\mathord{\\left/\n",
    " {\\vphantom {1 2}} \\right.\n",
    " \\kern-\\nulldelimiterspace} 2}}  \\\\\n",
    "\\end{array}} \\right]\\;\\left[ {\\begin{array}{*{20}c}\n",
    "   { - 3} & 1  \\\\\n",
    "   1 & { - 3}  \\\\\n",
    "\\end{array}} \\right]\\;\\left[ {\\begin{array}{*{20}c}\n",
    "   1 & 1  \\\\\n",
    "   1 & { - 1}  \\\\\n",
    "\\end{array}} \\right] = \\left[ {\\begin{array}{*{20}c}\n",
    "   { - 2} & 0  \\\\\n",
    "   0 & { - 4}  \\\\\n",
    "\\end{array}} \\right] \\\\\n",
    " {\\bf{T}}^{ - 1} {\\bf{B}} = \\left[ {\\begin{array}{*{20}c}\n",
    "   {{1 \\mathord{\\left/\n",
    " {\\vphantom {1 2}} \\right.\n",
    " \\kern-\\nulldelimiterspace} 2}} & {{1 \\mathord{\\left/\n",
    " {\\vphantom {1 2}} \\right.\n",
    " \\kern-\\nulldelimiterspace} 2}}  \\\\\n",
    "   {{1 \\mathord{\\left/\n",
    " {\\vphantom {1 2}} \\right.\n",
    " \\kern-\\nulldelimiterspace} 2}} & { - {1 \\mathord{\\left/\n",
    " {\\vphantom {1 2}} \\right.\n",
    " \\kern-\\nulldelimiterspace} 2}}  \\\\\n",
    "\\end{array}} \\right]\\;\\left[ {\\begin{array}{*{20}c}\n",
    "   1  \\\\\n",
    "   2  \\\\\n",
    "\\end{array}} \\right] = \\left[ {\\begin{array}{*{20}c}\n",
    "   {{3 \\mathord{\\left/\n",
    " {\\vphantom {3 2}} \\right.\n",
    " \\kern-\\nulldelimiterspace} 2}}  \\\\\n",
    "   { - {1 \\mathord{\\left/\n",
    " {\\vphantom {1 2}} \\right.\n",
    " \\kern-\\nulldelimiterspace} 2}}  \\\\\n",
    "\\end{array}} \\right] \\\\\n",
    " {\\bf{CT}} = \\left[ {\\begin{array}{*{20}c}\n",
    "   2 & 3  \\\\\n",
    "\\end{array}} \\right]\\;\\left[ {\\begin{array}{*{20}c}\n",
    "   1 & 1  \\\\\n",
    "   1 & { - 1}  \\\\\n",
    "\\end{array}} \\right] = \\left[ {\\begin{array}{*{20}c}\n",
    "   5 & { - 1}  \\\\\n",
    "\\end{array}} \\right] \\\\\n",
    " \\end{array}$$ Substituting this result into the equivalent state\n",
    "equations gives $$\\begin{array}{c}\n",
    " {\\bf{\\dot w}} = \\left[ {\\begin{array}{*{20}c}\n",
    "   { - 2} & 0  \\\\\n",
    "   0 & { - 4}  \\\\\n",
    "\\end{array}} \\right]{\\bf{w}} + \\left[ {\\begin{array}{*{20}c}\n",
    "   {{3 \\mathord{\\left/\n",
    " {\\vphantom {3 2}} \\right.\n",
    " \\kern-\\nulldelimiterspace} 2}}  \\\\\n",
    "   { - {1 \\mathord{\\left/\n",
    " {\\vphantom {1 2}} \\right.\n",
    " \\kern-\\nulldelimiterspace} 2}}  \\\\\n",
    "\\end{array}} \\right]u \\\\\n",
    " y = \\left[ {\\begin{array}{*{20}c}\n",
    "   5 & { - 1}  \\\\\n",
    "\\end{array}} \\right]{\\bf{w}} \\\\\n",
    " \\end{array}$$\n",
    "\n",
    "Notice that the transformed system matrix is diagonal, with the\n",
    "eigenvalues on the diagonal."
   ]
  },
  {
   "cell_type": "markdown",
   "metadata": {
    "slideshow": {
     "slide_type": "notes"
    }
   },
   "source": [
    "## Using Diagonalization to Solve State Equations \n",
    "\n",
    "It is possible to obtain solutions for the state equations in any set of\n",
    "states, $\\mathbf{x}$, by transforming to normal canonical form and\n",
    "solving the latter's states, $\\mathbf{w}$, as shown in Lecture 16.\n",
    "\n",
    "The initial states are found, using the inverse transformation, as:\n",
    "$$\\mathbf{w}_0=\\mathbf{T}^{-1}\\mathbf{x}_0$$\n",
    "\n",
    "The solutions to the original states can then be found from $\\mathbf{w}$\n",
    "using the transformation $$\\mathbf{x}=\\mathbf{Tw}$$\n",
    "\n",
    "Since the state space model for $\\mathbf{w}$ is in normal form then the\n",
    "state matrix, $\\mathbf{A}' = \\mathbf{\\Lambda}$, is diagonal with the\n",
    "eigenvalues of $\\mathbf{A}$ in some order on the diagonal.\n",
    "\n",
    "As demonstrated above, the columns of the transformation matrix,\n",
    "$\\mathbf{T}$ will be formed by concatenation of the corresponding\n",
    "eigenvectors of $\\mathbf{A}$ in the same order.\n",
    "\n",
    "-   In Lecture 16 we showed how we could determine the solution to a\n",
    "    state equation in normal (diagonal form).\n",
    "\n",
    "-   Here we have demonstrated how to use the eignenvalues and\n",
    "    eigenvectors to transform a model in state space form to the normal\n",
    "    form.\n",
    "\n",
    "-   Thus if we have $\\mathbf{w}$ the initial states will be\n",
    "    $\\mathbf{w}_0=\\mathbf{T}^{-1}\\mathbf{x}_0$, and\n",
    "\n",
    "-   The solutions to the original states can then be found from\n",
    "    $\\mathbf{w}$ using the transformation $\\mathbf{x}=\\mathbf{Tw}$\n",
    "\n",
    "Example 4 illustrates the procedure."
   ]
  },
  {
   "cell_type": "markdown",
   "metadata": {
    "slideshow": {
     "slide_type": "notes"
    }
   },
   "source": [
    "### Example 4 "
   ]
  },
  {
   "cell_type": "markdown",
   "metadata": {
    "slideshow": {
     "slide_type": "notes"
    }
   },
   "source": [
    "#### Problem\n",
    "\n",
    "Solve the state equations\n",
    "$${\\bf{\\dot x}} = \\left[ {\\begin{array}{*{20}c}\n",
    "   { - 3} & { - 2}  \\\\\n",
    "   1 & 0  \\\\\n",
    "\\end{array}} \\right]{\\bf{x}} + \\left[ {\\begin{array}{*{20}c}\n",
    "   1  \\\\\n",
    "   0  \\\\\n",
    "\\end{array}} \\right]u$$ given $\\mathbf{x}_0 = [1, 0]^T$ at $t=0$ and\n",
    "$u=0$."
   ]
  },
  {
   "cell_type": "markdown",
   "metadata": {
    "slideshow": {
     "slide_type": "notes"
    }
   },
   "source": [
    "#### Solution\n",
    "\n",
    "*First find the eigenvalues*: The eigenvalues of the state\n",
    "matrix are the roots of: $$\\det(\\lambda\\mathbf{I}-\\mathbf{A})=0$$\n",
    "$$\\begin{array}{l}\n",
    " \\det \\left( {\\left[ {\\begin{array}{*{20}c}\n",
    "   \\lambda  & 0  \\\\\n",
    "   0 & \\lambda   \\\\\n",
    "\\end{array}} \\right] - \\left[ {\\begin{array}{*{20}c}\n",
    "   { - 3} & { - 2}  \\\\\n",
    "   1 & 0  \\\\\n",
    "\\end{array}} \\right]} \\right) = \\left| {\\begin{array}{*{20}c}\n",
    "   {\\lambda  + 3} & 2  \\\\\n",
    "   { - 1} & \\lambda   \\\\\n",
    "\\end{array}} \\right| = 0 \\\\\n",
    " (\\lambda  + 3)\\lambda  + 2 = \\lambda ^2  + 3\\lambda  + 2 = (\\lambda  + 1)(\\lambda  + 2) = 2 \\\\\n",
    " \\end{array}$$ Thus $\\lambda_1=-1$ and $\\lambda_2=-2$.\n",
    "\n",
    "*Next, find the transformation matrix*: The eigenvectors are the\n",
    "solutions of $\\mathbf{A}\\mathbf{x}_i=\\lambda_i\\mathbf{x}_i$ for $i=1,2$.\n",
    "\n",
    "For $i=1$ $$\\begin{aligned}\n",
    " \\left[ {\\begin{array}{*{20}c}\n",
    "   { - 3} & { - 2}  \\\\\n",
    "   1 & 0  \\\\\n",
    "\\end{array}} \\right]\\underbrace {\\left[ {\\begin{array}{*{20}c}\n",
    "   {x_1 }  \\\\\n",
    "   {x_2 }  \\\\\n",
    "\\end{array}} \\right]}_{{\\bf{x}}_1 } & = & \\underbrace {( - 1)}_{\\lambda _1 }\\left[ {\\begin{array}{*{20}c}\n",
    "   {x_1 }  \\\\\n",
    "   {x_2 }  \\\\\n",
    "\\end{array}} \\right] \\\\\n",
    "  - 3x_1  - 2x_2  & = &  - x_1  \\\\\n",
    " x_1  + 0x_2  & = &  - x_2  \\\\\n",
    " \\end{aligned}$$ These equations are linearly dependent, and if we let\n",
    "$x_1 =1$ then $x_2 = -1$ giving $\\mathbf{x}_1=[1,\\ -1]^T$.\n",
    "\n",
    "Similarly, for $i=2$ we obtain $\\mathbf{x}_2=[1, -0.5]^T$.\n",
    "\n",
    "Then $$\\begin{array}{l}\n",
    " {\\bf{T}} = \\left[ {\\begin{array}{*{20}c}\n",
    "   {{\\bf{x}}_1 } &  \\vdots  & {{\\bf{x}}_2 }  \\\\\n",
    "\\end{array}} \\right] = \\left[ {\\begin{array}{*{20}c}\n",
    "   1 & 1  \\\\\n",
    "   { - 1} & { - 0.5}  \\\\\n",
    "\\end{array}} \\right] \\\\\n",
    " {\\bf{T}}^{ - 1}  = \\left[ {\\begin{array}{*{20}c}\n",
    "   { - 1} & { - 2}  \\\\\n",
    "   2 & 2  \\\\\n",
    "\\end{array}} \\right] \\\\\n",
    " \\end{array}$$\n",
    "\n",
    "*Finally solve the state equations of the transformed system*\n",
    "\n",
    "Transform the initial states:\n",
    "$${\\bf{w}}_0  = {\\bf{T}}^{ - 1} {\\bf{x}}_0  = \\left[ {\\begin{array}{*{20}c}\n",
    "   { - 1} & { - 2}  \\\\\n",
    "   2 & 2  \\\\\n",
    "\\end{array}} \\right]\\left[ {\\begin{array}{*{20}c}\n",
    "   1  \\\\\n",
    "   0  \\\\\n",
    "\\end{array}} \\right] = \\left[ {\\begin{array}{*{20}c}\n",
    "   { - 1}  \\\\\n",
    "   2  \\\\\n",
    "\\end{array}} \\right]$$\n",
    "\n",
    "Solve for the transformed states: $$\\begin{aligned}\n",
    "    w_1 & = & w_{1,0}e^{\\lambda_1t} \\\\\n",
    "    w_1 & = & (-1)e^{-t} \\\\\\end{aligned}$$ and $$\\begin{aligned}\n",
    "    w_2 & = & w_{2,0}e^{\\lambda_2t} \\\\\n",
    "    w_2 & = & (2)e^{-2t} \\\\\\end{aligned}$$\n",
    "\n",
    "Transform the answers back to the original states:\n",
    "$${\\bf{x}} = {\\bf{Tw}} = \\left[ {\\begin{array}{*{20}c}\n",
    "   1 & 1  \\\\\n",
    "   { - 1} & { - 0.5}  \\\\\n",
    "\\end{array}} \\right]\\left[ {\\begin{array}{*{20}c}\n",
    "   { - e^{ - t} }  \\\\\n",
    "   {2e^{ - 2t} }  \\\\\n",
    "\\end{array}} \\right]$$\n",
    "\n",
    "Therefore $$\\begin{aligned}\n",
    "    x_1 & = & -e^{-t} + 2e^{-2t} \\\\\n",
    "    x_2 & = & e^{-t}-e^{-2t} \\\\\\end{aligned}$$\n",
    "\n",
    "-   Eigenvalues and eigenvectors\n",
    "\n",
    "-   System transformation\n",
    "\n",
    "-   Diagonalization of a state space model\n",
    "\n",
    "-   Solution to the general state equations\n",
    "\n",
    "<!-- -->\n",
    "\n",
    "-   Worked Examples (solutions in notes)\n",
    "\n",
    "-   System Transformations in Matlab\n",
    "\n",
    "Find the eigenvectors of the matrix\n",
    "$${\\bf{A}} = \\left[ {\\begin{array}{*{20}c}\n",
    "       { - 3} & 1  \\\\\n",
    "       1 & { - 3}  \\\\\n",
    "    \\end{array}} \\right]$$\n",
    "\n",
    "Given the system represented in state space by the following equations\n",
    "$$\\begin{array}{l}\n",
    " {\\bf{\\dot x}} = \\left[ {\\begin{array}{*{20}c}\n",
    "   0 & 1 & 0  \\\\\n",
    "   0 & 0 & 1  \\\\\n",
    "   { - 2} & { - 5} & { - 7}  \\\\\n",
    "\\end{array}} \\right]{\\bf{x}} + \\left[ {\\begin{array}{*{20}c}\n",
    "   0  \\\\\n",
    "   0  \\\\\n",
    "   1  \\\\\n",
    "\\end{array}} \\right]u \\\\\n",
    " y = \\left[ {\\begin{array}{*{20}c}\n",
    "   1 & 0 & 0  \\\\\n",
    "\\end{array}} \\right]{\\bf{x}} \\\\\n",
    " \\end{array}$$ transform the system to a new set of state variables,\n",
    "$\\mathbf{w}$, where the new state variables are related to the original\n",
    "state variables, $\\mathbf{x}$, as follows: $$\\begin{aligned}\n",
    "\tw_1 & = & 2x_1 \\\\\n",
    "\tw_2 & = & 3x_1 + 2x_2 \\\\\n",
    "\tw_3 & = & x_1 + 4x_2 + 5x_3\\end{aligned}$$\n",
    "\n",
    "Given the system shown below, find the diagonal (normal form) system\n",
    "that is similar. $$\\begin{array}{c}\n",
    " {\\bf{\\dot x}} = \\left[ {\\begin{array}{*{20}c}\n",
    "   { - 3} & 1  \\\\\n",
    "   1 & { - 3}  \\\\\n",
    "\\end{array}} \\right]{\\bf{x}} + \\left[ {\\begin{array}{*{20}c}\n",
    "   1  \\\\\n",
    "   2  \\\\\n",
    "\\end{array}} \\right]u \\\\\n",
    " y = \\left[ {\\begin{array}{*{20}c}\n",
    "   2 & 3  \\\\\n",
    "\\end{array}} \\right]{\\bf{x}} \\\\\n",
    " \\end{array}$$\n",
    "\n",
    "Solve the state equations\n",
    "$${\\bf{\\dot x}} = \\left[ {\\begin{array}{*{20}c}\n",
    "   { - 3} & { - 2}  \\\\\n",
    "   1 & 0  \\\\\n",
    "\\end{array}} \\right]{\\bf{x}} + \\left[ {\\begin{array}{*{20}c}\n",
    "   1  \\\\\n",
    "   0  \\\\\n",
    "\\end{array}} \\right]u$$ given $\\mathbf{x}_0 = [1, 0]^T$ at $t=0$ and\n",
    "$u=0$."
   ]
  },
  {
   "cell_type": "markdown",
   "metadata": {
    "slideshow": {
     "slide_type": "notes"
    }
   },
   "source": [
    "## System Transforms in MATLAB \n",
    "\n",
    "MATLAB provides a rich set of tools for finding eigenvalues and\n",
    "eigenvectors, transforming state equations using similarity transforms\n",
    "and solving state space equations. We conclude this lecture by reworking\n",
    "the first three examples in Matlab. You should repeat these examples\n",
    "during the self-directed learning session."
   ]
  },
  {
   "cell_type": "markdown",
   "metadata": {
    "slideshow": {
     "slide_type": "notes"
    }
   },
   "source": [
    "### Eigenvalues and eigenvectors\n",
    "\n",
    "Solution of Example 1"
   ]
  },
  {
   "cell_type": "code",
   "execution_count": 2,
   "metadata": {
    "slideshow": {
     "slide_type": "notes"
    }
   },
   "outputs": [],
   "source": [
    "format compact\n",
    "clear all"
   ]
  },
  {
   "cell_type": "code",
   "execution_count": 3,
   "metadata": {
    "slideshow": {
     "slide_type": "notes"
    }
   },
   "outputs": [
    {
     "name": "stdout",
     "output_type": "stream",
     "text": [
      "A =\n",
      "    -3     1\n",
      "     1    -3\n",
      "T =\n",
      "    0.7071    0.7071\n",
      "   -0.7071    0.7071\n",
      "Lambda =\n",
      "    -4     0\n",
      "     0    -2\n"
     ]
    }
   ],
   "source": [
    "A = [-3 1; 1 -3]\n",
    "[T, Lambda] = eig(A)"
   ]
  },
  {
   "cell_type": "markdown",
   "metadata": {
    "slideshow": {
     "slide_type": "notes"
    }
   },
   "source": [
    "Note $\\mathbf{T}$ is the transform matrix whose columns are the\n",
    "eigenvectors, $\\mathbf{\\Lambda}$ is the diagonal matrix of eigenvalues."
   ]
  },
  {
   "cell_type": "markdown",
   "metadata": {
    "slideshow": {
     "slide_type": "notes"
    }
   },
   "source": [
    "### Similarity transforms \n",
    "\n",
    "Solution of Example 2"
   ]
  },
  {
   "cell_type": "code",
   "execution_count": 5,
   "metadata": {
    "slideshow": {
     "slide_type": "notes"
    }
   },
   "outputs": [
    {
     "name": "stdout",
     "output_type": "stream",
     "text": [
      "T =\n",
      "    0.5000         0         0\n",
      "   -0.7500    0.5000   -0.0000\n",
      "    0.5000   -0.4000    0.2000\n"
     ]
    }
   ],
   "source": [
    "            Tinv = [2 0 0; 3 2 0; 1 4 5];\n",
    "            T = inv(Tinv)\n",
    "            Ax = [0 1 0; 0 0 1; -2 -5 -7];\n",
    "            Bx = [0; 0; 1];\n",
    "            Cx = [ 1 0 0];\n",
    "           "
   ]
  },
  {
   "cell_type": "code",
   "execution_count": 6,
   "metadata": {
    "slideshow": {
     "slide_type": "notes"
    }
   },
   "outputs": [
    {
     "name": "stdout",
     "output_type": "stream",
     "text": [
      "Aw =\n",
      "   -1.5000    1.0000   -0.0000\n",
      "   -1.2500    0.7000    0.4000\n",
      "   -2.5000    0.4000   -6.2000\n",
      "Bw =\n",
      "     0\n",
      "     0\n",
      "     5\n",
      "Cw =\n",
      "    0.5000         0         0\n"
     ]
    }
   ],
   "source": [
    " % Transform\n",
    "            Aw = Tinv*Ax*T\n",
    "            Bw = Tinv*Bx\n",
    "            Cw = Cx*T\n",
    "\n",
    "            Tinv = [2 0 0; 3 2 0; 1 4 5];\n",
    "            "
   ]
  },
  {
   "cell_type": "code",
   "execution_count": 7,
   "metadata": {
    "slideshow": {
     "slide_type": "notes"
    }
   },
   "outputs": [
    {
     "name": "stdout",
     "output_type": "stream",
     "text": [
      "\n",
      "sysx =\n",
      " \n",
      "  A = \n",
      "       x1  x2  x3\n",
      "   x1   0   1   0\n",
      "   x2   0   0   1\n",
      "   x3  -2  -5  -7\n",
      " \n",
      "  B = \n",
      "       u1\n",
      "   x1   0\n",
      "   x2   0\n",
      "   x3   1\n",
      " \n",
      "  C = \n",
      "       x1  x2  x3\n",
      "   y1   1   0   0\n",
      " \n",
      "  D = \n",
      "       u1\n",
      "   y1   0\n",
      " \n",
      "Continuous-time state-space model.\n",
      "\n"
     ]
    }
   ],
   "source": [
    "% Ax, Bx, Cx as previously defined\n",
    "            sysx = ss(Ax, Bx, Cx, 0) % Dx = 0\n",
    "           "
   ]
  },
  {
   "cell_type": "code",
   "execution_count": 10,
   "metadata": {
    "slideshow": {
     "slide_type": "notes"
    }
   },
   "outputs": [
    {
     "name": "stdout",
     "output_type": "stream",
     "text": [
      "\n",
      "sysw =\n",
      " \n",
      "  A = \n",
      "              x1         x2         x3\n",
      "   x1       -1.5          1  -1.11e-16\n",
      "   x2      -1.25        0.7        0.4\n",
      "   x3       -2.5        0.4       -6.2\n",
      " \n",
      "  B = \n",
      "       u1\n",
      "   x1   0\n",
      "   x2   0\n",
      "   x3   5\n",
      " \n",
      "  C = \n",
      "        x1   x2   x3\n",
      "   y1  0.5    0    0\n",
      " \n",
      "  D = \n",
      "       u1\n",
      "   y1   0\n",
      " \n",
      "Continuous-time state-space model.\n",
      "\n"
     ]
    }
   ],
   "source": [
    "% Perform transformation\n",
    "sysw = ss2ss(sysx, Tinv)"
   ]
  },
  {
   "cell_type": "markdown",
   "metadata": {
    "slideshow": {
     "slide_type": "notes"
    }
   },
   "source": [
    "### Diagonalization\n",
    "\n",
    "Example 3"
   ]
  },
  {
   "cell_type": "code",
   "execution_count": 11,
   "metadata": {
    "slideshow": {
     "slide_type": "notes"
    }
   },
   "outputs": [
    {
     "name": "stdout",
     "output_type": "stream",
     "text": [
      "T =\n",
      "    0.7071    0.7071\n",
      "   -0.7071    0.7071\n",
      "Lambda =\n",
      "    -4     0\n",
      "     0    -2\n",
      "Adt =\n",
      "   -4.0000         0\n",
      "         0   -2.0000\n",
      "Bdt =\n",
      "   -0.7071\n",
      "    2.1213\n",
      "Cdt =\n",
      "   -0.7071    3.5355\n"
     ]
    }
   ],
   "source": [
    "        A = [-3 1; 1 -3]; B = [1; 2]; C = [2 3];\n",
    "        [T,Lambda] = eig(A)\n",
    "        Adt = inv(T)*A*T\n",
    "        Bdt = inv(T)*B\n",
    "        Cdt = C*T"
   ]
  },
  {
   "cell_type": "markdown",
   "metadata": {
    "slideshow": {
     "slide_type": "notes"
    }
   },
   "source": [
    "Example 4"
   ]
  },
  {
   "cell_type": "code",
   "execution_count": 12,
   "metadata": {
    "slideshow": {
     "slide_type": "notes"
    }
   },
   "outputs": [
    {
     "name": "stdout",
     "output_type": "stream",
     "text": [
      "\n",
      "S =\n",
      " \n",
      "  A = \n",
      "       x1  x2\n",
      "   x1  -3   1\n",
      "   x2   1  -3\n",
      " \n",
      "  B = \n",
      "       u1\n",
      "   x1   1\n",
      "   x2   2\n",
      " \n",
      "  C = \n",
      "       x1  x2\n",
      "   y1   2   3\n",
      " \n",
      "  D = \n",
      "       u1\n",
      "   y1   0\n",
      " \n",
      "Continuous-time state-space model.\n",
      "\n",
      "\n",
      "Sp =\n",
      " \n",
      "  A = \n",
      "       x1  x2\n",
      "   x1  -2   0\n",
      "   x2   0  -4\n",
      " \n",
      "  B = \n",
      "           u1\n",
      "   x1   2.121\n",
      "   x2  0.7071\n",
      " \n",
      "  C = \n",
      "           x1      x2\n",
      "   y1   3.536  0.7071\n",
      " \n",
      "  D = \n",
      "       u1\n",
      "   y1   0\n",
      " \n",
      "Continuous-time state-space model.\n",
      "\n"
     ]
    }
   ],
   "source": [
    "        A = [-3 1; 1 -3]; B = [1; 2]; C = [2 3];\n",
    "        S = ss(A, B, C, 0)\n",
    "        Sp = canon(S, 'modal')"
   ]
  },
  {
   "cell_type": "markdown",
   "metadata": {
    "slideshow": {
     "slide_type": "notes"
    }
   },
   "source": [
    "## Footnotes\n",
    "\n",
    "1. The world *eigen* is from the German for \"characteristic\" so\n",
    "    another name for eigenvalue might be *characteristic value*. There\n",
    "    is a very close relationship between the eigenvalues and the\n",
    "    characteristic equation we have discussed in earlier lectures.\n",
    "    Indeed as we shall see, the equation\n",
    "    $\\det(\\lambda\\mathbf{I}-\\mathbf{A})=0$ that is used to find the\n",
    "    eignenvalues of a system is almost identical to\n",
    "    $\\det(s\\mathbf{I}-A)=0$ that determines the poles of the system\n",
    "    defined in transfer function form. From this is should be clear that\n",
    "    the eigenvalues of the $\\mathbf{A}$ matrix are the same as the poles\n",
    "    of the corresponding transfer function.\n",
    "\n",
    "2. Note we need to perform some additional manipulations if there are\n",
    "    repeated or complex eigenvalues. We leave the discovery of these\n",
    "    extra steps as an exercise for the interested student. It will not\n",
    "    be examined!"
   ]
  }
 ],
 "metadata": {
  "celltoolbar": "Slideshow",
  "kernelspec": {
   "display_name": "Matlab",
   "language": "matlab",
   "name": "matlab"
  },
  "language_info": {
   "codemirror_mode": "octave",
   "file_extension": ".m",
   "help_links": [
    {
     "text": "MetaKernel Magics",
     "url": "https://github.com/calysto/metakernel/blob/master/metakernel/magics/README.md"
    }
   ],
   "mimetype": "text/x-octave",
   "name": "matlab",
   "version": "0.15.2"
  }
 },
 "nbformat": 4,
 "nbformat_minor": 2
}
