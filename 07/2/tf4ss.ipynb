{
 "cells": [
  {
   "cell_type": "markdown",
   "metadata": {
    "slideshow": {
     "slide_type": "slide"
    }
   },
   "source": [
    "# Transforms and Time Responses for State Space Models\n",
    "\n",
    "* Laplace Transform of State Space Models\n",
    "* Time Responses for State Space Models\n",
    "* Detailed example (in class)\n",
    "* Problems (homework)"
   ]
  },
  {
   "cell_type": "markdown",
   "metadata": {
    "slideshow": {
     "slide_type": "slide"
    }
   },
   "source": [
    "## Laplace Transforms of State Space Models"
   ]
  },
  {
   "cell_type": "markdown",
   "metadata": {
    "slideshow": {
     "slide_type": "fragment"
    }
   },
   "source": [
    "The Laplace transform can be used to convert a differential equation into a transfer function. It can also be used to convert a state space model into a transfer function. In this lecture we demonstrate how this is done and we give an example."
   ]
  },
  {
   "cell_type": "markdown",
   "metadata": {
    "slideshow": {
     "slide_type": "subslide"
    }
   },
   "source": [
    "### Laplace transform of a vector of functions\n",
    "\n",
    "The Laplace transform of a vector $\\mathbf{v}(t)$ is a vector $\\mathbf{V}(s)$. The elements of $\\mathbf{V}(s)$ are the Laplace transforms of the corresponding elements of the vector $\\mathbf{v}(t)$."
   ]
  },
  {
   "cell_type": "markdown",
   "metadata": {
    "slideshow": {
     "slide_type": "fragment"
    }
   },
   "source": [
    "For array \n",
    "\n",
    "$$\\mathbf{v}(t) = \\left[\n",
    "  \\begin{array}{c}\n",
    "    v_1(t) \\\\\n",
    "    v_2(t) \\\\\n",
    "    \\vdots \\\\\n",
    "    v_n(t) \\\\\n",
    "  \\end{array}\n",
    "  \\right]$$"
   ]
  },
  {
   "cell_type": "markdown",
   "metadata": {
    "slideshow": {
     "slide_type": "subslide"
    }
   },
   "source": [
    "The transformed variables are \n",
    "\n",
    "$$\\mathcal{L}\\mathbf{v}(t) = \\left[\n",
    "  \\begin{array}{c}\n",
    "   \\mathcal{L} v_1(t) \\\\\n",
    "   \\mathcal{L} v_2(t) \\\\\n",
    "    \\vdots \\\\\n",
    "   \\mathcal{L} v_n(t) \\\\\n",
    "  \\end{array}\n",
    "  \\right] = \\left[\n",
    "  \\begin{array}{c}\n",
    "   V_1(s) \\\\\n",
    "   V_2(s) \\\\\n",
    "    \\vdots \\\\\n",
    "   V_n(s) \\\\\n",
    "  \\end{array}\n",
    "  \\right] = \\mathbf{V}(s)$$"
   ]
  },
  {
   "cell_type": "markdown",
   "metadata": {
    "slideshow": {
     "slide_type": "subslide"
    }
   },
   "source": [
    "For example, if<sup>1</sup> \n",
    "\n",
    "$$\\mathbf{v}(t)=\\left[ \\begin{array}{c}\n",
    "   \\epsilon(t) \\\\\n",
    "   e^{-at} \\\\\n",
    "   \\sin bt \\\\\n",
    "  \\end{array} \\right]$$ \n",
    "  "
   ]
  },
  {
   "cell_type": "markdown",
   "metadata": {
    "slideshow": {
     "slide_type": "fragment"
    }
   },
   "source": [
    "then $$\\mathbf{V}(s)=\\left[ \\begin{array}{c}\n",
    "   1/s \\\\\n",
    "   1/(s+a) \\\\\n",
    "   b/(s^2+b^2) \\\\\n",
    "  \\end{array} \\right]$$"
   ]
  },
  {
   "cell_type": "markdown",
   "metadata": {
    "slideshow": {
     "slide_type": "subslide"
    }
   },
   "source": [
    "### Transform of State Equations\n",
    "\n",
    "Let us now transform the generalized form of the state equations obtained in the last lecture. \n",
    "\n",
    "$$\\begin{eqnarray*}\n",
    "  \\frac{d\\mathbf{x}(t)}{dt} &=&\n",
    "  \\mathbf{A}\\mathbf{x}(t)+\\mathbf{B}\\mathbf{u}(t)\\\\\n",
    "  \\mathbf{y}(t)&=&\\mathbf{C}\\mathbf{x}(t)+\\mathbf{D}\\mathbf{u}(t)\\end{eqnarray*}$$"
   ]
  },
  {
   "cell_type": "markdown",
   "metadata": {
    "slideshow": {
     "slide_type": "subslide"
    }
   },
   "source": [
    "Applying the Laplace transform to both sides of this matrix equation\n",
    "gives the transform equations \n",
    "\n",
    "$$\\begin{eqnarray*}\n",
    "  s\\mathbf{X}(s)-\\mathbf{x}(0) &=& \n",
    "  \\mathbf{A}\\mathbf{X}(s)+\\mathbf{B}\\mathbf{U}(s)\\\\\n",
    "  \\mathbf{Y}(s)&=&\\mathbf{C}\\mathbf{X}(s)+\\mathbf{D}\\mathbf{U}(s)\\end{eqnarray*}$$"
   ]
  },
  {
   "cell_type": "markdown",
   "metadata": {
    "slideshow": {
     "slide_type": "fragment"
    }
   },
   "source": [
    "where $\\mathbf{x}(0)$ is the vector of initial conditions vector of the\n",
    "states; $\\mathbf{X}(s)$ is the state transform vector; $\\mathbf{U}(s)$\n",
    "input transform vector; $\\mathbf{Y}(s)$ is output transform vector."
   ]
  },
  {
   "cell_type": "markdown",
   "metadata": {
    "slideshow": {
     "slide_type": "subslide"
    }
   },
   "source": [
    "### Transformed State-Equations for Example 1 from Section \n",
    "\n",
    "For the system in the example the state vector is defined as $\\mathbf{x}=[v_{31}, i_1]^{T}$, the input current is $u$, and the output variables are all the currents and voltages in the circuit $\\mathbf{y}=[v_{31}, i_1, v_{32}, v_{21}, i_2]^{T}$. "
   ]
  },
  {
   "cell_type": "markdown",
   "metadata": {
    "slideshow": {
     "slide_type": "subslide"
    }
   },
   "source": [
    "The transformed state space model is therefore:\n",
    "\n",
    "$$\\begin{eqnarray}\n",
    " s\\left[\\begin{array}{c}\n",
    "  V_{31} \\\\\n",
    "  I_1\n",
    "\\end{array}\\right]-\\left[\\begin{array}{c}\n",
    "  v_{31}(0) \\\\\n",
    "  i_1(0)\n",
    "\\end{array}\\right]&=&\\left[\\begin{array}{cc}\n",
    "  0 & -1/C \\\\\n",
    "  1/L & -R/L\n",
    "\\end{array}\\right]\\left[\\begin{array}{c}\n",
    "  V_{31} \\\\\n",
    "  I_1\n",
    "\\end{array}\\right]+\\left[\\begin{array}{c}\n",
    "  1/C \\\\\n",
    "  0\n",
    "\\end{array}\\right]\\left[U\\right]\\\\\n",
    "\\left[\\begin{array}{c}\n",
    "  V_{31} \\\\\n",
    "  I_1 \\\\\n",
    "  V_{32} \\\\\n",
    "  V_{21} \\\\\n",
    "  I_{2}\n",
    "\\end{array}\\right]&=&\\left[\\begin{array}{cc}\n",
    "  1 & 0 \\\\\n",
    "  0 & 1 \\\\\n",
    "  1 & -R \\\\\n",
    "  0 & R \\\\\n",
    "  0 & -1\n",
    "\\end{array}\\right]\\left[\\begin{array}{c}\n",
    "  V_{31} \\\\\n",
    "  I_1\n",
    "\\end{array}\\right]+\\left[\\begin{array}{c}\n",
    "  0 \\\\\n",
    "  0 \\\\\n",
    "  0 \\\\\n",
    "  0 \\\\\n",
    "  1\n",
    "\\end{array}\\right]\\left[U\\right].\\end{eqnarray}$$"
   ]
  },
  {
   "cell_type": "markdown",
   "metadata": {
    "slideshow": {
     "slide_type": "slide"
    }
   },
   "source": [
    "## Transfer function from State-Space Models"
   ]
  },
  {
   "cell_type": "markdown",
   "metadata": {
    "slideshow": {
     "slide_type": "notes"
    }
   },
   "source": [
    "The transform equations may be solved as follows (the Laplace transform operator $s$ is omitted for brevity)."
   ]
  },
  {
   "cell_type": "markdown",
   "metadata": {
    "slideshow": {
     "slide_type": "fragment"
    }
   },
   "source": [
    "Substituting $\\mathbf{X}$ from (1) into (2) gives \n",
    "\n",
    "$$\\begin{equation}\n",
    "  \\mathbf{Y}=\\left[\\mathbf{C}\\left[s\\mathbf{I}-\\mathbf{A}\\right]^{-1}\\mathbf{B}\\mathbf{U}+\n",
    "  \\mathbf{C}\\left[s\\mathbf{I}-\\mathbf{A}\\right]^{-1}\\mathbf{x}(0)\\right]+\\mathbf{D}\\mathbf{U}\\end{equation}$$"
   ]
  },
  {
   "cell_type": "markdown",
   "metadata": {
    "slideshow": {
     "slide_type": "fragment"
    }
   },
   "source": [
    "which after gathering terms and simplifying gives\n",
    "$$\\begin{equation}\n",
    "  \\mathbf{Y}=\\left[\\mathbf{C}\\left[s\\mathbf{I}-\\mathbf{A}\\right]^{-1}\\mathbf{B}+\\mathbf{D}\\right]\\mathbf{U}\n",
    "      +\\mathbf{C}\n",
    "  \\left[s\\mathbf{I}-\\mathbf{A}\\right]^{-1}\\mathbf{x}(0)\\end{equation}$$"
   ]
  },
  {
   "cell_type": "markdown",
   "metadata": {
    "slideshow": {
     "slide_type": "subslide"
    }
   },
   "source": [
    "When the initial conditions of the state-variables are all zero, this\n",
    "reduces to the transfer matrix model \n",
    "\n",
    "$$\\begin{equation}\n",
    "  \\mathbf{Y}=\\left[\\mathbf{C}\\left[s\\mathbf{I}-\\mathbf{A}\\right]^{-1}\\mathbf{B}+\\mathbf{D}\\right]\\mathbf{U}\\end{equation}$$"
   ]
  },
  {
   "cell_type": "markdown",
   "metadata": {
    "slideshow": {
     "slide_type": "subslide"
    }
   },
   "source": [
    "The matrix $\\mathbf{C}\\left[s\\mathbf{I}-\\mathbf{A}\\right]^{-1}\\mathbf{B}+\\mathbf{D}$ is the *system transfer matrix*."
   ]
  },
  {
   "cell_type": "markdown",
   "metadata": {
    "slideshow": {
     "slide_type": "fragment"
    }
   },
   "source": [
    "The element of the $i$-th row and $j$-th column is the transfer function that relates the $i$-th output transform $Y_i$ to the $j$-th input transform $U_j$."
   ]
  },
  {
   "cell_type": "markdown",
   "metadata": {
    "slideshow": {
     "slide_type": "fragment"
    }
   },
   "source": [
    "For a single-input, single-output (SISO) system, the system transfer matrix reduces to a single element transfer function."
   ]
  },
  {
   "cell_type": "markdown",
   "metadata": {
    "slideshow": {
     "slide_type": "subslide"
    }
   },
   "source": [
    "The matrix $\\left[s\\mathbf{I}-\\mathbf{A}\\right]^{-1}$ is very important."
   ]
  },
  {
   "cell_type": "markdown",
   "metadata": {
    "slideshow": {
     "slide_type": "fragment"
    }
   },
   "source": [
    "It is known as the *resolvent matrix* of the system."
   ]
  },
  {
   "cell_type": "markdown",
   "metadata": {
    "slideshow": {
     "slide_type": "fragment"
    }
   },
   "source": [
    "It may be written as \n",
    "\n",
    "$$\\left[s\\mathbf{I}-\\mathbf{A}\\right]^{-1} =\n",
    "        \\frac{\\mathrm{adj}\\left[s\\mathbf{I}-\\mathbf{A}\\right]}\n",
    "             {\\det\\left[s\\mathbf{I}-\\mathbf{A}\\right]}.$$"
   ]
  },
  {
   "cell_type": "markdown",
   "metadata": {
    "slideshow": {
     "slide_type": "subslide"
    }
   },
   "source": [
    "### Resolvent matrix for the example\n",
    "\n",
    "For the system in the example, the resolvent matrix is developed as"
   ]
  },
  {
   "cell_type": "markdown",
   "metadata": {
    "slideshow": {
     "slide_type": "fragment"
    }
   },
   "source": [
    "$$\\begin{equation*}\n",
    "\\mathbf{A}=\\left[\\begin{array}{cc}\n",
    "  0 & -1/C \\\\\n",
    "  1/L & -R/L\n",
    "\\end{array}\\right] \\end{equation*}$$"
   ]
  },
  {
   "cell_type": "markdown",
   "metadata": {
    "slideshow": {
     "slide_type": "fragment"
    }
   },
   "source": [
    "$$\\begin{equation*}\n",
    "s\\mathbf{I}-\\mathbf{A}=\\left[\n",
    "\\begin{array}{cc}\n",
    "  s & 0 \\\\\n",
    "  0 & s\n",
    "\\end{array}\n",
    "\\right] - \\left[\n",
    "\\begin{array}{cc}\n",
    "  0 & -1/C \\\\\n",
    "  1/L & -R/L\n",
    "\\end{array}\n",
    "\\right] = \\left[\n",
    "\\begin{array}{cc}\n",
    "  s & +1/C \\\\\n",
    "  -1/L & s+R/L\n",
    "\\end{array}\\right] \\end{equation*}$$"
   ]
  },
  {
   "cell_type": "markdown",
   "metadata": {
    "slideshow": {
     "slide_type": "subslide"
    }
   },
   "source": [
    "$$\\begin{equation*}\n",
    "\\left[s\\mathbf{I}-\\mathbf{A}\\right]^{-1}=\\frac{\n",
    "\\left[\\begin{array}{cc}\n",
    "  s+R/L & -1/C \\\\\n",
    "  +1/L & s\n",
    "\\end{array} \\right]\n",
    "}{s(s+R/L)+1/(LC)}=\\frac{\\left[\\begin{array}{cc}\n",
    "  s+R/L & -1/C \\\\\n",
    "  +1/L & s\n",
    "\\end{array} \\right]}{s^2 + (R/L)s + 1/(LC) }\\end{equation*}$$"
   ]
  },
  {
   "cell_type": "markdown",
   "metadata": {
    "slideshow": {
     "slide_type": "notes"
    }
   },
   "source": [
    "When $\\left[s\\mathbf{I}-\\mathbf{A}\\right]^{-1}$ has been obtained, then the system transfer function is easily obtained through $\\mathbf{C}\\left[s\\mathbf{I}-\\mathbf{A}\\right]^{-1}\\mathbf{B}+\\mathbf{D}$.\n",
    "For the system in the example, when all outputs are measured, the system transfer matrix is:"
   ]
  },
  {
   "cell_type": "markdown",
   "metadata": {
    "slideshow": {
     "slide_type": "subslide"
    }
   },
   "source": [
    "### Transfer matrix for example\n",
    "\n",
    "$$\\begin{equation*}\n",
    "\\left[\\begin{array}{cc}\n",
    "  1 & 0 \\\\\n",
    "  0 & 1 \\\\\n",
    "  1 & -R \\\\\n",
    "  0 & R \\\\\n",
    "  0 & -1\n",
    "\\end{array}\\right]\n",
    "\\left\\{\\frac{\\left[\n",
    "\\begin{array}{cc}\n",
    "  s+R/L & -1/C \\\\\n",
    " +1/L & s\n",
    "\\end{array}\\right]}{s^2 + (R/L)s +1/(LC)}\\right\\}\n",
    "\\left[\\begin{array}{c}\n",
    "  1/C \\\\\n",
    "  0\n",
    "\\end{array}\\right]\n",
    " + \\left[\\begin{array}{c}\n",
    "  0 \\\\\n",
    "  0 \\\\\n",
    "  0 \\\\\n",
    "  0 \\\\\n",
    "  1\n",
    "\\end{array} \\right]\n",
    "\\end{equation*}$$"
   ]
  },
  {
   "cell_type": "markdown",
   "metadata": {
    "slideshow": {
     "slide_type": "subslide"
    }
   },
   "source": [
    "$$\\begin{equation*}\n",
    "= \\left[\\begin{array}{cc}\n",
    "  1 & 0 \\\\\n",
    "  0 & 1 \\\\\n",
    "  1 & -R \\\\\n",
    "  0 & R \\\\\n",
    "  0 & -1\n",
    "\\end{array}\\right]\n",
    "\\left\\{\\frac{\\left[\n",
    "\\begin{array}{c}\n",
    "  (1/C)s+R/(LC)  \\\\\n",
    " +1/(LC)\n",
    "\\end{array}\\right]}{s^2 + (R/L)s +1/(LC)}\\right\\}\n",
    " + \\left[\\begin{array}{c}\n",
    "  0 \\\\\n",
    "  0 \\\\\n",
    "  0 \\\\\n",
    "  0 \\\\\n",
    "  1\n",
    "\\end{array} \\right]\\end{equation*}$$"
   ]
  },
  {
   "cell_type": "markdown",
   "metadata": {
    "slideshow": {
     "slide_type": "subslide"
    }
   },
   "source": [
    "$$\\begin{equation*}\n",
    " = \\frac{1}{s^2 + (R/L)s\n",
    "+1/(LC)}\\left[\\begin{array}{c}\n",
    "  (1/C)s+R/(LC) \\\\\n",
    "  1/(LC) \\\\\n",
    "  (1/C)s \\\\\n",
    "  R/(LC) \\\\\n",
    "  -1/(LC)\n",
    "\\end{array}\\right] + \\left[\\begin{array}{c}\n",
    "  0 \\\\\n",
    "  0 \\\\\n",
    "  0 \\\\\n",
    "  0 \\\\\n",
    "  1\n",
    "\\end{array} \\right]\\end{equation*}$$"
   ]
  },
  {
   "cell_type": "markdown",
   "metadata": {
    "slideshow": {
     "slide_type": "subslide"
    }
   },
   "source": [
    "$$\\begin{equation*}\n",
    "= \\left[\\begin{array}{c}\n",
    "  \\frac{(1/C)s+R/(LC)}{s^2 + (R/L)s\n",
    "+1/(LC)} \\\\\n",
    "  \\frac{1/(LC)}{s^2 + (R/L)s\n",
    "+1/(LC)} \\\\\n",
    "  \\frac{(1/C)s}{s^2 + (R/L)s\n",
    "+1/(LC)} \\\\\n",
    "  \\frac{R/(LC)}{s^2 + (R/L)s\n",
    "+1/(LC)} \\\\\n",
    "  -\\frac{1/(LC)}{s^2 + (R/L)s\n",
    "+1/(LC)}+1\n",
    "\\end{array}\\right]\\end{equation*}$$"
   ]
  },
  {
   "cell_type": "markdown",
   "metadata": {
    "slideshow": {
     "slide_type": "subslide"
    }
   },
   "source": [
    "In matrix form, when combined with the input and output transforms we have the situation illustrated below. Each transfer function relates the corresponding output transform to the input transform. "
   ]
  },
  {
   "cell_type": "markdown",
   "metadata": {
    "slideshow": {
     "slide_type": "fragment"
    }
   },
   "source": [
    "For example\n",
    "\n",
    "$$V_{31}= \\frac{(1/C)s+R/(LC)}{s^2 + (R/L)s\n",
    "+1/(LC)}\\ U.$$"
   ]
  },
  {
   "cell_type": "markdown",
   "metadata": {
    "slideshow": {
     "slide_type": "subslide"
    }
   },
   "source": [
    "### Transform Equations for Example\n",
    "\n",
    "$$\\begin{eqnarray*}\n",
    "\\mathbf{Y}(s)&=&\\left[\\mathbf{C}\\left[s\\mathbf{I}-\\mathbf{A}\\right]^{-1}\\mathbf{B}+\\mathbf{D}\\right]\\mathbf{U}(s)\\\\\n",
    "\\mathbf{Y}(s) &=& \\mathbf{G}(s)\\mathbf{U}(s)\\end{eqnarray*}$$"
   ]
  },
  {
   "cell_type": "markdown",
   "metadata": {
    "slideshow": {
     "slide_type": "subslide"
    }
   },
   "source": [
    "$$\\begin{eqnarray*}\\left[\\begin{array}{c}\n",
    "  V_{31}(s) \\\\\n",
    "  I_1(s) \\\\\n",
    "  V_{32}(s) \\\\\n",
    "  V_{21}(s) \\\\\n",
    "  I_{2}(s)\n",
    "\\end{array}\\right] &=& \\left[\\begin{array}{c}\n",
    "  \\frac{(1/C)s+R/(LC)}{s^2 + (R/L)s\n",
    "+1/(LC)} \\\\\n",
    "  \\frac{1/(LC)}{s^2 + (R/L)s\n",
    "+1/(LC)} \\\\\n",
    "  \\frac{(1/C)s}{s^2 + (R/L)s\n",
    "+1/(LC)} \\\\\n",
    "  \\frac{R/(LC)}{s^2 + (R/L)s\n",
    "+1/(LC)} \\\\\n",
    "  -\\frac{1/(LC)}{s^2 + (R/L)s\n",
    "+1/(LC)}+1\n",
    "\\end{array}\\right]\\mathbf{U}(s).\\end{eqnarray*}$$"
   ]
  },
  {
   "cell_type": "markdown",
   "metadata": {
    "slideshow": {
     "slide_type": "notes"
    }
   },
   "source": [
    "Note that the denominator is the same for each transfer function, and\n",
    "that the order of the numerator is less than the denominator except for\n",
    "one case, for which \n",
    "\n",
    "$$\\begin{eqnarray*}\n",
    "I_2 & = & \\left(-\\frac{1/(LC)}{s^2 + (R/L)s +1/(LC)}+1\\right)U\\\\\n",
    "    & = & \\frac{-1/{LC}+s^2 + (R/L)s +1/(LC)}{s^2 + (R/L)s\n",
    "    +1/(LC)}\\ U\n",
    "    \\\\\n",
    "    & = &\\frac{s^2 + (R/L)s}{s^2 + (R/L)s\n",
    "    +1/(LC)}\\ U\\end{eqnarray*}$$ \n",
    "    \n",
    "Replacing $s$ by $\\frac{d}{dt}$ gives the\n",
    "corresponding differential equations relating the dependant variable to\n",
    "the input."
   ]
  },
  {
   "cell_type": "markdown",
   "metadata": {
    "slideshow": {
     "slide_type": "slide"
    }
   },
   "source": [
    "### Converting SS to TF in Matlab\n",
    "\n",
    "We will do this in class\n",
    "\n",
    "Continuing example from [Section 7.1](../1/intro2ss):"
   ]
  },
  {
   "cell_type": "code",
   "execution_count": 23,
   "metadata": {
    "slideshow": {
     "slide_type": "fragment"
    }
   },
   "outputs": [],
   "source": [
    "clear all\n",
    "format compact\n",
    "imatlab_export_fig('print-svg')  % Static svg figures."
   ]
  },
  {
   "cell_type": "markdown",
   "metadata": {
    "slideshow": {
     "slide_type": "subslide"
    }
   },
   "source": [
    "Define some values for capacitance, inductance and resitance"
   ]
  },
  {
   "cell_type": "code",
   "execution_count": 24,
   "metadata": {
    "slideshow": {
     "slide_type": "fragment"
    }
   },
   "outputs": [],
   "source": [
    "Cap = 1; L = 1; R = 1;"
   ]
  },
  {
   "cell_type": "markdown",
   "metadata": {
    "slideshow": {
     "slide_type": "subslide"
    }
   },
   "source": [
    "#### Define state space model and label states inputs and outputs"
   ]
  },
  {
   "cell_type": "code",
   "execution_count": 25,
   "metadata": {},
   "outputs": [],
   "source": [
    "A = [0 -1/Cap; 1/L -R/L];\n",
    "B = [1/Cap; 0];\n",
    "C = [1 0; 0 1; 1 -R; 0 R; 0 -1];\n",
    "D = [0; 0; 0; 0; 1];\n",
    "circ_ss = ss(A, B, C, D, ...\n",
    "'statename',{'v31' 'i1'}, ...\n",
    "'inputname', 'u', ...\n",
    "'outputname', {'v31' 'i1' 'v32' 'v21' 'i2'});"
   ]
  },
  {
   "cell_type": "markdown",
   "metadata": {
    "slideshow": {
     "slide_type": "subslide"
    }
   },
   "source": [
    "#### Show model"
   ]
  },
  {
   "cell_type": "code",
   "execution_count": 26,
   "metadata": {
    "slideshow": {
     "slide_type": "notes"
    }
   },
   "outputs": [
    {
     "name": "stdout",
     "output_type": "stream",
     "text": [
      "\n",
      "circ_ss =\n",
      " \n",
      "  A = \n",
      "        v31   i1\n",
      "   v31    0   -1\n",
      "   i1     1   -1\n",
      " \n",
      "  B = \n",
      "        u\n",
      "   v31  1\n",
      "   i1   0\n",
      " \n",
      "  C = \n",
      "        v31   i1\n",
      "   v31    1    0\n",
      "   i1     0    1\n",
      "   v32    1   -1\n",
      "   v21    0    1\n",
      "   i2     0   -1\n",
      " \n",
      "  D = \n",
      "        u\n",
      "   v31  0\n",
      "   i1   0\n",
      "   v32  0\n",
      "   v21  0\n",
      "   i2   1\n",
      " \n",
      "Continuous-time state-space model.\n",
      "\n"
     ]
    }
   ],
   "source": [
    "circ_ss"
   ]
  },
  {
   "cell_type": "markdown",
   "metadata": {
    "slideshow": {
     "slide_type": "subslide"
    }
   },
   "source": [
    "#### Plot a step response"
   ]
  },
  {
   "cell_type": "code",
   "execution_count": 27,
   "metadata": {},
   "outputs": [
    {
     "data": {
      "image/svg+xml": [
       "<?xml version=\"1.0\"?>\n",
       "<!DOCTYPE svg PUBLIC '-//W3C//DTD SVG 1.0//EN'\n",
       "          'http://www.w3.org/TR/2001/REC-SVG-20010904/DTD/svg10.dtd'>\n",
       "<svg xmlns:xlink=\"http://www.w3.org/1999/xlink\" style=\"fill-opacity:1; color-rendering:auto; color-interpolation:auto; text-rendering:auto; stroke:black; stroke-linecap:square; stroke-miterlimit:10; shape-rendering:auto; stroke-opacity:1; fill:black; stroke-dasharray:none; font-weight:normal; stroke-width:1; font-family:'Dialog'; font-style:normal; stroke-linejoin:miter; font-size:12px; stroke-dashoffset:0; image-rendering:auto;\" width=\"560\" height=\"420\" xmlns=\"http://www.w3.org/2000/svg\"\n",
       "><!--Generated by the Batik Graphics2D SVG Generator--><defs id=\"genericDefs\"\n",
       "  /><g\n",
       "  ><defs id=\"defs1\"\n",
       "    ><clipPath clipPathUnits=\"userSpaceOnUse\" id=\"clipPath1\"\n",
       "      ><path d=\"M0 0 L560 0 L560 420 L0 420 L0 0 Z\"\n",
       "      /></clipPath\n",
       "      ><clipPath clipPathUnits=\"userSpaceOnUse\" id=\"clipPath2\"\n",
       "      ><path d=\"M0 0 L1119.9999 0 L1119.9999 839.9999 L0 839.9999 L0 0 Z\"\n",
       "      /></clipPath\n",
       "    ></defs\n",
       "    ><g style=\"fill:white; stroke:white;\"\n",
       "    ><rect x=\"0\" y=\"0\" width=\"560\" style=\"clip-path:url(#clipPath1); stroke:none;\" height=\"420\"\n",
       "    /></g\n",
       "    ><g transform=\"scale(0.5,0.5)\"\n",
       "    ><image x=\"0\" y=\"0\" width=\"1120\" xlink:href=\"data:image/png;base64,iVBORw0KGgoAAAANSUhEUgAABGAAAANICAIAAAAHNA4rAAB6qUlEQVR42uzdDXhV\n",
       "9Z0ncKxtbW1pt3Yex7HtlO3MOB3bnU51ZrZ9trOP3Xa23Wk79mXsPPSV2XFNSAgi\n",
       "GhQqEnlZgqAMDDS8yKAVeVFRClVBoREKKkEoCgYSwqsSYyGJYYmBBNL9w9HT25uQ\n",
       "3EBIbu79fJ7z9Ln533MPJ7+c/+35+j/nf/r9FgAAgNP6KQEAAICABAAAICABAAAI\n",
       "SAAAAAISAACAgAQAACAgAQAACEgAAAACEgAAgIAEAAAgIAEAAAhIAAAAAhIAAICA\n",
       "BAAAICABAAAISAAAAAISAACAgAQAACAgAQAACEgAAAACEgAAgIAEAAAgIAEAAAhI\n",
       "AAAAAhIAAICABAAAICABAAAISAAAAAISAACAgAQAACAgAQAACEgAAAACEgAAgIAE\n",
       "AAAgIAEAAAhIAAAAAhIAAAACEgAAgIAEAAAgIAEAAAhIAAAAAhIAAICABAAAICAB\n",
       "AAAISAAAAAISAACAgAQAACAgAQAACEgAdKPjx4+Xl5f/4he/eOKJJ7Zv397Y2Kgm\n",
       "AAhIAGSdhoaGoqKiD3/4w/0SXHzxxXl5eXv27IlXa21tbXxbT+7e4MGD33sGH/nI\n",
       "R7761a8+9thj/ogACEgAdIOQdj7/+c/3O4PLLrts79690ZoHDx6M20tLS3tsD//1\n",
       "X/+1X2eGDx/uTwmAgATAuRo6dGgcM/7oj/5o4MCB3/zmNz/4wQ/GjVdddVXbgLRq\n",
       "1areCkjvPu2d73xnUkZ65pln/DUBEJAAOCd//ud/HgWMT33qU0ePHo0ajxw5cvXV\n",
       "V8fZ49ChQ2kSkKqrq6PGEydObNiw4Stf+Ur81s033+yvCYCABMDZa2xsjAPG9773\n",
       "vcS3fvazn73rbaWlpTk5Oddee2288jXXXPOjH/1oyZIl8fpbt27Ny8v73Oc+94d/\n",
       "+Idf/vKXR48evW/fvvjdIUOG/Oi0l19+eebMmX//939/2WWX/bf/9t9CqklcLfWA\n",
       "FFm/fn381je/+c3Etzren2Dt2rWDBg369Kc/femll37sYx8La44fP/71118/u30O\n",
       "LcOGDfviF78Y1vkv/+W/fP/731+8eHHSOvEGy8vLH3300bDDl19++R//8R9/+9vf\n",
       "3rZtW5f2LcXfEQABCYCu+ehHPxoFjAsuuCA3N/fZZ589efJk29XCu23v/Lnxxhuj\n",
       "d4uLi9/97ncnvRtO7p977rlohfiavc9+9rNtVwv/6NkFpLKysvitMWPGxO2d7s+8\n",
       "efPe8Y53tP2NBgwYEN9zlfo+h629//3vb7u1r33ta7W1tfFq8Qa//vWvJ9Xzve99\n",
       "7+bNm1Pft1R+RwAEJAC6LISipJPsSy655Fvf+taMGTN2794dr/a//tf/+uIXvxiv\n",
       "89d//ddf/epXZ82aFd565JFH4vY//uM/vuqqq+If3/e+9/3mN79JzAZBOPv/q7/6\n",
       "qz/7sz+LWz7ykY8cP368qwFp//79//zP/xy/tWbNmqi90/1pbW390Ic+FLV87nOf\n",
       "mzx58g033BDeilp+/OMfJ+WZjvf5hRdeuPDCC6PG97znPWGD4a14tXhrSRsM+vfv\n",
       "n/jjwIEDf3t6qsBU9i2VmgMgIAHQZW+++eYXvvCFdqeGC6ngn/7pn+Iru9q9B6mp\n",
       "qenyyy+PGvPz86PRp6qqqvgsf/To0YnZ4N3vfvfTTz8dffbuu++ONzh79uxUAtKA\n",
       "AQP+9LSPf/zjibv6j//4jydOnEhxf15++eX4g/FVghMnTux/2l/8xV8k5ZmO9znE\n",
       "mDioxCM8N954Y7xa22G0iy++ePHixc3NzS+++GL8i3ziE58I66SybynWHAABCYCz\n",
       "Ec6w58+f/7d/+7ftXkf36U9/uoNJGjZu3BhfoVdWVlb+tm9+85txbEjMBkl3Ol15\n",
       "5ZVR+3XXXZdKQGrXZz7zmYaGhtT3p7q6Ov7sRRdd9OMf//hnP/tZCBhJ/24q+xzi\n",
       "ZXw5XElJSbxOyDBxXAnxJmmDP/zhD+M1/+Vf/iVOTeHHVPYtxZoDICABcE5CBAqn\n",
       "4z/4wQ8uueSSxARSXFx8poB07733dpxe3vWudyVmg5/+9KeJ/2J+fn7UfvXVV6cS\n",
       "kC6//PI/OS1pD6+55pou7U/IPO3e5DNu3Lj4Mbip7PPmzZvjj2/fvj1xtb//+7+P\n",
       "2kM9kzY4duzYeLXp06dHjRdeeGHU0um+pfg7AiAgAdA1IedMPG3y5MnNzc1xe3g9\n",
       "fvz4+IQ7nOufKSBNmTKl06e41tXVxdngP/7jPxJ3oLCwMGoPmSeVgBTfg3Ty5MkN\n",
       "GzbEgzlB+DH1/WlpaQl78oUvfKHt85S+9KUvtba2JuaZDvb5V7/6VfzBioqKxNX+\n",
       "8R//Mb78LykgTZ06NV5t7ty5SQGp031L8Xd0eAMISAB0TeKp9saNG5Pe/c//+T/H\n",
       "j0g6U0B6/PHH48u9Xnvttdr2hHP6OBuMHDky8Z/49re/HZ/6dykgRRLHUu65557U\n",
       "9yfeQkNDw89//vMhQ4b8p//0n+JNvfzyy4l5poN9rqmpiT/15JNPJq72F3/xF1H7\n",
       "rbfe2qWA1Om+dfV3BEBAAiAl69ati8+8/+t//a+Jc1Jv2rTpXe96V+I9M4kBaf78\n",
       "+dFqBw4ciO9cWrRoUfzxhx566POn/ehHP0rMBh/96Efr6+ujdfbu3XvRRRdF7SEG\n",
       "nEVAqquri98qLCxMcX9mz579/tP++q//Ol4hcSyotLQ09X2+9NJLox+/8Y1vxLFk\n",
       "9erV8dYefPDB1ANSKvuWYs0BEJAA6JqmpqbEq9Te9773XXvttf/n//yfL3/5y3E6\n",
       "CpYvXx5WDvEpbrnsssviZ6EOGjQonu3t61//+vTp00Okec973pN4A0/iDNef+tSn\n",
       "Jk+ePHHixI997GPxdHk7duw4i4AUXHzxxdFbYbejlk73J3GmuJtuuilknj179vz4\n",
       "xz+OWt75zncePXo09X3+93//98QHH82aNesnP/lJ/FikT37yk/EM5qkEpBT3LZWa\n",
       "AyAgAdBl4RQ8HgNp1/Dhw+OV44vuEh8Ue+jQoaT2xLkTjh07lpgN2n0E6rBhwzrY\n",
       "w44D0qc//emki/RS2Z/rrrvuTL9vQUFBUp7peJ9PnjwZ8mS7mwoxaf369fGupniJ\n",
       "XSr7lsrvCICABMDZCKljxIgRH/jAB5JOtf/qr/7q0UcfTbybZePGjZ/97GeTAlLw\n",
       "//7f/xs8eHD8PNPoKajh3bYzwk2YMOG73/1u/GTVSy65ZPLkyR3vXuKjbNs+AvVH\n",
       "P/pRPCl2fCFcp/vT0tJy++23X3bZZYm/b/hxzJgx8e+b+j6HjBQyzx/8wR8kziP3\n",
       "9a9/fd++fYmrtRuQ5s+f33aShk73LZXfEQABCYCzd+zYsYqKilWrVi1duvSFF17o\n",
       "YBq0N998M2SqmpqacCqflBN27dr19NNPb9u2LazTQTYIJ/fr1q0L/9x5nUugg/2J\n",
       "o0hlZeUzp4WdiR41ey77HMryy1/+MvxziVMCnp2O9y313xEAAQmAtNPu4Il9BkBA\n",
       "AkBAss8ACEgAZLEPf/jD7zxt2rRp9hkAAQkAAEBAAgAAEJAAAAAEJAAAAAEJAABA\n",
       "QAIAABCQAAAABCQAAAABCQAAQEACAAAQkAAAAAQkAOhh5eXly87g5z//+cmTJ5UI\n",
       "AAEJgGzx0EMP3XBmTU1NSgSAgARAdgWke+65Z0t7jCABICABkHUBadGiRUoBgIAE\n",
       "gIDUSUBatmzZY489Fl5s37594cKF999/f/zWpk2bFixYMGnSpJkzZ65YsaKuri5+\n",
       "a+XKlYsXLz558mRpaens2bPvuuuu8A/V1taGt8rKyv7jP/7j//7f/1tSUrJ58+b4\n",
       "Izt27Ai7ET51pj154oknwgpJV/2FzT788MP+jgACEgD0REAaMWLEsGHDNm7cGN2V\n",
       "VFxcHBqPHTsWQlHUkpubG70Iq23bti361JgxY0LLT3/608QVxo4dG/6h6HVOTk70\n",
       "Yt26ddFHVq1aFbWcaU+ibTY0NCQ25uXlFRQU+DsCCEgA0G0BaerUqc+2EY3VhIAU\n",
       "VsjPz7/jjjt++ctf7t69OzQ++uijofGWW2558cUXT5w4UV9fP2/evCgjHT16NA4z\n",
       "Ibps2rSpubn50KFDt912W5R/Fi5cePDgwZaWlgcffDD8OGnSpGhPQlIK6/zkJz8R\n",
       "kAAEJADozYDUrpBq4oA0YcKEkHOijzQ2Noa8FBp37NiRuKni4uLQuGzZsjjMhEAV\n",
       "v/vYY4+FlltvvbW1tTVqqaurCy1h+ynuqoAEICABQE8EpEmTJq1qIwShOCAl3ixU\n",
       "VVUVWu64446kTT3//POhffr06XGYOXz4cPzu6tWrQ0v45+KWkLgEJAAEJADSLiB1\n",
       "fA9SWOE3v/lN3BLdjxQFoUS7d+8O7aNHj243zEQBacWKFQISAAISAH07IB07dixu\n",
       "eemllxLvHYpt27YtnsWhZwJSS0tLTk6OgAQgIAFAjwak+Aak4PXXX48mYIjmY4g9\n",
       "/PDDoX3+/PnnKSCNHTs2rP/aa6/FLfv374/2xN8RQEACgN4JSMGkSZNC49y5c1ta\n",
       "WqKWqqqqvLy80FhRUXF2AenAgQNPnXamPZk2bVriFsLH/+3f/k1AAhCQAKCXA9Le\n",
       "vXuHDBkS3XG0cOHCkpKS6GFH9957b7TCWQSkTp+D9Mwzz0QPULr77rsXLFhw++23\n",
       "h2jkHiQAAQkAujkgLVmy5Ewr3HbbbSGTxCNFsddee23y5MmDBw+OUs0tt9yycuXK\n",
       "eArvKCAdOXIkKSA9/vjjHQekELTOtCdhH0IYi58wO2rUqMrKypEjRw4dOtTfEUBA\n",
       "AoDeF0LLK6+88sYbb/TYv9jU1LRv376kuewAEJAAAAAEJAAAAAEJAABAQAIAABCQ\n",
       "AAAABCSgd80vq46WopV7wqIgAAACEufRDfSqq4dMD8sVBfdefuOi/sOW9xu+Jizh\n",
       "RVhCS2iPl2jNtku8Qlg/Ws60nbDyNfkT1RwAsoQTXQGJswxIitBjdS5auWfQovJr\n",
       "Zm4J6WXA+A3hRTQuNL+surSqfm9t0/n4p8OW4zGo6F8P/3S8A6ElLNEOOKRRZ6VW\n",
       "Z5RaqRGQdB6d53wJkSNkkigO9R+2PIpDaRhFwi4lxrawRJGpj6Ymh7Q6KzXqrNQo\n",
       "tYCEzpMu9tY2xaEoSkRRxuhDdQ6/QhSZ4uGmODKdv2Euh7SvDpRanZUapRaQ0Hky\n",
       "KhSFJRqBiUNRxtQ5jkxxXoquzUvPISaHtDorNeqs1Ci1gITO02u5KMoMnU4xl0l1\n",
       "Dr94dF9Tu0NMDmlfHSi1OqPUSi0gofNklxADQh4402BRFta57RBTL+Ylh7Q6KzXq\n",
       "rNQotYCEztNDMSC6ji7EgHD2r84d6MW85JD21aHUqLNSo9QCEjrP+RVyUXSi71Gt\n",
       "556XovuX1AQAnOMJSOg8fUw8ZCQXdWNJ4/uXojktosEllQEA53gCEjpPukcjQ0Y9\n",
       "UOe0newBAJzjCUjoPPwuGilFz1c+KS/Fk4krDgA4xxOQ0Hl6LRoZNUqTP0e7F+MZ\n",
       "XAIA53gCEjrPeT8Xj6ftVo20/RvFg0vyEgA4xxOQ0HnO12m3UaM+ys1LAOAcT0BC\n",
       "5+lOZqjLMEl5SUEAcI6HgITOk5K9tU3RHADhhWMg8/64Z5ocT3EAcI6HgJSNampq\n",
       "nnnmmaNHj+o87Z49m6Qum/OShy8BICAhIGWdOXPmhC6xa9cunSdJaVW9a+poO75k\n",
       "PnEABCQEpMzU1NS0fPnyG04TkJLOiaOzYdfU0fbYiOcTj4eYosikOAAISAISfdW2\n",
       "bdvuvPPO/Pz8G94mIMXCua956hCZABCQEJB6Tn19/caUHT9+/HwEpDveNnjwYAEp\n",
       "PtMN57VhcYjSjZEpujAvupcpnl7c4CQAApKAxO+89NJLN6Ssrq7uvO7MjBkzBKTf\n",
       "uuOI8y9Eo7apKb6jyU1NAAhIAlL2Onr06IoVKwoKCsKxmJubu7BDjY2N6ROQ+p/W\n",
       "NsUNOK3t+n2mfeAd/a5/sO1jQ/v876U9vdsTx5rC0u+6e8JxmBicQmI/dc3nF64N\n",
       "i7pp7672cFydmp9z4B1hiY69eDmV3gsfDUs0nJ4Y5hOXfsPXtLv83jrXPxgfz9Eh\n",
       "HS2njvPr7ol//L32r4xI2p9T/eIrI1Jsj36vfp//cVii14lLd7af23520N5JfVJu\n",
       "b1v/M/1dztR+pj9xV5d2j5/zsvz+cfu7Umhv0375jYvipf//nhuW6LWAJCClha1b\n",
       "t4ZjMcSk3t2NLB9Bii6rM3BEegpHZnTOFN/dFGen6HRQifq6aPAwLImn4ElnzO1m\n",
       "lQ7OQRM/knT+3fZ03+glkKnneAJSXzVq1CgBqReVVtWHk4m2A0eQtnk+HnSKTqnj\n",
       "E+jojDnpyr14DCpawgcd7eceZtpNMu3GmDNlmHbTS7xNdQYEJAEpq4VwIiD1lnAi\n",
       "Yj4GMl7bk/j4xL2D8/W+OLzQ7lDMOY7GtDsUk7hxBxggICEgdbODBw9WVFQISD3M\n",
       "ZXXQcdLoNF20e2tKd9200PGtC22vrT/TVWT+lAACkoCEgNQ5l9UBAAhIAlKfcfTo\n",
       "0U2bNr3wwguHDx8WkLrdqYmbxm9wmAEACEgCUtopLy+fN2/ehAkTFi5c+Morr4SW\n",
       "xYsX5+TkxHNnh/aWlhYBqbtE1wg58AAABCQBKe0899xziVnopptuWrt2bXiRl5c3\n",
       "derUe+65Z/DgweHHZcuWne89KSkpyfiAFN10FAKSAw8AQEASkNLOiRMnRowYEQ7E\n",
       "6dOnb9q0afny5bm5ueHH/Pz8ffv2RetUVlaGjFRQUHDs2DGd5xzTUb/ha9yxDQAg\n",
       "IAlIaaq6ujochXfeeWfcsnTp0tCyYMGCxNXuv//+0BhHJp3nLJRW1Yd0ZEoGAAAB\n",
       "SUBKX+Xl5eEofOSRR+KWnTt3hpbVq1cnrhZ+DI2//vWvdZ6zTkcmrAMAEJAEpHRX\n",
       "U1MTjsKSkpK4pb6+ft68edu2bUtcbdGiRWG1vXv36jxnYX5ZdUhHe2ubHG8AAAKS\n",
       "gJTWWltbhw8fHg7EVatWtTtPXVjh5Zdfzs/Pz8vLa2pq0nm6yoR1AAACkoDUl2zZ\n",
       "siWavy6koNLS0sS3tm7detttt0XvPvbYYzpPV4VoJB0BAAhIAlIfU1lZOWXKlIKC\n",
       "gqS5vFesWBGO0ZycnCVLljQ3N+s8XU1HpvMGABCQBKS+qrW1NWki7/3797/00kt1\n",
       "dXU6j3QEAOAcT0DKLr/85S9nzpy5ZcuWdm9G0nm6lI487AgAQEASkPq2VatWRbcb\n",
       "DRs2bMGCBbt379Z5umpvbVNIR/PLqh1OAAACkoDUt7355pvPPvvsjBkz8vLyoqR0\n",
       "++23r1ix4tChQzpPiqQjAAABSUDKNE1NTRs3biwpKcnPz4+S0l133bVu3boTJ07o\n",
       "PGdi7AgAQEASkDLcsWPHXnjhhcmTJ0cxKa1ma0irziMdAQAISAJShmtoaCgtLZ0y\n",
       "ZUpOTk402Xd9fb3OIx0BAAhIAlIWOXLkyNq1a+++++7c3Nxo4Gj06NFPPPFEuk32\n",
       "nSadRzoCABCQBKTMtHv37qlTp8a5KM3nskuHziMdAQAISAJSxoqm+Q4Bafr06Zs2\n",
       "bUrzpyGlQ+eRjgAABCQBKWNt2bLlqaeeamho0HlSTEeeBgsAICAJSOg8p9LRoEXl\n",
       "/goAAAKSgES2d56QjsLiTwAAICAJSGR755GOAAAEJAEJneeUQYvKpSMAAAFJQELn\n",
       "+W3Ryj3SEQCAgCQgofP8trSqfsD4DcoOACAgCUh0WWNjY0VFxfr168vLy48cOdLp\n",
       "+ocPHz7YRscf7MnOE6WjvbVN/rIAAAKSgJQtmpqa6urq3njjjaT25ubmutNOnjyZ\n",
       "ynY2bNgwdOjQG96Wl5f35JNPdvyRMWPG3NDGsmXL0qHzhFzUb/iakJEcIQAAApKA\n",
       "lEVWrVoVJZOk9hdeeCFqDxmp041UVlbm5OSElefMmbN27doHHngg+nHjxo1n+kgI\n",
       "YLm5uSNGjFjy+7Zt29brnUc6AgAQkAQkAensA9K0adPCmgsXLoxbVq5cGVrGjBlz\n",
       "po/s378/rHDfffelYee5ZuYW6QgAQEASkLJRTU3NptOS2kMuitqPHz/e8RZaWlry\n",
       "8vLCYV1bWxs3Njc35+fnh8bDhw+3+6lnn302vLt69ep06zwhHc0vq3ZgAAAISAIS\n",
       "ZxmxwjFdWFiY1F5cXBzay8vL2/3UQw89FN7dsmXLunXrHnnkkZCU9uzZ0+udJ6Sj\n",
       "QYvK/U0BAAQkASmr1dfXP/jgg+PGjSsoKLj55psnT54cEsuJEydS+WxlZWU4pidM\n",
       "mJDUXlJSEtqff/75dj81derUaC6HxBka7r333paWlt7qPB55BAAgIAlI/Hb79u1D\n",
       "hgxpO6HcmDFjGhsbO/34zp07w8rFxcVJ7fPmzQvt69evb/dTIYaFdydNmhQSVEVF\n",
       "xbJly6Kw1Oksdu069yJ45BEAQA8EofN3Oicg0T0aGhqirDJ16tSXX365rq7utdde\n",
       "27Bhw2233RbNStfpFnbs2NFuQAqfPVNAOnny5FNPPfX0008njheVlZVFY0odTCx+\n",
       "njqPRx4BAPRucFIEASldrFu3LhyRs2bNajc45eTkNDV1Eht27doVtjB27Nik9hkz\n",
       "ZnQ803dbI0aMCB+prq7uyc5jUm8AAAFJQOItCxYsCEfkgQMH2r61dOnS8FbIPx1v\n",
       "4dChQ2G1IUOGtLa2JraPHj06tFdUVLT9SFgz5K62txuNGzeug3kdzlPnMak3AICA\n",
       "JCDxluhOoddff73tW48//nh4a/v27R1v4eTJk0OHDg1r7tu3L25saGjIzc3NyckJ\n",
       "L9p+ZPPmzWH92bNnJzY2NzcXFBR0MDP4+eg8IR0VrdzjMAAAEJAEJE6JHhQbslDb\n",
       "2DNhwoTw1htvvNHpRkLUCWtOmTIlHkSKctfEiROjHw8cOPDUadGPIQKFdwcPHlxZ\n",
       "WRm1hA8uXrw4NBYVFfVY5wnpyLR1AAACkoDE77zyyiu5ubkhqyROmVBfXz9r1qxw\n",
       "pN55552pbKSmpiZ6LGxhYeHcuXNHjRoVXufk5MTX10UxLPHQX7RoUfgx/NMlJSVL\n",
       "liyJwlheXl5VVVXPdJ75ZdXSEQCAgCQgkewXv/hFlF5CyCkqKgrxJmSb6MdXX301\n",
       "xY2EYBM+G0/UOHLkyK1bt8bvRgEpxKG45cSJE0888cSwYcOi9cNbkyZNCmmtZzqP\n",
       "aesAAAQkAYn2tba2lpWVhUiTOBX9tGnTDh48mJGdx7R1AAACkoBE5xoaGqqqqvbv\n",
       "33/s2LEM7jymrQMAEJAEJH6noqJi5syZL774YhZ2HtPWAQAISAISvyd6OOzq1auz\n",
       "MyA5AAAABCQBiWwPSNHEDP76AAACkoBEtgckEzMAAAhIAhIC0ltMzAAAICAJSHQU\n",
       "kPLz84eloL6+vq93HhMzAAAISAISnQSkFNXV1fXpzhOikYkZAAAEJAGJTgLSww8/\n",
       "vC8FJ06c6Ludx8QMAAACkoBESgEpG+5BMjEDAICAJCAhIJ1iYgYAAAFJQEJAeisd\n",
       "DVpU7m8NACAgCUh0YsOGDUOGDCktLc3UzmNiBgAAAUlAQuc5pbSqvt/wNXtrm5QL\n",
       "AEBAEpDI6s4TcpGJGQAABCQBCZ3nFM+EBQAQkAQkdJ5T3HoEACAgCUjoPKd4JiwA\n",
       "gIAkIKHznOLWIwAAAUlAQud5i2fCAgAISAISOs9b6citRwAAApKAhM7j1iMAAAFJ\n",
       "QELneTsdufUIAEBAEpDQeU5x65EvKaVGnZVanVFqpRaQyBCNjY0VFRXr168vLy8/\n",
       "cuRIVzuPZ8L6klJq1Fmp1RmlVmoEpAyxYcOGoUOH3vC2vLy8J598MvXO45mwvqSU\n",
       "GnVWanVGqZUaASlDVFZW5uTkhJ4wZ86ctWvXPvDAA9GPGzduTKXzRLce7a1tUklf\n",
       "UkqNOiu1OqPUSi0g0edNmzYtdIOFCxfGLStXrgwtY8aMSaXzDBi/wa1HvqSUGnVW\n",
       "anVGqZUaASkTtLS05OXlhW5QW1sbNzY3N+fn54fGw4cPd9x53HrkS0qpUWelVmdF\n",
       "UGqlRkDKHDU1NaEPFBYWJrUXFxeH9vLy8g4+e/WQ6W498iWl1KizUquzIii1UiMg\n",
       "ZY7KysrQByZMmJDUXlJSEtqff/75M32wtKq+/7DlCuhLSqlRZ6VWZ0VQaqVGQMoc\n",
       "O3fuDH2guLg4qX3evHmhff369R13HgAAMo+TZAEpe+3YsaPdgDRnzpxOAxIAACAg\n",
       "ZZRdu3aFIDR27Nik9hkzZqQy0zcAACAgZY5Dhw6FIDRkyJDW1tbE9tGjR4f2iooK\n",
       "JQIAAAEpW5w8eXLo0KEhC+3bty9ubGhoyM3NzcnJCS+UCAAABKQsMnv27BCQpkyZ\n",
       "Eg8iRTM0TJw4UXEAAEBAyi41NTXRY2ELCwvnzp07atSo8DonJ8f1dQAAICBlo6qq\n",
       "qqKionhix5EjR27dulVZAABAQAIAABCQAAAABCQAAAABCQAAQEACAAAQkAAAAAQk\n",
       "AAAAAQkAAEBAAgAAEJAAAAAEJAAAAAEJAABAQAIAABCQAAAABCQAAAABCQAAQEAC\n",
       "AAAQkAAAAAQkAAAAAQkAAEBAAgAAEJAAAAAEJAAAAAEJ4FzML6sOS9HKPfGiJgCA\n",
       "gETvuwHO2cDcm74x+PZr8idePWR6WC6/cVFY+g9b3m/4mrCEF9EStV9RcG+8ROt3\n",
       "sCSuHJZoC9HG291+vNmwM/4uAGQ5J7oCEmcZkBRBnbuqaOWeQYvKr5m5JeSTAeM3\n",
       "hCW8Di3RWFBpVX3P79Le2qbw784vqw7RKNq9aA/DEnYvaT/DEtZ0WDqklRp1Vmql\n",
       "RkBC51HnrqWO6EK4xCwUBaHQ3itB6KxLHX6XOESFJU5QifEpzk5p+9s5pJUadVZq\n",
       "lFpAQudR556WmIhCYMieUrfNTknjY45kXx1Krc4otVILSOg8ZHid99Y2RZfGxYmo\n",
       "ty6TS8NSJ447xRcWtg1O0YhTWNMhjVKrM0qt1AISOg99r85JoSiT5pHryVJ3HJwy\n",
       "+zo9Xx1Krc4otVILSOg89Pk6R7koOpXP1Mm1e7fUiSNO8SwRUQpNnB8iA4abfHUo\n",
       "tTqj1EotIKHz0FfrHE7HEweLlLoXxcGp7XBT3xpx8tWh1OqMUiu1gESfUVNT88wz\n",
       "zxw9elTnyXLReFHIReEU3AQDaSsebkqaOd105AAISAIS3WPOnDmhS+zatUvnyfJc\n",
       "lA3jRZn6F4wmWO84OGXhzBAACEgCEl3T1NS0fPny6NnJApJcREYyFzkAzvEEJDq3\n",
       "bdu2O++8Mz8//4a3CUhZdcYczozlomzOxm3nIk8cdEqcH8I1ewACEgJStgSkO942\n",
       "ePBgASlLToujISN3qtCxKDsljTslxafoaU6ZPTU5gICEgJSlZsyYISBlQzQyZER3\n",
       "iYee2sanxAEoIQpAQBKQyPCANGDAgP79+9/QRmgMb7W7vvZebh94R3TOmhiN1Ef7\n",
       "+W6PclEUovp9ZUS/6+6JjsPEYagBhY8OyPlpnKPUTXvb9lP/ZSd8iQ28I3oOW7yc\n",
       "ukg456fR8RMv0ZWip46rwkej1/ESp/e2SzgmU1l+t/71D4alne38fnv8T4eDPyxJ\n",
       "+3Pu7fFvfap/fWVEYh1SbO/e/enG9i7V+ZzaU/vT98zSwSF6Ppb+w5a3uwhIAhJn\n",
       "E5D814U+JB4yMmsZaai0qj6+kC8ejPrdOW7CmWvSGWe8ZnyuHG3EVaPnKPpDtF2S\n",
       "Tq/bnuB2mjfaPT9ru522p/KJf+VMfVA1pBXneAISAlJmim80Eo3Ihv8K0DZcJZ21\n",
       "d3ym3vY0/Uxn6mda2g0V7UaLVJZ296eDMZAu/afoTn9NUQQEJEUQkBCQMjAaudEI\n",
       "ABCQBCQEpGwnGgEAApKAhIDEb+ML6pQCABCQBCQEJNFINAIABCQBCQEpi5VW1Ue3\n",
       "XCsFACAgCUh0s5KSEgGpr9hb2xTNZ+XJmwCAgCQgofNkdTQ69WzE8Rs87wUAcI4n\n",
       "IKHzZLVokjp1AACc4wlI6DxZLbrdaNCicqUAAJzjCUjoPNnL7UYAgHM8AQmdh1M8\n",
       "+BUAcI4nIKHz8NbAkSm8AQDneAISOk+2iwaOXFMHADjHE5CyS319/caUHT9+XOfJ\n",
       "eCEU9Ru+xjV1AIBzPAEpG7300ks3pKyurk7nyWB7a5vM4g0AOMcTkLLa0aNHV6xY\n",
       "UVBQEI7F3NzchR1qbGzUeTKVgSMAwDmegMRbtm7dGo7FEJN0nuzkjiMAwDmegMTv\n",
       "GTVqlICUhaLHvxo4AgCc4wlI/J4ZM2YISNnGwBEA4BxPQKJ9Bw8erKio0HmyRPSM\n",
       "IwNHAIBzPAEJnSfbGTgCAJzjCUjoPLw1cBQWpQAAnOMJSLTj8OHDW7duLS8vD69f\n",
       "f/31rR1qbm7WefouE3kDAAKSgEQn1q1bF47Cm2++ObxetWqVB8VmKpfVAQACkoBE\n",
       "53bv3n3fffctXrw4vC4vL7+vQ0ePHtV5+qJrZm4ZtKhcHQAAAUlAQufJatFjjgwc\n",
       "AQDO8QQkdJ5sF11Wt7e2SSkAAOd4AhI6T/bymCMAwDmegITOwykuqwMAnOMJSOg8\n",
       "nOKyOgDAOZ6AhM7DW5fVma0OAHCOJyCh82S76CGw88uqlQIAcI4nINE9mpqa6urq\n",
       "3njjjaT25ubmutNOnjyp86QhD4EFAAQkBKTut2rVqhtOS2p/4YUXovaQkXSedHPN\n",
       "zC1hUQcAQEBCQBKQslp005HjFgAQkBCQzouamppNpyW1h1wUtR8/fjzFTTU2NlZU\n",
       "VKxfv768vPzIkSOdrn/48OGDbXT8wSzvPObyBgAEJASkvmHDhg1Dhw694W15eXlP\n",
       "Pvlkxx8ZM2bMDW0sW7ZM52mXubwBAAEJAalvqKyszMnJCUf2nDlz1q5d+8ADD0Q/\n",
       "bty48UwfaW5uzs3NHTFixJLft23bNp2nLTcdAQACEgJSz6mvr3/wwQfHjRtXUFBw\n",
       "8803T548efXq1SdOnEjx49OmTQuH9cKFC+OWlStXhpYxY8ac6SP79+8PK9x33306\n",
       "T8eim46KVu5xlAIAAhICUk/Yvn37kCFD2l7tFuJNY2Njpx9vaWnJy8sL69fW1saN\n",
       "zc3N+fn5ofHw4cPtfurZZ58N74YYpvN0wE1HAICAhIDUoxoaGm6++eZwUE6dOvXl\n",
       "l1+uq6t77bXXNmzYcNttt0WXzHW6hZqamrBmYWFhUntxcXFoLy8vb/dTDz30UHh3\n",
       "y5Yt69ate+SRR0JS2rNnj86TyE1HAICAhIDU00I+CUfkrFmz2g1OOTk5TU2dnKBX\n",
       "VlaGLUyYMCGpvaSkJLQ///zz7X4q5LFoLofEMat77723paVF5/mtm44AAAEJAalX\n",
       "LFiwIByRBw4caPvW0qVLw1u7du3qeAs7d+4MqxUXFye1z5s3L7SvX7++3U9Fw1aT\n",
       "Jk0KCaqiomLZsmVRWOp0Frt2ZdJfxE1HAEAGB6FsOJ0TkPq2KMa8/vrrbd96/PHH\n",
       "w1vbt2/veAs7duxoNyDNmTPnTAHp5MmTTz311NNPP504XlRWVhaNKYV3s/a/LkQ3\n",
       "HTksAYBsC06KICCli1WrVoUjMmShthlmwoQJ4a033nij4y3s2rUrrDZ27Nik9hkz\n",
       "ZnQ803dbI0aMCB+prq7Ozs4zv6zaTUcAgICEgNSbXnnlldzc3MGDByeO59TX18+a\n",
       "NSscqXfeeWenWzh06FBYc8iQIa2trYnto0ePDu0VFRVtPxLWbGpqanu70bhx4zqY\n",
       "1yGzO8+gReVuOgIABCQEpN73i1/8Irr0Mz8/v6ioaNSoUdFjXsOPr776aqcfP3ny\n",
       "5NChQ8P6+/btixsbGhpC7grbCS/afmTz5s1h/dmzZyc2Njc3FxQUdDAzeKZ2Hjcd\n",
       "AQACkiIISGmktbW1rKxs5MiRiffJTZs27eDBgyluIUSd8JEpU6bEg0jRrU0TJ06M\n",
       "fjxw4MBTp0U/hggU3h08eHBlZWW8D4sXLw6NIaFlVecprarvN3yNJx0BAAISAlKv\n",
       "qaiomDlz5osvvpjU3tDQUFVVtX///mPHjnVpgzU1NdFjYQsLC+fOnTtq1KjwOicn\n",
       "J76+LrrTKfHQX7RoUfgxNze3pKRkyZIl0f1OeXl5YQeyp/NENx1JRwCAgKQIAlJv\n",
       "ip59tHr16m7cZgg2RUVF8QDUyJEjt27dGr8bBaQQh+KWEydOPPHEE8OGDYvWD29N\n",
       "mjTplVdeyZ7OU7Ryj5uOAAAEJAEpMwOSzpM6Nx0BAAhIApKApPO8lY7cdAQAICAJ\n",
       "SAKSzvPWTUeOQAAAAUlASruAlJ+fPywF9fX1Ok+3cNMRAICAJCClb0BKUV1dnc5z\n",
       "jtx0BAAgIAlI6R6QHn744X0pOHHihM5zjunITUcAAAKSgJTuAck9SD3ATUcAAAKS\n",
       "gCQg6TynDFpU7qYjAAABSUASkLK987jpCABAQBKQ+owNGzYMGTKktLRU5zkfSqvq\n",
       "3XQEACAgCUjoPKfm8h4wfsPe2iZ/LAAAAUlAIns7T3RZ3aBF5f5MAAACkoBEVnee\n",
       "6LK6+WXV/kYAAAKSgERWd57osjo3HQEACEgCElndeaLL6szlDQAgIAlIZHvniS6r\n",
       "80cBABCQBCSyvfO4rA4AQEASkNB5zFYHACAgCUjoPKfNL6s2cAQAICAJSGR75zEf\n",
       "AwCAgCQgofOcEs3HULRyjz8BAICAJCCR1Z3nmplbBozfsLe2Sf0BAAQkAYns7Tzz\n",
       "y6oNHAEACEgCEtneeeI7jgwcAQAISAISWd15omccGTgCABCQBCSyuvOUVtWHaOQZ\n",
       "RwAAApKARFZ3nuiaupCOFBkAQEASkMjezhOikWvqAAAEJAEJnefU7UbmqQMAEJAE\n",
       "JLK988TRyDx1vqSUWp1RanVGqZVaQKL3NTY2VlRUrF+/vry8/MiRIz3TeaIL6owa\n",
       "+ZJSanVGqdUZpVZqAYk0smHDhqFDh97wtry8vCeffPK8dh73GvmSUmp1RqnVGaVW\n",
       "agGJdFRZWZmTkxN6wpw5c9auXfvAAw9EP27cuPF8dJ6QiKIZ6kQjX1JKrc4otTqj\n",
       "1EotIJF2pk2bFrrBwoUL45aVK1eGljFjxnRj50m8mq60ql7ZfUkptTqj1OqMUiu1\n",
       "gETaaWlpycvLC92gtrY2bmxubs7Pzw+Nhw8fPpfOE4WiKBcZMvIlpdSos1KrM0qt\n",
       "1AIS6a6mpib0gcLCwqT24uLi0F5eXt6lzhMSURyK4uvo5CJfUkqNOiu1OqPUSi0g\n",
       "0TdUVlaGPjBhwoSk9pKSktD+/PPPd/DZq4dMH7SoPCwhC4UlGiaKQ5Hr6HxJKTXq\n",
       "rNTqjFIrtYBEH7Nz587QB4qLi5Pa582bF9rXr1/fcecBACDzOEkWkLLXjh072g1I\n",
       "c+bM6TQgAQAAAlJG2bVrVwhCY8eOTWqfMWNGKjN9AwAAAlLmOHToUAhCQ4YMaW1t\n",
       "TWwfPXp0aK+oqFAiAAAQkLLFyZMnhw4dGrLQvn374saGhobc3NycnJzwQokAAEBA\n",
       "yiKzZ88OAWnKlCnxIFI0Q8PEiRMVBwAABKTsUlNTEz0WtrCwcO7cuaNGjQqvc3Jy\n",
       "XF8HAAACUjaqqqoqKiqKJ3YcOXLk1q1blQUAAAQkAAAAAQkAAEBAAgAAEJAAAAAE\n",
       "JAAAAAEJAABAQAIAABCQAAAABCQAAAABCQAAQEACAAAQkAAAAAQkAAAAAQkAAEBA\n",
       "AgAAEJAAAAAEJAAAAAEJAABAQAIAABCQAAAABCQAAAABCQAAQEACAAAQkCDd7K1t\n",
       "CktpVf38suqilXsUBAAAAYkuu6HPGph70zcG3371kOmX37io3/A1/YctD0t4fUXB\n",
       "vaExLOFFtITGsCSucE3+xBsAADKaE10BibMMSH1rh/fWNhWt3HPNzC0Dxm8I/xte\n",
       "l1bVp/7ZaIhp0KLyaAvhRfhRnR3SqLNSq7MiKLVSIyDRxzpPiDchz4RU011X0IUN\n",
       "RmGp3/A13bhZX1IOaXVGqdUZpVZqAQmd5zzmohBdQoAJy3kd7Yn+lZCXUh+S8iXl\n",
       "kFZnlFqdUWqlFpAyU3Nz84oVK6ZMmTJixIjw4+bNm48cOaLz9LoQWvoNXxP+N8Sk\n",
       "ngljIYNFV99174CSLymHtDqj1OqMUiu1gNRnTJw48dJLL+33ttDypS996b3vfe/Y\n",
       "sWN1nt4SskoUVHomGrWbzaKY1C074EvKIa3OKLU6o9RKLSD1DcOHD49y0eWXXx4H\n",
       "pG9/+9vR63Hjxuk8PS+616hnpk/oOKRFE0KE/TnHmORLyv8fqDNKrc4otVILSH3A\n",
       "unXrQgq68MIL586dG3687LLLooB0/Pjx8ePHh9cf+MAHGhoadJ4eU1pVH11Tlz67\n",
       "FF93dy4xyZeU/z9QZ5RanVFqpRaQ+oCxY8eGFFRYWBj9GAekyBVXXBF+XL9+vc7T\n",
       "M6Kr2s7HHAnduHs9dkMUAICAJCD1tK9+9ashAq1bt67dgPSv//qv4cdFixbpPOdb\n",
       "dMfRoEXlaV6ueEq9tBrjAgAQkASk7vHDH/4wRKDHH3+83YAUxScjSOdbGl5WJyYB\n",
       "AM7xBKRsNG3atBCBQhBqG5B+/etfX3TRRRdccEFmz/fd650npKN0vqyu45jULfM3\n",
       "AAAISAJSujh8+PBHPvKREIq+9rWvPfvss5dcckl4/corr9x7771/9Ed/FF5/73vf\n",
       "03nOn/ll1SEd9d3qGUoCAJzjCUiZ5plnnnn/+9/frz2f/OQnM/5xsb3Yefp6Omob\n",
       "k/riOBgA4BwPASnZwYMHf/CDH3zoQx+Ko9HHP/7xu++++9ixYzrP+UtH18zckkmV\n",
       "DOko/EaGkgAAAUlAyhzV1dWbN28+fPiwznNeRU9fzbxiGkoCAAQkAQmdp8syMh0l\n",
       "xiRDSQCAgCQg9RnXXnvtp7vi1Vdf7a1dbWxsrKioWL9+fXl5eVfvhnrjjTeeeeaZ\n",
       "ffv2pVXnybwr686UkaKhJBPcAQACkoCU7q688sp+XbF3794ubb+pqam5ufnc93PD\n",
       "hg1Dhw694W15eXlPPvlkip9tbW2dOnVq+NSKFSvSp/NEM3pnz5FmKAkAEJAEpD7g\n",
       "mWeeWZHgf/yP/xFS0MUXXzx48OCFCxeGEDJnzpwvfvGLUTqaNWvWm2++meKWn3vu\n",
       "udtvvz3ntKKios2bNyetsGjRopBz6urqOt1UZWVl2Eg4ssPOrF279oEHHoh+3Lhx\n",
       "Yyp7snr16ihWpU9Aip4Gm20350RDSSEmGUoCAAQkAakP2LRp0wUXXHDJJZfs3Lkz\n",
       "6a1/+7d/CwHpyiuvbG1tTWVTIcZEmSQKSNHrxx9/PHGd+++/PzSmEpCmTZsW1gyB\n",
       "LW5ZuXJlaBkzZkynnz148GB+fn5BQUH6BKQQD7IwHcU8KwkAEJAEpL4hBImQgqZO\n",
       "ndruu1dffXV4d/fu3Z1up6Wl5eabbw4H4hNPPHH8+PGmpqbVq1eHjYeWrVu3djUg\n",
       "ha3l5eWFNWtra+PG5ubmaIMdT7IXPjtu3LiwM6WlpekTkK6ZuSXLJ3YLEVFGAgAE\n",
       "JAEp3UXX1/3qV79q993rr78+vLt06dJOt1NdXR2OwunTpyc2btq0KScn55Zbbmls\n",
       "bOxSQKqpqQmrFRYWJrUXFxeH9vLy8g4+G/Y2rLNly5bwr6dJQHIfTszMDQCAgCQg\n",
       "pbXrrrsuRKAFCxa0f2Z/zTXh3TVr1nS6nRBawlG4bNmypPaw5cQr5VIMSJWVlWG1\n",
       "CRMmJLWXlJSE9ueff/5MH6yoqAiRbN68eVE8SzEgtasbI0E2TFuXumimCokRAOiu\n",
       "IHS+T+cEpOxy1113hQj0N3/zN0ePHk1664knnrjwwgsvuOCChoaGTrdTW1sbjsK2\n",
       "l+o1NTXdeuutIbTs2LEj9YC0c+fOsFpxcXFSe0g+oX39+vXtfurNN9+87bbbRowY\n",
       "EQ1YpcMIUrZNW5cil9sBAD0QnBRBQDobFRUV73vf+0JG+sxnPnPfffdVVVX95je/\n",
       "2bx588033/ze9743tH/rW99KcVMjR44MB+JDDz0UX1AX2b59e2gfNmzYrl27UgxI\n",
       "IU21G5DmzJnTQUCK4lP456If0yEghRiQ5bcedZCRXG4HAAhIAlI6Wrhw4QUXXNDu\n",
       "E5A++clPpjJ8FGetaPK6vLy8sWPHJr4VTUAXTXCXSkAKUSqslrSRYMaMGWea6TuE\n",
       "uvDW3Llzm9723HPPhZbHHnssvD5x4kTPdx63HqWYIVUJABCQBKT0smXLlm984xsX\n",
       "XXRRHI0++tGPTpo0KWksqFNVVVV33XVXbm5uQUFB0lsh1YwYMSKKSZ0GpEOHDoXV\n",
       "hgwZkjTD+OjRo0N7SGJtP/LQQw91cAVqaWlpD3ee+WXVbj1KhYfJAgACkoCUpk6e\n",
       "PLl///4XX3zxyJEj57KdEydO1Ne3c11ZS0tLSFBr1qw5fvx4p3sydOjQcFjv27cv\n",
       "bmxoaAjRKycnp91BrbKyspLfN3bs2Oi5SeF1fN1dz3Se6B4bR1Tq5fIwWQBAQBKQ\n",
       "0kJjY+OhzoS4ci7/xNGjRzdt2vTCCy90/PyiJLNnzw6H9ZQpU+JBpOgWo4kTJ0Y/\n",
       "Hjhw4KnTzrSFXrwHyVOPzkJ0S5I6AAACkoDUm8aMGdOvM3v37k1xa+Xl5SHGTJgw\n",
       "YeHCha+88kpoWbx4cXTfUSS0t7S0pLKpmpqa6LGwhYWFc+fOHTVqVHQLU3x93apV\n",
       "qzqewLG3AlI40XfB2NlxuR0AICAJSOkekC655JLXXnstlU0999xziVnopptuWrt2\n",
       "bTRnw9SpU++5557Bgwe3+6ykM6mqqioqKoo3OHLkyK1bt8bvRgEpNzf3TB/fsmVL\n",
       "WOHxxx/vyc5jXu9zz0iDFpXLSACAgCQg9Y7m5uajbezZs+dnP/vZxz/+8Q9/+MMh\n",
       "ZqSynRMnTkRzMEyfPn3Tpk3Lly8P0SX8mJ+fH99HVFlZGTJSQUHBsWPHMrXzuLiu\n",
       "WzKSGcABAAFJQEo7u3fv7t+//2WXXZY0lVy7qqurw1F45513xi1Lly4NLQsWLEhc\n",
       "LXoOUuLUC5nUecJp/aBF5Y6cbjG/rNpYHAAgIAlI6eU73/lOv379yss7P+kP64Sj\n",
       "8JFHHolbdu7cGVpWr16duFr4MTT++te/zrzOs7e2qd/wNQY9upFbkgAAAUlASi//\n",
       "/M//HALS4sWLO12zpqYmHIUlJSVxS319/bx587Zt25a42qJFi8Jqqc/60Ic6TziV\n",
       "n19W7Zjp9oxk0gsAQEASkNJCbW3t+973vhCQ1q1b1+nKra2tw4cPDwfiqlWr2p2n\n",
       "Lqzw8ssv5+fn5+XlNTU1ZVjn8VjY88otSQCAgCQg9ZCnn3761vYMHDjw4osvDuko\n",
       "/G9dXV0qm4pmjYsmZigtLU18a+vWrbfddlv07mOPPZZ5nSecvpub4byKpgc0RgcA\n",
       "CEgC0vnV8TTf73jHO+69997Ut1ZZWTllypSCgoKkubxXrFgRPcVoyZIlzc3NGdZ5\n",
       "TEvdM9ySBAAISALSeReiS257hg0bFqLOrl27zmKbra2tSRN579+//6WXXkpxJKrP\n",
       "dR6TrfVkRnJLEgAgIAlIfcwvf/nLmTNnbtmypd2bkTKs83jwUc9zSxIAICAJSOfL\n",
       "6tWrR44cuXHjxnbfLSkpCe92deRn1apV0e1Gw4YNW7Bgwe7duzO184RoZG6GXhHd\n",
       "kiQjAQACkoDUzaJ7kGbNmtXuu3/7t38b3u3qrNxvvvnms88+O2PGjLy8vCgp3X77\n",
       "7StWrDh06FCGdR7DR70ouiVJHQAAAUlA6ga/+tWv1pz2ox/9KESgm266aU0by5Yt\n",
       "++AHPxjera4+y6nDmpqaNm7cWFJSkp+fHyWlu+66a926dSdOnMiAzjO/rHrQonL9\n",
       "p3czkluSAAABSUDqBpdeemm/1ISMdO63Eh07duyFF16YPHlyFJPSaraGs+48LvFK\n",
       "n4zkbwEACEgC0jn5m7/5m0+c9qEPfSikoD/4gz/4RBt/+qd/+nd/93cPPfTQOf5b\n",
       "DQ0NpaWlU6ZMycnJiSb7rq+v7+udx/BRWvGUJABAQBKQukfH9yCdiyNHjqxdu/bu\n",
       "u+/Ozc2NBo5Gjx79xBNPpNtk32fXefoNX6PnpBVPSQIABCQBqRvMnj37qquuWrp0\n",
       "aTduc/fu3VOnTo1zUZrPZXcWncd9L2mbkfxpAAABSUBKO9E03yEgTZ8+fdOmTWn+\n",
       "NKSz6DyGj9KZW5IAAAFJQOqaO+644/vf//7kyZPD66VLl36/M7/5zW+6tP0tW7Y8\n",
       "9dRTDQ0N576rjY2NFRUV69evLy8vP3LkSIof2blzZ/jIjh07wutu7zyDFpW71yXN\n",
       "RbckGUoCAAEJASklV155Zb9+/f7hH/7ht2/fg9Sxrj4Hqbts2LBh6NChN7wtLy/v\n",
       "ySef7GD91tbWp59+On74UhA+vnr16m7sPHtrm8KZtz6T/tySBAACkiIISKmaNWvW\n",
       "+PHjFy9eHF6vW7dufGfeeOONnt/JysrKaNa7OXPmrF279oEHHoh+3Lhx45k+ElYL\n",
       "KwwePHjJkiXh97r33nujj2zatKm7Oo/ho76VkUJA8jBZABCQEJAywbRp08JhvXDh\n",
       "wrhl5cqVoWXMmDHtrn/y5MlbbrklKUEtX748ejptd3Uedx/1OW5JAgABCQGpz2tp\n",
       "aYmulKutrY0bm5ub8/PzQ+Phw4fbfuT1118Pb912222tra1xY1gzNBYUFHRL5zF8\n",
       "1Ee53A4ABCQEpI6MGDHi+13R1Ukazl1NTU04pgsLC5Pai4uLQ3t5eTtPaD1w4MAd\n",
       "d9xx3333JTWG9cPv2y2dx/BRn85IId/KSAAgICEgtSOapCF1PT9JQ2VlZTimJ0yY\n",
       "kNReUlIS2p9//vkUtzN//vywfvjUuXcew0cZkJGiy+2UAgAEJASk3zNv3rzxXdHz\n",
       "kzTs3LkzHNPFxcVt9zy0r1+/vtMttLa2PvLII9Hcd9XV1R13nnYlHyWGjzKCGcAB\n",
       "IPOCUIqncwhIvaapqamurq5trGpubq477eTJkx1vYceOHe0GpDlz5qQSkEIiii7G\n",
       "GzJkyPbt28/9vy6E82mn1BkjmqvdHxQAMj44KYKAdE6OHj26Zs2aWbNmjRs37mc/\n",
       "+9nzzz+fONtBl6xatard1P7CCy9E7SEjdbyFXbt2hdXGjh2b1D5jxoyOZ/oO0euJ\n",
       "J56IJngIGammpqZbOo/ho8zLSGa3AwABCQHpjKHinnvuufTSS5NuPfrsZz/79NNP\n",
       "90pAOnToUDT+kxTSRo8eHdorKira/VRLS0sIeGGFG2+8cd26dSkGvE47z/yy6kGL\n",
       "yvWTzONyOwAQkBCQ2jFixIgoEb3rXe/65Cc/+bnPfe4jH/lI3PLss892dYM1NTWb\n",
       "TktqD7koaj9+/HinmW3o0KHhsN63b1/c2NDQkJubm5OTE160+6nopqOioqJOA1iX\n",
       "Oo9xhgzmcjsAEJAQkH7P2rVroyx0/fXXJ05m8Nxzz1111VWh/eMf/3iv7Njs2bPD\n",
       "YT1lypR4ICiaoWHixInRjwcOHHjqtDh95eXlFRQUnCk+nXXnMXyU8VxuBwACEgLS\n",
       "W+64446Qgr7zne+0fevw4cPRdXd79pzNf1+vr69/8MEHx40bF0LLzTffPHny5NWr\n",
       "V584cSLFj9fU1ESPhS0sLJw7d+6oUaPC65ycnPj6uqQL+UKii54JO7WN+++//6w7\n",
       "j/PmLFFaVe9hsgAgICEg/fYf/uEfQgT6+c9/3u673/3ud8O7S5cu7epmt2/fPmTI\n",
       "kLaTLY4ZM6axsTHFjVRVVRUVFcWfHTly5NatW+N3o4CUm5sb/bhkyZIzzfB4++23\n",
       "n13ncfdRVolmbggxSSkAQEASkLJXFIFWr17d7rsDBw4M7z722GNd2mZDQ8PNN98c\n",
       "DsqpU6e+/PLLdXV1r7322oYNG2677bbQOGfOnL7SecK5cmlVvR6SVaLL7fzdAUBA\n",
       "EpCyVHFxcYhAt9xyS9u3jh49evnll4d3X3311S5tc926deGInDVrVrvBKScnp6mp\n",
       "Kf07T3T7vu6RhczcAAACkoCUvQ4cOPDRj370ggsuCHkm8Qah119/Pbr6buDAgV3d\n",
       "5oIFC8IRGbbc9q2lS5eGt3bt2pX+nWfQovL5ZdW6R9ZmJDM3AICAJCBlo+XLl//3\n",
       "//7fo4nsBgwY8L3vfW/w4MFf//rX3/Oe90SNP/jBDxLv51m1alWn24ymmwsRq+1b\n",
       "jz/+eHhr+/bt6d95PByWkI7M3AAAApKAlF3GjBnTrysmTZrU6Taj6RNCFkpqP3ny\n",
       "5IQJE8Jbb7zxRpp3HtMzEGckQ0kAICAJSFlk9erVI7ti7dq1nW7zlVdeyc3NHTx4\n",
       "8NNPP93S0hI11tfXz5o1Kxypd955Z/p3HifEJAVmQ0kAICAJSJy9X/ziF9Elefn5\n",
       "+UVFRaNGjcrJyYl+7OqUDz3feQwf0ZahJAAQkAQkzl5ra2tZWdnIkSMT71+aNm3a\n",
       "wYMH07/zmN2bMzGUBAACkoCU+erq6v793/998ODB//sMDh06dNYbb2hoqKqq2r9/\n",
       "/7Fjx/pE5wnRyKNC6UA8lCRFA4CAJCBloMOHDw8YMKDjiRn27t3b6XYqKipmzpz5\n",
       "4osv9vXOY3ZvUhEFaUNJACAgCUiZ5s477wwR6MILL7z22mtvvfXW29tTX9/5fymP\n",
       "Hg67evXqvt55zO5NiuKhJDEJAAQkASlzfPOb3wwBaeLEiee4ncwISKZn4Cxi0jUz\n",
       "t4TDxuQNACAgCUiZ4H/+z/8ZAlKINwLSb03PwNkylAQAApKAlCGiB8X+5Cc/EZBM\n",
       "z8C5cMUdAAhIAlIm+PWvf33RRRd97GMf27lz57kHpPz8/GEpSOWmpp7vPKZnoFti\n",
       "UojZ5rgDAAFJQOrDlixZEs1W97nPfa6gPbW1tSkGpBTV1dWlYecxPQPdpWjlHjcm\n",
       "AYCAJCD1Sa+//voVV1xx7tN8RwHp4Ycf3peCEydOpFvnMT0D3csVdwAgIAlIfdLk\n",
       "yZNDBLrgggu+9KUvFRQUDG9P6iNIffceJNMzcF5jklIAgIAkIPUN3/rWt0JAGj9+\n",
       "/DluJ00CUmNjY0VFxfr168vLy48cOZJ653F9HT0Qk9zkBgACkoCU7r7zne+EgPTc\n",
       "c89lQEDasGHD0KFD4zud8vLynnzyyVQ6j+kZ6JmYFI40MQkABCQBKa3dfffdISDN\n",
       "nj373MPJkCFDSktLe+sXqayszMnJCT1hzpw5a9eufeCBB6IfN27c2GnnCeesbqan\n",
       "h2OSSzoBQEASkNLRgQMHLr/88ksvvTQEjD79i0ybNi10g4ULF8YtK1euDC1jxozp\n",
       "+IPX5E80PQM9L5oN3GgSAAhIAlJ62bhxY05OTr9+/S666KKBAwfe2p60mpW7XS0t\n",
       "LXl5eaEbJM4n0dzcnJ+fHxoPHz7cwWcvv3GR/5ZPr4hHk8x0R2YL37Hzy6rDEg71\n",
       "eAkHf7RcM3NL4hJ6RLz0G74maUl8N3FJ2sj5W860A+3ubVf3Oa5J4pJYNN8VICAJ\n",
       "SD1hzJgx/TqTyjTfvaumpib0gcLCwqT24uLi0F5e3tEAkekZ6PWYZEJw+pDEnJMY\n",
       "bxITQtsMkHiur4ZnV+2kYJm4dBrkUoxtZ5fZ/E0RkASkTLNixYrcznQ8ApMOKisr\n",
       "Qx+YMGFCUntJSUlof/7558/0wQEDBvT/p3FtH2Xbv3//8Fa762vXfj7a+33gsigm\n",
       "hZOPeEhTfbSf7/aQz+PhnQED7whLfLb9u7Pq6x8MS9uc0+/zP+73qa+0HYFX58z/\n",
       "vvr8j9vGtn5fGRGWtrGt33X3hKVteIuOq1SG4DoeiDtTwBtQ+GhY2omOb7cnpb4B\n",
       "OT8NS9s0eHbtbTNk1L+6vf087X9X2zuo8/lob/un7z9sebuLgCQgnRc7d+4cMWLE\n",
       "66+/nv77GfpAcXFxUvu8efNC+/r16/3XBfqEcLYazlOjb3/VoFuOqCj/JA34JJ5x\n",
       "Gt4BMpVzPAGpOzU2Nt5///1/93d/11cusduxY0e7AWnOnDkCEn30vDa+Pck9cnRw\n",
       "nCRFoMTBn8T8E71rUhBAQEJA6rLNmzcPHjz4gx/8YHwD0gUXXHDgwIE03+1du3aF\n",
       "PjB27Nik9hkzZnQ607fOQzqf/kanvAaUiMSjQGeKQEoE4BxPQOoeb7zxxsyZMz/7\n",
       "2c8mzs3wqU99qri4OP3TUXDo0KHQB4YMGdLa2prYPnr06NBeUVGh89DXk1I0oJR4\n",
       "hxKZ91duOxbUNgWFFcJqHt0GICAJSOfL2rVrf/jDH773ve9NjEbXXnvtli1b+tBv\n",
       "cfLkyaFDh4ZusG/fvrixoaEhNzc3JycnvNB5yIwT6PgOJQ/vygBxEIqHgxLHgiRh\n",
       "AAFJQOpRNTU1kyZNuuKKK+JQFDLSd7/73auuuiq8njNnTp/7jWbPnh26wZQpU+JB\n",
       "pGiGhokTJ+o8ZHZSciadtn+m6C/VaRAyHAQgIAlIvSwnJ+dd73pXlIve8Y53fPnL\n",
       "X54/f/6RI0fCW//yL//SRwNSiHzRY2ELCwvnzp07atSo8Dr8ph1fX6fz+JLKpKQU\n",
       "XocWpe6VQzrknHYvjXN3kG8PdUaplVpA6gOuvPLKkILe/e5333XXXdXVvzepUd8N\n",
       "SEFVVVVRUVH8LKORI0du3bpV5/EllT2i+5T6D1tuWOn8JdL4NqErCu5NukcoHhFS\n",
       "fN8e6oxSK7WA1CcDUnD55ZffcsstL774YmYEJJ1HnQkG5t4UDytFl3I5Xz+XIHSm\n",
       "q+Mc0r491BmlVmoBKXNUVFSMGDHiD//wD+MbkP7yL/9y8uTJBw8eFJBQ54wpdXyW\n",
       "Hw90RJfhyUttncV8CQ5p3x7qjFIrtYCUaVpaWh577LGvfe1rF154YXw/0nve857w\n",
       "Yvbs2ToP6px5pQ7pKH6KTlblpSgrRmkn6TlCZz1fgkPat4c6o9RKLSBlrFdffXX8\n",
       "+PGf+MQn4gGlD3zgA9dff/2vfvUrnQd1zuBSx3kpMSqExj6XmqL54hIvimv3aarR\n",
       "W2Edh7RvD9RZqZUaAalzra2ta9asGThw4EUXXRQnpT/5kz8ZO3bsm2++qfOgztlQ\n",
       "6igyJaampEeU9lb+icJPUv5pG4F6cso4h7RvD3VGqZVaQMoWtbW106ZN+8u//Ms4\n",
       "Ju3du1fnQZ2zsNRJIzNJsSROJlE4ifJJ4hJllQ6WxJWjLcSX/7XdfrxNh7RDGnVW\n",
       "apRaQOodZWVl4cD6wAc+sH///szuPMD5c/WQ6YmLggDQY5zPC0jnRVOTR7wDAICA\n",
       "BAAAICABAAAISAAAAAISAAAAAhIAAICABAAAICABAAAISAAAAAISAACAgAQAACAg\n",
       "AQAACEgAAAACEgAAgIAEAAAgIAEAAAhIAAAAAhIAAICABAAAICABAAAISAAAAAIS\n",
       "AACAgAQAACAgAQAACEgAAAACEgAAgIAEAAAgIAEAAAhIAAAAAhIAAICABNC5+WXV\n",
       "YSlauedMixIBAAISveAGOGcDc2/6xuDbr8mfePWQ6WG5/MZFYek/bHm/4WvCEl5E\n",
       "S9R+RcG98RKt38GSuHJYoi1EG293+/Fmw874uwCQ5ZzoCkicZUBSBHXuqqKVewYt\n",
       "Kr9m5paQTwaM3xCW8Dq0RIM/pVX1Pb9Le2ubwr87v6w6RKNo96I9DEvYvaT9DEtY\n",
       "02HpkFZq1FmplRoBCZ1HnbuWOqLMk5iFopYQMHolCJ11qcPvEoeosMQJqm18Suff\n",
       "ziGt1KizUqPUAhI6jzr3tMRE1OduBzqXUkfxKR4fi7NTPO7kSPbVodTqjFIrtYCE\n",
       "zkOG1zkaJkpMRL11mVx6ljpp3Cm6bC8pOEUjTmFNhzRKrc4otVILSOg89L06tw1F\n",
       "GXNFWU+WOik4JY04RZfqOaRRanVGqZVaQELnIU3rHE7ow1l75oWitCp1POKUeKle\n",
       "4j1OUabq68X31aHU6oxSK7WARJ9RU1PzzDPPHD16VOfxJfXbtweLwnl5yEXhBF2p\n",
       "e1fi/BDx5BCJ1+mpM0qtzkqNUgtIdLM5c+aELrFr1y6dJ5vFF9FFg0VmtU7bP1NY\n",
       "Or7BSZUAEJAEJM5SU1PT8uXLo0eDCUhZKzrVzuCL6LIkOKUyM4TpyAFwjicg0b5t\n",
       "27bdeeed+fn58bOTBaQsPKWO7i/yFNTM1vZRTm2f46RKADjHE5AEpG13vG3w4MEC\n",
       "UrblovgRrgqStYdB28kh2maneNxJxQAEJASkLDJjxgwBKauiUfjfrHoCD2dxqLQd\n",
       "d4onJXfZHoCAhIAkIOk8fZshI7pX2/h0pgQVTfhhDApAQBKQyMyANGDAgP79+9/Q\n",
       "RmgMb7W7vvbebe/3+R+Hc9akISP10X6+2+MEdSqc5/w0LIkhKspR/a5/sN9198RR\n",
       "Kk5T/T71lX4f/Yx6Zuf3VTgG4iU6Kvp9ZURY4oMkOpBOXQ563T3R8RMfWtFy6ri6\n",
       "/sHf/Xj6eDvTEq/WwRL/E2/9Q4WPhiWpMbE93tVoiY7/pMautp/qRwPvCEtifaKl\n",
       "29vPx/6fZXuHde729lQOhp5fOj6Au30RkAQkziYg+a8LfUXi1XSqQZ8Q3w2VeBKc\n",
       "eIrQ9oQ18fTRod4lbc+P256htnNO2dmpWyoBo22EiP+CSYuBR+hhzvEEJAQk0Qj6\n",
       "sHiQKkpWbc/yz3Rmn/owQtsz+/OxnPV/P+7eNOKIApzjCUgISBkYjeLHGakGACAg\n",
       "CUgISNkejZQCABCQBCQEpKyORtEFdS7WBwAEJAEJASmro5EL6gAAAUlAyhD19fUb\n",
       "U3b8+PHzujMlJSUCUt+KRqZhAAAEJAEpo7z00ks3pKyurk7nIRJCUfRcI6UAAJzj\n",
       "CUiZ4+jRoytWrCgoKAjHYm5u7sIONTY26jyUVtVHc/gmPvIVAMA5noCUObZu3RqO\n",
       "xRCTdB46EBJR9LAUpQAAnOMJSBlu1KhRAhIdRCO3GwEAzvEEpCwyY8YMAYl2zS+r\n",
       "drsRAOAcT0DKLgcPHqyoqNB5SOSaOgDAOZ6AhM7DKa6pAwCc4wlIWa2pqam5uVnn\n",
       "YW9tU4hGgxaVKwUA4BxPQMpGzz333O23355zWlFR0ebNm5NWWLRoUV5enucgZYNo\n",
       "4Ki0ql4pAADneAJSNlq7dm30HNgoIEWv/3979wNdZX3fD7xdW2e3Wbd2O9u67dTa\n",
       "/XFd/5151p7TnW2u7bqzP79202nX0826U8cNCURqhBomJfKnIOAoCA0GUSlIALWl\n",
       "KP80NkITJQEjCiYkROVvjAMSwoiR/PP3ha/eXW9CSPUm5s/rde7h3Pu9z/33yfN9\n",
       "nufN8zzfZ8OGDanTLF++3IViR7x4gSPH1AEAtvEEpNGro6MjLy8vzIgbN248ffp0\n",
       "W1tbSUlJTk5OaNm1a5eANEokR/G24wgAsI0nII1qDQ0NYS5cuHBhauOOHTsSicRN\n",
       "N93U2toqII14IRQZxRsAsI0nIHFGdXV1mAvXrVuX1r5y5crQvmrVKgFpZIs7jtQB\n",
       "ALCNJyBxxvHjx8NcOH/+/LT2tra273znO4lEoqamRkAakeJQdXYcAQACkoDEm+Tn\n",
       "54cZce3atckD6qI9e/aE9gkTJuzbt09AGmGccQQACEgCEr2rra2Ng9dlZ2dPmzYt\n",
       "9anNmzcnB7gTkEaGF4+3XbG4yjWOAAABSUDinOrr6+fMmZOVlTV+/Pi0pyoqKiZN\n",
       "mhRjkoA03N1T2eCMIwBAQBKQ6JfOzs7m5l6Ouero6AgJ6rHHHjt9+rTOM0zFHUfh\n",
       "phQAgIAkINEvP/3pTxcvXlxVVRUSkc4zwtKR8RgAAAFJQOLns2XLlngo3YQJE1au\n",
       "XPn888/rPCOA8RgAAAFJQOKteOWVV5544olFixZlZ2fHpHTLLbc89NBDR48e1XmG\n",
       "I4fVAQACkoBEBrS1tVVUVBQWFubk5MSkNGfOnG3btnV2duo8w0VpffO7bnzMYXUA\n",
       "gIAkIJExr7766s6dO+fOnWsUu+HFYXUAgIAkIJFhLS0tpaWl8+bNixdBCv/2Osad\n",
       "zjOkuMwRACAgCUhk0smTJ7du3Xr77bdnZWXFHUdTpkzZuHHjkNp9pPP0Kh5Wpw4A\n",
       "gIAkIJEBzz///Pz585O5aIiPZafzpHFYHQAgIAlIZFIc5jsEpIULF+7YsWOIXw1J\n",
       "50lltDoAQEBCQMqwqqqqRx55pKWlRecZXlwEFgAQkBCQdB6d58xJRw6rAwBs4yEg\n",
       "ofOcOenIYXUAgG08BKRhoLW1tba2tqysrLq6+uTJk+ed/tixY0d66PuFo7nzxLG8\n",
       "HVYHAAhICEjDQHl5eW5u7pg3ZGdnb9q0qe+XTJ06dUwP69at03l6imN5O6wOABCQ\n",
       "EJCGgbq6unhh2aKioq1bt65YsSI+rKioONdL2tvbs7KyJk2atObNdu/erfOkuaey\n",
       "wUlHAICAhIA0bCxYsCDM1qtWrUq2bN68ObRMnTr1XC85cOBAmODee+/Vefp2XXG1\n",
       "k44AAAEJAWnY6OjoyM7ODrP18ePHk43t7e05OTmh8dixY72+6oknngjPlpSU6Dzn\n",
       "4qQjAEBAQkAabG1tbU1NTSdOnEhrDwmn6ayurq6+36GxsTHM0xMnTkxrnz17dmiv\n",
       "rq7u9VVr164Nz1ZVVW3btu2BBx4ISemFF17QeZKcdAQACEgISO+ALVu2xNER0tp3\n",
       "7twZ20NG6vsd6urqwmQzZ85May8sLAzt27dv7/VV8+fPj2M5pI7QcNddd3V0dPTd\n",
       "eXo1wv4oBZtfcNIRADAig9Ao2ZwTkEZ1QNq7d2+YbPbs2Wnty5YtC+1lZWW9viov\n",
       "Ly88e9ttt4UEVVtbu27duhiWjGJ3xeIqJx0BAKMtOCmCgDRUNDY27jgrrT3koth+\n",
       "+vTpvt+hpqam14BUVFR0roDU1dX1yCOPPProo6n7iyorK+M+pT4O6hvZncdJRwCA\n",
       "gISANOzt27cvzNPTpk1La1+0aFHfI333NGnSpPCShoaGUdh5nHQEAAhICEhDRXNz\n",
       "83333Td9+vTx48fn5eXNnTu3pKSks7OzP689evRomKfHjRvX3d2d2j5lypTQXltb\n",
       "2/MlYcq2traepxuFL9DHuA4juPO40hEAICAhIA0Ve/bsCfGm56lyU6dObW1tPe/L\n",
       "u7q6cnNzw/T79+9PNra0tGRlZSUSiXCn50ueeuqpMP2dd96Z2tje3h7iWR8jg4/U\n",
       "zuNKRwCAgKQIAtJQEQJMHC9h/vz5zz33XFNT00svvVReXn7zzTeHxqKiov68SYg6\n",
       "YeJ58+YldyLFERpmzZoVHx48ePCRs+LDEIHCs2PHjq2rq4st4YWrV68OjQUFBaOn\n",
       "8zjpCABAQBKQhpZt27aFOXLJkiW9BqdEItHW1nbeN2lsbIyXhZ04ceLSpUsnT54c\n",
       "7ofXJo+v6zlWXnFxcXiYlZVVWFi4Zs2amTNnxhEa6uvrR0nncdIRAICAJCANOStX\n",
       "rgxz5MGDB3s+9eCDD4an9u3b15/3CcGmoKAgeXhefn7+rl27ks/GgBTiULKls7Nz\n",
       "48aNEyZMiNOHp2677bZDhw6Nks7jpCMAAAFJQBqK4rFwL7/8cs+nNmzYEJ7as2eP\n",
       "zpNZTjoCABCQBKQhKu7bCVkorb2rqyse9nbixAmdJ1PiSUfmOgAAAUlAGqIOHTqU\n",
       "lZU1duzY1Mu2Njc3L1myJMypt956q86TKaX1zQ6rAwAQkASkoe7hhx+OJwLl5OQU\n",
       "FBRMnjw5kUjEh4cPH9Z5MqJg8wshHb14vM38BgAgIAlIQ1p3d3dlZWV+fn7qRZAW\n",
       "LFhw5MgRnScjrlhc5cg6AAABSUAaZlpaWurr6w8cOPDqq6/qPBnhSkcAAAKSgDTU\n",
       "1dbWLl68+JlnntF5BpSTjgAABCQBaRiIF4ctKSnReQZOweYXHFYHACAgCUgC0mjv\n",
       "PPGwuuuKq81pAAACkoAkII3qzlNa3/yuGx9zWB0AgIAkIAlIo73zxLG8zWAAAAKS\n",
       "gDT8AlJOTs6EfmhubtZ5zsthdQAAApKANLwDUj81NTXpPH2Lh9XdU9lg1gIAEJAE\n",
       "pOEakO6///79/dDZ2anz9CEeVuekIwAAAUlAGt4ByTlIb5PD6gAABCQBSUDSec5w\n",
       "EVgAAAFJQBKQdJ4z4kVgXzzeZl4CABCQBKRhr7y8fNy4caWlpTrPzyuEoktmlIeA\n",
       "ZC4CABCQBCRGdedxmSMAAAFJQELnseMIAEBAEpDQec4ykDcAgIAkIKHzGMgbAEBA\n",
       "EpDQec5GI2ccAQAISAISOs9r91Q2vOvGx5xxBAAgIAlIjOrOE4+pc40jAAABSUBi\n",
       "VHcex9QBAAhIAhI6zxkhGjmmDgBAQBKQ0HleE40AAAQkAYnR3nniAXVON7KQUmp1\n",
       "RqnVGaVWagGJIaG1tbW2trasrKy6uvrkyZOD1nliNAr/ikYWUkqtzii1OqPUSi0g\n",
       "MSSUl5fn5uaOeUN2dvamTZsGtPPEYRjiAXWikYWUUqszSq3OKLVSC0gMFXV1dYlE\n",
       "IvSEoqKirVu3rlixIj6sqKgYiM4T4tB1xdVxr5HiW0gptTqj1OqMUiu1gMTQsmDB\n",
       "gtANVq1alWzZvHlzaJk6dWoGO09yl1GIRvdUNii7hZRSqzNKrc4otVILSAw5HR0d\n",
       "2dnZoRscP3482dje3p6TkxMajx079nY6TwhFIQslc5FdRhZSSo06K7U6o9RKLSAx\n",
       "pDU2NoY+MHHixLT22bNnh/bq6uqfq/OERBT3FIXbFYurQii6rrhaLrKQUmrUWanV\n",
       "GaVWagGJ4aGuri70gZkzZ6a1FxYWhvbt27f38drLxy0M+SfcQhYKt7ibKO4pCrfS\n",
       "+mbltZBSatRZqdUZpVZqAYnhZO/evaEPzJ49O6192bJlob2srKzvzgMAwMhjI1lA\n",
       "Gr1qamp6DUhFRUXnDUgAAICANKLs27cvBKFp06altS9atKg/I30DAAAC0shx9OjR\n",
       "EITGjRvX3d2d2j5lypTQXltbq0QAACAgjRZdXV25ubkhC+3fvz/Z2NLSkpWVlUgk\n",
       "wh0lAgAAAWkUufPOO0NAmjdvXnInUhyhYdasWYoDAAAC0ujS2NgYLws7ceLEpUuX\n",
       "Tp48OdxPJBKOrwMAAAFpNKqvry8oKEgO7Jifn79r1y5lAQAAAQkAAEBAAgAAEJAA\n",
       "AAAEJAAAAAEJAABAQAIAABCQAAAABCQAAAABCQAAQEACAAAQkAAAAAQkAAAAAQkA\n",
       "AEBAAgAAEJAAAAAEJAAAAAEJAABAQGLwNTY2Pv7446dOnVIKAAAQkEa7oqKiMWPG\n",
       "7Nu3TykAAEBAGr3a2trWr18/5iwBCQAABKRRavfu3bfeemtOTs6YNwhIAAAgII3e\n",
       "gPTdN4wdO1ZAAgAAAYkzFi1aJCABAICAhIAEAAACEm81IF0+buEfjr8r3D58Q3G8\n",
       "XTRhffg3tFyRM+v/jb1lDAAAw5CtYgGJtxKQenaeF4+3ldY331PZcF1x9RWLqy6Z\n",
       "UR7uhIcK+3ZYSCm1OqPU6oxSK7WAxLAMSD3zUgxLISmFvFSw+QUVtpBSatRZqdUZ\n",
       "pVZqAYlRGpBSk1JpfXMISCEmhbwU7iu1hZRSqzNKrc4otVILSIzSgJSalO6pbIhH\n",
       "39mhZCGl1OqMUqszSq3UAhKjOiClJqUQkGJMCvdV3kJKqdUZpVZnlFqpBSRGb0BK\n",
       "jUnx9CQxyUJKqdUZpVZnlFqpBSSGlsLCwsEMSGKShZRSqzNKrc4otVILSOg854xJ\n",
       "zk0CABCQBCR0HjEJAEBAEpDQec4Rk+LVkxQZAEBAEpDQeV6PSSEjhaTkxCQAAAFJ\n",
       "QELnccQdAICAJCCh8/SISfHasnYlAQAISAISOs8ZyaHAVR4AQEASkNB5Xo9JdiUB\n",
       "AAhIAhI6z+vuqWywKwkAQEASkNB5XpccvMFfAQBAQBKQ0HnOMMAdAICAJCCh8/yf\n",
       "OMCdjAQAICAJSOg8r2ckIzcAAAhIAhI6z5ti0hWLq/xRAAAEJAEJnef1jBSvleRP\n",
       "AwAgIAlI6DxnONwOAEBAEpDQef6PkRsAAAQkAQmd500ZKQQkGQkAQEASkNB5Xudw\n",
       "OwAAAUlAGsba2tra29t1ngxyuB0AgIAkIA0/Tz755C233JI4q6Cg4KmnnkqboLi4\n",
       "ODs7u6mpSed5CxnpkhnlMhIAgIAkIA0PW7duHXNWDEjx/oYNG1KnWb58eWgUkN5y\n",
       "RnK4HQCAgCQgDQMdHR15eXlhRty4cePp06fb2tpKSkpycnJCy65duwSkDJKRAAAE\n",
       "JAFpqGtoaAhz4cKFC1Mbd+zYkUgkbrrpptbWVgEpg5ySBAAgIAlIQ1p1dXWYC9et\n",
       "W5fWvnLlytC+atUqASnjGem64moZCQBAQBKQhqLjx4+HuXD+/Plp7W1tbd/5zncS\n",
       "iURNTY2AlPGM5HA7AAABSUAaovLz88OMuHbt2uQBddGePXtC+4QJE/bt2ycgZVzM\n",
       "SGY/AAABSUAaWmpra+PgddnZ2dOmTUt9avPmzckB7gSkjHNKEgCAgCQgDUX19fVz\n",
       "5szJysoaP3582lMVFRWTJk2KMUlAGoiM5JQkAAABSUAaijo7O5ubm3u2d3R0hAT1\n",
       "2GOPnT59WucZiIwUAtIVi6vMgQAAApKANDK1trbW1taWlZVVV1efPHnyvNMfO3bs\n",
       "SA99v3CEdR7DNgAACEgC0jsvJJNdu3aFGBPuv/zyy7v61N7e3p/3LC8vz83NHfOG\n",
       "7OzsTZs29f2SqVOnjumh5+DjI7vzOCUJAEBAEpDeYdu2bQtzYV5eXri/ZcuWMX3q\n",
       "zzlIdXV1cUSHoqKirVu3rlixIj6sqKg410tC7srKypo0adKaN9u9e/do6zwhI10y\n",
       "o1xGAgAEJASkd8bzzz9/7733rl69+rWzF429t0+nTp067xsuWLAg9Qqzr70xFN7U\n",
       "qVPP9ZIDBw6ECcL76zyvOSUJABCQEJBGjI6Ojuzs7DBbHz9+PNnY3t6ek5MTGo8d\n",
       "O9brq5544onwbElJic6T5JQkAEBAQkAa9hobG8M8PXHixLT22bNnh/Z4plNPa9eu\n",
       "Dc9WVVVt27btgQceCEnphRde0HniKUlmKgBAQEJAGq7q6urCPD1z5sy09sLCwtC+\n",
       "ffv2Xl81f/78OJZD6vlOd911V0dHR9+dp1cjLyM5JQkAGJFBaDRszglIo93evXvD\n",
       "PD179uy09mXLloX2srKyXl+Vl5cXnr3ttttCgqqtrV23bl0MS6NtFLtzZaQQkGQk\n",
       "AGD0BCdFEJBGjpqaml4DUlFR0bkCUldX1yOPPPLoo4+m7i+qrKyM+5TCszrPa05J\n",
       "AgAEJASk4Wjfvn1hnp42bVpa+6JFi/oe6bunSZMmhZc0NDToPFFpfXPISPdUNpjN\n",
       "AAABCQFpeDh69GiYp8eNG9fd3Z3aPmXKlNBeW1vb8yVhyra2tp6nG02fPr2PcR1G\n",
       "Z+dxShIAICAhIA2eEFSamppOnDiR1t7e3t50Vh8HvEVhgtzc3DBb79+/P9nY0tKS\n",
       "lZWVSCTCnZ4veeqpp8L0d955Z9onjh8/vo+RwUdt53FKEgAgICEgDZItW7b0OnLI\n",
       "zp07Y3vISOd9kxB1wpTz5s1L7kSKIzTMmjUrPjx48OAjZ8WHIQKFZ8eOHVtXVxdb\n",
       "wgtXr14dGgsKCnSeXjklCQAQkBCQhkdAamxsjJeFnThx4tKlSydPnhzuJxKJ5PF1\n",
       "PT+luLg4PMzKyiosLFyzZs3MmTPjCA319fU6z7nEU5LsSgIABCQEpIESss2Os9La\n",
       "Qy6K7adPn+7P+4RgU1BQkBzJPj8/f9euXWkxLMShZEtnZ+fGjRsnTJgQpw9P3Xbb\n",
       "bYcOHdJ5+uZKsgCAgISAhM7zpoxUsPkFMQkAsI2HgKTz6Dyvc0oSAGAbDwFpoDQ3\n",
       "N993333Tp08fP358Xl7e3LlzS0pKOjs7dZ6hzAjgAICAhICUeXv27Bk3btyYHqZO\n",
       "ndra2qrzDPGMdF1xtYwEAAhIAhKZ0dLSkpeXF2bK+fPnP/fcc01NTS+99FJ5efnN\n",
       "N98cGouKinSeoZ+RHG4HAAhIAhKZsW3btjBHLlmypNfglEgk2tradJ6hzwjgAICA\n",
       "JCCRAStXrgxz5MGDB3s+9eCDD4an9u3bp/MMCy8eb5ORAAABSUDibVm2bFmYI19+\n",
       "+eWeT23YsCE8tWfPHp1nGGUkh9sBAAKSgMRbFy/hGrJQWntXV9fMmTPDUydOnNB5\n",
       "hheH2wEAApKAxFt06NChrKyssWPHPvroox0dHbGxubl5yZIlYU699dZbdZ5hSkYC\n",
       "AAQkAYm34uGHH47jeufk5BQUFEyePDmRSMSHhw8f1nmGKYfbAQACkoDEW9Hd3V1Z\n",
       "WZmfn596EaQFCxYcOXJE5xkBMcnFZAEAAUlAoi+1tbWLFy9+5pln0tpbWlrq6+sP\n",
       "HDjw6quv6jwjKSOFgBRikl1JAIBtPAGJXsRrH5WUlOg8o0c83M6uJADANp6AhIDE\n",
       "GS6UBADYxhOQEJB4U0aKu5JK65tVAwCwjScgISBh5AYAwDaegESPgJSTkzOhH5qb\n",
       "m3WeEckg4ACAbTwBif8LSP3U1NSk84xUpfXNdiUBALbxBCQB6UxAuv/++/f3Q2dn\n",
       "p84zgiXPSlIKAMA2noA0qgOSc5BIsisJALCNJyAJSAIS/ye5K0lMAgBs4wlIApLO\n",
       "w+sxKWSk64qrDd4AANjGE5BGi/Ly8nHjxpWWluo89JqR7EoCAGzjCUjoPLwpJl1X\n",
       "XO2SsgCAbTwBCZ2H191T2eCIOwDANp6AhM7D64wDDgDYxhOQ0HnoPSY5MQkAsI0n\n",
       "IKHz8HpMumJxlROTAADbeAISmdfa2lpbW1tWVlZdXX3y5EmdZ7hInpikFACAgCQg\n",
       "kRnl5eW5ublj3pCdnb1p0yadZ7iIR9xdsbgq/Gv8BgBAQBKQeFvq6uoSiUToCUVF\n",
       "RVu3bl2xYkV8WFFRofMM05ikGgCAgCQg8RYtWLAgdINVq1YlWzZv3hxapk6dqvMM\n",
       "05hk/AYAQEASkHgrOjo6srOzQzc4fvx4srG9vT0nJyc0Hjt2TOcZ7jHJQXcAgIAk\n",
       "INFfjY2NoQ9MnDgxrX327Nmhvbq6WucZ7jHpisVVri3LiBdm9XALs3q8hdk+ebtk\n",
       "Rnm8vevGx5K3ZGPylvqS5C35hn3f4qf3cevn+6Teev0+PX9U6i31B57rZ/b6Y/v+\n",
       "UeYuEJAQkEaXurq60AdmzpyZ1l5YWBjat2/frvOMgJh0T2VD3AYyIDhDUJgtwy3M\n",
       "peGWGidSk0Da5n7aZn1yUz6+Sbip6tuR+rfoI+P1J7b1J7D1P5emfh9/JhCQBCQG\n",
       "yt69e0MfmD17dlr7smXLQntZWdm5XnjJJZdcdNFFY3oIjeGpXqfX/g63/0MibsGk\n",
       "bj6qj/aBbk+NPe+6+r/DLS3wnJktJ/7oksQPklvA6qa9Z/uZSxp8/bvh1jO2hZkn\n",
       "zj9p4e3MfDXxR/3c/3auvXB97Jd71/X3hVsvb/Lm9uTnxvm/5/fJeHtasHzX304K\n",
       "t571GbTv8xba+6hn5tv78UcftFsfM+cA3S6asL7Xm4AkII1qNTU1vQakoqKivgOS\n",
       "/10Ypl483nZme8IoDmRIav6JmzVp4ScZe8KUcWeRogEMcbbxBKRRbd++faEPTJs2\n",
       "La190aJF5x3pW+cZ1jEpeXqS45HoQzz4LSac1/+Xt8/8o2IAApKAxPB29OjR0AfG\n",
       "jRvX3d2d2j5lypTQXltbq/OM7JgUNmrtUDIbJFNQ6l6gnhFI/gEQkBCQRr6urq7c\n",
       "3NzQDfbv359sbGlpycrKSiQS4Y7OM0o2keOw4JLSyBYSTurhcMl9QckUpEQA2MYT\n",
       "kHjtzjvvDN1g3rx5yZ1IcYSGWbNm6TyjNimFLWaH3g3Tv2DcI5R2UFxyd5DD4QAQ\n",
       "kAQkzqOxsTFeFnbixIlLly6dPHlyuJ9IJPo+vk7nGdkb2WHrOR56F5OSyygNTT33\n",
       "CKUFISUCQEASkHgr6uvrCwoKkkN15+fn79q1S+exkEpNSqPh6LshPkv3emjccNwj\n",
       "ZNGh1OqMUiu1gITOw7Cvc3Lgu7BdPlLHvntnS93H0XHJc4RGxqFxFh1Krc4otVIL\n",
       "SOg8jJw6J8e+i9vuMSyNjBNaBrPUaQPH9Tw6bgSfI2TRodTqjFIrtYCEzsPIrHMy\n",
       "LKXuWRq+W/YZL3XPEbR7Dhw3CsdLsOhQanVGqZVaQELnYbTUOXV/SLg/ekqdvJqq\n",
       "EbQtOpRanVFqpRaQ0HlQ53RpO5fibYjvMzlXqZNnB6WloNQLqiavpmoEbYsOpVZn\n",
       "lFqpBSR0HtS5v3o96yYZnN6RsR+S4efycQtT80/qjqDU72l3kFlaqVFnpVZqBCR0\n",
       "HnUe2HASY0nqHqdkMonhJOaT1FvMKn3cUieO75D65mnvH6ZJBiRznVlaqVFnpVZq\n",
       "BCTeSueBwXdFzqx4C3km3tQEADLLhq6ABAAAICABAAAISAAAAAISAACAgAQAACAg\n",
       "AQAACEgAAAACEgAAgIAEAAAgIAEAAAhIAAAAAhIAAICAxDustbW1tra2rKysurr6\n",
       "5MmTCjKgpd67d28odU1NTbivIAPtxIkTjz/++P79+5Vi4Jw6daqqqqqiouLQoUOq\n",
       "MXBF3rNnz7Zt28K/LS0tCpJxjY2NYVkR6mwV+Q7W2fpxcEptFSkgcX7l5eW5ublj\n",
       "3pCdnb1p0yZlybju7u5HH300lDdZ6lD2kpISlRnQms+fPz+U+qGHHlKNAdpqnzNn\n",
       "TiKRSM7Vd9xxx+nTp1Ums8KCIm0pvW7dOmXJrKKiolDbffv2WUUOfp2tHwdzlraK\n",
       "FJA4v7q6urhxEzrS1q1bV6xYER9WVFQoTmaF8obCjh07ds2aNdu2bbvrrrtiqXfs\n",
       "2KE4A7dZGde1lv4Doa2tbebMmaG8M2bM2LBhQ3Fx8be//e3wMNxRnAx6+umnQ1Wz\n",
       "srLC8jksOpYuXRq3I8vKyhQnU3Py+vXr47IibWvSKnJw6mz9OGiltooUkOiXBQsW\n",
       "hL6xatWqZMvmzZtDy9SpUxUng7q6um666aa01Wpcfs2ZM0d9BsKRI0dycnLGjx9v\n",
       "6T9AtmzZEmo7d+7cMHvHlt27d4eWG2+8sbu7W30yJf43cOouo9WrV4eWefPmKc7b\n",
       "FObYW2+9NSwokjsu0rYmrSIHoc7Wj4M5S1tFCkicX0dHR/yfyOPHjycb29vbY9c6\n",
       "duyYEmXKyy+/HEp68803p244hgqHxrB4Up+BmLenT5+el5dXWlpq6T9AQoVDbRsa\n",
       "GlIbH3/88cceeywZmXj7QhAKdd61a1eyJe5TKigoUJy3vzX53TeMHTs2bWvSKnJw\n",
       "6mz9OGiltooUkOiXxsbG0DEmTpyY1j579uzQXl1drUSZcvDgwbC0uvfee9MaQ50n\n",
       "TZqkPhn34IMPhtpWVVXt2LHD0n8gNDc3h8JOnjz5tbOHc9TU1Bg8YICEuTeU+oc/\n",
       "/GGyZdmyZaFl7dq1ipNBixYtStuatIocnDpbPw5aqa0iBST6pa6uLnSMmTNnprUX\n",
       "FhaG9u3btyvRgLrnnntCnUO1lSKzamtrE4lE2IgM9y39B8iLL74YCrt48eL7778/\n",
       "dZCGu+++O+Ql9cmgEDtnzJgRavvf//3fYbMm7ribOnVq6m4NBmJr0ipykLfarR8H\n",
       "p9RWkQIS57F3797QMWbPnp3WHv970hnAA6e7u/uBBx6IAyKlHaHE2/TKK6/cfPPN\n",
       "kyZNiqPEWvoPkGeffTaOHBD+nT9//saNG1evXj1u3LjwcOnSpeqTQV1dXaG8Y95s\n",
       "/fr1TvQa6K1Jq8h3JCBZPw5oqa0iBSTOr6amptelfzwn2NJ/gIQlfjxCI2xN7tmz\n",
       "R0EyK267JAtr6T9AYmGD++67L9m4f//+GJmOHDmiRJmyfPnyuLh48MEHKysrQzS6\n",
       "4YYb4ojqijOgW5NWkYMfkKwfB7rUVpECEucXuk3oGNOmTeu1UxnGNOPi/wTHs37D\n",
       "OqCxsVFNMuupp56KezDa3vDkk0+Glh//+MfhfmdnpxJlynPPPRcDUtp1MxcuXBga\n",
       "n3jiCSXKiDDT5ubmJhKJurq6ZGMcfirUubm5WYkGbmvSKnIwA5L14yCU2ipSQKJf\n",
       "jh49Gv+fJu1QjSlTpoT22tpaJcqgjo6OJUuWhMLecMMN27Ztc3jMQFi7du2Ycyst\n",
       "LVWiTDlw4ECvY0ytXLkytLuSZqaE5XCvg0rfcccdoT1s3CjRwG1NWkUOWkCyfhyc\n",
       "UltFCkj0S1dXV7xA+P79+5ONLS0tWVlZiUTCgFSZFQ+qLigoaGpqUo0BUllZWfhm\n",
       "06ZNi9uX4b4DNjK79JgwYUKobdr8PHfu3NAY/hBKlBFh4Rzqecstt6S133777XEQ\n",
       "KiUauK1Jq8hBC0jWj4NTaqtIAYn+uvPOO+MFB5P/YROPT501a5biZFBY6GdnZ48f\n",
       "P946dZA5wHrg3H333aG2YRmSPDBj165d8X/czeeZkrwUz9atW5NL6WeeeSZxlq3J\n",
       "gd5wt4ochDpbPw7mLG0VKSDRL42NjfFY9okTJy5dunTy5MnhfljvOnggs+JhvmEF\n",
       "ML+H5cuXq4+ANBw1NzfffPPN8f99i4uLCwsL43jfGzZsUJwM+ulPfxoPgAlL6RUr\n",
       "VixevDjWed26dYoz0FuTVpGDUGfrRwFJQGIoqq+vD9s3yYNQ8/PzUy/ZTkasWbPm\n",
       "XEf99jx4hgyqqqqyyT5wGhoaFi5cGA9DiksPQ3sNhPLy8lDb5EIjLy8vpKauri6V\n",
       "yaB4daOeW5NWkQNdZ+vHQZ6lrSIFJH4Ora2tBw8eTBuQCuC8wpb64cOHT506pRQD\n",
       "KiyfDxw4YOQ6q0hAQAIAABCQAAAABCQAAAABCQAAQEACAAAQkAAAAAQkAMiM0tLS\n",
       "H//4x6Pztx8+fHjNmjV1dXVmAwABCYABcfTo0ff3w1VXXRUmHjt2bLhfUFDwTn3b\n",
       "p59++r3vfe/f/M3fjKQ/wQ9+8INQ1W984xvnnfLYsWMf+MAHPv3pT3d2dpp1AQQk\n",
       "ADLvf/7nf97VD1/60pfCxN/61rfC/f/6r/96R75qSAWXX375u9/97qqqqpH0J7jj\n",
       "jjtCVf/xH/+xPxPfeuutYeLCwkKzLoCABEDmdXd3n3yzj33sY2ETPD8/P7XxlVde\n",
       "CROvWbMmJydn06ZN78hXLS4uDl/syiuvHGF/gp8rIIW/xUUXXfSbv/mbr776qrkX\n",
       "QEACYMD94R/+YdhefwePozuXz3/+8+GLrV+/fjQHpOCb3/xmmP7ee+81rwIISAC8\n",
       "kwFp2bJl11577QMPPBAffv/73w8P9+zZU1paev3113/iE5/43Oc+l5eXd/LkyfDs\n",
       "ihUrrrnmmksvvfTyyy8fP3784cOHU99qx44d2dnZn/3sZ8Orxo4d++CDD/b9rZ55\n",
       "5pnwrT70oQ+1t7cnG0tKSr72ta+Fd/joRz8aPnrChAk9BzDozwc99thjcZqPfexj\n",
       "X/jCF2bNmtXS0pI2TUVFxQ033PAXf/EXYZqvfvWr06dPb25uTj6bLMXWrVuzsrI+\n",
       "+clP/sEf/MHVV1/99NNPp73PT37yk29961uf+tSnfv/3f/+qq64KH90zIPX9ux55\n",
       "5JEwfaiqeRVAQALgnQxIaecg/e3f/m14+PWvf/29731v6glLX/nKV0JMSjuLKeSB\n",
       "GJyC22+//X3ve1/aBDfeeGMf32ru3Llhmi9/+cvJlnnz5vU8V+riiy9+9tlnk9Oc\n",
       "94O6u7unTJny7ne/O22a3/u93zty5Ehysu9973tpvzH4yEc+ElJTailCyrrgggtS\n",
       "pwkPn3zyyThNZ2fnuHHjen7nUJnUgHTe33Xq1KnY2NDQYHYFEJAAGFoBKfj85z//\n",
       "s5/97KWXXgqBJLlN/8UvfrG4uPjw4cOLFi2KLT/60Y9eO7u7Jtx/z3veE5JJfX39\n",
       "Cy+8MGPGjJgr7rjjjnN9q3/4h38IEyQSifjw9OnTv/RLvxRbXnzxxZaWlpKSkksv\n",
       "vTS0XHPNNXGa/nzQAw88EL/btddeG5JMmCw89aEPfSi0/N3f/V2c5qGHHorThJbK\n",
       "ysoQS9asWfNbv/VboeV3f/d349lZyVJ85jOfCZ8bfvXy5cvDs6Hlq1/9anyfu+++\n",
       "O05z/fXX79y5c//+/StXrvz1X//12BgDUn9+V/Abv/EboeWHP/yh2RVAQAJgaAWk\n",
       "j370o21tbclpPvGJT8Q9HjE5RJ/73OdC46xZs5ITpL3/ggULQmP46HN9q9/+7d8O\n",
       "E8yePTs+rK6ujrniqaeeSk6zcePGD37wg3/6p3+a+k36+KDu7u6Pf/zj4eG//uu/\n",
       "pk6zcOHC0Pi+970vHmh32WWXxXH8wvTJaUKU+sVf/MXkj4qlCGnnxIkTyWnCtw2N\n",
       "Id6E+11dXZdcckl4mDacd/ghcd9UDEj9+V3Bn/3Zn4Vpxo8fb3YFEJAAGFoBadq0\n",
       "aanTfOUrXwmN//mf/5naGBJIaJw+fXpyVPEjR460pQhRJO7b2blzZ8/PDckkpojV\n",
       "q1fHlpA34j6ckDqWLl3a82Cz/nxQeFWcZseOHamvbW9v37x585YtW8Kd5DTJI+WS\n",
       "EolEaI8XZYqlyM3NTZ3g6aefDo0XXXRRuL9///6eySe6+uqrkwHpvL8ruuaaa8I0\n",
       "4YVmVwABCYChFZCWLFmSOs0///M/h8bbb789tfHf/u3fYkB6/PHH+77gUjwML01T\n",
       "U1N8dvv27cnG5cuXv//970++8NJLL73++utLS0vjs/35oG3btsVj8Pq47mp4wzDN\n",
       "L/zCL6TuJYuKiorimUjJUixYsCB1gt27d4fGX/mVX3nt7LgL5/qsOXPmpJ6D1Pfv\n",
       "iiZNmhSe+qu/+iuzK4CABMAwDkgPP/xw3O6/5ByKi4t7fm5LS0t8VVlZWWp7fX19\n",
       "+J6f/exnU0dQ+I//+I/u7u7+fNC6deuSAeZcNm7cGKYJ7596fF0Ur8v0wQ9+8Fyl\n",
       "SA1I8USmCy64oOdHxHO0Ukex6+N3xQnCnyC0/Pmf/7nZFUBAAmAYB6Sw6R93yKSO\n",
       "1t0fF154YXjhypUre3321KlTIe2EwBCzRGlpaX8+aNeuXXH6pqam1Paurq7wo37w\n",
       "gx8cOXKkpqYmTnPw4MG0l4efE9pDjOlPQEq+z0svvZT2PjfeeOO5roPU83fF9m98\n",
       "4xvh4T/90z+ZXQEEJACGcUAK2eOiiy4K95MXU4r2798fPvfSSy9Nu1xS0kc+8pH4\n",
       "DvHhQw89dNlll/3Lv/xL6jQnT578wAc+ECb7/ve/358Pam1tfc973hOmWbRoUeo0\n",
       "a9asieHq2LFjIV/FYeWmTJmSOs3p06fj8NyhJv0JSGH6X/7lXw4PZ8yYkfY+8aSj\n",
       "GJDO+7tiS4xMY8aMMbsCCEgADOOAFO5/97vfDfd/53d+J3lCUQgqcWiHkA3O9a2u\n",
       "uuqqZBoJnn322XhKz09+8pPkNDU1NXFkuZKSkn5+0PXXXx8Pk0uOwbB3795PfepT\n",
       "ofEv//IvY0uIRuHhhRdemBwiIrzPv//7v8dD78L0/QlIQX5+fngYYtL69etjy6uv\n",
       "vhqyUOow3/35XcGHP/zhnh8HgIAEwPALSCdPnvzjP/7jGAM++clPhhwSt/5D2Ni8\n",
       "efO5vlX4lDDNF77whfiwu7v7y1/+cowWIc9ceeWVV1xxRXyfj3/843GE8f58UEND\n",
       "QxxAPEzzmc98Jo4MHrz//e/fs2dPnOZ///d/P/3pT8f28IZf+tKX4oWSUkfw609A\n",
       "ampq+pM/+ZP4wj/6oz/667/+67hfKO6higGpP78rxKp4ZdsQnMyuAAISAAMrbsT3\n",
       "GpCysrJSn4qp4K677vq5AtJrZ/fAjBkz5uKLL06OQBDCQB/pKDh48GDIMOElIR7E\n",
       "lpB/xo4dG49biy688MKvfe1rL7/8cvJV/fmgo0ePXn311TGlJK97mzbwd/jQb3/7\n",
       "28mLuoZ8EhJO6k6eXksRzzv61V/91WRLyFrXXntt8vuEL/zNb34zXl03eQ7SeX9X\n",
       "HHwvjp4HgIAEwMjx4osvVlRUpEaaPlx55ZU9zylqa2urq6srLy8PaSTEobf8QV1d\n",
       "XXv37t25c2e8OOy5HDp0qLKyMuSct/Oru7u7w7fdvXt3R0fHuabp43eFyJe8QC0A\n",
       "AhIAo9TPfvazc432NnqEsPRrv/ZrF1544bFjx8wSAAISAKPa3//934eMVFlZOWor\n",
       "8L3vfa/nkHoACEgAjEa1tbUXXHDBF7/4xdH5848dO3bxxRdfdtllyROxABCQABjV\n",
       "ysvL165d29nZOToDUvjtISWaDQAEJAAAAAEJAABAQAIAABCQAAAABCQAAAABCQAA\n",
       "QEACAAAQkAAAAAQkAAAAAQkAAEBAAgAAEJAAAAAEJAAAAAEJAABAQAIAABCQAAAA\n",
       "BCQAAAABCQAAQEACAAAQkAAAAAQkAAAAAQkAAEBAAgAAEJAAAAAQkAAAAAQkAAAA\n",
       "AQkAAEBAAgAAEJAAAAAEJAAAAAEJAABAQAIAABCQAAAABCQAAAABCQAAIKP+P6yz\n",
       "m01a2J+/AAAAAElFTkSuQmCC\" style=\"clip-path:url(#clipPath2);\" height=\"840\" preserveAspectRatio=\"none\"\n",
       "    /></g\n",
       "  ></g\n",
       "></svg\n",
       ">\n"
      ]
     },
     "metadata": {},
     "output_type": "display_data"
    }
   ],
   "source": [
    "step(circ_ss)"
   ]
  },
  {
   "cell_type": "markdown",
   "metadata": {
    "slideshow": {
     "slide_type": "subslide"
    }
   },
   "source": [
    "#### Convert to transfer functiom matrix\n",
    "\n",
    "The function `tf(ss_model)` returns a vector of transfer functions."
   ]
  },
  {
   "cell_type": "code",
   "execution_count": 28,
   "metadata": {
    "slideshow": {
     "slide_type": "fragment"
    }
   },
   "outputs": [
    {
     "name": "stdout",
     "output_type": "stream",
     "text": [
      "\n",
      "circ_tf =\n",
      " \n",
      "  From input \"u\" to output...\n",
      "            s + 1\n",
      "   v31:  -----------\n",
      "         s^2 + s + 1\n",
      " \n",
      "             1\n",
      "   i1:  -----------\n",
      "        s^2 + s + 1\n",
      " \n",
      "              s\n",
      "   v32:  -----------\n",
      "         s^2 + s + 1\n",
      " \n",
      "              1\n",
      "   v21:  -----------\n",
      "         s^2 + s + 1\n",
      " \n",
      "          s^2 + s\n",
      "   i2:  -----------\n",
      "        s^2 + s + 1\n",
      " \n",
      "Continuous-time transfer function.\n",
      "\n"
     ]
    }
   ],
   "source": [
    "circ_tf = tf(circ_ss)"
   ]
  },
  {
   "cell_type": "markdown",
   "metadata": {
    "slideshow": {
     "slide_type": "subslide"
    }
   },
   "source": [
    "#### Determine poles and zeros"
   ]
  },
  {
   "cell_type": "code",
   "execution_count": 29,
   "metadata": {
    "slideshow": {
     "slide_type": "fragment"
    }
   },
   "outputs": [
    {
     "name": "stdout",
     "output_type": "stream",
     "text": [
      "\n",
      "circ_zpk =\n",
      " \n",
      "  From input \"u\" to output...\n",
      "             (s+1)\n",
      "   v31:  -------------\n",
      "         (s^2 + s + 1)\n",
      " \n",
      "              1\n",
      "   i1:  -------------\n",
      "        (s^2 + s + 1)\n",
      " \n",
      "               s\n",
      "   v32:  -------------\n",
      "         (s^2 + s + 1)\n",
      " \n",
      "               1\n",
      "   v21:  -------------\n",
      "         (s^2 + s + 1)\n",
      " \n",
      "           s (s+1)\n",
      "   i2:  -------------\n",
      "        (s^2 + s + 1)\n",
      " \n",
      "Continuous-time zero/pole/gain model.\n",
      "\n"
     ]
    }
   ],
   "source": [
    "circ_zpk=zpk(circ_ss)"
   ]
  },
  {
   "cell_type": "markdown",
   "metadata": {
    "slideshow": {
     "slide_type": "subslide"
    }
   },
   "source": [
    "#### The state transition matrix\n",
    "\n",
    "Calculated using the symbolic math tools provided by MATLAB See `help symbolic`"
   ]
  },
  {
   "cell_type": "code",
   "execution_count": 30,
   "metadata": {
    "slideshow": {
     "slide_type": "fragment"
    }
   },
   "outputs": [
    {
     "name": "stdout",
     "output_type": "stream",
     "text": [
      "phi =\n",
      "[(s + 1)/(s^2 + s + 1), -1/(s^2 + s + 1)]\n",
      "[      1/(s^2 + s + 1),  s/(s^2 + s + 1)]\n"
     ]
    }
   ],
   "source": [
    "syms phi t s\n",
    "phi = inv(s*eye(2) - A)"
   ]
  },
  {
   "cell_type": "markdown",
   "metadata": {
    "slideshow": {
     "slide_type": "subslide"
    }
   },
   "source": [
    "#### The state transfer matrix"
   ]
  },
  {
   "cell_type": "code",
   "execution_count": 31,
   "metadata": {
    "slideshow": {
     "slide_type": "fragment"
    }
   },
   "outputs": [
    {
     "name": "stdout",
     "output_type": "stream",
     "text": [
      "G =\n",
      "                  (s + 1)/(s^2 + s + 1)\n",
      "                        1/(s^2 + s + 1)\n",
      "(s + 1)/(s^2 + s + 1) - 1/(s^2 + s + 1)\n",
      "                        1/(s^2 + s + 1)\n",
      "                    1 - 1/(s^2 + s + 1)\n"
     ]
    }
   ],
   "source": [
    "G = C*phi*B + D"
   ]
  },
  {
   "cell_type": "code",
   "execution_count": 32,
   "metadata": {
    "slideshow": {
     "slide_type": "subslide"
    }
   },
   "outputs": [
    {
     "name": "stdout",
     "output_type": "stream",
     "text": [
      "G =\n",
      "(s + 1)/(s^2 + s + 1)\n",
      "      1/(s^2 + s + 1)\n",
      "      s/(s^2 + s + 1)\n",
      "      1/(s^2 + s + 1)\n",
      "  1 - 1/(s^2 + s + 1)\n"
     ]
    }
   ],
   "source": [
    "G = simplify(G)"
   ]
  },
  {
   "cell_type": "code",
   "execution_count": 33,
   "metadata": {
    "slideshow": {
     "slide_type": "subslide"
    }
   },
   "outputs": [
    {
     "name": "stdout",
     "output_type": "stream",
     "text": [
      "/      s + 1     \\\n",
      "|   ----------   |\n",
      "|    2           |\n",
      "|   s  + s + 1   |\n",
      "|                |\n",
      "|        1       |\n",
      "|   ----------   |\n",
      "|    2           |\n",
      "|   s  + s + 1   |\n",
      "|                |\n",
      "|        s       |\n",
      "|   ----------   |\n",
      "|    2           |\n",
      "|   s  + s + 1   |\n",
      "|                |\n",
      "|        1       |\n",
      "|   ----------   |\n",
      "|    2           |\n",
      "|   s  + s + 1   |\n",
      "|                |\n",
      "|          1     |\n",
      "| 1 - ---------- |\n",
      "|      2         |\n",
      "\\     s  + s + 1 /\n",
      "\n"
     ]
    }
   ],
   "source": [
    "pretty(G)"
   ]
  },
  {
   "cell_type": "markdown",
   "metadata": {
    "slideshow": {
     "slide_type": "notes"
    }
   },
   "source": [
    "A executable script version of this example is available as [ssmodels.mlx](matlab/ssmodels.mlx)."
   ]
  },
  {
   "cell_type": "markdown",
   "metadata": {
    "slideshow": {
     "slide_type": "slide"
    }
   },
   "source": [
    "## Some Important Properties"
   ]
  },
  {
   "cell_type": "markdown",
   "metadata": {
    "slideshow": {
     "slide_type": "subslide"
    }
   },
   "source": [
    "### System poles\n",
    "\n",
    "Clearly the denominator of the transfer function is generated by the\n",
    "matrix inverse which produces the term: \n",
    "\n",
    "$$\\det[s\\mathbf{I}-\\mathbf{A}]$$"
   ]
  },
  {
   "cell_type": "markdown",
   "metadata": {
    "slideshow": {
     "slide_type": "fragment"
    }
   },
   "source": [
    "This evaluates to the denominator polynomial and the poles of the system\n",
    "are the roots of the system's characteristic equation:\n",
    "\n",
    "$$\\det[s\\mathbf{I}-\\mathbf{A}] = 0.$$"
   ]
  },
  {
   "cell_type": "markdown",
   "metadata": {
    "slideshow": {
     "slide_type": "fragment"
    }
   },
   "source": [
    "The system poles are solutions to the system's characteristic equation\n",
    "\n",
    "$$\\det[s\\mathbf{I}-\\mathbf{A}] = 0.$$"
   ]
  },
  {
   "cell_type": "markdown",
   "metadata": {
    "slideshow": {
     "slide_type": "subslide"
    }
   },
   "source": [
    "### System zeros\n",
    "\n",
    "What is the corresponding numerator polynomial of the transfer function,\n",
    "whose roots give the zeros of the system? "
   ]
  },
  {
   "cell_type": "markdown",
   "metadata": {
    "slideshow": {
     "slide_type": "fragment"
    }
   },
   "source": [
    "The zeros are those values of\n",
    "$s$ for which the output is zero when the input and states are not zero."
   ]
  },
  {
   "cell_type": "markdown",
   "metadata": {
    "slideshow": {
     "slide_type": "fragment"
    }
   },
   "source": [
    "Thus: $$\\begin{eqnarray*}\n",
    "(s\\mathbf{I}-\\mathbf{A})\\mathbf{X}-\\mathbf{B}U & = & \\mathbf{0} \\\\\n",
    "\\mathbf{CX}+dU = Y & = & 0\\end{eqnarray*}$$ "
   ]
  },
  {
   "cell_type": "markdown",
   "metadata": {
    "slideshow": {
     "slide_type": "subslide"
    }
   },
   "source": [
    "In matrix form:\n",
    "\n",
    "$$\\left[ {\\begin{array}{*{20}c}\n",
    "   {s{\\bf{I}} - {\\bf{A}}} &  \\vdots  & {\\bf{B}}  \\\\\n",
    "    \\cdots  &  \\cdots  &  \\cdots   \\\\\n",
    "   {\\bf{C}} &  \\vdots  & d  \\\\\n",
    "\\end{array}} \\right]\\left[ {\\begin{array}{*{20}c}\n",
    "   {\\bf{X}}  \\\\\n",
    "    \\cdots   \\\\\n",
    "   U  \\\\\n",
    "\\end{array}} \\right] = \\left[ {\\begin{array}{*{20}c}\n",
    "   {\\bf{0}}  \\\\\n",
    "    \\cdots   \\\\\n",
    "   0  \\\\\n",
    "\\end{array}} \\right]$$"
   ]
  },
  {
   "cell_type": "markdown",
   "metadata": {
    "slideshow": {
     "slide_type": "subslide"
    }
   },
   "source": [
    "The only way this can have non-zero solutions in $\\mathbf{X}$ and $U$ is\n",
    "if: \n",
    "\n",
    "$$\\det \\left[ {\\begin{array}{*{20}c}\n",
    "   {s{\\bf{I}} - {\\bf{A}}} &  \\vdots  & {\\bf{B}}  \\\\\n",
    "    \\cdots  &  \\cdots  &  \\cdots   \\\\\n",
    "   {\\bf{C}} &  \\vdots  & d  \\\\\n",
    "\\end{array}} \\right] = 0$$ "
   ]
  },
  {
   "cell_type": "markdown",
   "metadata": {
    "slideshow": {
     "slide_type": "fragment"
    }
   },
   "source": [
    "This is another polynomial in $s$ whose roots\n",
    "give the system zeros and therefore corresponds to the numerator\n",
    "polynomial of the TF."
   ]
  },
  {
   "cell_type": "markdown",
   "metadata": {
    "slideshow": {
     "slide_type": "subslide"
    }
   },
   "source": [
    "Given this result, an alternative expression for the TF is:\n",
    "\n",
    "$$\\frac{Y(s)}{U(s)} = \\frac{\\det \\left[ \\begin{array}{*{20}c}\n",
    "   s\\bf{I} - \\bf{A} &  \\vdots  & \\bf{B}  \\\\\n",
    "    \\cdots  &  \\cdots  &  \\cdots   \\\\\n",
    "   \\bf{C} &  \\vdots  & d  \\\\\n",
    "\\end{array} \\right]}{\\det [s\\bf{I} - \\bf{A}]}$$"
   ]
  },
  {
   "cell_type": "markdown",
   "metadata": {
    "slideshow": {
     "slide_type": "slide"
    }
   },
   "source": [
    "## Time Responses from Transfer Function Matrices\n",
    "\n",
    "In the [next section](../3/tr4ss) we will consider how we can use the transfer function model to compute time responses from state-space models."
   ]
  },
  {
   "cell_type": "markdown",
   "metadata": {
    "slideshow": {
     "slide_type": "notes"
    }
   },
   "source": [
    "## Footnote\n",
    "\n",
    "1. $\\epsilon(t)$ is the unit step function $\\epsilon(t)=0$ for\n",
    "    $t < 0$; $\\epsilon(t)=1$ for $t \\ge 0$.\n"
   ]
  }
 ],
 "metadata": {
  "celltoolbar": "Slideshow",
  "kernelspec": {
   "display_name": "MATLAB",
   "language": "matlab",
   "name": "imatlab"
  },
  "language_info": {
   "codemirror_mode": "octave",
   "file_extension": ".m",
   "mimetype": "text/x-matlab",
   "name": "matlab",
   "nbconvert_exporter": "imatlab._exporter.MatlabExporter",
   "pygments_lexer": "matlab",
   "version": "9.9.0.1467703 (R2020b)"
  }
 },
 "nbformat": 4,
 "nbformat_minor": 2
}
