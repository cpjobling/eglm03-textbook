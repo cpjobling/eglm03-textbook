{
 "cells": [
  {
   "cell_type": "markdown",
   "metadata": {
    "slideshow": {
     "slide_type": "slide"
    }
   },
   "source": [
    "# Transforms and Time Responses for State Space Models\n",
    "\n",
    "* Laplace Transform of State Space Models\n",
    "* Time Responses for State Space Models\n",
    "* Detailed example (in class)\n",
    "* Problems (homework)"
   ]
  },
  {
   "cell_type": "markdown",
   "metadata": {
    "slideshow": {
     "slide_type": "slide"
    }
   },
   "source": [
    "## Laplace Transforms of State Space Models"
   ]
  },
  {
   "cell_type": "markdown",
   "metadata": {
    "slideshow": {
     "slide_type": "fragment"
    }
   },
   "source": [
    "The Laplace transform can be used to convert a differential equation into a transfer function. It can also be used to convert a state space model into a transfer function. In this lecture we demonstrate how this is done and we give an example."
   ]
  },
  {
   "cell_type": "markdown",
   "metadata": {
    "slideshow": {
     "slide_type": "subslide"
    }
   },
   "source": [
    "### Laplace transform of a vector of functions\n",
    "\n",
    "The Laplace transform of a vector $\\mathbf{v}(t)$ is a vector $\\mathbf{V}(s)$. The elements of $\\mathbf{V}(s)$ are the Laplace transforms of the corresponding elements of the vector $\\mathbf{v}(t)$."
   ]
  },
  {
   "cell_type": "markdown",
   "metadata": {
    "slideshow": {
     "slide_type": "fragment"
    }
   },
   "source": [
    "For array \n",
    "\n",
    "$$\\mathbf{v}(t) = \\left[\n",
    "  \\begin{array}{c}\n",
    "    v_1(t) \\\\\n",
    "    v_2(t) \\\\\n",
    "    \\vdots \\\\\n",
    "    v_n(t) \\\\\n",
    "  \\end{array}\n",
    "  \\right]$$"
   ]
  },
  {
   "cell_type": "markdown",
   "metadata": {
    "slideshow": {
     "slide_type": "subslide"
    }
   },
   "source": [
    "The transformed variables are \n",
    "\n",
    "$$\\mathcal{L}\\mathbf{v}(t) = \\left[\n",
    "  \\begin{array}{c}\n",
    "   \\mathcal{L} v_1(t) \\\\\n",
    "   \\mathcal{L} v_2(t) \\\\\n",
    "    \\vdots \\\\\n",
    "   \\mathcal{L} v_n(t) \\\\\n",
    "  \\end{array}\n",
    "  \\right] = \\left[\n",
    "  \\begin{array}{c}\n",
    "   V_1(s) \\\\\n",
    "   V_2(s) \\\\\n",
    "    \\vdots \\\\\n",
    "   V_n(s) \\\\\n",
    "  \\end{array}\n",
    "  \\right] = \\mathbf{V}(s)$$"
   ]
  },
  {
   "cell_type": "markdown",
   "metadata": {
    "slideshow": {
     "slide_type": "subslide"
    }
   },
   "source": [
    "For example, if<sup>1</sup> \n",
    "\n",
    "$$\\mathbf{v}(t)=\\left[ \\begin{array}{c}\n",
    "   \\epsilon(t) \\\\\n",
    "   e^{-at} \\\\\n",
    "   \\sin bt \\\\\n",
    "  \\end{array} \\right]$$ \n",
    "  "
   ]
  },
  {
   "cell_type": "markdown",
   "metadata": {
    "slideshow": {
     "slide_type": "fragment"
    }
   },
   "source": [
    "then $$\\mathbf{V}(s)=\\left[ \\begin{array}{c}\n",
    "   1/s \\\\\n",
    "   1/(s+a) \\\\\n",
    "   b/(s^2+b^2) \\\\\n",
    "  \\end{array} \\right]$$"
   ]
  },
  {
   "cell_type": "markdown",
   "metadata": {
    "slideshow": {
     "slide_type": "subslide"
    }
   },
   "source": [
    "### Transform of State Equations\n",
    "\n",
    "Let us now transform the generalized form of the state equations obtained in the last lecture. \n",
    "\n",
    "$$\\begin{eqnarray*}\n",
    "  \\frac{d\\mathbf{x}(t)}{dt} &=&\n",
    "  \\mathbf{A}\\mathbf{x}(t)+\\mathbf{B}\\mathbf{u}(t)\\\\\n",
    "  \\mathbf{y}(t)&=&\\mathbf{C}\\mathbf{x}(t)+\\mathbf{D}\\mathbf{u}(t)\\end{eqnarray*}$$"
   ]
  },
  {
   "cell_type": "markdown",
   "metadata": {
    "slideshow": {
     "slide_type": "subslide"
    }
   },
   "source": [
    "Applying the Laplace transform to both sides of this matrix equation\n",
    "gives the transform equations \n",
    "\n",
    "$$\\begin{eqnarray*}\n",
    "  s\\mathbf{X}(s)-\\mathbf{x}(0) &=& \n",
    "  \\mathbf{A}\\mathbf{X}(s)+\\mathbf{B}\\mathbf{U}(s)\\\\\n",
    "  \\mathbf{Y}(s)&=&\\mathbf{C}\\mathbf{X}(s)+\\mathbf{D}\\mathbf{U}(s)\\end{eqnarray*}$$"
   ]
  },
  {
   "cell_type": "markdown",
   "metadata": {
    "slideshow": {
     "slide_type": "fragment"
    }
   },
   "source": [
    "where $\\mathbf{x}(0)$ is the vector of initial conditions vector of the\n",
    "states; $\\mathbf{X}(s)$ is the state transform vector; $\\mathbf{U}(s)$\n",
    "input transform vector; $\\mathbf{Y}(s)$ is output transform vector."
   ]
  },
  {
   "cell_type": "markdown",
   "metadata": {
    "slideshow": {
     "slide_type": "subslide"
    }
   },
   "source": [
    "### Transformed State-Equations for Example 1 from Section \n",
    "\n",
    "For the system in the example the state vector is defined as $\\mathbf{x}=[v_{31}, i_1]^{T}$, the input current is $u$, and the output variables are all the currents and voltages in the circuit $\\mathbf{y}=[v_{31}, i_1, v_{32}, v_{21}, i_2]^{T}$. "
   ]
  },
  {
   "cell_type": "markdown",
   "metadata": {
    "slideshow": {
     "slide_type": "subslide"
    }
   },
   "source": [
    "The transformed state space model is therefore:\n",
    "\n",
    "$$\\begin{eqnarray}\n",
    " s\\left[\\begin{array}{c}\n",
    "  V_{31} \\\\\n",
    "  I_1\n",
    "\\end{array}\\right]-\\left[\\begin{array}{c}\n",
    "  v_{31}(0) \\\\\n",
    "  i_1(0)\n",
    "\\end{array}\\right]&=&\\left[\\begin{array}{cc}\n",
    "  0 & -1/C \\\\\n",
    "  1/L & -R/L\n",
    "\\end{array}\\right]\\left[\\begin{array}{c}\n",
    "  V_{31} \\\\\n",
    "  I_1\n",
    "\\end{array}\\right]+\\left[\\begin{array}{c}\n",
    "  1/C \\\\\n",
    "  0\n",
    "\\end{array}\\right]\\left[U\\right]\\\\\n",
    "\\left[\\begin{array}{c}\n",
    "  V_{31} \\\\\n",
    "  I_1 \\\\\n",
    "  V_{32} \\\\\n",
    "  V_{21} \\\\\n",
    "  I_{2}\n",
    "\\end{array}\\right]&=&\\left[\\begin{array}{cc}\n",
    "  1 & 0 \\\\\n",
    "  0 & 1 \\\\\n",
    "  1 & -R \\\\\n",
    "  0 & R \\\\\n",
    "  0 & -1\n",
    "\\end{array}\\right]\\left[\\begin{array}{c}\n",
    "  V_{31} \\\\\n",
    "  I_1\n",
    "\\end{array}\\right]+\\left[\\begin{array}{c}\n",
    "  0 \\\\\n",
    "  0 \\\\\n",
    "  0 \\\\\n",
    "  0 \\\\\n",
    "  1\n",
    "\\end{array}\\right]\\left[U\\right].\\end{eqnarray}$$"
   ]
  },
  {
   "cell_type": "markdown",
   "metadata": {
    "slideshow": {
     "slide_type": "slide"
    }
   },
   "source": [
    "## Transfer function from State-Space Models"
   ]
  },
  {
   "cell_type": "markdown",
   "metadata": {
    "slideshow": {
     "slide_type": "notes"
    }
   },
   "source": [
    "The transform equations may be solved as follows (the Laplace transform operator $s$ is omitted for brevity)."
   ]
  },
  {
   "cell_type": "markdown",
   "metadata": {
    "slideshow": {
     "slide_type": "fragment"
    }
   },
   "source": [
    "Substituting $\\mathbf{X}$ from (1) into (2) gives \n",
    "\n",
    "$$\\begin{equation}\n",
    "  \\mathbf{Y}=\\left[\\mathbf{C}\\left[s\\mathbf{I}-\\mathbf{A}\\right]^{-1}\\mathbf{B}\\mathbf{U}+\n",
    "  \\mathbf{C}\\left[s\\mathbf{I}-\\mathbf{A}\\right]^{-1}\\mathbf{x}(0)\\right]+\\mathbf{D}\\mathbf{U}\\end{equation}$$"
   ]
  },
  {
   "cell_type": "markdown",
   "metadata": {
    "slideshow": {
     "slide_type": "fragment"
    }
   },
   "source": [
    "which after gathering terms and simplifying gives\n",
    "$$\\begin{equation}\n",
    "  \\mathbf{Y}=\\left[\\mathbf{C}\\left[s\\mathbf{I}-\\mathbf{A}\\right]^{-1}\\mathbf{B}+\\mathbf{D}\\right]\\mathbf{U}\n",
    "      +\\mathbf{C}\n",
    "  \\left[s\\mathbf{I}-\\mathbf{A}\\right]^{-1}\\mathbf{x}(0)\\end{equation}$$"
   ]
  },
  {
   "cell_type": "markdown",
   "metadata": {
    "slideshow": {
     "slide_type": "subslide"
    }
   },
   "source": [
    "When the initial conditions of the state-variables are all zero, this\n",
    "reduces to the transfer matrix model \n",
    "\n",
    "$$\\begin{equation}\n",
    "  \\mathbf{Y}=\\left[\\mathbf{C}\\left[s\\mathbf{I}-\\mathbf{A}\\right]^{-1}\\mathbf{B}+\\mathbf{D}\\right]\\mathbf{U}\\end{equation}$$"
   ]
  },
  {
   "cell_type": "markdown",
   "metadata": {
    "slideshow": {
     "slide_type": "subslide"
    }
   },
   "source": [
    "The matrix $\\mathbf{C}\\left[s\\mathbf{I}-\\mathbf{A}\\right]^{-1}\\mathbf{B}+\\mathbf{D}$ is the *system transfer matrix*."
   ]
  },
  {
   "cell_type": "markdown",
   "metadata": {
    "slideshow": {
     "slide_type": "fragment"
    }
   },
   "source": [
    "The element of the $i$-th row and $j$-th column is the transfer function that relates the $i$-th output transform $Y_i$ to the $j$-th input transform $U_j$."
   ]
  },
  {
   "cell_type": "markdown",
   "metadata": {
    "slideshow": {
     "slide_type": "fragment"
    }
   },
   "source": [
    "For a single-input, single-output (SISO) system, the system transfer matrix reduces to a single element transfer function."
   ]
  },
  {
   "cell_type": "markdown",
   "metadata": {
    "slideshow": {
     "slide_type": "subslide"
    }
   },
   "source": [
    "The matrix $\\left[s\\mathbf{I}-\\mathbf{A}\\right]^{-1}$ is very important."
   ]
  },
  {
   "cell_type": "markdown",
   "metadata": {
    "slideshow": {
     "slide_type": "fragment"
    }
   },
   "source": [
    "It is known as the *resolvent matrix* of the system."
   ]
  },
  {
   "cell_type": "markdown",
   "metadata": {
    "slideshow": {
     "slide_type": "fragment"
    }
   },
   "source": [
    "It may be written as \n",
    "\n",
    "$$\\left[s\\mathbf{I}-\\mathbf{A}\\right]^{-1} =\n",
    "        \\frac{\\mathrm{adj}\\left[s\\mathbf{I}-\\mathbf{A}\\right]}\n",
    "             {\\det\\left[s\\mathbf{I}-\\mathbf{A}\\right]}.$$"
   ]
  },
  {
   "cell_type": "markdown",
   "metadata": {
    "slideshow": {
     "slide_type": "subslide"
    }
   },
   "source": [
    "### Resolvent matrix for the example\n",
    "\n",
    "For the system in the example, the resolvent matrix is developed as"
   ]
  },
  {
   "cell_type": "markdown",
   "metadata": {
    "slideshow": {
     "slide_type": "fragment"
    }
   },
   "source": [
    "$$\\begin{equation*}\n",
    "\\mathbf{A}=\\left[\\begin{array}{cc}\n",
    "  0 & -1/C \\\\\n",
    "  1/L & -R/L\n",
    "\\end{array}\\right] \\end{equation*}$$"
   ]
  },
  {
   "cell_type": "markdown",
   "metadata": {
    "slideshow": {
     "slide_type": "fragment"
    }
   },
   "source": [
    "$$\\begin{equation*}\n",
    "s\\mathbf{I}-\\mathbf{A}=\\left[\n",
    "\\begin{array}{cc}\n",
    "  s & 0 \\\\\n",
    "  0 & s\n",
    "\\end{array}\n",
    "\\right] - \\left[\n",
    "\\begin{array}{cc}\n",
    "  0 & -1/C \\\\\n",
    "  1/L & -R/L\n",
    "\\end{array}\n",
    "\\right] = \\left[\n",
    "\\begin{array}{cc}\n",
    "  s & +1/C \\\\\n",
    "  -1/L & s+R/L\n",
    "\\end{array}\\right] \\end{equation*}$$"
   ]
  },
  {
   "cell_type": "markdown",
   "metadata": {
    "slideshow": {
     "slide_type": "subslide"
    }
   },
   "source": [
    "$$\\begin{equation*}\n",
    "\\left[s\\mathbf{I}-\\mathbf{A}\\right]^{-1}=\\frac{\n",
    "\\left[\\begin{array}{cc}\n",
    "  s+R/L & -1/C \\\\\n",
    "  +1/L & s\n",
    "\\end{array} \\right]\n",
    "}{s(s+R/L)+1/(LC)}=\\frac{\\left[\\begin{array}{cc}\n",
    "  s+R/L & -1/C \\\\\n",
    "  +1/L & s\n",
    "\\end{array} \\right]}{s^2 + (R/L)s + 1/(LC) }\\end{equation*}$$"
   ]
  },
  {
   "cell_type": "markdown",
   "metadata": {
    "slideshow": {
     "slide_type": "notes"
    }
   },
   "source": [
    "When $\\left[s\\mathbf{I}-\\mathbf{A}\\right]^{-1}$ has been obtained, then the system transfer function is easily obtained through $\\mathbf{C}\\left[s\\mathbf{I}-\\mathbf{A}\\right]^{-1}\\mathbf{B}+\\mathbf{D}$.\n",
    "For the system in the example, when all outputs are measured, the system transfer matrix is:"
   ]
  },
  {
   "cell_type": "markdown",
   "metadata": {
    "slideshow": {
     "slide_type": "subslide"
    }
   },
   "source": [
    "### Transfer matrix for example\n",
    "\n",
    "$$\\begin{equation*}\n",
    "\\left[\\begin{array}{cc}\n",
    "  1 & 0 \\\\\n",
    "  0 & 1 \\\\\n",
    "  1 & -R \\\\\n",
    "  0 & R \\\\\n",
    "  0 & -1\n",
    "\\end{array}\\right]\n",
    "\\left\\{\\frac{\\left[\n",
    "\\begin{array}{cc}\n",
    "  s+R/L & -1/C \\\\\n",
    " +1/L & s\n",
    "\\end{array}\\right]}{s^2 + (R/L)s +1/(LC)}\\right\\}\n",
    "\\left[\\begin{array}{c}\n",
    "  1/C \\\\\n",
    "  0\n",
    "\\end{array}\\right]\n",
    " + \\left[\\begin{array}{c}\n",
    "  0 \\\\\n",
    "  0 \\\\\n",
    "  0 \\\\\n",
    "  0 \\\\\n",
    "  1\n",
    "\\end{array} \\right]\n",
    "\\end{equation*}$$"
   ]
  },
  {
   "cell_type": "markdown",
   "metadata": {
    "slideshow": {
     "slide_type": "subslide"
    }
   },
   "source": [
    "$$\\begin{equation*}\n",
    "= \\left[\\begin{array}{cc}\n",
    "  1 & 0 \\\\\n",
    "  0 & 1 \\\\\n",
    "  1 & -R \\\\\n",
    "  0 & R \\\\\n",
    "  0 & -1\n",
    "\\end{array}\\right]\n",
    "\\left\\{\\frac{\\left[\n",
    "\\begin{array}{c}\n",
    "  (1/C)s+R/(LC)  \\\\\n",
    " +1/(LC)\n",
    "\\end{array}\\right]}{s^2 + (R/L)s +1/(LC)}\\right\\}\n",
    " + \\left[\\begin{array}{c}\n",
    "  0 \\\\\n",
    "  0 \\\\\n",
    "  0 \\\\\n",
    "  0 \\\\\n",
    "  1\n",
    "\\end{array} \\right]\\end{equation*}$$"
   ]
  },
  {
   "cell_type": "markdown",
   "metadata": {
    "slideshow": {
     "slide_type": "subslide"
    }
   },
   "source": [
    "$$\\begin{equation*}\n",
    " = \\frac{1}{s^2 + (R/L)s\n",
    "+1/(LC)}\\left[\\begin{array}{c}\n",
    "  (1/C)s+R/(LC) \\\\\n",
    "  1/(LC) \\\\\n",
    "  (1/C)s \\\\\n",
    "  R/(LC) \\\\\n",
    "  -1/(LC)\n",
    "\\end{array}\\right] + \\left[\\begin{array}{c}\n",
    "  0 \\\\\n",
    "  0 \\\\\n",
    "  0 \\\\\n",
    "  0 \\\\\n",
    "  1\n",
    "\\end{array} \\right]\\end{equation*}$$"
   ]
  },
  {
   "cell_type": "markdown",
   "metadata": {
    "slideshow": {
     "slide_type": "subslide"
    }
   },
   "source": [
    "$$\\begin{equation*}\n",
    "= \\left[\\begin{array}{c}\n",
    "  \\frac{(1/C)s+R/(LC)}{s^2 + (R/L)s\n",
    "+1/(LC)} \\\\\n",
    "  \\frac{1/(LC)}{s^2 + (R/L)s\n",
    "+1/(LC)} \\\\\n",
    "  \\frac{(1/C)s}{s^2 + (R/L)s\n",
    "+1/(LC)} \\\\\n",
    "  \\frac{R/(LC)}{s^2 + (R/L)s\n",
    "+1/(LC)} \\\\\n",
    "  -\\frac{1/(LC)}{s^2 + (R/L)s\n",
    "+1/(LC)}+1\n",
    "\\end{array}\\right]\\end{equation*}$$"
   ]
  },
  {
   "cell_type": "markdown",
   "metadata": {
    "slideshow": {
     "slide_type": "subslide"
    }
   },
   "source": [
    "In matrix form, when combined with the input and output transforms we have the situation illustrated below. Each transfer function relates the corresponding output transform to the input transform. "
   ]
  },
  {
   "cell_type": "markdown",
   "metadata": {
    "slideshow": {
     "slide_type": "fragment"
    }
   },
   "source": [
    "For example\n",
    "\n",
    "$$V_{31}= \\frac{(1/C)s+R/(LC)}{s^2 + (R/L)s\n",
    "+1/(LC)}\\ U.$$"
   ]
  },
  {
   "cell_type": "markdown",
   "metadata": {
    "slideshow": {
     "slide_type": "subslide"
    }
   },
   "source": [
    "### Transform Equations for Example\n",
    "\n",
    "$$\\begin{eqnarray*}\n",
    "\\mathbf{Y}(s)&=&\\left[\\mathbf{C}\\left[s\\mathbf{I}-\\mathbf{A}\\right]^{-1}\\mathbf{B}+\\mathbf{D}\\right]\\mathbf{U}(s)\\\\\n",
    "\\mathbf{Y}(s) &=& \\mathbf{G}(s)\\mathbf{U}(s)\\end{eqnarray*}$$"
   ]
  },
  {
   "cell_type": "markdown",
   "metadata": {
    "slideshow": {
     "slide_type": "subslide"
    }
   },
   "source": [
    "$$\\begin{eqnarray*}\\left[\\begin{array}{c}\n",
    "  V_{31}(s) \\\\\n",
    "  I_1(s) \\\\\n",
    "  V_{32}(s) \\\\\n",
    "  V_{21}(s) \\\\\n",
    "  I_{2}(s)\n",
    "\\end{array}\\right] &=& \\left[\\begin{array}{c}\n",
    "  \\frac{(1/C)s+R/(LC)}{s^2 + (R/L)s\n",
    "+1/(LC)} \\\\\n",
    "  \\frac{1/(LC)}{s^2 + (R/L)s\n",
    "+1/(LC)} \\\\\n",
    "  \\frac{(1/C)s}{s^2 + (R/L)s\n",
    "+1/(LC)} \\\\\n",
    "  \\frac{R/(LC)}{s^2 + (R/L)s\n",
    "+1/(LC)} \\\\\n",
    "  -\\frac{1/(LC)}{s^2 + (R/L)s\n",
    "+1/(LC)}+1\n",
    "\\end{array}\\right]\\mathbf{U}(s).\\end{eqnarray*}$$"
   ]
  },
  {
   "cell_type": "markdown",
   "metadata": {
    "slideshow": {
     "slide_type": "notes"
    }
   },
   "source": [
    "Note that the denominator is the same for each transfer function, and\n",
    "that the order of the numerator is less than the denominator except for\n",
    "one case, for which \n",
    "\n",
    "$$\\begin{eqnarray*}\n",
    "I_2 & = & \\left(-\\frac{1/(LC)}{s^2 + (R/L)s +1/(LC)}+1\\right)U\\\\\n",
    "    & = & \\frac{-1/{LC}+s^2 + (R/L)s +1/(LC)}{s^2 + (R/L)s\n",
    "    +1/(LC)}\\ U\n",
    "    \\\\\n",
    "    & = &\\frac{s^2 + (R/L)s}{s^2 + (R/L)s\n",
    "    +1/(LC)}\\ U\\end{eqnarray*}$$ \n",
    "    \n",
    "Replacing $s$ by $\\frac{d}{dt}$ gives the\n",
    "corresponding differential equations relating the dependant variable to\n",
    "the input."
   ]
  },
  {
   "cell_type": "markdown",
   "metadata": {
    "slideshow": {
     "slide_type": "slide"
    }
   },
   "source": [
    "### Converting SS to TF in Matlab\n",
    "\n",
    "We will do this in class\n",
    "\n",
    "Continuing example from [Section 7.1](../1/intro2ss):"
   ]
  },
  {
   "cell_type": "code",
   "execution_count": 2,
   "metadata": {
    "slideshow": {
     "slide_type": "fragment"
    }
   },
   "outputs": [],
   "source": [
    "clear all\n",
    "format compact\n",
    "imatlab_export_fig('print-svg')  % Static svg figures."
   ]
  },
  {
   "cell_type": "markdown",
   "metadata": {
    "slideshow": {
     "slide_type": "subslide"
    }
   },
   "source": [
    "Define some values for capacitance, inductance and resitance"
   ]
  },
  {
   "cell_type": "code",
   "execution_count": 3,
   "metadata": {
    "slideshow": {
     "slide_type": "fragment"
    }
   },
   "outputs": [],
   "source": [
    "Cap = 1; L = 1; R = 1;"
   ]
  },
  {
   "cell_type": "markdown",
   "metadata": {
    "slideshow": {
     "slide_type": "subslide"
    }
   },
   "source": [
    "#### Define state space model and label states inputs and outputs"
   ]
  },
  {
   "cell_type": "code",
   "execution_count": 4,
   "metadata": {},
   "outputs": [],
   "source": [
    "A = [0 -1/Cap; 1/L -R/L];\n",
    "B = [1/Cap; 0];\n",
    "C = [1 0; 0 1; 1 -R; 0 R; 0 -1];\n",
    "D = [0; 0; 0; 0; 1];\n",
    "circ_ss = ss(A, B, C, D, ...\n",
    "'statename',{'v31' 'i1'}, ...\n",
    "'inputname', 'u', ...\n",
    "'outputname', {'v31' 'i1' 'v32' 'v21' 'i2'});"
   ]
  },
  {
   "cell_type": "markdown",
   "metadata": {
    "slideshow": {
     "slide_type": "subslide"
    }
   },
   "source": [
    "#### Show model"
   ]
  },
  {
   "cell_type": "code",
   "execution_count": null,
   "metadata": {
    "slideshow": {
     "slide_type": "notes"
    }
   },
   "outputs": [],
   "source": [
    "circ_ss"
   ]
  },
  {
   "cell_type": "markdown",
   "metadata": {
    "slideshow": {
     "slide_type": "subslide"
    }
   },
   "source": [
    "#### Plot a step response"
   ]
  },
  {
   "cell_type": "code",
   "execution_count": 5,
   "metadata": {},
   "outputs": [
    {
     "data": {
      "image/svg+xml": [
       "<?xml version=\"1.0\"?>\n",
       "<!DOCTYPE svg PUBLIC '-//W3C//DTD SVG 1.0//EN'\n",
       "          'http://www.w3.org/TR/2001/REC-SVG-20010904/DTD/svg10.dtd'>\n",
       "<svg xmlns:xlink=\"http://www.w3.org/1999/xlink\" style=\"fill-opacity:1; color-rendering:auto; color-interpolation:auto; text-rendering:auto; stroke:black; stroke-linecap:square; stroke-miterlimit:10; shape-rendering:auto; stroke-opacity:1; fill:black; stroke-dasharray:none; font-weight:normal; stroke-width:1; font-family:'Dialog'; font-style:normal; stroke-linejoin:miter; font-size:12px; stroke-dashoffset:0; image-rendering:auto;\" width=\"560\" height=\"420\" xmlns=\"http://www.w3.org/2000/svg\"\n",
       "><!--Generated by the Batik Graphics2D SVG Generator--><defs id=\"genericDefs\"\n",
       "  /><g\n",
       "  ><defs id=\"defs1\"\n",
       "    ><clipPath clipPathUnits=\"userSpaceOnUse\" id=\"clipPath1\"\n",
       "      ><path d=\"M0 0 L560 0 L560 420 L0 420 L0 0 Z\"\n",
       "      /></clipPath\n",
       "    ></defs\n",
       "    ><g style=\"fill:white; stroke:white;\"\n",
       "    ><rect x=\"0\" y=\"0\" width=\"560\" style=\"clip-path:url(#clipPath1); stroke:none;\" height=\"420\"\n",
       "    /></g\n",
       "    ><g\n",
       "    ><image x=\"0\" y=\"0\" width=\"560\" xlink:href=\"data:image/png;base64,iVBORw0KGgoAAAANSUhEUgAAAjAAAAGkCAIAAACgjIjwAAAzU0lEQVR42u2dD1RU\n",
       "152AadqcNm3c1hrTrl2z3dOuzZ+as6nu2mw2Delujmd3kzabNm2SNkfTuGpWQBR1\n",
       "ZBQZQZEuGAuWNGYUFURF01SlISgKSQ6JdnIgsipUHf9NdGJFHDDiMMAM+wvXvIwz\n",
       "A6LAzHsz33fe4VzevHlz5/3m3W9+9915N64bAABAB8RxCAAAACEBAAAgJAAAQEgA\n",
       "AAAICQAAEBIAAABCAgAAhAQAAICQAAAAIQEAACAkAABASAAAAAgJAAAQEgAAAEIC\n",
       "AACEBAAAgJAAAAAhAQAAICQAAEBIAAAACAkAABASAAAAQgIYElpaWhoaGi5cuMCh\n",
       "AEBIAJGhq6tr6tSpn/3sZ+Pi4j7zmc/85Cc/uXz5cnt7+7x587Zs2XIDO9y+fXuc\n",
       "H7fddltmZibHGQAhAVyD4uJi0cYTTzzxhz/84b/+67+kvHTp0osXL0rhl7/85Q0L\n",
       "6YEHHsjOzjaZTCNGjJB/33vvPQ41AEIC6AvRjwgjISHh/Pnz586d+9///d/XX399\n",
       "zJgxsnLYsGE///nPZZvf/OY3f/d3f/flL3/5ySefdLlcVqv1O9/5zqRJk2TNt7/9\n",
       "7c2bNwcLKSUlRf37/PPPy7+yz+D9nD59+uGHH/7CF74gL/SLX/xCMrPe9izr5d9b\n",
       "brnl/vvv/9Of/qTWyJaJiYlf/epXJQkrKSkJ3lvwKxJuQEgA+uXIkSPDhw8XZ9x0\n",
       "003jxo1btmyZx+NZv369rHnwwQf37Nnz6quvSnnq1Km//vWvb7755qefflq2kTXj\n",
       "x48XK4i6ZKXD4QgQ0kMPPZSbm2s2m8UWI0eOFBkE72f+/PmyZu3atUuWLPnSl74k\n",
       "uVrIPVdVVcnKRx555JVXXrnjjjtkby0tLWrLe++9d+HChSKh0aNHB+8t+BUJNyAk\n",
       "AF3zl7/8JScn51//9V+l1ZYW/L//+7/9u+yeeuopKU+ZMkVa9hEjRkjrr2QgrpJH\n",
       "N27cKGURWICQPv/5z4s51A5/9rOfhdxPfn6+rLn99tsloZEUp6urK+SeZ82aJQW7\n",
       "3S4rf/vb30q5oqJCbamucok4P/vZzwbvLfgViTUgJAD9Is39D3/4Q8k5pHzq1Clp\n",
       "tb/xjW/4C+nxxx+XcnJycuonqF6+d955R9PPqlWrAoSkuuxkP9/73vfk34MHDwbv\n",
       "p7Ozc+fOnQkJCZL3yEOS2SjNBOx5xowZUvjggw9k5Zo1a6QsD6kt9+7dKysfe+yx\n",
       "z3zmM1II2FvIVyTigJAAdIo009Jq/+d//uerr74qjbi07P/2b/926dIlWTl27Ng3\n",
       "33wzLy9PynPnzpXE5Z//+Z+feeYZJQPRQE1NTXx8vJTr6+tDCklYtGiR/FteXh68\n",
       "n2efffav/uqvxFVvvPGGPJSUlBRyz5IGqbxNVt53331f/OIXP/zww2AhBe8t+BUJ\n",
       "NyAkAP3idrslE1LDvoUJEyaozrGJEyeqfzs6OiZNmnTTTTdJo3/vvfeeOHFCyUAe\n",
       "kr+f+9zn0tPT/Xe4Y8cOWT9nzhz1b1FRkfz74osvBu9H5PH3f//36nWlcOTIkd72\n",
       "LHtTvX+33XabiFPW+AvpRz/6kewzeG/Br0i4ASEB6B1JiQ4fPhzww1hxlcfjUeXL\n",
       "ly+fP39elTUZNDc3q8Fs/cd/P4LP53P2IIW+9yw1OX36tNqsNwL2FvIVARASQPSQ\n",
       "nZ0tace+ffsMtGcAhAQAAICQAAAAIQEAACAkgMjg84OjAYCQACLDoUOHpk2blvIJ\n",
       "6uZ1AICQAMLNwYMHs7KyOA4ACAlAX0J6++23N2/ebLFY9u7d6/F4CgsL03vYuXOn\n",
       "rCkoKMjOzk5NTd22bVtmZqYU1M9dT548aTKZtJ3IllqmtXDhQg4yICQA6JeQZsyY\n",
       "kf4JLpdr/vz56hepIpVVq1b5fL62tjaz2fznP/85NzfX6/UeOHBg9uzZ7e3tFy9e\n",
       "TE5O7u75Ke6xY8e0fVZXV2/dulWVZeccZEBIAHDdGVJlZWVpaakqv/LKK++++64q\n",
       "r127tqqqSmnm+PHjYiYpiJySkpKC94mQACEBwCAIadu2bapcVla2Zs0ayZAkGVq4\n",
       "cGFDQ0NvQvJ4PP5TK9XU1FitVimcOHHihRde4CADQgKAfglp2bJlIYXkdrvz8vLS\n",
       "0tLmzZv3+9//XvIedcVIhLR8+XJ/Idnt9mnTpmk7uXDhgjzFYrGsWLFC9ekBICQA\n",
       "GCiipRuYjkhcdenSJY4eICQAAACEBAAACAkAAAAhAQAAQoKoYK3Naak4LguHAgAQ\n",
       "ksGYakzGJeSPmrlpWPKOuNl75K+UZRmTuFoWeShgUevVNrKop6hnyfr4GctkmQoA\n",
       "MQBC0ruQ9F/JE81ulfeIS7655B2xiJSr7a5B2fnkTQ2yxBfUqZ2rfyXTisHjHAV1\n",
       "5lBTZ0PXGSHpOkIiHpGELP4dcUNaZ1GRLEpR8rryV/lpgP7j7KXa1Jk6IyRDRsjf\n",
       "Q5IeRbbOg+Inzl6qTZ2pM0IyUoRU11xvHtIPmp+kwAAKAJo7hBRVEfJXkVEOndRZ\n",
       "Derzv/406BefAAAhESFUdN0MxcUnAEBIRCh8KoriwxvgJ1oEAISEkHQXIckb4mbv\n",
       "iZELMKJeeb8qf1KDNbT8iTYCACHFnJBsNtvGjRt1EiGVNMTyiaH5SR0Krj8BIKSY\n",
       "EJLL5bJarTNmzFi3bl3EIxRTidF1pVCan/wVRS8fAELSES0tLb8Lhcfj6ece3G53\n",
       "fX39li1bQgpp3Lhx2k01LBaLtn4oyqrDSo3nHurXMnp5cpJJ+4lu3JMvKkUF9PVx\n",
       "rK63rH5e7b8o6wcs6mtB34sWkbAt/alVH0vIdzrAJfh4DtHSW0z7+XT/G4khpAHh\n",
       "9Xp37949ffr0A1cj66+3yy6CGZJIKDrG0emnr0/r7lMjzjVXqWbCcL1/2l1xAzwR\n",
       "0gHylv2XPlrt3lpPPkiGoP+iIkMKK2azeYB7iKCQpK2RloLRz+Fs2f1b84BGvD9t\n",
       "dz+Xa6YO/dFGgDCIINBlp3dcroG25pESkmq2OBMAACFFiZD8zXThwgVDCOlEs1t9\n",
       "BeY0AACEFCVCeuuttxYuXPjyyy+XlZXN6uG1117TeYS4aAQACCnahNTe3i4Gamxs\n",
       "3LFjx7x589xu9+XLl00mk/zVbYTERnGz9/DpBwCEFFVCcrlcmZmZUmhtbd2wYYNa\n",
       "mZGR0dTUpNsIiY0YwgAACCnahCSIkNavX6/GNVy6dGnr1q2pqanXO+w7PBESDzGg\n",
       "DgAQUtQK6fLly1VVVefOnZPymTNniouLz549q8MIYSMAQEhRLiTh2LFjubm5NTU1\n",
       "brdbtxGK8dvTAQBCigkheb3ehoaGDRs2pKamWq3WAwcO+Hw+/USI3AgAEFKsCEnj\n",
       "3Llz+fn5clgHK1UaeISwEQAgpBgSkuhn165dWVlZ8+fP37Ztm66uIWEjAEBIMSQk\n",
       "h8NRWFjY2Ng4WD11gxIhciMAQEgxJyQdRkj9+hUbAQBCQkgRjhA2AgCEhJAiH6H4\n",
       "gjpsBAAIKRaF5PV6tWF1Pp8v5BA7WV9SUmIymSwWS2Njo/9D2dnZlh4KCwsHHiGx\n",
       "keHmfwMAQEiDg91u1w6l0+kMOey7rq4uPT1d1tfW1qampmrrW1paMjIy2nvo6OgY\n",
       "YITUjGp8sgEAIcWokJRIbDZbRUWFFE6fPh083K60tLS8vFyVU1JSmpubVfngwYN5\n",
       "eXk1NTVirK6uruAIaVyzGpaK48xvBACG81D/WzmEdG06OzuzsrJyc3M3b94s6c6a\n",
       "NWuCtyksLBTrXDGHxeJwOFS5qqpq6dKl8vell15asWLFDX9lUIO8+XADABlSTAvp\n",
       "8OHDkuVoclqwYMGlS5cCtikuLhbrqLLZbHY6Ay/zeL3emTNntra23kCElI1ONLv5\n",
       "TAMAQoppIR06dMhqtaqyz+dbvHhxgFdUJpSfn9/dc5EpKSmpo6PD4/FInlRaWqpE\n",
       "1dTUJOtl5fVGiJ8cAQBCQkhXaG9vl6SnqKhI1FJQULB8+fLgbcQ0OTk5JpMpOTlZ\n",
       "9d3Z7fZp06adPXs2LS0tMzNTHrLZbDcQIQZ5AwBCQkifcvHixbKyMnFSZWWl+Cls\n",
       "ERIbWSqO81EGAIQU60JyOp0ioUhFiGF1AICQENIVTp06pQ1nCHOEGFYHAAgJIV0l\n",
       "pLS0tIogOjs7hzRCDGQAAISEkAKFZDKZioMIvufC4EaIgQwAgJAQUqCQwt9lJzbi\n",
       "0hEAICSEdBUOh2PlypXhjNBamxMbAQBCQkgRjlC13cWlIwBASAgp8hFiSnIAQEgI\n",
       "KfIR4jewAICQEFLkI8RvYAEAISGkyEeIm3kDAEJCSLqIkLEGMuj/U0WdqTZ1ps4I\n",
       "KQQ+n6+kpMRkMlkslsbGxuAIGe7SEWcCdeZQU2eEZEjq6urS09PdbndtbW1qamrA\n",
       "o+MS8g136YgzgTpzqKkzQjIkpaWl5eXlqpySktLc3Kw9VG13DUveMRUAIDZASBGm\n",
       "sLBQzdcnWCwWh8PRDQAACCn8FBcXqynMBbPZ7HQ6iToAAEKKAGKj/Pz87p65/pKS\n",
       "kgbrNuEAAICQrg+Px5OTk2MymZKTk7W+OwAAQEgAAAAICQAAEBIAAABCAgAAhAQA\n",
       "AICQAAAAIQEAACAkAABASAAAAAgJAAAQEgAAAEKC8GOpOK4WDgUAIKRBgAm7emNc\n",
       "Qr4so2ZuGpa8I272Hvkri/wry5jE1bKoDYIX9aha1PZqD/47UY/Gz1jGcQZggj6E\n",
       "9KmQqLOW8cQX1Ik2vrnkHSmo7Kfa7hqKOq+1OWWZvKlBFnkteUXtddVKPht8pKlz\n",
       "DNYZIcXop+pEs1spR5lgcPVzw3WWCmiuEjn5C1LWhLl7ECFRZ+qMkIjQENZZeUgl\n",
       "JeG8AjTA46xEJbXVMiq1KFHJQ3w2aCipM0IyDDabbePGjVHT6NyYh1QjPqSZUPjx\n",
       "7/pT6ZQsao1KtroBACHpBJfLZbVaZ8yYsW7duhgUkrhHmmblIdFS7Jx7Adeo/DOq\n",
       "oUuqABASQuoLt9tdX1+/ZcuWmBKSSokkY5AmmMY3QFQhx1P460oOHQcNEBJCGips\n",
       "NltIIY0aNUobEBkfH6+tN25Z653Trg9Fx/sKZ/nKxapl5WpghZKW5q24KSVqvWwT\n",
       "N3GeEtjH+r9nov7f18f1vH+SKmj1V4uU1fv6uPPzyRc/fe9TSrQUU8rqUAQs2gYh\n",
       "F223vS1aHeSYG7d8zbcZqUX9+kItCEnXQoqmDClYRRAetPb900bq6hYhZDMdsmUf\n",
       "rObevzJa2sdvmcmQEBJCCp+KOOUAACEhJLIiAEBICCmqI9QHatgCKgIAhESEIka1\n",
       "3aUuHnCOAQBCIkKR4USzW10kj6YftwIAzR1CMpiQ6KMDAIQUMVpaWn4XCo/HE1NC\n",
       "UomRLDF1twUAQEg6wuv17t69e/r06QeuRtbHjpAYRwcACEkvmM3m2IyQlhhxLgEA\n",
       "QtIFLpcrBiNUbXdxxQgAEJJeaGpqWrt27dmzZ61X09HREd0RUt10XDECAISkF9S9\n",
       "utva2vZfTXRfQ1IziHP+AABCIkIRY63NyW+MAAAhEaEIo+4SzWkDAAiJCEUMNZqO\n",
       "bjoAQEh6x+v1ut1XLu/7fD6tHB0RUjemo5sOABCSAbDb7dqhdDqdUh4sJ0U8Qoym\n",
       "AwCEZCQhdXR0nDlzRpU7OzulLHmS0SOkuukmb2rgPAEAhNRtoGtI4iGbzVZRUVFf\n",
       "Xx/SRrKypKTEZDJZLJbGxkb/h7Kzsy09FBYW6iRCYiNJjNbanJwkAICQjCQksVFW\n",
       "VlZubu7mzZszMjLWrFkTvE1dXV16errb7a6trU1NTdXWt7S0yFPaewj+OW1EIqQu\n",
       "GnF6AABCMp6QDh8+nJeXp8lpwYIFly5dCtimtLS0vLxclVNSUpqbm1X54MGD8tya\n",
       "mhoxVldXV3CENMLzXiwVxxnbDQDh9FCYW7koF9KhQ4esVqsq+3y+xYsXt7a2BmxT\n",
       "WFgo1rnS6FssDodDlauqqpYuXSp/X3rppRUrVkT2KwMXjQCADMnYQmpvbzebzUVF\n",
       "ReKVgoKC5cuXB29TXFwsj6qybOx0Bl6e8Xq9M2fODDBZ2CLEL40AACFFg5CEixcv\n",
       "lpWViZMqKyvFT8EbiI3y8/O7e8aFJyUldXR0eDweyZNKS0uVqJqammR9wMx+4YkQ\n",
       "vzQCAIRkeCGJXURC/dlSTJOTk2MymZKTk1Xfnd1unzZt2tmzZ9PS0jIzM+Uhm80W\n",
       "/gjxSyMAQEjRIKRTp05pwxmMGCGm1wMAhBQ9QpL8piKIzs5OnUeIi0YAgJCiTUgm\n",
       "k6k4CJ1P0MdFIwBASFEoJMN12amLRnz6AQAhRZWQHA7HypUrjRIhbk8HAAgpaoVk\n",
       "oAhV211xs/fwoQcAhISQIhkh1U3HRSMAQEgIKWIRUt10jO0GAISEkCIZIdVNx9hu\n",
       "AEBICCliEZLEiNF0AICQEFKEI0RiBAAICSFFOELqihGJEQAgJIQUyQhJSkRiBAAI\n",
       "CSFFMkL00QEAQkJIEY6QGrkQX1Cnn/kj9P+pos5UmzpTZ4QUAp/PV1JSYjKZLBZL\n",
       "Y2NjPyOkBtGprEhvUxlxJlBnDjV1RkiGpK6uLj093e1219bWpqam9h0h5SE1bEG3\n",
       "HXScCdSZQ02dEZIhKS0tLS8vV+WUlJTm5mb/R8cl5I9JXC3LqJmbJB8alrxD1jz2\n",
       "wsKpAABRB0KKMIWFhWpGc8FisTgcjm4AAEBI4ae4uLiqqkqVzWaz0+kk6gAACCkC\n",
       "iI3y8/OlICpKSkoarKlmAQAAIV0fHo8nJyfHZDIlJydrfXcAAICQAAAAEBIAACAk\n",
       "AAAAhAQAAAgJAAAAIQEAAEICAABASAAAgJAAAAAQEgAAICQAAACEpGeq7a61Nqdu\n",
       "p/sDAEBIumCIZsF6evqscQn5o2ZuGpa8Q/6OSVwt/wZPBijl+BnLmDQMAJigDyEN\n",
       "/py+kgl9c8k7slxzyxPNbsmcJm9qiC+ok79SjlSdjXicqTOHmjpHX50jLKSNGzf+\n",
       "+Mc/XrNmTX5+fmtrq6EjVG13iYfELtf7RM1M8vT+9OxxJlBnDjV1RkiDzPLly7/z\n",
       "ne88+uij6enpKSkp48ePN26ElE7ESQPZiZhJJVh9a4kzgTpzqKkzQhpkvve979XW\n",
       "1ubm5oqQ5N9vfetbZ86cMVyExCKSFQ3umAWlpW4AAIQUHh544IHq6molpI8++ui2\n",
       "225rbm42VoRUN90AE6O+s6Wh2DkAICSEdBU7duwYOXLk+PHjv//9748dO/bZZ581\n",
       "VoSUjYa0euolGDIOAAhpyNm/f39aWlpSUtLWrVt9Pp+BIrTW5gxPr1o/LywBACCk\n",
       "cOD1eodIVzccoRsYTTdALeEkAEBIg89dd911eyhCjvyurKxMSEhITEzcuXOnWpOV\n",
       "leV2uwM2E2OVlJSYTCaLxdLY2BjwaEdHR2Zm5tGjRwceoTD01PUGV5UAACENMseO\n",
       "HTt8+HBycvKDDz5YU1Nz8ODBOXPm3HfffZIJBWzZ3t4uDzU1NZ0/f15MU1f3cV4i\n",
       "agkWkjyUnp4u62tra1NTUwMeFVclJSXJiw4wQpKpxM3eE0ElDMWgPgBASLErJMU9\n",
       "99wjKtL+HTNmjMPhCNhGcibRjyo7nU6z2dzW1hZSSKWlpeXl5aqckpLiP2Bv//79\n",
       "q1atevnll0MK6bpuqhFZGwWkSiInzjEAuKaHuHXQtfn+979fVlamyuKP4cOHSyYU\n",
       "vFl2drbVaj158qSUd+/enZWVNXfu3GAhFRYWSrJ1pb22WDS3tbS0LFmyRDTWm5D6\n",
       "X2FdpSbKSf2/4RAAYCaE1CtFRUW33nrrpEmTEhMT//Zv//aZZ54JuZm4p7KyUrss\n",
       "VFdXJ+mOx+MJ2Ky4uLiqqkqVJZGSdEqVZeP169e/8847YrLXXnvto48+urEISdMf\n",
       "5oEMhnMkACAkowpJePfdd1NTU2fNmlVaWhp8ASkYl8t14cKFkA+JjfLz87t7evaS\n",
       "kpI6OjpEWpInvf/++2/2kJmZuWXLlosXL95AhNQgNx3GTw0K16EpAQAhGUlIL7/8\n",
       "8tyrCe6IE956662FCxfKxmVlZbN6kEQneDPRT05OjslkSk5OVn13drt92rRp2gaS\n",
       "Kh05cuTGIqTzFp9LSgCAkAaE1Wo19zBnzpx/+Id/eOCBB4I74trb28VAjY2NO3bs\n",
       "mDdvnhjr8uXLYh35G7YISXM/eVODzgOpRt9xygEAQhooYpo77rijra0tYL3L5VKj\n",
       "7FpbWzds2KBWZmRkhBz+MBQRUuO8DZF8SCVFnFxSAgCENCA6Ozu//vWvB3epdff8\n",
       "6mj9+vViJilfunRp69atqamp/bngNCgRkrTDQCPZtPsMce4BAEK6DhISEh74BLHR\n",
       "3XffLVoK3uzy5ctVVVXnzp2T8pkzZ4qLi8+ePRu2CBmxH4xLSgCAkK6PdevWSbrz\n",
       "xx6qq6v37NkTUkjdPXd2yM3NrampCTnqYegiJDYy6H16uKQEAAipX7S0tBw/fnzC\n",
       "hAnbt28/3sPRo0eHDx/e2yzmXq+3oaFhw4YNqampVqv1wIEDg3Wv1T4ipKYVN+6H\n",
       "T3XfcUkJABBSX6xcuVL087nPfW7YsGHDP+HBBx+8pmbOnTuXn58vh3WwUqU+IhQF\n",
       "vV5cUgIAhNQvnnjiifr6+v5sKfrZtWtXVlbW/Pnzt23bFoZrSNGUW6jbk3OTIQCE\n",
       "hJAGAYfDUVhY2NjYOOizIvUWobjZe6Lpg8g9wgEAIYXm4Ycffv3113/1q1+NvZqA\n",
       "+/pcF73Nh9TR0bF+/XpZn5mZ2c87NUze1BB9+QQ3GQJASAgpBHv37j137lx9ff3b\n",
       "V9PbKLv+0Nt8SG+++WZubq7sed++fQsXLuxPhKIsPfKHEeEACAkhXcUPfvCDsaEY\n",
       "SIbU23xIu3btUleqWlpaEhMTgyMUMFNI1I9Mo/sOINY8xHxIfSHJikqJJH0pKipa\n",
       "tWrVG2+80UeG5PV6tWF1Pp8v5BC73uZDUojq8vLytmzZcs2vDFGcHvk7iRHhAGRI\n",
       "COlT7Hb7XXfd9aUvfWnkyJG33nrr+vXr+9hSO5ROpzPksO/e5kMSRFRpaWkivGtG\n",
       "KKaaaUaEAyAkhHSFH//4x4mJieoO3zt37hw2bFhvvy7q6OiQvzabraKiQgqnT58O\n",
       "Hm7X23xIe/fuzc3NDb5ta8gIxUJ6FJAq0X0HgJAQUvedd9559OhR7d977rnHf3Sc\n",
       "P52dnVlZWeKVzZs3Z2RkrFmzJnib3uZDWrFixaxZs9Q8F0uXLu0jQka/NcMNO4mR\n",
       "DgAIKdaF9Nxzz6mpJVT2M3r06OD5kBSHDx/Oy8vT5LRgwYJLly4NeoRiuVFWTiJV\n",
       "AkBIMSqkX/7yl3FxcXfcccfYsWNvuumm22+/fVwP+/fvD9jy0KFDVqtVlX0+3+LF\n",
       "i3u7690NRyg206OAVCm+oE4OAqkSAEKKOSHV1tbuDkVLS0vAlu3t7WazuaioqKqq\n",
       "qqCgYPny5YMeIePe2JtUCQAQUli5ePFiWVmZOKmyslL8NLgRkpyA8WYBqZIspEoA\n",
       "CClWhCTpzkMPPXSfH8E/jHU6nSKhoY5QVN4riFQJABBSfxk/fvy8efP27NlT9QnB\n",
       "P4w9deqUNpxh6CIUa6O9+58qKS3RmQmAkKJcSJISvf/++31vI0JKS0urCGIgd70L\n",
       "iBDDGa6pJXEShwgAIUWzkNatW/cv//Iv6h50ipAZkslkKg5C/VR2UCLEcIb+p0r0\n",
       "4AEgpOgUkhyd4cOHT5gw4f5P+Oijj4KFNKRddo+9sJAZGdASAEKKdSHddddd//d/\n",
       "/9f3Ng6HY+XKlQN5ld7mSVKMSVzNcIYb0xKHAgAhRY+QfvWrXw3pCDpFb/MkXXn/\n",
       "DGcgWzIm6kbA2jJ5U4O2qFH711wkfP3cUv1iOuQSUA3igpCMKqSEhIS4uLjx48c/\n",
       "8AnBXXYDp7d5khTDfpqpzRQyefJkbT3l/pQ1LUnDpK7DcUxuuKykoqlCFvm2JIsq\n",
       "f/zvky9qYoibOO9TFemg/nH3T9LqI3XTdKXK6k2p+l8pTyn59H31lNWb9V+0DQKW\n",
       "61VmbwadvKoquByRY9hHffpTvuZbHpO4WlsQUq/s3bv3j34UFBRcvnx50F+l73mS\n",
       "9P+VwRDZ0lqbUzWj9H8GHBnxtNZqaLLRWlutGVXbcPR0km5GaiFDivydGiQrslqt\n",
       "EyZMkGwp+KZBA6ePeZIQ0qC3v9K2+idMMUKAdQKUQ0cW0GVnjAzp+eefv/XWW0eM\n",
       "GLFo0aIjR44MxasEz5OEkMKWMEWZmQLEE2AdxAMIyZBCKigo+O53vzt8+HA5QJK1\n",
       "PProo0P3WsHzJBldSEaps7+ZDDSaUfWzSW3HJeRr4lHuMYR4+EhTZ4R0fYwcOfLu\n",
       "u+9+7733pLx9+/bHHnuMCEVxnT++W+uMZVp3lrpkop/MKbirTV3aMWj2zEeaOiOk\n",
       "6+PgwYOSr4wYMeLee+/96U9/ipBirc7iAK3LS7X+kpEMkaJUuqMymytDvPwyHmXH\n",
       "kK+OkKgzdY4JISk8Hk9paekjjzxy8803/8d//IeUvV5v+CMEEUfypzGJq0fN3CSL\n",
       "qGJY8g61yL/acNVxCfkhF20D9XT1RKUc/53IlhxnAITUjy6dEycWLVo0evTooRhl\n",
       "BwAAhkBHE/SFPz0CAACEBAAAgJAAAAAhAQAAICQAAEBIAAAACAkAABASAAAAQgIA\n",
       "AIQEAACAkAAAACEBAAAgJAAAQEgAAAAICSKBmvJO5/N5AwBCMgxM2NUbavo7NeWd\n",
       "/2R32qR515wxz3/SvOAZ82SJn7GM4wzABH0I6VMhUWct4/GfVlxlP4M1rXhAndfa\n",
       "nLJM3tQgi7yWvKL/nOKy8NngI02dY7DOCClGP1Unmt1KOcoEg6ufG66zVEBzlcjJ\n",
       "X5CyJszdgwiJOlNnhESEhrDOykMqKQnnFaABHmclKqmtllGpRYlKHuKzQUNJnRGS\n",
       "YbDZbBs3boyaRufGPKQa8SHNhMKPf9efSqdkUWtUstUNAAhJJ7hcLqvVOmPGjHXr\n",
       "1sWgkMQ90jQrD4mWYufcC7hG5Z9RDV1SBYCQEFJfuN3u+vr6LVu2xJSQVEokGYM0\n",
       "wTS+AaIKOZ7CX1dy6DhogJAQ0lBhs9lCCmnUqFHagMj4+HhtvXHLWu+cdn0oOt5X\n",
       "OMtXLlYtK1cDK5S0NG/FTSlR62WbuInzlMA+1v89E/X/vj6u5/2TVEGrv1qkrN7X\n",
       "x52fT7746XufUqKlmFJWhyJg0TYIuWi77W3R6iDH3Ljla77NSC3q1xdqQUi6FlI0\n",
       "ZUjBKoLwoLXvnzZSV7cIIZvpkC37YDX3/pXR0j5+y0yGhJAQUvhUxCkHAAgJIZEV\n",
       "AQBCimohtbS0/C4UHo8nRiLUB2rYAioCAIQUDrxe7+7du6dPn37gamR9LAup2u5S\n",
       "Fw84xwAAIYUVs9kcsxEK4ESzW10kj6YftwIAQjKMkFwuV8xGyB/66AAAIUUYr9fr\n",
       "8/liWUgqMZIlpu62AAAISV9UVlYmJCQkJibu3LlTrcnKynK73TESIZUYMY4OABBS\n",
       "hGlvb58zZ05TU9P58+ctFktd3ceX8TMzM2NESFpixLkEAAgpwrS2top+VNnpdJrN\n",
       "5ra2thgRUrXdxRUjAEBIOiI7O9tqtZ48eVLKu3fvzsrKmjt3btQLSXXTccUIABCS\n",
       "jhD3VFZWNjY2qn/r6upWrVoV3T+MVTOIc/4AAELSHceOHcvNza2pqRmsxEi3EVpr\n",
       "c/IbIwBASPrF6/U2NDRs2LAhNTXVarUeOHBgsEaB6ypC6i7RnDYAgJAMwLlz5/Lz\n",
       "8+WwRtk1JDWajm46AEBIekf0s2vXrqysrPnz52/btu3s2bPRFCF1Yzq66QAAIRkA\n",
       "h8NRWFjY2Ng46PdriHiEGE0HAAjJSEKKygipbrrJmxo4TwAAIUWVkCR5KikpMZlM\n",
       "FotFGyOuyM7OtvQgaZZOIiQ2ksRorc3JSQIACCnahFRXV5eenu52u2tra1NTU7X1\n",
       "LS0tGRkZ7T10dHToIULqohGnBwAgJOMJyev1asPqJBMKOcSutLS0vLxclVNSUpqb\n",
       "m1X54MGDeXl5NTU1Yqyurq7gCGmE571YKo4zthsAwumhMLdyUS4ku92uHUqn0xly\n",
       "2HdhYaFY50qjb7E4HA5VrqqqWrp0qfx96aWXVqxYEdmvDFw0AgAyJGMLSXW12Wy2\n",
       "iooKKZw+fTp4uF1xcbFYR5XNZrN4KzjNmjlzZmtra0QixC+NAAAhRYOQOjs7s7Ky\n",
       "cnNzN2/enJGRsWbNmuBtxEb5+fkqhUpKShKHeTweyZNKS0uVqJqammR9wE3wwhMh\n",
       "fmkEAAgpSoR0+PDhvLw8TU4LFiy4dOlSwDZimpycHJPJlJycrPru7Hb7tGnTzp49\n",
       "m5aWlpmZKQ9JjhX+CPFLIwBASNEjpEOHDlmtVlX2+XyLFy8O6HnTbYSYXg8AEFJU\n",
       "Cam9vd1sNhcVFVVVVRUUFCxfvlz/EeKiEQAgpCgUknDx4sWysjJxUmVlpfhJ5xHi\n",
       "ohEAIKRoE5LT6RQJGStC6qIRn34AQEhRJaRTp05pwxn0HyFuTwcACCmahZSWllYR\n",
       "RGdnp94iVG13xc3ew4ceABBS1ArJZDIVBxF8V7rIRkh103HRCAAQUjQLSedddqqb\n",
       "jrHdAICQolxIDodj5cqVuo2Q6qZjbDcAIKToF5JuIySJEaPpAAAhIaQIR4jECAAQ\n",
       "EkKKcITUFSMSIwBASAgpkhGSlIjECAAQEkKKZIToowMAhISQIhwhNXIhvqBOP/NH\n",
       "6P9TRZ2pNnWmzggpBD6fr6SkxGQyWSyWxsbGfkZIDaJTWZHepjLiTKDOHGrqjJAM\n",
       "SV1dXXp6utvtrq2tTU1N7TtCykNq2IJuO+g4E6gzh5o6IyRDUlpaWl5ersopKSnN\n",
       "zc3+j45LyB+TuFqWUTM3ST40LHmHrHnshYVTAQCiDoQUYQoLC9WM5oLFYnE4HN0A\n",
       "AICQwk9xcXFVVZUqm81mp9NJ1AEAEFIEEBvl5+d398z1l5SUNFi3CQcAAIR0fXg8\n",
       "npycHJPJlJycrPXdAQAAQgIAAEBIAACAkAAAABASAAAgJAAAAIQEAAAICQAAACEB\n",
       "AABCAgAAQEi9YrPZNm7cSLwBABBSxHC5XFardcaMGevWrSPeAAAIKWK43e76+vot\n",
       "W7YgJAAAhBR5bDZbSCH5T9A3LHkHE/QBABP0IaTICKnvKczlXx2+F+ZOps4cauoc\n",
       "lXVGSKEjpJlp8qYGvWmJM4E6c6ipM0KKISFprLU5JVsSLVXbXXyqqDPVps7UGSFF\n",
       "OEKalroBAKK6uUNIBoiQ6sRT15b4ZAMAQkJIEY6QpiU+3ACAkBBS5CO01uaML6gj\n",
       "VQIAhISQIh8hUiUAQEgISUcRqra7SJUAACEhJF1ESKVKDMADAISEkHQRIdV9p887\n",
       "OwAAIKTYipDYKL6gjg89ACCkaBaS1+v1+Xz6j5DqvuOSEgAgpOgUUmVlZUJCQmJi\n",
       "4s6dO9WarKwst9ut2wgx+g4AEFIUCqm9vX3OnDlNTU3nz5+3WCx1dR/3iWVmZupZ\n",
       "SN2MvgMAhBR9QmptbRX9qLLT6TSbzW1tbfoXUvcnl5RwEgAgpCgRkpCdnW21Wk+e\n",
       "PCnl3bt3Z2VlzZ07V/9C6uaSEgAgpCgTkrinsrKysbFR/VtXV7dq1SqPx2OUCDEi\n",
       "HAAQUjQIqampae3atWfPnrVeTUdHR8CWPp+vpKTEZDJZLBbNXlqOZemhsLAwIhGq\n",
       "trvESWttTk4JAEBIRhWSpEf19fVtbW37r8br9QZsKZlTenq6bF9bW5uamqqtb2lp\n",
       "ycjIaO8hWGNhixCXlAAAIRlbSP2ntLS0vLxclVNSUpqbm1X54MGDeXl5NTU1Yqyu\n",
       "rq4IRohLSgCAkGJCSIWFhWIdVbZYLA6HQ5WrqqqWLl0qf1966aUVK1YER0gjPPXk\n",
       "khIAhNlDYW7lEFJ3cXGxWEeVzWaz0xl4wcbr9c6cObO1tTXiXxnUhOicJwBAhmQ8\n",
       "IYlLtHHePp8v5JhvsVF+fn53z8+VkpKSOjo6PB6P5EmlpaVKVE1NTbI+YHhepCLE\n",
       "JSUAQEiGFJLdbtcOpfhGysFOEtPk5OSYTKbk5GTVdyfPmjZt2tmzZ9PS0jIzM+Uh\n",
       "m82mnwhxSQkAEJLxhCTpzpkzZ1S5s7NTyoN1r9XIRkibdpZLSgCAkAxzDUk8JPlN\n",
       "RUVFfX39IN75Ww8RUr9SIlUCAIRkDBtlZWXl5uZu3rw5IyNjzZo1URYhLikBAEIy\n",
       "hpAOHz6cl5enyWnBggWXLl2KvgjRfQcACEnvHDp0yGq1qrLP51u8eHHA6O2oiZBy\n",
       "EjcZAgCEpFPa29vNZnNRUVFVVVVBQcHy5cujO0JcUgIAhKRfLl68WFZWJk6qrKwU\n",
       "P0V3hBh9BwAISXc4nU6RUGxGiGlnAQAh6YhTp05pwxliMEIqVRItkSoBAEKKvJDS\n",
       "0tIqgujs7IyRCHV/MtKBVAkAEFKEhWQymYqDCJ7ZKIqF1P3JD5VIlQAAIUVSSLHc\n",
       "ZUeqBAAISS84HI6VK1ciJP9USWmp2u7iBAMAhESEIoy6/d3kTQ2cYwCAkIiQXlIl\n",
       "evAAACERIbQEADR3CKnf+Hy+kpISk8lksVgaGxujTEgBWuKUAwCEpF/q6urS09Pd\n",
       "bndtbW1qampUColsKbKomX9lmbypQRY1QF9bJCLBS9zsPf1fQu5BWwJeTi2qJgGL\n",
       "Vk9ChpAQUmQoLS0tLy9X5ZSUlObmZv9HR40aNfUT4uPjtfXGLftrSf1oKTreVzjL\n",
       "qtWOX1auGcVfDHFTSrRGP27iPK2Vj7t/kiHel9RT06fUX9OVlDWfxT354qfvfUrJ\n",
       "px6dUjJYygxpUDnmWn2MVe7Pe4zUMmrmJm1BSBGmsLCwpqbmyjdZi8XhcERrhhSc\n",
       "LanznMks/JGjoTXHmmy0dpM0AsiQENIQUlxcXFVVpcpms9npdMaCkPzbX2lkVcIU\n",
       "Uz9d8reO9i3eXzk0T4CQEFK4ERvl5+d399w4PCkpKeCeQ1EvpICEKfrMdKV7TXU0\n",
       "+eU6aj3ZIQBC0hEejycnJ8dkMiUnJ2t9d4YW0kDq7G+mcPbmDfA4i0FVV1twxjN0\n",
       "6Y5Bv6zE2keaOiMkvjIYvs5iJq03T5PT0GVO/ayzJh7NmgFdbXw2+EhTZ4SEkKK/\n",
       "zlryofw0uIoKqHNvIwsiIh6ERJ2pM0LSS4QgJPEzlo1JXD1q5qZhyTvEFvJXFjVy\n",
       "VNarZVxCfshFPaqNNFV78N+J9lyOM0A4QUgQnWhZDocCABASAAAgJAAAAIQEAAAI\n",
       "CQAAACEBAABCAgAAQEiDT9+z9umTjo6O9evXS50zMzOPHDlirAMulZdqHz161CgV\n",
       "fvvtt9PT05cuXVpfX2+ICnu93qKionnz5km1Dx06pP8K22y2jRs3Gu589K+2UU5J\n",
       "/zrr/HyMUSH1PWufPnnzzTdzc3M7Ozv37du3cOFCYx1waW6SkpIOHz5siNqeOnVK\n",
       "WpkLFy5IK7No0SJD1Hn//v0ZGRnS0Lz77rtpaWl6rqrL5bJarTNmzFi3bp2Bzsfg\n",
       "auv/lAyus87PxxgVUt+z9umTXbt2qW/rLS0tiYmJBjra0lauWrXq5ZdfNoqQtm3b\n",
       "9vrrr4uN/vznPzc1NRmizg0NDcuWLZPGUdp0+fKr56qKeOSTvGXLFq2VNMT5GFxt\n",
       "/Z+SwXXW+fkYo0Lqe9Y+PXPx4sW8vDz5hBmlwnKuLlmypK2tzUBCWr169fz586WV\n",
       "lDr/+te/9nq9+q+zHGFJ5ubMmTN9+nRtAjA9Y7PZtFbSQOejf7WNckr611nn52OM\n",
       "CqnvWft0i5y0aWlpb7/9toEOtXwXW79+/TvvvJOVlfXaa6999NFHhvi+snXrVlVe\n",
       "uHChIb6vbN++XY6zz+c7f/58cnKytJIGEpKBzscAIRnilPSvs87PxxgVUt+z9umT\n",
       "vXv35ubmylcbYx3q999//80eMjMz5Vuk/htKobq6Wr4/qrQjJSVFmnj911nyuaKi\n",
       "Iilcvnx59uzZ+u+F9m8lDXQ++lfbKKekf511fj7GqJD6nrVPn6xYsWLWrFnmHpYu\n",
       "XWq4Yy5fzYwyOLCzs7OgoCA9PV0+IRUVFYao84ULFzIyMuSzMXfu3LKyMv1X2L+V\n",
       "NND56F9to5ySwd2Muj0fY/p3SPLVpqurqxsgFO3t7Ya4ehTwkRabcj6CQeGHsQAA\n",
       "gJAAAAAQEgAAICSAmCCCd8Fpb28/duwYIQCEBGAk2tra4oKYPXv2gw8+OJDd1tXV\n",
       "DXAP/eRPf/rTnXfeGbCyo6NjzJgxH3zwAfEFhARgJHw95OfnP/TQQ6p8/vz52tra\n",
       "gexz4sSJ27ZtC4+QxD3B67Ozs6dPn05wASEBGI+VK1fGx8er8u7du3/+859v3779\n",
       "ySeflETn1ltvnTRp0vz584cPHz5q1Kg33nhDbZaTk/ONb3zj61//+oIFC/x3deTI\n",
       "EVlpt9snTJjwhS984W/+5m9KSkp6e0pGRobsU17iqaeeunz5snLJ6NGjv/KVr0gd\n",
       "Lly4INV45plnRJaf//znpTKyRpQpT//a174m2zzxxBNKSMeOHfN/OXHqF7/4xfb2\n",
       "diILCAnAwEISB0jTX1xcLG36vn37PvzwQyWM5uZms9n86KOPyjavv/76t7/97ZMn\n",
       "Tzocjrvvvru0tFTb1e9//3t5+ty5cx9//PGurq4//OEPY8eODfkUyaJETgcOHHA6\n",
       "nbJNbm6uvPSIESPef/99Ec8jjzzy3HPPSTVuvvnmt956Sxzz3e9+95VXXtmyZctf\n",
       "//VfNzQ0NDU1SZ2VkIJfTvYjzyKygJAAokFIEydOVGvuvPNOdb81kc3DDz8shRde\n",
       "eGH8+PFzerj//vufffZZbVdLliyRf2Unt9xyy9NPPy0KUfcfCn6KrJGyelZrD9On\n",
       "T589e7Za8/bbb4uupBrqFdUesrKypk6dKvpRa3bu3KmEFPxy8lobNmwgsoCQAKJB\n",
       "SCoZUkJ69913pfDaa68pPUyZMuXf//3ff/sJf/zjH7VdLVq0SMQghaNHj/7mN7/5\n",
       "wQ9+MHLkSMl4gp8yefJkbcqlDz74wG63yzbz589Xa2w221e/+lX/aighPf/885Ko\n",
       "qTWSA2nXkAJe7h//8R9fffVVIgsICSDKhVRUVHTfffdJTuP1en/yk5+sXr1a29Wa\n",
       "NWskARJ5WCyW7p4ZCm6++eYDBw4EP+V3v/vdXXfdJWva2trEH5s2bVq3bt03v/nN\n",
       "v/zlL7KNpFCPP/54sJBkm29961uSBvl8vqeeekoJKfjlREsNDQ1EFhASgMGQlEUT\n",
       "0o4dOx566CExwWOPPdabkLq6up577rmvfOUrX/va1370ox/536P6+PHjt91223vv\n",
       "vTd69Gixy4gRI5555hkRTPBTPB7Pz372sy9/+cu33377L37xi64epk6dqtb80z/9\n",
       "08mTJ/2r8T//8z9qIr5JkyYNGzZMthFxKiHV1tb6v9y5c+duueUW497aDhASAFwf\n",
       "brc75KQyjzzySGlpqUjoww8/DNgg+CmSHqnxdRrt7e0ul6vvl5ZnBezH/+UkkUpJ\n",
       "SSFAgJAAYp19+/bdf//9kXp1SbwkpTPETE4ACAlgyDl69GikXrqzs/PUqVOEABAS\n",
       "AAAAQgIAAIQEAACAkAAAACEBAAAgJAAAQEgAAAAICQAAEBIAAABCAgAAhAQAAICQ\n",
       "AAAAIQEAACAkAABASAAAAAgJAABii/8HZzE9G+mJ9xcAAAAASUVORK5CYII=\" style=\"clip-path:url(#clipPath1);\" height=\"420\" preserveAspectRatio=\"none\"\n",
       "    /></g\n",
       "  ></g\n",
       "></svg\n",
       ">\n"
      ]
     },
     "metadata": {},
     "output_type": "display_data"
    }
   ],
   "source": [
    "step(circ_ss)"
   ]
  },
  {
   "cell_type": "markdown",
   "metadata": {
    "slideshow": {
     "slide_type": "subslide"
    }
   },
   "source": [
    "#### Convert to transfer functiom matrix\n",
    "\n",
    "The function `tf(ss_model)` returns a vector of transfer functions."
   ]
  },
  {
   "cell_type": "code",
   "execution_count": 6,
   "metadata": {
    "slideshow": {
     "slide_type": "fragment"
    }
   },
   "outputs": [
    {
     "name": "stdout",
     "output_type": "stream",
     "text": [
      "\n",
      "circ_tf =\n",
      " \n",
      "  From input \"u\" to output...\n",
      "            s + 1\n",
      "   v31:  -----------\n",
      "         s^2 + s + 1\n",
      " \n",
      "             1\n",
      "   i1:  -----------\n",
      "        s^2 + s + 1\n",
      " \n",
      "              s\n",
      "   v32:  -----------\n",
      "         s^2 + s + 1\n",
      " \n",
      "              1\n",
      "   v21:  -----------\n",
      "         s^2 + s + 1\n",
      " \n",
      "          s^2 + s\n",
      "   i2:  -----------\n",
      "        s^2 + s + 1\n",
      " \n",
      "Continuous-time transfer function.\n",
      "\n"
     ]
    }
   ],
   "source": [
    "circ_tf = tf(circ_ss)"
   ]
  },
  {
   "cell_type": "markdown",
   "metadata": {
    "slideshow": {
     "slide_type": "subslide"
    }
   },
   "source": [
    "#### Determine poles and zeros"
   ]
  },
  {
   "cell_type": "code",
   "execution_count": 7,
   "metadata": {
    "slideshow": {
     "slide_type": "fragment"
    }
   },
   "outputs": [
    {
     "name": "stdout",
     "output_type": "stream",
     "text": [
      "\n",
      "circ_zpk =\n",
      " \n",
      "  From input \"u\" to output...\n",
      "             (s+1)\n",
      "   v31:  -------------\n",
      "         (s^2 + s + 1)\n",
      " \n",
      "              1\n",
      "   i1:  -------------\n",
      "        (s^2 + s + 1)\n",
      " \n",
      "               s\n",
      "   v32:  -------------\n",
      "         (s^2 + s + 1)\n",
      " \n",
      "               1\n",
      "   v21:  -------------\n",
      "         (s^2 + s + 1)\n",
      " \n",
      "           s (s+1)\n",
      "   i2:  -------------\n",
      "        (s^2 + s + 1)\n",
      " \n",
      "Continuous-time zero/pole/gain model.\n",
      "\n"
     ]
    }
   ],
   "source": [
    "circ_zpk=zpk(circ_ss)"
   ]
  },
  {
   "cell_type": "markdown",
   "metadata": {
    "slideshow": {
     "slide_type": "subslide"
    }
   },
   "source": [
    "#### The state transition matrix\n",
    "\n",
    "Calculated using the symbolic math tools provided by MATLAB See `help symbolic`"
   ]
  },
  {
   "cell_type": "code",
   "execution_count": 8,
   "metadata": {
    "slideshow": {
     "slide_type": "fragment"
    }
   },
   "outputs": [
    {
     "name": "stdout",
     "output_type": "stream",
     "text": [
      "phi =\n",
      "[(s + 1)/(s^2 + s + 1), -1/(s^2 + s + 1)]\n",
      "[      1/(s^2 + s + 1),  s/(s^2 + s + 1)]\n"
     ]
    }
   ],
   "source": [
    "syms phi t s\n",
    "phi = inv(s*eye(2) - A)"
   ]
  },
  {
   "cell_type": "markdown",
   "metadata": {
    "slideshow": {
     "slide_type": "subslide"
    }
   },
   "source": [
    "#### The state transfer matrix"
   ]
  },
  {
   "cell_type": "code",
   "execution_count": 9,
   "metadata": {
    "slideshow": {
     "slide_type": "fragment"
    }
   },
   "outputs": [
    {
     "name": "stdout",
     "output_type": "stream",
     "text": [
      "G =\n",
      "                  (s + 1)/(s^2 + s + 1)\n",
      "                        1/(s^2 + s + 1)\n",
      "(s + 1)/(s^2 + s + 1) - 1/(s^2 + s + 1)\n",
      "                        1/(s^2 + s + 1)\n",
      "                    1 - 1/(s^2 + s + 1)\n"
     ]
    }
   ],
   "source": [
    "G = C*phi*B + D"
   ]
  },
  {
   "cell_type": "code",
   "execution_count": 10,
   "metadata": {
    "slideshow": {
     "slide_type": "subslide"
    }
   },
   "outputs": [
    {
     "name": "stdout",
     "output_type": "stream",
     "text": [
      "G =\n",
      "(s + 1)/(s^2 + s + 1)\n",
      "      1/(s^2 + s + 1)\n",
      "      s/(s^2 + s + 1)\n",
      "      1/(s^2 + s + 1)\n",
      "  1 - 1/(s^2 + s + 1)\n"
     ]
    }
   ],
   "source": [
    "G = simplify(G)"
   ]
  },
  {
   "cell_type": "code",
   "execution_count": 11,
   "metadata": {
    "slideshow": {
     "slide_type": "subslide"
    }
   },
   "outputs": [
    {
     "name": "stdout",
     "output_type": "stream",
     "text": [
      "/      s + 1     \\\n",
      "|   ----------   |\n",
      "|    2           |\n",
      "|   s  + s + 1   |\n",
      "|                |\n",
      "|        1       |\n",
      "|   ----------   |\n",
      "|    2           |\n",
      "|   s  + s + 1   |\n",
      "|                |\n",
      "|        s       |\n",
      "|   ----------   |\n",
      "|    2           |\n",
      "|   s  + s + 1   |\n",
      "|                |\n",
      "|        1       |\n",
      "|   ----------   |\n",
      "|    2           |\n",
      "|   s  + s + 1   |\n",
      "|                |\n",
      "|          1     |\n",
      "| 1 - ---------- |\n",
      "|      2         |\n",
      "\\     s  + s + 1 /\n",
      "\n"
     ]
    }
   ],
   "source": [
    "pretty(G)"
   ]
  },
  {
   "cell_type": "markdown",
   "metadata": {
    "slideshow": {
     "slide_type": "notes"
    }
   },
   "source": [
    "A executable script version of this example is available as [ssmodels.mlx](matlab/ssmodels.mlx)."
   ]
  },
  {
   "cell_type": "markdown",
   "metadata": {
    "slideshow": {
     "slide_type": "slide"
    }
   },
   "source": [
    "## Some Important Properties"
   ]
  },
  {
   "cell_type": "markdown",
   "metadata": {
    "slideshow": {
     "slide_type": "subslide"
    }
   },
   "source": [
    "### System poles\n",
    "\n",
    "Clearly the denominator of the transfer function is generated by the\n",
    "matrix inverse which produces the term: \n",
    "\n",
    "$$\\det[s\\mathbf{I}-\\mathbf{A}]$$"
   ]
  },
  {
   "cell_type": "markdown",
   "metadata": {
    "slideshow": {
     "slide_type": "fragment"
    }
   },
   "source": [
    "This evaluates to the denominator polynomial and the poles of the system\n",
    "are the roots of the system's characteristic equation:\n",
    "\n",
    "$$\\det[s\\mathbf{I}-\\mathbf{A}] = 0.$$"
   ]
  },
  {
   "cell_type": "markdown",
   "metadata": {
    "slideshow": {
     "slide_type": "fragment"
    }
   },
   "source": [
    "The system poles are solutions to the system's characteristic equation\n",
    "\n",
    "$$\\det[s\\mathbf{I}-\\mathbf{A}] = 0.$$"
   ]
  },
  {
   "cell_type": "markdown",
   "metadata": {
    "slideshow": {
     "slide_type": "subslide"
    }
   },
   "source": [
    "### System zeros\n",
    "\n",
    "What is the corresponding numerator polynomial of the transfer function,\n",
    "whose roots give the zeros of the system? "
   ]
  },
  {
   "cell_type": "markdown",
   "metadata": {
    "slideshow": {
     "slide_type": "fragment"
    }
   },
   "source": [
    "The zeros are those values of\n",
    "$s$ for which the output is zero when the input and states are not zero."
   ]
  },
  {
   "cell_type": "markdown",
   "metadata": {
    "slideshow": {
     "slide_type": "fragment"
    }
   },
   "source": [
    "Thus: $$\\begin{eqnarray*}\n",
    "(s\\mathbf{I}-\\mathbf{A})\\mathbf{X}-\\mathbf{B}U & = & \\mathbf{0} \\\\\n",
    "\\mathbf{CX}+dU = Y & = & 0\\end{eqnarray*}$$ "
   ]
  },
  {
   "cell_type": "markdown",
   "metadata": {
    "slideshow": {
     "slide_type": "subslide"
    }
   },
   "source": [
    "In matrix form:\n",
    "\n",
    "$$\\left[ {\\begin{array}{*{20}c}\n",
    "   {s{\\bf{I}} - {\\bf{A}}} &  \\vdots  & {\\bf{B}}  \\\\\n",
    "    \\cdots  &  \\cdots  &  \\cdots   \\\\\n",
    "   {\\bf{C}} &  \\vdots  & d  \\\\\n",
    "\\end{array}} \\right]\\left[ {\\begin{array}{*{20}c}\n",
    "   {\\bf{X}}  \\\\\n",
    "    \\cdots   \\\\\n",
    "   U  \\\\\n",
    "\\end{array}} \\right] = \\left[ {\\begin{array}{*{20}c}\n",
    "   {\\bf{0}}  \\\\\n",
    "    \\cdots   \\\\\n",
    "   0  \\\\\n",
    "\\end{array}} \\right]$$"
   ]
  },
  {
   "cell_type": "markdown",
   "metadata": {
    "slideshow": {
     "slide_type": "subslide"
    }
   },
   "source": [
    "The only way this can have non-zero solutions in $\\mathbf{X}$ and $U$ is\n",
    "if: \n",
    "\n",
    "$$\\det \\left[ {\\begin{array}{*{20}c}\n",
    "   {s{\\bf{I}} - {\\bf{A}}} &  \\vdots  & {\\bf{B}}  \\\\\n",
    "    \\cdots  &  \\cdots  &  \\cdots   \\\\\n",
    "   {\\bf{C}} &  \\vdots  & d  \\\\\n",
    "\\end{array}} \\right] = 0$$ "
   ]
  },
  {
   "cell_type": "markdown",
   "metadata": {
    "slideshow": {
     "slide_type": "fragment"
    }
   },
   "source": [
    "This is another polynomial in $s$ whose roots\n",
    "give the system zeros and therefore corresponds to the numerator\n",
    "polynomial of the TF."
   ]
  },
  {
   "cell_type": "markdown",
   "metadata": {
    "slideshow": {
     "slide_type": "subslide"
    }
   },
   "source": [
    "Given this result, an alternative expression for the TF is:\n",
    "\n",
    "$$\\frac{Y(s)}{U(s)} = \\frac{\\det \\left[ \\begin{array}{*{20}c}\n",
    "   s\\bf{I} - \\bf{A} &  \\vdots  & \\bf{B}  \\\\\n",
    "    \\cdots  &  \\cdots  &  \\cdots   \\\\\n",
    "   \\bf{C} &  \\vdots  & d  \\\\\n",
    "\\end{array} \\right]}{\\det [s\\bf{I} - \\bf{A}]}$$"
   ]
  },
  {
   "cell_type": "markdown",
   "metadata": {
    "slideshow": {
     "slide_type": "slide"
    }
   },
   "source": [
    "## Time Responses from Transfer Function Matrices\n",
    "\n",
    "In the [next section](../3/tr4ss) we will consider how we can use the transfer function model to compute time responses from state-space models."
   ]
  },
  {
   "cell_type": "markdown",
   "metadata": {
    "slideshow": {
     "slide_type": "notes"
    }
   },
   "source": [
    "## Footnote\n",
    "\n",
    "1. $\\epsilon(t)$ is the unit step function $\\epsilon(t)=0$ for\n",
    "    $t < 0$; $\\epsilon(t)=1$ for $t \\ge 0$.\n"
   ]
  }
 ],
 "metadata": {
  "celltoolbar": "Slideshow",
  "kernelspec": {
   "display_name": "MATLAB",
   "language": "matlab",
   "name": "imatlab"
  },
  "language_info": {
   "codemirror_mode": "octave",
   "file_extension": ".m",
   "mimetype": "text/x-matlab",
   "name": "matlab",
   "nbconvert_exporter": "imatlab._exporter.MatlabExporter",
   "pygments_lexer": "matlab",
   "version": "9.9.0.1467703 (R2020b)"
  }
 },
 "nbformat": 4,
 "nbformat_minor": 2
}
