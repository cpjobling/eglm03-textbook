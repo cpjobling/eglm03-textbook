{
 "cells": [
  {
   "cell_type": "markdown",
   "metadata": {
    "slideshow": {
     "slide_type": "notes"
    }
   },
   "source": [
    "# Canonical Forms\n",
    "\n",
    "Although a state-space model may uniquely represent a given dynamic\n",
    "system, there is no state-space model that uniquely represents a given\n",
    "transfer function. That is there are many state-space models that can be\n",
    "transformed into a given transfer function. If one begins the analysis\n",
    "of a dynamic system from an analysis of the elementary dynamics then the\n",
    "state space model that results from such an analysis will accurately\n",
    "reflect the physical state variables in the system. However, if one's\n",
    "analysis begins from a differential equation or (equivalently) from a\n",
    "transfer function, then it is convenient to transform the model\n",
    "description into one of a small number of \"standard\" or *canonical\n",
    "forms*."
   ]
  },
  {
   "cell_type": "markdown",
   "metadata": {
    "slideshow": {
     "slide_type": "slide"
    }
   },
   "source": [
    "## Part 1: Introducing Canonical Forms\n",
    "\n",
    "Standard forms for state space models derived from differential\n",
    "equations or transfer function models."
   ]
  },
  {
   "cell_type": "markdown",
   "metadata": {
    "slideshow": {
     "slide_type": "fragment"
    }
   },
   "source": [
    "-   Derivation of the companion form"
   ]
  },
  {
   "cell_type": "markdown",
   "metadata": {
    "slideshow": {
     "slide_type": "fragment"
    }
   },
   "source": [
    "* Example"
   ]
  },
  {
   "cell_type": "markdown",
   "metadata": {
    "slideshow": {
     "slide_type": "notes"
    }
   },
   "source": [
    "## Converting a Differential Equation into State Space Form "
   ]
  },
  {
   "cell_type": "markdown",
   "metadata": {
    "slideshow": {
     "slide_type": "notes"
    }
   },
   "source": [
    "These notes describe how a general differential equation may be converted into a state-space model."
   ]
  },
  {
   "cell_type": "markdown",
   "metadata": {
    "slideshow": {
     "slide_type": "slide"
    }
   },
   "source": [
    "### Differential Equation into State Space"
   ]
  },
  {
   "cell_type": "markdown",
   "metadata": {
    "slideshow": {
     "slide_type": "fragment"
    }
   },
   "source": [
    "Consider the general differential equation:"
   ]
  },
  {
   "cell_type": "markdown",
   "metadata": {
    "slideshow": {
     "slide_type": "fragment"
    }
   },
   "source": [
    "$$\\begin{equation}\\frac{d^{n}y}{dt^{n}} +\n",
    "a_{n-1}\\frac{d^{n-1}y}{dt^{n-1}}+a_{n-2}\\frac{d^{n-2}y}{dt^{n-2}}+\\cdots+a_1\\frac{dy}{dt}+a_0\n",
    "y = b_0 u\\end{equation}$$"
   ]
  },
  {
   "cell_type": "markdown",
   "metadata": {
    "slideshow": {
     "slide_type": "fragment"
    }
   },
   "source": [
    "In class we will show how this can be converted into the so-called \"companion form\" state-space model."
   ]
  },
  {
   "cell_type": "markdown",
   "metadata": {
    "slideshow": {
     "slide_type": "notes"
    }
   },
   "source": [
    "We rearrange this equation so that the highest power is on the left\n",
    "\n",
    "$$\\begin{equation}\n",
    "\\frac{d^{n}y}{dt^{n}} = -a_{n-1}\\frac{d^{n-1}y}{dt^{n-1}}-a_{n-2}\\frac{d^{n-2}y}{dt^{n-2}}-\\cdots-a_1\\frac{dy}{dt}-a_0 y + b_0 u.\\end{equation}$$ \n",
    "\n",
    "Let:\n",
    "\n",
    "$$\\begin{eqnarray*}\n",
    "x_1 &=& y \\\\ x_2 &=& \\frac{dy}{dt} \\\\\n",
    "x_3 & = & \\frac{d^2y}{dt^2} \\\\ \n",
    "\\vdots \\\\ \n",
    "x_{n-1} &=& \\frac{d^{n-2}y}{dt^{n-2}} \\\\ \n",
    "x_{n} &=& \\frac{d^{n-1}y}{dt^{n-1}}\n",
    "\\end{eqnarray*}$$\n",
    "\n",
    "If we differentiate both sides of these new definitions we obtain\n",
    "\n",
    "$$\\begin{eqnarray*}\n",
    "\\dot{x}_1 &=& \\frac{dy}{dt} \\\\\n",
    "\\dot{x}_2 &=& \\frac{d^2y}{dt^2} \\\\\n",
    "\\dot{x}_3 & = & \\frac{d^3y}{dt^3} \\\\ \n",
    "\\vdots \\\\ \n",
    "\\dot{x}_{n-1}  &=& \\frac{d^{n-1}y}{dt^{n-1}} \\\\\n",
    "\\dot{x}_{n} &=& \\frac{d^{n}y}{dt^{n}}\n",
    "\\end{eqnarray*}$$\n",
    "\n",
    "These equations represent the left-hand-side of the state equations and if we make the substitutions we get \n",
    "\n",
    "$$\\begin{eqnarray*}\n",
    "\\dot{x}_1 &=& x_2 \\\\ \n",
    "\\dot{x}_2 &=&  x_3   \\\\\n",
    "\\dot{x}_3 & = &  x_4 \\\\ \n",
    "\\vdots \\\\ \n",
    "\\dot{x}_{n-1}  &=& x_n \\\\ \n",
    "\\dot{x}_{n} &=& -a_{0}x_1 -a_1x_2 - \\cdots  -a_{n-2}x_{n-1} -a_{n-1}x_{n} + b_0 u\n",
    "\\end{eqnarray*}$$\n",
    "\n",
    "We then define the state vector \n",
    "\n",
    "$$\\begin{equation}\\mathbf{x}=[x_1,\\ x_2,\\ \\ldots,\\ x_n]^T\\end{equation}$$ \n",
    "\n",
    "and the matrix form of the state equations are\n",
    "\n",
    "$$\\begin{equation}\\dot{\\mathbf{x}} = \\left[\\begin{array}{ccccc}\n",
    "  0 & 1 & 0 & \\cdots & 0 \\\\\n",
    "  0 & 0 & 1 & \\cdots & 0 \\\\\n",
    "  \\vdots & \\vdots & \\vdots & \\ddots & \\vdots \\\\\n",
    "  0 & 0 & 0 & \\cdots & 1 \\\\\n",
    "  -a_{0} & -a_{1} & -a_{2} & \\cdots & -a_{n-1}\n",
    "\\end{array}\\right]\\mathbf{x}+\\left[\\begin{array}{c}\n",
    "  0 \\\\\n",
    "  0 \\\\\n",
    "  0 \\\\\n",
    "  \\vdots \\\\\n",
    "  1\n",
    "\\end{array}\\right]u\\end{equation}$$ \n",
    "\n",
    "The system matrix is in \"*companion form*\", so called because the coefficients in the final row are the same as for the differential equation. The output equation depends on the dependent variable of interest but the simplest is $y=x_1$ which gives the solution of the differential equation. Thus \n",
    "\n",
    "$$\\begin{equation}y = [1,\\ 0,\\ 0,\\ \\ldots, 0] \\mathbf{x}.\\end{equation}$$\n",
    "\n",
    "### Transfer Function\n",
    "\n",
    "The transfer function equivalent of this differential equation is obtained from the differential equation: \n",
    "\n",
    "$$\\begin{equation}\\frac{d^{n}y}{dt^{n}} + a_{n-1}\\frac{d^{n-1}y}{dt^{n-1}}+a_{n-2}\\frac{d^{n-2}y}{dt^{n-2}}+\\cdots+a_1\\frac{dy}{dt}+a_0 y = b_0 u\\end{equation}$$ \n",
    "\n",
    "The transform of this equation, ignoring initial conditions, is \n",
    "\n",
    "$$\\begin{equation}\\left(s^n + a_{n-1}s^{n-1}+a_{n-2}s^{n-2}+\\cdots+a_1s+a_0\\right)Y(s) = b_0 U(s)\\end{equation}$$ \n",
    "\n",
    "so the transfer function is\n",
    "\n",
    "$$\\begin{equation}G(s) = \\frac{Y(s)}{U(s)} = \\frac{b_0}{s^n + a_{n-1}s^{n-1}+a_{n-2}s^{n-2}+\\cdots+a_1s+a_0}.\\end{equation}$$ \n",
    "\n",
    "Note that the numerator has no terms in $s$. We shall consider completely general case for both proper and strictly proper systems later."
   ]
  },
  {
   "cell_type": "markdown",
   "metadata": {
    "slideshow": {
     "slide_type": "slide"
    }
   },
   "source": [
    "## The Companion Form \n",
    "\n",
    "We have just shown that a state space model for the system defined by the **general differential equation** was the **companion form**."
   ]
  },
  {
   "cell_type": "markdown",
   "metadata": {
    "slideshow": {
     "slide_type": "slide"
    }
   },
   "source": [
    "### General differential equation\n",
    "\n",
    "$$\\begin{equation}\\frac{d^{n}y}{dt^{n}} +\n",
    "a_{n-1}\\frac{d^{n-1}y}{dt^{n-1}}+a_{n-2}\\frac{d^{n-2}y}{dt^{n-2}}+\\cdots+a_1\\frac{dy}{dt}+a_0\n",
    "y = b_0 u\\end{equation}$$ "
   ]
  },
  {
   "cell_type": "markdown",
   "metadata": {
    "slideshow": {
     "slide_type": "fragment"
    }
   },
   "source": [
    "or transfer function \n",
    "\n",
    "$$\\begin{equation}\n",
    "G(s) = \\frac{Y(s)}{U(s)} = \\frac{b_0}{s^n +\n",
    "a_{n-1}s^{n-1}+a_{n-2}s^{n-2}+\\cdots+a_1s+a_0}.\\end{equation}$$ "
   ]
  },
  {
   "cell_type": "markdown",
   "metadata": {
    "slideshow": {
     "slide_type": "subslide"
    }
   },
   "source": [
    "The state variables in this model are the so-called \"*phase variables*\" $x_1 = y$,\n",
    "$x_2 = dy/dt$, $\\ldots$ $x_n = dy^{n-1}/dt^{n-1}$."
   ]
  },
  {
   "cell_type": "markdown",
   "metadata": {
    "slideshow": {
     "slide_type": "subslide"
    }
   },
   "source": [
    "### Companion Form\n",
    "\n",
    "$$\\begin{eqnarray*}\n",
    " \\dot{\\mathbf{x}} &=&\n",
    "\\left[\\begin{array}{ccccc}\n",
    "  0 & 1 & 0 & \\cdots & 0 \\\\\n",
    "  0 & 0 & 1 & \\cdots & 0 \\\\\n",
    "  \\vdots & \\vdots & \\vdots & \\ddots & \\vdots \\\\\n",
    "  0 & 0 & 0 & \\cdots & 1 \\\\\n",
    "  -a_{0} & -a_{1} & -a_{2} & \\cdots & -a_{n-1}\n",
    "\\end{array}\\right]\\mathbf{x}+\\left[\\begin{array}{c}\n",
    "  0 \\\\\n",
    "  0 \\\\\n",
    "  0 \\\\\n",
    "  \\vdots \\\\\n",
    "  b_0\n",
    "\\end{array}\\right]u\\\\\n",
    "y & = & [1,\\ 0,\\ 0,\\ \\ldots, 0] \\mathbf{x}.\\end{eqnarray*}$$"
   ]
  },
  {
   "cell_type": "markdown",
   "metadata": {
    "slideshow": {
     "slide_type": "notes"
    }
   },
   "source": [
    "The structure of this state-space model is illustrated in Figure 1."
   ]
  },
  {
   "cell_type": "markdown",
   "metadata": {
    "slideshow": {
     "slide_type": "subslide"
    }
   },
   "source": [
    "### Figure 1: Block Diagram of Companion Form\n",
    "\n",
    "\n",
    "![Block Diagram of Companion Form](pictures/companion1.png)"
   ]
  },
  {
   "cell_type": "markdown",
   "metadata": {
    "slideshow": {
     "slide_type": "subslide"
    }
   },
   "source": [
    "### System with a Strictly Proper Transfer Function "
   ]
  },
  {
   "cell_type": "markdown",
   "metadata": {
    "slideshow": {
     "slide_type": "notes"
    }
   },
   "source": [
    "Now let us consider the case of a system that has derivatives of the\n",
    "input."
   ]
  },
  {
   "cell_type": "markdown",
   "metadata": {
    "slideshow": {
     "slide_type": "fragment"
    }
   },
   "source": [
    "A strictly proper system has transfer function\n",
    "\n",
    "$$\\begin{equation}G(s)=\\frac{Y(s)}{U(s)} = \\frac{b_ms^m +\n",
    "b_{m-1}s^{m-1}+b_{m-2}s^{m-2}+\\cdots+b_1s+b_0}{s^n +\n",
    "a_{n-1}s^{n-1}+a_{n-2}s^{n-2}+\\cdots+a_1s+a_0}\\end{equation}$$ \n",
    "\n",
    "where $m<n$."
   ]
  },
  {
   "cell_type": "markdown",
   "metadata": {
    "slideshow": {
     "slide_type": "fragment"
    }
   },
   "source": [
    "In class, we will show how this more general system converted into a state-space model."
   ]
  },
  {
   "cell_type": "markdown",
   "metadata": {
    "slideshow": {
     "slide_type": "notes"
    }
   },
   "source": [
    "Well, let us introduce an intermediate variable $W(s)$ and use this to\n",
    "split the transfer function into two parts like so: \n",
    "\n",
    "$$\\begin{equation}\n",
    "W(s) = \\frac{1}{s^n +\n",
    "a_{n-1}s^{n-1}+a_{n-2}s^{n-2}+\\cdots+a_1s+a_0}U(s)\\end{equation}$$ \n",
    "\n",
    "and\n",
    "\n",
    "$$\\begin{equation}\n",
    "Y(s) = \\left(b_ms^m +\n",
    "b_{m-1}s^{m-1}+b_{m-2}s^{m-2}+\\cdots+b_1s+b_0\\right)W(s).\\end{equation}$$\n",
    "\n",
    "Now equation (2) has the same form as the system of equation (1) with $b_0 = 1$. So if we define our first phase\n",
    "variable to be $X_1(s) = W(s)$ then the state matrix $\\mathbf{A}$ will be the same as for the previous example and the input matrix $\\mathbf{B} = \\left[0, 0, \\ldots, 1\\right]^T$. To determine the output matrix $\\mathbf{C}$ we inverse Laplace transform equation (3) to\n",
    "get: \n",
    "\n",
    "$$\\begin{equation}\n",
    "y(t) = b_m\\frac{d^m}{dt^m}w(t) +\n",
    "b_{m-1}\\frac{d^{m-1}}{dt^{m-1}}w(t)+\\cdots+b_1\\frac{d}{dt}w(t)+\n",
    "b_0w(t).\\end{equation}$$ \n",
    "\n",
    "Now, since by definition $x_1(t) = w(t)$, then\n",
    "\n",
    "$$\\begin{equation}\n",
    "y(t) = b_mx_{m+1}(t) + b_{m-1}x_m(t)+\\cdots+b_1x_2(t)+\n",
    "b_0x_1(t).\\end{equation}$$ \n",
    "\n",
    "Where, in (5), substitutions have been made according to the definition of the phase variables. \n",
    "\n",
    "The vector state equations are therefore: \n",
    "\n",
    "$$\\begin{eqnarray*}\n",
    " \\dot{\\mathbf{x}} &=&\n",
    "\\left[\\begin{array}{ccccc}\n",
    "  0 & 1 & 0 & \\cdots & 0 \\\\\n",
    "  0 & 0 & 1 & \\cdots & 0 \\\\\n",
    "  \\vdots & \\vdots & \\vdots & \\ddots & \\vdots \\\\\n",
    "  0 & 0 & 0 & \\cdots & 1 \\\\\n",
    "  -a_{0} & -a_{1} & -a_{2} & \\cdots & -a_{n-1}\n",
    "\\end{array}\\right]\\mathbf{x}+\\left[\\begin{array}{c}\n",
    "  0 \\\\\n",
    "  0 \\\\\n",
    "  0 \\\\\n",
    "  \\vdots \\\\\n",
    "  1\n",
    "\\end{array}\\right]u\\\\\n",
    "y & = & [b_0,\\ b_1,\\ \\dots,\\ b_{m-1}, b_m]\n",
    "\\mathbf{x}.\\end{eqnarray*}$$ \n",
    "\n",
    "Note that the coefficients of the numerator appear in reverse order in the $\\mathbf{C}$ matrix. The structure of\n",
    "this system is illustrated in Figure 2 for the case $m=n-1$."
   ]
  },
  {
   "cell_type": "markdown",
   "metadata": {
    "slideshow": {
     "slide_type": "subslide"
    }
   },
   "source": [
    "### Figure 2: System with a Strictly Proper Transfer Function\n",
    "\n",
    "![System with a Strictly Proper Transfer Function](pictures/companion2.png)"
   ]
  },
  {
   "cell_type": "markdown",
   "metadata": {
    "slideshow": {
     "slide_type": "slide"
    }
   },
   "source": [
    "### System with a Proper Transfer Function \n",
    "\n",
    "The general form of a transfer function of a proper single-input,\n",
    "single-output system of order $n$ is\n",
    "\n",
    "$$\\begin{equation}\\frac{b_ns^n+b_{n-1}s^{n-1}+\\cdots+b_1s + b_0}{s^n+a_{n-1}s^{n-1}+\\cdots+a_1s + a_0}\\end{equation}$$\n",
    "\n",
    "In class, we will show how this system converted into state-space form."
   ]
  },
  {
   "cell_type": "markdown",
   "metadata": {
    "slideshow": {
     "slide_type": "notes"
    }
   },
   "source": [
    "An alternative form, obtained by dividing the numerator by the\n",
    "denominator, is\n",
    "\n",
    "$$\\begin{equation}b_n+\\frac{(b_{n-1} - b_n a_{n-1})s^{n-1}+\\cdots+(b_1 - b_n a_1)+(b_0 - b_n a_0)}{s^n+a_{n-1}s^{n-1}+\\cdots+a_1s + a_0}.\\end{equation}$$\n",
    "\n",
    "If we define $d=b_n$ and the modified numerator coefficients are\n",
    "\n",
    "$$\\begin{equation}c_j=b_j - b_n a_j,\\ j=1,2,\\ldots,n\\end{equation}$$ \n",
    "\n",
    "then the transfer function may be re-written\n",
    "\n",
    "$$\\begin{equation}d+\\frac{c_{n-1}s^{n-1}+c_{n-2}s^{n-2}+\\cdots+c_1s + c_n}{s^n+a_{n-1}s^{n-1}+\\cdots++a_1s + a_0}.\\end{equation}$$\n",
    "\n",
    "Writing the transfer function in its functional form we have:\n",
    "\n",
    "$$\\begin{equation}Y(s)=d U(s) +\\frac{c_{n-1}s^{n-1}+c_{n-2}s^{n-2}+\\cdots+c_1s +\n",
    "c_0}{s^n+a_{n-1}s^{n-1}+\\cdots+a_1s + a_0}U(s).\\end{equation}$$ \n",
    "\n",
    "Performing a similar\n",
    "analysis, as before, we obtain the state-equations for a proper system:\n",
    "\n",
    "$$\\begin{aligned}\n",
    "\\dot{\\mathbf{x}} & = & \\left[\\begin{array}{ccccc}\n",
    "  0 & 1 & 0 & \\cdots & 0 \\\\\n",
    "  0 & 0 & 1 & \\cdots & 0 \\\\\n",
    "  \\vdots & \\vdots & \\vdots & \\ddots & \\vdots \\\\\n",
    "  0 & 0 & 0 & \\cdots & 1 \\\\\n",
    "  -a_{0} & -a_{1} & -a_{2} & \\cdots & -a_{n-1}\n",
    "\\end{array}\\right]\\mathbf{x}+\\left[\\begin{array}{c}\n",
    "  0 \\\\\n",
    "  0 \\\\\n",
    "  0 \\\\\n",
    "  \\vdots \\\\\n",
    "  1\n",
    "\\end{array}\\right]u\\\\\n",
    "y & = & [c_0,\\ c_1,\\ \\dots,\\ c_{n-1}, c_n] \\mathbf{x} + d\n",
    "u.\\end{aligned}$$ \n",
    "\n",
    "The block diagram for this system is illustrated in Figure 3."
   ]
  },
  {
   "cell_type": "markdown",
   "metadata": {
    "slideshow": {
     "slide_type": "subslide"
    }
   },
   "source": [
    "### Figure 3: System with a Proper Transfer Function\n",
    "\n",
    "![System with a Proper Transfer Function](pictures/companion3.png)"
   ]
  },
  {
   "cell_type": "markdown",
   "metadata": {
    "slideshow": {
     "slide_type": "subslide"
    }
   },
   "source": [
    "### Example 1\n",
    "\n",
    "A system has transfer function\n",
    "\n",
    "$$\\begin{equation}G(s)=\\frac{Y(s)}{U(s)}=\\frac{2s^3 + 16s^2 + 30s + 8}{s^3 + 7s^2 + 10s}\\end{equation}$$\n",
    "\n",
    "This system is \"proper\" because order of numerator equals order of denominator.\n",
    "\n",
    "Determine the system state-space model in companion form."
   ]
  },
  {
   "cell_type": "markdown",
   "metadata": {
    "slideshow": {
     "slide_type": "notes"
    }
   },
   "source": [
    "#### Solution \n",
    "\n",
    "First divide the numerator into the denominator to get \n",
    "\n",
    "$$\\begin{eqnarray*}\n",
    "G(s)&=&\\frac{2(s^3 + 7s^2 + 10s) + 2s^2 + 10s + 8}{s^3 + 7s^2 +\n",
    "10s}\\\\ &=& \\frac{2s^2 + 10s + 8}{s^3 + 7s^2 + 10s} +\n",
    "2.\\end{eqnarray*}$$\n",
    "\n",
    "The companion form of the state matrices are \n",
    "\n",
    "$$\\begin{eqnarray*}\n",
    "\\mathbf{A} & = & \\left[\\begin{array}{ccc}\n",
    "  0 & 1 & 0 \\\\\n",
    "  0 & 0 & 1 \\\\\n",
    "  0 & -10 & -7\n",
    "\\end{array}\\right]\\ \\mathbf{B}=\\left[\\begin{array}{c}\n",
    "  0 \\\\\n",
    "  0 \\\\\n",
    "  1\n",
    "\\end{array}\\right]\\\\ \\mathbf{C} & = & \\left[\\begin{array}{ccc}\n",
    "  8 & 10 & 2\n",
    "\\end{array}\\right]\\ \\mathbf{D}=\\left[2\\right]\\end{eqnarray*}$$"
   ]
  },
  {
   "cell_type": "markdown",
   "metadata": {
    "slideshow": {
     "slide_type": "notes"
    }
   },
   "source": [
    "## End of Pre-Class Presentation\n",
    "\n",
    "In class we will:\n",
    "\n",
    "-   Work through the three cases introduced here\n",
    "\n",
    "-   Complete the worked example"
   ]
  },
  {
   "cell_type": "markdown",
   "metadata": {
    "slideshow": {
     "slide_type": "slide"
    }
   },
   "source": [
    "## Part 2: Other Canonical Forms"
   ]
  },
  {
   "cell_type": "markdown",
   "metadata": {
    "slideshow": {
     "slide_type": "fragment"
    }
   },
   "source": [
    "- Controller and Observer Canonical Forms"
   ]
  },
  {
   "cell_type": "markdown",
   "metadata": {
    "slideshow": {
     "slide_type": "fragment"
    }
   },
   "source": [
    "- Normal form"
   ]
  },
  {
   "cell_type": "markdown",
   "metadata": {
    "slideshow": {
     "slide_type": "fragment"
    }
   },
   "source": [
    "- Jordan forms"
   ]
  },
  {
   "cell_type": "markdown",
   "metadata": {
    "slideshow": {
     "slide_type": "slide"
    }
   },
   "source": [
    "## Controller Canonical Form"
   ]
  },
  {
   "cell_type": "markdown",
   "metadata": {
    "slideshow": {
     "slide_type": "notes"
    }
   },
   "source": [
    "If one defines a transfer function in , e.g. as shown in the slide entitled **A Litte MATLAB** below, the result of\n",
    "converting the system into state-space form using MATLAB's `tf2ss` function is rather surprisingly not the companion form we have seen before. \n",
    "\n",
    "Instead, the result is what is known as the *Controller Canonical Form*. This is still a companion form because the coefficients of the $\\mathbf{A}$ and $\\mathbf{C}$ matrices are the coefficients of the transfer function's denominator and numerator polynomials."
   ]
  },
  {
   "cell_type": "markdown",
   "metadata": {
    "slideshow": {
     "slide_type": "subslide"
    }
   },
   "source": [
    "### A Little MATLAB"
   ]
  },
  {
   "cell_type": "markdown",
   "metadata": {
    "slideshow": {
     "slide_type": "fragment"
    }
   },
   "source": [
    "Let \n",
    "\n",
    "$$\\begin{equation}G(s) =\\frac{Y(s)}{U(s)} = \\frac{s^2 + 7s + 2 }{s^3 + 9s^2 + 26s + 24}\\end{equation}$$"
   ]
  },
  {
   "cell_type": "code",
   "execution_count": 1,
   "metadata": {
    "slideshow": {
     "slide_type": "subslide"
    }
   },
   "outputs": [],
   "source": [
    "format compact\n",
    "imatlab_export_fig('print-svg')  % Static svg figures."
   ]
  },
  {
   "cell_type": "code",
   "execution_count": 2,
   "metadata": {
    "slideshow": {
     "slide_type": "subslide"
    }
   },
   "outputs": [
    {
     "name": "stdout",
     "output_type": "stream",
     "text": [
      "A =\n",
      "    -9   -26   -24\n",
      "     1     0     0\n",
      "     0     1     0\n",
      "B =\n",
      "     1\n",
      "     0\n",
      "     0\n",
      "C =\n",
      "     1     7     2\n",
      "D =\n",
      "     0\n"
     ]
    }
   ],
   "source": [
    "num=[1, 7, 2]; den=[1, 9, 26 24];\n",
    "[A,B,C,D]=tf2ss(num,den)"
   ]
  },
  {
   "cell_type": "markdown",
   "metadata": {
    "slideshow": {
     "slide_type": "subslide"
    }
   },
   "source": [
    "Result: \n",
    "\n",
    "$$\\begin{eqnarray*}\n",
    "\\dot{\\mathbf{x}} & = &\\left[\\begin{array}{ccc}\n",
    "  -9 & -26 & -24  \\\\\n",
    "  1 & 0 & 0  \\\\\n",
    "  0 & 1  & 0\n",
    " \\end{array}\\right]\\mathbf{x}+\\left[\\begin{array}{c}\n",
    "  1 \\\\\n",
    "  0 \\\\\n",
    "  0\n",
    "\\end{array}\\right]u\\\\\n",
    "y & = & [1,\\ 7,\\ 2] \\mathbf{x}.\\end{eqnarray*}$$"
   ]
  },
  {
   "cell_type": "markdown",
   "metadata": {
    "slideshow": {
     "slide_type": "notes"
    }
   },
   "source": [
    "The controller canonical form is simply obtained by re-ordering the phase variables as illustrated below. "
   ]
  },
  {
   "cell_type": "markdown",
   "metadata": {
    "slideshow": {
     "slide_type": "subslide"
    }
   },
   "source": [
    "### The Companion Form\n",
    "\n",
    "$$\\begin{eqnarray*}\n",
    " \\left[\\begin{array}{c}\n",
    "  \\dot{x}_{1} \\\\\n",
    "  \\dot{x}_{2} \\\\\n",
    "  \\vdots \\\\\n",
    "  \\dot{x}_{n-1} \\\\\n",
    "  \\dot{x}_n\n",
    "\\end{array}\\right] &=& \\left[\\begin{array}{ccccc}\n",
    "  0 & 1 & 0 & \\cdots & 0 \\\\\n",
    "  0 & 0 & 1 & \\cdots & 0 \\\\\n",
    "  \\vdots & \\vdots & \\vdots & \\ddots & \\vdots \\\\\n",
    "  0 & 0 & 0 & \\cdots & 1 \\\\\n",
    "  -a_{0} & -a_{1} & -a_{2} & \\cdots & -a_{n-1}\n",
    "\\end{array}\\right]\\left[\\begin{array}{c}\n",
    "  {x}_{1} \\\\\n",
    "  {x}_{2} \\\\\n",
    "  \\vdots \\\\\n",
    "  {x}_{n-1} \\\\\n",
    "  {x}_{n}\n",
    "\\end{array}\\right]+\\left[\\begin{array}{c}\n",
    "  0 \\\\\n",
    "  0 \\\\\n",
    "  \\vdots \\\\\n",
    "  0 \\\\\n",
    "  1\n",
    "\\end{array}\\right]u\\\\\n",
    "y & = & [b_0,\\ b_1,\\ \\dots,\\ b_{n-2}, b_{n-1}][\n",
    "  {x}_{1},\\\n",
    "  {x}_{2},\\\n",
    "  \\ldots,\\\n",
    "  {x}_{n-1},\\\n",
    "  {x}_{n}]^T\\end{eqnarray*}$$"
   ]
  },
  {
   "cell_type": "markdown",
   "metadata": {
    "slideshow": {
     "slide_type": "subslide"
    }
   },
   "source": [
    "### Controller canonical form: Re-number States\n",
    "\n",
    "$$\\begin{eqnarray*}\n",
    " \\left[\\begin{array}{c}\n",
    "  \\dot{x}_{n} \\\\\n",
    "  \\dot{x}_{n-1} \\\\\n",
    "  \\vdots \\\\\n",
    "  \\dot{x}_{2} \\\\\n",
    "  \\dot{x}_{1}\n",
    "\\end{array}\\right] &=& \\left[\\begin{array}{ccccc}\n",
    "  0 & 1 & 0 & \\cdots & 0 \\\\\n",
    "  0 & 0 & 1 & \\cdots & 0 \\\\\n",
    "  \\vdots & \\vdots & \\vdots & \\ddots & \\vdots \\\\\n",
    "  0 & 0 & 0 & \\cdots & 1 \\\\\n",
    "  -a_{0} & -a_{1} & -a_{2} & \\cdots & -a_{n-1}\n",
    "\\end{array}\\right]\\left[\\begin{array}{c}\n",
    "  {x}_{n} \\\\\n",
    "  {x}_{n-1} \\\\\n",
    "  \\vdots \\\\\n",
    "  {x}_{2} \\\\\n",
    "  {x}_{1}\n",
    "\\end{array}\\right]+\\left[\\begin{array}{c}\n",
    "  0 \\\\\n",
    "  0 \\\\\n",
    "  \\vdots \\\\\n",
    "  0 \\\\\n",
    "  1\n",
    "\\end{array}\\right]u\\\\ y & = & [b_0,\\ b_1,\\ \\dots,\\ b_{n-2}, b_{n-1}]\n",
    "\\left[\n",
    "  {x}_{n},\\\n",
    "  {x}_{n-1},\\\n",
    "  \\ldots,\\\n",
    "  {x}_{2},\\\n",
    "  {x}_{1}\n",
    "\\right]^T\\end{eqnarray*}$$"
   ]
  },
  {
   "cell_type": "markdown",
   "metadata": {
    "slideshow": {
     "slide_type": "notes"
    }
   },
   "source": [
    "The general form of the controller canonical state-space model is the as shown below."
   ]
  },
  {
   "cell_type": "markdown",
   "metadata": {
    "slideshow": {
     "slide_type": "subslide"
    }
   },
   "source": [
    "### Controller canonical form: Re-Ordered States\n",
    "\n",
    "$$\\begin{eqnarray*}\n",
    " \\left[\\begin{array}{c}\n",
    "  \\dot{x}_{1} \\\\\n",
    "  \\dot{x}_{2} \\\\\n",
    "  \\vdots \\\\\n",
    "  \\dot{x}_{n-1} \\\\\n",
    "  \\dot{x}_{n}\n",
    "\\end{array}\\right] &=& \\left[\\begin{array}{ccccc}\n",
    " -a_{n-1} & -a_{n-2} & \\cdots & -a_{1} & -a_{0} \\\\\n",
    "   1 & 0 & \\cdots & 0 & 0 \\\\\n",
    "  0 & 1 & \\cdots & 0 & 0 \\\\\n",
    "  \\vdots & \\vdots & \\ddots & \\vdots & \\vdots \\\\\n",
    "  0 & 0 & \\cdots & 1 & 0\n",
    "\\end{array}\\right]\\left[\\begin{array}{c}\n",
    "  {x}_{1} \\\\\n",
    "  {x}_{2} \\\\\n",
    "  \\vdots \\\\\n",
    "  {x}_{n-1} \\\\\n",
    "  {x}_{n}\n",
    "\\end{array}\\right]+\\left[\\begin{array}{c}\n",
    "  1 \\\\\n",
    "  0 \\\\\n",
    "  \\vdots \\\\\n",
    "  0 \\\\\n",
    "  0\n",
    "\\end{array}\\right]u\\\\ y & = & [b_{n-1},\\ b_{n-2},\\ \\dots,\\ b_{1}, b_{0}]\n",
    "\\left[\n",
    "  {x}_{1},\\\n",
    "  {x}_{2},\\\n",
    "  \\ldots,\\\n",
    "  {x}_{n-1},\\\n",
    "  {x}_{n}\n",
    "\\right]^T\\end{eqnarray*}$$"
   ]
  },
  {
   "cell_type": "markdown",
   "metadata": {
    "slideshow": {
     "slide_type": "subslide"
    }
   },
   "source": [
    "### Figure 4: Controller Canonical Form: Block Diagram\n",
    "\n",
    "![Controller Canonical Form: Block Diagram](pictures/ccanon.png)"
   ]
  },
  {
   "cell_type": "markdown",
   "metadata": {
    "slideshow": {
     "slide_type": "slide"
    }
   },
   "source": [
    "## Observer Canonical Form \n",
    "\n",
    "The observer canonical form is the \"dual\" of the controller canonical\n",
    "form."
   ]
  },
  {
   "cell_type": "markdown",
   "metadata": {
    "slideshow": {
     "slide_type": "notes"
    }
   },
   "source": [
    "The state equations are shown below. Note that the $\\mathbf{A}$\n",
    "matrix is the transpose of the controller canonical form and that\n",
    "$\\mathbf{b}$ and $\\mathbf{c}$ are the transposes of the $\\mathbf{c}$ and\n",
    "$\\mathbf{b}$ matrices, respectively, of the controller canonical form."
   ]
  },
  {
   "cell_type": "markdown",
   "metadata": {
    "slideshow": {
     "slide_type": "subslide"
    }
   },
   "source": [
    "### Observer canonical form\n",
    "\n",
    "$$\\begin{eqnarray*}\n",
    " \\left[\\begin{array}{c}\n",
    "  \\dot{x}_{1} \\\\\n",
    "  \\dot{x}_{2} \\\\\n",
    "  \\vdots \\\\\n",
    "  \\dot{x}_{n-1} \\\\\n",
    "  \\dot{x}_{n}\n",
    "\\end{array}\\right] &=& \\left[\\begin{array}{ccccc}\n",
    " -a_{n-1} & 1 & 0 & \\cdots & 0 \\\\\n",
    " -a_{n-2} & 0 & 1 & \\cdots & 0 \\\\\n",
    " -a_{n-3} & 0 & 0 & \\cdots & 0 \\\\\n",
    "  \\vdots & \\vdots & \\vdots & \\ddots & \\vdots \\\\\n",
    " -a_{1} & 0 & \\cdots & 0 & 1 \\\\\n",
    " -a_{0} & 0 & \\cdots & 0 & 0\n",
    "\\end{array}\\right]\\left[\\begin{array}{c}\n",
    "  {x}_{1} \\\\\n",
    "  {x}_{2} \\\\\n",
    "  {x}_{3} \\\\\n",
    "  \\vdots \\\\\n",
    "  {x}_{n-1} \\\\\n",
    "  {x}_{n}\n",
    "\\end{array}\\right]+\\left[\\begin{array}{c}\n",
    "  b_{n-1} \\\\\n",
    "  b_{n-2} \\\\\n",
    "  b_{n-3} \\\\\n",
    "  \\vdots \\\\\n",
    "  b_{1} \\\\\n",
    "  b_0\n",
    "\\end{array}\\right]u\\\\ y & = & [1,\\ 0,\\ 0,\\ \\ldots, 0]\\left[\n",
    "  {x}_{1},\\\n",
    "  {x}_{2},\\\n",
    "  \\ldots,\\\n",
    "  {x}_{n-1},\\\n",
    "  {x}_{n}\n",
    "\\right]^T\\end{eqnarray*}$$"
   ]
  },
  {
   "cell_type": "markdown",
   "metadata": {
    "slideshow": {
     "slide_type": "subslide"
    }
   },
   "source": [
    "### Figure 5: Observer Canonical Form: Block Diagram\n",
    "\n",
    "![Controller Canonical Form: Block Diagram](pictures/ocanon.png)"
   ]
  },
  {
   "cell_type": "markdown",
   "metadata": {
    "slideshow": {
     "slide_type": "subslide"
    }
   },
   "source": [
    "### Example 2\n",
    "\n",
    "The system with transfer function\n",
    "\n",
    "$$\\begin{equation}G(s)=\\frac{Y(s)}{U(s)}=\\frac{2s^3 + 16s^2 + 30s + 8}{s^3 + 7s^2 + 10s}\\end{equation}$$"
   ]
  },
  {
   "cell_type": "markdown",
   "metadata": {
    "slideshow": {
     "slide_type": "subslide"
    }
   },
   "source": [
    "was found, earlier, to have companion form \n",
    "\n",
    "$$\\begin{eqnarray*}\n",
    "\\mathbf{A} & = & \\left[\\begin{array}{ccc}\n",
    "  0 & 1 & 0 \\\\\n",
    "  0 & 0 & 1 \\\\\n",
    "  0 & -10 & -7\n",
    "\\end{array}\\right]\\ \\mathbf{B}=\\left[\\begin{array}{c}\n",
    "  0 \\\\\n",
    "  0 \\\\\n",
    "  1\n",
    "\\end{array}\\right]\\\\ \\mathbf{C} & = & \\left[\\begin{array}{ccc}\n",
    "  8 & 10 & 2\n",
    "\\end{array}\\right]\\ \\mathbf{D}=\\left[2\\right]\\end{eqnarray*}$$"
   ]
  },
  {
   "cell_type": "markdown",
   "metadata": {
    "slideshow": {
     "slide_type": "subslide"
    }
   },
   "source": [
    "Express this system in controller canonical and observer canonical\n",
    "forms."
   ]
  },
  {
   "cell_type": "markdown",
   "metadata": {
    "slideshow": {
     "slide_type": "notes"
    }
   },
   "source": [
    "### Solution\n",
    "\n",
    "The controller canonical form is obtained by re-ordering the state\n",
    "variables: \n",
    "\n",
    "$$\\begin{eqnarray*}\n",
    "\\mathbf{A} & = & \\left[\\begin{array}{ccc}\n",
    "  -7 & -10 & 0 \\\\\n",
    "  1 & 0 & 0 \\\\\n",
    "  0 & 1 & 0\n",
    "\\end{array}\\right]\\ \\mathbf{B}=\\left[\\begin{array}{c}\n",
    "  1 \\\\\n",
    "  0 \\\\\n",
    "  0\n",
    "\\end{array}\\right]\\\\ \\mathbf{C} & = & \\left[\\begin{array}{ccc}\n",
    "  2 & 10 & 8\n",
    "\\end{array}\\right]\\ \\mathbf{D}=\\left[2\\right]\\end{eqnarray*}$$ \n",
    "\n",
    "and the\n",
    "observable canonical form is obtained by transposing the $\\mathbf{A}$\n",
    "matrix and letting $\\mathbf{B} = \\mathbf{C}^T$ and\n",
    "$\\mathbf{C}=\\mathbf{B}^T$. \n",
    "\n",
    "$$\\begin{eqnarray*}\n",
    "\\mathbf{A} & = & \\left[\\begin{array}{ccc}\n",
    "  -7 & 1 & 0 \\\\\n",
    "  -10 & 0 & 1 \\\\\n",
    "  0 & 0 & 0\n",
    "\\end{array}\\right]\\ \\mathbf{B}=\\left[\\begin{array}{c}\n",
    "  2 \\\\\n",
    "  10 \\\\\n",
    "  8\n",
    "\\end{array}\\right]\\\\ \\mathbf{C} & = & \\left[\\begin{array}{ccc}\n",
    "  1 & 0 & 0\n",
    "\\end{array}\\right]\\ \\mathbf{D}=\\left[2\\right]\\end{eqnarray*}$$"
   ]
  },
  {
   "cell_type": "markdown",
   "metadata": {
    "slideshow": {
     "slide_type": "subslide"
    }
   },
   "source": [
    "### MATLAB Code for Examples\n",
    "\n",
    "We will show these in class."
   ]
  },
  {
   "cell_type": "markdown",
   "metadata": {
    "slideshow": {
     "slide_type": "subslide"
    }
   },
   "source": [
    "#### Controller canonical companion form"
   ]
  },
  {
   "cell_type": "code",
   "execution_count": 3,
   "metadata": {
    "slideshow": {
     "slide_type": "fragment"
    }
   },
   "outputs": [
    {
     "name": "stdout",
     "output_type": "stream",
     "text": [
      "\n",
      "Gcc =\n",
      " \n",
      "  A = \n",
      "        x1   x2   x3\n",
      "   x1   -7  -10    0\n",
      "   x2    1    0    0\n",
      "   x3    0    1    0\n",
      " \n",
      "  B = \n",
      "       u1\n",
      "   x1   1\n",
      "   x2   0\n",
      "   x3   0\n",
      " \n",
      "  C = \n",
      "       x1  x2  x3\n",
      "   y1   2  10   8\n",
      " \n",
      "  D = \n",
      "       u1\n",
      "   y1   2\n",
      " \n",
      "Continuous-time state-space model.\n",
      "\n"
     ]
    }
   ],
   "source": [
    "Acc = [-7, -10, 0; 1, 0, 0; 0, 1, 0];\n",
    "Bcc = [1, 0, 0]';\n",
    "Ccc = [2, 10, 8]; D = 2;\n",
    "Gcc = ss(Acc,Bcc,Ccc,D)"
   ]
  },
  {
   "cell_type": "markdown",
   "metadata": {
    "slideshow": {
     "slide_type": "subslide"
    }
   },
   "source": [
    "#### Observer canonical form\n",
    "\n",
    "To create the observer canonical form, we transpose some of the matrices"
   ]
  },
  {
   "cell_type": "code",
   "execution_count": 4,
   "metadata": {
    "slideshow": {
     "slide_type": "fragment"
    }
   },
   "outputs": [
    {
     "name": "stdout",
     "output_type": "stream",
     "text": [
      "\n",
      "Goc =\n",
      " \n",
      "  A = \n",
      "        x1   x2   x3\n",
      "   x1   -7    1    0\n",
      "   x2  -10    0    1\n",
      "   x3    0    0    0\n",
      " \n",
      "  B = \n",
      "       u1\n",
      "   x1   2\n",
      "   x2  10\n",
      "   x3   8\n",
      " \n",
      "  C = \n",
      "       x1  x2  x3\n",
      "   y1   1   0   0\n",
      " \n",
      "  D = \n",
      "       u1\n",
      "   y1   2\n",
      " \n",
      "Continuous-time state-space model.\n",
      "\n"
     ]
    }
   ],
   "source": [
    "Goc = ss(Acc',Ccc',Bcc',D)"
   ]
  },
  {
   "cell_type": "markdown",
   "metadata": {
    "slideshow": {
     "slide_type": "subslide"
    }
   },
   "source": [
    "#### Companion form\n",
    "\n",
    "To obtain the companion form, some trickery is needed to re-order the controller\n",
    "canonical state matrices:"
   ]
  },
  {
   "cell_type": "code",
   "execution_count": 5,
   "metadata": {
    "slideshow": {
     "slide_type": "fragment"
    }
   },
   "outputs": [],
   "source": [
    "[n,m]=size(Acc); % n = m = 3 for the example\n",
    "Acf = Acc(n:-1:1,n:-1:1);\n",
    "Bcf = Bcc(n:-1:1,:);\n",
    "Ccf = Ccc(:,n:-1:1);"
   ]
  },
  {
   "cell_type": "markdown",
   "metadata": {
    "slideshow": {
     "slide_type": "subslide"
    }
   },
   "source": [
    "The companion form is then created from the reordered matrices."
   ]
  },
  {
   "cell_type": "code",
   "execution_count": 6,
   "metadata": {
    "slideshow": {
     "slide_type": "fragment"
    }
   },
   "outputs": [
    {
     "name": "stdout",
     "output_type": "stream",
     "text": [
      "\n",
      "Gcf =\n",
      " \n",
      "  A = \n",
      "        x1   x2   x3\n",
      "   x1    0    1    0\n",
      "   x2    0    0    1\n",
      "   x3    0  -10   -7\n",
      " \n",
      "  B = \n",
      "       u1\n",
      "   x1   0\n",
      "   x2   0\n",
      "   x3   1\n",
      " \n",
      "  C = \n",
      "       x1  x2  x3\n",
      "   y1   8  10   2\n",
      " \n",
      "  D = \n",
      "       u1\n",
      "   y1   2\n",
      " \n",
      "Continuous-time state-space model.\n",
      "\n"
     ]
    }
   ],
   "source": [
    "Gcf = ss(Acf,Bcf,Ccf,D)"
   ]
  },
  {
   "cell_type": "markdown",
   "metadata": {
    "slideshow": {
     "slide_type": "subslide"
    }
   },
   "source": [
    "#### MATLAB's built-in canonical form\n",
    "\n",
    "This is none of the forms discussed. So for example if we convert the transfer function directly:\n",
    "\n"
   ]
  },
  {
   "cell_type": "code",
   "execution_count": 7,
   "metadata": {
    "slideshow": {
     "slide_type": "fragment"
    }
   },
   "outputs": [
    {
     "name": "stdout",
     "output_type": "stream",
     "text": [
      "\n",
      "G =\n",
      " \n",
      "  2 s^3 + 16 s^2 + 30 s + 8\n",
      "  -------------------------\n",
      "     s^3 + 7 s^2 + 10 s\n",
      " \n",
      "Continuous-time transfer function.\n",
      "\n"
     ]
    }
   ],
   "source": [
    "num = [2, 16, 30, 8];\n",
    "den = [1, 7, 10, 0];\n",
    "G = tf(num,den)"
   ]
  },
  {
   "cell_type": "markdown",
   "metadata": {
    "slideshow": {
     "slide_type": "subslide"
    }
   },
   "source": [
    "Then convert into state space using the `ss` function"
   ]
  },
  {
   "cell_type": "code",
   "execution_count": 8,
   "metadata": {
    "slideshow": {
     "slide_type": "fragment"
    }
   },
   "outputs": [
    {
     "name": "stdout",
     "output_type": "stream",
     "text": [
      "\n",
      "Gtf =\n",
      " \n",
      "  A = \n",
      "         x1    x2    x3\n",
      "   x1    -7  -2.5     0\n",
      "   x2     4     0     0\n",
      "   x3     0  0.25     0\n",
      " \n",
      "  B = \n",
      "       u1\n",
      "   x1   4\n",
      "   x2   0\n",
      "   x3   0\n",
      " \n",
      "  C = \n",
      "          x1     x2     x3\n",
      "   y1    0.5  0.625      2\n",
      " \n",
      "  D = \n",
      "       u1\n",
      "   y1   2\n",
      " \n",
      "Continuous-time state-space model.\n",
      "\n"
     ]
    }
   ],
   "source": [
    "Gtf = ss(G)"
   ]
  },
  {
   "cell_type": "markdown",
   "metadata": {
    "slideshow": {
     "slide_type": "notes"
    }
   },
   "source": [
    "This is a canonical form known only to the Mathworks! The algorithm used to generate it presumably has some useful numerical properties."
   ]
  },
  {
   "cell_type": "markdown",
   "metadata": {
    "slideshow": {
     "slide_type": "subslide"
    }
   },
   "source": [
    "#### All forms represent the same transfer function!"
   ]
  },
  {
   "cell_type": "code",
   "execution_count": 9,
   "metadata": {
    "slideshow": {
     "slide_type": "subslide"
    }
   },
   "outputs": [
    {
     "name": "stdout",
     "output_type": "stream",
     "text": [
      "\n",
      "G1 =\n",
      " \n",
      "  2 s^3 + 16 s^2 + 30 s + 8\n",
      "  -------------------------\n",
      "     s^3 + 7 s^2 + 10 s\n",
      " \n",
      "Continuous-time transfer function.\n",
      "\n"
     ]
    }
   ],
   "source": [
    "G1 = tf(Gtf) % Mathworks tf-t--ss form"
   ]
  },
  {
   "cell_type": "code",
   "execution_count": 10,
   "metadata": {
    "slideshow": {
     "slide_type": "subslide"
    }
   },
   "outputs": [
    {
     "name": "stdout",
     "output_type": "stream",
     "text": [
      "\n",
      "G2 =\n",
      " \n",
      "  2 s^3 + 16 s^2 + 30 s + 8\n",
      "  -------------------------\n",
      "     s^3 + 7 s^2 + 10 s\n",
      " \n",
      "Continuous-time transfer function.\n",
      "\n"
     ]
    }
   ],
   "source": [
    "G2 = tf(Gcc) % Controller Canonical form"
   ]
  },
  {
   "cell_type": "code",
   "execution_count": 11,
   "metadata": {
    "slideshow": {
     "slide_type": "subslide"
    }
   },
   "outputs": [
    {
     "name": "stdout",
     "output_type": "stream",
     "text": [
      "\n",
      "G3 =\n",
      " \n",
      "  2 s^3 + 16 s^2 + 30 s + 8\n",
      "  -------------------------\n",
      "     s^3 + 7 s^2 + 10 s\n",
      " \n",
      "Continuous-time transfer function.\n",
      "\n"
     ]
    }
   ],
   "source": [
    "G3 = tf(Goc) % Observer Canonical Form"
   ]
  },
  {
   "cell_type": "code",
   "execution_count": 12,
   "metadata": {
    "slideshow": {
     "slide_type": "subslide"
    }
   },
   "outputs": [
    {
     "name": "stdout",
     "output_type": "stream",
     "text": [
      "\n",
      "G4 =\n",
      " \n",
      "  2 s^3 + 16 s^2 + 30 s + 8\n",
      "  -------------------------\n",
      "     s^3 + 7 s^2 + 10 s\n",
      " \n",
      "Continuous-time transfer function.\n",
      "\n"
     ]
    }
   ],
   "source": [
    "G4 = tf(Gcf)"
   ]
  },
  {
   "cell_type": "markdown",
   "metadata": {
    "slideshow": {
     "slide_type": "notes"
    }
   },
   "source": [
    "We now consider one final canonical form, the so-called \"normal\" or \"parallel\" form."
   ]
  },
  {
   "cell_type": "markdown",
   "metadata": {
    "slideshow": {
     "slide_type": "slide"
    }
   },
   "source": [
    "## Normal Canonical Form "
   ]
  },
  {
   "cell_type": "markdown",
   "metadata": {
    "slideshow": {
     "slide_type": "fragment"
    }
   },
   "source": [
    "The normal form of a state-space model isolates the characteristic values, also called the eigen values, or system poles, of the system."
   ]
  },
  {
   "cell_type": "markdown",
   "metadata": {
    "slideshow": {
     "slide_type": "fragment"
    }
   },
   "source": [
    "If all the poles of a system are real and distinct then the transfer function may be written as a partial fraction expansion\n",
    "\n",
    "$$\\begin{equation}G(s) = \\frac{Y(s)}{U(s)} = \\left\\{\\frac{r_1}{s-p_1} +\n",
    "\\frac{r_2}{s-p_2} + \\cdots + \\frac{r_n}{s-p_n} + d\\right\\}\\end{equation}$$ "
   ]
  },
  {
   "cell_type": "markdown",
   "metadata": {
    "slideshow": {
     "slide_type": "notes"
    }
   },
   "source": [
    "we can develop a state-space model for each term:\n",
    "\n",
    "$$\\begin{equation}Y(s)=\\frac{r_i}{s-p_i}U(s).\\end{equation}$$ \n",
    "\n",
    "$$\\begin{eqnarray*}\n",
    "(s-p_i)Y(s) & = & r_i U(s)\\\\ \\frac{d}{dt}y(t)-p_i y(t) &=& r_i\n",
    "u(t).\\end{eqnarray*}$$ \n",
    "\n",
    "If we let $x_i(t) = y(t)$ then \n",
    "\n",
    "$$\\begin{eqnarray*}\n",
    "\\dot{x}_i &=& p_i x_i + r_i u \\\\ y &=& x_i\\end{eqnarray*}$$ \n",
    "\n",
    "Thus, each partial fraction term may be represented by the block diagram shown in Figure 6."
   ]
  },
  {
   "cell_type": "markdown",
   "metadata": {
    "slideshow": {
     "slide_type": "subslide"
    }
   },
   "source": [
    "### Figure 6 State-Space model of a first-order system\n",
    "\n",
    "$$\\begin{eqnarray*}\n",
    "\\dot{x}_i &=& p_i x_i + r_i u \\\\ y &=& x_i\\end{eqnarray*}$$"
   ]
  },
  {
   "cell_type": "markdown",
   "metadata": {
    "slideshow": {
     "slide_type": "fragment"
    }
   },
   "source": [
    "![state-space model of a single pole](pictures/sspole.png)"
   ]
  },
  {
   "cell_type": "markdown",
   "metadata": {
    "slideshow": {
     "slide_type": "notes"
    }
   },
   "source": [
    "Thus, the total state-space model of the system is simply the sum of such terms as shown in Figure 7."
   ]
  },
  {
   "cell_type": "markdown",
   "metadata": {
    "slideshow": {
     "slide_type": "subslide"
    }
   },
   "source": [
    "### Figure 7 Normal Canonical Form: Block Diagram\n",
    "\n",
    "![Normal Canonical Form: Block Diagram](pictures/normalcan.png)"
   ]
  },
  {
   "cell_type": "markdown",
   "metadata": {
    "slideshow": {
     "slide_type": "notes"
    }
   },
   "source": [
    "Therefore the state space model for the whole system is as shown below."
   ]
  },
  {
   "cell_type": "markdown",
   "metadata": {
    "slideshow": {
     "slide_type": "subslide"
    }
   },
   "source": [
    "### Normal Observable Canonical State-Space Model\n",
    "\n",
    "$$\\begin{eqnarray*}\n",
    " \\mathbf{\\dot{x}}&=&\\left[\\begin{array}{ccccc}\n",
    "  p_1 & 0 & 0 & \\cdots & 0 \\\\\n",
    "  0 & p_2 & 0 & \\cdots & 0 \\\\\n",
    "  0 & 0 & p_3 & \\cdots & 0 \\\\\n",
    "  \\vdots & \\vdots & \\vdots & \\ddots & \\vdots \\\\\n",
    "  0 & 0 & 0 & \\cdots & p_n\n",
    "\\end{array}\\right] \\mathbf{x} + \\left[\\begin{array}{c}\n",
    "  r_1 \\\\\n",
    "  r_2 \\\\\n",
    "  r_3 \\\\\n",
    "  \\vdots \\\\\n",
    "  r_n\n",
    "\\end{array}\\right] u\\\\ y &=& \\left[1,\\ 1,\\ 1,\\ \\ldots,\\ 1\\right] \\mathbf{x} + d u\\end{eqnarray*}$$"
   ]
  },
  {
   "cell_type": "markdown",
   "metadata": {
    "slideshow": {
     "slide_type": "notes"
    }
   },
   "source": [
    "Note that the residues of the partial fraction expansion $r_1,\\ r_2,\\ \\ldots,\\ r_n$ have been allocated to the input side of the block diagram and therefore to the input matrix in the state space model. This model, in which all the elements of the output matrix are unity, is called the \"*Normal Observable Canonical Form*\". It would be equally\n",
    "valid to allocate the residues to the output matrix, leaving the elements of the input matrix as unity, this would be the \"*Normal Controllable Canonical Form*\" illustrated below."
   ]
  },
  {
   "cell_type": "markdown",
   "metadata": {
    "slideshow": {
     "slide_type": "subslide"
    }
   },
   "source": [
    "### Normal Controllable Canonical State-Space Model\n",
    "\n",
    "$$\\begin{eqnarray*}\n",
    " \\mathbf{\\dot{x}}&=&\\left[\\begin{array}{ccccc}\n",
    "  p_1 & 0 & 0 & \\cdots & 0 \\\\\n",
    "  0 & p_2 & 0 & \\cdots & 0 \\\\\n",
    "  0 & 0 & p_3 & \\cdots & 0 \\\\\n",
    "  \\vdots & \\vdots & \\vdots & \\ddots & \\vdots \\\\\n",
    "  0 & 0 & 0 & \\cdots & p_n\n",
    "\\end{array}\\right] \\mathbf{x} + \\left[\\begin{array}{c}\n",
    "  1 \\\\\n",
    "  1 \\\\\n",
    "  1 \\\\\n",
    "  \\vdots \\\\\n",
    "  1\n",
    "\\end{array}\\right] u\\\\ y &=& \\left[r_1,\\ r_2,\\ r_3,\\ \\ldots,\\ r_n\\right] \\mathbf{x} + d u\\end{eqnarray*}$$"
   ]
  },
  {
   "cell_type": "markdown",
   "metadata": {
    "slideshow": {
     "slide_type": "notes"
    }
   },
   "source": [
    "The most important property of the normal canonical model is that the $\\mathbf{A}$ matrix is diagonal and that the elements on the diagonal are the eigenvalues of the system matrix. If you form the systemtransition matrix for this system each state response is simply of the form $r_i e^{p_i t}$, that is each state response is equal to the corresponding mode response<sup>1</sup>."
   ]
  },
  {
   "cell_type": "markdown",
   "metadata": {
    "slideshow": {
     "slide_type": "subslide"
    }
   },
   "source": [
    "### Example 3\n",
    "\n",
    "Determine the observer and controller normal canonical forms for the system examined earlier."
   ]
  },
  {
   "cell_type": "markdown",
   "metadata": {
    "slideshow": {
     "slide_type": "notes"
    }
   },
   "source": [
    "#### Solution\n",
    "\n",
    "$$\\begin{eqnarray*}\n",
    "G(s) &=& \\frac{2s^3 + 16s^2 + 30s + 8}{s^3 + 7s^2 + 10s} \\\\\n",
    " &=&\n",
    "\\frac{2s^2 + 10s + 8}{s^3 + 7s^2 + 10s} + 2 \\\\\n",
    " &=& \\frac{2s^2 + 10s + 8}{s(s+2)(s+5)} + 2 \\\\\n",
    " &=& \\frac{4/5}{s} + \\frac{2/3}{s+2} + \\frac{8/15}{s+5} + 2\n",
    "\\\\\\end{eqnarray*}$$ \n",
    "\n",
    "The normal controllable canonical form therefore is:\n",
    "\n",
    "$$\\begin{eqnarray*}\n",
    "\\mathbf{\\dot{x}}&=&\\left[\\begin{array}{ccc}\n",
    "  0 & 0 & 0  \\\\\n",
    "  0 & -2 & 0  \\\\\n",
    "  0 & 0 & -5  \\\\\n",
    " \\end{array}\\right] \\mathbf{x} + \\left[\\begin{array}{c}\n",
    "  4/5 \\\\\n",
    "  2/3 \\\\\n",
    "  8/15\n",
    "\\end{array}\\right] u\\\\ y &=& \\left[1,\\ 1,\\ 1\\right] \\mathbf{x} + 2 u\\end{eqnarray*}$$\n",
    "\n",
    "and the normal observable canonical form is: \n",
    "\n",
    "$$\\begin{eqnarray*}\n",
    "\\mathbf{\\dot{x}}&=&\\left[\\begin{array}{ccc}\n",
    "  0 & 0 & 0  \\\\\n",
    "  0 & -2 & 0  \\\\\n",
    "  0 & 0 & -5  \\\\\n",
    " \\end{array}\\right] \\mathbf{x} + \\left[\\begin{array}{c}\n",
    "  1 \\\\\n",
    "  1  \\\\\n",
    "  1\n",
    "\\end{array}\\right] u\\\\ y &=& \\left[4/5,\\ 2/3,\\ 8/15\\right] \\mathbf{x} + 2\n",
    "u\\end{eqnarray*}$$"
   ]
  },
  {
   "cell_type": "markdown",
   "metadata": {
    "slideshow": {
     "slide_type": "slide"
    }
   },
   "source": [
    "## Time Response from Normal Form "
   ]
  },
  {
   "cell_type": "markdown",
   "metadata": {
    "slideshow": {
     "slide_type": "notes"
    }
   },
   "source": [
    "Notice that in the case of a system defined in *normal form*, because the $\\mathbf{A}$ matrix is diagonal, the state equations are decoupled from each other and can be solved independently. This canonical form is useful for the solution of the state equations. "
   ]
  },
  {
   "cell_type": "markdown",
   "metadata": {
    "slideshow": {
     "slide_type": "fragment"
    }
   },
   "source": [
    "Given initial states $x_1(t)=x_{1}(0)$, $x_2(t)=x_2(0)$, etc at $t=0$"
   ]
  },
  {
   "cell_type": "markdown",
   "metadata": {
    "slideshow": {
     "slide_type": "fragment"
    }
   },
   "source": [
    "$$\\begin{eqnarray*}\n",
    "     sX_1 (s) - x_{1}(0)  & = & p_1 X_1 (s) + r_1 U(s) \\\\\n",
    "     (s - p_1 )X_1 (s) & = & x_{1}(0)  + r_1 U(s) \\\\\n",
    "     X_1 (s) & = & \\frac{x_{1}(0)}{s - p_1 } + \\frac{r_1 }{s - p_1 }U(s)\n",
    "    \\end{eqnarray*}$$ \n",
    "    \n",
    "    "
   ]
  },
  {
   "cell_type": "markdown",
   "metadata": {
    "slideshow": {
     "slide_type": "subslide"
    }
   },
   "source": [
    "Taking inverse Laplace transforms:"
   ]
  },
  {
   "cell_type": "markdown",
   "metadata": {
    "slideshow": {
     "slide_type": "fragment"
    }
   },
   "source": [
    "$$\\begin{equation}x_1 = x_{1}(0)e^{p_1t}+r_1\\int_0^tu(\\tau)e^{p_1(t-\\tau)}d\\tau\\end{equation}$$ "
   ]
  },
  {
   "cell_type": "markdown",
   "metadata": {
    "slideshow": {
     "slide_type": "fragment"
    }
   },
   "source": [
    "Repeated for the other states."
   ]
  },
  {
   "cell_type": "markdown",
   "metadata": {
    "slideshow": {
     "slide_type": "notes"
    }
   },
   "source": [
    "These are then combined through the output equation to give the solution for $y$: \n",
    "\n",
    "$$\\begin{equation}y(t) = x_1(t) + x_2(t) + ... + x_n(t) + du(t).\\end{equation}$$"
   ]
  },
  {
   "cell_type": "markdown",
   "metadata": {
    "slideshow": {
     "slide_type": "subslide"
    }
   },
   "source": [
    "### System Response\n",
    "\n",
    "Combine state responses through the output equation\n",
    "\n",
    "$$\\begin{equation}y(t) = x_1(t) + x_2(t) + ... + x_n(t) + du(t)\\end{equation}$$ "
   ]
  },
  {
   "cell_type": "markdown",
   "metadata": {
    "slideshow": {
     "slide_type": "subslide"
    }
   },
   "source": [
    "$$\\begin{eqnarray*}\n",
    "\ty(t) & = & x_{1}(0)e^{p_1t}+r_1\\int_0^tu(\\tau)e^{p_1(t-\\tau)}d\\tau  \\\\\n",
    "         & + &\tx_{2}(0)e^{p_2t}+r_2\\int_0^tu(\\tau)e^{p_2(t-\\tau)}d\\tau \\\\\n",
    "\t     & \\vdots & \\\\\n",
    "\t     & + & x_{n}(0)e^{p_nt}+r_n\\int_0^tu(\\tau)e^{p_n(t-\\tau)}d\\tau + du(t)\\end{eqnarray*}$$\n",
    "         "
   ]
  },
  {
   "cell_type": "markdown",
   "metadata": {
    "slideshow": {
     "slide_type": "slide"
    }
   },
   "source": [
    "## Jordan Forms\n",
    "\n",
    "Are needed for the special cases of"
   ]
  },
  {
   "cell_type": "markdown",
   "metadata": {
    "slideshow": {
     "slide_type": "fragment"
    }
   },
   "source": [
    "-   Systems with repeated poles"
   ]
  },
  {
   "cell_type": "markdown",
   "metadata": {
    "slideshow": {
     "slide_type": "fragment"
    }
   },
   "source": [
    "-   Systems with complex poles"
   ]
  },
  {
   "cell_type": "markdown",
   "metadata": {
    "slideshow": {
     "slide_type": "fragment"
    }
   },
   "source": [
    "These are discussed in the notes but will not be examined!"
   ]
  },
  {
   "cell_type": "markdown",
   "metadata": {
    "slideshow": {
     "slide_type": "notes"
    }
   },
   "source": [
    "## System with Repeated Poles\n",
    "\n",
    "If the transfer function has repeated poles, then the form of the model must be changed. The partial fraction expansion contains terms of the form \n",
    "\n",
    "$$\\begin{equation}\\frac{r_i}{s-p_i} + \\frac{r_{i+1}}{(s-p_i)^2}.\\end{equation}$$ \n",
    "\n",
    "This is most easily implemented using the *Normal Controllable Canonical Form* using a series connection of the\n",
    "block diagram for the single pole $$\\frac{1}{s-p_i}$$ as shown in Figure 8. By examination of this diagram it should be clear that the signal seen at point $A$ is \n",
    "\n",
    "$$\\begin{equation}A(s) = \\frac{r_i}{s-p_i}U(s)\\end{equation}$$\n",
    "\n",
    "and that at $B$ is\n",
    "\n",
    "$$\\begin{equation}B(s) = \\frac{1}{s-p_i}\\times\\frac{1}{s-p_i}\\times r_{i+1} U(s)\\end{equation}$$ as\n",
    "required.\n",
    "\n",
    "### Figure 8 Part of a system with repeated poles\n",
    "\n",
    "![Part of a system with repeated poles](pictures/jordanblock.png)\n",
    "\n",
    "For this portion of the state space model we have \n",
    "\n",
    "$$\\begin{eqnarray*}\n",
    "\\left[\\begin{array}{c}\n",
    "  \\dot{x}_i \\\\\n",
    "  \\dot{x}_{i+1}\n",
    "\\end{array}\\right] &=& \\left[\\begin{array}{cc}\n",
    "  p_i & 1 \\\\\n",
    "  0 & p_i\n",
    "\\end{array}\\right]\\left[\\begin{array}{c}\n",
    "  x_i \\\\\n",
    "  x_{i+1}\n",
    "\\end{array}\\right] + \\left[\\begin{array}{c}\n",
    "  0 \\\\\n",
    "  1\n",
    "\\end{array}\\right] u\\\\\n",
    "y & = & \\left[r_{i+1},\\ r_i\\right]\\left[\\begin{array}{c}\n",
    "  x_i \\\\\n",
    "  x_{i+1}\n",
    "\\end{array}\\right].\\end{eqnarray*}$$\n",
    "\n",
    "By comparison of this result with the normal situation we see that the\n",
    "state matrices (of the observer controllable canonical form) are\n",
    "modified as follows.\n",
    "\n",
    "-   in $\\mathbf{A}$ \n",
    "\n",
    "    $$\\left[\\begin{array}{cc}\n",
    "        p_i & 0 \\\\\n",
    "        0 & p_{i+1} \\\\\n",
    "      \\end{array}\\right] \\rightarrow \\left[\\begin{array}{cc}\n",
    "        p_i & 1 \\\\\n",
    "        0 & p_{i} \\\\\n",
    "      \\end{array}\\right];$$\n",
    "\n",
    "-   in $\\mathbf{B}$ \n",
    "   \n",
    "    $$\\left[\\begin{array}{c}\n",
    "        1 \\\\\n",
    "        1  \\\\\n",
    "      \\end{array}\\right] \\rightarrow \\left[\\begin{array}{c}\n",
    "        0 \\\\\n",
    "        1 \\\\\n",
    "      \\end{array}\\right];$$\n",
    "\n",
    "-   in $\\mathbf{C}$ \n",
    "\n",
    "     $$\\left[\\begin{array}{cc}\n",
    "        r_i & r_{i+1}\\\\\n",
    "      \\end{array}\\right] \\rightarrow \\left[\\begin{array}{cc}\n",
    "        r_{i+1} & r_i\\\\\n",
    "      \\end{array}\\right].$$\n",
    "\n",
    "The block \n",
    "\n",
    "$$\\begin{equation}\\left[\\begin{array}{cc}\n",
    "    p_i & 1 \\\\\n",
    "    0 & p_{i} \\\\\n",
    "  \\end{array}\\right]\\end{equation}$$\n",
    "  \n",
    "is known as a \"*Jordan Block*\". A matrix with one (or more) Jordan Blocks instead of a pure diagonal\n",
    "\n",
    "$$\\begin{equation}\\left[\\begin{array}{cc}\n",
    "    p_i & 0 \\\\\n",
    "    0 & p_{i+1} \\\\\n",
    "  \\end{array}\\right]\\end{equation}$$\n",
    "  \n",
    "is in the \"*Jordan Form*\". The idea may be extended to systems with poles of higher multiplicity. For example for\n",
    "the case where the multiplicity is 3 as in \n",
    "\n",
    "$$\\begin{equation}\\frac{1}{(s-p_i)^3}\\end{equation}$$ \n",
    "\n",
    "the Jordan Block is \n",
    "\n",
    "$$\\begin{equation}\\left[\\begin{array}{ccc}\n",
    "    p_i & 1 & 0 \\\\\n",
    "    0 & p_{i} & 1 \\\\\n",
    "    0 & 0 & p_i\n",
    "  \\end{array}\\right].\\end{equation}$$"
   ]
  },
  {
   "cell_type": "markdown",
   "metadata": {
    "slideshow": {
     "slide_type": "notes"
    }
   },
   "source": [
    "### Example 4\n",
    "\n",
    "**Not examined**\n",
    "\n",
    "The system with transfer function \n",
    "\n",
    "$$\\begin{eqnarray*}\n",
    "G(s) &=& \\frac{1}{s^3 + 4s^2 + 5s + 2}\\\\\n",
    "&=& \\frac{1}{(s+1)^2(s+2)} \\\\ &=& \\frac{-1}{s+1} +\n",
    "\\frac{1}{(s+1)^2} + \\frac{1}{s+2}.\\end{eqnarray*}$$ \n",
    "\n",
    "The normal canonical form is therefore given by: \n",
    "\n",
    "$$\\begin{eqnarray*}\n",
    "\\mathbf{A} &=& \\left[\\begin{array}{ccc}\n",
    "  -1 & 1 & 0 \\\\\n",
    "  0 & -1 & 0 \\\\\n",
    "  0 & 0 & -2\n",
    "\\end{array}\\right] \\mathbf{B} = \\left[\\begin{array}{c}\n",
    "  0 \\\\\n",
    "  1 \\\\\n",
    "  1\n",
    "\\end{array}\\right]\\\\ \\mathbf{C} &=& \\left[\\begin{array}{ccc}\n",
    "  1 & -1 & 1\n",
    "\\end{array}\\right] \\mathbf{D} = \\left[0\\right]\\end{eqnarray*}$$"
   ]
  },
  {
   "cell_type": "markdown",
   "metadata": {
    "slideshow": {
     "slide_type": "notes"
    }
   },
   "source": [
    "## Normal Canonical Form with Complex Poles\n",
    "\n",
    "A system with complex poles will have a partial fraction expansion containing terms of the form\n",
    "\n",
    "$$\\begin{equation}\\frac{\\Re\\{ r_i\\} + j\\Im\\{ r_i\\}}{s - \\Re\\{p_i\\} + j\\Im\\{p_i\\}} + \\frac{\\Re\\{r_i\\} - j\\Im\\{ r_i\\}}{s - \\Re\\{p_i\\} - j\\Im\\{p_i\\}}\\end{equation}$$\n",
    "\n",
    "(where the poles and the residuals both appear as complex conjugate pairs). We cannot implement these directly in state space form because the state matrices must have real coefficients to be realisable. However, the complex factors involved can be combined into a quadratic form and blocks replaced in the normal canonical form<sup>2</sup> as follows:\n",
    "\n",
    "-   in $\\mathbf{A}$ \n",
    "\n",
    "    $$\\left[\\begin{array}{cc}\n",
    "        p_i & 0 \\\\\n",
    "        0 & p_{i+1} \\\\\n",
    "      \\end{array}\\right] \\rightarrow \\left[\\begin{array}{cc}\n",
    "        +\\Re\\{p_i\\} & +\\Im\\{p_i\\} \\\\\n",
    "        -\\Im\\{p_i\\} & +\\Re\\{p_i\\} \\\\\n",
    "      \\end{array}\\right];$$\n",
    "\n",
    "-   in $\\mathbf{B}$ \n",
    "\n",
    "    $$\\left[\\begin{array}{c}\n",
    "        1 \\\\\n",
    "        1  \\\\\n",
    "      \\end{array}\\right] \\rightarrow \\left[\\begin{array}{c}\n",
    "        0 \\\\\n",
    "        1 \\\\\n",
    "      \\end{array}\\right];$$\n",
    "\n",
    "-   in $\\mathbf{C}$ \n",
    "\n",
    "    $$\\left[\\begin{array}{cc}\n",
    "        r_i & r_{i+1}\\\\\n",
    "      \\end{array}\\right] \\rightarrow \\left[\\begin{array}{cc}\n",
    "        2\\Im\\{r_{i}\\} & 2\\Re\\{r_i\\}\\\\\n",
    "      \\end{array}\\right].$$"
   ]
  },
  {
   "cell_type": "markdown",
   "metadata": {
    "slideshow": {
     "slide_type": "notes"
    }
   },
   "source": [
    "### Example 5\n",
    "\n",
    "The system with transfer function \n",
    "\n",
    "$$\\begin{eqnarray*}\n",
    "G(s) &=& \\frac{6s+6}{s^2 + 4s + 13}\\\\\n",
    "&=& \\frac{6(s+1)}{(s+2)^2 + 3^2} \\\\ &=&\n",
    "\\frac{6(s+1)}{(s+2+3j)(s+2-3j)}\n",
    "\\\\ &=& \\frac{3-j}{s+2+3j} + \\frac{3-j}{s+2-3j}.\\end{eqnarray*}$$ \n",
    "\n",
    "The normal canonical form is therefore given by: \n",
    "\n",
    "$$\\begin{eqnarray*}\n",
    "\\mathbf{A} &=& \\left[\\begin{array}{cc}\n",
    "  -2-3j & 0 \\\\\n",
    "  0 & -2+3j\n",
    "\\end{array}\\right] \\mathbf{B} = \\left[\\begin{array}{c}\n",
    "  1 \\\\\n",
    "  1\n",
    "\\end{array}\\right]\\\\ \\mathbf{C} &=& \\left[\\begin{array}{cc}\n",
    "  3-j & 3+j\n",
    "\\end{array}\\right] \\mathbf{D} = \\left[0\\right]\\end{eqnarray*}$$ \n",
    "\n",
    "But this is not realisable so instead we use \n",
    "\n",
    "$$\\begin{eqnarray*}\n",
    "\\mathbf{A} &=& \\left[\\begin{array}{cc}\n",
    "  -2 & -3 \\\\\n",
    "  3 & -2\n",
    "\\end{array}\\right] \\mathbf{B} = \\left[\\begin{array}{c}\n",
    "  0 \\\\\n",
    "  1\n",
    "\\end{array}\\right]\\\\ \\mathbf{C} &=& \\left[\\begin{array}{cc}\n",
    "  -2 & -6\n",
    "\\end{array}\\right] \\mathbf{D} = \\left[0\\right].\\end{eqnarray*}$$"
   ]
  },
  {
   "cell_type": "markdown",
   "metadata": {
    "slideshow": {
     "slide_type": "slide"
    }
   },
   "source": [
    "## End of Pre-Class Presentation\n",
    "\n",
    "In class we will work through the examples given here and if we have time we'll look at\n",
    "\n",
    "-   Examples of controllable and observable forms\n",
    "\n",
    "-   MATLAB and canonical forms\n",
    "\n",
    "-   Normal form\n",
    "\n",
    "-   Time response of normal form\n"
   ]
  },
  {
   "cell_type": "markdown",
   "metadata": {
    "slideshow": {
     "slide_type": "notes"
    }
   },
   "source": [
    "## Footnotes\n",
    "\n",
    "1. The proof is left as an exercise.\n",
    "\n",
    "2. The details are left as an exercise."
   ]
  }
 ],
 "metadata": {
  "celltoolbar": "Slideshow",
  "kernelspec": {
   "display_name": "MATLAB",
   "language": "matlab",
   "name": "imatlab"
  },
  "language_info": {
   "codemirror_mode": "octave",
   "file_extension": ".m",
   "mimetype": "text/x-matlab",
   "name": "matlab",
   "nbconvert_exporter": "imatlab._exporter.MatlabExporter",
   "pygments_lexer": "matlab",
   "version": "9.9.0.1467703 (R2020b)"
  }
 },
 "nbformat": 4,
 "nbformat_minor": 2
}
