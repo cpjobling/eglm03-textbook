{
 "cells": [
  {
   "cell_type": "markdown",
   "metadata": {},
   "source": [
    "#### Swansea University\n",
    "#### College of Engineering\n",
    "\n",
    "## EGLM03 Modern Control Systems\n",
    "\n",
    "# Homework 4: Lag-Lead and PID Compensation"
   ]
  },
  {
   "cell_type": "markdown",
   "metadata": {},
   "source": [
    "## Problems\n",
    "\n",
    "1. Add a lag compensator to the lead compensator design for Question 3 of the \"[Dominant Poles\n",
    "and lead Compensation](../lead_compensation/problems)\" problem sheet in order to give a position error constant $K_P = 20$."
   ]
  },
  {
   "cell_type": "markdown",
   "metadata": {},
   "source": [
    "2. A process control system has open-loop transfer function \n",
    "\n",
    "    $$G_o(s)=\\frac{9}{(s+3)^2}.$$ \n",
    "    \n",
    "    A PID compensator $$D(s) = K_p + T_D s + 1/(T_I s)$$ \n",
    "    is placed in cascade with the plant and unity feedback is applied.   \n",
    "    Write down the new closed-loop transfer function and tune the values \n",
    "    of proportional gain $K_p$, differential time $T_D$ and integral rate \n",
    "    $1/T_I$ required to give a steady-state open-loop gain of 15, zero \n",
    "    step-error, rise-time $t_r \\le 200$ ms and peak overshoot $\\%OS \\le \n",
    "    10\\%$."
   ]
  },
  {
   "cell_type": "markdown",
   "metadata": {},
   "source": [
    "3. Design a PID compensator for the control system with open-loop transfer function\n",
    "     $$\\frac{5}{(s+1)(s+5)}$$\n",
    "such that the dominant closed-loop poles satisfy $\\zeta = 0.5$, $\\omega_n = 10$ rad/s and the velocity error constant $K_v = 25$."
   ]
  },
  {
   "cell_type": "markdown",
   "metadata": {},
   "source": [
    "4. A cancellation compensator is to be designed to achieve dominant closed-loop poles at $s = - 1.5 \\pm j2.6$ for the system with open-loop transfer function $$\\frac{K}{s(s+1)}.$$\n",
    "Determine the compensation required and the loop gain $K$ of the compensated system. Use the root-locus technique to examine the worst case effect of a 5\\% cancellation mismatch due to component tolerances."
   ]
  },
  {
   "cell_type": "markdown",
   "metadata": {},
   "source": [
    "5. A control system has open-loop poles at $s = 0$, $-1$ and $-5$. Determine the value of the velocity error constant $K_v$ for this system. Use the zero of a lag compensator to cancel the pole at $s = -1$\n",
    "and position the pole in order to raise the value of $K_v$ by $10$. Sketch the root-loci for both the compensated and uncompensated systems and comment on the relative stability of each."
   ]
  },
  {
   "cell_type": "markdown",
   "metadata": {},
   "source": [
    "6. Using the plant equation $$G(s)=\\frac{K}{s-1},\\;K>0,$$ and a cancellation compensator $D(s)=\\frac{s-1}{s+1}\n",
    "examine the effect on stability of a small error in the compensator zero position."
   ]
  }
 ],
 "metadata": {
  "kernelspec": {
   "display_name": "Matlab",
   "language": "matlab",
   "name": "matlab"
  },
  "language_info": {
   "codemirror_mode": "octave",
   "file_extension": ".m",
   "help_links": [
    {
     "text": "MetaKernel Magics",
     "url": "https://github.com/calysto/metakernel/blob/master/metakernel/magics/README.md"
    }
   ],
   "mimetype": "text/x-octave",
   "name": "matlab",
   "version": "0.15.2"
  }
 },
 "nbformat": 4,
 "nbformat_minor": 2
}
