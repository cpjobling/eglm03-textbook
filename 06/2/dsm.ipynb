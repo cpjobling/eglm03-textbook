{
 "cells": [
  {
   "cell_type": "markdown",
   "metadata": {
    "slideshow": {
     "slide_type": "slide"
    }
   },
   "source": [
    "# Digital System Models and System Response"
   ]
  },
  {
   "cell_type": "markdown",
   "metadata": {
    "slideshow": {
     "slide_type": "slide"
    }
   },
   "source": [
    "## Digital System Models\n",
    "\n",
    "The equivalent of the differential equation model for continuous systems is the difference\n",
    "equation for digital systems."
   ]
  },
  {
   "cell_type": "markdown",
   "metadata": {
    "slideshow": {
     "slide_type": "fragment"
    }
   },
   "source": [
    "Replacing the differential operator $\\frac{d}{dt}$ by the advance\n",
    "operator $\\triangle$ gives the general form of the difference equation\n",
    "as \n",
    "\n",
    "$$\\begin{equation}\n",
    "  \\triangle^ny + a_{1}\\triangle^{n-1}y + \\ldots +  a_n y = b_0\n",
    "  \\triangle^n u + b_{1}\\triangle^{n-1} u + \\ldots + b_n u.\\end{equation}$$"
   ]
  },
  {
   "cell_type": "markdown",
   "metadata": {
    "slideshow": {
     "slide_type": "subslide"
    }
   },
   "source": [
    "The equivalent of the differential equation model for continuous systems\n",
    "is the difference equation for digital systems."
   ]
  },
  {
   "cell_type": "markdown",
   "metadata": {
    "slideshow": {
     "slide_type": "subslide"
    }
   },
   "source": [
    "### Difference equation\n",
    "\n",
    "Now, given the definition of the advance operator derived in a previous lecture"
   ]
  },
  {
   "cell_type": "markdown",
   "metadata": {
    "slideshow": {
     "slide_type": "fragment"
    }
   },
   "source": [
    "$$\\triangle^n v_k = v_{k+n}$$"
   ]
  },
  {
   "cell_type": "markdown",
   "metadata": {
    "slideshow": {
     "slide_type": "notes"
    }
   },
   "source": [
    "we can re-write equation (1) as\n",
    "the *difference equation* "
   ]
  },
  {
   "cell_type": "markdown",
   "metadata": {
    "slideshow": {
     "slide_type": "fragment"
    }
   },
   "source": [
    "$$\\begin{equation}\n",
    "  y_{k+n} + a_{1}y_{k+n-1} + \\ldots + a_n y_k = b_0\n",
    "   u_{k+n} + b_{1} u_{k+n-1} + \\ldots +  b_n u_k.\\end{equation}$$"
   ]
  },
  {
   "cell_type": "markdown",
   "metadata": {
    "slideshow": {
     "slide_type": "subslide"
    }
   },
   "source": [
    "### Difference equation in terms of the delay operator\n",
    "\n",
    "Unlike the differential equation, however, which is hardly ever expressed in an integral form, the difference equation is more usually expressed in terms of the delay operator $\\nabla$. "
   ]
  },
  {
   "cell_type": "markdown",
   "metadata": {
    "slideshow": {
     "slide_type": "fragment"
    }
   },
   "source": [
    "Applying the operator $\\nabla^n$ to equation (1)\n",
    "gives $$\\begin{eqnarray}\n",
    "y + a_{1}\\nabla y + \\ldots  + a_n \\nabla^n y &=& b_0 u +\n",
    "b_{1}\\nabla u + \\ldots +  b_n\\nabla^n u\\\\\n",
    "  y_{k} + a_{1}y_{k-1} + \\ldots +  a_n y_{k-n}\n",
    "   &=& b_0\n",
    "   u_{k} + b_{1} u_{k-1} + \\ldots + b_n u_{k-n}.\n",
    "   \\end{eqnarray}$$"
   ]
  },
  {
   "cell_type": "markdown",
   "metadata": {
    "slideshow": {
     "slide_type": "subslide"
    }
   },
   "source": [
    "### z-transform of difference equation\n",
    "\n",
    "Applying the $z$ transform directly to the difference equation with the delay operator\n",
    "(3) gives "
   ]
  },
  {
   "cell_type": "markdown",
   "metadata": {
    "slideshow": {
     "slide_type": "fragment"
    }
   },
   "source": [
    "$$\\begin{eqnarray}\n",
    " Y + a_{1}z^{-1} Y + \\ldots + a_n z^{-n} Y\n",
    "&=& b_0 U + b_{1}z^{-1} U + \\ldots + b_n z^{-n} U\\nonumber\\\\ \n",
    "(1 + a_{1}z^{-1} + \\ldots +  a_n z^{-n}) Y &=& (b_0 + b_{1}z^{-1} +\n",
    "\\ldots + b_n z^{-n}) U\n",
    "   \\end{eqnarray}$$"
   ]
  },
  {
   "cell_type": "markdown",
   "metadata": {
    "slideshow": {
     "slide_type": "subslide"
    }
   },
   "source": [
    "### z Transfer Function\n",
    "\n",
    "Given that $$(1 +\n",
    "a_{1}z^{-1} + \\ldots +  a_n z^{-n}) Y(z) = (b_0 + b_1 z^{-1} +\n",
    "\\ldots + b_n z^{-n}) U(z)$$ "
   ]
  },
  {
   "cell_type": "markdown",
   "metadata": {
    "slideshow": {
     "slide_type": "fragment"
    }
   },
   "source": [
    "The $z$ transfer function is\n",
    "$$H(z) = \\frac{Y(z)}{U(z)}=\\frac{b_0 + b_{1}z^{-1} + \\ldots + b_n\n",
    "z^{-n}}{1 + a_1z^{-1} + \\ldots + a_n z^{-n}}$$"
   ]
  },
  {
   "cell_type": "markdown",
   "metadata": {
    "slideshow": {
     "slide_type": "subslide"
    }
   },
   "source": [
    "A digital system in this general form is known as a \"*pole-zero,\n",
    "infinite impulse response, recursive auto-regressive moving average\n",
    "digital filter(!)*\""
   ]
  },
  {
   "cell_type": "markdown",
   "metadata": {
    "slideshow": {
     "slide_type": "subslide"
    }
   },
   "source": [
    "### z Transfer Function (2) \n",
    "\n",
    "If $b_1 = b_2 = \\cdots = b_n = 0$ then the transfer function is\n",
    "$$H(z) = \\frac{b_0}{1 + a_1z^{-1} + \\ldots + a_n z^{-n}}$$"
   ]
  },
  {
   "cell_type": "markdown",
   "metadata": {
    "slideshow": {
     "slide_type": "subslide"
    }
   },
   "source": [
    "A digital system in this form is known as an \"*all pole, infinite\n",
    "impulse response, recursive auto-regressive digital filter.*\""
   ]
  },
  {
   "cell_type": "markdown",
   "metadata": {
    "slideshow": {
     "slide_type": "subslide"
    }
   },
   "source": [
    "### z Transfer Function (3)  \n",
    "\n",
    "When $a_1 = a_2 = \\cdots = a_n = 0$ then the transfer function is\n",
    "$$H(z) = b_0 + b_{1}z^{-1} + \\ldots + b_n\n",
    "z^{-n}$$"
   ]
  },
  {
   "cell_type": "markdown",
   "metadata": {
    "slideshow": {
     "slide_type": "subslide"
    }
   },
   "source": [
    "A digital system in this form is known as an \"*all zero, finite impulse\n",
    "response, non recursive moving average digital filter.*\""
   ]
  },
  {
   "cell_type": "markdown",
   "metadata": {
    "slideshow": {
     "slide_type": "subslide"
    }
   },
   "source": [
    "### Other forms of digital transfer function\n",
    "\n",
    "The transfer function can also be expressed in the zero-pole-gain form"
   ]
  },
  {
   "cell_type": "markdown",
   "metadata": {
    "slideshow": {
     "slide_type": "fragment"
    }
   },
   "source": [
    "$$H(z) = \\frac{k(z-z_1)(z-z_2)\\cdots(z-z_n)}{(z-p_1)(z-p_2)\\cdots(z-p_n)}$$"
   ]
  },
  {
   "cell_type": "markdown",
   "metadata": {
    "slideshow": {
     "slide_type": "subslide"
    }
   },
   "source": [
    "and the partial fraction form"
   ]
  },
  {
   "cell_type": "markdown",
   "metadata": {
    "slideshow": {
     "slide_type": "fragment"
    }
   },
   "source": [
    "$$H(z) = \\frac{r_1}{z-p_1}+\\frac{r_2}{z-p_2}\\cdots\\frac{r_n}{z-p_n}$$"
   ]
  },
  {
   "cell_type": "markdown",
   "metadata": {
    "slideshow": {
     "slide_type": "subslide"
    }
   },
   "source": [
    "### Canonical Forms\n",
    "\n",
    "With the transfer function written as\n",
    "    $$H(z) = \\frac{b_0 z^n + b_{n-1} z^{n-1} + \\cdots + b_1 z + b_n}{z^n + a_1 z^{n-1} + \\cdots + a_{n-1} z + b_n}$$\n",
    "    there is a direct analogy with the general form of the continuous\n",
    "    system transfer function with $s$ instead of $z$."
   ]
  },
  {
   "cell_type": "markdown",
   "metadata": {
    "slideshow": {
     "slide_type": "fragment"
    }
   },
   "source": [
    "This was implemented with the physically realistic integral operator\n",
    "    $\\int\n",
    "    dt$ for which the digital equivalent is the delay operator $\\nabla$."
   ]
  },
  {
   "cell_type": "markdown",
   "metadata": {
    "slideshow": {
     "slide_type": "slide"
    }
   },
   "source": [
    "## End of Pre-Class Presentation\n",
    "\n",
    "This concludes the pre-class presentation.\n",
    "\n",
    "In the class we will look at system response and compute the impulse and step responses of an example system."
   ]
  },
  {
   "cell_type": "markdown",
   "metadata": {
    "slideshow": {
     "slide_type": "slide"
    }
   },
   "source": [
    "## Digital System Response \n",
    "\n",
    "As in the case of a continuous system, the response of a digital signal\n",
    "comprises the sum of a free response and a forced response. The free\n",
    "response is dependent on the initial conditions of a digital system\n",
    "states, and as these are taken as zero here the free response is also\n",
    "zero and will not be considered further."
   ]
  },
  {
   "cell_type": "markdown",
   "metadata": {
    "slideshow": {
     "slide_type": "subslide"
    }
   },
   "source": [
    "### Digital System Response \n",
    "\n",
    "The response of a\n",
    "digital system with transfer function $H(z)$ to a digital input signal\n",
    "$u$ is the digital output signal $y$ given in transform form as\n",
    "$$\\begin{equation}\n",
    "  Y(z) =H(z) U(z)\\end{equation}$$ "
   ]
  },
  {
   "cell_type": "markdown",
   "metadata": {
    "slideshow": {
     "slide_type": "notes"
    }
   },
   "source": [
    "The inverse transform needed to determine the digital system response is\n",
    "obtained using the inverse z transform methods, e.g. polynomial division\n",
    "and partial fraction expansion, discussed in a previous lecture."
   ]
  },
  {
   "cell_type": "markdown",
   "metadata": {
    "slideshow": {
     "slide_type": "fragment"
    }
   },
   "source": [
    "Taking the inverse transform gives the digital\n",
    "system response as $$\\begin{equation}\n",
    "  y_k = \\mathcal{Z}^{-1}Y(z) = \\mathcal{Z}^{-1} \\left\\{H(z)\n",
    "  U(z)\\right\\}\\end{equation}$$"
   ]
  },
  {
   "cell_type": "markdown",
   "metadata": {
    "slideshow": {
     "slide_type": "slide"
    }
   },
   "source": [
    "## Response to Singularity Signals \n",
    "\n",
    "The elemental singularity signals in a digital system response include\n",
    "the digital impulse signal and the digital step input."
   ]
  },
  {
   "cell_type": "markdown",
   "metadata": {
    "slideshow": {
     "slide_type": "subslide"
    }
   },
   "source": [
    "### Impulse response "
   ]
  },
  {
   "cell_type": "markdown",
   "metadata": {
    "slideshow": {
     "slide_type": "subslide"
    }
   },
   "source": [
    "#### Impulse signal\n",
    "\n",
    "The digital impulse\n",
    "signal is given by $$\\begin{equation}\n",
    "  v = \\delta = \\{\\delta_k\\}\\end{equation}$$ "
   ]
  },
  {
   "cell_type": "markdown",
   "metadata": {
    "slideshow": {
     "slide_type": "fragment"
    }
   },
   "source": [
    "where $\\delta_0 = 1$ when $k = 0$, and\n",
    "$\\delta_k = 0$ otherwise. "
   ]
  },
  {
   "cell_type": "markdown",
   "metadata": {
    "slideshow": {
     "slide_type": "fragment"
    }
   },
   "source": [
    "Therefore the sequence for the impulse is\n",
    "simply $$\\delta_k = 1,\\ 0,\\ 0,\\ 0,\\ \\ldots.$$"
   ]
  },
  {
   "cell_type": "markdown",
   "metadata": {
    "slideshow": {
     "slide_type": "subslide"
    }
   },
   "source": [
    "The transform of the digital impulse signal is $$\\begin{equation}\n",
    "  V = \\Delta = \\sum_{k=0}^{\\infty}\\delta_k z^{-k} = 1\\end{equation}$$"
   ]
  },
  {
   "cell_type": "markdown",
   "metadata": {
    "slideshow": {
     "slide_type": "subslide"
    }
   },
   "source": [
    "#### Example 1: Impulse Response Calculate the impulse\n",
    "response of the digital system with transfer function\n",
    "$$H(z) = \\frac{4z^2 - 16}{z^2 - 0.25}$$"
   ]
  },
  {
   "cell_type": "markdown",
   "metadata": {
    "slideshow": {
     "slide_type": "notes"
    }
   },
   "source": [
    "Consider the system \n",
    "\n",
    "$$H(z) = \\frac{4z^2 - 16}{z^2 - 0.25}$$ \n",
    "\n",
    "The impulse response will be \n",
    "\n",
    "$$Y(z) = H(z)\\times 1 = \\frac{4z^2 - 16}{z^2 - 0.25}$$\n",
    "\n",
    "We shall determine this response using the partial fraction expansion.\n",
    "$$\\begin{eqnarray*}\n",
    "Y(z) &=& \\frac{4 - 16z^{-2}}{1 - 0.25 z^{-2}}\\\\\n",
    "     &=& \\frac{4(4 - 16z^{-2})}{4 - z^{-2}}\\\\\n",
    "     &=& \\frac{4(2 - 4z^{-1})(2 + 4z^{-1})}{(2 - z^{-1})(2 + z^{-1})}\\end{eqnarray*}$$\n",
    "\n",
    "Assuming a partial fraction expansion of the form \n",
    "\n",
    "$$Y(z) = \\frac{A}{2 - z^{-1}} + \\frac{B}{2 + z^{-1}} + C$$ \n",
    "\n",
    "we have\n",
    "\n",
    "$$\\begin{eqnarray*}\n",
    " \\frac{4(2 - 4z^{-1})(2 + 4z^{-1})}{(2 - z^{-1})(2 + z^{-1})}\n",
    "     &=& \\frac{A(2 + z^{-1}) + B(2 - z^{-1}) + C(2 - z^{-1})(2 + z^{-1})}{(2 - z^{-1})(2 + z^{-1})}\\\\\n",
    "     16 - 64z^{-2} &=& 2A + Az^{-1} + 2B - Bz^{-1} + 4C - Cz^{-2}\n",
    " \\end{eqnarray*}$$ \n",
    " \n",
    "Gathering terms and equating coefficients\n",
    "\n",
    "$$\\begin{eqnarray}\n",
    "16 &=& 2A +2B + 4C\\\\ \n",
    "0 &=& A - B\\\\ \n",
    "-64 &=& -C\\end{eqnarray}$$ \n",
    "\n",
    "Hence\n",
    "$$\\begin{eqnarray}\n",
    "C &=& 64\\\\ A &=& B\\\\ 16 &=& 4A + 256\\\\ A &=& B = -60\\end{eqnarray}$$ \n",
    "\n",
    "Thus\n",
    "$$\\begin{eqnarray*}\n",
    "    Y(z) &=& 64 -\\frac{60}{2-z^{-1}}-\\frac{60}{2+z^{-1}}\\\\\n",
    "    &=& 64 -\\frac{30}{1-1/2 z^{-1}}-\\frac{30}{1+1/2 z^{-1}}\\\\\n",
    "     y_k& =& \\left\\{64\\delta_k - 30\\left(\\frac{1}{2}\\right)^k - 30\n",
    "\\left(-\\frac{1}{2}\\right)^k\\right\\}\\\\\n",
    " &=& \\left\\{4,\\ 0,\\ -15,\\ 0,\\ -3.75,\\ 0,\\ -0.9375,\\ \\ldots\n",
    " \\right\\}\\end{eqnarray*}$$"
   ]
  },
  {
   "cell_type": "markdown",
   "metadata": {
    "slideshow": {
     "slide_type": "subslide"
    }
   },
   "source": [
    "### Step response "
   ]
  },
  {
   "cell_type": "markdown",
   "metadata": {
    "slideshow": {
     "slide_type": "subslide"
    }
   },
   "source": [
    "#### Step signal\n",
    "\n",
    "The digital step signal\n",
    "is $$\\begin{equation}\n",
    "  v = \\epsilon = \\{\\epsilon_k\\}\\end{equation}$$ "
   ]
  },
  {
   "cell_type": "markdown",
   "metadata": {
    "slideshow": {
     "slide_type": "fragment"
    }
   },
   "source": [
    "where $\\epsilon_k = 1$ when $k \\ge 0$,\n",
    "and $\\epsilon_k = 0$ otherwise. "
   ]
  },
  {
   "cell_type": "markdown",
   "metadata": {
    "slideshow": {
     "slide_type": "fragment"
    }
   },
   "source": [
    "Therefore the sequence for the step is\n",
    "simply $$\\epsilon_k = 1,\\ 1,\\ 1,\\ 1,\\ \\ldots.$$"
   ]
  },
  {
   "cell_type": "markdown",
   "metadata": {
    "slideshow": {
     "slide_type": "subslide"
    }
   },
   "source": [
    "#### z-transform of step signal \n",
    "\n",
    "The transform of the\n",
    "digital step signal is $$\\begin{eqnarray}\n",
    "  V = E &=& \\sum_{k=0}^{\\infty}\\epsilon_k z^{-k}\\\\\n",
    "        &=& \\sum_{k=0}^{\\infty} z^{-k}\\nonumber \\\\\n",
    "        &=& 1 + z^{-1} + z^{-2} + z^{-3} + \\cdots z^{-n} + \\cdots \\nonumber\\\\\n",
    "        &=& \\frac{1}{1-z^{-1}} = \\frac{z}{z-1}.\\end{eqnarray}$$"
   ]
  },
  {
   "cell_type": "markdown",
   "metadata": {
    "slideshow": {
     "slide_type": "subslide"
    }
   },
   "source": [
    "#### Example 2: Step Response \n",
    "\n",
    "Calculate the step response of the digital system with transfer function\n",
    "$$H(z) = \\frac{4z^2 - 16}{z^2 - 0.25}$$"
   ]
  },
  {
   "cell_type": "markdown",
   "metadata": {
    "slideshow": {
     "slide_type": "notes"
    }
   },
   "source": [
    "The step response of the example system is\n",
    "\n",
    "$$Y(z) = H(z)\\times \\frac{z}{z-1} = \\frac{z(4z^2 - 16)}{(z-1)(z^2 - 0.25)}$$\n",
    "\n",
    "We shall determine this response using the partial fraction expansion.\n",
    "\n",
    "$$\\begin{eqnarray*}\n",
    "Y(z) &=& \\frac{4z^3 - 16z}{z^3 - z^2 - 0.25z + 0.25}\\\\\n",
    " &=& \\frac{4 - 16z^{-2}}{1 - z^{-1} - 0.25z^{-2} + 0.25z^{-3}}\\\\\\end{eqnarray*}$$\n",
    "\n",
    "Earlier we showed that the result of the partial fraction expansion was\n",
    "\n",
    "$$\\frac{30}{1-1/2 z^{-1}} - \\frac{10}{1+1/2z^{-1}} -\n",
    "\\frac{16}{1-z^{-1}}$$\n",
    "\n",
    "and the corresponding sequence is\n",
    "\n",
    "$$y_k = \\left\\{30(1/2)^k -10(-1/2)^k -16\\epsilon_k\\right\\}.$$"
   ]
  },
  {
   "cell_type": "markdown",
   "metadata": {
    "slideshow": {
     "slide_type": "slide"
    }
   },
   "source": [
    "## Computing Digital System Responses with MATLAB\n",
    "\n",
    "We will run this part of the presentation in class. There is an executable version as a MATLAB Live Script available as [digiresp.mlx](matlab/digiresp.mlx)."
   ]
  },
  {
   "cell_type": "markdown",
   "metadata": {
    "slideshow": {
     "slide_type": "subslide"
    }
   },
   "source": [
    "### Control System Toolbox Help\n",
    "\n",
    "What functions do we have in the controls system toolbox?"
   ]
  },
  {
   "cell_type": "code",
   "execution_count": 1,
   "metadata": {
    "slideshow": {
     "slide_type": "fragment"
    }
   },
   "outputs": [],
   "source": [
    "imatlab_export_fig('print-svg')  % Static svg figures."
   ]
  },
  {
   "cell_type": "code",
   "execution_count": 2,
   "metadata": {
    "scrolled": true,
    "slideshow": {
     "slide_type": "fragment"
    }
   },
   "outputs": [],
   "source": [
    "doc control"
   ]
  },
  {
   "cell_type": "markdown",
   "metadata": {
    "slideshow": {
     "slide_type": "subslide"
    }
   },
   "source": [
    "#### Modelling\n",
    "\n",
    "Modeling looks likely"
   ]
  },
  {
   "cell_type": "code",
   "execution_count": 3,
   "metadata": {
    "slideshow": {
     "slide_type": "slide"
    }
   },
   "outputs": [
    {
     "name": "stdout",
     "output_type": "stream",
     "text": [
      "  Control System Toolbox -- Linear models.\n",
      " \n",
      "  Model objects.\n",
      "    InputOutputModel - Overview of input/output model objects.\n",
      "    DynamicSystem    - Overview of dynamic system objects.\n",
      "    lti              - Overview of linear time-invariant system objects.\n",
      "    <a href=\"matlab:help InputOutputModel/get\">get</a>              - Access properties of model object.\n",
      "    <a href=\"matlab:help InputOutputModel/set\">set</a>              - Set/modify properties of model object.\n",
      " \n",
      "  Numeric LTI models.\n",
      "    numlti           - Overview of numeric LTI models.\n",
      "    tf               - Create or convert to transfer function model.\n",
      "    filt             - Create digital filter.\n",
      "    zpk              - Create or convert to zero/pole/gain model.\n",
      "    ss               - Create or convert to state-space model.\n",
      "    dss              - Create descriptor state-space model.\n",
      "    rss              - Create random continuous-time state-space model.\n",
      "    drss             - Create random discrete-time state-space model.\n",
      "    pid              - Create 1-DOF PID controller in parallel form.\n",
      "    pid2             - Create 2-DOF PID controller in parallel form.\n",
      "    pidstd           - Create 1-DOF PID controller in standard form.\n",
      "    pidstd2          - Create 2-DOF PID controller in standard form.\n",
      "    frd              - Create or convert to frequency-response-data model.\n",
      "    chgFreqUnit      - Change frequency vector units in FRD model.\n",
      " \n",
      "  Generalized LTI models.\n",
      "    genlti           - Overview of generalized LTI models.\n",
      "    ControlDesignBlock - Overview of special blocks for analysis/tuning.\n",
      "    AnalysisPoint    - Point of interest for analysis/tuning.\n",
      "    genmat           - Generalized matrix.\n",
      "    genss            - Generalized state-space model.\n",
      "    genfrd           - Generalized FRD model.\n",
      "    getValue         - Evaluate generalized model.\n",
      "    getBlockValue    - Get value of Control Design Block.\n",
      "    setBlockValue    - Modify value of Control Design Block.\n",
      "    showBlockValue   - Display Control Design Block values.\n",
      "    getPoints        - Get analysis point locations.\n",
      "    getLoopTransfer  - Compute open-loop transfer function.\n",
      "    getIOTransfer    - Compute closed-loop transfer function.\n",
      "    getSensitivity   - Compute sensitivity function.\n",
      "    getCompSensitivity - Compute complementary sensitivity function.\n",
      "    replaceBlock     - Replace block by value or by another block. \n",
      "    sampleBlock      - Sample Control Design Blocks.\n",
      "    rsampleBlock     - Randomly sample Control Design Blocks.\n",
      "    \n",
      "  Time delays.\n",
      "    tf/exp           - Create pure continuous-time delays.\n",
      "    delayss          - Create state-space models with delayed terms.\n",
      "    setDelayModel    - Specify internal delay model (state space only).\n",
      "    getDelayModel    - Access internal delay model (state space only).\n",
      "    <a href=\"matlab:help InputOutputModel/hasdelay\">hasdelay</a>         - True for models with time delays.\n",
      "    totaldelay       - Total delay between each input/output pair.\n",
      "    absorbDelay      - Replace delays by poles at z=0 or phase shift.\n",
      "    pade             - Pade approximation of continuous-time delays.\n",
      "    thiran           - Thiran approximation of fractional delays.\n",
      " \n",
      "  Arrays of models.\n",
      "    stack            - Stack models along some array dimension.\n",
      "    <a href=\"matlab:help InputOutputModel/nmodels\">nmodels</a>          - Number of models in model array.\n",
      "    <a href=\"matlab:help InputOutputModel/nmodels\">reshape</a>          - Reshape model array.\n",
      "    <a href=\"matlab:help InputOutputModel/nmodels\">permute</a>          - Permute model array dimensions.\n",
      "    voidModel        - Mark missing or irrelevant models in model array.\n",
      " \n",
      "  Data extraction.\n",
      "    tfdata           - Extract numerators and denominators.\n",
      "    zpkdata          - Extract zero/pole/gain data.\n",
      "    ssdata           - Extract state-space matrices.\n",
      "    dssdata          - Extract matrices of descriptor state-space model.\n",
      "    frdata           - Extract frequency response data.\n",
      "    piddata, piddata2        - Extract PID gains in parallel form.\n",
      "    pidstddata, pidstddata2  - Extract PID gains in standard form.\n",
      " \n",
      "  Block diagram modeling.\n",
      "    append           - Aggregate models by appending inputs and outputs.\n",
      "    parallel         - Connect models in parallel.\n",
      "    series           - Connect models in series.\n",
      "    feedback         - Connect models with a feedback loop.\n",
      "    lft              - Generalized feedback interconnection.\n",
      "    connect          - Arbitrary block-diagram interconnection.\n",
      "    sumblk           - Specify summing junction (for use with CONNECT).\n",
      "    strseq           - Builds sequence of indexed strings (for I/O naming).\n",
      " \n",
      "  Model transformation.\n",
      "    c2d              - Continuous to discrete conversion.\n",
      "    d2c              - Discrete to continuous conversion.\n",
      "    d2d              - Resample discrete-time model.\n",
      "    upsample         - Upsample discrete-time systems.\n",
      "    chgTimeUnit      - Change time units.\n",
      "    imp2exp          - Implicit to explicit conversion.\n",
      "    augstate         - Augment output by appending states.\n",
      "    ss2ss            - State coordinate transformation.\n",
      "    canon            - Canonical forms of state-space model.\n",
      "    prescale         - Optimal scaling of state-space model.\n",
      "    <a href=\"matlab:help ss/xperm\">xperm</a>            - Reorder states in state-space model.\n",
      " \n",
      "  Model simplification.\n",
      "    minreal          - Minimal realization and pole/zero cancellation.\n",
      "    sminreal         - Structurally minimal state-space realization.\n",
      "    hsvd             - Hankel singular values (state contributions)\n",
      "    balred           - Reduced-order approximations of linear models.\n",
      "    balreal          - Gramian-based input/output balancing.\n",
      "    modred           - Model order reduction.\n",
      "    modelReducer     - Model reduction app.\n",
      " \n",
      "  Model algebra.\n",
      "    <a href=\"matlab:help InputOutputModel/plus\">+</a>, <a href=\"matlab:help InputOutputModel/minus\">-</a>             - Add and subtract models (parallel connection).\n",
      "    <a href=\"matlab:help InputOutputModel/mtimes\">*</a>                - Multiply models (series connection).\n",
      "    <a href=\"matlab:help InputOutputModel/mldivide\">\\</a>                - Left divide -- sys1\\sys2 means inv(sys1)*sys2.\n",
      "    <a href=\"matlab:help InputOutputModel/mrdivide\">/</a>                - Right divide -- sys1/sys2 means sys1*inv(sys2).\n",
      "    <a href=\"matlab:help InputOutputModel/mpower\">^</a>                - Powers of a model.\n",
      "    <a href=\"matlab:help InputOutputModel/transpose\">.'</a>               - Transposition of input/output map.\n",
      "    <a href=\"matlab:help InputOutputModel/ctranspose\">'</a>                - Pertranspose H(s) to H(-s).' or H(z) to H(1/z).'\n",
      "    <a href=\"matlab:help DynamicSystem/times\">.*</a>               - Element-by-element multiplication.\n",
      "    <a href=\"matlab:help InputOutputModel/horzcat\">[,]</a>, <a href=\"matlab:help InputOutputModel/vertcat\">[;]</a>         - Concatenate models along inputs or outputs.\n",
      "    <a href=\"matlab:help InputOutputModel/inv\">inv</a>              - Inverse of input/output model.\n",
      "    <a href=\"matlab:help InputOutputModel/conj\">conj</a>             - Complex conjugation of model coefficients.\n",
      "    frd/fcat         - Merge frequency responses.\n",
      "    frd/fselect      - Select frequency range or frequency points.\n",
      "    frd/abs          - Entrywise magnitude of the frequency response.\n",
      "    frd/real         - Real part of the frequency response.\n",
      "    frd/imag         - Imaginary part of the frequency response.\n",
      "    frd/interp       - Interpolate frequency response data.\n",
      "\n"
     ]
    }
   ],
   "source": [
    "help ctrlmodels"
   ]
  },
  {
   "cell_type": "markdown",
   "metadata": {
    "slideshow": {
     "slide_type": "subslide"
    }
   },
   "source": [
    "#### Transfer function\n",
    "\n",
    "From this, the transfer function looks likely"
   ]
  },
  {
   "cell_type": "code",
   "execution_count": 4,
   "metadata": {
    "slideshow": {
     "slide_type": "subslide"
    }
   },
   "outputs": [
    {
     "name": "stdout",
     "output_type": "stream",
     "text": [
      " TF  Construct transfer function or convert to transfer function.\n",
      " \n",
      "   Construction:\n",
      "     SYS = TF(NUM,DEN) creates a continuous-time transfer function SYS with\n",
      "     numerator NUM and denominator DEN. SYS is an object of type TF when\n",
      "     NUM,DEN are numeric arrays, of type GENSS when NUM,DEN depend on tunable\n",
      "     parameters (see REALP and GENMAT), and of type USS when NUM,DEN are\n",
      "     uncertain (requires Robust Control Toolbox).\n",
      " \n",
      "     SYS = TF(NUM,DEN,TS) creates a discrete-time transfer function with\n",
      "     sample time TS (set TS=-1 if the sample time is undetermined).\n",
      " \n",
      "     S = TF('s') specifies the transfer function H(s) = s (Laplace variable).\n",
      "     Z = TF('z',TS) specifies H(z) = z with sample time TS.\n",
      "     You can then specify transfer functions directly as expressions in S\n",
      "     or Z, for example,\n",
      "        s = tf('s');  H = exp(-s)*(s+1)/(s^2+3*s+1)\n",
      " \n",
      "     SYS = TF creates an empty TF object.\n",
      "     SYS = TF(M) specifies a static gain matrix M.\n",
      " \n",
      "     You can set additional model properties by using name/value pairs.\n",
      "     For example,\n",
      "        sys = tf(1,[1 2 5],0.1,'Variable','q','IODelay',3)\n",
      "     also sets the variable and transport delay. Type \"properties(tf)\"\n",
      "     for a complete list of model properties, and type\n",
      "        help tf.<PropertyName>\n",
      "     for help on a particular property. For example, \"help tf.Variable\"\n",
      "     provides information about the \"Variable\" property.\n",
      " \n",
      "     By default, transfer functions are displayed as functions of 's' or 'z'.\n",
      "     Alternatively, you can use the variable 'p' in continuous time and the\n",
      "     variables 'z^-1', 'q', or 'q^-1' in discrete time by modifying the\n",
      "     \"Variable\" property.\n",
      " \n",
      "   Data format:\n",
      "     For SISO models, NUM and DEN are row vectors listing the numerator\n",
      "     and denominator coefficients in descending powers of s,p,z,q or in\n",
      "     ascending powers of z^-1 (DSP convention). For example,\n",
      "        sys = tf([1 2],[1 0 10])\n",
      "     specifies the transfer function (s+2)/(s^2+10) while\n",
      "        sys = tf([1 2],[1 5 10],0.1,'Variable','z^-1')\n",
      "     specifies (1 + 2 z^-1)/(1 + 5 z^-1 + 10 z^-2).\n",
      " \n",
      "     For MIMO models with NY outputs and NU inputs, NUM and DEN are\n",
      "     NY-by-NU cell arrays of row vectors where NUM{i,j} and DEN{i,j}\n",
      "     specify the transfer function from input j to output i. For example,\n",
      "        H = tf( {-5 ; [1 -5 6]} , {[1 -1] ; [1 1 0]})\n",
      "     specifies the two-output, one-input transfer function\n",
      "        [     -5 /(s-1)      ]\n",
      "        [ (s^2-5s+6)/(s^2+s) ]\n",
      " \n",
      "   Arrays of transfer functions:\n",
      "     You can create arrays of transfer functions by using ND cell arrays\n",
      "     for NUM and DEN above. For example, if NUM and DEN are cell arrays\n",
      "     of size [NY NU 3 4], then\n",
      "        SYS = TF(NUM,DEN)\n",
      "     creates the 3-by-4 array of transfer functions\n",
      "        SYS(:,:,k,m) = TF(NUM(:,:,k,m),DEN(:,:,k,m)),  k=1:3,  m=1:4.\n",
      "     Each of these transfer functions has NY outputs and NU inputs.\n",
      " \n",
      "     To pre-allocate an array of zero transfer functions with NY outputs\n",
      "     and NU inputs, use the syntax\n",
      "        SYS = TF(ZEROS([NY NU k1 k2...])) .\n",
      " \n",
      "   Conversion:\n",
      "     SYS = TF(SYS) converts any dynamic system SYS to the transfer function\n",
      "     representation. The resulting SYS is always of class TF.\n",
      " \n",
      "   See also TF/EXP, FILT, TFDATA, ZPK, SS, FRD, GENSS, USS, DYNAMICSYSTEM.\n",
      "\n",
      "    Documentation for tf\n",
      "       doc tf\n",
      "\n",
      "    Other functions named tf\n",
      "\n",
      "       DynamicSystem/tf    idParametric/tf    mpc/tf    StaticModel/tf\n",
      "\n"
     ]
    }
   ],
   "source": [
    "help tf"
   ]
  },
  {
   "cell_type": "markdown",
   "metadata": {
    "slideshow": {
     "slide_type": "subslide"
    }
   },
   "source": [
    "#### Digital transfer function block\n",
    "\n",
    "It seems that that the third argument is sampling period. Set this to -1 for \"unspecified\"."
   ]
  },
  {
   "cell_type": "code",
   "execution_count": 5,
   "metadata": {
    "slideshow": {
     "slide_type": "fragment"
    }
   },
   "outputs": [
    {
     "name": "stdout",
     "output_type": "stream",
     "text": [
      "\n",
      "H =\n",
      " \n",
      "  4 z^2 - 16\n",
      "  ----------\n",
      "  z^2 - 0.25\n",
      " \n",
      "Sample time: unspecified\n",
      "Discrete-time transfer function.\n",
      "\n"
     ]
    }
   ],
   "source": [
    "H = tf([4, 0, -16],[1, 0, -0.25],-1)"
   ]
  },
  {
   "cell_type": "markdown",
   "metadata": {
    "slideshow": {
     "slide_type": "subslide"
    }
   },
   "source": [
    "### Step Response\n",
    "\n",
    "Now do a step response"
   ]
  },
  {
   "cell_type": "code",
   "execution_count": 6,
   "metadata": {
    "slideshow": {
     "slide_type": "fragment"
    }
   },
   "outputs": [
    {
     "data": {
      "image/svg+xml": [
       "<?xml version=\"1.0\"?>\n",
       "<!DOCTYPE svg PUBLIC '-//W3C//DTD SVG 1.0//EN'\n",
       "          'http://www.w3.org/TR/2001/REC-SVG-20010904/DTD/svg10.dtd'>\n",
       "<svg xmlns:xlink=\"http://www.w3.org/1999/xlink\" style=\"fill-opacity:1; color-rendering:auto; color-interpolation:auto; text-rendering:auto; stroke:black; stroke-linecap:square; stroke-miterlimit:10; shape-rendering:auto; stroke-opacity:1; fill:black; stroke-dasharray:none; font-weight:normal; stroke-width:1; font-family:'Dialog'; font-style:normal; stroke-linejoin:miter; font-size:12px; stroke-dashoffset:0; image-rendering:auto;\" width=\"560\" height=\"420\" xmlns=\"http://www.w3.org/2000/svg\"\n",
       "><!--Generated by the Batik Graphics2D SVG Generator--><defs id=\"genericDefs\"\n",
       "  /><g\n",
       "  ><defs id=\"defs1\"\n",
       "    ><clipPath clipPathUnits=\"userSpaceOnUse\" id=\"clipPath1\"\n",
       "      ><path d=\"M0 0 L560 0 L560 420 L0 420 L0 0 Z\"\n",
       "      /></clipPath\n",
       "      ><clipPath clipPathUnits=\"userSpaceOnUse\" id=\"clipPath2\"\n",
       "      ><path d=\"M0 0 L1119.9999 0 L1119.9999 839.9999 L0 839.9999 L0 0 Z\"\n",
       "      /></clipPath\n",
       "    ></defs\n",
       "    ><g style=\"fill:white; stroke:white;\"\n",
       "    ><rect x=\"0\" y=\"0\" width=\"560\" style=\"clip-path:url(#clipPath1); stroke:none;\" height=\"420\"\n",
       "    /></g\n",
       "    ><g transform=\"scale(0.5,0.5)\"\n",
       "    ><image x=\"0\" y=\"0\" width=\"1120\" xlink:href=\"data:image/png;base64,iVBORw0KGgoAAAANSUhEUgAABGAAAANICAIAAAAHNA4rAABKtUlEQVR42uzdD3jW\n",
       "db34f8gU/5QdrcsMLT11jsfMU6nV8VynzmWnOqdTllqnuuiP1TcPY2MbCLLA0E0Y\n",
       "F4uhHPlzBow/oih/EjA4gF5AjDnEQUyMCWyYzClrBAzHYSMZu/29f9yHzzXujTEs\n",
       "Le7P43F5dY3Pbul+b3vdvp77c6/XGwAAABzTy5sAAABAIAEAAAgkAAAAgQQAACCQ\n",
       "AAAABBIAAIBAAgAAEEgAAAACCQAAQCABAAAIJAAAAIEEAAAgkAAAAAQSAACAQAIA\n",
       "ABBIAAAAAgkAAEAgAQAACCQAAACBBAAAIJAAAAAEEgAAgEACAAAQSAAAAAIJAABA\n",
       "IAEAAAgkAAAAgQQAACCQAAAABBIAAIBAAgAAEEgAAAACCQAAQCABAAAIJAAAAIEE\n",
       "AAAgkAAAABBIAAAAAgkAAEAgAQAACCQAAACBBAAAIJAAAAAEEgAAgEACAAAQSAAA\n",
       "AAIJAABAIAEAAAgkAAAAgQQAACCQAAAABBIAAIBAAgAAEEgAAAACCQAAQCABAAAI\n",
       "JAAAAIEEAAAgkAAAAAQSAACAQAIAABBIAAAAAgkAAEAgAQAACCQAAACBBAAAIJAA\n",
       "SBuvv/76tm3b/ud//mfFihXV1dUtLS3eJgAIJABip7m5uaCg4L3vfW+vDs4///ys\n",
       "rKyXXnopulkikWg57u28e5mZmeedxGWXXfblL395yZIl3okACCQA/gRC7fzjP/5j\n",
       "r5O49NJLd+3albzl7t27o+tr16592+7hT37yk16nMmTIEO9KAAQSAH+s3NzcKDM+\n",
       "8IEP9OvX79Zbb33Pe94TXbz++us7B9JTTz315wqkc4555zvfmdJIZWVl3psACCQA\n",
       "/ih/93d/lwyMj33sY4cOHUpePHjw4A033BC1x969e/9CAqmhoSF58ejRo+vXr/+3\n",
       "f/u36FVDhw713gRAIAHw5rW0tESB8d3vfrfjqx5++OGzj1u7dm1GRsYtt9wS3fim\n",
       "m266/fbbFyxYEN1+y5YtWVlZN9544/vf//4vfvGL99xzT11dXfTa7Ozs24954YUX\n",
       "pkyZ8qUvfenSSy/9p3/6p1A1HW/W80BKqqioiF516623dnxV9/cnWLdu3Y9+9KNr\n",
       "r732kksu+eAHPxhuWVhYuGfPnjd3n8OVwYMHf/7znw+3+fu///vvfe978+fPT7lN\n",
       "9Bdu27Zt8eLF4Q737dv3Qx/60De+8Y2tW7ee1n3r4RkBEEgAnJ7LL788GRi9e/ce\n",
       "MGDAM888097e3vlm4bWdf/Jn0KBBydcWFRWdc845Ka8Ny/2GDRuSN4i+Z++6667r\n",
       "fLPwf/rmAmnjxo3Rq/Lz86Prp7w/M2fOfMc73tH5RFdeeWX0M1c9v8/hb3vXu97V\n",
       "+W/76le/un///uhm0V948803p7w9zzvvvM2bN/f8vvXkjAAIJABOW4iilCX74osv\n",
       "vu222yZPnvzb3/42utm///u/f/7zn49u86lPferLX/7y1KlTw6sef/zx6PqHPvSh\n",
       "66+/PvrjBRdc8Pvf/75jGwRh+//kJz/5t3/7t9GVyy677PXXXz/dQHr55Ze/853v\n",
       "RK9as2ZN8vop708ikbjooouSV2688cbi4uL+/fuHVyWv/PCHP0zpme7v869//euz\n",
       "zjorefHcc88Nf2F4VXSz6G9L+QuDd7/73R3/2K9fvzeOPVVgT+5bT97mAAgkAE5b\n",
       "a2vrZz/72S6fGi5UwX/8x39E39nV5c8gHT58uG/fvsmLAwcOTH716cUXX4y2/Hvu\n",
       "uadjG5xzzjmrVq1K/rv3339/9BdOmzatJ4F05ZVX/s0xV1xxRce7+vWvf/3o0aM9\n",
       "vD8vvPBC9C9G3yU4duzYdx/z0Y9+NKVnur/PIWOiUIm+wjNo0KDoZp2/jHb++efP\n",
       "nz//yJEjzz//fHSQD3/4w+E2PblvPXybAyCQAHgzwoY9e/bsz3zmM11+H921117b\n",
       "zZM0VFZWRt+ht3Hjxm3H3XrrrVE2dGyDlJ90uuaaa5LXv/Wtb/UkkLr0iU98orm5\n",
       "uef3p6GhIfp3+/Tp88Mf/vDhhx8OgZHy/9uT+xzyMvp2uJKSkug2oWGiXAl5k/IX\n",
       "/uAHP4hu+eMf/ziqpvDHnty3Hr7NARBIAPxRQgKFdfz73//+xRdf3LFAioqKThZI\n",
       "M2bM6L5ezj777I5t8N///d8d/x8HDhyYvH7DDTf0JJD69u37kWNS7uFNN910Wvcn\n",
       "NE+XP+QzevTo6Nfg9uQ+b968OfrXq6urO97sS1/6UvJ6eHum/IWjRo2KbjZx4sTk\n",
       "xbPOOit55ZT3rYdnBEAgAXB6QueMPaa4uPjIkSPR9fByYWFhtHCHXf9kgTR+/PhT\n",
       "/hbXpqamqA1mzZrV8Q4MGzYseT00T08CKfoZpPb29vXr10dfzAnCH3t+f9ra2sI9\n",
       "+exnP9v59yl94QtfSCQSHXumm/v89NNPR/9iTU1Nx5t9/etfj779LyWQJkyYEN2s\n",
       "tLQ0JZBOed96eEYf3gACCYDT03HVrqysTHntX//1X0e/IulkgbR8+fLo271+97vf\n",
       "7e9K2OmjNhgxYkTH/4tvfOMb0ep/WoGU1PFrKQ888EDP70/0NzQ3N//yl7/Mzs7+\n",
       "q7/6q+iveuGFFzr2TDf3ubGxMfq3Vq5c2fFmH/3oR5PXf/rTn55WIJ3yvp3uGQEQ\n",
       "SAD0SHl5ebR5/8M//EPH56TetGnT2Wef3fFnZjoG0uzZs5M3q6+vj35yad68edG/\n",
       "vnDhwn885vbbb+/YBpdffvmBAweSt9m1a1efPn2S10MGvIlAampqil41bNiwHt6f\n",
       "adOmveuYT33qU9ENOn4taO3atT2/z5dccknyj1/72teiLFm9enX0tz366KM9D6Se\n",
       "3Lcevs0BEEgAnJ7Dhw93/C61Cy644JZbbvnP//zPL37xi1EdBUuXLg03DvkUXbn0\n",
       "0kuj34X6ox/9KHq2t5tvvnnixIkhac4999yOP8DT8RmuP/axjxUXF48dO/aDH/xg\n",
       "9HR527dvfxOBFJx//vnJV4W7nbxyyvvT8Zni7rzzztA8L7300g9/+MPklXe+852H\n",
       "Dh3q+X2eNGlSx198NHXq1J/97GfRr0W6+uqro2cw70kg9fC+9eRtDoBAAuC0hRU8\n",
       "+hpIl4YMGRLdOPqmu46/KHbv3r0p1zs+d8If/vCHjm3Q5a9AHTx4cDf3sPtAuvba\n",
       "a1O+Sa8n9+db3/rWyc6bk5OT0jPd3+f29vbQk13+VSGTKioqorvaw2+x68l968kZ\n",
       "ARBIALwZoTry8vIuvPDClFX7k5/85OLFizv+NEtlZeV1112XEkjB//7v/2ZmZka/\n",
       "zzT5W1DDazs/I9yYMWO+/e1vR79Z9eKLLy4uLu7+7nX8VbadfwXq7bffHj0pdvSN\n",
       "cKe8P21tbSNHjrz00ks7njf8MT8/Pzpvz+9zaKTQPO973/s6Po/czTffXFdX1/Fm\n",
       "XQbS7NmzOz9JwynvW0/OCIBAAuDN+8Mf/lBTU/PUU08tWrTo17/+dTdPg9ba2hqa\n",
       "qrGxMazyKZ2wc+fOVatWbd26NdymmzYIy315eXn4v3tLn0ugm/sTpUhtbW3ZMeHO\n",
       "JH/V7B9zn8Ob5Ve/+lX4v+v4lIBvTvf3rednBEAgAfAXp8svnrjPAAgkAASS+wyA\n",
       "QAIgxt773ve+85gHH3zQfQZAIAEAAAgkAAAAgQQAACCQAAAABBIAAIBAAgAAEEgA\n",
       "AAACCQAAQCBxBnnttdfKysrq6uq8KQAAQCDFWiKRmDBhQv/+/ZctW+atAQAAAinW\n",
       "Vq9e3f8YgQQAAAIp1nbv3j1w4MCcnByBBAAAAinW2traRo8ePXTo0LVr1wokAAAQ\n",
       "SLG2aNGi0EVVVVWbNm0SSAAAIJDiq6amJiMjY+bMmeFlgQQAAAIpvlpbW4cPH56X\n",
       "l9fS0nJagXRD9sTY/vPuwUv7AwCkKRuyQIq1mTNnhjGorq5O/rHngRTn4QmBFNuz\n",
       "x/xBM87H9653dmd3fGd3fARS+tu8eXOYgdLS0sPHbdiwIVxZsmRJePno0aOGRyB5\n",
       "vzu+s3vXO7vjO7vjI5DiYuHChd18dXXt2rWGRyB5vzu+s3vXO7vjO7vjI5DiYuPG\n",
       "jSUnGjVqVJiK/Pz88HL0fXeGRyB5vzu+d72zO7vjO7vjI5DiyM8gCSTvd8d3dsd3\n",
       "dmf3rveuRyAhkASSB03Hd3bHd3Znd3zveoEkkDhRVVVVmIrly5cbHoHk/e74zu74\n",
       "zu7D3tkdH4GE4Tm1KwvX+wAAAOx4CCQMj0ACAOx4CCQMj0ACAOx4CCQMj0ACAOx4\n",
       "CCQMj0ACAOx4CCQMj0ACAOx4CCQMj0ACAOx43ggCCcMjkAAABJJAwvAIJAAAO55A\n",
       "wvAIJAAAO55AwvAIJAAAO55AwvAIJAAAO55AwvAIJAAAO55AwvAIJAAAO55AwvAI\n",
       "JAAAO55AwvAIJAAAO55AwvAIJAAAO55AwvAIJAAAO55AwvAIJAAAO55AwvAIJAAA\n",
       "O55AwvAIJAAAO55AwvAIJAAAO55AwvAIJAAAO55AwvAIJAAAO55AwvAIJAAAO55A\n",
       "wvAIJAAAO55AwvAIJAAAO55AwvAIJAAAO55AwvAIJAAAO55AwvAIJAAAO55AwvAI\n",
       "JAAAO55AwvAIJAAAO55AwvAIJAAAO55AwvAIJAAAO55AwvAIJAAAO55AwvAIJAAA\n",
       "Ox4CyfAIJAAAOx4CCYEkkAAAOx4CCcMjkAAAOx4CCcMjkAAAOx4CCcMjkAAAOx4C\n",
       "CcMjkAAAOx4CCcMjkAAAOx4CCcMjkAAAO55AEkgYHoEEACCQBBKGRyABANjxBBKG\n",
       "RyABANjxBBKGRyABANjxBBKGRyABANjxBBI90tLSsmPHjoqKiu3bt4eXDY9AAgAE\n",
       "EgIpjhKJxKpVq7Kysvofl5ubu3r1asMjkAAAgYRAip1169aFMcjMzFywYEF5efmM\n",
       "GTMyMjLClU2bNhkegQQACCQEUoy0t7ffddddYQwqKyuji0uXLg1Xxo0bZ3gEEgAg\n",
       "kBBIMbJnz54wA8OHD08kEtHFffv2hYs5OTmGRyABAAIJgRQj9fX1995770MPPZRy\n",
       "MQxGXl6e4RFIAIBAQiDF3ezZs8NglJSUGB6BBAAIJARSfCUSiccffzxMRVZWVkND\n",
       "wymHp0sCCQDgjAihOK9zAolTC0VUVFQURiI7O7u6utpnFwQSABDPcPJGEEhx197e\n",
       "vmLFiuSvQgqN1NjYaHgEEgAgkBBIcdTW1jZ16tQwCYMGDSovL+/4dHaGRyABAAIJ\n",
       "gRQvyR86KigoaGpqMjwCCQAQSN4IAim+QhRlZWXl5OQ0NzcbHoEEACCQBFKsbdiw\n",
       "Ifk7YSd0MmfOHMMjkAAAgYRAipEFCxac7OkdR44caXgEEgAgkBBIGB6BBADY8RBI\n",
       "GB6BBADY8RBIGB6BBAAgkAQShkcgAQDY8QQShkcgAQDY8QQShkcgAQDY8QQShkcg\n",
       "AQDY8QQShkcgAQDY8QQShkcgAQDY8QQShkcgAQDY8QQShkcgAQDY8QQShkcgAQDY\n",
       "8QQShkcgAQDY8QQShkcgAQDY8QQShkcgAQDY8QQShkcgAQDY8QQShkcgAQDY8QQS\n",
       "hkcgAQDY8QQShkcgAQDY8QQShkcgAQDY8QQShkcgAQDY8QQShkcgAQDY8QQShkcg\n",
       "AQDY8QQShkcgAQDY8QQShkcgAQDY8QQShkcgAQDY8QQShkcgAQDY8QQShkcgAQDY\n",
       "8QQShkcgAQDY8QQShkcgAQDY8QQShkcgAQDY8RBIhkcgAQDY8RBICCQfAACAHQ+B\n",
       "hOERSACAHQ+BhOERSACAHQ+BhOERSACAHQ+BhOERSACAHQ+BhOERSACAHQ+BhOER\n",
       "SACAHc8bQSBheAQSAIBAEkgYHoEEAGDHE0gYHoEEAGDHE0gYHoEEAGDHE0gYHoEE\n",
       "AGDHE0gYHoEEAGDHE0gYHoEEAGDHE0gYHoEEAGDHE0gYHoEEAGDHE0gYHoEEAGDH\n",
       "E0gYHoEEAGDHE0j8abW0tNTU1FRUVGzbtu3gwYOGRyABAAIJgRRT69evz83N7X9c\n",
       "VlbWypUrDY9AAgAEEgIpdmprazMyMsIkTJ8+fd26dY888kjyj5WVlYZHIAEAAgmB\n",
       "FC8PPvhgGIPHHnssuvLkk0+GK/n5+YZHIAEAAgmBFCNtbW1ZWVlhDPbv3x9dPHLk\n",
       "yMCBA8PFffv2GR6BBAAIJARSXDQ2NoYZGDZsWMr1oqKicH3btm2GRyABAAIJgRQX\n",
       "tbW1YQbGjBmTcr2kpCRcf/bZZw2PQAIABBICKS527NgRZqCoqCjl+syZM8P1ioqK\n",
       "7oenSwIJAOCMCKE4r3MCia5t3769y0CaPn16TwIptm83gQQApHE4eSMIpPjauXNn\n",
       "mIFRo0alXJ88efIpn+lbIAEACCQEUlrZu3dvmIHs7OxEItHx+j333BOu19TUGB6B\n",
       "BAAIJARSXLS3t+fm5oYxqKuriy42NzcPGDAgIyMjvGB4BBIAIJAQSDEybdq0MAbj\n",
       "x4+PvoiUfIaGsWPHGh6BBAAIJARSvDQ2NiZ/LeywYcNKS0vvvvvu8HJGRkb3318n\n",
       "kHzkAAACCYGUnl588cWCgoLoiR1HjBixZcsWwyOQAACBhEDC8AgkAMCOh0DC8Agk\n",
       "AMCOJ5AEEoZHIAEA2PEEEoZHIAEA2PEEEoZHIAEA2PEEEoZHIAEA2PEEEoZHIAEA\n",
       "2PEEEoZHIAEA2PEEEoZHIAEA2PEEEoZHIAEA2PEEEoZHIAEA2PEEEoZHIAEA2PEE\n",
       "EoZHIAEA2PEEEoZHIAEA2PEEEoZHIAEA2PEEEoZHIAEA2PEEEoZHIAEA2PEEEoZH\n",
       "IAEA2PEEEoZHIAEA2PEEEoZHIAEA2PEEEoZHIAEA2PEEEoZHIAEA2PEEEoZHIAEA\n",
       "2PEEEoZHIAEA2PEEEoZHIAEA2PEEEoZHIAEA2PEEEoZHIAEA2PEEEoZHIAEA2PEE\n",
       "EoZHIAEA2PEEEoZHIAEA2PEEEoZHIAEA2PEQSIZHIAEA2PEQSBgegQQA2PEQSBge\n",
       "gQQA2PEQSBgegQQA2PEQSBgegQQA2PEQSBgegQQA2PEQSBgegQQA2PEQSBgegQQA\n",
       "IJAEEoZHIAEA2PEEEoZHIAEA2PEEEoZHIAEA2PEEEoZHIAEA2PEEEoZHIAEA2PEE\n",
       "EoZHIAEA2PEEEoZHIAEA2PEEEoZHIAEA2PEEEoZHIAEA2PEEEoZHIAEA2PEEEn9S\n",
       "LS0tO3bsqKio2L59e3jZ8AgkAEAgIZDiKJFIrFq1Kisrq/9xubm5q1evNjwCCQAQ\n",
       "SAik2Fm3bl2YhMzMzAULFpSXl8+YMSMjIyNc2bRpk+ERSACAQEIgxUh7e/tdd90V\n",
       "JqGysjK6uHTp0nBl3LhxhkcgAQACCYEUI3v27AljMHz48EQiEV3ct29fuJiTk2N4\n",
       "BBIAIJAQSDFSX19/7733PvTQQykXw2zk5eUZHoEEAAgkBFLczZ49O8xGSUmJ4RFI\n",
       "AIBAQiDFVyKRePzxx8NgZGVlNTQ0dD88XRJIAABnRAjFeZ0TSLzR2to690SLFy9O\n",
       "uU0ooqKiojAV2dnZ1dXVPrsgkACAGIaTN4JAioWmpqaUzw10/BGj9vb2FStWJH8V\n",
       "UmikxsZGwyOQAACBhEBKW21tbbUnqq+vj141derUMAyDBg0qLy/v+HR2hkcgAQAC\n",
       "CYEUL8kfOiooKGhqajI8AgkAEEgIpPgKUZSVlZWTk9Pc3Gx4BBIAIJC8EQRSrG3Y\n",
       "sCH5O2EndDJnzhzDI5AAAIGEQIqRBQsWnOwZHkeOHGl4BBIAIJAQSBgegQQA2PEQ\n",
       "SBgegQQA2PEQSBgegQQAIJAEEoZHIAEA2PEEEoZHIAEA2PEEEoZHIAEA2PEEEoZH\n",
       "IAEA2PEEEoZHIAEA2PEEEoZHIAEA2PEEEoZHIAEA2PEEEoZHIAEA2PEEEoZHIAEA\n",
       "2PEEEoZHIAEA2PEEEoZHIAEA2PEEEoZHIAEA2PEEEoZHIAEA2PEEEoZHIAEA2PEE\n",
       "EoZHIAEA2PEEEoZHIAEA2PEEEoZHIAEA2PEEEoZHIAEA2PEEEoZHIAEA2PEEEoZH\n",
       "IAEA2PEEEoZHIAEA2PEEEoZHIAEA2PEEEoZHIAEA2PEEEoZHIAEA2PEEEoZHIAEA\n",
       "2PEEEoZHIAEA2PEEEoZHIAEA2PEEEoZHIAEA2PEEEoZHIAEA2PEQSAgkAAA7HgIJ\n",
       "wyOQAAA7HgIJwyOQAAA7HgIJwyOQAAA7HgIJwyOQAAA7HgIJwyOQAAA7HgIJwyOQ\n",
       "AAA7HgIJwyOQAAAEkkDC8AgkAAA7nkDC8AgkAAA7nkDC8AgkAAA7nkDC8AgkAAA7\n",
       "nkDC8AgkAAA7nkDC8AgkAAA7nkDC8AgkAAA7nkDC8AgkAAA7nkDC8AgkAAA7nkDC\n",
       "8AgkAAA7nkDiLfLaa6+VlZXV1dUZHoEEAAgkBFKsJRKJCRMmhMFYtmyZ4RFIAIBA\n",
       "QiDF2urVq/sfI5AEEgAgkBBIsbZ79+6BAwfm5OQIJIEEAAgkBFKstbW1jR49eujQ\n",
       "oWvXrhVIAgkAEEgIpFhbtGhRmIeqqqpNmzYJJIEEAAgkBFJ81dTUZGRkzJw5M7ws\n",
       "kAQSACCQEEjx1draOnz48Ly8vJaWltMKpC4JJACAMyKE4rzOCST+/wqae6LFixcn\n",
       "XzVz5swwCdXV1ck/+gqSQAIA4hxO3ggCKRaamppSPjeQl5cXrm/evDm8XFpaevi4\n",
       "DRs2hCtLliwJLx89etTwCCQAQCAhkNJNW1tb7Ynq6+vD9YULF3bzBda1a9caHoEE\n",
       "AAgkBFJcbNy4seREo0aNCoORn58fXo6+787wCCQAQCAhkOLIzyAJJABAICGQEEgC\n",
       "CQAQSAJJIHGiqqqqMBjLly83PAIJABBICCQMj0ACAOx4CCQMj0ACAOx4CCQMj0AC\n",
       "ABBIAgnDI5AAAOx4AgnDI5AAAOx4AgnDI5AAAOx4AgnDI5AAAOx4AgnDI5AAAOx4\n",
       "AgnDI5AAAOx4AumMd+TIkWXLlo0fPz4vLy/8cfPmzQcPHjQ8AgkAwI4nkGJn7Nix\n",
       "l1xySa/jwpUvfOEL55133qhRowyPQAIAsOMJpBgZMmRIsov69u0bBdI3vvGN5Muj\n",
       "R482PAIJAMCOJ5Bioby8PFTQWWedVVpaGv546aWXJgPp9ddfLywsDC9feOGFzc3N\n",
       "hkcgAQDY8QRS+hs1alSooGHDhiX/GAVS0lVXXRX+WFFRYXgEEgCAHU8gpb8vf/nL\n",
       "IYHKy8u7DKSf/OQn4Y/z5s0zPAIJAMCOJ5DS3w9+8IOQQMuXL+8ykJL55CtIAgkA\n",
       "wI4nkGLhwQcfDAkUQqhzID333HN9+vTp3bv3X87zfQskAACBhEB6C+3bt++yyy4L\n",
       "UfTVr371mWeeufjii8PLr7zyyowZMz7wgQ+El7/73e8aHoEEAGDHE0hxUVZW9q53\n",
       "vatXV66++uq/qF8XK5AAAAQSAuktt3v37u9///sXXXRRlEZXXHHF/fff/4c//MHw\n",
       "CCQAADueQIqphoaGzZs379u3z/AIJAAAO55AwvAIJAAAO55AipNbbrnl2tPx6quv\n",
       "Gh6BBABgxxNI6emaa67pdTp27dpleAQSAIAdTyClp7KysmUd/Mu//EuooPPPPz8z\n",
       "M/Oxxx5buXLl9OnTP//5zyfraOrUqa2trYZHIAEA2PEEUvrbtGlT7969L7744h07\n",
       "dqS86r/+679CIF1zzTWJRMLwCCQAADueQEp/AwcODBU0YcKELl97ww03hNf+9re/\n",
       "NTwCCQDAjieQ0l/y++uefvrpLl97xx13hNcuWrTI8AgkAAA7nkBKf9/61rdCAs2d\n",
       "O7fL1950003htWvWrDE8AgkAwI4nkNLfuHHjQgJ9+tOfPnToUMqrVqxYcdZZZ/Xu\n",
       "3bu5udnwCCQAADueQEp/NTU1F1xwQWikT3ziEw899NCLL774+9//fvPmzUOHDj3v\n",
       "vPPC9dtuu83wCCQAADueQIqLxx57rHfv3l3+BqSrr776L+fLRwLJxyoAIJAQSG+H\n",
       "qqqqr33ta3369InS6PLLL//5z3/e0tJieAQSAIAdTyDFUXt7+8svv/z8888fPHjQ\n",
       "8AgkAAA7nkCKnZaWlr2nEsLJ8AgkAAA7nkBKf/n5+b1OZdeuXYZHIAEA2PEEkkDq\n",
       "dfHFF//ud78zPAIJAMCOJ5DS35EjRw518tJLLz388MNXXHHFe9/73qqqKsMjkAAA\n",
       "7HgCKe5++9vfvvvd77700ksTiYThEUgAAHY8gRR33/zmN3v16rVt2zbDI5AAAOx4\n",
       "AinuvvOd74RAmj9/vuERSAAAdjyBFGv79++/4IILQiCVl5cbHoEEAGDHE0jpb9Wq\n",
       "VT/tSr9+/c4///xQR+F/m5qaDI9AAgCw4wmk9Nf903y/4x3vmDFjhuERSAAAdjyB\n",
       "FAvLli0b0JXBgwePHz9+586dhkcgAQDY8QQShkcgAQDY8QRSzKxevXrEiBGVlZVd\n",
       "vrakpCS81s8gCSQAADueQIqF5M8gTZ06tcvXfuYznwmv3bVrl+ERSAAAdjyBlLae\n",
       "fvrpNcfcfvvtIYHuvPPONZ088cQT73nPe8JrGxoaDI9AAgCw4wmktHXJJZf06pnQ\n",
       "SG1tbW/dPTl06FBVVVVlZeUrr7xieAQSACCQEEh/Bp/+9Kc/fMxFF10UKuh973vf\n",
       "hzv5m7/5m8997nMLFy5869Jo3LhxGRkZ/Y+bNGnS66+/bngEEgAgkBBIfx7d/wzS\n",
       "W+fw4cNjxowJw1BYWLh8+fJ58+bdeeed4Y/hBcMjkAAAgYRA+vOYNm3a9ddfv2jR\n",
       "orf5//epp54Kk1BcXNze3p68snXr1nBlyJAhiUTC8AgkAEAgIZBiZPTo0WESUp7+\n",
       "oaysbM2aNVEyGR6BBAAIJATSW+7ee+/93ve+V1xcHF5etGjR907l97///Z/2Dhw4\n",
       "cCCMwd133/3Gse+12759e3V1dXNzs+ERSACAQEIgvd2uueaaXr16feUrX3nj+M8g\n",
       "de9P/nuQwl8YxmDKlCm/+MUvOj5Jw6xZs0IvGR6BBAAIJATS22fq1KmFhYXz588P\n",
       "L5eXlxeeymuvvfanvQO/+c1vwhgMGDAg/O+ECRNWrFgR7kx2dnb4Y2lpaffD0yWB\n",
       "BABwRoRQnNc5gcQbra2tc0+0ePHicH3Tpk3JSXj00UejG9fV1SWTaffu3T67IJAA\n",
       "gFiFkzeCQIqFpqamlM8N5OXlhesvvPBC8o8HDx7sePuJEyeGi88884zhEUgAgEBC\n",
       "IL1NQqV873S86SdpaGtrqz1RfX19uP7yyy+HMcjJyUm5/dy5c8P1lStXGh6BBAAI\n",
       "JATS2yT5JA099yd/kob29vbBgweHSWhqaup4vbi4OFzcuHGj4RFIAIBAQiC9TWbO\n",
       "nFl4Ov7kT9IQzJo1K0zCtGnTjh49mryyZcuWcCU7O7ub5/sWSAAAAgmBlIYOHDgw\n",
       "fPjwMAwFBQXz5s0rKSlJPt/38uXLDY9AAgAEEgLpz+zQoUNr1qyZOnXq6NGjH374\n",
       "4WeffTaRSLyl/48NDQ0TJ07Mzc1NPmHDiBEjKioqDI9AAgAEEgLpz6m9vf2BBx64\n",
       "5JJLUn706Lrrrlu1apXhEUgAAHY8gRQjeXl5ySI6++yzr7766htvvPGyyy6LrnTz\n",
       "pNuGRyABANjxBFJaWbduXbKF7rjjjoaGhuj6hg0brr/++nD9iiuuMDwCCQDAjieQ\n",
       "YuHee+8NFfTNb36z86v27duX/L67l156yfAIJAAAO55ASn9f+cpXQgL98pe/7PK1\n",
       "3/72t8NrFy1aZHgEEgCAHU8gpb9kAq1evbrL1/br1y+8dsmSJYZHIAEA2PEEUvor\n",
       "KioKCXTXXXd1ftWhQ4f69u0bXvvqq68aHoEEAGDHE0jpr76+/vLLL+/du/fUqVOP\n",
       "Hj0aXd+zZ0/yu+/69etneAQSAIAdTyDFwtKlS//5n/85+UR2V1555Xe/+93MzMyb\n",
       "b7753HPPTV78/ve/37+Dp556yvAIJAAAO55ASk/5+fm9TsfPf/5zwyOQAADseAIp\n",
       "Pa1evXrE6Vi3bp3hEUgAAHY8gYThEUgAAHY8gYThEUgAAHY8gRQTTU1NkyZNyszM\n",
       "/H8nsXfvXsMjkAAA7HgCKf3t27fvyiuv7P6JGXbt2mV4BBIAgB1PIKW/++67LyTQ\n",
       "WWeddcstt/z0pz8d2ZUDBw4YHoEEAGDHE0jp79Zbbw2BNHbsWMMjkAAA7HgCKe7+\n",
       "9V//NQRSeXm54RFIAAB2PIEUd8lfFPuzn/3M8AgkAAA7nkCKu+eee65Pnz4f/OAH\n",
       "d+zYYXgEEgCAHU8gxd2CBQuSz1Z344035nRl//79hkcgAQDY8QRS+tuzZ89VV13l\n",
       "ab4FEgCAHU8g8UZxcXFIoN69e3/hC1/IyckZ0hVfQRJIAAB2PIEUC7fddlsIpMLC\n",
       "QsMjkAAA7HgCKe6++c1vhkDasGGD4RFIAAB2PIEUd/fff38IpGnTphkegQQAYMcT\n",
       "SHFXX1/ft2/fSy65pLa21vAIJAAAO55AirXKysqMjIxevXr16dOnX79+P+1KU1OT\n",
       "4RFIAAB2PIGU/vLz83udiqf5FkgAAHY8gRQLy5YtG3Aq+/btMzwCCQDAjieQ4m7H\n",
       "jh15eXl79uwxPAIJAMCOJ5BiqqWlZc6cOZ/73Od8i51AAgCw4wmk+Nq8eXNmZuZ7\n",
       "3vOe6AeQevfuXV9fb3gEEgCAHU8gxcVrr702ZcqU6667ruNzM3zsYx8rKir6y6kj\n",
       "geQDFQAQSAikt9a6det+8IMfnHfeeR3T6JZbbqmqqjI8AgkAwI4nkGKhsbHx5z//\n",
       "+VVXXRVFUWikb3/729dff314efr06YZHIAEA2PEEUixkZGScffbZyS56xzve8cUv\n",
       "fnH27NkHDx4Mr/rxj38skAQSAIAdTyDFyDXXXBMq6Jxzzhk3blxDQ0PHVwkkgQQA\n",
       "YMcTSHEMpKBv37533XXX888/L5AEEgCAHU8gxVRNTU1eXt773//+6AeQPv7xjxcX\n",
       "F+/evVsgCSQAADueQIqjtra2JUuWfPWrXz3rrLOin0c699xzwwvTpk0zPAIJAMCO\n",
       "J5Di6NVXXy0sLPzwhz8cfUHpwgsvvOOOO55++mnDI5AAAOx4AimOEonEmjVr+vXr\n",
       "16dPn6iUPvKRj4waNaq1tdXwCCQAADueQIqj/fv3P/jggx//+MejTNq1a5fhEUgA\n",
       "AHY8gRRrGzduDB+sF1544csvv2x4BBIAgB1PIPHG4cOHDY9AAgCw4wkkDI9AAgCw\n",
       "4wkkDI9AAgCw4wkkDI9AAgCw4wkkDI9AAgCw4wkk/qwOHTpUXV1dXl4e/re5udnw\n",
       "CCQAQCAhkGJq9erVubm5/Y/Lysp64oknDI9AAgAEEgIpdp577rkwCQMGDHjkkUfK\n",
       "y8tLS0tDIIUrFRUVhkcgAQACCYEUL9OnTw+T0PFLRvPnzw9Xxo8fb3gEEgAgkBBI\n",
       "8RJCKEzCli1boivJrykVFBQYHoEEAAgkBFK8LFu2LEzCww8/HF2ZOXNmuLJw4ULD\n",
       "I5AAAIGEQIqX5ubmwsLCMAwPPPDAokWLRo8eHV7Oz8/fv3+/4RFIAIBAQiDFS3t7\n",
       "+4oVK/qfaOnSpYlEovvh6ZJAAgA4I0IozuucQOKN1tbWuSdavHhx8lVz5swJk5Cd\n",
       "nb1o0aKNGzeGNBo0aFC4MmnSJJ9dEEgAQNzCyRtBIMVCU1NTyucG8vLywvWjR4/m\n",
       "5uZmZGTU1tZGN969e/fAgQPDbQ4cOGB4BBIAIJAQSOmmra2t9kT19fXhek1NTfIn\n",
       "jlJuP2nSpHB9w4YNhkcgAQACCYEUF3V1dWEMRo4cmXL9/vvvD9erqqoMj0ACAAQS\n",
       "Aiku2trasrKywiSsW7cuelaG559/PuOYpqYmwyOQAACBhECKkV/96lfJn0oaNmzY\n",
       "I488MmXKlJBG4Y9PPPGE4RFIAIBAQiDFzvr160eMGBE9f8PQoUNDNbW3txsegQQA\n",
       "CCQEEoZHIAEAdjwEEoZHIAEAdjwEEoZHIAEACCSBhOERSAAAdjyBhOERSAAAdjyB\n",
       "hOERSAAAdjyBhOERSAAAdjyBhOERSAAAdjyBhOERSAAAdjyBhOERSAAAdjyBhOER\n",
       "SAAAdjyBhOERSAAAdjyBhOERSAAAdjyBhOERSAAAdjyBhOERSAAAdjyBhOERSAAA\n",
       "djyBhOERSAAAdjyBhOERSAAAdjyBhOERSAAAdjyBhOERSAAAdjyBhOERSAAAdjyB\n",
       "hOERSAAAdjyBhOERSAAAdjyBhOERSAAAdjyBhOERSAAAdjyBhOERSAAAdjyBhOER\n",
       "SAAAdjyBhOERSAAAdjyBhOERSAAAdjyBhOERSAAAdjyBhOERSAAAdjyBhOERSAAA\n",
       "djwEEgIJAMCOh0DC8AgkAMCOh0DC8AgkAMCOh0DC8AgkAMCOh0DC8AgkAMCOh0DC\n",
       "8AgkAMCOh0DC8AgkAMCOh0DC8AgkAACBJJAwPAIJAMCOJ5AwPAIJAMCOJ5AwPAIJ\n",
       "AMCOJ5AwPAIJAMCOJ5AwPAIJAMCOJ5AwPAIJAMCOJ5AwPAIJAMCOJ5AwPAIJAMCO\n",
       "J5AwPAIJAMCOJ5DoscbGxrKyskOHDnV+VUtLS01NTUVFxbZt2w4ePGh4BBIAIJAQ\n",
       "SGlu+vTp4SN+586dKdfXr1+fm5vb/7isrKyVK1caHoEEAAgkBFJ6Onz48NKlS5P9\n",
       "kxJItbW1GRkZ4XrIp3Xr1j3yyCPJP1ZWVhoegQQACCQEUlrZunXrfffdN3DgwOgL\n",
       "RCmB9OCDD4aLjz32WHTlySefDFfy8/MNj0ACAAQSAindAune4zIzM1MCqa2tLSsr\n",
       "K1zcv39/dPHIkSPJoNq3b5/hEUgAgEBCIKWnyZMnpwRSY2NjuDJs2LCUWxYVFYXr\n",
       "27ZtMzwCCQAQSAikuARSbW1tuDJmzJiUW5aUlITrzz77rOERSACAQEIgxSWQduzY\n",
       "Ea4UFRWl3HLmzJnhekVFRffD0yWBBABwRoRQnNc5gZTmWltb555o8eLFPQmk7du3\n",
       "dxlIyScEP2UgxfYNLpAAgDQOJ28EgXTGa2pqSun+vLy8ngRSeDlcGTVqVJe37P6Z\n",
       "vgUSAIBAQiD9JWpra6s9UX19fU8Cae/eveFKdnZ2IpHoeMt77rknXK+pqTE8AgkA\n",
       "EEgIpPTUOZDa29tzc3PDxbq6uuhic3PzgAEDMjIywguGRyABAAIJgRSXQAqmTZsW\n",
       "Lo4fPz76IlLyGRrGjh1reAQSACCQEEjxCqTGxsbkr4UdNmxYaWnp3XffHV7OyMjo\n",
       "/vvrBJIPJwBAICGQzmzJ326UEkjBiy++WFBQED3Bw4gRI7Zs2WJ4BBIAIJAQSBge\n",
       "gQQA2PEQSBgegQQA2PEEkkDC8AgkAAA7nkDC8AgkAAA7nkDC8AgkAAA7nkDC8Agk\n",
       "AAA7nkDC8AgkAAA7nkDC8AgkAAA7nkDC8AgkAAA7nkDC8AgkAAA7nkDC8AgkAAA7\n",
       "nkDC8AgkAAA7nkDC8AgkAAA7nkDC8AgkAAA7nkDC8AgkAAA7nkDC8AgkAAA7nkDC\n",
       "8AgkAAA7nkDC8AgkAAA7nkDC8AgkAAA7nkDC8AgkAAA7nkDC8AgkAAA7nkDC8Agk\n",
       "AAA7nkDC8AgkAAA7nkDC8AgkAAA7nkDC8KSPm6ZUxfkfH/wAYMdDIGF4+L849EYA\n",
       "ADseAgnDg0ACADseAgnDg0ACADseAgnDg0ACADseAgnDg0ACADseAgnDg0ACADse\n",
       "AgnDg0ACAOx4AgnDg0ACAOx4AgnDg0ACAOx4AgnDg0ACAOx4AgnDg0ACAOx4AgnD\n",
       "g0ACAOx4AgnDg0ACAOx4AgnDg0ACAOx4AgnDg0ACAOx4AgnDg0ACAOx4AgnDg0AC\n",
       "AOx4AgnDg0ACAOx4AgnDg0ACAOx4AgnDg0ACAOx4AgnDg0ACAOx4AgnDg0ACAOx4\n",
       "AgnDg0ACAOx4AgnDg0ACAOx4AgnDg0ACAOx4Aom3T2NjY1lZ2aFDhzq/qqWlZceO\n",
       "HRUVFdu3bw8vGx4EEgAIJARSmps+fXr4iN+5c2fHi4lEYtWqVVlZWf2Py83NXb16\n",
       "teFBIAGAQEIgpafDhw8vXbo02T8pgbRu3bpwMTMzc8GCBeXl5TNmzMjIyAhXNm3a\n",
       "ZHgQSAAgkBBIaWXr1q333XffwIEDoy8QdQyk9vb2u+66K1ysrKyMLiZTaty4cYYH\n",
       "gQQAAgmBlG6BdO9xmZmZKYG0Z8+ecGX48OGJRCK6uG/fvnAxJyfH8CCQAEAgIZDS\n",
       "1uTJk1MCqb6+PoTTQw891PFm4WK4WV5enuFBIAGAQEIgxSiQujR79uxws5KSEsOD\n",
       "QAIAgYRAim8gJRKJxx9/PNwmKyuroaHhlMPTJW9ngQQAnBEhZJ0TSGmrtbV17okW\n",
       "L158uoEUiqioqCjcIDs7u7q62mcXEEgAEM9w8kYQSGe8pqamlO7v8ieIThZI7e3t\n",
       "K1asSP4qpNBIjY2NhgeBBAACCYF0pmpra6s9UX19fQ8DKfy7U6dODdcHDRpUXl7e\n",
       "8ensDA8CCQAEEgIpbXUZSMkfOiooKGhqajI8CCQAEEjeCAIpvoEUoigrKysnJ6e5\n",
       "udnwIJAAADueQIp1IG3YsCH5O2EndDJnzhzDg0ACAIGEQEpbJSUlKYG0YMGCkz29\n",
       "48iRIw0PAgkABBICCcODQAIAOx4CCcODQAIAOx4CCcODQAIA7HgCCcODQAIA7HgC\n",
       "CcODQAIA7HgCCcODQAIA7HgCCcODQAIA7HgCCcODQAIA7HgCCcODQAIA7HgCCcOD\n",
       "QAIA7HgCCcODQAIA7HgCCcODQAIA7HgCCcODQAIA7HgCCcODQAIA7HgCCcODQAIA\n",
       "7HgCCcODQAIA7HgCCcODQAIA7HgCCcODQAIA7HgCCcODQAIA7HgCCcODQAIA7HgC\n",
       "CcODQAIA7HgCCcODQAIA7HgCCcODQAIA7HgCCcODQAIA7HgCCcODQAIA7HgCCcOD\n",
       "QAIA7HgCCcODQAIA7HgCCcODQAIA7HgCCcODQAIA7HgCCcODQAIA7HgCCcODQAIA\n",
       "7HgIJMODQAIA7HgIJAyPQAIA7HgIJAyPQBJIAGDHQyBheBBIAGDHQyBheBBIAGDH\n",
       "QyBheBBIAGDHQyBheBBIAGDHQyBheBBIAGDH80YQSBgeBBIAYMcTSBgeBBIAYMcT\n",
       "SBgeBBIAYMcTSBgeBBIAYMcTSBgeBBIAYMcTSBgeBBIAYMcTSBgeBBIAYMcTSBge\n",
       "BBIAYMcTSBgeBBIAYMcTSBgeBBIAYMcTSBgeBBIAYMcTSLwJjY2NZWVlhw4d6uY2\n",
       "r732WrhNXV2d4UEgAYBAQiCls+nTp4eP+J07d57sBolEYsKECeE2y5YtMzwIJAAQ\n",
       "SAik9HT48OGlS5f2P6abQFq9enXyNgIJgQQAAgmBlIa2bt163333DRw4sP9xJwuk\n",
       "3bt3h5vl5OQIJAQSAAgkBFLaBtK9x2VmZp4skNra2kaPHj106NC1a9cKJAQSAAgk\n",
       "BFL6mzx58skCadGiReFVVVVVmzZtEkgIJAAQSAik+AZSTU1NRkbGzJkzw8unFUhd\n",
       "8nYWSADAGRFC1jmBJJC6CKTW1tbhw4fn5eW1tLScbiB5kwokACD9wskbQSCd8ULk\n",
       "zD3R4sWLexhIM2fODBerq6uTfxRICCQAEEgIpDNbU1NTyhdG8/LyehJImzdvDldK\n",
       "S0sPH7dhw4ZwZcmSJeHlo0ePGh4EEgAIJATSGaatra32RPX19T0JpIULF3bz7adr\n",
       "1641PAgkABBICKT01DmQNm7cWHKiUaNGhdvk5+eHl6PvuzM8CCQAEEgIpPQPpM78\n",
       "DBICCQAEEgJJIAkkBBIAYMcTSHFSUlJyykCqqqoKt1m+fLnhQSABgEBCIGF4EEgA\n",
       "YMdDIGF4EEgAYMez4wkkDA8CCQCw4wkkDA8CCQCw4wkkDA8CCQCw4wkkDA8CCQCw\n",
       "4wkkDA8CCQCw4wkkDA8CCQCw4wkkDA8CCQCw4wkkDA8CCQCw4wkkDA8CCQCw4wkk\n",
       "DA8CCQCw4wkkDA8CCQCw4wkkDA8CCQCw4wkkDA8CCQCw4wkkDA9/Ea4sXB/nf/Qh\n",
       "AHY8BBKGB/6PQALAjodAwvCAQALAjodAwvCAQALAjodAwvCAQALAjodAwvCAQALA\n",
       "jodAwvCAQAIAO55AwvCAQAIAO55AwvCAQAIAO55AwvCAQAIAO55AwvCAQAIAO55A\n",
       "wvCAQAIAO55AwvCAQAIAO55AwvCAQAIAO55AwvCAQAIAO55AwvCAQAIAO55AwvCA\n",
       "QAIAO55AwvCAQAIAO55AwvCAQAIAO55AwvCAQAIAO55AwvCAQAIAO55AwvCAQAIA\n",
       "O55AwvCAQAIAO55AwvCAQAIAO55AwvCAQAIAO55AwvCAQAIAO55AwvCAQAIAO55A\n",
       "wvCAQAIAO55AwvCAQAIAO55AwvCAQAIAO55AwvBAGrmycP2P5m2L7T8+AADseAgk\n",
       "DA/wf3HojQBgx0MgYXgAgQRgx0MgYXic3dkdv4N3D17qXe/szu74zu74CKS00tjY\n",
       "WFZWdujQoS5fG65XVVVVVla+8sorhsfZnd3xBZJ3vbN7xHN2x0cgpbnp06eHj/id\n",
       "O3d2TqNx48ZlZGT0P27SpEmvv/664XF2Z3d8geRd7+yO7+yOj0BKQ4cPH166dGky\n",
       "flICKbxqzJgx4XphYeHy5cvnzZt35513hj+GFwyPszu74wsk73pnd3xnd3wEUlrZ\n",
       "unXrfffdN3DgwOirQymB9NRTT4WLxcXF7e3t0b8SrgwZMiSRSBgeZ3d2xxdIpt7Z\n",
       "Hd/ZHR+BlFaBdO9xmZmZnQNp9OjR4WJDQ0PHi2VlZWvWrImSyfA4u7M7fq8ha+L8\n",
       "j6l3dsd3dsdHIKWhyZMnpwTSgQMHwpW77777jWPfa7d9+/bq6urm5mbD4+zO7vjO\n",
       "Hil48iXvemd3fGd3fARSLAJp165d4cqUKVN+8YtfdHyShlmzZoVe6v5vu+GGGwoK\n",
       "CrrYJI5J7+sdHzjicF7v987/zYjb+z1cDO/62L7f3zj2HYZXFq7vdcej4Z/wQso/\n",
       "6X39qpwZP5q3LZ7/hLOHPI7tPzdkT3T2eP4jkARSrAPpN7/5TbgyYMCA8L8TJkxY\n",
       "sWLF/Pnzs7Ozwx9LS0tP+dkFAADSj7VZIJ3xWltb555o8eLFPQmkTZs2Jcfg0Ucf\n",
       "jS7W1dUlk2n37t3etgAAIJDOME1NTSndn5eX15NAeuGFF5K3P3jwYMdbTpw4MVx8\n",
       "5plnvG0BAEAgnWHa2tpqT1RfX9+TQHr55ZfDlZycnJRbzp07N1xfuXKlty0AAAik\n",
       "9NQ5kNrb2wcPHhwuNjU1dbxlcXFxuLhx40ZvNAAAEEhxCaRg1qxZ4eK0adOOHj2a\n",
       "vLJly5ZwJTs7u4fP9w0AAAikNAmkAwcODB8+PFwvKCiYN29eSUlJ8vm+ly9f7i0G\n",
       "AAACKW2F+OkcSEFDQ8PEiRNzc3OTT9gwYsSIiooKby4AABBIAAAAAgkAAEAgAQAA\n",
       "CCQAAACBBAAAIJD447W0tNTU1FRUVGzbtu3gwYNxO/uOHTvC2bdv3x5eju3HwGuv\n",
       "vVZWVlZXVxerUx86dKiqqqqysvKVV16J23s8nL26urq8vDz8b0x+PVpjY2P4IA8H\n",
       "j+FjYPdnT/vHwG6On/aPgd2fPe0fA7s5fho/Bp5yqOO89Qkkemr9+vXRs4EHWVlZ\n",
       "K1eujMPBE4nEqlWrwnmjs4e3w+rVq2P4MRDeFBMmTAhvgWXLlsUnD8aNG5f8/WBJ\n",
       "kyZNev3112Ny/PBxnjL1TzzxRNqfevr06V3+UoQ4PAZ2efb4PAae7F0fh8fAk509\n",
       "Jo+BJzt+uj4G9mSoY7v1CSROQ21tbfLxMTyIrFu37pFHHkn+sbKyMu3PHs4bTpqZ\n",
       "mblgwYLy8vIZM2Ykz75p06a4fRiER8/kA2VMAunw4cNjxowJ5y0sLFy+fPm8efPu\n",
       "vPPO8MfwQhyO/9xzz4XDDhgwIMx7+MgvLS1N/tc0jX9VWniPL126NPlBnrIqpf1j\n",
       "YDdnj8NjYDfHT/vHwG7OHofHwG6On8aPgacc6jhvfQKJ0/Dggw+GwXjssceiK08+\n",
       "+WS4kp+fn94Hb29vv+uuu1IeFJIPpuPGjYvVx8Du3bsHDhyYk5MTn0B66qmnwmGL\n",
       "i4vDh0HyytatW8OVIUOGJBKJtD9+8lOqHT9dOn/+/HBl/Pjx6XfY8J697777wkd4\n",
       "9OnSlFUpjR8Duz972j8GnvJdn8aPgac8e3o/Bp7y+On6GNiToY7t1ieQOA1tbW3J\n",
       "z5rs378/unjkyJHkw8q+ffvS+Ox79uwJZxw+fHjH/xiEI4eL4T+TsfoYGD169NCh\n",
       "Q9euXRufQApHDodtaGjoeLGsrGzNmjXRupDGwhIQjr9ly5boSvLzqQUFBWkZSPce\n",
       "l5mZmbIqpfdjYPdnT/vHwO6Pn96Pgac8e3o/Bp7y+On6GHjKoY7z1ieQOA2NjY1h\n",
       "JIYNG5ZyvaioKFzftm1bGp+9vr4+PHQ+9NBDKRfDwfPy8uLzMbBo0aJw5Kqqqk2b\n",
       "NsUkkA4cOBBOevfdd79x7Hswtm/fHp9nKUgK7+XwFnj44YejKzNnzgxXFi5cmN4H\n",
       "nzx5csqqFJ/HwM5nj9VjYOfjx+cxsPPZY/UY2OW7Pl0fA0851HHe+gQSp6G2tjaM\n",
       "xJgxY1Kul5SUhOvPPvts3N4gs2fPDgcPx4/JeWtqajIyMsJ/GMLL8QmkXbt2hZNO\n",
       "mTLlF7/4RccfUJ41a1bYFeLwfg+bUGFhYTjyAw88ELbD5OeS8/PzO35OMSarUnwe\n",
       "A7sphDg8Bp7s+HF4DOx89lg9Bnb5ro/VY2DHobb1CSR6ZMeOHWEkioqKUq4nP5WS\n",
       "xj+x3VkikXj88ceTT+eS8l0H6aq1tXX48OF5eXnJ5wCNTyD95je/Sf54bvjfCRMm\n",
       "rFixYv78+dnZ2eGPpaWlcXjXt7e3h1P3P9HSpUvT/uevOq9K8XkMPGUgpfdjYJfH\n",
       "j8ljYOezx+oxsMt3fUweAzsPta1PINEj27dv73JUkj+/GJ9RCQ8cya8vh/9CVFdX\n",
       "x+TUyQfE6LzxCaTkSYNHH300ulhXV5dcF3bv3p32b4E5c+YkP9oXLVq0cePGsBYM\n",
       "GjQo+SS/cQuk+DwGdh9Iaf8Y2OXxY/IY2PnssXoM7PJdH4fHwC6H2tYnkOiR8JAR\n",
       "RmLUqFFdPqDE4Tkfk59GSv7MYnjIaGxsjMm7fvPmzclPFh4+bsOGDeHKkiVLwstH\n",
       "jx5N47O/8MILyeUg5bfjTZw4MVx85pln0vtdH965ubm5GRkZtbW10cXks3iF4x84\n",
       "cCBWgRSfx8CTBVJMHgM7Hz8+j4Gdzx6rx8DOx0/7x8BuhtrWJ5Dokb179yY/u5Dy\n",
       "ZeV77rknXK+pqUnv47e1tU2dOjWcdNCgQeXl5XF4fufIwoUL+5/c2rVr0/jsL7/8\n",
       "cpfP0zV37txwPe1/X16Y6y6f0XXSpEnhetgRYxVI8XkM7DKQ4vMY2Pn48XkM7Hz2\n",
       "WD0Gdj5+ej8Gdj/UMd/6BBKn8WmG5G9Trquriy42NzcPGDAgIyMj7Z/XK/m9uQUF\n",
       "BU1NTXF712/cuLHkRKNGjUr+NyO8nN7fZxg+7AcPHhwOm/J+Ly4uDhfDWya93/Vh\n",
       "2MMxR44cmXL9/vvvTz6XV6wCKT6PgV0GUnweAzsfPz6PgV1+2MfnMbDz8dP7MbD7\n",
       "oY751ieQOA3Tpk1L/nK06NMJyW/LHjt2bHofPDx2ZGVl5eTkeERIis/PIAWzZs0K\n",
       "hw0f/NE30mzZsiX5ebW0/3iIfg/GunXroql//vnnM45J70W5y0iIyWNg57PH6jGw\n",
       "J0/iF5+fQYrVY2Dn46fxY2BPhjq2W59A4vQ0NjYmv+922LBhpaWld999d3g5PEak\n",
       "/Vdak99uHh5HJnQyZ84cgZTeDhw4MHz48OSn2ebNm1dSUpJ8rtvly5fH4fi/+tWv\n",
       "kt9HFKb+kUcemTJlSvL4HX+vfHy25Jg8BnY+e6weAwVSytnj8xjY5fHT9TGwJ0Md\n",
       "261PIHHaXnzxxfAQGX3v9YgRIzr+eul0tWDBgpN993nnr7zHQVVVVXwK4Y1jz/Az\n",
       "ceLE5DcbJD/sY/UEPuvXrw9Hjj7mhw4dGjaG9vb29D518nd9dN6S4/AY2PnssXoM\n",
       "PNm7Pg6PgSc7e0weA092/LR8DOzhUMdz6xNIvEktLS319fUpz2kD6S385/DVV/+/\n",
       "9u48JIr/j+P4r0zTyiwrurHsMjtJMii6y+igQ1MLS4nssDuDQKKolIpK6KKiiy4w\n",
       "o7vowrBLKrXsoosoKy1KsTTLMt2+b3rDML/dVvf7+xUdPh9/7Xz2PfOZz+wo+2J2\n",
       "PpNVWFhYMYcvf+/Pnj37u2eu438gwP9A/gfyH4+ABAAAAAAEJAAAAAAgIAEAAAAA\n",
       "AQkAAAAACEgAAAAAQEACAAAAAAISAADfl5ycfPjw4Yo59qysrMTExEePHnEaAAAB\n",
       "CQDwU+Tk5Lg5ICgoSIqjoqLk9eLFi3/V3mZkZFSpUmXgwIF/00ewceNGOaphYWHl\n",
       "Vubm5tasWbNTp04lJSWcugBAQAIA/Hhv3rz5jwMGDBggxRMnTpTXCxYs+CW7KqnA\n",
       "z8+vUqVKN27c+Js+gvXr18tRHTZsmCPFS5YskeJNmzZx6gIAAQkA8ONZLJaC/9ai\n",
       "RQv5Ch4TE2Nu/PjxoxQnJiZOnz791KlTv2RXExISZMcCAwP/so/gXwUk+Szc3d3r\n",
       "16//6dMnzl4AICABAH661q1by/f1X/g7Onu6d+8uO3bs2LGKHJBERESE1O/cuZNz\n",
       "FQAISACAXxmQtm/fHh4efuDAAV1cs2aNLN69ezc5OTkyMrJ9+/bdunWbN29eQUGB\n",
       "vLtnz56QkBBvb28/P7+ZM2dmZWWZN5WWljZt2jR/f39ZKyoq6uDBg2Xv1a1bt2Sv\n",
       "6tSpU1xcbDQmJSWFhobKFpo3by5dz5kzx3YCA0c6OnfunNa0aNGiX79+y5cvz8/P\n",
       "t6q5du3a7Nmze/bsKTUjRoyIjY19+/at8a5xKC5cuDB16tQOHTq0atUqODg4IyPD\n",
       "ajtHjx6dOHFix44dW7ZsGRQUJF3bBqSyx3X27Fmpl6PKuQoABCQAwK8MSFb3IA0a\n",
       "NEgWx44dW6VKFfMNS8OHD5eYZHUXk+QBDU4iPj7e2dnZqiA6OrqMvVq1apXUBAQE\n",
       "GC2rV6+2vVfKw8Pj9u3bRk25HVksloULF1aqVMmqpmnTptnZ2UbZsmXLrMYovLy8\n",
       "JDWZD4WkLBcXF3ONLF65ckVrSkpKZsyYYbvPcmTMAanccRUWFmrjy5cvOV0BgIAE\n",
       "APi9ApLo3r37pUuXXr16JYHE+E7fv3//hISErKysDRs2aMuhQ4e+frtcI6+dnJwk\n",
       "mTx+/PjJkydxcXGaK9avX29vr4YOHSoFU6ZM0cXPnz9Xq1ZNW54+fZqfn5+UlOTt\n",
       "7S0tISEhWuNIRwcOHNB9Cw8PlyQjZfJWnTp1pGXw4MFac/z4ca2RltTUVIkliYmJ\n",
       "DRo0kJYmTZro3VnGoejcubP0K6PetWuXvCstI0aM0O3s2LFDayIjI9PT0zMzM/fu\n",
       "3Vu3bl1t1IDkyLhEvXr1pGX37t2crgBAQAIA/F4BqXnz5kVFRUZN+/bt9YqHJgfV\n",
       "rVs3aVy+fLlRYLX9tWvXSqN0bW+vGjZsKAUrVqzQxXv37mmuuH79ulFz8uRJT0/P\n",
       "Ll26mPekjI4sFouvr68sjhkzxlyzbt06aXR2dtYf2vn4+Og8flJv1EiUqlq1qjEo\n",
       "PRSSdt69e2fUyN5Ko8QbeV1aWtqsWTNZtJrOWwai16Y0IDkyLtG1a1epmTlzJqcr\n",
       "ABCQAAC/V0BaunSpuWb48OHSOGnSJHOjJBBpjI2NNWYVz87OLjKRKKLXdtLT0237\n",
       "lWSiKWLfvn3aInlDr+FI6ti6davtj80c6UjW0pq0tDTzusXFxadPnz5z5oy8MGqM\n",
       "X8oZpkyZIu36UCY9FLNmzTIXZGRkSKO7u7u8zszMtE0+Kjg42AhI5Y5LhYSESI2s\n",
       "yOkKAAQkAMDvFZA2b95srhk1apQ0xsfHmxvHjRunAen8+fNlP3BJf4ZnJS8vT9+9\n",
       "evWq0bhr1y43NzdjRW9v78jIyOTkZH3XkY4uXryov8Er47mrskGpqVy5svkqmdqy\n",
       "ZYveiWQcirVr15oL7ty5I401atT4+m3eBXt9rVy50nwPUtnjUvPnz5e3evfuzekK\n",
       "AAQkAMAfHJBOnDih3/ub2ZGQkGDbb35+vq51+fJlc/vjx49lP/39/c0zKEyYMMFi\n",
       "sTjS0ZEjR4wAY8/JkyelRrZv/n2d0ucyeXp62jsU5oCkNzK5uLjYdqH3aJlnsStj\n",
       "XFogH4G09OjRg9MVAAhIAIA/OCDJV3+9IGOerdsRrq6usuLevXu/+25hYaGkHQkM\n",
       "miWSk5Md6ejmzZtan5eXZ24vLS2VQW3cuDE7O/v+/fta8/z5c6vVZTjSLjHGkYBk\n",
       "bOfVq1dW24mOjrb3HCTbcWl7WFiYLI4cOZLTFQAISACAPzggSfZwd3eX18bDlFRm\n",
       "Zqb06+3tbfW4JIOXl5duQRePHz/u4+MzevRoc01BQUHNmjWlbM2aNY509OHDBycn\n",
       "J6nZsGGDuSYxMVHDVW5uruQrnVZu4cKF5prPnz/r9NxyTBwJSFJfvXp1WYyLi7Pa\n",
       "jt50pAGp3HFpi0amyZMnc7oCAAEJAPAHByR5vWjRInnduHFj44YiCSo6tYNkA3t7\n",
       "FRQUZKQRcfv2bb2l5+jRo0bN/fv3dWa5pKQkBzuKjIzUn8kZczA8ePCgY8eO0tir\n",
       "Vy9tkWgki66ursYUEbKd8ePH60/vpN6RgCRiYmJkUWLSsWPHtOXTp0+ShczTfDsy\n",
       "LtGoUSPb7gAABCQAwJ8XkAoKCtq2basxoEOHDpJD9Nu/hI3Tp0/b2yvpRWr69eun\n",
       "ixaLJSAgQKOF5JnAwMA+ffrodnx9fXWGcUc6evnypU4gLjWdO3fWmcGFm5vb3bt3\n",
       "teb9+/edOnXSdtnggAED9EFJ5hn8HAlIeXl57dq10xXbtGnTt29fvS6kV6g0IDky\n",
       "LolV+mRbCU6crgBAQAIA/Fz6Jf67AWnq1KnmtzQVbNu27V8FpK/frsBMnjzZw8PD\n",
       "mIFAwkAZ6Ug8f/5cMoysIvFAWyT/REVF6e/WlKura2ho6OvXr421HOkoJycnODhY\n",
       "U4rx3Furib+l07lz5xoPdZV8IgnHfJHnu4dC7zuqVauW0SJZKzw83Ngf2eGIiAh9\n",
       "uq5xD1K549LJ93T2PAAAAQkA8Pd4+vTptWvXzJGmDIGBgbb3FBUVFT169CglJUXS\n",
       "iMSh/7mj0tLSBw8epKen68Nh7Xnx4kVqaqrknP9n1BaLRfb2zp07X758sVdTxrgk\n",
       "8hkPqAUAEJAAABXUpUuX7M32VnFIWKpdu7arq2tubi6nBAAQkAAAFdqQIUMkI6Wm\n",
       "plbYI7Bs2TLbKfUAAAQkAEBF9PDhQxcXl/79+1fM4efm5np4ePj4+Bg3YgEACEgA\n",
       "gAotJSVl//79JSUlFTMgydglJXIaAAABCQAAAAAISAAAAABAQAIAAAAAAhIAAAAA\n",
       "EJAAAAAAgIAEAAAAAAQkAAAAACAgAQAAAAABCQAAAAAISAAAAABAQAIAAAAAAhIA\n",
       "AAAAEJAAAAAAgIAEAAAAAAQkAAAAACAgAQAAAAABCQAAAAAISAAAAABAQAIAAAAA\n",
       "AhIAAAAAEJAAAAAAgIAEAAAAAAQkAAAAACAgAQAAAAAISAAAAABAQAIAAAAAAhIA\n",
       "AAAAEJAAAAAAgIAEAAAAAAQkAAAAACAgAQAAAAABCQAAAAAISAAAAABAQAIAAAAA\n",
       "AhIAAAAA/FD/AEkvPw+8CecVAAAAAElFTkSuQmCC\" style=\"clip-path:url(#clipPath2);\" height=\"840\" preserveAspectRatio=\"none\"\n",
       "    /></g\n",
       "  ></g\n",
       "></svg\n",
       ">\n"
      ]
     },
     "metadata": {},
     "output_type": "display_data"
    }
   ],
   "source": [
    "step(H)"
   ]
  },
  {
   "cell_type": "markdown",
   "metadata": {
    "slideshow": {
     "slide_type": "subslide"
    }
   },
   "source": [
    "What about the sequence values?"
   ]
  },
  {
   "cell_type": "code",
   "execution_count": 7,
   "metadata": {
    "slideshow": {
     "slide_type": "fragment"
    }
   },
   "outputs": [
    {
     "name": "stdout",
     "output_type": "stream",
     "text": [
      "\n",
      "ys =\n",
      "\n",
      "    4.0000\n",
      "    4.0000\n",
      "  -11.0000\n",
      "  -11.0000\n",
      "  -14.7500\n",
      "  -14.7500\n",
      "  -15.6875\n",
      "  -15.6875\n",
      "  -15.9219\n",
      "  -15.9219\n",
      "  -15.9805\n",
      "  -15.9805\n",
      "  -15.9951\n",
      "  -15.9951\n",
      "  -15.9988\n",
      "  -15.9988\n",
      "  -15.9997\n",
      "  -15.9997\n",
      "  -15.9999\n",
      "  -15.9999\n",
      "  -16.0000\n",
      "\n"
     ]
    }
   ],
   "source": [
    "ys = step(H)"
   ]
  },
  {
   "cell_type": "markdown",
   "metadata": {
    "slideshow": {
     "slide_type": "notes"
    }
   },
   "source": [
    "Does the sequence match the theory?"
   ]
  },
  {
   "cell_type": "markdown",
   "metadata": {
    "slideshow": {
     "slide_type": "subslide"
    }
   },
   "source": [
    "### Impulse Response\n",
    "\n",
    "How about impulse response?"
   ]
  },
  {
   "cell_type": "code",
   "execution_count": 8,
   "metadata": {
    "slideshow": {
     "slide_type": "fragment"
    }
   },
   "outputs": [
    {
     "data": {
      "image/svg+xml": [
       "<?xml version=\"1.0\"?>\n",
       "<!DOCTYPE svg PUBLIC '-//W3C//DTD SVG 1.0//EN'\n",
       "          'http://www.w3.org/TR/2001/REC-SVG-20010904/DTD/svg10.dtd'>\n",
       "<svg xmlns:xlink=\"http://www.w3.org/1999/xlink\" style=\"fill-opacity:1; color-rendering:auto; color-interpolation:auto; text-rendering:auto; stroke:black; stroke-linecap:square; stroke-miterlimit:10; shape-rendering:auto; stroke-opacity:1; fill:black; stroke-dasharray:none; font-weight:normal; stroke-width:1; font-family:'Dialog'; font-style:normal; stroke-linejoin:miter; font-size:12px; stroke-dashoffset:0; image-rendering:auto;\" width=\"560\" height=\"420\" xmlns=\"http://www.w3.org/2000/svg\"\n",
       "><!--Generated by the Batik Graphics2D SVG Generator--><defs id=\"genericDefs\"\n",
       "  /><g\n",
       "  ><defs id=\"defs1\"\n",
       "    ><clipPath clipPathUnits=\"userSpaceOnUse\" id=\"clipPath1\"\n",
       "      ><path d=\"M0 0 L560 0 L560 420 L0 420 L0 0 Z\"\n",
       "      /></clipPath\n",
       "      ><clipPath clipPathUnits=\"userSpaceOnUse\" id=\"clipPath2\"\n",
       "      ><path d=\"M0 0 L1119.9999 0 L1119.9999 839.9999 L0 839.9999 L0 0 Z\"\n",
       "      /></clipPath\n",
       "    ></defs\n",
       "    ><g style=\"fill:white; stroke:white;\"\n",
       "    ><rect x=\"0\" y=\"0\" width=\"560\" style=\"clip-path:url(#clipPath1); stroke:none;\" height=\"420\"\n",
       "    /></g\n",
       "    ><g transform=\"scale(0.5,0.5)\"\n",
       "    ><image x=\"0\" y=\"0\" width=\"1120\" xlink:href=\"data:image/png;base64,iVBORw0KGgoAAAANSUhEUgAABGAAAANICAIAAAAHNA4rAABL4ElEQVR42uzdC3CV\n",
       "9Z34f6hVqr1tbce6aKvb3e1Ye1vtdtf/dLtjf71OtbWXbbv2YttfW0JuoCIpWDTI\n",
       "ZUgJygqyAQIoinKpgIUBdIASYhCBJWJBIMFKiJKGCoGwSaiEHP/fH8/wTDgJyaFW\n",
       "kfO8XuM44cmR5HuSz/HzhuSkz6sAAAAc18ddAAAAIJAAAAAEEgAAgEACAAAQSAAA\n",
       "AAIJAABAIAEAAAgkAAAAgQQAACCQAAAABBIAAIBAAgAAEEgAAAACCQAAQCABAAAI\n",
       "JAAAAIEEAAAgkAAAAAQSAACAQAIAABBIAAAAAgkAAEAgAQAACCQAAACBBAAAIJAA\n",
       "AAAEEgAAgEACAAAQSAAAAAIJAABAIAEAAAgkAAAAgQQAACCQAAAABBIAAIBAAgAA\n",
       "EEgAAAAIJAAAAIEEAAAgkAAAAAQSAACAQAIAABBIAAAAAgkAAEAgAQAACCQAAACB\n",
       "BAAAIJAAAAAEEgAAgEACAAAQSAAAAAIJAABAIAEAAAgkAAAAgQQAACCQAAAABBIA\n",
       "AIBAAgAAEEgAAAACCQAAQCABAAAIJAAAAIEEAAAgkAAAAAQSAACAQAIAABBIAAAA\n",
       "AgmAN53c3NzzT/jjH//4Znv3Pv7xj0fv2x133PFG3hVpLrnkkq985SuLFy/2CQOA\n",
       "QALIZj/72c/6nNDQ0PBme/f+8R//MXrfhg0b9kbeFady6623+pwBQCABCKTEBdJ5\n",
       "x731rW9Na6SKigqfNgAIJACBlKBAiu+KY8eOrVu37stf/nL8qiFDhvi0AUAgASQl\n",
       "kIqKim46btOmTUuXLv3Od75z6aWXXn311fn5+c3NzeEGM2fO/NrXvvb+97//4x//\n",
       "+MCBA1988cX4dysoKIj+2+eee27KlClf/OIXL7744s985jMhKurq6jq/3Ztvvjm6\n",
       "5RNPPBFfrKioiC7+9Kc/7SGQ1q5d+5Of/ORjH/vYRRdd9IEPfOCaa64ZM2bMvn37\n",
       "Ov/+W7ZsycvLC68K7+cXvvCFO+64I+0dOK1WrKqqil/1jW9843TfUM/vcOZ3WiRc\n",
       "DPfe5z73uXCz8CH4wQ9+MG/evM43iH/D7du3L1q0KLzD/fv3/+AHP/itb31r69at\n",
       "mb9jr+XOBBBIAGRJIMVNcu21177lLW/p/NVl4covfvGLtC85C8t3U1NT9Lu9+93v\n",
       "ji5eddVVaTcLK/hTTz0Vv934lhMnTowvlpeXRxfPOeecUwVSyLO09ypy+eWX7969\n",
       "O7pNSUnJeeed1/UdWL9+/V8WSBs3boxfVVxcHF/P5A31+g5nfqdFv9s73vGOrr/b\n",
       "ddddd+DAgbT79vrrr+/bt2/nm51//vmbN2/O/J78i+9MAIEEQLYFUhDW6/DLkCtp\n",
       "+/Fll13Wr1+/rs0Qr+ZBWL7/6Z/+qfPvdskll7zyyiuvJZBSqdR73vOe6Mo111xT\n",
       "Wlo6YMCAt7/97dGVH//4x+E2jz76aPwWP/jBD1599dXxL8Mt//SnP51uIO3Zs+d7\n",
       "3/te/KrVq1dH1zN5Q5m8w5nfaf/zP/8Tfyze9ra3hd8wvDa+ZfS7pf2GwTvf+c7O\n",
       "v7zxxhszfMdey50JIJAAyLZAOu+885588slwZfv27WEdj5Np5cqV4eKLL7743ve+\n",
       "N7r4zW9+M201D/9tdLPg7rvvjt/EtGnTXksgPffcc/FvNX/+/Og248aNe+dxH/nI\n",
       "R44cOdK/f//oBvn5+R0dHeEGzz//fBwDPTxdeOe74vLLL/+H40IKdq6Lr3/968eO\n",
       "HQs3zvAN9foOn9adFkombpX4L3kGDx4c3zL6W534N7zgggvmzZt39OjRZ599Nj7I\n",
       "hz70oQzfsddyZwIIJACyLZBuuOGG+Gb/+q//Gl389Kc/HV/8zne+E10Mr03Lnu9/\n",
       "//ud38qVV14ZXQ//yWsJpPAexu9tv379fvzjHz/44INhZY9/hw0bNsQht3Hjxu0n\n",
       "fOMb34jTIpO7oluf/OQno+/CyvwN9foOZ36ntbW1xV8RV1ZWFt8sZExcLKFwOv+G\n",
       "P/rRj+Kb/fSnP42rKcN37LXcmQACCYBsC6ShQ4fGN/viF78YXfyP//iP+GL8/Uhd\n",
       "A+m///u/O7+V/Pz86PqnPvWp1xJIQaiIbr9tZvTo0a2trTNmzOg5cs4999xM7or+\n",
       "/fv//XEXXnhh2ndhRTfO/A31/A5nfqdt3rw5/s+3bdvW+ZbxR+eHP/xh599w1KhR\n",
       "8W0mTZqUdt/2+o69ljsTQCABkG2B1PmJ4770pS9FF//zP/8zvpiTk3OqQJo1a1bn\n",
       "txJaK7oekiPtlvfcc098sylTpvQaSO3t7eE3/7d/+7euP6Ho85//fGlpaa8/7DV+\n",
       "Sole74qgo6Nj3bp18V/mBOGX4fqECRMyfEM9v8OpVCrDO+3JJ5+M/8OamprOt/z6\n",
       "178efwVg5vHZ6zuW+RkBEEgAAqmnQBo+fHjnt/Ktb30r3ryjK/FXheXm5sY3u+OO\n",
       "O3oNpFhzc/Nvf/vbgoKCv/mbv4mPUFZWFn9V2B//+McD3Qmrf+aBFOn8dylR0S1b\n",
       "tux031C37/Bzzz2X4Z3W2NgY/1crVqzofMuPfOQj0fVf/vKXmQdSr+/YX3BGAIEE\n",
       "gEDqJpAuvfTSgwcPRhd3794dP+Vd2MLTyueqq66Krvz5z3/+2Mc+1nMgTZs27R3H\n",
       "/fM//3P8bnT+q5X58+fHT2w9d+7c+DYLFiz4/4676aabMr8rYk1NTfGroq88rK+v\n",
       "z+QN9foOr1mzJvM77aKLLoqufO1rX4vLZNWqVfHv9vDDD2cYSJm8YxmeEQCBBCCQ\n",
       "egmk4KMf/Whpaem4ceM+8IEPxM9hvWPHjuiWX/7yl+Nbhi4aOHDg+973vvhKJs9i\n",
       "d8stt4SKeOGFF3784x9HV9761re2tLT85Cc/iZ8U7vrrr580aVI4Y/wsfGnf55Nh\n",
       "IAUXXHBB9Kpf/OIX0ZVM3lAm73Dmd9rkyZM7/+CjqVOn/upXv4p/LNIVV1wRPSF4\n",
       "JoGUyTuW4RkBEEgAAqmXQOr2J5DefPPN8X+7YMGCrjeInxGhhy+xi586r6vCwsJw\n",
       "g5dffvnv/u7vur3Btdde++c///kvC6T4b7firxLM8A31+g5nfqd1dHR84Qtf6Pa3\n",
       "CplUVVWV9lHo+Uvsen3HXsudCSCQADgrDRw4MF55o5/7GT8hQeefcvPVr361h0D6\n",
       "zGc+k7aajx079rvf/W78U01D+ZSWlnZ+u6lUqqSk5Nxzz43b4Lrrrlu+fHnaEt/1\n",
       "nWlvbx8xYsTFF1/ceVkPvywuLo6/6ux///d/c3Nz4x97Gv2w1MGDB0dPzpb5XdHZ\n",
       "TTfdFD8pdvyFcJm8oV7f4czvtKiRQvZ0/tu2cB9ef/31dXV18W26DaT777+/65M0\n",
       "9HpP/sV3JoBAAoD01Tzs1pWVlTU1Naf6Vv6WlpZ169atWbPm0KFDp/WGwnJfW1tb\n",
       "cVz4/aMf3tq1JXbt2rVy5cqtW7e2tbW9fqfO5A318A6f7p0WaWho+N3vfhfe4tGj\n",
       "R1/LO5/JPflG3pkAAgmArA0k3GkAAgkAu75d350GIJAASLz3vve9bz3u3nvvdW+4\n",
       "0wAEEgAAgEACAAAQSAAAAAgkAAAAgQQAACCQAAAABBIAAIBAAgAAEEiJdejQoYqK\n",
       "irq6OncFAAAIpERLpVITJ04cMGDA0qVL3RsAACCQEm3VqlUDjhNIAAAgkBJt7969\n",
       "+fn5hYWFAgkAAARSorW3t48ePXrIkCFr1qwRSAAAIJASbeHChaGLqqurN23aJJAA\n",
       "AEAgJVdNTU1OTs7MmTPDywIJAAAEUnK1tbUNGzasqKiotbX1tALpUwWTzuA//QfP\n",
       "HQAAwOvAhiyQEm3mzJlhDLZt2xb9MvNAOrPDc+2U6jP41pP8wJHwB00fesd3dmd3\n",
       "fGd3fARSNtu8eXOYgfLy8iMnrF+/PlxZvHhxePnYsWMCyQOHszu+s/vQO7vjO7vj\n",
       "I5CSYsGCBT387eqaNWsEkgcOZ3d8Z/ehd3bHd3bHRyAlxcaNG8tONmrUqDAVxcXF\n",
       "4eX46+4EkgcOZ3d8H3pnd3bHd3bHRyAlke9B8sDh7I7v7I7v7M7uQ+9Dj0BCIHng\n",
       "cHbHd3bHd3Znd3wfeoEkkDhZdXV1mIply5YJJA8czu74zu74zu7T3tkdH4HE2TE8\n",
       "ZzaQAADseAgkBBIAgB0PgYRAAgCw4yGQEEgAAHY8BBICCQDAjodAQiABANjxEEgI\n",
       "JAAABJJAQiABACCQBBICCQAAgSSQEEgAAAgkgYRAAgBAIAkkBBIAAAJJICGQAAAQ\n",
       "SAIJgQQAgEASSAgkAAAEkkBCIAEAIJAEEgIJAACBJJAQSAAACCSBhOERSAAAAkkg\n",
       "YXgEEgCAQBJIGB6BBAAgkAQShkcgAQAIJIGE4RFIAAACSSBheAQSAIBAEkgYHoEE\n",
       "ACCQBBKGRyABANjxBBKGRyABANjxBBKGRyABANjxBBKGRyABANjxBBKGRyABANjx\n",
       "BBKGRyABANjxBBKGRyABANjxBBKGRyABANjxBBKGRyABANjxBBKGRyABANjxBBKG\n",
       "RyABANjxEEgIJAAAOx4CCYEEAGDHQyAhkAAA7HgIJAQSAIAdD4GEQAIAsOMhkBBI\n",
       "AAB2PAQSAgkAwI6HQEIgAQAgkAQSAgkAAIEkkBBIAAAIJIGEQAIAQCAJJAQSAAAC\n",
       "SSAhkAAAEEgCiUy1trbu3Lmzqqpqx44d4WWBBAAgkBBISZRKpVauXJmXlzfghEGD\n",
       "Bq1atUogAQAIJARS4qxduzaMQW5u7vz58ysrK2fMmJGTkxOubNq0SSABAAgkBFKC\n",
       "dHR03HbbbWEMNmzYEF9csmRJuDJ+/HiBBAAgkBBICbJv374wA8OGDUulUvHF/fv3\n",
       "h4uFhYUCCQBAICGQEqS+vv7OO+984IEH0i6GwSgqKhJIAAACCYGUdPfff38YjLKy\n",
       "MoEEACCQEEjJlUqlHn300TAVeXl5DQ0NvQ5PtwQSAMBZEUJndp0TSLzZhSIqKSkJ\n",
       "I1FQULBt27Y3+Z8uCCQAgNcpnNwJAinpOjo6li9fHv0opNBIjY2Nb/7hEUgAAAJJ\n",
       "IPHX197ePnXq1DAJgwcPrqys7Px0dgIJAEAgIZCSJfqmo5EjRzY1NZ1FwyOQAAAE\n",
       "kkDiryxEUV5eXmFhYXNz89k1PAIJAEAgCST+ytavXx/9TNiJXcyePVsgAQAIJARS\n",
       "gsyfP/9UT+84YsQIgQQAIJAQSJwFwyOQAAAEkkDC8AgkAACBJJAwPAIJAEAgCSQM\n",
       "j0ACABBIAgnDI5AAAASSQMLwCCQAAIEkkDA8AgkAQCAJJAyPQAIAsOMJJAyPQAIA\n",
       "sOMJJAyPQAIAsOMJJAyPQAIAsOMJJAyPQAIAsOMJJAyPQAIAsOMJJAyPQAIAsOMJ\n",
       "JAyPQAIAsOMJJAyPQAIAsOMJJAyPQAIAsOMJJAyPQAIAsOMhkBBIAAB2PAQSAgkA\n",
       "wI6HQEIgAQDY8RBICCQAADseAgmBBABgx0MgIZAAAOx4CCQEEgCAHQ+BhEACAEAg\n",
       "CSQEEgAAAkkgIZAAABBIAgmBBACAQBJICCQAAASSQEIgAQAgkAQSAgkAAIEkkBBI\n",
       "AAAIJIGEQAIAQCAJJAQSAAACSSAhkAAAEEgCCYEEAIBAEkgYHoEEACCQBBKGRyAB\n",
       "AAgkgYThEUgAAAJJIGF4BBIAgEASSBgegQQAIJAEEoZHIAEACCSBhOERSAAAAkkg\n",
       "YXgEEgCAHU8gYXgEEgCAHU8gYXgEEgCAHU8gYXgEEgCAHU8gYXgEEgCAHU8gYXgE\n",
       "EgCAHU8gcVZpbW2tqampqqravn374cOHBRIAgEBCICXUunXrBg0aNOCEvLy8FStW\n",
       "CCQAAIGEQEqc2tranJycMAnTp09fu3btQw89FP1yw4YNAgkAQCAhkJLl3nvvDWPw\n",
       "yCOPxFcef/zxcKW4uFggAQAIJARSgrS3t+fl5YUxOHDgQHzx6NGj+fn54eL+/fsF\n",
       "EgCAQEIgJUVjY2OYgaFDh6ZdLykpCde3b98ukAAABBICKSlqa2vDDIwdOzbtellZ\n",
       "Wbj+9NNPCyQAAIGEQEqKnTt3hhkoKSlJuz5z5sxwvaqqqof/9lPHDehi5HFdb//X\n",
       "vT7y8RfO4D+Xj1n3Op0rk+vhrZ/Zs7/B5027Htr4DB4/LvM3/uP+/x5zb119Bs8e\n",
       "3rqP+xn5uJ/xqQ8f+jP4z5k9e/jnJ3O3n8F/zuzZ/ZP1/3yqYFK3/wgkgZRoO3bs\n",
       "6DaQpk+f3msgJXl4OgdS0t76Gf+7u/CAntjj+8Q7g591Z3ZL9nfmwBtJIAmkRNu1\n",
       "a1eYgVGjRqVdv++++3p9pm+BZE8VSD7xkvOJByCQEEiJ8PLLL4cZKCgoSKVSna/f\n",
       "cccd4XpNTY3hsacKJIHkEw9AICGQkqKjo2PQoEFhDOrq6uKLzc3NAwcOzMnJCS8Y\n",
       "HnuqQBJIPvEABBICKUGmTZsWxmDChAnxXyJFz9Awbtw4w2NPFUgCyScegEBCICVL\n",
       "Y2Nj9GNhhw4dWl5efvvtt4eXc3Jyev76OoFkTxVIPvEEEoBAQiBlp+eff37kyJHx\n",
       "83QPHz58y5YthseeKpAE0kmP+Gf0uZ4FEoBAEkgYHoEkkATSm+hDD4AdD4GE4RFI\n",
       "AkkgAWDHQyBheASSQBJIANjxEEgYHoEkkAQSAHY8BBKGRyAJJIEEAAJJIGF4BJJA\n",
       "EkgAYMcTSBgegSSQBBIA2PEEEoZHIAkkgQQAdjyBhOERSAJJIAGAHU8gYXgEkkAS\n",
       "SABgxxNIGB6BJJAEEgDY8QQShkcgCSSBBAB2PIGE4RFIAkkgAYAdTyBheASSQBJI\n",
       "AGDHE0gYHoEkkAQSANjxBBKGRyAJJIEEAHY8gYThEUgCSSABgB1PIGF4BJJAEkgA\n",
       "YMcTSBgegSSQBJJAAsCOJ5AwPAJJIAkkgQSAHU8gYXgEkkASSAIJADueQMLwCCSB\n",
       "JJAEEgB2PIGE4RFIAuksCKQz+I9AAsCOJ5AwPAJJIL2JAgkA7HgIJAyPQBJIAGDH\n",
       "QyBheASSQAIAOx4CCcMjkAQSANjxEEgYHoEkkADAjodAwvAIJIEEAAgkgYThEUgC\n",
       "CQCw4wkkDI9AEkgAgB1PIGF4BJJAAgDseAIJwyOQBBIAYMcTSBgegSSQAAA7nkDC\n",
       "8AgkgQQA2PEEEoZHIAkkAMCOJ5AwPAJJIAEAdjyBhOERSAIJALDjCSQMj0ASSACA\n",
       "HU8gYXgEkkACAOx4AgnDI5AEEgBgxxNIGB6BJJAEEgDY8QQShkcgCSSBBAB2PIGE\n",
       "4RFIAkkgAYAdTyBheASSQBJIAGDHE0gYHoEkkAQSANjxBBKGRyAJJIEEAHY8gYTh\n",
       "EUgCSSABgB1PIGF4BJJAEkgAYMcTSLwptba27ty5s6qqaseOHeFlwyOQBBIACCQE\n",
       "UhKlUqmVK1fm5eUNOGHQoEGrVq0yPAJJIAGAQEIgJc7atWvDJOTm5s6fP7+ysnLG\n",
       "jBk5OTnhyqZNmwyPQBJIACCQEEgJ0tHRcdttt4VJ2LBhQ3xxyZIl4cr48eMNj0AS\n",
       "SAAgkBBICbJv374wBsOGDUulUvHF/fv3h4uFhYWGRyAJJAAQSAikBKmvr7/zzjsf\n",
       "eOCBtIthNoqKigyPQBJIACCQEEhJd//994fZKCsrMzwCSSABgEBCICVXKpV69NFH\n",
       "w2Dk5eU1NDT0PDzdEkgCSSABwFkRQkle5wQSr7a1tc052aJFi9JuE4qopKQkTEVB\n",
       "QcG2bdv86YJAEkgAkMBwcicIpERoampK+7OBzt9i1NHRsXz58uhHIYVGamxsNDwC\n",
       "SSABgEBCIGWt9vb22pPV19fHr5o6dWoYhsGDB1dWVnZ+OjvDI5AEEgAIJARSskTf\n",
       "dDRy5MimpibDI5AEEgAIJARScoUoysvLKywsbG5uNjwCSSABgEByJwikRFu/fn30\n",
       "M2EndjF79mzDI5AEEgAIJARSgsyfP/9Uz/A4YsQIwyOQBBIACCQEEoZHIAkkALDj\n",
       "IZAwPAJJIAGAHQ+BhOERSAIJABBIAgnDI5AEEgBgxxNIGB6BJJAAADueQMLwCCSB\n",
       "BADY8QQShkcgCSQAwI4nkDA8AkkgAQB2PIGE4RFIAgkAsOMJJAyPQBJIAIAdTyBh\n",
       "eASSQAIA7HgCCcMjkAQSAGDHE0gYHoEkkAAAO55AwvAIJIEEANjxBBKGRyAJJADA\n",
       "jieQMDwCSSAJJACw4wkkDI9AEkgCCQDseAIJwyOQBJJAAgA7nkDC8AgkgSSQAMCO\n",
       "J5AwPAJJIAkkALDjCSQMj0ASSAIJAOx4AgnDI5AEkkACADueQMLwCCSBJJAAwI4n\n",
       "kDA8AkkgCSQAsOMJJAyPQBJIAgkA7HgCCcMjkASSQAIAO55AwvAIJIEkkADAjieQ\n",
       "MDwCSSAJJACw4wkkDI9AEkgCCQDseAIJwyOQBJJAAgA7nkDC8AgkgSSQAMCOJ5Aw\n",
       "PAJJIAkkALDjIZAQSAJJIAGAHQ+BhOERSAIJAOx4CCQMj0ASSABgx0MgYXgEkkAC\n",
       "ADseAgnDI5AEEgDY8RBIGB6BJJAAwI6HQMLwCCSBBAB2PAQShkcgCSQAQCAJJAyP\n",
       "QBJIAIAdTyBheASSQAIA7HgCCcMjkAQSAGDHE0gYHoEkkAAAO55AwvAIJIEEANjx\n",
       "BBKGRyAJJADAjieQMDwCSSABAHY8gYThEUgCCQCw4wkkDI9AeoMC6Sdzt5/BfwQS\n",
       "ANjxBBKGRyC9Wd46AGDHQyAly6FDhyoqKurq6gyPQAIABBICKdFSqdTEiRPDYCxd\n",
       "utTwCCQAQCAhkBJt1apVA44TSAIJABBICKRE27t3b35+fmFhoUASSACAQEIgJVp7\n",
       "e/vo0aOHDBmyZs0agSSQAACBhEBKtIULF4Z5qK6u3rRpk0ASSACAQEIgJVdNTU1O\n",
       "Ts7MmTPDywJJIAEAAgmBlFxtbW3Dhg0rKipqbW09rUDqlkASSADAWRFCSV7nBBL/\n",
       "r4LmnGzRokXRq2bOnBkmYdu2bdEv/Q2SQAIAkhxO7gSBlAhNTU1pfzZQVFQUrm/e\n",
       "vDm8XF5efuSE9evXhyuLFy8OLx87dszwCCQAQCAhkLJNe3t77cnq6+vD9QULFvTw\n",
       "F6xr1qwxPAIJABBICKSk2LhxY9nJRo0aFQajuLg4vBx/3Z3hEUgAgEBCICWR70ES\n",
       "SACAQEIgIZAEEgAgkASSQOJk1dXVYTCWLVtmeAQSACCQEEgYHoEEANjxEEgYHoEE\n",
       "ANjxEEgYHoEEACCQBBKGRyABANjxBBKGRyABANjxBBKGRyABANjxBBKGRyABANjx\n",
       "BBKGRyABANjxBBKGRyABANjxBNJZ7+jRo0uXLp0wYUJRUVH45ebNmw8fPmx4BJJA\n",
       "AgDseAIpccaNG3fRRRf1OSFc+fznP3/++eePGjXK8AgkgQQA2PEEUoLceuutURf1\n",
       "798/DqRvfetb0cujR482PAJJIAEAdjyBlAiVlZWhgs4555zy8vLwy4svvjgKpFde\n",
       "eWXMmDHh5Xe9613Nzc2GRyAZFgDAjieQst+oUaNCBQ0dOjT6ZRxIkQ9/+MPhl1VV\n",
       "VYZHIBkWAMCOJ5Cy31e+8pWQQJWVld0G0s9+9rPwy7lz5xoegWRYAAA7nkDKfj/6\n",
       "0Y9CAi1btqzbQIryyd8gCSSBBADY8QRSItx7770hgUIIdQ2kZ555pl+/fn379n3z\n",
       "PN+3QBJIAIBAQiC9jvbv33/JJZeEKLruuuueeuqpCy+8MLz84osvzpgx42//9m/D\n",
       "y9///vcNj0ASSACAHU8gJUVFRcU73vGOPt254oor3lQ/LlYgCSQAQCAhkF53e/fu\n",
       "/eEPf/ie97wnTqPLLrvs7rvv/vOf/2x4BJJAAgDseAIpoRoaGjZv3rx//37DI5AE\n",
       "EgBgxxNIGB6BJJAAADueQEqSG2644WOn46WXXjI8AsngAAB2PIGUna688so+p2P3\n",
       "7t2GRyAZHADAjieQslNFRcXSTv7P//k/oYIuuOCC3NzcRx55ZMWKFdOnT//c5z4X\n",
       "1dHUqVPb2toMj0AyOACAHU8gZb9Nmzb17dv3wgsv3LlzZ9qr/uu//isE0pVXXplK\n",
       "pQyPQDIsAIAdTyBlv/z8/FBBEydO7Pa1n/rUp8Jr//CHPxgegWRYAAA7nkDKftHX\n",
       "1z355JPdvvbnP/95eO3ChQsNj0AyLACAHU8gZb/vfOc7IYHmzJnT7Wuvvfba8NrV\n",
       "q1cbHoFkWAAAO55Ayn7jx48PCfTpT3+6paUl7VXLly8/55xz+vbt29zcbHgEkmEB\n",
       "AOx4Ain71dTUvP3tbw+N9MlPfvKBBx54/vnn//SnP23evHnIkCHnn39+uP7Nb37T\n",
       "8AgkgQQA2PEEUlI88sgjffv27fYnIF1xxRVvnr8+EkgCCQAQSAikN0J1dfXXvva1\n",
       "fv36xWl06aWX/vrXv25tbTU8AkkgAQB2PIGURB0dHXv27Hn22WcPHz5seASSQAIA\n",
       "7HgCKXFaW1tf7k0IJ8MjkAwLAGDHE0jZr7i4uE9vdu/ebXgEkmEBAOx4Akkg9bnw\n",
       "wgv/+Mc/Gh6BZFgAADueQMp+R48ebenihRdeePDBBy+77LL3vve91dXVhkcgCSQA\n",
       "wI4nkJLuD3/4wzvf+c6LL744lUoZHoFkIgAAO55ASrpvf/vbffr02b59u+ERSMYB\n",
       "ALDjCaSk+973vhcCad68eYZHIBkHAMCOJ5AS7cCBA29/+9tDIFVWVhoegWQiAAA7\n",
       "nkDKfitXrvxld2688cYLLrgg1FH4d1NTk+ERSIYFALDjCaTs1/PTfL/lLW+ZMWOG\n",
       "4RFIAgkAsOMJpERYunTpwO7cfPPNEyZM2LVrl+ERSAIJALDjCSQMj0ASSACAHU8g\n",
       "JcyqVauGDx++YcOGbl9bVlYWXut7kASSQAIA7HgCKRGi70GaOnVqt6/9l3/5l/Da\n",
       "3bt3Gx6BZFgAADueQMpaTz755OrjbrrpppBAt9xyy+ouHnvssXe/+93htQ0NDYZH\n",
       "IJkaAMCOJ5Cy1kUXXdQnM6GR2tvbX7/3pKWlpbq6esOGDS+++KLhEUgAgEBCIJ0B\n",
       "n/70pz903Hve855QQe973/s+1MU//MM/fPazn12wYMHrl0bjx4/PyckZcMLkyZNf\n",
       "eeUVwyOQAACBhEA6M3r+HqTXz5EjR8aOHRuGYcyYMcuWLZs7d+4tt9wSfhleMDwC\n",
       "CQAQSAikM2PatGlXX331woUL3+C3+8QTT4RJKC0t7ejoiK5s3bo1XLn11ltTqZTh\n",
       "EUgAgEBCICXI6NGjwySkPf1DRUXF6tWr42QyPAIJABBICKTX3Z133vmDH/ygtLQ0\n",
       "vLxw4cIf9OZPf/rTX/cdOHjwYBiD22+//dXjX2u3Y8eObdu2NTc3Gx6BBAAIJATS\n",
       "G+3KK6/s06fPV7/61VdPfA9Sz/7qPwcp/IZhDKZMmfKb3/ym85M0zJo1K/SS4RFI\n",
       "AIBAQiC9caZOnTpmzJh58+aFlysrK8f05tChQ3/dd+D3v/99GIOBAweGf0+cOHH5\n",
       "8uXhnSkoKAi/LC8v73l4uiWQBBIAcFaEUJLXOYHEq21tbXNOtmjRonB906ZN0SQ8\n",
       "/PDD8Y3r6uqiZNq7d68/XRBIAECiwsmdIJASoampKe3PBoqKisL15557Lvrl4cOH\n",
       "O99+0qRJ4eJTTz1leAQSACCQEEhvkFApPzgdf/GTNLS3t9eerL6+Plzfs2dPGIPC\n",
       "wsK028+ZMydcX7FiheERSACAQEIgvUGiJ2nI3F/9SRo6OjpuvvnmMAlNTU2dr5eW\n",
       "loaLGzduNDwCCQAQSAikN8jMmTPHnI6/+pM0BLNmzQqTMG3atGPHjkVXtmzZEq4U\n",
       "FBT08HzfAkkgAQACCYGUhQ4ePDhs2LAwDCNHjpw7d25ZWVn0fN/Lli0zPAIJABBI\n",
       "CKQzrKWlZfXq1VOnTh09evSDDz749NNPp1Kp1/UtNjQ0TJo0adCgQdETNgwfPryq\n",
       "qsrwCCQAQCAhkM6kjo6Oe+6556KLLkr71qOrrrpq5cqVhkcgCSQAwI4nkBKkqKgo\n",
       "KqJzzz33iiuuuOaaay655JL4Sg9Pum14BBIAgB1PIGWVtWvXRi3085//vKGhIb6+\n",
       "fv36q6++Oly/7LLLDI9AEkgAgB1PICXCnXfeGSro29/+dtdX7d+/P/q6uxdeeMHw\n",
       "CCTDAgDY8QRS9vvqV78aEui3v/1tt6/97ne/G167cOFCwyOQDAsAYMcTSNkvSqBV\n",
       "q1Z1+9obb7wxvHbx4sWGRyAZFgDAjieQsl9JSUlIoNtuu63rq1paWvr37x9e+9JL\n",
       "LxkegWRYAAA7nkDKfvX19Zdeemnfvn2nTp167Nix+Pq+ffuir7678cYbDY9AEkgA\n",
       "gB1PICXCkiVL/v3f/z16IrvLL7/8+9//fm5u7vXXX/+2t70tuvjDH/5wQCdPPPGE\n",
       "4RFIAAB2PIGUnYqLi/ucjl//+teGRyABANjxBFJ2WrVq1fDTsXbtWsMjkAAA7HgC\n",
       "CcMjkAAA7HgCCcMjkAQSAGDHE0gJ0dTUNHny5Nzc3P97Ci+//LLhEUgmBQCw4wmk\n",
       "7Ld///7LL7+85ydm2L17t+ERSIYFALDjCaTsd9ddd4UEOuecc2644YZf/vKXI7pz\n",
       "8OBBwyOQDAsAYMcTSNnvG9/4RgikcePGGR6BJJAAADueQEq6L33pSyGQKisrDY9A\n",
       "EkgAgB1PICVd9INif/WrXxkegSSQAAA7nkBKumeeeaZfv34f+MAHdu7caXgEkkAC\n",
       "AOx4Ainp5s+fHz1b3TXXXFPYnQMHDhgegWRSAAA7nkDKfvv27fvwhz/sab4FkkAC\n",
       "AOx4AolXS0tLQwL17dv385//fGFh4a3d8TdIAkkgAQB2PIGUCN/85jdDII0ZM8bw\n",
       "CCSBBADY8QRS0n37298OgbR+/XrDI5AEEgBgxxNISXf33XeHQJo2bZrhEUgCCQCw\n",
       "4wmkpKuvr+/fv/9FF11UW1treASSQAIA7HgCKdE2bNiQk5PTp0+ffv363Xjjjb/s\n",
       "TlNTk+ERSIYFALDjCaTsV1xc3Kc3nuZbIAkkAMCOJ5ASYenSpQN7s3//fsMjkAwL\n",
       "AGDHE0hJt3PnzqKion379hkegWQcAAA7nkBKqNbW1tmzZ3/2s5/1JXYCSSABAHY8\n",
       "gZRcmzdvzs3Nffe73x1/A1Lfvn3r6+sNj0AyHQCAHU8gJcWhQ4emTJly1VVXdX5u\n",
       "ho9+9KMlJSVvnjoSSAIJABBICKTX19q1a3/0ox+df/75ndPohhtuqK6uNjwCSSAB\n",
       "AHY8gZQIjY2Nv/71rz/84Q/HURQa6bvf/e7VV18dXp4+fbrhEUgCCQCw4wmkRMjJ\n",
       "yTn33HOjLnrLW97yhS984f777z98+HB41U9/+lOBJJAEEgBgxxNICXLllVeGCjrv\n",
       "vPPGjx/f0NDQ+VUCSSAJJADAjieQkhhIQf/+/W+77bZnn31WIAkkgQQA2PEEUkLV\n",
       "1NQUFRW9//3vj78B6ROf+ERpaenevXsFkkASSACAHU8gJVF7e/vixYuvu+66c845\n",
       "J/5+pLe97W3hhWnTphkegSSQAAA7nkBKopdeemnMmDEf+tCH4r9Qete73vXzn//8\n",
       "ySefNDwCSSABAHY8gZREqVRq9erVN954Y79+/eJS+vu///tRo0a1tbUZHoFkRgAA\n",
       "O55ASqIDBw7ce++9n/jEJ+JM2r17t+ERSEYDALDjCaRE27hxY/hkfde73rVnzx7D\n",
       "I5BMBABgxxNIvHrkyBHDI5AEEgBgxxNIGB6BJJAAADueQMLwCCSBBADY8QQShkcg\n",
       "CSQAwI4nkDA8AkkgAQB2PIHEGdXS0rJt27bKysrw7+bmZsMjkAAAgYRASqhVq1YN\n",
       "GjRowAl5eXmPPfaY4RFIAIBAQiAlzjPPPBMmYeDAgQ899FBlZWV5eXkIpHClqqrK\n",
       "8AgkAEAgIZCSZfr06WESOv+V0bx588KVCRMmGB6BBAAIJARSsoQQCpOwZcuW+Er0\n",
       "d0ojR440PAIJABBICKRkWbp0aZiEBx98ML4yc+bMcGXBggWGRyABAAIJgZQszc3N\n",
       "Y8aMCcNwzz33LFy4cPTo0eHl4uLiAwcOGB6BBAAIJARSsnR0dCxfvnzAyZYsWZJK\n",
       "pXoenm4JJIEEAJwVIZTkdU4g8WpbW9ucky1atCh61ezZs8MkFBQULFy4cOPGjSGN\n",
       "Bg8eHK5MnjzZny4IJAAgaeHkThBIidDU1JT2ZwNFRUXh+rFjxwYNGpSTk1NbWxvf\n",
       "eO/evfn5+eE2Bw8eNDwCCQAQSAikbNPe3l57svr6+nC9pqYm+o6jtNtPnjw5XF+/\n",
       "fr3hEUgAgEBCICVFXV1dGIMRI0akXb/77rvD9erqasMjkAAAgYRASor29va8vLww\n",
       "CWvXro2fleHZZ5/NOa6pqcnwCCQAQCAhkBLkd7/7XfRdSUOHDn3ooYemTJkS0ij8\n",
       "8rHHHjM8AgkAEEgIpMRZt27d8OHD4+dvGDJkSKimjo4OwyOQAACBhEDC8AgkAMCO\n",
       "h0DC8AgkAMCOh0DC8AgkAACBJJAwPAIJAMCOJ5AwPAIJAMCOJ5AwPAIJAMCOJ5Aw\n",
       "PAIJAMCOJ5AwPAIJAMCOJ5AwPAIJAMCOJ5AwPAIJAMCOJ5AwPAIJAMCOJ5AwPAIJ\n",
       "AMCOJ5AwPAIJAMCOJ5AwPAIJAMCOJ5AwPAIJAMCOJ5AwPAJJIAEAdjyBhOERSAIJ\n",
       "ALDjCSQMj0ASSACAHU8gYXgEkkACAOx4AgnDI5AEEgBgxxNIGB6BJJAAADueQMLw\n",
       "CCSBBADY8QQShkcgCSQAwI4nkDA8AkkgAQB2PIGE4RFIAgkAsOMJJAyPQBJIAIAd\n",
       "TyBheASSQAIA7HgCCcMjkAQSAGDHE0gYHoEkkAAAO55AwvAIJIEEANjxBBKGRyAJ\n",
       "JADAjieQMDwCSSABAHY8BBICSSABAHY8BBKGRyABAHY8BBKGRyABAHY8BBKGRyAB\n",
       "AHY8BBKGRyABAHY8BBKGRyABAHY8BBKGRyABAHY8BBKGRyABAAgkgYThEUgAAHY8\n",
       "gYThEUgAAHY8gYThEUgAAHY8gYThEUgAAHY8gYThEUgAAHY8gYThEUgAAHY8gYTh\n",
       "EUgAAHY8gYThEUgAAHY8gYThEUgAAHY8gUTGGhsbKyoqWlpaur6qtbW1pqamqqpq\n",
       "+/bthw8fNjwCCQAQSAikLDd9+vTwGb9r16606+vWrRs0aNCAE/Ly8lasWGF4BBIA\n",
       "IJAQSNnpyJEjS5YsifonLZBqa2tzcnLC9ZBPa9eufeihh6JfbtiwwfAIJABAICGQ\n",
       "ssrWrVvvuuuu/Pz8+C+I0gLp3nvvDRcfeeSR+Mrjjz8erhQXFxsegQQACCQEUrYF\n",
       "0p0n5ObmpgVSe3t7Xl5euHjgwIH44tGjR6Og2r9/v+ERSACAQEIgZaf77rsvLZAa\n",
       "GxvDlaFDh6bdsqSkJFzfvn274RFIAIBAQiAlJZBqa2vDlbFjx6bdsqysLFx/+umn\n",
       "DY9AAgAEEgIpKYG0c+fOcKWkpCTtljNnzgzXq6qqeh6ebgkkgQQAnBUhlOR1TiBl\n",
       "uba2tjknW7RoUSaBtGPHjm4DKXpC8F4DKbF3uEACALI4nNwJAums19TUlNb9RUVF\n",
       "mQRSeDlcGTVqVLe37PmZvgWSQAIABBIC6c2ovb299mT19fWZBNLLL78crhQUFKRS\n",
       "qc63vOOOO8L1mpoawyOQAACBhEDKTl0DqaOjY9CgQeFiXV1dfLG5uXngwIE5OTnh\n",
       "BcMjkAAAgYRASkogBdOmTQsXJ0yYEP8lUvQMDePGjTM8AgkAEEgIpGQFUmNjY/Rj\n",
       "YYcOHVpeXn777beHl3Nycnr++jqBJJAAAIGEQDq7RT/dKC2Qgueff37kyJHxEzwM\n",
       "Hz58y5YthkcgAQACCYGE4RFIAIAdD4GE4RFIAIAdTyAJJAyPQAIAsOMJJAyPQAIA\n",
       "sOMJJAyPQAIAsOMJJAyPQAIAsOMJJAyPQAIAsOMJJAyPQAIAsOMJJAyPQAIAsOMJ\n",
       "JAyPQAIAsOMJJAyPQAIAsOMJJAyPQAIAsOMJJAyPQAIAsOMJJAyPQAIAsOMJJAyP\n",
       "QBJIAIAdTyBheASSQAIA7HgCCcMjkAQSAGDHE0gYHoEkkAAAO55AwvAIJIEEANjx\n",
       "BBKGRyAJJADAjieQMDwCSSABAHY8gYThEUgCCQCw4wkkDI9AEkgAgB1PIGF4BJJA\n",
       "AgDseAIJwyOQBBIAYMcTSBgegSSQAAA7nkDC8AgkgQQA2PEEEoZHIAkkAMCOJ5Aw\n",
       "PAJJIAEAdjyBhOERSAIJALDjCSQMj0ASSACAHQ+BZHgEkkACAOx4CCQMj0ACAOx4\n",
       "CCQMj0ACAOx4CCQMj0ACAOx4CCQMj0ACAOx4CCQMj0ACAOx4CCQMj0ACAOx4CCQM\n",
       "j0ACABBIAgnDI5AAAOx4AgnDI5AAAOx4AgnDI5AAAOx4AgnDI5AAAOx4AgnDI5AA\n",
       "AOx4AgnDI5AAAOx4AgnDI5AAAOx4AgnDI5AAAOx4AgnDI5AAAOx4AgnDI5AAAOx4\n",
       "AgnDI5AAAOx4Aom/TGNjY0VFRUtLS9dXtba27ty5s6qqaseOHeFlwyOQAACBhEDK\n",
       "ctOnTw+f8bt27ep8MZVKrVy5Mi8vb8AJgwYNWrVqleERSACAQEIgZacjR44sWbIk\n",
       "6p+0QFq7dm24mJubO3/+/MrKyhkzZuTk5IQrmzZtMjwCCQAQSAikrLJ169a77ror\n",
       "Pz8//guizoHU0dFx2223hYsbNmyIL0YpNX78eMMjkAAAgYRAyrZAuvOE3NzctEDa\n",
       "t29fuDJs2LBUKhVf3L9/f7hYWFhoeAQSACCQEEhZ67777ksLpPr6+hBODzzwQOeb\n",
       "hYvhZkVFRYZHIAEAAgmBlKBA6tb9998fblZWVmZ4BBIAIJAQSMkNpFQq9eijj4bb\n",
       "5OXlNTQ09Do83RJIAgkAOCtCKMnrnEDKcm1tbXNOtmjRotMNpFBEJSUl4QYFBQXb\n",
       "tm3zpwsCCQBIZji5EwTSWa+pqSmt+7v9DqJTBVJHR8fy5cujH4UUGqmxsdHwCCQA\n",
       "QCAhkM5W7e3ttSerr6/PMJDCfzt16tRwffDgwZWVlZ2fzs7wCCQAQCAhkLJWt4EU\n",
       "fdPRyJEjm5qaDI9AAgAEkjtBICU3kEIU5eXlFRYWNjc3Gx6BBAAgkARSogNp/fr1\n",
       "0c+EndjF7NmzDY9AAgAEEgIpa5WVlaUF0vz580/19I4jRowwPAIJABBICCQMj0AC\n",
       "AOx4CCQMj0ACAOx4CCQMj0ACABBIAgnDI5AAAOx4AgnDI5AAAOx4AgnDI5AAAOx4\n",
       "AgnDI5AAAOx4AgnDI5AAAOx4AgnDI5AAAOx4AgnDI5AAAOx4AgnDI5AAAOx4AgnD\n",
       "I5AAAOx4AgnDI5AAAOx4AgnDI5AAAOx4AgnDI5B8+gEAdjyBhOERSAIJALDjCSQM\n",
       "j0ASSACAHU8gYXgEkkACAOx4AgnDI5AEEgBgxxNIGB6BJJAAADueQMLwCCSBBADY\n",
       "8QQShkcgCSQAwI4nkDA8AkkgAQB2PIGE4RFIAgkAsOMJJAyPQBJIAIAdTyBheASS\n",
       "QAIA7HgCCcMjkAQSAGDHE0gYHoEkkAAAO55AwvAIJIEEANjxBBKGRyAJJADAjieQ\n",
       "MDwCSSABAHY8BJLhEUgCCQCw4yGQEEgCCQCw4yGQMDwCCQCw4yGQMDwCCQCw4yGQ\n",
       "MDwCCQCw4yGQMDwCCQCw4yGQMDwCCQCw4yGQMDwCCQCw47kTBBKGRyABAAgkgYTh\n",
       "EUgAAHY8gYThEUgAAHY8gYThEUgAAHY8gYThEUgAAHY8gYThEUgAAHY8gYThEUgA\n",
       "AHY8gYThEUgAAHY8gYThEUgAAHY8gYThEUgAAHY8gYThEUgAAHY8gcRfoLGxsaKi\n",
       "oqWlpYfbHDp0KNymrq7O8AgkAEAgIZCy2fTp08Nn/K5du051g1QqNXHixHCbpUuX\n",
       "Gh6BBAAIJARSdjpy5MiSJUsGHNdDIK1atSq6jUASSACAQEIgZaGtW7fedddd+fn5\n",
       "A044VSDt3bs33KywsFAgCSQAQCAhkLI2kO48ITc391SB1N7ePnr06CFDhqxZs0Yg\n",
       "CSQAQCAhkLLffffdd6pAWrhwYXhVdXX1pk2bBJJAAgAEEgIpuYFUU1OTk5Mzc+bM\n",
       "8PJpBVK3BJJAAgDOihBK8jonkDhlILW1tQ0bNqyoqKi1tfV0Aymx96RAAgCyOJzc\n",
       "CQLprBciZ87JFi1alGEgzZw5M1zctm1b9EuBJJAAAIGEQDq7NTU1pf3FaFFRUSaB\n",
       "tHnz5nClvLz8yAnr168PVxYvXhxePnbsmOERSACAQEIgnWXa29trT1ZfX59JIC1Y\n",
       "sKCHLz9ds2aN4RFIAIBAQiBlp66BtHHjxrKTjRo1KtymuLg4vBx/3Z3hEUgAgEBC\n",
       "IGV/IHXle5AEEgAgkBBIAkkgCSQAAIEkkJKkrKys10Cqrq4Ot1m2bJnhEUgAgEBC\n",
       "IGF4BBIAYMdDIGF4BBIAYMcTSAIJwyOQAADseAIJwyOQAADseAIJwyOQAADseAIJ\n",
       "wyOQAADseAIJwyOQAADseAIJwyOQAADseAIJwyOQAADseAIJwyOQAADseAIJwyOQ\n",
       "AADseAIJwyOQAADseAIJwyOQAADseAIJwyOQAADseAIJwyOQBBIAYMcTSBgegSSQ\n",
       "AAA7nkDC8AgkgQQA2PEEEoZHIAkkAMCOJ5AwPAJJIAEAdjyBhOERSAIJALDjCSQM\n",
       "j0ASSACAHU8gYXgEkkACAOx4AgnDI5AEEgBgxxNIGJ4scO2U6jP4j0ACAOx4AgnD\n",
       "AwCAHU8gYXgAALDjCSQMDwAAdjyBhOEBAMCOJ5AwPAAA2PEEEoYHAAA7nkDC8AAA\n",
       "YMcTSBgeAADseAIJwwMAgB1PIGF4AACw4wkkDA8AAHY8gYThAQDAjieQMDwAANjx\n",
       "BBKGBwAAO55AwvAAAGDHE0gYHgAA7HgIJMNjeAAA7HgIJAwPAIAdD4GE4QEAsOMh\n",
       "kDA8AAB2PAQShgcAwI6HQMLwAADY8RBIGB4AADseAgnDAwCAHU8gYXic3dkd39kd\n",
       "39md3fGd3fEFUvI0NjZWVFS0tLR0+9pwvbq6esOGDS+++KLhcXZnd3xnd3xn92nv\n",
       "7I6PQMpy06dPD5/xu3bt6ppG48ePz8nJGXDC5MmTX3nlFcPj7M7u+M7u+M7u+M7u\n",
       "+AikLHTkyJElS5ZE8ZMWSOFVY8eODdfHjBmzbNmyuXPn3nLLLeGX4QXD4+zO7vjO\n",
       "7vjO7vjO7vgIpKyydevWu+66Kz8/P/7bobRAeuKJJ8LF0tLSjo6O+D8JV2699dZU\n",
       "KmV4nN3ZHd/Zfeid3fGd3fERSFkVSHeekJub2zWQRo8eHS42NDR0vlhRUbF69eo4\n",
       "mQyPszu74/vQO7uzO76zOz4CKdvcd999aYF08ODBcOX2229/9fjX2u3YsWPbtm3N\n",
       "zc2Gx9md3fGd3fGd3ae9szs+AilxgbR79+5wZcqUKb/5zW86P0nDrFmzQi8ZHmd3\n",
       "dsd3dsd3dsd3dsdHICUokH7/+9+HKwMHDgz/njhx4vLly+fNm1dQUBB+WV5e3uvw\n",
       "AACQfazNAums19bWNudkixYtyiSQNm3aFI3Bww8/HF+sq6uLkmnv3r3uWwAAEEhn\n",
       "maamprTuLyoqyiSQnnvuuej2hw8f7nzLSZMmhYtPPfWU+xYAAATSWaa9vb32ZPX1\n",
       "9ZkE0p49e8KVwsLCtFvOmTMnXF+xYoX7FgAABFJ26hpIHR0dN998c7jY1NTU+Zal\n",
       "paXh4saNG91pAAAgkJISSMGsWbPCxWnTph07diy6smXLlnCloKAgw+f7BgAABFKW\n",
       "BNLBgweHDRsWro8cOXLu3LllZWXR830vW7bMPQYAAAIpa4X46RpIQUNDw6RJkwYN\n",
       "GhQ9YcPw4cOrqqrcXQAAIJAAAAAEEgAAgEACAAAQSAAAAAIJAABAIPHatba21tTU\n",
       "VFVVbd++/fDhw0k7+86dO8PZd+zYEV5O7OfAoUOHKioq6urqEnXqlpaW6urqDRs2\n",
       "vPjii0n7iIezb9u2rbKyMvw7IT8erbGxMXySh4Mn8DGw57Nn/WNgD8fP+sfAns+e\n",
       "9Y+BPRw/ix8Dex3qJG99AolMrVu3Ln428CAvL2/FihVJOHgqlVq5cmU4b3z2cD+s\n",
       "WrUqgZ8D4a6YOHFiuAeWLl2anDwYP3589PPBIpMnT37llVcScvzweZ429Y899ljW\n",
       "n3r69Ond/lCEJDwGdnv25DwGnupDn4THwFOdPSGPgac6frY+BmYy1Ind+gQSp6G2\n",
       "tjZ6fAwPImvXrn3ooYeiX27YsCHrzx7OG06am5s7f/78ysrKGTNmRGfftGlT0j4N\n",
       "wqNn9ECZkEA6cuTI2LFjw3nHjBmzbNmyuXPn3nLLLeGX4YUkHP+ZZ54Jhx04cGCY\n",
       "9/CZX15eHv3fNIt/VFr4iC9ZsiT6JE9blbL+MbCHsyfhMbCH42f9Y2APZ0/CY2AP\n",
       "x8/ix8BehzrJW59A4jTce++9YTAeeeSR+Mrjjz8erhQXF2f3wTs6Om677ba0B4Xo\n",
       "wXT8+PGJ+hzYu3dvfn5+YWFhcgLpiSeeCIctLS0NnwbRla1bt4Yrt956ayqVyvrj\n",
       "R3+k2vmPS+fNmxeuTJgwIfsOGz6yd911V/gMj/+4NG1VyuLHwJ7PnvWPgb1+6LP4\n",
       "MbDXs2f3Y2Cvx8/Wx8BMhjqxW59A4jS0t7dHf2py4MCB+OLRo0ejh5X9+/dn8dn3\n",
       "7dsXzjhs2LDO/zMIRw4Xw/8mE/U5MHr06CFDhqxZsyY5gRSOHA7b0NDQ+WJFRcXq\n",
       "1avjdSGLhSUgHH/Lli3xlejPU0eOHJmVgXTnCbm5uWmrUnY/BvZ89qx/DOz5+Nn9\n",
       "GNjr2bP7MbDX42frY2CvQ53krU8gcRoaGxvDSAwdOjTteklJSbi+ffv2LD57fX19\n",
       "eOh84IEH0i6GgxcVFSXnc2DhwoXhyNXV1Zs2bUpIIB08eDCc9Pbbb3/1+Ndg7Nix\n",
       "IznPUhAJH+VwDzz44IPxlZkzZ4YrCxYsyO6D33fffWmrUnIeA7uePVGPgV2Pn5zH\n",
       "wK5nT9RjYLcf+mx9DOx1qJO89QkkTkNtbW0YibFjx6ZdLysrC9effvrppN0h999/\n",
       "fzh4OH5CzltTU5OTkxP+xxBeTk4g7d69O5x0ypQpv/nNbzp/g/KsWbPCrpCEj3vY\n",
       "hMaMGROOfM8994TtMPqz5OLi4s5/ppiQVSk5j4E9FEISHgNPdfwkPAZ2PXuiHgO7\n",
       "/dAn6jGw81Db+gQSGdm5c2cYiZKSkrTr0R+lZPF3bHeVSqUeffTR6Olc0r7qIFu1\n",
       "tbUNGzasqKgoeg7Q5ATS73//++jbc8O/J06cuHz58nnz5hUUFIRflpeXJ+FD39HR\n",
       "EU494GRLlizJ+u+/6roqJecxsNdAyu7HwG6Pn5DHwK5nT9RjYLcf+oQ8BnYdaluf\n",
       "QCIjO3bs6HZUou9fTM6ohAeO6O+Xw/8htm3blpBTRw+I8XmTE0jRSYOHH344vlhX\n",
       "VxetC3v37s36e2D27NnRZ/vChQs3btwY1oLBgwdHT/KbtEBKzmNgz4GU9Y+B3R4/\n",
       "IY+BXc+eqMfAbj/0SXgM7HaobX0CiYyEh4wwEqNGjer2ASUJz/kY/TFS9D2L4SGj\n",
       "sbExIR/6zZs3R39YeOSE9evXhyuLFy8OLx87diyLz/7cc89Fy0HaT8ebNGlSuPjU\n",
       "U09l94c+fHAHDRqUk5NTW1sbX4yexSsc/+DBg4kKpOQ8Bp4qkBLyGNj1+Ml5DOx6\n",
       "9kQ9BnY9ftY/BvYw1LY+gURGXn755ehPF9L+WvmOO+4I12tqarL7+O3t7VOnTg0n\n",
       "HTx4cGVlZRKe3zm2YMGCAae2Zs2aLD77nj17un2erjlz5oTrWf/z8sJcd/uMrpMn\n",
       "Tw7Xw46YqEBKzmNgt4GUnMfArsdPzmNg17Mn6jGw6/Gz+zGw56FO+NYnkDiNP2aI\n",
       "fppyXV1dfLG5uXngwIE5OTlZ/7xe0dfmjhw5sqmpKWkf+o0bN5adbNSoUdH/M8LL\n",
       "2f11huHT/uabbw6HTfu4l5aWhovhnsnuD30Y9nDMESNGpF2/++67o+fySlQgJecx\n",
       "sNtASs5jYNfjJ+cxsNtP++Q8BnY9fnY/BvY81Anf+gQSp2HatGnRD0eL/zgh+rLs\n",
       "cePGZffBw2NHXl5eYWGhR4RIcr4HKZg1a1Y4bPjkj7+QZsuWLdGfq2X950P8czDW\n",
       "rl0bT/2zzz6bc1x2L8rdRkJCHgO7nj1Rj4GZPIlfcr4HKVGPgV2Pn8WPgZkMdWK3\n",
       "PoHE6WlsbIy+7nbo0KHl5eW33357eDk8RmT937RGX24eHkcmdjF79myBlN0OHjw4\n",
       "bNiw6I/Z5s6dW1ZWFj3X7bJly5Jw/N/97nfR1xGFqX/ooYemTJkSHb/zz5VPzpac\n",
       "kMfArmdP1GOgQEo7e3IeA7s9frY+BmYy1Ind+gQSp+35558PD5Hx114PHz6884+X\n",
       "zlbz588/1Vefd/2b9ySorq5OTiG8evwZfiZNmhR9sUH0aZ+oJ/BZt25dOHL8OT9k\n",
       "yJCwMXR0dGT3qaOf9dF1S07CY2DXsyfqMfBUH/okPAae6uwJeQw81fGz8jEww6FO\n",
       "5tYnkPgLtba21tfXpz2nDWS38L/Dl156qaWlJZnHD/O+Z8+e7H7mOo+B4DHQY6BH\n",
       "PIEEAAAgkAAAAAQSAACAQAIAABBIAAAAAgkAAEAg8f+3d+8xOf5/HMd/DqWQHOe8\n",
       "KIccMw0bc07msFAKQ2ZCIcfN1owhw9BWMsxpoi2ZM3NaFmJI5DSnGY3SqEWJSN2+\n",
       "73lv167ffbtzf38/5tDz8dd9fe73dX2uz3Vff9yvXdf1uQAA35aamnr48OHKOfbs\n",
       "7Ozk5OTHjx9zGgAAAQkA8FPk5eW5OiAoKEiKIyIi5PPy5ct/1d5mZmZWr159yJAh\n",
       "f9NPsHnzZjmqEydO/G5lfn5+nTp1fHx8ysrKOHUBgIAEAPjxXr9+/R8H+Pn5SfG0\n",
       "adPk85IlS37Jrkoq8PX1rVKlys2bN/+mnyA+Pl6O6siRIx0pXrFihRRv2bKFUxcA\n",
       "CEgAgB/PYrEU/TcvLy/5Cx4VFWVu/PDhgxQnJyfPnj371KlTv2RXk5KSZMcCAwP/\n",
       "sp/gXwUk+S3c3NwaN2788eNHzl4AICABAH66du3ayf/1X3gfnT29e/eWHTt27Fhl\n",
       "DkhiypQpUr97927OVQAgIAEAfmVA2rlzZ2ho6IEDB3QxNjZWFu/du5eamhoWFta5\n",
       "c+devXotWrSoqKhIvt27d29ISIinp6evr29kZGR2drZ5U9evX581a1bPnj1lrYiI\n",
       "iIMHD1a8V7dv35a9atCgQWlpqdGYkpIybtw42ULr1q2l6/nz59tOYOBIR+fOndMa\n",
       "Ly+vQYMGrVmzprCw0Krm2rVr8+bN69u3r9SMGjUqOjr6zZs3xrfGobhw4UJ4eHiX\n",
       "Ll3atm0bHBycmZlptZ2jR49Omzata9eubdq0CQoKkq5tA1LF4zp79qzUy1HlXAUA\n",
       "AhIA4FcGJKtnkIYOHSqLEyZMqF69uvmBpYCAAIlJVk8xSR7Q4CRiYmKcnJysChYu\n",
       "XFjBXq1fv15q/P39jZYNGzbYPivl7u5+584do+a7HVkslqVLl1apUsWqpmXLljk5\n",
       "OUbZ6tWrrcYoPDw8JDWZD4WkLGdnZ3ONLF65ckVrysrK5syZY7vPcmTMAem74you\n",
       "LtbGly9fcroCAAEJAPB7BSTRu3fvtLS03NxcCSTGf/rBgwcnJSVlZ2dv2rRJWw4d\n",
       "OvTl6+Ua+VytWjVJJk+ePHn69OmqVas0V8THx9vbqxEjRkjBzJkzdfHTp081a9bU\n",
       "lmfPnhUWFqakpHh6ekpLSEiI1jjS0YEDB3TfQkNDJclImXzVoEEDaRk2bJjWHD9+\n",
       "XGukJT09XWJJcnJykyZNpKVFixb6dJZxKLp16yb9yqgTEhLkW2kZNWqUbmfXrl1a\n",
       "ExYWlpGRkZWVlZiY2LBhQ23UgOTIuESjRo2kZc+ePZyuAEBAAgD8XgGpdevWJSUl\n",
       "Rk3nzp31iocmB9WrVy9pXLNmjVFgtf24uDhplK7t7VXTpk2lYO3atbp4//59zRU3\n",
       "btwwak6ePFm/fv3u3bub96SCjiwWS8eOHWVx/Pjx5pqNGzdKo5OTk95o5+3trfP4\n",
       "Sb1RI1GqRo0axqD0UEjaefv2rVEjeyuNEm/kc3l5eatWrWTRajpvGYhem9KA5Mi4\n",
       "RI8ePaQmMjKS0xUACEgAgN8rIK1cudJcExAQII3Tp083N0oCkcbo6GhjVvGcnJwS\n",
       "E4kiem0nIyPDtl9JJpoi9u3bpy2SN/QajqSO7du3295s5khHspbWXL9+3bxuaWnp\n",
       "6dOnz5w5Ix+MGuNOOcPMmTOlXV/KpIdi7ty55oLMzExpdHNzk89ZWVm2yUcFBwcb\n",
       "Aem741IhISFSIytyugIAAQkA8HsFpK1bt5prxowZI40xMTHmxkmTJmlAOn/+fMUv\n",
       "XNLb8KwUFBTot1evXjUaExISXF1djRU9PT3DwsJSU1P1W0c6unjxot6DV8F7V2WD\n",
       "UlO1alXzVTK1bds2fRLJOBRxcXHmgrt370pj7dq1v3ydd8FeX+vWrTM/g1TxuNTi\n",
       "xYvlq/79+3O6AgABCQDwBwekEydO6P/+VnYkJSXZ9ltYWKhrXbp0ydz+5MkT2c+e\n",
       "PXuaZ1CYOnWqxWJxpKMjR44YAcaekydPSo1s33x/ndL3MtWvX9/eoTAHJH2QydnZ\n",
       "2bYLfUbLPItdBePSAvkJpKVPnz6crgBAQAIA/MEBSf766wUZ82zdjnBxcZEVExMT\n",
       "v/ltcXGxpB0JDJolUlNTHeno1q1bWl9QUGBuLy8vl0Ft3rw5JyfnwYMHWvP8+XOr\n",
       "1WU40i4xxpGAZGwnNzfXajsLFy609x4k23Fp+8SJE2Vx9OjRnK4AQEACAPzBAUmy\n",
       "h5ubm3w2XqaksrKypF9PT0+r1yUZPDw8dAu6ePz4cW9v77Fjx5prioqK6tSpI2Wx\n",
       "sbGOdPT+/ftq1apJzaZNm8w1ycnJGq7y8/MlX+m0ckuXLjXXfPr0SafnlmPiSECS\n",
       "+lq1asniqlWrrLajDx1pQPruuLRFI9OMGTM4XQGAgAQA+IMDknxetmyZfG7evLnx\n",
       "QJEEFZ3aQbKBvb0KCgoy0oi4c+eOPtJz9OhRo+bBgwc6s1xKSoqDHYWFheltcsYc\n",
       "DA8fPuzatas09uvXT1skGsmii4uLMUWEbGfy5Ml6653UOxKQRFRUlCxKTDp27Ji2\n",
       "fPz4UbKQeZpvR8YlmjVrZtsdAICABAD48wJSUVFRhw4dNAZ06dJFcoj++5ewcfr0\n",
       "aXt7Jb1IzaBBg3TRYrH4+/trtJA8ExgYOGDAAN1Ox44ddYZxRzp6+fKlTiAuNd26\n",
       "ddOZwYWrq+u9e/e05t27dz4+PtouG/Tz89MXJZln8HMkIBUUFHTq1ElXbN++/cCB\n",
       "A/W6kF6h0oDkyLgkVumbbSU4cboCAAEJAPBz6Z/4bwak8PBw81eaCnbs2PGvAtKX\n",
       "r1dgZsyY4e7ubsxAIGGggnQknj9/LhlGVpF4oC2SfyIiIvS+NeXi4jJu3LhXr14Z\n",
       "aznSUV5eXnBwsKYU4723VhN/S6cLFiwwXuoq+UQSjvkizzcPhT53VLduXaNFslZo\n",
       "aKixP7LDU6ZM0bfrGs8gfXdcOvmezp4HACAgAQD+Hs+ePbt27Zo50lQgMDDQ9pmi\n",
       "kpKSx48fX758WdKIxKH/uaPy8vKHDx9mZGToy2HtefHiRXp6uuSc/2fUFotF9vbu\n",
       "3bufP3+2V1PBuCTyGS+oBQAQkAAAlVRaWpq92d4qDwlL9erVc3Fxyc/P55QAAAIS\n",
       "AKBSGz58uGSk9PT0SnsEVq9ebTulHgCAgAQAqIwePXrk7Ow8ePDgyjn8/Px8d3d3\n",
       "b29v40EsAAABCQBQqV2+fHn//v1lZWWVMyDJ2CUlchoAAAEJAAAAAAhIAAAAAEBA\n",
       "AgAAAAACEgAAAAAQkAAAAACAgAQAAAAABCQAAAAAICABAAAAAAEJAAAAAAhIAAAA\n",
       "AEBAAgAAAAACEgAAAAAQkAAAAACAgAQAAAAABCQAAAAAICABAAAAAAEJAAAAAAhI\n",
       "AAAAAEBAAgAAAAACEgAAAAAQkAAAAACAgAQAAAAABCQAAAAAICABAAAAAAhIAAAA\n",
       "AEBAAgAAAAACEgAAAAAQkAAAAACAgAQAAAAABCQAAAAAICABAAAAAAEJAAAAAAhI\n",
       "AAAAAEBAAgAAAAACEgAAAAD8UP8AXxHZ4vasF0wAAAAASUVORK5CYII=\" style=\"clip-path:url(#clipPath2);\" height=\"840\" preserveAspectRatio=\"none\"\n",
       "    /></g\n",
       "  ></g\n",
       "></svg\n",
       ">\n"
      ]
     },
     "metadata": {},
     "output_type": "display_data"
    }
   ],
   "source": [
    "impulse(H)"
   ]
  },
  {
   "cell_type": "markdown",
   "metadata": {
    "slideshow": {
     "slide_type": "notes"
    }
   },
   "source": [
    "The plot isn't quite right -- it's a \"hold-equivalent\" result. We don't know values between sampling instants."
   ]
  },
  {
   "cell_type": "markdown",
   "metadata": {
    "slideshow": {
     "slide_type": "subslide"
    }
   },
   "source": [
    "Sequence?"
   ]
  },
  {
   "cell_type": "code",
   "execution_count": 9,
   "metadata": {
    "slideshow": {
     "slide_type": "fragment"
    }
   },
   "outputs": [
    {
     "name": "stdout",
     "output_type": "stream",
     "text": [
      "\n",
      "yi =\n",
      "\n",
      "    4.0000\n",
      "         0\n",
      "  -15.0000\n",
      "         0\n",
      "   -3.7500\n",
      "         0\n",
      "   -0.9375\n",
      "         0\n",
      "   -0.2344\n",
      "         0\n",
      "   -0.0586\n",
      "         0\n",
      "   -0.0146\n",
      "         0\n",
      "   -0.0037\n",
      "         0\n",
      "   -0.0009\n",
      "         0\n",
      "   -0.0002\n",
      "         0\n",
      "   -0.0001\n",
      "\n"
     ]
    }
   ],
   "source": [
    "yi = impulse(H)"
   ]
  },
  {
   "cell_type": "markdown",
   "metadata": {
    "slideshow": {
     "slide_type": "subslide"
    }
   },
   "source": [
    "#### Stem plot\n",
    "\n",
    "To plot this properly, we use a stem plot"
   ]
  },
  {
   "cell_type": "code",
   "execution_count": 10,
   "metadata": {
    "slideshow": {
     "slide_type": "fragment"
    }
   },
   "outputs": [
    {
     "data": {
      "image/svg+xml": [
       "<?xml version=\"1.0\"?>\n",
       "<!DOCTYPE svg PUBLIC '-//W3C//DTD SVG 1.0//EN'\n",
       "          'http://www.w3.org/TR/2001/REC-SVG-20010904/DTD/svg10.dtd'>\n",
       "<svg xmlns:xlink=\"http://www.w3.org/1999/xlink\" style=\"fill-opacity:1; color-rendering:auto; color-interpolation:auto; text-rendering:auto; stroke:black; stroke-linecap:square; stroke-miterlimit:10; shape-rendering:auto; stroke-opacity:1; fill:black; stroke-dasharray:none; font-weight:normal; stroke-width:1; font-family:'Dialog'; font-style:normal; stroke-linejoin:miter; font-size:12px; stroke-dashoffset:0; image-rendering:auto;\" width=\"560\" height=\"420\" xmlns=\"http://www.w3.org/2000/svg\"\n",
       "><!--Generated by the Batik Graphics2D SVG Generator--><defs id=\"genericDefs\"\n",
       "  /><g\n",
       "  ><defs id=\"defs1\"\n",
       "    ><clipPath clipPathUnits=\"userSpaceOnUse\" id=\"clipPath1\"\n",
       "      ><path d=\"M0 0 L560 0 L560 420 L0 420 L0 0 Z\"\n",
       "      /></clipPath\n",
       "      ><font horiz-adv-x=\"50.0\" id=\"font1\"\n",
       "      ><font-face ascent=\"95.200005\" descent=\"21.3\" units-per-em=\"100\" style=\"font-style:normal; font-family:Helvetica Neue; font-weight:normal;\"\n",
       "        /><missing-glyph horiz-adv-x=\"50.0\" d=\"M40.9 66.6 L10.2 66.6 L10.2 4.7 L40.9 4.7 ZM46 71.2 L46 0.1 L5.1 0.1 L5.1 71.2 Z\"\n",
       "        /><glyph unicode=\"6\" horiz-adv-x=\"55.6\" d=\"M41.4 52.8 L49.9 52.8 Q49.1 61.6 43.9 66.25 Q38.7 70.9 29.9 70.9 Q22.3 70.9 17.3 67.7 Q12.3 64.5 9.3 59.2 Q6.3 53.9 5.05 47.05 Q3.8 40.2 3.8 32.9 Q3.8 27.3 4.65 21.3 Q5.5 15.3 8.1 10.3 Q10.7 5.3 15.5 2.1 Q20.3 -1.1 28.2 -1.1 Q34.9 -1.1 39.45 1.15 Q44 3.4 46.75 6.85 Q49.5 10.3 50.7 14.5 Q51.9 18.7 51.9 22.6 Q51.9 27.5 50.4 31.7 Q48.9 35.9 46.15 39 Q43.4 42.1 39.35 43.85 Q35.3 45.6 30.2 45.6 Q24.4 45.6 19.95 43.4 Q15.5 41.2 12.5 36.3 L12.3 36.5 Q12.4 40.6 13.1 45.3 Q13.8 50 15.65 54.05 Q17.5 58.1 20.8 60.75 Q24.1 63.4 29.5 63.4 Q34.6 63.4 37.7 60.5 Q40.8 57.6 41.4 52.8 ZM28.6 38.1 Q32.2 38.1 34.9 36.8 Q37.6 35.5 39.4 33.35 Q41.2 31.2 42.05 28.25 Q42.9 25.3 42.9 22 Q42.9 18.9 41.95 16.05 Q41 13.2 39.2 11 Q37.4 8.8 34.75 7.55 Q32.1 6.3 28.6 6.3 Q25.1 6.3 22.35 7.55 Q19.6 8.8 17.75 10.9 Q15.9 13 14.9 15.9 Q13.9 18.8 13.9 22.1 Q13.9 25.4 14.85 28.35 Q15.8 31.3 17.7 33.45 Q19.6 35.6 22.3 36.85 Q25 38.1 28.6 38.1 Z\"\n",
       "        /><glyph unicode=\"1\" horiz-adv-x=\"55.6\" d=\"M35.6 0 L35.6 70.9 L29.1 70.9 Q28.4 66.9 26.5 64.3 Q24.6 61.7 21.85 60.2 Q19.1 58.7 15.7 58.15 Q12.3 57.6 8.7 57.6 L8.7 50.8 L27.1 50.8 L27.1 0 Z\"\n",
       "        /><glyph unicode=\"-\" horiz-adv-x=\"38.9\" d=\"M5 31.8 L5 23.8 L33.9 23.8 L33.9 31.8 Z\"\n",
       "        /><glyph unicode=\"4\" horiz-adv-x=\"55.6\" d=\"M33.9 24.1 L10.1 24.1 L33.7 58.8 L33.9 58.8 ZM41.9 24.1 L41.9 70.9 L35.1 70.9 L2.8 24.8 L2.8 16.6 L33.9 16.6 L33.9 0 L41.9 0 L41.9 16.6 L51.5 16.6 L51.5 24.1 Z\"\n",
       "        /><glyph unicode=\"2\" horiz-adv-x=\"55.6\" d=\"M4.4 45.8 L12.9 45.8 Q12.8 49 13.55 52.15 Q14.3 55.3 16 57.8 Q17.7 60.3 20.35 61.85 Q23 63.4 26.7 63.4 Q29.5 63.4 32 62.5 Q34.5 61.6 36.35 59.9 Q38.2 58.2 39.3 55.85 Q40.4 53.5 40.4 50.6 Q40.4 46.9 39.25 44.1 Q38.1 41.3 35.85 38.9 Q33.6 36.5 30.2 34.15 Q26.8 31.8 22.3 29 Q18.6 26.8 15.2 24.3 Q11.8 21.8 9.1 18.5 Q6.4 15.2 4.65 10.75 Q2.9 6.3 2.4 0 L48.7 0 L48.7 7.5 L12.3 7.5 Q12.9 10.8 14.85 13.35 Q16.8 15.9 19.55 18.1 Q22.3 20.3 25.6 22.25 Q28.9 24.2 32.2 26.2 Q35.5 28.3 38.6 30.6 Q41.7 32.9 44.1 35.75 Q46.5 38.6 47.95 42.2 Q49.4 45.8 49.4 50.5 Q49.4 55.5 47.65 59.3 Q45.9 63.1 42.9 65.65 Q39.9 68.2 35.85 69.55 Q31.8 70.9 27.2 70.9 Q21.6 70.9 17.2 69 Q12.8 67.1 9.85 63.75 Q6.9 60.4 5.5 55.8 Q4.1 51.2 4.4 45.8 Z\"\n",
       "        /><glyph unicode=\"0\" horiz-adv-x=\"55.6\" d=\"M13.2 34.9 Q13.2 37.5 13.25 40.65 Q13.3 43.8 13.75 46.95 Q14.2 50.1 15.05 53.1 Q15.9 56.1 17.55 58.35 Q19.2 60.6 21.7 62 Q24.2 63.4 27.8 63.4 Q31.4 63.4 33.9 62 Q36.4 60.6 38.05 58.35 Q39.7 56.1 40.55 53.1 Q41.4 50.1 41.85 46.95 Q42.3 43.8 42.35 40.65 Q42.4 37.5 42.4 34.9 Q42.4 30.9 42.15 25.95 Q41.9 21 40.55 16.65 Q39.2 12.3 36.2 9.3 Q33.2 6.3 27.8 6.3 Q22.4 6.3 19.4 9.3 Q16.4 12.3 15.05 16.65 Q13.7 21 13.45 25.95 Q13.2 30.9 13.2 34.9 ZM4.2 34.8 Q4.2 30.9 4.4 26.7 Q4.6 22.5 5.4 18.5 Q6.2 14.5 7.7 10.95 Q9.2 7.4 11.8 4.7 Q14.4 2 18.35 0.45 Q22.3 -1.1 27.8 -1.1 Q33.4 -1.1 37.3 0.45 Q41.2 2 43.8 4.7 Q46.4 7.4 47.9 10.95 Q49.4 14.5 50.2 18.5 Q51 22.5 51.2 26.7 Q51.4 30.9 51.4 34.8 Q51.4 38.7 51.2 42.9 Q51 47.1 50.2 51.1 Q49.4 55.1 47.9 58.7 Q46.4 62.3 43.8 65 Q41.2 67.7 37.25 69.3 Q33.3 70.9 27.8 70.9 Q22.3 70.9 18.35 69.3 Q14.4 67.7 11.8 65 Q9.2 62.3 7.7 58.7 Q6.2 55.1 5.4 51.1 Q4.6 47.1 4.4 42.9 Q4.2 38.7 4.2 34.8 Z\"\n",
       "        /><glyph unicode=\"8\" horiz-adv-x=\"55.6\" d=\"M15.5 52.5 Q15.5 55.2 16.5 57.2 Q17.5 59.2 19.15 60.6 Q20.8 62 23.1 62.7 Q25.4 63.4 27.9 63.4 Q33.1 63.4 36.45 60.65 Q39.8 57.9 39.8 52.5 Q39.8 47.1 36.5 44.1 Q33.2 41.1 28.1 41.1 Q25.5 41.1 23.2 41.8 Q20.9 42.5 19.2 43.9 Q17.5 45.3 16.5 47.45 Q15.5 49.6 15.5 52.5 ZM6.5 52.8 Q6.5 48 9.2 43.95 Q11.9 39.9 16.4 38.1 Q10.4 36 7.2 31.35 Q4 26.7 4 20.4 Q4 15 5.85 10.95 Q7.7 6.9 10.95 4.2 Q14.2 1.5 18.6 0.2 Q23 -1.1 28.1 -1.1 Q33 -1.1 37.3 0.3 Q41.6 1.7 44.75 4.45 Q47.9 7.2 49.75 11.2 Q51.6 15.2 51.6 20.4 Q51.6 27 48.5 31.55 Q45.4 36.1 39 38.1 Q43.5 40.1 46.15 44.05 Q48.8 48 48.8 52.8 Q48.8 56.2 47.6 59.45 Q46.4 62.7 43.85 65.25 Q41.3 67.8 37.2 69.35 Q33.1 70.9 27.3 70.9 Q23.2 70.9 19.45 69.7 Q15.7 68.5 12.8 66.2 Q9.9 63.9 8.2 60.55 Q6.5 57.2 6.5 52.8 ZM13 20 Q13 23.1 14.15 25.6 Q15.3 28.1 17.35 29.9 Q19.4 31.7 22.15 32.65 Q24.9 33.6 28 33.6 Q31 33.6 33.65 32.55 Q36.3 31.5 38.3 29.7 Q40.3 27.9 41.45 25.45 Q42.6 23 42.6 20.1 Q42.6 17.1 41.55 14.6 Q40.5 12.1 38.55 10.25 Q36.6 8.4 33.95 7.35 Q31.3 6.3 28.1 6.3 Q21.5 6.3 17.25 9.95 Q13 13.6 13 20 Z\"\n",
       "        /><glyph unicode=\"5\" horiz-adv-x=\"55.6\" d=\"M47 62.2 L47 69.7 L12 69.7 L5.4 32.9 L12.7 32.5 Q15.2 35.5 18.45 37.35 Q21.7 39.2 25.9 39.2 Q29.5 39.2 32.45 38 Q35.4 36.8 37.5 34.65 Q39.6 32.5 40.75 29.55 Q41.9 26.6 41.9 23.1 Q41.9 18.9 40.7 15.75 Q39.5 12.6 37.45 10.5 Q35.4 8.4 32.65 7.35 Q29.9 6.3 26.9 6.3 Q23.7 6.3 21.05 7.25 Q18.4 8.2 16.45 9.95 Q14.5 11.7 13.35 14.05 Q12.2 16.4 12 19.1 L3.5 19.1 Q3.6 14.3 5.4 10.5 Q7.2 6.7 10.3 4.15 Q13.4 1.6 17.45 0.25 Q21.5 -1.1 26.1 -1.1 Q32.3 -1.1 36.95 0.85 Q41.6 2.8 44.7 6.1 Q47.8 9.4 49.35 13.65 Q50.9 17.9 50.9 22.4 Q50.9 28.5 49.1 33.05 Q47.3 37.6 44.2 40.65 Q41.1 43.7 36.9 45.2 Q32.7 46.7 28 46.7 Q24.4 46.7 20.75 45.45 Q17.1 44.2 14.8 41.6 L14.6 41.8 L18.4 62.2 Z\"\n",
       "      /></font\n",
       "    ></defs\n",
       "    ><g style=\"fill:white; stroke:white;\"\n",
       "    ><rect x=\"0\" y=\"0\" width=\"560\" style=\"clip-path:url(#clipPath1); stroke:none;\" height=\"420\"\n",
       "    /></g\n",
       "    ><g style=\"fill:white; text-rendering:optimizeSpeed; color-rendering:optimizeSpeed; image-rendering:optimizeSpeed; shape-rendering:crispEdges; stroke:white; color-interpolation:sRGB;\"\n",
       "    ><rect x=\"0\" width=\"560\" height=\"420\" y=\"0\" style=\"stroke:none;\"\n",
       "      /><path style=\"stroke:none;\" d=\"M73 374 L507 374 L507 31.5 L73 31.5 Z\"\n",
       "    /></g\n",
       "    ><g style=\"fill:rgb(38,38,38); text-rendering:geometricPrecision; image-rendering:optimizeQuality; color-rendering:optimizeQuality; stroke-linejoin:round; stroke:rgb(38,38,38); color-interpolation:linearRGB; stroke-width:0.5;\"\n",
       "    ><line y2=\"31.5\" style=\"fill:none;\" x1=\"73\" x2=\"73\" y1=\"374\"\n",
       "      /><line y2=\"31.5\" style=\"fill:none;\" x1=\"507\" x2=\"507\" y1=\"374\"\n",
       "      /><line y2=\"374\" style=\"fill:none;\" x1=\"73\" x2=\"77.34\" y1=\"374\"\n",
       "      /><line y2=\"339.75\" style=\"fill:none;\" x1=\"73\" x2=\"77.34\" y1=\"339.75\"\n",
       "      /><line y2=\"305.5\" style=\"fill:none;\" x1=\"73\" x2=\"77.34\" y1=\"305.5\"\n",
       "      /><line y2=\"271.25\" style=\"fill:none;\" x1=\"73\" x2=\"77.34\" y1=\"271.25\"\n",
       "      /><line y2=\"237\" style=\"fill:none;\" x1=\"73\" x2=\"77.34\" y1=\"237\"\n",
       "      /><line y2=\"202.75\" style=\"fill:none;\" x1=\"73\" x2=\"77.34\" y1=\"202.75\"\n",
       "      /><line y2=\"168.5\" style=\"fill:none;\" x1=\"73\" x2=\"77.34\" y1=\"168.5\"\n",
       "      /><line y2=\"134.25\" style=\"fill:none;\" x1=\"73\" x2=\"77.34\" y1=\"134.25\"\n",
       "      /><line y2=\"100\" style=\"fill:none;\" x1=\"73\" x2=\"77.34\" y1=\"100\"\n",
       "      /><line y2=\"65.75\" style=\"fill:none;\" x1=\"73\" x2=\"77.34\" y1=\"65.75\"\n",
       "      /><line y2=\"31.5\" style=\"fill:none;\" x1=\"73\" x2=\"77.34\" y1=\"31.5\"\n",
       "      /><line y2=\"374\" style=\"fill:none;\" x1=\"507\" x2=\"502.66\" y1=\"374\"\n",
       "      /><line y2=\"339.75\" style=\"fill:none;\" x1=\"507\" x2=\"502.66\" y1=\"339.75\"\n",
       "      /><line y2=\"305.5\" style=\"fill:none;\" x1=\"507\" x2=\"502.66\" y1=\"305.5\"\n",
       "      /><line y2=\"271.25\" style=\"fill:none;\" x1=\"507\" x2=\"502.66\" y1=\"271.25\"\n",
       "      /><line y2=\"237\" style=\"fill:none;\" x1=\"507\" x2=\"502.66\" y1=\"237\"\n",
       "      /><line y2=\"202.75\" style=\"fill:none;\" x1=\"507\" x2=\"502.66\" y1=\"202.75\"\n",
       "      /><line y2=\"168.5\" style=\"fill:none;\" x1=\"507\" x2=\"502.66\" y1=\"168.5\"\n",
       "      /><line y2=\"134.25\" style=\"fill:none;\" x1=\"507\" x2=\"502.66\" y1=\"134.25\"\n",
       "      /><line y2=\"100\" style=\"fill:none;\" x1=\"507\" x2=\"502.66\" y1=\"100\"\n",
       "      /><line y2=\"65.75\" style=\"fill:none;\" x1=\"507\" x2=\"502.66\" y1=\"65.75\"\n",
       "      /><line y2=\"31.5\" style=\"fill:none;\" x1=\"507\" x2=\"502.66\" y1=\"31.5\"\n",
       "    /></g\n",
       "    ><g transform=\"translate(69,374)\" style=\"font-size:10px; fill:rgb(38,38,38); text-rendering:geometricPrecision; image-rendering:optimizeQuality; color-rendering:optimizeQuality; font-family:'Helvetica Neue'; stroke:rgb(38,38,38); color-interpolation:linearRGB;\"\n",
       "    ><text x=\"-16\" xml:space=\"preserve\" y=\"3.5\" style=\"stroke:none;\"\n",
       "      >-16</text\n",
       "    ></g\n",
       "    ><g transform=\"translate(69,339.75)\" style=\"font-size:10px; fill:rgb(38,38,38); text-rendering:geometricPrecision; image-rendering:optimizeQuality; color-rendering:optimizeQuality; font-family:'Helvetica Neue'; stroke:rgb(38,38,38); color-interpolation:linearRGB;\"\n",
       "    ><text x=\"-16\" xml:space=\"preserve\" y=\"3.5\" style=\"stroke:none;\"\n",
       "      >-14</text\n",
       "    ></g\n",
       "    ><g transform=\"translate(69,305.5)\" style=\"font-size:10px; fill:rgb(38,38,38); text-rendering:geometricPrecision; image-rendering:optimizeQuality; color-rendering:optimizeQuality; font-family:'Helvetica Neue'; stroke:rgb(38,38,38); color-interpolation:linearRGB;\"\n",
       "    ><text x=\"-16\" xml:space=\"preserve\" y=\"3.5\" style=\"stroke:none;\"\n",
       "      >-12</text\n",
       "    ></g\n",
       "    ><g transform=\"translate(69,271.25)\" style=\"font-size:10px; fill:rgb(38,38,38); text-rendering:geometricPrecision; image-rendering:optimizeQuality; color-rendering:optimizeQuality; font-family:'Helvetica Neue'; stroke:rgb(38,38,38); color-interpolation:linearRGB;\"\n",
       "    ><text x=\"-16\" xml:space=\"preserve\" y=\"3.5\" style=\"stroke:none;\"\n",
       "      >-10</text\n",
       "    ></g\n",
       "    ><g transform=\"translate(69,237)\" style=\"font-size:10px; fill:rgb(38,38,38); text-rendering:geometricPrecision; image-rendering:optimizeQuality; color-rendering:optimizeQuality; font-family:'Helvetica Neue'; stroke:rgb(38,38,38); color-interpolation:linearRGB;\"\n",
       "    ><text x=\"-10\" xml:space=\"preserve\" y=\"3.5\" style=\"stroke:none;\"\n",
       "      >-8</text\n",
       "    ></g\n",
       "    ><g transform=\"translate(69,202.75)\" style=\"font-size:10px; fill:rgb(38,38,38); text-rendering:geometricPrecision; image-rendering:optimizeQuality; color-rendering:optimizeQuality; font-family:'Helvetica Neue'; stroke:rgb(38,38,38); color-interpolation:linearRGB;\"\n",
       "    ><text x=\"-10\" xml:space=\"preserve\" y=\"3.5\" style=\"stroke:none;\"\n",
       "      >-6</text\n",
       "    ></g\n",
       "    ><g transform=\"translate(69,168.5)\" style=\"font-size:10px; fill:rgb(38,38,38); text-rendering:geometricPrecision; image-rendering:optimizeQuality; color-rendering:optimizeQuality; font-family:'Helvetica Neue'; stroke:rgb(38,38,38); color-interpolation:linearRGB;\"\n",
       "    ><text x=\"-10\" xml:space=\"preserve\" y=\"3.5\" style=\"stroke:none;\"\n",
       "      >-4</text\n",
       "    ></g\n",
       "    ><g transform=\"translate(69,134.25)\" style=\"font-size:10px; fill:rgb(38,38,38); text-rendering:geometricPrecision; image-rendering:optimizeQuality; color-rendering:optimizeQuality; font-family:'Helvetica Neue'; stroke:rgb(38,38,38); color-interpolation:linearRGB;\"\n",
       "    ><text x=\"-10\" xml:space=\"preserve\" y=\"3.5\" style=\"stroke:none;\"\n",
       "      >-2</text\n",
       "    ></g\n",
       "    ><g transform=\"translate(69,100)\" style=\"font-size:10px; fill:rgb(38,38,38); text-rendering:geometricPrecision; image-rendering:optimizeQuality; color-rendering:optimizeQuality; font-family:'Helvetica Neue'; stroke:rgb(38,38,38); color-interpolation:linearRGB;\"\n",
       "    ><text x=\"-6\" xml:space=\"preserve\" y=\"3.5\" style=\"stroke:none;\"\n",
       "      >0</text\n",
       "    ></g\n",
       "    ><g transform=\"translate(69,65.75)\" style=\"font-size:10px; fill:rgb(38,38,38); text-rendering:geometricPrecision; image-rendering:optimizeQuality; color-rendering:optimizeQuality; font-family:'Helvetica Neue'; stroke:rgb(38,38,38); color-interpolation:linearRGB;\"\n",
       "    ><text x=\"-6\" xml:space=\"preserve\" y=\"3.5\" style=\"stroke:none;\"\n",
       "      >2</text\n",
       "    ></g\n",
       "    ><g transform=\"translate(69,31.5)\" style=\"font-size:10px; fill:rgb(38,38,38); text-rendering:geometricPrecision; image-rendering:optimizeQuality; color-rendering:optimizeQuality; font-family:'Helvetica Neue'; stroke:rgb(38,38,38); color-interpolation:linearRGB;\"\n",
       "    ><text x=\"-6\" xml:space=\"preserve\" y=\"3.5\" style=\"stroke:none;\"\n",
       "      >4</text\n",
       "    ></g\n",
       "    ><g style=\"stroke-linecap:butt; fill:rgb(38,38,38); text-rendering:geometricPrecision; image-rendering:optimizeQuality; color-rendering:optimizeQuality; stroke-linejoin:round; stroke:rgb(38,38,38); color-interpolation:linearRGB; stroke-width:0.5;\"\n",
       "    ><line y2=\"100\" style=\"fill:none;\" x1=\"73\" x2=\"507\" y1=\"100\"\n",
       "      /><path d=\"M0 -2.75 C1.5188 -2.75 2.75 -1.5188 2.75 0 L2.75 0 C2.75 1.5188 1.5188 2.75 -0 2.75 C-1.5188 2.75 -2.75 1.5188 -2.75 -0 C-2.75 -1.5188 -1.5188 -2.75 0 -2.75 ZM0 -3.25 C-1.7949 -3.25 -3.25 -1.7949 -3.25 -0 C-3.25 1.7949 -1.7949 3.25 -0 3.25 C1.7949 3.25 3.25 1.7949 3.25 0 L3.25 0 C3.25 -1.7949 1.7949 -3.25 0 -3.25 Z\" style=\"fill:rgb(0,114,189); stroke:none;\" transform=\"translate(90.36,31.5)\"\n",
       "      /><path d=\"M0 -2.75 C1.5188 -2.75 2.75 -1.5188 2.75 0 L2.75 0 C2.75 1.5188 1.5188 2.75 -0 2.75 C-1.5188 2.75 -2.75 1.5188 -2.75 -0 C-2.75 -1.5188 -1.5188 -2.75 0 -2.75 ZM0 -3.25 C-1.7949 -3.25 -3.25 -1.7949 -3.25 -0 C-3.25 1.7949 -1.7949 3.25 -0 3.25 C1.7949 3.25 3.25 1.7949 3.25 0 L3.25 0 C3.25 -1.7949 1.7949 -3.25 0 -3.25 Z\" style=\"fill:rgb(0,114,189); stroke:none;\" transform=\"translate(107.72,100)\"\n",
       "      /><path d=\"M0 -2.75 C1.5188 -2.75 2.75 -1.5188 2.75 0 L2.75 0 C2.75 1.5188 1.5188 2.75 -0 2.75 C-1.5188 2.75 -2.75 1.5188 -2.75 -0 C-2.75 -1.5188 -1.5188 -2.75 0 -2.75 ZM0 -3.25 C-1.7949 -3.25 -3.25 -1.7949 -3.25 -0 C-3.25 1.7949 -1.7949 3.25 -0 3.25 C1.7949 3.25 3.25 1.7949 3.25 0 L3.25 0 C3.25 -1.7949 1.7949 -3.25 0 -3.25 Z\" style=\"fill:rgb(0,114,189); stroke:none;\" transform=\"translate(125.08,356.875)\"\n",
       "      /><path d=\"M0 -2.75 C1.5188 -2.75 2.75 -1.5188 2.75 0 L2.75 0 C2.75 1.5188 1.5188 2.75 -0 2.75 C-1.5188 2.75 -2.75 1.5188 -2.75 -0 C-2.75 -1.5188 -1.5188 -2.75 0 -2.75 ZM0 -3.25 C-1.7949 -3.25 -3.25 -1.7949 -3.25 -0 C-3.25 1.7949 -1.7949 3.25 -0 3.25 C1.7949 3.25 3.25 1.7949 3.25 0 L3.25 0 C3.25 -1.7949 1.7949 -3.25 0 -3.25 Z\" style=\"fill:rgb(0,114,189); stroke:none;\" transform=\"translate(142.44,100)\"\n",
       "      /><path d=\"M0 -2.75 C1.5188 -2.75 2.75 -1.5188 2.75 0 L2.75 0 C2.75 1.5188 1.5188 2.75 -0 2.75 C-1.5188 2.75 -2.75 1.5188 -2.75 -0 C-2.75 -1.5188 -1.5188 -2.75 0 -2.75 ZM0 -3.25 C-1.7949 -3.25 -3.25 -1.7949 -3.25 -0 C-3.25 1.7949 -1.7949 3.25 -0 3.25 C1.7949 3.25 3.25 1.7949 3.25 0 L3.25 0 C3.25 -1.7949 1.7949 -3.25 0 -3.25 Z\" style=\"fill:rgb(0,114,189); stroke:none;\" transform=\"translate(159.8,164.2188)\"\n",
       "      /><path d=\"M0 -2.75 C1.5188 -2.75 2.75 -1.5188 2.75 0 L2.75 0 C2.75 1.5188 1.5188 2.75 -0 2.75 C-1.5188 2.75 -2.75 1.5188 -2.75 -0 C-2.75 -1.5188 -1.5188 -2.75 0 -2.75 ZM0 -3.25 C-1.7949 -3.25 -3.25 -1.7949 -3.25 -0 C-3.25 1.7949 -1.7949 3.25 -0 3.25 C1.7949 3.25 3.25 1.7949 3.25 0 L3.25 0 C3.25 -1.7949 1.7949 -3.25 0 -3.25 Z\" style=\"fill:rgb(0,114,189); stroke:none;\" transform=\"translate(177.16,100)\"\n",
       "      /><path d=\"M0 -2.75 C1.5188 -2.75 2.75 -1.5188 2.75 0 L2.75 0 C2.75 1.5188 1.5188 2.75 -0 2.75 C-1.5188 2.75 -2.75 1.5188 -2.75 -0 C-2.75 -1.5188 -1.5188 -2.75 0 -2.75 ZM0 -3.25 C-1.7949 -3.25 -3.25 -1.7949 -3.25 -0 C-3.25 1.7949 -1.7949 3.25 -0 3.25 C1.7949 3.25 3.25 1.7949 3.25 0 L3.25 0 C3.25 -1.7949 1.7949 -3.25 0 -3.25 Z\" style=\"fill:rgb(0,114,189); stroke:none;\" transform=\"translate(194.52,116.0547)\"\n",
       "      /><path d=\"M0 -2.75 C1.5188 -2.75 2.75 -1.5188 2.75 0 L2.75 0 C2.75 1.5188 1.5188 2.75 -0 2.75 C-1.5188 2.75 -2.75 1.5188 -2.75 -0 C-2.75 -1.5188 -1.5188 -2.75 0 -2.75 ZM0 -3.25 C-1.7949 -3.25 -3.25 -1.7949 -3.25 -0 C-3.25 1.7949 -1.7949 3.25 -0 3.25 C1.7949 3.25 3.25 1.7949 3.25 0 L3.25 0 C3.25 -1.7949 1.7949 -3.25 0 -3.25 Z\" style=\"fill:rgb(0,114,189); stroke:none;\" transform=\"translate(211.88,100)\"\n",
       "      /><path d=\"M0 -2.75 C1.5188 -2.75 2.75 -1.5188 2.75 0 L2.75 0 C2.75 1.5188 1.5188 2.75 -0 2.75 C-1.5188 2.75 -2.75 1.5188 -2.75 -0 C-2.75 -1.5188 -1.5188 -2.75 0 -2.75 ZM0 -3.25 C-1.7949 -3.25 -3.25 -1.7949 -3.25 -0 C-3.25 1.7949 -1.7949 3.25 -0 3.25 C1.7949 3.25 3.25 1.7949 3.25 0 L3.25 0 C3.25 -1.7949 1.7949 -3.25 0 -3.25 Z\" style=\"fill:rgb(0,114,189); stroke:none;\" transform=\"translate(229.24,104.0137)\"\n",
       "      /><path d=\"M0 -2.75 C1.5188 -2.75 2.75 -1.5188 2.75 0 L2.75 0 C2.75 1.5188 1.5188 2.75 -0 2.75 C-1.5188 2.75 -2.75 1.5188 -2.75 -0 C-2.75 -1.5188 -1.5188 -2.75 0 -2.75 ZM0 -3.25 C-1.7949 -3.25 -3.25 -1.7949 -3.25 -0 C-3.25 1.7949 -1.7949 3.25 -0 3.25 C1.7949 3.25 3.25 1.7949 3.25 0 L3.25 0 C3.25 -1.7949 1.7949 -3.25 0 -3.25 Z\" style=\"fill:rgb(0,114,189); stroke:none;\" transform=\"translate(246.6,100)\"\n",
       "      /><path d=\"M0 -2.75 C1.5188 -2.75 2.75 -1.5188 2.75 0 L2.75 0 C2.75 1.5188 1.5188 2.75 -0 2.75 C-1.5188 2.75 -2.75 1.5188 -2.75 -0 C-2.75 -1.5188 -1.5188 -2.75 0 -2.75 ZM0 -3.25 C-1.7949 -3.25 -3.25 -1.7949 -3.25 -0 C-3.25 1.7949 -1.7949 3.25 -0 3.25 C1.7949 3.25 3.25 1.7949 3.25 0 L3.25 0 C3.25 -1.7949 1.7949 -3.25 0 -3.25 Z\" style=\"fill:rgb(0,114,189); stroke:none;\" transform=\"translate(263.96,101.0034)\"\n",
       "      /><path d=\"M0 -2.75 C1.5188 -2.75 2.75 -1.5188 2.75 0 L2.75 0 C2.75 1.5188 1.5188 2.75 -0 2.75 C-1.5188 2.75 -2.75 1.5188 -2.75 -0 C-2.75 -1.5188 -1.5188 -2.75 0 -2.75 ZM0 -3.25 C-1.7949 -3.25 -3.25 -1.7949 -3.25 -0 C-3.25 1.7949 -1.7949 3.25 -0 3.25 C1.7949 3.25 3.25 1.7949 3.25 0 L3.25 0 C3.25 -1.7949 1.7949 -3.25 0 -3.25 Z\" style=\"fill:rgb(0,114,189); stroke:none;\" transform=\"translate(281.32,100)\"\n",
       "      /><path d=\"M0 -2.75 C1.5188 -2.75 2.75 -1.5188 2.75 0 L2.75 0 C2.75 1.5188 1.5188 2.75 -0 2.75 C-1.5188 2.75 -2.75 1.5188 -2.75 -0 C-2.75 -1.5188 -1.5188 -2.75 0 -2.75 ZM0 -3.25 C-1.7949 -3.25 -3.25 -1.7949 -3.25 -0 C-3.25 1.7949 -1.7949 3.25 -0 3.25 C1.7949 3.25 3.25 1.7949 3.25 0 L3.25 0 C3.25 -1.7949 1.7949 -3.25 0 -3.25 Z\" style=\"fill:rgb(0,114,189); stroke:none;\" transform=\"translate(298.68,100.2509)\"\n",
       "      /><path d=\"M0 -2.75 C1.5188 -2.75 2.75 -1.5188 2.75 0 L2.75 0 C2.75 1.5188 1.5188 2.75 -0 2.75 C-1.5188 2.75 -2.75 1.5188 -2.75 -0 C-2.75 -1.5188 -1.5188 -2.75 0 -2.75 ZM0 -3.25 C-1.7949 -3.25 -3.25 -1.7949 -3.25 -0 C-3.25 1.7949 -1.7949 3.25 -0 3.25 C1.7949 3.25 3.25 1.7949 3.25 0 L3.25 0 C3.25 -1.7949 1.7949 -3.25 0 -3.25 Z\" style=\"fill:rgb(0,114,189); stroke:none;\" transform=\"translate(316.04,100)\"\n",
       "      /><path d=\"M0 -2.75 C1.5188 -2.75 2.75 -1.5188 2.75 0 L2.75 0 C2.75 1.5188 1.5188 2.75 -0 2.75 C-1.5188 2.75 -2.75 1.5188 -2.75 -0 C-2.75 -1.5188 -1.5188 -2.75 0 -2.75 ZM0 -3.25 C-1.7949 -3.25 -3.25 -1.7949 -3.25 -0 C-3.25 1.7949 -1.7949 3.25 -0 3.25 C1.7949 3.25 3.25 1.7949 3.25 0 L3.25 0 C3.25 -1.7949 1.7949 -3.25 0 -3.25 Z\" style=\"fill:rgb(0,114,189); stroke:none;\" transform=\"translate(333.4,100.0627)\"\n",
       "      /><path d=\"M0 -2.75 C1.5188 -2.75 2.75 -1.5188 2.75 0 L2.75 0 C2.75 1.5188 1.5188 2.75 -0 2.75 C-1.5188 2.75 -2.75 1.5188 -2.75 -0 C-2.75 -1.5188 -1.5188 -2.75 0 -2.75 ZM0 -3.25 C-1.7949 -3.25 -3.25 -1.7949 -3.25 -0 C-3.25 1.7949 -1.7949 3.25 -0 3.25 C1.7949 3.25 3.25 1.7949 3.25 0 L3.25 0 C3.25 -1.7949 1.7949 -3.25 0 -3.25 Z\" style=\"fill:rgb(0,114,189); stroke:none;\" transform=\"translate(350.76,100)\"\n",
       "      /><path d=\"M0 -2.75 C1.5188 -2.75 2.75 -1.5188 2.75 0 L2.75 0 C2.75 1.5188 1.5188 2.75 -0 2.75 C-1.5188 2.75 -2.75 1.5188 -2.75 -0 C-2.75 -1.5188 -1.5188 -2.75 0 -2.75 ZM0 -3.25 C-1.7949 -3.25 -3.25 -1.7949 -3.25 -0 C-3.25 1.7949 -1.7949 3.25 -0 3.25 C1.7949 3.25 3.25 1.7949 3.25 0 L3.25 0 C3.25 -1.7949 1.7949 -3.25 0 -3.25 Z\" style=\"fill:rgb(0,114,189); stroke:none;\" transform=\"translate(368.12,100.0157)\"\n",
       "      /><path d=\"M0 -2.75 C1.5188 -2.75 2.75 -1.5188 2.75 0 L2.75 0 C2.75 1.5188 1.5188 2.75 -0 2.75 C-1.5188 2.75 -2.75 1.5188 -2.75 -0 C-2.75 -1.5188 -1.5188 -2.75 0 -2.75 ZM0 -3.25 C-1.7949 -3.25 -3.25 -1.7949 -3.25 -0 C-3.25 1.7949 -1.7949 3.25 -0 3.25 C1.7949 3.25 3.25 1.7949 3.25 0 L3.25 0 C3.25 -1.7949 1.7949 -3.25 0 -3.25 Z\" style=\"fill:rgb(0,114,189); stroke:none;\" transform=\"translate(385.48,100)\"\n",
       "      /><path d=\"M0 -2.75 C1.5188 -2.75 2.75 -1.5188 2.75 0 L2.75 0 C2.75 1.5188 1.5188 2.75 -0 2.75 C-1.5188 2.75 -2.75 1.5188 -2.75 -0 C-2.75 -1.5188 -1.5188 -2.75 0 -2.75 ZM0 -3.25 C-1.7949 -3.25 -3.25 -1.7949 -3.25 -0 C-3.25 1.7949 -1.7949 3.25 -0 3.25 C1.7949 3.25 3.25 1.7949 3.25 0 L3.25 0 C3.25 -1.7949 1.7949 -3.25 0 -3.25 Z\" style=\"fill:rgb(0,114,189); stroke:none;\" transform=\"translate(402.84,100.0039)\"\n",
       "      /><path d=\"M0 -2.75 C1.5188 -2.75 2.75 -1.5188 2.75 0 L2.75 0 C2.75 1.5188 1.5188 2.75 -0 2.75 C-1.5188 2.75 -2.75 1.5188 -2.75 -0 C-2.75 -1.5188 -1.5188 -2.75 0 -2.75 ZM0 -3.25 C-1.7949 -3.25 -3.25 -1.7949 -3.25 -0 C-3.25 1.7949 -1.7949 3.25 -0 3.25 C1.7949 3.25 3.25 1.7949 3.25 0 L3.25 0 C3.25 -1.7949 1.7949 -3.25 0 -3.25 Z\" style=\"fill:rgb(0,114,189); stroke:none;\" transform=\"translate(420.2,100)\"\n",
       "      /><path d=\"M0 -2.75 C1.5188 -2.75 2.75 -1.5188 2.75 0 L2.75 0 C2.75 1.5188 1.5188 2.75 -0 2.75 C-1.5188 2.75 -2.75 1.5188 -2.75 -0 C-2.75 -1.5188 -1.5188 -2.75 0 -2.75 ZM0 -3.25 C-1.7949 -3.25 -3.25 -1.7949 -3.25 -0 C-3.25 1.7949 -1.7949 3.25 -0 3.25 C1.7949 3.25 3.25 1.7949 3.25 0 L3.25 0 C3.25 -1.7949 1.7949 -3.25 0 -3.25 Z\" style=\"fill:rgb(0,114,189); stroke:none;\" transform=\"translate(437.56,100.001)\"\n",
       "      /><line x1=\"90.36\" x2=\"90.36\" y1=\"100\" style=\"fill:none; stroke:rgb(0,114,189);\" y2=\"31.5\"\n",
       "      /><line x1=\"107.72\" x2=\"107.72\" y1=\"100\" style=\"fill:none; stroke:rgb(0,114,189);\" y2=\"100\"\n",
       "      /><line x1=\"125.08\" x2=\"125.08\" y1=\"100\" style=\"fill:none; stroke:rgb(0,114,189);\" y2=\"356.875\"\n",
       "      /><line x1=\"142.44\" x2=\"142.44\" y1=\"100\" style=\"fill:none; stroke:rgb(0,114,189);\" y2=\"100\"\n",
       "      /><line x1=\"159.8\" x2=\"159.8\" y1=\"100\" style=\"fill:none; stroke:rgb(0,114,189);\" y2=\"164.2188\"\n",
       "      /><line x1=\"177.16\" x2=\"177.16\" y1=\"100\" style=\"fill:none; stroke:rgb(0,114,189);\" y2=\"100\"\n",
       "      /><line x1=\"194.52\" x2=\"194.52\" y1=\"100\" style=\"fill:none; stroke:rgb(0,114,189);\" y2=\"116.0547\"\n",
       "      /><line x1=\"211.88\" x2=\"211.88\" y1=\"100\" style=\"fill:none; stroke:rgb(0,114,189);\" y2=\"100\"\n",
       "      /><line x1=\"229.24\" x2=\"229.24\" y1=\"100\" style=\"fill:none; stroke:rgb(0,114,189);\" y2=\"104.0137\"\n",
       "      /><line x1=\"246.6\" x2=\"246.6\" y1=\"100\" style=\"fill:none; stroke:rgb(0,114,189);\" y2=\"100\"\n",
       "      /><line x1=\"263.96\" x2=\"263.96\" y1=\"100\" style=\"fill:none; stroke:rgb(0,114,189);\" y2=\"101.0034\"\n",
       "      /><line x1=\"281.32\" x2=\"281.32\" y1=\"100\" style=\"fill:none; stroke:rgb(0,114,189);\" y2=\"100\"\n",
       "      /><line x1=\"298.68\" x2=\"298.68\" y1=\"100\" style=\"fill:none; stroke:rgb(0,114,189);\" y2=\"100.2509\"\n",
       "      /><line x1=\"316.04\" x2=\"316.04\" y1=\"100\" style=\"fill:none; stroke:rgb(0,114,189);\" y2=\"100\"\n",
       "      /><line x1=\"333.4\" x2=\"333.4\" y1=\"100\" style=\"fill:none; stroke:rgb(0,114,189);\" y2=\"100.0627\"\n",
       "      /><line x1=\"350.76\" x2=\"350.76\" y1=\"100\" style=\"fill:none; stroke:rgb(0,114,189);\" y2=\"100\"\n",
       "      /><line x1=\"368.12\" x2=\"368.12\" y1=\"100\" style=\"fill:none; stroke:rgb(0,114,189);\" y2=\"100.0157\"\n",
       "      /><line x1=\"385.48\" x2=\"385.48\" y1=\"100\" style=\"fill:none; stroke:rgb(0,114,189);\" y2=\"100\"\n",
       "      /><line x1=\"402.84\" x2=\"402.84\" y1=\"100\" style=\"fill:none; stroke:rgb(0,114,189);\" y2=\"100.0039\"\n",
       "      /><line x1=\"420.2\" x2=\"420.2\" y1=\"100\" style=\"fill:none; stroke:rgb(0,114,189);\" y2=\"100\"\n",
       "      /><line x1=\"437.56\" x2=\"437.56\" y1=\"100\" style=\"fill:none; stroke:rgb(0,114,189);\" y2=\"100.001\"\n",
       "      /><line x1=\"73\" x2=\"507\" y1=\"374\" style=\"fill:none; stroke-linecap:square;\" y2=\"374\"\n",
       "      /><line x1=\"73\" x2=\"507\" y1=\"31.5\" style=\"fill:none; stroke-linecap:square;\" y2=\"31.5\"\n",
       "      /><line x1=\"73\" x2=\"73\" y1=\"374\" style=\"fill:none; stroke-linecap:square;\" y2=\"369.66\"\n",
       "      /><line x1=\"159.8\" x2=\"159.8\" y1=\"374\" style=\"fill:none; stroke-linecap:square;\" y2=\"369.66\"\n",
       "      /><line x1=\"246.6\" x2=\"246.6\" y1=\"374\" style=\"fill:none; stroke-linecap:square;\" y2=\"369.66\"\n",
       "      /><line x1=\"333.4\" x2=\"333.4\" y1=\"374\" style=\"fill:none; stroke-linecap:square;\" y2=\"369.66\"\n",
       "      /><line x1=\"420.2\" x2=\"420.2\" y1=\"374\" style=\"fill:none; stroke-linecap:square;\" y2=\"369.66\"\n",
       "      /><line x1=\"507\" x2=\"507\" y1=\"374\" style=\"fill:none; stroke-linecap:square;\" y2=\"369.66\"\n",
       "      /><line x1=\"73\" x2=\"73\" y1=\"31.5\" style=\"fill:none; stroke-linecap:square;\" y2=\"35.84\"\n",
       "      /><line x1=\"159.8\" x2=\"159.8\" y1=\"31.5\" style=\"fill:none; stroke-linecap:square;\" y2=\"35.84\"\n",
       "      /><line x1=\"246.6\" x2=\"246.6\" y1=\"31.5\" style=\"fill:none; stroke-linecap:square;\" y2=\"35.84\"\n",
       "      /><line x1=\"333.4\" x2=\"333.4\" y1=\"31.5\" style=\"fill:none; stroke-linecap:square;\" y2=\"35.84\"\n",
       "      /><line x1=\"420.2\" x2=\"420.2\" y1=\"31.5\" style=\"fill:none; stroke-linecap:square;\" y2=\"35.84\"\n",
       "      /><line x1=\"507\" x2=\"507\" y1=\"31.5\" style=\"fill:none; stroke-linecap:square;\" y2=\"35.84\"\n",
       "    /></g\n",
       "    ><g transform=\"translate(73,378)\" style=\"font-size:10px; fill:rgb(38,38,38); text-rendering:geometricPrecision; image-rendering:optimizeQuality; color-rendering:optimizeQuality; font-family:'Helvetica Neue'; stroke:rgb(38,38,38); color-interpolation:linearRGB;\"\n",
       "    ><text x=\"-3\" xml:space=\"preserve\" y=\"10\" style=\"stroke:none;\"\n",
       "      >0</text\n",
       "    ></g\n",
       "    ><g transform=\"translate(159.8,378)\" style=\"font-size:10px; fill:rgb(38,38,38); text-rendering:geometricPrecision; image-rendering:optimizeQuality; color-rendering:optimizeQuality; font-family:'Helvetica Neue'; stroke:rgb(38,38,38); color-interpolation:linearRGB;\"\n",
       "    ><text x=\"-3\" xml:space=\"preserve\" y=\"10\" style=\"stroke:none;\"\n",
       "      >5</text\n",
       "    ></g\n",
       "    ><g transform=\"translate(246.6,378)\" style=\"font-size:10px; fill:rgb(38,38,38); text-rendering:geometricPrecision; image-rendering:optimizeQuality; color-rendering:optimizeQuality; font-family:'Helvetica Neue'; stroke:rgb(38,38,38); color-interpolation:linearRGB;\"\n",
       "    ><text x=\"-6\" xml:space=\"preserve\" y=\"10\" style=\"stroke:none;\"\n",
       "      >10</text\n",
       "    ></g\n",
       "    ><g transform=\"translate(333.4,378)\" style=\"font-size:10px; fill:rgb(38,38,38); text-rendering:geometricPrecision; image-rendering:optimizeQuality; color-rendering:optimizeQuality; font-family:'Helvetica Neue'; stroke:rgb(38,38,38); color-interpolation:linearRGB;\"\n",
       "    ><text x=\"-6\" xml:space=\"preserve\" y=\"10\" style=\"stroke:none;\"\n",
       "      >15</text\n",
       "    ></g\n",
       "    ><g transform=\"translate(420.2,378)\" style=\"font-size:10px; fill:rgb(38,38,38); text-rendering:geometricPrecision; image-rendering:optimizeQuality; color-rendering:optimizeQuality; font-family:'Helvetica Neue'; stroke:rgb(38,38,38); color-interpolation:linearRGB;\"\n",
       "    ><text x=\"-6\" xml:space=\"preserve\" y=\"10\" style=\"stroke:none;\"\n",
       "      >20</text\n",
       "    ></g\n",
       "    ><g transform=\"translate(507,378)\" style=\"font-size:10px; fill:rgb(38,38,38); text-rendering:geometricPrecision; image-rendering:optimizeQuality; color-rendering:optimizeQuality; font-family:'Helvetica Neue'; stroke:rgb(38,38,38); color-interpolation:linearRGB;\"\n",
       "    ><text x=\"-6\" xml:space=\"preserve\" y=\"10\" style=\"stroke:none;\"\n",
       "      >25</text\n",
       "    ></g\n",
       "  ></g\n",
       "></svg\n",
       ">\n"
      ]
     },
     "metadata": {},
     "output_type": "display_data"
    }
   ],
   "source": [
    "stem(yi)"
   ]
  },
  {
   "cell_type": "markdown",
   "metadata": {
    "slideshow": {
     "slide_type": "subslide"
    }
   },
   "source": [
    "#### Step response as stem plot\n",
    "\n",
    "Should do same for step response too"
   ]
  },
  {
   "cell_type": "code",
   "execution_count": 11,
   "metadata": {
    "slideshow": {
     "slide_type": "fragment"
    }
   },
   "outputs": [
    {
     "data": {
      "image/svg+xml": [
       "<?xml version=\"1.0\"?>\n",
       "<!DOCTYPE svg PUBLIC '-//W3C//DTD SVG 1.0//EN'\n",
       "          'http://www.w3.org/TR/2001/REC-SVG-20010904/DTD/svg10.dtd'>\n",
       "<svg xmlns:xlink=\"http://www.w3.org/1999/xlink\" style=\"fill-opacity:1; color-rendering:auto; color-interpolation:auto; text-rendering:auto; stroke:black; stroke-linecap:square; stroke-miterlimit:10; shape-rendering:auto; stroke-opacity:1; fill:black; stroke-dasharray:none; font-weight:normal; stroke-width:1; font-family:'Dialog'; font-style:normal; stroke-linejoin:miter; font-size:12px; stroke-dashoffset:0; image-rendering:auto;\" width=\"560\" height=\"420\" xmlns=\"http://www.w3.org/2000/svg\"\n",
       "><!--Generated by the Batik Graphics2D SVG Generator--><defs id=\"genericDefs\"\n",
       "  /><g\n",
       "  ><defs id=\"defs1\"\n",
       "    ><clipPath clipPathUnits=\"userSpaceOnUse\" id=\"clipPath1\"\n",
       "      ><path d=\"M0 0 L560 0 L560 420 L0 420 L0 0 Z\"\n",
       "      /></clipPath\n",
       "      ><font horiz-adv-x=\"50.0\" id=\"font1\"\n",
       "      ><font-face ascent=\"95.200005\" descent=\"21.3\" units-per-em=\"100\" style=\"font-style:normal; font-family:Helvetica Neue; font-weight:normal;\"\n",
       "        /><missing-glyph horiz-adv-x=\"50.0\" d=\"M40.9 66.6 L10.2 66.6 L10.2 4.7 L40.9 4.7 ZM46 71.2 L46 0.1 L5.1 0.1 L5.1 71.2 Z\"\n",
       "        /><glyph unicode=\"6\" horiz-adv-x=\"55.6\" d=\"M41.4 52.8 L49.9 52.8 Q49.1 61.6 43.9 66.25 Q38.7 70.9 29.9 70.9 Q22.3 70.9 17.3 67.7 Q12.3 64.5 9.3 59.2 Q6.3 53.9 5.05 47.05 Q3.8 40.2 3.8 32.9 Q3.8 27.3 4.65 21.3 Q5.5 15.3 8.1 10.3 Q10.7 5.3 15.5 2.1 Q20.3 -1.1 28.2 -1.1 Q34.9 -1.1 39.45 1.15 Q44 3.4 46.75 6.85 Q49.5 10.3 50.7 14.5 Q51.9 18.7 51.9 22.6 Q51.9 27.5 50.4 31.7 Q48.9 35.9 46.15 39 Q43.4 42.1 39.35 43.85 Q35.3 45.6 30.2 45.6 Q24.4 45.6 19.95 43.4 Q15.5 41.2 12.5 36.3 L12.3 36.5 Q12.4 40.6 13.1 45.3 Q13.8 50 15.65 54.05 Q17.5 58.1 20.8 60.75 Q24.1 63.4 29.5 63.4 Q34.6 63.4 37.7 60.5 Q40.8 57.6 41.4 52.8 ZM28.6 38.1 Q32.2 38.1 34.9 36.8 Q37.6 35.5 39.4 33.35 Q41.2 31.2 42.05 28.25 Q42.9 25.3 42.9 22 Q42.9 18.9 41.95 16.05 Q41 13.2 39.2 11 Q37.4 8.8 34.75 7.55 Q32.1 6.3 28.6 6.3 Q25.1 6.3 22.35 7.55 Q19.6 8.8 17.75 10.9 Q15.9 13 14.9 15.9 Q13.9 18.8 13.9 22.1 Q13.9 25.4 14.85 28.35 Q15.8 31.3 17.7 33.45 Q19.6 35.6 22.3 36.85 Q25 38.1 28.6 38.1 Z\"\n",
       "        /><glyph unicode=\"1\" horiz-adv-x=\"55.6\" d=\"M35.6 0 L35.6 70.9 L29.1 70.9 Q28.4 66.9 26.5 64.3 Q24.6 61.7 21.85 60.2 Q19.1 58.7 15.7 58.15 Q12.3 57.6 8.7 57.6 L8.7 50.8 L27.1 50.8 L27.1 0 Z\"\n",
       "        /><glyph unicode=\"-\" horiz-adv-x=\"38.9\" d=\"M5 31.8 L5 23.8 L33.9 23.8 L33.9 31.8 Z\"\n",
       "        /><glyph unicode=\"4\" horiz-adv-x=\"55.6\" d=\"M33.9 24.1 L10.1 24.1 L33.7 58.8 L33.9 58.8 ZM41.9 24.1 L41.9 70.9 L35.1 70.9 L2.8 24.8 L2.8 16.6 L33.9 16.6 L33.9 0 L41.9 0 L41.9 16.6 L51.5 16.6 L51.5 24.1 Z\"\n",
       "        /><glyph unicode=\"2\" horiz-adv-x=\"55.6\" d=\"M4.4 45.8 L12.9 45.8 Q12.8 49 13.55 52.15 Q14.3 55.3 16 57.8 Q17.7 60.3 20.35 61.85 Q23 63.4 26.7 63.4 Q29.5 63.4 32 62.5 Q34.5 61.6 36.35 59.9 Q38.2 58.2 39.3 55.85 Q40.4 53.5 40.4 50.6 Q40.4 46.9 39.25 44.1 Q38.1 41.3 35.85 38.9 Q33.6 36.5 30.2 34.15 Q26.8 31.8 22.3 29 Q18.6 26.8 15.2 24.3 Q11.8 21.8 9.1 18.5 Q6.4 15.2 4.65 10.75 Q2.9 6.3 2.4 0 L48.7 0 L48.7 7.5 L12.3 7.5 Q12.9 10.8 14.85 13.35 Q16.8 15.9 19.55 18.1 Q22.3 20.3 25.6 22.25 Q28.9 24.2 32.2 26.2 Q35.5 28.3 38.6 30.6 Q41.7 32.9 44.1 35.75 Q46.5 38.6 47.95 42.2 Q49.4 45.8 49.4 50.5 Q49.4 55.5 47.65 59.3 Q45.9 63.1 42.9 65.65 Q39.9 68.2 35.85 69.55 Q31.8 70.9 27.2 70.9 Q21.6 70.9 17.2 69 Q12.8 67.1 9.85 63.75 Q6.9 60.4 5.5 55.8 Q4.1 51.2 4.4 45.8 Z\"\n",
       "        /><glyph unicode=\"0\" horiz-adv-x=\"55.6\" d=\"M13.2 34.9 Q13.2 37.5 13.25 40.65 Q13.3 43.8 13.75 46.95 Q14.2 50.1 15.05 53.1 Q15.9 56.1 17.55 58.35 Q19.2 60.6 21.7 62 Q24.2 63.4 27.8 63.4 Q31.4 63.4 33.9 62 Q36.4 60.6 38.05 58.35 Q39.7 56.1 40.55 53.1 Q41.4 50.1 41.85 46.95 Q42.3 43.8 42.35 40.65 Q42.4 37.5 42.4 34.9 Q42.4 30.9 42.15 25.95 Q41.9 21 40.55 16.65 Q39.2 12.3 36.2 9.3 Q33.2 6.3 27.8 6.3 Q22.4 6.3 19.4 9.3 Q16.4 12.3 15.05 16.65 Q13.7 21 13.45 25.95 Q13.2 30.9 13.2 34.9 ZM4.2 34.8 Q4.2 30.9 4.4 26.7 Q4.6 22.5 5.4 18.5 Q6.2 14.5 7.7 10.95 Q9.2 7.4 11.8 4.7 Q14.4 2 18.35 0.45 Q22.3 -1.1 27.8 -1.1 Q33.4 -1.1 37.3 0.45 Q41.2 2 43.8 4.7 Q46.4 7.4 47.9 10.95 Q49.4 14.5 50.2 18.5 Q51 22.5 51.2 26.7 Q51.4 30.9 51.4 34.8 Q51.4 38.7 51.2 42.9 Q51 47.1 50.2 51.1 Q49.4 55.1 47.9 58.7 Q46.4 62.3 43.8 65 Q41.2 67.7 37.25 69.3 Q33.3 70.9 27.8 70.9 Q22.3 70.9 18.35 69.3 Q14.4 67.7 11.8 65 Q9.2 62.3 7.7 58.7 Q6.2 55.1 5.4 51.1 Q4.6 47.1 4.4 42.9 Q4.2 38.7 4.2 34.8 Z\"\n",
       "        /><glyph unicode=\"8\" horiz-adv-x=\"55.6\" d=\"M15.5 52.5 Q15.5 55.2 16.5 57.2 Q17.5 59.2 19.15 60.6 Q20.8 62 23.1 62.7 Q25.4 63.4 27.9 63.4 Q33.1 63.4 36.45 60.65 Q39.8 57.9 39.8 52.5 Q39.8 47.1 36.5 44.1 Q33.2 41.1 28.1 41.1 Q25.5 41.1 23.2 41.8 Q20.9 42.5 19.2 43.9 Q17.5 45.3 16.5 47.45 Q15.5 49.6 15.5 52.5 ZM6.5 52.8 Q6.5 48 9.2 43.95 Q11.9 39.9 16.4 38.1 Q10.4 36 7.2 31.35 Q4 26.7 4 20.4 Q4 15 5.85 10.95 Q7.7 6.9 10.95 4.2 Q14.2 1.5 18.6 0.2 Q23 -1.1 28.1 -1.1 Q33 -1.1 37.3 0.3 Q41.6 1.7 44.75 4.45 Q47.9 7.2 49.75 11.2 Q51.6 15.2 51.6 20.4 Q51.6 27 48.5 31.55 Q45.4 36.1 39 38.1 Q43.5 40.1 46.15 44.05 Q48.8 48 48.8 52.8 Q48.8 56.2 47.6 59.45 Q46.4 62.7 43.85 65.25 Q41.3 67.8 37.2 69.35 Q33.1 70.9 27.3 70.9 Q23.2 70.9 19.45 69.7 Q15.7 68.5 12.8 66.2 Q9.9 63.9 8.2 60.55 Q6.5 57.2 6.5 52.8 ZM13 20 Q13 23.1 14.15 25.6 Q15.3 28.1 17.35 29.9 Q19.4 31.7 22.15 32.65 Q24.9 33.6 28 33.6 Q31 33.6 33.65 32.55 Q36.3 31.5 38.3 29.7 Q40.3 27.9 41.45 25.45 Q42.6 23 42.6 20.1 Q42.6 17.1 41.55 14.6 Q40.5 12.1 38.55 10.25 Q36.6 8.4 33.95 7.35 Q31.3 6.3 28.1 6.3 Q21.5 6.3 17.25 9.95 Q13 13.6 13 20 Z\"\n",
       "        /><glyph unicode=\"5\" horiz-adv-x=\"55.6\" d=\"M47 62.2 L47 69.7 L12 69.7 L5.4 32.9 L12.7 32.5 Q15.2 35.5 18.45 37.35 Q21.7 39.2 25.9 39.2 Q29.5 39.2 32.45 38 Q35.4 36.8 37.5 34.65 Q39.6 32.5 40.75 29.55 Q41.9 26.6 41.9 23.1 Q41.9 18.9 40.7 15.75 Q39.5 12.6 37.45 10.5 Q35.4 8.4 32.65 7.35 Q29.9 6.3 26.9 6.3 Q23.7 6.3 21.05 7.25 Q18.4 8.2 16.45 9.95 Q14.5 11.7 13.35 14.05 Q12.2 16.4 12 19.1 L3.5 19.1 Q3.6 14.3 5.4 10.5 Q7.2 6.7 10.3 4.15 Q13.4 1.6 17.45 0.25 Q21.5 -1.1 26.1 -1.1 Q32.3 -1.1 36.95 0.85 Q41.6 2.8 44.7 6.1 Q47.8 9.4 49.35 13.65 Q50.9 17.9 50.9 22.4 Q50.9 28.5 49.1 33.05 Q47.3 37.6 44.2 40.65 Q41.1 43.7 36.9 45.2 Q32.7 46.7 28 46.7 Q24.4 46.7 20.75 45.45 Q17.1 44.2 14.8 41.6 L14.6 41.8 L18.4 62.2 Z\"\n",
       "      /></font\n",
       "    ></defs\n",
       "    ><g style=\"fill:white; stroke:white;\"\n",
       "    ><rect x=\"0\" y=\"0\" width=\"560\" style=\"clip-path:url(#clipPath1); stroke:none;\" height=\"420\"\n",
       "    /></g\n",
       "    ><g style=\"fill:white; text-rendering:optimizeSpeed; color-rendering:optimizeSpeed; image-rendering:optimizeSpeed; shape-rendering:crispEdges; stroke:white; color-interpolation:sRGB;\"\n",
       "    ><rect x=\"0\" width=\"560\" height=\"420\" y=\"0\" style=\"stroke:none;\"\n",
       "      /><path style=\"stroke:none;\" d=\"M73 374 L507 374 L507 31.5 L73 31.5 Z\"\n",
       "    /></g\n",
       "    ><g style=\"fill:rgb(38,38,38); text-rendering:geometricPrecision; image-rendering:optimizeQuality; color-rendering:optimizeQuality; stroke-linejoin:round; stroke:rgb(38,38,38); color-interpolation:linearRGB; stroke-width:0.5;\"\n",
       "    ><line y2=\"31.5\" style=\"fill:none;\" x1=\"73\" x2=\"73\" y1=\"374\"\n",
       "      /><line y2=\"31.5\" style=\"fill:none;\" x1=\"507\" x2=\"507\" y1=\"374\"\n",
       "      /><line y2=\"374\" style=\"fill:none;\" x1=\"73\" x2=\"77.34\" y1=\"374\"\n",
       "      /><line y2=\"339.75\" style=\"fill:none;\" x1=\"73\" x2=\"77.34\" y1=\"339.75\"\n",
       "      /><line y2=\"305.5\" style=\"fill:none;\" x1=\"73\" x2=\"77.34\" y1=\"305.5\"\n",
       "      /><line y2=\"271.25\" style=\"fill:none;\" x1=\"73\" x2=\"77.34\" y1=\"271.25\"\n",
       "      /><line y2=\"237\" style=\"fill:none;\" x1=\"73\" x2=\"77.34\" y1=\"237\"\n",
       "      /><line y2=\"202.75\" style=\"fill:none;\" x1=\"73\" x2=\"77.34\" y1=\"202.75\"\n",
       "      /><line y2=\"168.5\" style=\"fill:none;\" x1=\"73\" x2=\"77.34\" y1=\"168.5\"\n",
       "      /><line y2=\"134.25\" style=\"fill:none;\" x1=\"73\" x2=\"77.34\" y1=\"134.25\"\n",
       "      /><line y2=\"100\" style=\"fill:none;\" x1=\"73\" x2=\"77.34\" y1=\"100\"\n",
       "      /><line y2=\"65.75\" style=\"fill:none;\" x1=\"73\" x2=\"77.34\" y1=\"65.75\"\n",
       "      /><line y2=\"31.5\" style=\"fill:none;\" x1=\"73\" x2=\"77.34\" y1=\"31.5\"\n",
       "      /><line y2=\"374\" style=\"fill:none;\" x1=\"507\" x2=\"502.66\" y1=\"374\"\n",
       "      /><line y2=\"339.75\" style=\"fill:none;\" x1=\"507\" x2=\"502.66\" y1=\"339.75\"\n",
       "      /><line y2=\"305.5\" style=\"fill:none;\" x1=\"507\" x2=\"502.66\" y1=\"305.5\"\n",
       "      /><line y2=\"271.25\" style=\"fill:none;\" x1=\"507\" x2=\"502.66\" y1=\"271.25\"\n",
       "      /><line y2=\"237\" style=\"fill:none;\" x1=\"507\" x2=\"502.66\" y1=\"237\"\n",
       "      /><line y2=\"202.75\" style=\"fill:none;\" x1=\"507\" x2=\"502.66\" y1=\"202.75\"\n",
       "      /><line y2=\"168.5\" style=\"fill:none;\" x1=\"507\" x2=\"502.66\" y1=\"168.5\"\n",
       "      /><line y2=\"134.25\" style=\"fill:none;\" x1=\"507\" x2=\"502.66\" y1=\"134.25\"\n",
       "      /><line y2=\"100\" style=\"fill:none;\" x1=\"507\" x2=\"502.66\" y1=\"100\"\n",
       "      /><line y2=\"65.75\" style=\"fill:none;\" x1=\"507\" x2=\"502.66\" y1=\"65.75\"\n",
       "      /><line y2=\"31.5\" style=\"fill:none;\" x1=\"507\" x2=\"502.66\" y1=\"31.5\"\n",
       "    /></g\n",
       "    ><g transform=\"translate(69,374)\" style=\"font-size:10px; fill:rgb(38,38,38); text-rendering:geometricPrecision; image-rendering:optimizeQuality; color-rendering:optimizeQuality; font-family:'Helvetica Neue'; stroke:rgb(38,38,38); color-interpolation:linearRGB;\"\n",
       "    ><text x=\"-16\" xml:space=\"preserve\" y=\"3.5\" style=\"stroke:none;\"\n",
       "      >-16</text\n",
       "    ></g\n",
       "    ><g transform=\"translate(69,339.75)\" style=\"font-size:10px; fill:rgb(38,38,38); text-rendering:geometricPrecision; image-rendering:optimizeQuality; color-rendering:optimizeQuality; font-family:'Helvetica Neue'; stroke:rgb(38,38,38); color-interpolation:linearRGB;\"\n",
       "    ><text x=\"-16\" xml:space=\"preserve\" y=\"3.5\" style=\"stroke:none;\"\n",
       "      >-14</text\n",
       "    ></g\n",
       "    ><g transform=\"translate(69,305.5)\" style=\"font-size:10px; fill:rgb(38,38,38); text-rendering:geometricPrecision; image-rendering:optimizeQuality; color-rendering:optimizeQuality; font-family:'Helvetica Neue'; stroke:rgb(38,38,38); color-interpolation:linearRGB;\"\n",
       "    ><text x=\"-16\" xml:space=\"preserve\" y=\"3.5\" style=\"stroke:none;\"\n",
       "      >-12</text\n",
       "    ></g\n",
       "    ><g transform=\"translate(69,271.25)\" style=\"font-size:10px; fill:rgb(38,38,38); text-rendering:geometricPrecision; image-rendering:optimizeQuality; color-rendering:optimizeQuality; font-family:'Helvetica Neue'; stroke:rgb(38,38,38); color-interpolation:linearRGB;\"\n",
       "    ><text x=\"-16\" xml:space=\"preserve\" y=\"3.5\" style=\"stroke:none;\"\n",
       "      >-10</text\n",
       "    ></g\n",
       "    ><g transform=\"translate(69,237)\" style=\"font-size:10px; fill:rgb(38,38,38); text-rendering:geometricPrecision; image-rendering:optimizeQuality; color-rendering:optimizeQuality; font-family:'Helvetica Neue'; stroke:rgb(38,38,38); color-interpolation:linearRGB;\"\n",
       "    ><text x=\"-10\" xml:space=\"preserve\" y=\"3.5\" style=\"stroke:none;\"\n",
       "      >-8</text\n",
       "    ></g\n",
       "    ><g transform=\"translate(69,202.75)\" style=\"font-size:10px; fill:rgb(38,38,38); text-rendering:geometricPrecision; image-rendering:optimizeQuality; color-rendering:optimizeQuality; font-family:'Helvetica Neue'; stroke:rgb(38,38,38); color-interpolation:linearRGB;\"\n",
       "    ><text x=\"-10\" xml:space=\"preserve\" y=\"3.5\" style=\"stroke:none;\"\n",
       "      >-6</text\n",
       "    ></g\n",
       "    ><g transform=\"translate(69,168.5)\" style=\"font-size:10px; fill:rgb(38,38,38); text-rendering:geometricPrecision; image-rendering:optimizeQuality; color-rendering:optimizeQuality; font-family:'Helvetica Neue'; stroke:rgb(38,38,38); color-interpolation:linearRGB;\"\n",
       "    ><text x=\"-10\" xml:space=\"preserve\" y=\"3.5\" style=\"stroke:none;\"\n",
       "      >-4</text\n",
       "    ></g\n",
       "    ><g transform=\"translate(69,134.25)\" style=\"font-size:10px; fill:rgb(38,38,38); text-rendering:geometricPrecision; image-rendering:optimizeQuality; color-rendering:optimizeQuality; font-family:'Helvetica Neue'; stroke:rgb(38,38,38); color-interpolation:linearRGB;\"\n",
       "    ><text x=\"-10\" xml:space=\"preserve\" y=\"3.5\" style=\"stroke:none;\"\n",
       "      >-2</text\n",
       "    ></g\n",
       "    ><g transform=\"translate(69,100)\" style=\"font-size:10px; fill:rgb(38,38,38); text-rendering:geometricPrecision; image-rendering:optimizeQuality; color-rendering:optimizeQuality; font-family:'Helvetica Neue'; stroke:rgb(38,38,38); color-interpolation:linearRGB;\"\n",
       "    ><text x=\"-6\" xml:space=\"preserve\" y=\"3.5\" style=\"stroke:none;\"\n",
       "      >0</text\n",
       "    ></g\n",
       "    ><g transform=\"translate(69,65.75)\" style=\"font-size:10px; fill:rgb(38,38,38); text-rendering:geometricPrecision; image-rendering:optimizeQuality; color-rendering:optimizeQuality; font-family:'Helvetica Neue'; stroke:rgb(38,38,38); color-interpolation:linearRGB;\"\n",
       "    ><text x=\"-6\" xml:space=\"preserve\" y=\"3.5\" style=\"stroke:none;\"\n",
       "      >2</text\n",
       "    ></g\n",
       "    ><g transform=\"translate(69,31.5)\" style=\"font-size:10px; fill:rgb(38,38,38); text-rendering:geometricPrecision; image-rendering:optimizeQuality; color-rendering:optimizeQuality; font-family:'Helvetica Neue'; stroke:rgb(38,38,38); color-interpolation:linearRGB;\"\n",
       "    ><text x=\"-6\" xml:space=\"preserve\" y=\"3.5\" style=\"stroke:none;\"\n",
       "      >4</text\n",
       "    ></g\n",
       "    ><g style=\"stroke-linecap:butt; fill:rgb(38,38,38); text-rendering:geometricPrecision; image-rendering:optimizeQuality; color-rendering:optimizeQuality; stroke-linejoin:round; stroke:rgb(38,38,38); color-interpolation:linearRGB; stroke-width:0.5;\"\n",
       "    ><line y2=\"100\" style=\"fill:none;\" x1=\"73\" x2=\"507\" y1=\"100\"\n",
       "      /><path d=\"M0 -2.75 C1.5188 -2.75 2.75 -1.5188 2.75 0 L2.75 0 C2.75 1.5188 1.5188 2.75 -0 2.75 C-1.5188 2.75 -2.75 1.5188 -2.75 -0 C-2.75 -1.5188 -1.5188 -2.75 0 -2.75 ZM0 -3.25 C-1.7949 -3.25 -3.25 -1.7949 -3.25 -0 C-3.25 1.7949 -1.7949 3.25 -0 3.25 C1.7949 3.25 3.25 1.7949 3.25 0 L3.25 0 C3.25 -1.7949 1.7949 -3.25 0 -3.25 Z\" style=\"fill:rgb(0,114,189); stroke:none;\" transform=\"translate(90.36,31.5)\"\n",
       "      /><path d=\"M0 -2.75 C1.5188 -2.75 2.75 -1.5188 2.75 0 L2.75 0 C2.75 1.5188 1.5188 2.75 -0 2.75 C-1.5188 2.75 -2.75 1.5188 -2.75 -0 C-2.75 -1.5188 -1.5188 -2.75 0 -2.75 ZM0 -3.25 C-1.7949 -3.25 -3.25 -1.7949 -3.25 -0 C-3.25 1.7949 -1.7949 3.25 -0 3.25 C1.7949 3.25 3.25 1.7949 3.25 0 L3.25 0 C3.25 -1.7949 1.7949 -3.25 0 -3.25 Z\" style=\"fill:rgb(0,114,189); stroke:none;\" transform=\"translate(107.72,31.5)\"\n",
       "      /><path d=\"M0 -2.75 C1.5188 -2.75 2.75 -1.5188 2.75 0 L2.75 0 C2.75 1.5188 1.5188 2.75 -0 2.75 C-1.5188 2.75 -2.75 1.5188 -2.75 -0 C-2.75 -1.5188 -1.5188 -2.75 0 -2.75 ZM0 -3.25 C-1.7949 -3.25 -3.25 -1.7949 -3.25 -0 C-3.25 1.7949 -1.7949 3.25 -0 3.25 C1.7949 3.25 3.25 1.7949 3.25 0 L3.25 0 C3.25 -1.7949 1.7949 -3.25 0 -3.25 Z\" style=\"fill:rgb(0,114,189); stroke:none;\" transform=\"translate(125.08,288.375)\"\n",
       "      /><path d=\"M0 -2.75 C1.5188 -2.75 2.75 -1.5188 2.75 0 L2.75 0 C2.75 1.5188 1.5188 2.75 -0 2.75 C-1.5188 2.75 -2.75 1.5188 -2.75 -0 C-2.75 -1.5188 -1.5188 -2.75 0 -2.75 ZM0 -3.25 C-1.7949 -3.25 -3.25 -1.7949 -3.25 -0 C-3.25 1.7949 -1.7949 3.25 -0 3.25 C1.7949 3.25 3.25 1.7949 3.25 0 L3.25 0 C3.25 -1.7949 1.7949 -3.25 0 -3.25 Z\" style=\"fill:rgb(0,114,189); stroke:none;\" transform=\"translate(142.44,288.375)\"\n",
       "      /><path d=\"M0 -2.75 C1.5188 -2.75 2.75 -1.5188 2.75 0 L2.75 0 C2.75 1.5188 1.5188 2.75 -0 2.75 C-1.5188 2.75 -2.75 1.5188 -2.75 -0 C-2.75 -1.5188 -1.5188 -2.75 0 -2.75 ZM0 -3.25 C-1.7949 -3.25 -3.25 -1.7949 -3.25 -0 C-3.25 1.7949 -1.7949 3.25 -0 3.25 C1.7949 3.25 3.25 1.7949 3.25 0 L3.25 0 C3.25 -1.7949 1.7949 -3.25 0 -3.25 Z\" style=\"fill:rgb(0,114,189); stroke:none;\" transform=\"translate(159.8,352.5938)\"\n",
       "      /><path d=\"M0 -2.75 C1.5188 -2.75 2.75 -1.5188 2.75 0 L2.75 0 C2.75 1.5188 1.5188 2.75 -0 2.75 C-1.5188 2.75 -2.75 1.5188 -2.75 -0 C-2.75 -1.5188 -1.5188 -2.75 0 -2.75 ZM0 -3.25 C-1.7949 -3.25 -3.25 -1.7949 -3.25 -0 C-3.25 1.7949 -1.7949 3.25 -0 3.25 C1.7949 3.25 3.25 1.7949 3.25 0 L3.25 0 C3.25 -1.7949 1.7949 -3.25 0 -3.25 Z\" style=\"fill:rgb(0,114,189); stroke:none;\" transform=\"translate(177.16,352.5938)\"\n",
       "      /><path d=\"M0 -2.75 C1.5188 -2.75 2.75 -1.5188 2.75 0 L2.75 0 C2.75 1.5188 1.5188 2.75 -0 2.75 C-1.5188 2.75 -2.75 1.5188 -2.75 -0 C-2.75 -1.5188 -1.5188 -2.75 0 -2.75 ZM0 -3.25 C-1.7949 -3.25 -3.25 -1.7949 -3.25 -0 C-3.25 1.7949 -1.7949 3.25 -0 3.25 C1.7949 3.25 3.25 1.7949 3.25 0 L3.25 0 C3.25 -1.7949 1.7949 -3.25 0 -3.25 Z\" style=\"fill:rgb(0,114,189); stroke:none;\" transform=\"translate(194.52,368.6484)\"\n",
       "      /><path d=\"M0 -2.75 C1.5188 -2.75 2.75 -1.5188 2.75 0 L2.75 0 C2.75 1.5188 1.5188 2.75 -0 2.75 C-1.5188 2.75 -2.75 1.5188 -2.75 -0 C-2.75 -1.5188 -1.5188 -2.75 0 -2.75 ZM0 -3.25 C-1.7949 -3.25 -3.25 -1.7949 -3.25 -0 C-3.25 1.7949 -1.7949 3.25 -0 3.25 C1.7949 3.25 3.25 1.7949 3.25 0 L3.25 0 C3.25 -1.7949 1.7949 -3.25 0 -3.25 Z\" style=\"fill:rgb(0,114,189); stroke:none;\" transform=\"translate(211.88,368.6484)\"\n",
       "      /><path d=\"M0 -2.75 C1.5188 -2.75 2.75 -1.5188 2.75 0 L2.75 0 C2.75 1.5188 1.5188 2.75 -0 2.75 C-1.5188 2.75 -2.75 1.5188 -2.75 -0 C-2.75 -1.5188 -1.5188 -2.75 0 -2.75 ZM0 -3.25 C-1.7949 -3.25 -3.25 -1.7949 -3.25 -0 C-3.25 1.7949 -1.7949 3.25 -0 3.25 C1.7949 3.25 3.25 1.7949 3.25 0 L3.25 0 C3.25 -1.7949 1.7949 -3.25 0 -3.25 Z\" style=\"fill:rgb(0,114,189); stroke:none;\" transform=\"translate(229.24,372.6621)\"\n",
       "      /><path d=\"M0 -2.75 C1.5188 -2.75 2.75 -1.5188 2.75 0 L2.75 0 C2.75 1.5188 1.5188 2.75 -0 2.75 C-1.5188 2.75 -2.75 1.5188 -2.75 -0 C-2.75 -1.5188 -1.5188 -2.75 0 -2.75 ZM0 -3.25 C-1.7949 -3.25 -3.25 -1.7949 -3.25 -0 C-3.25 1.7949 -1.7949 3.25 -0 3.25 C1.7949 3.25 3.25 1.7949 3.25 0 L3.25 0 C3.25 -1.7949 1.7949 -3.25 0 -3.25 Z\" style=\"fill:rgb(0,114,189); stroke:none;\" transform=\"translate(246.6,372.6621)\"\n",
       "      /><path d=\"M0 -2.75 C1.5188 -2.75 2.75 -1.5188 2.75 0 L2.75 0 C2.75 1.5188 1.5188 2.75 -0 2.75 C-1.5188 2.75 -2.75 1.5188 -2.75 -0 C-2.75 -1.5188 -1.5188 -2.75 0 -2.75 ZM0 -3.25 C-1.7949 -3.25 -3.25 -1.7949 -3.25 -0 C-3.25 1.7949 -1.7949 3.25 -0 3.25 C1.7949 3.25 3.25 1.7949 3.25 0 L3.25 0 C3.25 -1.7949 1.7949 -3.25 0 -3.25 Z\" style=\"fill:rgb(0,114,189); stroke:none;\" transform=\"translate(263.96,373.6655)\"\n",
       "      /><path d=\"M0 -2.75 C1.5188 -2.75 2.75 -1.5188 2.75 0 L2.75 0 C2.75 1.5188 1.5188 2.75 -0 2.75 C-1.5188 2.75 -2.75 1.5188 -2.75 -0 C-2.75 -1.5188 -1.5188 -2.75 0 -2.75 ZM0 -3.25 C-1.7949 -3.25 -3.25 -1.7949 -3.25 -0 C-3.25 1.7949 -1.7949 3.25 -0 3.25 C1.7949 3.25 3.25 1.7949 3.25 0 L3.25 0 C3.25 -1.7949 1.7949 -3.25 0 -3.25 Z\" style=\"fill:rgb(0,114,189); stroke:none;\" transform=\"translate(281.32,373.6655)\"\n",
       "      /><path d=\"M0 -2.75 C1.5188 -2.75 2.75 -1.5188 2.75 0 L2.75 0 C2.75 1.5188 1.5188 2.75 -0 2.75 C-1.5188 2.75 -2.75 1.5188 -2.75 -0 C-2.75 -1.5188 -1.5188 -2.75 0 -2.75 ZM0 -3.25 C-1.7949 -3.25 -3.25 -1.7949 -3.25 -0 C-3.25 1.7949 -1.7949 3.25 -0 3.25 C1.7949 3.25 3.25 1.7949 3.25 0 L3.25 0 C3.25 -1.7949 1.7949 -3.25 0 -3.25 Z\" style=\"fill:rgb(0,114,189); stroke:none;\" transform=\"translate(298.68,373.9164)\"\n",
       "      /><path d=\"M0 -2.75 C1.5188 -2.75 2.75 -1.5188 2.75 0 L2.75 0 C2.75 1.5188 1.5188 2.75 -0 2.75 C-1.5188 2.75 -2.75 1.5188 -2.75 -0 C-2.75 -1.5188 -1.5188 -2.75 0 -2.75 ZM0 -3.25 C-1.7949 -3.25 -3.25 -1.7949 -3.25 -0 C-3.25 1.7949 -1.7949 3.25 -0 3.25 C1.7949 3.25 3.25 1.7949 3.25 0 L3.25 0 C3.25 -1.7949 1.7949 -3.25 0 -3.25 Z\" style=\"fill:rgb(0,114,189); stroke:none;\" transform=\"translate(316.04,373.9164)\"\n",
       "      /><path d=\"M0 -2.75 C1.5188 -2.75 2.75 -1.5188 2.75 0 L2.75 0 C2.75 1.5188 1.5188 2.75 -0 2.75 C-1.5188 2.75 -2.75 1.5188 -2.75 -0 C-2.75 -1.5188 -1.5188 -2.75 0 -2.75 ZM0 -3.25 C-1.7949 -3.25 -3.25 -1.7949 -3.25 -0 C-3.25 1.7949 -1.7949 3.25 -0 3.25 C1.7949 3.25 3.25 1.7949 3.25 0 L3.25 0 C3.25 -1.7949 1.7949 -3.25 0 -3.25 Z\" style=\"fill:rgb(0,114,189); stroke:none;\" transform=\"translate(333.4,373.9791)\"\n",
       "      /><path d=\"M0 -2.75 C1.5188 -2.75 2.75 -1.5188 2.75 0 L2.75 0 C2.75 1.5188 1.5188 2.75 -0 2.75 C-1.5188 2.75 -2.75 1.5188 -2.75 -0 C-2.75 -1.5188 -1.5188 -2.75 0 -2.75 ZM0 -3.25 C-1.7949 -3.25 -3.25 -1.7949 -3.25 -0 C-3.25 1.7949 -1.7949 3.25 -0 3.25 C1.7949 3.25 3.25 1.7949 3.25 0 L3.25 0 C3.25 -1.7949 1.7949 -3.25 0 -3.25 Z\" style=\"fill:rgb(0,114,189); stroke:none;\" transform=\"translate(350.76,373.9791)\"\n",
       "      /><path d=\"M0 -2.75 C1.5188 -2.75 2.75 -1.5188 2.75 0 L2.75 0 C2.75 1.5188 1.5188 2.75 -0 2.75 C-1.5188 2.75 -2.75 1.5188 -2.75 -0 C-2.75 -1.5188 -1.5188 -2.75 0 -2.75 ZM0 -3.25 C-1.7949 -3.25 -3.25 -1.7949 -3.25 -0 C-3.25 1.7949 -1.7949 3.25 -0 3.25 C1.7949 3.25 3.25 1.7949 3.25 0 L3.25 0 C3.25 -1.7949 1.7949 -3.25 0 -3.25 Z\" style=\"fill:rgb(0,114,189); stroke:none;\" transform=\"translate(368.12,373.9948)\"\n",
       "      /><path d=\"M0 -2.75 C1.5188 -2.75 2.75 -1.5188 2.75 0 L2.75 0 C2.75 1.5188 1.5188 2.75 -0 2.75 C-1.5188 2.75 -2.75 1.5188 -2.75 -0 C-2.75 -1.5188 -1.5188 -2.75 0 -2.75 ZM0 -3.25 C-1.7949 -3.25 -3.25 -1.7949 -3.25 -0 C-3.25 1.7949 -1.7949 3.25 -0 3.25 C1.7949 3.25 3.25 1.7949 3.25 0 L3.25 0 C3.25 -1.7949 1.7949 -3.25 0 -3.25 Z\" style=\"fill:rgb(0,114,189); stroke:none;\" transform=\"translate(385.48,373.9948)\"\n",
       "      /><path d=\"M0 -2.75 C1.5188 -2.75 2.75 -1.5188 2.75 0 L2.75 0 C2.75 1.5188 1.5188 2.75 -0 2.75 C-1.5188 2.75 -2.75 1.5188 -2.75 -0 C-2.75 -1.5188 -1.5188 -2.75 0 -2.75 ZM0 -3.25 C-1.7949 -3.25 -3.25 -1.7949 -3.25 -0 C-3.25 1.7949 -1.7949 3.25 -0 3.25 C1.7949 3.25 3.25 1.7949 3.25 0 L3.25 0 C3.25 -1.7949 1.7949 -3.25 0 -3.25 Z\" style=\"fill:rgb(0,114,189); stroke:none;\" transform=\"translate(402.84,373.9987)\"\n",
       "      /><path d=\"M0 -2.75 C1.5188 -2.75 2.75 -1.5188 2.75 0 L2.75 0 C2.75 1.5188 1.5188 2.75 -0 2.75 C-1.5188 2.75 -2.75 1.5188 -2.75 -0 C-2.75 -1.5188 -1.5188 -2.75 0 -2.75 ZM0 -3.25 C-1.7949 -3.25 -3.25 -1.7949 -3.25 -0 C-3.25 1.7949 -1.7949 3.25 -0 3.25 C1.7949 3.25 3.25 1.7949 3.25 0 L3.25 0 C3.25 -1.7949 1.7949 -3.25 0 -3.25 Z\" style=\"fill:rgb(0,114,189); stroke:none;\" transform=\"translate(420.2,373.9987)\"\n",
       "      /><path d=\"M0 -2.75 C1.5188 -2.75 2.75 -1.5188 2.75 0 L2.75 0 C2.75 1.5188 1.5188 2.75 -0 2.75 C-1.5188 2.75 -2.75 1.5188 -2.75 -0 C-2.75 -1.5188 -1.5188 -2.75 0 -2.75 ZM0 -3.25 C-1.7949 -3.25 -3.25 -1.7949 -3.25 -0 C-3.25 1.7949 -1.7949 3.25 -0 3.25 C1.7949 3.25 3.25 1.7949 3.25 0 L3.25 0 C3.25 -1.7949 1.7949 -3.25 0 -3.25 Z\" style=\"fill:rgb(0,114,189); stroke:none;\" transform=\"translate(437.56,373.9997)\"\n",
       "      /><line x1=\"90.36\" x2=\"90.36\" y1=\"100\" style=\"fill:none; stroke:rgb(0,114,189);\" y2=\"31.5\"\n",
       "      /><line x1=\"107.72\" x2=\"107.72\" y1=\"100\" style=\"fill:none; stroke:rgb(0,114,189);\" y2=\"31.5\"\n",
       "      /><line x1=\"125.08\" x2=\"125.08\" y1=\"100\" style=\"fill:none; stroke:rgb(0,114,189);\" y2=\"288.375\"\n",
       "      /><line x1=\"142.44\" x2=\"142.44\" y1=\"100\" style=\"fill:none; stroke:rgb(0,114,189);\" y2=\"288.375\"\n",
       "      /><line x1=\"159.8\" x2=\"159.8\" y1=\"100\" style=\"fill:none; stroke:rgb(0,114,189);\" y2=\"352.5938\"\n",
       "      /><line x1=\"177.16\" x2=\"177.16\" y1=\"100\" style=\"fill:none; stroke:rgb(0,114,189);\" y2=\"352.5938\"\n",
       "      /><line x1=\"194.52\" x2=\"194.52\" y1=\"100\" style=\"fill:none; stroke:rgb(0,114,189);\" y2=\"368.6484\"\n",
       "      /><line x1=\"211.88\" x2=\"211.88\" y1=\"100\" style=\"fill:none; stroke:rgb(0,114,189);\" y2=\"368.6484\"\n",
       "      /><line x1=\"229.24\" x2=\"229.24\" y1=\"100\" style=\"fill:none; stroke:rgb(0,114,189);\" y2=\"372.6621\"\n",
       "      /><line x1=\"246.6\" x2=\"246.6\" y1=\"100\" style=\"fill:none; stroke:rgb(0,114,189);\" y2=\"372.6621\"\n",
       "      /><line x1=\"263.96\" x2=\"263.96\" y1=\"100\" style=\"fill:none; stroke:rgb(0,114,189);\" y2=\"373.6655\"\n",
       "      /><line x1=\"281.32\" x2=\"281.32\" y1=\"100\" style=\"fill:none; stroke:rgb(0,114,189);\" y2=\"373.6655\"\n",
       "      /><line x1=\"298.68\" x2=\"298.68\" y1=\"100\" style=\"fill:none; stroke:rgb(0,114,189);\" y2=\"373.9164\"\n",
       "      /><line x1=\"316.04\" x2=\"316.04\" y1=\"100\" style=\"fill:none; stroke:rgb(0,114,189);\" y2=\"373.9164\"\n",
       "      /><line x1=\"333.4\" x2=\"333.4\" y1=\"100\" style=\"fill:none; stroke:rgb(0,114,189);\" y2=\"373.9791\"\n",
       "      /><line x1=\"350.76\" x2=\"350.76\" y1=\"100\" style=\"fill:none; stroke:rgb(0,114,189);\" y2=\"373.9791\"\n",
       "      /><line x1=\"368.12\" x2=\"368.12\" y1=\"100\" style=\"fill:none; stroke:rgb(0,114,189);\" y2=\"373.9948\"\n",
       "      /><line x1=\"385.48\" x2=\"385.48\" y1=\"100\" style=\"fill:none; stroke:rgb(0,114,189);\" y2=\"373.9948\"\n",
       "      /><line x1=\"402.84\" x2=\"402.84\" y1=\"100\" style=\"fill:none; stroke:rgb(0,114,189);\" y2=\"373.9987\"\n",
       "      /><line x1=\"420.2\" x2=\"420.2\" y1=\"100\" style=\"fill:none; stroke:rgb(0,114,189);\" y2=\"373.9987\"\n",
       "      /><line x1=\"437.56\" x2=\"437.56\" y1=\"100\" style=\"fill:none; stroke:rgb(0,114,189);\" y2=\"373.9997\"\n",
       "      /><line x1=\"73\" x2=\"507\" y1=\"374\" style=\"fill:none; stroke-linecap:square;\" y2=\"374\"\n",
       "      /><line x1=\"73\" x2=\"507\" y1=\"31.5\" style=\"fill:none; stroke-linecap:square;\" y2=\"31.5\"\n",
       "      /><line x1=\"73\" x2=\"73\" y1=\"374\" style=\"fill:none; stroke-linecap:square;\" y2=\"369.66\"\n",
       "      /><line x1=\"159.8\" x2=\"159.8\" y1=\"374\" style=\"fill:none; stroke-linecap:square;\" y2=\"369.66\"\n",
       "      /><line x1=\"246.6\" x2=\"246.6\" y1=\"374\" style=\"fill:none; stroke-linecap:square;\" y2=\"369.66\"\n",
       "      /><line x1=\"333.4\" x2=\"333.4\" y1=\"374\" style=\"fill:none; stroke-linecap:square;\" y2=\"369.66\"\n",
       "      /><line x1=\"420.2\" x2=\"420.2\" y1=\"374\" style=\"fill:none; stroke-linecap:square;\" y2=\"369.66\"\n",
       "      /><line x1=\"507\" x2=\"507\" y1=\"374\" style=\"fill:none; stroke-linecap:square;\" y2=\"369.66\"\n",
       "      /><line x1=\"73\" x2=\"73\" y1=\"31.5\" style=\"fill:none; stroke-linecap:square;\" y2=\"35.84\"\n",
       "      /><line x1=\"159.8\" x2=\"159.8\" y1=\"31.5\" style=\"fill:none; stroke-linecap:square;\" y2=\"35.84\"\n",
       "      /><line x1=\"246.6\" x2=\"246.6\" y1=\"31.5\" style=\"fill:none; stroke-linecap:square;\" y2=\"35.84\"\n",
       "      /><line x1=\"333.4\" x2=\"333.4\" y1=\"31.5\" style=\"fill:none; stroke-linecap:square;\" y2=\"35.84\"\n",
       "      /><line x1=\"420.2\" x2=\"420.2\" y1=\"31.5\" style=\"fill:none; stroke-linecap:square;\" y2=\"35.84\"\n",
       "      /><line x1=\"507\" x2=\"507\" y1=\"31.5\" style=\"fill:none; stroke-linecap:square;\" y2=\"35.84\"\n",
       "    /></g\n",
       "    ><g transform=\"translate(73,378)\" style=\"font-size:10px; fill:rgb(38,38,38); text-rendering:geometricPrecision; image-rendering:optimizeQuality; color-rendering:optimizeQuality; font-family:'Helvetica Neue'; stroke:rgb(38,38,38); color-interpolation:linearRGB;\"\n",
       "    ><text x=\"-3\" xml:space=\"preserve\" y=\"10\" style=\"stroke:none;\"\n",
       "      >0</text\n",
       "    ></g\n",
       "    ><g transform=\"translate(159.8,378)\" style=\"font-size:10px; fill:rgb(38,38,38); text-rendering:geometricPrecision; image-rendering:optimizeQuality; color-rendering:optimizeQuality; font-family:'Helvetica Neue'; stroke:rgb(38,38,38); color-interpolation:linearRGB;\"\n",
       "    ><text x=\"-3\" xml:space=\"preserve\" y=\"10\" style=\"stroke:none;\"\n",
       "      >5</text\n",
       "    ></g\n",
       "    ><g transform=\"translate(246.6,378)\" style=\"font-size:10px; fill:rgb(38,38,38); text-rendering:geometricPrecision; image-rendering:optimizeQuality; color-rendering:optimizeQuality; font-family:'Helvetica Neue'; stroke:rgb(38,38,38); color-interpolation:linearRGB;\"\n",
       "    ><text x=\"-6\" xml:space=\"preserve\" y=\"10\" style=\"stroke:none;\"\n",
       "      >10</text\n",
       "    ></g\n",
       "    ><g transform=\"translate(333.4,378)\" style=\"font-size:10px; fill:rgb(38,38,38); text-rendering:geometricPrecision; image-rendering:optimizeQuality; color-rendering:optimizeQuality; font-family:'Helvetica Neue'; stroke:rgb(38,38,38); color-interpolation:linearRGB;\"\n",
       "    ><text x=\"-6\" xml:space=\"preserve\" y=\"10\" style=\"stroke:none;\"\n",
       "      >15</text\n",
       "    ></g\n",
       "    ><g transform=\"translate(420.2,378)\" style=\"font-size:10px; fill:rgb(38,38,38); text-rendering:geometricPrecision; image-rendering:optimizeQuality; color-rendering:optimizeQuality; font-family:'Helvetica Neue'; stroke:rgb(38,38,38); color-interpolation:linearRGB;\"\n",
       "    ><text x=\"-6\" xml:space=\"preserve\" y=\"10\" style=\"stroke:none;\"\n",
       "      >20</text\n",
       "    ></g\n",
       "    ><g transform=\"translate(507,378)\" style=\"font-size:10px; fill:rgb(38,38,38); text-rendering:geometricPrecision; image-rendering:optimizeQuality; color-rendering:optimizeQuality; font-family:'Helvetica Neue'; stroke:rgb(38,38,38); color-interpolation:linearRGB;\"\n",
       "    ><text x=\"-6\" xml:space=\"preserve\" y=\"10\" style=\"stroke:none;\"\n",
       "      >25</text\n",
       "    ></g\n",
       "  ></g\n",
       "></svg\n",
       ">\n"
      ]
     },
     "metadata": {},
     "output_type": "display_data"
    }
   ],
   "source": [
    "stem(ys)"
   ]
  },
  {
   "cell_type": "markdown",
   "metadata": {
    "slideshow": {
     "slide_type": "subslide"
    }
   },
   "source": [
    "### Partial fractions\n",
    "\n",
    "Can we use partial fractions for inverse z transforms?"
   ]
  },
  {
   "cell_type": "code",
   "execution_count": 12,
   "metadata": {
    "slideshow": {
     "slide_type": "fragment"
    }
   },
   "outputs": [
    {
     "name": "stdout",
     "output_type": "stream",
     "text": [
      " RESIDUE Partial-fraction expansion (residues).\n",
      "    [R,P,K] = RESIDUE(B,A) finds the residues, poles and direct term of\n",
      "    a partial fraction expansion of the ratio of two polynomials B(s)/A(s).\n",
      "    If there are no multiple roots,\n",
      "       B(s)       R(1)       R(2)             R(n)\n",
      "       ----  =  -------- + -------- + ... + -------- + K(s)\n",
      "       A(s)     s - P(1)   s - P(2)         s - P(n)\n",
      "    Vectors B and A specify the coefficients of the numerator and\n",
      "    denominator polynomials in descending powers of s.  The residues\n",
      "    are returned in the column vector R, the pole locations in column\n",
      "    vector P, and the direct terms in row vector K.  The number of\n",
      "    poles is n = length(A)-1 = length(R) = length(P). The direct term\n",
      "    coefficient vector is empty if length(B) < length(A), otherwise\n",
      "    length(K) = length(B)-length(A)+1.\n",
      " \n",
      "    If P(j) = ... = P(j+m-1) is a pole of multplicity m, then the\n",
      "    expansion includes terms of the form\n",
      "                 R(j)        R(j+1)                R(j+m-1)\n",
      "               -------- + ------------   + ... + ------------\n",
      "               s - P(j)   (s - P(j))^2           (s - P(j))^m\n",
      " \n",
      "    [B,A] = RESIDUE(R,P,K), with 3 input arguments and 2 output arguments,\n",
      "    converts the partial fraction expansion back to the polynomials with\n",
      "    coefficients in B and A.\n",
      " \n",
      "    Warning: Numerically, the partial fraction expansion of a ratio of\n",
      "    polynomials represents an ill-posed problem.  If the denominator\n",
      "    polynomial, A(s), is near a polynomial with multiple roots, then\n",
      "    small changes in the data, including roundoff errors, can make\n",
      "    arbitrarily large changes in the resulting poles and residues.\n",
      "    Problem formulations making use of state-space or zero-pole\n",
      "    representations are preferable.\n",
      " \n",
      "    Class support for inputs B,A,R:\n",
      "       float: double, single\n",
      " \n",
      "    See also POLY, ROOTS, DECONV.\n",
      "\n"
     ]
    }
   ],
   "source": [
    "help residue"
   ]
  },
  {
   "cell_type": "markdown",
   "metadata": {
    "slideshow": {
     "slide_type": "subslide"
    }
   },
   "source": [
    "#### PFE for for inverse z-transform of impulse response"
   ]
  },
  {
   "cell_type": "code",
   "execution_count": 13,
   "metadata": {
    "slideshow": {
     "slide_type": "fragment"
    }
   },
   "outputs": [
    {
     "name": "stdout",
     "output_type": "stream",
     "text": [
      " RESIDUE Partial-fraction expansion (residues).\n",
      "    [R,P,K] = RESIDUE(B,A) finds the residues, poles and direct term of\n",
      "    a partial fraction expansion of the ratio of two polynomials B(s)/A(s).\n",
      "    If there are no multiple roots,\n",
      "       B(s)       R(1)       R(2)             R(n)\n",
      "       ----  =  -------- + -------- + ... + -------- + K(s)\n",
      "       A(s)     s - P(1)   s - P(2)         s - P(n)\n",
      "    Vectors B and A specify the coefficients of the numerator and\n",
      "    denominator polynomials in descending powers of s.  The residues\n",
      "    are returned in the column vector R, the pole locations in column\n",
      "    vector P, and the direct terms in row vector K.  The number of\n",
      "    poles is n = length(A)-1 = length(R) = length(P). The direct term\n",
      "    coefficient vector is empty if length(B) < length(A), otherwise\n",
      "    length(K) = length(B)-length(A)+1.\n",
      " \n",
      "    If P(j) = ... = P(j+m-1) is a pole of multplicity m, then the\n",
      "    expansion includes terms of the form\n",
      "                 R(j)        R(j+1)                R(j+m-1)\n",
      "               -------- + ------------   + ... + ------------\n",
      "               s - P(j)   (s - P(j))^2           (s - P(j))^m\n",
      " \n",
      "    [B,A] = RESIDUE(R,P,K), with 3 input arguments and 2 output arguments,\n",
      "    converts the partial fraction expansion back to the polynomials with\n",
      "    coefficients in B and A.\n",
      " \n",
      "    Warning: Numerically, the partial fraction expansion of a ratio of\n",
      "    polynomials represents an ill-posed problem.  If the denominator\n",
      "    polynomial, A(s), is near a polynomial with multiple roots, then\n",
      "    small changes in the data, including roundoff errors, can make\n",
      "    arbitrarily large changes in the resulting poles and residues.\n",
      "    Problem formulations making use of state-space or zero-pole\n",
      "    representations are preferable.\n",
      " \n",
      "    Class support for inputs B,A,R:\n",
      "       float: double, single\n",
      " \n",
      "    See also POLY, ROOTS, DECONV.\n",
      "\n",
      "\n",
      "r =\n",
      "\n",
      "   -15\n",
      "    15\n",
      "\n",
      "\n",
      "p =\n",
      "\n",
      "    0.5000\n",
      "   -0.5000\n",
      "\n",
      "\n",
      "k =\n",
      "\n",
      "     4\n",
      "\n"
     ]
    }
   ],
   "source": [
    "help residue\n",
    "[r,p,k] = residue([4,0,-16],[1,0,-0.25])"
   ]
  },
  {
   "cell_type": "markdown",
   "metadata": {
    "slideshow": {
     "slide_type": "subslide"
    }
   },
   "source": [
    "#### PFE for inverse z-transform for step response"
   ]
  },
  {
   "cell_type": "code",
   "execution_count": 14,
   "metadata": {
    "slideshow": {
     "slide_type": "fragment"
    }
   },
   "outputs": [
    {
     "name": "stdout",
     "output_type": "stream",
     "text": [
      "\n",
      "r =\n",
      "\n",
      "  -16.0000\n",
      "   15.0000\n",
      "    5.0000\n",
      "\n",
      "\n",
      "p =\n",
      "\n",
      "    1.0000\n",
      "    0.5000\n",
      "   -0.5000\n",
      "\n",
      "\n",
      "k =\n",
      "\n",
      "     4\n",
      "\n"
     ]
    }
   ],
   "source": [
    "[r,p,k] = residue(conv([1, 0],[4,0,-16]),conv([1, -1],[1,0,-0.25]))"
   ]
  },
  {
   "cell_type": "markdown",
   "metadata": {
    "slideshow": {
     "slide_type": "notes"
    }
   },
   "source": [
    "Do these results match the theory?"
   ]
  },
  {
   "cell_type": "markdown",
   "metadata": {
    "slideshow": {
     "slide_type": "subslide"
    }
   },
   "source": [
    "#### Another approach\n",
    "\n",
    "Use LTI block to define the TF then extract num/den for PFE"
   ]
  },
  {
   "cell_type": "code",
   "execution_count": 15,
   "metadata": {
    "slideshow": {
     "slide_type": "fragment"
    }
   },
   "outputs": [
    {
     "name": "stdout",
     "output_type": "stream",
     "text": [
      "\n",
      "U =\n",
      " \n",
      "    z\n",
      "  -----\n",
      "  z - 1\n",
      " \n",
      "Sample time: unspecified\n",
      "Discrete-time transfer function.\n",
      "\n",
      "\n",
      "Y =\n",
      " \n",
      "        4 z^3 - 16 z\n",
      "  -------------------------\n",
      "  z^3 - z^2 - 0.25 z + 0.25\n",
      " \n",
      "Sample time: unspecified\n",
      "Discrete-time transfer function.\n",
      "\n"
     ]
    }
   ],
   "source": [
    "U = tf([1, 0], [1, -1], -1)\n",
    "Y = series(U, H)"
   ]
  },
  {
   "cell_type": "markdown",
   "metadata": {
    "slideshow": {
     "slide_type": "subslide"
    }
   },
   "source": [
    "extract numerator & denominator"
   ]
  },
  {
   "cell_type": "code",
   "execution_count": 16,
   "metadata": {
    "slideshow": {
     "slide_type": "fragment"
    }
   },
   "outputs": [
    {
     "name": "stdout",
     "output_type": "stream",
     "text": [
      "\n",
      "num =\n",
      "\n",
      "     4     0   -16     0\n",
      "\n",
      "\n",
      "den =\n",
      "\n",
      "    1.0000   -1.0000   -0.2500    0.2500\n",
      "\n"
     ]
    }
   ],
   "source": [
    "[num,den] = tfdata(Y,'v')"
   ]
  },
  {
   "cell_type": "markdown",
   "metadata": {
    "slideshow": {
     "slide_type": "subslide"
    }
   },
   "source": [
    "get pfe"
   ]
  },
  {
   "cell_type": "code",
   "execution_count": 17,
   "metadata": {
    "slideshow": {
     "slide_type": "fragment"
    }
   },
   "outputs": [
    {
     "name": "stdout",
     "output_type": "stream",
     "text": [
      "\n",
      "r =\n",
      "\n",
      "  -16.0000\n",
      "   15.0000\n",
      "    5.0000\n",
      "\n",
      "\n",
      "p =\n",
      "\n",
      "    1.0000\n",
      "    0.5000\n",
      "   -0.5000\n",
      "\n",
      "\n",
      "k =\n",
      "\n",
      "     4\n",
      "\n"
     ]
    }
   ],
   "source": [
    "[r,p,k]=residue(num,den)"
   ]
  },
  {
   "cell_type": "markdown",
   "metadata": {
    "slideshow": {
     "slide_type": "subslide"
    }
   },
   "source": [
    "### Simulink Model\n",
    "\n",
    "A simulink model of the digital implementation is here [digiresp.slx](matlab/digiresp.slx). "
   ]
  },
  {
   "cell_type": "code",
   "execution_count": 18,
   "metadata": {
    "slideshow": {
     "slide_type": "fragment"
    }
   },
   "outputs": [],
   "source": [
    "cd matlab\n",
    "digiresp_model"
   ]
  },
  {
   "cell_type": "markdown",
   "metadata": {
    "slideshow": {
     "slide_type": "fragment"
    }
   },
   "source": [
    "![digital response model in simulink](pictures/simulink.png)\n",
    "\n",
    "Note that in Simulink, you use the ZOH both as an ADC and DAC operator. The z-transfer function block is used for the digital transfer function."
   ]
  },
  {
   "cell_type": "markdown",
   "metadata": {
    "slideshow": {
     "slide_type": "notes"
    }
   },
   "source": [
    "#### Response\n",
    "\n",
    "![response](pictures/resp.png)"
   ]
  }
 ],
 "metadata": {
  "celltoolbar": "Slideshow",
  "kernelspec": {
   "display_name": "MATLAB",
   "language": "matlab",
   "name": "imatlab"
  },
  "language_info": {
   "codemirror_mode": "octave",
   "file_extension": ".m",
   "mimetype": "text/x-matlab",
   "name": "matlab",
   "nbconvert_exporter": "imatlab._exporter.MatlabExporter",
   "pygments_lexer": "matlab",
   "version": "9.9.0.1467703 (R2020b)"
  }
 },
 "nbformat": 4,
 "nbformat_minor": 2
}
