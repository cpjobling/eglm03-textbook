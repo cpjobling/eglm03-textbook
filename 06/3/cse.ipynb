{
 "cells": [
  {
   "cell_type": "markdown",
   "metadata": {
    "slideshow": {
     "slide_type": "slide"
    }
   },
   "source": [
    "# Continuous System Equivalence"
   ]
  },
  {
   "cell_type": "markdown",
   "metadata": {
    "slideshow": {
     "slide_type": "slide"
    }
   },
   "source": [
    "## Introduction\n",
    "\n",
    "In many cases, e.g. signal processing, control systems, etc., we want to\n",
    "design a digital system so that it behaves (dynamically and in\n",
    "steady-state) the same as a continuous system. A digital system that has\n",
    "the same input-behaviour as a (sampled) continuous system is called a\n",
    "*continuous equivalent*."
   ]
  },
  {
   "cell_type": "markdown",
   "metadata": {
    "slideshow": {
     "slide_type": "slide"
    }
   },
   "source": [
    "## Agenda\n",
    "\n",
    "In the pre-lecture presentation we will start by discussing the\n",
    "relationship of $s$ to $z$. We will then present four ways to convert a\n",
    "transfer function $H(s)$ into its digital equivalent $H(z)$. These are:\n",
    "\n",
    "-   The zero-order hold equivalent\n",
    "\n",
    "-   The Tustin bilinear transform equivalent\n",
    "\n",
    "-   Matched pole zero equivalent\n",
    "\n",
    "-   Modified matched pole-zero equivalent"
   ]
  },
  {
   "cell_type": "markdown",
   "metadata": {
    "slideshow": {
     "slide_type": "subslide"
    }
   },
   "source": [
    "## Examples\n",
    "\n",
    "Will be done in class"
   ]
  },
  {
   "cell_type": "markdown",
   "metadata": {
    "slideshow": {
     "slide_type": "notes"
    }
   },
   "source": [
    "Before we can describe what we might mean by a continuous equivalent system, it is necessary to establish the\n",
    "relationship between digital operations, such as the shift, and\n",
    "continuous operations."
   ]
  },
  {
   "cell_type": "markdown",
   "metadata": {
    "slideshow": {
     "slide_type": "slide"
    }
   },
   "source": [
    "## Equivalence of s and z"
   ]
  },
  {
   "cell_type": "markdown",
   "metadata": {
    "slideshow": {
     "slide_type": "slide"
    }
   },
   "source": [
    "### Sampling a Delayed Signal\n",
    "\n",
    "Consider a simple operation of sampling with a delay\n",
    "\n",
    "![fig 1](pictures/cse1.png)"
   ]
  },
  {
   "cell_type": "markdown",
   "metadata": {
    "slideshow": {
     "slide_type": "fragment"
    }
   },
   "source": [
    "This can be represented in transform as\n",
    "\n",
    "![fig 2](pictures/cse2.png)"
   ]
  },
  {
   "cell_type": "markdown",
   "metadata": {
    "slideshow": {
     "slide_type": "subslide"
    }
   },
   "source": [
    "### Delaying a Sampled Signal \n",
    "\n",
    "The same result could be obtained by delaying the continuous signal and then sampling.\n",
    "\n",
    "![fig 3](pictures/cse3.png)"
   ]
  },
  {
   "cell_type": "markdown",
   "metadata": {
    "slideshow": {
     "slide_type": "fragment"
    }
   },
   "source": [
    "Which can be represented in transform as\n",
    "\n",
    "![fig 4](pictures/cse4.png)"
   ]
  },
  {
   "cell_type": "markdown",
   "metadata": {
    "slideshow": {
     "slide_type": "subslide"
    }
   },
   "source": [
    "### Relationship of z to s\n",
    "\n",
    "From the preceding arguments "
   ]
  },
  {
   "cell_type": "markdown",
   "metadata": {
    "slideshow": {
     "slide_type": "fragment"
    }
   },
   "source": [
    "$$\\begin{equation}\n",
    "z^{-1} = e^{-sT}\n",
    "\\end{equation}$$ \n",
    "    "
   ]
  },
  {
   "cell_type": "markdown",
   "metadata": {
    "slideshow": {
     "slide_type": "fragment"
    }
   },
   "source": [
    "That is $$\\begin{equation}\n",
    "    z=e^{sT}\\end{equation}$$ \n",
    "    "
   ]
  },
  {
   "cell_type": "markdown",
   "metadata": {
    "slideshow": {
     "slide_type": "subslide"
    }
   },
   "source": [
    "or $$\\begin{equation}\n",
    "  s=\\frac{1}{T}\\ln z\\end{equation}$$"
   ]
  },
  {
   "cell_type": "markdown",
   "metadata": {
    "slideshow": {
     "slide_type": "notes"
    }
   },
   "source": [
    "This is the fundamental relationship of equivalence. Before using it, we\n",
    "must see how a continuous signal is reconstructed from a digital signal.\n",
    "This is accomplished by means of a \"*Digital-to-Analogue Converter*\""
   ]
  },
  {
   "cell_type": "markdown",
   "metadata": {
    "slideshow": {
     "slide_type": "slide"
    }
   },
   "source": [
    "## Digital-to-Analogue Converter"
   ]
  },
  {
   "cell_type": "markdown",
   "metadata": {
    "slideshow": {
     "slide_type": "subslide"
    }
   },
   "source": [
    "### Modelling a DAC with a Zero-Order Hold\n",
    "\n",
    "The simplest converter is a \"*Zero-Order Hold*\" (see Fig. 1). This acts the opposite way to a sampler.\n",
    "\n",
    "![Zero-Order Hold](pictures/zoh.png)\n",
    "**Figure 1: zero-order Hold**"
   ]
  },
  {
   "cell_type": "markdown",
   "metadata": {
    "slideshow": {
     "slide_type": "subslide"
    }
   },
   "source": [
    "### Operation of the Zero-order Hold\n",
    "\n",
    "During each sample period, the device holds\n",
    "the output $v(t)$ constant at the current value of the digital signal\n",
    "$v_k$."
   ]
  },
  {
   "cell_type": "markdown",
   "metadata": {
    "slideshow": {
     "slide_type": "fragment"
    }
   },
   "source": [
    " That is $$\\begin{equation}\n",
    "  v(t) = v_k\\ \\mathrm{for}\\ kT \\le t < (k+1)T\\end{equation}$$ "
   ]
  },
  {
   "cell_type": "markdown",
   "metadata": {
    "slideshow": {
     "slide_type": "fragment"
    }
   },
   "source": [
    "This generates a\n",
    "stepwise continuous signal $v(t)$ which at the sampling instants is\n",
    "equal to the continuous signal from which the digital signal ${v_k}$ was\n",
    "generated."
   ]
  },
  {
   "cell_type": "markdown",
   "metadata": {
    "slideshow": {
     "slide_type": "notes"
    }
   },
   "source": [
    "The signal may be considered as an infinite number of pulses of which\n",
    "the $k$-th is that shown in the next slide. "
   ]
  },
  {
   "cell_type": "markdown",
   "metadata": {
    "slideshow": {
     "slide_type": "subslide"
    }
   },
   "source": [
    "### Modelling the ZOH Mathematically"
   ]
  },
  {
   "cell_type": "markdown",
   "metadata": {
    "slideshow": {
     "slide_type": "subslide"
    }
   },
   "source": [
    "#### Step-wise continuous signal\n",
    "\n",
    "This represents the output of the zero-order hold $v(t) = v_k$ for $kT \\le t < (k+1)T$.\n",
    "\n",
    "![Pulse](pictures/pulse.png)"
   ]
  },
  {
   "cell_type": "markdown",
   "metadata": {
    "slideshow": {
     "slide_type": "notes"
    }
   },
   "source": [
    "To model such a signal we use the\n",
    "so-called \"*gating*\" property of the time-delayed unit-step function\n",
    "$\\epsilon(t)$ illustrated in the next slide."
   ]
  },
  {
   "cell_type": "markdown",
   "metadata": {
    "slideshow": {
     "slide_type": "subslide"
    }
   },
   "source": [
    "#### The Gating Function\n",
    "\n",
    "![Gating function](pictures/gate.png)"
   ]
  },
  {
   "cell_type": "markdown",
   "metadata": {
    "slideshow": {
     "slide_type": "notes"
    }
   },
   "source": [
    "The opening \"gate\" is given by $v_k \\epsilon (t-kT)$, a step of height\n",
    "$v_k$, which is activated at $t=kT$ seconds. The gate is \"closed\" by a\n",
    "negative going unit step, also of height $v_k$, which is activated at\n",
    "$t=\\{k+1\\}T$ seconds."
   ]
  },
  {
   "cell_type": "markdown",
   "metadata": {
    "slideshow": {
     "slide_type": "subslide"
    }
   },
   "source": [
    "The sum of these two signals is $$\\begin{eqnarray*}\n",
    "  p(t) &=& v_k \\epsilon(t - kT) - v_k \\epsilon(t - \\{k+1\\}T)\\\\\n",
    "       &=& v_k\\left[\\epsilon(t - kT) - \\epsilon(t - \\{k+1\\}T)\\right]\\end{eqnarray*}$$"
   ]
  },
  {
   "cell_type": "markdown",
   "metadata": {
    "slideshow": {
     "slide_type": "fragment"
    }
   },
   "source": [
    "So for the sequence: $$\\begin{equation}\n",
    "  v(t) = \\sum_{k=0}^{\\infty} v_k\\left[\\epsilon(t - kT) - \\epsilon(t - \\{k+1\\}T)\\right]\\end{equation}$$"
   ]
  },
  {
   "cell_type": "markdown",
   "metadata": {
    "slideshow": {
     "slide_type": "subslide"
    }
   },
   "source": [
    "In transform form this is $$\\begin{eqnarray*}\n",
    "  V(s) &=& \\sum_{k=0}^{\\infty} v_k\\left(\\frac{1}{s}e^{-kTs} -\n",
    "  \\frac{1}{s}e^{-\\left\\{k+1\\right\\}Ts}\\right)\\\\\n",
    "       &=& \\frac{1}{s}\\left(1-e^{-Ts}\\right) \\sum_{k=0}^{\\infty} v_k\n",
    "  e^{-kTs}\\\\\n",
    "       &=& \\frac{1}{s}\\left(1-z^{-1}\\right) \\sum_{k=0}^{\\infty} v_k\n",
    "  z^{-k}\\\\\n",
    "       &=& \\frac{1}{s}\\,\\frac{z-1}{z}\\,V(z)\\end{eqnarray*}$$"
   ]
  },
  {
   "cell_type": "markdown",
   "metadata": {
    "slideshow": {
     "slide_type": "subslide"
    }
   },
   "source": [
    "So the zero-order hold is represented by the mixed transfer function\n",
    "$$\\begin{equation}\n",
    "  G_{\\mathrm{zoh}}=\\frac{1}{s}\\,\\frac{z-1}{z}\\end{equation}$$ as shown in\n",
    "Fig. 2."
   ]
  },
  {
   "cell_type": "markdown",
   "metadata": {
    "slideshow": {
     "slide_type": "fragment"
    }
   },
   "source": [
    "![Transfer Function of the Zero-Order Hold](pictures/zohtf.png)\n",
    "**Figure 2: Transfer Function of the Zero-Order Hold**"
   ]
  },
  {
   "cell_type": "markdown",
   "metadata": {
    "slideshow": {
     "slide_type": "notes"
    }
   },
   "source": [
    "We can now design a 'hold-equivalent' digital system."
   ]
  },
  {
   "cell_type": "markdown",
   "metadata": {
    "slideshow": {
     "slide_type": "subslide"
    }
   },
   "source": [
    "#### Hold-Equivalent Digital System\n",
    "\n",
    "![Hold-Equivalent Digital System](pictures/holdequiv.png)"
   ]
  },
  {
   "cell_type": "markdown",
   "metadata": {
    "slideshow": {
     "slide_type": "subslide"
    }
   },
   "source": [
    "From the diagram in the previous slide. \n",
    "\n",
    "$$\\begin{eqnarray*}\n",
    "  Y(z) &=& H(z) U(z)\\\\\n",
    "  Y(z) &=& \\mathcal{Z} Y(s)\\\\\n",
    "       &=& \\mathcal{Z} \\frac{1}{s} H(s) \\frac{z-1}{z} U(z)\\end{eqnarray*}$$"
   ]
  },
  {
   "cell_type": "markdown",
   "metadata": {
    "slideshow": {
     "slide_type": "fragment"
    }
   },
   "source": [
    "so $$\\begin{equation}\n",
    "  H(z) = \\frac{z-1}{z} \\mathcal{Z} \\frac{H(s)}{s}\\end{equation}$$"
   ]
  },
  {
   "cell_type": "markdown",
   "metadata": {
    "slideshow": {
     "slide_type": "subslide"
    }
   },
   "source": [
    "#### Example 1\n",
    "\n",
    "If\n",
    "\n",
    "$$H(s) = \\frac{a}{s+a}$$ \n",
    "\n",
    "then find the Zero-Order Hold Equivalent $H(z)$"
   ]
  },
  {
   "cell_type": "markdown",
   "metadata": {
    "slideshow": {
     "slide_type": "notes"
    }
   },
   "source": [
    "##### Solution\n",
    "\n",
    "$$\\begin{eqnarray*}\n",
    "  H(z) &=& \\frac{z-1}{z}\\mathcal{Z} \\frac{a}{s(s+a)}\\\\\n",
    "       &=& \\frac{z-1}{z} \\frac{z(1-e^{-aT})}{(z-1)(z-e^{-aT})}\\\\\n",
    "       &=& \\frac{1-e^{-aT}}{z-e^{-aT}}.\\end{eqnarray*}$$\n",
    "\n",
    "**Malab note**: the zero-order-hold equivalent is the default system\n",
    "used for continuous system equivalence in *MATLAB*. To convert a\n",
    "continous system in any *lti* format<sup>1</sup> use:\n",
    "\n",
    "    lti_d = c2d(lti, Ts); % You must provide a sampling time or use -1 if undefined"
   ]
  },
  {
   "cell_type": "markdown",
   "metadata": {
    "slideshow": {
     "slide_type": "slide"
    }
   },
   "source": [
    "## Other Continuous System Equivalences "
   ]
  },
  {
   "cell_type": "markdown",
   "metadata": {
    "slideshow": {
     "slide_type": "subslide"
    }
   },
   "source": [
    "### Approximation based on numerical integration\n",
    "\n",
    "An alternative approach is to use the relationship \n",
    "\n",
    "$$s  = \\frac{1}{T}\n",
    "\\ln z.$$ \n",
    "\n",
    "This cannot be substituted into a transfer function directly as\n",
    "the result is not rational, but an approximation may be used."
   ]
  },
  {
   "cell_type": "markdown",
   "metadata": {
    "slideshow": {
     "slide_type": "subslide"
    }
   },
   "source": [
    "#### Approximation by Numerical Integration\n",
    "\n",
    "We wish to find a transfer function $T(z)$ that is equivalent to $T(s)=s$."
   ]
  },
  {
   "cell_type": "markdown",
   "metadata": {
    "slideshow": {
     "slide_type": "fragment"
    }
   },
   "source": [
    "Let us instead seek a transfer function $D(z)$ that is equivalent to $D(s) = 1/s$."
   ]
  },
  {
   "cell_type": "markdown",
   "metadata": {
    "slideshow": {
     "slide_type": "fragment"
    }
   },
   "source": [
    "![s-to-z](pictures/s-to-z.png)"
   ]
  },
  {
   "cell_type": "markdown",
   "metadata": {
    "slideshow": {
     "slide_type": "subslide"
    }
   },
   "source": [
    "Thus, the transfer function we are seeking will in fact be an approximation of the integral $y(t)=\\int u(t) dt$. We can illustrate this as shown in the next slide. "
   ]
  },
  {
   "cell_type": "markdown",
   "metadata": {
    "slideshow": {
     "slide_type": "subslide"
    }
   },
   "source": [
    "#### Model of Integration\n",
    "\n",
    "![integral1](pictures/integral1.png)"
   ]
  },
  {
   "cell_type": "markdown",
   "metadata": {
    "slideshow": {
     "slide_type": "notes"
    }
   },
   "source": [
    "If we sample the curve $u(t)$ and consider the situation at the $n$-th sampling instant, we will have \n",
    "\n",
    "$$y(nT) = \\int_{0}^{nT} u(t) dt$$\n",
    "\n",
    "We can rewrite this as $$y(nT)= \\int_{0}^{nT-T} u(t) dt + \\int_{nT-T}^{nT} u(t) dt$$\n",
    "\n",
    "where the second integral term is the shaded area shown in the next slide,"
   ]
  },
  {
   "cell_type": "markdown",
   "metadata": {
    "slideshow": {
     "slide_type": "subslide"
    }
   },
   "source": [
    "#### Sampled Model of Integration\n",
    "\n",
    "![integral2](pictures/integral2.png)"
   ]
  },
  {
   "cell_type": "markdown",
   "metadata": {
    "slideshow": {
     "slide_type": "notes"
    }
   },
   "source": [
    "Now if we assume that the first integral term was approximated by the digital integrator in the previous sampling\n",
    "instant, then $y(nT-T) = \\int_{0}^{nT-T} u(t) dt$ is known, and consequently we have \n",
    "\n",
    "$$y(nT) = y(nT-T) + \\int_{nT-T}^{nT} u(t) dt$$\n",
    "\n",
    "and we only need to determine the area of the shaded region to approximate $y(nT)$.\n",
    "\n",
    "The most obvious approximations are illustrated in the next three slides. "
   ]
  },
  {
   "cell_type": "markdown",
   "metadata": {
    "slideshow": {
     "slide_type": "subslide"
    }
   },
   "source": [
    "#### Forward Rectangular Approximation\n",
    "\n",
    "![backward rectangular approxation](pictures/backward-rect.png)"
   ]
  },
  {
   "cell_type": "markdown",
   "metadata": {
    "slideshow": {
     "slide_type": "subslide"
    }
   },
   "source": [
    "#### Backward Rectangular Approximation\n",
    "\n",
    "![Forward rectangular approximation](pictures/forward-rect.png)"
   ]
  },
  {
   "cell_type": "markdown",
   "metadata": {
    "slideshow": {
     "slide_type": "subslide"
    }
   },
   "source": [
    "#### Trapezoidal Approximation\n",
    "\n",
    "![Trapezoidal approximation](pictures/trapezoidal.png)"
   ]
  },
  {
   "cell_type": "markdown",
   "metadata": {
    "slideshow": {
     "slide_type": "notes"
    }
   },
   "source": [
    "It is clear that if we are to disallow any further subdivision of the shaded area, the *trapezoidal approximation* will provide the most accurate result."
   ]
  },
  {
   "cell_type": "markdown",
   "metadata": {
    "slideshow": {
     "slide_type": "subslide"
    }
   },
   "source": [
    "#### z-transform of trapezoidal approximation\n",
    "\n",
    "Completing the analysis, we can show that"
   ]
  },
  {
   "cell_type": "markdown",
   "metadata": {
    "slideshow": {
     "slide_type": "fragment"
    }
   },
   "source": [
    "$$y(nT)\\approx y(nT-T) + \\frac{T}{2}\\{u(nT-T)+u(T)\\}$$"
   ]
  },
  {
   "cell_type": "markdown",
   "metadata": {
    "slideshow": {
     "slide_type": "notes"
    }
   },
   "source": [
    "which on taking z-transforms gives "
   ]
  },
  {
   "cell_type": "markdown",
   "metadata": {
    "slideshow": {
     "slide_type": "fragment"
    }
   },
   "source": [
    "$$Y(z)=z^{-1}Y(z)+\\frac{T}{2}\\{z^{-1}U(z)+U(z)\\}$$"
   ]
  },
  {
   "cell_type": "markdown",
   "metadata": {
    "slideshow": {
     "slide_type": "notes"
    }
   },
   "source": [
    "thus"
   ]
  },
  {
   "cell_type": "markdown",
   "metadata": {
    "slideshow": {
     "slide_type": "subslide"
    }
   },
   "source": [
    "\n",
    "$$\\frac{Y(z)}{U(z)}=D(z)=\\frac{T}{2}\\left\\{ {\\frac{1 + {z^{ - 1}}}{1 - {z^{ - 1}}}} \\right\\}.$$\n"
   ]
  },
  {
   "cell_type": "markdown",
   "metadata": {
    "slideshow": {
     "slide_type": "subslide"
    }
   },
   "source": [
    "#### Approximation of s by numerical integration\n",
    "\n",
    "By comparison with continuous integration $Y(s)/U(s)=1/s$, this result, obtained by *numerical integration* allows us to say that \n",
    "\n",
    "$$s \\approx \\frac{2}{T}\\left\\{\\frac{1-z^{-1}}{1+z^{-1}}\\right\\}.$$ "
   ]
  },
  {
   "cell_type": "markdown",
   "metadata": {
    "slideshow": {
     "slide_type": "notes"
    }
   },
   "source": [
    "These results are summarised in the next few slides."
   ]
  },
  {
   "cell_type": "markdown",
   "metadata": {
    "slideshow": {
     "slide_type": "subslide"
    }
   },
   "source": [
    "### Summary of Numerical Integration Methods"
   ]
  },
  {
   "cell_type": "markdown",
   "metadata": {
    "slideshow": {
     "slide_type": "subslide"
    }
   },
   "source": [
    "#### Trapezoidal approximation\n",
    "\n",
    "$$\\begin{eqnarray*}\n",
    "     s &=& \\frac{2}{T}\\, \\frac{z-1}{z+1} \\\\\n",
    "     z &=& \\frac{1 + 1/2 sT}{1 - 1/2 sT}\n",
    "  \\end{eqnarray*}$$"
   ]
  },
  {
   "cell_type": "markdown",
   "metadata": {
    "slideshow": {
     "slide_type": "subslide"
    }
   },
   "source": [
    "compare expansion\n",
    "\n",
    "$$z=(1+ (1/2) sT)(1- (1/2) sT)^{-1} = 1 + sT + (1/2) s^2T^2 + (1/4) s^3T^3 + \\cdots$$ \n",
    "\n",
    "with\n",
    "\n",
    "$$z = e^{sT} = 1 + sT + (1/2) s^2T^2 + (1/6) s^3T^3 + \\cdots$$"
   ]
  },
  {
   "cell_type": "markdown",
   "metadata": {
    "slideshow": {
     "slide_type": "notes"
    }
   },
   "source": [
    "This approximation is known as \"*Tustin's Bilinear Transformation*\"."
   ]
  },
  {
   "cell_type": "markdown",
   "metadata": {
    "slideshow": {
     "slide_type": "subslide"
    }
   },
   "source": [
    "#### Forward rectangular approximation\n",
    "\n",
    "$$\\begin{aligned}\n",
    "     s &=& \\frac{z-1}{T} \\\\\n",
    "     z &=& 1 + sT\n",
    "  \\end{aligned}$$ \n",
    "  "
   ]
  },
  {
   "cell_type": "markdown",
   "metadata": {
    "slideshow": {
     "slide_type": "fragment"
    }
   },
   "source": [
    "compare with\n",
    "\n",
    "$$z = e^{sT} = 1 + sT + (1/2) s^2T^2 + (1/6) s^3T^3 + \\cdots$$"
   ]
  },
  {
   "cell_type": "markdown",
   "metadata": {
    "slideshow": {
     "slide_type": "subslide"
    }
   },
   "source": [
    "#### Backward rectangular approximation\n",
    "\n",
    "$$\\begin{aligned}\n",
    "     s &=& \\frac{z-1}{Tz} \\\\\n",
    "     z &=& \\frac{1}{1 + sT}\n",
    "  \\end{aligned}$$ \n",
    "  "
   ]
  },
  {
   "cell_type": "markdown",
   "metadata": {
    "slideshow": {
     "slide_type": "fragment"
    }
   },
   "source": [
    "compare expansion\n",
    "\n",
    "$$z=(1-sT)^{-1} = 1 + sT + s^2T^2 + s^3T^3 + \\cdots$$ \n",
    "\n",
    "with\n",
    "\n",
    "$$z = e^{sT} = 1 + sT + (1/2) s^2T^2 + (1/6) s^3T^3 + \\cdots$$"
   ]
  },
  {
   "cell_type": "markdown",
   "metadata": {
    "slideshow": {
     "slide_type": "slide"
    }
   },
   "source": [
    "### Example 2 \n",
    "\n",
    "If\n",
    "\n",
    "$$H(s) = \\frac{a}{s+a},$$ \n",
    "\n",
    "determine the equivalent $H(z)$ using Tustin's bilinear transformation."
   ]
  },
  {
   "cell_type": "markdown",
   "metadata": {
    "slideshow": {
     "slide_type": "notes"
    }
   },
   "source": [
    "#### Solution\n",
    "\n",
    "Tustin's bilinear transformation gives a digital system with transfer\n",
    "function \n",
    "\n",
    "$$\\begin{eqnarray*}\n",
    "   H(z)&=& \\frac{a}{\\frac{2}{T}\\,\\frac{z-1}{z+1}+a} \\\\\n",
    "       &=& \\frac{\\left(\\frac{(aT)/2}{1+(aT)/2}\\right)(z+1)}{z-\\left(\\frac{1-(aT)/2}{1+(aT)/2}\\right)}.\n",
    " \\end{eqnarray*}$$\n",
    "\n",
    "**Malab note**: the bilinear transform equivalent is obtained by passing\n",
    "the argument `'tustin'` to the *c2d* method:\n",
    "\n",
    "    lti_d = c2d(lti, Ts, 'tustin');"
   ]
  },
  {
   "cell_type": "markdown",
   "metadata": {
    "slideshow": {
     "slide_type": "slide"
    }
   },
   "source": [
    "### Matched pole-zero approximations "
   ]
  },
  {
   "cell_type": "markdown",
   "metadata": {
    "slideshow": {
     "slide_type": "notes"
    }
   },
   "source": [
    "Another way to obtain a digital approximation of a continuous transfer function is to use the relationship $z = e^{sT}$ to map poles and zeros of the continuous transfer function into poles and zeros in the z-transfer function.\n",
    "\n",
    "Since continuous transfer functions often have more poles than zeros, that is $n-m$ zeros at infinity, zeros at infinity are replaced in the z-transfer function by zeros at $z = -1$ which is equivalent to half the sampling frequency $\\omega_s/2$ (i.e. the highest frequency possible in the z-domain). Thus if $n-m =1$ we add $(1+z^{-1})$, if $n-m=2$, $(1+z^{-1})^2$, etc."
   ]
  },
  {
   "cell_type": "markdown",
   "metadata": {
    "slideshow": {
     "slide_type": "subslide"
    }
   },
   "source": [
    "####  Matched-Pole Zero method\n",
    "\n",
    "Idea is that all poles and zeros of continuous transfer function $D(s)$ can become poles and zeros of digital transfer function $D(z)$ if the mapping $z=e^{sT}$ is used."
   ]
  },
  {
   "cell_type": "markdown",
   "metadata": {
    "slideshow": {
     "slide_type": "subslide"
    }
   },
   "source": [
    "Method:\n",
    "\n",
    "1.  Map finite poles and zeros of $D(s)$ to poles and zeros of $D(z)$\n",
    "    according to $z=e^{sT}$."
   ]
  },
  {
   "cell_type": "markdown",
   "metadata": {
    "slideshow": {
     "slide_type": "fragment"
    }
   },
   "source": [
    "2.  Add zeros at $z=-1$ for each infinite zero in $D(s)$."
   ]
  },
  {
   "cell_type": "markdown",
   "metadata": {
    "slideshow": {
     "slide_type": "fragment"
    }
   },
   "source": [
    "3.  Match DC or low-frequency gain."
   ]
  },
  {
   "cell_type": "markdown",
   "metadata": {
    "slideshow": {
     "slide_type": "slide"
    }
   },
   "source": [
    "#### Example 3\n",
    "\n",
    "Use the Matched-Pole-Zero (MPZ) approximation to give the z-transfer function equivalent to \n",
    "\n",
    "$$D(s)=\\frac{s+a}{s+b}.$$"
   ]
  },
  {
   "cell_type": "markdown",
   "metadata": {
    "slideshow": {
     "slide_type": "notes"
    }
   },
   "source": [
    "##### Solution \n",
    "\n",
    "Order of numerator and denominator are equal so there are no infinite\n",
    "zeros and by matching poles and zeros\n",
    "\n",
    "$$D(z)=k\\left(\\frac{1-e^{-aT}z^{-1}}{1 - e^{-bT}z^{-1}}\\right).$$\n",
    "\n",
    "For $D(s)$ the DC gain is $D(s)|_{s=0} = a/b$. \n",
    "\n",
    "The DC gain for $D(z)$ is \n",
    "\n",
    "$$\\left.D(z)\\right|_{z=1}$$ \n",
    "\n",
    "(from final value theorem) that is\n",
    "\n",
    "$$k\\left(\\frac{1-e^{-aT}}{1-e^{-bT}}\\right) = \\frac{a}{b}.$$\n",
    "\n",
    "We choose $k$ so that the DC gains match, i.e. \n",
    "\n",
    "$$k=\\frac{a}{b}\\left(\\frac{1-e^{-bT}}{1-e^{-aT}}\\right).$$"
   ]
  },
  {
   "cell_type": "markdown",
   "metadata": {
    "slideshow": {
     "slide_type": "subslide"
    }
   },
   "source": [
    "#### Example 4\n",
    "\n",
    "Use the Matched-Pole-Zero (MPZ) approximation to give the z-transfer\n",
    "function equivalent to \n",
    "\n",
    "$$D(s)=\\frac{s+a}{s(s+b)}.$$"
   ]
  },
  {
   "cell_type": "markdown",
   "metadata": {
    "slideshow": {
     "slide_type": "notes"
    }
   },
   "source": [
    "##### Solution \n",
    "\n",
    "Here, the order of the denominator is one greater than the numerator so there is $n-m = 2 - 1 = 1$ infinite zero. Placing this zero at $z = -1$ makes the MPZ transfer function\n",
    "\n",
    "$$D(z)=k\\left(\\frac{(1+z^{-1})(1-e^{-aT}z^{-1})}{(1-z^{-1})(1 - e^{-bT}z^{-1})}\\right).$$\n",
    "\n",
    "As $D(s)$ is type 1, we can't use the value of $D(0)$ to compute the DC\n",
    "gain. Instead, let us compute the gain at $s = -1$: \n",
    "\n",
    "$$\\begin{eqnarray*}\n",
    "  D( - 1) &=& \\left. \\frac{s + a}{s(s + b)} \\right|_{s =  - 1} \\\\\n",
    "   &=& \\frac{-1 + a}{( - 1)(-1 + b)} = \\frac{a - 1}{(1 - b)} \\\\\\end{eqnarray*}$$\n",
    "\n",
    "The equivalent value $s=-1$ in the $z$-plane is $z=e^{-T}$.\n",
    "\n",
    "$$\\begin{eqnarray*}\n",
    "  k\\left.\\frac{(1 + z^{-1})(1 - e^{-aT}z^{-1})}{(1 - e^{-bT}z^{-1})} \\right|_{z = e^{-T}} &=& \\frac{(1 + {e^T})(1 - e^{-aT}e^T)}{(1 - e^{-bT}e^T)} \\hfill \\\\\n",
    "   &=& k\\frac{\\left( 1 + {e^T} \\right)\\left( 1 - e^{- (1 - a)T} \\right)}{\\left( 1 - e^{-(1-b)T} \\right)} \\hfill \\\\\n",
    "\\end{eqnarray*}$$\n",
    "\n",
    "Again, we choose $k$ so that the equivalent gains match, i.e.\n",
    "\n",
    "$$k =  \\left( \\frac{1 - b}{a - 1} \\right)\\frac{\\left( 1 - e^{-(1-b)T} \\right)}{\\left( 1 + {e^T} \\right)\\left( 1 - e^{ - (1 - a)T}\\right)}.$$"
   ]
  },
  {
   "cell_type": "markdown",
   "metadata": {
    "slideshow": {
     "slide_type": "notes"
    }
   },
   "source": [
    "We would implement $D(z)$ as a *difference equation* defined in terms of the sampled inputs and outputs as shown\n",
    "for Example 3."
   ]
  },
  {
   "cell_type": "markdown",
   "metadata": {
    "slideshow": {
     "slide_type": "subslide"
    }
   },
   "source": [
    "#### Implementation of an MPZ Approximation\n",
    "\n",
    "If\n",
    "\n",
    "$$\\frac{Y(z)}{U(z)}=D(z)=k\\frac{1-\\alpha z^{-1}}{1-\\beta z^{-1}}$$"
   ]
  },
  {
   "cell_type": "markdown",
   "metadata": {
    "slideshow": {
     "slide_type": "fragment"
    }
   },
   "source": [
    "then the digital implementation will be\n",
    "\n",
    "$$y(n)=\\beta y(n-1)+k(u(n)-\\alpha u(n-1))$$"
   ]
  },
  {
   "cell_type": "markdown",
   "metadata": {
    "slideshow": {
     "slide_type": "subslide"
    }
   },
   "source": [
    "$y(n)$ is the current calculated value, $y(n-1)$ is previous calculated value, $u(n)$ is current sample, and $u(n-1)$ is previous sample."
   ]
  },
  {
   "cell_type": "markdown",
   "metadata": {
    "slideshow": {
     "slide_type": "fragment"
    }
   },
   "source": [
    "Implementation only works if computation rate $<<$ significant dynamics of the sampled system and a small fraction of sampling time $T$."
   ]
  },
  {
   "cell_type": "markdown",
   "metadata": {
    "slideshow": {
     "slide_type": "notes"
    }
   },
   "source": [
    "In the implementation, you should notice that it is actually physically impossible to sample $u(t)$, compute $y(n)$ and output $y(n)$ all at the same instant of time. Hence the equation is actually impossible to implement. However, if the computation is sufficiently fast, the delay between sampling $u(t)$ and outputting $y(t)$ will be small and can often be neglected. A rule of thumb has computation delay $< t_r/20$ of the dominant pole. It should certainly be a small fraction of the sampling period $T$."
   ]
  },
  {
   "cell_type": "markdown",
   "metadata": {
    "slideshow": {
     "slide_type": "subslide"
    }
   },
   "source": [
    "#### Modified MPZ\n",
    "\n",
    "Used if constraint on computation time cannot be met<sup>2</sup>."
   ]
  },
  {
   "cell_type": "markdown",
   "metadata": {
    "slideshow": {
     "slide_type": "fragment"
    }
   },
   "source": [
    "Allow a zero at infinity in $D(z)$ so that order of numerator is one less than denominator."
   ]
  },
  {
   "cell_type": "markdown",
   "metadata": {
    "slideshow": {
     "slide_type": "fragment"
    }
   },
   "source": [
    "This ensures that only past values of $u$ and $y$ appear in the implementation equation and a whole sample period is available for computation"
   ]
  },
  {
   "cell_type": "markdown",
   "metadata": {
    "slideshow": {
     "slide_type": "subslide"
    }
   },
   "source": [
    "####  Example 5\n",
    "\n",
    "Re-implement Example 3 using the Modified MPZ method."
   ]
  },
  {
   "cell_type": "markdown",
   "metadata": {
    "slideshow": {
     "slide_type": "notes"
    }
   },
   "source": [
    "##### Solution\n",
    "\n",
    "If we allow an infinite zero \n",
    "\n",
    "$$D(s)=\\frac{s+a}{s(s+b)}$$\n",
    "\n",
    "becomes\n",
    "\n",
    "$$D(z)=k\\frac{(1-e^{-aT}z^{-1})}{(1-z^{-1})(1-e^{-bT}z^{-1})}$$\n",
    "\n",
    "and\n",
    "\n",
    "$$k = \\left( \\frac{1 - b}{a - 1} \\right)\\frac{\\left( 1 - e^{ - (1 - b)T} \\right)}{\\left( 1 - e^{ - (1 - a)T} \\right)}.$$\n",
    "\n",
    "The implementation is now\n",
    "\n",
    "$$y(n) = (1 - e^{-bT})y(n-1)-e^{-bT}y(n-2)+k(u(n-1)-e^{-aT}u(n-2))$$\n",
    "\n",
    "and now the computation for $y(n)$ is performed only on past values of $u(n)$ and $y(n)$ and a whole sample period is available for computation.\n",
    "\n",
    "**Matlab note**: the matched-pole zero equivalent of an LTI system is\n",
    "obtained by passing `'matched'` as the third argument to *c2d*:\n",
    "\n",
    "    lti_d = c2d(lti, Ts, 'matched')\n",
    "\n",
    "There isn't a built-in method that returns the *modified*-matched-pole\n",
    "zero equivalent.\n",
    "\n",
    "## Footnotes\n",
    "\n",
    "1: The LTI functions are `tf`, `ss`, and `zpk`. For more information,\n",
    "    type `help lti` inside *MATLAB*.\n",
    "\n",
    "2: Which these days is unlikely"
   ]
  },
  {
   "cell_type": "markdown",
   "metadata": {
    "slideshow": {
     "slide_type": "slide"
    }
   },
   "source": [
    "## End of Pre-Class Presentation\n",
    "\n",
    "In class we will do the examples and conclude with a MATLAB demo."
   ]
  },
  {
   "cell_type": "markdown",
   "metadata": {
    "slideshow": {
     "slide_type": "slide"
    }
   },
   "source": [
    "## MATLAB example\n",
    "\n",
    "Available as a MATLAB Live Script file [cse.mlx](matlab/cse.mlx)."
   ]
  },
  {
   "cell_type": "markdown",
   "metadata": {
    "slideshow": {
     "slide_type": "subslide"
    }
   },
   "source": [
    "Let \n",
    "\n",
    "$$G(s) = \\frac{a}{s + a}$$"
   ]
  },
  {
   "cell_type": "markdown",
   "metadata": {
    "slideshow": {
     "slide_type": "subslide"
    }
   },
   "source": [
    "Set up MATLAB"
   ]
  },
  {
   "cell_type": "code",
   "execution_count": 1,
   "metadata": {
    "slideshow": {
     "slide_type": "fragment"
    }
   },
   "outputs": [
    {
     "name": "stdout",
     "output_type": "stream",
     "text": [
      "ans =\n",
      "    '/Users/eechris/code/src/github.com/cpjobling/eglm03-textbook/06/3/matlab'\n"
     ]
    }
   ],
   "source": [
    "clear all\n",
    "cd matlab\n",
    "pwd\n",
    "format compact\n",
    "imatlab_export_fig('print-svg')  % Static svg figures.\n"
   ]
  },
  {
   "cell_type": "markdown",
   "metadata": {
    "slideshow": {
     "slide_type": "subslide"
    }
   },
   "source": [
    "Let $a = 1$"
   ]
  },
  {
   "cell_type": "code",
   "execution_count": 2,
   "metadata": {
    "slideshow": {
     "slide_type": "fragment"
    }
   },
   "outputs": [],
   "source": [
    "a = 1;"
   ]
  },
  {
   "cell_type": "markdown",
   "metadata": {
    "slideshow": {
     "slide_type": "fragment"
    }
   },
   "source": [
    "Then"
   ]
  },
  {
   "cell_type": "code",
   "execution_count": 4,
   "metadata": {
    "slideshow": {
     "slide_type": "fragment"
    }
   },
   "outputs": [
    {
     "name": "stdout",
     "output_type": "stream",
     "text": [
      "\n",
      "Gs =\n",
      " \n",
      "    1\n",
      "  -----\n",
      "  s + 1\n",
      " \n",
      "Continuous-time transfer function.\n",
      "\n"
     ]
    }
   ],
   "source": [
    "Gs = tf([a],[1, a])"
   ]
  },
  {
   "cell_type": "markdown",
   "metadata": {
    "slideshow": {
     "slide_type": "subslide"
    }
   },
   "source": [
    "Sample period"
   ]
  },
  {
   "cell_type": "code",
   "execution_count": 5,
   "metadata": {
    "slideshow": {
     "slide_type": "fragment"
    }
   },
   "outputs": [],
   "source": [
    "Ts = 1/10; % seconds"
   ]
  },
  {
   "cell_type": "markdown",
   "metadata": {
    "slideshow": {
     "slide_type": "subslide"
    }
   },
   "source": [
    "### Hold equivalent"
   ]
  },
  {
   "cell_type": "code",
   "execution_count": 6,
   "metadata": {
    "slideshow": {
     "slide_type": "fragment"
    }
   },
   "outputs": [
    {
     "name": "stdout",
     "output_type": "stream",
     "text": [
      "\n",
      "Gz_zoh =\n",
      " \n",
      "   0.09516\n",
      "  ----------\n",
      "  z - 0.9048\n",
      " \n",
      "Sample time: 0.1 seconds\n",
      "Discrete-time transfer function.\n",
      "\n"
     ]
    }
   ],
   "source": [
    "Gz_zoh = c2d(Gs, Ts, 'zoh')"
   ]
  },
  {
   "cell_type": "markdown",
   "metadata": {
    "slideshow": {
     "slide_type": "subslide"
    }
   },
   "source": [
    "This is also default"
   ]
  },
  {
   "cell_type": "code",
   "execution_count": 7,
   "metadata": {
    "slideshow": {
     "slide_type": "fragment"
    }
   },
   "outputs": [
    {
     "name": "stdout",
     "output_type": "stream",
     "text": [
      "\n",
      "Gz_zoh =\n",
      " \n",
      "   0.09516\n",
      "  ----------\n",
      "  z - 0.9048\n",
      " \n",
      "Sample time: 0.1 seconds\n",
      "Discrete-time transfer function.\n",
      "\n"
     ]
    }
   ],
   "source": [
    "Gz_zoh = c2d(Gs, Ts)"
   ]
  },
  {
   "cell_type": "markdown",
   "metadata": {
    "slideshow": {
     "slide_type": "subslide"
    }
   },
   "source": [
    "Plot Result"
   ]
  },
  {
   "cell_type": "code",
   "execution_count": 8,
   "metadata": {
    "slideshow": {
     "slide_type": "fragment"
    }
   },
   "outputs": [
    {
     "data": {
      "image/svg+xml": [
       "<?xml version=\"1.0\"?>\n",
       "<!DOCTYPE svg PUBLIC '-//W3C//DTD SVG 1.0//EN'\n",
       "          'http://www.w3.org/TR/2001/REC-SVG-20010904/DTD/svg10.dtd'>\n",
       "<svg xmlns:xlink=\"http://www.w3.org/1999/xlink\" style=\"fill-opacity:1; color-rendering:auto; color-interpolation:auto; text-rendering:auto; stroke:black; stroke-linecap:square; stroke-miterlimit:10; shape-rendering:auto; stroke-opacity:1; fill:black; stroke-dasharray:none; font-weight:normal; stroke-width:1; font-family:'Dialog'; font-style:normal; stroke-linejoin:miter; font-size:12px; stroke-dashoffset:0; image-rendering:auto;\" width=\"560\" height=\"420\" xmlns=\"http://www.w3.org/2000/svg\"\n",
       "><!--Generated by the Batik Graphics2D SVG Generator--><defs id=\"genericDefs\"\n",
       "  /><g\n",
       "  ><defs id=\"defs1\"\n",
       "    ><clipPath clipPathUnits=\"userSpaceOnUse\" id=\"clipPath1\"\n",
       "      ><path d=\"M0 0 L560 0 L560 420 L0 420 L0 0 Z\"\n",
       "      /></clipPath\n",
       "    ></defs\n",
       "    ><g style=\"fill:white; stroke:white;\"\n",
       "    ><rect x=\"0\" y=\"0\" width=\"560\" style=\"clip-path:url(#clipPath1); stroke:none;\" height=\"420\"\n",
       "    /></g\n",
       "    ><g\n",
       "    ><image x=\"0\" y=\"0\" width=\"560\" xlink:href=\"data:image/png;base64,iVBORw0KGgoAAAANSUhEUgAAAjAAAAGkCAIAAACgjIjwAAAnOUlEQVR42u3dC3RT\n",
       "9R3A8frg+IIp8tDpcN3Roah4hrIhYwhu43i2iTqdL9QDPkaZ0BgIEJpBk0OpwNqJ\n",
       "RHBgsaXt2i3gFIRW0dECp/KoJ4VOpFKKleqqSAsFbNOkbdyP/uEupIA8+79Jv5+T\n",
       "47mkJY39lfvNP725ifkWAAATiOFbAAAgSAAAECQAAEECAIAgAQAIEgAABAkAQJAA\n",
       "ACBIAACCBAAAQQIAECQAAAgSAIAgAQBAkAAABAkAAIIEACBIAAAQJAAAQQIAgCAB\n",
       "AAgSAAAECQBAkAAAIEgAAIIEAABBAgAQJAAACBIAgCABAECQAAAECei46urqtm3b\n",
       "tnfvXr4VAEEC9Ghubh49evQFF1wQExNz3nnnPfTQQw0NDY2NjZMnT16yZMlp3ODy\n",
       "5ctjQnTv3j0pKYnvM0CQgO+QnZ0t2XjwwQffeuut3//+97KdnJx84MAB2XjyySdP\n",
       "O0iDBg2aNWuW3W7v1q2b/PHDDz/kWw0QJOBEJD8SjHHjxtXU1Hz99dd/+ctf8vLy\n",
       "evfuLVd26dLl0Ucflc95+eWXf/SjH11++eUPP/zwvn370tLSbrzxxpEjR8o1N9xw\n",
       "wz//+c+2QbLZbOqPzz77rPxRbrPt7XzxxRd33333xRdfLF/oiSeekJXZ8W5Zrpc/\n",
       "XnLJJQMHDty0aZO6Rj4zPj7+yiuvlEVYTk5O21tr+xUZNwgSYF7l5eVdu3aVZpx/\n",
       "/vl33HHHzJkz/X5/ZmamXDN48ODVq1e/8cYbsj169OjZs2d36tTp8ccfl8+Ra/r3\n",
       "7y9VkHTJlVVVVWFBGjJkSGpqqsPhkFr06NFDYtD2dqZMmSLXZGRkzJgx47LLLpO1\n",
       "2jFvuaCgQK4cNmzYa6+9dt1118mt1dXVqc+87bbbpk6dKhHq1atX21tr+xUZNwgS\n",
       "YGq7d+9OSUn51a9+JXtt2YP/8Y9/DH3K7rHHHpPt5557Tvbs3bp1k72/ioG0Sj6a\n",
       "m5sr2xKwsCBddNFFUg51g4888sgxb8ftdss1PXv2lAWNLHGam5uPecvjx4+XjYqK\n",
       "Crly3rx5sv3uu++qz1S/5ZJwXnDBBW1vre1XZNYgSIB5ye7+l7/8paw5ZHvXrl2y\n",
       "17722mtDg/TAAw/IttVqTThCPcv3wQcfGPlZuHBhWJDUU3ZyO7fffrv8cevWrW1v\n",
       "p6mpadWqVePGjZN1j3xIVjYqM2G3PHbsWNn4/PPP5crXX39dtuVD6jM3bNggVw4f\n",
       "Pvy8886TjbBbO+ZXZOIgSIBJyW5a9tq/+93v3njjDdmJy57917/+9TfffCNX9u3b\n",
       "d82aNXPnzpXtSZMmycLl5z//+YgRI1QMJANFRUVDhw6V7dLS0mMGSSQmJsof8/Pz\n",
       "297OU0899b3vfU9a9c4778iHLBbLMW9ZlkFq3SZX9uvX79JLL/3yyy/bBqntrbX9\n",
       "iowbBAkwL5/PJyshddi3GDBggHpy7J577lF/DAQCI0eOPP/882Wnf9ttt1VWVqoY\n",
       "yIfkvxdeeKHT6Qy9wbfffluunzhxovpjVlaW/PGll15qezsSjx//+Mfq68pGeXn5\n",
       "8W5Zbk09+9e9e3cJp1wTGqT77rtPbrPtrbX9iowbBAkwO1kSbd++PeyFsdIqv9+v\n",
       "thsaGmpqatS2EYPa2lp1MNvJC70dEQwGq1vJxolvWe7JF198oT7teMJu7ZhfESBI\n",
       "QPSYNWuWLDs2btwYQbcMECQAAAgSAIAgAQBAkAAABAkAAIL0nYqLi3Nzc5k3ABAk\n",
       "bdQZmseOHbt48WLmDQAESRufz6dOwUKQAIAg6VdcXHzMIN1xxx2jj2CbbbaPt33H\n",
       "HSvkEhPjkv/27r1eLjExGWqjdbvwmmu2q8vR25VdutSoS9h2TMy3p3Qx/u7JXIw7\n",
       "8J0XueW2V8r/kfqvaS9qHKdxIUimDpL8SzPJPTTPPeHORNydcbkOX0aNOnwZOvTw\n",
       "JTb28CVs/x56jfE5cjH+onFToTfOmCL6zpjq20KQCBJ3xtR3JnTXH1qU45VDHimH\n",
       "NYMxcWcIEkHinxB35rtLY2QmbL1itOdUo8KYuDMEKaqYf0Iwv4yMo3oTuppRz31p\n",
       "X74ABIkJIaqorhjVCX0CTV0AdncEiSDhXLWn7eFeALs7gkSQcA7zY/xqR/4bekyB\n",
       "XAB2dwSJCeHsq6w89uqnsJDvDdjdESQmhHO/AApdA/HMG9jdESQmhHYiyx1jDSQR\n",
       "4iA3gCAxIeiJkHHgNQCCxITQHtQvhFSE1DNyAAgSE0K7kg4ZT8cp6iQ6AAgSE0J7\n",
       "LIYkObwkCCBITAjaFkPSIWMxxPNyAEFiQtCwJFIHahtvhcCTcgBBYkJo1w5xjBxA\n",
       "kJgQtFHrodDjFAAQJCYEDUsi4/zZHK0AECQmBA0pUksizmEKsLsjSARJT4rU61iN\n",
       "txciSAC7O4JEkNpVYeHh5+U4uzbA7o4gESSdKVLHcHPYAsDujiARJA0qKw+nSDYA\n",
       "sLsjSARJT4qMc57ymlaA3R1BIkh6UmScZ0FdCBLA7o4gEaT2pl5XBIDdHUEiSDoX\n",
       "RrIq4hhugN1dhw5SMBjMycmx2+0ul6usrMy4vrGxcdGiRXJ9cnLyrl27CNK5S5F6\n",
       "jo4XFQEEqaMHqaSkxOl0+nw+r9ebkJBgXL9ixYpXX321paVl7dq1s2bNIkjnQmHh\n",
       "oefoeKYOIEgE6RCPx5Ofn6+2bTZbbW2t2pYaFRcXy0ZTU5PMw+/3E6SzSy2MDv88\n",
       "ESSAIBGk9PT0oqKiI7tIV1VVlbFCmjt3bk1NzXvvvSfzkI2wCRn4eT29hZE68wLn\n",
       "RQVM26FI2ctFz/4jOzu7oKBAbTscjurqarUtC6OVK1fOnz8/Ly9v4sSJwWCQFdJZ\n",
       "XBhxBiCAFRJBCic1crvdsiEpslgsgUDA7/fLOmnz5s3vv/++XO/1emWpFHETMiH1\n",
       "cleOXAAIEkE6NslPSkqK3W63Wq3qubuKioq4uDifzzd79uypU6fabDa5hiCdIfU0\n",
       "nVwIEkCQCFLHmpCpqKfpOOcCwO6OIBEkbUKfpiNIALs7gkSQtNVIvZmeQpAAdncE\n",
       "iSBpoH5p9O23nCYVYHdHkAiSPhkZHNsNsLsjSExIt9BTMABgd0eQCJIevNIIYHdH\n",
       "kJiQfuokQKpJZAlgd0eQmJC2tRGnpAPY3REkJqS/RsZ/AbC7I0hMSFuN1CHdBAlg\n",
       "d0eQmJD+GhEkgN0dQWJCpqgRQQLY3REkJmSKGgFgd0eQmJAGkiJOmQqwuyNITMgU\n",
       "yyOjTADY3REkJqRBRsZRvysiSAC7O4LEhPSIjT3qAoDdHUFiQu1NvaMEEQLY3REk\n",
       "JqRTZeWhGkmTCBLA7o4gMSGdhg7l/Y0AdncEiQmZoEbGO5EDYHdHkJiQHpIiTsEA\n",
       "sLsjSExIM3UgA8sjgN0dQWJCOqkDGTiKAWB3R5CYkGbqQAaerwPY3RGk9hAMBnNy\n",
       "cux2u8vlKisrM65vaWnJysqaPHmy0+n8+OOPO2CQXC7e5QgAQWpHJSUlkhyfz+f1\n",
       "ehMSEozrt2zZMn369EAgsH79+mnTpnW0IIUujAgSQJAIUnvweDz5+flq22az1dbW\n",
       "qu1t27bNnDmzqalJQpWUlNR2Qoao/BFUr4ElSEBH7lCk7OWiJ0jp6elFRUVq2+Vy\n",
       "VVVVqe36+vrExMSJEyeOGTOmoKCgQ62QjNfAyoa6AGCFRJDOuezsbKM3Doejurpa\n",
       "bS9fvjwzMzMYDNbU1Fit1gMHDnSQIPGqIwAESQ+pkdvtlg1JkcViCQQCfr9f1kke\n",
       "jycrK0uub2homDBhgvFUXtQHiYO8ARAkPSQ/KSkpdrtdlkHqubuKioq4uLi9e/dO\n",
       "nz5d1kyTJk1asWJFxE3o9HDCOgAEiQnpZxznrbYBgCAxIT1Cn6wjSAAIEhPSI+zJ\n",
       "OoIEgCAxIQ0kPzExh56vMy4AQJCYkI5xcgZVAASJCWnHkXUACBIT0i8jg5fBAiBI\n",
       "TMgMg4w59KZHAECQmJBOsjbiaDoABIkJaVZYyIEMAAgSEzLDCFuPrDMuAECQmJAG\n",
       "GRmHggQABIkJmWJ5BAAEiQnppM7FQJAAECQmpFNl5eEn6wgSAILEhHQaOvTQL5AI\n",
       "EgCCxIR0KizkvAwACBITMsfyiNPWASBITIjlEQB2dwSJIB05URDnCgJAkJiQTrwS\n",
       "FgBBYkJmWR7xfB0AgsSE9C+PRo3iyToABIkJ6RYbe+j1sAQJAEFiQvqXR4IgASBI\n",
       "phYMBnNycux2u8vlKisrM65ftWqVK0RtbW2EBkktjwgSAIJkdiUlJU6n0+fzeb3e\n",
       "hIQE43q5Zl+r4uLimTNntrS0RGKQjOURQQJAkMzO4/Hk5+erbZvNFrYSamhomDZt\n",
       "Wk1NTdsJGSJieQQAp9qhiNjLRVWQ0tPTi4qKjqwhXFVVVaEfzc3NXblyZSQ+ZFCM\n",
       "5REAsEIyu+zs7IKCArXtcDiqq6uNDx08eNBisdTX10dokHjtEQCCFEmkRm63WzYk\n",
       "RZKfQCDg9/vVOklWTvPmzYvQCanfHhEkAAQpYkh+UlJS7Ha71WpVz91VVFTExcV9\n",
       "2/rrpWXLlkXohNSJvQkSAILEhHQyUkSQABAkJqR5eRS2AQAEiQm1t8rK/789OUEC\n",
       "QJCYkDajRh06ooEgASBITEj3bEKGQ5AAECQmpEfouYIIEgCCxIS0MX57RJAAECQm\n",
       "ZJblEQAQJCakh6yHYmL45wOAIDEhrdSLYcOesgMAgsSE2ps62psgASBITEj3SFpn\n",
       "QpAAECQmpJNxOANBAkCQmJBOxjvDEiQABIkJ6V8eESQABIkJ6RR68jqCBIAgMSF9\n",
       "wwiZBkECQJCYkB5hZ2cgSAAIEhPSwzicAQAIEhMyy/IIAAgSE9JDasTJ6wAQJCZk\n",
       "gjHEsEICQJCYkG7q+TqCBIAgMSHNhg49dIZvggSAIDEhnSorDx/hTZAAEKQoEQwG\n",
       "c3Jy7Ha7y+UqKysL/dC6deucTmdycnJpaanZJmScnYEgASBIUaKkpESq4/P5vF5v\n",
       "QkKCcf2uXbukUnv37i0vL09MTDTbhIyXHxEkAAQpSng8nvz8fLVts9lqa2vV9rJl\n",
       "y/Ly8qRGn3zyyZ49e0y4QgrbAACCFNnS09OLiorUtsvlqqqqUtuLFi2aMmWK5GrB\n",
       "ggWzZ89uaWkJm5BBS42Ms6kSJADnqEMa93IdNEjZ2dkFBQVq2+FwVFdXG6FaunSp\n",
       "2p46daoRKjM8ZAh9MSxBAsAKKUpIjdxut2xIiiwWSyAQ8Pv9kp/CwkJZG8n19fX1\n",
       "NputpqbGJBPidEEACFJ0Bknyk5KSYrfbrVareu6uoqIiLi6uqalp/vz5TqdTPvTu\n",
       "u++aZ0Lq5UcAQJCiLUgRN6GYmENNAgCCRJA0T2jUKIIEgCARJN0TUs/XESQABIkg\n",
       "aZ6QOr6OIAEgSARJ54SM4+sIEgCCFKlBys3Nvf/++19//XW3271///4InZBxfB1B\n",
       "AkCQIjJIf/3rX2+88cZ7773X6XTabLb+/ftH6ISM18MSJAAEKSKDdPvtt3u93tTU\n",
       "VAmS/PH666//73//G3ETCn09LEECQJAiMkiDBg0qLCxUQTp48GD37t2NM6hG0ITU\n",
       "ux8RJAAEKYKD9Pbbb/fo0aN///533nln3759n3rqqUicUOj56wgSAIIUkUESW7Zs\n",
       "mTZtmsViWbp0aTAYjLgJcf46AAQpSoIU6RPi/HUACFJkB6lPnz49j+XMj/xu5wnF\n",
       "xPCPAgBBiuQg7dy5c/v27VardfDgwUVFRVu3bp04cWK/fv3C3m3P5BPKyCBIAAhS\n",
       "hAdJueWWWyRFxh979+4d9m57Jp/Q0KEECQBBioog3XnnnStWrFDbtbW1Xbt23bNn\n",
       "TwRNSGpEkAAQpGgIUlZWVufOnUeOHBkfH//DH/5wxIgRETQhdXwdQQJAkKIhSGL9\n",
       "+vUJCQnjx4/3eDxn/guk9pyQ1IjfIQEgSFESpAULFkw6ms/ni5QJqRQRJAAEKRqC\n",
       "lJaW5mg1ceLEn/zkJ4MGDfL7/RExIeP1sAQJAEGKhiCFkrXRddddV19fHxETUs/X\n",
       "ESQABCkKg9TU1HT11VeXl5dHxIRiY7+trCRIAAhStARp3Lhxg46QGt18882SJfNP\n",
       "iPPXASBI0RakxYsXL126dGWrwsLC1atXR0SQjOfrAIAgRXyQ6urqPv300wEDBixf\n",
       "vvzTVjt27OjatWtEnMvOeL4OAAhSxAfplVdekfxceOGFXbp06XrE4MGDQ9+BQrZz\n",
       "cnLsdrvL5SorKwv967NmzXK1Sk9Pb/8J8XsjAAQpeoKkPPjgg6Wlpcf7aElJidPp\n",
       "9Pl8Xq83ISEhdHU1ffr0xlaBQKCdJ8QvkAAQpCgM0ol5PJ78/Hy1bbPZjHc337p1\n",
       "69y5c4uKiqRYzc3N7TwhWR7Fxv7/AgAEKbKDdPfdd+fl5T3zzDN9j3bgwAHjc9LT\n",
       "06U6atvlchknAi8oKEhOTpb/vvrqq3PmzGk7IcM5ChIA6O3QOd3Ldbggbdiw4euv\n",
       "vy4tLV13tNCj7LKzs6U6atvhcFRXV4fdSEtLywsvvBB2HMQ5nRAnrwPACinagnTX\n",
       "XXf1PZbQFZLUyO12y4akyGKxBAIBv98v6ySPx6NCtWfPHrk+7GxD53RCnN4bAEGK\n",
       "tiBt3LhRLYnWrFmTlZW1cOHCd955J2yFJKVJSUmx2+1Wq1U9d1dRUREXF/fVV19N\n",
       "mzYtKSlJPlRcXNyeE4qNPfSmfABAkKInSIoEpk+fPpdddlmPHj06d+6cmZlp8gnJ\n",
       "8ohD7AAQpCgM0v333x8fH6+ec1u1alWXLl3M/PYTHPANgCBFbZBuuummHTt2GH+8\n",
       "5ZZbwl4Aa6oJccYgAAQpaoP09NNPJyUlqe3i4uJevXqZ+f2QOJwBAEGK2iA9+eST\n",
       "MTEx1113Xd++fc8///yePXve0WrLli3mXCEBAEGKziB5vd5/H0tdXZ3ZJsTzdQAI\n",
       "UjQHKYImxBm+ARCkaA5SQUHBkCFD+oUIfWGsqSZk/AKJJ+4AEKQoDFL//v0nT568\n",
       "evXqgiPM+QZ9oQd8EyQABCkKgyRLos2bN5t/QqG/QCJIAAhSFAZp8eLFv/jFL9Tb\n",
       "TCjmXCGF/gKJIAEgSFEYJPludu3adcCAAQOPOHjwoAknFPoKJIIEgCBFYZD69Onz\n",
       "n//8x/wTUudUNS4AQJCiLUjPPPNMVlaWySfEK5AAEKToD9K4ceNiYmL69+8/6AgT\n",
       "PmXHK5AAEKToD9KGDRtWhpg/f35DQ4OpJsQZvgEQpA4RJEVWRWlpaQMGDJDV0pmc\n",
       "NIggASBIBOn0V0jPPvts586du3XrlpiYWF5ebrYJ8QskAAQpyoM0f/78W2+9tWvX\n",
       "rvINdTgc9957rzknpA74ZpEEgCBFbZB69Ohx8803f/jhh7K9fPny4cOHm3BCxvN1\n",
       "BAkAQYraIG3dutVqtXbr1u222277wx/+YM4guVyHLgQJAEGK5iApfr/f4/EMGzas\n",
       "U6dOv/3tb2W7paXFPBMyXgNLkAAQpCgPkqGysjIxMbFXr16mOsqOt5wAQJA6XJCU\n",
       "M18encUJ8ZYTAAhSxw2SqSZk/AKJIAEgSARJ54R4DyQABIkgHRYMBnNycux2u8vl\n",
       "KisrC/toIBBISkrasWPHOZoQbzkBgCARpMNKSkqcTqfP5/N6vQkJCWEflVZZLJbt\n",
       "27efiwmFnTGIIAEgSB06SOqdZNW2zWarra01PrRly5aFCxcuWLDgmEEynK0gAYCp\n",
       "OnTmezmCdGrS09OLiorUtsvlqqqqUtt1dXUzZsyor68/XpDO/EtzCjsArJAI0v9l\n",
       "Z2cXFBSobYfDUV1drbZlbZSZmfnBBx+8+OKLb775ZthbKJ2VCcXEsEICQJAI0hFS\n",
       "I7fbLRuSIovFEggE/H6/rJM2b968plVSUtKSJUsOHDhwdidUWHjUEQ0AQJA6epAk\n",
       "PykpKXa73Wq1qufuKioq4uLijE+QpVLbd6w48wllZBAkAASJIJlgQqNGESQABIkg\n",
       "mWBCsbEECQBBIkgmmJDUiCABIEgESfOE1CuQCBIAgkSQNE9IvQKJIAEgSARJ84Ri\n",
       "Y7+trCRIAAgSQdI9IVIEgCARJP0T4hR2AAgSQTLFhELflA8ACBJB0jYhzqkKgCAR\n",
       "JFNMiF8gASBIBEn/hAoLvx06lJ9wAASJIOmeUOgRDSyVABAkgqRtQqG/QCJIAAgS\n",
       "QdI2IfWSWIIEgCARJM0TCo0QQQJAkAiSngmFvSSWIAEgSARJz4TCXhJLkAAQJIKk\n",
       "Z0LGSb6NCwAQJIKkYUKhRzQAAEEiSHomJCmSIAEAQSJImifESb4BECSCZIoJcU5V\n",
       "AASJIJliQrGxPGUHgCARJBNMKCaG06oCIEgE6fiCwWBOTo7dbne5XGVlZcb1gUBg\n",
       "0aJFkydPTkpK2rlz55lPaNQoggSAIBGk4yspKXE6nT6fz+v1JiQkGNevXbvW7XY3\n",
       "Nzfn5eWlpqae4YTUEQ0ECQBBIkjH5fF48vPz1bbNZqutrTVCpRZGxcXFL7300hlO\n",
       "SB3RQJAAECSCdFzp6elFRUVq2+VyVVVVhX504cKFzz///KZNm9pOyHAyX0W9JJYg\n",
       "AYigDp3SXo4gnQXZ2dkFBQVq2+FwVFdXq+09e/b4/X7Z2L179wsvvNDY2HgmDxnU\n",
       "WYIIEgBWSATpuKRGbrdbNiRFFoslEAhIh2SdlJaWtmLFCrl+//798fHx9fX1pz0h\n",
       "4yWxBAkAQSJIxyX5SUlJsdvtVqtVPXdXUVERFxcnfZraatKkSatXrz6TCREkAASJ\n",
       "IJliQsY5GggSAIJEkHROiJN8AyBIBMkUE+J9jwAQJIJkiglxkm8ABIkg6Z9Q2NuW\n",
       "AwBBIkh6JsS7TgAgSATJFBPiiAYABIkgmWJCoUc0cNg3AIJEkPRMKOxtywkSAIJE\n",
       "kLQFKTb2UIeMCwAQJIKkYUKyPOKYbwAEiSDpn5AsjwgSAIJEkPRPiHM0ACBIBEn/\n",
       "hMKOaAAAgkSQCBIAEKQOPCFqBIAgESRTTCg2lp9kAASJIJlgQhzRAIAgEST9Eyos\n",
       "PPwyWJ64A0CQCJLOCRlHNBAkAASJIOmckPGuEwQJAEEiSDonZLzrBEECQJAIEkEC\n",
       "AILU4SdkHGJHkAAQJIKkbUKh52ggSAAIEkE6KcFgMCcnx263u1yusrIy4/pAIJCZ\n",
       "mSnXJyUllZeXn9KEXK5DF4IEgCARpFNQUlLidDp9Pp/X601ISDCuX7NmTWpqalNT\n",
       "08aNG6dOnXpKEzIOsSNIAAgSQTpZHo8nPz9fbdtsttraWrX93nvvlZaWykZdXV18\n",
       "fPwpTSj0pEEECQBBIkgnJT09vaioSG27XK6qqqrQjx44cGDu3LlLlixpOyHDMb47\n",
       "nDQIQOR36AR7OYJ0TmRnZxcUFKhth8NRXV1tfEhCNW3atHXr1p3SQwbjpEEAwAqJ\n",
       "IJ0CqZHb7ZYNSZHFYgkEAn6/X9ZJGzZsSE1Nra+vP9UJ8TZIAAgSQTodkp+UlBS7\n",
       "3W61WtVzdxUVFXFxcXPmzBk/fryjVXJy8slPKPSIBgAgSARJ24SMczQAAEEiSAQJ\n",
       "AAhSh59QTMxRF36fBIAgESQNE8rI4J3LARAkgmSCCblcBAkAQSJIJpjQqFEECQBB\n",
       "IkgmmJDUiCABIEgESf+EOGkQAIJEkPRPiJMGASBIBMkUE+KkQQAIEkEyxYRC35cP\n",
       "AAgSQdI2Ic5iB4AgESRTTIiTBgEgSATJFBNSh9hx2DcAgkSQdE7IOMSOIAEgSARJ\n",
       "54SMQ+wIEgCCRJB0Tsg4ooEgASBIBIkgAQBB6vATMg6xI0gACBJB0jkh4yx2BAkA\n",
       "QSJI2iYUehY7ggSAIBEkbRMKPYsdQQJAkAiStgmFnjSIIAEgSATJFEECAIJEkLRN\n",
       "iLPYASBIBMkUE+KNYgEQJIJ0poLBYE5Ojt1ud7lcZWVlYR8tLi7Ozc098YR4o1gA\n",
       "BIkgnQUlJSVOp9Pn83m93oSEBOP6ffv2paWljR07dvHixSeeEG8UC4AgEaSzwOPx\n",
       "5Ofnq22bzVZbW6u2JVGlpaVLliw5XpAMvFEsgKjskIEgtZP09PSioiK17XK5qqqq\n",
       "Qj9aXFz8nSuksEPsOOwbACskgnQ6srOzCwoK1LbD4aiurj7VIMXEHPodknEhSAAI\n",
       "EkE6HVIjt9stG5Iii8USCAT8fr+xTjrJIAEAQSJIZ0ryk5KSYrfbrVareu6uoqIi\n",
       "Li6OIAEAQYqkCWVkECQABIkgmWBCHGIHgCARJFNMiLPYASBIBMkUE+IsdgAIEkEy\n",
       "xYT4BRIAgkSQCBIAECSC1DohzmIHgCARJBMFiVN9AyBIBEnzhNQhdgQJAEEiSAQJ\n",
       "AAgSEzpyzDdBAkCQCJLmCalD7AgSAIJEkDRPSKWIIAEgSARJ84TUMd8ECQBBIkg6\n",
       "J2ScVpUgASBIBEnnhIzTqhIkAASJIOmckHFaVYIEgCARJFMECQAIEkHSOSFOqwqA\n",
       "IBEk/YYPT+WZOgAEiSDpN3RoBuf5BkCQCJJ+vXuv553LARAkgkSQAIAgEaRWXbrU\n",
       "GIfY8cskAASJIOn7/w/5BugNkql+Vrgz3BnuTPTdGYKkXzAYzMnJsdvtLperrKys\n",
       "7QqJIHFnuDPcGYJEkNpDSUmJ0+n0+XxerzchISHso717rydI3BnuDHeGIBGk9uDx\n",
       "ePLz89W2zWarra0NC9LoI665ZvtoAIheBEmz9PT0oqIite1yuaqqqkI/qk71bVwA\n",
       "AATpXMnOzi4oKFDbDoejurqaqQMAQdJAauR2u2VDUmSxWAKBAFMHAIKkgd/vT0lJ\n",
       "sdvtVqvVeO4OAECQAAAgSAAAggQAAEEKd+LTN2hRXFycm5ur/W4EAoHMzEz5ziQl\n",
       "JZWXl2u/M4sWLZo8ebLcmZ07d5phTHKX5M7s2LFD792YNWuWq1V6err278m6deuc\n",
       "TmdycnJpaanee7Jq1SpXiLAXHbazlpaWrKws+emVb87HH3+s9zvT2Ngo/5Tk37WM\n",
       "adeuXQTJXE58+oZ2tm/fvrS0tLFjxy5evFj7d2bNmjWpqalNTU0bN26cOnWq3juz\n",
       "du1at9vd3Nycl5cn98oMPznyOMZisWzfvl3jfairq5s+fXpjK+1HjcreTXZze/fu\n",
       "lYcviYmJeu+M/Ive10oe3s2cOVOSoPHObNmyRcYkA1q/fv20adP0fmdWrFjx6quv\n",
       "yjdE/k3JoxmCZC4nPn1D+/8rkoeWS5YsMUOQ3nvvPfU4V/Z68fHx2h83qIWR7F9e\n",
       "eukl7d8c2cUsXLhwwYIFeoO0devWuXPnFhUVyfdHaq33e7Js2TJ5uCA1+uSTT/bs\n",
       "2WOGf90NDQ0SgJqaGr13Y9u2bRJFeWwnj3plVa33zkiN5B+RbMj9GT16tN/vJ0gm\n",
       "cuLTN2ghPy5mCJJy4MAB2eVJI81wZ6QBzz///KZNm/TeDSn0jBkz6uvrtQepoKAg\n",
       "OTlZ/it7mTlz5uj9tixatGjKlCnyCE++LbNnz9a7KFFyc3NXrlyp/W7Ij4osGSdO\n",
       "nDhmzBjjtfkaV0jyL1oiLY84JUjaa02QjmLC0zeYJ0iSanmAuW7dOu33RB5xq4dy\n",
       "u3fvfuGFFxobG/V2MTMz84MPPnjxxRfffPPNgwcPav/+yN5fvi379+/X+9hu6dKl\n",
       "anvq1KnaH9vJXCwWi8RA+3SWL18uPzDBYFD2/larVR7kabwzsjCSSM+fP1+Ws9JI\n",
       "uVcEyURMePoGkwRpw4YNqampZvj3LNLS0uSRnWzIPjc+Pl7vvdq8efOaVklJSbJ2\n",
       "1Lh/keWIejglwZafXr1PvxQWFsraSC0IbDab9ofe8nBq3rx5ZvjplTFlZWV92/oU\n",
       "4oQJE/T+XkB+et9//33Z8Hq9slQy7Z65gwbJhKdvMEmQ5syZM378eEer5ORkvXdG\n",
       "Hi5MbTVp0qTVq1eb5IdHlkp6jz/86quvZAkrXZQfYPWLAb0PveVxt9PplDvz7rvv\n",
       "miEDy5YtM8PPyd69e6dPny7/juSnVz2u0sjn882ePVv+KcmDhoqKCoJkRvKYTvvv\n",
       "hPGdvvnmGzP8ZsKE3xbzPPHS2NjIjI63k5Fmm+TOSJZM+2QdQQIAECQAAAgSAIAg\n",
       "AR2IxrNSNTY2muRkSwBBAk5WfX19TBsTJkwYPHjwmdxsSUnJGd7CSdq0adNNN90U\n",
       "dmUgEOjdu/fnn3/OfEGQgEgSbOV2u4cMGaK2a2pqvF7vmdzmPffc0z7HH0uQpD1t\n",
       "r581a9aYMWMYLggSEHleeeWVoUOHqu1///vfjz766PLlyx9++GFZ6HTu3HnkyJFT\n",
       "pkzp2rXrNddc884776hPS0lJufbaa6+++uo///nPoTdVXl4uV1ZUVAwYMODiiy/+\n",
       "wQ9+kJOTc7y/Mn36dLlN+RKPPfZYQ0ODakmvXr2uuOIKuQ979+6VuzFixAiJ5UUX\n",
       "XSR3Rq6RZMpfv+qqq+RzHnzwQRWknTt3hn45aeqll16q9/QWAEECzjRI0gDZ9Wdn\n",
       "Z8s+fePGjV9++aUKRm1trcPhuPfee+Vz8vLybrjhhs8++6yqqurmm2/2eDzGTf3r\n",
       "X/+Svz5p0qQHHnigubn5rbfe6tu37zH/iqyiJE4fffRRdXW1fE5qaqp86W7dum3e\n",
       "vFnCM2zYsKefflruRqdOndauXSuNufXWW1977bUlS5Z8//vf37Zt2549e+Q+qyC1\n",
       "/XJyO/K3mCwIEhANQbrnnnvUNTfddJM6YY/E5u6775aNP/3pT/3795/YauDAgU89\n",
       "9ZRxUzNmzJA/yo1ccskljz/+uCREnVOn7V+Ra2Rb/a39rcaMGTNhwgR1zbp16yRX\n",
       "cjfUV1S38OKLL44ePVryo65ZtWqVClLbLydf6+9//zuTBUECoiFIajGkgrR+/XrZ\n",
       "ePPNN1Uennvuud/85jfzjgg9w3RiYqKEQTZ27Njx8ssv33XXXT169JAVT9u/MmrU\n",
       "KONthD7//POKigr5nClTpqhriouLr7zyytC7oYL07LPPykJNXSNrION3SGFf7qc/\n",
       "/ekbb7zBZEGQgCgPUlZWVr9+/WRN09LS8tBDDy1atMi4qddff10WQBIPl8v1bevb\n",
       "eXTq1Omjjz5q+1f+9re/9enTR66pr6+XfvzjH/9YvHhxbGzs7t275XNkCfXAAw+0\n",
       "DZJ8zvXXXy/LoGAw+Nhjj6kgtf1ykqVt27YxWRAkIMLIksUI0ttvvz1kyBApwfDh\n",
       "w48XpObm5qeffvqKK6646qqr7rvvvtBzxn/66afdu3f/8MMPe/XqJXXp1q3biBEj\n",
       "JDBt/4rf73/kkUcuv/zynj17PvHEE82tRo8era752c9+9tlnn4Xejeeff1697dvI\n",
       "kSO7dOkinyPhVEHyer2hX+7rr7++5JJLzHMiNYAgAeeWz+c75nsjDRs2zOPxSIS+\n",
       "/PLLsE9o+1dkeaSOrzM0Njbu27fvxF9a/lbY7YR+OVlI2Ww2BgSCBHR0GzduHDhw\n",
       "oK6vLgsvWdKZ9o1BAYIEtKsdO3bo+tJNTU27du1iBCBIAAAQJAAAQQIAgCABAAgS\n",
       "AAAECQBAkAAAIEgAAIIEAABBAgAQJAAACBIAgCABAECQAAAECQAAggQA6Fj+B8Qa\n",
       "/czFx99sAAAAAElFTkSuQmCC\" style=\"clip-path:url(#clipPath1);\" height=\"420\" preserveAspectRatio=\"none\"\n",
       "    /></g\n",
       "  ></g\n",
       "></svg\n",
       ">\n"
      ]
     },
     "metadata": {},
     "output_type": "display_data"
    }
   ],
   "source": [
    "step(Gs,'-',Gz_zoh,'--')"
   ]
  },
  {
   "cell_type": "markdown",
   "metadata": {
    "slideshow": {
     "slide_type": "subslide"
    }
   },
   "source": [
    "### Approximation by numerical-integration\n",
    "\n",
    "Also known as the *bilinear transform* or *Tustin equivalent*"
   ]
  },
  {
   "cell_type": "code",
   "execution_count": 9,
   "metadata": {
    "slideshow": {
     "slide_type": "subslide"
    }
   },
   "outputs": [
    {
     "name": "stdout",
     "output_type": "stream",
     "text": [
      "\n",
      "Gz_tustin =\n",
      " \n",
      "  0.04762 z + 0.04762\n",
      "  -------------------\n",
      "      z - 0.9048\n",
      " \n",
      "Sample time: 0.1 seconds\n",
      "Discrete-time transfer function.\n",
      "\n"
     ]
    }
   ],
   "source": [
    "Gz_tustin = c2d(Gs, Ts, 'tustin')"
   ]
  },
  {
   "cell_type": "markdown",
   "metadata": {
    "slideshow": {
     "slide_type": "subslide"
    }
   },
   "source": [
    "Plot Result"
   ]
  },
  {
   "cell_type": "code",
   "execution_count": 10,
   "metadata": {
    "slideshow": {
     "slide_type": "fragment"
    }
   },
   "outputs": [
    {
     "data": {
      "image/svg+xml": [
       "<?xml version=\"1.0\"?>\n",
       "<!DOCTYPE svg PUBLIC '-//W3C//DTD SVG 1.0//EN'\n",
       "          'http://www.w3.org/TR/2001/REC-SVG-20010904/DTD/svg10.dtd'>\n",
       "<svg xmlns:xlink=\"http://www.w3.org/1999/xlink\" style=\"fill-opacity:1; color-rendering:auto; color-interpolation:auto; text-rendering:auto; stroke:black; stroke-linecap:square; stroke-miterlimit:10; shape-rendering:auto; stroke-opacity:1; fill:black; stroke-dasharray:none; font-weight:normal; stroke-width:1; font-family:'Dialog'; font-style:normal; stroke-linejoin:miter; font-size:12px; stroke-dashoffset:0; image-rendering:auto;\" width=\"560\" height=\"420\" xmlns=\"http://www.w3.org/2000/svg\"\n",
       "><!--Generated by the Batik Graphics2D SVG Generator--><defs id=\"genericDefs\"\n",
       "  /><g\n",
       "  ><defs id=\"defs1\"\n",
       "    ><clipPath clipPathUnits=\"userSpaceOnUse\" id=\"clipPath1\"\n",
       "      ><path d=\"M0 0 L560 0 L560 420 L0 420 L0 0 Z\"\n",
       "      /></clipPath\n",
       "    ></defs\n",
       "    ><g style=\"fill:white; stroke:white;\"\n",
       "    ><rect x=\"0\" y=\"0\" width=\"560\" style=\"clip-path:url(#clipPath1); stroke:none;\" height=\"420\"\n",
       "    /></g\n",
       "    ><g\n",
       "    ><image x=\"0\" y=\"0\" width=\"560\" xlink:href=\"data:image/png;base64,iVBORw0KGgoAAAANSUhEUgAAAjAAAAGkCAIAAACgjIjwAAAmwklEQVR42u3dDXRT\n",
       "5f3A8fjC8Q2myItuDtcdHYqKZygbMobUbRzPNlGn8w31UF9GmdAYCBCaQXMPpQJr\n",
       "JxLBgcWWtmu3gFMQWkVHC5zKSz0pdCKVUqxUV0VaKGCbJm3D/9c+kH9tQcVCn5v0\n",
       "+zk9nkta0thfud88yc2N5RgAACZg4UcAACBIAAAQJAAAQQIAgCABAAgSAAAECQBA\n",
       "kAAAIEgAAIIEAABBAgAQJAAACBIAgCABAECQAAAECQAAggQAIEgAABAkAABBAgCA\n",
       "IAEACBIAAAQJAECQAAAgSAAAggQAAEECABAkAAAIEgCAIAEAQJAAAAQJ6L5qa2t3\n",
       "7dp18OBBfhQAQQL0aGpqGj9+/HnnnWexWM4555z777+/vr6+oaFh+vTpK1as+A5X\n",
       "uHr1aksbffv2TUxM5OcMECTgG2RlZUk27rvvvtdff/0Pf/iDbCclJR05ckQ2Hnvs\n",
       "se8cpBEjRsybN8/hcPTp00f++N577/GjBggS8HUkPxKMSZMmVVdXf/HFF3/9619z\n",
       "c3MHDhwoF/bq1euhhx6Sr3nhhRd+/OMfX3rppQ888MChQ4dSU1Ovu+66cePGySXX\n",
       "Xnvtv/71r45Bstvt6o9PPfWU/FGus+P1fPrpp3fccceFF14o3+jRRx+Vldmprlku\n",
       "lz9edNFFw4cP37Ztm7pEvjIuLu7yyy+XRVh2dnbHa+v4HRk3CBJgXmVlZb1795Zm\n",
       "nHvuubfeeuvcuXP9fn9GRoZcMnLkyPXr17/66quyPX78+Pnz5/fo0eORRx6Rr5FL\n",
       "hg4dKlWQdMmFlZWV7YI0atSolJQUp9MptejXr5/EoOP1zJgxQy5JT0+fM2fOJZdc\n",
       "Imu1k15zfn6+XDh69OiXX3756quvlmurra1VX3nzzTfPnDlTIjRgwICO19bxOzJu\n",
       "ECTA1Pbv35+cnPzrX/9a9tqyB//Tn/7U9iG7hx9+WLaffvpp2bP36dNH9v4qBtIq\n",
       "+WxOTo5sS8DaBemCCy6QcqgrfPDBB096PW63Wy7p37+/LGhkidPU1HTSa548ebJs\n",
       "lJeXy4WLFi2S7bfeekt9pXqWS8J53nnndby2jt+RWYMgAeYlu/tf/epXsuaQ7X37\n",
       "9sle+6qrrmobpHvvvVe2bTZb/AnqUb533303lJ+lS5e2C5J6yE6u55ZbbpE/7ty5\n",
       "s+P1NDY2rlu3btKkSbLukU/JykZlpt01T5w4UTY++eQTufCVV16RbfmU+sotW7bI\n",
       "hWPGjDnnnHNko921nfQ7MnEQJMCkZDcte+3f//73r776quzEZc/+m9/85ssvv5QL\n",
       "Bw8evGHDhoULF8r2tGnTZOHyi1/8YuzYsSoGkoHCwsLo6GjZLikpOWmQREJCgvwx\n",
       "Ly+v4/U8/vjj3/ve96RVb775pnzKarWe9JplGaTWbXLhkCFDLr744s8++6xjkDpe\n",
       "W8fvyLhBkADz8vl8shJSh32LYcOGqQfH7rzzTvXHQCAwbty4c889V3b6N998c0VF\n",
       "hYqBfEr+e/7557tcrrZX+MYbb8jlU6dOVX/MzMyUPz7//PMdr0fi8ZOf/ER9X9ko\n",
       "Kys71TXLtalH//r27SvhlEvaBunuu++W6+x4bR2/I+MGQQLMTpZEu3fvbvfCWGmV\n",
       "3+9X2/X19dXV1Wo7FIOamhp1MNu31/Z6RDAYrGolG19/zXJLPv30U/Vlp9Lu2k76\n",
       "HQGCBESOefPmybJj69atYXTNAEECAIAgAQAIEgAABAkAQJAAACBI36ioqCgnJ4d5\n",
       "AwBB0kadoXnixInLly9n3gBAkLTx+XzqFCwECQAIkn5FRUUnDdKtt946/gS22Wb7\n",
       "VNu33rpGPiyW9IEDN6uPr24X/OAHu9WH2u7Vq1o+LJYKtdFx22I59o0foa/v+HHS\n",
       "z4ZuQyc/Qv9fpvpQI+jkB0EydZDkX5pJbqF5bgk3JuxujGG0fMTE/P9HdPTxj6io\n",
       "4x/t9vWhy+Uj9MXqo+31yIe6cvXBmML6xpjqx0KQCBI3xtQ3Ru302+XhpBVRn5J7\n",
       "ze3KwZi4MQSJIPFPiBvzDaU5aWPa1iXUFcbEjSFI3ZT5JwTzS08//ohZ296EYmOG\n",
       "5QtAkJgQIop6SK3dUzLfbXEDsLsjSAQJ36ztoQGhtU7o6X2A3R1BIkg4i0sfdUBa\n",
       "6NE22gN2dwSJCeHsqqhoKU3bwwrU0qeggJ8N2N0RJCaEs78AUhFqe1QbwO6OIDEh\n",
       "nHWy3FGPwqkIUSCAIDEhdGmEQo/CSX54BgggSEwIXaeiov2JDAAQJCaELhU6MIHH\n",
       "4gCCxITQ1YshdTYEFSEekQMIEhNCl/+OWjg2ASBITAj6qHMlqBqlp/PzAAgSE0LX\n",
       "Cr1wlSMUAILEhKBB2/eL4/khgCAxIehcEtEhgCAxIehcEnH0NsDujiARJJ2rIh6d\n",
       "A9jdESSCpFNBwfEUcXZtgN0dQSJIOlMUHd2yPALA7o4gESQN1AN0FgspAtjdESSC\n",
       "pOvXi5MsAOzuCBJB0r4qUgdzA2B3R5AIkjYqRTExrIoAdncEiSDpWxipB+gAsLvr\n",
       "vkEKBoPZ2dkOh8MwjNLS0tDlDQ0Ny5Ytk8uTkpL27dtHkM5eimRhxPHcAEEiSMeK\n",
       "i4tdLpfP5/N6vfHx8aHL16xZ89JLLzU3N2/cuHHevHkE6YxTByyE3rYVAEHq7kHy\n",
       "eDx5eXlq226319TUqG2pUVFRkWw0NjbKPPx+P0E6g2Jiji+MABAkgnRcWlpaYWGh\n",
       "2jYMo7KyMrRCWrhwYXV19dtvvy3zkI12Ewrh9/V0FRRwUlQgDDoULnu5yAlSVlZW\n",
       "fn6+2nY6nVVVVWpbFkZr165dvHhxbm7u1KlTg8EgK6QzQi2MWBsBrJAIUntSI7fb\n",
       "LRuSIqvVGggE/H6/rJO2b9/+zjvvyOVer1eWSmE3IROqqDj+vJE0ieURQJAIUnuS\n",
       "n+TkZIfDYbPZ1GN35eXlsbGxPp9v/vz5M2fOtNvtcglB6iQepgMIEkHqphMyFY5f\n",
       "ANjdESSCpFPbd9KTjZgYfiQAuzuCRJC0/JZYeDM9gN0dQSJIuqknjQCwuyNIBEmn\n",
       "9PTjD9YBYHdHkAiSNqFDGAgSwO6OIDEhbXhLPYDdHUFiQvrxFhIAuzuCxIRMsTbi\n",
       "MTqA3R1BYkLaxMS0fKiXGREkgN0dQWJCOoMkayNe9AqwuyNITEj3r4KFGgHs7ggS\n",
       "E9KNtRHA7o4gMSFqBIDdHUHq3kFSrzRSTx0BYHdHkJiQNuosDNQIYHdHkJiQ/iBR\n",
       "I4DdHUFiQiaYPS82AtjdESQmpJd6Rwne+xVgd0eQmJBOFRUtNZImESSA3R1BYkI6\n",
       "qSPr1FmCALC7I0hMSFuNeCdygN0dQWJCmkmKOKwOYHdHkJiQZjxpBLC7I0hMSD91\n",
       "IANBAtjdESQmpFl0dMsKicfrAHZ3BKkrBIPB7Oxsh8NhGEZpaWno8ubm5szMzOnT\n",
       "p7tcrg8++KC7BUkipM7IYBgczgAQJILUJYqLiyU5Pp/P6/XGx8eHLt+xY8fs2bMD\n",
       "gcDmzZtnzZrVDYPEwggAQepSHo8nLy9Pbdvt9pqaGrW9a9euuXPnNjY2SqgSExM7\n",
       "TigkIn8F1WtgAXTnDoXLXi5ygpSWllZYWKi2DcOorKxU23V1dQkJCVOnTp0wYUJ+\n",
       "fn63WiGpp44AgBVSl8rKygr1xul0VlVVqe3Vq1dnZGQEg8Hq6mqbzXbkyJFuEiRe\n",
       "dQSAIOkhNXK73bIhKbJarYFAwO/3yzrJ4/FkZmbK5fX19VOmTAk9lBfxQeIgbwAE\n",
       "SQ/JT3JyssPhkGWQeuyuvLw8Njb24MGDs2fPljXTtGnT1qxZE3YTOu2JWo5/8GAd\n",
       "AILEhDQvjAyj5dypAECQmJDmIPFgHQCCxIRMMFEerANAkJiQdobB8ggAQWJC5lge\n",
       "ESQABIkJaaZeBkuQABAkJqRTevrxl8ESJAAEiQlpHaSl5U2PAIAgMSFtQu8uAQAE\n",
       "iQlpDhIP0wEgSEzIFEHihUcACBIT0iw9veXZIwAgSExI9/x44REAgsSEtIuJafkg\n",
       "SAAIEhPSKTq6ZXkk/yVIAAgSE9IcpPR0/okBIEhMSKuCAt6eHABBYkLmWB5xqDcA\n",
       "gsSEWB4BYHdHkAgSyyMABIkJmQGvhAVAkJiQWZZHPF4HgCAxIf3Lo5gYTuwNgCAx\n",
       "IY1zsnzlAwAIEhPSQ70MVpZHAECQzC4YDGZnZzscDsMwSktLQ5evW7fOaKOmpiYc\n",
       "g3Ss9W0meE9YAAQpDBQXF7tcLp/P5/V64+PjQ5fLJYdaFRUVzZ07t7m5ORyDxPII\n",
       "AEEKGx6PJy8vT23b7fZ2K6H6+vpZs2ZVV1d3nFAIyyMAEdmhsNjLRVSQ0tLSCgsL\n",
       "1bZhGJWVlW0/m5OTs3bt2nC8y6CwPALACilsZGVl5efnq22n01lVVRX61NGjR61W\n",
       "a11dXZgGiVMzACBI4URq5Ha7ZUNSJPkJBAJ+v1+tk2TltGjRojCdEM8eASBIYUby\n",
       "k5yc7HA4bDabeuyuvLw8Njb2WOvTS6tWrQrTCanlEWdnAECQmJBOoRQRJAAEiQlp\n",
       "WxiF3qSc89cBIEhMSBt1nLf8FwAIEhPSHKSYmJYjGgCAIDEh3bPhJKoACBIT0o6j\n",
       "vQEQJCZkCjx7BIAgMSGWRwDY3REkJtSKcwUBIEhMSD/OywCAIDEhU1BHe/McEgCC\n",
       "xIR0j6R1JgQJAEFiQtoWRvIRHX38JbEc1ACAIDEhbUE6xjvDAiBITMgMQeJobwAE\n",
       "iQmZqEkAQJCYkO5hcPI6AASJCWnH43UACBITMgUOZwBAkJgQyyMA7O4IEhNqxeEM\n",
       "AAgSQTLFhCwWVkgACBIT0k09XkeQABAkJqSNYbR8REcf/wAAgsSE9JAIVVRwHlUA\n",
       "BCmyghQMBrOzsx0Oh2EYpaWlbT+1adMml8uVlJRUUlJitiBxOAMAghRpQSouLpbq\n",
       "+Hw+r9cbHx8funzfvn1SqYMHD5aVlSUkJJhtQrz8CABBirQgeTyevLw8tW2322tq\n",
       "atT2qlWrcnNzpUYffvjhgQMHzDYhjmUAQJAiLUhpaWmFhYVq2zCMyspKtb1s2bIZ\n",
       "M2ZIrpYsWTJ//vzm5uZ2EwrRUiMerwNwtjukcS/XTYOUlZWVn5+vtp1OZ1VVVShU\n",
       "K1euVNszZ84MhcoMdxk4myoAVkgRGCSpkdvtlg1JkdVqDQQCfr9f8lNQUCBrI7m8\n",
       "rq7ObrdXV1ebZEKcLggAQYrMIEl+kpOTHQ6HzWZTj92Vl5fHxsY2NjYuXrzY5XLJ\n",
       "p9566y3zTCg6+lhBAf9GABCkiAtS2E3IYuHFsAAIEkEywYRiYggSAIJEkHRPSD1e\n",
       "R5AAECSCpHlC6vg6ggSAIBEknRMKHV9HkAAQpHANUk5Ozj333PPKK6+43e7Dhw+H\n",
       "3YTU20yodz/imG8ABClcg/S3v/3tuuuuu+uuu1wul91uHzp0aJhOiNfDAiBI4R2k\n",
       "W265xev1pqSkSJDkj9dcc83//ve/sJsQr4cFQJDCPkgjRowoKChQQTp69Gjfvn1D\n",
       "Z1ANownx7kcACFLYB+mNN97o16/f0KFDb7vttsGDBz/++OPhOCEerwNAkMI+SGLH\n",
       "jh2zZs2yWq0rV64MBoNhNyEerwNAkCIkSOE+Ic5fB4AghXeQBg0a1P9kOn/kdxdP\n",
       "iMfrABCk8A7S3r17d+/ebbPZRo4cWVhYuHPnzqlTpw4ZMqTdu+2ZfELp6QQJAEEK\n",
       "8yApN954o6Qo9MeBAwe2e7c9k08oOpogASBIERGk2267bc2aNWq7pqamd+/eBw4c\n",
       "CKMJSY0IEgCCFAlByszM7Nmz57hx4+Li4n70ox+NHTs2jCakjq8jSAAIUiQESWze\n",
       "vDk+Pn7y5Mkej6fzTyB15YSkRjyHBIAgRUiQlixZMu2rfD5fuExIpYggASBIkRCk\n",
       "1NRUZ6upU6f+9Kc/HTFihN/vD4sJydooKqrlgyABIEiREKS2ZG109dVX19XVhcWE\n",
       "1ON1AECQIjBIjY2NV155ZVlZWVhMSNZGFRX8cwBAkCIlSJMmTRpxgtTohhtukCyZ\n",
       "f0Kcvw4AQYq0IC1fvnzlypVrWxUUFKxfv978QVLvDMvjdQAIUoQEqba29qOPPho2\n",
       "bNjq1as/arVnz57evXub/1x2UiMerwNAkCInSC+++KLk5/zzz+/Vq1fvE0aOHNn2\n",
       "HShkOzs72+FwGIZRWlra9q/PmzfPaJWWltb1QeLIOgAEKXKCpNx3330lJSWn+mxx\n",
       "cbHL5fL5fF6vNz4+vu3qavbs2Q2tAoFA1weJJ5AAEKRIC9LX83g8eXl5attut4fe\n",
       "3Xznzp0LFy4sLCyUYjU1NXV9kHgCCQBBipwg3XHHHbm5uU8++eTgrzpy5Ejoa9LS\n",
       "0qQ6atswjNCJwPPz85OSkuS/L7300oIFCzpOKOSs/Hx5vA6A7g6d1b1ctwvSli1b\n",
       "vvjii5KSkk1f1fYou6ysLKmO2nY6nVVVVe2upLm5+dlnn213HMRZnRAnrwPACinS\n",
       "gnT77bcPPpm2KySpkdvtlg1JkdVqDQQCfr9f1kkej0eF6sCBA3J5u7MNndUJcUQD\n",
       "AIIUaUHaunWrWhJt2LAhMzNz6dKlb775ZrsVkpQmOTnZ4XDYbDb12F15eXlsbOzn\n",
       "n38+a9asxMRE+VRRUVFXTigqquVN+QCAIEVOkBQJzKBBgy655JJ+/fr17NkzIyPD\n",
       "5BOS5RGH2AEgSBEYpHvuuScuLk495rZu3bpevXqZ+e0nOGMQAIIUsUG6/vrr9+zZ\n",
       "E/rjjTfe2O4FsKaaEAd8AyBIERukJ554IjExUW0XFRUNGDDAnO+HFB3d8sHhDAAI\n",
       "UsQG6bHHHrNYLFdfffXgwYPPPffc/v3739pqx44dppqQeqSOx+sAEKSIDZLX6/3P\n",
       "ydTW1potSDxeB4AgRXKQwmVCnOEbAEGK8CDl5+ePGjVqSBttXxhrqiDxBBIAghTJ\n",
       "QRo6dOj06dPXr1+ff4I536CPlx8BIEgRHiRZEm3fvt38E5Ig8QQSAIIUyUFavnz5\n",
       "L3/5S/U2E4ppV0g8gQSAIEVykOSn2bt372HDhg0/4ejRo+YMEgAQpEgO0qBBg/77\n",
       "3/+af0I8gQSAIEV4kJ588snMzEyTT4hXIAEgSJEfpEmTJlkslqFDh444wYQP2fEK\n",
       "JAAEKfKDtGXLlrVtLF68uL6+3lQT4gzfAAhStwiSIqui1NTUYcOGyWqpMycNIkgA\n",
       "CBJB+u4rpKeeeqpnz559+vRJSEgoKysz24R4AgkAQYrwIC1evPimm27q3bu3/ECd\n",
       "Tuddd91lzgmpA75ZJAEgSBEbpH79+t1www3vvfeebK9evXrMmDEmnFDo8TqCBIAg\n",
       "RWyQdu7cabPZ+vTpc/PNN//xj380Z5AMo+WDIAEgSJEcJMXv93s8ntGjR/fo0eN3\n",
       "v/udbDc3N5thQhbLVz4IEgCCFOFBCqmoqEhISBgwYIBJjrJTTx1xxiAABKnbBUnp\n",
       "/PLoDE6IA74BEKTuGyRTTSj0BBIAECSCpHNCvAIJAEEiSMcFg8Hs7GyHw2EYRmlp\n",
       "abvPBgKBxMTEPXv2nKUJ8QQSAIJEkI4rLi52uVw+n8/r9cbHx7f7rLTKarXu3r37\n",
       "bEyIJ5AAECSC9P/UO8mqbbvdXlNTE/rUjh07li5dumTJkpMGKYQgAYjIDnV+L0eQ\n",
       "Tk9aWlphYaHaNgyjsrJSbdfW1s6ZM6euru5UQToDP0QLTyABYIVEkE7IysrKz89X\n",
       "206ns6qqSm3L2igjI+Pdd9997rnnXnvttXZvoXQGX4cEAASJILWQGrndbtmQFFmt\n",
       "1kAg4Pf7ZZ20ffv2Da0SExNXrFhx5MiRMzuhggKCBIAgEaQ2JD/JyckOh8Nms6nH\n",
       "7srLy2NjY0NfIEulju9Y0fkJpacTJAAEiSCZYEIxMQQJAEEiSCaYUFQUQQJAkAiS\n",
       "CSakzvANAASJIOmckHoFEkECQJAIkuYJqVPYESQABIkgaZ5QVNSxigqCBIAgESTd\n",
       "EyJFAAgSQdI/IU5hB4AgESTNE4qObkkRb8oHgCARJP1BOsab8gEgSATJJEHiCSQA\n",
       "BIkg6Q9SQcHxLAEAQSJIOoPEEQ0ACBJBMkWQeAIJAEEiSKYIknpJLAAQJIKkOUgc\n",
       "0QCAIBEkUwSJJ5AAECSCpH9CvCQWAEEiSKaYEEc0ACBIBMkUE+KIBgAEiSDpn5Ck\n",
       "SIIEAASJIGmeEC+JBUCQCJIpJsQTSAAIEkEyxYSionjIDgBBIkgmmJDFwmlVARAk\n",
       "gnRqwWAwOzvb4XAYhlFaWhq6PBAILFu2bPr06YmJiXv37u38hGJiCBIAgkSQTq24\n",
       "uNjlcvl8Pq/XGx8fH7p848aNbre7qakpNzc3JSWlkxNSRzQQJAAEiSCdksfjycvL\n",
       "U9t2u72mpiYUKrUwKioqev755zs5IXVEA0ECQJAI0imlpaUVFhaqbcMwKisr2352\n",
       "6dKlzzzzzLZt2zpOKOTbfBf1kliCBCCMOnRaezmCdAZkZWXl5+erbafTWVVVpbYP\n",
       "HDjg9/tlY//+/c8++2xDQ0Nn7jJYLC2LJE71DYAVEkE6JamR2+2WDUmR1WoNBALS\n",
       "IVknpaamrlmzRi4/fPhwXFxcXV3dd54QL4kFQJAI0jeT/CQnJzscDpvNph67Ky8v\n",
       "j42NlT7NbDVt2rT169d3ZkIECQBBIkimmBDnaABAkAiSKSbESb4BECSCpH9CHMsA\n",
       "gCARJLMEiSeQABAkgqR/QrI84m3LARAkgmSKIHFEAwCCRJBMESSOaABAkAiSKYIE\n",
       "AASJIGmeEC+JBUCQCBJBAgCCxIRO4JhvAASJIJliQlFRBAkAQSJIJpgQRzQAIEgE\n",
       "Sf+EeAIJAEEiSAQJAAgSEzqBGgEgSATJFBOKiuI3GQBBIkgmmBBHNAAgSARJ/4QK\n",
       "Co5FR7ds8MAdAIJEkHROKHREA0ECQJAIks4JSYfUu04QJAAEiSDpmZA6XZDFcnyD\n",
       "IAEgSARJz4TUwXXyX94GCQBBIkj6J8QhdgAIEkHSPyHO0QCAIBGk0xYMBrOzsx0O\n",
       "h2EYpaWlocsDgUBGRoZcnpiYWFZWdloTMoyWDwAgSATpNBQXF7tcLp/P5/V64+Pj\n",
       "Q5dv2LAhJSWlsbFx69atM2fOPK0JhQ6xAwCCRJC+LY/Hk5eXp7btdntNTY3afvvt\n",
       "t0tKSmSjtrY2Li7utCbESYMAECSCdNrS0tIKCwvVtmEYlZWVbT975MiRhQsXrlix\n",
       "ouOEQk7y0+GIBgDh36Gv2csRpLMiKysrPz9fbTudzqqqqtCnJFSzZs3atGnTad1l\n",
       "kBqpkwYBACskgnQapEZut1s2JEVWqzUQCPj9flknbdmyJSUlpa6u7nQnpF4SCwAE\n",
       "iSCdHslPcnKyw+Gw2Wzqsbvy8vLY2NgFCxZMnjzZ2SopKem0gsQRDQAIEkHSPyEJ\n",
       "EudoAECQCBJBAgCCxIROBAkACBJB0jyh9HRehASAIBEkE0zIMAgSAIJEkEwwoZgY\n",
       "ggSAIBEkE0xIakSQABAkgqR/QhzRAIAgEST9Eyoo4KRBAAgSQTLBhHhfPgAEiSCZ\n",
       "YkK8Lx8AgkSQTDEh3pcPAEEiSKaYUFQUJw0CQJAIkgkmpA6x47BvAASJIOmcUOgQ\n",
       "O4IEgCARJJ0TCh1iR5AAECSCpGdC6uwMFsvxDYIEgCARJD0TUo/UcYgdAIJEkEwx\n",
       "IQ6xA0CQCJIpJsRZ7AAQJIKkf0KcxQ4AQSJIppgQZ7EDQJAIkikmxBENAAgSQSJI\n",
       "AECQmFCr6GgOsQNAkAiSOYLEIXYACBJB6qxgMJidne1wOAzDKC0tbffZoqKinJyc\n",
       "bwwSh9gBIEgEqbOKi4tdLpfP5/N6vfHx8aHLDx06lJqaOnHixOXLl39jkDjEDgBB\n",
       "Ikid5fF48vLy1Lbdbq+pqVHbkqiSkpIVK1acKkghEiTeKBZA5HUohCB1kbS0tMLC\n",
       "QrVtGEZlZWXbzxYVFX2bFRKH2AFghUSQOisrKys/P19tO53Oqqqq0w0Sh9gBIEgE\n",
       "6QyQGrndbtmQFFmt1kAg4Pf7Q+ukbxMkDrEDQJAI0hkg+UlOTnY4HDabTT12V15e\n",
       "HhsbS5AAgCCF04TS0wkSAIJEkEwwIcPgEDsABIkgmWBCnMUOAEEiSKaYEIfYASBI\n",
       "BMkUE+IJJAAEiSARJAAgSASpdUK8USwAgkSQTBQkTvUNgCARJM0TUofYESQABIkg\n",
       "ESQAIEhM6MQx3wQJAEEiSJonpA6xI0gACBJB0qZXr2pZHqkPggSAIBEkzRPimG8A\n",
       "BIkg6Z8Qp1UFQJAIkikmxGlVARAkgmSKCXFaVQAEiSARJAAgSATpxIQ4rSoAgkSQ\n",
       "9BszJoWjvQEQJIKkX3R0Osd8AyBIBEm/gQM3c4gdAIJEkAgSABAkgtSqV69qDrED\n",
       "QJAIkgn+/y38rnBjuDHcmG5xYwiSfsFgMDs72+FwGIZRWlracYXE7wo3hhvDjSFI\n",
       "BKkrFBcXu1wun8/n9Xrj4+PbfXbgwM38rnBjuDHcGIJEkLqCx+PJy8tT23a7vaam\n",
       "pl2QxgNA90CQNEtLSyssLFTbhmFUVlYeAwAQpK6XlZWVn5+vtp1OZ1VVFVMHAIKk\n",
       "gdTI7XbLhqTIarUGAgGmDgAESQO/35+cnOxwOGw2W+ixOwAAQQIAgCABAAgSAAAE\n",
       "qb2vP32DFkVFRTk5OdpvRiAQyMjIkJ9MYmJiWVmZ9huzbNmy6dOny43Zu3evGcYk\n",
       "N0luzJ49e/TejHnz5hmt0tLStP9MNm3a5HK5kpKSSkpK9N6SdevWGW20e9FhF2tu\n",
       "bs7MzJTfXvnhfPDBB3p/Mg0NDfJPSf5dy5j27dtHkMzl60/f0MUOHTqUmpo6ceLE\n",
       "5cuXa//JbNiwISUlpbGxcevWrTNnztR7YzZu3Oh2u5uamnJzc+VWmeE3R+7HWK3W\n",
       "3bt3a7wNtbW1s2fPbmil/ahR2bvJbu7gwYNy9yUhIUHvjZF/0Ydayd27uXPnShI0\n",
       "3pgdO3bImGRAmzdvnjVrlt6fzJo1a1566SX5gci/Kbk3Q5DM5etP39D1/4rkruWK\n",
       "FSvMEKS3335b3c+VvV5cXJz2+w1qYST7l+eff177D0d2MUuXLl2yZIneIO3cuXPh\n",
       "woWFhYXy85Fa6/2ZrFq1Su4uSI0+/PDDAwcOmOFfd319vQSgulrzaSp37dolUZT7\n",
       "dnKvV1bVem+M1Ej+EcmG3J7x48f7/X6CZCImPH2D/LqYIUjKkSNHZJcnjTTDjZEG\n",
       "PPPMM9u2bdN7M6TQc+bMqaur0x6k/Pz8pKQk+a/sZRYsWKD3x7Js2bIZM2bIPTz5\n",
       "scyfP1/vokTJyclZu3at9pshvyqyZJw6deqECRNCr83XuEKSf9ESabnHKUHSXmuC\n",
       "9BUmPH2DeYIkqZY7mJs2bdJ+S+Qet7ort3///meffbahoUFvFzMyMt59993nnnvu\n",
       "tddeO3r0qPafj+z95cdy+PBhvfftVq5cqbZnzpyp/b6dzMVqtUoMtE9n9erV8gsT\n",
       "DAZl72+z2eROnsYbIwsjifTixYtlOSuNlFtFkEzEhKdvMEmQtmzZkpKSYoZ/zyI1\n",
       "NVXu2cmG7HPj4uL03qrt27dvaJWYmChrR437F1mOqLtTEmz57dX78EtBQYGsjdSC\n",
       "wG63a7/rLXenFi1aZIbfXhlTZmbmsdaHEKdMmaL3eQH57X3nnXdkw+v1ylLJtHvm\n",
       "bhokE56+wSRBWrBgweTJk52tkpKS9N4Yubsws9W0adPWr19vkl8eWSrpPf7w888/\n",
       "lyWsdFF+gdUTA3rvesv9bpfLJTfmrbfeMkMGVq1aZYbfk4MHD86ePVv+Hclvr7pf\n",
       "pZHP55s/f778U5I7DeXl5QTJjOQ+nfbnhPGNvvzySzM8M2HCH4t5HnhpaGhgRqfa\n",
       "yUizTXJjJEumfbCOIAEACBIAAAQJAECQgG5E41mpGhoaTHKyJYAgAd9WXV2dpYMp\n",
       "U6aMHDmyM1dbXFzcyWv4lrZt23b99de3uzAQCAwcOPCTTz5hviBIQDgJtnK73aNG\n",
       "jVLb1dXVXq+3M9d55513ds3xxxIkaU/Hy+fNmzdhwgSGC4IEhJ8XX3wxOjpabf/n\n",
       "P/956KGHVq9e/cADD8hCp2fPnuPGjZsxY0bv3r1/8IMfvPnmm+rLkpOTr7rqqiuv\n",
       "vPIvf/lL26sqKyuTC8vLy4cNG3bhhRf+8Ic/zM7OPtVfmT17tlynfIuHH364vr5e\n",
       "tWTAgAGXXXaZ3IaDBw/KzRg7dqzE8oILLpAbI5dIMuWvX3HFFfI19913nwrS3r17\n",
       "2347aerFF1+s9/QWAEECOhskaYDs+rOysmSfvnXr1s8++0wFo6amxul03nXXXfI1\n",
       "ubm511577ccff1xZWXnDDTd4PJ7QVf373/+Wvz5t2rR77723qanp9ddfHzx48En/\n",
       "iqyiJE7vv/9+VVWVfE1KSop86z59+mzfvl3CM3r06CeeeEJuRo8ePTZu3CiNuemm\n",
       "m15++eUVK1Z8//vf37Vr14EDB+Q2qyB1/HZyPfK3mCwIEhAJQbrzzjvVJddff706\n",
       "YY/E5o477pCNP//5z0OHDp3aavjw4Y8//njoqubMmSN/lCu56KKLHnnkEUmIOqdO\n",
       "x78il8i2+luHW02YMGHKlCnqkk2bNkmu5Gao76iu4bnnnhs/frzkR12ybt06FaSO\n",
       "306+1z/+8Q8mC4IEREKQ1GJIBWnz5s2y8dprr6k8PP3007/97W8XndD2DNMJCQkS\n",
       "BtnYs2fPCy+8cPvtt/fr109WPB3/SkxMTOhthD755JPy8nL5mhkzZqhLioqKLr/8\n",
       "8rY3QwXpqaeekoWaukTWQKHnkNp9u5/97GevvvoqkwVBAiI8SJmZmUOGDJE1TXNz\n",
       "8/33379s2bLQVb3yyiuyAJJ4GIZxrPXtPHr06PH+++93/Ct///vfBw0aJJfU1dVJ\n",
       "P/75z38uX748Kipq//798jWyhLr33ns7Bkm+5pprrpFlUDAYfPjhh1WQOn47ydKu\n",
       "XbuYLAgSEGZkyRIK0htvvDFq1CgpwZgxY04VpKampieeeOKyyy674oor7r777rbn\n",
       "jP/oo4/69u373nvvDRgwQOrSp0+fsWPHSmA6/hW/3//ggw9eeuml/fv3f/TRR5ta\n",
       "jR8/Xl3y85///OOPP257M5555hn1tm/jxo3r1auXfI2EUwXJ6/W2/XZffPHFRRdd\n",
       "ZJ4TqQEECTi7fD7fSd8bafTo0R6PRyL02WeftfuCjn9Flkfq+LqQhoaGQ4cOff23\n",
       "lr/V7nrafjtZSNntdgYEggR0d1u3bh0+fLiu7y4LL1nSmfaNQQGCBHSpPXv26PrW\n",
       "jY2N+/btYwQgSAAAECQAAEECAIAgAQAIEgAABAkAQJAAACBIAACCBAAAQQIAECQA\n",
       "AAgSAIAgAQBAkAAABAkAAIIEAOhe/g/40E5FgMg24gAAAABJRU5ErkJggg==\" style=\"clip-path:url(#clipPath1);\" height=\"420\" preserveAspectRatio=\"none\"\n",
       "    /></g\n",
       "  ></g\n",
       "></svg\n",
       ">\n"
      ]
     },
     "metadata": {},
     "output_type": "display_data"
    }
   ],
   "source": [
    "step(Gs,'-',Gz_tustin,'--')"
   ]
  },
  {
   "cell_type": "markdown",
   "metadata": {
    "slideshow": {
     "slide_type": "subslide"
    }
   },
   "source": [
    "#### Matched pole-zero mapping"
   ]
  },
  {
   "cell_type": "code",
   "execution_count": 11,
   "metadata": {
    "slideshow": {
     "slide_type": "fragment"
    }
   },
   "outputs": [
    {
     "name": "stdout",
     "output_type": "stream",
     "text": [
      "\n",
      "Gz_mpz =\n",
      " \n",
      "   0.09516\n",
      "  ----------\n",
      "  z - 0.9048\n",
      " \n",
      "Sample time: 0.1 seconds\n",
      "Discrete-time transfer function.\n",
      "\n"
     ]
    }
   ],
   "source": [
    "Gz_mpz = c2d(Gs, Ts, 'matched')"
   ]
  },
  {
   "cell_type": "markdown",
   "metadata": {
    "slideshow": {
     "slide_type": "subslide"
    }
   },
   "source": [
    "Plot result"
   ]
  },
  {
   "cell_type": "code",
   "execution_count": 12,
   "metadata": {
    "slideshow": {
     "slide_type": "fragment"
    }
   },
   "outputs": [
    {
     "data": {
      "image/svg+xml": [
       "<?xml version=\"1.0\"?>\n",
       "<!DOCTYPE svg PUBLIC '-//W3C//DTD SVG 1.0//EN'\n",
       "          'http://www.w3.org/TR/2001/REC-SVG-20010904/DTD/svg10.dtd'>\n",
       "<svg xmlns:xlink=\"http://www.w3.org/1999/xlink\" style=\"fill-opacity:1; color-rendering:auto; color-interpolation:auto; text-rendering:auto; stroke:black; stroke-linecap:square; stroke-miterlimit:10; shape-rendering:auto; stroke-opacity:1; fill:black; stroke-dasharray:none; font-weight:normal; stroke-width:1; font-family:'Dialog'; font-style:normal; stroke-linejoin:miter; font-size:12px; stroke-dashoffset:0; image-rendering:auto;\" width=\"560\" height=\"420\" xmlns=\"http://www.w3.org/2000/svg\"\n",
       "><!--Generated by the Batik Graphics2D SVG Generator--><defs id=\"genericDefs\"\n",
       "  /><g\n",
       "  ><defs id=\"defs1\"\n",
       "    ><clipPath clipPathUnits=\"userSpaceOnUse\" id=\"clipPath1\"\n",
       "      ><path d=\"M0 0 L560 0 L560 420 L0 420 L0 0 Z\"\n",
       "      /></clipPath\n",
       "    ></defs\n",
       "    ><g style=\"fill:white; stroke:white;\"\n",
       "    ><rect x=\"0\" y=\"0\" width=\"560\" style=\"clip-path:url(#clipPath1); stroke:none;\" height=\"420\"\n",
       "    /></g\n",
       "    ><g\n",
       "    ><image x=\"0\" y=\"0\" width=\"560\" xlink:href=\"data:image/png;base64,iVBORw0KGgoAAAANSUhEUgAAAjAAAAGkCAIAAACgjIjwAAAnOUlEQVR42u3dC3RT\n",
       "9R3A8frg+IIp8tDpcN3Roah4hrIhYwhu43i2iTqdL9QDPkaZ0BgIEJpBk0OpwNqJ\n",
       "RHBgsaXt2i3gFIRW0dECp/KoJ4VOpFKKleqqSAsFbNOkbdyP/uEupIA8+79Jv5+T\n",
       "47mkJY39lfvNP725ifkWAAATiOFbAAAgSAAAECQAAEECAIAgAQAIEgAABAkAQJAA\n",
       "ACBIAACCBAAAQQIAECQAAAgSAIAgAQBAkAAABAkAAIIEACBIAAAQJAAAQQIAgCAB\n",
       "AAgSAAAECQBAkAAAIEgAAIIEAABBAgAQJAAACBIAgCABAECQAAAECei46urqtm3b\n",
       "tnfvXr4VAEEC9Ghubh49evQFF1wQExNz3nnnPfTQQw0NDY2NjZMnT16yZMlp3ODy\n",
       "5ctjQnTv3j0pKYnvM0CQgO+QnZ0t2XjwwQffeuut3//+97KdnJx84MAB2XjyySdP\n",
       "O0iDBg2aNWuW3W7v1q2b/PHDDz/kWw0QJOBEJD8SjHHjxtXU1Hz99dd/+ctf8vLy\n",
       "evfuLVd26dLl0Ucflc95+eWXf/SjH11++eUPP/zwvn370tLSbrzxxpEjR8o1N9xw\n",
       "wz//+c+2QbLZbOqPzz77rPxRbrPt7XzxxRd33333xRdfLF/oiSeekJXZ8W5Zrpc/\n",
       "XnLJJQMHDty0aZO6Rj4zPj7+yiuvlEVYTk5O21tr+xUZNwgSYF7l5eVdu3aVZpx/\n",
       "/vl33HHHzJkz/X5/ZmamXDN48ODVq1e/8cYbsj169OjZs2d36tTp8ccfl8+Ra/r3\n",
       "7y9VkHTJlVVVVWFBGjJkSGpqqsPhkFr06NFDYtD2dqZMmSLXZGRkzJgx47LLLpO1\n",
       "2jFvuaCgQK4cNmzYa6+9dt1118mt1dXVqc+87bbbpk6dKhHq1atX21tr+xUZNwgS\n",
       "YGq7d+9OSUn51a9+JXtt2YP/8Y9/DH3K7rHHHpPt5557Tvbs3bp1k72/ioG0Sj6a\n",
       "m5sr2xKwsCBddNFFUg51g4888sgxb8ftdss1PXv2lAWNLHGam5uPecvjx4+XjYqK\n",
       "Crly3rx5sv3uu++qz1S/5ZJwXnDBBW1vre1XZNYgSIB5ye7+l7/8paw5ZHvXrl2y\n",
       "17722mtDg/TAAw/IttVqTThCPcv3wQcfGPlZuHBhWJDUU3ZyO7fffrv8cevWrW1v\n",
       "p6mpadWqVePGjZN1j3xIVjYqM2G3PHbsWNn4/PPP5crXX39dtuVD6jM3bNggVw4f\n",
       "Pvy8886TjbBbO+ZXZOIgSIBJyW5a9tq/+93v3njjDdmJy57917/+9TfffCNX9u3b\n",
       "d82aNXPnzpXtSZMmycLl5z//+YgRI1QMJANFRUVDhw6V7dLS0mMGSSQmJsof8/Pz\n",
       "297OU0899b3vfU9a9c4778iHLBbLMW9ZlkFq3SZX9uvX79JLL/3yyy/bBqntrbX9\n",
       "iowbBAkwL5/PJyshddi3GDBggHpy7J577lF/DAQCI0eOPP/882Wnf9ttt1VWVqoY\n",
       "yIfkvxdeeKHT6Qy9wbfffluunzhxovpjVlaW/PGll15qezsSjx//+Mfq68pGeXn5\n",
       "8W5Zbk09+9e9e3cJp1wTGqT77rtPbrPtrbX9iowbBAkwO1kSbd++PeyFsdIqv9+v\n",
       "thsaGmpqatS2EYPa2lp1MNvJC70dEQwGq1vJxolvWe7JF198oT7teMJu7ZhfESBI\n",
       "QPSYNWuWLDs2btwYQbcMECQAAAgSAIAgAQBAkAAABAkAAIL0nYqLi3Nzc5k3ABAk\n",
       "bdQZmseOHbt48WLmDQAESRufz6dOwUKQAIAg6VdcXHzMIN1xxx2jj2CbbbaPt33H\n",
       "HSvkEhPjkv/27r1eLjExGWqjdbvwmmu2q8vR25VdutSoS9h2TMy3p3Qx/u7JXIw7\n",
       "8J0XueW2V8r/kfqvaS9qHKdxIUimDpL8SzPJPTTPPeHORNydcbkOX0aNOnwZOvTw\n",
       "JTb28CVs/x56jfE5cjH+onFToTfOmCL6zpjq20KQCBJ3xtR3JnTXH1qU45VDHimH\n",
       "NYMxcWcIEkHinxB35rtLY2QmbL1itOdUo8KYuDMEKaqYf0Iwv4yMo3oTuppRz31p\n",
       "X74ABIkJIaqorhjVCX0CTV0AdncEiSDhXLWn7eFeALs7gkSQcA7zY/xqR/4bekyB\n",
       "XAB2dwSJCeHsq6w89uqnsJDvDdjdESQmhHO/AApdA/HMG9jdESQmhHYiyx1jDSQR\n",
       "4iA3gCAxIeiJkHHgNQCCxITQHtQvhFSE1DNyAAgSE0K7kg4ZT8cp6iQ6AAgSE0J7\n",
       "LIYkObwkCCBITAjaFkPSIWMxxPNyAEFiQtCwJFIHahtvhcCTcgBBYkJo1w5xjBxA\n",
       "kJgQtFHrodDjFAAQJCYEDUsi4/zZHK0AECQmBA0pUksizmEKsLsjSARJT4rU61iN\n",
       "txciSAC7O4JEkNpVYeHh5+U4uzbA7o4gESSdKVLHcHPYAsDujiARJA0qKw+nSDYA\n",
       "sLsjSARJT4qMc57ymlaA3R1BIkh6UmScZ0FdCBLA7o4gEaT2pl5XBIDdHUEiSDoX\n",
       "RrIq4hhugN1dhw5SMBjMycmx2+0ul6usrMy4vrGxcdGiRXJ9cnLyrl27CNK5S5F6\n",
       "jo4XFQEEqaMHqaSkxOl0+nw+r9ebkJBgXL9ixYpXX321paVl7dq1s2bNIkjnQmHh\n",
       "oefoeKYOIEgE6RCPx5Ofn6+2bTZbbW2t2pYaFRcXy0ZTU5PMw+/3E6SzSy2MDv88\n",
       "ESSAIBGk9PT0oqKiI7tIV1VVlbFCmjt3bk1NzXvvvSfzkI2wCRn4eT29hZE68wLn\n",
       "RQVM26FI2ctFz/4jOzu7oKBAbTscjurqarUtC6OVK1fOnz8/Ly9v4sSJwWCQFdJZ\n",
       "XBhxBiCAFRJBCic1crvdsiEpslgsgUDA7/fLOmnz5s3vv/++XO/1emWpFHETMiH1\n",
       "cleOXAAIEkE6NslPSkqK3W63Wq3qubuKioq4uDifzzd79uypU6fabDa5hiCdIfU0\n",
       "nVwIEkCQCFLHmpCpqKfpOOcCwO6OIBEkbUKfpiNIALs7gkSQtNVIvZmeQpAAdncE\n",
       "iSBpoH5p9O23nCYVYHdHkAiSPhkZHNsNsLsjSExIt9BTMABgd0eQCJIevNIIYHdH\n",
       "kJiQfuokQKpJZAlgd0eQmJC2tRGnpAPY3REkJqS/RsZ/AbC7I0hMSFuN1CHdBAlg\n",
       "d0eQmJD+GhEkgN0dQWJCpqgRQQLY3REkJmSKGgFgd0eQmJAGkiJOmQqwuyNITMgU\n",
       "yyOjTADY3REkJqRBRsZRvysiSAC7O4LEhPSIjT3qAoDdHUFiQu1NvaMEEQLY3REk\n",
       "JqRTZeWhGkmTCBLA7o4gMSGdhg7l/Y0AdncEiQmZoEbGO5EDYHdHkJiQHpIiTsEA\n",
       "sLsjSExIM3UgA8sjgN0dQWJCOqkDGTiKAWB3R5CYkGbqQAaerwPY3RGk9hAMBnNy\n",
       "cux2u8vlKisrM65vaWnJysqaPHmy0+n8+OOPO2CQXC7e5QgAQWpHJSUlkhyfz+f1\n",
       "ehMSEozrt2zZMn369EAgsH79+mnTpnW0IIUujAgSQJAIUnvweDz5+flq22az1dbW\n",
       "qu1t27bNnDmzqalJQpWUlNR2Qoao/BFUr4ElSEBH7lCk7OWiJ0jp6elFRUVq2+Vy\n",
       "VVVVqe36+vrExMSJEyeOGTOmoKCgQ62QjNfAyoa6AGCFRJDOuezsbKM3Doejurpa\n",
       "bS9fvjwzMzMYDNbU1Fit1gMHDnSQIPGqIwAESQ+pkdvtlg1JkcViCQQCfr9f1kke\n",
       "jycrK0uub2homDBhgvFUXtQHiYO8ARAkPSQ/KSkpdrtdlkHqubuKioq4uLi9e/dO\n",
       "nz5d1kyTJk1asWJFxE3o9HDCOgAEiQnpZxznrbYBgCAxIT1Cn6wjSAAIEhPSI+zJ\n",
       "OoIEgCAxIQ0kPzExh56vMy4AQJCYkI5xcgZVAASJCWnHkXUACBIT0i8jg5fBAiBI\n",
       "TMgMg4w59KZHAECQmJBOsjbiaDoABIkJaVZYyIEMAAgSEzLDCFuPrDMuAECQmJAG\n",
       "GRmHggQABIkJmWJ5BAAEiQnppM7FQJAAECQmpFNl5eEn6wgSAILEhHQaOvTQL5AI\n",
       "EgCCxIR0KizkvAwACBITMsfyiNPWASBITIjlEQB2dwSJIB05URDnCgJAkJiQTrwS\n",
       "FgBBYkJmWR7xfB0AgsSE9C+PRo3iyToABIkJ6RYbe+j1sAQJAEFiQvqXR4IgASBI\n",
       "phYMBnNycux2u8vlKisrM65ftWqVK0RtbW2EBkktjwgSAIJkdiUlJU6n0+fzeb3e\n",
       "hIQE43q5Zl+r4uLimTNntrS0RGKQjOURQQJAkMzO4/Hk5+erbZvNFrYSamhomDZt\n",
       "Wk1NTdsJGSJieQQAp9qhiNjLRVWQ0tPTi4qKjqwhXFVVVaEfzc3NXblyZSQ+ZFCM\n",
       "5REAsEIyu+zs7IKCArXtcDiqq6uNDx08eNBisdTX10dokHjtEQCCFEmkRm63WzYk\n",
       "RZKfQCDg9/vVOklWTvPmzYvQCanfHhEkAAQpYkh+UlJS7Ha71WpVz91VVFTExcV9\n",
       "2/rrpWXLlkXohNSJvQkSAILEhHQyUkSQABAkJqR5eRS2AQAEiQm1t8rK/789OUEC\n",
       "QJCYkDajRh06ooEgASBITEj3bEKGQ5AAECQmpEfouYIIEgCCxIS0MX57RJAAECQm\n",
       "ZJblEQAQJCakh6yHYmL45wOAIDEhrdSLYcOesgMAgsSE2ps62psgASBITEj3SFpn\n",
       "QpAAECQmpJNxOANBAkCQmJBOxjvDEiQABIkJ6V8eESQABIkJ6RR68jqCBIAgMSF9\n",
       "wwiZBkECQJCYkB5hZ2cgSAAIEhPSwzicAQAIEhMyy/IIAAgSE9JDasTJ6wAQJCZk\n",
       "gjHEsEICQJCYkG7q+TqCBIAgMSHNhg49dIZvggSAIDEhnSorDx/hTZAAEKQoEQwG\n",
       "c3Jy7Ha7y+UqKysL/dC6deucTmdycnJpaanZJmScnYEgASBIUaKkpESq4/P5vF5v\n",
       "QkKCcf2uXbukUnv37i0vL09MTDTbhIyXHxEkAAQpSng8nvz8fLVts9lqa2vV9rJl\n",
       "y/Ly8qRGn3zyyZ49e0y4QgrbAACCFNnS09OLiorUtsvlqqqqUtuLFi2aMmWK5GrB\n",
       "ggWzZ89uaWkJm5BBS42Ms6kSJADnqEMa93IdNEjZ2dkFBQVq2+FwVFdXG6FaunSp\n",
       "2p46daoRKjM8ZAh9MSxBAsAKKUpIjdxut2xIiiwWSyAQ8Pv9kp/CwkJZG8n19fX1\n",
       "NputpqbGJBPidEEACFJ0Bknyk5KSYrfbrVareu6uoqIiLi6uqalp/vz5TqdTPvTu\n",
       "u++aZ0Lq5UcAQJCiLUgRN6GYmENNAgCCRJA0T2jUKIIEgCARJN0TUs/XESQABIkg\n",
       "aZ6QOr6OIAEgSARJ54SM4+sIEgCCFKlBys3Nvf/++19//XW3271///4InZBxfB1B\n",
       "AkCQIjJIf/3rX2+88cZ7773X6XTabLb+/ftH6ISM18MSJAAEKSKDdPvtt3u93tTU\n",
       "VAmS/PH666//73//G3ETCn09LEECQJAiMkiDBg0qLCxUQTp48GD37t2NM6hG0ITU\n",
       "ux8RJAAEKYKD9Pbbb/fo0aN///533nln3759n3rqqUicUOj56wgSAIIUkUESW7Zs\n",
       "mTZtmsViWbp0aTAYjLgJcf46AAQpSoIU6RPi/HUACFJkB6lPnz49j+XMj/xu5wnF\n",
       "xPCPAgBBiuQg7dy5c/v27VardfDgwUVFRVu3bp04cWK/fv3C3m3P5BPKyCBIAAhS\n",
       "hAdJueWWWyRFxh979+4d9m57Jp/Q0KEECQBBioog3XnnnStWrFDbtbW1Xbt23bNn\n",
       "TwRNSGpEkAAQpGgIUlZWVufOnUeOHBkfH//DH/5wxIgRETQhdXwdQQJAkKIhSGL9\n",
       "+vUJCQnjx4/3eDxn/guk9pyQ1IjfIQEgSFESpAULFkw6ms/ni5QJqRQRJAAEKRqC\n",
       "lJaW5mg1ceLEn/zkJ4MGDfL7/RExIeP1sAQJAEGKhiCFkrXRddddV19fHxETUs/X\n",
       "ESQABCkKg9TU1HT11VeXl5dHxIRiY7+trCRIAAhStARp3Lhxg46QGt18882SJfNP\n",
       "iPPXASBI0RakxYsXL126dGWrwsLC1atXR0SQjOfrAIAgRXyQ6urqPv300wEDBixf\n",
       "vvzTVjt27OjatWtEnMvOeL4OAAhSxAfplVdekfxceOGFXbp06XrE4MGDQ9+BQrZz\n",
       "cnLsdrvL5SorKwv967NmzXK1Sk9Pb/8J8XsjAAQpeoKkPPjgg6Wlpcf7aElJidPp\n",
       "9Pl8Xq83ISEhdHU1ffr0xlaBQKCdJ8QvkAAQpCgM0ol5PJ78/Hy1bbPZjHc337p1\n",
       "69y5c4uKiqRYzc3N7TwhWR7Fxv7/AgAEKbKDdPfdd+fl5T3zzDN9j3bgwAHjc9LT\n",
       "06U6atvlchknAi8oKEhOTpb/vvrqq3PmzGk7IcM5ChIA6O3QOd3Ldbggbdiw4euv\n",
       "vy4tLV13tNCj7LKzs6U6atvhcFRXV4fdSEtLywsvvBB2HMQ5nRAnrwPACinagnTX\n",
       "XXf1PZbQFZLUyO12y4akyGKxBAIBv98v6ySPx6NCtWfPHrk+7GxD53RCnN4bAEGK\n",
       "tiBt3LhRLYnWrFmTlZW1cOHCd955J2yFJKVJSUmx2+1Wq1U9d1dRUREXF/fVV19N\n",
       "mzYtKSlJPlRcXNyeE4qNPfSmfABAkKInSIoEpk+fPpdddlmPHj06d+6cmZlp8gnJ\n",
       "8ohD7AAQpCgM0v333x8fH6+ec1u1alWXLl3M/PYTHPANgCBFbZBuuummHTt2GH+8\n",
       "5ZZbwl4Aa6oJccYgAAQpaoP09NNPJyUlqe3i4uJevXqZ+f2QOJwBAEGK2iA9+eST\n",
       "MTEx1113Xd++fc8///yePXve0WrLli3mXCEBAEGKziB5vd5/H0tdXZ3ZJsTzdQAI\n",
       "UjQHKYImxBm+ARCkaA5SQUHBkCFD+oUIfWGsqSZk/AKJJ+4AEKQoDFL//v0nT568\n",
       "evXqgiPM+QZ9oQd8EyQABCkKgyRLos2bN5t/QqG/QCJIAAhSFAZp8eLFv/jFL9Tb\n",
       "TCjmXCGF/gKJIAEgSFEYJPludu3adcCAAQOPOHjwoAknFPoKJIIEgCBFYZD69Onz\n",
       "n//8x/wTUudUNS4AQJCiLUjPPPNMVlaWySfEK5AAEKToD9K4ceNiYmL69+8/6AgT\n",
       "PmXHK5AAEKToD9KGDRtWhpg/f35DQ4OpJsQZvgEQpA4RJEVWRWlpaQMGDJDV0pmc\n",
       "NIggASBIBOn0V0jPPvts586du3XrlpiYWF5ebrYJ8QskAAQpyoM0f/78W2+9tWvX\n",
       "rvINdTgc9957rzknpA74ZpEEgCBFbZB69Ohx8803f/jhh7K9fPny4cOHm3BCxvN1\n",
       "BAkAQYraIG3dutVqtXbr1u222277wx/+YM4guVyHLgQJAEGK5iApfr/f4/EMGzas\n",
       "U6dOv/3tb2W7paXFPBMyXgNLkAAQpCgPkqGysjIxMbFXr16mOsqOt5wAQJA6XJCU\n",
       "M18encUJ8ZYTAAhSxw2SqSZk/AKJIAEgSARJ54R4DyQABIkgHRYMBnNycux2u8vl\n",
       "KisrC/toIBBISkrasWPHOZoQbzkBgCARpMNKSkqcTqfP5/N6vQkJCWEflVZZLJbt\n",
       "27efiwmFnTGIIAEgSB06SOqdZNW2zWarra01PrRly5aFCxcuWLDgmEEynK0gAYCp\n",
       "OnTmezmCdGrS09OLiorUtsvlqqqqUtt1dXUzZsyor68/XpDO/EtzCjsArJAI0v9l\n",
       "Z2cXFBSobYfDUV1drbZlbZSZmfnBBx+8+OKLb775ZthbKJ2VCcXEsEICQJAI0hFS\n",
       "I7fbLRuSIovFEggE/H6/rJM2b968plVSUtKSJUsOHDhwdidUWHjUEQ0AQJA6epAk\n",
       "PykpKXa73Wq1qufuKioq4uLijE+QpVLbd6w48wllZBAkAASJIJlgQqNGESQABIkg\n",
       "mWBCsbEECQBBIkgmmJDUiCABIEgESfOE1CuQCBIAgkSQNE9IvQKJIAEgSARJ84Ri\n",
       "Y7+trCRIAAgSQdI9IVIEgCARJP0T4hR2AAgSQTLFhELflA8ACBJB0jYhzqkKgCAR\n",
       "JFNMiF8gASBIBEn/hAoLvx06lJ9wAASJIOmeUOgRDSyVABAkgqRtQqG/QCJIAAgS\n",
       "QdI2IfWSWIIEgCARJM0TCo0QQQJAkAiSngmFvSSWIAEgSARJz4TCXhJLkAAQJIKk\n",
       "Z0LGSb6NCwAQJIKkYUKhRzQAAEEiSHomJCmSIAEAQSJImifESb4BECSCZIoJcU5V\n",
       "AASJIJliQrGxPGUHgCARJBNMKCaG06oCIEgE6fiCwWBOTo7dbne5XGVlZcb1gUBg\n",
       "0aJFkydPTkpK2rlz55lPaNQoggSAIBGk4yspKXE6nT6fz+v1JiQkGNevXbvW7XY3\n",
       "Nzfn5eWlpqae4YTUEQ0ECQBBIkjH5fF48vPz1bbNZqutrTVCpRZGxcXFL7300hlO\n",
       "SB3RQJAAECSCdFzp6elFRUVq2+VyVVVVhX504cKFzz///KZNm9pOyHAyX0W9JJYg\n",
       "AYigDp3SXo4gnQXZ2dkFBQVq2+FwVFdXq+09e/b4/X7Z2L179wsvvNDY2HgmDxnU\n",
       "WYIIEgBWSATpuKRGbrdbNiRFFoslEAhIh2SdlJaWtmLFCrl+//798fHx9fX1pz0h\n",
       "4yWxBAkAQSJIxyX5SUlJsdvtVqtVPXdXUVERFxcnfZraatKkSatXrz6TCREkAASJ\n",
       "IJliQsY5GggSAIJEkHROiJN8AyBIBMkUE+J9jwAQJIJkiglxkm8ABIkg6Z9Q2NuW\n",
       "AwBBIkh6JsS7TgAgSATJFBPiiAYABIkgmWJCoUc0cNg3AIJEkPRMKOxtywkSAIJE\n",
       "kLQFKTb2UIeMCwAQJIKkYUKyPOKYbwAEiSDpn5AsjwgSAIJEkPRPiHM0ACBIBEn/\n",
       "hMKOaAAAgkSQCBIAEKQOPCFqBIAgESRTTCg2lp9kAASJIJlgQhzRAIAgEST9Eyos\n",
       "PPwyWJ64A0CQCJLOCRlHNBAkAASJIOmckPGuEwQJAEEiSDonZLzrBEECQJAIEkEC\n",
       "AILU4SdkHGJHkAAQJIKkbUKh52ggSAAIEkE6KcFgMCcnx263u1yusrIy4/pAIJCZ\n",
       "mSnXJyUllZeXn9KEXK5DF4IEgCARpFNQUlLidDp9Pp/X601ISDCuX7NmTWpqalNT\n",
       "08aNG6dOnXpKEzIOsSNIAAgSQTpZHo8nPz9fbdtsttraWrX93nvvlZaWykZdXV18\n",
       "fPwpTSj0pEEECQBBIkgnJT09vaioSG27XK6qqqrQjx44cGDu3LlLlixpOyHDMb47\n",
       "nDQIQOR36AR7OYJ0TmRnZxcUFKhth8NRXV1tfEhCNW3atHXr1p3SQwbjpEEAwAqJ\n",
       "IJ0CqZHb7ZYNSZHFYgkEAn6/X9ZJGzZsSE1Nra+vP9UJ8TZIAAgSQTodkp+UlBS7\n",
       "3W61WtVzdxUVFXFxcXPmzBk/fryjVXJy8slPKPSIBgAgSARJ24SMczQAAEEiSAQJ\n",
       "AAhSh59QTMxRF36fBIAgESQNE8rI4J3LARAkgmSCCblcBAkAQSJIJpjQqFEECQBB\n",
       "IkgmmJDUiCABIEgESf+EOGkQAIJEkPRPiJMGASBIBMkUE+KkQQAIEkEyxYRC35cP\n",
       "AAgSQdI2Ic5iB4AgESRTTIiTBgEgSATJFBNSh9hx2DcAgkSQdE7IOMSOIAEgSARJ\n",
       "54SMQ+wIEgCCRJB0Tsg4ooEgASBIBIkgAQBB6vATMg6xI0gACBJB0jkh4yx2BAkA\n",
       "QSJI2iYUehY7ggSAIBEkbRMKPYsdQQJAkAiStgmFnjSIIAEgSATJFEECAIJEkLRN\n",
       "iLPYASBIBMkUE+KNYgEQJIJ0poLBYE5Ojt1ud7lcZWVlYR8tLi7Ozc098YR4o1gA\n",
       "BIkgnQUlJSVOp9Pn83m93oSEBOP6ffv2paWljR07dvHixSeeEG8UC4AgEaSzwOPx\n",
       "5Ofnq22bzVZbW6u2JVGlpaVLliw5XpAMvFEsgKjskIEgtZP09PSioiK17XK5qqqq\n",
       "Qj9aXFz8nSuksEPsOOwbACskgnQ6srOzCwoK1LbD4aiurj7VIMXEHPodknEhSAAI\n",
       "EkE6HVIjt9stG5Iii8USCAT8fr+xTjrJIAEAQSJIZ0ryk5KSYrfbrVareu6uoqIi\n",
       "Li6OIAEAQYqkCWVkECQABIkgmWBCHGIHgCARJFNMiLPYASBIBMkUE+IsdgAIEkEy\n",
       "xYT4BRIAgkSQCBIAECSC1DohzmIHgCARJBMFiVN9AyBIBEnzhNQhdgQJAEEiSAQJ\n",
       "AAgSEzpyzDdBAkCQCJLmCalD7AgSAIJEkDRPSKWIIAEgSARJ84TUMd8ECQBBIkg6\n",
       "J2ScVpUgASBIBEnnhIzTqhIkAASJIOmckHFaVYIEgCARJFMECQAIEkHSOSFOqwqA\n",
       "IBEk/YYPT+WZOgAEiSDpN3RoBuf5BkCQCJJ+vXuv553LARAkgkSQAIAgEaRWXbrU\n",
       "GIfY8cskAASJIOn7/w/5BugNkql+Vrgz3BnuTPTdGYKkXzAYzMnJsdvtLperrKys\n",
       "7QqJIHFnuDPcGYJEkNpDSUmJ0+n0+XxerzchISHso717rydI3BnuDHeGIBGk9uDx\n",
       "ePLz89W2zWarra0NC9LoI665ZvtoAIheBEmz9PT0oqIite1yuaqqqkI/qk71bVwA\n",
       "AATpXMnOzi4oKFDbDoejurqaqQMAQdJAauR2u2VDUmSxWAKBAFMHAIKkgd/vT0lJ\n",
       "sdvtVqvVeO4OAECQAAAgSAAAggQAAEEKd+LTN2hRXFycm5ur/W4EAoHMzEz5ziQl\n",
       "JZWXl2u/M4sWLZo8ebLcmZ07d5phTHKX5M7s2LFD792YNWuWq1V6err278m6deuc\n",
       "TmdycnJpaanee7Jq1SpXiLAXHbazlpaWrKws+emVb87HH3+s9zvT2Ngo/5Tk37WM\n",
       "adeuXQTJXE58+oZ2tm/fvrS0tLFjxy5evFj7d2bNmjWpqalNTU0bN26cOnWq3juz\n",
       "du1at9vd3Nycl5cn98oMPznyOMZisWzfvl3jfairq5s+fXpjK+1HjcreTXZze/fu\n",
       "lYcviYmJeu+M/Ive10oe3s2cOVOSoPHObNmyRcYkA1q/fv20adP0fmdWrFjx6quv\n",
       "yjdE/k3JoxmCZC4nPn1D+/8rkoeWS5YsMUOQ3nvvPfU4V/Z68fHx2h83qIWR7F9e\n",
       "eukl7d8c2cUsXLhwwYIFeoO0devWuXPnFhUVyfdHaq33e7Js2TJ5uCA1+uSTT/bs\n",
       "2WOGf90NDQ0SgJqaGr13Y9u2bRJFeWwnj3plVa33zkiN5B+RbMj9GT16tN/vJ0gm\n",
       "cuLTN2ghPy5mCJJy4MAB2eVJI81wZ6QBzz///KZNm/TeDSn0jBkz6uvrtQepoKAg\n",
       "OTlZ/it7mTlz5uj9tixatGjKlCnyCE++LbNnz9a7KFFyc3NXrlyp/W7Ij4osGSdO\n",
       "nDhmzBjjtfkaV0jyL1oiLY84JUjaa02QjmLC0zeYJ0iSanmAuW7dOu33RB5xq4dy\n",
       "u3fvfuGFFxobG/V2MTMz84MPPnjxxRfffPPNgwcPav/+yN5fvi379+/X+9hu6dKl\n",
       "anvq1KnaH9vJXCwWi8RA+3SWL18uPzDBYFD2/larVR7kabwzsjCSSM+fP1+Ws9JI\n",
       "uVcEyURMePoGkwRpw4YNqampZvj3LNLS0uSRnWzIPjc+Pl7vvdq8efOaVklJSbJ2\n",
       "1Lh/keWIejglwZafXr1PvxQWFsraSC0IbDab9ofe8nBq3rx5ZvjplTFlZWV92/oU\n",
       "4oQJE/T+XkB+et9//33Z8Hq9slQy7Z65gwbJhKdvMEmQ5syZM378eEer5ORkvXdG\n",
       "Hi5MbTVp0qTVq1eb5IdHlkp6jz/86quvZAkrXZQfYPWLAb0PveVxt9PplDvz7rvv\n",
       "miEDy5YtM8PPyd69e6dPny7/juSnVz2u0sjn882ePVv+KcmDhoqKCoJkRvKYTvvv\n",
       "hPGdvvnmGzP8ZsKE3xbzPPHS2NjIjI63k5Fmm+TOSJZM+2QdQQIAECQAAAgSAIAg\n",
       "AR2IxrNSNTY2muRkSwBBAk5WfX19TBsTJkwYPHjwmdxsSUnJGd7CSdq0adNNN90U\n",
       "dmUgEOjdu/fnn3/OfEGQgEgSbOV2u4cMGaK2a2pqvF7vmdzmPffc0z7HH0uQpD1t\n",
       "r581a9aYMWMYLggSEHleeeWVoUOHqu1///vfjz766PLlyx9++GFZ6HTu3HnkyJFT\n",
       "pkzp2rXrNddc884776hPS0lJufbaa6+++uo///nPoTdVXl4uV1ZUVAwYMODiiy/+\n",
       "wQ9+kJOTc7y/Mn36dLlN+RKPPfZYQ0ODakmvXr2uuOIKuQ979+6VuzFixAiJ5UUX\n",
       "XSR3Rq6RZMpfv+qqq+RzHnzwQRWknTt3hn45aeqll16q9/QWAEECzjRI0gDZ9Wdn\n",
       "Z8s+fePGjV9++aUKRm1trcPhuPfee+Vz8vLybrjhhs8++6yqqurmm2/2eDzGTf3r\n",
       "X/+Svz5p0qQHHnigubn5rbfe6tu37zH/iqyiJE4fffRRdXW1fE5qaqp86W7dum3e\n",
       "vFnCM2zYsKefflruRqdOndauXSuNufXWW1977bUlS5Z8//vf37Zt2549e+Q+qyC1\n",
       "/XJyO/K3mCwIEhANQbrnnnvUNTfddJM6YY/E5u6775aNP/3pT/3795/YauDAgU89\n",
       "9ZRxUzNmzJA/yo1ccskljz/+uCREnVOn7V+Ra2Rb/a39rcaMGTNhwgR1zbp16yRX\n",
       "cjfUV1S38OKLL44ePVryo65ZtWqVClLbLydf6+9//zuTBUECoiFIajGkgrR+/XrZ\n",
       "ePPNN1Uennvuud/85jfzjgg9w3RiYqKEQTZ27Njx8ssv33XXXT169JAVT9u/MmrU\n",
       "KONthD7//POKigr5nClTpqhriouLr7zyytC7oYL07LPPykJNXSNrION3SGFf7qc/\n",
       "/ekbb7zBZEGQgCgPUlZWVr9+/WRN09LS8tBDDy1atMi4qddff10WQBIPl8v1bevb\n",
       "eXTq1Omjjz5q+1f+9re/9enTR66pr6+XfvzjH/9YvHhxbGzs7t275XNkCfXAAw+0\n",
       "DZJ8zvXXXy/LoGAw+Nhjj6kgtf1ykqVt27YxWRAkIMLIksUI0ttvvz1kyBApwfDh\n",
       "w48XpObm5qeffvqKK6646qqr7rvvvtBzxn/66afdu3f/8MMPe/XqJXXp1q3biBEj\n",
       "JDBt/4rf73/kkUcuv/zynj17PvHEE82tRo8era752c9+9tlnn4Xejeeff1697dvI\n",
       "kSO7dOkinyPhVEHyer2hX+7rr7++5JJLzHMiNYAgAeeWz+c75nsjDRs2zOPxSIS+\n",
       "/PLLsE9o+1dkeaSOrzM0Njbu27fvxF9a/lbY7YR+OVlI2Ww2BgSCBHR0GzduHDhw\n",
       "oK6vLgsvWdKZ9o1BAYIEtKsdO3bo+tJNTU27du1iBCBIAAAQJAAAQQIAgCABAAgS\n",
       "AAAECQBAkAAAIEgAAIIEAABBAgAQJAAACBIAgCABAECQAAAECQAAggQA6Fj+B8Qa\n",
       "/czFx99sAAAAAElFTkSuQmCC\" style=\"clip-path:url(#clipPath1);\" height=\"420\" preserveAspectRatio=\"none\"\n",
       "    /></g\n",
       "  ></g\n",
       "></svg\n",
       ">\n"
      ]
     },
     "metadata": {},
     "output_type": "display_data"
    }
   ],
   "source": [
    "step(Gs,'-',Gz_mpz,'--')"
   ]
  },
  {
   "cell_type": "markdown",
   "metadata": {
    "slideshow": {
     "slide_type": "subslide"
    }
   },
   "source": [
    "#### Other supported equivalents?"
   ]
  },
  {
   "cell_type": "code",
   "execution_count": 13,
   "metadata": {
    "slideshow": {
     "slide_type": "fragment"
    }
   },
   "outputs": [
    {
     "name": "stdout",
     "output_type": "stream",
     "text": [
      " C2D  Converts continuous-time dynamic system to discrete time.\n",
      " \n",
      "    SYSD = C2D(SYSC,TS,METHOD) computes a discrete-time model SYSD with\n",
      "    sample time TS that approximates the continuous-time model SYSC.\n",
      "    The string METHOD selects the discretization method among the following:\n",
      "       'zoh'           Zero-order hold on the inputs\n",
      "       'foh'           Linear interpolation of inputs\n",
      "       'impulse'       Impulse-invariant discretization\n",
      "       'tustin'        Bilinear (Tustin) approximation.\n",
      "       'matched'       Matched pole-zero method (for SISO systems only).\n",
      "       'least-squares' Least-squares minimization of the error between\n",
      "                       frequency responses of the continuous and discrete\n",
      "                       systems (for SISO systems only).\n",
      "       'damped'        Damped Tustin approximation based on TRBDF2 formula\n",
      "                       (sparse models only).\n",
      "    The default is 'zoh' when METHOD is omitted. The sample time TS should\n",
      "    be specified in the time units of SYSC (see \"TimeUnit\" property).\n",
      " \n",
      "    C2D(SYSC,TS,OPTIONS) gives access to additional discretization options. \n",
      "    Use C2DOPTIONS to create and configure the option set OPTIONS. For \n",
      "    example, you can specify a prewarping frequency for the Tustin method by:\n",
      "       opt = c2dOptions('Method','tustin','PrewarpFrequency',.5);\n",
      "       sysd = c2d(sysc,.1,opt);\n",
      " \n",
      "    For state-space models,\n",
      "       [SYSD,G] = C2D(SYSC,Ts,METHOD)\n",
      "    also returns the matrix G mapping the states xc(t) of SYSC to the states \n",
      "    xd[k] of SYSD:\n",
      "       xd[k] = G * [xc(k*Ts) ; u[k]]\n",
      "    Given an initial condition x0 for SYSC and an initial input value u0=u(0), \n",
      "    the equivalent initial condition for SYSD is (assuming u(t)=0 for t<0):\n",
      "       xd[0] = G * [x0;u0] .\n",
      " \n",
      "    See also C2DOPTIONS, D2C, D2D, DYNAMICSYSTEM.\n",
      "\n",
      "    Documentation for c2d\n",
      "       doc c2d\n",
      "\n",
      "    Other functions named c2d\n",
      "\n",
      "       DynamicSystem/c2d     ltipack.tfdata/c2d    ltipack.zpkdata/c2d\n",
      "       ltipack.ssdata/c2d\n",
      "\n"
     ]
    }
   ],
   "source": [
    "help c2d"
   ]
  }
 ],
 "metadata": {
  "celltoolbar": "Slideshow",
  "kernelspec": {
   "display_name": "MATLAB",
   "language": "matlab",
   "name": "imatlab"
  },
  "language_info": {
   "codemirror_mode": "octave",
   "file_extension": ".m",
   "mimetype": "text/x-matlab",
   "name": "matlab",
   "nbconvert_exporter": "imatlab._exporter.MatlabExporter",
   "pygments_lexer": "matlab",
   "version": "9.9.0.1467703 (R2020b)"
  }
 },
 "nbformat": 4,
 "nbformat_minor": 2
}
